{
 "cells": [
  {
   "cell_type": "code",
   "execution_count": null,
   "metadata": {
    "collapsed": true
   },
   "outputs": [],
   "source": [
    "import pandas as pd\n",
    "import numpy as np\n",
    "import os\n",
    "import math\n",
    "import graphlab\n",
    "import graphlab as gl\n",
    "import graphlab.aggregate as agg"
   ]
  },
  {
   "cell_type": "code",
   "execution_count": null,
   "metadata": {
    "collapsed": true
   },
   "outputs": [],
   "source": [
    "path = '~/GBRT/'\n",
    "sf = gl.SFrame.read_csv(path + 'train.csv', verbose=False)\n",
    "# test = gl.SFrame.read_csv(path + 'test.csv', verbose=False)\n",
    "sf['Demada_log'] = sf['Demanda_uni_equil'].apply(lambda x: math.log(x+1))"
   ]
  },
  {
   "cell_type": "code",
   "execution_count": null,
   "metadata": {
    "collapsed": true
   },
   "outputs": [],
   "source": [
    "'''prior sum for week8'''\n",
    "sf = sf[sf['Semana']>4]\n",
    "sum10 = sf.groupby(key_columns=['Cliente_ID','Producto_ID'], operations={'prior_sum':agg.SUM('Demada_log')})\n",
    "sum10['Semana']=10\n",
    "sf = sf[sf['Semana']>5]\n",
    "sum11 = sf.groupby(key_columns=['Cliente_ID','Producto_ID'], operations={'prior_sum':agg.SUM('Demada_log')})\n",
    "sum11['Semana']=11\n",
    "sum1011 = sum10.append(sum11)"
   ]
  },
  {
   "cell_type": "code",
   "execution_count": null,
   "metadata": {
    "collapsed": true
   },
   "outputs": [],
   "source": [
    "test = gl.SFrame.read_csv(path + 'test_lag5_w8.csv', verbose=False)\n",
    "del test['prior_sum']\n",
    "test = test.join(sum1011,on=['Semana','Cliente_ID','Producto_ID'],how='left')\n",
    "test = test.fillna('prior_sum',0)\n",
    "test.save(path+'test_lag5_w8.csv',format='csv')"
   ]
  }
 ],
 "metadata": {
  "kernelspec": {
   "display_name": "Python 2",
   "language": "python",
   "name": "python2"
  },
  "language_info": {
   "codemirror_mode": {
    "name": "ipython",
    "version": 2
   },
   "file_extension": ".py",
   "mimetype": "text/x-python",
   "name": "python",
   "nbconvert_exporter": "python",
   "pygments_lexer": "ipython2",
   "version": "2.7.11"
  }
 },
 "nbformat": 4,
 "nbformat_minor": 0
}
