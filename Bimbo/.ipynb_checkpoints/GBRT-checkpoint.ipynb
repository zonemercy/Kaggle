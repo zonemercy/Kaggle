{
 "cells": [
  {
   "cell_type": "code",
   "execution_count": 1,
   "metadata": {
    "collapsed": true
   },
   "outputs": [],
   "source": [
    "import pandas as pd\n",
    "import numpy as np\n",
    "import os\n",
    "import math\n",
    "import graphlab\n",
    "import graphlab as gl\n",
    "import graphlab.aggregate as agg\n",
    "from graphlab import SArray"
   ]
  },
  {
   "cell_type": "code",
   "execution_count": 2,
   "metadata": {
    "collapsed": true
   },
   "outputs": [],
   "source": [
    "'''钢炮'''\n",
    "path = '/home/zongyi/bimbo_data/'"
   ]
  },
  {
   "cell_type": "code",
   "execution_count": 4,
   "metadata": {
    "collapsed": false
   },
   "outputs": [],
   "source": [
    "train = gl.SFrame.read_csv(path + 'train_lag5.csv', verbose=False)"
   ]
  },
  {
   "cell_type": "code",
   "execution_count": 8,
   "metadata": {
    "collapsed": true
   },
   "outputs": [],
   "source": [
    "town = gl.SFrame.read_csv(path + 'towns.csv', verbose=False)"
   ]
  },
  {
   "cell_type": "code",
   "execution_count": 12,
   "metadata": {
    "collapsed": false
   },
   "outputs": [],
   "source": [
    "train = train.join(town, on=['Agencia_ID','Producto_ID'], how='left')"
   ]
  },
  {
   "cell_type": "code",
   "execution_count": 9,
   "metadata": {
    "collapsed": false
   },
   "outputs": [],
   "source": [
    "del train['id']\n",
    "del train['Venta_uni_hoy']\n",
    "del train['Venta_hoy']\n",
    "del train['Dev_uni_proxima']\n",
    "del train['Dev_proxima']\n",
    "del train['Demanda_uni_equil']\n",
    "del train['Town']"
   ]
  },
  {
   "cell_type": "code",
   "execution_count": null,
   "metadata": {
    "collapsed": true
   },
   "outputs": [],
   "source": [
    "rl_train = gl.SFrame.read_csv(path + 're_lag_train.csv', verbose=False)\n",
    "pd = gl.SFrame.read_csv(path + 'products.csv', verbose=False)\n",
    "clt = gl.SFrame.read_csv(path + 'clients.csv', verbose=False)"
   ]
  },
  {
   "cell_type": "code",
   "execution_count": 68,
   "metadata": {
    "collapsed": false
   },
   "outputs": [],
   "source": [
    "cluster = gl.SFrame.read_csv(path + 'prod_cluster.csv', verbose=False)"
   ]
  },
  {
   "cell_type": "code",
   "execution_count": 70,
   "metadata": {
    "collapsed": false
   },
   "outputs": [],
   "source": [
    "cluster = cluster[['Producto_ID','cluster']]\n",
    "train = train.join(cluster, on=['Producto_ID'], how='left')"
   ]
  },
  {
   "cell_type": "code",
   "execution_count": 66,
   "metadata": {
    "collapsed": true
   },
   "outputs": [],
   "source": [
    "train = train.join(rl_train, on=['Cliente_ID','Producto_ID','Semana'], how='left')\n",
    "train = train.join(pd, on=['Producto_ID'], how='left')\n",
    "train = train.join(clt, on=['Cliente_ID'], how='left')"
   ]
  },
  {
   "cell_type": "code",
   "execution_count": 71,
   "metadata": {
    "collapsed": true
   },
   "outputs": [],
   "source": [
    "train = train.fillna('re_lag1',0)\n",
    "train = train.fillna('re_lag2',0)\n",
    "train = train.fillna('re_lag3',0)\n",
    "train = train.fillna('re_lag4',0)\n",
    "train = train.fillna('re_lag5',0)\n",
    "train = train.fillna('prom',0)\n",
    "train = train.fillna('weight',0)\n",
    "train = train.fillna('pieces',1)\n",
    "train = train.fillna('w_per_piece',0)\n",
    "train = train.fillna('healthy',0)\n",
    "train = train.fillna('drink',0)\n",
    "del train['brand']\n",
    "del train['NombreProducto']\n",
    "del rl_train\n",
    "del pd\n",
    "del clt"
   ]
  },
  {
   "cell_type": "code",
   "execution_count": 73,
   "metadata": {
    "collapsed": false
   },
   "outputs": [
    {
     "data": {
      "text/html": [
       "<div style=\"max-height:1000px;max-width:1500px;overflow:auto;\"><table frame=\"box\" rules=\"cols\">\n",
       "    <tr>\n",
       "        <th style=\"padding-left: 1em; padding-right: 1em; text-align: center\">Semana</th>\n",
       "        <th style=\"padding-left: 1em; padding-right: 1em; text-align: center\">Agencia_ID</th>\n",
       "        <th style=\"padding-left: 1em; padding-right: 1em; text-align: center\">Canal_ID</th>\n",
       "        <th style=\"padding-left: 1em; padding-right: 1em; text-align: center\">Ruta_SAK</th>\n",
       "        <th style=\"padding-left: 1em; padding-right: 1em; text-align: center\">Cliente_ID</th>\n",
       "        <th style=\"padding-left: 1em; padding-right: 1em; text-align: center\">Producto_ID</th>\n",
       "        <th style=\"padding-left: 1em; padding-right: 1em; text-align: center\">Demada_log</th>\n",
       "        <th style=\"padding-left: 1em; padding-right: 1em; text-align: center\">lag1</th>\n",
       "        <th style=\"padding-left: 1em; padding-right: 1em; text-align: center\">lag2</th>\n",
       "        <th style=\"padding-left: 1em; padding-right: 1em; text-align: center\">lag3</th>\n",
       "        <th style=\"padding-left: 1em; padding-right: 1em; text-align: center\">lag4</th>\n",
       "    </tr>\n",
       "    <tr>\n",
       "        <td style=\"padding-left: 1em; padding-right: 1em; text-align: center; vertical-align: top\">9</td>\n",
       "        <td style=\"padding-left: 1em; padding-right: 1em; text-align: center; vertical-align: top\">1232</td>\n",
       "        <td style=\"padding-left: 1em; padding-right: 1em; text-align: center; vertical-align: top\">1</td>\n",
       "        <td style=\"padding-left: 1em; padding-right: 1em; text-align: center; vertical-align: top\">1007</td>\n",
       "        <td style=\"padding-left: 1em; padding-right: 1em; text-align: center; vertical-align: top\">2204561</td>\n",
       "        <td style=\"padding-left: 1em; padding-right: 1em; text-align: center; vertical-align: top\">1125</td>\n",
       "        <td style=\"padding-left: 1em; padding-right: 1em; text-align: center; vertical-align: top\">1.09861</td>\n",
       "        <td style=\"padding-left: 1em; padding-right: 1em; text-align: center; vertical-align: top\">0.0</td>\n",
       "        <td style=\"padding-left: 1em; padding-right: 1em; text-align: center; vertical-align: top\">0.0</td>\n",
       "        <td style=\"padding-left: 1em; padding-right: 1em; text-align: center; vertical-align: top\">0.0</td>\n",
       "        <td style=\"padding-left: 1em; padding-right: 1em; text-align: center; vertical-align: top\">0.0</td>\n",
       "    </tr>\n",
       "    <tr>\n",
       "        <td style=\"padding-left: 1em; padding-right: 1em; text-align: center; vertical-align: top\">9</td>\n",
       "        <td style=\"padding-left: 1em; padding-right: 1em; text-align: center; vertical-align: top\">1334</td>\n",
       "        <td style=\"padding-left: 1em; padding-right: 1em; text-align: center; vertical-align: top\">1</td>\n",
       "        <td style=\"padding-left: 1em; padding-right: 1em; text-align: center; vertical-align: top\">2004</td>\n",
       "        <td style=\"padding-left: 1em; padding-right: 1em; text-align: center; vertical-align: top\">4482236</td>\n",
       "        <td style=\"padding-left: 1em; padding-right: 1em; text-align: center; vertical-align: top\">31779</td>\n",
       "        <td style=\"padding-left: 1em; padding-right: 1em; text-align: center; vertical-align: top\">1.09861</td>\n",
       "        <td style=\"padding-left: 1em; padding-right: 1em; text-align: center; vertical-align: top\">0.0</td>\n",
       "        <td style=\"padding-left: 1em; padding-right: 1em; text-align: center; vertical-align: top\">0.0</td>\n",
       "        <td style=\"padding-left: 1em; padding-right: 1em; text-align: center; vertical-align: top\">0.0</td>\n",
       "        <td style=\"padding-left: 1em; padding-right: 1em; text-align: center; vertical-align: top\">0.0</td>\n",
       "    </tr>\n",
       "    <tr>\n",
       "        <td style=\"padding-left: 1em; padding-right: 1em; text-align: center; vertical-align: top\">9</td>\n",
       "        <td style=\"padding-left: 1em; padding-right: 1em; text-align: center; vertical-align: top\">2263</td>\n",
       "        <td style=\"padding-left: 1em; padding-right: 1em; text-align: center; vertical-align: top\">1</td>\n",
       "        <td style=\"padding-left: 1em; padding-right: 1em; text-align: center; vertical-align: top\">2805</td>\n",
       "        <td style=\"padding-left: 1em; padding-right: 1em; text-align: center; vertical-align: top\">736159</td>\n",
       "        <td style=\"padding-left: 1em; padding-right: 1em; text-align: center; vertical-align: top\">5621</td>\n",
       "        <td style=\"padding-left: 1em; padding-right: 1em; text-align: center; vertical-align: top\">0.693147</td>\n",
       "        <td style=\"padding-left: 1em; padding-right: 1em; text-align: center; vertical-align: top\">0.0</td>\n",
       "        <td style=\"padding-left: 1em; padding-right: 1em; text-align: center; vertical-align: top\">0.0</td>\n",
       "        <td style=\"padding-left: 1em; padding-right: 1em; text-align: center; vertical-align: top\">0.0</td>\n",
       "        <td style=\"padding-left: 1em; padding-right: 1em; text-align: center; vertical-align: top\">0.0</td>\n",
       "    </tr>\n",
       "    <tr>\n",
       "        <td style=\"padding-left: 1em; padding-right: 1em; text-align: center; vertical-align: top\">9</td>\n",
       "        <td style=\"padding-left: 1em; padding-right: 1em; text-align: center; vertical-align: top\">3221</td>\n",
       "        <td style=\"padding-left: 1em; padding-right: 1em; text-align: center; vertical-align: top\">1</td>\n",
       "        <td style=\"padding-left: 1em; padding-right: 1em; text-align: center; vertical-align: top\">1620</td>\n",
       "        <td style=\"padding-left: 1em; padding-right: 1em; text-align: center; vertical-align: top\">1748240</td>\n",
       "        <td style=\"padding-left: 1em; padding-right: 1em; text-align: center; vertical-align: top\">160</td>\n",
       "        <td style=\"padding-left: 1em; padding-right: 1em; text-align: center; vertical-align: top\">1.09861</td>\n",
       "        <td style=\"padding-left: 1em; padding-right: 1em; text-align: center; vertical-align: top\">0.0</td>\n",
       "        <td style=\"padding-left: 1em; padding-right: 1em; text-align: center; vertical-align: top\">0.0</td>\n",
       "        <td style=\"padding-left: 1em; padding-right: 1em; text-align: center; vertical-align: top\">0.0</td>\n",
       "        <td style=\"padding-left: 1em; padding-right: 1em; text-align: center; vertical-align: top\">0.0</td>\n",
       "    </tr>\n",
       "    <tr>\n",
       "        <td style=\"padding-left: 1em; padding-right: 1em; text-align: center; vertical-align: top\">9</td>\n",
       "        <td style=\"padding-left: 1em; padding-right: 1em; text-align: center; vertical-align: top\">2023</td>\n",
       "        <td style=\"padding-left: 1em; padding-right: 1em; text-align: center; vertical-align: top\">1</td>\n",
       "        <td style=\"padding-left: 1em; padding-right: 1em; text-align: center; vertical-align: top\">1208</td>\n",
       "        <td style=\"padding-left: 1em; padding-right: 1em; text-align: center; vertical-align: top\">2328381</td>\n",
       "        <td style=\"padding-left: 1em; padding-right: 1em; text-align: center; vertical-align: top\">1242</td>\n",
       "        <td style=\"padding-left: 1em; padding-right: 1em; text-align: center; vertical-align: top\">0.693147</td>\n",
       "        <td style=\"padding-left: 1em; padding-right: 1em; text-align: center; vertical-align: top\">0.0</td>\n",
       "        <td style=\"padding-left: 1em; padding-right: 1em; text-align: center; vertical-align: top\">0.0</td>\n",
       "        <td style=\"padding-left: 1em; padding-right: 1em; text-align: center; vertical-align: top\">0.0</td>\n",
       "        <td style=\"padding-left: 1em; padding-right: 1em; text-align: center; vertical-align: top\">0.0</td>\n",
       "    </tr>\n",
       "    <tr>\n",
       "        <td style=\"padding-left: 1em; padding-right: 1em; text-align: center; vertical-align: top\">9</td>\n",
       "        <td style=\"padding-left: 1em; padding-right: 1em; text-align: center; vertical-align: top\">1235</td>\n",
       "        <td style=\"padding-left: 1em; padding-right: 1em; text-align: center; vertical-align: top\">1</td>\n",
       "        <td style=\"padding-left: 1em; padding-right: 1em; text-align: center; vertical-align: top\">1110</td>\n",
       "        <td style=\"padding-left: 1em; padding-right: 1em; text-align: center; vertical-align: top\">267468</td>\n",
       "        <td style=\"padding-left: 1em; padding-right: 1em; text-align: center; vertical-align: top\">1220</td>\n",
       "        <td style=\"padding-left: 1em; padding-right: 1em; text-align: center; vertical-align: top\">1.09861</td>\n",
       "        <td style=\"padding-left: 1em; padding-right: 1em; text-align: center; vertical-align: top\">0.0</td>\n",
       "        <td style=\"padding-left: 1em; padding-right: 1em; text-align: center; vertical-align: top\">0.0</td>\n",
       "        <td style=\"padding-left: 1em; padding-right: 1em; text-align: center; vertical-align: top\">0.0</td>\n",
       "        <td style=\"padding-left: 1em; padding-right: 1em; text-align: center; vertical-align: top\">1.60944</td>\n",
       "    </tr>\n",
       "    <tr>\n",
       "        <td style=\"padding-left: 1em; padding-right: 1em; text-align: center; vertical-align: top\">9</td>\n",
       "        <td style=\"padding-left: 1em; padding-right: 1em; text-align: center; vertical-align: top\">4051</td>\n",
       "        <td style=\"padding-left: 1em; padding-right: 1em; text-align: center; vertical-align: top\">1</td>\n",
       "        <td style=\"padding-left: 1em; padding-right: 1em; text-align: center; vertical-align: top\">1215</td>\n",
       "        <td style=\"padding-left: 1em; padding-right: 1em; text-align: center; vertical-align: top\">121243</td>\n",
       "        <td style=\"padding-left: 1em; padding-right: 1em; text-align: center; vertical-align: top\">34255</td>\n",
       "        <td style=\"padding-left: 1em; padding-right: 1em; text-align: center; vertical-align: top\">1.09861</td>\n",
       "        <td style=\"padding-left: 1em; padding-right: 1em; text-align: center; vertical-align: top\">0.0</td>\n",
       "        <td style=\"padding-left: 1em; padding-right: 1em; text-align: center; vertical-align: top\">0.0</td>\n",
       "        <td style=\"padding-left: 1em; padding-right: 1em; text-align: center; vertical-align: top\">0.0</td>\n",
       "        <td style=\"padding-left: 1em; padding-right: 1em; text-align: center; vertical-align: top\">0.0</td>\n",
       "    </tr>\n",
       "    <tr>\n",
       "        <td style=\"padding-left: 1em; padding-right: 1em; text-align: center; vertical-align: top\">9</td>\n",
       "        <td style=\"padding-left: 1em; padding-right: 1em; text-align: center; vertical-align: top\">2214</td>\n",
       "        <td style=\"padding-left: 1em; padding-right: 1em; text-align: center; vertical-align: top\">1</td>\n",
       "        <td style=\"padding-left: 1em; padding-right: 1em; text-align: center; vertical-align: top\">1215</td>\n",
       "        <td style=\"padding-left: 1em; padding-right: 1em; text-align: center; vertical-align: top\">819679</td>\n",
       "        <td style=\"padding-left: 1em; padding-right: 1em; text-align: center; vertical-align: top\">1309</td>\n",
       "        <td style=\"padding-left: 1em; padding-right: 1em; text-align: center; vertical-align: top\">0.693147</td>\n",
       "        <td style=\"padding-left: 1em; padding-right: 1em; text-align: center; vertical-align: top\">0.0</td>\n",
       "        <td style=\"padding-left: 1em; padding-right: 1em; text-align: center; vertical-align: top\">0.0</td>\n",
       "        <td style=\"padding-left: 1em; padding-right: 1em; text-align: center; vertical-align: top\">0.0</td>\n",
       "        <td style=\"padding-left: 1em; padding-right: 1em; text-align: center; vertical-align: top\">0.0</td>\n",
       "    </tr>\n",
       "    <tr>\n",
       "        <td style=\"padding-left: 1em; padding-right: 1em; text-align: center; vertical-align: top\">9</td>\n",
       "        <td style=\"padding-left: 1em; padding-right: 1em; text-align: center; vertical-align: top\">1423</td>\n",
       "        <td style=\"padding-left: 1em; padding-right: 1em; text-align: center; vertical-align: top\">1</td>\n",
       "        <td style=\"padding-left: 1em; padding-right: 1em; text-align: center; vertical-align: top\">1205</td>\n",
       "        <td style=\"padding-left: 1em; padding-right: 1em; text-align: center; vertical-align: top\">8010586</td>\n",
       "        <td style=\"padding-left: 1em; padding-right: 1em; text-align: center; vertical-align: top\">34914</td>\n",
       "        <td style=\"padding-left: 1em; padding-right: 1em; text-align: center; vertical-align: top\">0.693147</td>\n",
       "        <td style=\"padding-left: 1em; padding-right: 1em; text-align: center; vertical-align: top\">0.0</td>\n",
       "        <td style=\"padding-left: 1em; padding-right: 1em; text-align: center; vertical-align: top\">0.0</td>\n",
       "        <td style=\"padding-left: 1em; padding-right: 1em; text-align: center; vertical-align: top\">0.693147</td>\n",
       "        <td style=\"padding-left: 1em; padding-right: 1em; text-align: center; vertical-align: top\">0.0</td>\n",
       "    </tr>\n",
       "    <tr>\n",
       "        <td style=\"padding-left: 1em; padding-right: 1em; text-align: center; vertical-align: top\">9</td>\n",
       "        <td style=\"padding-left: 1em; padding-right: 1em; text-align: center; vertical-align: top\">1351</td>\n",
       "        <td style=\"padding-left: 1em; padding-right: 1em; text-align: center; vertical-align: top\">1</td>\n",
       "        <td style=\"padding-left: 1em; padding-right: 1em; text-align: center; vertical-align: top\">1264</td>\n",
       "        <td style=\"padding-left: 1em; padding-right: 1em; text-align: center; vertical-align: top\">2359814</td>\n",
       "        <td style=\"padding-left: 1em; padding-right: 1em; text-align: center; vertical-align: top\">1232</td>\n",
       "        <td style=\"padding-left: 1em; padding-right: 1em; text-align: center; vertical-align: top\">1.09861</td>\n",
       "        <td style=\"padding-left: 1em; padding-right: 1em; text-align: center; vertical-align: top\">0.0</td>\n",
       "        <td style=\"padding-left: 1em; padding-right: 1em; text-align: center; vertical-align: top\">0.0</td>\n",
       "        <td style=\"padding-left: 1em; padding-right: 1em; text-align: center; vertical-align: top\">0.0</td>\n",
       "        <td style=\"padding-left: 1em; padding-right: 1em; text-align: center; vertical-align: top\">0.0</td>\n",
       "    </tr>\n",
       "</table>\n",
       "<table frame=\"box\" rules=\"cols\">\n",
       "    <tr>\n",
       "        <th style=\"padding-left: 1em; padding-right: 1em; text-align: center\">lag5</th>\n",
       "        <th style=\"padding-left: 1em; padding-right: 1em; text-align: center\">week_times</th>\n",
       "        <th style=\"padding-left: 1em; padding-right: 1em; text-align: center\">lag_sum</th>\n",
       "        <th style=\"padding-left: 1em; padding-right: 1em; text-align: center\">prior_sum</th>\n",
       "        <th style=\"padding-left: 1em; padding-right: 1em; text-align: center\">n_a</th>\n",
       "        <th style=\"padding-left: 1em; padding-right: 1em; text-align: center\">n_r</th>\n",
       "        <th style=\"padding-left: 1em; padding-right: 1em; text-align: center\">n_c</th>\n",
       "        <th style=\"padding-left: 1em; padding-right: 1em; text-align: center\">n_p</th>\n",
       "        <th style=\"padding-left: 1em; padding-right: 1em; text-align: center\">t_c</th>\n",
       "        <th style=\"padding-left: 1em; padding-right: 1em; text-align: center\">tcc</th>\n",
       "        <th style=\"padding-left: 1em; padding-right: 1em; text-align: center\">tp_sum</th>\n",
       "        <th style=\"padding-left: 1em; padding-right: 1em; text-align: center\">re_lag1</th>\n",
       "    </tr>\n",
       "    <tr>\n",
       "        <td style=\"padding-left: 1em; padding-right: 1em; text-align: center; vertical-align: top\">1.60944</td>\n",
       "        <td style=\"padding-left: 1em; padding-right: 1em; text-align: center; vertical-align: top\">1</td>\n",
       "        <td style=\"padding-left: 1em; padding-right: 1em; text-align: center; vertical-align: top\">1.60944</td>\n",
       "        <td style=\"padding-left: 1em; padding-right: 1em; text-align: center; vertical-align: top\">3.55535</td>\n",
       "        <td style=\"padding-left: 1em; padding-right: 1em; text-align: center; vertical-align: top\">68410.3</td>\n",
       "        <td style=\"padding-left: 1em; padding-right: 1em; text-align: center; vertical-align: top\">29312.3</td>\n",
       "        <td style=\"padding-left: 1em; padding-right: 1em; text-align: center; vertical-align: top\">34.4286</td>\n",
       "        <td style=\"padding-left: 1em; padding-right: 1em; text-align: center; vertical-align: top\">150267.0</td>\n",
       "        <td style=\"padding-left: 1em; padding-right: 1em; text-align: center; vertical-align: top\">2</td>\n",
       "        <td style=\"padding-left: 1em; padding-right: 1em; text-align: center; vertical-align: top\">4841</td>\n",
       "        <td style=\"padding-left: 1em; padding-right: 1em; text-align: center; vertical-align: top\">20252.3</td>\n",
       "        <td style=\"padding-left: 1em; padding-right: 1em; text-align: center; vertical-align: top\">0.0</td>\n",
       "    </tr>\n",
       "    <tr>\n",
       "        <td style=\"padding-left: 1em; padding-right: 1em; text-align: center; vertical-align: top\">0.693147</td>\n",
       "        <td style=\"padding-left: 1em; padding-right: 1em; text-align: center; vertical-align: top\">1</td>\n",
       "        <td style=\"padding-left: 1em; padding-right: 1em; text-align: center; vertical-align: top\">0.693147</td>\n",
       "        <td style=\"padding-left: 1em; padding-right: 1em; text-align: center; vertical-align: top\">1.38629</td>\n",
       "        <td style=\"padding-left: 1em; padding-right: 1em; text-align: center; vertical-align: top\">47270.7</td>\n",
       "        <td style=\"padding-left: 1em; padding-right: 1em; text-align: center; vertical-align: top\">20306.0</td>\n",
       "        <td style=\"padding-left: 1em; padding-right: 1em; text-align: center; vertical-align: top\">2.16667</td>\n",
       "        <td style=\"padding-left: 1em; padding-right: 1em; text-align: center; vertical-align: top\">5505.29</td>\n",
       "        <td style=\"padding-left: 1em; padding-right: 1em; text-align: center; vertical-align: top\">2</td>\n",
       "        <td style=\"padding-left: 1em; padding-right: 1em; text-align: center; vertical-align: top\">3308</td>\n",
       "        <td style=\"padding-left: 1em; padding-right: 1em; text-align: center; vertical-align: top\">380.017</td>\n",
       "        <td style=\"padding-left: 1em; padding-right: 1em; text-align: center; vertical-align: top\">0.0</td>\n",
       "    </tr>\n",
       "    <tr>\n",
       "        <td style=\"padding-left: 1em; padding-right: 1em; text-align: center; vertical-align: top\">0.0</td>\n",
       "        <td style=\"padding-left: 1em; padding-right: 1em; text-align: center; vertical-align: top\">1</td>\n",
       "        <td style=\"padding-left: 1em; padding-right: 1em; text-align: center; vertical-align: top\">0.0</td>\n",
       "        <td style=\"padding-left: 1em; padding-right: 1em; text-align: center; vertical-align: top\">0.0</td>\n",
       "        <td style=\"padding-left: 1em; padding-right: 1em; text-align: center; vertical-align: top\">31514.0</td>\n",
       "        <td style=\"padding-left: 1em; padding-right: 1em; text-align: center; vertical-align: top\">27657.0</td>\n",
       "        <td style=\"padding-left: 1em; padding-right: 1em; text-align: center; vertical-align: top\">20.0</td>\n",
       "        <td style=\"padding-left: 1em; padding-right: 1em; text-align: center; vertical-align: top\">9581.0</td>\n",
       "        <td style=\"padding-left: 1em; padding-right: 1em; text-align: center; vertical-align: top\">3</td>\n",
       "        <td style=\"padding-left: 1em; padding-right: 1em; text-align: center; vertical-align: top\">2892</td>\n",
       "        <td style=\"padding-left: 1em; padding-right: 1em; text-align: center; vertical-align: top\">2945.71</td>\n",
       "        <td style=\"padding-left: 1em; padding-right: 1em; text-align: center; vertical-align: top\">0.0</td>\n",
       "    </tr>\n",
       "    <tr>\n",
       "        <td style=\"padding-left: 1em; padding-right: 1em; text-align: center; vertical-align: top\">0.0</td>\n",
       "        <td style=\"padding-left: 1em; padding-right: 1em; text-align: center; vertical-align: top\">1</td>\n",
       "        <td style=\"padding-left: 1em; padding-right: 1em; text-align: center; vertical-align: top\">0.0</td>\n",
       "        <td style=\"padding-left: 1em; padding-right: 1em; text-align: center; vertical-align: top\">0.0</td>\n",
       "        <td style=\"padding-left: 1em; padding-right: 1em; text-align: center; vertical-align: top\">14062.0</td>\n",
       "        <td style=\"padding-left: 1em; padding-right: 1em; text-align: center; vertical-align: top\">9858.57</td>\n",
       "        <td style=\"padding-left: 1em; padding-right: 1em; text-align: center; vertical-align: top\">17.0</td>\n",
       "        <td style=\"padding-left: 1em; padding-right: 1em; text-align: center; vertical-align: top\">179.143</td>\n",
       "        <td style=\"padding-left: 1em; padding-right: 1em; text-align: center; vertical-align: top\">8</td>\n",
       "        <td style=\"padding-left: 1em; padding-right: 1em; text-align: center; vertical-align: top\">8144</td>\n",
       "        <td style=\"padding-left: 1em; padding-right: 1em; text-align: center; vertical-align: top\">94.1081</td>\n",
       "        <td style=\"padding-left: 1em; padding-right: 1em; text-align: center; vertical-align: top\">0.0</td>\n",
       "    </tr>\n",
       "    <tr>\n",
       "        <td style=\"padding-left: 1em; padding-right: 1em; text-align: center; vertical-align: top\">0.0</td>\n",
       "        <td style=\"padding-left: 1em; padding-right: 1em; text-align: center; vertical-align: top\">1</td>\n",
       "        <td style=\"padding-left: 1em; padding-right: 1em; text-align: center; vertical-align: top\">0.0</td>\n",
       "        <td style=\"padding-left: 1em; padding-right: 1em; text-align: center; vertical-align: top\">0.0</td>\n",
       "        <td style=\"padding-left: 1em; padding-right: 1em; text-align: center; vertical-align: top\">22247.7</td>\n",
       "        <td style=\"padding-left: 1em; padding-right: 1em; text-align: center; vertical-align: top\">52832.0</td>\n",
       "        <td style=\"padding-left: 1em; padding-right: 1em; text-align: center; vertical-align: top\">13.5714</td>\n",
       "        <td style=\"padding-left: 1em; padding-right: 1em; text-align: center; vertical-align: top\">291981.0</td>\n",
       "        <td style=\"padding-left: 1em; padding-right: 1em; text-align: center; vertical-align: top\">2</td>\n",
       "        <td style=\"padding-left: 1em; padding-right: 1em; text-align: center; vertical-align: top\">1557</td>\n",
       "        <td style=\"padding-left: 1em; padding-right: 1em; text-align: center; vertical-align: top\">9145.2</td>\n",
       "        <td style=\"padding-left: 1em; padding-right: 1em; text-align: center; vertical-align: top\">0.0</td>\n",
       "    </tr>\n",
       "    <tr>\n",
       "        <td style=\"padding-left: 1em; padding-right: 1em; text-align: center; vertical-align: top\">0.0</td>\n",
       "        <td style=\"padding-left: 1em; padding-right: 1em; text-align: center; vertical-align: top\">1</td>\n",
       "        <td style=\"padding-left: 1em; padding-right: 1em; text-align: center; vertical-align: top\">1.60944</td>\n",
       "        <td style=\"padding-left: 1em; padding-right: 1em; text-align: center; vertical-align: top\">1.60944</td>\n",
       "        <td style=\"padding-left: 1em; padding-right: 1em; text-align: center; vertical-align: top\">48509.6</td>\n",
       "        <td style=\"padding-left: 1em; padding-right: 1em; text-align: center; vertical-align: top\">29371.6</td>\n",
       "        <td style=\"padding-left: 1em; padding-right: 1em; text-align: center; vertical-align: top\">32.2857</td>\n",
       "        <td style=\"padding-left: 1em; padding-right: 1em; text-align: center; vertical-align: top\">127768.0</td>\n",
       "        <td style=\"padding-left: 1em; padding-right: 1em; text-align: center; vertical-align: top\">3</td>\n",
       "        <td style=\"padding-left: 1em; padding-right: 1em; text-align: center; vertical-align: top\">7463</td>\n",
       "        <td style=\"padding-left: 1em; padding-right: 1em; text-align: center; vertical-align: top\">19052.1</td>\n",
       "        <td style=\"padding-left: 1em; padding-right: 1em; text-align: center; vertical-align: top\">0.0</td>\n",
       "    </tr>\n",
       "    <tr>\n",
       "        <td style=\"padding-left: 1em; padding-right: 1em; text-align: center; vertical-align: top\">0.0</td>\n",
       "        <td style=\"padding-left: 1em; padding-right: 1em; text-align: center; vertical-align: top\">1</td>\n",
       "        <td style=\"padding-left: 1em; padding-right: 1em; text-align: center; vertical-align: top\">0.0</td>\n",
       "        <td style=\"padding-left: 1em; padding-right: 1em; text-align: center; vertical-align: top\">0.0</td>\n",
       "        <td style=\"padding-left: 1em; padding-right: 1em; text-align: center; vertical-align: top\">62044.6</td>\n",
       "        <td style=\"padding-left: 1em; padding-right: 1em; text-align: center; vertical-align: top\">46225.3</td>\n",
       "        <td style=\"padding-left: 1em; padding-right: 1em; text-align: center; vertical-align: top\">10.2857</td>\n",
       "        <td style=\"padding-left: 1em; padding-right: 1em; text-align: center; vertical-align: top\">12360.3</td>\n",
       "        <td style=\"padding-left: 1em; padding-right: 1em; text-align: center; vertical-align: top\">4</td>\n",
       "        <td style=\"padding-left: 1em; padding-right: 1em; text-align: center; vertical-align: top\">4532</td>\n",
       "        <td style=\"padding-left: 1em; padding-right: 1em; text-align: center; vertical-align: top\">12535.6</td>\n",
       "        <td style=\"padding-left: 1em; padding-right: 1em; text-align: center; vertical-align: top\">0.0</td>\n",
       "    </tr>\n",
       "    <tr>\n",
       "        <td style=\"padding-left: 1em; padding-right: 1em; text-align: center; vertical-align: top\">0.0</td>\n",
       "        <td style=\"padding-left: 1em; padding-right: 1em; text-align: center; vertical-align: top\">1</td>\n",
       "        <td style=\"padding-left: 1em; padding-right: 1em; text-align: center; vertical-align: top\">0.0</td>\n",
       "        <td style=\"padding-left: 1em; padding-right: 1em; text-align: center; vertical-align: top\">0.0</td>\n",
       "        <td style=\"padding-left: 1em; padding-right: 1em; text-align: center; vertical-align: top\">51983.3</td>\n",
       "        <td style=\"padding-left: 1em; padding-right: 1em; text-align: center; vertical-align: top\">46225.3</td>\n",
       "        <td style=\"padding-left: 1em; padding-right: 1em; text-align: center; vertical-align: top\">9.28571</td>\n",
       "        <td style=\"padding-left: 1em; padding-right: 1em; text-align: center; vertical-align: top\">180765.0</td>\n",
       "        <td style=\"padding-left: 1em; padding-right: 1em; text-align: center; vertical-align: top\">3</td>\n",
       "        <td style=\"padding-left: 1em; padding-right: 1em; text-align: center; vertical-align: top\">3780</td>\n",
       "        <td style=\"padding-left: 1em; padding-right: 1em; text-align: center; vertical-align: top\">10661.5</td>\n",
       "        <td style=\"padding-left: 1em; padding-right: 1em; text-align: center; vertical-align: top\">0.0</td>\n",
       "    </tr>\n",
       "    <tr>\n",
       "        <td style=\"padding-left: 1em; padding-right: 1em; text-align: center; vertical-align: top\">0.0</td>\n",
       "        <td style=\"padding-left: 1em; padding-right: 1em; text-align: center; vertical-align: top\">1</td>\n",
       "        <td style=\"padding-left: 1em; padding-right: 1em; text-align: center; vertical-align: top\">0.693147</td>\n",
       "        <td style=\"padding-left: 1em; padding-right: 1em; text-align: center; vertical-align: top\">0.693147</td>\n",
       "        <td style=\"padding-left: 1em; padding-right: 1em; text-align: center; vertical-align: top\">44791.3</td>\n",
       "        <td style=\"padding-left: 1em; padding-right: 1em; text-align: center; vertical-align: top\">58513.9</td>\n",
       "        <td style=\"padding-left: 1em; padding-right: 1em; text-align: center; vertical-align: top\">7.0</td>\n",
       "        <td style=\"padding-left: 1em; padding-right: 1em; text-align: center; vertical-align: top\">1953.14</td>\n",
       "        <td style=\"padding-left: 1em; padding-right: 1em; text-align: center; vertical-align: top\">6</td>\n",
       "        <td style=\"padding-left: 1em; padding-right: 1em; text-align: center; vertical-align: top\">3848</td>\n",
       "        <td style=\"padding-left: 1em; padding-right: 1em; text-align: center; vertical-align: top\">4631.22</td>\n",
       "        <td style=\"padding-left: 1em; padding-right: 1em; text-align: center; vertical-align: top\">0.0</td>\n",
       "    </tr>\n",
       "    <tr>\n",
       "        <td style=\"padding-left: 1em; padding-right: 1em; text-align: center; vertical-align: top\">1.09861</td>\n",
       "        <td style=\"padding-left: 1em; padding-right: 1em; text-align: center; vertical-align: top\">1</td>\n",
       "        <td style=\"padding-left: 1em; padding-right: 1em; text-align: center; vertical-align: top\">1.09861</td>\n",
       "        <td style=\"padding-left: 1em; padding-right: 1em; text-align: center; vertical-align: top\">2.19722</td>\n",
       "        <td style=\"padding-left: 1em; padding-right: 1em; text-align: center; vertical-align: top\">85080.3</td>\n",
       "        <td style=\"padding-left: 1em; padding-right: 1em; text-align: center; vertical-align: top\">22624.9</td>\n",
       "        <td style=\"padding-left: 1em; padding-right: 1em; text-align: center; vertical-align: top\">28.2857</td>\n",
       "        <td style=\"padding-left: 1em; padding-right: 1em; text-align: center; vertical-align: top\">210297.0</td>\n",
       "        <td style=\"padding-left: 1em; padding-right: 1em; text-align: center; vertical-align: top\">3</td>\n",
       "        <td style=\"padding-left: 1em; padding-right: 1em; text-align: center; vertical-align: top\">5972</td>\n",
       "        <td style=\"padding-left: 1em; padding-right: 1em; text-align: center; vertical-align: top\">13767.2</td>\n",
       "        <td style=\"padding-left: 1em; padding-right: 1em; text-align: center; vertical-align: top\">0.0</td>\n",
       "    </tr>\n",
       "</table>\n",
       "<table frame=\"box\" rules=\"cols\">\n",
       "    <tr>\n",
       "        <th style=\"padding-left: 1em; padding-right: 1em; text-align: center\">re_lag2</th>\n",
       "        <th style=\"padding-left: 1em; padding-right: 1em; text-align: center\">re_lag3</th>\n",
       "        <th style=\"padding-left: 1em; padding-right: 1em; text-align: center\">re_lag4</th>\n",
       "        <th style=\"padding-left: 1em; padding-right: 1em; text-align: center\">re_lag5</th>\n",
       "        <th style=\"padding-left: 1em; padding-right: 1em; text-align: center\">prom</th>\n",
       "        <th style=\"padding-left: 1em; padding-right: 1em; text-align: center\">weight</th>\n",
       "        <th style=\"padding-left: 1em; padding-right: 1em; text-align: center\">pieces</th>\n",
       "        <th style=\"padding-left: 1em; padding-right: 1em; text-align: center\">w_per_piece</th>\n",
       "        <th style=\"padding-left: 1em; padding-right: 1em; text-align: center\">healthy</th>\n",
       "        <th style=\"padding-left: 1em; padding-right: 1em; text-align: center\">drink</th>\n",
       "        <th style=\"padding-left: 1em; padding-right: 1em; text-align: center\">OXXO</th>\n",
       "        <th style=\"padding-left: 1em; padding-right: 1em; text-align: center\">ARTELI</th>\n",
       "        <th style=\"padding-left: 1em; padding-right: 1em; text-align: center\">ALSUPER</th>\n",
       "    </tr>\n",
       "    <tr>\n",
       "        <td style=\"padding-left: 1em; padding-right: 1em; text-align: center; vertical-align: top\">0.0</td>\n",
       "        <td style=\"padding-left: 1em; padding-right: 1em; text-align: center; vertical-align: top\">0.0</td>\n",
       "        <td style=\"padding-left: 1em; padding-right: 1em; text-align: center; vertical-align: top\">0</td>\n",
       "        <td style=\"padding-left: 1em; padding-right: 1em; text-align: center; vertical-align: top\">0</td>\n",
       "        <td style=\"padding-left: 1em; padding-right: 1em; text-align: center; vertical-align: top\">0</td>\n",
       "        <td style=\"padding-left: 1em; padding-right: 1em; text-align: center; vertical-align: top\">255.0</td>\n",
       "        <td style=\"padding-left: 1em; padding-right: 1em; text-align: center; vertical-align: top\">10.0</td>\n",
       "        <td style=\"padding-left: 1em; padding-right: 1em; text-align: center; vertical-align: top\">25.5</td>\n",
       "        <td style=\"padding-left: 1em; padding-right: 1em; text-align: center; vertical-align: top\">0</td>\n",
       "        <td style=\"padding-left: 1em; padding-right: 1em; text-align: center; vertical-align: top\">0</td>\n",
       "        <td style=\"padding-left: 1em; padding-right: 1em; text-align: center; vertical-align: top\">0</td>\n",
       "        <td style=\"padding-left: 1em; padding-right: 1em; text-align: center; vertical-align: top\">0</td>\n",
       "        <td style=\"padding-left: 1em; padding-right: 1em; text-align: center; vertical-align: top\">0</td>\n",
       "    </tr>\n",
       "    <tr>\n",
       "        <td style=\"padding-left: 1em; padding-right: 1em; text-align: center; vertical-align: top\">0.0</td>\n",
       "        <td style=\"padding-left: 1em; padding-right: 1em; text-align: center; vertical-align: top\">0.0</td>\n",
       "        <td style=\"padding-left: 1em; padding-right: 1em; text-align: center; vertical-align: top\">0</td>\n",
       "        <td style=\"padding-left: 1em; padding-right: 1em; text-align: center; vertical-align: top\">0</td>\n",
       "        <td style=\"padding-left: 1em; padding-right: 1em; text-align: center; vertical-align: top\">0</td>\n",
       "        <td style=\"padding-left: 1em; padding-right: 1em; text-align: center; vertical-align: top\">158.0</td>\n",
       "        <td style=\"padding-left: 1em; padding-right: 1em; text-align: center; vertical-align: top\">1.0</td>\n",
       "        <td style=\"padding-left: 1em; padding-right: 1em; text-align: center; vertical-align: top\">158.0</td>\n",
       "        <td style=\"padding-left: 1em; padding-right: 1em; text-align: center; vertical-align: top\">0</td>\n",
       "        <td style=\"padding-left: 1em; padding-right: 1em; text-align: center; vertical-align: top\">0</td>\n",
       "        <td style=\"padding-left: 1em; padding-right: 1em; text-align: center; vertical-align: top\">0</td>\n",
       "        <td style=\"padding-left: 1em; padding-right: 1em; text-align: center; vertical-align: top\">0</td>\n",
       "        <td style=\"padding-left: 1em; padding-right: 1em; text-align: center; vertical-align: top\">0</td>\n",
       "    </tr>\n",
       "    <tr>\n",
       "        <td style=\"padding-left: 1em; padding-right: 1em; text-align: center; vertical-align: top\">0.0</td>\n",
       "        <td style=\"padding-left: 1em; padding-right: 1em; text-align: center; vertical-align: top\">0.0</td>\n",
       "        <td style=\"padding-left: 1em; padding-right: 1em; text-align: center; vertical-align: top\">0</td>\n",
       "        <td style=\"padding-left: 1em; padding-right: 1em; text-align: center; vertical-align: top\">0</td>\n",
       "        <td style=\"padding-left: 1em; padding-right: 1em; text-align: center; vertical-align: top\">0</td>\n",
       "        <td style=\"padding-left: 1em; padding-right: 1em; text-align: center; vertical-align: top\">105.0</td>\n",
       "        <td style=\"padding-left: 1em; padding-right: 1em; text-align: center; vertical-align: top\">3.0</td>\n",
       "        <td style=\"padding-left: 1em; padding-right: 1em; text-align: center; vertical-align: top\">35.0</td>\n",
       "        <td style=\"padding-left: 1em; padding-right: 1em; text-align: center; vertical-align: top\">0</td>\n",
       "        <td style=\"padding-left: 1em; padding-right: 1em; text-align: center; vertical-align: top\">0</td>\n",
       "        <td style=\"padding-left: 1em; padding-right: 1em; text-align: center; vertical-align: top\">0</td>\n",
       "        <td style=\"padding-left: 1em; padding-right: 1em; text-align: center; vertical-align: top\">0</td>\n",
       "        <td style=\"padding-left: 1em; padding-right: 1em; text-align: center; vertical-align: top\">0</td>\n",
       "    </tr>\n",
       "    <tr>\n",
       "        <td style=\"padding-left: 1em; padding-right: 1em; text-align: center; vertical-align: top\">0.0</td>\n",
       "        <td style=\"padding-left: 1em; padding-right: 1em; text-align: center; vertical-align: top\">0.0</td>\n",
       "        <td style=\"padding-left: 1em; padding-right: 1em; text-align: center; vertical-align: top\">0</td>\n",
       "        <td style=\"padding-left: 1em; padding-right: 1em; text-align: center; vertical-align: top\">0</td>\n",
       "        <td style=\"padding-left: 1em; padding-right: 1em; text-align: center; vertical-align: top\">0</td>\n",
       "        <td style=\"padding-left: 1em; padding-right: 1em; text-align: center; vertical-align: top\">180.0</td>\n",
       "        <td style=\"padding-left: 1em; padding-right: 1em; text-align: center; vertical-align: top\">1.0</td>\n",
       "        <td style=\"padding-left: 1em; padding-right: 1em; text-align: center; vertical-align: top\">180.0</td>\n",
       "        <td style=\"padding-left: 1em; padding-right: 1em; text-align: center; vertical-align: top\">0</td>\n",
       "        <td style=\"padding-left: 1em; padding-right: 1em; text-align: center; vertical-align: top\">0</td>\n",
       "        <td style=\"padding-left: 1em; padding-right: 1em; text-align: center; vertical-align: top\">0</td>\n",
       "        <td style=\"padding-left: 1em; padding-right: 1em; text-align: center; vertical-align: top\">0</td>\n",
       "        <td style=\"padding-left: 1em; padding-right: 1em; text-align: center; vertical-align: top\">0</td>\n",
       "    </tr>\n",
       "    <tr>\n",
       "        <td style=\"padding-left: 1em; padding-right: 1em; text-align: center; vertical-align: top\">0.0</td>\n",
       "        <td style=\"padding-left: 1em; padding-right: 1em; text-align: center; vertical-align: top\">0.0</td>\n",
       "        <td style=\"padding-left: 1em; padding-right: 1em; text-align: center; vertical-align: top\">0</td>\n",
       "        <td style=\"padding-left: 1em; padding-right: 1em; text-align: center; vertical-align: top\">0</td>\n",
       "        <td style=\"padding-left: 1em; padding-right: 1em; text-align: center; vertical-align: top\">0</td>\n",
       "        <td style=\"padding-left: 1em; padding-right: 1em; text-align: center; vertical-align: top\">105.0</td>\n",
       "        <td style=\"padding-left: 1em; padding-right: 1em; text-align: center; vertical-align: top\">6.0</td>\n",
       "        <td style=\"padding-left: 1em; padding-right: 1em; text-align: center; vertical-align: top\">17.5</td>\n",
       "        <td style=\"padding-left: 1em; padding-right: 1em; text-align: center; vertical-align: top\">0</td>\n",
       "        <td style=\"padding-left: 1em; padding-right: 1em; text-align: center; vertical-align: top\">0</td>\n",
       "        <td style=\"padding-left: 1em; padding-right: 1em; text-align: center; vertical-align: top\">0</td>\n",
       "        <td style=\"padding-left: 1em; padding-right: 1em; text-align: center; vertical-align: top\">0</td>\n",
       "        <td style=\"padding-left: 1em; padding-right: 1em; text-align: center; vertical-align: top\">0</td>\n",
       "    </tr>\n",
       "    <tr>\n",
       "        <td style=\"padding-left: 1em; padding-right: 1em; text-align: center; vertical-align: top\">0.0</td>\n",
       "        <td style=\"padding-left: 1em; padding-right: 1em; text-align: center; vertical-align: top\">0.0</td>\n",
       "        <td style=\"padding-left: 1em; padding-right: 1em; text-align: center; vertical-align: top\">0</td>\n",
       "        <td style=\"padding-left: 1em; padding-right: 1em; text-align: center; vertical-align: top\">0</td>\n",
       "        <td style=\"padding-left: 1em; padding-right: 1em; text-align: center; vertical-align: top\">0</td>\n",
       "        <td style=\"padding-left: 1em; padding-right: 1em; text-align: center; vertical-align: top\">130.0</td>\n",
       "        <td style=\"padding-left: 1em; padding-right: 1em; text-align: center; vertical-align: top\">6.0</td>\n",
       "        <td style=\"padding-left: 1em; padding-right: 1em; text-align: center; vertical-align: top\">21.6666666667</td>\n",
       "        <td style=\"padding-left: 1em; padding-right: 1em; text-align: center; vertical-align: top\">0</td>\n",
       "        <td style=\"padding-left: 1em; padding-right: 1em; text-align: center; vertical-align: top\">0</td>\n",
       "        <td style=\"padding-left: 1em; padding-right: 1em; text-align: center; vertical-align: top\">0</td>\n",
       "        <td style=\"padding-left: 1em; padding-right: 1em; text-align: center; vertical-align: top\">0</td>\n",
       "        <td style=\"padding-left: 1em; padding-right: 1em; text-align: center; vertical-align: top\">0</td>\n",
       "    </tr>\n",
       "    <tr>\n",
       "        <td style=\"padding-left: 1em; padding-right: 1em; text-align: center; vertical-align: top\">0.0</td>\n",
       "        <td style=\"padding-left: 1em; padding-right: 1em; text-align: center; vertical-align: top\">0.0</td>\n",
       "        <td style=\"padding-left: 1em; padding-right: 1em; text-align: center; vertical-align: top\">0</td>\n",
       "        <td style=\"padding-left: 1em; padding-right: 1em; text-align: center; vertical-align: top\">0</td>\n",
       "        <td style=\"padding-left: 1em; padding-right: 1em; text-align: center; vertical-align: top\">0</td>\n",
       "        <td style=\"padding-left: 1em; padding-right: 1em; text-align: center; vertical-align: top\">360.0</td>\n",
       "        <td style=\"padding-left: 1em; padding-right: 1em; text-align: center; vertical-align: top\">30.0</td>\n",
       "        <td style=\"padding-left: 1em; padding-right: 1em; text-align: center; vertical-align: top\">12.0</td>\n",
       "        <td style=\"padding-left: 1em; padding-right: 1em; text-align: center; vertical-align: top\">0</td>\n",
       "        <td style=\"padding-left: 1em; padding-right: 1em; text-align: center; vertical-align: top\">0</td>\n",
       "        <td style=\"padding-left: 1em; padding-right: 1em; text-align: center; vertical-align: top\">0</td>\n",
       "        <td style=\"padding-left: 1em; padding-right: 1em; text-align: center; vertical-align: top\">0</td>\n",
       "        <td style=\"padding-left: 1em; padding-right: 1em; text-align: center; vertical-align: top\">0</td>\n",
       "    </tr>\n",
       "    <tr>\n",
       "        <td style=\"padding-left: 1em; padding-right: 1em; text-align: center; vertical-align: top\">0.0</td>\n",
       "        <td style=\"padding-left: 1em; padding-right: 1em; text-align: center; vertical-align: top\">0.0</td>\n",
       "        <td style=\"padding-left: 1em; padding-right: 1em; text-align: center; vertical-align: top\">0</td>\n",
       "        <td style=\"padding-left: 1em; padding-right: 1em; text-align: center; vertical-align: top\">0</td>\n",
       "        <td style=\"padding-left: 1em; padding-right: 1em; text-align: center; vertical-align: top\">0</td>\n",
       "        <td style=\"padding-left: 1em; padding-right: 1em; text-align: center; vertical-align: top\">66.0</td>\n",
       "        <td style=\"padding-left: 1em; padding-right: 1em; text-align: center; vertical-align: top\">4.0</td>\n",
       "        <td style=\"padding-left: 1em; padding-right: 1em; text-align: center; vertical-align: top\">16.5</td>\n",
       "        <td style=\"padding-left: 1em; padding-right: 1em; text-align: center; vertical-align: top\">0</td>\n",
       "        <td style=\"padding-left: 1em; padding-right: 1em; text-align: center; vertical-align: top\">0</td>\n",
       "        <td style=\"padding-left: 1em; padding-right: 1em; text-align: center; vertical-align: top\">0</td>\n",
       "        <td style=\"padding-left: 1em; padding-right: 1em; text-align: center; vertical-align: top\">0</td>\n",
       "        <td style=\"padding-left: 1em; padding-right: 1em; text-align: center; vertical-align: top\">0</td>\n",
       "    </tr>\n",
       "    <tr>\n",
       "        <td style=\"padding-left: 1em; padding-right: 1em; text-align: center; vertical-align: top\">0.0</td>\n",
       "        <td style=\"padding-left: 1em; padding-right: 1em; text-align: center; vertical-align: top\">0.0</td>\n",
       "        <td style=\"padding-left: 1em; padding-right: 1em; text-align: center; vertical-align: top\">0</td>\n",
       "        <td style=\"padding-left: 1em; padding-right: 1em; text-align: center; vertical-align: top\">0</td>\n",
       "        <td style=\"padding-left: 1em; padding-right: 1em; text-align: center; vertical-align: top\">0</td>\n",
       "        <td style=\"padding-left: 1em; padding-right: 1em; text-align: center; vertical-align: top\">280.0</td>\n",
       "        <td style=\"padding-left: 1em; padding-right: 1em; text-align: center; vertical-align: top\">1.0</td>\n",
       "        <td style=\"padding-left: 1em; padding-right: 1em; text-align: center; vertical-align: top\">280.0</td>\n",
       "        <td style=\"padding-left: 1em; padding-right: 1em; text-align: center; vertical-align: top\">0</td>\n",
       "        <td style=\"padding-left: 1em; padding-right: 1em; text-align: center; vertical-align: top\">0</td>\n",
       "        <td style=\"padding-left: 1em; padding-right: 1em; text-align: center; vertical-align: top\">0</td>\n",
       "        <td style=\"padding-left: 1em; padding-right: 1em; text-align: center; vertical-align: top\">0</td>\n",
       "        <td style=\"padding-left: 1em; padding-right: 1em; text-align: center; vertical-align: top\">0</td>\n",
       "    </tr>\n",
       "    <tr>\n",
       "        <td style=\"padding-left: 1em; padding-right: 1em; text-align: center; vertical-align: top\">0.0</td>\n",
       "        <td style=\"padding-left: 1em; padding-right: 1em; text-align: center; vertical-align: top\">0.0</td>\n",
       "        <td style=\"padding-left: 1em; padding-right: 1em; text-align: center; vertical-align: top\">0</td>\n",
       "        <td style=\"padding-left: 1em; padding-right: 1em; text-align: center; vertical-align: top\">0</td>\n",
       "        <td style=\"padding-left: 1em; padding-right: 1em; text-align: center; vertical-align: top\">0</td>\n",
       "        <td style=\"padding-left: 1em; padding-right: 1em; text-align: center; vertical-align: top\">255.0</td>\n",
       "        <td style=\"padding-left: 1em; padding-right: 1em; text-align: center; vertical-align: top\">1.0</td>\n",
       "        <td style=\"padding-left: 1em; padding-right: 1em; text-align: center; vertical-align: top\">255.0</td>\n",
       "        <td style=\"padding-left: 1em; padding-right: 1em; text-align: center; vertical-align: top\">0</td>\n",
       "        <td style=\"padding-left: 1em; padding-right: 1em; text-align: center; vertical-align: top\">0</td>\n",
       "        <td style=\"padding-left: 1em; padding-right: 1em; text-align: center; vertical-align: top\">0</td>\n",
       "        <td style=\"padding-left: 1em; padding-right: 1em; text-align: center; vertical-align: top\">0</td>\n",
       "        <td style=\"padding-left: 1em; padding-right: 1em; text-align: center; vertical-align: top\">0</td>\n",
       "    </tr>\n",
       "</table>\n",
       "<table frame=\"box\" rules=\"cols\">\n",
       "    <tr>\n",
       "        <th style=\"padding-left: 1em; padding-right: 1em; text-align: center\">BODEGA</th>\n",
       "        <th style=\"padding-left: 1em; padding-right: 1em; text-align: center\">CALIMAX</th>\n",
       "        <th style=\"padding-left: 1em; padding-right: 1em; text-align: center\">XICANS</th>\n",
       "        <th style=\"padding-left: 1em; padding-right: 1em; text-align: center\">ABARROTES</th>\n",
       "        <th style=\"padding-left: 1em; padding-right: 1em; text-align: center\">...</th>\n",
       "    </tr>\n",
       "    <tr>\n",
       "        <td style=\"padding-left: 1em; padding-right: 1em; text-align: center; vertical-align: top\">0</td>\n",
       "        <td style=\"padding-left: 1em; padding-right: 1em; text-align: center; vertical-align: top\">0</td>\n",
       "        <td style=\"padding-left: 1em; padding-right: 1em; text-align: center; vertical-align: top\">0</td>\n",
       "        <td style=\"padding-left: 1em; padding-right: 1em; text-align: center; vertical-align: top\">0</td>\n",
       "        <td style=\"padding-left: 1em; padding-right: 1em; text-align: center; vertical-align: top\">...</td>\n",
       "    </tr>\n",
       "    <tr>\n",
       "        <td style=\"padding-left: 1em; padding-right: 1em; text-align: center; vertical-align: top\">0</td>\n",
       "        <td style=\"padding-left: 1em; padding-right: 1em; text-align: center; vertical-align: top\">0</td>\n",
       "        <td style=\"padding-left: 1em; padding-right: 1em; text-align: center; vertical-align: top\">0</td>\n",
       "        <td style=\"padding-left: 1em; padding-right: 1em; text-align: center; vertical-align: top\">0</td>\n",
       "        <td style=\"padding-left: 1em; padding-right: 1em; text-align: center; vertical-align: top\">...</td>\n",
       "    </tr>\n",
       "    <tr>\n",
       "        <td style=\"padding-left: 1em; padding-right: 1em; text-align: center; vertical-align: top\">0</td>\n",
       "        <td style=\"padding-left: 1em; padding-right: 1em; text-align: center; vertical-align: top\">0</td>\n",
       "        <td style=\"padding-left: 1em; padding-right: 1em; text-align: center; vertical-align: top\">0</td>\n",
       "        <td style=\"padding-left: 1em; padding-right: 1em; text-align: center; vertical-align: top\">0</td>\n",
       "        <td style=\"padding-left: 1em; padding-right: 1em; text-align: center; vertical-align: top\">...</td>\n",
       "    </tr>\n",
       "    <tr>\n",
       "        <td style=\"padding-left: 1em; padding-right: 1em; text-align: center; vertical-align: top\">0</td>\n",
       "        <td style=\"padding-left: 1em; padding-right: 1em; text-align: center; vertical-align: top\">0</td>\n",
       "        <td style=\"padding-left: 1em; padding-right: 1em; text-align: center; vertical-align: top\">1</td>\n",
       "        <td style=\"padding-left: 1em; padding-right: 1em; text-align: center; vertical-align: top\">1</td>\n",
       "        <td style=\"padding-left: 1em; padding-right: 1em; text-align: center; vertical-align: top\">...</td>\n",
       "    </tr>\n",
       "    <tr>\n",
       "        <td style=\"padding-left: 1em; padding-right: 1em; text-align: center; vertical-align: top\">0</td>\n",
       "        <td style=\"padding-left: 1em; padding-right: 1em; text-align: center; vertical-align: top\">0</td>\n",
       "        <td style=\"padding-left: 1em; padding-right: 1em; text-align: center; vertical-align: top\">0</td>\n",
       "        <td style=\"padding-left: 1em; padding-right: 1em; text-align: center; vertical-align: top\">0</td>\n",
       "        <td style=\"padding-left: 1em; padding-right: 1em; text-align: center; vertical-align: top\">...</td>\n",
       "    </tr>\n",
       "    <tr>\n",
       "        <td style=\"padding-left: 1em; padding-right: 1em; text-align: center; vertical-align: top\">0</td>\n",
       "        <td style=\"padding-left: 1em; padding-right: 1em; text-align: center; vertical-align: top\">0</td>\n",
       "        <td style=\"padding-left: 1em; padding-right: 1em; text-align: center; vertical-align: top\">0</td>\n",
       "        <td style=\"padding-left: 1em; padding-right: 1em; text-align: center; vertical-align: top\">0</td>\n",
       "        <td style=\"padding-left: 1em; padding-right: 1em; text-align: center; vertical-align: top\">...</td>\n",
       "    </tr>\n",
       "    <tr>\n",
       "        <td style=\"padding-left: 1em; padding-right: 1em; text-align: center; vertical-align: top\">0</td>\n",
       "        <td style=\"padding-left: 1em; padding-right: 1em; text-align: center; vertical-align: top\">0</td>\n",
       "        <td style=\"padding-left: 1em; padding-right: 1em; text-align: center; vertical-align: top\">0</td>\n",
       "        <td style=\"padding-left: 1em; padding-right: 1em; text-align: center; vertical-align: top\">0</td>\n",
       "        <td style=\"padding-left: 1em; padding-right: 1em; text-align: center; vertical-align: top\">...</td>\n",
       "    </tr>\n",
       "    <tr>\n",
       "        <td style=\"padding-left: 1em; padding-right: 1em; text-align: center; vertical-align: top\">0</td>\n",
       "        <td style=\"padding-left: 1em; padding-right: 1em; text-align: center; vertical-align: top\">0</td>\n",
       "        <td style=\"padding-left: 1em; padding-right: 1em; text-align: center; vertical-align: top\">0</td>\n",
       "        <td style=\"padding-left: 1em; padding-right: 1em; text-align: center; vertical-align: top\">0</td>\n",
       "        <td style=\"padding-left: 1em; padding-right: 1em; text-align: center; vertical-align: top\">...</td>\n",
       "    </tr>\n",
       "    <tr>\n",
       "        <td style=\"padding-left: 1em; padding-right: 1em; text-align: center; vertical-align: top\">0</td>\n",
       "        <td style=\"padding-left: 1em; padding-right: 1em; text-align: center; vertical-align: top\">0</td>\n",
       "        <td style=\"padding-left: 1em; padding-right: 1em; text-align: center; vertical-align: top\">0</td>\n",
       "        <td style=\"padding-left: 1em; padding-right: 1em; text-align: center; vertical-align: top\">0</td>\n",
       "        <td style=\"padding-left: 1em; padding-right: 1em; text-align: center; vertical-align: top\">...</td>\n",
       "    </tr>\n",
       "    <tr>\n",
       "        <td style=\"padding-left: 1em; padding-right: 1em; text-align: center; vertical-align: top\">0</td>\n",
       "        <td style=\"padding-left: 1em; padding-right: 1em; text-align: center; vertical-align: top\">0</td>\n",
       "        <td style=\"padding-left: 1em; padding-right: 1em; text-align: center; vertical-align: top\">0</td>\n",
       "        <td style=\"padding-left: 1em; padding-right: 1em; text-align: center; vertical-align: top\">0</td>\n",
       "        <td style=\"padding-left: 1em; padding-right: 1em; text-align: center; vertical-align: top\">...</td>\n",
       "    </tr>\n",
       "</table>\n",
       "[20982770 rows x 54 columns]<br/>Note: Only the head of the SFrame is printed.<br/>You can use print_rows(num_rows=m, num_columns=n) to print more rows and columns.\n",
       "</div>"
      ],
      "text/plain": [
       "Columns:\n",
       "\tSemana\tint\n",
       "\tAgencia_ID\tint\n",
       "\tCanal_ID\tint\n",
       "\tRuta_SAK\tint\n",
       "\tCliente_ID\tint\n",
       "\tProducto_ID\tint\n",
       "\tDemada_log\tfloat\n",
       "\tlag1\tfloat\n",
       "\tlag2\tfloat\n",
       "\tlag3\tfloat\n",
       "\tlag4\tfloat\n",
       "\tlag5\tfloat\n",
       "\tweek_times\tint\n",
       "\tlag_sum\tfloat\n",
       "\tprior_sum\tfloat\n",
       "\tn_a\tfloat\n",
       "\tn_r\tfloat\n",
       "\tn_c\tfloat\n",
       "\tn_p\tfloat\n",
       "\tt_c\tint\n",
       "\ttcc\tint\n",
       "\ttp_sum\tfloat\n",
       "\tre_lag1\tfloat\n",
       "\tre_lag2\tfloat\n",
       "\tre_lag3\tfloat\n",
       "\tre_lag4\tint\n",
       "\tre_lag5\tint\n",
       "\tprom\tint\n",
       "\tweight\tfloat\n",
       "\tpieces\tfloat\n",
       "\tw_per_piece\tfloat\n",
       "\thealthy\tint\n",
       "\tdrink\tint\n",
       "\tOXXO\tint\n",
       "\tARTELI\tint\n",
       "\tALSUPER\tint\n",
       "\tBODEGA\tint\n",
       "\tCALIMAX\tint\n",
       "\tXICANS\tint\n",
       "\tABARROTES\tint\n",
       "\tCARNICERIA\tint\n",
       "\tFRUTERIA\tint\n",
       "\tDISTRIBUIDORA\tint\n",
       "\tELEVEN\tint\n",
       "\tHOTEL\tint\n",
       "\tHOSPITAL\tint\n",
       "\tCAFE\tint\n",
       "\tFARMACIA\tint\n",
       "\tCREME\tint\n",
       "\tSUPER\tint\n",
       "\tCOMOD\tint\n",
       "\tMODELOR\tint\n",
       "\tUNKN\tint\n",
       "\tcluster\tint\n",
       "\n",
       "Rows: 20982770\n",
       "\n",
       "Data:\n",
       "+--------+------------+----------+----------+------------+-------------+\n",
       "| Semana | Agencia_ID | Canal_ID | Ruta_SAK | Cliente_ID | Producto_ID |\n",
       "+--------+------------+----------+----------+------------+-------------+\n",
       "|   9    |    1232    |    1     |   1007   |  2204561   |     1125    |\n",
       "|   9    |    1334    |    1     |   2004   |  4482236   |    31779    |\n",
       "|   9    |    2263    |    1     |   2805   |   736159   |     5621    |\n",
       "|   9    |    3221    |    1     |   1620   |  1748240   |     160     |\n",
       "|   9    |    2023    |    1     |   1208   |  2328381   |     1242    |\n",
       "|   9    |    1235    |    1     |   1110   |   267468   |     1220    |\n",
       "|   9    |    4051    |    1     |   1215   |   121243   |    34255    |\n",
       "|   9    |    2214    |    1     |   1215   |   819679   |     1309    |\n",
       "|   9    |    1423    |    1     |   1205   |  8010586   |    34914    |\n",
       "|   9    |    1351    |    1     |   1264   |  2359814   |     1232    |\n",
       "+--------+------------+----------+----------+------------+-------------+\n",
       "+------------+------+------+----------+---------+----------+------------+\n",
       "| Demada_log | lag1 | lag2 |   lag3   |   lag4  |   lag5   | week_times |\n",
       "+------------+------+------+----------+---------+----------+------------+\n",
       "|  1.09861   | 0.0  | 0.0  |   0.0    |   0.0   | 1.60944  |     1      |\n",
       "|  1.09861   | 0.0  | 0.0  |   0.0    |   0.0   | 0.693147 |     1      |\n",
       "|  0.693147  | 0.0  | 0.0  |   0.0    |   0.0   |   0.0    |     1      |\n",
       "|  1.09861   | 0.0  | 0.0  |   0.0    |   0.0   |   0.0    |     1      |\n",
       "|  0.693147  | 0.0  | 0.0  |   0.0    |   0.0   |   0.0    |     1      |\n",
       "|  1.09861   | 0.0  | 0.0  |   0.0    | 1.60944 |   0.0    |     1      |\n",
       "|  1.09861   | 0.0  | 0.0  |   0.0    |   0.0   |   0.0    |     1      |\n",
       "|  0.693147  | 0.0  | 0.0  |   0.0    |   0.0   |   0.0    |     1      |\n",
       "|  0.693147  | 0.0  | 0.0  | 0.693147 |   0.0   |   0.0    |     1      |\n",
       "|  1.09861   | 0.0  | 0.0  |   0.0    |   0.0   | 1.09861  |     1      |\n",
       "+------------+------+------+----------+---------+----------+------------+\n",
       "+----------+-----------+---------+---------+---------+----------+-----+-----+\n",
       "| lag_sum  | prior_sum |   n_a   |   n_r   |   n_c   |   n_p    | t_c | ... |\n",
       "+----------+-----------+---------+---------+---------+----------+-----+-----+\n",
       "| 1.60944  |  3.55535  | 68410.3 | 29312.3 | 34.4286 | 150267.0 |  2  | ... |\n",
       "| 0.693147 |  1.38629  | 47270.7 | 20306.0 | 2.16667 | 5505.29  |  2  | ... |\n",
       "|   0.0    |    0.0    | 31514.0 | 27657.0 |   20.0  |  9581.0  |  3  | ... |\n",
       "|   0.0    |    0.0    | 14062.0 | 9858.57 |   17.0  | 179.143  |  8  | ... |\n",
       "|   0.0    |    0.0    | 22247.7 | 52832.0 | 13.5714 | 291981.0 |  2  | ... |\n",
       "| 1.60944  |  1.60944  | 48509.6 | 29371.6 | 32.2857 | 127768.0 |  3  | ... |\n",
       "|   0.0    |    0.0    | 62044.6 | 46225.3 | 10.2857 | 12360.3  |  4  | ... |\n",
       "|   0.0    |    0.0    | 51983.3 | 46225.3 | 9.28571 | 180765.0 |  3  | ... |\n",
       "| 0.693147 |  0.693147 | 44791.3 | 58513.9 |   7.0   | 1953.14  |  6  | ... |\n",
       "| 1.09861  |  2.19722  | 85080.3 | 22624.9 | 28.2857 | 210297.0 |  3  | ... |\n",
       "+----------+-----------+---------+---------+---------+----------+-----+-----+\n",
       "[20982770 rows x 54 columns]\n",
       "Note: Only the head of the SFrame is printed.\n",
       "You can use print_rows(num_rows=m, num_columns=n) to print more rows and columns."
      ]
     },
     "execution_count": 73,
     "metadata": {},
     "output_type": "execute_result"
    }
   ],
   "source": [
    "train"
   ]
  },
  {
   "cell_type": "code",
   "execution_count": null,
   "metadata": {
    "collapsed": false,
    "scrolled": false
   },
   "outputs": [
    {
     "data": {
      "text/html": [
       "<pre>External memory mode: 17 batches</pre>"
      ],
      "text/plain": [
       "External memory mode: 17 batches"
      ]
     },
     "metadata": {},
     "output_type": "display_data"
    },
    {
     "data": {
      "text/html": [
       "<pre>Boosted trees regression:</pre>"
      ],
      "text/plain": [
       "Boosted trees regression:"
      ]
     },
     "metadata": {},
     "output_type": "display_data"
    },
    {
     "data": {
      "text/html": [
       "<pre>--------------------------------------------------------</pre>"
      ],
      "text/plain": [
       "--------------------------------------------------------"
      ]
     },
     "metadata": {},
     "output_type": "display_data"
    },
    {
     "data": {
      "text/html": [
       "<pre>Number of examples          : 20982770</pre>"
      ],
      "text/plain": [
       "Number of examples          : 20982770"
      ]
     },
     "metadata": {},
     "output_type": "display_data"
    },
    {
     "data": {
      "text/html": [
       "<pre>Number of features          : 53</pre>"
      ],
      "text/plain": [
       "Number of features          : 53"
      ]
     },
     "metadata": {},
     "output_type": "display_data"
    },
    {
     "data": {
      "text/html": [
       "<pre>Number of unpacked features : 53</pre>"
      ],
      "text/plain": [
       "Number of unpacked features : 53"
      ]
     },
     "metadata": {},
     "output_type": "display_data"
    },
    {
     "data": {
      "text/html": [
       "<pre>Create disk column page 1/17</pre>"
      ],
      "text/plain": [
       "Create disk column page 1/17"
      ]
     },
     "metadata": {},
     "output_type": "display_data"
    },
    {
     "data": {
      "text/html": [
       "<pre>Create disk column page 2/17</pre>"
      ],
      "text/plain": [
       "Create disk column page 2/17"
      ]
     },
     "metadata": {},
     "output_type": "display_data"
    },
    {
     "data": {
      "text/html": [
       "<pre>Create disk column page 3/17</pre>"
      ],
      "text/plain": [
       "Create disk column page 3/17"
      ]
     },
     "metadata": {},
     "output_type": "display_data"
    },
    {
     "data": {
      "text/html": [
       "<pre>Create disk column page 4/17</pre>"
      ],
      "text/plain": [
       "Create disk column page 4/17"
      ]
     },
     "metadata": {},
     "output_type": "display_data"
    },
    {
     "data": {
      "text/html": [
       "<pre>Create disk column page 5/17</pre>"
      ],
      "text/plain": [
       "Create disk column page 5/17"
      ]
     },
     "metadata": {},
     "output_type": "display_data"
    },
    {
     "data": {
      "text/html": [
       "<pre>Create disk column page 6/17</pre>"
      ],
      "text/plain": [
       "Create disk column page 6/17"
      ]
     },
     "metadata": {},
     "output_type": "display_data"
    },
    {
     "data": {
      "text/html": [
       "<pre>Create disk column page 7/17</pre>"
      ],
      "text/plain": [
       "Create disk column page 7/17"
      ]
     },
     "metadata": {},
     "output_type": "display_data"
    },
    {
     "data": {
      "text/html": [
       "<pre>Create disk column page 8/17</pre>"
      ],
      "text/plain": [
       "Create disk column page 8/17"
      ]
     },
     "metadata": {},
     "output_type": "display_data"
    },
    {
     "data": {
      "text/html": [
       "<pre>Create disk column page 9/17</pre>"
      ],
      "text/plain": [
       "Create disk column page 9/17"
      ]
     },
     "metadata": {},
     "output_type": "display_data"
    },
    {
     "data": {
      "text/html": [
       "<pre>Create disk column page 10/17</pre>"
      ],
      "text/plain": [
       "Create disk column page 10/17"
      ]
     },
     "metadata": {},
     "output_type": "display_data"
    },
    {
     "data": {
      "text/html": [
       "<pre>Create disk column page 11/17</pre>"
      ],
      "text/plain": [
       "Create disk column page 11/17"
      ]
     },
     "metadata": {},
     "output_type": "display_data"
    },
    {
     "data": {
      "text/html": [
       "<pre>Create disk column page 12/17</pre>"
      ],
      "text/plain": [
       "Create disk column page 12/17"
      ]
     },
     "metadata": {},
     "output_type": "display_data"
    },
    {
     "data": {
      "text/html": [
       "<pre>Create disk column page 13/17</pre>"
      ],
      "text/plain": [
       "Create disk column page 13/17"
      ]
     },
     "metadata": {},
     "output_type": "display_data"
    },
    {
     "data": {
      "text/html": [
       "<pre>Create disk column page 14/17</pre>"
      ],
      "text/plain": [
       "Create disk column page 14/17"
      ]
     },
     "metadata": {},
     "output_type": "display_data"
    },
    {
     "data": {
      "text/html": [
       "<pre>Create disk column page 15/17</pre>"
      ],
      "text/plain": [
       "Create disk column page 15/17"
      ]
     },
     "metadata": {},
     "output_type": "display_data"
    },
    {
     "data": {
      "text/html": [
       "<pre>Create disk column page 16/17</pre>"
      ],
      "text/plain": [
       "Create disk column page 16/17"
      ]
     },
     "metadata": {},
     "output_type": "display_data"
    },
    {
     "data": {
      "text/html": [
       "<pre>Create disk column page 17/17</pre>"
      ],
      "text/plain": [
       "Create disk column page 17/17"
      ]
     },
     "metadata": {},
     "output_type": "display_data"
    },
    {
     "data": {
      "text/html": [
       "<pre>+-----------+--------------+---------------+</pre>"
      ],
      "text/plain": [
       "+-----------+--------------+---------------+"
      ]
     },
     "metadata": {},
     "output_type": "display_data"
    },
    {
     "data": {
      "text/html": [
       "<pre>| Iteration | Elapsed Time | Training-rmse |</pre>"
      ],
      "text/plain": [
       "| Iteration | Elapsed Time | Training-rmse |"
      ]
     },
     "metadata": {},
     "output_type": "display_data"
    },
    {
     "data": {
      "text/html": [
       "<pre>+-----------+--------------+---------------+</pre>"
      ],
      "text/plain": [
       "+-----------+--------------+---------------+"
      ]
     },
     "metadata": {},
     "output_type": "display_data"
    },
    {
     "data": {
      "text/html": [
       "<pre>| 1         | 602.081921   | 1.266345      |</pre>"
      ],
      "text/plain": [
       "| 1         | 602.081921   | 1.266345      |"
      ]
     },
     "metadata": {},
     "output_type": "display_data"
    },
    {
     "data": {
      "text/html": [
       "<pre>| 2         | 1175.433200  | 1.160358      |</pre>"
      ],
      "text/plain": [
       "| 2         | 1175.433200  | 1.160358      |"
      ]
     },
     "metadata": {},
     "output_type": "display_data"
    },
    {
     "data": {
      "text/html": [
       "<pre>| 3         | 1781.272537  | 1.067928      |</pre>"
      ],
      "text/plain": [
       "| 3         | 1781.272537  | 1.067928      |"
      ]
     },
     "metadata": {},
     "output_type": "display_data"
    },
    {
     "data": {
      "text/html": [
       "<pre>| 4         | 2351.885424  | 0.984901      |</pre>"
      ],
      "text/plain": [
       "| 4         | 2351.885424  | 0.984901      |"
      ]
     },
     "metadata": {},
     "output_type": "display_data"
    },
    {
     "data": {
      "text/html": [
       "<pre>| 5         | 2947.317572  | 0.912047      |</pre>"
      ],
      "text/plain": [
       "| 5         | 2947.317572  | 0.912047      |"
      ]
     },
     "metadata": {},
     "output_type": "display_data"
    },
    {
     "data": {
      "text/html": [
       "<pre>| 6         | 3531.875185  | 0.847991      |</pre>"
      ],
      "text/plain": [
       "| 6         | 3531.875185  | 0.847991      |"
      ]
     },
     "metadata": {},
     "output_type": "display_data"
    },
    {
     "data": {
      "text/html": [
       "<pre>| 7         | 4123.851269  | 0.792307      |</pre>"
      ],
      "text/plain": [
       "| 7         | 4123.851269  | 0.792307      |"
      ]
     },
     "metadata": {},
     "output_type": "display_data"
    },
    {
     "data": {
      "text/html": [
       "<pre>| 8         | 4701.408431  | 0.744160      |</pre>"
      ],
      "text/plain": [
       "| 8         | 4701.408431  | 0.744160      |"
      ]
     },
     "metadata": {},
     "output_type": "display_data"
    },
    {
     "data": {
      "text/html": [
       "<pre>| 9         | 5289.000911  | 0.702352      |</pre>"
      ],
      "text/plain": [
       "| 9         | 5289.000911  | 0.702352      |"
      ]
     },
     "metadata": {},
     "output_type": "display_data"
    },
    {
     "data": {
      "text/html": [
       "<pre>| 10        | 5880.336303  | 0.666009      |</pre>"
      ],
      "text/plain": [
       "| 10        | 5880.336303  | 0.666009      |"
      ]
     },
     "metadata": {},
     "output_type": "display_data"
    },
    {
     "data": {
      "text/html": [
       "<pre>| 11        | 6470.943582  | 0.634375      |</pre>"
      ],
      "text/plain": [
       "| 11        | 6470.943582  | 0.634375      |"
      ]
     },
     "metadata": {},
     "output_type": "display_data"
    },
    {
     "data": {
      "text/html": [
       "<pre>| 12        | 7070.005017  | 0.607974      |</pre>"
      ],
      "text/plain": [
       "| 12        | 7070.005017  | 0.607974      |"
      ]
     },
     "metadata": {},
     "output_type": "display_data"
    },
    {
     "data": {
      "text/html": [
       "<pre>| 13        | 7645.386498  | 0.585214      |</pre>"
      ],
      "text/plain": [
       "| 13        | 7645.386498  | 0.585214      |"
      ]
     },
     "metadata": {},
     "output_type": "display_data"
    },
    {
     "data": {
      "text/html": [
       "<pre>| 14        | 8231.949556  | 0.565952      |</pre>"
      ],
      "text/plain": [
       "| 14        | 8231.949556  | 0.565952      |"
      ]
     },
     "metadata": {},
     "output_type": "display_data"
    },
    {
     "data": {
      "text/html": [
       "<pre>| 15        | 8846.238127  | 0.550032      |</pre>"
      ],
      "text/plain": [
       "| 15        | 8846.238127  | 0.550032      |"
      ]
     },
     "metadata": {},
     "output_type": "display_data"
    },
    {
     "data": {
      "text/html": [
       "<pre>| 16        | 9447.344265  | 0.536394      |</pre>"
      ],
      "text/plain": [
       "| 16        | 9447.344265  | 0.536394      |"
      ]
     },
     "metadata": {},
     "output_type": "display_data"
    },
    {
     "data": {
      "text/html": [
       "<pre>| 17        | 10079.749252 | 0.524457      |</pre>"
      ],
      "text/plain": [
       "| 17        | 10079.749252 | 0.524457      |"
      ]
     },
     "metadata": {},
     "output_type": "display_data"
    },
    {
     "data": {
      "text/html": [
       "<pre>| 18        | 10686.831090 | 0.514907      |</pre>"
      ],
      "text/plain": [
       "| 18        | 10686.831090 | 0.514907      |"
      ]
     },
     "metadata": {},
     "output_type": "display_data"
    },
    {
     "data": {
      "text/html": [
       "<pre>| 19        | 11274.567132 | 0.506526      |</pre>"
      ],
      "text/plain": [
       "| 19        | 11274.567132 | 0.506526      |"
      ]
     },
     "metadata": {},
     "output_type": "display_data"
    },
    {
     "data": {
      "text/html": [
       "<pre>| 20        | 11884.941462 | 0.499422      |</pre>"
      ],
      "text/plain": [
       "| 20        | 11884.941462 | 0.499422      |"
      ]
     },
     "metadata": {},
     "output_type": "display_data"
    },
    {
     "data": {
      "text/html": [
       "<pre>| 21        | 12468.578234 | 0.493876      |</pre>"
      ],
      "text/plain": [
       "| 21        | 12468.578234 | 0.493876      |"
      ]
     },
     "metadata": {},
     "output_type": "display_data"
    },
    {
     "data": {
      "text/html": [
       "<pre>| 22        | 13087.783623 | 0.489125      |</pre>"
      ],
      "text/plain": [
       "| 22        | 13087.783623 | 0.489125      |"
      ]
     },
     "metadata": {},
     "output_type": "display_data"
    },
    {
     "data": {
      "text/html": [
       "<pre>| 23        | 13697.648926 | 0.484530      |</pre>"
      ],
      "text/plain": [
       "| 23        | 13697.648926 | 0.484530      |"
      ]
     },
     "metadata": {},
     "output_type": "display_data"
    },
    {
     "data": {
      "text/html": [
       "<pre>| 24        | 14310.710548 | 0.480636      |</pre>"
      ],
      "text/plain": [
       "| 24        | 14310.710548 | 0.480636      |"
      ]
     },
     "metadata": {},
     "output_type": "display_data"
    },
    {
     "data": {
      "text/html": [
       "<pre>| 25        | 14934.567692 | 0.477712      |</pre>"
      ],
      "text/plain": [
       "| 25        | 14934.567692 | 0.477712      |"
      ]
     },
     "metadata": {},
     "output_type": "display_data"
    },
    {
     "data": {
      "text/html": [
       "<pre>| 26        | 15553.848294 | 0.475085      |</pre>"
      ],
      "text/plain": [
       "| 26        | 15553.848294 | 0.475085      |"
      ]
     },
     "metadata": {},
     "output_type": "display_data"
    },
    {
     "data": {
      "text/html": [
       "<pre>| 27        | 16140.388482 | 0.473122      |</pre>"
      ],
      "text/plain": [
       "| 27        | 16140.388482 | 0.473122      |"
      ]
     },
     "metadata": {},
     "output_type": "display_data"
    },
    {
     "data": {
      "text/html": [
       "<pre>| 28        | 16749.566229 | 0.471158      |</pre>"
      ],
      "text/plain": [
       "| 28        | 16749.566229 | 0.471158      |"
      ]
     },
     "metadata": {},
     "output_type": "display_data"
    },
    {
     "data": {
      "text/html": [
       "<pre>| 29        | 17344.942468 | 0.469647      |</pre>"
      ],
      "text/plain": [
       "| 29        | 17344.942468 | 0.469647      |"
      ]
     },
     "metadata": {},
     "output_type": "display_data"
    },
    {
     "data": {
      "text/html": [
       "<pre>| 30        | 17956.321740 | 0.468224      |</pre>"
      ],
      "text/plain": [
       "| 30        | 17956.321740 | 0.468224      |"
      ]
     },
     "metadata": {},
     "output_type": "display_data"
    },
    {
     "data": {
      "text/html": [
       "<pre>| 31        | 18582.508245 | 0.467053      |</pre>"
      ],
      "text/plain": [
       "| 31        | 18582.508245 | 0.467053      |"
      ]
     },
     "metadata": {},
     "output_type": "display_data"
    },
    {
     "data": {
      "text/html": [
       "<pre>| 32        | 19192.379800 | 0.465907      |</pre>"
      ],
      "text/plain": [
       "| 32        | 19192.379800 | 0.465907      |"
      ]
     },
     "metadata": {},
     "output_type": "display_data"
    },
    {
     "data": {
      "text/html": [
       "<pre>| 33        | 19790.628060 | 0.464756      |</pre>"
      ],
      "text/plain": [
       "| 33        | 19790.628060 | 0.464756      |"
      ]
     },
     "metadata": {},
     "output_type": "display_data"
    },
    {
     "data": {
      "text/html": [
       "<pre>| 34        | 20387.362442 | 0.463801      |</pre>"
      ],
      "text/plain": [
       "| 34        | 20387.362442 | 0.463801      |"
      ]
     },
     "metadata": {},
     "output_type": "display_data"
    },
    {
     "data": {
      "text/html": [
       "<pre>| 35        | 20977.960389 | 0.463078      |</pre>"
      ],
      "text/plain": [
       "| 35        | 20977.960389 | 0.463078      |"
      ]
     },
     "metadata": {},
     "output_type": "display_data"
    },
    {
     "data": {
      "text/html": [
       "<pre>| 36        | 21599.855335 | 0.462385      |</pre>"
      ],
      "text/plain": [
       "| 36        | 21599.855335 | 0.462385      |"
      ]
     },
     "metadata": {},
     "output_type": "display_data"
    },
    {
     "data": {
      "text/html": [
       "<pre>| 37        | 22198.393052 | 0.461827      |</pre>"
      ],
      "text/plain": [
       "| 37        | 22198.393052 | 0.461827      |"
      ]
     },
     "metadata": {},
     "output_type": "display_data"
    },
    {
     "data": {
      "text/html": [
       "<pre>| 38        | 22825.912133 | 0.461234      |</pre>"
      ],
      "text/plain": [
       "| 38        | 22825.912133 | 0.461234      |"
      ]
     },
     "metadata": {},
     "output_type": "display_data"
    },
    {
     "data": {
      "text/html": [
       "<pre>| 39        | 23429.038983 | 0.460773      |</pre>"
      ],
      "text/plain": [
       "| 39        | 23429.038983 | 0.460773      |"
      ]
     },
     "metadata": {},
     "output_type": "display_data"
    },
    {
     "data": {
      "text/html": [
       "<pre>| 40        | 24065.745940 | 0.460155      |</pre>"
      ],
      "text/plain": [
       "| 40        | 24065.745940 | 0.460155      |"
      ]
     },
     "metadata": {},
     "output_type": "display_data"
    },
    {
     "data": {
      "text/html": [
       "<pre>| 41        | 24687.137883 | 0.459724      |</pre>"
      ],
      "text/plain": [
       "| 41        | 24687.137883 | 0.459724      |"
      ]
     },
     "metadata": {},
     "output_type": "display_data"
    },
    {
     "data": {
      "text/html": [
       "<pre>| 42        | 25284.781488 | 0.459441      |</pre>"
      ],
      "text/plain": [
       "| 42        | 25284.781488 | 0.459441      |"
      ]
     },
     "metadata": {},
     "output_type": "display_data"
    },
    {
     "data": {
      "text/html": [
       "<pre>| 43        | 25883.957927 | 0.458928      |</pre>"
      ],
      "text/plain": [
       "| 43        | 25883.957927 | 0.458928      |"
      ]
     },
     "metadata": {},
     "output_type": "display_data"
    },
    {
     "data": {
      "text/html": [
       "<pre>| 44        | 26478.585104 | 0.458636      |</pre>"
      ],
      "text/plain": [
       "| 44        | 26478.585104 | 0.458636      |"
      ]
     },
     "metadata": {},
     "output_type": "display_data"
    },
    {
     "data": {
      "text/html": [
       "<pre>| 45        | 27101.805919 | 0.458412      |</pre>"
      ],
      "text/plain": [
       "| 45        | 27101.805919 | 0.458412      |"
      ]
     },
     "metadata": {},
     "output_type": "display_data"
    },
    {
     "data": {
      "text/html": [
       "<pre>| 46        | 27695.050958 | 0.458183      |</pre>"
      ],
      "text/plain": [
       "| 46        | 27695.050958 | 0.458183      |"
      ]
     },
     "metadata": {},
     "output_type": "display_data"
    },
    {
     "data": {
      "text/html": [
       "<pre>| 47        | 28325.048194 | 0.457782      |</pre>"
      ],
      "text/plain": [
       "| 47        | 28325.048194 | 0.457782      |"
      ]
     },
     "metadata": {},
     "output_type": "display_data"
    },
    {
     "data": {
      "text/html": [
       "<pre>| 48        | 28942.742833 | 0.457491      |</pre>"
      ],
      "text/plain": [
       "| 48        | 28942.742833 | 0.457491      |"
      ]
     },
     "metadata": {},
     "output_type": "display_data"
    },
    {
     "data": {
      "text/html": [
       "<pre>| 49        | 29555.702793 | 0.457204      |</pre>"
      ],
      "text/plain": [
       "| 49        | 29555.702793 | 0.457204      |"
      ]
     },
     "metadata": {},
     "output_type": "display_data"
    },
    {
     "data": {
      "text/html": [
       "<pre>| 50        | 30176.346106 | 0.457082      |</pre>"
      ],
      "text/plain": [
       "| 50        | 30176.346106 | 0.457082      |"
      ]
     },
     "metadata": {},
     "output_type": "display_data"
    },
    {
     "data": {
      "text/html": [
       "<pre>| 51        | 30794.452068 | 0.456749      |</pre>"
      ],
      "text/plain": [
       "| 51        | 30794.452068 | 0.456749      |"
      ]
     },
     "metadata": {},
     "output_type": "display_data"
    },
    {
     "data": {
      "text/html": [
       "<pre>| 52        | 31389.604362 | 0.456648      |</pre>"
      ],
      "text/plain": [
       "| 52        | 31389.604362 | 0.456648      |"
      ]
     },
     "metadata": {},
     "output_type": "display_data"
    },
    {
     "data": {
      "text/html": [
       "<pre>| 53        | 31995.609339 | 0.456410      |</pre>"
      ],
      "text/plain": [
       "| 53        | 31995.609339 | 0.456410      |"
      ]
     },
     "metadata": {},
     "output_type": "display_data"
    },
    {
     "data": {
      "text/html": [
       "<pre>| 54        | 32618.672110 | 0.456174      |</pre>"
      ],
      "text/plain": [
       "| 54        | 32618.672110 | 0.456174      |"
      ]
     },
     "metadata": {},
     "output_type": "display_data"
    },
    {
     "data": {
      "text/html": [
       "<pre>| 55        | 33235.459798 | 0.455939      |</pre>"
      ],
      "text/plain": [
       "| 55        | 33235.459798 | 0.455939      |"
      ]
     },
     "metadata": {},
     "output_type": "display_data"
    },
    {
     "data": {
      "text/html": [
       "<pre>| 56        | 33847.627878 | 0.455816      |</pre>"
      ],
      "text/plain": [
       "| 56        | 33847.627878 | 0.455816      |"
      ]
     },
     "metadata": {},
     "output_type": "display_data"
    },
    {
     "data": {
      "text/html": [
       "<pre>| 57        | 34454.303135 | 0.455545      |</pre>"
      ],
      "text/plain": [
       "| 57        | 34454.303135 | 0.455545      |"
      ]
     },
     "metadata": {},
     "output_type": "display_data"
    },
    {
     "data": {
      "text/html": [
       "<pre>| 58        | 35049.221535 | 0.455413      |</pre>"
      ],
      "text/plain": [
       "| 58        | 35049.221535 | 0.455413      |"
      ]
     },
     "metadata": {},
     "output_type": "display_data"
    },
    {
     "data": {
      "text/html": [
       "<pre>| 59        | 35645.277093 | 0.455223      |</pre>"
      ],
      "text/plain": [
       "| 59        | 35645.277093 | 0.455223      |"
      ]
     },
     "metadata": {},
     "output_type": "display_data"
    },
    {
     "data": {
      "text/html": [
       "<pre>| 60        | 36226.157430 | 0.455108      |</pre>"
      ],
      "text/plain": [
       "| 60        | 36226.157430 | 0.455108      |"
      ]
     },
     "metadata": {},
     "output_type": "display_data"
    },
    {
     "data": {
      "text/html": [
       "<pre>| 61        | 36854.583829 | 0.454967      |</pre>"
      ],
      "text/plain": [
       "| 61        | 36854.583829 | 0.454967      |"
      ]
     },
     "metadata": {},
     "output_type": "display_data"
    },
    {
     "data": {
      "text/html": [
       "<pre>| 62        | 37450.506451 | 0.454801      |</pre>"
      ],
      "text/plain": [
       "| 62        | 37450.506451 | 0.454801      |"
      ]
     },
     "metadata": {},
     "output_type": "display_data"
    },
    {
     "data": {
      "text/html": [
       "<pre>| 63        | 38057.659125 | 0.454601      |</pre>"
      ],
      "text/plain": [
       "| 63        | 38057.659125 | 0.454601      |"
      ]
     },
     "metadata": {},
     "output_type": "display_data"
    },
    {
     "data": {
      "text/html": [
       "<pre>| 64        | 38681.779476 | 0.454491      |</pre>"
      ],
      "text/plain": [
       "| 64        | 38681.779476 | 0.454491      |"
      ]
     },
     "metadata": {},
     "output_type": "display_data"
    },
    {
     "data": {
      "text/html": [
       "<pre>| 65        | 39293.341074 | 0.454326      |</pre>"
      ],
      "text/plain": [
       "| 65        | 39293.341074 | 0.454326      |"
      ]
     },
     "metadata": {},
     "output_type": "display_data"
    },
    {
     "data": {
      "text/html": [
       "<pre>| 66        | 39926.123288 | 0.454171      |</pre>"
      ],
      "text/plain": [
       "| 66        | 39926.123288 | 0.454171      |"
      ]
     },
     "metadata": {},
     "output_type": "display_data"
    },
    {
     "data": {
      "text/html": [
       "<pre>| 67        | 40543.841929 | 0.453984      |</pre>"
      ],
      "text/plain": [
       "| 67        | 40543.841929 | 0.453984      |"
      ]
     },
     "metadata": {},
     "output_type": "display_data"
    },
    {
     "data": {
      "text/html": [
       "<pre>| 68        | 41159.754031 | 0.453736      |</pre>"
      ],
      "text/plain": [
       "| 68        | 41159.754031 | 0.453736      |"
      ]
     },
     "metadata": {},
     "output_type": "display_data"
    },
    {
     "data": {
      "text/html": [
       "<pre>| 69        | 41749.475985 | 0.453656      |</pre>"
      ],
      "text/plain": [
       "| 69        | 41749.475985 | 0.453656      |"
      ]
     },
     "metadata": {},
     "output_type": "display_data"
    },
    {
     "data": {
      "text/html": [
       "<pre>| 70        | 42356.859003 | 0.453395      |</pre>"
      ],
      "text/plain": [
       "| 70        | 42356.859003 | 0.453395      |"
      ]
     },
     "metadata": {},
     "output_type": "display_data"
    },
    {
     "data": {
      "text/html": [
       "<pre>| 71        | 42952.143154 | 0.453213      |</pre>"
      ],
      "text/plain": [
       "| 71        | 42952.143154 | 0.453213      |"
      ]
     },
     "metadata": {},
     "output_type": "display_data"
    },
    {
     "data": {
      "text/html": [
       "<pre>| 72        | 43541.779964 | 0.453096      |</pre>"
      ],
      "text/plain": [
       "| 72        | 43541.779964 | 0.453096      |"
      ]
     },
     "metadata": {},
     "output_type": "display_data"
    },
    {
     "data": {
      "text/html": [
       "<pre>| 73        | 44162.177546 | 0.452964      |</pre>"
      ],
      "text/plain": [
       "| 73        | 44162.177546 | 0.452964      |"
      ]
     },
     "metadata": {},
     "output_type": "display_data"
    },
    {
     "data": {
      "text/html": [
       "<pre>| 74        | 44790.121021 | 0.452780      |</pre>"
      ],
      "text/plain": [
       "| 74        | 44790.121021 | 0.452780      |"
      ]
     },
     "metadata": {},
     "output_type": "display_data"
    },
    {
     "data": {
      "text/html": [
       "<pre>| 75        | 45413.964257 | 0.452662      |</pre>"
      ],
      "text/plain": [
       "| 75        | 45413.964257 | 0.452662      |"
      ]
     },
     "metadata": {},
     "output_type": "display_data"
    },
    {
     "data": {
      "text/html": [
       "<pre>| 76        | 46019.665472 | 0.452550      |</pre>"
      ],
      "text/plain": [
       "| 76        | 46019.665472 | 0.452550      |"
      ]
     },
     "metadata": {},
     "output_type": "display_data"
    },
    {
     "data": {
      "text/html": [
       "<pre>| 77        | 46626.904009 | 0.452397      |</pre>"
      ],
      "text/plain": [
       "| 77        | 46626.904009 | 0.452397      |"
      ]
     },
     "metadata": {},
     "output_type": "display_data"
    },
    {
     "data": {
      "text/html": [
       "<pre>| 78        | 47234.102840 | 0.452306      |</pre>"
      ],
      "text/plain": [
       "| 78        | 47234.102840 | 0.452306      |"
      ]
     },
     "metadata": {},
     "output_type": "display_data"
    },
    {
     "data": {
      "text/html": [
       "<pre>| 79        | 47854.086393 | 0.452188      |</pre>"
      ],
      "text/plain": [
       "| 79        | 47854.086393 | 0.452188      |"
      ]
     },
     "metadata": {},
     "output_type": "display_data"
    },
    {
     "data": {
      "text/html": [
       "<pre>| 80        | 48470.251981 | 0.452068      |</pre>"
      ],
      "text/plain": [
       "| 80        | 48470.251981 | 0.452068      |"
      ]
     },
     "metadata": {},
     "output_type": "display_data"
    },
    {
     "data": {
      "text/html": [
       "<pre>| 81        | 49080.315144 | 0.451972      |</pre>"
      ],
      "text/plain": [
       "| 81        | 49080.315144 | 0.451972      |"
      ]
     },
     "metadata": {},
     "output_type": "display_data"
    },
    {
     "data": {
      "text/html": [
       "<pre>| 82        | 49680.958416 | 0.451778      |</pre>"
      ],
      "text/plain": [
       "| 82        | 49680.958416 | 0.451778      |"
      ]
     },
     "metadata": {},
     "output_type": "display_data"
    },
    {
     "data": {
      "text/html": [
       "<pre>| 83        | 50302.588890 | 0.451659      |</pre>"
      ],
      "text/plain": [
       "| 83        | 50302.588890 | 0.451659      |"
      ]
     },
     "metadata": {},
     "output_type": "display_data"
    },
    {
     "data": {
      "text/html": [
       "<pre>| 84        | 50897.670130 | 0.451603      |</pre>"
      ],
      "text/plain": [
       "| 84        | 50897.670130 | 0.451603      |"
      ]
     },
     "metadata": {},
     "output_type": "display_data"
    },
    {
     "data": {
      "text/html": [
       "<pre>| 85        | 51508.161311 | 0.451425      |</pre>"
      ],
      "text/plain": [
       "| 85        | 51508.161311 | 0.451425      |"
      ]
     },
     "metadata": {},
     "output_type": "display_data"
    },
    {
     "data": {
      "text/html": [
       "<pre>| 86        | 52119.838721 | 0.451267      |</pre>"
      ],
      "text/plain": [
       "| 86        | 52119.838721 | 0.451267      |"
      ]
     },
     "metadata": {},
     "output_type": "display_data"
    },
    {
     "data": {
      "text/html": [
       "<pre>| 87        | 52736.131833 | 0.451189      |</pre>"
      ],
      "text/plain": [
       "| 87        | 52736.131833 | 0.451189      |"
      ]
     },
     "metadata": {},
     "output_type": "display_data"
    },
    {
     "data": {
      "text/html": [
       "<pre>| 88        | 53347.135939 | 0.450994      |</pre>"
      ],
      "text/plain": [
       "| 88        | 53347.135939 | 0.450994      |"
      ]
     },
     "metadata": {},
     "output_type": "display_data"
    },
    {
     "data": {
      "text/html": [
       "<pre>| 89        | 53960.255755 | 0.450911      |</pre>"
      ],
      "text/plain": [
       "| 89        | 53960.255755 | 0.450911      |"
      ]
     },
     "metadata": {},
     "output_type": "display_data"
    },
    {
     "data": {
      "text/html": [
       "<pre>| 90        | 54575.373317 | 0.450816      |</pre>"
      ],
      "text/plain": [
       "| 90        | 54575.373317 | 0.450816      |"
      ]
     },
     "metadata": {},
     "output_type": "display_data"
    },
    {
     "data": {
      "text/html": [
       "<pre>| 91        | 55199.571454 | 0.450751      |</pre>"
      ],
      "text/plain": [
       "| 91        | 55199.571454 | 0.450751      |"
      ]
     },
     "metadata": {},
     "output_type": "display_data"
    },
    {
     "data": {
      "text/html": [
       "<pre>| 92        | 55809.768469 | 0.450693      |</pre>"
      ],
      "text/plain": [
       "| 92        | 55809.768469 | 0.450693      |"
      ]
     },
     "metadata": {},
     "output_type": "display_data"
    },
    {
     "data": {
      "text/html": [
       "<pre>| 93        | 56419.315046 | 0.450540      |</pre>"
      ],
      "text/plain": [
       "| 93        | 56419.315046 | 0.450540      |"
      ]
     },
     "metadata": {},
     "output_type": "display_data"
    },
    {
     "data": {
      "text/html": [
       "<pre>| 94        | 57016.334776 | 0.450403      |</pre>"
      ],
      "text/plain": [
       "| 94        | 57016.334776 | 0.450403      |"
      ]
     },
     "metadata": {},
     "output_type": "display_data"
    },
    {
     "data": {
      "text/html": [
       "<pre>| 95        | 57640.192859 | 0.450247      |</pre>"
      ],
      "text/plain": [
       "| 95        | 57640.192859 | 0.450247      |"
      ]
     },
     "metadata": {},
     "output_type": "display_data"
    },
    {
     "data": {
      "text/html": [
       "<pre>| 96        | 58256.519844 | 0.450044      |</pre>"
      ],
      "text/plain": [
       "| 96        | 58256.519844 | 0.450044      |"
      ]
     },
     "metadata": {},
     "output_type": "display_data"
    },
    {
     "data": {
      "text/html": [
       "<pre>| 97        | 58845.781191 | 0.450018      |</pre>"
      ],
      "text/plain": [
       "| 97        | 58845.781191 | 0.450018      |"
      ]
     },
     "metadata": {},
     "output_type": "display_data"
    },
    {
     "data": {
      "text/html": [
       "<pre>| 98        | 59477.200522 | 0.449888      |</pre>"
      ],
      "text/plain": [
       "| 98        | 59477.200522 | 0.449888      |"
      ]
     },
     "metadata": {},
     "output_type": "display_data"
    },
    {
     "data": {
      "text/html": [
       "<pre>| 99        | 60083.582079 | 0.449763      |</pre>"
      ],
      "text/plain": [
       "| 99        | 60083.582079 | 0.449763      |"
      ]
     },
     "metadata": {},
     "output_type": "display_data"
    },
    {
     "data": {
      "text/html": [
       "<pre>| 100       | 60697.985264 | 0.449645      |</pre>"
      ],
      "text/plain": [
       "| 100       | 60697.985264 | 0.449645      |"
      ]
     },
     "metadata": {},
     "output_type": "display_data"
    },
    {
     "data": {
      "text/html": [
       "<pre>Checkpointing to /home/zongyi/bimbo_data/model_checkpoint_100</pre>"
      ],
      "text/plain": [
       "Checkpointing to /home/zongyi/bimbo_data/model_checkpoint_100"
      ]
     },
     "metadata": {},
     "output_type": "display_data"
    },
    {
     "data": {
      "text/html": [
       "<pre>| 101       | 61336.333509 | 0.449556      |</pre>"
      ],
      "text/plain": [
       "| 101       | 61336.333509 | 0.449556      |"
      ]
     },
     "metadata": {},
     "output_type": "display_data"
    },
    {
     "data": {
      "text/html": [
       "<pre>| 102       | 61932.404365 | 0.449496      |</pre>"
      ],
      "text/plain": [
       "| 102       | 61932.404365 | 0.449496      |"
      ]
     },
     "metadata": {},
     "output_type": "display_data"
    },
    {
     "data": {
      "text/html": [
       "<pre>| 103       | 62531.022287 | 0.449406      |</pre>"
      ],
      "text/plain": [
       "| 103       | 62531.022287 | 0.449406      |"
      ]
     },
     "metadata": {},
     "output_type": "display_data"
    },
    {
     "data": {
      "text/html": [
       "<pre>| 104       | 63133.045754 | 0.449317      |</pre>"
      ],
      "text/plain": [
       "| 104       | 63133.045754 | 0.449317      |"
      ]
     },
     "metadata": {},
     "output_type": "display_data"
    },
    {
     "data": {
      "text/html": [
       "<pre>| 105       | 63715.363490 | 0.449253      |</pre>"
      ],
      "text/plain": [
       "| 105       | 63715.363490 | 0.449253      |"
      ]
     },
     "metadata": {},
     "output_type": "display_data"
    },
    {
     "data": {
      "text/html": [
       "<pre>| 106       | 64311.828373 | 0.449163      |</pre>"
      ],
      "text/plain": [
       "| 106       | 64311.828373 | 0.449163      |"
      ]
     },
     "metadata": {},
     "output_type": "display_data"
    },
    {
     "data": {
      "text/html": [
       "<pre>| 107       | 64934.865371 | 0.449072      |</pre>"
      ],
      "text/plain": [
       "| 107       | 64934.865371 | 0.449072      |"
      ]
     },
     "metadata": {},
     "output_type": "display_data"
    },
    {
     "data": {
      "text/html": [
       "<pre>| 108       | 65526.410908 | 0.448999      |</pre>"
      ],
      "text/plain": [
       "| 108       | 65526.410908 | 0.448999      |"
      ]
     },
     "metadata": {},
     "output_type": "display_data"
    },
    {
     "data": {
      "text/html": [
       "<pre>| 109       | 66146.979760 | 0.448889      |</pre>"
      ],
      "text/plain": [
       "| 109       | 66146.979760 | 0.448889      |"
      ]
     },
     "metadata": {},
     "output_type": "display_data"
    },
    {
     "data": {
      "text/html": [
       "<pre>| 110       | 66741.066582 | 0.448837      |</pre>"
      ],
      "text/plain": [
       "| 110       | 66741.066582 | 0.448837      |"
      ]
     },
     "metadata": {},
     "output_type": "display_data"
    },
    {
     "data": {
      "text/html": [
       "<pre>| 111       | 67341.980913 | 0.448727      |</pre>"
      ],
      "text/plain": [
       "| 111       | 67341.980913 | 0.448727      |"
      ]
     },
     "metadata": {},
     "output_type": "display_data"
    },
    {
     "data": {
      "text/html": [
       "<pre>| 112       | 67961.489870 | 0.448656      |</pre>"
      ],
      "text/plain": [
       "| 112       | 67961.489870 | 0.448656      |"
      ]
     },
     "metadata": {},
     "output_type": "display_data"
    },
    {
     "data": {
      "text/html": [
       "<pre>| 113       | 68583.097097 | 0.448557      |</pre>"
      ],
      "text/plain": [
       "| 113       | 68583.097097 | 0.448557      |"
      ]
     },
     "metadata": {},
     "output_type": "display_data"
    },
    {
     "data": {
      "text/html": [
       "<pre>| 114       | 69185.195994 | 0.448487      |</pre>"
      ],
      "text/plain": [
       "| 114       | 69185.195994 | 0.448487      |"
      ]
     },
     "metadata": {},
     "output_type": "display_data"
    },
    {
     "data": {
      "text/html": [
       "<pre>| 115       | 69797.088495 | 0.448423      |</pre>"
      ],
      "text/plain": [
       "| 115       | 69797.088495 | 0.448423      |"
      ]
     },
     "metadata": {},
     "output_type": "display_data"
    },
    {
     "data": {
      "text/html": [
       "<pre>| 116       | 70398.374073 | 0.448325      |</pre>"
      ],
      "text/plain": [
       "| 116       | 70398.374073 | 0.448325      |"
      ]
     },
     "metadata": {},
     "output_type": "display_data"
    },
    {
     "data": {
      "text/html": [
       "<pre>| 117       | 71013.089513 | 0.448249      |</pre>"
      ],
      "text/plain": [
       "| 117       | 71013.089513 | 0.448249      |"
      ]
     },
     "metadata": {},
     "output_type": "display_data"
    },
    {
     "data": {
      "text/html": [
       "<pre>| 118       | 71623.400716 | 0.448157      |</pre>"
      ],
      "text/plain": [
       "| 118       | 71623.400716 | 0.448157      |"
      ]
     },
     "metadata": {},
     "output_type": "display_data"
    },
    {
     "data": {
      "text/html": [
       "<pre>| 119       | 72248.698328 | 0.448071      |</pre>"
      ],
      "text/plain": [
       "| 119       | 72248.698328 | 0.448071      |"
      ]
     },
     "metadata": {},
     "output_type": "display_data"
    },
    {
     "data": {
      "text/html": [
       "<pre>| 120       | 72841.982611 | 0.447975      |</pre>"
      ],
      "text/plain": [
       "| 120       | 72841.982611 | 0.447975      |"
      ]
     },
     "metadata": {},
     "output_type": "display_data"
    },
    {
     "data": {
      "text/html": [
       "<pre>| 121       | 73455.866168 | 0.447934      |</pre>"
      ],
      "text/plain": [
       "| 121       | 73455.866168 | 0.447934      |"
      ]
     },
     "metadata": {},
     "output_type": "display_data"
    },
    {
     "data": {
      "text/html": [
       "<pre>| 122       | 74079.774532 | 0.447888      |</pre>"
      ],
      "text/plain": [
       "| 122       | 74079.774532 | 0.447888      |"
      ]
     },
     "metadata": {},
     "output_type": "display_data"
    },
    {
     "data": {
      "text/html": [
       "<pre>| 123       | 74700.619369 | 0.447767      |</pre>"
      ],
      "text/plain": [
       "| 123       | 74700.619369 | 0.447767      |"
      ]
     },
     "metadata": {},
     "output_type": "display_data"
    },
    {
     "data": {
      "text/html": [
       "<pre>| 124       | 75316.520861 | 0.447672      |</pre>"
      ],
      "text/plain": [
       "| 124       | 75316.520861 | 0.447672      |"
      ]
     },
     "metadata": {},
     "output_type": "display_data"
    },
    {
     "data": {
      "text/html": [
       "<pre>| 125       | 75916.356529 | 0.447618      |</pre>"
      ],
      "text/plain": [
       "| 125       | 75916.356529 | 0.447618      |"
      ]
     },
     "metadata": {},
     "output_type": "display_data"
    },
    {
     "data": {
      "text/html": [
       "<pre>| 126       | 76528.960610 | 0.447501      |</pre>"
      ],
      "text/plain": [
       "| 126       | 76528.960610 | 0.447501      |"
      ]
     },
     "metadata": {},
     "output_type": "display_data"
    },
    {
     "data": {
      "text/html": [
       "<pre>| 127       | 77152.085864 | 0.447418      |</pre>"
      ],
      "text/plain": [
       "| 127       | 77152.085864 | 0.447418      |"
      ]
     },
     "metadata": {},
     "output_type": "display_data"
    },
    {
     "data": {
      "text/html": [
       "<pre>| 128       | 77766.129093 | 0.447360      |</pre>"
      ],
      "text/plain": [
       "| 128       | 77766.129093 | 0.447360      |"
      ]
     },
     "metadata": {},
     "output_type": "display_data"
    },
    {
     "data": {
      "text/html": [
       "<pre>| 129       | 78367.776875 | 0.447310      |</pre>"
      ],
      "text/plain": [
       "| 129       | 78367.776875 | 0.447310      |"
      ]
     },
     "metadata": {},
     "output_type": "display_data"
    },
    {
     "data": {
      "text/html": [
       "<pre>| 130       | 78969.092101 | 0.447255      |</pre>"
      ],
      "text/plain": [
       "| 130       | 78969.092101 | 0.447255      |"
      ]
     },
     "metadata": {},
     "output_type": "display_data"
    },
    {
     "data": {
      "text/html": [
       "<pre>| 131       | 79579.732656 | 0.447134      |</pre>"
      ],
      "text/plain": [
       "| 131       | 79579.732656 | 0.447134      |"
      ]
     },
     "metadata": {},
     "output_type": "display_data"
    },
    {
     "data": {
      "text/html": [
       "<pre>| 132       | 80198.076607 | 0.447053      |</pre>"
      ],
      "text/plain": [
       "| 132       | 80198.076607 | 0.447053      |"
      ]
     },
     "metadata": {},
     "output_type": "display_data"
    },
    {
     "data": {
      "text/html": [
       "<pre>| 133       | 80816.269200 | 0.446999      |</pre>"
      ],
      "text/plain": [
       "| 133       | 80816.269200 | 0.446999      |"
      ]
     },
     "metadata": {},
     "output_type": "display_data"
    },
    {
     "data": {
      "text/html": [
       "<pre>| 134       | 81432.412620 | 0.446903      |</pre>"
      ],
      "text/plain": [
       "| 134       | 81432.412620 | 0.446903      |"
      ]
     },
     "metadata": {},
     "output_type": "display_data"
    },
    {
     "data": {
      "text/html": [
       "<pre>| 135       | 82034.164122 | 0.446855      |</pre>"
      ],
      "text/plain": [
       "| 135       | 82034.164122 | 0.446855      |"
      ]
     },
     "metadata": {},
     "output_type": "display_data"
    },
    {
     "data": {
      "text/html": [
       "<pre>| 136       | 82640.177013 | 0.446785      |</pre>"
      ],
      "text/plain": [
       "| 136       | 82640.177013 | 0.446785      |"
      ]
     },
     "metadata": {},
     "output_type": "display_data"
    },
    {
     "data": {
      "text/html": [
       "<pre>| 137       | 83260.137051 | 0.446734      |</pre>"
      ],
      "text/plain": [
       "| 137       | 83260.137051 | 0.446734      |"
      ]
     },
     "metadata": {},
     "output_type": "display_data"
    },
    {
     "data": {
      "text/html": [
       "<pre>| 138       | 83876.302773 | 0.446681      |</pre>"
      ],
      "text/plain": [
       "| 138       | 83876.302773 | 0.446681      |"
      ]
     },
     "metadata": {},
     "output_type": "display_data"
    },
    {
     "data": {
      "text/html": [
       "<pre>| 139       | 84481.305418 | 0.446649      |</pre>"
      ],
      "text/plain": [
       "| 139       | 84481.305418 | 0.446649      |"
      ]
     },
     "metadata": {},
     "output_type": "display_data"
    },
    {
     "data": {
      "text/html": [
       "<pre>| 140       | 85075.515449 | 0.446588      |</pre>"
      ],
      "text/plain": [
       "| 140       | 85075.515449 | 0.446588      |"
      ]
     },
     "metadata": {},
     "output_type": "display_data"
    },
    {
     "data": {
      "text/html": [
       "<pre>| 141       | 85668.733325 | 0.446539      |</pre>"
      ],
      "text/plain": [
       "| 141       | 85668.733325 | 0.446539      |"
      ]
     },
     "metadata": {},
     "output_type": "display_data"
    },
    {
     "data": {
      "text/html": [
       "<pre>| 142       | 86264.585305 | 0.446464      |</pre>"
      ],
      "text/plain": [
       "| 142       | 86264.585305 | 0.446464      |"
      ]
     },
     "metadata": {},
     "output_type": "display_data"
    },
    {
     "data": {
      "text/html": [
       "<pre>| 143       | 86861.258422 | 0.446425      |</pre>"
      ],
      "text/plain": [
       "| 143       | 86861.258422 | 0.446425      |"
      ]
     },
     "metadata": {},
     "output_type": "display_data"
    },
    {
     "data": {
      "text/html": [
       "<pre>| 144       | 87449.254050 | 0.446379      |</pre>"
      ],
      "text/plain": [
       "| 144       | 87449.254050 | 0.446379      |"
      ]
     },
     "metadata": {},
     "output_type": "display_data"
    },
    {
     "data": {
      "text/html": [
       "<pre>| 145       | 88060.196180 | 0.446323      |</pre>"
      ],
      "text/plain": [
       "| 145       | 88060.196180 | 0.446323      |"
      ]
     },
     "metadata": {},
     "output_type": "display_data"
    },
    {
     "data": {
      "text/html": [
       "<pre>| 146       | 88669.049790 | 0.446213      |</pre>"
      ],
      "text/plain": [
       "| 146       | 88669.049790 | 0.446213      |"
      ]
     },
     "metadata": {},
     "output_type": "display_data"
    },
    {
     "data": {
      "text/html": [
       "<pre>| 147       | 89261.854507 | 0.446151      |</pre>"
      ],
      "text/plain": [
       "| 147       | 89261.854507 | 0.446151      |"
      ]
     },
     "metadata": {},
     "output_type": "display_data"
    },
    {
     "data": {
      "text/html": [
       "<pre>| 148       | 89851.103264 | 0.446107      |</pre>"
      ],
      "text/plain": [
       "| 148       | 89851.103264 | 0.446107      |"
      ]
     },
     "metadata": {},
     "output_type": "display_data"
    },
    {
     "data": {
      "text/html": [
       "<pre>| 149       | 90433.345252 | 0.446002      |</pre>"
      ],
      "text/plain": [
       "| 149       | 90433.345252 | 0.446002      |"
      ]
     },
     "metadata": {},
     "output_type": "display_data"
    },
    {
     "data": {
      "text/html": [
       "<pre>| 150       | 91028.427236 | 0.445944      |</pre>"
      ],
      "text/plain": [
       "| 150       | 91028.427236 | 0.445944      |"
      ]
     },
     "metadata": {},
     "output_type": "display_data"
    },
    {
     "data": {
      "text/html": [
       "<pre>| 151       | 91622.513501 | 0.445913      |</pre>"
      ],
      "text/plain": [
       "| 151       | 91622.513501 | 0.445913      |"
      ]
     },
     "metadata": {},
     "output_type": "display_data"
    },
    {
     "data": {
      "text/html": [
       "<pre>| 152       | 92226.076147 | 0.445879      |</pre>"
      ],
      "text/plain": [
       "| 152       | 92226.076147 | 0.445879      |"
      ]
     },
     "metadata": {},
     "output_type": "display_data"
    },
    {
     "data": {
      "text/html": [
       "<pre>| 153       | 92830.817749 | 0.445823      |</pre>"
      ],
      "text/plain": [
       "| 153       | 92830.817749 | 0.445823      |"
      ]
     },
     "metadata": {},
     "output_type": "display_data"
    },
    {
     "data": {
      "text/html": [
       "<pre>| 154       | 93415.195611 | 0.445767      |</pre>"
      ],
      "text/plain": [
       "| 154       | 93415.195611 | 0.445767      |"
      ]
     },
     "metadata": {},
     "output_type": "display_data"
    },
    {
     "data": {
      "text/html": [
       "<pre>| 155       | 94010.965041 | 0.445723      |</pre>"
      ],
      "text/plain": [
       "| 155       | 94010.965041 | 0.445723      |"
      ]
     },
     "metadata": {},
     "output_type": "display_data"
    },
    {
     "data": {
      "text/html": [
       "<pre>| 156       | 94615.647558 | 0.445671      |</pre>"
      ],
      "text/plain": [
       "| 156       | 94615.647558 | 0.445671      |"
      ]
     },
     "metadata": {},
     "output_type": "display_data"
    },
    {
     "data": {
      "text/html": [
       "<pre>| 157       | 95211.754439 | 0.445601      |</pre>"
      ],
      "text/plain": [
       "| 157       | 95211.754439 | 0.445601      |"
      ]
     },
     "metadata": {},
     "output_type": "display_data"
    },
    {
     "data": {
      "text/html": [
       "<pre>| 158       | 95808.752763 | 0.445560      |</pre>"
      ],
      "text/plain": [
       "| 158       | 95808.752763 | 0.445560      |"
      ]
     },
     "metadata": {},
     "output_type": "display_data"
    },
    {
     "data": {
      "text/html": [
       "<pre>| 159       | 96399.587330 | 0.445465      |</pre>"
      ],
      "text/plain": [
       "| 159       | 96399.587330 | 0.445465      |"
      ]
     },
     "metadata": {},
     "output_type": "display_data"
    },
    {
     "data": {
      "text/html": [
       "<pre>| 160       | 96988.698285 | 0.445393      |</pre>"
      ],
      "text/plain": [
       "| 160       | 96988.698285 | 0.445393      |"
      ]
     },
     "metadata": {},
     "output_type": "display_data"
    },
    {
     "data": {
      "text/html": [
       "<pre>| 161       | 97561.623558 | 0.445341      |</pre>"
      ],
      "text/plain": [
       "| 161       | 97561.623558 | 0.445341      |"
      ]
     },
     "metadata": {},
     "output_type": "display_data"
    },
    {
     "data": {
      "text/html": [
       "<pre>| 162       | 98134.223300 | 0.445284      |</pre>"
      ],
      "text/plain": [
       "| 162       | 98134.223300 | 0.445284      |"
      ]
     },
     "metadata": {},
     "output_type": "display_data"
    },
    {
     "data": {
      "text/html": [
       "<pre>| 163       | 98740.299136 | 0.445211      |</pre>"
      ],
      "text/plain": [
       "| 163       | 98740.299136 | 0.445211      |"
      ]
     },
     "metadata": {},
     "output_type": "display_data"
    },
    {
     "data": {
      "text/html": [
       "<pre>| 164       | 99347.885442 | 0.445163      |</pre>"
      ],
      "text/plain": [
       "| 164       | 99347.885442 | 0.445163      |"
      ]
     },
     "metadata": {},
     "output_type": "display_data"
    },
    {
     "data": {
      "text/html": [
       "<pre>| 165       | 99952.715350 | 0.445087      |</pre>"
      ],
      "text/plain": [
       "| 165       | 99952.715350 | 0.445087      |"
      ]
     },
     "metadata": {},
     "output_type": "display_data"
    },
    {
     "data": {
      "text/html": [
       "<pre>| 166       | 100541.698...| 0.445037      |</pre>"
      ],
      "text/plain": [
       "| 166       | 100541.698...| 0.445037      |"
      ]
     },
     "metadata": {},
     "output_type": "display_data"
    },
    {
     "data": {
      "text/html": [
       "<pre>| 167       | 101125.365...| 0.445008      |</pre>"
      ],
      "text/plain": [
       "| 167       | 101125.365...| 0.445008      |"
      ]
     },
     "metadata": {},
     "output_type": "display_data"
    },
    {
     "data": {
      "text/html": [
       "<pre>| 168       | 101741.459...| 0.444934      |</pre>"
      ],
      "text/plain": [
       "| 168       | 101741.459...| 0.444934      |"
      ]
     },
     "metadata": {},
     "output_type": "display_data"
    },
    {
     "data": {
      "text/html": [
       "<pre>| 169       | 102329.635...| 0.444856      |</pre>"
      ],
      "text/plain": [
       "| 169       | 102329.635...| 0.444856      |"
      ]
     },
     "metadata": {},
     "output_type": "display_data"
    },
    {
     "data": {
      "text/html": [
       "<pre>| 170       | 102947.183...| 0.444805      |</pre>"
      ],
      "text/plain": [
       "| 170       | 102947.183...| 0.444805      |"
      ]
     },
     "metadata": {},
     "output_type": "display_data"
    },
    {
     "data": {
      "text/html": [
       "<pre>| 171       | 103529.690...| 0.444746      |</pre>"
      ],
      "text/plain": [
       "| 171       | 103529.690...| 0.444746      |"
      ]
     },
     "metadata": {},
     "output_type": "display_data"
    },
    {
     "data": {
      "text/html": [
       "<pre>| 172       | 104126.991...| 0.444707      |</pre>"
      ],
      "text/plain": [
       "| 172       | 104126.991...| 0.444707      |"
      ]
     },
     "metadata": {},
     "output_type": "display_data"
    },
    {
     "data": {
      "text/html": [
       "<pre>| 173       | 104723.519...| 0.444654      |</pre>"
      ],
      "text/plain": [
       "| 173       | 104723.519...| 0.444654      |"
      ]
     },
     "metadata": {},
     "output_type": "display_data"
    },
    {
     "data": {
      "text/html": [
       "<pre>| 174       | 105334.493...| 0.444610      |</pre>"
      ],
      "text/plain": [
       "| 174       | 105334.493...| 0.444610      |"
      ]
     },
     "metadata": {},
     "output_type": "display_data"
    },
    {
     "data": {
      "text/html": [
       "<pre>| 175       | 105939.617...| 0.444579      |</pre>"
      ],
      "text/plain": [
       "| 175       | 105939.617...| 0.444579      |"
      ]
     },
     "metadata": {},
     "output_type": "display_data"
    },
    {
     "data": {
      "text/html": [
       "<pre>| 176       | 106527.687...| 0.444553      |</pre>"
      ],
      "text/plain": [
       "| 176       | 106527.687...| 0.444553      |"
      ]
     },
     "metadata": {},
     "output_type": "display_data"
    },
    {
     "data": {
      "text/html": [
       "<pre>| 177       | 107102.709...| 0.444509      |</pre>"
      ],
      "text/plain": [
       "| 177       | 107102.709...| 0.444509      |"
      ]
     },
     "metadata": {},
     "output_type": "display_data"
    },
    {
     "data": {
      "text/html": [
       "<pre>| 178       | 107714.846...| 0.444451      |</pre>"
      ],
      "text/plain": [
       "| 178       | 107714.846...| 0.444451      |"
      ]
     },
     "metadata": {},
     "output_type": "display_data"
    },
    {
     "data": {
      "text/html": [
       "<pre>| 179       | 108301.198...| 0.444401      |</pre>"
      ],
      "text/plain": [
       "| 179       | 108301.198...| 0.444401      |"
      ]
     },
     "metadata": {},
     "output_type": "display_data"
    },
    {
     "data": {
      "text/html": [
       "<pre>| 180       | 108904.852...| 0.444347      |</pre>"
      ],
      "text/plain": [
       "| 180       | 108904.852...| 0.444347      |"
      ]
     },
     "metadata": {},
     "output_type": "display_data"
    },
    {
     "data": {
      "text/html": [
       "<pre>| 181       | 109519.345...| 0.444280      |</pre>"
      ],
      "text/plain": [
       "| 181       | 109519.345...| 0.444280      |"
      ]
     },
     "metadata": {},
     "output_type": "display_data"
    },
    {
     "data": {
      "text/html": [
       "<pre>| 182       | 110122.747...| 0.444245      |</pre>"
      ],
      "text/plain": [
       "| 182       | 110122.747...| 0.444245      |"
      ]
     },
     "metadata": {},
     "output_type": "display_data"
    },
    {
     "data": {
      "text/html": [
       "<pre>| 183       | 110706.763...| 0.444155      |</pre>"
      ],
      "text/plain": [
       "| 183       | 110706.763...| 0.444155      |"
      ]
     },
     "metadata": {},
     "output_type": "display_data"
    },
    {
     "data": {
      "text/html": [
       "<pre>| 184       | 111295.153...| 0.444097      |</pre>"
      ],
      "text/plain": [
       "| 184       | 111295.153...| 0.444097      |"
      ]
     },
     "metadata": {},
     "output_type": "display_data"
    },
    {
     "data": {
      "text/html": [
       "<pre>| 185       | 111915.642...| 0.444051      |</pre>"
      ],
      "text/plain": [
       "| 185       | 111915.642...| 0.444051      |"
      ]
     },
     "metadata": {},
     "output_type": "display_data"
    },
    {
     "data": {
      "text/html": [
       "<pre>| 186       | 112525.897...| 0.443998      |</pre>"
      ],
      "text/plain": [
       "| 186       | 112525.897...| 0.443998      |"
      ]
     },
     "metadata": {},
     "output_type": "display_data"
    },
    {
     "data": {
      "text/html": [
       "<pre>| 187       | 113134.002...| 0.443976      |</pre>"
      ],
      "text/plain": [
       "| 187       | 113134.002...| 0.443976      |"
      ]
     },
     "metadata": {},
     "output_type": "display_data"
    },
    {
     "data": {
      "text/html": [
       "<pre>| 188       | 113737.639...| 0.443909      |</pre>"
      ],
      "text/plain": [
       "| 188       | 113737.639...| 0.443909      |"
      ]
     },
     "metadata": {},
     "output_type": "display_data"
    },
    {
     "data": {
      "text/html": [
       "<pre>| 189       | 114331.684...| 0.443890      |</pre>"
      ],
      "text/plain": [
       "| 189       | 114331.684...| 0.443890      |"
      ]
     },
     "metadata": {},
     "output_type": "display_data"
    },
    {
     "data": {
      "text/html": [
       "<pre>| 190       | 114924.617...| 0.443867      |</pre>"
      ],
      "text/plain": [
       "| 190       | 114924.617...| 0.443867      |"
      ]
     },
     "metadata": {},
     "output_type": "display_data"
    },
    {
     "data": {
      "text/html": [
       "<pre>| 191       | 115539.858...| 0.443810      |</pre>"
      ],
      "text/plain": [
       "| 191       | 115539.858...| 0.443810      |"
      ]
     },
     "metadata": {},
     "output_type": "display_data"
    },
    {
     "data": {
      "text/html": [
       "<pre>| 192       | 116123.718...| 0.443773      |</pre>"
      ],
      "text/plain": [
       "| 192       | 116123.718...| 0.443773      |"
      ]
     },
     "metadata": {},
     "output_type": "display_data"
    },
    {
     "data": {
      "text/html": [
       "<pre>| 193       | 116730.599...| 0.443732      |</pre>"
      ],
      "text/plain": [
       "| 193       | 116730.599...| 0.443732      |"
      ]
     },
     "metadata": {},
     "output_type": "display_data"
    },
    {
     "data": {
      "text/html": [
       "<pre>| 194       | 117332.990...| 0.443690      |</pre>"
      ],
      "text/plain": [
       "| 194       | 117332.990...| 0.443690      |"
      ]
     },
     "metadata": {},
     "output_type": "display_data"
    },
    {
     "data": {
      "text/html": [
       "<pre>| 195       | 117939.798...| 0.443659      |</pre>"
      ],
      "text/plain": [
       "| 195       | 117939.798...| 0.443659      |"
      ]
     },
     "metadata": {},
     "output_type": "display_data"
    },
    {
     "data": {
      "text/html": [
       "<pre>| 196       | 118535.466...| 0.443640      |</pre>"
      ],
      "text/plain": [
       "| 196       | 118535.466...| 0.443640      |"
      ]
     },
     "metadata": {},
     "output_type": "display_data"
    },
    {
     "data": {
      "text/html": [
       "<pre>| 197       | 119147.642...| 0.443575      |</pre>"
      ],
      "text/plain": [
       "| 197       | 119147.642...| 0.443575      |"
      ]
     },
     "metadata": {},
     "output_type": "display_data"
    },
    {
     "data": {
      "text/html": [
       "<pre>| 198       | 119743.016...| 0.443534      |</pre>"
      ],
      "text/plain": [
       "| 198       | 119743.016...| 0.443534      |"
      ]
     },
     "metadata": {},
     "output_type": "display_data"
    },
    {
     "data": {
      "text/html": [
       "<pre>| 199       | 120360.785...| 0.443482      |</pre>"
      ],
      "text/plain": [
       "| 199       | 120360.785...| 0.443482      |"
      ]
     },
     "metadata": {},
     "output_type": "display_data"
    },
    {
     "data": {
      "text/html": [
       "<pre>| 200       | 120956.557...| 0.443446      |</pre>"
      ],
      "text/plain": [
       "| 200       | 120956.557...| 0.443446      |"
      ]
     },
     "metadata": {},
     "output_type": "display_data"
    },
    {
     "data": {
      "text/html": [
       "<pre>Checkpointing to /home/zongyi/bimbo_data/model_checkpoint_200</pre>"
      ],
      "text/plain": [
       "Checkpointing to /home/zongyi/bimbo_data/model_checkpoint_200"
      ]
     },
     "metadata": {},
     "output_type": "display_data"
    },
    {
     "data": {
      "text/html": [
       "<pre>| 201       | 121564.926...| 0.443426      |</pre>"
      ],
      "text/plain": [
       "| 201       | 121564.926...| 0.443426      |"
      ]
     },
     "metadata": {},
     "output_type": "display_data"
    },
    {
     "data": {
      "text/html": [
       "<pre>| 202       | 122179.637...| 0.443395      |</pre>"
      ],
      "text/plain": [
       "| 202       | 122179.637...| 0.443395      |"
      ]
     },
     "metadata": {},
     "output_type": "display_data"
    },
    {
     "data": {
      "text/html": [
       "<pre>| 203       | 122812.592...| 0.443340      |</pre>"
      ],
      "text/plain": [
       "| 203       | 122812.592...| 0.443340      |"
      ]
     },
     "metadata": {},
     "output_type": "display_data"
    },
    {
     "data": {
      "text/html": [
       "<pre>| 204       | 123404.992...| 0.443301      |</pre>"
      ],
      "text/plain": [
       "| 204       | 123404.992...| 0.443301      |"
      ]
     },
     "metadata": {},
     "output_type": "display_data"
    },
    {
     "data": {
      "text/html": [
       "<pre>| 205       | 124030.600...| 0.443234      |</pre>"
      ],
      "text/plain": [
       "| 205       | 124030.600...| 0.443234      |"
      ]
     },
     "metadata": {},
     "output_type": "display_data"
    },
    {
     "data": {
      "text/html": [
       "<pre>| 206       | 124664.355...| 0.443204      |</pre>"
      ],
      "text/plain": [
       "| 206       | 124664.355...| 0.443204      |"
      ]
     },
     "metadata": {},
     "output_type": "display_data"
    },
    {
     "data": {
      "text/html": [
       "<pre>| 207       | 125251.483...| 0.443144      |</pre>"
      ],
      "text/plain": [
       "| 207       | 125251.483...| 0.443144      |"
      ]
     },
     "metadata": {},
     "output_type": "display_data"
    },
    {
     "data": {
      "text/html": [
       "<pre>| 208       | 125839.588...| 0.443114      |</pre>"
      ],
      "text/plain": [
       "| 208       | 125839.588...| 0.443114      |"
      ]
     },
     "metadata": {},
     "output_type": "display_data"
    },
    {
     "data": {
      "text/html": [
       "<pre>| 209       | 126468.753...| 0.443060      |</pre>"
      ],
      "text/plain": [
       "| 209       | 126468.753...| 0.443060      |"
      ]
     },
     "metadata": {},
     "output_type": "display_data"
    },
    {
     "data": {
      "text/html": [
       "<pre>| 210       | 127080.524...| 0.443008      |</pre>"
      ],
      "text/plain": [
       "| 210       | 127080.524...| 0.443008      |"
      ]
     },
     "metadata": {},
     "output_type": "display_data"
    },
    {
     "data": {
      "text/html": [
       "<pre>| 211       | 127703.462...| 0.442975      |</pre>"
      ],
      "text/plain": [
       "| 211       | 127703.462...| 0.442975      |"
      ]
     },
     "metadata": {},
     "output_type": "display_data"
    },
    {
     "data": {
      "text/html": [
       "<pre>| 212       | 128289.428...| 0.442945      |</pre>"
      ],
      "text/plain": [
       "| 212       | 128289.428...| 0.442945      |"
      ]
     },
     "metadata": {},
     "output_type": "display_data"
    },
    {
     "data": {
      "text/html": [
       "<pre>| 213       | 128906.176...| 0.442901      |</pre>"
      ],
      "text/plain": [
       "| 213       | 128906.176...| 0.442901      |"
      ]
     },
     "metadata": {},
     "output_type": "display_data"
    },
    {
     "data": {
      "text/html": [
       "<pre>| 214       | 129490.354...| 0.442876      |</pre>"
      ],
      "text/plain": [
       "| 214       | 129490.354...| 0.442876      |"
      ]
     },
     "metadata": {},
     "output_type": "display_data"
    },
    {
     "data": {
      "text/html": [
       "<pre>| 215       | 130114.744...| 0.442849      |</pre>"
      ],
      "text/plain": [
       "| 215       | 130114.744...| 0.442849      |"
      ]
     },
     "metadata": {},
     "output_type": "display_data"
    },
    {
     "data": {
      "text/html": [
       "<pre>| 216       | 130720.179...| 0.442832      |</pre>"
      ],
      "text/plain": [
       "| 216       | 130720.179...| 0.442832      |"
      ]
     },
     "metadata": {},
     "output_type": "display_data"
    },
    {
     "data": {
      "text/html": [
       "<pre>| 217       | 131321.186...| 0.442790      |</pre>"
      ],
      "text/plain": [
       "| 217       | 131321.186...| 0.442790      |"
      ]
     },
     "metadata": {},
     "output_type": "display_data"
    },
    {
     "data": {
      "text/html": [
       "<pre>| 218       | 131921.919...| 0.442750      |</pre>"
      ],
      "text/plain": [
       "| 218       | 131921.919...| 0.442750      |"
      ]
     },
     "metadata": {},
     "output_type": "display_data"
    },
    {
     "data": {
      "text/html": [
       "<pre>| 219       | 132522.902...| 0.442711      |</pre>"
      ],
      "text/plain": [
       "| 219       | 132522.902...| 0.442711      |"
      ]
     },
     "metadata": {},
     "output_type": "display_data"
    },
    {
     "data": {
      "text/html": [
       "<pre>| 220       | 133143.226...| 0.442682      |</pre>"
      ],
      "text/plain": [
       "| 220       | 133143.226...| 0.442682      |"
      ]
     },
     "metadata": {},
     "output_type": "display_data"
    },
    {
     "data": {
      "text/html": [
       "<pre>| 221       | 133743.015...| 0.442654      |</pre>"
      ],
      "text/plain": [
       "| 221       | 133743.015...| 0.442654      |"
      ]
     },
     "metadata": {},
     "output_type": "display_data"
    },
    {
     "data": {
      "text/html": [
       "<pre>| 222       | 134326.159...| 0.442628      |</pre>"
      ],
      "text/plain": [
       "| 222       | 134326.159...| 0.442628      |"
      ]
     },
     "metadata": {},
     "output_type": "display_data"
    },
    {
     "data": {
      "text/html": [
       "<pre>| 223       | 134949.344...| 0.442589      |</pre>"
      ],
      "text/plain": [
       "| 223       | 134949.344...| 0.442589      |"
      ]
     },
     "metadata": {},
     "output_type": "display_data"
    },
    {
     "data": {
      "text/html": [
       "<pre>| 224       | 135557.868...| 0.442544      |</pre>"
      ],
      "text/plain": [
       "| 224       | 135557.868...| 0.442544      |"
      ]
     },
     "metadata": {},
     "output_type": "display_data"
    },
    {
     "data": {
      "text/html": [
       "<pre>| 225       | 136172.146...| 0.442504      |</pre>"
      ],
      "text/plain": [
       "| 225       | 136172.146...| 0.442504      |"
      ]
     },
     "metadata": {},
     "output_type": "display_data"
    },
    {
     "data": {
      "text/html": [
       "<pre>| 226       | 136784.813...| 0.442472      |</pre>"
      ],
      "text/plain": [
       "| 226       | 136784.813...| 0.442472      |"
      ]
     },
     "metadata": {},
     "output_type": "display_data"
    },
    {
     "data": {
      "text/html": [
       "<pre>| 227       | 137405.815...| 0.442442      |</pre>"
      ],
      "text/plain": [
       "| 227       | 137405.815...| 0.442442      |"
      ]
     },
     "metadata": {},
     "output_type": "display_data"
    },
    {
     "data": {
      "text/html": [
       "<pre>| 228       | 138024.578...| 0.442419      |</pre>"
      ],
      "text/plain": [
       "| 228       | 138024.578...| 0.442419      |"
      ]
     },
     "metadata": {},
     "output_type": "display_data"
    },
    {
     "data": {
      "text/html": [
       "<pre>| 229       | 138638.996...| 0.442377      |</pre>"
      ],
      "text/plain": [
       "| 229       | 138638.996...| 0.442377      |"
      ]
     },
     "metadata": {},
     "output_type": "display_data"
    },
    {
     "data": {
      "text/html": [
       "<pre>| 230       | 139233.856...| 0.442353      |</pre>"
      ],
      "text/plain": [
       "| 230       | 139233.856...| 0.442353      |"
      ]
     },
     "metadata": {},
     "output_type": "display_data"
    },
    {
     "data": {
      "text/html": [
       "<pre>| 231       | 139830.229...| 0.442300      |</pre>"
      ],
      "text/plain": [
       "| 231       | 139830.229...| 0.442300      |"
      ]
     },
     "metadata": {},
     "output_type": "display_data"
    },
    {
     "data": {
      "text/html": [
       "<pre>| 232       | 140441.602...| 0.442269      |</pre>"
      ],
      "text/plain": [
       "| 232       | 140441.602...| 0.442269      |"
      ]
     },
     "metadata": {},
     "output_type": "display_data"
    },
    {
     "data": {
      "text/html": [
       "<pre>| 233       | 141046.911...| 0.442240      |</pre>"
      ],
      "text/plain": [
       "| 233       | 141046.911...| 0.442240      |"
      ]
     },
     "metadata": {},
     "output_type": "display_data"
    },
    {
     "data": {
      "text/html": [
       "<pre>| 234       | 141665.039...| 0.442213      |</pre>"
      ],
      "text/plain": [
       "| 234       | 141665.039...| 0.442213      |"
      ]
     },
     "metadata": {},
     "output_type": "display_data"
    },
    {
     "data": {
      "text/html": [
       "<pre>| 235       | 142260.481...| 0.442183      |</pre>"
      ],
      "text/plain": [
       "| 235       | 142260.481...| 0.442183      |"
      ]
     },
     "metadata": {},
     "output_type": "display_data"
    },
    {
     "data": {
      "text/html": [
       "<pre>| 236       | 142874.277...| 0.442156      |</pre>"
      ],
      "text/plain": [
       "| 236       | 142874.277...| 0.442156      |"
      ]
     },
     "metadata": {},
     "output_type": "display_data"
    },
    {
     "data": {
      "text/html": [
       "<pre>| 237       | 143473.995...| 0.442107      |</pre>"
      ],
      "text/plain": [
       "| 237       | 143473.995...| 0.442107      |"
      ]
     },
     "metadata": {},
     "output_type": "display_data"
    },
    {
     "data": {
      "text/html": [
       "<pre>| 238       | 144087.229...| 0.442093      |</pre>"
      ],
      "text/plain": [
       "| 238       | 144087.229...| 0.442093      |"
      ]
     },
     "metadata": {},
     "output_type": "display_data"
    },
    {
     "data": {
      "text/html": [
       "<pre>| 239       | 144688.342...| 0.442059      |</pre>"
      ],
      "text/plain": [
       "| 239       | 144688.342...| 0.442059      |"
      ]
     },
     "metadata": {},
     "output_type": "display_data"
    },
    {
     "data": {
      "text/html": [
       "<pre>| 240       | 145293.918...| 0.442019      |</pre>"
      ],
      "text/plain": [
       "| 240       | 145293.918...| 0.442019      |"
      ]
     },
     "metadata": {},
     "output_type": "display_data"
    },
    {
     "data": {
      "text/html": [
       "<pre>| 241       | 145923.452...| 0.441978      |</pre>"
      ],
      "text/plain": [
       "| 241       | 145923.452...| 0.441978      |"
      ]
     },
     "metadata": {},
     "output_type": "display_data"
    },
    {
     "data": {
      "text/html": [
       "<pre>| 242       | 146541.931...| 0.441944      |</pre>"
      ],
      "text/plain": [
       "| 242       | 146541.931...| 0.441944      |"
      ]
     },
     "metadata": {},
     "output_type": "display_data"
    },
    {
     "data": {
      "text/html": [
       "<pre>| 243       | 147142.128...| 0.441895      |</pre>"
      ],
      "text/plain": [
       "| 243       | 147142.128...| 0.441895      |"
      ]
     },
     "metadata": {},
     "output_type": "display_data"
    },
    {
     "data": {
      "text/html": [
       "<pre>| 244       | 147782.670...| 0.441854      |</pre>"
      ],
      "text/plain": [
       "| 244       | 147782.670...| 0.441854      |"
      ]
     },
     "metadata": {},
     "output_type": "display_data"
    },
    {
     "data": {
      "text/html": [
       "<pre>| 245       | 148402.958...| 0.441810      |</pre>"
      ],
      "text/plain": [
       "| 245       | 148402.958...| 0.441810      |"
      ]
     },
     "metadata": {},
     "output_type": "display_data"
    },
    {
     "data": {
      "text/html": [
       "<pre>| 246       | 149013.096...| 0.441765      |</pre>"
      ],
      "text/plain": [
       "| 246       | 149013.096...| 0.441765      |"
      ]
     },
     "metadata": {},
     "output_type": "display_data"
    },
    {
     "data": {
      "text/html": [
       "<pre>| 247       | 149624.820...| 0.441715      |</pre>"
      ],
      "text/plain": [
       "| 247       | 149624.820...| 0.441715      |"
      ]
     },
     "metadata": {},
     "output_type": "display_data"
    },
    {
     "data": {
      "text/html": [
       "<pre>| 248       | 150266.944...| 0.441664      |</pre>"
      ],
      "text/plain": [
       "| 248       | 150266.944...| 0.441664      |"
      ]
     },
     "metadata": {},
     "output_type": "display_data"
    },
    {
     "data": {
      "text/html": [
       "<pre>| 249       | 150863.596...| 0.441644      |</pre>"
      ],
      "text/plain": [
       "| 249       | 150863.596...| 0.441644      |"
      ]
     },
     "metadata": {},
     "output_type": "display_data"
    },
    {
     "data": {
      "text/html": [
       "<pre>| 250       | 151479.802...| 0.441611      |</pre>"
      ],
      "text/plain": [
       "| 250       | 151479.802...| 0.441611      |"
      ]
     },
     "metadata": {},
     "output_type": "display_data"
    },
    {
     "data": {
      "text/html": [
       "<pre>| 251       | 152059.709...| 0.441596      |</pre>"
      ],
      "text/plain": [
       "| 251       | 152059.709...| 0.441596      |"
      ]
     },
     "metadata": {},
     "output_type": "display_data"
    },
    {
     "data": {
      "text/html": [
       "<pre>| 252       | 152675.315...| 0.441543      |</pre>"
      ],
      "text/plain": [
       "| 252       | 152675.315...| 0.441543      |"
      ]
     },
     "metadata": {},
     "output_type": "display_data"
    },
    {
     "data": {
      "text/html": [
       "<pre>| 253       | 153277.927...| 0.441512      |</pre>"
      ],
      "text/plain": [
       "| 253       | 153277.927...| 0.441512      |"
      ]
     },
     "metadata": {},
     "output_type": "display_data"
    },
    {
     "data": {
      "text/html": [
       "<pre>| 254       | 153879.988...| 0.441469      |</pre>"
      ],
      "text/plain": [
       "| 254       | 153879.988...| 0.441469      |"
      ]
     },
     "metadata": {},
     "output_type": "display_data"
    },
    {
     "data": {
      "text/html": [
       "<pre>| 255       | 154483.783...| 0.441439      |</pre>"
      ],
      "text/plain": [
       "| 255       | 154483.783...| 0.441439      |"
      ]
     },
     "metadata": {},
     "output_type": "display_data"
    },
    {
     "data": {
      "text/html": [
       "<pre>| 256       | 155107.930...| 0.441408      |</pre>"
      ],
      "text/plain": [
       "| 256       | 155107.930...| 0.441408      |"
      ]
     },
     "metadata": {},
     "output_type": "display_data"
    },
    {
     "data": {
      "text/html": [
       "<pre>| 257       | 155686.834...| 0.441394      |</pre>"
      ],
      "text/plain": [
       "| 257       | 155686.834...| 0.441394      |"
      ]
     },
     "metadata": {},
     "output_type": "display_data"
    },
    {
     "data": {
      "text/html": [
       "<pre>| 258       | 156308.949...| 0.441364      |</pre>"
      ],
      "text/plain": [
       "| 258       | 156308.949...| 0.441364      |"
      ]
     },
     "metadata": {},
     "output_type": "display_data"
    },
    {
     "data": {
      "text/html": [
       "<pre>| 259       | 156930.462...| 0.441323      |</pre>"
      ],
      "text/plain": [
       "| 259       | 156930.462...| 0.441323      |"
      ]
     },
     "metadata": {},
     "output_type": "display_data"
    },
    {
     "data": {
      "text/html": [
       "<pre>| 260       | 157529.918...| 0.441293      |</pre>"
      ],
      "text/plain": [
       "| 260       | 157529.918...| 0.441293      |"
      ]
     },
     "metadata": {},
     "output_type": "display_data"
    },
    {
     "data": {
      "text/html": [
       "<pre>| 261       | 158145.546...| 0.441265      |</pre>"
      ],
      "text/plain": [
       "| 261       | 158145.546...| 0.441265      |"
      ]
     },
     "metadata": {},
     "output_type": "display_data"
    },
    {
     "data": {
      "text/html": [
       "<pre>| 262       | 158754.823...| 0.441217      |</pre>"
      ],
      "text/plain": [
       "| 262       | 158754.823...| 0.441217      |"
      ]
     },
     "metadata": {},
     "output_type": "display_data"
    }
   ],
   "source": [
    "# Make a train-test split\n",
    "# train_data, test_data = train.random_split(0.9)\n",
    "\n",
    "# Create a model.\n",
    "model = gl.boosted_trees_regression.create(train, target='Demada_log',\n",
    "                                           step_size=0.1,\n",
    "                                           max_iterations=500,\n",
    "                                           max_depth = 10,\n",
    "                                          metric='rmse',\n",
    "                                          random_seed=321,\n",
    "                                          column_subsample=0.7,\n",
    "                                          row_subsample=0.85,\n",
    "                                          validation_set=None,\n",
    "                                          model_checkpoint_path=path,\n",
    "                                          model_checkpoint_interval=100)\n",
    "\n",
    "# Save predictions to an SArray\n",
    "predictions = model.predict(train)\n",
    "\n",
    "# Evaluate the model and save the results into a dictionary\n",
    "results = model.evaluate(train)\n"
   ]
  },
  {
   "cell_type": "code",
   "execution_count": 31,
   "metadata": {
    "collapsed": false
   },
   "outputs": [
    {
     "name": "stdout",
     "output_type": "stream",
     "text": [
      "{'max_error': 6.058466911315918, 'rmse': 0.45040038110628317}\n"
     ]
    }
   ],
   "source": [
    "print results"
   ]
  },
  {
   "cell_type": "code",
   "execution_count": 59,
   "metadata": {
    "collapsed": false
   },
   "outputs": [
    {
     "name": "stdout",
     "output_type": "stream",
     "text": [
      "{'max_error': 6.358242511749268, 'rmse': 0.4470555577201293}\n"
     ]
    }
   ],
   "source": [
    "train_rmse = model.evaluate(train)\n",
    "print train_rmse"
   ]
  },
  {
   "cell_type": "code",
   "execution_count": 36,
   "metadata": {
    "collapsed": false
   },
   "outputs": [
    {
     "name": "stdout",
     "output_type": "stream",
     "text": [
      "Class                          : BoostedTreesRegression\n",
      "\n",
      "Schema\n",
      "------\n",
      "Number of examples             : 17797989\n",
      "Number of feature columns      : 21\n",
      "Number of unpacked features    : 21\n",
      "\n",
      "Settings\n",
      "--------\n",
      "Number of trees                : 200\n",
      "Max tree depth                 : 10\n",
      "Training time (sec)            : 11956.8374\n",
      "Training rmse                  : 0.4465\n",
      "Validation rmse                : 0.4507\n",
      "\n"
     ]
    }
   ],
   "source": [
    "model.summary()"
   ]
  },
  {
   "cell_type": "code",
   "execution_count": null,
   "metadata": {
    "collapsed": true
   },
   "outputs": [],
   "source": []
  },
  {
   "cell_type": "code",
   "execution_count": 38,
   "metadata": {
    "collapsed": true
   },
   "outputs": [],
   "source": [
    "test = gl.SFrame.read_csv(path + 'test_lag5.csv', verbose=False)\n",
    "test = test.join(town, on=['Agencia_ID','Producto_ID'], how='left')\n",
    "del test['Town']\n",
    "test = test.fillna('t_c',1)\n",
    "test = test.fillna('tcc',0)\n",
    "test = test.fillna('tp_sum',0)"
   ]
  },
  {
   "cell_type": "code",
   "execution_count": 41,
   "metadata": {
    "collapsed": false
   },
   "outputs": [],
   "source": [
    "ids = test['id']"
   ]
  },
  {
   "cell_type": "code",
   "execution_count": 44,
   "metadata": {
    "collapsed": false,
    "scrolled": false
   },
   "outputs": [],
   "source": [
    "del test['id']"
   ]
  },
  {
   "cell_type": "code",
   "execution_count": 45,
   "metadata": {
    "collapsed": true
   },
   "outputs": [],
   "source": [
    "demand_log = model.predict(test)"
   ]
  },
  {
   "cell_type": "code",
   "execution_count": 49,
   "metadata": {
    "collapsed": true
   },
   "outputs": [],
   "source": [
    "sub = gl.SFrame({'id':ids,'Demanda_uni_equil':demand_log})"
   ]
  },
  {
   "cell_type": "code",
   "execution_count": 50,
   "metadata": {
    "collapsed": false
   },
   "outputs": [],
   "source": [
    "\n",
    "sub['Demanda_uni_equil'] = sub['Demanda_uni_equil'].apply(lambda x: expm1(math.max(0, x)))"
   ]
  },
  {
   "cell_type": "code",
   "execution_count": 54,
   "metadata": {
    "collapsed": false
   },
   "outputs": [],
   "source": [
    "sub = sub.sort('id')"
   ]
  },
  {
   "cell_type": "code",
   "execution_count": 55,
   "metadata": {
    "collapsed": false
   },
   "outputs": [
    {
     "data": {
      "text/html": [
       "<div style=\"max-height:1000px;max-width:1500px;overflow:auto;\"><table frame=\"box\" rules=\"cols\">\n",
       "    <tr>\n",
       "        <th style=\"padding-left: 1em; padding-right: 1em; text-align: center\">Demanda_uni_equil</th>\n",
       "        <th style=\"padding-left: 1em; padding-right: 1em; text-align: center\">id</th>\n",
       "    </tr>\n",
       "    <tr>\n",
       "        <td style=\"padding-left: 1em; padding-right: 1em; text-align: center; vertical-align: top\">3.0620377682</td>\n",
       "        <td style=\"padding-left: 1em; padding-right: 1em; text-align: center; vertical-align: top\">0</td>\n",
       "    </tr>\n",
       "    <tr>\n",
       "        <td style=\"padding-left: 1em; padding-right: 1em; text-align: center; vertical-align: top\">1.21354618384</td>\n",
       "        <td style=\"padding-left: 1em; padding-right: 1em; text-align: center; vertical-align: top\">1</td>\n",
       "    </tr>\n",
       "    <tr>\n",
       "        <td style=\"padding-left: 1em; padding-right: 1em; text-align: center; vertical-align: top\">1.94959367403</td>\n",
       "        <td style=\"padding-left: 1em; padding-right: 1em; text-align: center; vertical-align: top\">2</td>\n",
       "    </tr>\n",
       "    <tr>\n",
       "        <td style=\"padding-left: 1em; padding-right: 1em; text-align: center; vertical-align: top\">1.23797419459</td>\n",
       "        <td style=\"padding-left: 1em; padding-right: 1em; text-align: center; vertical-align: top\">3</td>\n",
       "    </tr>\n",
       "    <tr>\n",
       "        <td style=\"padding-left: 1em; padding-right: 1em; text-align: center; vertical-align: top\">0.882530603051</td>\n",
       "        <td style=\"padding-left: 1em; padding-right: 1em; text-align: center; vertical-align: top\">4</td>\n",
       "    </tr>\n",
       "    <tr>\n",
       "        <td style=\"padding-left: 1em; padding-right: 1em; text-align: center; vertical-align: top\">2.78527065495</td>\n",
       "        <td style=\"padding-left: 1em; padding-right: 1em; text-align: center; vertical-align: top\">5</td>\n",
       "    </tr>\n",
       "    <tr>\n",
       "        <td style=\"padding-left: 1em; padding-right: 1em; text-align: center; vertical-align: top\">2.00794776168</td>\n",
       "        <td style=\"padding-left: 1em; padding-right: 1em; text-align: center; vertical-align: top\">6</td>\n",
       "    </tr>\n",
       "    <tr>\n",
       "        <td style=\"padding-left: 1em; padding-right: 1em; text-align: center; vertical-align: top\">4.68473360299</td>\n",
       "        <td style=\"padding-left: 1em; padding-right: 1em; text-align: center; vertical-align: top\">7</td>\n",
       "    </tr>\n",
       "    <tr>\n",
       "        <td style=\"padding-left: 1em; padding-right: 1em; text-align: center; vertical-align: top\">5.94600461232</td>\n",
       "        <td style=\"padding-left: 1em; padding-right: 1em; text-align: center; vertical-align: top\">8</td>\n",
       "    </tr>\n",
       "    <tr>\n",
       "        <td style=\"padding-left: 1em; padding-right: 1em; text-align: center; vertical-align: top\">6.09402805545</td>\n",
       "        <td style=\"padding-left: 1em; padding-right: 1em; text-align: center; vertical-align: top\">9</td>\n",
       "    </tr>\n",
       "</table>\n",
       "[6999251 rows x 2 columns]<br/>Note: Only the head of the SFrame is printed.<br/>You can use print_rows(num_rows=m, num_columns=n) to print more rows and columns.\n",
       "</div>"
      ],
      "text/plain": [
       "Columns:\n",
       "\tDemanda_uni_equil\tfloat\n",
       "\tid\tint\n",
       "\n",
       "Rows: 6999251\n",
       "\n",
       "Data:\n",
       "+-------------------+----+\n",
       "| Demanda_uni_equil | id |\n",
       "+-------------------+----+\n",
       "|    3.0620377682   | 0  |\n",
       "|   1.21354618384   | 1  |\n",
       "|   1.94959367403   | 2  |\n",
       "|   1.23797419459   | 3  |\n",
       "|   0.882530603051  | 4  |\n",
       "|   2.78527065495   | 5  |\n",
       "|   2.00794776168   | 6  |\n",
       "|   4.68473360299   | 7  |\n",
       "|   5.94600461232   | 8  |\n",
       "|   6.09402805545   | 9  |\n",
       "+-------------------+----+\n",
       "[6999251 rows x 2 columns]\n",
       "Note: Only the head of the SFrame is printed.\n",
       "You can use print_rows(num_rows=m, num_columns=n) to print more rows and columns."
      ]
     },
     "execution_count": 55,
     "metadata": {},
     "output_type": "execute_result"
    }
   ],
   "source": [
    "sub"
   ]
  },
  {
   "cell_type": "code",
   "execution_count": 56,
   "metadata": {
    "collapsed": true
   },
   "outputs": [],
   "source": [
    "sub.save(path+'gbrt_sub2.csv',format='csv')"
   ]
  },
  {
   "cell_type": "code",
   "execution_count": null,
   "metadata": {
    "collapsed": true
   },
   "outputs": [],
   "source": []
  }
 ],
 "metadata": {
  "kernelspec": {
   "display_name": "Python 2",
   "language": "python",
   "name": "python2"
  },
  "language_info": {
   "codemirror_mode": {
    "name": "ipython",
    "version": 2
   },
   "file_extension": ".py",
   "mimetype": "text/x-python",
   "name": "python",
   "nbconvert_exporter": "python",
   "pygments_lexer": "ipython2",
   "version": "2.7.6"
  }
 },
 "nbformat": 4,
 "nbformat_minor": 0
}
