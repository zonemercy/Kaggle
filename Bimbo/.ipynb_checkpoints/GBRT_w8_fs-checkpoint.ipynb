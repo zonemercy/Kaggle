{
 "cells": [
  {
   "cell_type": "code",
   "execution_count": 1,
   "metadata": {
    "collapsed": true
   },
   "outputs": [],
   "source": [
    "import pandas as pd\n",
    "import numpy as np\n",
    "import os\n",
    "import math\n",
    "import graphlab\n",
    "import graphlab as gl\n",
    "import graphlab.aggregate as agg"
   ]
  },
  {
   "cell_type": "code",
   "execution_count": 2,
   "metadata": {
    "collapsed": true
   },
   "outputs": [],
   "source": [
    "'''钢炮'''\n",
    "path = '/home/zongyi/bimbo_data/'"
   ]
  },
  {
   "cell_type": "code",
   "execution_count": 4,
   "metadata": {
    "collapsed": false
   },
   "outputs": [],
   "source": [
    "train = gl.SFrame.read_csv(path + 'train_fs_w8.csv', verbose=False)"
   ]
  },
  {
   "cell_type": "code",
   "execution_count": 5,
   "metadata": {
    "collapsed": false
   },
   "outputs": [],
   "source": [
    "# town = gl.SFrame.read_csv(path + 'towns.csv', verbose=False)\n",
    "# train = train.join(town, on=['Agencia_ID','Producto_ID'], how='left')\n",
    "# train = train.fillna('t_c',1)\n",
    "# train = train.fillna('tcc',0)\n",
    "# train = train.fillna('tp_sum',0)\n",
    "# del train['Town']"
   ]
  },
  {
   "cell_type": "code",
   "execution_count": 7,
   "metadata": {
    "collapsed": true
   },
   "outputs": [],
   "source": [
    "# relag_train = gl.SFrame.read_csv(path + 're_lag_train.csv', verbose=False)\n",
    "# train = train.join(relag_train, on=['Cliente_ID','Producto_ID','Semana'], how='left')\n",
    "# train = train.fillna('re_lag1',0)\n",
    "# train = train.fillna('re_lag2',0)\n",
    "# train = train.fillna('re_lag3',0)\n",
    "# train = train.fillna('re_lag4',0)\n",
    "# train = train.fillna('re_lag5',0)\n",
    "# del relag_train"
   ]
  },
  {
   "cell_type": "code",
   "execution_count": 8,
   "metadata": {
    "collapsed": true
   },
   "outputs": [],
   "source": [
    "# pd = gl.SFrame.read_csv(path + 'products.csv', verbose=False)\n",
    "# train = train.join(pd, on=['Producto_ID'], how='left')\n",
    "# train = train.fillna('prom',0)\n",
    "# train = train.fillna('weight',0)\n",
    "# train = train.fillna('pieces',1)\n",
    "# train = train.fillna('w_per_piece',0)\n",
    "# train = train.fillna('healthy',0)\n",
    "# train = train.fillna('drink',0)\n",
    "# del train['brand']\n",
    "# del train['NombreProducto']\n",
    "# del pd"
   ]
  },
  {
   "cell_type": "code",
   "execution_count": 9,
   "metadata": {
    "collapsed": true
   },
   "outputs": [],
   "source": [
    "# client = gl.SFrame.read_csv(path + 'clients.csv', verbose=False)\n",
    "# train = train.join(client, on=['Cliente_ID'], how='left')\n",
    "# del client"
   ]
  },
  {
   "cell_type": "code",
   "execution_count": 5,
   "metadata": {
    "collapsed": false
   },
   "outputs": [],
   "source": [
    "# del train['prior_sum']\n",
    "del train['lag_sum']\n",
    "# del train['week_times']\n",
    "# del train['Semana']"
   ]
  },
  {
   "cell_type": "code",
   "execution_count": 7,
   "metadata": {
    "collapsed": true
   },
   "outputs": [],
   "source": [
    "del train['n_t']"
   ]
  },
  {
   "cell_type": "code",
   "execution_count": 8,
   "metadata": {
    "collapsed": false
   },
   "outputs": [
    {
     "name": "stdout",
     "output_type": "stream",
     "text": [
      "['Agencia_ID', 'Ruta_SAK', 'Cliente_ID', 'Producto_ID', 'Demada_log', 'lag1', 'lag2', 'lag3', 'lag4', 'lag5', 'week_times', 'prior_sum', 'n_a', 'n_r', 'n_c', 'n_p', 'Town', 't_c', 'tcc', 'tp_sum', 're_sum', 'p_clt', 'weight', 'pieces', 'w_per_piece', 'price', 'c_clt']\n",
      "27\n"
     ]
    }
   ],
   "source": [
    "print train.column_names()\n",
    "print len(train.column_names())"
   ]
  },
  {
   "cell_type": "code",
   "execution_count": 9,
   "metadata": {
    "collapsed": false,
    "scrolled": true
   },
   "outputs": [
    {
     "data": {
      "text/html": [
       "<pre>Boosted trees regression:</pre>"
      ],
      "text/plain": [
       "Boosted trees regression:"
      ]
     },
     "metadata": {},
     "output_type": "display_data"
    },
    {
     "data": {
      "text/html": [
       "<pre>--------------------------------------------------------</pre>"
      ],
      "text/plain": [
       "--------------------------------------------------------"
      ]
     },
     "metadata": {},
     "output_type": "display_data"
    },
    {
     "data": {
      "text/html": [
       "<pre>Number of examples          : 10406868</pre>"
      ],
      "text/plain": [
       "Number of examples          : 10406868"
      ]
     },
     "metadata": {},
     "output_type": "display_data"
    },
    {
     "data": {
      "text/html": [
       "<pre>Number of features          : 26</pre>"
      ],
      "text/plain": [
       "Number of features          : 26"
      ]
     },
     "metadata": {},
     "output_type": "display_data"
    },
    {
     "data": {
      "text/html": [
       "<pre>Number of unpacked features : 26</pre>"
      ],
      "text/plain": [
       "Number of unpacked features : 26"
      ]
     },
     "metadata": {},
     "output_type": "display_data"
    },
    {
     "data": {
      "text/html": [
       "<pre>+-----------+--------------+---------------+</pre>"
      ],
      "text/plain": [
       "+-----------+--------------+---------------+"
      ]
     },
     "metadata": {},
     "output_type": "display_data"
    },
    {
     "data": {
      "text/html": [
       "<pre>| Iteration | Elapsed Time | Training-rmse |</pre>"
      ],
      "text/plain": [
       "| Iteration | Elapsed Time | Training-rmse |"
      ]
     },
     "metadata": {},
     "output_type": "display_data"
    },
    {
     "data": {
      "text/html": [
       "<pre>+-----------+--------------+---------------+</pre>"
      ],
      "text/plain": [
       "+-----------+--------------+---------------+"
      ]
     },
     "metadata": {},
     "output_type": "display_data"
    },
    {
     "data": {
      "text/html": [
       "<pre>| 1         | 36.213101    | 1.266761      |</pre>"
      ],
      "text/plain": [
       "| 1         | 36.213101    | 1.266761      |"
      ]
     },
     "metadata": {},
     "output_type": "display_data"
    },
    {
     "data": {
      "text/html": [
       "<pre>| 2         | 69.869146    | 1.160992      |</pre>"
      ],
      "text/plain": [
       "| 2         | 69.869146    | 1.160992      |"
      ]
     },
     "metadata": {},
     "output_type": "display_data"
    },
    {
     "data": {
      "text/html": [
       "<pre>| 3         | 102.454911   | 1.067435      |</pre>"
      ],
      "text/plain": [
       "| 3         | 102.454911   | 1.067435      |"
      ]
     },
     "metadata": {},
     "output_type": "display_data"
    },
    {
     "data": {
      "text/html": [
       "<pre>| 4         | 139.018317   | 0.985229      |</pre>"
      ],
      "text/plain": [
       "| 4         | 139.018317   | 0.985229      |"
      ]
     },
     "metadata": {},
     "output_type": "display_data"
    },
    {
     "data": {
      "text/html": [
       "<pre>| 5         | 171.412345   | 0.913971      |</pre>"
      ],
      "text/plain": [
       "| 5         | 171.412345   | 0.913971      |"
      ]
     },
     "metadata": {},
     "output_type": "display_data"
    },
    {
     "data": {
      "text/html": [
       "<pre>| 6         | 201.474416   | 0.850190      |</pre>"
      ],
      "text/plain": [
       "| 6         | 201.474416   | 0.850190      |"
      ]
     },
     "metadata": {},
     "output_type": "display_data"
    },
    {
     "data": {
      "text/html": [
       "<pre>| 7         | 234.082457   | 0.794095      |</pre>"
      ],
      "text/plain": [
       "| 7         | 234.082457   | 0.794095      |"
      ]
     },
     "metadata": {},
     "output_type": "display_data"
    },
    {
     "data": {
      "text/html": [
       "<pre>| 8         | 266.169192   | 0.744971      |</pre>"
      ],
      "text/plain": [
       "| 8         | 266.169192   | 0.744971      |"
      ]
     },
     "metadata": {},
     "output_type": "display_data"
    },
    {
     "data": {
      "text/html": [
       "<pre>| 9         | 299.507500   | 0.702752      |</pre>"
      ],
      "text/plain": [
       "| 9         | 299.507500   | 0.702752      |"
      ]
     },
     "metadata": {},
     "output_type": "display_data"
    },
    {
     "data": {
      "text/html": [
       "<pre>| 10        | 331.253865   | 0.666530      |</pre>"
      ],
      "text/plain": [
       "| 10        | 331.253865   | 0.666530      |"
      ]
     },
     "metadata": {},
     "output_type": "display_data"
    },
    {
     "data": {
      "text/html": [
       "<pre>| 11        | 361.573010   | 0.635953      |</pre>"
      ],
      "text/plain": [
       "| 11        | 361.573010   | 0.635953      |"
      ]
     },
     "metadata": {},
     "output_type": "display_data"
    },
    {
     "data": {
      "text/html": [
       "<pre>| 12        | 395.159775   | 0.609914      |</pre>"
      ],
      "text/plain": [
       "| 12        | 395.159775   | 0.609914      |"
      ]
     },
     "metadata": {},
     "output_type": "display_data"
    },
    {
     "data": {
      "text/html": [
       "<pre>| 13        | 428.551260   | 0.587116      |</pre>"
      ],
      "text/plain": [
       "| 13        | 428.551260   | 0.587116      |"
      ]
     },
     "metadata": {},
     "output_type": "display_data"
    },
    {
     "data": {
      "text/html": [
       "<pre>| 14        | 460.934803   | 0.568120      |</pre>"
      ],
      "text/plain": [
       "| 14        | 460.934803   | 0.568120      |"
      ]
     },
     "metadata": {},
     "output_type": "display_data"
    },
    {
     "data": {
      "text/html": [
       "<pre>| 15        | 491.865001   | 0.551646      |</pre>"
      ],
      "text/plain": [
       "| 15        | 491.865001   | 0.551646      |"
      ]
     },
     "metadata": {},
     "output_type": "display_data"
    },
    {
     "data": {
      "text/html": [
       "<pre>| 16        | 524.948454   | 0.537632      |</pre>"
      ],
      "text/plain": [
       "| 16        | 524.948454   | 0.537632      |"
      ]
     },
     "metadata": {},
     "output_type": "display_data"
    },
    {
     "data": {
      "text/html": [
       "<pre>| 17        | 558.275770   | 0.526377      |</pre>"
      ],
      "text/plain": [
       "| 17        | 558.275770   | 0.526377      |"
      ]
     },
     "metadata": {},
     "output_type": "display_data"
    },
    {
     "data": {
      "text/html": [
       "<pre>| 18        | 589.109454   | 0.516004      |</pre>"
      ],
      "text/plain": [
       "| 18        | 589.109454   | 0.516004      |"
      ]
     },
     "metadata": {},
     "output_type": "display_data"
    },
    {
     "data": {
      "text/html": [
       "<pre>| 19        | 621.042667   | 0.507701      |</pre>"
      ],
      "text/plain": [
       "| 19        | 621.042667   | 0.507701      |"
      ]
     },
     "metadata": {},
     "output_type": "display_data"
    },
    {
     "data": {
      "text/html": [
       "<pre>| 20        | 651.297185   | 0.500700      |</pre>"
      ],
      "text/plain": [
       "| 20        | 651.297185   | 0.500700      |"
      ]
     },
     "metadata": {},
     "output_type": "display_data"
    },
    {
     "data": {
      "text/html": [
       "<pre>| 21        | 686.513820   | 0.494635      |</pre>"
      ],
      "text/plain": [
       "| 21        | 686.513820   | 0.494635      |"
      ]
     },
     "metadata": {},
     "output_type": "display_data"
    },
    {
     "data": {
      "text/html": [
       "<pre>| 22        | 717.932897   | 0.489542      |</pre>"
      ],
      "text/plain": [
       "| 22        | 717.932897   | 0.489542      |"
      ]
     },
     "metadata": {},
     "output_type": "display_data"
    },
    {
     "data": {
      "text/html": [
       "<pre>| 23        | 751.590143   | 0.485160      |</pre>"
      ],
      "text/plain": [
       "| 23        | 751.590143   | 0.485160      |"
      ]
     },
     "metadata": {},
     "output_type": "display_data"
    },
    {
     "data": {
      "text/html": [
       "<pre>| 24        | 783.644996   | 0.481709      |</pre>"
      ],
      "text/plain": [
       "| 24        | 783.644996   | 0.481709      |"
      ]
     },
     "metadata": {},
     "output_type": "display_data"
    },
    {
     "data": {
      "text/html": [
       "<pre>| 25        | 816.987080   | 0.478679      |</pre>"
      ],
      "text/plain": [
       "| 25        | 816.987080   | 0.478679      |"
      ]
     },
     "metadata": {},
     "output_type": "display_data"
    },
    {
     "data": {
      "text/html": [
       "<pre>| 26        | 848.357660   | 0.476156      |</pre>"
      ],
      "text/plain": [
       "| 26        | 848.357660   | 0.476156      |"
      ]
     },
     "metadata": {},
     "output_type": "display_data"
    },
    {
     "data": {
      "text/html": [
       "<pre>| 27        | 880.878577   | 0.473814      |</pre>"
      ],
      "text/plain": [
       "| 27        | 880.878577   | 0.473814      |"
      ]
     },
     "metadata": {},
     "output_type": "display_data"
    },
    {
     "data": {
      "text/html": [
       "<pre>| 28        | 912.246532   | 0.472053      |</pre>"
      ],
      "text/plain": [
       "| 28        | 912.246532   | 0.472053      |"
      ]
     },
     "metadata": {},
     "output_type": "display_data"
    },
    {
     "data": {
      "text/html": [
       "<pre>| 29        | 944.557304   | 0.470091      |</pre>"
      ],
      "text/plain": [
       "| 29        | 944.557304   | 0.470091      |"
      ]
     },
     "metadata": {},
     "output_type": "display_data"
    },
    {
     "data": {
      "text/html": [
       "<pre>| 30        | 978.949439   | 0.468609      |</pre>"
      ],
      "text/plain": [
       "| 30        | 978.949439   | 0.468609      |"
      ]
     },
     "metadata": {},
     "output_type": "display_data"
    },
    {
     "data": {
      "text/html": [
       "<pre>| 31        | 1010.588069  | 0.467265      |</pre>"
      ],
      "text/plain": [
       "| 31        | 1010.588069  | 0.467265      |"
      ]
     },
     "metadata": {},
     "output_type": "display_data"
    },
    {
     "data": {
      "text/html": [
       "<pre>| 32        | 1043.340364  | 0.465842      |</pre>"
      ],
      "text/plain": [
       "| 32        | 1043.340364  | 0.465842      |"
      ]
     },
     "metadata": {},
     "output_type": "display_data"
    },
    {
     "data": {
      "text/html": [
       "<pre>| 33        | 1074.981766  | 0.464913      |</pre>"
      ],
      "text/plain": [
       "| 33        | 1074.981766  | 0.464913      |"
      ]
     },
     "metadata": {},
     "output_type": "display_data"
    },
    {
     "data": {
      "text/html": [
       "<pre>| 34        | 1106.489368  | 0.464006      |</pre>"
      ],
      "text/plain": [
       "| 34        | 1106.489368  | 0.464006      |"
      ]
     },
     "metadata": {},
     "output_type": "display_data"
    },
    {
     "data": {
      "text/html": [
       "<pre>| 35        | 1141.883192  | 0.463165      |</pre>"
      ],
      "text/plain": [
       "| 35        | 1141.883192  | 0.463165      |"
      ]
     },
     "metadata": {},
     "output_type": "display_data"
    },
    {
     "data": {
      "text/html": [
       "<pre>| 36        | 1174.796601  | 0.462330      |</pre>"
      ],
      "text/plain": [
       "| 36        | 1174.796601  | 0.462330      |"
      ]
     },
     "metadata": {},
     "output_type": "display_data"
    },
    {
     "data": {
      "text/html": [
       "<pre>| 37        | 1207.209942  | 0.461697      |</pre>"
      ],
      "text/plain": [
       "| 37        | 1207.209942  | 0.461697      |"
      ]
     },
     "metadata": {},
     "output_type": "display_data"
    },
    {
     "data": {
      "text/html": [
       "<pre>| 38        | 1239.021429  | 0.461109      |</pre>"
      ],
      "text/plain": [
       "| 38        | 1239.021429  | 0.461109      |"
      ]
     },
     "metadata": {},
     "output_type": "display_data"
    },
    {
     "data": {
      "text/html": [
       "<pre>| 39        | 1273.250798  | 0.460501      |</pre>"
      ],
      "text/plain": [
       "| 39        | 1273.250798  | 0.460501      |"
      ]
     },
     "metadata": {},
     "output_type": "display_data"
    },
    {
     "data": {
      "text/html": [
       "<pre>| 40        | 1306.163476  | 0.460006      |</pre>"
      ],
      "text/plain": [
       "| 40        | 1306.163476  | 0.460006      |"
      ]
     },
     "metadata": {},
     "output_type": "display_data"
    },
    {
     "data": {
      "text/html": [
       "<pre>| 41        | 1338.867829  | 0.459565      |</pre>"
      ],
      "text/plain": [
       "| 41        | 1338.867829  | 0.459565      |"
      ]
     },
     "metadata": {},
     "output_type": "display_data"
    },
    {
     "data": {
      "text/html": [
       "<pre>| 42        | 1371.824114  | 0.459100      |</pre>"
      ],
      "text/plain": [
       "| 42        | 1371.824114  | 0.459100      |"
      ]
     },
     "metadata": {},
     "output_type": "display_data"
    },
    {
     "data": {
      "text/html": [
       "<pre>| 43        | 1404.081056  | 0.458676      |</pre>"
      ],
      "text/plain": [
       "| 43        | 1404.081056  | 0.458676      |"
      ]
     },
     "metadata": {},
     "output_type": "display_data"
    },
    {
     "data": {
      "text/html": [
       "<pre>| 44        | 1438.708553  | 0.458291      |</pre>"
      ],
      "text/plain": [
       "| 44        | 1438.708553  | 0.458291      |"
      ]
     },
     "metadata": {},
     "output_type": "display_data"
    },
    {
     "data": {
      "text/html": [
       "<pre>| 45        | 1473.487966  | 0.457885      |</pre>"
      ],
      "text/plain": [
       "| 45        | 1473.487966  | 0.457885      |"
      ]
     },
     "metadata": {},
     "output_type": "display_data"
    },
    {
     "data": {
      "text/html": [
       "<pre>| 46        | 1506.607967  | 0.457609      |</pre>"
      ],
      "text/plain": [
       "| 46        | 1506.607967  | 0.457609      |"
      ]
     },
     "metadata": {},
     "output_type": "display_data"
    },
    {
     "data": {
      "text/html": [
       "<pre>| 47        | 1540.317590  | 0.457212      |</pre>"
      ],
      "text/plain": [
       "| 47        | 1540.317590  | 0.457212      |"
      ]
     },
     "metadata": {},
     "output_type": "display_data"
    },
    {
     "data": {
      "text/html": [
       "<pre>| 48        | 1574.511117  | 0.456943      |</pre>"
      ],
      "text/plain": [
       "| 48        | 1574.511117  | 0.456943      |"
      ]
     },
     "metadata": {},
     "output_type": "display_data"
    },
    {
     "data": {
      "text/html": [
       "<pre>| 49        | 1607.607612  | 0.456615      |</pre>"
      ],
      "text/plain": [
       "| 49        | 1607.607612  | 0.456615      |"
      ]
     },
     "metadata": {},
     "output_type": "display_data"
    },
    {
     "data": {
      "text/html": [
       "<pre>| 50        | 1640.793749  | 0.456305      |</pre>"
      ],
      "text/plain": [
       "| 50        | 1640.793749  | 0.456305      |"
      ]
     },
     "metadata": {},
     "output_type": "display_data"
    },
    {
     "data": {
      "text/html": [
       "<pre>| 51        | 1675.861757  | 0.455958      |</pre>"
      ],
      "text/plain": [
       "| 51        | 1675.861757  | 0.455958      |"
      ]
     },
     "metadata": {},
     "output_type": "display_data"
    },
    {
     "data": {
      "text/html": [
       "<pre>| 52        | 1708.957376  | 0.455663      |</pre>"
      ],
      "text/plain": [
       "| 52        | 1708.957376  | 0.455663      |"
      ]
     },
     "metadata": {},
     "output_type": "display_data"
    },
    {
     "data": {
      "text/html": [
       "<pre>| 53        | 1744.114581  | 0.455267      |</pre>"
      ],
      "text/plain": [
       "| 53        | 1744.114581  | 0.455267      |"
      ]
     },
     "metadata": {},
     "output_type": "display_data"
    },
    {
     "data": {
      "text/html": [
       "<pre>| 54        | 1775.232796  | 0.455071      |</pre>"
      ],
      "text/plain": [
       "| 54        | 1775.232796  | 0.455071      |"
      ]
     },
     "metadata": {},
     "output_type": "display_data"
    },
    {
     "data": {
      "text/html": [
       "<pre>| 55        | 1810.639830  | 0.454729      |</pre>"
      ],
      "text/plain": [
       "| 55        | 1810.639830  | 0.454729      |"
      ]
     },
     "metadata": {},
     "output_type": "display_data"
    },
    {
     "data": {
      "text/html": [
       "<pre>| 56        | 1843.890298  | 0.454433      |</pre>"
      ],
      "text/plain": [
       "| 56        | 1843.890298  | 0.454433      |"
      ]
     },
     "metadata": {},
     "output_type": "display_data"
    },
    {
     "data": {
      "text/html": [
       "<pre>| 57        | 1879.255757  | 0.454179      |</pre>"
      ],
      "text/plain": [
       "| 57        | 1879.255757  | 0.454179      |"
      ]
     },
     "metadata": {},
     "output_type": "display_data"
    },
    {
     "data": {
      "text/html": [
       "<pre>| 58        | 1909.012870  | 0.454037      |</pre>"
      ],
      "text/plain": [
       "| 58        | 1909.012870  | 0.454037      |"
      ]
     },
     "metadata": {},
     "output_type": "display_data"
    },
    {
     "data": {
      "text/html": [
       "<pre>| 59        | 1943.134295  | 0.453839      |</pre>"
      ],
      "text/plain": [
       "| 59        | 1943.134295  | 0.453839      |"
      ]
     },
     "metadata": {},
     "output_type": "display_data"
    },
    {
     "data": {
      "text/html": [
       "<pre>| 60        | 1977.780701  | 0.453675      |</pre>"
      ],
      "text/plain": [
       "| 60        | 1977.780701  | 0.453675      |"
      ]
     },
     "metadata": {},
     "output_type": "display_data"
    },
    {
     "data": {
      "text/html": [
       "<pre>| 61        | 2008.837664  | 0.453476      |</pre>"
      ],
      "text/plain": [
       "| 61        | 2008.837664  | 0.453476      |"
      ]
     },
     "metadata": {},
     "output_type": "display_data"
    },
    {
     "data": {
      "text/html": [
       "<pre>| 62        | 2042.103756  | 0.453258      |</pre>"
      ],
      "text/plain": [
       "| 62        | 2042.103756  | 0.453258      |"
      ]
     },
     "metadata": {},
     "output_type": "display_data"
    },
    {
     "data": {
      "text/html": [
       "<pre>| 63        | 2076.142079  | 0.453068      |</pre>"
      ],
      "text/plain": [
       "| 63        | 2076.142079  | 0.453068      |"
      ]
     },
     "metadata": {},
     "output_type": "display_data"
    },
    {
     "data": {
      "text/html": [
       "<pre>| 64        | 2109.903135  | 0.452910      |</pre>"
      ],
      "text/plain": [
       "| 64        | 2109.903135  | 0.452910      |"
      ]
     },
     "metadata": {},
     "output_type": "display_data"
    },
    {
     "data": {
      "text/html": [
       "<pre>| 65        | 2144.195186  | 0.452714      |</pre>"
      ],
      "text/plain": [
       "| 65        | 2144.195186  | 0.452714      |"
      ]
     },
     "metadata": {},
     "output_type": "display_data"
    },
    {
     "data": {
      "text/html": [
       "<pre>| 66        | 2179.085723  | 0.452558      |</pre>"
      ],
      "text/plain": [
       "| 66        | 2179.085723  | 0.452558      |"
      ]
     },
     "metadata": {},
     "output_type": "display_data"
    },
    {
     "data": {
      "text/html": [
       "<pre>| 67        | 2213.313941  | 0.452401      |</pre>"
      ],
      "text/plain": [
       "| 67        | 2213.313941  | 0.452401      |"
      ]
     },
     "metadata": {},
     "output_type": "display_data"
    },
    {
     "data": {
      "text/html": [
       "<pre>| 68        | 2246.535962  | 0.452216      |</pre>"
      ],
      "text/plain": [
       "| 68        | 2246.535962  | 0.452216      |"
      ]
     },
     "metadata": {},
     "output_type": "display_data"
    },
    {
     "data": {
      "text/html": [
       "<pre>| 69        | 2279.753345  | 0.452037      |</pre>"
      ],
      "text/plain": [
       "| 69        | 2279.753345  | 0.452037      |"
      ]
     },
     "metadata": {},
     "output_type": "display_data"
    },
    {
     "data": {
      "text/html": [
       "<pre>| 70        | 2311.884542  | 0.451881      |</pre>"
      ],
      "text/plain": [
       "| 70        | 2311.884542  | 0.451881      |"
      ]
     },
     "metadata": {},
     "output_type": "display_data"
    },
    {
     "data": {
      "text/html": [
       "<pre>| 71        | 2344.735998  | 0.451737      |</pre>"
      ],
      "text/plain": [
       "| 71        | 2344.735998  | 0.451737      |"
      ]
     },
     "metadata": {},
     "output_type": "display_data"
    },
    {
     "data": {
      "text/html": [
       "<pre>| 72        | 2378.750824  | 0.451582      |</pre>"
      ],
      "text/plain": [
       "| 72        | 2378.750824  | 0.451582      |"
      ]
     },
     "metadata": {},
     "output_type": "display_data"
    },
    {
     "data": {
      "text/html": [
       "<pre>| 73        | 2413.237267  | 0.451426      |</pre>"
      ],
      "text/plain": [
       "| 73        | 2413.237267  | 0.451426      |"
      ]
     },
     "metadata": {},
     "output_type": "display_data"
    },
    {
     "data": {
      "text/html": [
       "<pre>| 74        | 2444.542676  | 0.451288      |</pre>"
      ],
      "text/plain": [
       "| 74        | 2444.542676  | 0.451288      |"
      ]
     },
     "metadata": {},
     "output_type": "display_data"
    },
    {
     "data": {
      "text/html": [
       "<pre>| 75        | 2478.430018  | 0.451154      |</pre>"
      ],
      "text/plain": [
       "| 75        | 2478.430018  | 0.451154      |"
      ]
     },
     "metadata": {},
     "output_type": "display_data"
    },
    {
     "data": {
      "text/html": [
       "<pre>| 76        | 2511.815951  | 0.451034      |</pre>"
      ],
      "text/plain": [
       "| 76        | 2511.815951  | 0.451034      |"
      ]
     },
     "metadata": {},
     "output_type": "display_data"
    },
    {
     "data": {
      "text/html": [
       "<pre>| 77        | 2545.653780  | 0.450917      |</pre>"
      ],
      "text/plain": [
       "| 77        | 2545.653780  | 0.450917      |"
      ]
     },
     "metadata": {},
     "output_type": "display_data"
    },
    {
     "data": {
      "text/html": [
       "<pre>| 78        | 2580.405128  | 0.450712      |</pre>"
      ],
      "text/plain": [
       "| 78        | 2580.405128  | 0.450712      |"
      ]
     },
     "metadata": {},
     "output_type": "display_data"
    },
    {
     "data": {
      "text/html": [
       "<pre>| 79        | 2611.969493  | 0.450569      |</pre>"
      ],
      "text/plain": [
       "| 79        | 2611.969493  | 0.450569      |"
      ]
     },
     "metadata": {},
     "output_type": "display_data"
    },
    {
     "data": {
      "text/html": [
       "<pre>| 80        | 2645.097519  | 0.450470      |</pre>"
      ],
      "text/plain": [
       "| 80        | 2645.097519  | 0.450470      |"
      ]
     },
     "metadata": {},
     "output_type": "display_data"
    },
    {
     "data": {
      "text/html": [
       "<pre>| 81        | 2682.155846  | 0.450279      |</pre>"
      ],
      "text/plain": [
       "| 81        | 2682.155846  | 0.450279      |"
      ]
     },
     "metadata": {},
     "output_type": "display_data"
    },
    {
     "data": {
      "text/html": [
       "<pre>| 82        | 2714.956785  | 0.450184      |</pre>"
      ],
      "text/plain": [
       "| 82        | 2714.956785  | 0.450184      |"
      ]
     },
     "metadata": {},
     "output_type": "display_data"
    },
    {
     "data": {
      "text/html": [
       "<pre>| 83        | 2746.261091  | 0.450022      |</pre>"
      ],
      "text/plain": [
       "| 83        | 2746.261091  | 0.450022      |"
      ]
     },
     "metadata": {},
     "output_type": "display_data"
    },
    {
     "data": {
      "text/html": [
       "<pre>| 84        | 2778.048473  | 0.449912      |</pre>"
      ],
      "text/plain": [
       "| 84        | 2778.048473  | 0.449912      |"
      ]
     },
     "metadata": {},
     "output_type": "display_data"
    },
    {
     "data": {
      "text/html": [
       "<pre>| 85        | 2811.065730  | 0.449777      |</pre>"
      ],
      "text/plain": [
       "| 85        | 2811.065730  | 0.449777      |"
      ]
     },
     "metadata": {},
     "output_type": "display_data"
    },
    {
     "data": {
      "text/html": [
       "<pre>| 86        | 2842.662669  | 0.449633      |</pre>"
      ],
      "text/plain": [
       "| 86        | 2842.662669  | 0.449633      |"
      ]
     },
     "metadata": {},
     "output_type": "display_data"
    },
    {
     "data": {
      "text/html": [
       "<pre>| 87        | 2874.547814  | 0.449543      |</pre>"
      ],
      "text/plain": [
       "| 87        | 2874.547814  | 0.449543      |"
      ]
     },
     "metadata": {},
     "output_type": "display_data"
    },
    {
     "data": {
      "text/html": [
       "<pre>| 88        | 2909.998280  | 0.449396      |</pre>"
      ],
      "text/plain": [
       "| 88        | 2909.998280  | 0.449396      |"
      ]
     },
     "metadata": {},
     "output_type": "display_data"
    },
    {
     "data": {
      "text/html": [
       "<pre>| 89        | 2941.666856  | 0.449289      |</pre>"
      ],
      "text/plain": [
       "| 89        | 2941.666856  | 0.449289      |"
      ]
     },
     "metadata": {},
     "output_type": "display_data"
    },
    {
     "data": {
      "text/html": [
       "<pre>| 90        | 2976.456026  | 0.449197      |</pre>"
      ],
      "text/plain": [
       "| 90        | 2976.456026  | 0.449197      |"
      ]
     },
     "metadata": {},
     "output_type": "display_data"
    },
    {
     "data": {
      "text/html": [
       "<pre>| 91        | 3009.154018  | 0.449072      |</pre>"
      ],
      "text/plain": [
       "| 91        | 3009.154018  | 0.449072      |"
      ]
     },
     "metadata": {},
     "output_type": "display_data"
    },
    {
     "data": {
      "text/html": [
       "<pre>| 92        | 3043.123803  | 0.448938      |</pre>"
      ],
      "text/plain": [
       "| 92        | 3043.123803  | 0.448938      |"
      ]
     },
     "metadata": {},
     "output_type": "display_data"
    },
    {
     "data": {
      "text/html": [
       "<pre>| 93        | 3077.016713  | 0.448819      |</pre>"
      ],
      "text/plain": [
       "| 93        | 3077.016713  | 0.448819      |"
      ]
     },
     "metadata": {},
     "output_type": "display_data"
    },
    {
     "data": {
      "text/html": [
       "<pre>| 94        | 3112.608115  | 0.448703      |</pre>"
      ],
      "text/plain": [
       "| 94        | 3112.608115  | 0.448703      |"
      ]
     },
     "metadata": {},
     "output_type": "display_data"
    },
    {
     "data": {
      "text/html": [
       "<pre>| 95        | 3144.100182  | 0.448619      |</pre>"
      ],
      "text/plain": [
       "| 95        | 3144.100182  | 0.448619      |"
      ]
     },
     "metadata": {},
     "output_type": "display_data"
    },
    {
     "data": {
      "text/html": [
       "<pre>| 96        | 3175.864919  | 0.448537      |</pre>"
      ],
      "text/plain": [
       "| 96        | 3175.864919  | 0.448537      |"
      ]
     },
     "metadata": {},
     "output_type": "display_data"
    },
    {
     "data": {
      "text/html": [
       "<pre>| 97        | 3210.943981  | 0.448417      |</pre>"
      ],
      "text/plain": [
       "| 97        | 3210.943981  | 0.448417      |"
      ]
     },
     "metadata": {},
     "output_type": "display_data"
    },
    {
     "data": {
      "text/html": [
       "<pre>| 98        | 3242.748720  | 0.448298      |</pre>"
      ],
      "text/plain": [
       "| 98        | 3242.748720  | 0.448298      |"
      ]
     },
     "metadata": {},
     "output_type": "display_data"
    },
    {
     "data": {
      "text/html": [
       "<pre>| 99        | 3275.888662  | 0.448205      |</pre>"
      ],
      "text/plain": [
       "| 99        | 3275.888662  | 0.448205      |"
      ]
     },
     "metadata": {},
     "output_type": "display_data"
    },
    {
     "data": {
      "text/html": [
       "<pre>| 100       | 3308.760911  | 0.448098      |</pre>"
      ],
      "text/plain": [
       "| 100       | 3308.760911  | 0.448098      |"
      ]
     },
     "metadata": {},
     "output_type": "display_data"
    },
    {
     "data": {
      "text/html": [
       "<pre>| 101       | 3340.688130  | 0.447993      |</pre>"
      ],
      "text/plain": [
       "| 101       | 3340.688130  | 0.447993      |"
      ]
     },
     "metadata": {},
     "output_type": "display_data"
    },
    {
     "data": {
      "text/html": [
       "<pre>| 102       | 3375.117380  | 0.447880      |</pre>"
      ],
      "text/plain": [
       "| 102       | 3375.117380  | 0.447880      |"
      ]
     },
     "metadata": {},
     "output_type": "display_data"
    },
    {
     "data": {
      "text/html": [
       "<pre>| 103       | 3409.213783  | 0.447731      |</pre>"
      ],
      "text/plain": [
       "| 103       | 3409.213783  | 0.447731      |"
      ]
     },
     "metadata": {},
     "output_type": "display_data"
    },
    {
     "data": {
      "text/html": [
       "<pre>| 104       | 3444.891978  | 0.447635      |</pre>"
      ],
      "text/plain": [
       "| 104       | 3444.891978  | 0.447635      |"
      ]
     },
     "metadata": {},
     "output_type": "display_data"
    },
    {
     "data": {
      "text/html": [
       "<pre>| 105       | 3477.067828  | 0.447561      |</pre>"
      ],
      "text/plain": [
       "| 105       | 3477.067828  | 0.447561      |"
      ]
     },
     "metadata": {},
     "output_type": "display_data"
    },
    {
     "data": {
      "text/html": [
       "<pre>| 106       | 3511.263294  | 0.447483      |</pre>"
      ],
      "text/plain": [
       "| 106       | 3511.263294  | 0.447483      |"
      ]
     },
     "metadata": {},
     "output_type": "display_data"
    },
    {
     "data": {
      "text/html": [
       "<pre>| 107       | 3544.792207  | 0.447404      |</pre>"
      ],
      "text/plain": [
       "| 107       | 3544.792207  | 0.447404      |"
      ]
     },
     "metadata": {},
     "output_type": "display_data"
    },
    {
     "data": {
      "text/html": [
       "<pre>| 108       | 3576.860928  | 0.447300      |</pre>"
      ],
      "text/plain": [
       "| 108       | 3576.860928  | 0.447300      |"
      ]
     },
     "metadata": {},
     "output_type": "display_data"
    },
    {
     "data": {
      "text/html": [
       "<pre>| 109       | 3610.831005  | 0.447191      |</pre>"
      ],
      "text/plain": [
       "| 109       | 3610.831005  | 0.447191      |"
      ]
     },
     "metadata": {},
     "output_type": "display_data"
    },
    {
     "data": {
      "text/html": [
       "<pre>| 110       | 3644.685669  | 0.447085      |</pre>"
      ],
      "text/plain": [
       "| 110       | 3644.685669  | 0.447085      |"
      ]
     },
     "metadata": {},
     "output_type": "display_data"
    },
    {
     "data": {
      "text/html": [
       "<pre>| 111       | 3677.940007  | 0.446991      |</pre>"
      ],
      "text/plain": [
       "| 111       | 3677.940007  | 0.446991      |"
      ]
     },
     "metadata": {},
     "output_type": "display_data"
    },
    {
     "data": {
      "text/html": [
       "<pre>| 112       | 3713.537763  | 0.446900      |</pre>"
      ],
      "text/plain": [
       "| 112       | 3713.537763  | 0.446900      |"
      ]
     },
     "metadata": {},
     "output_type": "display_data"
    },
    {
     "data": {
      "text/html": [
       "<pre>| 113       | 3746.976268  | 0.446799      |</pre>"
      ],
      "text/plain": [
       "| 113       | 3746.976268  | 0.446799      |"
      ]
     },
     "metadata": {},
     "output_type": "display_data"
    },
    {
     "data": {
      "text/html": [
       "<pre>| 114       | 3779.388458  | 0.446722      |</pre>"
      ],
      "text/plain": [
       "| 114       | 3779.388458  | 0.446722      |"
      ]
     },
     "metadata": {},
     "output_type": "display_data"
    },
    {
     "data": {
      "text/html": [
       "<pre>| 115       | 3813.673116  | 0.446634      |</pre>"
      ],
      "text/plain": [
       "| 115       | 3813.673116  | 0.446634      |"
      ]
     },
     "metadata": {},
     "output_type": "display_data"
    },
    {
     "data": {
      "text/html": [
       "<pre>| 116       | 3847.601651  | 0.446558      |</pre>"
      ],
      "text/plain": [
       "| 116       | 3847.601651  | 0.446558      |"
      ]
     },
     "metadata": {},
     "output_type": "display_data"
    },
    {
     "data": {
      "text/html": [
       "<pre>| 117       | 3881.404975  | 0.446476      |</pre>"
      ],
      "text/plain": [
       "| 117       | 3881.404975  | 0.446476      |"
      ]
     },
     "metadata": {},
     "output_type": "display_data"
    },
    {
     "data": {
      "text/html": [
       "<pre>| 118       | 3914.629634  | 0.446373      |</pre>"
      ],
      "text/plain": [
       "| 118       | 3914.629634  | 0.446373      |"
      ]
     },
     "metadata": {},
     "output_type": "display_data"
    },
    {
     "data": {
      "text/html": [
       "<pre>| 119       | 3948.375151  | 0.446306      |</pre>"
      ],
      "text/plain": [
       "| 119       | 3948.375151  | 0.446306      |"
      ]
     },
     "metadata": {},
     "output_type": "display_data"
    },
    {
     "data": {
      "text/html": [
       "<pre>| 120       | 3980.854699  | 0.446233      |</pre>"
      ],
      "text/plain": [
       "| 120       | 3980.854699  | 0.446233      |"
      ]
     },
     "metadata": {},
     "output_type": "display_data"
    },
    {
     "data": {
      "text/html": [
       "<pre>| 121       | 4012.208786  | 0.446157      |</pre>"
      ],
      "text/plain": [
       "| 121       | 4012.208786  | 0.446157      |"
      ]
     },
     "metadata": {},
     "output_type": "display_data"
    },
    {
     "data": {
      "text/html": [
       "<pre>| 122       | 4043.972636  | 0.446082      |</pre>"
      ],
      "text/plain": [
       "| 122       | 4043.972636  | 0.446082      |"
      ]
     },
     "metadata": {},
     "output_type": "display_data"
    },
    {
     "data": {
      "text/html": [
       "<pre>| 123       | 4075.965851  | 0.445998      |</pre>"
      ],
      "text/plain": [
       "| 123       | 4075.965851  | 0.445998      |"
      ]
     },
     "metadata": {},
     "output_type": "display_data"
    },
    {
     "data": {
      "text/html": [
       "<pre>| 124       | 4111.250689  | 0.445914      |</pre>"
      ],
      "text/plain": [
       "| 124       | 4111.250689  | 0.445914      |"
      ]
     },
     "metadata": {},
     "output_type": "display_data"
    },
    {
     "data": {
      "text/html": [
       "<pre>| 125       | 4144.092828  | 0.445851      |</pre>"
      ],
      "text/plain": [
       "| 125       | 4144.092828  | 0.445851      |"
      ]
     },
     "metadata": {},
     "output_type": "display_data"
    },
    {
     "data": {
      "text/html": [
       "<pre>| 126       | 4178.548192  | 0.445758      |</pre>"
      ],
      "text/plain": [
       "| 126       | 4178.548192  | 0.445758      |"
      ]
     },
     "metadata": {},
     "output_type": "display_data"
    },
    {
     "data": {
      "text/html": [
       "<pre>| 127       | 4211.132180  | 0.445692      |</pre>"
      ],
      "text/plain": [
       "| 127       | 4211.132180  | 0.445692      |"
      ]
     },
     "metadata": {},
     "output_type": "display_data"
    },
    {
     "data": {
      "text/html": [
       "<pre>| 128       | 4242.479970  | 0.445646      |</pre>"
      ],
      "text/plain": [
       "| 128       | 4242.479970  | 0.445646      |"
      ]
     },
     "metadata": {},
     "output_type": "display_data"
    },
    {
     "data": {
      "text/html": [
       "<pre>| 129       | 4276.522324  | 0.445571      |</pre>"
      ],
      "text/plain": [
       "| 129       | 4276.522324  | 0.445571      |"
      ]
     },
     "metadata": {},
     "output_type": "display_data"
    },
    {
     "data": {
      "text/html": [
       "<pre>| 130       | 4309.927652  | 0.445493      |</pre>"
      ],
      "text/plain": [
       "| 130       | 4309.927652  | 0.445493      |"
      ]
     },
     "metadata": {},
     "output_type": "display_data"
    },
    {
     "data": {
      "text/html": [
       "<pre>| 131       | 4341.770431  | 0.445433      |</pre>"
      ],
      "text/plain": [
       "| 131       | 4341.770431  | 0.445433      |"
      ]
     },
     "metadata": {},
     "output_type": "display_data"
    },
    {
     "data": {
      "text/html": [
       "<pre>| 132       | 4374.462735  | 0.445370      |</pre>"
      ],
      "text/plain": [
       "| 132       | 4374.462735  | 0.445370      |"
      ]
     },
     "metadata": {},
     "output_type": "display_data"
    },
    {
     "data": {
      "text/html": [
       "<pre>| 133       | 4408.076236  | 0.445295      |</pre>"
      ],
      "text/plain": [
       "| 133       | 4408.076236  | 0.445295      |"
      ]
     },
     "metadata": {},
     "output_type": "display_data"
    },
    {
     "data": {
      "text/html": [
       "<pre>| 134       | 4438.438586  | 0.445229      |</pre>"
      ],
      "text/plain": [
       "| 134       | 4438.438586  | 0.445229      |"
      ]
     },
     "metadata": {},
     "output_type": "display_data"
    },
    {
     "data": {
      "text/html": [
       "<pre>| 135       | 4471.828174  | 0.445158      |</pre>"
      ],
      "text/plain": [
       "| 135       | 4471.828174  | 0.445158      |"
      ]
     },
     "metadata": {},
     "output_type": "display_data"
    },
    {
     "data": {
      "text/html": [
       "<pre>| 136       | 4501.454436  | 0.445105      |</pre>"
      ],
      "text/plain": [
       "| 136       | 4501.454436  | 0.445105      |"
      ]
     },
     "metadata": {},
     "output_type": "display_data"
    },
    {
     "data": {
      "text/html": [
       "<pre>| 137       | 4533.237854  | 0.445041      |</pre>"
      ],
      "text/plain": [
       "| 137       | 4533.237854  | 0.445041      |"
      ]
     },
     "metadata": {},
     "output_type": "display_data"
    },
    {
     "data": {
      "text/html": [
       "<pre>| 138       | 4567.272290  | 0.444965      |</pre>"
      ],
      "text/plain": [
       "| 138       | 4567.272290  | 0.444965      |"
      ]
     },
     "metadata": {},
     "output_type": "display_data"
    },
    {
     "data": {
      "text/html": [
       "<pre>| 139       | 4600.120207  | 0.444909      |</pre>"
      ],
      "text/plain": [
       "| 139       | 4600.120207  | 0.444909      |"
      ]
     },
     "metadata": {},
     "output_type": "display_data"
    },
    {
     "data": {
      "text/html": [
       "<pre>| 140       | 4632.992856  | 0.444851      |</pre>"
      ],
      "text/plain": [
       "| 140       | 4632.992856  | 0.444851      |"
      ]
     },
     "metadata": {},
     "output_type": "display_data"
    },
    {
     "data": {
      "text/html": [
       "<pre>| 141       | 4666.532499  | 0.444795      |</pre>"
      ],
      "text/plain": [
       "| 141       | 4666.532499  | 0.444795      |"
      ]
     },
     "metadata": {},
     "output_type": "display_data"
    },
    {
     "data": {
      "text/html": [
       "<pre>| 142       | 4700.341222  | 0.444710      |</pre>"
      ],
      "text/plain": [
       "| 142       | 4700.341222  | 0.444710      |"
      ]
     },
     "metadata": {},
     "output_type": "display_data"
    },
    {
     "data": {
      "text/html": [
       "<pre>| 143       | 4731.729853  | 0.444648      |</pre>"
      ],
      "text/plain": [
       "| 143       | 4731.729853  | 0.444648      |"
      ]
     },
     "metadata": {},
     "output_type": "display_data"
    },
    {
     "data": {
      "text/html": [
       "<pre>| 144       | 4762.396472  | 0.444583      |</pre>"
      ],
      "text/plain": [
       "| 144       | 4762.396472  | 0.444583      |"
      ]
     },
     "metadata": {},
     "output_type": "display_data"
    },
    {
     "data": {
      "text/html": [
       "<pre>| 145       | 4793.984415  | 0.444530      |</pre>"
      ],
      "text/plain": [
       "| 145       | 4793.984415  | 0.444530      |"
      ]
     },
     "metadata": {},
     "output_type": "display_data"
    },
    {
     "data": {
      "text/html": [
       "<pre>| 146       | 4827.526529  | 0.444469      |</pre>"
      ],
      "text/plain": [
       "| 146       | 4827.526529  | 0.444469      |"
      ]
     },
     "metadata": {},
     "output_type": "display_data"
    },
    {
     "data": {
      "text/html": [
       "<pre>| 147       | 4861.197602  | 0.444417      |</pre>"
      ],
      "text/plain": [
       "| 147       | 4861.197602  | 0.444417      |"
      ]
     },
     "metadata": {},
     "output_type": "display_data"
    },
    {
     "data": {
      "text/html": [
       "<pre>| 148       | 4892.877895  | 0.444367      |</pre>"
      ],
      "text/plain": [
       "| 148       | 4892.877895  | 0.444367      |"
      ]
     },
     "metadata": {},
     "output_type": "display_data"
    },
    {
     "data": {
      "text/html": [
       "<pre>| 149       | 4925.009958  | 0.444325      |</pre>"
      ],
      "text/plain": [
       "| 149       | 4925.009958  | 0.444325      |"
      ]
     },
     "metadata": {},
     "output_type": "display_data"
    },
    {
     "data": {
      "text/html": [
       "<pre>| 150       | 4958.302055  | 0.444266      |</pre>"
      ],
      "text/plain": [
       "| 150       | 4958.302055  | 0.444266      |"
      ]
     },
     "metadata": {},
     "output_type": "display_data"
    },
    {
     "data": {
      "text/html": [
       "<pre>| 151       | 4991.444361  | 0.444189      |</pre>"
      ],
      "text/plain": [
       "| 151       | 4991.444361  | 0.444189      |"
      ]
     },
     "metadata": {},
     "output_type": "display_data"
    },
    {
     "data": {
      "text/html": [
       "<pre>| 152       | 5023.972298  | 0.444135      |</pre>"
      ],
      "text/plain": [
       "| 152       | 5023.972298  | 0.444135      |"
      ]
     },
     "metadata": {},
     "output_type": "display_data"
    },
    {
     "data": {
      "text/html": [
       "<pre>| 153       | 5056.360258  | 0.444060      |</pre>"
      ],
      "text/plain": [
       "| 153       | 5056.360258  | 0.444060      |"
      ]
     },
     "metadata": {},
     "output_type": "display_data"
    },
    {
     "data": {
      "text/html": [
       "<pre>| 154       | 5090.985811  | 0.443985      |</pre>"
      ],
      "text/plain": [
       "| 154       | 5090.985811  | 0.443985      |"
      ]
     },
     "metadata": {},
     "output_type": "display_data"
    },
    {
     "data": {
      "text/html": [
       "<pre>| 155       | 5122.482650  | 0.443920      |</pre>"
      ],
      "text/plain": [
       "| 155       | 5122.482650  | 0.443920      |"
      ]
     },
     "metadata": {},
     "output_type": "display_data"
    },
    {
     "data": {
      "text/html": [
       "<pre>| 156       | 5157.117244  | 0.443866      |</pre>"
      ],
      "text/plain": [
       "| 156       | 5157.117244  | 0.443866      |"
      ]
     },
     "metadata": {},
     "output_type": "display_data"
    },
    {
     "data": {
      "text/html": [
       "<pre>| 157       | 5189.759320  | 0.443834      |</pre>"
      ],
      "text/plain": [
       "| 157       | 5189.759320  | 0.443834      |"
      ]
     },
     "metadata": {},
     "output_type": "display_data"
    },
    {
     "data": {
      "text/html": [
       "<pre>| 158       | 5222.802752  | 0.443794      |</pre>"
      ],
      "text/plain": [
       "| 158       | 5222.802752  | 0.443794      |"
      ]
     },
     "metadata": {},
     "output_type": "display_data"
    },
    {
     "data": {
      "text/html": [
       "<pre>| 159       | 5256.067271  | 0.443736      |</pre>"
      ],
      "text/plain": [
       "| 159       | 5256.067271  | 0.443736      |"
      ]
     },
     "metadata": {},
     "output_type": "display_data"
    },
    {
     "data": {
      "text/html": [
       "<pre>| 160       | 5287.483342  | 0.443697      |</pre>"
      ],
      "text/plain": [
       "| 160       | 5287.483342  | 0.443697      |"
      ]
     },
     "metadata": {},
     "output_type": "display_data"
    },
    {
     "data": {
      "text/html": [
       "<pre>| 161       | 5321.008130  | 0.443651      |</pre>"
      ],
      "text/plain": [
       "| 161       | 5321.008130  | 0.443651      |"
      ]
     },
     "metadata": {},
     "output_type": "display_data"
    },
    {
     "data": {
      "text/html": [
       "<pre>| 162       | 5353.732932  | 0.443596      |</pre>"
      ],
      "text/plain": [
       "| 162       | 5353.732932  | 0.443596      |"
      ]
     },
     "metadata": {},
     "output_type": "display_data"
    },
    {
     "data": {
      "text/html": [
       "<pre>| 163       | 5389.635278  | 0.443542      |</pre>"
      ],
      "text/plain": [
       "| 163       | 5389.635278  | 0.443542      |"
      ]
     },
     "metadata": {},
     "output_type": "display_data"
    },
    {
     "data": {
      "text/html": [
       "<pre>| 164       | 5421.943748  | 0.443501      |</pre>"
      ],
      "text/plain": [
       "| 164       | 5421.943748  | 0.443501      |"
      ]
     },
     "metadata": {},
     "output_type": "display_data"
    },
    {
     "data": {
      "text/html": [
       "<pre>| 165       | 5457.399461  | 0.443462      |</pre>"
      ],
      "text/plain": [
       "| 165       | 5457.399461  | 0.443462      |"
      ]
     },
     "metadata": {},
     "output_type": "display_data"
    },
    {
     "data": {
      "text/html": [
       "<pre>| 166       | 5492.413030  | 0.443420      |</pre>"
      ],
      "text/plain": [
       "| 166       | 5492.413030  | 0.443420      |"
      ]
     },
     "metadata": {},
     "output_type": "display_data"
    },
    {
     "data": {
      "text/html": [
       "<pre>| 167       | 5525.862305  | 0.443371      |</pre>"
      ],
      "text/plain": [
       "| 167       | 5525.862305  | 0.443371      |"
      ]
     },
     "metadata": {},
     "output_type": "display_data"
    },
    {
     "data": {
      "text/html": [
       "<pre>| 168       | 5557.509745  | 0.443327      |</pre>"
      ],
      "text/plain": [
       "| 168       | 5557.509745  | 0.443327      |"
      ]
     },
     "metadata": {},
     "output_type": "display_data"
    },
    {
     "data": {
      "text/html": [
       "<pre>| 169       | 5590.382071  | 0.443273      |</pre>"
      ],
      "text/plain": [
       "| 169       | 5590.382071  | 0.443273      |"
      ]
     },
     "metadata": {},
     "output_type": "display_data"
    },
    {
     "data": {
      "text/html": [
       "<pre>| 170       | 5626.279431  | 0.443205      |</pre>"
      ],
      "text/plain": [
       "| 170       | 5626.279431  | 0.443205      |"
      ]
     },
     "metadata": {},
     "output_type": "display_data"
    },
    {
     "data": {
      "text/html": [
       "<pre>| 171       | 5659.331748  | 0.443138      |</pre>"
      ],
      "text/plain": [
       "| 171       | 5659.331748  | 0.443138      |"
      ]
     },
     "metadata": {},
     "output_type": "display_data"
    },
    {
     "data": {
      "text/html": [
       "<pre>| 172       | 5695.301261  | 0.443072      |</pre>"
      ],
      "text/plain": [
       "| 172       | 5695.301261  | 0.443072      |"
      ]
     },
     "metadata": {},
     "output_type": "display_data"
    },
    {
     "data": {
      "text/html": [
       "<pre>| 173       | 5728.556172  | 0.443027      |</pre>"
      ],
      "text/plain": [
       "| 173       | 5728.556172  | 0.443027      |"
      ]
     },
     "metadata": {},
     "output_type": "display_data"
    },
    {
     "data": {
      "text/html": [
       "<pre>| 174       | 5764.223809  | 0.442947      |</pre>"
      ],
      "text/plain": [
       "| 174       | 5764.223809  | 0.442947      |"
      ]
     },
     "metadata": {},
     "output_type": "display_data"
    },
    {
     "data": {
      "text/html": [
       "<pre>| 175       | 5797.844936  | 0.442896      |</pre>"
      ],
      "text/plain": [
       "| 175       | 5797.844936  | 0.442896      |"
      ]
     },
     "metadata": {},
     "output_type": "display_data"
    },
    {
     "data": {
      "text/html": [
       "<pre>| 176       | 5830.374527  | 0.442854      |</pre>"
      ],
      "text/plain": [
       "| 176       | 5830.374527  | 0.442854      |"
      ]
     },
     "metadata": {},
     "output_type": "display_data"
    },
    {
     "data": {
      "text/html": [
       "<pre>| 177       | 5864.461054  | 0.442803      |</pre>"
      ],
      "text/plain": [
       "| 177       | 5864.461054  | 0.442803      |"
      ]
     },
     "metadata": {},
     "output_type": "display_data"
    },
    {
     "data": {
      "text/html": [
       "<pre>| 178       | 5898.740296  | 0.442732      |</pre>"
      ],
      "text/plain": [
       "| 178       | 5898.740296  | 0.442732      |"
      ]
     },
     "metadata": {},
     "output_type": "display_data"
    },
    {
     "data": {
      "text/html": [
       "<pre>| 179       | 5931.193365  | 0.442684      |</pre>"
      ],
      "text/plain": [
       "| 179       | 5931.193365  | 0.442684      |"
      ]
     },
     "metadata": {},
     "output_type": "display_data"
    },
    {
     "data": {
      "text/html": [
       "<pre>| 180       | 5968.549060  | 0.442645      |</pre>"
      ],
      "text/plain": [
       "| 180       | 5968.549060  | 0.442645      |"
      ]
     },
     "metadata": {},
     "output_type": "display_data"
    },
    {
     "data": {
      "text/html": [
       "<pre>| 181       | 5999.547662  | 0.442616      |</pre>"
      ],
      "text/plain": [
       "| 181       | 5999.547662  | 0.442616      |"
      ]
     },
     "metadata": {},
     "output_type": "display_data"
    },
    {
     "data": {
      "text/html": [
       "<pre>| 182       | 6034.388211  | 0.442541      |</pre>"
      ],
      "text/plain": [
       "| 182       | 6034.388211  | 0.442541      |"
      ]
     },
     "metadata": {},
     "output_type": "display_data"
    },
    {
     "data": {
      "text/html": [
       "<pre>| 183       | 6065.144930  | 0.442489      |</pre>"
      ],
      "text/plain": [
       "| 183       | 6065.144930  | 0.442489      |"
      ]
     },
     "metadata": {},
     "output_type": "display_data"
    },
    {
     "data": {
      "text/html": [
       "<pre>| 184       | 6098.922150  | 0.442447      |</pre>"
      ],
      "text/plain": [
       "| 184       | 6098.922150  | 0.442447      |"
      ]
     },
     "metadata": {},
     "output_type": "display_data"
    },
    {
     "data": {
      "text/html": [
       "<pre>| 185       | 6130.449972  | 0.442421      |</pre>"
      ],
      "text/plain": [
       "| 185       | 6130.449972  | 0.442421      |"
      ]
     },
     "metadata": {},
     "output_type": "display_data"
    },
    {
     "data": {
      "text/html": [
       "<pre>| 186       | 6163.895870  | 0.442363      |</pre>"
      ],
      "text/plain": [
       "| 186       | 6163.895870  | 0.442363      |"
      ]
     },
     "metadata": {},
     "output_type": "display_data"
    },
    {
     "data": {
      "text/html": [
       "<pre>| 187       | 6197.470419  | 0.442297      |</pre>"
      ],
      "text/plain": [
       "| 187       | 6197.470419  | 0.442297      |"
      ]
     },
     "metadata": {},
     "output_type": "display_data"
    },
    {
     "data": {
      "text/html": [
       "<pre>| 188       | 6230.321891  | 0.442242      |</pre>"
      ],
      "text/plain": [
       "| 188       | 6230.321891  | 0.442242      |"
      ]
     },
     "metadata": {},
     "output_type": "display_data"
    },
    {
     "data": {
      "text/html": [
       "<pre>| 189       | 6262.851230  | 0.442191      |</pre>"
      ],
      "text/plain": [
       "| 189       | 6262.851230  | 0.442191      |"
      ]
     },
     "metadata": {},
     "output_type": "display_data"
    },
    {
     "data": {
      "text/html": [
       "<pre>| 190       | 6296.203773  | 0.442157      |</pre>"
      ],
      "text/plain": [
       "| 190       | 6296.203773  | 0.442157      |"
      ]
     },
     "metadata": {},
     "output_type": "display_data"
    },
    {
     "data": {
      "text/html": [
       "<pre>| 191       | 6327.167481  | 0.442123      |</pre>"
      ],
      "text/plain": [
       "| 191       | 6327.167481  | 0.442123      |"
      ]
     },
     "metadata": {},
     "output_type": "display_data"
    },
    {
     "data": {
      "text/html": [
       "<pre>| 192       | 6361.087853  | 0.442068      |</pre>"
      ],
      "text/plain": [
       "| 192       | 6361.087853  | 0.442068      |"
      ]
     },
     "metadata": {},
     "output_type": "display_data"
    },
    {
     "data": {
      "text/html": [
       "<pre>| 193       | 6393.586051  | 0.442016      |</pre>"
      ],
      "text/plain": [
       "| 193       | 6393.586051  | 0.442016      |"
      ]
     },
     "metadata": {},
     "output_type": "display_data"
    },
    {
     "data": {
      "text/html": [
       "<pre>| 194       | 6426.704416  | 0.441952      |</pre>"
      ],
      "text/plain": [
       "| 194       | 6426.704416  | 0.441952      |"
      ]
     },
     "metadata": {},
     "output_type": "display_data"
    },
    {
     "data": {
      "text/html": [
       "<pre>| 195       | 6460.095715  | 0.441902      |</pre>"
      ],
      "text/plain": [
       "| 195       | 6460.095715  | 0.441902      |"
      ]
     },
     "metadata": {},
     "output_type": "display_data"
    },
    {
     "data": {
      "text/html": [
       "<pre>| 196       | 6490.846092  | 0.441864      |</pre>"
      ],
      "text/plain": [
       "| 196       | 6490.846092  | 0.441864      |"
      ]
     },
     "metadata": {},
     "output_type": "display_data"
    },
    {
     "data": {
      "text/html": [
       "<pre>| 197       | 6524.216031  | 0.441807      |</pre>"
      ],
      "text/plain": [
       "| 197       | 6524.216031  | 0.441807      |"
      ]
     },
     "metadata": {},
     "output_type": "display_data"
    },
    {
     "data": {
      "text/html": [
       "<pre>| 198       | 6556.598509  | 0.441763      |</pre>"
      ],
      "text/plain": [
       "| 198       | 6556.598509  | 0.441763      |"
      ]
     },
     "metadata": {},
     "output_type": "display_data"
    },
    {
     "data": {
      "text/html": [
       "<pre>| 199       | 6590.579865  | 0.441734      |</pre>"
      ],
      "text/plain": [
       "| 199       | 6590.579865  | 0.441734      |"
      ]
     },
     "metadata": {},
     "output_type": "display_data"
    },
    {
     "data": {
      "text/html": [
       "<pre>| 200       | 6623.665626  | 0.441698      |</pre>"
      ],
      "text/plain": [
       "| 200       | 6623.665626  | 0.441698      |"
      ]
     },
     "metadata": {},
     "output_type": "display_data"
    },
    {
     "data": {
      "text/html": [
       "<pre>| 201       | 6657.728140  | 0.441644      |</pre>"
      ],
      "text/plain": [
       "| 201       | 6657.728140  | 0.441644      |"
      ]
     },
     "metadata": {},
     "output_type": "display_data"
    },
    {
     "data": {
      "text/html": [
       "<pre>| 202       | 6690.278586  | 0.441617      |</pre>"
      ],
      "text/plain": [
       "| 202       | 6690.278586  | 0.441617      |"
      ]
     },
     "metadata": {},
     "output_type": "display_data"
    },
    {
     "data": {
      "text/html": [
       "<pre>| 203       | 6722.466015  | 0.441575      |</pre>"
      ],
      "text/plain": [
       "| 203       | 6722.466015  | 0.441575      |"
      ]
     },
     "metadata": {},
     "output_type": "display_data"
    },
    {
     "data": {
      "text/html": [
       "<pre>| 204       | 6754.656938  | 0.441542      |</pre>"
      ],
      "text/plain": [
       "| 204       | 6754.656938  | 0.441542      |"
      ]
     },
     "metadata": {},
     "output_type": "display_data"
    },
    {
     "data": {
      "text/html": [
       "<pre>| 205       | 6787.170398  | 0.441502      |</pre>"
      ],
      "text/plain": [
       "| 205       | 6787.170398  | 0.441502      |"
      ]
     },
     "metadata": {},
     "output_type": "display_data"
    },
    {
     "data": {
      "text/html": [
       "<pre>| 206       | 6818.106165  | 0.441476      |</pre>"
      ],
      "text/plain": [
       "| 206       | 6818.106165  | 0.441476      |"
      ]
     },
     "metadata": {},
     "output_type": "display_data"
    },
    {
     "data": {
      "text/html": [
       "<pre>| 207       | 6850.992234  | 0.441438      |</pre>"
      ],
      "text/plain": [
       "| 207       | 6850.992234  | 0.441438      |"
      ]
     },
     "metadata": {},
     "output_type": "display_data"
    },
    {
     "data": {
      "text/html": [
       "<pre>| 208       | 6884.663985  | 0.441388      |</pre>"
      ],
      "text/plain": [
       "| 208       | 6884.663985  | 0.441388      |"
      ]
     },
     "metadata": {},
     "output_type": "display_data"
    },
    {
     "data": {
      "text/html": [
       "<pre>| 209       | 6919.292128  | 0.441346      |</pre>"
      ],
      "text/plain": [
       "| 209       | 6919.292128  | 0.441346      |"
      ]
     },
     "metadata": {},
     "output_type": "display_data"
    },
    {
     "data": {
      "text/html": [
       "<pre>| 210       | 6951.890382  | 0.441307      |</pre>"
      ],
      "text/plain": [
       "| 210       | 6951.890382  | 0.441307      |"
      ]
     },
     "metadata": {},
     "output_type": "display_data"
    },
    {
     "data": {
      "text/html": [
       "<pre>| 211       | 6985.469886  | 0.441268      |</pre>"
      ],
      "text/plain": [
       "| 211       | 6985.469886  | 0.441268      |"
      ]
     },
     "metadata": {},
     "output_type": "display_data"
    },
    {
     "data": {
      "text/html": [
       "<pre>| 212       | 7020.340208  | 0.441211      |</pre>"
      ],
      "text/plain": [
       "| 212       | 7020.340208  | 0.441211      |"
      ]
     },
     "metadata": {},
     "output_type": "display_data"
    },
    {
     "data": {
      "text/html": [
       "<pre>| 213       | 7050.974967  | 0.441184      |</pre>"
      ],
      "text/plain": [
       "| 213       | 7050.974967  | 0.441184      |"
      ]
     },
     "metadata": {},
     "output_type": "display_data"
    },
    {
     "data": {
      "text/html": [
       "<pre>| 214       | 7084.711565  | 0.441131      |</pre>"
      ],
      "text/plain": [
       "| 214       | 7084.711565  | 0.441131      |"
      ]
     },
     "metadata": {},
     "output_type": "display_data"
    },
    {
     "data": {
      "text/html": [
       "<pre>| 215       | 7116.553014  | 0.441098      |</pre>"
      ],
      "text/plain": [
       "| 215       | 7116.553014  | 0.441098      |"
      ]
     },
     "metadata": {},
     "output_type": "display_data"
    },
    {
     "data": {
      "text/html": [
       "<pre>| 216       | 7151.020874  | 0.441065      |</pre>"
      ],
      "text/plain": [
       "| 216       | 7151.020874  | 0.441065      |"
      ]
     },
     "metadata": {},
     "output_type": "display_data"
    },
    {
     "data": {
      "text/html": [
       "<pre>| 217       | 7181.750469  | 0.441040      |</pre>"
      ],
      "text/plain": [
       "| 217       | 7181.750469  | 0.441040      |"
      ]
     },
     "metadata": {},
     "output_type": "display_data"
    },
    {
     "data": {
      "text/html": [
       "<pre>| 218       | 7217.869296  | 0.440990      |</pre>"
      ],
      "text/plain": [
       "| 218       | 7217.869296  | 0.440990      |"
      ]
     },
     "metadata": {},
     "output_type": "display_data"
    },
    {
     "data": {
      "text/html": [
       "<pre>| 219       | 7251.825275  | 0.440951      |</pre>"
      ],
      "text/plain": [
       "| 219       | 7251.825275  | 0.440951      |"
      ]
     },
     "metadata": {},
     "output_type": "display_data"
    },
    {
     "data": {
      "text/html": [
       "<pre>| 220       | 7286.632962  | 0.440920      |</pre>"
      ],
      "text/plain": [
       "| 220       | 7286.632962  | 0.440920      |"
      ]
     },
     "metadata": {},
     "output_type": "display_data"
    },
    {
     "data": {
      "text/html": [
       "<pre>| 221       | 7317.343030  | 0.440887      |</pre>"
      ],
      "text/plain": [
       "| 221       | 7317.343030  | 0.440887      |"
      ]
     },
     "metadata": {},
     "output_type": "display_data"
    },
    {
     "data": {
      "text/html": [
       "<pre>| 222       | 7348.691469  | 0.440846      |</pre>"
      ],
      "text/plain": [
       "| 222       | 7348.691469  | 0.440846      |"
      ]
     },
     "metadata": {},
     "output_type": "display_data"
    },
    {
     "data": {
      "text/html": [
       "<pre>| 223       | 7381.560095  | 0.440819      |</pre>"
      ],
      "text/plain": [
       "| 223       | 7381.560095  | 0.440819      |"
      ]
     },
     "metadata": {},
     "output_type": "display_data"
    },
    {
     "data": {
      "text/html": [
       "<pre>| 224       | 7414.329929  | 0.440784      |</pre>"
      ],
      "text/plain": [
       "| 224       | 7414.329929  | 0.440784      |"
      ]
     },
     "metadata": {},
     "output_type": "display_data"
    },
    {
     "data": {
      "text/html": [
       "<pre>| 225       | 7447.447909  | 0.440748      |</pre>"
      ],
      "text/plain": [
       "| 225       | 7447.447909  | 0.440748      |"
      ]
     },
     "metadata": {},
     "output_type": "display_data"
    },
    {
     "data": {
      "text/html": [
       "<pre>| 226       | 7478.683230  | 0.440741      |</pre>"
      ],
      "text/plain": [
       "| 226       | 7478.683230  | 0.440741      |"
      ]
     },
     "metadata": {},
     "output_type": "display_data"
    },
    {
     "data": {
      "text/html": [
       "<pre>| 227       | 7512.632122  | 0.440719      |</pre>"
      ],
      "text/plain": [
       "| 227       | 7512.632122  | 0.440719      |"
      ]
     },
     "metadata": {},
     "output_type": "display_data"
    },
    {
     "data": {
      "text/html": [
       "<pre>| 228       | 7545.112434  | 0.440676      |</pre>"
      ],
      "text/plain": [
       "| 228       | 7545.112434  | 0.440676      |"
      ]
     },
     "metadata": {},
     "output_type": "display_data"
    },
    {
     "data": {
      "text/html": [
       "<pre>| 229       | 7578.946483  | 0.440643      |</pre>"
      ],
      "text/plain": [
       "| 229       | 7578.946483  | 0.440643      |"
      ]
     },
     "metadata": {},
     "output_type": "display_data"
    },
    {
     "data": {
      "text/html": [
       "<pre>| 230       | 7610.097225  | 0.440616      |</pre>"
      ],
      "text/plain": [
       "| 230       | 7610.097225  | 0.440616      |"
      ]
     },
     "metadata": {},
     "output_type": "display_data"
    },
    {
     "data": {
      "text/html": [
       "<pre>| 231       | 7642.093244  | 0.440569      |</pre>"
      ],
      "text/plain": [
       "| 231       | 7642.093244  | 0.440569      |"
      ]
     },
     "metadata": {},
     "output_type": "display_data"
    },
    {
     "data": {
      "text/html": [
       "<pre>| 232       | 7673.698210  | 0.440531      |</pre>"
      ],
      "text/plain": [
       "| 232       | 7673.698210  | 0.440531      |"
      ]
     },
     "metadata": {},
     "output_type": "display_data"
    },
    {
     "data": {
      "text/html": [
       "<pre>| 233       | 7707.339214  | 0.440501      |</pre>"
      ],
      "text/plain": [
       "| 233       | 7707.339214  | 0.440501      |"
      ]
     },
     "metadata": {},
     "output_type": "display_data"
    },
    {
     "data": {
      "text/html": [
       "<pre>| 234       | 7742.291933  | 0.440470      |</pre>"
      ],
      "text/plain": [
       "| 234       | 7742.291933  | 0.440470      |"
      ]
     },
     "metadata": {},
     "output_type": "display_data"
    },
    {
     "data": {
      "text/html": [
       "<pre>| 235       | 7775.875082  | 0.440443      |</pre>"
      ],
      "text/plain": [
       "| 235       | 7775.875082  | 0.440443      |"
      ]
     },
     "metadata": {},
     "output_type": "display_data"
    },
    {
     "data": {
      "text/html": [
       "<pre>| 236       | 7808.332308  | 0.440392      |</pre>"
      ],
      "text/plain": [
       "| 236       | 7808.332308  | 0.440392      |"
      ]
     },
     "metadata": {},
     "output_type": "display_data"
    },
    {
     "data": {
      "text/html": [
       "<pre>| 237       | 7841.817749  | 0.440378      |</pre>"
      ],
      "text/plain": [
       "| 237       | 7841.817749  | 0.440378      |"
      ]
     },
     "metadata": {},
     "output_type": "display_data"
    },
    {
     "data": {
      "text/html": [
       "<pre>| 238       | 7874.355395  | 0.440327      |</pre>"
      ],
      "text/plain": [
       "| 238       | 7874.355395  | 0.440327      |"
      ]
     },
     "metadata": {},
     "output_type": "display_data"
    },
    {
     "data": {
      "text/html": [
       "<pre>| 239       | 7908.428384  | 0.440306      |</pre>"
      ],
      "text/plain": [
       "| 239       | 7908.428384  | 0.440306      |"
      ]
     },
     "metadata": {},
     "output_type": "display_data"
    },
    {
     "data": {
      "text/html": [
       "<pre>| 240       | 7940.414681  | 0.440283      |</pre>"
      ],
      "text/plain": [
       "| 240       | 7940.414681  | 0.440283      |"
      ]
     },
     "metadata": {},
     "output_type": "display_data"
    },
    {
     "data": {
      "text/html": [
       "<pre>| 241       | 7974.370841  | 0.440243      |</pre>"
      ],
      "text/plain": [
       "| 241       | 7974.370841  | 0.440243      |"
      ]
     },
     "metadata": {},
     "output_type": "display_data"
    },
    {
     "data": {
      "text/html": [
       "<pre>| 242       | 8005.321279  | 0.440217      |</pre>"
      ],
      "text/plain": [
       "| 242       | 8005.321279  | 0.440217      |"
      ]
     },
     "metadata": {},
     "output_type": "display_data"
    },
    {
     "data": {
      "text/html": [
       "<pre>| 243       | 8035.987327  | 0.440175      |</pre>"
      ],
      "text/plain": [
       "| 243       | 8035.987327  | 0.440175      |"
      ]
     },
     "metadata": {},
     "output_type": "display_data"
    },
    {
     "data": {
      "text/html": [
       "<pre>| 244       | 8070.643908  | 0.440145      |</pre>"
      ],
      "text/plain": [
       "| 244       | 8070.643908  | 0.440145      |"
      ]
     },
     "metadata": {},
     "output_type": "display_data"
    },
    {
     "data": {
      "text/html": [
       "<pre>| 245       | 8104.864807  | 0.440098      |</pre>"
      ],
      "text/plain": [
       "| 245       | 8104.864807  | 0.440098      |"
      ]
     },
     "metadata": {},
     "output_type": "display_data"
    },
    {
     "data": {
      "text/html": [
       "<pre>| 246       | 8138.421183  | 0.440052      |</pre>"
      ],
      "text/plain": [
       "| 246       | 8138.421183  | 0.440052      |"
      ]
     },
     "metadata": {},
     "output_type": "display_data"
    },
    {
     "data": {
      "text/html": [
       "<pre>| 247       | 8171.691412  | 0.440016      |</pre>"
      ],
      "text/plain": [
       "| 247       | 8171.691412  | 0.440016      |"
      ]
     },
     "metadata": {},
     "output_type": "display_data"
    },
    {
     "data": {
      "text/html": [
       "<pre>| 248       | 8206.636703  | 0.439977      |</pre>"
      ],
      "text/plain": [
       "| 248       | 8206.636703  | 0.439977      |"
      ]
     },
     "metadata": {},
     "output_type": "display_data"
    },
    {
     "data": {
      "text/html": [
       "<pre>| 249       | 8239.277076  | 0.439955      |</pre>"
      ],
      "text/plain": [
       "| 249       | 8239.277076  | 0.439955      |"
      ]
     },
     "metadata": {},
     "output_type": "display_data"
    },
    {
     "data": {
      "text/html": [
       "<pre>| 250       | 8271.465755  | 0.439913      |</pre>"
      ],
      "text/plain": [
       "| 250       | 8271.465755  | 0.439913      |"
      ]
     },
     "metadata": {},
     "output_type": "display_data"
    },
    {
     "data": {
      "text/html": [
       "<pre>| 251       | 8302.904582  | 0.439858      |</pre>"
      ],
      "text/plain": [
       "| 251       | 8302.904582  | 0.439858      |"
      ]
     },
     "metadata": {},
     "output_type": "display_data"
    },
    {
     "data": {
      "text/html": [
       "<pre>| 252       | 8334.417855  | 0.439821      |</pre>"
      ],
      "text/plain": [
       "| 252       | 8334.417855  | 0.439821      |"
      ]
     },
     "metadata": {},
     "output_type": "display_data"
    },
    {
     "data": {
      "text/html": [
       "<pre>| 253       | 8368.873847  | 0.439770      |</pre>"
      ],
      "text/plain": [
       "| 253       | 8368.873847  | 0.439770      |"
      ]
     },
     "metadata": {},
     "output_type": "display_data"
    },
    {
     "data": {
      "text/html": [
       "<pre>| 254       | 8403.174456  | 0.439734      |</pre>"
      ],
      "text/plain": [
       "| 254       | 8403.174456  | 0.439734      |"
      ]
     },
     "metadata": {},
     "output_type": "display_data"
    },
    {
     "data": {
      "text/html": [
       "<pre>| 255       | 8438.169963  | 0.439705      |</pre>"
      ],
      "text/plain": [
       "| 255       | 8438.169963  | 0.439705      |"
      ]
     },
     "metadata": {},
     "output_type": "display_data"
    },
    {
     "data": {
      "text/html": [
       "<pre>| 256       | 8471.804633  | 0.439673      |</pre>"
      ],
      "text/plain": [
       "| 256       | 8471.804633  | 0.439673      |"
      ]
     },
     "metadata": {},
     "output_type": "display_data"
    },
    {
     "data": {
      "text/html": [
       "<pre>| 257       | 8503.206791  | 0.439642      |</pre>"
      ],
      "text/plain": [
       "| 257       | 8503.206791  | 0.439642      |"
      ]
     },
     "metadata": {},
     "output_type": "display_data"
    },
    {
     "data": {
      "text/html": [
       "<pre>| 258       | 8536.323271  | 0.439613      |</pre>"
      ],
      "text/plain": [
       "| 258       | 8536.323271  | 0.439613      |"
      ]
     },
     "metadata": {},
     "output_type": "display_data"
    },
    {
     "data": {
      "text/html": [
       "<pre>| 259       | 8569.792801  | 0.439581      |</pre>"
      ],
      "text/plain": [
       "| 259       | 8569.792801  | 0.439581      |"
      ]
     },
     "metadata": {},
     "output_type": "display_data"
    },
    {
     "data": {
      "text/html": [
       "<pre>| 260       | 8603.086044  | 0.439549      |</pre>"
      ],
      "text/plain": [
       "| 260       | 8603.086044  | 0.439549      |"
      ]
     },
     "metadata": {},
     "output_type": "display_data"
    },
    {
     "data": {
      "text/html": [
       "<pre>| 261       | 8635.803934  | 0.439520      |</pre>"
      ],
      "text/plain": [
       "| 261       | 8635.803934  | 0.439520      |"
      ]
     },
     "metadata": {},
     "output_type": "display_data"
    },
    {
     "data": {
      "text/html": [
       "<pre>| 262       | 8668.953112  | 0.439472      |</pre>"
      ],
      "text/plain": [
       "| 262       | 8668.953112  | 0.439472      |"
      ]
     },
     "metadata": {},
     "output_type": "display_data"
    },
    {
     "data": {
      "text/html": [
       "<pre>| 263       | 8701.892296  | 0.439436      |</pre>"
      ],
      "text/plain": [
       "| 263       | 8701.892296  | 0.439436      |"
      ]
     },
     "metadata": {},
     "output_type": "display_data"
    },
    {
     "data": {
      "text/html": [
       "<pre>| 264       | 8734.437064  | 0.439397      |</pre>"
      ],
      "text/plain": [
       "| 264       | 8734.437064  | 0.439397      |"
      ]
     },
     "metadata": {},
     "output_type": "display_data"
    },
    {
     "data": {
      "text/html": [
       "<pre>| 265       | 8767.651508  | 0.439378      |</pre>"
      ],
      "text/plain": [
       "| 265       | 8767.651508  | 0.439378      |"
      ]
     },
     "metadata": {},
     "output_type": "display_data"
    },
    {
     "data": {
      "text/html": [
       "<pre>| 266       | 8799.738793  | 0.439334      |</pre>"
      ],
      "text/plain": [
       "| 266       | 8799.738793  | 0.439334      |"
      ]
     },
     "metadata": {},
     "output_type": "display_data"
    },
    {
     "data": {
      "text/html": [
       "<pre>| 267       | 8833.200127  | 0.439302      |</pre>"
      ],
      "text/plain": [
       "| 267       | 8833.200127  | 0.439302      |"
      ]
     },
     "metadata": {},
     "output_type": "display_data"
    },
    {
     "data": {
      "text/html": [
       "<pre>| 268       | 8868.518436  | 0.439260      |</pre>"
      ],
      "text/plain": [
       "| 268       | 8868.518436  | 0.439260      |"
      ]
     },
     "metadata": {},
     "output_type": "display_data"
    },
    {
     "data": {
      "text/html": [
       "<pre>| 269       | 8900.413953  | 0.439209      |</pre>"
      ],
      "text/plain": [
       "| 269       | 8900.413953  | 0.439209      |"
      ]
     },
     "metadata": {},
     "output_type": "display_data"
    },
    {
     "data": {
      "text/html": [
       "<pre>| 270       | 8932.318615  | 0.439181      |</pre>"
      ],
      "text/plain": [
       "| 270       | 8932.318615  | 0.439181      |"
      ]
     },
     "metadata": {},
     "output_type": "display_data"
    },
    {
     "data": {
      "text/html": [
       "<pre>| 271       | 8965.811984  | 0.439152      |</pre>"
      ],
      "text/plain": [
       "| 271       | 8965.811984  | 0.439152      |"
      ]
     },
     "metadata": {},
     "output_type": "display_data"
    },
    {
     "data": {
      "text/html": [
       "<pre>| 272       | 8998.758336  | 0.439111      |</pre>"
      ],
      "text/plain": [
       "| 272       | 8998.758336  | 0.439111      |"
      ]
     },
     "metadata": {},
     "output_type": "display_data"
    },
    {
     "data": {
      "text/html": [
       "<pre>| 273       | 9029.100134  | 0.439081      |</pre>"
      ],
      "text/plain": [
       "| 273       | 9029.100134  | 0.439081      |"
      ]
     },
     "metadata": {},
     "output_type": "display_data"
    },
    {
     "data": {
      "text/html": [
       "<pre>| 274       | 9060.044630  | 0.439055      |</pre>"
      ],
      "text/plain": [
       "| 274       | 9060.044630  | 0.439055      |"
      ]
     },
     "metadata": {},
     "output_type": "display_data"
    },
    {
     "data": {
      "text/html": [
       "<pre>| 275       | 9090.826852  | 0.439030      |</pre>"
      ],
      "text/plain": [
       "| 275       | 9090.826852  | 0.439030      |"
      ]
     },
     "metadata": {},
     "output_type": "display_data"
    },
    {
     "data": {
      "text/html": [
       "<pre>| 276       | 9123.452962  | 0.438974      |</pre>"
      ],
      "text/plain": [
       "| 276       | 9123.452962  | 0.438974      |"
      ]
     },
     "metadata": {},
     "output_type": "display_data"
    },
    {
     "data": {
      "text/html": [
       "<pre>| 277       | 9156.517571  | 0.438964      |</pre>"
      ],
      "text/plain": [
       "| 277       | 9156.517571  | 0.438964      |"
      ]
     },
     "metadata": {},
     "output_type": "display_data"
    },
    {
     "data": {
      "text/html": [
       "<pre>| 278       | 9190.295381  | 0.438937      |</pre>"
      ],
      "text/plain": [
       "| 278       | 9190.295381  | 0.438937      |"
      ]
     },
     "metadata": {},
     "output_type": "display_data"
    },
    {
     "data": {
      "text/html": [
       "<pre>| 279       | 9224.635343  | 0.438897      |</pre>"
      ],
      "text/plain": [
       "| 279       | 9224.635343  | 0.438897      |"
      ]
     },
     "metadata": {},
     "output_type": "display_data"
    },
    {
     "data": {
      "text/html": [
       "<pre>| 280       | 9259.605566  | 0.438852      |</pre>"
      ],
      "text/plain": [
       "| 280       | 9259.605566  | 0.438852      |"
      ]
     },
     "metadata": {},
     "output_type": "display_data"
    },
    {
     "data": {
      "text/html": [
       "<pre>| 281       | 9292.368352  | 0.438818      |</pre>"
      ],
      "text/plain": [
       "| 281       | 9292.368352  | 0.438818      |"
      ]
     },
     "metadata": {},
     "output_type": "display_data"
    },
    {
     "data": {
      "text/html": [
       "<pre>| 282       | 9323.700774  | 0.438800      |</pre>"
      ],
      "text/plain": [
       "| 282       | 9323.700774  | 0.438800      |"
      ]
     },
     "metadata": {},
     "output_type": "display_data"
    },
    {
     "data": {
      "text/html": [
       "<pre>| 283       | 9356.252274  | 0.438779      |</pre>"
      ],
      "text/plain": [
       "| 283       | 9356.252274  | 0.438779      |"
      ]
     },
     "metadata": {},
     "output_type": "display_data"
    },
    {
     "data": {
      "text/html": [
       "<pre>| 284       | 9389.388704  | 0.438755      |</pre>"
      ],
      "text/plain": [
       "| 284       | 9389.388704  | 0.438755      |"
      ]
     },
     "metadata": {},
     "output_type": "display_data"
    },
    {
     "data": {
      "text/html": [
       "<pre>| 285       | 9421.816661  | 0.438732      |</pre>"
      ],
      "text/plain": [
       "| 285       | 9421.816661  | 0.438732      |"
      ]
     },
     "metadata": {},
     "output_type": "display_data"
    },
    {
     "data": {
      "text/html": [
       "<pre>| 286       | 9456.012662  | 0.438696      |</pre>"
      ],
      "text/plain": [
       "| 286       | 9456.012662  | 0.438696      |"
      ]
     },
     "metadata": {},
     "output_type": "display_data"
    },
    {
     "data": {
      "text/html": [
       "<pre>| 287       | 9488.934584  | 0.438673      |</pre>"
      ],
      "text/plain": [
       "| 287       | 9488.934584  | 0.438673      |"
      ]
     },
     "metadata": {},
     "output_type": "display_data"
    },
    {
     "data": {
      "text/html": [
       "<pre>| 288       | 9521.383441  | 0.438653      |</pre>"
      ],
      "text/plain": [
       "| 288       | 9521.383441  | 0.438653      |"
      ]
     },
     "metadata": {},
     "output_type": "display_data"
    },
    {
     "data": {
      "text/html": [
       "<pre>| 289       | 9552.243108  | 0.438604      |</pre>"
      ],
      "text/plain": [
       "| 289       | 9552.243108  | 0.438604      |"
      ]
     },
     "metadata": {},
     "output_type": "display_data"
    },
    {
     "data": {
      "text/html": [
       "<pre>| 290       | 9586.061248  | 0.438554      |</pre>"
      ],
      "text/plain": [
       "| 290       | 9586.061248  | 0.438554      |"
      ]
     },
     "metadata": {},
     "output_type": "display_data"
    },
    {
     "data": {
      "text/html": [
       "<pre>| 291       | 9619.801340  | 0.438527      |</pre>"
      ],
      "text/plain": [
       "| 291       | 9619.801340  | 0.438527      |"
      ]
     },
     "metadata": {},
     "output_type": "display_data"
    },
    {
     "data": {
      "text/html": [
       "<pre>| 292       | 9653.726176  | 0.438481      |</pre>"
      ],
      "text/plain": [
       "| 292       | 9653.726176  | 0.438481      |"
      ]
     },
     "metadata": {},
     "output_type": "display_data"
    },
    {
     "data": {
      "text/html": [
       "<pre>| 293       | 9686.861104  | 0.438453      |</pre>"
      ],
      "text/plain": [
       "| 293       | 9686.861104  | 0.438453      |"
      ]
     },
     "metadata": {},
     "output_type": "display_data"
    },
    {
     "data": {
      "text/html": [
       "<pre>| 294       | 9717.744653  | 0.438421      |</pre>"
      ],
      "text/plain": [
       "| 294       | 9717.744653  | 0.438421      |"
      ]
     },
     "metadata": {},
     "output_type": "display_data"
    },
    {
     "data": {
      "text/html": [
       "<pre>| 295       | 9749.096022  | 0.438403      |</pre>"
      ],
      "text/plain": [
       "| 295       | 9749.096022  | 0.438403      |"
      ]
     },
     "metadata": {},
     "output_type": "display_data"
    },
    {
     "data": {
      "text/html": [
       "<pre>| 296       | 9782.694843  | 0.438384      |</pre>"
      ],
      "text/plain": [
       "| 296       | 9782.694843  | 0.438384      |"
      ]
     },
     "metadata": {},
     "output_type": "display_data"
    },
    {
     "data": {
      "text/html": [
       "<pre>| 297       | 9816.285392  | 0.438356      |</pre>"
      ],
      "text/plain": [
       "| 297       | 9816.285392  | 0.438356      |"
      ]
     },
     "metadata": {},
     "output_type": "display_data"
    },
    {
     "data": {
      "text/html": [
       "<pre>| 298       | 9849.557130  | 0.438334      |</pre>"
      ],
      "text/plain": [
       "| 298       | 9849.557130  | 0.438334      |"
      ]
     },
     "metadata": {},
     "output_type": "display_data"
    },
    {
     "data": {
      "text/html": [
       "<pre>| 299       | 9880.155827  | 0.438330      |</pre>"
      ],
      "text/plain": [
       "| 299       | 9880.155827  | 0.438330      |"
      ]
     },
     "metadata": {},
     "output_type": "display_data"
    },
    {
     "data": {
      "text/html": [
       "<pre>| 300       | 9911.945655  | 0.438302      |</pre>"
      ],
      "text/plain": [
       "| 300       | 9911.945655  | 0.438302      |"
      ]
     },
     "metadata": {},
     "output_type": "display_data"
    },
    {
     "data": {
      "text/html": [
       "<pre>| 301       | 9942.031499  | 0.438286      |</pre>"
      ],
      "text/plain": [
       "| 301       | 9942.031499  | 0.438286      |"
      ]
     },
     "metadata": {},
     "output_type": "display_data"
    },
    {
     "data": {
      "text/html": [
       "<pre>| 302       | 9974.345965  | 0.438257      |</pre>"
      ],
      "text/plain": [
       "| 302       | 9974.345965  | 0.438257      |"
      ]
     },
     "metadata": {},
     "output_type": "display_data"
    },
    {
     "data": {
      "text/html": [
       "<pre>| 303       | 10006.099329 | 0.438243      |</pre>"
      ],
      "text/plain": [
       "| 303       | 10006.099329 | 0.438243      |"
      ]
     },
     "metadata": {},
     "output_type": "display_data"
    },
    {
     "data": {
      "text/html": [
       "<pre>| 304       | 10038.123642 | 0.438227      |</pre>"
      ],
      "text/plain": [
       "| 304       | 10038.123642 | 0.438227      |"
      ]
     },
     "metadata": {},
     "output_type": "display_data"
    },
    {
     "data": {
      "text/html": [
       "<pre>| 305       | 10069.407666 | 0.438195      |</pre>"
      ],
      "text/plain": [
       "| 305       | 10069.407666 | 0.438195      |"
      ]
     },
     "metadata": {},
     "output_type": "display_data"
    },
    {
     "data": {
      "text/html": [
       "<pre>| 306       | 10102.816878 | 0.438161      |</pre>"
      ],
      "text/plain": [
       "| 306       | 10102.816878 | 0.438161      |"
      ]
     },
     "metadata": {},
     "output_type": "display_data"
    },
    {
     "data": {
      "text/html": [
       "<pre>| 307       | 10132.433754 | 0.438144      |</pre>"
      ],
      "text/plain": [
       "| 307       | 10132.433754 | 0.438144      |"
      ]
     },
     "metadata": {},
     "output_type": "display_data"
    },
    {
     "data": {
      "text/html": [
       "<pre>| 308       | 10165.197256 | 0.438129      |</pre>"
      ],
      "text/plain": [
       "| 308       | 10165.197256 | 0.438129      |"
      ]
     },
     "metadata": {},
     "output_type": "display_data"
    },
    {
     "data": {
      "text/html": [
       "<pre>| 309       | 10196.348759 | 0.438108      |</pre>"
      ],
      "text/plain": [
       "| 309       | 10196.348759 | 0.438108      |"
      ]
     },
     "metadata": {},
     "output_type": "display_data"
    },
    {
     "data": {
      "text/html": [
       "<pre>| 310       | 10228.424173 | 0.438072      |</pre>"
      ],
      "text/plain": [
       "| 310       | 10228.424173 | 0.438072      |"
      ]
     },
     "metadata": {},
     "output_type": "display_data"
    },
    {
     "data": {
      "text/html": [
       "<pre>| 311       | 10262.127447 | 0.438051      |</pre>"
      ],
      "text/plain": [
       "| 311       | 10262.127447 | 0.438051      |"
      ]
     },
     "metadata": {},
     "output_type": "display_data"
    },
    {
     "data": {
      "text/html": [
       "<pre>| 312       | 10293.774296 | 0.438031      |</pre>"
      ],
      "text/plain": [
       "| 312       | 10293.774296 | 0.438031      |"
      ]
     },
     "metadata": {},
     "output_type": "display_data"
    },
    {
     "data": {
      "text/html": [
       "<pre>| 313       | 10329.439082 | 0.438007      |</pre>"
      ],
      "text/plain": [
       "| 313       | 10329.439082 | 0.438007      |"
      ]
     },
     "metadata": {},
     "output_type": "display_data"
    },
    {
     "data": {
      "text/html": [
       "<pre>| 314       | 10361.062952 | 0.437988      |</pre>"
      ],
      "text/plain": [
       "| 314       | 10361.062952 | 0.437988      |"
      ]
     },
     "metadata": {},
     "output_type": "display_data"
    },
    {
     "data": {
      "text/html": [
       "<pre>| 315       | 10393.447973 | 0.437969      |</pre>"
      ],
      "text/plain": [
       "| 315       | 10393.447973 | 0.437969      |"
      ]
     },
     "metadata": {},
     "output_type": "display_data"
    },
    {
     "data": {
      "text/html": [
       "<pre>| 316       | 10427.375324 | 0.437949      |</pre>"
      ],
      "text/plain": [
       "| 316       | 10427.375324 | 0.437949      |"
      ]
     },
     "metadata": {},
     "output_type": "display_data"
    },
    {
     "data": {
      "text/html": [
       "<pre>| 317       | 10459.159870 | 0.437916      |</pre>"
      ],
      "text/plain": [
       "| 317       | 10459.159870 | 0.437916      |"
      ]
     },
     "metadata": {},
     "output_type": "display_data"
    },
    {
     "data": {
      "text/html": [
       "<pre>| 318       | 10495.168483 | 0.437882      |</pre>"
      ],
      "text/plain": [
       "| 318       | 10495.168483 | 0.437882      |"
      ]
     },
     "metadata": {},
     "output_type": "display_data"
    },
    {
     "data": {
      "text/html": [
       "<pre>| 319       | 10527.576017 | 0.437851      |</pre>"
      ],
      "text/plain": [
       "| 319       | 10527.576017 | 0.437851      |"
      ]
     },
     "metadata": {},
     "output_type": "display_data"
    },
    {
     "data": {
      "text/html": [
       "<pre>| 320       | 10562.495202 | 0.437819      |</pre>"
      ],
      "text/plain": [
       "| 320       | 10562.495202 | 0.437819      |"
      ]
     },
     "metadata": {},
     "output_type": "display_data"
    },
    {
     "data": {
      "text/html": [
       "<pre>| 321       | 10596.562299 | 0.437804      |</pre>"
      ],
      "text/plain": [
       "| 321       | 10596.562299 | 0.437804      |"
      ]
     },
     "metadata": {},
     "output_type": "display_data"
    },
    {
     "data": {
      "text/html": [
       "<pre>| 322       | 10630.425153 | 0.437778      |</pre>"
      ],
      "text/plain": [
       "| 322       | 10630.425153 | 0.437778      |"
      ]
     },
     "metadata": {},
     "output_type": "display_data"
    },
    {
     "data": {
      "text/html": [
       "<pre>| 323       | 10663.851405 | 0.437756      |</pre>"
      ],
      "text/plain": [
       "| 323       | 10663.851405 | 0.437756      |"
      ]
     },
     "metadata": {},
     "output_type": "display_data"
    },
    {
     "data": {
      "text/html": [
       "<pre>| 324       | 10694.703234 | 0.437722      |</pre>"
      ],
      "text/plain": [
       "| 324       | 10694.703234 | 0.437722      |"
      ]
     },
     "metadata": {},
     "output_type": "display_data"
    },
    {
     "data": {
      "text/html": [
       "<pre>| 325       | 10727.244124 | 0.437674      |</pre>"
      ],
      "text/plain": [
       "| 325       | 10727.244124 | 0.437674      |"
      ]
     },
     "metadata": {},
     "output_type": "display_data"
    },
    {
     "data": {
      "text/html": [
       "<pre>| 326       | 10761.024681 | 0.437632      |</pre>"
      ],
      "text/plain": [
       "| 326       | 10761.024681 | 0.437632      |"
      ]
     },
     "metadata": {},
     "output_type": "display_data"
    },
    {
     "data": {
      "text/html": [
       "<pre>| 327       | 10793.249607 | 0.437617      |</pre>"
      ],
      "text/plain": [
       "| 327       | 10793.249607 | 0.437617      |"
      ]
     },
     "metadata": {},
     "output_type": "display_data"
    },
    {
     "data": {
      "text/html": [
       "<pre>| 328       | 10827.726622 | 0.437587      |</pre>"
      ],
      "text/plain": [
       "| 328       | 10827.726622 | 0.437587      |"
      ]
     },
     "metadata": {},
     "output_type": "display_data"
    },
    {
     "data": {
      "text/html": [
       "<pre>| 329       | 10860.830003 | 0.437567      |</pre>"
      ],
      "text/plain": [
       "| 329       | 10860.830003 | 0.437567      |"
      ]
     },
     "metadata": {},
     "output_type": "display_data"
    },
    {
     "data": {
      "text/html": [
       "<pre>| 330       | 10894.916394 | 0.437546      |</pre>"
      ],
      "text/plain": [
       "| 330       | 10894.916394 | 0.437546      |"
      ]
     },
     "metadata": {},
     "output_type": "display_data"
    },
    {
     "data": {
      "text/html": [
       "<pre>| 331       | 10927.237904 | 0.437513      |</pre>"
      ],
      "text/plain": [
       "| 331       | 10927.237904 | 0.437513      |"
      ]
     },
     "metadata": {},
     "output_type": "display_data"
    },
    {
     "data": {
      "text/html": [
       "<pre>| 332       | 10962.900582 | 0.437460      |</pre>"
      ],
      "text/plain": [
       "| 332       | 10962.900582 | 0.437460      |"
      ]
     },
     "metadata": {},
     "output_type": "display_data"
    },
    {
     "data": {
      "text/html": [
       "<pre>| 333       | 10998.020088 | 0.437445      |</pre>"
      ],
      "text/plain": [
       "| 333       | 10998.020088 | 0.437445      |"
      ]
     },
     "metadata": {},
     "output_type": "display_data"
    },
    {
     "data": {
      "text/html": [
       "<pre>| 334       | 11031.408898 | 0.437434      |</pre>"
      ],
      "text/plain": [
       "| 334       | 11031.408898 | 0.437434      |"
      ]
     },
     "metadata": {},
     "output_type": "display_data"
    },
    {
     "data": {
      "text/html": [
       "<pre>| 335       | 11062.297333 | 0.437399      |</pre>"
      ],
      "text/plain": [
       "| 335       | 11062.297333 | 0.437399      |"
      ]
     },
     "metadata": {},
     "output_type": "display_data"
    },
    {
     "data": {
      "text/html": [
       "<pre>| 336       | 11097.811357 | 0.437372      |</pre>"
      ],
      "text/plain": [
       "| 336       | 11097.811357 | 0.437372      |"
      ]
     },
     "metadata": {},
     "output_type": "display_data"
    },
    {
     "data": {
      "text/html": [
       "<pre>| 337       | 11131.346975 | 0.437328      |</pre>"
      ],
      "text/plain": [
       "| 337       | 11131.346975 | 0.437328      |"
      ]
     },
     "metadata": {},
     "output_type": "display_data"
    },
    {
     "data": {
      "text/html": [
       "<pre>| 338       | 11162.420027 | 0.437302      |</pre>"
      ],
      "text/plain": [
       "| 338       | 11162.420027 | 0.437302      |"
      ]
     },
     "metadata": {},
     "output_type": "display_data"
    },
    {
     "data": {
      "text/html": [
       "<pre>| 339       | 11194.073378 | 0.437275      |</pre>"
      ],
      "text/plain": [
       "| 339       | 11194.073378 | 0.437275      |"
      ]
     },
     "metadata": {},
     "output_type": "display_data"
    },
    {
     "data": {
      "text/html": [
       "<pre>| 340       | 11225.963540 | 0.437251      |</pre>"
      ],
      "text/plain": [
       "| 340       | 11225.963540 | 0.437251      |"
      ]
     },
     "metadata": {},
     "output_type": "display_data"
    },
    {
     "data": {
      "text/html": [
       "<pre>| 341       | 11260.633391 | 0.437237      |</pre>"
      ],
      "text/plain": [
       "| 341       | 11260.633391 | 0.437237      |"
      ]
     },
     "metadata": {},
     "output_type": "display_data"
    },
    {
     "data": {
      "text/html": [
       "<pre>| 342       | 11294.565145 | 0.437221      |</pre>"
      ],
      "text/plain": [
       "| 342       | 11294.565145 | 0.437221      |"
      ]
     },
     "metadata": {},
     "output_type": "display_data"
    },
    {
     "data": {
      "text/html": [
       "<pre>| 343       | 11324.652970 | 0.437204      |</pre>"
      ],
      "text/plain": [
       "| 343       | 11324.652970 | 0.437204      |"
      ]
     },
     "metadata": {},
     "output_type": "display_data"
    },
    {
     "data": {
      "text/html": [
       "<pre>| 344       | 11358.694491 | 0.437179      |</pre>"
      ],
      "text/plain": [
       "| 344       | 11358.694491 | 0.437179      |"
      ]
     },
     "metadata": {},
     "output_type": "display_data"
    },
    {
     "data": {
      "text/html": [
       "<pre>| 345       | 11389.579379 | 0.437165      |</pre>"
      ],
      "text/plain": [
       "| 345       | 11389.579379 | 0.437165      |"
      ]
     },
     "metadata": {},
     "output_type": "display_data"
    },
    {
     "data": {
      "text/html": [
       "<pre>| 346       | 11421.252917 | 0.437149      |</pre>"
      ],
      "text/plain": [
       "| 346       | 11421.252917 | 0.437149      |"
      ]
     },
     "metadata": {},
     "output_type": "display_data"
    },
    {
     "data": {
      "text/html": [
       "<pre>| 347       | 11452.774171 | 0.437125      |</pre>"
      ],
      "text/plain": [
       "| 347       | 11452.774171 | 0.437125      |"
      ]
     },
     "metadata": {},
     "output_type": "display_data"
    },
    {
     "data": {
      "text/html": [
       "<pre>| 348       | 11485.659130 | 0.437107      |</pre>"
      ],
      "text/plain": [
       "| 348       | 11485.659130 | 0.437107      |"
      ]
     },
     "metadata": {},
     "output_type": "display_data"
    },
    {
     "data": {
      "text/html": [
       "<pre>| 349       | 11517.154514 | 0.437091      |</pre>"
      ],
      "text/plain": [
       "| 349       | 11517.154514 | 0.437091      |"
      ]
     },
     "metadata": {},
     "output_type": "display_data"
    },
    {
     "data": {
      "text/html": [
       "<pre>| 350       | 11549.969106 | 0.437072      |</pre>"
      ],
      "text/plain": [
       "| 350       | 11549.969106 | 0.437072      |"
      ]
     },
     "metadata": {},
     "output_type": "display_data"
    },
    {
     "data": {
      "text/html": [
       "<pre>| 351       | 11584.637739 | 0.437035      |</pre>"
      ],
      "text/plain": [
       "| 351       | 11584.637739 | 0.437035      |"
      ]
     },
     "metadata": {},
     "output_type": "display_data"
    },
    {
     "data": {
      "text/html": [
       "<pre>| 352       | 11620.402283 | 0.436997      |</pre>"
      ],
      "text/plain": [
       "| 352       | 11620.402283 | 0.436997      |"
      ]
     },
     "metadata": {},
     "output_type": "display_data"
    },
    {
     "data": {
      "text/html": [
       "<pre>| 353       | 11653.124271 | 0.436971      |</pre>"
      ],
      "text/plain": [
       "| 353       | 11653.124271 | 0.436971      |"
      ]
     },
     "metadata": {},
     "output_type": "display_data"
    },
    {
     "data": {
      "text/html": [
       "<pre>| 354       | 11685.733043 | 0.436925      |</pre>"
      ],
      "text/plain": [
       "| 354       | 11685.733043 | 0.436925      |"
      ]
     },
     "metadata": {},
     "output_type": "display_data"
    },
    {
     "data": {
      "text/html": [
       "<pre>| 355       | 11719.159007 | 0.436905      |</pre>"
      ],
      "text/plain": [
       "| 355       | 11719.159007 | 0.436905      |"
      ]
     },
     "metadata": {},
     "output_type": "display_data"
    },
    {
     "data": {
      "text/html": [
       "<pre>| 356       | 11752.329140 | 0.436859      |</pre>"
      ],
      "text/plain": [
       "| 356       | 11752.329140 | 0.436859      |"
      ]
     },
     "metadata": {},
     "output_type": "display_data"
    },
    {
     "data": {
      "text/html": [
       "<pre>| 357       | 11786.295886 | 0.436845      |</pre>"
      ],
      "text/plain": [
       "| 357       | 11786.295886 | 0.436845      |"
      ]
     },
     "metadata": {},
     "output_type": "display_data"
    },
    {
     "data": {
      "text/html": [
       "<pre>| 358       | 11817.563653 | 0.436832      |</pre>"
      ],
      "text/plain": [
       "| 358       | 11817.563653 | 0.436832      |"
      ]
     },
     "metadata": {},
     "output_type": "display_data"
    },
    {
     "data": {
      "text/html": [
       "<pre>| 359       | 11849.770542 | 0.436810      |</pre>"
      ],
      "text/plain": [
       "| 359       | 11849.770542 | 0.436810      |"
      ]
     },
     "metadata": {},
     "output_type": "display_data"
    },
    {
     "data": {
      "text/html": [
       "<pre>| 360       | 11884.341091 | 0.436798      |</pre>"
      ],
      "text/plain": [
       "| 360       | 11884.341091 | 0.436798      |"
      ]
     },
     "metadata": {},
     "output_type": "display_data"
    },
    {
     "data": {
      "text/html": [
       "<pre>| 361       | 11914.946777 | 0.436780      |</pre>"
      ],
      "text/plain": [
       "| 361       | 11914.946777 | 0.436780      |"
      ]
     },
     "metadata": {},
     "output_type": "display_data"
    },
    {
     "data": {
      "text/html": [
       "<pre>| 362       | 11948.377333 | 0.436750      |</pre>"
      ],
      "text/plain": [
       "| 362       | 11948.377333 | 0.436750      |"
      ]
     },
     "metadata": {},
     "output_type": "display_data"
    },
    {
     "data": {
      "text/html": [
       "<pre>| 363       | 11979.525635 | 0.436735      |</pre>"
      ],
      "text/plain": [
       "| 363       | 11979.525635 | 0.436735      |"
      ]
     },
     "metadata": {},
     "output_type": "display_data"
    },
    {
     "data": {
      "text/html": [
       "<pre>| 364       | 12012.380681 | 0.436721      |</pre>"
      ],
      "text/plain": [
       "| 364       | 12012.380681 | 0.436721      |"
      ]
     },
     "metadata": {},
     "output_type": "display_data"
    },
    {
     "data": {
      "text/html": [
       "<pre>| 365       | 12043.020551 | 0.436695      |</pre>"
      ],
      "text/plain": [
       "| 365       | 12043.020551 | 0.436695      |"
      ]
     },
     "metadata": {},
     "output_type": "display_data"
    },
    {
     "data": {
      "text/html": [
       "<pre>| 366       | 12074.117200 | 0.436680      |</pre>"
      ],
      "text/plain": [
       "| 366       | 12074.117200 | 0.436680      |"
      ]
     },
     "metadata": {},
     "output_type": "display_data"
    },
    {
     "data": {
      "text/html": [
       "<pre>| 367       | 12108.722058 | 0.436657      |</pre>"
      ],
      "text/plain": [
       "| 367       | 12108.722058 | 0.436657      |"
      ]
     },
     "metadata": {},
     "output_type": "display_data"
    },
    {
     "data": {
      "text/html": [
       "<pre>| 368       | 12141.783444 | 0.436627      |</pre>"
      ],
      "text/plain": [
       "| 368       | 12141.783444 | 0.436627      |"
      ]
     },
     "metadata": {},
     "output_type": "display_data"
    },
    {
     "data": {
      "text/html": [
       "<pre>| 369       | 12176.265775 | 0.436606      |</pre>"
      ],
      "text/plain": [
       "| 369       | 12176.265775 | 0.436606      |"
      ]
     },
     "metadata": {},
     "output_type": "display_data"
    },
    {
     "data": {
      "text/html": [
       "<pre>| 370       | 12210.260225 | 0.436583      |</pre>"
      ],
      "text/plain": [
       "| 370       | 12210.260225 | 0.436583      |"
      ]
     },
     "metadata": {},
     "output_type": "display_data"
    },
    {
     "data": {
      "text/html": [
       "<pre>| 371       | 12244.004913 | 0.436569      |</pre>"
      ],
      "text/plain": [
       "| 371       | 12244.004913 | 0.436569      |"
      ]
     },
     "metadata": {},
     "output_type": "display_data"
    },
    {
     "data": {
      "text/html": [
       "<pre>| 372       | 12278.153829 | 0.436543      |</pre>"
      ],
      "text/plain": [
       "| 372       | 12278.153829 | 0.436543      |"
      ]
     },
     "metadata": {},
     "output_type": "display_data"
    },
    {
     "data": {
      "text/html": [
       "<pre>| 373       | 12311.364937 | 0.436524      |</pre>"
      ],
      "text/plain": [
       "| 373       | 12311.364937 | 0.436524      |"
      ]
     },
     "metadata": {},
     "output_type": "display_data"
    },
    {
     "data": {
      "text/html": [
       "<pre>| 374       | 12345.807425 | 0.436490      |</pre>"
      ],
      "text/plain": [
       "| 374       | 12345.807425 | 0.436490      |"
      ]
     },
     "metadata": {},
     "output_type": "display_data"
    },
    {
     "data": {
      "text/html": [
       "<pre>| 375       | 12376.892699 | 0.436458      |</pre>"
      ],
      "text/plain": [
       "| 375       | 12376.892699 | 0.436458      |"
      ]
     },
     "metadata": {},
     "output_type": "display_data"
    },
    {
     "data": {
      "text/html": [
       "<pre>| 376       | 12411.198387 | 0.436424      |</pre>"
      ],
      "text/plain": [
       "| 376       | 12411.198387 | 0.436424      |"
      ]
     },
     "metadata": {},
     "output_type": "display_data"
    },
    {
     "data": {
      "text/html": [
       "<pre>| 377       | 12444.028187 | 0.436381      |</pre>"
      ],
      "text/plain": [
       "| 377       | 12444.028187 | 0.436381      |"
      ]
     },
     "metadata": {},
     "output_type": "display_data"
    },
    {
     "data": {
      "text/html": [
       "<pre>| 378       | 12475.538418 | 0.436359      |</pre>"
      ],
      "text/plain": [
       "| 378       | 12475.538418 | 0.436359      |"
      ]
     },
     "metadata": {},
     "output_type": "display_data"
    },
    {
     "data": {
      "text/html": [
       "<pre>| 379       | 12508.952183 | 0.436326      |</pre>"
      ],
      "text/plain": [
       "| 379       | 12508.952183 | 0.436326      |"
      ]
     },
     "metadata": {},
     "output_type": "display_data"
    },
    {
     "data": {
      "text/html": [
       "<pre>| 380       | 12542.731216 | 0.436290      |</pre>"
      ],
      "text/plain": [
       "| 380       | 12542.731216 | 0.436290      |"
      ]
     },
     "metadata": {},
     "output_type": "display_data"
    },
    {
     "data": {
      "text/html": [
       "<pre>| 381       | 12578.409407 | 0.436254      |</pre>"
      ],
      "text/plain": [
       "| 381       | 12578.409407 | 0.436254      |"
      ]
     },
     "metadata": {},
     "output_type": "display_data"
    },
    {
     "data": {
      "text/html": [
       "<pre>| 382       | 12611.997536 | 0.436223      |</pre>"
      ],
      "text/plain": [
       "| 382       | 12611.997536 | 0.436223      |"
      ]
     },
     "metadata": {},
     "output_type": "display_data"
    },
    {
     "data": {
      "text/html": [
       "<pre>| 383       | 12644.436085 | 0.436199      |</pre>"
      ],
      "text/plain": [
       "| 383       | 12644.436085 | 0.436199      |"
      ]
     },
     "metadata": {},
     "output_type": "display_data"
    },
    {
     "data": {
      "text/html": [
       "<pre>| 384       | 12677.194233 | 0.436171      |</pre>"
      ],
      "text/plain": [
       "| 384       | 12677.194233 | 0.436171      |"
      ]
     },
     "metadata": {},
     "output_type": "display_data"
    },
    {
     "data": {
      "text/html": [
       "<pre>| 385       | 12709.497535 | 0.436153      |</pre>"
      ],
      "text/plain": [
       "| 385       | 12709.497535 | 0.436153      |"
      ]
     },
     "metadata": {},
     "output_type": "display_data"
    },
    {
     "data": {
      "text/html": [
       "<pre>| 386       | 12740.730699 | 0.436136      |</pre>"
      ],
      "text/plain": [
       "| 386       | 12740.730699 | 0.436136      |"
      ]
     },
     "metadata": {},
     "output_type": "display_data"
    },
    {
     "data": {
      "text/html": [
       "<pre>| 387       | 12773.119094 | 0.436111      |</pre>"
      ],
      "text/plain": [
       "| 387       | 12773.119094 | 0.436111      |"
      ]
     },
     "metadata": {},
     "output_type": "display_data"
    },
    {
     "data": {
      "text/html": [
       "<pre>| 388       | 12803.193923 | 0.436092      |</pre>"
      ],
      "text/plain": [
       "| 388       | 12803.193923 | 0.436092      |"
      ]
     },
     "metadata": {},
     "output_type": "display_data"
    },
    {
     "data": {
      "text/html": [
       "<pre>| 389       | 12836.610243 | 0.436060      |</pre>"
      ],
      "text/plain": [
       "| 389       | 12836.610243 | 0.436060      |"
      ]
     },
     "metadata": {},
     "output_type": "display_data"
    },
    {
     "data": {
      "text/html": [
       "<pre>| 390       | 12870.885645 | 0.436040      |</pre>"
      ],
      "text/plain": [
       "| 390       | 12870.885645 | 0.436040      |"
      ]
     },
     "metadata": {},
     "output_type": "display_data"
    },
    {
     "data": {
      "text/html": [
       "<pre>| 391       | 12904.065225 | 0.436009      |</pre>"
      ],
      "text/plain": [
       "| 391       | 12904.065225 | 0.436009      |"
      ]
     },
     "metadata": {},
     "output_type": "display_data"
    },
    {
     "data": {
      "text/html": [
       "<pre>| 392       | 12936.722791 | 0.435989      |</pre>"
      ],
      "text/plain": [
       "| 392       | 12936.722791 | 0.435989      |"
      ]
     },
     "metadata": {},
     "output_type": "display_data"
    },
    {
     "data": {
      "text/html": [
       "<pre>| 393       | 12972.016123 | 0.435964      |</pre>"
      ],
      "text/plain": [
       "| 393       | 12972.016123 | 0.435964      |"
      ]
     },
     "metadata": {},
     "output_type": "display_data"
    },
    {
     "data": {
      "text/html": [
       "<pre>| 394       | 13006.819562 | 0.435932      |</pre>"
      ],
      "text/plain": [
       "| 394       | 13006.819562 | 0.435932      |"
      ]
     },
     "metadata": {},
     "output_type": "display_data"
    },
    {
     "data": {
      "text/html": [
       "<pre>| 395       | 13040.561308 | 0.435910      |</pre>"
      ],
      "text/plain": [
       "| 395       | 13040.561308 | 0.435910      |"
      ]
     },
     "metadata": {},
     "output_type": "display_data"
    },
    {
     "data": {
      "text/html": [
       "<pre>| 396       | 13072.924363 | 0.435884      |</pre>"
      ],
      "text/plain": [
       "| 396       | 13072.924363 | 0.435884      |"
      ]
     },
     "metadata": {},
     "output_type": "display_data"
    },
    {
     "data": {
      "text/html": [
       "<pre>| 397       | 13106.627144 | 0.435861      |</pre>"
      ],
      "text/plain": [
       "| 397       | 13106.627144 | 0.435861      |"
      ]
     },
     "metadata": {},
     "output_type": "display_data"
    },
    {
     "data": {
      "text/html": [
       "<pre>| 398       | 13137.759933 | 0.435836      |</pre>"
      ],
      "text/plain": [
       "| 398       | 13137.759933 | 0.435836      |"
      ]
     },
     "metadata": {},
     "output_type": "display_data"
    },
    {
     "data": {
      "text/html": [
       "<pre>| 399       | 13169.259505 | 0.435806      |</pre>"
      ],
      "text/plain": [
       "| 399       | 13169.259505 | 0.435806      |"
      ]
     },
     "metadata": {},
     "output_type": "display_data"
    },
    {
     "data": {
      "text/html": [
       "<pre>| 400       | 13201.700337 | 0.435787      |</pre>"
      ],
      "text/plain": [
       "| 400       | 13201.700337 | 0.435787      |"
      ]
     },
     "metadata": {},
     "output_type": "display_data"
    },
    {
     "data": {
      "text/html": [
       "<pre>| 401       | 13235.936067 | 0.435774      |</pre>"
      ],
      "text/plain": [
       "| 401       | 13235.936067 | 0.435774      |"
      ]
     },
     "metadata": {},
     "output_type": "display_data"
    },
    {
     "data": {
      "text/html": [
       "<pre>| 402       | 13271.090261 | 0.435749      |</pre>"
      ],
      "text/plain": [
       "| 402       | 13271.090261 | 0.435749      |"
      ]
     },
     "metadata": {},
     "output_type": "display_data"
    },
    {
     "data": {
      "text/html": [
       "<pre>| 403       | 13304.565070 | 0.435725      |</pre>"
      ],
      "text/plain": [
       "| 403       | 13304.565070 | 0.435725      |"
      ]
     },
     "metadata": {},
     "output_type": "display_data"
    },
    {
     "data": {
      "text/html": [
       "<pre>| 404       | 13339.648011 | 0.435699      |</pre>"
      ],
      "text/plain": [
       "| 404       | 13339.648011 | 0.435699      |"
      ]
     },
     "metadata": {},
     "output_type": "display_data"
    },
    {
     "data": {
      "text/html": [
       "<pre>| 405       | 13371.746946 | 0.435675      |</pre>"
      ],
      "text/plain": [
       "| 405       | 13371.746946 | 0.435675      |"
      ]
     },
     "metadata": {},
     "output_type": "display_data"
    },
    {
     "data": {
      "text/html": [
       "<pre>| 406       | 13402.722014 | 0.435668      |</pre>"
      ],
      "text/plain": [
       "| 406       | 13402.722014 | 0.435668      |"
      ]
     },
     "metadata": {},
     "output_type": "display_data"
    },
    {
     "data": {
      "text/html": [
       "<pre>| 407       | 13435.160771 | 0.435650      |</pre>"
      ],
      "text/plain": [
       "| 407       | 13435.160771 | 0.435650      |"
      ]
     },
     "metadata": {},
     "output_type": "display_data"
    },
    {
     "data": {
      "text/html": [
       "<pre>| 408       | 13466.343597 | 0.435639      |</pre>"
      ],
      "text/plain": [
       "| 408       | 13466.343597 | 0.435639      |"
      ]
     },
     "metadata": {},
     "output_type": "display_data"
    },
    {
     "data": {
      "text/html": [
       "<pre>| 409       | 13498.845075 | 0.435616      |</pre>"
      ],
      "text/plain": [
       "| 409       | 13498.845075 | 0.435616      |"
      ]
     },
     "metadata": {},
     "output_type": "display_data"
    },
    {
     "data": {
      "text/html": [
       "<pre>| 410       | 13532.161321 | 0.435589      |</pre>"
      ],
      "text/plain": [
       "| 410       | 13532.161321 | 0.435589      |"
      ]
     },
     "metadata": {},
     "output_type": "display_data"
    },
    {
     "data": {
      "text/html": [
       "<pre>| 411       | 13563.949340 | 0.435544      |</pre>"
      ],
      "text/plain": [
       "| 411       | 13563.949340 | 0.435544      |"
      ]
     },
     "metadata": {},
     "output_type": "display_data"
    },
    {
     "data": {
      "text/html": [
       "<pre>| 412       | 13599.097765 | 0.435516      |</pre>"
      ],
      "text/plain": [
       "| 412       | 13599.097765 | 0.435516      |"
      ]
     },
     "metadata": {},
     "output_type": "display_data"
    },
    {
     "data": {
      "text/html": [
       "<pre>| 413       | 13631.034574 | 0.435499      |</pre>"
      ],
      "text/plain": [
       "| 413       | 13631.034574 | 0.435499      |"
      ]
     },
     "metadata": {},
     "output_type": "display_data"
    },
    {
     "data": {
      "text/html": [
       "<pre>| 414       | 13661.146792 | 0.435474      |</pre>"
      ],
      "text/plain": [
       "| 414       | 13661.146792 | 0.435474      |"
      ]
     },
     "metadata": {},
     "output_type": "display_data"
    },
    {
     "data": {
      "text/html": [
       "<pre>| 415       | 13694.777680 | 0.435448      |</pre>"
      ],
      "text/plain": [
       "| 415       | 13694.777680 | 0.435448      |"
      ]
     },
     "metadata": {},
     "output_type": "display_data"
    },
    {
     "data": {
      "text/html": [
       "<pre>| 416       | 13726.867209 | 0.435429      |</pre>"
      ],
      "text/plain": [
       "| 416       | 13726.867209 | 0.435429      |"
      ]
     },
     "metadata": {},
     "output_type": "display_data"
    },
    {
     "data": {
      "text/html": [
       "<pre>| 417       | 13759.837905 | 0.435381      |</pre>"
      ],
      "text/plain": [
       "| 417       | 13759.837905 | 0.435381      |"
      ]
     },
     "metadata": {},
     "output_type": "display_data"
    },
    {
     "data": {
      "text/html": [
       "<pre>| 418       | 13792.816387 | 0.435359      |</pre>"
      ],
      "text/plain": [
       "| 418       | 13792.816387 | 0.435359      |"
      ]
     },
     "metadata": {},
     "output_type": "display_data"
    },
    {
     "data": {
      "text/html": [
       "<pre>| 419       | 13824.598569 | 0.435345      |</pre>"
      ],
      "text/plain": [
       "| 419       | 13824.598569 | 0.435345      |"
      ]
     },
     "metadata": {},
     "output_type": "display_data"
    },
    {
     "data": {
      "text/html": [
       "<pre>| 420       | 13857.169494 | 0.435332      |</pre>"
      ],
      "text/plain": [
       "| 420       | 13857.169494 | 0.435332      |"
      ]
     },
     "metadata": {},
     "output_type": "display_data"
    },
    {
     "data": {
      "text/html": [
       "<pre>| 421       | 13890.012461 | 0.435294      |</pre>"
      ],
      "text/plain": [
       "| 421       | 13890.012461 | 0.435294      |"
      ]
     },
     "metadata": {},
     "output_type": "display_data"
    },
    {
     "data": {
      "text/html": [
       "<pre>| 422       | 13923.395250 | 0.435275      |</pre>"
      ],
      "text/plain": [
       "| 422       | 13923.395250 | 0.435275      |"
      ]
     },
     "metadata": {},
     "output_type": "display_data"
    },
    {
     "data": {
      "text/html": [
       "<pre>| 423       | 13957.198397 | 0.435240      |</pre>"
      ],
      "text/plain": [
       "| 423       | 13957.198397 | 0.435240      |"
      ]
     },
     "metadata": {},
     "output_type": "display_data"
    },
    {
     "data": {
      "text/html": [
       "<pre>| 424       | 13990.696245 | 0.435217      |</pre>"
      ],
      "text/plain": [
       "| 424       | 13990.696245 | 0.435217      |"
      ]
     },
     "metadata": {},
     "output_type": "display_data"
    },
    {
     "data": {
      "text/html": [
       "<pre>| 425       | 14020.303028 | 0.435205      |</pre>"
      ],
      "text/plain": [
       "| 425       | 14020.303028 | 0.435205      |"
      ]
     },
     "metadata": {},
     "output_type": "display_data"
    },
    {
     "data": {
      "text/html": [
       "<pre>| 426       | 14056.072573 | 0.435167      |</pre>"
      ],
      "text/plain": [
       "| 426       | 14056.072573 | 0.435167      |"
      ]
     },
     "metadata": {},
     "output_type": "display_data"
    },
    {
     "data": {
      "text/html": [
       "<pre>| 427       | 14086.800999 | 0.435156      |</pre>"
      ],
      "text/plain": [
       "| 427       | 14086.800999 | 0.435156      |"
      ]
     },
     "metadata": {},
     "output_type": "display_data"
    },
    {
     "data": {
      "text/html": [
       "<pre>| 428       | 14119.722817 | 0.435107      |</pre>"
      ],
      "text/plain": [
       "| 428       | 14119.722817 | 0.435107      |"
      ]
     },
     "metadata": {},
     "output_type": "display_data"
    },
    {
     "data": {
      "text/html": [
       "<pre>| 429       | 14152.162367 | 0.435094      |</pre>"
      ],
      "text/plain": [
       "| 429       | 14152.162367 | 0.435094      |"
      ]
     },
     "metadata": {},
     "output_type": "display_data"
    },
    {
     "data": {
      "text/html": [
       "<pre>| 430       | 14185.610757 | 0.435074      |</pre>"
      ],
      "text/plain": [
       "| 430       | 14185.610757 | 0.435074      |"
      ]
     },
     "metadata": {},
     "output_type": "display_data"
    },
    {
     "data": {
      "text/html": [
       "<pre>| 431       | 14216.924099 | 0.435057      |</pre>"
      ],
      "text/plain": [
       "| 431       | 14216.924099 | 0.435057      |"
      ]
     },
     "metadata": {},
     "output_type": "display_data"
    },
    {
     "data": {
      "text/html": [
       "<pre>| 432       | 14246.631647 | 0.435033      |</pre>"
      ],
      "text/plain": [
       "| 432       | 14246.631647 | 0.435033      |"
      ]
     },
     "metadata": {},
     "output_type": "display_data"
    },
    {
     "data": {
      "text/html": [
       "<pre>| 433       | 14280.977895 | 0.435005      |</pre>"
      ],
      "text/plain": [
       "| 433       | 14280.977895 | 0.435005      |"
      ]
     },
     "metadata": {},
     "output_type": "display_data"
    },
    {
     "data": {
      "text/html": [
       "<pre>| 434       | 14314.250863 | 0.434978      |</pre>"
      ],
      "text/plain": [
       "| 434       | 14314.250863 | 0.434978      |"
      ]
     },
     "metadata": {},
     "output_type": "display_data"
    },
    {
     "data": {
      "text/html": [
       "<pre>| 435       | 14347.023655 | 0.434955      |</pre>"
      ],
      "text/plain": [
       "| 435       | 14347.023655 | 0.434955      |"
      ]
     },
     "metadata": {},
     "output_type": "display_data"
    },
    {
     "data": {
      "text/html": [
       "<pre>| 436       | 14378.622908 | 0.434925      |</pre>"
      ],
      "text/plain": [
       "| 436       | 14378.622908 | 0.434925      |"
      ]
     },
     "metadata": {},
     "output_type": "display_data"
    },
    {
     "data": {
      "text/html": [
       "<pre>| 437       | 14411.433163 | 0.434898      |</pre>"
      ],
      "text/plain": [
       "| 437       | 14411.433163 | 0.434898      |"
      ]
     },
     "metadata": {},
     "output_type": "display_data"
    },
    {
     "data": {
      "text/html": [
       "<pre>| 438       | 14444.132931 | 0.434866      |</pre>"
      ],
      "text/plain": [
       "| 438       | 14444.132931 | 0.434866      |"
      ]
     },
     "metadata": {},
     "output_type": "display_data"
    },
    {
     "data": {
      "text/html": [
       "<pre>| 439       | 14475.973968 | 0.434847      |</pre>"
      ],
      "text/plain": [
       "| 439       | 14475.973968 | 0.434847      |"
      ]
     },
     "metadata": {},
     "output_type": "display_data"
    },
    {
     "data": {
      "text/html": [
       "<pre>| 440       | 14507.502459 | 0.434831      |</pre>"
      ],
      "text/plain": [
       "| 440       | 14507.502459 | 0.434831      |"
      ]
     },
     "metadata": {},
     "output_type": "display_data"
    },
    {
     "data": {
      "text/html": [
       "<pre>| 441       | 14541.313901 | 0.434807      |</pre>"
      ],
      "text/plain": [
       "| 441       | 14541.313901 | 0.434807      |"
      ]
     },
     "metadata": {},
     "output_type": "display_data"
    },
    {
     "data": {
      "text/html": [
       "<pre>| 442       | 14573.082334 | 0.434785      |</pre>"
      ],
      "text/plain": [
       "| 442       | 14573.082334 | 0.434785      |"
      ]
     },
     "metadata": {},
     "output_type": "display_data"
    },
    {
     "data": {
      "text/html": [
       "<pre>| 443       | 14605.613730 | 0.434757      |</pre>"
      ],
      "text/plain": [
       "| 443       | 14605.613730 | 0.434757      |"
      ]
     },
     "metadata": {},
     "output_type": "display_data"
    },
    {
     "data": {
      "text/html": [
       "<pre>| 444       | 14638.200366 | 0.434736      |</pre>"
      ],
      "text/plain": [
       "| 444       | 14638.200366 | 0.434736      |"
      ]
     },
     "metadata": {},
     "output_type": "display_data"
    },
    {
     "data": {
      "text/html": [
       "<pre>| 445       | 14672.720773 | 0.434715      |</pre>"
      ],
      "text/plain": [
       "| 445       | 14672.720773 | 0.434715      |"
      ]
     },
     "metadata": {},
     "output_type": "display_data"
    },
    {
     "data": {
      "text/html": [
       "<pre>| 446       | 14707.039947 | 0.434670      |</pre>"
      ],
      "text/plain": [
       "| 446       | 14707.039947 | 0.434670      |"
      ]
     },
     "metadata": {},
     "output_type": "display_data"
    },
    {
     "data": {
      "text/html": [
       "<pre>| 447       | 14736.854262 | 0.434667      |</pre>"
      ],
      "text/plain": [
       "| 447       | 14736.854262 | 0.434667      |"
      ]
     },
     "metadata": {},
     "output_type": "display_data"
    },
    {
     "data": {
      "text/html": [
       "<pre>| 448       | 14769.924317 | 0.434645      |</pre>"
      ],
      "text/plain": [
       "| 448       | 14769.924317 | 0.434645      |"
      ]
     },
     "metadata": {},
     "output_type": "display_data"
    },
    {
     "data": {
      "text/html": [
       "<pre>| 449       | 14800.393661 | 0.434630      |</pre>"
      ],
      "text/plain": [
       "| 449       | 14800.393661 | 0.434630      |"
      ]
     },
     "metadata": {},
     "output_type": "display_data"
    },
    {
     "data": {
      "text/html": [
       "<pre>| 450       | 14834.293729 | 0.434599      |</pre>"
      ],
      "text/plain": [
       "| 450       | 14834.293729 | 0.434599      |"
      ]
     },
     "metadata": {},
     "output_type": "display_data"
    },
    {
     "data": {
      "text/html": [
       "<pre>| 451       | 14866.798080 | 0.434585      |</pre>"
      ],
      "text/plain": [
       "| 451       | 14866.798080 | 0.434585      |"
      ]
     },
     "metadata": {},
     "output_type": "display_data"
    },
    {
     "data": {
      "text/html": [
       "<pre>| 452       | 14897.010681 | 0.434566      |</pre>"
      ],
      "text/plain": [
       "| 452       | 14897.010681 | 0.434566      |"
      ]
     },
     "metadata": {},
     "output_type": "display_data"
    },
    {
     "data": {
      "text/html": [
       "<pre>| 453       | 14930.630461 | 0.434546      |</pre>"
      ],
      "text/plain": [
       "| 453       | 14930.630461 | 0.434546      |"
      ]
     },
     "metadata": {},
     "output_type": "display_data"
    },
    {
     "data": {
      "text/html": [
       "<pre>| 454       | 14963.095337 | 0.434503      |</pre>"
      ],
      "text/plain": [
       "| 454       | 14963.095337 | 0.434503      |"
      ]
     },
     "metadata": {},
     "output_type": "display_data"
    },
    {
     "data": {
      "text/html": [
       "<pre>| 455       | 14995.378019 | 0.434490      |</pre>"
      ],
      "text/plain": [
       "| 455       | 14995.378019 | 0.434490      |"
      ]
     },
     "metadata": {},
     "output_type": "display_data"
    },
    {
     "data": {
      "text/html": [
       "<pre>| 456       | 15029.915402 | 0.434462      |</pre>"
      ],
      "text/plain": [
       "| 456       | 15029.915402 | 0.434462      |"
      ]
     },
     "metadata": {},
     "output_type": "display_data"
    },
    {
     "data": {
      "text/html": [
       "<pre>| 457       | 15061.865975 | 0.434440      |</pre>"
      ],
      "text/plain": [
       "| 457       | 15061.865975 | 0.434440      |"
      ]
     },
     "metadata": {},
     "output_type": "display_data"
    },
    {
     "data": {
      "text/html": [
       "<pre>| 458       | 15093.278202 | 0.434430      |</pre>"
      ],
      "text/plain": [
       "| 458       | 15093.278202 | 0.434430      |"
      ]
     },
     "metadata": {},
     "output_type": "display_data"
    },
    {
     "data": {
      "text/html": [
       "<pre>| 459       | 15125.598439 | 0.434419      |</pre>"
      ],
      "text/plain": [
       "| 459       | 15125.598439 | 0.434419      |"
      ]
     },
     "metadata": {},
     "output_type": "display_data"
    },
    {
     "data": {
      "text/html": [
       "<pre>| 460       | 15161.290808 | 0.434373      |</pre>"
      ],
      "text/plain": [
       "| 460       | 15161.290808 | 0.434373      |"
      ]
     },
     "metadata": {},
     "output_type": "display_data"
    },
    {
     "data": {
      "text/html": [
       "<pre>| 461       | 15193.485465 | 0.434353      |</pre>"
      ],
      "text/plain": [
       "| 461       | 15193.485465 | 0.434353      |"
      ]
     },
     "metadata": {},
     "output_type": "display_data"
    },
    {
     "data": {
      "text/html": [
       "<pre>| 462       | 15225.769827 | 0.434335      |</pre>"
      ],
      "text/plain": [
       "| 462       | 15225.769827 | 0.434335      |"
      ]
     },
     "metadata": {},
     "output_type": "display_data"
    },
    {
     "data": {
      "text/html": [
       "<pre>| 463       | 15261.759701 | 0.434310      |</pre>"
      ],
      "text/plain": [
       "| 463       | 15261.759701 | 0.434310      |"
      ]
     },
     "metadata": {},
     "output_type": "display_data"
    },
    {
     "data": {
      "text/html": [
       "<pre>| 464       | 15294.299816 | 0.434301      |</pre>"
      ],
      "text/plain": [
       "| 464       | 15294.299816 | 0.434301      |"
      ]
     },
     "metadata": {},
     "output_type": "display_data"
    },
    {
     "data": {
      "text/html": [
       "<pre>| 465       | 15326.828509 | 0.434271      |</pre>"
      ],
      "text/plain": [
       "| 465       | 15326.828509 | 0.434271      |"
      ]
     },
     "metadata": {},
     "output_type": "display_data"
    },
    {
     "data": {
      "text/html": [
       "<pre>| 466       | 15360.528702 | 0.434232      |</pre>"
      ],
      "text/plain": [
       "| 466       | 15360.528702 | 0.434232      |"
      ]
     },
     "metadata": {},
     "output_type": "display_data"
    },
    {
     "data": {
      "text/html": [
       "<pre>| 467       | 15391.074857 | 0.434218      |</pre>"
      ],
      "text/plain": [
       "| 467       | 15391.074857 | 0.434218      |"
      ]
     },
     "metadata": {},
     "output_type": "display_data"
    },
    {
     "data": {
      "text/html": [
       "<pre>| 468       | 15424.984956 | 0.434202      |</pre>"
      ],
      "text/plain": [
       "| 468       | 15424.984956 | 0.434202      |"
      ]
     },
     "metadata": {},
     "output_type": "display_data"
    },
    {
     "data": {
      "text/html": [
       "<pre>| 469       | 15460.043372 | 0.434181      |</pre>"
      ],
      "text/plain": [
       "| 469       | 15460.043372 | 0.434181      |"
      ]
     },
     "metadata": {},
     "output_type": "display_data"
    },
    {
     "data": {
      "text/html": [
       "<pre>| 470       | 15493.082207 | 0.434165      |</pre>"
      ],
      "text/plain": [
       "| 470       | 15493.082207 | 0.434165      |"
      ]
     },
     "metadata": {},
     "output_type": "display_data"
    },
    {
     "data": {
      "text/html": [
       "<pre>| 471       | 15525.337806 | 0.434135      |</pre>"
      ],
      "text/plain": [
       "| 471       | 15525.337806 | 0.434135      |"
      ]
     },
     "metadata": {},
     "output_type": "display_data"
    },
    {
     "data": {
      "text/html": [
       "<pre>| 472       | 15559.795805 | 0.434101      |</pre>"
      ],
      "text/plain": [
       "| 472       | 15559.795805 | 0.434101      |"
      ]
     },
     "metadata": {},
     "output_type": "display_data"
    },
    {
     "data": {
      "text/html": [
       "<pre>| 473       | 15591.281691 | 0.434078      |</pre>"
      ],
      "text/plain": [
       "| 473       | 15591.281691 | 0.434078      |"
      ]
     },
     "metadata": {},
     "output_type": "display_data"
    },
    {
     "data": {
      "text/html": [
       "<pre>| 474       | 15624.495819 | 0.434048      |</pre>"
      ],
      "text/plain": [
       "| 474       | 15624.495819 | 0.434048      |"
      ]
     },
     "metadata": {},
     "output_type": "display_data"
    },
    {
     "data": {
      "text/html": [
       "<pre>| 475       | 15656.896715 | 0.434021      |</pre>"
      ],
      "text/plain": [
       "| 475       | 15656.896715 | 0.434021      |"
      ]
     },
     "metadata": {},
     "output_type": "display_data"
    },
    {
     "data": {
      "text/html": [
       "<pre>| 476       | 15687.232494 | 0.434001      |</pre>"
      ],
      "text/plain": [
       "| 476       | 15687.232494 | 0.434001      |"
      ]
     },
     "metadata": {},
     "output_type": "display_data"
    },
    {
     "data": {
      "text/html": [
       "<pre>| 477       | 15720.211503 | 0.433993      |</pre>"
      ],
      "text/plain": [
       "| 477       | 15720.211503 | 0.433993      |"
      ]
     },
     "metadata": {},
     "output_type": "display_data"
    },
    {
     "data": {
      "text/html": [
       "<pre>| 478       | 15753.254197 | 0.433969      |</pre>"
      ],
      "text/plain": [
       "| 478       | 15753.254197 | 0.433969      |"
      ]
     },
     "metadata": {},
     "output_type": "display_data"
    },
    {
     "data": {
      "text/html": [
       "<pre>| 479       | 15786.861395 | 0.433956      |</pre>"
      ],
      "text/plain": [
       "| 479       | 15786.861395 | 0.433956      |"
      ]
     },
     "metadata": {},
     "output_type": "display_data"
    },
    {
     "data": {
      "text/html": [
       "<pre>| 480       | 15818.917130 | 0.433923      |</pre>"
      ],
      "text/plain": [
       "| 480       | 15818.917130 | 0.433923      |"
      ]
     },
     "metadata": {},
     "output_type": "display_data"
    },
    {
     "data": {
      "text/html": [
       "<pre>| 481       | 15852.381558 | 0.433907      |</pre>"
      ],
      "text/plain": [
       "| 481       | 15852.381558 | 0.433907      |"
      ]
     },
     "metadata": {},
     "output_type": "display_data"
    },
    {
     "data": {
      "text/html": [
       "<pre>| 482       | 15888.114941 | 0.433881      |</pre>"
      ],
      "text/plain": [
       "| 482       | 15888.114941 | 0.433881      |"
      ]
     },
     "metadata": {},
     "output_type": "display_data"
    },
    {
     "data": {
      "text/html": [
       "<pre>| 483       | 15921.479869 | 0.433860      |</pre>"
      ],
      "text/plain": [
       "| 483       | 15921.479869 | 0.433860      |"
      ]
     },
     "metadata": {},
     "output_type": "display_data"
    },
    {
     "data": {
      "text/html": [
       "<pre>| 484       | 15955.529582 | 0.433821      |</pre>"
      ],
      "text/plain": [
       "| 484       | 15955.529582 | 0.433821      |"
      ]
     },
     "metadata": {},
     "output_type": "display_data"
    },
    {
     "data": {
      "text/html": [
       "<pre>| 485       | 15988.666928 | 0.433802      |</pre>"
      ],
      "text/plain": [
       "| 485       | 15988.666928 | 0.433802      |"
      ]
     },
     "metadata": {},
     "output_type": "display_data"
    },
    {
     "data": {
      "text/html": [
       "<pre>| 486       | 16022.210064 | 0.433776      |</pre>"
      ],
      "text/plain": [
       "| 486       | 16022.210064 | 0.433776      |"
      ]
     },
     "metadata": {},
     "output_type": "display_data"
    },
    {
     "data": {
      "text/html": [
       "<pre>| 487       | 16055.108076 | 0.433756      |</pre>"
      ],
      "text/plain": [
       "| 487       | 16055.108076 | 0.433756      |"
      ]
     },
     "metadata": {},
     "output_type": "display_data"
    },
    {
     "data": {
      "text/html": [
       "<pre>| 488       | 16089.077989 | 0.433737      |</pre>"
      ],
      "text/plain": [
       "| 488       | 16089.077989 | 0.433737      |"
      ]
     },
     "metadata": {},
     "output_type": "display_data"
    },
    {
     "data": {
      "text/html": [
       "<pre>| 489       | 16121.535542 | 0.433719      |</pre>"
      ],
      "text/plain": [
       "| 489       | 16121.535542 | 0.433719      |"
      ]
     },
     "metadata": {},
     "output_type": "display_data"
    },
    {
     "data": {
      "text/html": [
       "<pre>| 490       | 16151.264951 | 0.433709      |</pre>"
      ],
      "text/plain": [
       "| 490       | 16151.264951 | 0.433709      |"
      ]
     },
     "metadata": {},
     "output_type": "display_data"
    },
    {
     "data": {
      "text/html": [
       "<pre>| 491       | 16186.934756 | 0.433686      |</pre>"
      ],
      "text/plain": [
       "| 491       | 16186.934756 | 0.433686      |"
      ]
     },
     "metadata": {},
     "output_type": "display_data"
    },
    {
     "data": {
      "text/html": [
       "<pre>| 492       | 16220.871042 | 0.433669      |</pre>"
      ],
      "text/plain": [
       "| 492       | 16220.871042 | 0.433669      |"
      ]
     },
     "metadata": {},
     "output_type": "display_data"
    },
    {
     "data": {
      "text/html": [
       "<pre>| 493       | 16254.915214 | 0.433629      |</pre>"
      ],
      "text/plain": [
       "| 493       | 16254.915214 | 0.433629      |"
      ]
     },
     "metadata": {},
     "output_type": "display_data"
    },
    {
     "data": {
      "text/html": [
       "<pre>| 494       | 16286.725195 | 0.433604      |</pre>"
      ],
      "text/plain": [
       "| 494       | 16286.725195 | 0.433604      |"
      ]
     },
     "metadata": {},
     "output_type": "display_data"
    },
    {
     "data": {
      "text/html": [
       "<pre>| 495       | 16320.745292 | 0.433593      |</pre>"
      ],
      "text/plain": [
       "| 495       | 16320.745292 | 0.433593      |"
      ]
     },
     "metadata": {},
     "output_type": "display_data"
    },
    {
     "data": {
      "text/html": [
       "<pre>| 496       | 16354.420158 | 0.433562      |</pre>"
      ],
      "text/plain": [
       "| 496       | 16354.420158 | 0.433562      |"
      ]
     },
     "metadata": {},
     "output_type": "display_data"
    },
    {
     "data": {
      "text/html": [
       "<pre>| 497       | 16386.643881 | 0.433542      |</pre>"
      ],
      "text/plain": [
       "| 497       | 16386.643881 | 0.433542      |"
      ]
     },
     "metadata": {},
     "output_type": "display_data"
    },
    {
     "data": {
      "text/html": [
       "<pre>| 498       | 16416.952491 | 0.433536      |</pre>"
      ],
      "text/plain": [
       "| 498       | 16416.952491 | 0.433536      |"
      ]
     },
     "metadata": {},
     "output_type": "display_data"
    },
    {
     "data": {
      "text/html": [
       "<pre>| 499       | 16449.677819 | 0.433496      |</pre>"
      ],
      "text/plain": [
       "| 499       | 16449.677819 | 0.433496      |"
      ]
     },
     "metadata": {},
     "output_type": "display_data"
    },
    {
     "data": {
      "text/html": [
       "<pre>| 500       | 16484.355001 | 0.433471      |</pre>"
      ],
      "text/plain": [
       "| 500       | 16484.355001 | 0.433471      |"
      ]
     },
     "metadata": {},
     "output_type": "display_data"
    },
    {
     "data": {
      "text/html": [
       "<pre>| 501       | 16516.588471 | 0.433448      |</pre>"
      ],
      "text/plain": [
       "| 501       | 16516.588471 | 0.433448      |"
      ]
     },
     "metadata": {},
     "output_type": "display_data"
    },
    {
     "data": {
      "text/html": [
       "<pre>| 502       | 16549.553371 | 0.433431      |</pre>"
      ],
      "text/plain": [
       "| 502       | 16549.553371 | 0.433431      |"
      ]
     },
     "metadata": {},
     "output_type": "display_data"
    },
    {
     "data": {
      "text/html": [
       "<pre>| 503       | 16585.175389 | 0.433411      |</pre>"
      ],
      "text/plain": [
       "| 503       | 16585.175389 | 0.433411      |"
      ]
     },
     "metadata": {},
     "output_type": "display_data"
    },
    {
     "data": {
      "text/html": [
       "<pre>| 504       | 16617.873105 | 0.433395      |</pre>"
      ],
      "text/plain": [
       "| 504       | 16617.873105 | 0.433395      |"
      ]
     },
     "metadata": {},
     "output_type": "display_data"
    },
    {
     "data": {
      "text/html": [
       "<pre>| 505       | 16651.315560 | 0.433373      |</pre>"
      ],
      "text/plain": [
       "| 505       | 16651.315560 | 0.433373      |"
      ]
     },
     "metadata": {},
     "output_type": "display_data"
    },
    {
     "data": {
      "text/html": [
       "<pre>| 506       | 16685.140180 | 0.433336      |</pre>"
      ],
      "text/plain": [
       "| 506       | 16685.140180 | 0.433336      |"
      ]
     },
     "metadata": {},
     "output_type": "display_data"
    },
    {
     "data": {
      "text/html": [
       "<pre>| 507       | 16714.590470 | 0.433330      |</pre>"
      ],
      "text/plain": [
       "| 507       | 16714.590470 | 0.433330      |"
      ]
     },
     "metadata": {},
     "output_type": "display_data"
    },
    {
     "data": {
      "text/html": [
       "<pre>| 508       | 16748.298238 | 0.433313      |</pre>"
      ],
      "text/plain": [
       "| 508       | 16748.298238 | 0.433313      |"
      ]
     },
     "metadata": {},
     "output_type": "display_data"
    },
    {
     "data": {
      "text/html": [
       "<pre>| 509       | 16780.857912 | 0.433291      |</pre>"
      ],
      "text/plain": [
       "| 509       | 16780.857912 | 0.433291      |"
      ]
     },
     "metadata": {},
     "output_type": "display_data"
    },
    {
     "data": {
      "text/html": [
       "<pre>| 510       | 16814.458496 | 0.433274      |</pre>"
      ],
      "text/plain": [
       "| 510       | 16814.458496 | 0.433274      |"
      ]
     },
     "metadata": {},
     "output_type": "display_data"
    },
    {
     "data": {
      "text/html": [
       "<pre>| 511       | 16846.208776 | 0.433264      |</pre>"
      ],
      "text/plain": [
       "| 511       | 16846.208776 | 0.433264      |"
      ]
     },
     "metadata": {},
     "output_type": "display_data"
    },
    {
     "data": {
      "text/html": [
       "<pre>| 512       | 16879.703434 | 0.433243      |</pre>"
      ],
      "text/plain": [
       "| 512       | 16879.703434 | 0.433243      |"
      ]
     },
     "metadata": {},
     "output_type": "display_data"
    },
    {
     "data": {
      "text/html": [
       "<pre>| 513       | 16909.780621 | 0.433225      |</pre>"
      ],
      "text/plain": [
       "| 513       | 16909.780621 | 0.433225      |"
      ]
     },
     "metadata": {},
     "output_type": "display_data"
    },
    {
     "data": {
      "text/html": [
       "<pre>| 514       | 16939.811218 | 0.433216      |</pre>"
      ],
      "text/plain": [
       "| 514       | 16939.811218 | 0.433216      |"
      ]
     },
     "metadata": {},
     "output_type": "display_data"
    },
    {
     "data": {
      "text/html": [
       "<pre>| 515       | 16972.932428 | 0.433192      |</pre>"
      ],
      "text/plain": [
       "| 515       | 16972.932428 | 0.433192      |"
      ]
     },
     "metadata": {},
     "output_type": "display_data"
    },
    {
     "data": {
      "text/html": [
       "<pre>| 516       | 17006.255959 | 0.433171      |</pre>"
      ],
      "text/plain": [
       "| 516       | 17006.255959 | 0.433171      |"
      ]
     },
     "metadata": {},
     "output_type": "display_data"
    },
    {
     "data": {
      "text/html": [
       "<pre>| 517       | 17039.641554 | 0.433139      |</pre>"
      ],
      "text/plain": [
       "| 517       | 17039.641554 | 0.433139      |"
      ]
     },
     "metadata": {},
     "output_type": "display_data"
    },
    {
     "data": {
      "text/html": [
       "<pre>| 518       | 17074.592353 | 0.433109      |</pre>"
      ],
      "text/plain": [
       "| 518       | 17074.592353 | 0.433109      |"
      ]
     },
     "metadata": {},
     "output_type": "display_data"
    },
    {
     "data": {
      "text/html": [
       "<pre>| 519       | 17109.042898 | 0.433076      |</pre>"
      ],
      "text/plain": [
       "| 519       | 17109.042898 | 0.433076      |"
      ]
     },
     "metadata": {},
     "output_type": "display_data"
    },
    {
     "data": {
      "text/html": [
       "<pre>| 520       | 17141.323239 | 0.433060      |</pre>"
      ],
      "text/plain": [
       "| 520       | 17141.323239 | 0.433060      |"
      ]
     },
     "metadata": {},
     "output_type": "display_data"
    },
    {
     "data": {
      "text/html": [
       "<pre>| 521       | 17171.833170 | 0.433054      |</pre>"
      ],
      "text/plain": [
       "| 521       | 17171.833170 | 0.433054      |"
      ]
     },
     "metadata": {},
     "output_type": "display_data"
    },
    {
     "data": {
      "text/html": [
       "<pre>| 522       | 17206.960241 | 0.433039      |</pre>"
      ],
      "text/plain": [
       "| 522       | 17206.960241 | 0.433039      |"
      ]
     },
     "metadata": {},
     "output_type": "display_data"
    },
    {
     "data": {
      "text/html": [
       "<pre>| 523       | 17239.786014 | 0.433009      |</pre>"
      ],
      "text/plain": [
       "| 523       | 17239.786014 | 0.433009      |"
      ]
     },
     "metadata": {},
     "output_type": "display_data"
    },
    {
     "data": {
      "text/html": [
       "<pre>| 524       | 17269.915106 | 0.432996      |</pre>"
      ],
      "text/plain": [
       "| 524       | 17269.915106 | 0.432996      |"
      ]
     },
     "metadata": {},
     "output_type": "display_data"
    },
    {
     "data": {
      "text/html": [
       "<pre>| 525       | 17301.670933 | 0.432979      |</pre>"
      ],
      "text/plain": [
       "| 525       | 17301.670933 | 0.432979      |"
      ]
     },
     "metadata": {},
     "output_type": "display_data"
    },
    {
     "data": {
      "text/html": [
       "<pre>| 526       | 17335.710995 | 0.432944      |</pre>"
      ],
      "text/plain": [
       "| 526       | 17335.710995 | 0.432944      |"
      ]
     },
     "metadata": {},
     "output_type": "display_data"
    },
    {
     "data": {
      "text/html": [
       "<pre>| 527       | 17370.794926 | 0.432915      |</pre>"
      ],
      "text/plain": [
       "| 527       | 17370.794926 | 0.432915      |"
      ]
     },
     "metadata": {},
     "output_type": "display_data"
    },
    {
     "data": {
      "text/html": [
       "<pre>| 528       | 17401.872069 | 0.432899      |</pre>"
      ],
      "text/plain": [
       "| 528       | 17401.872069 | 0.432899      |"
      ]
     },
     "metadata": {},
     "output_type": "display_data"
    },
    {
     "data": {
      "text/html": [
       "<pre>| 529       | 17434.497881 | 0.432877      |</pre>"
      ],
      "text/plain": [
       "| 529       | 17434.497881 | 0.432877      |"
      ]
     },
     "metadata": {},
     "output_type": "display_data"
    },
    {
     "data": {
      "text/html": [
       "<pre>| 530       | 17468.654681 | 0.432859      |</pre>"
      ],
      "text/plain": [
       "| 530       | 17468.654681 | 0.432859      |"
      ]
     },
     "metadata": {},
     "output_type": "display_data"
    },
    {
     "data": {
      "text/html": [
       "<pre>| 531       | 17502.675783 | 0.432834      |</pre>"
      ],
      "text/plain": [
       "| 531       | 17502.675783 | 0.432834      |"
      ]
     },
     "metadata": {},
     "output_type": "display_data"
    },
    {
     "data": {
      "text/html": [
       "<pre>| 532       | 17536.511337 | 0.432815      |</pre>"
      ],
      "text/plain": [
       "| 532       | 17536.511337 | 0.432815      |"
      ]
     },
     "metadata": {},
     "output_type": "display_data"
    },
    {
     "data": {
      "text/html": [
       "<pre>| 533       | 17570.121590 | 0.432793      |</pre>"
      ],
      "text/plain": [
       "| 533       | 17570.121590 | 0.432793      |"
      ]
     },
     "metadata": {},
     "output_type": "display_data"
    },
    {
     "data": {
      "text/html": [
       "<pre>| 534       | 17603.770411 | 0.432777      |</pre>"
      ],
      "text/plain": [
       "| 534       | 17603.770411 | 0.432777      |"
      ]
     },
     "metadata": {},
     "output_type": "display_data"
    },
    {
     "data": {
      "text/html": [
       "<pre>| 535       | 17635.341175 | 0.432758      |</pre>"
      ],
      "text/plain": [
       "| 535       | 17635.341175 | 0.432758      |"
      ]
     },
     "metadata": {},
     "output_type": "display_data"
    },
    {
     "data": {
      "text/html": [
       "<pre>| 536       | 17666.301911 | 0.432751      |</pre>"
      ],
      "text/plain": [
       "| 536       | 17666.301911 | 0.432751      |"
      ]
     },
     "metadata": {},
     "output_type": "display_data"
    },
    {
     "data": {
      "text/html": [
       "<pre>| 537       | 17700.491708 | 0.432734      |</pre>"
      ],
      "text/plain": [
       "| 537       | 17700.491708 | 0.432734      |"
      ]
     },
     "metadata": {},
     "output_type": "display_data"
    },
    {
     "data": {
      "text/html": [
       "<pre>| 538       | 17732.113670 | 0.432705      |</pre>"
      ],
      "text/plain": [
       "| 538       | 17732.113670 | 0.432705      |"
      ]
     },
     "metadata": {},
     "output_type": "display_data"
    },
    {
     "data": {
      "text/html": [
       "<pre>| 539       | 17762.503967 | 0.432681      |</pre>"
      ],
      "text/plain": [
       "| 539       | 17762.503967 | 0.432681      |"
      ]
     },
     "metadata": {},
     "output_type": "display_data"
    },
    {
     "data": {
      "text/html": [
       "<pre>| 540       | 17795.473571 | 0.432644      |</pre>"
      ],
      "text/plain": [
       "| 540       | 17795.473571 | 0.432644      |"
      ]
     },
     "metadata": {},
     "output_type": "display_data"
    },
    {
     "data": {
      "text/html": [
       "<pre>| 541       | 17828.919603 | 0.432611      |</pre>"
      ],
      "text/plain": [
       "| 541       | 17828.919603 | 0.432611      |"
      ]
     },
     "metadata": {},
     "output_type": "display_data"
    },
    {
     "data": {
      "text/html": [
       "<pre>| 542       | 17861.564459 | 0.432592      |</pre>"
      ],
      "text/plain": [
       "| 542       | 17861.564459 | 0.432592      |"
      ]
     },
     "metadata": {},
     "output_type": "display_data"
    },
    {
     "data": {
      "text/html": [
       "<pre>| 543       | 17893.569359 | 0.432581      |</pre>"
      ],
      "text/plain": [
       "| 543       | 17893.569359 | 0.432581      |"
      ]
     },
     "metadata": {},
     "output_type": "display_data"
    },
    {
     "data": {
      "text/html": [
       "<pre>| 544       | 17927.108814 | 0.432555      |</pre>"
      ],
      "text/plain": [
       "| 544       | 17927.108814 | 0.432555      |"
      ]
     },
     "metadata": {},
     "output_type": "display_data"
    },
    {
     "data": {
      "text/html": [
       "<pre>| 545       | 17958.442862 | 0.432544      |</pre>"
      ],
      "text/plain": [
       "| 545       | 17958.442862 | 0.432544      |"
      ]
     },
     "metadata": {},
     "output_type": "display_data"
    },
    {
     "data": {
      "text/html": [
       "<pre>| 546       | 17990.959632 | 0.432537      |</pre>"
      ],
      "text/plain": [
       "| 546       | 17990.959632 | 0.432537      |"
      ]
     },
     "metadata": {},
     "output_type": "display_data"
    },
    {
     "data": {
      "text/html": [
       "<pre>| 547       | 18023.338579 | 0.432530      |</pre>"
      ],
      "text/plain": [
       "| 547       | 18023.338579 | 0.432530      |"
      ]
     },
     "metadata": {},
     "output_type": "display_data"
    },
    {
     "data": {
      "text/html": [
       "<pre>| 548       | 18054.707514 | 0.432503      |</pre>"
      ],
      "text/plain": [
       "| 548       | 18054.707514 | 0.432503      |"
      ]
     },
     "metadata": {},
     "output_type": "display_data"
    },
    {
     "data": {
      "text/html": [
       "<pre>| 549       | 18085.342867 | 0.432492      |</pre>"
      ],
      "text/plain": [
       "| 549       | 18085.342867 | 0.432492      |"
      ]
     },
     "metadata": {},
     "output_type": "display_data"
    },
    {
     "data": {
      "text/html": [
       "<pre>| 550       | 18117.880746 | 0.432455      |</pre>"
      ],
      "text/plain": [
       "| 550       | 18117.880746 | 0.432455      |"
      ]
     },
     "metadata": {},
     "output_type": "display_data"
    },
    {
     "data": {
      "text/html": [
       "<pre>| 551       | 18150.204321 | 0.432443      |</pre>"
      ],
      "text/plain": [
       "| 551       | 18150.204321 | 0.432443      |"
      ]
     },
     "metadata": {},
     "output_type": "display_data"
    },
    {
     "data": {
      "text/html": [
       "<pre>| 552       | 18183.032442 | 0.432416      |</pre>"
      ],
      "text/plain": [
       "| 552       | 18183.032442 | 0.432416      |"
      ]
     },
     "metadata": {},
     "output_type": "display_data"
    },
    {
     "data": {
      "text/html": [
       "<pre>| 553       | 18217.054362 | 0.432388      |</pre>"
      ],
      "text/plain": [
       "| 553       | 18217.054362 | 0.432388      |"
      ]
     },
     "metadata": {},
     "output_type": "display_data"
    },
    {
     "data": {
      "text/html": [
       "<pre>| 554       | 18252.061168 | 0.432375      |</pre>"
      ],
      "text/plain": [
       "| 554       | 18252.061168 | 0.432375      |"
      ]
     },
     "metadata": {},
     "output_type": "display_data"
    },
    {
     "data": {
      "text/html": [
       "<pre>| 555       | 18285.018149 | 0.432356      |</pre>"
      ],
      "text/plain": [
       "| 555       | 18285.018149 | 0.432356      |"
      ]
     },
     "metadata": {},
     "output_type": "display_data"
    },
    {
     "data": {
      "text/html": [
       "<pre>| 556       | 18320.205734 | 0.432333      |</pre>"
      ],
      "text/plain": [
       "| 556       | 18320.205734 | 0.432333      |"
      ]
     },
     "metadata": {},
     "output_type": "display_data"
    },
    {
     "data": {
      "text/html": [
       "<pre>| 557       | 18352.064596 | 0.432321      |</pre>"
      ],
      "text/plain": [
       "| 557       | 18352.064596 | 0.432321      |"
      ]
     },
     "metadata": {},
     "output_type": "display_data"
    },
    {
     "data": {
      "text/html": [
       "<pre>| 558       | 18385.463247 | 0.432299      |</pre>"
      ],
      "text/plain": [
       "| 558       | 18385.463247 | 0.432299      |"
      ]
     },
     "metadata": {},
     "output_type": "display_data"
    },
    {
     "data": {
      "text/html": [
       "<pre>| 559       | 18418.736829 | 0.432276      |</pre>"
      ],
      "text/plain": [
       "| 559       | 18418.736829 | 0.432276      |"
      ]
     },
     "metadata": {},
     "output_type": "display_data"
    },
    {
     "data": {
      "text/html": [
       "<pre>| 560       | 18450.791685 | 0.432265      |</pre>"
      ],
      "text/plain": [
       "| 560       | 18450.791685 | 0.432265      |"
      ]
     },
     "metadata": {},
     "output_type": "display_data"
    },
    {
     "data": {
      "text/html": [
       "<pre>| 561       | 18484.288218 | 0.432240      |</pre>"
      ],
      "text/plain": [
       "| 561       | 18484.288218 | 0.432240      |"
      ]
     },
     "metadata": {},
     "output_type": "display_data"
    },
    {
     "data": {
      "text/html": [
       "<pre>| 562       | 18515.775591 | 0.432221      |</pre>"
      ],
      "text/plain": [
       "| 562       | 18515.775591 | 0.432221      |"
      ]
     },
     "metadata": {},
     "output_type": "display_data"
    },
    {
     "data": {
      "text/html": [
       "<pre>| 563       | 18548.539367 | 0.432206      |</pre>"
      ],
      "text/plain": [
       "| 563       | 18548.539367 | 0.432206      |"
      ]
     },
     "metadata": {},
     "output_type": "display_data"
    },
    {
     "data": {
      "text/html": [
       "<pre>| 564       | 18580.401891 | 0.432194      |</pre>"
      ],
      "text/plain": [
       "| 564       | 18580.401891 | 0.432194      |"
      ]
     },
     "metadata": {},
     "output_type": "display_data"
    },
    {
     "data": {
      "text/html": [
       "<pre>| 565       | 18613.576314 | 0.432179      |</pre>"
      ],
      "text/plain": [
       "| 565       | 18613.576314 | 0.432179      |"
      ]
     },
     "metadata": {},
     "output_type": "display_data"
    },
    {
     "data": {
      "text/html": [
       "<pre>| 566       | 18648.094831 | 0.432165      |</pre>"
      ],
      "text/plain": [
       "| 566       | 18648.094831 | 0.432165      |"
      ]
     },
     "metadata": {},
     "output_type": "display_data"
    },
    {
     "data": {
      "text/html": [
       "<pre>| 567       | 18679.447982 | 0.432148      |</pre>"
      ],
      "text/plain": [
       "| 567       | 18679.447982 | 0.432148      |"
      ]
     },
     "metadata": {},
     "output_type": "display_data"
    },
    {
     "data": {
      "text/html": [
       "<pre>| 568       | 18711.974305 | 0.432132      |</pre>"
      ],
      "text/plain": [
       "| 568       | 18711.974305 | 0.432132      |"
      ]
     },
     "metadata": {},
     "output_type": "display_data"
    },
    {
     "data": {
      "text/html": [
       "<pre>| 569       | 18746.430851 | 0.432109      |</pre>"
      ],
      "text/plain": [
       "| 569       | 18746.430851 | 0.432109      |"
      ]
     },
     "metadata": {},
     "output_type": "display_data"
    },
    {
     "data": {
      "text/html": [
       "<pre>| 570       | 18777.477616 | 0.432083      |</pre>"
      ],
      "text/plain": [
       "| 570       | 18777.477616 | 0.432083      |"
      ]
     },
     "metadata": {},
     "output_type": "display_data"
    },
    {
     "data": {
      "text/html": [
       "<pre>| 571       | 18808.742500 | 0.432071      |</pre>"
      ],
      "text/plain": [
       "| 571       | 18808.742500 | 0.432071      |"
      ]
     },
     "metadata": {},
     "output_type": "display_data"
    },
    {
     "data": {
      "text/html": [
       "<pre>| 572       | 18842.928120 | 0.432051      |</pre>"
      ],
      "text/plain": [
       "| 572       | 18842.928120 | 0.432051      |"
      ]
     },
     "metadata": {},
     "output_type": "display_data"
    },
    {
     "data": {
      "text/html": [
       "<pre>| 573       | 18877.014147 | 0.432018      |</pre>"
      ],
      "text/plain": [
       "| 573       | 18877.014147 | 0.432018      |"
      ]
     },
     "metadata": {},
     "output_type": "display_data"
    },
    {
     "data": {
      "text/html": [
       "<pre>| 574       | 18910.167356 | 0.431998      |</pre>"
      ],
      "text/plain": [
       "| 574       | 18910.167356 | 0.431998      |"
      ]
     },
     "metadata": {},
     "output_type": "display_data"
    },
    {
     "data": {
      "text/html": [
       "<pre>| 575       | 18941.861008 | 0.431978      |</pre>"
      ],
      "text/plain": [
       "| 575       | 18941.861008 | 0.431978      |"
      ]
     },
     "metadata": {},
     "output_type": "display_data"
    },
    {
     "data": {
      "text/html": [
       "<pre>| 576       | 18974.935764 | 0.431954      |</pre>"
      ],
      "text/plain": [
       "| 576       | 18974.935764 | 0.431954      |"
      ]
     },
     "metadata": {},
     "output_type": "display_data"
    },
    {
     "data": {
      "text/html": [
       "<pre>| 577       | 19009.663355 | 0.431930      |</pre>"
      ],
      "text/plain": [
       "| 577       | 19009.663355 | 0.431930      |"
      ]
     },
     "metadata": {},
     "output_type": "display_data"
    },
    {
     "data": {
      "text/html": [
       "<pre>| 578       | 19043.586820 | 0.431897      |</pre>"
      ],
      "text/plain": [
       "| 578       | 19043.586820 | 0.431897      |"
      ]
     },
     "metadata": {},
     "output_type": "display_data"
    },
    {
     "data": {
      "text/html": [
       "<pre>| 579       | 19075.795138 | 0.431889      |</pre>"
      ],
      "text/plain": [
       "| 579       | 19075.795138 | 0.431889      |"
      ]
     },
     "metadata": {},
     "output_type": "display_data"
    },
    {
     "data": {
      "text/html": [
       "<pre>| 580       | 19108.302778 | 0.431860      |</pre>"
      ],
      "text/plain": [
       "| 580       | 19108.302778 | 0.431860      |"
      ]
     },
     "metadata": {},
     "output_type": "display_data"
    },
    {
     "data": {
      "text/html": [
       "<pre>| 581       | 19142.450166 | 0.431816      |</pre>"
      ],
      "text/plain": [
       "| 581       | 19142.450166 | 0.431816      |"
      ]
     },
     "metadata": {},
     "output_type": "display_data"
    },
    {
     "data": {
      "text/html": [
       "<pre>| 582       | 19175.164227 | 0.431808      |</pre>"
      ],
      "text/plain": [
       "| 582       | 19175.164227 | 0.431808      |"
      ]
     },
     "metadata": {},
     "output_type": "display_data"
    },
    {
     "data": {
      "text/html": [
       "<pre>| 583       | 19207.751201 | 0.431790      |</pre>"
      ],
      "text/plain": [
       "| 583       | 19207.751201 | 0.431790      |"
      ]
     },
     "metadata": {},
     "output_type": "display_data"
    },
    {
     "data": {
      "text/html": [
       "<pre>| 584       | 19239.028738 | 0.431771      |</pre>"
      ],
      "text/plain": [
       "| 584       | 19239.028738 | 0.431771      |"
      ]
     },
     "metadata": {},
     "output_type": "display_data"
    },
    {
     "data": {
      "text/html": [
       "<pre>| 585       | 19270.965354 | 0.431762      |</pre>"
      ],
      "text/plain": [
       "| 585       | 19270.965354 | 0.431762      |"
      ]
     },
     "metadata": {},
     "output_type": "display_data"
    },
    {
     "data": {
      "text/html": [
       "<pre>| 586       | 19302.830026 | 0.431734      |</pre>"
      ],
      "text/plain": [
       "| 586       | 19302.830026 | 0.431734      |"
      ]
     },
     "metadata": {},
     "output_type": "display_data"
    },
    {
     "data": {
      "text/html": [
       "<pre>| 587       | 19336.070656 | 0.431719      |</pre>"
      ],
      "text/plain": [
       "| 587       | 19336.070656 | 0.431719      |"
      ]
     },
     "metadata": {},
     "output_type": "display_data"
    },
    {
     "data": {
      "text/html": [
       "<pre>| 588       | 19369.763773 | 0.431697      |</pre>"
      ],
      "text/plain": [
       "| 588       | 19369.763773 | 0.431697      |"
      ]
     },
     "metadata": {},
     "output_type": "display_data"
    },
    {
     "data": {
      "text/html": [
       "<pre>| 589       | 19402.364577 | 0.431686      |</pre>"
      ],
      "text/plain": [
       "| 589       | 19402.364577 | 0.431686      |"
      ]
     },
     "metadata": {},
     "output_type": "display_data"
    },
    {
     "data": {
      "text/html": [
       "<pre>| 590       | 19435.420554 | 0.431667      |</pre>"
      ],
      "text/plain": [
       "| 590       | 19435.420554 | 0.431667      |"
      ]
     },
     "metadata": {},
     "output_type": "display_data"
    },
    {
     "data": {
      "text/html": [
       "<pre>| 591       | 19467.357974 | 0.431648      |</pre>"
      ],
      "text/plain": [
       "| 591       | 19467.357974 | 0.431648      |"
      ]
     },
     "metadata": {},
     "output_type": "display_data"
    },
    {
     "data": {
      "text/html": [
       "<pre>| 592       | 19501.097209 | 0.431610      |</pre>"
      ],
      "text/plain": [
       "| 592       | 19501.097209 | 0.431610      |"
      ]
     },
     "metadata": {},
     "output_type": "display_data"
    },
    {
     "data": {
      "text/html": [
       "<pre>| 593       | 19533.572536 | 0.431601      |</pre>"
      ],
      "text/plain": [
       "| 593       | 19533.572536 | 0.431601      |"
      ]
     },
     "metadata": {},
     "output_type": "display_data"
    },
    {
     "data": {
      "text/html": [
       "<pre>| 594       | 19564.908026 | 0.431590      |</pre>"
      ],
      "text/plain": [
       "| 594       | 19564.908026 | 0.431590      |"
      ]
     },
     "metadata": {},
     "output_type": "display_data"
    },
    {
     "data": {
      "text/html": [
       "<pre>| 595       | 19598.285219 | 0.431573      |</pre>"
      ],
      "text/plain": [
       "| 595       | 19598.285219 | 0.431573      |"
      ]
     },
     "metadata": {},
     "output_type": "display_data"
    },
    {
     "data": {
      "text/html": [
       "<pre>| 596       | 19630.405475 | 0.431564      |</pre>"
      ],
      "text/plain": [
       "| 596       | 19630.405475 | 0.431564      |"
      ]
     },
     "metadata": {},
     "output_type": "display_data"
    },
    {
     "data": {
      "text/html": [
       "<pre>| 597       | 19662.241383 | 0.431535      |</pre>"
      ],
      "text/plain": [
       "| 597       | 19662.241383 | 0.431535      |"
      ]
     },
     "metadata": {},
     "output_type": "display_data"
    },
    {
     "data": {
      "text/html": [
       "<pre>| 598       | 19695.753901 | 0.431520      |</pre>"
      ],
      "text/plain": [
       "| 598       | 19695.753901 | 0.431520      |"
      ]
     },
     "metadata": {},
     "output_type": "display_data"
    },
    {
     "data": {
      "text/html": [
       "<pre>| 599       | 19727.643651 | 0.431507      |</pre>"
      ],
      "text/plain": [
       "| 599       | 19727.643651 | 0.431507      |"
      ]
     },
     "metadata": {},
     "output_type": "display_data"
    },
    {
     "data": {
      "text/html": [
       "<pre>| 600       | 19760.437548 | 0.431487      |</pre>"
      ],
      "text/plain": [
       "| 600       | 19760.437548 | 0.431487      |"
      ]
     },
     "metadata": {},
     "output_type": "display_data"
    },
    {
     "data": {
      "text/html": [
       "<pre>| 601       | 19792.783890 | 0.431476      |</pre>"
      ],
      "text/plain": [
       "| 601       | 19792.783890 | 0.431476      |"
      ]
     },
     "metadata": {},
     "output_type": "display_data"
    },
    {
     "data": {
      "text/html": [
       "<pre>| 602       | 19825.047513 | 0.431463      |</pre>"
      ],
      "text/plain": [
       "| 602       | 19825.047513 | 0.431463      |"
      ]
     },
     "metadata": {},
     "output_type": "display_data"
    },
    {
     "data": {
      "text/html": [
       "<pre>| 603       | 19858.857143 | 0.431447      |</pre>"
      ],
      "text/plain": [
       "| 603       | 19858.857143 | 0.431447      |"
      ]
     },
     "metadata": {},
     "output_type": "display_data"
    },
    {
     "data": {
      "text/html": [
       "<pre>| 604       | 19891.333444 | 0.431422      |</pre>"
      ],
      "text/plain": [
       "| 604       | 19891.333444 | 0.431422      |"
      ]
     },
     "metadata": {},
     "output_type": "display_data"
    },
    {
     "data": {
      "text/html": [
       "<pre>| 605       | 19926.235547 | 0.431407      |</pre>"
      ],
      "text/plain": [
       "| 605       | 19926.235547 | 0.431407      |"
      ]
     },
     "metadata": {},
     "output_type": "display_data"
    },
    {
     "data": {
      "text/html": [
       "<pre>| 606       | 19959.056863 | 0.431379      |</pre>"
      ],
      "text/plain": [
       "| 606       | 19959.056863 | 0.431379      |"
      ]
     },
     "metadata": {},
     "output_type": "display_data"
    },
    {
     "data": {
      "text/html": [
       "<pre>| 607       | 19991.547461 | 0.431370      |</pre>"
      ],
      "text/plain": [
       "| 607       | 19991.547461 | 0.431370      |"
      ]
     },
     "metadata": {},
     "output_type": "display_data"
    },
    {
     "data": {
      "text/html": [
       "<pre>| 608       | 20025.497578 | 0.431349      |</pre>"
      ],
      "text/plain": [
       "| 608       | 20025.497578 | 0.431349      |"
      ]
     },
     "metadata": {},
     "output_type": "display_data"
    },
    {
     "data": {
      "text/html": [
       "<pre>| 609       | 20056.747205 | 0.431323      |</pre>"
      ],
      "text/plain": [
       "| 609       | 20056.747205 | 0.431323      |"
      ]
     },
     "metadata": {},
     "output_type": "display_data"
    },
    {
     "data": {
      "text/html": [
       "<pre>| 610       | 20089.830211 | 0.431290      |</pre>"
      ],
      "text/plain": [
       "| 610       | 20089.830211 | 0.431290      |"
      ]
     },
     "metadata": {},
     "output_type": "display_data"
    },
    {
     "data": {
      "text/html": [
       "<pre>| 611       | 20125.033451 | 0.431261      |</pre>"
      ],
      "text/plain": [
       "| 611       | 20125.033451 | 0.431261      |"
      ]
     },
     "metadata": {},
     "output_type": "display_data"
    },
    {
     "data": {
      "text/html": [
       "<pre>| 612       | 20157.701445 | 0.431229      |</pre>"
      ],
      "text/plain": [
       "| 612       | 20157.701445 | 0.431229      |"
      ]
     },
     "metadata": {},
     "output_type": "display_data"
    },
    {
     "data": {
      "text/html": [
       "<pre>| 613       | 20192.102885 | 0.431225      |</pre>"
      ],
      "text/plain": [
       "| 613       | 20192.102885 | 0.431225      |"
      ]
     },
     "metadata": {},
     "output_type": "display_data"
    },
    {
     "data": {
      "text/html": [
       "<pre>| 614       | 20223.825646 | 0.431209      |</pre>"
      ],
      "text/plain": [
       "| 614       | 20223.825646 | 0.431209      |"
      ]
     },
     "metadata": {},
     "output_type": "display_data"
    },
    {
     "data": {
      "text/html": [
       "<pre>| 615       | 20254.308364 | 0.431199      |</pre>"
      ],
      "text/plain": [
       "| 615       | 20254.308364 | 0.431199      |"
      ]
     },
     "metadata": {},
     "output_type": "display_data"
    },
    {
     "data": {
      "text/html": [
       "<pre>| 616       | 20289.106188 | 0.431180      |</pre>"
      ],
      "text/plain": [
       "| 616       | 20289.106188 | 0.431180      |"
      ]
     },
     "metadata": {},
     "output_type": "display_data"
    },
    {
     "data": {
      "text/html": [
       "<pre>| 617       | 20322.474082 | 0.431167      |</pre>"
      ],
      "text/plain": [
       "| 617       | 20322.474082 | 0.431167      |"
      ]
     },
     "metadata": {},
     "output_type": "display_data"
    },
    {
     "data": {
      "text/html": [
       "<pre>| 618       | 20355.009622 | 0.431151      |</pre>"
      ],
      "text/plain": [
       "| 618       | 20355.009622 | 0.431151      |"
      ]
     },
     "metadata": {},
     "output_type": "display_data"
    },
    {
     "data": {
      "text/html": [
       "<pre>| 619       | 20390.778972 | 0.431124      |</pre>"
      ],
      "text/plain": [
       "| 619       | 20390.778972 | 0.431124      |"
      ]
     },
     "metadata": {},
     "output_type": "display_data"
    },
    {
     "data": {
      "text/html": [
       "<pre>| 620       | 20426.903508 | 0.431108      |</pre>"
      ],
      "text/plain": [
       "| 620       | 20426.903508 | 0.431108      |"
      ]
     },
     "metadata": {},
     "output_type": "display_data"
    },
    {
     "data": {
      "text/html": [
       "<pre>| 621       | 20458.864737 | 0.431064      |</pre>"
      ],
      "text/plain": [
       "| 621       | 20458.864737 | 0.431064      |"
      ]
     },
     "metadata": {},
     "output_type": "display_data"
    },
    {
     "data": {
      "text/html": [
       "<pre>| 622       | 20492.785491 | 0.431046      |</pre>"
      ],
      "text/plain": [
       "| 622       | 20492.785491 | 0.431046      |"
      ]
     },
     "metadata": {},
     "output_type": "display_data"
    },
    {
     "data": {
      "text/html": [
       "<pre>| 623       | 20524.852506 | 0.431036      |</pre>"
      ],
      "text/plain": [
       "| 623       | 20524.852506 | 0.431036      |"
      ]
     },
     "metadata": {},
     "output_type": "display_data"
    },
    {
     "data": {
      "text/html": [
       "<pre>| 624       | 20558.522615 | 0.431028      |</pre>"
      ],
      "text/plain": [
       "| 624       | 20558.522615 | 0.431028      |"
      ]
     },
     "metadata": {},
     "output_type": "display_data"
    },
    {
     "data": {
      "text/html": [
       "<pre>| 625       | 20587.687210 | 0.431024      |</pre>"
      ],
      "text/plain": [
       "| 625       | 20587.687210 | 0.431024      |"
      ]
     },
     "metadata": {},
     "output_type": "display_data"
    },
    {
     "data": {
      "text/html": [
       "<pre>| 626       | 20621.143638 | 0.431005      |</pre>"
      ],
      "text/plain": [
       "| 626       | 20621.143638 | 0.431005      |"
      ]
     },
     "metadata": {},
     "output_type": "display_data"
    },
    {
     "data": {
      "text/html": [
       "<pre>| 627       | 20651.166307 | 0.430982      |</pre>"
      ],
      "text/plain": [
       "| 627       | 20651.166307 | 0.430982      |"
      ]
     },
     "metadata": {},
     "output_type": "display_data"
    },
    {
     "data": {
      "text/html": [
       "<pre>| 628       | 20684.437259 | 0.430958      |</pre>"
      ],
      "text/plain": [
       "| 628       | 20684.437259 | 0.430958      |"
      ]
     },
     "metadata": {},
     "output_type": "display_data"
    },
    {
     "data": {
      "text/html": [
       "<pre>| 629       | 20718.758041 | 0.430941      |</pre>"
      ],
      "text/plain": [
       "| 629       | 20718.758041 | 0.430941      |"
      ]
     },
     "metadata": {},
     "output_type": "display_data"
    },
    {
     "data": {
      "text/html": [
       "<pre>| 630       | 20753.222906 | 0.430921      |</pre>"
      ],
      "text/plain": [
       "| 630       | 20753.222906 | 0.430921      |"
      ]
     },
     "metadata": {},
     "output_type": "display_data"
    },
    {
     "data": {
      "text/html": [
       "<pre>| 631       | 20785.746637 | 0.430903      |</pre>"
      ],
      "text/plain": [
       "| 631       | 20785.746637 | 0.430903      |"
      ]
     },
     "metadata": {},
     "output_type": "display_data"
    },
    {
     "data": {
      "text/html": [
       "<pre>| 632       | 20818.420372 | 0.430865      |</pre>"
      ],
      "text/plain": [
       "| 632       | 20818.420372 | 0.430865      |"
      ]
     },
     "metadata": {},
     "output_type": "display_data"
    },
    {
     "data": {
      "text/html": [
       "<pre>| 633       | 20850.883989 | 0.430862      |</pre>"
      ],
      "text/plain": [
       "| 633       | 20850.883989 | 0.430862      |"
      ]
     },
     "metadata": {},
     "output_type": "display_data"
    },
    {
     "data": {
      "text/html": [
       "<pre>| 634       | 20884.264358 | 0.430841      |</pre>"
      ],
      "text/plain": [
       "| 634       | 20884.264358 | 0.430841      |"
      ]
     },
     "metadata": {},
     "output_type": "display_data"
    },
    {
     "data": {
      "text/html": [
       "<pre>| 635       | 20915.408110 | 0.430817      |</pre>"
      ],
      "text/plain": [
       "| 635       | 20915.408110 | 0.430817      |"
      ]
     },
     "metadata": {},
     "output_type": "display_data"
    },
    {
     "data": {
      "text/html": [
       "<pre>| 636       | 20949.558987 | 0.430805      |</pre>"
      ],
      "text/plain": [
       "| 636       | 20949.558987 | 0.430805      |"
      ]
     },
     "metadata": {},
     "output_type": "display_data"
    },
    {
     "data": {
      "text/html": [
       "<pre>| 637       | 20982.051821 | 0.430785      |</pre>"
      ],
      "text/plain": [
       "| 637       | 20982.051821 | 0.430785      |"
      ]
     },
     "metadata": {},
     "output_type": "display_data"
    },
    {
     "data": {
      "text/html": [
       "<pre>| 638       | 21014.381924 | 0.430768      |</pre>"
      ],
      "text/plain": [
       "| 638       | 21014.381924 | 0.430768      |"
      ]
     },
     "metadata": {},
     "output_type": "display_data"
    },
    {
     "data": {
      "text/html": [
       "<pre>| 639       | 21048.418912 | 0.430746      |</pre>"
      ],
      "text/plain": [
       "| 639       | 21048.418912 | 0.430746      |"
      ]
     },
     "metadata": {},
     "output_type": "display_data"
    },
    {
     "data": {
      "text/html": [
       "<pre>| 640       | 21081.604151 | 0.430730      |</pre>"
      ],
      "text/plain": [
       "| 640       | 21081.604151 | 0.430730      |"
      ]
     },
     "metadata": {},
     "output_type": "display_data"
    },
    {
     "data": {
      "text/html": [
       "<pre>| 641       | 21112.674470 | 0.430713      |</pre>"
      ],
      "text/plain": [
       "| 641       | 21112.674470 | 0.430713      |"
      ]
     },
     "metadata": {},
     "output_type": "display_data"
    },
    {
     "data": {
      "text/html": [
       "<pre>| 642       | 21145.414509 | 0.430695      |</pre>"
      ],
      "text/plain": [
       "| 642       | 21145.414509 | 0.430695      |"
      ]
     },
     "metadata": {},
     "output_type": "display_data"
    },
    {
     "data": {
      "text/html": [
       "<pre>| 643       | 21178.118267 | 0.430681      |</pre>"
      ],
      "text/plain": [
       "| 643       | 21178.118267 | 0.430681      |"
      ]
     },
     "metadata": {},
     "output_type": "display_data"
    },
    {
     "data": {
      "text/html": [
       "<pre>| 644       | 21210.260708 | 0.430658      |</pre>"
      ],
      "text/plain": [
       "| 644       | 21210.260708 | 0.430658      |"
      ]
     },
     "metadata": {},
     "output_type": "display_data"
    },
    {
     "data": {
      "text/html": [
       "<pre>| 645       | 21240.516634 | 0.430644      |</pre>"
      ],
      "text/plain": [
       "| 645       | 21240.516634 | 0.430644      |"
      ]
     },
     "metadata": {},
     "output_type": "display_data"
    },
    {
     "data": {
      "text/html": [
       "<pre>| 646       | 21274.390864 | 0.430631      |</pre>"
      ],
      "text/plain": [
       "| 646       | 21274.390864 | 0.430631      |"
      ]
     },
     "metadata": {},
     "output_type": "display_data"
    },
    {
     "data": {
      "text/html": [
       "<pre>| 647       | 21307.411570 | 0.430614      |</pre>"
      ],
      "text/plain": [
       "| 647       | 21307.411570 | 0.430614      |"
      ]
     },
     "metadata": {},
     "output_type": "display_data"
    },
    {
     "data": {
      "text/html": [
       "<pre>| 648       | 21339.449181 | 0.430603      |</pre>"
      ],
      "text/plain": [
       "| 648       | 21339.449181 | 0.430603      |"
      ]
     },
     "metadata": {},
     "output_type": "display_data"
    },
    {
     "data": {
      "text/html": [
       "<pre>| 649       | 21371.432687 | 0.430580      |</pre>"
      ],
      "text/plain": [
       "| 649       | 21371.432687 | 0.430580      |"
      ]
     },
     "metadata": {},
     "output_type": "display_data"
    },
    {
     "data": {
      "text/html": [
       "<pre>| 650       | 21404.580554 | 0.430565      |</pre>"
      ],
      "text/plain": [
       "| 650       | 21404.580554 | 0.430565      |"
      ]
     },
     "metadata": {},
     "output_type": "display_data"
    },
    {
     "data": {
      "text/html": [
       "<pre>| 651       | 21438.622525 | 0.430540      |</pre>"
      ],
      "text/plain": [
       "| 651       | 21438.622525 | 0.430540      |"
      ]
     },
     "metadata": {},
     "output_type": "display_data"
    },
    {
     "data": {
      "text/html": [
       "<pre>| 652       | 21469.959652 | 0.430525      |</pre>"
      ],
      "text/plain": [
       "| 652       | 21469.959652 | 0.430525      |"
      ]
     },
     "metadata": {},
     "output_type": "display_data"
    },
    {
     "data": {
      "text/html": [
       "<pre>| 653       | 21502.842333 | 0.430511      |</pre>"
      ],
      "text/plain": [
       "| 653       | 21502.842333 | 0.430511      |"
      ]
     },
     "metadata": {},
     "output_type": "display_data"
    },
    {
     "data": {
      "text/html": [
       "<pre>| 654       | 21536.503162 | 0.430491      |</pre>"
      ],
      "text/plain": [
       "| 654       | 21536.503162 | 0.430491      |"
      ]
     },
     "metadata": {},
     "output_type": "display_data"
    },
    {
     "data": {
      "text/html": [
       "<pre>| 655       | 21569.489493 | 0.430474      |</pre>"
      ],
      "text/plain": [
       "| 655       | 21569.489493 | 0.430474      |"
      ]
     },
     "metadata": {},
     "output_type": "display_data"
    },
    {
     "data": {
      "text/html": [
       "<pre>| 656       | 21601.945700 | 0.430454      |</pre>"
      ],
      "text/plain": [
       "| 656       | 21601.945700 | 0.430454      |"
      ]
     },
     "metadata": {},
     "output_type": "display_data"
    },
    {
     "data": {
      "text/html": [
       "<pre>| 657       | 21634.504443 | 0.430440      |</pre>"
      ],
      "text/plain": [
       "| 657       | 21634.504443 | 0.430440      |"
      ]
     },
     "metadata": {},
     "output_type": "display_data"
    },
    {
     "data": {
      "text/html": [
       "<pre>| 658       | 21667.248629 | 0.430434      |</pre>"
      ],
      "text/plain": [
       "| 658       | 21667.248629 | 0.430434      |"
      ]
     },
     "metadata": {},
     "output_type": "display_data"
    },
    {
     "data": {
      "text/html": [
       "<pre>| 659       | 21700.741975 | 0.430424      |</pre>"
      ],
      "text/plain": [
       "| 659       | 21700.741975 | 0.430424      |"
      ]
     },
     "metadata": {},
     "output_type": "display_data"
    },
    {
     "data": {
      "text/html": [
       "<pre>| 660       | 21735.252621 | 0.430402      |</pre>"
      ],
      "text/plain": [
       "| 660       | 21735.252621 | 0.430402      |"
      ]
     },
     "metadata": {},
     "output_type": "display_data"
    },
    {
     "data": {
      "text/html": [
       "<pre>| 661       | 21767.605567 | 0.430395      |</pre>"
      ],
      "text/plain": [
       "| 661       | 21767.605567 | 0.430395      |"
      ]
     },
     "metadata": {},
     "output_type": "display_data"
    },
    {
     "data": {
      "text/html": [
       "<pre>| 662       | 21801.502819 | 0.430391      |</pre>"
      ],
      "text/plain": [
       "| 662       | 21801.502819 | 0.430391      |"
      ]
     },
     "metadata": {},
     "output_type": "display_data"
    },
    {
     "data": {
      "text/html": [
       "<pre>| 663       | 21836.040748 | 0.430374      |</pre>"
      ],
      "text/plain": [
       "| 663       | 21836.040748 | 0.430374      |"
      ]
     },
     "metadata": {},
     "output_type": "display_data"
    },
    {
     "data": {
      "text/html": [
       "<pre>| 664       | 21867.648658 | 0.430369      |</pre>"
      ],
      "text/plain": [
       "| 664       | 21867.648658 | 0.430369      |"
      ]
     },
     "metadata": {},
     "output_type": "display_data"
    },
    {
     "data": {
      "text/html": [
       "<pre>| 665       | 21900.156564 | 0.430353      |</pre>"
      ],
      "text/plain": [
       "| 665       | 21900.156564 | 0.430353      |"
      ]
     },
     "metadata": {},
     "output_type": "display_data"
    },
    {
     "data": {
      "text/html": [
       "<pre>| 666       | 21931.444706 | 0.430338      |</pre>"
      ],
      "text/plain": [
       "| 666       | 21931.444706 | 0.430338      |"
      ]
     },
     "metadata": {},
     "output_type": "display_data"
    },
    {
     "data": {
      "text/html": [
       "<pre>| 667       | 21965.421339 | 0.430325      |</pre>"
      ],
      "text/plain": [
       "| 667       | 21965.421339 | 0.430325      |"
      ]
     },
     "metadata": {},
     "output_type": "display_data"
    },
    {
     "data": {
      "text/html": [
       "<pre>| 668       | 21997.123986 | 0.430312      |</pre>"
      ],
      "text/plain": [
       "| 668       | 21997.123986 | 0.430312      |"
      ]
     },
     "metadata": {},
     "output_type": "display_data"
    },
    {
     "data": {
      "text/html": [
       "<pre>| 669       | 22031.103869 | 0.430283      |</pre>"
      ],
      "text/plain": [
       "| 669       | 22031.103869 | 0.430283      |"
      ]
     },
     "metadata": {},
     "output_type": "display_data"
    },
    {
     "data": {
      "text/html": [
       "<pre>| 670       | 22064.707932 | 0.430271      |</pre>"
      ],
      "text/plain": [
       "| 670       | 22064.707932 | 0.430271      |"
      ]
     },
     "metadata": {},
     "output_type": "display_data"
    },
    {
     "data": {
      "text/html": [
       "<pre>| 671       | 22098.663410 | 0.430236      |</pre>"
      ],
      "text/plain": [
       "| 671       | 22098.663410 | 0.430236      |"
      ]
     },
     "metadata": {},
     "output_type": "display_data"
    },
    {
     "data": {
      "text/html": [
       "<pre>| 672       | 22130.140454 | 0.430225      |</pre>"
      ],
      "text/plain": [
       "| 672       | 22130.140454 | 0.430225      |"
      ]
     },
     "metadata": {},
     "output_type": "display_data"
    },
    {
     "data": {
      "text/html": [
       "<pre>| 673       | 22163.676449 | 0.430205      |</pre>"
      ],
      "text/plain": [
       "| 673       | 22163.676449 | 0.430205      |"
      ]
     },
     "metadata": {},
     "output_type": "display_data"
    },
    {
     "data": {
      "text/html": [
       "<pre>| 674       | 22197.467074 | 0.430167      |</pre>"
      ],
      "text/plain": [
       "| 674       | 22197.467074 | 0.430167      |"
      ]
     },
     "metadata": {},
     "output_type": "display_data"
    },
    {
     "data": {
      "text/html": [
       "<pre>| 675       | 22232.760109 | 0.430133      |</pre>"
      ],
      "text/plain": [
       "| 675       | 22232.760109 | 0.430133      |"
      ]
     },
     "metadata": {},
     "output_type": "display_data"
    },
    {
     "data": {
      "text/html": [
       "<pre>| 676       | 22264.556144 | 0.430125      |</pre>"
      ],
      "text/plain": [
       "| 676       | 22264.556144 | 0.430125      |"
      ]
     },
     "metadata": {},
     "output_type": "display_data"
    },
    {
     "data": {
      "text/html": [
       "<pre>| 677       | 22296.130651 | 0.430102      |</pre>"
      ],
      "text/plain": [
       "| 677       | 22296.130651 | 0.430102      |"
      ]
     },
     "metadata": {},
     "output_type": "display_data"
    },
    {
     "data": {
      "text/html": [
       "<pre>| 678       | 22329.568750 | 0.430074      |</pre>"
      ],
      "text/plain": [
       "| 678       | 22329.568750 | 0.430074      |"
      ]
     },
     "metadata": {},
     "output_type": "display_data"
    },
    {
     "data": {
      "text/html": [
       "<pre>| 679       | 22363.427272 | 0.430060      |</pre>"
      ],
      "text/plain": [
       "| 679       | 22363.427272 | 0.430060      |"
      ]
     },
     "metadata": {},
     "output_type": "display_data"
    },
    {
     "data": {
      "text/html": [
       "<pre>| 680       | 22395.462576 | 0.430048      |</pre>"
      ],
      "text/plain": [
       "| 680       | 22395.462576 | 0.430048      |"
      ]
     },
     "metadata": {},
     "output_type": "display_data"
    },
    {
     "data": {
      "text/html": [
       "<pre>| 681       | 22428.847626 | 0.430033      |</pre>"
      ],
      "text/plain": [
       "| 681       | 22428.847626 | 0.430033      |"
      ]
     },
     "metadata": {},
     "output_type": "display_data"
    },
    {
     "data": {
      "text/html": [
       "<pre>| 682       | 22459.145839 | 0.430013      |</pre>"
      ],
      "text/plain": [
       "| 682       | 22459.145839 | 0.430013      |"
      ]
     },
     "metadata": {},
     "output_type": "display_data"
    },
    {
     "data": {
      "text/html": [
       "<pre>| 683       | 22490.985096 | 0.429987      |</pre>"
      ],
      "text/plain": [
       "| 683       | 22490.985096 | 0.429987      |"
      ]
     },
     "metadata": {},
     "output_type": "display_data"
    },
    {
     "data": {
      "text/html": [
       "<pre>| 684       | 22524.535817 | 0.429963      |</pre>"
      ],
      "text/plain": [
       "| 684       | 22524.535817 | 0.429963      |"
      ]
     },
     "metadata": {},
     "output_type": "display_data"
    },
    {
     "data": {
      "text/html": [
       "<pre>| 685       | 22555.681849 | 0.429944      |</pre>"
      ],
      "text/plain": [
       "| 685       | 22555.681849 | 0.429944      |"
      ]
     },
     "metadata": {},
     "output_type": "display_data"
    },
    {
     "data": {
      "text/html": [
       "<pre>| 686       | 22586.546600 | 0.429933      |</pre>"
      ],
      "text/plain": [
       "| 686       | 22586.546600 | 0.429933      |"
      ]
     },
     "metadata": {},
     "output_type": "display_data"
    },
    {
     "data": {
      "text/html": [
       "<pre>| 687       | 22617.009874 | 0.429916      |</pre>"
      ],
      "text/plain": [
       "| 687       | 22617.009874 | 0.429916      |"
      ]
     },
     "metadata": {},
     "output_type": "display_data"
    },
    {
     "data": {
      "text/html": [
       "<pre>| 688       | 22652.028748 | 0.429904      |</pre>"
      ],
      "text/plain": [
       "| 688       | 22652.028748 | 0.429904      |"
      ]
     },
     "metadata": {},
     "output_type": "display_data"
    },
    {
     "data": {
      "text/html": [
       "<pre>| 689       | 22683.433374 | 0.429891      |</pre>"
      ],
      "text/plain": [
       "| 689       | 22683.433374 | 0.429891      |"
      ]
     },
     "metadata": {},
     "output_type": "display_data"
    },
    {
     "data": {
      "text/html": [
       "<pre>| 690       | 22717.431180 | 0.429878      |</pre>"
      ],
      "text/plain": [
       "| 690       | 22717.431180 | 0.429878      |"
      ]
     },
     "metadata": {},
     "output_type": "display_data"
    },
    {
     "data": {
      "text/html": [
       "<pre>| 691       | 22749.846605 | 0.429869      |</pre>"
      ],
      "text/plain": [
       "| 691       | 22749.846605 | 0.429869      |"
      ]
     },
     "metadata": {},
     "output_type": "display_data"
    },
    {
     "data": {
      "text/html": [
       "<pre>| 692       | 22780.713604 | 0.429859      |</pre>"
      ],
      "text/plain": [
       "| 692       | 22780.713604 | 0.429859      |"
      ]
     },
     "metadata": {},
     "output_type": "display_data"
    },
    {
     "data": {
      "text/html": [
       "<pre>| 693       | 22813.378098 | 0.429849      |</pre>"
      ],
      "text/plain": [
       "| 693       | 22813.378098 | 0.429849      |"
      ]
     },
     "metadata": {},
     "output_type": "display_data"
    },
    {
     "data": {
      "text/html": [
       "<pre>| 694       | 22844.452149 | 0.429836      |</pre>"
      ],
      "text/plain": [
       "| 694       | 22844.452149 | 0.429836      |"
      ]
     },
     "metadata": {},
     "output_type": "display_data"
    },
    {
     "data": {
      "text/html": [
       "<pre>| 695       | 22877.665316 | 0.429817      |</pre>"
      ],
      "text/plain": [
       "| 695       | 22877.665316 | 0.429817      |"
      ]
     },
     "metadata": {},
     "output_type": "display_data"
    },
    {
     "data": {
      "text/html": [
       "<pre>| 696       | 22911.403714 | 0.429798      |</pre>"
      ],
      "text/plain": [
       "| 696       | 22911.403714 | 0.429798      |"
      ]
     },
     "metadata": {},
     "output_type": "display_data"
    },
    {
     "data": {
      "text/html": [
       "<pre>| 697       | 22945.163345 | 0.429766      |</pre>"
      ],
      "text/plain": [
       "| 697       | 22945.163345 | 0.429766      |"
      ]
     },
     "metadata": {},
     "output_type": "display_data"
    },
    {
     "data": {
      "text/html": [
       "<pre>| 698       | 22975.876356 | 0.429753      |</pre>"
      ],
      "text/plain": [
       "| 698       | 22975.876356 | 0.429753      |"
      ]
     },
     "metadata": {},
     "output_type": "display_data"
    },
    {
     "data": {
      "text/html": [
       "<pre>| 699       | 23007.578386 | 0.429732      |</pre>"
      ],
      "text/plain": [
       "| 699       | 23007.578386 | 0.429732      |"
      ]
     },
     "metadata": {},
     "output_type": "display_data"
    },
    {
     "data": {
      "text/html": [
       "<pre>| 700       | 23040.563508 | 0.429718      |</pre>"
      ],
      "text/plain": [
       "| 700       | 23040.563508 | 0.429718      |"
      ]
     },
     "metadata": {},
     "output_type": "display_data"
    },
    {
     "data": {
      "text/html": [
       "<pre>| 701       | 23073.387738 | 0.429699      |</pre>"
      ],
      "text/plain": [
       "| 701       | 23073.387738 | 0.429699      |"
      ]
     },
     "metadata": {},
     "output_type": "display_data"
    },
    {
     "data": {
      "text/html": [
       "<pre>| 702       | 23106.681872 | 0.429685      |</pre>"
      ],
      "text/plain": [
       "| 702       | 23106.681872 | 0.429685      |"
      ]
     },
     "metadata": {},
     "output_type": "display_data"
    },
    {
     "data": {
      "text/html": [
       "<pre>| 703       | 23141.054201 | 0.429674      |</pre>"
      ],
      "text/plain": [
       "| 703       | 23141.054201 | 0.429674      |"
      ]
     },
     "metadata": {},
     "output_type": "display_data"
    },
    {
     "data": {
      "text/html": [
       "<pre>| 704       | 23175.448958 | 0.429653      |</pre>"
      ],
      "text/plain": [
       "| 704       | 23175.448958 | 0.429653      |"
      ]
     },
     "metadata": {},
     "output_type": "display_data"
    },
    {
     "data": {
      "text/html": [
       "<pre>| 705       | 23208.059677 | 0.429633      |</pre>"
      ],
      "text/plain": [
       "| 705       | 23208.059677 | 0.429633      |"
      ]
     },
     "metadata": {},
     "output_type": "display_data"
    },
    {
     "data": {
      "text/html": [
       "<pre>| 706       | 23242.498708 | 0.429613      |</pre>"
      ],
      "text/plain": [
       "| 706       | 23242.498708 | 0.429613      |"
      ]
     },
     "metadata": {},
     "output_type": "display_data"
    },
    {
     "data": {
      "text/html": [
       "<pre>| 707       | 23275.986782 | 0.429595      |</pre>"
      ],
      "text/plain": [
       "| 707       | 23275.986782 | 0.429595      |"
      ]
     },
     "metadata": {},
     "output_type": "display_data"
    },
    {
     "data": {
      "text/html": [
       "<pre>| 708       | 23311.966882 | 0.429555      |</pre>"
      ],
      "text/plain": [
       "| 708       | 23311.966882 | 0.429555      |"
      ]
     },
     "metadata": {},
     "output_type": "display_data"
    },
    {
     "data": {
      "text/html": [
       "<pre>| 709       | 23344.499080 | 0.429545      |</pre>"
      ],
      "text/plain": [
       "| 709       | 23344.499080 | 0.429545      |"
      ]
     },
     "metadata": {},
     "output_type": "display_data"
    },
    {
     "data": {
      "text/html": [
       "<pre>| 710       | 23377.724348 | 0.429520      |</pre>"
      ],
      "text/plain": [
       "| 710       | 23377.724348 | 0.429520      |"
      ]
     },
     "metadata": {},
     "output_type": "display_data"
    },
    {
     "data": {
      "text/html": [
       "<pre>| 711       | 23412.433750 | 0.429475      |</pre>"
      ],
      "text/plain": [
       "| 711       | 23412.433750 | 0.429475      |"
      ]
     },
     "metadata": {},
     "output_type": "display_data"
    },
    {
     "data": {
      "text/html": [
       "<pre>| 712       | 23443.331745 | 0.429468      |</pre>"
      ],
      "text/plain": [
       "| 712       | 23443.331745 | 0.429468      |"
      ]
     },
     "metadata": {},
     "output_type": "display_data"
    },
    {
     "data": {
      "text/html": [
       "<pre>| 713       | 23477.019763 | 0.429441      |</pre>"
      ],
      "text/plain": [
       "| 713       | 23477.019763 | 0.429441      |"
      ]
     },
     "metadata": {},
     "output_type": "display_data"
    },
    {
     "data": {
      "text/html": [
       "<pre>| 714       | 23510.421350 | 0.429427      |</pre>"
      ],
      "text/plain": [
       "| 714       | 23510.421350 | 0.429427      |"
      ]
     },
     "metadata": {},
     "output_type": "display_data"
    },
    {
     "data": {
      "text/html": [
       "<pre>| 715       | 23541.808955 | 0.429418      |</pre>"
      ],
      "text/plain": [
       "| 715       | 23541.808955 | 0.429418      |"
      ]
     },
     "metadata": {},
     "output_type": "display_data"
    },
    {
     "data": {
      "text/html": [
       "<pre>| 716       | 23574.796768 | 0.429384      |</pre>"
      ],
      "text/plain": [
       "| 716       | 23574.796768 | 0.429384      |"
      ]
     },
     "metadata": {},
     "output_type": "display_data"
    },
    {
     "data": {
      "text/html": [
       "<pre>| 717       | 23607.264823 | 0.429370      |</pre>"
      ],
      "text/plain": [
       "| 717       | 23607.264823 | 0.429370      |"
      ]
     },
     "metadata": {},
     "output_type": "display_data"
    },
    {
     "data": {
      "text/html": [
       "<pre>| 718       | 23641.130848 | 0.429351      |</pre>"
      ],
      "text/plain": [
       "| 718       | 23641.130848 | 0.429351      |"
      ]
     },
     "metadata": {},
     "output_type": "display_data"
    },
    {
     "data": {
      "text/html": [
       "<pre>| 719       | 23674.283914 | 0.429329      |</pre>"
      ],
      "text/plain": [
       "| 719       | 23674.283914 | 0.429329      |"
      ]
     },
     "metadata": {},
     "output_type": "display_data"
    },
    {
     "data": {
      "text/html": [
       "<pre>| 720       | 23706.646982 | 0.429310      |</pre>"
      ],
      "text/plain": [
       "| 720       | 23706.646982 | 0.429310      |"
      ]
     },
     "metadata": {},
     "output_type": "display_data"
    },
    {
     "data": {
      "text/html": [
       "<pre>| 721       | 23739.118276 | 0.429304      |</pre>"
      ],
      "text/plain": [
       "| 721       | 23739.118276 | 0.429304      |"
      ]
     },
     "metadata": {},
     "output_type": "display_data"
    },
    {
     "data": {
      "text/html": [
       "<pre>| 722       | 23771.560051 | 0.429279      |</pre>"
      ],
      "text/plain": [
       "| 722       | 23771.560051 | 0.429279      |"
      ]
     },
     "metadata": {},
     "output_type": "display_data"
    },
    {
     "data": {
      "text/html": [
       "<pre>| 723       | 23803.996312 | 0.429260      |</pre>"
      ],
      "text/plain": [
       "| 723       | 23803.996312 | 0.429260      |"
      ]
     },
     "metadata": {},
     "output_type": "display_data"
    },
    {
     "data": {
      "text/html": [
       "<pre>| 724       | 23836.203752 | 0.429243      |</pre>"
      ],
      "text/plain": [
       "| 724       | 23836.203752 | 0.429243      |"
      ]
     },
     "metadata": {},
     "output_type": "display_data"
    },
    {
     "data": {
      "text/html": [
       "<pre>| 725       | 23868.047963 | 0.429221      |</pre>"
      ],
      "text/plain": [
       "| 725       | 23868.047963 | 0.429221      |"
      ]
     },
     "metadata": {},
     "output_type": "display_data"
    },
    {
     "data": {
      "text/html": [
       "<pre>| 726       | 23901.263965 | 0.429203      |</pre>"
      ],
      "text/plain": [
       "| 726       | 23901.263965 | 0.429203      |"
      ]
     },
     "metadata": {},
     "output_type": "display_data"
    },
    {
     "data": {
      "text/html": [
       "<pre>| 727       | 23933.563588 | 0.429184      |</pre>"
      ],
      "text/plain": [
       "| 727       | 23933.563588 | 0.429184      |"
      ]
     },
     "metadata": {},
     "output_type": "display_data"
    },
    {
     "data": {
      "text/html": [
       "<pre>| 728       | 23966.999899 | 0.429157      |</pre>"
      ],
      "text/plain": [
       "| 728       | 23966.999899 | 0.429157      |"
      ]
     },
     "metadata": {},
     "output_type": "display_data"
    },
    {
     "data": {
      "text/html": [
       "<pre>| 729       | 23997.799106 | 0.429146      |</pre>"
      ],
      "text/plain": [
       "| 729       | 23997.799106 | 0.429146      |"
      ]
     },
     "metadata": {},
     "output_type": "display_data"
    },
    {
     "data": {
      "text/html": [
       "<pre>| 730       | 24029.106575 | 0.429129      |</pre>"
      ],
      "text/plain": [
       "| 730       | 24029.106575 | 0.429129      |"
      ]
     },
     "metadata": {},
     "output_type": "display_data"
    },
    {
     "data": {
      "text/html": [
       "<pre>| 731       | 24060.073943 | 0.429096      |</pre>"
      ],
      "text/plain": [
       "| 731       | 24060.073943 | 0.429096      |"
      ]
     },
     "metadata": {},
     "output_type": "display_data"
    },
    {
     "data": {
      "text/html": [
       "<pre>| 732       | 24090.621347 | 0.429086      |</pre>"
      ],
      "text/plain": [
       "| 732       | 24090.621347 | 0.429086      |"
      ]
     },
     "metadata": {},
     "output_type": "display_data"
    },
    {
     "data": {
      "text/html": [
       "<pre>| 733       | 24123.115807 | 0.429065      |</pre>"
      ],
      "text/plain": [
       "| 733       | 24123.115807 | 0.429065      |"
      ]
     },
     "metadata": {},
     "output_type": "display_data"
    },
    {
     "data": {
      "text/html": [
       "<pre>| 734       | 24156.390886 | 0.429052      |</pre>"
      ],
      "text/plain": [
       "| 734       | 24156.390886 | 0.429052      |"
      ]
     },
     "metadata": {},
     "output_type": "display_data"
    },
    {
     "data": {
      "text/html": [
       "<pre>| 735       | 24187.582595 | 0.429036      |</pre>"
      ],
      "text/plain": [
       "| 735       | 24187.582595 | 0.429036      |"
      ]
     },
     "metadata": {},
     "output_type": "display_data"
    },
    {
     "data": {
      "text/html": [
       "<pre>| 736       | 24219.402108 | 0.429016      |</pre>"
      ],
      "text/plain": [
       "| 736       | 24219.402108 | 0.429016      |"
      ]
     },
     "metadata": {},
     "output_type": "display_data"
    },
    {
     "data": {
      "text/html": [
       "<pre>| 737       | 24250.808273 | 0.429001      |</pre>"
      ],
      "text/plain": [
       "| 737       | 24250.808273 | 0.429001      |"
      ]
     },
     "metadata": {},
     "output_type": "display_data"
    },
    {
     "data": {
      "text/html": [
       "<pre>| 738       | 24285.413930 | 0.428978      |</pre>"
      ],
      "text/plain": [
       "| 738       | 24285.413930 | 0.428978      |"
      ]
     },
     "metadata": {},
     "output_type": "display_data"
    },
    {
     "data": {
      "text/html": [
       "<pre>| 739       | 24316.951164 | 0.428947      |</pre>"
      ],
      "text/plain": [
       "| 739       | 24316.951164 | 0.428947      |"
      ]
     },
     "metadata": {},
     "output_type": "display_data"
    },
    {
     "data": {
      "text/html": [
       "<pre>| 740       | 24350.545640 | 0.428920      |</pre>"
      ],
      "text/plain": [
       "| 740       | 24350.545640 | 0.428920      |"
      ]
     },
     "metadata": {},
     "output_type": "display_data"
    },
    {
     "data": {
      "text/html": [
       "<pre>| 741       | 24382.457203 | 0.428907      |</pre>"
      ],
      "text/plain": [
       "| 741       | 24382.457203 | 0.428907      |"
      ]
     },
     "metadata": {},
     "output_type": "display_data"
    },
    {
     "data": {
      "text/html": [
       "<pre>| 742       | 24414.319163 | 0.428890      |</pre>"
      ],
      "text/plain": [
       "| 742       | 24414.319163 | 0.428890      |"
      ]
     },
     "metadata": {},
     "output_type": "display_data"
    },
    {
     "data": {
      "text/html": [
       "<pre>| 743       | 24446.353818 | 0.428867      |</pre>"
      ],
      "text/plain": [
       "| 743       | 24446.353818 | 0.428867      |"
      ]
     },
     "metadata": {},
     "output_type": "display_data"
    },
    {
     "data": {
      "text/html": [
       "<pre>| 744       | 24479.621086 | 0.428838      |</pre>"
      ],
      "text/plain": [
       "| 744       | 24479.621086 | 0.428838      |"
      ]
     },
     "metadata": {},
     "output_type": "display_data"
    },
    {
     "data": {
      "text/html": [
       "<pre>| 745       | 24511.738268 | 0.428816      |</pre>"
      ],
      "text/plain": [
       "| 745       | 24511.738268 | 0.428816      |"
      ]
     },
     "metadata": {},
     "output_type": "display_data"
    },
    {
     "data": {
      "text/html": [
       "<pre>| 746       | 24543.244999 | 0.428805      |</pre>"
      ],
      "text/plain": [
       "| 746       | 24543.244999 | 0.428805      |"
      ]
     },
     "metadata": {},
     "output_type": "display_data"
    },
    {
     "data": {
      "text/html": [
       "<pre>| 747       | 24575.807787 | 0.428771      |</pre>"
      ],
      "text/plain": [
       "| 747       | 24575.807787 | 0.428771      |"
      ]
     },
     "metadata": {},
     "output_type": "display_data"
    },
    {
     "data": {
      "text/html": [
       "<pre>| 748       | 24607.041354 | 0.428765      |</pre>"
      ],
      "text/plain": [
       "| 748       | 24607.041354 | 0.428765      |"
      ]
     },
     "metadata": {},
     "output_type": "display_data"
    },
    {
     "data": {
      "text/html": [
       "<pre>| 749       | 24640.551701 | 0.428755      |</pre>"
      ],
      "text/plain": [
       "| 749       | 24640.551701 | 0.428755      |"
      ]
     },
     "metadata": {},
     "output_type": "display_data"
    },
    {
     "data": {
      "text/html": [
       "<pre>| 750       | 24671.923682 | 0.428734      |</pre>"
      ],
      "text/plain": [
       "| 750       | 24671.923682 | 0.428734      |"
      ]
     },
     "metadata": {},
     "output_type": "display_data"
    },
    {
     "data": {
      "text/html": [
       "<pre>| 751       | 24704.782317 | 0.428699      |</pre>"
      ],
      "text/plain": [
       "| 751       | 24704.782317 | 0.428699      |"
      ]
     },
     "metadata": {},
     "output_type": "display_data"
    },
    {
     "data": {
      "text/html": [
       "<pre>| 752       | 24738.660314 | 0.428671      |</pre>"
      ],
      "text/plain": [
       "| 752       | 24738.660314 | 0.428671      |"
      ]
     },
     "metadata": {},
     "output_type": "display_data"
    },
    {
     "data": {
      "text/html": [
       "<pre>| 753       | 24773.291122 | 0.428661      |</pre>"
      ],
      "text/plain": [
       "| 753       | 24773.291122 | 0.428661      |"
      ]
     },
     "metadata": {},
     "output_type": "display_data"
    },
    {
     "data": {
      "text/html": [
       "<pre>| 754       | 24807.863506 | 0.428656      |</pre>"
      ],
      "text/plain": [
       "| 754       | 24807.863506 | 0.428656      |"
      ]
     },
     "metadata": {},
     "output_type": "display_data"
    },
    {
     "data": {
      "text/html": [
       "<pre>| 755       | 24839.651690 | 0.428643      |</pre>"
      ],
      "text/plain": [
       "| 755       | 24839.651690 | 0.428643      |"
      ]
     },
     "metadata": {},
     "output_type": "display_data"
    },
    {
     "data": {
      "text/html": [
       "<pre>| 756       | 24874.250594 | 0.428615      |</pre>"
      ],
      "text/plain": [
       "| 756       | 24874.250594 | 0.428615      |"
      ]
     },
     "metadata": {},
     "output_type": "display_data"
    },
    {
     "data": {
      "text/html": [
       "<pre>| 757       | 24907.332857 | 0.428593      |</pre>"
      ],
      "text/plain": [
       "| 757       | 24907.332857 | 0.428593      |"
      ]
     },
     "metadata": {},
     "output_type": "display_data"
    },
    {
     "data": {
      "text/html": [
       "<pre>| 758       | 24938.206386 | 0.428581      |</pre>"
      ],
      "text/plain": [
       "| 758       | 24938.206386 | 0.428581      |"
      ]
     },
     "metadata": {},
     "output_type": "display_data"
    },
    {
     "data": {
      "text/html": [
       "<pre>| 759       | 24970.426239 | 0.428560      |</pre>"
      ],
      "text/plain": [
       "| 759       | 24970.426239 | 0.428560      |"
      ]
     },
     "metadata": {},
     "output_type": "display_data"
    },
    {
     "data": {
      "text/html": [
       "<pre>| 760       | 25003.976150 | 0.428546      |</pre>"
      ],
      "text/plain": [
       "| 760       | 25003.976150 | 0.428546      |"
      ]
     },
     "metadata": {},
     "output_type": "display_data"
    },
    {
     "data": {
      "text/html": [
       "<pre>| 761       | 25035.790025 | 0.428534      |</pre>"
      ],
      "text/plain": [
       "| 761       | 25035.790025 | 0.428534      |"
      ]
     },
     "metadata": {},
     "output_type": "display_data"
    },
    {
     "data": {
      "text/html": [
       "<pre>| 762       | 25067.482471 | 0.428504      |</pre>"
      ],
      "text/plain": [
       "| 762       | 25067.482471 | 0.428504      |"
      ]
     },
     "metadata": {},
     "output_type": "display_data"
    },
    {
     "data": {
      "text/html": [
       "<pre>| 763       | 25102.572235 | 0.428474      |</pre>"
      ],
      "text/plain": [
       "| 763       | 25102.572235 | 0.428474      |"
      ]
     },
     "metadata": {},
     "output_type": "display_data"
    },
    {
     "data": {
      "text/html": [
       "<pre>| 764       | 25133.612291 | 0.428434      |</pre>"
      ],
      "text/plain": [
       "| 764       | 25133.612291 | 0.428434      |"
      ]
     },
     "metadata": {},
     "output_type": "display_data"
    },
    {
     "data": {
      "text/html": [
       "<pre>| 765       | 25165.727000 | 0.428421      |</pre>"
      ],
      "text/plain": [
       "| 765       | 25165.727000 | 0.428421      |"
      ]
     },
     "metadata": {},
     "output_type": "display_data"
    },
    {
     "data": {
      "text/html": [
       "<pre>| 766       | 25200.132969 | 0.428415      |</pre>"
      ],
      "text/plain": [
       "| 766       | 25200.132969 | 0.428415      |"
      ]
     },
     "metadata": {},
     "output_type": "display_data"
    },
    {
     "data": {
      "text/html": [
       "<pre>| 767       | 25231.340209 | 0.428408      |</pre>"
      ],
      "text/plain": [
       "| 767       | 25231.340209 | 0.428408      |"
      ]
     },
     "metadata": {},
     "output_type": "display_data"
    },
    {
     "data": {
      "text/html": [
       "<pre>| 768       | 25266.678872 | 0.428372      |</pre>"
      ],
      "text/plain": [
       "| 768       | 25266.678872 | 0.428372      |"
      ]
     },
     "metadata": {},
     "output_type": "display_data"
    },
    {
     "data": {
      "text/html": [
       "<pre>| 769       | 25297.853077 | 0.428357      |</pre>"
      ],
      "text/plain": [
       "| 769       | 25297.853077 | 0.428357      |"
      ]
     },
     "metadata": {},
     "output_type": "display_data"
    },
    {
     "data": {
      "text/html": [
       "<pre>| 770       | 25329.939185 | 0.428335      |</pre>"
      ],
      "text/plain": [
       "| 770       | 25329.939185 | 0.428335      |"
      ]
     },
     "metadata": {},
     "output_type": "display_data"
    },
    {
     "data": {
      "text/html": [
       "<pre>| 771       | 25360.505474 | 0.428311      |</pre>"
      ],
      "text/plain": [
       "| 771       | 25360.505474 | 0.428311      |"
      ]
     },
     "metadata": {},
     "output_type": "display_data"
    },
    {
     "data": {
      "text/html": [
       "<pre>| 772       | 25393.655986 | 0.428293      |</pre>"
      ],
      "text/plain": [
       "| 772       | 25393.655986 | 0.428293      |"
      ]
     },
     "metadata": {},
     "output_type": "display_data"
    },
    {
     "data": {
      "text/html": [
       "<pre>| 773       | 25425.588551 | 0.428283      |</pre>"
      ],
      "text/plain": [
       "| 773       | 25425.588551 | 0.428283      |"
      ]
     },
     "metadata": {},
     "output_type": "display_data"
    },
    {
     "data": {
      "text/html": [
       "<pre>| 774       | 25458.615219 | 0.428264      |</pre>"
      ],
      "text/plain": [
       "| 774       | 25458.615219 | 0.428264      |"
      ]
     },
     "metadata": {},
     "output_type": "display_data"
    },
    {
     "data": {
      "text/html": [
       "<pre>| 775       | 25491.705505 | 0.428233      |</pre>"
      ],
      "text/plain": [
       "| 775       | 25491.705505 | 0.428233      |"
      ]
     },
     "metadata": {},
     "output_type": "display_data"
    },
    {
     "data": {
      "text/html": [
       "<pre>| 776       | 25526.068822 | 0.428214      |</pre>"
      ],
      "text/plain": [
       "| 776       | 25526.068822 | 0.428214      |"
      ]
     },
     "metadata": {},
     "output_type": "display_data"
    },
    {
     "data": {
      "text/html": [
       "<pre>| 777       | 25560.308080 | 0.428191      |</pre>"
      ],
      "text/plain": [
       "| 777       | 25560.308080 | 0.428191      |"
      ]
     },
     "metadata": {},
     "output_type": "display_data"
    },
    {
     "data": {
      "text/html": [
       "<pre>| 778       | 25594.039737 | 0.428176      |</pre>"
      ],
      "text/plain": [
       "| 778       | 25594.039737 | 0.428176      |"
      ]
     },
     "metadata": {},
     "output_type": "display_data"
    },
    {
     "data": {
      "text/html": [
       "<pre>| 779       | 25629.011568 | 0.428154      |</pre>"
      ],
      "text/plain": [
       "| 779       | 25629.011568 | 0.428154      |"
      ]
     },
     "metadata": {},
     "output_type": "display_data"
    },
    {
     "data": {
      "text/html": [
       "<pre>| 780       | 25659.440760 | 0.428120      |</pre>"
      ],
      "text/plain": [
       "| 780       | 25659.440760 | 0.428120      |"
      ]
     },
     "metadata": {},
     "output_type": "display_data"
    },
    {
     "data": {
      "text/html": [
       "<pre>| 781       | 25695.758726 | 0.428096      |</pre>"
      ],
      "text/plain": [
       "| 781       | 25695.758726 | 0.428096      |"
      ]
     },
     "metadata": {},
     "output_type": "display_data"
    },
    {
     "data": {
      "text/html": [
       "<pre>| 782       | 25728.460430 | 0.428076      |</pre>"
      ],
      "text/plain": [
       "| 782       | 25728.460430 | 0.428076      |"
      ]
     },
     "metadata": {},
     "output_type": "display_data"
    },
    {
     "data": {
      "text/html": [
       "<pre>| 783       | 25759.486585 | 0.428062      |</pre>"
      ],
      "text/plain": [
       "| 783       | 25759.486585 | 0.428062      |"
      ]
     },
     "metadata": {},
     "output_type": "display_data"
    },
    {
     "data": {
      "text/html": [
       "<pre>| 784       | 25791.646205 | 0.428043      |</pre>"
      ],
      "text/plain": [
       "| 784       | 25791.646205 | 0.428043      |"
      ]
     },
     "metadata": {},
     "output_type": "display_data"
    },
    {
     "data": {
      "text/html": [
       "<pre>| 785       | 25824.919040 | 0.428037      |</pre>"
      ],
      "text/plain": [
       "| 785       | 25824.919040 | 0.428037      |"
      ]
     },
     "metadata": {},
     "output_type": "display_data"
    },
    {
     "data": {
      "text/html": [
       "<pre>| 786       | 25855.786546 | 0.428024      |</pre>"
      ],
      "text/plain": [
       "| 786       | 25855.786546 | 0.428024      |"
      ]
     },
     "metadata": {},
     "output_type": "display_data"
    },
    {
     "data": {
      "text/html": [
       "<pre>| 787       | 25889.712546 | 0.428001      |</pre>"
      ],
      "text/plain": [
       "| 787       | 25889.712546 | 0.428001      |"
      ]
     },
     "metadata": {},
     "output_type": "display_data"
    },
    {
     "data": {
      "text/html": [
       "<pre>| 788       | 25923.511427 | 0.427988      |</pre>"
      ],
      "text/plain": [
       "| 788       | 25923.511427 | 0.427988      |"
      ]
     },
     "metadata": {},
     "output_type": "display_data"
    },
    {
     "data": {
      "text/html": [
       "<pre>| 789       | 25958.198626 | 0.427963      |</pre>"
      ],
      "text/plain": [
       "| 789       | 25958.198626 | 0.427963      |"
      ]
     },
     "metadata": {},
     "output_type": "display_data"
    },
    {
     "data": {
      "text/html": [
       "<pre>| 790       | 25990.785359 | 0.427938      |</pre>"
      ],
      "text/plain": [
       "| 790       | 25990.785359 | 0.427938      |"
      ]
     },
     "metadata": {},
     "output_type": "display_data"
    },
    {
     "data": {
      "text/html": [
       "<pre>| 791       | 26023.894301 | 0.427918      |</pre>"
      ],
      "text/plain": [
       "| 791       | 26023.894301 | 0.427918      |"
      ]
     },
     "metadata": {},
     "output_type": "display_data"
    },
    {
     "data": {
      "text/html": [
       "<pre>| 792       | 26056.587790 | 0.427904      |</pre>"
      ],
      "text/plain": [
       "| 792       | 26056.587790 | 0.427904      |"
      ]
     },
     "metadata": {},
     "output_type": "display_data"
    },
    {
     "data": {
      "text/html": [
       "<pre>| 793       | 26090.679199 | 0.427889      |</pre>"
      ],
      "text/plain": [
       "| 793       | 26090.679199 | 0.427889      |"
      ]
     },
     "metadata": {},
     "output_type": "display_data"
    },
    {
     "data": {
      "text/html": [
       "<pre>| 794       | 26123.409896 | 0.427878      |</pre>"
      ],
      "text/plain": [
       "| 794       | 26123.409896 | 0.427878      |"
      ]
     },
     "metadata": {},
     "output_type": "display_data"
    },
    {
     "data": {
      "text/html": [
       "<pre>| 795       | 26158.230177 | 0.427867      |</pre>"
      ],
      "text/plain": [
       "| 795       | 26158.230177 | 0.427867      |"
      ]
     },
     "metadata": {},
     "output_type": "display_data"
    },
    {
     "data": {
      "text/html": [
       "<pre>| 796       | 26190.143536 | 0.427835      |</pre>"
      ],
      "text/plain": [
       "| 796       | 26190.143536 | 0.427835      |"
      ]
     },
     "metadata": {},
     "output_type": "display_data"
    },
    {
     "data": {
      "text/html": [
       "<pre>| 797       | 26222.039691 | 0.427816      |</pre>"
      ],
      "text/plain": [
       "| 797       | 26222.039691 | 0.427816      |"
      ]
     },
     "metadata": {},
     "output_type": "display_data"
    },
    {
     "data": {
      "text/html": [
       "<pre>| 798       | 26255.520295 | 0.427788      |</pre>"
      ],
      "text/plain": [
       "| 798       | 26255.520295 | 0.427788      |"
      ]
     },
     "metadata": {},
     "output_type": "display_data"
    },
    {
     "data": {
      "text/html": [
       "<pre>| 799       | 26289.092690 | 0.427766      |</pre>"
      ],
      "text/plain": [
       "| 799       | 26289.092690 | 0.427766      |"
      ]
     },
     "metadata": {},
     "output_type": "display_data"
    },
    {
     "data": {
      "text/html": [
       "<pre>| 800       | 26322.577928 | 0.427738      |</pre>"
      ],
      "text/plain": [
       "| 800       | 26322.577928 | 0.427738      |"
      ]
     },
     "metadata": {},
     "output_type": "display_data"
    },
    {
     "data": {
      "text/html": [
       "<pre>| 801       | 26356.324081 | 0.427705      |</pre>"
      ],
      "text/plain": [
       "| 801       | 26356.324081 | 0.427705      |"
      ]
     },
     "metadata": {},
     "output_type": "display_data"
    },
    {
     "data": {
      "text/html": [
       "<pre>| 802       | 26389.559709 | 0.427692      |</pre>"
      ],
      "text/plain": [
       "| 802       | 26389.559709 | 0.427692      |"
      ]
     },
     "metadata": {},
     "output_type": "display_data"
    },
    {
     "data": {
      "text/html": [
       "<pre>| 803       | 26419.951868 | 0.427674      |</pre>"
      ],
      "text/plain": [
       "| 803       | 26419.951868 | 0.427674      |"
      ]
     },
     "metadata": {},
     "output_type": "display_data"
    },
    {
     "data": {
      "text/html": [
       "<pre>| 804       | 26452.344246 | 0.427650      |</pre>"
      ],
      "text/plain": [
       "| 804       | 26452.344246 | 0.427650      |"
      ]
     },
     "metadata": {},
     "output_type": "display_data"
    },
    {
     "data": {
      "text/html": [
       "<pre>| 805       | 26483.970299 | 0.427646      |</pre>"
      ],
      "text/plain": [
       "| 805       | 26483.970299 | 0.427646      |"
      ]
     },
     "metadata": {},
     "output_type": "display_data"
    },
    {
     "data": {
      "text/html": [
       "<pre>| 806       | 26516.388598 | 0.427621      |</pre>"
      ],
      "text/plain": [
       "| 806       | 26516.388598 | 0.427621      |"
      ]
     },
     "metadata": {},
     "output_type": "display_data"
    },
    {
     "data": {
      "text/html": [
       "<pre>| 807       | 26548.730134 | 0.427606      |</pre>"
      ],
      "text/plain": [
       "| 807       | 26548.730134 | 0.427606      |"
      ]
     },
     "metadata": {},
     "output_type": "display_data"
    },
    {
     "data": {
      "text/html": [
       "<pre>| 808       | 26581.392063 | 0.427594      |</pre>"
      ],
      "text/plain": [
       "| 808       | 26581.392063 | 0.427594      |"
      ]
     },
     "metadata": {},
     "output_type": "display_data"
    },
    {
     "data": {
      "text/html": [
       "<pre>| 809       | 26613.767017 | 0.427576      |</pre>"
      ],
      "text/plain": [
       "| 809       | 26613.767017 | 0.427576      |"
      ]
     },
     "metadata": {},
     "output_type": "display_data"
    },
    {
     "data": {
      "text/html": [
       "<pre>| 810       | 26647.059683 | 0.427563      |</pre>"
      ],
      "text/plain": [
       "| 810       | 26647.059683 | 0.427563      |"
      ]
     },
     "metadata": {},
     "output_type": "display_data"
    },
    {
     "data": {
      "text/html": [
       "<pre>| 811       | 26678.033012 | 0.427558      |</pre>"
      ],
      "text/plain": [
       "| 811       | 26678.033012 | 0.427558      |"
      ]
     },
     "metadata": {},
     "output_type": "display_data"
    },
    {
     "data": {
      "text/html": [
       "<pre>| 812       | 26712.058946 | 0.427534      |</pre>"
      ],
      "text/plain": [
       "| 812       | 26712.058946 | 0.427534      |"
      ]
     },
     "metadata": {},
     "output_type": "display_data"
    },
    {
     "data": {
      "text/html": [
       "<pre>| 813       | 26743.160113 | 0.427524      |</pre>"
      ],
      "text/plain": [
       "| 813       | 26743.160113 | 0.427524      |"
      ]
     },
     "metadata": {},
     "output_type": "display_data"
    },
    {
     "data": {
      "text/html": [
       "<pre>| 814       | 26776.472672 | 0.427506      |</pre>"
      ],
      "text/plain": [
       "| 814       | 26776.472672 | 0.427506      |"
      ]
     },
     "metadata": {},
     "output_type": "display_data"
    },
    {
     "data": {
      "text/html": [
       "<pre>| 815       | 26808.325013 | 0.427489      |</pre>"
      ],
      "text/plain": [
       "| 815       | 26808.325013 | 0.427489      |"
      ]
     },
     "metadata": {},
     "output_type": "display_data"
    },
    {
     "data": {
      "text/html": [
       "<pre>| 816       | 26842.840364 | 0.427462      |</pre>"
      ],
      "text/plain": [
       "| 816       | 26842.840364 | 0.427462      |"
      ]
     },
     "metadata": {},
     "output_type": "display_data"
    },
    {
     "data": {
      "text/html": [
       "<pre>| 817       | 26876.366988 | 0.427457      |</pre>"
      ],
      "text/plain": [
       "| 817       | 26876.366988 | 0.427457      |"
      ]
     },
     "metadata": {},
     "output_type": "display_data"
    },
    {
     "data": {
      "text/html": [
       "<pre>| 818       | 26907.742151 | 0.427446      |</pre>"
      ],
      "text/plain": [
       "| 818       | 26907.742151 | 0.427446      |"
      ]
     },
     "metadata": {},
     "output_type": "display_data"
    },
    {
     "data": {
      "text/html": [
       "<pre>| 819       | 26938.917866 | 0.427435      |</pre>"
      ],
      "text/plain": [
       "| 819       | 26938.917866 | 0.427435      |"
      ]
     },
     "metadata": {},
     "output_type": "display_data"
    },
    {
     "data": {
      "text/html": [
       "<pre>| 820       | 26972.981014 | 0.427430      |</pre>"
      ],
      "text/plain": [
       "| 820       | 26972.981014 | 0.427430      |"
      ]
     },
     "metadata": {},
     "output_type": "display_data"
    },
    {
     "data": {
      "text/html": [
       "<pre>| 821       | 27004.785980 | 0.427419      |</pre>"
      ],
      "text/plain": [
       "| 821       | 27004.785980 | 0.427419      |"
      ]
     },
     "metadata": {},
     "output_type": "display_data"
    },
    {
     "data": {
      "text/html": [
       "<pre>| 822       | 27037.095727 | 0.427407      |</pre>"
      ],
      "text/plain": [
       "| 822       | 27037.095727 | 0.427407      |"
      ]
     },
     "metadata": {},
     "output_type": "display_data"
    },
    {
     "data": {
      "text/html": [
       "<pre>| 823       | 27069.154725 | 0.427400      |</pre>"
      ],
      "text/plain": [
       "| 823       | 27069.154725 | 0.427400      |"
      ]
     },
     "metadata": {},
     "output_type": "display_data"
    },
    {
     "data": {
      "text/html": [
       "<pre>| 824       | 27105.067450 | 0.427384      |</pre>"
      ],
      "text/plain": [
       "| 824       | 27105.067450 | 0.427384      |"
      ]
     },
     "metadata": {},
     "output_type": "display_data"
    },
    {
     "data": {
      "text/html": [
       "<pre>| 825       | 27141.455297 | 0.427373      |</pre>"
      ],
      "text/plain": [
       "| 825       | 27141.455297 | 0.427373      |"
      ]
     },
     "metadata": {},
     "output_type": "display_data"
    },
    {
     "data": {
      "text/html": [
       "<pre>| 826       | 27173.531083 | 0.427366      |</pre>"
      ],
      "text/plain": [
       "| 826       | 27173.531083 | 0.427366      |"
      ]
     },
     "metadata": {},
     "output_type": "display_data"
    },
    {
     "data": {
      "text/html": [
       "<pre>| 827       | 27203.108678 | 0.427358      |</pre>"
      ],
      "text/plain": [
       "| 827       | 27203.108678 | 0.427358      |"
      ]
     },
     "metadata": {},
     "output_type": "display_data"
    },
    {
     "data": {
      "text/html": [
       "<pre>| 828       | 27235.904621 | 0.427332      |</pre>"
      ],
      "text/plain": [
       "| 828       | 27235.904621 | 0.427332      |"
      ]
     },
     "metadata": {},
     "output_type": "display_data"
    },
    {
     "data": {
      "text/html": [
       "<pre>| 829       | 27269.207936 | 0.427319      |</pre>"
      ],
      "text/plain": [
       "| 829       | 27269.207936 | 0.427319      |"
      ]
     },
     "metadata": {},
     "output_type": "display_data"
    },
    {
     "data": {
      "text/html": [
       "<pre>| 830       | 27300.611059 | 0.427301      |</pre>"
      ],
      "text/plain": [
       "| 830       | 27300.611059 | 0.427301      |"
      ]
     },
     "metadata": {},
     "output_type": "display_data"
    },
    {
     "data": {
      "text/html": [
       "<pre>| 831       | 27333.926723 | 0.427286      |</pre>"
      ],
      "text/plain": [
       "| 831       | 27333.926723 | 0.427286      |"
      ]
     },
     "metadata": {},
     "output_type": "display_data"
    },
    {
     "data": {
      "text/html": [
       "<pre>| 832       | 27366.258981 | 0.427259      |</pre>"
      ],
      "text/plain": [
       "| 832       | 27366.258981 | 0.427259      |"
      ]
     },
     "metadata": {},
     "output_type": "display_data"
    },
    {
     "data": {
      "text/html": [
       "<pre>| 833       | 27397.283021 | 0.427247      |</pre>"
      ],
      "text/plain": [
       "| 833       | 27397.283021 | 0.427247      |"
      ]
     },
     "metadata": {},
     "output_type": "display_data"
    },
    {
     "data": {
      "text/html": [
       "<pre>| 834       | 27430.897150 | 0.427232      |</pre>"
      ],
      "text/plain": [
       "| 834       | 27430.897150 | 0.427232      |"
      ]
     },
     "metadata": {},
     "output_type": "display_data"
    },
    {
     "data": {
      "text/html": [
       "<pre>| 835       | 27464.450614 | 0.427207      |</pre>"
      ],
      "text/plain": [
       "| 835       | 27464.450614 | 0.427207      |"
      ]
     },
     "metadata": {},
     "output_type": "display_data"
    },
    {
     "data": {
      "text/html": [
       "<pre>| 836       | 27497.805367 | 0.427191      |</pre>"
      ],
      "text/plain": [
       "| 836       | 27497.805367 | 0.427191      |"
      ]
     },
     "metadata": {},
     "output_type": "display_data"
    },
    {
     "data": {
      "text/html": [
       "<pre>| 837       | 27529.498374 | 0.427185      |</pre>"
      ],
      "text/plain": [
       "| 837       | 27529.498374 | 0.427185      |"
      ]
     },
     "metadata": {},
     "output_type": "display_data"
    },
    {
     "data": {
      "text/html": [
       "<pre>| 838       | 27562.247193 | 0.427175      |</pre>"
      ],
      "text/plain": [
       "| 838       | 27562.247193 | 0.427175      |"
      ]
     },
     "metadata": {},
     "output_type": "display_data"
    },
    {
     "data": {
      "text/html": [
       "<pre>| 839       | 27593.651884 | 0.427162      |</pre>"
      ],
      "text/plain": [
       "| 839       | 27593.651884 | 0.427162      |"
      ]
     },
     "metadata": {},
     "output_type": "display_data"
    },
    {
     "data": {
      "text/html": [
       "<pre>| 840       | 27627.099451 | 0.427146      |</pre>"
      ],
      "text/plain": [
       "| 840       | 27627.099451 | 0.427146      |"
      ]
     },
     "metadata": {},
     "output_type": "display_data"
    },
    {
     "data": {
      "text/html": [
       "<pre>| 841       | 27659.075047 | 0.427138      |</pre>"
      ],
      "text/plain": [
       "| 841       | 27659.075047 | 0.427138      |"
      ]
     },
     "metadata": {},
     "output_type": "display_data"
    },
    {
     "data": {
      "text/html": [
       "<pre>| 842       | 27691.669245 | 0.427125      |</pre>"
      ],
      "text/plain": [
       "| 842       | 27691.669245 | 0.427125      |"
      ]
     },
     "metadata": {},
     "output_type": "display_data"
    },
    {
     "data": {
      "text/html": [
       "<pre>| 843       | 27723.397297 | 0.427113      |</pre>"
      ],
      "text/plain": [
       "| 843       | 27723.397297 | 0.427113      |"
      ]
     },
     "metadata": {},
     "output_type": "display_data"
    },
    {
     "data": {
      "text/html": [
       "<pre>| 844       | 27755.678899 | 0.427100      |</pre>"
      ],
      "text/plain": [
       "| 844       | 27755.678899 | 0.427100      |"
      ]
     },
     "metadata": {},
     "output_type": "display_data"
    },
    {
     "data": {
      "text/html": [
       "<pre>| 845       | 27789.513468 | 0.427084      |</pre>"
      ],
      "text/plain": [
       "| 845       | 27789.513468 | 0.427084      |"
      ]
     },
     "metadata": {},
     "output_type": "display_data"
    },
    {
     "data": {
      "text/html": [
       "<pre>| 846       | 27823.092803 | 0.427071      |</pre>"
      ],
      "text/plain": [
       "| 846       | 27823.092803 | 0.427071      |"
      ]
     },
     "metadata": {},
     "output_type": "display_data"
    },
    {
     "data": {
      "text/html": [
       "<pre>| 847       | 27856.127670 | 0.427055      |</pre>"
      ],
      "text/plain": [
       "| 847       | 27856.127670 | 0.427055      |"
      ]
     },
     "metadata": {},
     "output_type": "display_data"
    },
    {
     "data": {
      "text/html": [
       "<pre>| 848       | 27886.957931 | 0.427037      |</pre>"
      ],
      "text/plain": [
       "| 848       | 27886.957931 | 0.427037      |"
      ]
     },
     "metadata": {},
     "output_type": "display_data"
    },
    {
     "data": {
      "text/html": [
       "<pre>| 849       | 27919.495804 | 0.427022      |</pre>"
      ],
      "text/plain": [
       "| 849       | 27919.495804 | 0.427022      |"
      ]
     },
     "metadata": {},
     "output_type": "display_data"
    },
    {
     "data": {
      "text/html": [
       "<pre>| 850       | 27949.592493 | 0.427015      |</pre>"
      ],
      "text/plain": [
       "| 850       | 27949.592493 | 0.427015      |"
      ]
     },
     "metadata": {},
     "output_type": "display_data"
    },
    {
     "data": {
      "text/html": [
       "<pre>| 851       | 27982.815202 | 0.426989      |</pre>"
      ],
      "text/plain": [
       "| 851       | 27982.815202 | 0.426989      |"
      ]
     },
     "metadata": {},
     "output_type": "display_data"
    },
    {
     "data": {
      "text/html": [
       "<pre>| 852       | 28016.618686 | 0.426978      |</pre>"
      ],
      "text/plain": [
       "| 852       | 28016.618686 | 0.426978      |"
      ]
     },
     "metadata": {},
     "output_type": "display_data"
    },
    {
     "data": {
      "text/html": [
       "<pre>| 853       | 28050.944628 | 0.426962      |</pre>"
      ],
      "text/plain": [
       "| 853       | 28050.944628 | 0.426962      |"
      ]
     },
     "metadata": {},
     "output_type": "display_data"
    },
    {
     "data": {
      "text/html": [
       "<pre>| 854       | 28081.414267 | 0.426944      |</pre>"
      ],
      "text/plain": [
       "| 854       | 28081.414267 | 0.426944      |"
      ]
     },
     "metadata": {},
     "output_type": "display_data"
    },
    {
     "data": {
      "text/html": [
       "<pre>| 855       | 28116.262218 | 0.426921      |</pre>"
      ],
      "text/plain": [
       "| 855       | 28116.262218 | 0.426921      |"
      ]
     },
     "metadata": {},
     "output_type": "display_data"
    },
    {
     "data": {
      "text/html": [
       "<pre>| 856       | 28148.602273 | 0.426908      |</pre>"
      ],
      "text/plain": [
       "| 856       | 28148.602273 | 0.426908      |"
      ]
     },
     "metadata": {},
     "output_type": "display_data"
    },
    {
     "data": {
      "text/html": [
       "<pre>| 857       | 28184.853640 | 0.426889      |</pre>"
      ],
      "text/plain": [
       "| 857       | 28184.853640 | 0.426889      |"
      ]
     },
     "metadata": {},
     "output_type": "display_data"
    },
    {
     "data": {
      "text/html": [
       "<pre>| 858       | 28217.132701 | 0.426876      |</pre>"
      ],
      "text/plain": [
       "| 858       | 28217.132701 | 0.426876      |"
      ]
     },
     "metadata": {},
     "output_type": "display_data"
    },
    {
     "data": {
      "text/html": [
       "<pre>| 859       | 28248.017133 | 0.426856      |</pre>"
      ],
      "text/plain": [
       "| 859       | 28248.017133 | 0.426856      |"
      ]
     },
     "metadata": {},
     "output_type": "display_data"
    },
    {
     "data": {
      "text/html": [
       "<pre>| 860       | 28282.095669 | 0.426826      |</pre>"
      ],
      "text/plain": [
       "| 860       | 28282.095669 | 0.426826      |"
      ]
     },
     "metadata": {},
     "output_type": "display_data"
    },
    {
     "data": {
      "text/html": [
       "<pre>| 861       | 28315.352780 | 0.426815      |</pre>"
      ],
      "text/plain": [
       "| 861       | 28315.352780 | 0.426815      |"
      ]
     },
     "metadata": {},
     "output_type": "display_data"
    },
    {
     "data": {
      "text/html": [
       "<pre>| 862       | 28347.287293 | 0.426798      |</pre>"
      ],
      "text/plain": [
       "| 862       | 28347.287293 | 0.426798      |"
      ]
     },
     "metadata": {},
     "output_type": "display_data"
    },
    {
     "data": {
      "text/html": [
       "<pre>| 863       | 28378.458193 | 0.426786      |</pre>"
      ],
      "text/plain": [
       "| 863       | 28378.458193 | 0.426786      |"
      ]
     },
     "metadata": {},
     "output_type": "display_data"
    },
    {
     "data": {
      "text/html": [
       "<pre>| 864       | 28411.156936 | 0.426770      |</pre>"
      ],
      "text/plain": [
       "| 864       | 28411.156936 | 0.426770      |"
      ]
     },
     "metadata": {},
     "output_type": "display_data"
    },
    {
     "data": {
      "text/html": [
       "<pre>| 865       | 28444.529546 | 0.426766      |</pre>"
      ],
      "text/plain": [
       "| 865       | 28444.529546 | 0.426766      |"
      ]
     },
     "metadata": {},
     "output_type": "display_data"
    },
    {
     "data": {
      "text/html": [
       "<pre>| 866       | 28478.939258 | 0.426743      |</pre>"
      ],
      "text/plain": [
       "| 866       | 28478.939258 | 0.426743      |"
      ]
     },
     "metadata": {},
     "output_type": "display_data"
    },
    {
     "data": {
      "text/html": [
       "<pre>| 867       | 28511.116308 | 0.426740      |</pre>"
      ],
      "text/plain": [
       "| 867       | 28511.116308 | 0.426740      |"
      ]
     },
     "metadata": {},
     "output_type": "display_data"
    },
    {
     "data": {
      "text/html": [
       "<pre>| 868       | 28543.864390 | 0.426726      |</pre>"
      ],
      "text/plain": [
       "| 868       | 28543.864390 | 0.426726      |"
      ]
     },
     "metadata": {},
     "output_type": "display_data"
    },
    {
     "data": {
      "text/html": [
       "<pre>| 869       | 28575.334219 | 0.426712      |</pre>"
      ],
      "text/plain": [
       "| 869       | 28575.334219 | 0.426712      |"
      ]
     },
     "metadata": {},
     "output_type": "display_data"
    },
    {
     "data": {
      "text/html": [
       "<pre>| 870       | 28608.847582 | 0.426687      |</pre>"
      ],
      "text/plain": [
       "| 870       | 28608.847582 | 0.426687      |"
      ]
     },
     "metadata": {},
     "output_type": "display_data"
    },
    {
     "data": {
      "text/html": [
       "<pre>| 871       | 28642.931891 | 0.426672      |</pre>"
      ],
      "text/plain": [
       "| 871       | 28642.931891 | 0.426672      |"
      ]
     },
     "metadata": {},
     "output_type": "display_data"
    },
    {
     "data": {
      "text/html": [
       "<pre>| 872       | 28675.080994 | 0.426647      |</pre>"
      ],
      "text/plain": [
       "| 872       | 28675.080994 | 0.426647      |"
      ]
     },
     "metadata": {},
     "output_type": "display_data"
    },
    {
     "data": {
      "text/html": [
       "<pre>| 873       | 28708.854026 | 0.426637      |</pre>"
      ],
      "text/plain": [
       "| 873       | 28708.854026 | 0.426637      |"
      ]
     },
     "metadata": {},
     "output_type": "display_data"
    },
    {
     "data": {
      "text/html": [
       "<pre>| 874       | 28743.285535 | 0.426607      |</pre>"
      ],
      "text/plain": [
       "| 874       | 28743.285535 | 0.426607      |"
      ]
     },
     "metadata": {},
     "output_type": "display_data"
    },
    {
     "data": {
      "text/html": [
       "<pre>| 875       | 28776.971091 | 0.426572      |</pre>"
      ],
      "text/plain": [
       "| 875       | 28776.971091 | 0.426572      |"
      ]
     },
     "metadata": {},
     "output_type": "display_data"
    },
    {
     "data": {
      "text/html": [
       "<pre>| 876       | 28808.362416 | 0.426550      |</pre>"
      ],
      "text/plain": [
       "| 876       | 28808.362416 | 0.426550      |"
      ]
     },
     "metadata": {},
     "output_type": "display_data"
    },
    {
     "data": {
      "text/html": [
       "<pre>| 877       | 28841.205370 | 0.426526      |</pre>"
      ],
      "text/plain": [
       "| 877       | 28841.205370 | 0.426526      |"
      ]
     },
     "metadata": {},
     "output_type": "display_data"
    },
    {
     "data": {
      "text/html": [
       "<pre>| 878       | 28876.457223 | 0.426494      |</pre>"
      ],
      "text/plain": [
       "| 878       | 28876.457223 | 0.426494      |"
      ]
     },
     "metadata": {},
     "output_type": "display_data"
    },
    {
     "data": {
      "text/html": [
       "<pre>| 879       | 28908.137885 | 0.426457      |</pre>"
      ],
      "text/plain": [
       "| 879       | 28908.137885 | 0.426457      |"
      ]
     },
     "metadata": {},
     "output_type": "display_data"
    },
    {
     "data": {
      "text/html": [
       "<pre>| 880       | 28940.042020 | 0.426446      |</pre>"
      ],
      "text/plain": [
       "| 880       | 28940.042020 | 0.426446      |"
      ]
     },
     "metadata": {},
     "output_type": "display_data"
    },
    {
     "data": {
      "text/html": [
       "<pre>| 881       | 28974.132738 | 0.426435      |</pre>"
      ],
      "text/plain": [
       "| 881       | 28974.132738 | 0.426435      |"
      ]
     },
     "metadata": {},
     "output_type": "display_data"
    },
    {
     "data": {
      "text/html": [
       "<pre>| 882       | 29006.014895 | 0.426426      |</pre>"
      ],
      "text/plain": [
       "| 882       | 29006.014895 | 0.426426      |"
      ]
     },
     "metadata": {},
     "output_type": "display_data"
    },
    {
     "data": {
      "text/html": [
       "<pre>| 883       | 29041.320067 | 0.426403      |</pre>"
      ],
      "text/plain": [
       "| 883       | 29041.320067 | 0.426403      |"
      ]
     },
     "metadata": {},
     "output_type": "display_data"
    },
    {
     "data": {
      "text/html": [
       "<pre>| 884       | 29073.298849 | 0.426396      |</pre>"
      ],
      "text/plain": [
       "| 884       | 29073.298849 | 0.426396      |"
      ]
     },
     "metadata": {},
     "output_type": "display_data"
    },
    {
     "data": {
      "text/html": [
       "<pre>| 885       | 29107.953660 | 0.426367      |</pre>"
      ],
      "text/plain": [
       "| 885       | 29107.953660 | 0.426367      |"
      ]
     },
     "metadata": {},
     "output_type": "display_data"
    },
    {
     "data": {
      "text/html": [
       "<pre>| 886       | 29140.992996 | 0.426347      |</pre>"
      ],
      "text/plain": [
       "| 886       | 29140.992996 | 0.426347      |"
      ]
     },
     "metadata": {},
     "output_type": "display_data"
    },
    {
     "data": {
      "text/html": [
       "<pre>| 887       | 29173.642646 | 0.426333      |</pre>"
      ],
      "text/plain": [
       "| 887       | 29173.642646 | 0.426333      |"
      ]
     },
     "metadata": {},
     "output_type": "display_data"
    },
    {
     "data": {
      "text/html": [
       "<pre>| 888       | 29206.463472 | 0.426298      |</pre>"
      ],
      "text/plain": [
       "| 888       | 29206.463472 | 0.426298      |"
      ]
     },
     "metadata": {},
     "output_type": "display_data"
    },
    {
     "data": {
      "text/html": [
       "<pre>| 889       | 29240.337713 | 0.426276      |</pre>"
      ],
      "text/plain": [
       "| 889       | 29240.337713 | 0.426276      |"
      ]
     },
     "metadata": {},
     "output_type": "display_data"
    },
    {
     "data": {
      "text/html": [
       "<pre>| 890       | 29272.382661 | 0.426258      |</pre>"
      ],
      "text/plain": [
       "| 890       | 29272.382661 | 0.426258      |"
      ]
     },
     "metadata": {},
     "output_type": "display_data"
    },
    {
     "data": {
      "text/html": [
       "<pre>| 891       | 29304.867003 | 0.426244      |</pre>"
      ],
      "text/plain": [
       "| 891       | 29304.867003 | 0.426244      |"
      ]
     },
     "metadata": {},
     "output_type": "display_data"
    },
    {
     "data": {
      "text/html": [
       "<pre>| 892       | 29336.989202 | 0.426231      |</pre>"
      ],
      "text/plain": [
       "| 892       | 29336.989202 | 0.426231      |"
      ]
     },
     "metadata": {},
     "output_type": "display_data"
    },
    {
     "data": {
      "text/html": [
       "<pre>| 893       | 29371.447837 | 0.426219      |</pre>"
      ],
      "text/plain": [
       "| 893       | 29371.447837 | 0.426219      |"
      ]
     },
     "metadata": {},
     "output_type": "display_data"
    },
    {
     "data": {
      "text/html": [
       "<pre>| 894       | 29405.015568 | 0.426195      |</pre>"
      ],
      "text/plain": [
       "| 894       | 29405.015568 | 0.426195      |"
      ]
     },
     "metadata": {},
     "output_type": "display_data"
    },
    {
     "data": {
      "text/html": [
       "<pre>| 895       | 29437.549392 | 0.426178      |</pre>"
      ],
      "text/plain": [
       "| 895       | 29437.549392 | 0.426178      |"
      ]
     },
     "metadata": {},
     "output_type": "display_data"
    },
    {
     "data": {
      "text/html": [
       "<pre>| 896       | 29471.326858 | 0.426167      |</pre>"
      ],
      "text/plain": [
       "| 896       | 29471.326858 | 0.426167      |"
      ]
     },
     "metadata": {},
     "output_type": "display_data"
    },
    {
     "data": {
      "text/html": [
       "<pre>| 897       | 29509.644214 | 0.426148      |</pre>"
      ],
      "text/plain": [
       "| 897       | 29509.644214 | 0.426148      |"
      ]
     },
     "metadata": {},
     "output_type": "display_data"
    },
    {
     "data": {
      "text/html": [
       "<pre>| 898       | 29543.565542 | 0.426129      |</pre>"
      ],
      "text/plain": [
       "| 898       | 29543.565542 | 0.426129      |"
      ]
     },
     "metadata": {},
     "output_type": "display_data"
    },
    {
     "data": {
      "text/html": [
       "<pre>| 899       | 29590.442915 | 0.426109      |</pre>"
      ],
      "text/plain": [
       "| 899       | 29590.442915 | 0.426109      |"
      ]
     },
     "metadata": {},
     "output_type": "display_data"
    },
    {
     "data": {
      "text/html": [
       "<pre>| 900       | 29627.398873 | 0.426086      |</pre>"
      ],
      "text/plain": [
       "| 900       | 29627.398873 | 0.426086      |"
      ]
     },
     "metadata": {},
     "output_type": "display_data"
    },
    {
     "data": {
      "text/html": [
       "<pre>| 901       | 29661.985633 | 0.426073      |</pre>"
      ],
      "text/plain": [
       "| 901       | 29661.985633 | 0.426073      |"
      ]
     },
     "metadata": {},
     "output_type": "display_data"
    },
    {
     "data": {
      "text/html": [
       "<pre>| 902       | 29696.497634 | 0.426067      |</pre>"
      ],
      "text/plain": [
       "| 902       | 29696.497634 | 0.426067      |"
      ]
     },
     "metadata": {},
     "output_type": "display_data"
    },
    {
     "data": {
      "text/html": [
       "<pre>| 903       | 29730.669606 | 0.426054      |</pre>"
      ],
      "text/plain": [
       "| 903       | 29730.669606 | 0.426054      |"
      ]
     },
     "metadata": {},
     "output_type": "display_data"
    },
    {
     "data": {
      "text/html": [
       "<pre>| 904       | 29764.359055 | 0.426041      |</pre>"
      ],
      "text/plain": [
       "| 904       | 29764.359055 | 0.426041      |"
      ]
     },
     "metadata": {},
     "output_type": "display_data"
    },
    {
     "data": {
      "text/html": [
       "<pre>| 905       | 29800.653931 | 0.426010      |</pre>"
      ],
      "text/plain": [
       "| 905       | 29800.653931 | 0.426010      |"
      ]
     },
     "metadata": {},
     "output_type": "display_data"
    },
    {
     "data": {
      "text/html": [
       "<pre>| 906       | 29836.915755 | 0.425984      |</pre>"
      ],
      "text/plain": [
       "| 906       | 29836.915755 | 0.425984      |"
      ]
     },
     "metadata": {},
     "output_type": "display_data"
    },
    {
     "data": {
      "text/html": [
       "<pre>| 907       | 29872.459961 | 0.425963      |</pre>"
      ],
      "text/plain": [
       "| 907       | 29872.459961 | 0.425963      |"
      ]
     },
     "metadata": {},
     "output_type": "display_data"
    },
    {
     "data": {
      "text/html": [
       "<pre>| 908       | 29905.116910 | 0.425950      |</pre>"
      ],
      "text/plain": [
       "| 908       | 29905.116910 | 0.425950      |"
      ]
     },
     "metadata": {},
     "output_type": "display_data"
    },
    {
     "data": {
      "text/html": [
       "<pre>| 909       | 29938.941941 | 0.425924      |</pre>"
      ],
      "text/plain": [
       "| 909       | 29938.941941 | 0.425924      |"
      ]
     },
     "metadata": {},
     "output_type": "display_data"
    },
    {
     "data": {
      "text/html": [
       "<pre>| 910       | 29972.259194 | 0.425893      |</pre>"
      ],
      "text/plain": [
       "| 910       | 29972.259194 | 0.425893      |"
      ]
     },
     "metadata": {},
     "output_type": "display_data"
    },
    {
     "data": {
      "text/html": [
       "<pre>| 911       | 30005.608183 | 0.425874      |</pre>"
      ],
      "text/plain": [
       "| 911       | 30005.608183 | 0.425874      |"
      ]
     },
     "metadata": {},
     "output_type": "display_data"
    },
    {
     "data": {
      "text/html": [
       "<pre>| 912       | 30041.044900 | 0.425856      |</pre>"
      ],
      "text/plain": [
       "| 912       | 30041.044900 | 0.425856      |"
      ]
     },
     "metadata": {},
     "output_type": "display_data"
    },
    {
     "data": {
      "text/html": [
       "<pre>| 913       | 30074.610043 | 0.425845      |</pre>"
      ],
      "text/plain": [
       "| 913       | 30074.610043 | 0.425845      |"
      ]
     },
     "metadata": {},
     "output_type": "display_data"
    },
    {
     "data": {
      "text/html": [
       "<pre>| 914       | 30106.203347 | 0.425831      |</pre>"
      ],
      "text/plain": [
       "| 914       | 30106.203347 | 0.425831      |"
      ]
     },
     "metadata": {},
     "output_type": "display_data"
    },
    {
     "data": {
      "text/html": [
       "<pre>| 915       | 30141.896108 | 0.425814      |</pre>"
      ],
      "text/plain": [
       "| 915       | 30141.896108 | 0.425814      |"
      ]
     },
     "metadata": {},
     "output_type": "display_data"
    },
    {
     "data": {
      "text/html": [
       "<pre>| 916       | 30172.794222 | 0.425804      |</pre>"
      ],
      "text/plain": [
       "| 916       | 30172.794222 | 0.425804      |"
      ]
     },
     "metadata": {},
     "output_type": "display_data"
    },
    {
     "data": {
      "text/html": [
       "<pre>| 917       | 30206.163869 | 0.425789      |</pre>"
      ],
      "text/plain": [
       "| 917       | 30206.163869 | 0.425789      |"
      ]
     },
     "metadata": {},
     "output_type": "display_data"
    },
    {
     "data": {
      "text/html": [
       "<pre>| 918       | 30240.512483 | 0.425758      |</pre>"
      ],
      "text/plain": [
       "| 918       | 30240.512483 | 0.425758      |"
      ]
     },
     "metadata": {},
     "output_type": "display_data"
    },
    {
     "data": {
      "text/html": [
       "<pre>| 919       | 30273.456518 | 0.425732      |</pre>"
      ],
      "text/plain": [
       "| 919       | 30273.456518 | 0.425732      |"
      ]
     },
     "metadata": {},
     "output_type": "display_data"
    },
    {
     "data": {
      "text/html": [
       "<pre>| 920       | 30306.064082 | 0.425720      |</pre>"
      ],
      "text/plain": [
       "| 920       | 30306.064082 | 0.425720      |"
      ]
     },
     "metadata": {},
     "output_type": "display_data"
    },
    {
     "data": {
      "text/html": [
       "<pre>| 921       | 30340.683926 | 0.425696      |</pre>"
      ],
      "text/plain": [
       "| 921       | 30340.683926 | 0.425696      |"
      ]
     },
     "metadata": {},
     "output_type": "display_data"
    },
    {
     "data": {
      "text/html": [
       "<pre>| 922       | 30374.525408 | 0.425691      |</pre>"
      ],
      "text/plain": [
       "| 922       | 30374.525408 | 0.425691      |"
      ]
     },
     "metadata": {},
     "output_type": "display_data"
    },
    {
     "data": {
      "text/html": [
       "<pre>| 923       | 30408.160722 | 0.425673      |</pre>"
      ],
      "text/plain": [
       "| 923       | 30408.160722 | 0.425673      |"
      ]
     },
     "metadata": {},
     "output_type": "display_data"
    },
    {
     "data": {
      "text/html": [
       "<pre>| 924       | 30441.441737 | 0.425660      |</pre>"
      ],
      "text/plain": [
       "| 924       | 30441.441737 | 0.425660      |"
      ]
     },
     "metadata": {},
     "output_type": "display_data"
    },
    {
     "data": {
      "text/html": [
       "<pre>| 925       | 30474.804251 | 0.425638      |</pre>"
      ],
      "text/plain": [
       "| 925       | 30474.804251 | 0.425638      |"
      ]
     },
     "metadata": {},
     "output_type": "display_data"
    },
    {
     "data": {
      "text/html": [
       "<pre>| 926       | 30509.705829 | 0.425631      |</pre>"
      ],
      "text/plain": [
       "| 926       | 30509.705829 | 0.425631      |"
      ]
     },
     "metadata": {},
     "output_type": "display_data"
    },
    {
     "data": {
      "text/html": [
       "<pre>| 927       | 30542.473132 | 0.425628      |</pre>"
      ],
      "text/plain": [
       "| 927       | 30542.473132 | 0.425628      |"
      ]
     },
     "metadata": {},
     "output_type": "display_data"
    },
    {
     "data": {
      "text/html": [
       "<pre>| 928       | 30576.079062 | 0.425606      |</pre>"
      ],
      "text/plain": [
       "| 928       | 30576.079062 | 0.425606      |"
      ]
     },
     "metadata": {},
     "output_type": "display_data"
    },
    {
     "data": {
      "text/html": [
       "<pre>| 929       | 30608.475558 | 0.425590      |</pre>"
      ],
      "text/plain": [
       "| 929       | 30608.475558 | 0.425590      |"
      ]
     },
     "metadata": {},
     "output_type": "display_data"
    },
    {
     "data": {
      "text/html": [
       "<pre>| 930       | 30641.310215 | 0.425576      |</pre>"
      ],
      "text/plain": [
       "| 930       | 30641.310215 | 0.425576      |"
      ]
     },
     "metadata": {},
     "output_type": "display_data"
    },
    {
     "data": {
      "text/html": [
       "<pre>| 931       | 30674.661079 | 0.425559      |</pre>"
      ],
      "text/plain": [
       "| 931       | 30674.661079 | 0.425559      |"
      ]
     },
     "metadata": {},
     "output_type": "display_data"
    },
    {
     "data": {
      "text/html": [
       "<pre>| 932       | 30706.294936 | 0.425534      |</pre>"
      ],
      "text/plain": [
       "| 932       | 30706.294936 | 0.425534      |"
      ]
     },
     "metadata": {},
     "output_type": "display_data"
    },
    {
     "data": {
      "text/html": [
       "<pre>| 933       | 30738.730825 | 0.425514      |</pre>"
      ],
      "text/plain": [
       "| 933       | 30738.730825 | 0.425514      |"
      ]
     },
     "metadata": {},
     "output_type": "display_data"
    },
    {
     "data": {
      "text/html": [
       "<pre>| 934       | 30774.035016 | 0.425494      |</pre>"
      ],
      "text/plain": [
       "| 934       | 30774.035016 | 0.425494      |"
      ]
     },
     "metadata": {},
     "output_type": "display_data"
    },
    {
     "data": {
      "text/html": [
       "<pre>| 935       | 30808.917600 | 0.425477      |</pre>"
      ],
      "text/plain": [
       "| 935       | 30808.917600 | 0.425477      |"
      ]
     },
     "metadata": {},
     "output_type": "display_data"
    },
    {
     "data": {
      "text/html": [
       "<pre>| 936       | 30840.372533 | 0.425466      |</pre>"
      ],
      "text/plain": [
       "| 936       | 30840.372533 | 0.425466      |"
      ]
     },
     "metadata": {},
     "output_type": "display_data"
    },
    {
     "data": {
      "text/html": [
       "<pre>| 937       | 30875.556265 | 0.425451      |</pre>"
      ],
      "text/plain": [
       "| 937       | 30875.556265 | 0.425451      |"
      ]
     },
     "metadata": {},
     "output_type": "display_data"
    },
    {
     "data": {
      "text/html": [
       "<pre>| 938       | 30909.225981 | 0.425443      |</pre>"
      ],
      "text/plain": [
       "| 938       | 30909.225981 | 0.425443      |"
      ]
     },
     "metadata": {},
     "output_type": "display_data"
    },
    {
     "data": {
      "text/html": [
       "<pre>| 939       | 30940.050930 | 0.425431      |</pre>"
      ],
      "text/plain": [
       "| 939       | 30940.050930 | 0.425431      |"
      ]
     },
     "metadata": {},
     "output_type": "display_data"
    },
    {
     "data": {
      "text/html": [
       "<pre>| 940       | 30974.961869 | 0.425413      |</pre>"
      ],
      "text/plain": [
       "| 940       | 30974.961869 | 0.425413      |"
      ]
     },
     "metadata": {},
     "output_type": "display_data"
    },
    {
     "data": {
      "text/html": [
       "<pre>| 941       | 31008.909842 | 0.425380      |</pre>"
      ],
      "text/plain": [
       "| 941       | 31008.909842 | 0.425380      |"
      ]
     },
     "metadata": {},
     "output_type": "display_data"
    },
    {
     "data": {
      "text/html": [
       "<pre>| 942       | 31043.674431 | 0.425367      |</pre>"
      ],
      "text/plain": [
       "| 942       | 31043.674431 | 0.425367      |"
      ]
     },
     "metadata": {},
     "output_type": "display_data"
    },
    {
     "data": {
      "text/html": [
       "<pre>| 943       | 31077.788033 | 0.425351      |</pre>"
      ],
      "text/plain": [
       "| 943       | 31077.788033 | 0.425351      |"
      ]
     },
     "metadata": {},
     "output_type": "display_data"
    },
    {
     "data": {
      "text/html": [
       "<pre>| 944       | 31111.803108 | 0.425335      |</pre>"
      ],
      "text/plain": [
       "| 944       | 31111.803108 | 0.425335      |"
      ]
     },
     "metadata": {},
     "output_type": "display_data"
    },
    {
     "data": {
      "text/html": [
       "<pre>| 945       | 31144.618147 | 0.425317      |</pre>"
      ],
      "text/plain": [
       "| 945       | 31144.618147 | 0.425317      |"
      ]
     },
     "metadata": {},
     "output_type": "display_data"
    },
    {
     "data": {
      "text/html": [
       "<pre>| 946       | 31175.903075 | 0.425303      |</pre>"
      ],
      "text/plain": [
       "| 946       | 31175.903075 | 0.425303      |"
      ]
     },
     "metadata": {},
     "output_type": "display_data"
    },
    {
     "data": {
      "text/html": [
       "<pre>| 947       | 31209.630790 | 0.425278      |</pre>"
      ],
      "text/plain": [
       "| 947       | 31209.630790 | 0.425278      |"
      ]
     },
     "metadata": {},
     "output_type": "display_data"
    },
    {
     "data": {
      "text/html": [
       "<pre>| 948       | 31244.463612 | 0.425257      |</pre>"
      ],
      "text/plain": [
       "| 948       | 31244.463612 | 0.425257      |"
      ]
     },
     "metadata": {},
     "output_type": "display_data"
    },
    {
     "data": {
      "text/html": [
       "<pre>| 949       | 31278.465095 | 0.425230      |</pre>"
      ],
      "text/plain": [
       "| 949       | 31278.465095 | 0.425230      |"
      ]
     },
     "metadata": {},
     "output_type": "display_data"
    },
    {
     "data": {
      "text/html": [
       "<pre>| 950       | 31311.792487 | 0.425215      |</pre>"
      ],
      "text/plain": [
       "| 950       | 31311.792487 | 0.425215      |"
      ]
     },
     "metadata": {},
     "output_type": "display_data"
    },
    {
     "data": {
      "text/html": [
       "<pre>| 951       | 31344.364079 | 0.425186      |</pre>"
      ],
      "text/plain": [
       "| 951       | 31344.364079 | 0.425186      |"
      ]
     },
     "metadata": {},
     "output_type": "display_data"
    },
    {
     "data": {
      "text/html": [
       "<pre>| 952       | 31378.243336 | 0.425158      |</pre>"
      ],
      "text/plain": [
       "| 952       | 31378.243336 | 0.425158      |"
      ]
     },
     "metadata": {},
     "output_type": "display_data"
    },
    {
     "data": {
      "text/html": [
       "<pre>| 953       | 31408.974087 | 0.425147      |</pre>"
      ],
      "text/plain": [
       "| 953       | 31408.974087 | 0.425147      |"
      ]
     },
     "metadata": {},
     "output_type": "display_data"
    },
    {
     "data": {
      "text/html": [
       "<pre>| 954       | 31442.771757 | 0.425120      |</pre>"
      ],
      "text/plain": [
       "| 954       | 31442.771757 | 0.425120      |"
      ]
     },
     "metadata": {},
     "output_type": "display_data"
    },
    {
     "data": {
      "text/html": [
       "<pre>| 955       | 31476.517890 | 0.425099      |</pre>"
      ],
      "text/plain": [
       "| 955       | 31476.517890 | 0.425099      |"
      ]
     },
     "metadata": {},
     "output_type": "display_data"
    },
    {
     "data": {
      "text/html": [
       "<pre>| 956       | 31511.167534 | 0.425072      |</pre>"
      ],
      "text/plain": [
       "| 956       | 31511.167534 | 0.425072      |"
      ]
     },
     "metadata": {},
     "output_type": "display_data"
    },
    {
     "data": {
      "text/html": [
       "<pre>| 957       | 31543.820607 | 0.425058      |</pre>"
      ],
      "text/plain": [
       "| 957       | 31543.820607 | 0.425058      |"
      ]
     },
     "metadata": {},
     "output_type": "display_data"
    },
    {
     "data": {
      "text/html": [
       "<pre>| 958       | 31576.664617 | 0.425043      |</pre>"
      ],
      "text/plain": [
       "| 958       | 31576.664617 | 0.425043      |"
      ]
     },
     "metadata": {},
     "output_type": "display_data"
    },
    {
     "data": {
      "text/html": [
       "<pre>| 959       | 31610.274364 | 0.425024      |</pre>"
      ],
      "text/plain": [
       "| 959       | 31610.274364 | 0.425024      |"
      ]
     },
     "metadata": {},
     "output_type": "display_data"
    },
    {
     "data": {
      "text/html": [
       "<pre>| 960       | 31641.668573 | 0.425013      |</pre>"
      ],
      "text/plain": [
       "| 960       | 31641.668573 | 0.425013      |"
      ]
     },
     "metadata": {},
     "output_type": "display_data"
    },
    {
     "data": {
      "text/html": [
       "<pre>| 961       | 31676.334399 | 0.425009      |</pre>"
      ],
      "text/plain": [
       "| 961       | 31676.334399 | 0.425009      |"
      ]
     },
     "metadata": {},
     "output_type": "display_data"
    },
    {
     "data": {
      "text/html": [
       "<pre>| 962       | 31708.124609 | 0.424979      |</pre>"
      ],
      "text/plain": [
       "| 962       | 31708.124609 | 0.424979      |"
      ]
     },
     "metadata": {},
     "output_type": "display_data"
    },
    {
     "data": {
      "text/html": [
       "<pre>| 963       | 31740.937817 | 0.424963      |</pre>"
      ],
      "text/plain": [
       "| 963       | 31740.937817 | 0.424963      |"
      ]
     },
     "metadata": {},
     "output_type": "display_data"
    },
    {
     "data": {
      "text/html": [
       "<pre>| 964       | 31773.140762 | 0.424947      |</pre>"
      ],
      "text/plain": [
       "| 964       | 31773.140762 | 0.424947      |"
      ]
     },
     "metadata": {},
     "output_type": "display_data"
    },
    {
     "data": {
      "text/html": [
       "<pre>| 965       | 31805.247868 | 0.424933      |</pre>"
      ],
      "text/plain": [
       "| 965       | 31805.247868 | 0.424933      |"
      ]
     },
     "metadata": {},
     "output_type": "display_data"
    },
    {
     "data": {
      "text/html": [
       "<pre>| 966       | 31839.126891 | 0.424921      |</pre>"
      ],
      "text/plain": [
       "| 966       | 31839.126891 | 0.424921      |"
      ]
     },
     "metadata": {},
     "output_type": "display_data"
    },
    {
     "data": {
      "text/html": [
       "<pre>| 967       | 31872.896690 | 0.424902      |</pre>"
      ],
      "text/plain": [
       "| 967       | 31872.896690 | 0.424902      |"
      ]
     },
     "metadata": {},
     "output_type": "display_data"
    },
    {
     "data": {
      "text/html": [
       "<pre>| 968       | 31907.037145 | 0.424880      |</pre>"
      ],
      "text/plain": [
       "| 968       | 31907.037145 | 0.424880      |"
      ]
     },
     "metadata": {},
     "output_type": "display_data"
    },
    {
     "data": {
      "text/html": [
       "<pre>| 969       | 31940.458020 | 0.424858      |</pre>"
      ],
      "text/plain": [
       "| 969       | 31940.458020 | 0.424858      |"
      ]
     },
     "metadata": {},
     "output_type": "display_data"
    },
    {
     "data": {
      "text/html": [
       "<pre>| 970       | 31973.125789 | 0.424846      |</pre>"
      ],
      "text/plain": [
       "| 970       | 31973.125789 | 0.424846      |"
      ]
     },
     "metadata": {},
     "output_type": "display_data"
    },
    {
     "data": {
      "text/html": [
       "<pre>| 971       | 32004.207324 | 0.424839      |</pre>"
      ],
      "text/plain": [
       "| 971       | 32004.207324 | 0.424839      |"
      ]
     },
     "metadata": {},
     "output_type": "display_data"
    },
    {
     "data": {
      "text/html": [
       "<pre>| 972       | 32037.623733 | 0.424816      |</pre>"
      ],
      "text/plain": [
       "| 972       | 32037.623733 | 0.424816      |"
      ]
     },
     "metadata": {},
     "output_type": "display_data"
    },
    {
     "data": {
      "text/html": [
       "<pre>| 973       | 32072.075200 | 0.424804      |</pre>"
      ],
      "text/plain": [
       "| 973       | 32072.075200 | 0.424804      |"
      ]
     },
     "metadata": {},
     "output_type": "display_data"
    },
    {
     "data": {
      "text/html": [
       "<pre>| 974       | 32103.533486 | 0.424792      |</pre>"
      ],
      "text/plain": [
       "| 974       | 32103.533486 | 0.424792      |"
      ]
     },
     "metadata": {},
     "output_type": "display_data"
    },
    {
     "data": {
      "text/html": [
       "<pre>| 975       | 32138.315553 | 0.424778      |</pre>"
      ],
      "text/plain": [
       "| 975       | 32138.315553 | 0.424778      |"
      ]
     },
     "metadata": {},
     "output_type": "display_data"
    },
    {
     "data": {
      "text/html": [
       "<pre>| 976       | 32170.165600 | 0.424764      |</pre>"
      ],
      "text/plain": [
       "| 976       | 32170.165600 | 0.424764      |"
      ]
     },
     "metadata": {},
     "output_type": "display_data"
    },
    {
     "data": {
      "text/html": [
       "<pre>| 977       | 32203.525342 | 0.424751      |</pre>"
      ],
      "text/plain": [
       "| 977       | 32203.525342 | 0.424751      |"
      ]
     },
     "metadata": {},
     "output_type": "display_data"
    },
    {
     "data": {
      "text/html": [
       "<pre>| 978       | 32238.528648 | 0.424743      |</pre>"
      ],
      "text/plain": [
       "| 978       | 32238.528648 | 0.424743      |"
      ]
     },
     "metadata": {},
     "output_type": "display_data"
    },
    {
     "data": {
      "text/html": [
       "<pre>| 979       | 32271.955193 | 0.424715      |</pre>"
      ],
      "text/plain": [
       "| 979       | 32271.955193 | 0.424715      |"
      ]
     },
     "metadata": {},
     "output_type": "display_data"
    },
    {
     "data": {
      "text/html": [
       "<pre>| 980       | 32305.900559 | 0.424708      |</pre>"
      ],
      "text/plain": [
       "| 980       | 32305.900559 | 0.424708      |"
      ]
     },
     "metadata": {},
     "output_type": "display_data"
    },
    {
     "data": {
      "text/html": [
       "<pre>| 981       | 32338.421452 | 0.424697      |</pre>"
      ],
      "text/plain": [
       "| 981       | 32338.421452 | 0.424697      |"
      ]
     },
     "metadata": {},
     "output_type": "display_data"
    },
    {
     "data": {
      "text/html": [
       "<pre>| 982       | 32369.265178 | 0.424687      |</pre>"
      ],
      "text/plain": [
       "| 982       | 32369.265178 | 0.424687      |"
      ]
     },
     "metadata": {},
     "output_type": "display_data"
    },
    {
     "data": {
      "text/html": [
       "<pre>| 983       | 32401.677529 | 0.424663      |</pre>"
      ],
      "text/plain": [
       "| 983       | 32401.677529 | 0.424663      |"
      ]
     },
     "metadata": {},
     "output_type": "display_data"
    },
    {
     "data": {
      "text/html": [
       "<pre>| 984       | 32433.072829 | 0.424652      |</pre>"
      ],
      "text/plain": [
       "| 984       | 32433.072829 | 0.424652      |"
      ]
     },
     "metadata": {},
     "output_type": "display_data"
    },
    {
     "data": {
      "text/html": [
       "<pre>| 985       | 32465.097082 | 0.424635      |</pre>"
      ],
      "text/plain": [
       "| 985       | 32465.097082 | 0.424635      |"
      ]
     },
     "metadata": {},
     "output_type": "display_data"
    },
    {
     "data": {
      "text/html": [
       "<pre>| 986       | 32497.846114 | 0.424631      |</pre>"
      ],
      "text/plain": [
       "| 986       | 32497.846114 | 0.424631      |"
      ]
     },
     "metadata": {},
     "output_type": "display_data"
    },
    {
     "data": {
      "text/html": [
       "<pre>| 987       | 32529.270825 | 0.424624      |</pre>"
      ],
      "text/plain": [
       "| 987       | 32529.270825 | 0.424624      |"
      ]
     },
     "metadata": {},
     "output_type": "display_data"
    },
    {
     "data": {
      "text/html": [
       "<pre>| 988       | 32563.629231 | 0.424605      |</pre>"
      ],
      "text/plain": [
       "| 988       | 32563.629231 | 0.424605      |"
      ]
     },
     "metadata": {},
     "output_type": "display_data"
    },
    {
     "data": {
      "text/html": [
       "<pre>| 989       | 32597.879475 | 0.424590      |</pre>"
      ],
      "text/plain": [
       "| 989       | 32597.879475 | 0.424590      |"
      ]
     },
     "metadata": {},
     "output_type": "display_data"
    },
    {
     "data": {
      "text/html": [
       "<pre>| 990       | 32630.458844 | 0.424565      |</pre>"
      ],
      "text/plain": [
       "| 990       | 32630.458844 | 0.424565      |"
      ]
     },
     "metadata": {},
     "output_type": "display_data"
    },
    {
     "data": {
      "text/html": [
       "<pre>| 991       | 32663.156430 | 0.424556      |</pre>"
      ],
      "text/plain": [
       "| 991       | 32663.156430 | 0.424556      |"
      ]
     },
     "metadata": {},
     "output_type": "display_data"
    },
    {
     "data": {
      "text/html": [
       "<pre>| 992       | 32694.691910 | 0.424546      |</pre>"
      ],
      "text/plain": [
       "| 992       | 32694.691910 | 0.424546      |"
      ]
     },
     "metadata": {},
     "output_type": "display_data"
    },
    {
     "data": {
      "text/html": [
       "<pre>| 993       | 32727.080014 | 0.424529      |</pre>"
      ],
      "text/plain": [
       "| 993       | 32727.080014 | 0.424529      |"
      ]
     },
     "metadata": {},
     "output_type": "display_data"
    },
    {
     "data": {
      "text/html": [
       "<pre>| 994       | 32759.630797 | 0.424506      |</pre>"
      ],
      "text/plain": [
       "| 994       | 32759.630797 | 0.424506      |"
      ]
     },
     "metadata": {},
     "output_type": "display_data"
    },
    {
     "data": {
      "text/html": [
       "<pre>| 995       | 32790.804422 | 0.424496      |</pre>"
      ],
      "text/plain": [
       "| 995       | 32790.804422 | 0.424496      |"
      ]
     },
     "metadata": {},
     "output_type": "display_data"
    },
    {
     "data": {
      "text/html": [
       "<pre>| 996       | 32824.210852 | 0.424476      |</pre>"
      ],
      "text/plain": [
       "| 996       | 32824.210852 | 0.424476      |"
      ]
     },
     "metadata": {},
     "output_type": "display_data"
    },
    {
     "data": {
      "text/html": [
       "<pre>| 997       | 32857.357163 | 0.424463      |</pre>"
      ],
      "text/plain": [
       "| 997       | 32857.357163 | 0.424463      |"
      ]
     },
     "metadata": {},
     "output_type": "display_data"
    },
    {
     "data": {
      "text/html": [
       "<pre>| 998       | 32890.283002 | 0.424438      |</pre>"
      ],
      "text/plain": [
       "| 998       | 32890.283002 | 0.424438      |"
      ]
     },
     "metadata": {},
     "output_type": "display_data"
    },
    {
     "data": {
      "text/html": [
       "<pre>| 999       | 32921.952014 | 0.424416      |</pre>"
      ],
      "text/plain": [
       "| 999       | 32921.952014 | 0.424416      |"
      ]
     },
     "metadata": {},
     "output_type": "display_data"
    },
    {
     "data": {
      "text/html": [
       "<pre>| 1000      | 32954.313942 | 0.424402      |</pre>"
      ],
      "text/plain": [
       "| 1000      | 32954.313942 | 0.424402      |"
      ]
     },
     "metadata": {},
     "output_type": "display_data"
    },
    {
     "data": {
      "text/html": [
       "<pre>Checkpointing to /home/zongyi/bimbo_data/model_checkpoint_1000</pre>"
      ],
      "text/plain": [
       "Checkpointing to /home/zongyi/bimbo_data/model_checkpoint_1000"
      ]
     },
     "metadata": {},
     "output_type": "display_data"
    },
    {
     "data": {
      "text/html": [
       "<pre>+-----------+--------------+---------------+</pre>"
      ],
      "text/plain": [
       "+-----------+--------------+---------------+"
      ]
     },
     "metadata": {},
     "output_type": "display_data"
    }
   ],
   "source": [
    "# Make a train-test split\n",
    "# train_data, test_data = train.random_split(0.999)\n",
    "\n",
    "# Create a model.\n",
    "model = gl.boosted_trees_regression.create(train, target='Demada_log',\n",
    "                                           step_size=0.1,\n",
    "                                           max_iterations=1000,\n",
    "                                           max_depth = 10,\n",
    "                                          metric='rmse',\n",
    "                                          random_seed=888,\n",
    "                                          column_subsample=0.5,\n",
    "                                          row_subsample=0.85,\n",
    "                                          validation_set=None,\n",
    "                                          model_checkpoint_path=path,\n",
    "                                          model_checkpoint_interval=1000)\n"
   ]
  },
  {
   "cell_type": "code",
   "execution_count": 18,
   "metadata": {
    "collapsed": true
   },
   "outputs": [
    {
     "data": {
      "text/html": [
       "<pre>WARNING: Detected extremely low variance for feature(s) 'Semana' because all entries are nearly the same.\n",
       "Proceeding with model training using all features. If the model does not provide results of adequate quality, exclude the above mentioned feature(s) from the input dataset.</pre>"
      ],
      "text/plain": [
       "WARNING: Detected extremely low variance for feature(s) 'Semana' because all entries are nearly the same.\n",
       "Proceeding with model training using all features. If the model does not provide results of adequate quality, exclude the above mentioned feature(s) from the input dataset."
      ]
     },
     "metadata": {},
     "output_type": "display_data"
    },
    {
     "data": {
      "text/html": [
       "<pre>Resuming from checkpoint at /home/zongyi/bimbo_data/model_checkpoint_1000_w8</pre>"
      ],
      "text/plain": [
       "Resuming from checkpoint at /home/zongyi/bimbo_data/model_checkpoint_1000_w8"
      ]
     },
     "metadata": {},
     "output_type": "display_data"
    },
    {
     "data": {
      "text/html": [
       "<pre>Boosted trees regression:</pre>"
      ],
      "text/plain": [
       "Boosted trees regression:"
      ]
     },
     "metadata": {},
     "output_type": "display_data"
    },
    {
     "data": {
      "text/html": [
       "<pre>--------------------------------------------------------</pre>"
      ],
      "text/plain": [
       "--------------------------------------------------------"
      ]
     },
     "metadata": {},
     "output_type": "display_data"
    },
    {
     "data": {
      "text/html": [
       "<pre>Number of examples          : 10396388</pre>"
      ],
      "text/plain": [
       "Number of examples          : 10396388"
      ]
     },
     "metadata": {},
     "output_type": "display_data"
    },
    {
     "data": {
      "text/html": [
       "<pre>Number of features          : 24</pre>"
      ],
      "text/plain": [
       "Number of features          : 24"
      ]
     },
     "metadata": {},
     "output_type": "display_data"
    },
    {
     "data": {
      "text/html": [
       "<pre>Number of unpacked features : 24</pre>"
      ],
      "text/plain": [
       "Number of unpacked features : 24"
      ]
     },
     "metadata": {},
     "output_type": "display_data"
    },
    {
     "data": {
      "text/html": [
       "<pre>Resumed training from checkpoint at iteration 1000 which is greater than or equal to max_iterations 1000</pre>"
      ],
      "text/plain": [
       "Resumed training from checkpoint at iteration 1000 which is greater than or equal to max_iterations 1000"
      ]
     },
     "metadata": {},
     "output_type": "display_data"
    }
   ],
   "source": [
    "# '''resume_from_checkpoint'''\n",
    "\n",
    "# train_data, test_data = train.random_split(0.999)\n",
    "\n",
    "# model = gl.boosted_trees_regression.create(train_data, target='Demada_log',\n",
    "#                                            step_size=0.1,\n",
    "#                                            max_iterations=1000,\n",
    "#                                            max_depth = 10,\n",
    "#                                           metric='rmse',\n",
    "#                                           random_seed=461,\n",
    "#                                           column_subsample=0.75,\n",
    "#                                           row_subsample=0.85,\n",
    "#                                           validation_set=test_data,\n",
    "#                                           resume_from_checkpoint=path+'model_checkpoint_1000_w8',\n",
    "#                                            model_checkpoint_path=path,\n",
    "#                                           model_checkpoint_interval=1000)"
   ]
  },
  {
   "cell_type": "code",
   "execution_count": 19,
   "metadata": {
    "collapsed": false
   },
   "outputs": [
    {
     "data": {
      "text/html": [
       "<div style=\"max-height:1000px;max-width:1500px;overflow:auto;\"><table frame=\"box\" rules=\"cols\">\n",
       "    <tr>\n",
       "        <th style=\"padding-left: 1em; padding-right: 1em; text-align: center\">id</th>\n",
       "        <th style=\"padding-left: 1em; padding-right: 1em; text-align: center\">name</th>\n",
       "        <th style=\"padding-left: 1em; padding-right: 1em; text-align: center\">index</th>\n",
       "        <th style=\"padding-left: 1em; padding-right: 1em; text-align: center\">count</th>\n",
       "    </tr>\n",
       "    <tr>\n",
       "        <td style=\"padding-left: 1em; padding-right: 1em; text-align: center; vertical-align: top\">0</td>\n",
       "        <td style=\"padding-left: 1em; padding-right: 1em; text-align: center; vertical-align: top\">Cliente_ID</td>\n",
       "        <td style=\"padding-left: 1em; padding-right: 1em; text-align: center; vertical-align: top\">None</td>\n",
       "        <td style=\"padding-left: 1em; padding-right: 1em; text-align: center; vertical-align: top\">91924</td>\n",
       "    </tr>\n",
       "    <tr>\n",
       "        <td style=\"padding-left: 1em; padding-right: 1em; text-align: center; vertical-align: top\">1</td>\n",
       "        <td style=\"padding-left: 1em; padding-right: 1em; text-align: center; vertical-align: top\">Ruta_SAK</td>\n",
       "        <td style=\"padding-left: 1em; padding-right: 1em; text-align: center; vertical-align: top\">None</td>\n",
       "        <td style=\"padding-left: 1em; padding-right: 1em; text-align: center; vertical-align: top\">74921</td>\n",
       "    </tr>\n",
       "    <tr>\n",
       "        <td style=\"padding-left: 1em; padding-right: 1em; text-align: center; vertical-align: top\">2</td>\n",
       "        <td style=\"padding-left: 1em; padding-right: 1em; text-align: center; vertical-align: top\">Producto_ID</td>\n",
       "        <td style=\"padding-left: 1em; padding-right: 1em; text-align: center; vertical-align: top\">None</td>\n",
       "        <td style=\"padding-left: 1em; padding-right: 1em; text-align: center; vertical-align: top\">68034</td>\n",
       "    </tr>\n",
       "    <tr>\n",
       "        <td style=\"padding-left: 1em; padding-right: 1em; text-align: center; vertical-align: top\">3</td>\n",
       "        <td style=\"padding-left: 1em; padding-right: 1em; text-align: center; vertical-align: top\">Agencia_ID</td>\n",
       "        <td style=\"padding-left: 1em; padding-right: 1em; text-align: center; vertical-align: top\">None</td>\n",
       "        <td style=\"padding-left: 1em; padding-right: 1em; text-align: center; vertical-align: top\">67866</td>\n",
       "    </tr>\n",
       "    <tr>\n",
       "        <td style=\"padding-left: 1em; padding-right: 1em; text-align: center; vertical-align: top\">4</td>\n",
       "        <td style=\"padding-left: 1em; padding-right: 1em; text-align: center; vertical-align: top\">n_c</td>\n",
       "        <td style=\"padding-left: 1em; padding-right: 1em; text-align: center; vertical-align: top\">None</td>\n",
       "        <td style=\"padding-left: 1em; padding-right: 1em; text-align: center; vertical-align: top\">63979</td>\n",
       "    </tr>\n",
       "    <tr>\n",
       "        <td style=\"padding-left: 1em; padding-right: 1em; text-align: center; vertical-align: top\">5</td>\n",
       "        <td style=\"padding-left: 1em; padding-right: 1em; text-align: center; vertical-align: top\">lag1</td>\n",
       "        <td style=\"padding-left: 1em; padding-right: 1em; text-align: center; vertical-align: top\">None</td>\n",
       "        <td style=\"padding-left: 1em; padding-right: 1em; text-align: center; vertical-align: top\">56174</td>\n",
       "    </tr>\n",
       "    <tr>\n",
       "        <td style=\"padding-left: 1em; padding-right: 1em; text-align: center; vertical-align: top\">6</td>\n",
       "        <td style=\"padding-left: 1em; padding-right: 1em; text-align: center; vertical-align: top\">n_r</td>\n",
       "        <td style=\"padding-left: 1em; padding-right: 1em; text-align: center; vertical-align: top\">None</td>\n",
       "        <td style=\"padding-left: 1em; padding-right: 1em; text-align: center; vertical-align: top\">54858</td>\n",
       "    </tr>\n",
       "    <tr>\n",
       "        <td style=\"padding-left: 1em; padding-right: 1em; text-align: center; vertical-align: top\">7</td>\n",
       "        <td style=\"padding-left: 1em; padding-right: 1em; text-align: center; vertical-align: top\">n_p</td>\n",
       "        <td style=\"padding-left: 1em; padding-right: 1em; text-align: center; vertical-align: top\">None</td>\n",
       "        <td style=\"padding-left: 1em; padding-right: 1em; text-align: center; vertical-align: top\">52506</td>\n",
       "    </tr>\n",
       "    <tr>\n",
       "        <td style=\"padding-left: 1em; padding-right: 1em; text-align: center; vertical-align: top\">8</td>\n",
       "        <td style=\"padding-left: 1em; padding-right: 1em; text-align: center; vertical-align: top\">n_a</td>\n",
       "        <td style=\"padding-left: 1em; padding-right: 1em; text-align: center; vertical-align: top\">None</td>\n",
       "        <td style=\"padding-left: 1em; padding-right: 1em; text-align: center; vertical-align: top\">45184</td>\n",
       "    </tr>\n",
       "    <tr>\n",
       "        <td style=\"padding-left: 1em; padding-right: 1em; text-align: center; vertical-align: top\">9</td>\n",
       "        <td style=\"padding-left: 1em; padding-right: 1em; text-align: center; vertical-align: top\">lag2</td>\n",
       "        <td style=\"padding-left: 1em; padding-right: 1em; text-align: center; vertical-align: top\">None</td>\n",
       "        <td style=\"padding-left: 1em; padding-right: 1em; text-align: center; vertical-align: top\">44347</td>\n",
       "    </tr>\n",
       "</table>\n",
       "[14 rows x 4 columns]<br/>Note: Only the head of the SFrame is printed.<br/>You can use print_rows(num_rows=m, num_columns=n) to print more rows and columns.\n",
       "</div>"
      ],
      "text/plain": [
       "Columns:\n",
       "\tid\tint\n",
       "\tname\tstr\n",
       "\tindex\tstr\n",
       "\tcount\tint\n",
       "\n",
       "Rows: 14\n",
       "\n",
       "Data:\n",
       "+----+-------------+-------+-------+\n",
       "| id |     name    | index | count |\n",
       "+----+-------------+-------+-------+\n",
       "| 0  |  Cliente_ID |  None | 91924 |\n",
       "| 1  |   Ruta_SAK  |  None | 74921 |\n",
       "| 2  | Producto_ID |  None | 68034 |\n",
       "| 3  |  Agencia_ID |  None | 67866 |\n",
       "| 4  |     n_c     |  None | 63979 |\n",
       "| 5  |     lag1    |  None | 56174 |\n",
       "| 6  |     n_r     |  None | 54858 |\n",
       "| 7  |     n_p     |  None | 52506 |\n",
       "| 8  |     n_a     |  None | 45184 |\n",
       "| 9  |     lag2    |  None | 44347 |\n",
       "+----+-------------+-------+-------+\n",
       "[14 rows x 4 columns]\n",
       "Note: Only the head of the SFrame is printed.\n",
       "You can use print_rows(num_rows=m, num_columns=n) to print more rows and columns."
      ]
     },
     "execution_count": 19,
     "metadata": {},
     "output_type": "execute_result"
    }
   ],
   "source": [
    "'''feature important'''\n",
    "w = model.get_feature_importance()\n",
    "w = w.add_row_number()\n",
    "w"
   ]
  },
  {
   "cell_type": "code",
   "execution_count": 20,
   "metadata": {
    "collapsed": false
   },
   "outputs": [
    {
     "data": {
      "text/plain": [
       "(array([ 0,  1,  2,  3,  4,  5,  6,  7,  8,  9, 10, 11, 12, 13]),\n",
       " <a list of 14 Text xticklabel objects>)"
      ]
     },
     "execution_count": 20,
     "metadata": {},
     "output_type": "execute_result"
    },
    {
     "data": {
      "image/png": "[encoded data removed]",
      "text/plain": [
       "<matplotlib.figure.Figure at 0x7f757a076c10>"
      ]
     },
     "metadata": {},
     "output_type": "display_data"
    }
   ],
   "source": [
    "from IPython.core.pylabtools import figsize\n",
    "import numpy as np\n",
    "from matplotlib import pyplot as plt\n",
    "import seaborn as sns\n",
    "sns.set_style('darkgrid', {'grid.color': '.8','grid.linestyle': u'--'}) \n",
    "%matplotlib inline\n",
    "\n",
    "figsize(12, 6)\n",
    "plt.bar(w['id'], w['count'], tick_label=w['name'])\n",
    "\n",
    "plt.xticks(rotation=45)\n"
   ]
  },
  {
   "cell_type": "code",
   "execution_count": 16,
   "metadata": {
    "collapsed": false
   },
   "outputs": [
    {
     "name": "stdout",
     "output_type": "stream",
     "text": [
      "{'max_error': 5.325312852859497, 'rmse': 0.42764513831793416}\n"
     ]
    }
   ],
   "source": [
    "# Save predictions to an SArray\n",
    "# predictions = model.predict(train)\n",
    "\n",
    "# Evaluate the model and save the results into a dictionary\n",
    "\n",
    "# results = model.evaluate(train)\n",
    "# print results\n"
   ]
  },
  {
   "cell_type": "markdown",
   "metadata": {
    "collapsed": true
   },
   "source": [
    "## predict"
   ]
  },
  {
   "cell_type": "code",
   "execution_count": 10,
   "metadata": {
    "collapsed": true
   },
   "outputs": [],
   "source": [
    "test = gl.SFrame.read_csv(path + 'test_fs_w8.csv', verbose=False)\n",
    "# test = test.join(town, on=['Agencia_ID','Producto_ID'], how='left')\n",
    "# del test['Town']\n",
    "# test = test.fillna('t_c',1)\n",
    "# test = test.fillna('tcc',0)\n",
    "# test = test.fillna('tp_sum',0)"
   ]
  },
  {
   "cell_type": "code",
   "execution_count": 11,
   "metadata": {
    "collapsed": false
   },
   "outputs": [],
   "source": [
    "\n",
    "del test['Canal_ID']\n",
    "del test['lag_sum']\n",
    "del test['n_t']\n",
    "del test['prom']\n",
    "del test['brand']\n",
    "del test['healthy']\n",
    "del test['drink']"
   ]
  },
  {
   "cell_type": "code",
   "execution_count": 12,
   "metadata": {
    "collapsed": false
   },
   "outputs": [
    {
     "name": "stdout",
     "output_type": "stream",
     "text": [
      "['id', 'Semana', 'Agencia_ID', 'Ruta_SAK', 'Cliente_ID', 'Producto_ID', 'lag1', 'lag2', 'lag3', 'lag4', 'lag5', 'prior_sum', 'week_times', 'n_a', 'n_r', 'n_c', 'n_p', 'Town', 't_c', 'tcc', 'tp_sum', 're_sum', 'p_clt', 'weight', 'pieces', 'w_per_piece', 'price', 'c_clt']\n",
      "28\n"
     ]
    }
   ],
   "source": [
    "print test.column_names()\n",
    "print len(test.column_names())"
   ]
  },
  {
   "cell_type": "code",
   "execution_count": 13,
   "metadata": {
    "collapsed": true
   },
   "outputs": [],
   "source": [
    "'''Add feature to week 11'''\n",
    "def feature_w11(test, lag_sum=0, prior_sum=0):\n",
    "    test_full = test.copy()\n",
    "    ids = test['id']\n",
    "    del test['id']\n",
    "    del test['Semana']\n",
    "    demand_log = model.predict(test)\n",
    "    sub1 = gl.SFrame({'id':ids,'Demanda_uni_equil':demand_log})\n",
    "    test_full = test_full.join(sub1,on=['id'],how='left')\n",
    "    lag11 = test_full.groupby(key_columns=['Semana','Cliente_ID','Producto_ID'], operations={'lag11':agg.MEAN('Demanda_uni_equil')})\n",
    "    lag11['Semana'] = lag11['Semana'].apply(lambda x: x+1)\n",
    "    test_full = test_full.join(lag11,on=['Semana','Cliente_ID','Producto_ID'],how='left')\n",
    "    test_full = test_full.fillna('lag11',0)\n",
    "    test_full['lag1'] = test_full['lag1'] + test_full['lag11']\n",
    "    \n",
    "    if lag_sum == 1:\n",
    "        test_full['lag_sum'] = test_full['lag_sum'] + test_full['lag11']\n",
    "        \n",
    "    if prior_sum == 1:\n",
    "        lag_sum11 = test_full.groupby(key_columns=['Semana','Cliente_ID','Producto_ID'], operations={'lag_sum11':agg.SUM('Demanda_uni_equil')})\n",
    "        lag_sum11['Semana'] = lag_sum11['Semana'].apply(lambda x: x+1)\n",
    "        test_full = test_full.join(lag_sum11,on=['Semana','Cliente_ID','Producto_ID'],how='left')\n",
    "        test_full = test_full.fillna('lag_sum11',0)\n",
    "        test_full['prior_sum'] = test_full['prior_sum'] + test_full['lag_sum11']\n",
    "        del test_full['lag_sum11']\n",
    "\n",
    "    del test_full['lag11']\n",
    "    del test_full['Demanda_uni_equil']\n",
    "    return test_full"
   ]
  },
  {
   "cell_type": "code",
   "execution_count": 14,
   "metadata": {
    "collapsed": true
   },
   "outputs": [],
   "source": [
    "test_full = feature_w11(test, lag_sum=0, prior_sum=1)\n",
    "\n",
    "ids = test_full['id']\n",
    "del test_full['id']\n",
    "del test_full['Semana']\n",
    "demand_log = model.predict(test_full)\n",
    "sub = gl.SFrame({'id':ids,'Demanda_uni_equil':demand_log})"
   ]
  },
  {
   "cell_type": "code",
   "execution_count": 15,
   "metadata": {
    "collapsed": false
   },
   "outputs": [],
   "source": [
    "import math\n",
    "sub['Demanda_uni_equil'] = sub['Demanda_uni_equil'].apply(lambda x: math.expm1(max(0, x)))"
   ]
  },
  {
   "cell_type": "code",
   "execution_count": 16,
   "metadata": {
    "collapsed": true
   },
   "outputs": [],
   "source": [
    "file_name = 'w8'+'_f'+str(model.num_features)+'_n'+str(model.max_iterations)+'_c'+str(model.column_subsample)\n",
    "sub.save('/home/zongyi/Dropbox/kaggle/' + file_name,format='csv')"
   ]
  },
  {
   "cell_type": "code",
   "execution_count": 56,
   "metadata": {
    "collapsed": false
   },
   "outputs": [
    {
     "data": {
      "text/html": [
       "<div style=\"max-height:1000px;max-width:1500px;overflow:auto;\"><table frame=\"box\" rules=\"cols\">\n",
       "    <tr>\n",
       "        <th style=\"padding-left: 1em; padding-right: 1em; text-align: center\">Demanda_uni_equil</th>\n",
       "        <th style=\"padding-left: 1em; padding-right: 1em; text-align: center\">id</th>\n",
       "    </tr>\n",
       "    <tr>\n",
       "        <td style=\"padding-left: 1em; padding-right: 1em; text-align: center; vertical-align: top\">3.44166957171</td>\n",
       "        <td style=\"padding-left: 1em; padding-right: 1em; text-align: center; vertical-align: top\">4721633</td>\n",
       "    </tr>\n",
       "    <tr>\n",
       "        <td style=\"padding-left: 1em; padding-right: 1em; text-align: center; vertical-align: top\">1.85704603627</td>\n",
       "        <td style=\"padding-left: 1em; padding-right: 1em; text-align: center; vertical-align: top\">6035419</td>\n",
       "    </tr>\n",
       "    <tr>\n",
       "        <td style=\"padding-left: 1em; padding-right: 1em; text-align: center; vertical-align: top\">1.66017810641</td>\n",
       "        <td style=\"padding-left: 1em; padding-right: 1em; text-align: center; vertical-align: top\">3462602</td>\n",
       "    </tr>\n",
       "    <tr>\n",
       "        <td style=\"padding-left: 1em; padding-right: 1em; text-align: center; vertical-align: top\">2.07406741465</td>\n",
       "        <td style=\"padding-left: 1em; padding-right: 1em; text-align: center; vertical-align: top\">855102</td>\n",
       "    </tr>\n",
       "    <tr>\n",
       "        <td style=\"padding-left: 1em; padding-right: 1em; text-align: center; vertical-align: top\">9.65243960287</td>\n",
       "        <td style=\"padding-left: 1em; padding-right: 1em; text-align: center; vertical-align: top\">3242700</td>\n",
       "    </tr>\n",
       "    <tr>\n",
       "        <td style=\"padding-left: 1em; padding-right: 1em; text-align: center; vertical-align: top\">12.1227423306</td>\n",
       "        <td style=\"padding-left: 1em; padding-right: 1em; text-align: center; vertical-align: top\">2421613</td>\n",
       "    </tr>\n",
       "    <tr>\n",
       "        <td style=\"padding-left: 1em; padding-right: 1em; text-align: center; vertical-align: top\">3.56680995819</td>\n",
       "        <td style=\"padding-left: 1em; padding-right: 1em; text-align: center; vertical-align: top\">1573296</td>\n",
       "    </tr>\n",
       "    <tr>\n",
       "        <td style=\"padding-left: 1em; padding-right: 1em; text-align: center; vertical-align: top\">6.66333331862</td>\n",
       "        <td style=\"padding-left: 1em; padding-right: 1em; text-align: center; vertical-align: top\">1619375</td>\n",
       "    </tr>\n",
       "    <tr>\n",
       "        <td style=\"padding-left: 1em; padding-right: 1em; text-align: center; vertical-align: top\">1.67583492502</td>\n",
       "        <td style=\"padding-left: 1em; padding-right: 1em; text-align: center; vertical-align: top\">3539201</td>\n",
       "    </tr>\n",
       "    <tr>\n",
       "        <td style=\"padding-left: 1em; padding-right: 1em; text-align: center; vertical-align: top\">8.6226952164</td>\n",
       "        <td style=\"padding-left: 1em; padding-right: 1em; text-align: center; vertical-align: top\">1631781</td>\n",
       "    </tr>\n",
       "</table>\n",
       "[6999251 rows x 2 columns]<br/>Note: Only the head of the SFrame is printed.<br/>You can use print_rows(num_rows=m, num_columns=n) to print more rows and columns.\n",
       "</div>"
      ],
      "text/plain": [
       "Columns:\n",
       "\tDemanda_uni_equil\tfloat\n",
       "\tid\tint\n",
       "\n",
       "Rows: 6999251\n",
       "\n",
       "Data:\n",
       "+-------------------+---------+\n",
       "| Demanda_uni_equil |    id   |\n",
       "+-------------------+---------+\n",
       "|   3.44166957171   | 4721633 |\n",
       "|   1.85704603627   | 6035419 |\n",
       "|   1.66017810641   | 3462602 |\n",
       "|   2.07406741465   |  855102 |\n",
       "|   9.65243960287   | 3242700 |\n",
       "|   12.1227423306   | 2421613 |\n",
       "|   3.56680995819   | 1573296 |\n",
       "|   6.66333331862   | 1619375 |\n",
       "|   1.67583492502   | 3539201 |\n",
       "|    8.6226952164   | 1631781 |\n",
       "+-------------------+---------+\n",
       "[6999251 rows x 2 columns]\n",
       "Note: Only the head of the SFrame is printed.\n",
       "You can use print_rows(num_rows=m, num_columns=n) to print more rows and columns."
      ]
     },
     "execution_count": 56,
     "metadata": {},
     "output_type": "execute_result"
    }
   ],
   "source": [
    "sub"
   ]
  }
 ],
 "metadata": {
  "kernelspec": {
   "display_name": "Python 2",
   "language": "python",
   "name": "python2"
  },
  "language_info": {
   "codemirror_mode": {
    "name": "ipython",
    "version": 2
   },
   "file_extension": ".py",
   "mimetype": "text/x-python",
   "name": "python",
   "nbconvert_exporter": "python",
   "pygments_lexer": "ipython2",
   "version": "2.7.6"
  }
 },
 "nbformat": 4,
 "nbformat_minor": 0
}
