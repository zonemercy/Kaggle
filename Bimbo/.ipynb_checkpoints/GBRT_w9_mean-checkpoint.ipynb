{
 "cells": [
  {
   "cell_type": "code",
   "execution_count": 50,
   "metadata": {
    "collapsed": true
   },
   "outputs": [],
   "source": [
    "import pandas as pd\n",
    "import numpy as np\n",
    "import os\n",
    "import math\n",
    "import graphlab\n",
    "import graphlab as gl\n",
    "import graphlab.aggregate as agg\n",
    "from graphlab import SArray"
   ]
  },
  {
   "cell_type": "code",
   "execution_count": 2,
   "metadata": {
    "collapsed": true
   },
   "outputs": [],
   "source": [
    "'''钢炮'''\n",
    "path = '/home/zongyi/bimbo_data/'"
   ]
  },
  {
   "cell_type": "code",
   "execution_count": 4,
   "metadata": {
    "collapsed": false
   },
   "outputs": [],
   "source": [
    "train = gl.SFrame.read_csv(path + 'train_lag5_w9_mean.csv', verbose=False)"
   ]
  },
  {
   "cell_type": "code",
   "execution_count": 4,
   "metadata": {
    "collapsed": false
   },
   "outputs": [],
   "source": [
    "town = gl.SFrame.read_csv(path + 'towns.csv', verbose=False)\n",
    "train = train.join(town, on=['Agencia_ID','Producto_ID'], how='left')\n",
    "train = train.fillna('t_c',1)\n",
    "train = train.fillna('tcc',0)\n",
    "train = train.fillna('tp_sum',0)\n",
    "del train['Town']\n",
    "del train['t_c']\n"
   ]
  },
  {
   "cell_type": "code",
   "execution_count": 5,
   "metadata": {
    "collapsed": true
   },
   "outputs": [],
   "source": [
    "del train['n_t']"
   ]
  },
  {
   "cell_type": "code",
   "execution_count": 6,
   "metadata": {
    "collapsed": false
   },
   "outputs": [],
   "source": [
    "del train['id']\n",
    "del train['Venta_uni_hoy']\n",
    "del train['Venta_hoy']\n",
    "del train['Dev_uni_proxima']\n",
    "del train['Dev_proxima']\n",
    "del train['Demanda_uni_equil']\n"
   ]
  },
  {
   "cell_type": "code",
   "execution_count": 6,
   "metadata": {
    "collapsed": true
   },
   "outputs": [],
   "source": [
    "# relag_train = gl.SFrame.read_csv(path + 're_lag_train.csv', verbose=False)\n",
    "# train = train.join(relag_train, on=['Cliente_ID','Producto_ID','Semana'], how='left')\n",
    "# train = train.fillna('re_lag1',0)\n",
    "# train = train.fillna('re_lag2',0)\n",
    "# train = train.fillna('re_lag3',0)\n",
    "# train = train.fillna('re_lag4',0)\n",
    "# train = train.fillna('re_lag5',0)\n",
    "# del relag_train\n"
   ]
  },
  {
   "cell_type": "code",
   "execution_count": 7,
   "metadata": {
    "collapsed": true
   },
   "outputs": [],
   "source": [
    "# pd = gl.SFrame.read_csv(path + 'products.csv', verbose=False)\n",
    "# train = train.join(pd, on=['Producto_ID'], how='left')\n",
    "# train = train.fillna('prom',0)\n",
    "# train = train.fillna('weight',0)\n",
    "# train = train.fillna('pieces',1)\n",
    "# train = train.fillna('w_per_piece',0)\n",
    "# train = train.fillna('healthy',0)\n",
    "# train = train.fillna('drink',0)\n",
    "# del train['brand']\n",
    "# del train['NombreProducto']\n",
    "# del pd"
   ]
  },
  {
   "cell_type": "code",
   "execution_count": 8,
   "metadata": {
    "collapsed": true
   },
   "outputs": [],
   "source": [
    "# client = gl.SFrame.read_csv(path + 'clients.csv', verbose=False)\n",
    "# train = train.join(client, on=['Cliente_ID'], how='left')\n",
    "# del client"
   ]
  },
  {
   "cell_type": "code",
   "execution_count": 9,
   "metadata": {
    "collapsed": false
   },
   "outputs": [],
   "source": [
    "# cluster = gl.SFrame.read_csv(path + 'prod_cluster.csv', verbose=False)\n",
    "# cluster = cluster[['Producto_ID','cluster']]\n",
    "# train = train.join(cluster, on=['Producto_ID'], how='left')"
   ]
  },
  {
   "cell_type": "code",
   "execution_count": 51,
   "metadata": {
    "collapsed": false
   },
   "outputs": [
    {
     "name": "stdout",
     "output_type": "stream",
     "text": [
      "['Agencia_ID', 'Ruta_SAK', 'Cliente_ID', 'Producto_ID', 'Demada_log', 'lag1', 'lag2', 'lag3', 'lag4', 'lag5', 'n_a', 'n_r', 'n_c', 'n_p', 'mpca']\n",
      "15\n"
     ]
    }
   ],
   "source": [
    "# del train['Canal_ID']\n",
    "# del train['week_times']\n",
    "# del train['Semana']\n",
    "# del train['lag_sum']\n",
    "# del train['prior_sum']\n",
    "\n",
    "# train = train.fillna('lag1',0)\n",
    "# train = train.fillna('lag2',0)\n",
    "# train = train.fillna('lag3',0)\n",
    "# train = train.fillna('lag4',0)\n",
    "# train = train.fillna('lag5',0)\n",
    "# # train = train.fillna('lag_sum',0)\n",
    "# # train = train.fillna('prior_sum',0)\n",
    "# train = train.fillna('n_a',0)\n",
    "# train = train.fillna('n_r',0)\n",
    "# train = train.fillna('n_c',0)\n",
    "# train = train.fillna('n_p',0)\n",
    "print train.column_names()\n",
    "print len(train.column_names())"
   ]
  },
  {
   "cell_type": "code",
   "execution_count": 52,
   "metadata": {
    "collapsed": false,
    "scrolled": true
   },
   "outputs": [
    {
     "data": {
      "text/html": [
       "<pre>Boosted trees regression:</pre>"
      ],
      "text/plain": [
       "Boosted trees regression:"
      ]
     },
     "metadata": {},
     "output_type": "display_data"
    },
    {
     "data": {
      "text/html": [
       "<pre>--------------------------------------------------------</pre>"
      ],
      "text/plain": [
       "--------------------------------------------------------"
      ]
     },
     "metadata": {},
     "output_type": "display_data"
    },
    {
     "data": {
      "text/html": [
       "<pre>Number of examples          : 10408713</pre>"
      ],
      "text/plain": [
       "Number of examples          : 10408713"
      ]
     },
     "metadata": {},
     "output_type": "display_data"
    },
    {
     "data": {
      "text/html": [
       "<pre>Number of features          : 14</pre>"
      ],
      "text/plain": [
       "Number of features          : 14"
      ]
     },
     "metadata": {},
     "output_type": "display_data"
    },
    {
     "data": {
      "text/html": [
       "<pre>Number of unpacked features : 14</pre>"
      ],
      "text/plain": [
       "Number of unpacked features : 14"
      ]
     },
     "metadata": {},
     "output_type": "display_data"
    },
    {
     "data": {
      "text/html": [
       "<pre>+-----------+--------------+---------------+</pre>"
      ],
      "text/plain": [
       "+-----------+--------------+---------------+"
      ]
     },
     "metadata": {},
     "output_type": "display_data"
    },
    {
     "data": {
      "text/html": [
       "<pre>| Iteration | Elapsed Time | Training-rmse |</pre>"
      ],
      "text/plain": [
       "| Iteration | Elapsed Time | Training-rmse |"
      ]
     },
     "metadata": {},
     "output_type": "display_data"
    },
    {
     "data": {
      "text/html": [
       "<pre>+-----------+--------------+---------------+</pre>"
      ],
      "text/plain": [
       "+-----------+--------------+---------------+"
      ]
     },
     "metadata": {},
     "output_type": "display_data"
    },
    {
     "data": {
      "text/html": [
       "<pre>| 1         | 24.421026    | 1.261532      |</pre>"
      ],
      "text/plain": [
       "| 1         | 24.421026    | 1.261532      |"
      ]
     },
     "metadata": {},
     "output_type": "display_data"
    },
    {
     "data": {
      "text/html": [
       "<pre>| 2         | 52.227426    | 1.153893      |</pre>"
      ],
      "text/plain": [
       "| 2         | 52.227426    | 1.153893      |"
      ]
     },
     "metadata": {},
     "output_type": "display_data"
    },
    {
     "data": {
      "text/html": [
       "<pre>| 3         | 75.935317    | 1.061429      |</pre>"
      ],
      "text/plain": [
       "| 3         | 75.935317    | 1.061429      |"
      ]
     },
     "metadata": {},
     "output_type": "display_data"
    },
    {
     "data": {
      "text/html": [
       "<pre>| 4         | 99.249580    | 0.977516      |</pre>"
      ],
      "text/plain": [
       "| 4         | 99.249580    | 0.977516      |"
      ]
     },
     "metadata": {},
     "output_type": "display_data"
    },
    {
     "data": {
      "text/html": [
       "<pre>| 5         | 123.622479   | 0.906129      |</pre>"
      ],
      "text/plain": [
       "| 5         | 123.622479   | 0.906129      |"
      ]
     },
     "metadata": {},
     "output_type": "display_data"
    },
    {
     "data": {
      "text/html": [
       "<pre>| 6         | 148.999753   | 0.841352      |</pre>"
      ],
      "text/plain": [
       "| 6         | 148.999753   | 0.841352      |"
      ]
     },
     "metadata": {},
     "output_type": "display_data"
    },
    {
     "data": {
      "text/html": [
       "<pre>| 7         | 173.621220   | 0.787078      |</pre>"
      ],
      "text/plain": [
       "| 7         | 173.621220   | 0.787078      |"
      ]
     },
     "metadata": {},
     "output_type": "display_data"
    },
    {
     "data": {
      "text/html": [
       "<pre>| 8         | 197.950842   | 0.739692      |</pre>"
      ],
      "text/plain": [
       "| 8         | 197.950842   | 0.739692      |"
      ]
     },
     "metadata": {},
     "output_type": "display_data"
    },
    {
     "data": {
      "text/html": [
       "<pre>| 9         | 222.718811   | 0.699243      |</pre>"
      ],
      "text/plain": [
       "| 9         | 222.718811   | 0.699243      |"
      ]
     },
     "metadata": {},
     "output_type": "display_data"
    },
    {
     "data": {
      "text/html": [
       "<pre>| 10        | 246.984353   | 0.661473      |</pre>"
      ],
      "text/plain": [
       "| 10        | 246.984353   | 0.661473      |"
      ]
     },
     "metadata": {},
     "output_type": "display_data"
    },
    {
     "data": {
      "text/html": [
       "<pre>| 11        | 272.118263   | 0.629022      |</pre>"
      ],
      "text/plain": [
       "| 11        | 272.118263   | 0.629022      |"
      ]
     },
     "metadata": {},
     "output_type": "display_data"
    },
    {
     "data": {
      "text/html": [
       "<pre>| 12        | 297.328780   | 0.601403      |</pre>"
      ],
      "text/plain": [
       "| 12        | 297.328780   | 0.601403      |"
      ]
     },
     "metadata": {},
     "output_type": "display_data"
    },
    {
     "data": {
      "text/html": [
       "<pre>| 13        | 320.963490   | 0.579421      |</pre>"
      ],
      "text/plain": [
       "| 13        | 320.963490   | 0.579421      |"
      ]
     },
     "metadata": {},
     "output_type": "display_data"
    },
    {
     "data": {
      "text/html": [
       "<pre>| 14        | 345.283378   | 0.560682      |</pre>"
      ],
      "text/plain": [
       "| 14        | 345.283378   | 0.560682      |"
      ]
     },
     "metadata": {},
     "output_type": "display_data"
    },
    {
     "data": {
      "text/html": [
       "<pre>| 15        | 369.609112   | 0.543707      |</pre>"
      ],
      "text/plain": [
       "| 15        | 369.609112   | 0.543707      |"
      ]
     },
     "metadata": {},
     "output_type": "display_data"
    },
    {
     "data": {
      "text/html": [
       "<pre>| 16        | 395.178178   | 0.529429      |</pre>"
      ],
      "text/plain": [
       "| 16        | 395.178178   | 0.529429      |"
      ]
     },
     "metadata": {},
     "output_type": "display_data"
    },
    {
     "data": {
      "text/html": [
       "<pre>| 17        | 420.853485   | 0.517442      |</pre>"
      ],
      "text/plain": [
       "| 17        | 420.853485   | 0.517442      |"
      ]
     },
     "metadata": {},
     "output_type": "display_data"
    },
    {
     "data": {
      "text/html": [
       "<pre>| 18        | 447.006453   | 0.507345      |</pre>"
      ],
      "text/plain": [
       "| 18        | 447.006453   | 0.507345      |"
      ]
     },
     "metadata": {},
     "output_type": "display_data"
    },
    {
     "data": {
      "text/html": [
       "<pre>| 19        | 472.591673   | 0.499300      |</pre>"
      ],
      "text/plain": [
       "| 19        | 472.591673   | 0.499300      |"
      ]
     },
     "metadata": {},
     "output_type": "display_data"
    },
    {
     "data": {
      "text/html": [
       "<pre>| 20        | 497.092576   | 0.493157      |</pre>"
      ],
      "text/plain": [
       "| 20        | 497.092576   | 0.493157      |"
      ]
     },
     "metadata": {},
     "output_type": "display_data"
    },
    {
     "data": {
      "text/html": [
       "<pre>| 21        | 519.336256   | 0.487356      |</pre>"
      ],
      "text/plain": [
       "| 21        | 519.336256   | 0.487356      |"
      ]
     },
     "metadata": {},
     "output_type": "display_data"
    },
    {
     "data": {
      "text/html": [
       "<pre>| 22        | 544.442875   | 0.482669      |</pre>"
      ],
      "text/plain": [
       "| 22        | 544.442875   | 0.482669      |"
      ]
     },
     "metadata": {},
     "output_type": "display_data"
    },
    {
     "data": {
      "text/html": [
       "<pre>| 23        | 569.647809   | 0.478469      |</pre>"
      ],
      "text/plain": [
       "| 23        | 569.647809   | 0.478469      |"
      ]
     },
     "metadata": {},
     "output_type": "display_data"
    },
    {
     "data": {
      "text/html": [
       "<pre>| 24        | 594.242167   | 0.475092      |</pre>"
      ],
      "text/plain": [
       "| 24        | 594.242167   | 0.475092      |"
      ]
     },
     "metadata": {},
     "output_type": "display_data"
    },
    {
     "data": {
      "text/html": [
       "<pre>| 25        | 619.324622   | 0.472291      |</pre>"
      ],
      "text/plain": [
       "| 25        | 619.324622   | 0.472291      |"
      ]
     },
     "metadata": {},
     "output_type": "display_data"
    },
    {
     "data": {
      "text/html": [
       "<pre>| 26        | 644.683867   | 0.470272      |</pre>"
      ],
      "text/plain": [
       "| 26        | 644.683867   | 0.470272      |"
      ]
     },
     "metadata": {},
     "output_type": "display_data"
    },
    {
     "data": {
      "text/html": [
       "<pre>| 27        | 669.070835   | 0.468306      |</pre>"
      ],
      "text/plain": [
       "| 27        | 669.070835   | 0.468306      |"
      ]
     },
     "metadata": {},
     "output_type": "display_data"
    },
    {
     "data": {
      "text/html": [
       "<pre>| 28        | 693.088027   | 0.466847      |</pre>"
      ],
      "text/plain": [
       "| 28        | 693.088027   | 0.466847      |"
      ]
     },
     "metadata": {},
     "output_type": "display_data"
    },
    {
     "data": {
      "text/html": [
       "<pre>| 29        | 718.894897   | 0.465427      |</pre>"
      ],
      "text/plain": [
       "| 29        | 718.894897   | 0.465427      |"
      ]
     },
     "metadata": {},
     "output_type": "display_data"
    },
    {
     "data": {
      "text/html": [
       "<pre>| 30        | 743.887693   | 0.464140      |</pre>"
      ],
      "text/plain": [
       "| 30        | 743.887693   | 0.464140      |"
      ]
     },
     "metadata": {},
     "output_type": "display_data"
    },
    {
     "data": {
      "text/html": [
       "<pre>| 31        | 769.068690   | 0.462946      |</pre>"
      ],
      "text/plain": [
       "| 31        | 769.068690   | 0.462946      |"
      ]
     },
     "metadata": {},
     "output_type": "display_data"
    },
    {
     "data": {
      "text/html": [
       "<pre>| 32        | 794.276178   | 0.462019      |</pre>"
      ],
      "text/plain": [
       "| 32        | 794.276178   | 0.462019      |"
      ]
     },
     "metadata": {},
     "output_type": "display_data"
    },
    {
     "data": {
      "text/html": [
       "<pre>| 33        | 821.605964   | 0.461090      |</pre>"
      ],
      "text/plain": [
       "| 33        | 821.605964   | 0.461090      |"
      ]
     },
     "metadata": {},
     "output_type": "display_data"
    },
    {
     "data": {
      "text/html": [
       "<pre>| 34        | 848.041591   | 0.460373      |</pre>"
      ],
      "text/plain": [
       "| 34        | 848.041591   | 0.460373      |"
      ]
     },
     "metadata": {},
     "output_type": "display_data"
    },
    {
     "data": {
      "text/html": [
       "<pre>| 35        | 874.121029   | 0.459638      |</pre>"
      ],
      "text/plain": [
       "| 35        | 874.121029   | 0.459638      |"
      ]
     },
     "metadata": {},
     "output_type": "display_data"
    },
    {
     "data": {
      "text/html": [
       "<pre>| 36        | 900.588892   | 0.459010      |</pre>"
      ],
      "text/plain": [
       "| 36        | 900.588892   | 0.459010      |"
      ]
     },
     "metadata": {},
     "output_type": "display_data"
    },
    {
     "data": {
      "text/html": [
       "<pre>| 37        | 926.551585   | 0.458550      |</pre>"
      ],
      "text/plain": [
       "| 37        | 926.551585   | 0.458550      |"
      ]
     },
     "metadata": {},
     "output_type": "display_data"
    },
    {
     "data": {
      "text/html": [
       "<pre>| 38        | 952.401684   | 0.457994      |</pre>"
      ],
      "text/plain": [
       "| 38        | 952.401684   | 0.457994      |"
      ]
     },
     "metadata": {},
     "output_type": "display_data"
    },
    {
     "data": {
      "text/html": [
       "<pre>| 39        | 978.311829   | 0.457516      |</pre>"
      ],
      "text/plain": [
       "| 39        | 978.311829   | 0.457516      |"
      ]
     },
     "metadata": {},
     "output_type": "display_data"
    },
    {
     "data": {
      "text/html": [
       "<pre>| 40        | 1005.087416  | 0.457069      |</pre>"
      ],
      "text/plain": [
       "| 40        | 1005.087416  | 0.457069      |"
      ]
     },
     "metadata": {},
     "output_type": "display_data"
    },
    {
     "data": {
      "text/html": [
       "<pre>| 41        | 1029.353763  | 0.456683      |</pre>"
      ],
      "text/plain": [
       "| 41        | 1029.353763  | 0.456683      |"
      ]
     },
     "metadata": {},
     "output_type": "display_data"
    },
    {
     "data": {
      "text/html": [
       "<pre>| 42        | 1055.737842  | 0.456346      |</pre>"
      ],
      "text/plain": [
       "| 42        | 1055.737842  | 0.456346      |"
      ]
     },
     "metadata": {},
     "output_type": "display_data"
    },
    {
     "data": {
      "text/html": [
       "<pre>| 43        | 1081.141549  | 0.455987      |</pre>"
      ],
      "text/plain": [
       "| 43        | 1081.141549  | 0.455987      |"
      ]
     },
     "metadata": {},
     "output_type": "display_data"
    },
    {
     "data": {
      "text/html": [
       "<pre>| 44        | 1107.099120  | 0.455698      |</pre>"
      ],
      "text/plain": [
       "| 44        | 1107.099120  | 0.455698      |"
      ]
     },
     "metadata": {},
     "output_type": "display_data"
    },
    {
     "data": {
      "text/html": [
       "<pre>| 45        | 1133.410749  | 0.455340      |</pre>"
      ],
      "text/plain": [
       "| 45        | 1133.410749  | 0.455340      |"
      ]
     },
     "metadata": {},
     "output_type": "display_data"
    },
    {
     "data": {
      "text/html": [
       "<pre>| 46        | 1159.920154  | 0.455060      |</pre>"
      ],
      "text/plain": [
       "| 46        | 1159.920154  | 0.455060      |"
      ]
     },
     "metadata": {},
     "output_type": "display_data"
    },
    {
     "data": {
      "text/html": [
       "<pre>| 47        | 1185.022037  | 0.454773      |</pre>"
      ],
      "text/plain": [
       "| 47        | 1185.022037  | 0.454773      |"
      ]
     },
     "metadata": {},
     "output_type": "display_data"
    },
    {
     "data": {
      "text/html": [
       "<pre>| 48        | 1210.961732  | 0.454557      |</pre>"
      ],
      "text/plain": [
       "| 48        | 1210.961732  | 0.454557      |"
      ]
     },
     "metadata": {},
     "output_type": "display_data"
    },
    {
     "data": {
      "text/html": [
       "<pre>| 49        | 1236.636878  | 0.454326      |</pre>"
      ],
      "text/plain": [
       "| 49        | 1236.636878  | 0.454326      |"
      ]
     },
     "metadata": {},
     "output_type": "display_data"
    },
    {
     "data": {
      "text/html": [
       "<pre>| 50        | 1261.664015  | 0.454058      |</pre>"
      ],
      "text/plain": [
       "| 50        | 1261.664015  | 0.454058      |"
      ]
     },
     "metadata": {},
     "output_type": "display_data"
    },
    {
     "data": {
      "text/html": [
       "<pre>| 51        | 1286.603782  | 0.453780      |</pre>"
      ],
      "text/plain": [
       "| 51        | 1286.603782  | 0.453780      |"
      ]
     },
     "metadata": {},
     "output_type": "display_data"
    },
    {
     "data": {
      "text/html": [
       "<pre>| 52        | 1311.791005  | 0.453619      |</pre>"
      ],
      "text/plain": [
       "| 52        | 1311.791005  | 0.453619      |"
      ]
     },
     "metadata": {},
     "output_type": "display_data"
    },
    {
     "data": {
      "text/html": [
       "<pre>| 53        | 1338.059403  | 0.453445      |</pre>"
      ],
      "text/plain": [
       "| 53        | 1338.059403  | 0.453445      |"
      ]
     },
     "metadata": {},
     "output_type": "display_data"
    },
    {
     "data": {
      "text/html": [
       "<pre>| 54        | 1362.865663  | 0.453291      |</pre>"
      ],
      "text/plain": [
       "| 54        | 1362.865663  | 0.453291      |"
      ]
     },
     "metadata": {},
     "output_type": "display_data"
    },
    {
     "data": {
      "text/html": [
       "<pre>| 55        | 1387.805886  | 0.453116      |</pre>"
      ],
      "text/plain": [
       "| 55        | 1387.805886  | 0.453116      |"
      ]
     },
     "metadata": {},
     "output_type": "display_data"
    },
    {
     "data": {
      "text/html": [
       "<pre>| 56        | 1412.994016  | 0.452948      |</pre>"
      ],
      "text/plain": [
       "| 56        | 1412.994016  | 0.452948      |"
      ]
     },
     "metadata": {},
     "output_type": "display_data"
    },
    {
     "data": {
      "text/html": [
       "<pre>| 57        | 1437.328030  | 0.452735      |</pre>"
      ],
      "text/plain": [
       "| 57        | 1437.328030  | 0.452735      |"
      ]
     },
     "metadata": {},
     "output_type": "display_data"
    },
    {
     "data": {
      "text/html": [
       "<pre>| 58        | 1462.952320  | 0.452571      |</pre>"
      ],
      "text/plain": [
       "| 58        | 1462.952320  | 0.452571      |"
      ]
     },
     "metadata": {},
     "output_type": "display_data"
    },
    {
     "data": {
      "text/html": [
       "<pre>| 59        | 1486.224681  | 0.452292      |</pre>"
      ],
      "text/plain": [
       "| 59        | 1486.224681  | 0.452292      |"
      ]
     },
     "metadata": {},
     "output_type": "display_data"
    },
    {
     "data": {
      "text/html": [
       "<pre>| 60        | 1510.979230  | 0.452167      |</pre>"
      ],
      "text/plain": [
       "| 60        | 1510.979230  | 0.452167      |"
      ]
     },
     "metadata": {},
     "output_type": "display_data"
    },
    {
     "data": {
      "text/html": [
       "<pre>| 61        | 1535.810385  | 0.452036      |</pre>"
      ],
      "text/plain": [
       "| 61        | 1535.810385  | 0.452036      |"
      ]
     },
     "metadata": {},
     "output_type": "display_data"
    },
    {
     "data": {
      "text/html": [
       "<pre>| 62        | 1561.132444  | 0.451834      |</pre>"
      ],
      "text/plain": [
       "| 62        | 1561.132444  | 0.451834      |"
      ]
     },
     "metadata": {},
     "output_type": "display_data"
    },
    {
     "data": {
      "text/html": [
       "<pre>| 63        | 1585.743594  | 0.451644      |</pre>"
      ],
      "text/plain": [
       "| 63        | 1585.743594  | 0.451644      |"
      ]
     },
     "metadata": {},
     "output_type": "display_data"
    },
    {
     "data": {
      "text/html": [
       "<pre>| 64        | 1610.246206  | 0.451518      |</pre>"
      ],
      "text/plain": [
       "| 64        | 1610.246206  | 0.451518      |"
      ]
     },
     "metadata": {},
     "output_type": "display_data"
    },
    {
     "data": {
      "text/html": [
       "<pre>| 65        | 1635.127491  | 0.451380      |</pre>"
      ],
      "text/plain": [
       "| 65        | 1635.127491  | 0.451380      |"
      ]
     },
     "metadata": {},
     "output_type": "display_data"
    },
    {
     "data": {
      "text/html": [
       "<pre>| 66        | 1660.479253  | 0.451176      |</pre>"
      ],
      "text/plain": [
       "| 66        | 1660.479253  | 0.451176      |"
      ]
     },
     "metadata": {},
     "output_type": "display_data"
    },
    {
     "data": {
      "text/html": [
       "<pre>| 67        | 1684.588211  | 0.451010      |</pre>"
      ],
      "text/plain": [
       "| 67        | 1684.588211  | 0.451010      |"
      ]
     },
     "metadata": {},
     "output_type": "display_data"
    },
    {
     "data": {
      "text/html": [
       "<pre>| 68        | 1709.944253  | 0.450915      |</pre>"
      ],
      "text/plain": [
       "| 68        | 1709.944253  | 0.450915      |"
      ]
     },
     "metadata": {},
     "output_type": "display_data"
    },
    {
     "data": {
      "text/html": [
       "<pre>| 69        | 1734.804032  | 0.450757      |</pre>"
      ],
      "text/plain": [
       "| 69        | 1734.804032  | 0.450757      |"
      ]
     },
     "metadata": {},
     "output_type": "display_data"
    },
    {
     "data": {
      "text/html": [
       "<pre>| 70        | 1759.160006  | 0.450651      |</pre>"
      ],
      "text/plain": [
       "| 70        | 1759.160006  | 0.450651      |"
      ]
     },
     "metadata": {},
     "output_type": "display_data"
    },
    {
     "data": {
      "text/html": [
       "<pre>| 71        | 1783.885247  | 0.450511      |</pre>"
      ],
      "text/plain": [
       "| 71        | 1783.885247  | 0.450511      |"
      ]
     },
     "metadata": {},
     "output_type": "display_data"
    },
    {
     "data": {
      "text/html": [
       "<pre>| 72        | 1807.029338  | 0.450378      |</pre>"
      ],
      "text/plain": [
       "| 72        | 1807.029338  | 0.450378      |"
      ]
     },
     "metadata": {},
     "output_type": "display_data"
    },
    {
     "data": {
      "text/html": [
       "<pre>| 73        | 1832.727938  | 0.450217      |</pre>"
      ],
      "text/plain": [
       "| 73        | 1832.727938  | 0.450217      |"
      ]
     },
     "metadata": {},
     "output_type": "display_data"
    },
    {
     "data": {
      "text/html": [
       "<pre>| 74        | 1857.919424  | 0.450118      |</pre>"
      ],
      "text/plain": [
       "| 74        | 1857.919424  | 0.450118      |"
      ]
     },
     "metadata": {},
     "output_type": "display_data"
    },
    {
     "data": {
      "text/html": [
       "<pre>| 75        | 1883.966609  | 0.449973      |</pre>"
      ],
      "text/plain": [
       "| 75        | 1883.966609  | 0.449973      |"
      ]
     },
     "metadata": {},
     "output_type": "display_data"
    },
    {
     "data": {
      "text/html": [
       "<pre>| 76        | 1907.919853  | 0.449852      |</pre>"
      ],
      "text/plain": [
       "| 76        | 1907.919853  | 0.449852      |"
      ]
     },
     "metadata": {},
     "output_type": "display_data"
    },
    {
     "data": {
      "text/html": [
       "<pre>| 77        | 1934.153040  | 0.449655      |</pre>"
      ],
      "text/plain": [
       "| 77        | 1934.153040  | 0.449655      |"
      ]
     },
     "metadata": {},
     "output_type": "display_data"
    },
    {
     "data": {
      "text/html": [
       "<pre>| 78        | 1958.316233  | 0.449538      |</pre>"
      ],
      "text/plain": [
       "| 78        | 1958.316233  | 0.449538      |"
      ]
     },
     "metadata": {},
     "output_type": "display_data"
    },
    {
     "data": {
      "text/html": [
       "<pre>| 79        | 1983.478119  | 0.449426      |</pre>"
      ],
      "text/plain": [
       "| 79        | 1983.478119  | 0.449426      |"
      ]
     },
     "metadata": {},
     "output_type": "display_data"
    },
    {
     "data": {
      "text/html": [
       "<pre>| 80        | 2006.953915  | 0.449322      |</pre>"
      ],
      "text/plain": [
       "| 80        | 2006.953915  | 0.449322      |"
      ]
     },
     "metadata": {},
     "output_type": "display_data"
    },
    {
     "data": {
      "text/html": [
       "<pre>| 81        | 2031.030738  | 0.449243      |</pre>"
      ],
      "text/plain": [
       "| 81        | 2031.030738  | 0.449243      |"
      ]
     },
     "metadata": {},
     "output_type": "display_data"
    },
    {
     "data": {
      "text/html": [
       "<pre>| 82        | 2055.551531  | 0.449133      |</pre>"
      ],
      "text/plain": [
       "| 82        | 2055.551531  | 0.449133      |"
      ]
     },
     "metadata": {},
     "output_type": "display_data"
    },
    {
     "data": {
      "text/html": [
       "<pre>| 83        | 2081.454304  | 0.448990      |</pre>"
      ],
      "text/plain": [
       "| 83        | 2081.454304  | 0.448990      |"
      ]
     },
     "metadata": {},
     "output_type": "display_data"
    },
    {
     "data": {
      "text/html": [
       "<pre>| 84        | 2104.947031  | 0.448906      |</pre>"
      ],
      "text/plain": [
       "| 84        | 2104.947031  | 0.448906      |"
      ]
     },
     "metadata": {},
     "output_type": "display_data"
    },
    {
     "data": {
      "text/html": [
       "<pre>| 85        | 2129.491792  | 0.448794      |</pre>"
      ],
      "text/plain": [
       "| 85        | 2129.491792  | 0.448794      |"
      ]
     },
     "metadata": {},
     "output_type": "display_data"
    },
    {
     "data": {
      "text/html": [
       "<pre>| 86        | 2156.078779  | 0.448679      |</pre>"
      ],
      "text/plain": [
       "| 86        | 2156.078779  | 0.448679      |"
      ]
     },
     "metadata": {},
     "output_type": "display_data"
    },
    {
     "data": {
      "text/html": [
       "<pre>| 87        | 2180.458286  | 0.448599      |</pre>"
      ],
      "text/plain": [
       "| 87        | 2180.458286  | 0.448599      |"
      ]
     },
     "metadata": {},
     "output_type": "display_data"
    },
    {
     "data": {
      "text/html": [
       "<pre>| 88        | 2205.959572  | 0.448545      |</pre>"
      ],
      "text/plain": [
       "| 88        | 2205.959572  | 0.448545      |"
      ]
     },
     "metadata": {},
     "output_type": "display_data"
    },
    {
     "data": {
      "text/html": [
       "<pre>| 89        | 2230.916069  | 0.448487      |</pre>"
      ],
      "text/plain": [
       "| 89        | 2230.916069  | 0.448487      |"
      ]
     },
     "metadata": {},
     "output_type": "display_data"
    },
    {
     "data": {
      "text/html": [
       "<pre>| 90        | 2255.453481  | 0.448402      |</pre>"
      ],
      "text/plain": [
       "| 90        | 2255.453481  | 0.448402      |"
      ]
     },
     "metadata": {},
     "output_type": "display_data"
    },
    {
     "data": {
      "text/html": [
       "<pre>| 91        | 2281.965203  | 0.448302      |</pre>"
      ],
      "text/plain": [
       "| 91        | 2281.965203  | 0.448302      |"
      ]
     },
     "metadata": {},
     "output_type": "display_data"
    },
    {
     "data": {
      "text/html": [
       "<pre>| 92        | 2306.595494  | 0.448195      |</pre>"
      ],
      "text/plain": [
       "| 92        | 2306.595494  | 0.448195      |"
      ]
     },
     "metadata": {},
     "output_type": "display_data"
    },
    {
     "data": {
      "text/html": [
       "<pre>| 93        | 2329.775613  | 0.448098      |</pre>"
      ],
      "text/plain": [
       "| 93        | 2329.775613  | 0.448098      |"
      ]
     },
     "metadata": {},
     "output_type": "display_data"
    },
    {
     "data": {
      "text/html": [
       "<pre>| 94        | 2354.785419  | 0.447910      |</pre>"
      ],
      "text/plain": [
       "| 94        | 2354.785419  | 0.447910      |"
      ]
     },
     "metadata": {},
     "output_type": "display_data"
    },
    {
     "data": {
      "text/html": [
       "<pre>| 95        | 2379.090069  | 0.447813      |</pre>"
      ],
      "text/plain": [
       "| 95        | 2379.090069  | 0.447813      |"
      ]
     },
     "metadata": {},
     "output_type": "display_data"
    },
    {
     "data": {
      "text/html": [
       "<pre>| 96        | 2403.922439  | 0.447732      |</pre>"
      ],
      "text/plain": [
       "| 96        | 2403.922439  | 0.447732      |"
      ]
     },
     "metadata": {},
     "output_type": "display_data"
    },
    {
     "data": {
      "text/html": [
       "<pre>| 97        | 2428.667484  | 0.447627      |</pre>"
      ],
      "text/plain": [
       "| 97        | 2428.667484  | 0.447627      |"
      ]
     },
     "metadata": {},
     "output_type": "display_data"
    },
    {
     "data": {
      "text/html": [
       "<pre>| 98        | 2452.213730  | 0.447504      |</pre>"
      ],
      "text/plain": [
       "| 98        | 2452.213730  | 0.447504      |"
      ]
     },
     "metadata": {},
     "output_type": "display_data"
    },
    {
     "data": {
      "text/html": [
       "<pre>| 99        | 2476.647112  | 0.447395      |</pre>"
      ],
      "text/plain": [
       "| 99        | 2476.647112  | 0.447395      |"
      ]
     },
     "metadata": {},
     "output_type": "display_data"
    },
    {
     "data": {
      "text/html": [
       "<pre>| 100       | 2502.911048  | 0.447303      |</pre>"
      ],
      "text/plain": [
       "| 100       | 2502.911048  | 0.447303      |"
      ]
     },
     "metadata": {},
     "output_type": "display_data"
    },
    {
     "data": {
      "text/html": [
       "<pre>| 101       | 2526.376828  | 0.447147      |</pre>"
      ],
      "text/plain": [
       "| 101       | 2526.376828  | 0.447147      |"
      ]
     },
     "metadata": {},
     "output_type": "display_data"
    },
    {
     "data": {
      "text/html": [
       "<pre>| 102       | 2551.171791  | 0.447064      |</pre>"
      ],
      "text/plain": [
       "| 102       | 2551.171791  | 0.447064      |"
      ]
     },
     "metadata": {},
     "output_type": "display_data"
    },
    {
     "data": {
      "text/html": [
       "<pre>| 103       | 2574.399851  | 0.447015      |</pre>"
      ],
      "text/plain": [
       "| 103       | 2574.399851  | 0.447015      |"
      ]
     },
     "metadata": {},
     "output_type": "display_data"
    },
    {
     "data": {
      "text/html": [
       "<pre>| 104       | 2597.832200  | 0.446929      |</pre>"
      ],
      "text/plain": [
       "| 104       | 2597.832200  | 0.446929      |"
      ]
     },
     "metadata": {},
     "output_type": "display_data"
    },
    {
     "data": {
      "text/html": [
       "<pre>| 105       | 2622.338304  | 0.446809      |</pre>"
      ],
      "text/plain": [
       "| 105       | 2622.338304  | 0.446809      |"
      ]
     },
     "metadata": {},
     "output_type": "display_data"
    },
    {
     "data": {
      "text/html": [
       "<pre>| 106       | 2647.781598  | 0.446747      |</pre>"
      ],
      "text/plain": [
       "| 106       | 2647.781598  | 0.446747      |"
      ]
     },
     "metadata": {},
     "output_type": "display_data"
    },
    {
     "data": {
      "text/html": [
       "<pre>| 107       | 2673.303822  | 0.446672      |</pre>"
      ],
      "text/plain": [
       "| 107       | 2673.303822  | 0.446672      |"
      ]
     },
     "metadata": {},
     "output_type": "display_data"
    },
    {
     "data": {
      "text/html": [
       "<pre>| 108       | 2697.946001  | 0.446581      |</pre>"
      ],
      "text/plain": [
       "| 108       | 2697.946001  | 0.446581      |"
      ]
     },
     "metadata": {},
     "output_type": "display_data"
    },
    {
     "data": {
      "text/html": [
       "<pre>| 109       | 2724.609641  | 0.446508      |</pre>"
      ],
      "text/plain": [
       "| 109       | 2724.609641  | 0.446508      |"
      ]
     },
     "metadata": {},
     "output_type": "display_data"
    },
    {
     "data": {
      "text/html": [
       "<pre>| 110       | 2749.837944  | 0.446455      |</pre>"
      ],
      "text/plain": [
       "| 110       | 2749.837944  | 0.446455      |"
      ]
     },
     "metadata": {},
     "output_type": "display_data"
    },
    {
     "data": {
      "text/html": [
       "<pre>| 111       | 2775.989249  | 0.446321      |</pre>"
      ],
      "text/plain": [
       "| 111       | 2775.989249  | 0.446321      |"
      ]
     },
     "metadata": {},
     "output_type": "display_data"
    },
    {
     "data": {
      "text/html": [
       "<pre>| 112       | 2801.784246  | 0.446234      |</pre>"
      ],
      "text/plain": [
       "| 112       | 2801.784246  | 0.446234      |"
      ]
     },
     "metadata": {},
     "output_type": "display_data"
    },
    {
     "data": {
      "text/html": [
       "<pre>| 113       | 2826.554449  | 0.446175      |</pre>"
      ],
      "text/plain": [
       "| 113       | 2826.554449  | 0.446175      |"
      ]
     },
     "metadata": {},
     "output_type": "display_data"
    },
    {
     "data": {
      "text/html": [
       "<pre>| 114       | 2851.900451  | 0.446092      |</pre>"
      ],
      "text/plain": [
       "| 114       | 2851.900451  | 0.446092      |"
      ]
     },
     "metadata": {},
     "output_type": "display_data"
    },
    {
     "data": {
      "text/html": [
       "<pre>| 115       | 2877.513314  | 0.445969      |</pre>"
      ],
      "text/plain": [
       "| 115       | 2877.513314  | 0.445969      |"
      ]
     },
     "metadata": {},
     "output_type": "display_data"
    },
    {
     "data": {
      "text/html": [
       "<pre>| 116       | 2901.739390  | 0.445874      |</pre>"
      ],
      "text/plain": [
       "| 116       | 2901.739390  | 0.445874      |"
      ]
     },
     "metadata": {},
     "output_type": "display_data"
    },
    {
     "data": {
      "text/html": [
       "<pre>| 117       | 2927.843747  | 0.445789      |</pre>"
      ],
      "text/plain": [
       "| 117       | 2927.843747  | 0.445789      |"
      ]
     },
     "metadata": {},
     "output_type": "display_data"
    },
    {
     "data": {
      "text/html": [
       "<pre>| 118       | 2952.591815  | 0.445723      |</pre>"
      ],
      "text/plain": [
       "| 118       | 2952.591815  | 0.445723      |"
      ]
     },
     "metadata": {},
     "output_type": "display_data"
    },
    {
     "data": {
      "text/html": [
       "<pre>| 119       | 2976.856665  | 0.445617      |</pre>"
      ],
      "text/plain": [
       "| 119       | 2976.856665  | 0.445617      |"
      ]
     },
     "metadata": {},
     "output_type": "display_data"
    },
    {
     "data": {
      "text/html": [
       "<pre>| 120       | 3002.220738  | 0.445533      |</pre>"
      ],
      "text/plain": [
       "| 120       | 3002.220738  | 0.445533      |"
      ]
     },
     "metadata": {},
     "output_type": "display_data"
    },
    {
     "data": {
      "text/html": [
       "<pre>| 121       | 3026.341670  | 0.445468      |</pre>"
      ],
      "text/plain": [
       "| 121       | 3026.341670  | 0.445468      |"
      ]
     },
     "metadata": {},
     "output_type": "display_data"
    },
    {
     "data": {
      "text/html": [
       "<pre>| 122       | 3051.532994  | 0.445399      |</pre>"
      ],
      "text/plain": [
       "| 122       | 3051.532994  | 0.445399      |"
      ]
     },
     "metadata": {},
     "output_type": "display_data"
    },
    {
     "data": {
      "text/html": [
       "<pre>| 123       | 3077.266139  | 0.445325      |</pre>"
      ],
      "text/plain": [
       "| 123       | 3077.266139  | 0.445325      |"
      ]
     },
     "metadata": {},
     "output_type": "display_data"
    },
    {
     "data": {
      "text/html": [
       "<pre>| 124       | 3102.242329  | 0.445239      |</pre>"
      ],
      "text/plain": [
       "| 124       | 3102.242329  | 0.445239      |"
      ]
     },
     "metadata": {},
     "output_type": "display_data"
    },
    {
     "data": {
      "text/html": [
       "<pre>| 125       | 3126.655451  | 0.445169      |</pre>"
      ],
      "text/plain": [
       "| 125       | 3126.655451  | 0.445169      |"
      ]
     },
     "metadata": {},
     "output_type": "display_data"
    },
    {
     "data": {
      "text/html": [
       "<pre>| 126       | 3152.495761  | 0.445084      |</pre>"
      ],
      "text/plain": [
       "| 126       | 3152.495761  | 0.445084      |"
      ]
     },
     "metadata": {},
     "output_type": "display_data"
    },
    {
     "data": {
      "text/html": [
       "<pre>| 127       | 3177.349110  | 0.445002      |</pre>"
      ],
      "text/plain": [
       "| 127       | 3177.349110  | 0.445002      |"
      ]
     },
     "metadata": {},
     "output_type": "display_data"
    },
    {
     "data": {
      "text/html": [
       "<pre>| 128       | 3202.764525  | 0.444930      |</pre>"
      ],
      "text/plain": [
       "| 128       | 3202.764525  | 0.444930      |"
      ]
     },
     "metadata": {},
     "output_type": "display_data"
    },
    {
     "data": {
      "text/html": [
       "<pre>| 129       | 3227.362624  | 0.444841      |</pre>"
      ],
      "text/plain": [
       "| 129       | 3227.362624  | 0.444841      |"
      ]
     },
     "metadata": {},
     "output_type": "display_data"
    },
    {
     "data": {
      "text/html": [
       "<pre>| 130       | 3252.941673  | 0.444796      |</pre>"
      ],
      "text/plain": [
       "| 130       | 3252.941673  | 0.444796      |"
      ]
     },
     "metadata": {},
     "output_type": "display_data"
    },
    {
     "data": {
      "text/html": [
       "<pre>| 131       | 3278.637677  | 0.444689      |</pre>"
      ],
      "text/plain": [
       "| 131       | 3278.637677  | 0.444689      |"
      ]
     },
     "metadata": {},
     "output_type": "display_data"
    },
    {
     "data": {
      "text/html": [
       "<pre>| 132       | 3302.751346  | 0.444635      |</pre>"
      ],
      "text/plain": [
       "| 132       | 3302.751346  | 0.444635      |"
      ]
     },
     "metadata": {},
     "output_type": "display_data"
    },
    {
     "data": {
      "text/html": [
       "<pre>| 133       | 3327.846813  | 0.444577      |</pre>"
      ],
      "text/plain": [
       "| 133       | 3327.846813  | 0.444577      |"
      ]
     },
     "metadata": {},
     "output_type": "display_data"
    },
    {
     "data": {
      "text/html": [
       "<pre>| 134       | 3351.258465  | 0.444518      |</pre>"
      ],
      "text/plain": [
       "| 134       | 3351.258465  | 0.444518      |"
      ]
     },
     "metadata": {},
     "output_type": "display_data"
    },
    {
     "data": {
      "text/html": [
       "<pre>| 135       | 3375.573729  | 0.444460      |</pre>"
      ],
      "text/plain": [
       "| 135       | 3375.573729  | 0.444460      |"
      ]
     },
     "metadata": {},
     "output_type": "display_data"
    },
    {
     "data": {
      "text/html": [
       "<pre>| 136       | 3400.203995  | 0.444402      |</pre>"
      ],
      "text/plain": [
       "| 136       | 3400.203995  | 0.444402      |"
      ]
     },
     "metadata": {},
     "output_type": "display_data"
    },
    {
     "data": {
      "text/html": [
       "<pre>| 137       | 3425.014050  | 0.444335      |</pre>"
      ],
      "text/plain": [
       "| 137       | 3425.014050  | 0.444335      |"
      ]
     },
     "metadata": {},
     "output_type": "display_data"
    },
    {
     "data": {
      "text/html": [
       "<pre>| 138       | 3450.400205  | 0.444287      |</pre>"
      ],
      "text/plain": [
       "| 138       | 3450.400205  | 0.444287      |"
      ]
     },
     "metadata": {},
     "output_type": "display_data"
    },
    {
     "data": {
      "text/html": [
       "<pre>| 139       | 3474.333134  | 0.444239      |</pre>"
      ],
      "text/plain": [
       "| 139       | 3474.333134  | 0.444239      |"
      ]
     },
     "metadata": {},
     "output_type": "display_data"
    },
    {
     "data": {
      "text/html": [
       "<pre>| 140       | 3497.948868  | 0.444195      |</pre>"
      ],
      "text/plain": [
       "| 140       | 3497.948868  | 0.444195      |"
      ]
     },
     "metadata": {},
     "output_type": "display_data"
    },
    {
     "data": {
      "text/html": [
       "<pre>| 141       | 3523.875935  | 0.444127      |</pre>"
      ],
      "text/plain": [
       "| 141       | 3523.875935  | 0.444127      |"
      ]
     },
     "metadata": {},
     "output_type": "display_data"
    },
    {
     "data": {
      "text/html": [
       "<pre>| 142       | 3548.661901  | 0.444071      |</pre>"
      ],
      "text/plain": [
       "| 142       | 3548.661901  | 0.444071      |"
      ]
     },
     "metadata": {},
     "output_type": "display_data"
    },
    {
     "data": {
      "text/html": [
       "<pre>| 143       | 3573.226809  | 0.444014      |</pre>"
      ],
      "text/plain": [
       "| 143       | 3573.226809  | 0.444014      |"
      ]
     },
     "metadata": {},
     "output_type": "display_data"
    },
    {
     "data": {
      "text/html": [
       "<pre>| 144       | 3598.524618  | 0.443909      |</pre>"
      ],
      "text/plain": [
       "| 144       | 3598.524618  | 0.443909      |"
      ]
     },
     "metadata": {},
     "output_type": "display_data"
    },
    {
     "data": {
      "text/html": [
       "<pre>| 145       | 3621.759593  | 0.443797      |</pre>"
      ],
      "text/plain": [
       "| 145       | 3621.759593  | 0.443797      |"
      ]
     },
     "metadata": {},
     "output_type": "display_data"
    },
    {
     "data": {
      "text/html": [
       "<pre>| 146       | 3645.193208  | 0.443765      |</pre>"
      ],
      "text/plain": [
       "| 146       | 3645.193208  | 0.443765      |"
      ]
     },
     "metadata": {},
     "output_type": "display_data"
    },
    {
     "data": {
      "text/html": [
       "<pre>| 147       | 3670.818071  | 0.443717      |</pre>"
      ],
      "text/plain": [
       "| 147       | 3670.818071  | 0.443717      |"
      ]
     },
     "metadata": {},
     "output_type": "display_data"
    },
    {
     "data": {
      "text/html": [
       "<pre>| 148       | 3695.933451  | 0.443681      |</pre>"
      ],
      "text/plain": [
       "| 148       | 3695.933451  | 0.443681      |"
      ]
     },
     "metadata": {},
     "output_type": "display_data"
    },
    {
     "data": {
      "text/html": [
       "<pre>| 149       | 3719.608892  | 0.443621      |</pre>"
      ],
      "text/plain": [
       "| 149       | 3719.608892  | 0.443621      |"
      ]
     },
     "metadata": {},
     "output_type": "display_data"
    },
    {
     "data": {
      "text/html": [
       "<pre>| 150       | 3744.511313  | 0.443548      |</pre>"
      ],
      "text/plain": [
       "| 150       | 3744.511313  | 0.443548      |"
      ]
     },
     "metadata": {},
     "output_type": "display_data"
    },
    {
     "data": {
      "text/html": [
       "<pre>| 151       | 3768.084621  | 0.443501      |</pre>"
      ],
      "text/plain": [
       "| 151       | 3768.084621  | 0.443501      |"
      ]
     },
     "metadata": {},
     "output_type": "display_data"
    },
    {
     "data": {
      "text/html": [
       "<pre>| 152       | 3794.275214  | 0.443429      |</pre>"
      ],
      "text/plain": [
       "| 152       | 3794.275214  | 0.443429      |"
      ]
     },
     "metadata": {},
     "output_type": "display_data"
    },
    {
     "data": {
      "text/html": [
       "<pre>| 153       | 3819.501416  | 0.443364      |</pre>"
      ],
      "text/plain": [
       "| 153       | 3819.501416  | 0.443364      |"
      ]
     },
     "metadata": {},
     "output_type": "display_data"
    },
    {
     "data": {
      "text/html": [
       "<pre>| 154       | 3843.122181  | 0.443316      |</pre>"
      ],
      "text/plain": [
       "| 154       | 3843.122181  | 0.443316      |"
      ]
     },
     "metadata": {},
     "output_type": "display_data"
    },
    {
     "data": {
      "text/html": [
       "<pre>| 155       | 3868.461596  | 0.443244      |</pre>"
      ],
      "text/plain": [
       "| 155       | 3868.461596  | 0.443244      |"
      ]
     },
     "metadata": {},
     "output_type": "display_data"
    },
    {
     "data": {
      "text/html": [
       "<pre>| 156       | 3894.632587  | 0.443179      |</pre>"
      ],
      "text/plain": [
       "| 156       | 3894.632587  | 0.443179      |"
      ]
     },
     "metadata": {},
     "output_type": "display_data"
    },
    {
     "data": {
      "text/html": [
       "<pre>| 157       | 3919.475146  | 0.443123      |</pre>"
      ],
      "text/plain": [
       "| 157       | 3919.475146  | 0.443123      |"
      ]
     },
     "metadata": {},
     "output_type": "display_data"
    },
    {
     "data": {
      "text/html": [
       "<pre>| 158       | 3944.952517  | 0.443081      |</pre>"
      ],
      "text/plain": [
       "| 158       | 3944.952517  | 0.443081      |"
      ]
     },
     "metadata": {},
     "output_type": "display_data"
    },
    {
     "data": {
      "text/html": [
       "<pre>| 159       | 3968.825354  | 0.443025      |</pre>"
      ],
      "text/plain": [
       "| 159       | 3968.825354  | 0.443025      |"
      ]
     },
     "metadata": {},
     "output_type": "display_data"
    },
    {
     "data": {
      "text/html": [
       "<pre>| 160       | 3992.192652  | 0.442981      |</pre>"
      ],
      "text/plain": [
       "| 160       | 3992.192652  | 0.442981      |"
      ]
     },
     "metadata": {},
     "output_type": "display_data"
    },
    {
     "data": {
      "text/html": [
       "<pre>| 161       | 4017.651197  | 0.442959      |</pre>"
      ],
      "text/plain": [
       "| 161       | 4017.651197  | 0.442959      |"
      ]
     },
     "metadata": {},
     "output_type": "display_data"
    },
    {
     "data": {
      "text/html": [
       "<pre>| 162       | 4042.402779  | 0.442885      |</pre>"
      ],
      "text/plain": [
       "| 162       | 4042.402779  | 0.442885      |"
      ]
     },
     "metadata": {},
     "output_type": "display_data"
    },
    {
     "data": {
      "text/html": [
       "<pre>| 163       | 4066.583044  | 0.442819      |</pre>"
      ],
      "text/plain": [
       "| 163       | 4066.583044  | 0.442819      |"
      ]
     },
     "metadata": {},
     "output_type": "display_data"
    },
    {
     "data": {
      "text/html": [
       "<pre>| 164       | 4090.033415  | 0.442779      |</pre>"
      ],
      "text/plain": [
       "| 164       | 4090.033415  | 0.442779      |"
      ]
     },
     "metadata": {},
     "output_type": "display_data"
    },
    {
     "data": {
      "text/html": [
       "<pre>| 165       | 4114.424647  | 0.442736      |</pre>"
      ],
      "text/plain": [
       "| 165       | 4114.424647  | 0.442736      |"
      ]
     },
     "metadata": {},
     "output_type": "display_data"
    },
    {
     "data": {
      "text/html": [
       "<pre>| 166       | 4140.411656  | 0.442695      |</pre>"
      ],
      "text/plain": [
       "| 166       | 4140.411656  | 0.442695      |"
      ]
     },
     "metadata": {},
     "output_type": "display_data"
    },
    {
     "data": {
      "text/html": [
       "<pre>| 167       | 4164.183455  | 0.442629      |</pre>"
      ],
      "text/plain": [
       "| 167       | 4164.183455  | 0.442629      |"
      ]
     },
     "metadata": {},
     "output_type": "display_data"
    },
    {
     "data": {
      "text/html": [
       "<pre>| 168       | 4188.944360  | 0.442573      |</pre>"
      ],
      "text/plain": [
       "| 168       | 4188.944360  | 0.442573      |"
      ]
     },
     "metadata": {},
     "output_type": "display_data"
    },
    {
     "data": {
      "text/html": [
       "<pre>| 169       | 4214.657562  | 0.442512      |</pre>"
      ],
      "text/plain": [
       "| 169       | 4214.657562  | 0.442512      |"
      ]
     },
     "metadata": {},
     "output_type": "display_data"
    },
    {
     "data": {
      "text/html": [
       "<pre>| 170       | 4239.179835  | 0.442461      |</pre>"
      ],
      "text/plain": [
       "| 170       | 4239.179835  | 0.442461      |"
      ]
     },
     "metadata": {},
     "output_type": "display_data"
    },
    {
     "data": {
      "text/html": [
       "<pre>| 171       | 4263.195489  | 0.442413      |</pre>"
      ],
      "text/plain": [
       "| 171       | 4263.195489  | 0.442413      |"
      ]
     },
     "metadata": {},
     "output_type": "display_data"
    },
    {
     "data": {
      "text/html": [
       "<pre>| 172       | 4287.984379  | 0.442367      |</pre>"
      ],
      "text/plain": [
       "| 172       | 4287.984379  | 0.442367      |"
      ]
     },
     "metadata": {},
     "output_type": "display_data"
    },
    {
     "data": {
      "text/html": [
       "<pre>| 173       | 4313.093218  | 0.442317      |</pre>"
      ],
      "text/plain": [
       "| 173       | 4313.093218  | 0.442317      |"
      ]
     },
     "metadata": {},
     "output_type": "display_data"
    },
    {
     "data": {
      "text/html": [
       "<pre>| 174       | 4337.372171  | 0.442264      |</pre>"
      ],
      "text/plain": [
       "| 174       | 4337.372171  | 0.442264      |"
      ]
     },
     "metadata": {},
     "output_type": "display_data"
    },
    {
     "data": {
      "text/html": [
       "<pre>| 175       | 4362.266872  | 0.442208      |</pre>"
      ],
      "text/plain": [
       "| 175       | 4362.266872  | 0.442208      |"
      ]
     },
     "metadata": {},
     "output_type": "display_data"
    },
    {
     "data": {
      "text/html": [
       "<pre>| 176       | 4385.264849  | 0.442148      |</pre>"
      ],
      "text/plain": [
       "| 176       | 4385.264849  | 0.442148      |"
      ]
     },
     "metadata": {},
     "output_type": "display_data"
    },
    {
     "data": {
      "text/html": [
       "<pre>| 177       | 4409.859167  | 0.442105      |</pre>"
      ],
      "text/plain": [
       "| 177       | 4409.859167  | 0.442105      |"
      ]
     },
     "metadata": {},
     "output_type": "display_data"
    },
    {
     "data": {
      "text/html": [
       "<pre>| 178       | 4435.889099  | 0.442055      |</pre>"
      ],
      "text/plain": [
       "| 178       | 4435.889099  | 0.442055      |"
      ]
     },
     "metadata": {},
     "output_type": "display_data"
    },
    {
     "data": {
      "text/html": [
       "<pre>| 179       | 4459.947934  | 0.442010      |</pre>"
      ],
      "text/plain": [
       "| 179       | 4459.947934  | 0.442010      |"
      ]
     },
     "metadata": {},
     "output_type": "display_data"
    },
    {
     "data": {
      "text/html": [
       "<pre>| 180       | 4482.723526  | 0.441963      |</pre>"
      ],
      "text/plain": [
       "| 180       | 4482.723526  | 0.441963      |"
      ]
     },
     "metadata": {},
     "output_type": "display_data"
    },
    {
     "data": {
      "text/html": [
       "<pre>| 181       | 4506.489522  | 0.441916      |</pre>"
      ],
      "text/plain": [
       "| 181       | 4506.489522  | 0.441916      |"
      ]
     },
     "metadata": {},
     "output_type": "display_data"
    },
    {
     "data": {
      "text/html": [
       "<pre>| 182       | 4531.837121  | 0.441863      |</pre>"
      ],
      "text/plain": [
       "| 182       | 4531.837121  | 0.441863      |"
      ]
     },
     "metadata": {},
     "output_type": "display_data"
    },
    {
     "data": {
      "text/html": [
       "<pre>| 183       | 4556.474287  | 0.441817      |</pre>"
      ],
      "text/plain": [
       "| 183       | 4556.474287  | 0.441817      |"
      ]
     },
     "metadata": {},
     "output_type": "display_data"
    },
    {
     "data": {
      "text/html": [
       "<pre>| 184       | 4581.268706  | 0.441758      |</pre>"
      ],
      "text/plain": [
       "| 184       | 4581.268706  | 0.441758      |"
      ]
     },
     "metadata": {},
     "output_type": "display_data"
    },
    {
     "data": {
      "text/html": [
       "<pre>| 185       | 4604.908408  | 0.441708      |</pre>"
      ],
      "text/plain": [
       "| 185       | 4604.908408  | 0.441708      |"
      ]
     },
     "metadata": {},
     "output_type": "display_data"
    },
    {
     "data": {
      "text/html": [
       "<pre>| 186       | 4630.154882  | 0.441640      |</pre>"
      ],
      "text/plain": [
       "| 186       | 4630.154882  | 0.441640      |"
      ]
     },
     "metadata": {},
     "output_type": "display_data"
    },
    {
     "data": {
      "text/html": [
       "<pre>| 187       | 4655.122854  | 0.441601      |</pre>"
      ],
      "text/plain": [
       "| 187       | 4655.122854  | 0.441601      |"
      ]
     },
     "metadata": {},
     "output_type": "display_data"
    },
    {
     "data": {
      "text/html": [
       "<pre>| 188       | 4678.606242  | 0.441575      |</pre>"
      ],
      "text/plain": [
       "| 188       | 4678.606242  | 0.441575      |"
      ]
     },
     "metadata": {},
     "output_type": "display_data"
    },
    {
     "data": {
      "text/html": [
       "<pre>| 189       | 4704.857964  | 0.441530      |</pre>"
      ],
      "text/plain": [
       "| 189       | 4704.857964  | 0.441530      |"
      ]
     },
     "metadata": {},
     "output_type": "display_data"
    },
    {
     "data": {
      "text/html": [
       "<pre>| 190       | 4729.408350  | 0.441509      |</pre>"
      ],
      "text/plain": [
       "| 190       | 4729.408350  | 0.441509      |"
      ]
     },
     "metadata": {},
     "output_type": "display_data"
    },
    {
     "data": {
      "text/html": [
       "<pre>| 191       | 4753.450631  | 0.441477      |</pre>"
      ],
      "text/plain": [
       "| 191       | 4753.450631  | 0.441477      |"
      ]
     },
     "metadata": {},
     "output_type": "display_data"
    },
    {
     "data": {
      "text/html": [
       "<pre>| 192       | 4777.854338  | 0.441441      |</pre>"
      ],
      "text/plain": [
       "| 192       | 4777.854338  | 0.441441      |"
      ]
     },
     "metadata": {},
     "output_type": "display_data"
    },
    {
     "data": {
      "text/html": [
       "<pre>| 193       | 4804.181663  | 0.441393      |</pre>"
      ],
      "text/plain": [
       "| 193       | 4804.181663  | 0.441393      |"
      ]
     },
     "metadata": {},
     "output_type": "display_data"
    },
    {
     "data": {
      "text/html": [
       "<pre>| 194       | 4827.704351  | 0.441354      |</pre>"
      ],
      "text/plain": [
       "| 194       | 4827.704351  | 0.441354      |"
      ]
     },
     "metadata": {},
     "output_type": "display_data"
    },
    {
     "data": {
      "text/html": [
       "<pre>| 195       | 4852.245058  | 0.441290      |</pre>"
      ],
      "text/plain": [
       "| 195       | 4852.245058  | 0.441290      |"
      ]
     },
     "metadata": {},
     "output_type": "display_data"
    },
    {
     "data": {
      "text/html": [
       "<pre>| 196       | 4876.165993  | 0.441241      |</pre>"
      ],
      "text/plain": [
       "| 196       | 4876.165993  | 0.441241      |"
      ]
     },
     "metadata": {},
     "output_type": "display_data"
    },
    {
     "data": {
      "text/html": [
       "<pre>| 197       | 4901.066897  | 0.441211      |</pre>"
      ],
      "text/plain": [
       "| 197       | 4901.066897  | 0.441211      |"
      ]
     },
     "metadata": {},
     "output_type": "display_data"
    },
    {
     "data": {
      "text/html": [
       "<pre>| 198       | 4925.653520  | 0.441156      |</pre>"
      ],
      "text/plain": [
       "| 198       | 4925.653520  | 0.441156      |"
      ]
     },
     "metadata": {},
     "output_type": "display_data"
    },
    {
     "data": {
      "text/html": [
       "<pre>| 199       | 4951.081090  | 0.441122      |</pre>"
      ],
      "text/plain": [
       "| 199       | 4951.081090  | 0.441122      |"
      ]
     },
     "metadata": {},
     "output_type": "display_data"
    },
    {
     "data": {
      "text/html": [
       "<pre>| 200       | 4974.690771  | 0.441059      |</pre>"
      ],
      "text/plain": [
       "| 200       | 4974.690771  | 0.441059      |"
      ]
     },
     "metadata": {},
     "output_type": "display_data"
    },
    {
     "data": {
      "text/html": [
       "<pre>| 201       | 4998.506165  | 0.441008      |</pre>"
      ],
      "text/plain": [
       "| 201       | 4998.506165  | 0.441008      |"
      ]
     },
     "metadata": {},
     "output_type": "display_data"
    },
    {
     "data": {
      "text/html": [
       "<pre>| 202       | 5022.364916  | 0.440954      |</pre>"
      ],
      "text/plain": [
       "| 202       | 5022.364916  | 0.440954      |"
      ]
     },
     "metadata": {},
     "output_type": "display_data"
    },
    {
     "data": {
      "text/html": [
       "<pre>| 203       | 5047.333340  | 0.440919      |</pre>"
      ],
      "text/plain": [
       "| 203       | 5047.333340  | 0.440919      |"
      ]
     },
     "metadata": {},
     "output_type": "display_data"
    },
    {
     "data": {
      "text/html": [
       "<pre>| 204       | 5071.426251  | 0.440878      |</pre>"
      ],
      "text/plain": [
       "| 204       | 5071.426251  | 0.440878      |"
      ]
     },
     "metadata": {},
     "output_type": "display_data"
    },
    {
     "data": {
      "text/html": [
       "<pre>| 205       | 5096.526890  | 0.440862      |</pre>"
      ],
      "text/plain": [
       "| 205       | 5096.526890  | 0.440862      |"
      ]
     },
     "metadata": {},
     "output_type": "display_data"
    },
    {
     "data": {
      "text/html": [
       "<pre>| 206       | 5122.953875  | 0.440831      |</pre>"
      ],
      "text/plain": [
       "| 206       | 5122.953875  | 0.440831      |"
      ]
     },
     "metadata": {},
     "output_type": "display_data"
    },
    {
     "data": {
      "text/html": [
       "<pre>| 207       | 5146.224540  | 0.440795      |</pre>"
      ],
      "text/plain": [
       "| 207       | 5146.224540  | 0.440795      |"
      ]
     },
     "metadata": {},
     "output_type": "display_data"
    },
    {
     "data": {
      "text/html": [
       "<pre>| 208       | 5169.933812  | 0.440733      |</pre>"
      ],
      "text/plain": [
       "| 208       | 5169.933812  | 0.440733      |"
      ]
     },
     "metadata": {},
     "output_type": "display_data"
    },
    {
     "data": {
      "text/html": [
       "<pre>| 209       | 5194.456075  | 0.440686      |</pre>"
      ],
      "text/plain": [
       "| 209       | 5194.456075  | 0.440686      |"
      ]
     },
     "metadata": {},
     "output_type": "display_data"
    },
    {
     "data": {
      "text/html": [
       "<pre>| 210       | 5217.565352  | 0.440624      |</pre>"
      ],
      "text/plain": [
       "| 210       | 5217.565352  | 0.440624      |"
      ]
     },
     "metadata": {},
     "output_type": "display_data"
    },
    {
     "data": {
      "text/html": [
       "<pre>| 211       | 5240.843237  | 0.440590      |</pre>"
      ],
      "text/plain": [
       "| 211       | 5240.843237  | 0.440590      |"
      ]
     },
     "metadata": {},
     "output_type": "display_data"
    },
    {
     "data": {
      "text/html": [
       "<pre>| 212       | 5263.112324  | 0.440576      |</pre>"
      ],
      "text/plain": [
       "| 212       | 5263.112324  | 0.440576      |"
      ]
     },
     "metadata": {},
     "output_type": "display_data"
    },
    {
     "data": {
      "text/html": [
       "<pre>| 213       | 5286.961109  | 0.440524      |</pre>"
      ],
      "text/plain": [
       "| 213       | 5286.961109  | 0.440524      |"
      ]
     },
     "metadata": {},
     "output_type": "display_data"
    },
    {
     "data": {
      "text/html": [
       "<pre>| 214       | 5310.393017  | 0.440502      |</pre>"
      ],
      "text/plain": [
       "| 214       | 5310.393017  | 0.440502      |"
      ]
     },
     "metadata": {},
     "output_type": "display_data"
    },
    {
     "data": {
      "text/html": [
       "<pre>| 215       | 5335.286932  | 0.440453      |</pre>"
      ],
      "text/plain": [
       "| 215       | 5335.286932  | 0.440453      |"
      ]
     },
     "metadata": {},
     "output_type": "display_data"
    },
    {
     "data": {
      "text/html": [
       "<pre>| 216       | 5359.074240  | 0.440414      |</pre>"
      ],
      "text/plain": [
       "| 216       | 5359.074240  | 0.440414      |"
      ]
     },
     "metadata": {},
     "output_type": "display_data"
    },
    {
     "data": {
      "text/html": [
       "<pre>| 217       | 5383.370972  | 0.440371      |</pre>"
      ],
      "text/plain": [
       "| 217       | 5383.370972  | 0.440371      |"
      ]
     },
     "metadata": {},
     "output_type": "display_data"
    },
    {
     "data": {
      "text/html": [
       "<pre>| 218       | 5407.086639  | 0.440355      |</pre>"
      ],
      "text/plain": [
       "| 218       | 5407.086639  | 0.440355      |"
      ]
     },
     "metadata": {},
     "output_type": "display_data"
    },
    {
     "data": {
      "text/html": [
       "<pre>| 219       | 5431.365555  | 0.440338      |</pre>"
      ],
      "text/plain": [
       "| 219       | 5431.365555  | 0.440338      |"
      ]
     },
     "metadata": {},
     "output_type": "display_data"
    },
    {
     "data": {
      "text/html": [
       "<pre>| 220       | 5453.737797  | 0.440314      |</pre>"
      ],
      "text/plain": [
       "| 220       | 5453.737797  | 0.440314      |"
      ]
     },
     "metadata": {},
     "output_type": "display_data"
    },
    {
     "data": {
      "text/html": [
       "<pre>| 221       | 5477.841211  | 0.440262      |</pre>"
      ],
      "text/plain": [
       "| 221       | 5477.841211  | 0.440262      |"
      ]
     },
     "metadata": {},
     "output_type": "display_data"
    },
    {
     "data": {
      "text/html": [
       "<pre>| 222       | 5501.098624  | 0.440245      |</pre>"
      ],
      "text/plain": [
       "| 222       | 5501.098624  | 0.440245      |"
      ]
     },
     "metadata": {},
     "output_type": "display_data"
    },
    {
     "data": {
      "text/html": [
       "<pre>| 223       | 5524.089633  | 0.440227      |</pre>"
      ],
      "text/plain": [
       "| 223       | 5524.089633  | 0.440227      |"
      ]
     },
     "metadata": {},
     "output_type": "display_data"
    },
    {
     "data": {
      "text/html": [
       "<pre>| 224       | 5548.923025  | 0.440175      |</pre>"
      ],
      "text/plain": [
       "| 224       | 5548.923025  | 0.440175      |"
      ]
     },
     "metadata": {},
     "output_type": "display_data"
    },
    {
     "data": {
      "text/html": [
       "<pre>| 225       | 5572.798531  | 0.440143      |</pre>"
      ],
      "text/plain": [
       "| 225       | 5572.798531  | 0.440143      |"
      ]
     },
     "metadata": {},
     "output_type": "display_data"
    },
    {
     "data": {
      "text/html": [
       "<pre>| 226       | 5596.190520  | 0.440064      |</pre>"
      ],
      "text/plain": [
       "| 226       | 5596.190520  | 0.440064      |"
      ]
     },
     "metadata": {},
     "output_type": "display_data"
    },
    {
     "data": {
      "text/html": [
       "<pre>| 227       | 5621.188710  | 0.440028      |</pre>"
      ],
      "text/plain": [
       "| 227       | 5621.188710  | 0.440028      |"
      ]
     },
     "metadata": {},
     "output_type": "display_data"
    },
    {
     "data": {
      "text/html": [
       "<pre>| 228       | 5644.361198  | 0.439986      |</pre>"
      ],
      "text/plain": [
       "| 228       | 5644.361198  | 0.439986      |"
      ]
     },
     "metadata": {},
     "output_type": "display_data"
    },
    {
     "data": {
      "text/html": [
       "<pre>| 229       | 5668.311048  | 0.439946      |</pre>"
      ],
      "text/plain": [
       "| 229       | 5668.311048  | 0.439946      |"
      ]
     },
     "metadata": {},
     "output_type": "display_data"
    },
    {
     "data": {
      "text/html": [
       "<pre>| 230       | 5694.473172  | 0.439893      |</pre>"
      ],
      "text/plain": [
       "| 230       | 5694.473172  | 0.439893      |"
      ]
     },
     "metadata": {},
     "output_type": "display_data"
    },
    {
     "data": {
      "text/html": [
       "<pre>| 231       | 5720.757921  | 0.439844      |</pre>"
      ],
      "text/plain": [
       "| 231       | 5720.757921  | 0.439844      |"
      ]
     },
     "metadata": {},
     "output_type": "display_data"
    },
    {
     "data": {
      "text/html": [
       "<pre>| 232       | 5744.194543  | 0.439785      |</pre>"
      ],
      "text/plain": [
       "| 232       | 5744.194543  | 0.439785      |"
      ]
     },
     "metadata": {},
     "output_type": "display_data"
    },
    {
     "data": {
      "text/html": [
       "<pre>| 233       | 5767.928357  | 0.439759      |</pre>"
      ],
      "text/plain": [
       "| 233       | 5767.928357  | 0.439759      |"
      ]
     },
     "metadata": {},
     "output_type": "display_data"
    },
    {
     "data": {
      "text/html": [
       "<pre>| 234       | 5792.790985  | 0.439716      |</pre>"
      ],
      "text/plain": [
       "| 234       | 5792.790985  | 0.439716      |"
      ]
     },
     "metadata": {},
     "output_type": "display_data"
    },
    {
     "data": {
      "text/html": [
       "<pre>| 235       | 5817.038191  | 0.439692      |</pre>"
      ],
      "text/plain": [
       "| 235       | 5817.038191  | 0.439692      |"
      ]
     },
     "metadata": {},
     "output_type": "display_data"
    },
    {
     "data": {
      "text/html": [
       "<pre>| 236       | 5842.252541  | 0.439659      |</pre>"
      ],
      "text/plain": [
       "| 236       | 5842.252541  | 0.439659      |"
      ]
     },
     "metadata": {},
     "output_type": "display_data"
    },
    {
     "data": {
      "text/html": [
       "<pre>| 237       | 5865.288732  | 0.439625      |</pre>"
      ],
      "text/plain": [
       "| 237       | 5865.288732  | 0.439625      |"
      ]
     },
     "metadata": {},
     "output_type": "display_data"
    },
    {
     "data": {
      "text/html": [
       "<pre>| 238       | 5888.806545  | 0.439597      |</pre>"
      ],
      "text/plain": [
       "| 238       | 5888.806545  | 0.439597      |"
      ]
     },
     "metadata": {},
     "output_type": "display_data"
    },
    {
     "data": {
      "text/html": [
       "<pre>| 239       | 5913.734207  | 0.439574      |</pre>"
      ],
      "text/plain": [
       "| 239       | 5913.734207  | 0.439574      |"
      ]
     },
     "metadata": {},
     "output_type": "display_data"
    },
    {
     "data": {
      "text/html": [
       "<pre>| 240       | 5938.117486  | 0.439529      |</pre>"
      ],
      "text/plain": [
       "| 240       | 5938.117486  | 0.439529      |"
      ]
     },
     "metadata": {},
     "output_type": "display_data"
    },
    {
     "data": {
      "text/html": [
       "<pre>| 241       | 5964.406222  | 0.439493      |</pre>"
      ],
      "text/plain": [
       "| 241       | 5964.406222  | 0.439493      |"
      ]
     },
     "metadata": {},
     "output_type": "display_data"
    },
    {
     "data": {
      "text/html": [
       "<pre>| 242       | 5988.402779  | 0.439449      |</pre>"
      ],
      "text/plain": [
       "| 242       | 5988.402779  | 0.439449      |"
      ]
     },
     "metadata": {},
     "output_type": "display_data"
    },
    {
     "data": {
      "text/html": [
       "<pre>| 243       | 6013.354572  | 0.439432      |</pre>"
      ],
      "text/plain": [
       "| 243       | 6013.354572  | 0.439432      |"
      ]
     },
     "metadata": {},
     "output_type": "display_data"
    },
    {
     "data": {
      "text/html": [
       "<pre>| 244       | 6036.715914  | 0.439398      |</pre>"
      ],
      "text/plain": [
       "| 244       | 6036.715914  | 0.439398      |"
      ]
     },
     "metadata": {},
     "output_type": "display_data"
    },
    {
     "data": {
      "text/html": [
       "<pre>| 245       | 6061.588171  | 0.439284      |</pre>"
      ],
      "text/plain": [
       "| 245       | 6061.588171  | 0.439284      |"
      ]
     },
     "metadata": {},
     "output_type": "display_data"
    },
    {
     "data": {
      "text/html": [
       "<pre>| 246       | 6085.526918  | 0.439236      |</pre>"
      ],
      "text/plain": [
       "| 246       | 6085.526918  | 0.439236      |"
      ]
     },
     "metadata": {},
     "output_type": "display_data"
    },
    {
     "data": {
      "text/html": [
       "<pre>| 247       | 6110.536060  | 0.439191      |</pre>"
      ],
      "text/plain": [
       "| 247       | 6110.536060  | 0.439191      |"
      ]
     },
     "metadata": {},
     "output_type": "display_data"
    },
    {
     "data": {
      "text/html": [
       "<pre>| 248       | 6135.026061  | 0.439129      |</pre>"
      ],
      "text/plain": [
       "| 248       | 6135.026061  | 0.439129      |"
      ]
     },
     "metadata": {},
     "output_type": "display_data"
    },
    {
     "data": {
      "text/html": [
       "<pre>| 249       | 6158.687954  | 0.439107      |</pre>"
      ],
      "text/plain": [
       "| 249       | 6158.687954  | 0.439107      |"
      ]
     },
     "metadata": {},
     "output_type": "display_data"
    },
    {
     "data": {
      "text/html": [
       "<pre>| 250       | 6183.698770  | 0.439030      |</pre>"
      ],
      "text/plain": [
       "| 250       | 6183.698770  | 0.439030      |"
      ]
     },
     "metadata": {},
     "output_type": "display_data"
    },
    {
     "data": {
      "text/html": [
       "<pre>| 251       | 6208.462773  | 0.438991      |</pre>"
      ],
      "text/plain": [
       "| 251       | 6208.462773  | 0.438991      |"
      ]
     },
     "metadata": {},
     "output_type": "display_data"
    },
    {
     "data": {
      "text/html": [
       "<pre>| 252       | 6233.583322  | 0.438931      |</pre>"
      ],
      "text/plain": [
       "| 252       | 6233.583322  | 0.438931      |"
      ]
     },
     "metadata": {},
     "output_type": "display_data"
    },
    {
     "data": {
      "text/html": [
       "<pre>| 253       | 6256.611272  | 0.438903      |</pre>"
      ],
      "text/plain": [
       "| 253       | 6256.611272  | 0.438903      |"
      ]
     },
     "metadata": {},
     "output_type": "display_data"
    },
    {
     "data": {
      "text/html": [
       "<pre>| 254       | 6282.189229  | 0.438875      |</pre>"
      ],
      "text/plain": [
       "| 254       | 6282.189229  | 0.438875      |"
      ]
     },
     "metadata": {},
     "output_type": "display_data"
    },
    {
     "data": {
      "text/html": [
       "<pre>| 255       | 6308.080785  | 0.438842      |</pre>"
      ],
      "text/plain": [
       "| 255       | 6308.080785  | 0.438842      |"
      ]
     },
     "metadata": {},
     "output_type": "display_data"
    },
    {
     "data": {
      "text/html": [
       "<pre>| 256       | 6333.586864  | 0.438798      |</pre>"
      ],
      "text/plain": [
       "| 256       | 6333.586864  | 0.438798      |"
      ]
     },
     "metadata": {},
     "output_type": "display_data"
    },
    {
     "data": {
      "text/html": [
       "<pre>| 257       | 6357.456569  | 0.438765      |</pre>"
      ],
      "text/plain": [
       "| 257       | 6357.456569  | 0.438765      |"
      ]
     },
     "metadata": {},
     "output_type": "display_data"
    },
    {
     "data": {
      "text/html": [
       "<pre>| 258       | 6383.143739  | 0.438712      |</pre>"
      ],
      "text/plain": [
       "| 258       | 6383.143739  | 0.438712      |"
      ]
     },
     "metadata": {},
     "output_type": "display_data"
    },
    {
     "data": {
      "text/html": [
       "<pre>| 259       | 6407.975949  | 0.438685      |</pre>"
      ],
      "text/plain": [
       "| 259       | 6407.975949  | 0.438685      |"
      ]
     },
     "metadata": {},
     "output_type": "display_data"
    },
    {
     "data": {
      "text/html": [
       "<pre>| 260       | 6433.677342  | 0.438635      |</pre>"
      ],
      "text/plain": [
       "| 260       | 6433.677342  | 0.438635      |"
      ]
     },
     "metadata": {},
     "output_type": "display_data"
    },
    {
     "data": {
      "text/html": [
       "<pre>| 261       | 6457.850076  | 0.438595      |</pre>"
      ],
      "text/plain": [
       "| 261       | 6457.850076  | 0.438595      |"
      ]
     },
     "metadata": {},
     "output_type": "display_data"
    },
    {
     "data": {
      "text/html": [
       "<pre>| 262       | 6482.721414  | 0.438567      |</pre>"
      ],
      "text/plain": [
       "| 262       | 6482.721414  | 0.438567      |"
      ]
     },
     "metadata": {},
     "output_type": "display_data"
    },
    {
     "data": {
      "text/html": [
       "<pre>| 263       | 6507.459717  | 0.438514      |</pre>"
      ],
      "text/plain": [
       "| 263       | 6507.459717  | 0.438514      |"
      ]
     },
     "metadata": {},
     "output_type": "display_data"
    },
    {
     "data": {
      "text/html": [
       "<pre>| 264       | 6531.048731  | 0.438485      |</pre>"
      ],
      "text/plain": [
       "| 264       | 6531.048731  | 0.438485      |"
      ]
     },
     "metadata": {},
     "output_type": "display_data"
    },
    {
     "data": {
      "text/html": [
       "<pre>| 265       | 6554.858291  | 0.438455      |</pre>"
      ],
      "text/plain": [
       "| 265       | 6554.858291  | 0.438455      |"
      ]
     },
     "metadata": {},
     "output_type": "display_data"
    },
    {
     "data": {
      "text/html": [
       "<pre>| 266       | 6579.234334  | 0.438414      |</pre>"
      ],
      "text/plain": [
       "| 266       | 6579.234334  | 0.438414      |"
      ]
     },
     "metadata": {},
     "output_type": "display_data"
    },
    {
     "data": {
      "text/html": [
       "<pre>| 267       | 6602.924417  | 0.438373      |</pre>"
      ],
      "text/plain": [
       "| 267       | 6602.924417  | 0.438373      |"
      ]
     },
     "metadata": {},
     "output_type": "display_data"
    },
    {
     "data": {
      "text/html": [
       "<pre>| 268       | 6628.925361  | 0.438338      |</pre>"
      ],
      "text/plain": [
       "| 268       | 6628.925361  | 0.438338      |"
      ]
     },
     "metadata": {},
     "output_type": "display_data"
    },
    {
     "data": {
      "text/html": [
       "<pre>| 269       | 6652.572065  | 0.438318      |</pre>"
      ],
      "text/plain": [
       "| 269       | 6652.572065  | 0.438318      |"
      ]
     },
     "metadata": {},
     "output_type": "display_data"
    },
    {
     "data": {
      "text/html": [
       "<pre>| 270       | 6676.872698  | 0.438284      |</pre>"
      ],
      "text/plain": [
       "| 270       | 6676.872698  | 0.438284      |"
      ]
     },
     "metadata": {},
     "output_type": "display_data"
    },
    {
     "data": {
      "text/html": [
       "<pre>| 271       | 6701.152646  | 0.438245      |</pre>"
      ],
      "text/plain": [
       "| 271       | 6701.152646  | 0.438245      |"
      ]
     },
     "metadata": {},
     "output_type": "display_data"
    },
    {
     "data": {
      "text/html": [
       "<pre>| 272       | 6725.704378  | 0.438221      |</pre>"
      ],
      "text/plain": [
       "| 272       | 6725.704378  | 0.438221      |"
      ]
     },
     "metadata": {},
     "output_type": "display_data"
    },
    {
     "data": {
      "text/html": [
       "<pre>| 273       | 6750.798070  | 0.438191      |</pre>"
      ],
      "text/plain": [
       "| 273       | 6750.798070  | 0.438191      |"
      ]
     },
     "metadata": {},
     "output_type": "display_data"
    },
    {
     "data": {
      "text/html": [
       "<pre>| 274       | 6775.273191  | 0.438138      |</pre>"
      ],
      "text/plain": [
       "| 274       | 6775.273191  | 0.438138      |"
      ]
     },
     "metadata": {},
     "output_type": "display_data"
    },
    {
     "data": {
      "text/html": [
       "<pre>| 275       | 6800.830587  | 0.438113      |</pre>"
      ],
      "text/plain": [
       "| 275       | 6800.830587  | 0.438113      |"
      ]
     },
     "metadata": {},
     "output_type": "display_data"
    },
    {
     "data": {
      "text/html": [
       "<pre>| 276       | 6824.699755  | 0.438080      |</pre>"
      ],
      "text/plain": [
       "| 276       | 6824.699755  | 0.438080      |"
      ]
     },
     "metadata": {},
     "output_type": "display_data"
    },
    {
     "data": {
      "text/html": [
       "<pre>| 277       | 6848.090459  | 0.438065      |</pre>"
      ],
      "text/plain": [
       "| 277       | 6848.090459  | 0.438065      |"
      ]
     },
     "metadata": {},
     "output_type": "display_data"
    },
    {
     "data": {
      "text/html": [
       "<pre>| 278       | 6871.760307  | 0.438033      |</pre>"
      ],
      "text/plain": [
       "| 278       | 6871.760307  | 0.438033      |"
      ]
     },
     "metadata": {},
     "output_type": "display_data"
    },
    {
     "data": {
      "text/html": [
       "<pre>| 279       | 6897.171929  | 0.438015      |</pre>"
      ],
      "text/plain": [
       "| 279       | 6897.171929  | 0.438015      |"
      ]
     },
     "metadata": {},
     "output_type": "display_data"
    },
    {
     "data": {
      "text/html": [
       "<pre>| 280       | 6920.755596  | 0.437976      |</pre>"
      ],
      "text/plain": [
       "| 280       | 6920.755596  | 0.437976      |"
      ]
     },
     "metadata": {},
     "output_type": "display_data"
    },
    {
     "data": {
      "text/html": [
       "<pre>| 281       | 6944.414491  | 0.437944      |</pre>"
      ],
      "text/plain": [
       "| 281       | 6944.414491  | 0.437944      |"
      ]
     },
     "metadata": {},
     "output_type": "display_data"
    },
    {
     "data": {
      "text/html": [
       "<pre>| 282       | 6969.903893  | 0.437901      |</pre>"
      ],
      "text/plain": [
       "| 282       | 6969.903893  | 0.437901      |"
      ]
     },
     "metadata": {},
     "output_type": "display_data"
    },
    {
     "data": {
      "text/html": [
       "<pre>| 283       | 6995.043666  | 0.437870      |</pre>"
      ],
      "text/plain": [
       "| 283       | 6995.043666  | 0.437870      |"
      ]
     },
     "metadata": {},
     "output_type": "display_data"
    },
    {
     "data": {
      "text/html": [
       "<pre>| 284       | 7018.311402  | 0.437847      |</pre>"
      ],
      "text/plain": [
       "| 284       | 7018.311402  | 0.437847      |"
      ]
     },
     "metadata": {},
     "output_type": "display_data"
    },
    {
     "data": {
      "text/html": [
       "<pre>| 285       | 7042.562007  | 0.437791      |</pre>"
      ],
      "text/plain": [
       "| 285       | 7042.562007  | 0.437791      |"
      ]
     },
     "metadata": {},
     "output_type": "display_data"
    },
    {
     "data": {
      "text/html": [
       "<pre>| 286       | 7065.738829  | 0.437754      |</pre>"
      ],
      "text/plain": [
       "| 286       | 7065.738829  | 0.437754      |"
      ]
     },
     "metadata": {},
     "output_type": "display_data"
    },
    {
     "data": {
      "text/html": [
       "<pre>| 287       | 7090.808902  | 0.437707      |</pre>"
      ],
      "text/plain": [
       "| 287       | 7090.808902  | 0.437707      |"
      ]
     },
     "metadata": {},
     "output_type": "display_data"
    },
    {
     "data": {
      "text/html": [
       "<pre>| 288       | 7115.565501  | 0.437684      |</pre>"
      ],
      "text/plain": [
       "| 288       | 7115.565501  | 0.437684      |"
      ]
     },
     "metadata": {},
     "output_type": "display_data"
    },
    {
     "data": {
      "text/html": [
       "<pre>| 289       | 7140.703396  | 0.437661      |</pre>"
      ],
      "text/plain": [
       "| 289       | 7140.703396  | 0.437661      |"
      ]
     },
     "metadata": {},
     "output_type": "display_data"
    },
    {
     "data": {
      "text/html": [
       "<pre>| 290       | 7165.510562  | 0.437644      |</pre>"
      ],
      "text/plain": [
       "| 290       | 7165.510562  | 0.437644      |"
      ]
     },
     "metadata": {},
     "output_type": "display_data"
    },
    {
     "data": {
      "text/html": [
       "<pre>| 291       | 7189.357608  | 0.437621      |</pre>"
      ],
      "text/plain": [
       "| 291       | 7189.357608  | 0.437621      |"
      ]
     },
     "metadata": {},
     "output_type": "display_data"
    },
    {
     "data": {
      "text/html": [
       "<pre>| 292       | 7214.309302  | 0.437604      |</pre>"
      ],
      "text/plain": [
       "| 292       | 7214.309302  | 0.437604      |"
      ]
     },
     "metadata": {},
     "output_type": "display_data"
    },
    {
     "data": {
      "text/html": [
       "<pre>| 293       | 7241.548742  | 0.437558      |</pre>"
      ],
      "text/plain": [
       "| 293       | 7241.548742  | 0.437558      |"
      ]
     },
     "metadata": {},
     "output_type": "display_data"
    },
    {
     "data": {
      "text/html": [
       "<pre>| 294       | 7268.844734  | 0.437514      |</pre>"
      ],
      "text/plain": [
       "| 294       | 7268.844734  | 0.437514      |"
      ]
     },
     "metadata": {},
     "output_type": "display_data"
    },
    {
     "data": {
      "text/html": [
       "<pre>| 295       | 7293.640225  | 0.437487      |</pre>"
      ],
      "text/plain": [
       "| 295       | 7293.640225  | 0.437487      |"
      ]
     },
     "metadata": {},
     "output_type": "display_data"
    },
    {
     "data": {
      "text/html": [
       "<pre>| 296       | 7317.071076  | 0.437466      |</pre>"
      ],
      "text/plain": [
       "| 296       | 7317.071076  | 0.437466      |"
      ]
     },
     "metadata": {},
     "output_type": "display_data"
    },
    {
     "data": {
      "text/html": [
       "<pre>| 297       | 7341.950677  | 0.437430      |</pre>"
      ],
      "text/plain": [
       "| 297       | 7341.950677  | 0.437430      |"
      ]
     },
     "metadata": {},
     "output_type": "display_data"
    },
    {
     "data": {
      "text/html": [
       "<pre>| 298       | 7366.087945  | 0.437398      |</pre>"
      ],
      "text/plain": [
       "| 298       | 7366.087945  | 0.437398      |"
      ]
     },
     "metadata": {},
     "output_type": "display_data"
    },
    {
     "data": {
      "text/html": [
       "<pre>| 299       | 7389.898036  | 0.437372      |</pre>"
      ],
      "text/plain": [
       "| 299       | 7389.898036  | 0.437372      |"
      ]
     },
     "metadata": {},
     "output_type": "display_data"
    },
    {
     "data": {
      "text/html": [
       "<pre>| 300       | 7415.108030  | 0.437330      |</pre>"
      ],
      "text/plain": [
       "| 300       | 7415.108030  | 0.437330      |"
      ]
     },
     "metadata": {},
     "output_type": "display_data"
    },
    {
     "data": {
      "text/html": [
       "<pre>| 301       | 7439.554934  | 0.437313      |</pre>"
      ],
      "text/plain": [
       "| 301       | 7439.554934  | 0.437313      |"
      ]
     },
     "metadata": {},
     "output_type": "display_data"
    },
    {
     "data": {
      "text/html": [
       "<pre>| 302       | 7464.355861  | 0.437295      |</pre>"
      ],
      "text/plain": [
       "| 302       | 7464.355861  | 0.437295      |"
      ]
     },
     "metadata": {},
     "output_type": "display_data"
    },
    {
     "data": {
      "text/html": [
       "<pre>| 303       | 7490.087817  | 0.437271      |</pre>"
      ],
      "text/plain": [
       "| 303       | 7490.087817  | 0.437271      |"
      ]
     },
     "metadata": {},
     "output_type": "display_data"
    },
    {
     "data": {
      "text/html": [
       "<pre>| 304       | 7514.366451  | 0.437243      |</pre>"
      ],
      "text/plain": [
       "| 304       | 7514.366451  | 0.437243      |"
      ]
     },
     "metadata": {},
     "output_type": "display_data"
    },
    {
     "data": {
      "text/html": [
       "<pre>| 305       | 7538.296746  | 0.437222      |</pre>"
      ],
      "text/plain": [
       "| 305       | 7538.296746  | 0.437222      |"
      ]
     },
     "metadata": {},
     "output_type": "display_data"
    },
    {
     "data": {
      "text/html": [
       "<pre>| 306       | 7562.490657  | 0.437194      |</pre>"
      ],
      "text/plain": [
       "| 306       | 7562.490657  | 0.437194      |"
      ]
     },
     "metadata": {},
     "output_type": "display_data"
    },
    {
     "data": {
      "text/html": [
       "<pre>| 307       | 7587.229134  | 0.437165      |</pre>"
      ],
      "text/plain": [
       "| 307       | 7587.229134  | 0.437165      |"
      ]
     },
     "metadata": {},
     "output_type": "display_data"
    },
    {
     "data": {
      "text/html": [
       "<pre>| 308       | 7611.722217  | 0.437121      |</pre>"
      ],
      "text/plain": [
       "| 308       | 7611.722217  | 0.437121      |"
      ]
     },
     "metadata": {},
     "output_type": "display_data"
    },
    {
     "data": {
      "text/html": [
       "<pre>| 309       | 7635.181597  | 0.437073      |</pre>"
      ],
      "text/plain": [
       "| 309       | 7635.181597  | 0.437073      |"
      ]
     },
     "metadata": {},
     "output_type": "display_data"
    },
    {
     "data": {
      "text/html": [
       "<pre>| 310       | 7660.176395  | 0.437028      |</pre>"
      ],
      "text/plain": [
       "| 310       | 7660.176395  | 0.437028      |"
      ]
     },
     "metadata": {},
     "output_type": "display_data"
    },
    {
     "data": {
      "text/html": [
       "<pre>| 311       | 7686.632946  | 0.436981      |</pre>"
      ],
      "text/plain": [
       "| 311       | 7686.632946  | 0.436981      |"
      ]
     },
     "metadata": {},
     "output_type": "display_data"
    },
    {
     "data": {
      "text/html": [
       "<pre>| 312       | 7711.070779  | 0.436953      |</pre>"
      ],
      "text/plain": [
       "| 312       | 7711.070779  | 0.436953      |"
      ]
     },
     "metadata": {},
     "output_type": "display_data"
    },
    {
     "data": {
      "text/html": [
       "<pre>| 313       | 7735.430687  | 0.436925      |</pre>"
      ],
      "text/plain": [
       "| 313       | 7735.430687  | 0.436925      |"
      ]
     },
     "metadata": {},
     "output_type": "display_data"
    },
    {
     "data": {
      "text/html": [
       "<pre>| 314       | 7760.662405  | 0.436880      |</pre>"
      ],
      "text/plain": [
       "| 314       | 7760.662405  | 0.436880      |"
      ]
     },
     "metadata": {},
     "output_type": "display_data"
    },
    {
     "data": {
      "text/html": [
       "<pre>| 315       | 7785.857143  | 0.436842      |</pre>"
      ],
      "text/plain": [
       "| 315       | 7785.857143  | 0.436842      |"
      ]
     },
     "metadata": {},
     "output_type": "display_data"
    },
    {
     "data": {
      "text/html": [
       "<pre>| 316       | 7810.337581  | 0.436815      |</pre>"
      ],
      "text/plain": [
       "| 316       | 7810.337581  | 0.436815      |"
      ]
     },
     "metadata": {},
     "output_type": "display_data"
    },
    {
     "data": {
      "text/html": [
       "<pre>| 317       | 7836.294554  | 0.436784      |</pre>"
      ],
      "text/plain": [
       "| 317       | 7836.294554  | 0.436784      |"
      ]
     },
     "metadata": {},
     "output_type": "display_data"
    },
    {
     "data": {
      "text/html": [
       "<pre>| 318       | 7861.400432  | 0.436738      |</pre>"
      ],
      "text/plain": [
       "| 318       | 7861.400432  | 0.436738      |"
      ]
     },
     "metadata": {},
     "output_type": "display_data"
    },
    {
     "data": {
      "text/html": [
       "<pre>| 319       | 7885.205485  | 0.436704      |</pre>"
      ],
      "text/plain": [
       "| 319       | 7885.205485  | 0.436704      |"
      ]
     },
     "metadata": {},
     "output_type": "display_data"
    },
    {
     "data": {
      "text/html": [
       "<pre>| 320       | 7910.792032  | 0.436652      |</pre>"
      ],
      "text/plain": [
       "| 320       | 7910.792032  | 0.436652      |"
      ]
     },
     "metadata": {},
     "output_type": "display_data"
    },
    {
     "data": {
      "text/html": [
       "<pre>| 321       | 7934.351408  | 0.436627      |</pre>"
      ],
      "text/plain": [
       "| 321       | 7934.351408  | 0.436627      |"
      ]
     },
     "metadata": {},
     "output_type": "display_data"
    },
    {
     "data": {
      "text/html": [
       "<pre>| 322       | 7961.113068  | 0.436585      |</pre>"
      ],
      "text/plain": [
       "| 322       | 7961.113068  | 0.436585      |"
      ]
     },
     "metadata": {},
     "output_type": "display_data"
    },
    {
     "data": {
      "text/html": [
       "<pre>| 323       | 7986.947345  | 0.436571      |</pre>"
      ],
      "text/plain": [
       "| 323       | 7986.947345  | 0.436571      |"
      ]
     },
     "metadata": {},
     "output_type": "display_data"
    },
    {
     "data": {
      "text/html": [
       "<pre>| 324       | 8009.943808  | 0.436509      |</pre>"
      ],
      "text/plain": [
       "| 324       | 8009.943808  | 0.436509      |"
      ]
     },
     "metadata": {},
     "output_type": "display_data"
    },
    {
     "data": {
      "text/html": [
       "<pre>| 325       | 8034.151596  | 0.436482      |</pre>"
      ],
      "text/plain": [
       "| 325       | 8034.151596  | 0.436482      |"
      ]
     },
     "metadata": {},
     "output_type": "display_data"
    },
    {
     "data": {
      "text/html": [
       "<pre>| 326       | 8059.825511  | 0.436457      |</pre>"
      ],
      "text/plain": [
       "| 326       | 8059.825511  | 0.436457      |"
      ]
     },
     "metadata": {},
     "output_type": "display_data"
    },
    {
     "data": {
      "text/html": [
       "<pre>| 327       | 8082.938855  | 0.436442      |</pre>"
      ],
      "text/plain": [
       "| 327       | 8082.938855  | 0.436442      |"
      ]
     },
     "metadata": {},
     "output_type": "display_data"
    },
    {
     "data": {
      "text/html": [
       "<pre>| 328       | 8110.239338  | 0.436398      |</pre>"
      ],
      "text/plain": [
       "| 328       | 8110.239338  | 0.436398      |"
      ]
     },
     "metadata": {},
     "output_type": "display_data"
    },
    {
     "data": {
      "text/html": [
       "<pre>| 329       | 8135.787118  | 0.436369      |</pre>"
      ],
      "text/plain": [
       "| 329       | 8135.787118  | 0.436369      |"
      ]
     },
     "metadata": {},
     "output_type": "display_data"
    },
    {
     "data": {
      "text/html": [
       "<pre>| 330       | 8160.309034  | 0.436301      |</pre>"
      ],
      "text/plain": [
       "| 330       | 8160.309034  | 0.436301      |"
      ]
     },
     "metadata": {},
     "output_type": "display_data"
    },
    {
     "data": {
      "text/html": [
       "<pre>| 331       | 8184.540796  | 0.436269      |</pre>"
      ],
      "text/plain": [
       "| 331       | 8184.540796  | 0.436269      |"
      ]
     },
     "metadata": {},
     "output_type": "display_data"
    },
    {
     "data": {
      "text/html": [
       "<pre>| 332       | 8209.890003  | 0.436212      |</pre>"
      ],
      "text/plain": [
       "| 332       | 8209.890003  | 0.436212      |"
      ]
     },
     "metadata": {},
     "output_type": "display_data"
    },
    {
     "data": {
      "text/html": [
       "<pre>| 333       | 8235.471208  | 0.436169      |</pre>"
      ],
      "text/plain": [
       "| 333       | 8235.471208  | 0.436169      |"
      ]
     },
     "metadata": {},
     "output_type": "display_data"
    },
    {
     "data": {
      "text/html": [
       "<pre>| 334       | 8262.621991  | 0.436138      |</pre>"
      ],
      "text/plain": [
       "| 334       | 8262.621991  | 0.436138      |"
      ]
     },
     "metadata": {},
     "output_type": "display_data"
    },
    {
     "data": {
      "text/html": [
       "<pre>| 335       | 8285.920085  | 0.436102      |</pre>"
      ],
      "text/plain": [
       "| 335       | 8285.920085  | 0.436102      |"
      ]
     },
     "metadata": {},
     "output_type": "display_data"
    },
    {
     "data": {
      "text/html": [
       "<pre>| 336       | 8312.755082  | 0.436067      |</pre>"
      ],
      "text/plain": [
       "| 336       | 8312.755082  | 0.436067      |"
      ]
     },
     "metadata": {},
     "output_type": "display_data"
    },
    {
     "data": {
      "text/html": [
       "<pre>| 337       | 8337.713866  | 0.436042      |</pre>"
      ],
      "text/plain": [
       "| 337       | 8337.713866  | 0.436042      |"
      ]
     },
     "metadata": {},
     "output_type": "display_data"
    },
    {
     "data": {
      "text/html": [
       "<pre>| 338       | 8363.940302  | 0.436006      |</pre>"
      ],
      "text/plain": [
       "| 338       | 8363.940302  | 0.436006      |"
      ]
     },
     "metadata": {},
     "output_type": "display_data"
    },
    {
     "data": {
      "text/html": [
       "<pre>| 339       | 8388.409204  | 0.435967      |</pre>"
      ],
      "text/plain": [
       "| 339       | 8388.409204  | 0.435967      |"
      ]
     },
     "metadata": {},
     "output_type": "display_data"
    },
    {
     "data": {
      "text/html": [
       "<pre>| 340       | 8414.997767  | 0.435951      |</pre>"
      ],
      "text/plain": [
       "| 340       | 8414.997767  | 0.435951      |"
      ]
     },
     "metadata": {},
     "output_type": "display_data"
    },
    {
     "data": {
      "text/html": [
       "<pre>| 341       | 8439.466673  | 0.435937      |</pre>"
      ],
      "text/plain": [
       "| 341       | 8439.466673  | 0.435937      |"
      ]
     },
     "metadata": {},
     "output_type": "display_data"
    },
    {
     "data": {
      "text/html": [
       "<pre>| 342       | 8464.440033  | 0.435896      |</pre>"
      ],
      "text/plain": [
       "| 342       | 8464.440033  | 0.435896      |"
      ]
     },
     "metadata": {},
     "output_type": "display_data"
    },
    {
     "data": {
      "text/html": [
       "<pre>| 343       | 8490.311515  | 0.435867      |</pre>"
      ],
      "text/plain": [
       "| 343       | 8490.311515  | 0.435867      |"
      ]
     },
     "metadata": {},
     "output_type": "display_data"
    },
    {
     "data": {
      "text/html": [
       "<pre>| 344       | 8516.644221  | 0.435831      |</pre>"
      ],
      "text/plain": [
       "| 344       | 8516.644221  | 0.435831      |"
      ]
     },
     "metadata": {},
     "output_type": "display_data"
    },
    {
     "data": {
      "text/html": [
       "<pre>| 345       | 8541.069647  | 0.435798      |</pre>"
      ],
      "text/plain": [
       "| 345       | 8541.069647  | 0.435798      |"
      ]
     },
     "metadata": {},
     "output_type": "display_data"
    },
    {
     "data": {
      "text/html": [
       "<pre>| 346       | 8565.253144  | 0.435760      |</pre>"
      ],
      "text/plain": [
       "| 346       | 8565.253144  | 0.435760      |"
      ]
     },
     "metadata": {},
     "output_type": "display_data"
    },
    {
     "data": {
      "text/html": [
       "<pre>| 347       | 8590.349183  | 0.435726      |</pre>"
      ],
      "text/plain": [
       "| 347       | 8590.349183  | 0.435726      |"
      ]
     },
     "metadata": {},
     "output_type": "display_data"
    },
    {
     "data": {
      "text/html": [
       "<pre>| 348       | 8615.064069  | 0.435686      |</pre>"
      ],
      "text/plain": [
       "| 348       | 8615.064069  | 0.435686      |"
      ]
     },
     "metadata": {},
     "output_type": "display_data"
    },
    {
     "data": {
      "text/html": [
       "<pre>| 349       | 8642.224873  | 0.435652      |</pre>"
      ],
      "text/plain": [
       "| 349       | 8642.224873  | 0.435652      |"
      ]
     },
     "metadata": {},
     "output_type": "display_data"
    },
    {
     "data": {
      "text/html": [
       "<pre>| 350       | 8666.247647  | 0.435631      |</pre>"
      ],
      "text/plain": [
       "| 350       | 8666.247647  | 0.435631      |"
      ]
     },
     "metadata": {},
     "output_type": "display_data"
    },
    {
     "data": {
      "text/html": [
       "<pre>| 351       | 8690.140934  | 0.435595      |</pre>"
      ],
      "text/plain": [
       "| 351       | 8690.140934  | 0.435595      |"
      ]
     },
     "metadata": {},
     "output_type": "display_data"
    },
    {
     "data": {
      "text/html": [
       "<pre>| 352       | 8715.011512  | 0.435540      |</pre>"
      ],
      "text/plain": [
       "| 352       | 8715.011512  | 0.435540      |"
      ]
     },
     "metadata": {},
     "output_type": "display_data"
    },
    {
     "data": {
      "text/html": [
       "<pre>| 353       | 8738.854567  | 0.435492      |</pre>"
      ],
      "text/plain": [
       "| 353       | 8738.854567  | 0.435492      |"
      ]
     },
     "metadata": {},
     "output_type": "display_data"
    },
    {
     "data": {
      "text/html": [
       "<pre>| 354       | 8762.094653  | 0.435476      |</pre>"
      ],
      "text/plain": [
       "| 354       | 8762.094653  | 0.435476      |"
      ]
     },
     "metadata": {},
     "output_type": "display_data"
    },
    {
     "data": {
      "text/html": [
       "<pre>| 355       | 8786.406978  | 0.435453      |</pre>"
      ],
      "text/plain": [
       "| 355       | 8786.406978  | 0.435453      |"
      ]
     },
     "metadata": {},
     "output_type": "display_data"
    },
    {
     "data": {
      "text/html": [
       "<pre>| 356       | 8809.319192  | 0.435424      |</pre>"
      ],
      "text/plain": [
       "| 356       | 8809.319192  | 0.435424      |"
      ]
     },
     "metadata": {},
     "output_type": "display_data"
    },
    {
     "data": {
      "text/html": [
       "<pre>| 357       | 8833.302715  | 0.435390      |</pre>"
      ],
      "text/plain": [
       "| 357       | 8833.302715  | 0.435390      |"
      ]
     },
     "metadata": {},
     "output_type": "display_data"
    },
    {
     "data": {
      "text/html": [
       "<pre>| 358       | 8857.158198  | 0.435372      |</pre>"
      ],
      "text/plain": [
       "| 358       | 8857.158198  | 0.435372      |"
      ]
     },
     "metadata": {},
     "output_type": "display_data"
    },
    {
     "data": {
      "text/html": [
       "<pre>| 359       | 8880.936469  | 0.435345      |</pre>"
      ],
      "text/plain": [
       "| 359       | 8880.936469  | 0.435345      |"
      ]
     },
     "metadata": {},
     "output_type": "display_data"
    },
    {
     "data": {
      "text/html": [
       "<pre>| 360       | 8906.588604  | 0.435308      |</pre>"
      ],
      "text/plain": [
       "| 360       | 8906.588604  | 0.435308      |"
      ]
     },
     "metadata": {},
     "output_type": "display_data"
    },
    {
     "data": {
      "text/html": [
       "<pre>| 361       | 8932.268263  | 0.435283      |</pre>"
      ],
      "text/plain": [
       "| 361       | 8932.268263  | 0.435283      |"
      ]
     },
     "metadata": {},
     "output_type": "display_data"
    },
    {
     "data": {
      "text/html": [
       "<pre>| 362       | 8957.784327  | 0.435262      |</pre>"
      ],
      "text/plain": [
       "| 362       | 8957.784327  | 0.435262      |"
      ]
     },
     "metadata": {},
     "output_type": "display_data"
    },
    {
     "data": {
      "text/html": [
       "<pre>| 363       | 8982.002243  | 0.435249      |</pre>"
      ],
      "text/plain": [
       "| 363       | 8982.002243  | 0.435249      |"
      ]
     },
     "metadata": {},
     "output_type": "display_data"
    },
    {
     "data": {
      "text/html": [
       "<pre>| 364       | 9006.940902  | 0.435232      |</pre>"
      ],
      "text/plain": [
       "| 364       | 9006.940902  | 0.435232      |"
      ]
     },
     "metadata": {},
     "output_type": "display_data"
    },
    {
     "data": {
      "text/html": [
       "<pre>| 365       | 9030.777057  | 0.435205      |</pre>"
      ],
      "text/plain": [
       "| 365       | 9030.777057  | 0.435205      |"
      ]
     },
     "metadata": {},
     "output_type": "display_data"
    },
    {
     "data": {
      "text/html": [
       "<pre>| 366       | 9054.355860  | 0.435172      |</pre>"
      ],
      "text/plain": [
       "| 366       | 9054.355860  | 0.435172      |"
      ]
     },
     "metadata": {},
     "output_type": "display_data"
    },
    {
     "data": {
      "text/html": [
       "<pre>| 367       | 9077.811263  | 0.435142      |</pre>"
      ],
      "text/plain": [
       "| 367       | 9077.811263  | 0.435142      |"
      ]
     },
     "metadata": {},
     "output_type": "display_data"
    },
    {
     "data": {
      "text/html": [
       "<pre>| 368       | 9101.902008  | 0.435123      |</pre>"
      ],
      "text/plain": [
       "| 368       | 9101.902008  | 0.435123      |"
      ]
     },
     "metadata": {},
     "output_type": "display_data"
    },
    {
     "data": {
      "text/html": [
       "<pre>| 369       | 9126.501491  | 0.435085      |</pre>"
      ],
      "text/plain": [
       "| 369       | 9126.501491  | 0.435085      |"
      ]
     },
     "metadata": {},
     "output_type": "display_data"
    },
    {
     "data": {
      "text/html": [
       "<pre>| 370       | 9150.176335  | 0.435058      |</pre>"
      ],
      "text/plain": [
       "| 370       | 9150.176335  | 0.435058      |"
      ]
     },
     "metadata": {},
     "output_type": "display_data"
    },
    {
     "data": {
      "text/html": [
       "<pre>| 371       | 9175.484935  | 0.435018      |</pre>"
      ],
      "text/plain": [
       "| 371       | 9175.484935  | 0.435018      |"
      ]
     },
     "metadata": {},
     "output_type": "display_data"
    },
    {
     "data": {
      "text/html": [
       "<pre>| 372       | 9198.844728  | 0.434982      |</pre>"
      ],
      "text/plain": [
       "| 372       | 9198.844728  | 0.434982      |"
      ]
     },
     "metadata": {},
     "output_type": "display_data"
    },
    {
     "data": {
      "text/html": [
       "<pre>| 373       | 9222.490858  | 0.434962      |</pre>"
      ],
      "text/plain": [
       "| 373       | 9222.490858  | 0.434962      |"
      ]
     },
     "metadata": {},
     "output_type": "display_data"
    },
    {
     "data": {
      "text/html": [
       "<pre>| 374       | 9246.051661  | 0.434935      |</pre>"
      ],
      "text/plain": [
       "| 374       | 9246.051661  | 0.434935      |"
      ]
     },
     "metadata": {},
     "output_type": "display_data"
    },
    {
     "data": {
      "text/html": [
       "<pre>| 375       | 9268.759149  | 0.434916      |</pre>"
      ],
      "text/plain": [
       "| 375       | 9268.759149  | 0.434916      |"
      ]
     },
     "metadata": {},
     "output_type": "display_data"
    },
    {
     "data": {
      "text/html": [
       "<pre>| 376       | 9293.326486  | 0.434899      |</pre>"
      ],
      "text/plain": [
       "| 376       | 9293.326486  | 0.434899      |"
      ]
     },
     "metadata": {},
     "output_type": "display_data"
    },
    {
     "data": {
      "text/html": [
       "<pre>| 377       | 9318.755630  | 0.434881      |</pre>"
      ],
      "text/plain": [
       "| 377       | 9318.755630  | 0.434881      |"
      ]
     },
     "metadata": {},
     "output_type": "display_data"
    },
    {
     "data": {
      "text/html": [
       "<pre>| 378       | 9342.801465  | 0.434834      |</pre>"
      ],
      "text/plain": [
       "| 378       | 9342.801465  | 0.434834      |"
      ]
     },
     "metadata": {},
     "output_type": "display_data"
    },
    {
     "data": {
      "text/html": [
       "<pre>| 379       | 9366.066586  | 0.434813      |</pre>"
      ],
      "text/plain": [
       "| 379       | 9366.066586  | 0.434813      |"
      ]
     },
     "metadata": {},
     "output_type": "display_data"
    },
    {
     "data": {
      "text/html": [
       "<pre>| 380       | 9390.014829  | 0.434796      |</pre>"
      ],
      "text/plain": [
       "| 380       | 9390.014829  | 0.434796      |"
      ]
     },
     "metadata": {},
     "output_type": "display_data"
    },
    {
     "data": {
      "text/html": [
       "<pre>| 381       | 9413.299977  | 0.434779      |</pre>"
      ],
      "text/plain": [
       "| 381       | 9413.299977  | 0.434779      |"
      ]
     },
     "metadata": {},
     "output_type": "display_data"
    },
    {
     "data": {
      "text/html": [
       "<pre>| 382       | 9438.605847  | 0.434749      |</pre>"
      ],
      "text/plain": [
       "| 382       | 9438.605847  | 0.434749      |"
      ]
     },
     "metadata": {},
     "output_type": "display_data"
    },
    {
     "data": {
      "text/html": [
       "<pre>| 383       | 9463.224897  | 0.434723      |</pre>"
      ],
      "text/plain": [
       "| 383       | 9463.224897  | 0.434723      |"
      ]
     },
     "metadata": {},
     "output_type": "display_data"
    },
    {
     "data": {
      "text/html": [
       "<pre>| 384       | 9487.659658  | 0.434691      |</pre>"
      ],
      "text/plain": [
       "| 384       | 9487.659658  | 0.434691      |"
      ]
     },
     "metadata": {},
     "output_type": "display_data"
    },
    {
     "data": {
      "text/html": [
       "<pre>| 385       | 9512.224084  | 0.434640      |</pre>"
      ],
      "text/plain": [
       "| 385       | 9512.224084  | 0.434640      |"
      ]
     },
     "metadata": {},
     "output_type": "display_data"
    },
    {
     "data": {
      "text/html": [
       "<pre>| 386       | 9537.729774  | 0.434628      |</pre>"
      ],
      "text/plain": [
       "| 386       | 9537.729774  | 0.434628      |"
      ]
     },
     "metadata": {},
     "output_type": "display_data"
    },
    {
     "data": {
      "text/html": [
       "<pre>| 387       | 9562.440398  | 0.434620      |</pre>"
      ],
      "text/plain": [
       "| 387       | 9562.440398  | 0.434620      |"
      ]
     },
     "metadata": {},
     "output_type": "display_data"
    },
    {
     "data": {
      "text/html": [
       "<pre>| 388       | 9587.951389  | 0.434586      |</pre>"
      ],
      "text/plain": [
       "| 388       | 9587.951389  | 0.434586      |"
      ]
     },
     "metadata": {},
     "output_type": "display_data"
    },
    {
     "data": {
      "text/html": [
       "<pre>| 389       | 9613.037380  | 0.434556      |</pre>"
      ],
      "text/plain": [
       "| 389       | 9613.037380  | 0.434556      |"
      ]
     },
     "metadata": {},
     "output_type": "display_data"
    },
    {
     "data": {
      "text/html": [
       "<pre>| 390       | 9638.700280  | 0.434548      |</pre>"
      ],
      "text/plain": [
       "| 390       | 9638.700280  | 0.434548      |"
      ]
     },
     "metadata": {},
     "output_type": "display_data"
    },
    {
     "data": {
      "text/html": [
       "<pre>| 391       | 9662.674887  | 0.434525      |</pre>"
      ],
      "text/plain": [
       "| 391       | 9662.674887  | 0.434525      |"
      ]
     },
     "metadata": {},
     "output_type": "display_data"
    },
    {
     "data": {
      "text/html": [
       "<pre>| 392       | 9688.757777  | 0.434489      |</pre>"
      ],
      "text/plain": [
       "| 392       | 9688.757777  | 0.434489      |"
      ]
     },
     "metadata": {},
     "output_type": "display_data"
    },
    {
     "data": {
      "text/html": [
       "<pre>| 393       | 9712.410135  | 0.434467      |</pre>"
      ],
      "text/plain": [
       "| 393       | 9712.410135  | 0.434467      |"
      ]
     },
     "metadata": {},
     "output_type": "display_data"
    },
    {
     "data": {
      "text/html": [
       "<pre>| 394       | 9736.274911  | 0.434441      |</pre>"
      ],
      "text/plain": [
       "| 394       | 9736.274911  | 0.434441      |"
      ]
     },
     "metadata": {},
     "output_type": "display_data"
    },
    {
     "data": {
      "text/html": [
       "<pre>| 395       | 9762.976302  | 0.434397      |</pre>"
      ],
      "text/plain": [
       "| 395       | 9762.976302  | 0.434397      |"
      ]
     },
     "metadata": {},
     "output_type": "display_data"
    },
    {
     "data": {
      "text/html": [
       "<pre>| 396       | 9786.873679  | 0.434365      |</pre>"
      ],
      "text/plain": [
       "| 396       | 9786.873679  | 0.434365      |"
      ]
     },
     "metadata": {},
     "output_type": "display_data"
    },
    {
     "data": {
      "text/html": [
       "<pre>| 397       | 9812.355624  | 0.434313      |</pre>"
      ],
      "text/plain": [
       "| 397       | 9812.355624  | 0.434313      |"
      ]
     },
     "metadata": {},
     "output_type": "display_data"
    },
    {
     "data": {
      "text/html": [
       "<pre>| 398       | 9837.327582  | 0.434285      |</pre>"
      ],
      "text/plain": [
       "| 398       | 9837.327582  | 0.434285      |"
      ]
     },
     "metadata": {},
     "output_type": "display_data"
    },
    {
     "data": {
      "text/html": [
       "<pre>| 399       | 9862.588315  | 0.434265      |</pre>"
      ],
      "text/plain": [
       "| 399       | 9862.588315  | 0.434265      |"
      ]
     },
     "metadata": {},
     "output_type": "display_data"
    },
    {
     "data": {
      "text/html": [
       "<pre>| 400       | 9889.875115  | 0.434213      |</pre>"
      ],
      "text/plain": [
       "| 400       | 9889.875115  | 0.434213      |"
      ]
     },
     "metadata": {},
     "output_type": "display_data"
    },
    {
     "data": {
      "text/html": [
       "<pre>| 401       | 9915.143014  | 0.434181      |</pre>"
      ],
      "text/plain": [
       "| 401       | 9915.143014  | 0.434181      |"
      ]
     },
     "metadata": {},
     "output_type": "display_data"
    },
    {
     "data": {
      "text/html": [
       "<pre>| 402       | 9940.930609  | 0.434153      |</pre>"
      ],
      "text/plain": [
       "| 402       | 9940.930609  | 0.434153      |"
      ]
     },
     "metadata": {},
     "output_type": "display_data"
    },
    {
     "data": {
      "text/html": [
       "<pre>| 403       | 9966.979450  | 0.434124      |</pre>"
      ],
      "text/plain": [
       "| 403       | 9966.979450  | 0.434124      |"
      ]
     },
     "metadata": {},
     "output_type": "display_data"
    },
    {
     "data": {
      "text/html": [
       "<pre>| 404       | 9992.217576  | 0.434084      |</pre>"
      ],
      "text/plain": [
       "| 404       | 9992.217576  | 0.434084      |"
      ]
     },
     "metadata": {},
     "output_type": "display_data"
    },
    {
     "data": {
      "text/html": [
       "<pre>| 405       | 10016.798566 | 0.434043      |</pre>"
      ],
      "text/plain": [
       "| 405       | 10016.798566 | 0.434043      |"
      ]
     },
     "metadata": {},
     "output_type": "display_data"
    },
    {
     "data": {
      "text/html": [
       "<pre>| 406       | 10042.053235 | 0.434036      |</pre>"
      ],
      "text/plain": [
       "| 406       | 10042.053235 | 0.434036      |"
      ]
     },
     "metadata": {},
     "output_type": "display_data"
    },
    {
     "data": {
      "text/html": [
       "<pre>| 407       | 10066.260179 | 0.434008      |</pre>"
      ],
      "text/plain": [
       "| 407       | 10066.260179 | 0.434008      |"
      ]
     },
     "metadata": {},
     "output_type": "display_data"
    },
    {
     "data": {
      "text/html": [
       "<pre>| 408       | 10092.109546 | 0.433966      |</pre>"
      ],
      "text/plain": [
       "| 408       | 10092.109546 | 0.433966      |"
      ]
     },
     "metadata": {},
     "output_type": "display_data"
    },
    {
     "data": {
      "text/html": [
       "<pre>| 409       | 10117.008683 | 0.433921      |</pre>"
      ],
      "text/plain": [
       "| 409       | 10117.008683 | 0.433921      |"
      ]
     },
     "metadata": {},
     "output_type": "display_data"
    },
    {
     "data": {
      "text/html": [
       "<pre>| 410       | 10141.651504 | 0.433900      |</pre>"
      ],
      "text/plain": [
       "| 410       | 10141.651504 | 0.433900      |"
      ]
     },
     "metadata": {},
     "output_type": "display_data"
    },
    {
     "data": {
      "text/html": [
       "<pre>| 411       | 10166.307936 | 0.433866      |</pre>"
      ],
      "text/plain": [
       "| 411       | 10166.307936 | 0.433866      |"
      ]
     },
     "metadata": {},
     "output_type": "display_data"
    },
    {
     "data": {
      "text/html": [
       "<pre>| 412       | 10190.955223 | 0.433839      |</pre>"
      ],
      "text/plain": [
       "| 412       | 10190.955223 | 0.433839      |"
      ]
     },
     "metadata": {},
     "output_type": "display_data"
    },
    {
     "data": {
      "text/html": [
       "<pre>| 413       | 10216.770588 | 0.433804      |</pre>"
      ],
      "text/plain": [
       "| 413       | 10216.770588 | 0.433804      |"
      ]
     },
     "metadata": {},
     "output_type": "display_data"
    },
    {
     "data": {
      "text/html": [
       "<pre>| 414       | 10240.384113 | 0.433777      |</pre>"
      ],
      "text/plain": [
       "| 414       | 10240.384113 | 0.433777      |"
      ]
     },
     "metadata": {},
     "output_type": "display_data"
    },
    {
     "data": {
      "text/html": [
       "<pre>| 415       | 10264.347900 | 0.433750      |</pre>"
      ],
      "text/plain": [
       "| 415       | 10264.347900 | 0.433750      |"
      ]
     },
     "metadata": {},
     "output_type": "display_data"
    },
    {
     "data": {
      "text/html": [
       "<pre>| 416       | 10289.835948 | 0.433722      |</pre>"
      ],
      "text/plain": [
       "| 416       | 10289.835948 | 0.433722      |"
      ]
     },
     "metadata": {},
     "output_type": "display_data"
    },
    {
     "data": {
      "text/html": [
       "<pre>| 417       | 10313.623779 | 0.433689      |</pre>"
      ],
      "text/plain": [
       "| 417       | 10313.623779 | 0.433689      |"
      ]
     },
     "metadata": {},
     "output_type": "display_data"
    },
    {
     "data": {
      "text/html": [
       "<pre>| 418       | 10336.701539 | 0.433670      |</pre>"
      ],
      "text/plain": [
       "| 418       | 10336.701539 | 0.433670      |"
      ]
     },
     "metadata": {},
     "output_type": "display_data"
    },
    {
     "data": {
      "text/html": [
       "<pre>| 419       | 10361.629107 | 0.433645      |</pre>"
      ],
      "text/plain": [
       "| 419       | 10361.629107 | 0.433645      |"
      ]
     },
     "metadata": {},
     "output_type": "display_data"
    },
    {
     "data": {
      "text/html": [
       "<pre>| 420       | 10385.363140 | 0.433620      |</pre>"
      ],
      "text/plain": [
       "| 420       | 10385.363140 | 0.433620      |"
      ]
     },
     "metadata": {},
     "output_type": "display_data"
    },
    {
     "data": {
      "text/html": [
       "<pre>| 421       | 10409.613535 | 0.433594      |</pre>"
      ],
      "text/plain": [
       "| 421       | 10409.613535 | 0.433594      |"
      ]
     },
     "metadata": {},
     "output_type": "display_data"
    },
    {
     "data": {
      "text/html": [
       "<pre>| 422       | 10434.754712 | 0.433563      |</pre>"
      ],
      "text/plain": [
       "| 422       | 10434.754712 | 0.433563      |"
      ]
     },
     "metadata": {},
     "output_type": "display_data"
    },
    {
     "data": {
      "text/html": [
       "<pre>| 423       | 10458.785429 | 0.433541      |</pre>"
      ],
      "text/plain": [
       "| 423       | 10458.785429 | 0.433541      |"
      ]
     },
     "metadata": {},
     "output_type": "display_data"
    },
    {
     "data": {
      "text/html": [
       "<pre>| 424       | 10484.060246 | 0.433502      |</pre>"
      ],
      "text/plain": [
       "| 424       | 10484.060246 | 0.433502      |"
      ]
     },
     "metadata": {},
     "output_type": "display_data"
    },
    {
     "data": {
      "text/html": [
       "<pre>| 425       | 10508.703608 | 0.433479      |</pre>"
      ],
      "text/plain": [
       "| 425       | 10508.703608 | 0.433479      |"
      ]
     },
     "metadata": {},
     "output_type": "display_data"
    },
    {
     "data": {
      "text/html": [
       "<pre>| 426       | 10533.031082 | 0.433459      |</pre>"
      ],
      "text/plain": [
       "| 426       | 10533.031082 | 0.433459      |"
      ]
     },
     "metadata": {},
     "output_type": "display_data"
    },
    {
     "data": {
      "text/html": [
       "<pre>| 427       | 10558.356446 | 0.433438      |</pre>"
      ],
      "text/plain": [
       "| 427       | 10558.356446 | 0.433438      |"
      ]
     },
     "metadata": {},
     "output_type": "display_data"
    },
    {
     "data": {
      "text/html": [
       "<pre>| 428       | 10582.449365 | 0.433421      |</pre>"
      ],
      "text/plain": [
       "| 428       | 10582.449365 | 0.433421      |"
      ]
     },
     "metadata": {},
     "output_type": "display_data"
    },
    {
     "data": {
      "text/html": [
       "<pre>| 429       | 10606.667151 | 0.433395      |</pre>"
      ],
      "text/plain": [
       "| 429       | 10606.667151 | 0.433395      |"
      ]
     },
     "metadata": {},
     "output_type": "display_data"
    },
    {
     "data": {
      "text/html": [
       "<pre>| 430       | 10630.535071 | 0.433357      |</pre>"
      ],
      "text/plain": [
       "| 430       | 10630.535071 | 0.433357      |"
      ]
     },
     "metadata": {},
     "output_type": "display_data"
    },
    {
     "data": {
      "text/html": [
       "<pre>| 431       | 10655.073419 | 0.433345      |</pre>"
      ],
      "text/plain": [
       "| 431       | 10655.073419 | 0.433345      |"
      ]
     },
     "metadata": {},
     "output_type": "display_data"
    },
    {
     "data": {
      "text/html": [
       "<pre>| 432       | 10679.414523 | 0.433314      |</pre>"
      ],
      "text/plain": [
       "| 432       | 10679.414523 | 0.433314      |"
      ]
     },
     "metadata": {},
     "output_type": "display_data"
    },
    {
     "data": {
      "text/html": [
       "<pre>| 433       | 10706.101091 | 0.433268      |</pre>"
      ],
      "text/plain": [
       "| 433       | 10706.101091 | 0.433268      |"
      ]
     },
     "metadata": {},
     "output_type": "display_data"
    },
    {
     "data": {
      "text/html": [
       "<pre>| 434       | 10731.072044 | 0.433227      |</pre>"
      ],
      "text/plain": [
       "| 434       | 10731.072044 | 0.433227      |"
      ]
     },
     "metadata": {},
     "output_type": "display_data"
    },
    {
     "data": {
      "text/html": [
       "<pre>| 435       | 10756.331542 | 0.433195      |</pre>"
      ],
      "text/plain": [
       "| 435       | 10756.331542 | 0.433195      |"
      ]
     },
     "metadata": {},
     "output_type": "display_data"
    },
    {
     "data": {
      "text/html": [
       "<pre>| 436       | 10782.571136 | 0.433174      |</pre>"
      ],
      "text/plain": [
       "| 436       | 10782.571136 | 0.433174      |"
      ]
     },
     "metadata": {},
     "output_type": "display_data"
    },
    {
     "data": {
      "text/html": [
       "<pre>| 437       | 10805.949721 | 0.433138      |</pre>"
      ],
      "text/plain": [
       "| 437       | 10805.949721 | 0.433138      |"
      ]
     },
     "metadata": {},
     "output_type": "display_data"
    },
    {
     "data": {
      "text/html": [
       "<pre>| 438       | 10829.732219 | 0.433113      |</pre>"
      ],
      "text/plain": [
       "| 438       | 10829.732219 | 0.433113      |"
      ]
     },
     "metadata": {},
     "output_type": "display_data"
    },
    {
     "data": {
      "text/html": [
       "<pre>| 439       | 10854.678225 | 0.433089      |</pre>"
      ],
      "text/plain": [
       "| 439       | 10854.678225 | 0.433089      |"
      ]
     },
     "metadata": {},
     "output_type": "display_data"
    },
    {
     "data": {
      "text/html": [
       "<pre>| 440       | 10880.986655 | 0.433062      |</pre>"
      ],
      "text/plain": [
       "| 440       | 10880.986655 | 0.433062      |"
      ]
     },
     "metadata": {},
     "output_type": "display_data"
    },
    {
     "data": {
      "text/html": [
       "<pre>| 441       | 10903.895211 | 0.433042      |</pre>"
      ],
      "text/plain": [
       "| 441       | 10903.895211 | 0.433042      |"
      ]
     },
     "metadata": {},
     "output_type": "display_data"
    },
    {
     "data": {
      "text/html": [
       "<pre>| 442       | 10929.167913 | 0.433008      |</pre>"
      ],
      "text/plain": [
       "| 442       | 10929.167913 | 0.433008      |"
      ]
     },
     "metadata": {},
     "output_type": "display_data"
    },
    {
     "data": {
      "text/html": [
       "<pre>| 443       | 10954.516275 | 0.432979      |</pre>"
      ],
      "text/plain": [
       "| 443       | 10954.516275 | 0.432979      |"
      ]
     },
     "metadata": {},
     "output_type": "display_data"
    },
    {
     "data": {
      "text/html": [
       "<pre>| 444       | 10977.694957 | 0.432962      |</pre>"
      ],
      "text/plain": [
       "| 444       | 10977.694957 | 0.432962      |"
      ]
     },
     "metadata": {},
     "output_type": "display_data"
    },
    {
     "data": {
      "text/html": [
       "<pre>| 445       | 11002.818634 | 0.432936      |</pre>"
      ],
      "text/plain": [
       "| 445       | 11002.818634 | 0.432936      |"
      ]
     },
     "metadata": {},
     "output_type": "display_data"
    },
    {
     "data": {
      "text/html": [
       "<pre>| 446       | 11028.254210 | 0.432896      |</pre>"
      ],
      "text/plain": [
       "| 446       | 11028.254210 | 0.432896      |"
      ]
     },
     "metadata": {},
     "output_type": "display_data"
    },
    {
     "data": {
      "text/html": [
       "<pre>| 447       | 11053.532034 | 0.432861      |</pre>"
      ],
      "text/plain": [
       "| 447       | 11053.532034 | 0.432861      |"
      ]
     },
     "metadata": {},
     "output_type": "display_data"
    },
    {
     "data": {
      "text/html": [
       "<pre>| 448       | 11077.367192 | 0.432851      |</pre>"
      ],
      "text/plain": [
       "| 448       | 11077.367192 | 0.432851      |"
      ]
     },
     "metadata": {},
     "output_type": "display_data"
    },
    {
     "data": {
      "text/html": [
       "<pre>| 449       | 11101.048325 | 0.432819      |</pre>"
      ],
      "text/plain": [
       "| 449       | 11101.048325 | 0.432819      |"
      ]
     },
     "metadata": {},
     "output_type": "display_data"
    },
    {
     "data": {
      "text/html": [
       "<pre>| 450       | 11126.319209 | 0.432794      |</pre>"
      ],
      "text/plain": [
       "| 450       | 11126.319209 | 0.432794      |"
      ]
     },
     "metadata": {},
     "output_type": "display_data"
    },
    {
     "data": {
      "text/html": [
       "<pre>| 451       | 11150.293154 | 0.432787      |</pre>"
      ],
      "text/plain": [
       "| 451       | 11150.293154 | 0.432787      |"
      ]
     },
     "metadata": {},
     "output_type": "display_data"
    },
    {
     "data": {
      "text/html": [
       "<pre>| 452       | 11173.801097 | 0.432765      |</pre>"
      ],
      "text/plain": [
       "| 452       | 11173.801097 | 0.432765      |"
      ]
     },
     "metadata": {},
     "output_type": "display_data"
    },
    {
     "data": {
      "text/html": [
       "<pre>| 453       | 11197.775703 | 0.432745      |</pre>"
      ],
      "text/plain": [
       "| 453       | 11197.775703 | 0.432745      |"
      ]
     },
     "metadata": {},
     "output_type": "display_data"
    },
    {
     "data": {
      "text/html": [
       "<pre>| 454       | 11220.889113 | 0.432714      |</pre>"
      ],
      "text/plain": [
       "| 454       | 11220.889113 | 0.432714      |"
      ]
     },
     "metadata": {},
     "output_type": "display_data"
    },
    {
     "data": {
      "text/html": [
       "<pre>| 455       | 11246.898199 | 0.432687      |</pre>"
      ],
      "text/plain": [
       "| 455       | 11246.898199 | 0.432687      |"
      ]
     },
     "metadata": {},
     "output_type": "display_data"
    },
    {
     "data": {
      "text/html": [
       "<pre>| 456       | 11272.868944 | 0.432677      |</pre>"
      ],
      "text/plain": [
       "| 456       | 11272.868944 | 0.432677      |"
      ]
     },
     "metadata": {},
     "output_type": "display_data"
    },
    {
     "data": {
      "text/html": [
       "<pre>| 457       | 11299.019238 | 0.432648      |</pre>"
      ],
      "text/plain": [
       "| 457       | 11299.019238 | 0.432648      |"
      ]
     },
     "metadata": {},
     "output_type": "display_data"
    },
    {
     "data": {
      "text/html": [
       "<pre>| 458       | 11323.310047 | 0.432632      |</pre>"
      ],
      "text/plain": [
       "| 458       | 11323.310047 | 0.432632      |"
      ]
     },
     "metadata": {},
     "output_type": "display_data"
    },
    {
     "data": {
      "text/html": [
       "<pre>| 459       | 11347.606792 | 0.432622      |</pre>"
      ],
      "text/plain": [
       "| 459       | 11347.606792 | 0.432622      |"
      ]
     },
     "metadata": {},
     "output_type": "display_data"
    },
    {
     "data": {
      "text/html": [
       "<pre>| 460       | 11370.391715 | 0.432595      |</pre>"
      ],
      "text/plain": [
       "| 460       | 11370.391715 | 0.432595      |"
      ]
     },
     "metadata": {},
     "output_type": "display_data"
    },
    {
     "data": {
      "text/html": [
       "<pre>| 461       | 11395.038909 | 0.432572      |</pre>"
      ],
      "text/plain": [
       "| 461       | 11395.038909 | 0.432572      |"
      ]
     },
     "metadata": {},
     "output_type": "display_data"
    },
    {
     "data": {
      "text/html": [
       "<pre>| 462       | 11419.719713 | 0.432547      |</pre>"
      ],
      "text/plain": [
       "| 462       | 11419.719713 | 0.432547      |"
      ]
     },
     "metadata": {},
     "output_type": "display_data"
    },
    {
     "data": {
      "text/html": [
       "<pre>| 463       | 11443.324298 | 0.432528      |</pre>"
      ],
      "text/plain": [
       "| 463       | 11443.324298 | 0.432528      |"
      ]
     },
     "metadata": {},
     "output_type": "display_data"
    },
    {
     "data": {
      "text/html": [
       "<pre>| 464       | 11467.982842 | 0.432513      |</pre>"
      ],
      "text/plain": [
       "| 464       | 11467.982842 | 0.432513      |"
      ]
     },
     "metadata": {},
     "output_type": "display_data"
    },
    {
     "data": {
      "text/html": [
       "<pre>| 465       | 11490.623010 | 0.432506      |</pre>"
      ],
      "text/plain": [
       "| 465       | 11490.623010 | 0.432506      |"
      ]
     },
     "metadata": {},
     "output_type": "display_data"
    },
    {
     "data": {
      "text/html": [
       "<pre>| 466       | 11516.202602 | 0.432480      |</pre>"
      ],
      "text/plain": [
       "| 466       | 11516.202602 | 0.432480      |"
      ]
     },
     "metadata": {},
     "output_type": "display_data"
    },
    {
     "data": {
      "text/html": [
       "<pre>| 467       | 11540.816348 | 0.432463      |</pre>"
      ],
      "text/plain": [
       "| 467       | 11540.816348 | 0.432463      |"
      ]
     },
     "metadata": {},
     "output_type": "display_data"
    },
    {
     "data": {
      "text/html": [
       "<pre>| 468       | 11565.798164 | 0.432436      |</pre>"
      ],
      "text/plain": [
       "| 468       | 11565.798164 | 0.432436      |"
      ]
     },
     "metadata": {},
     "output_type": "display_data"
    },
    {
     "data": {
      "text/html": [
       "<pre>| 469       | 11590.331422 | 0.432393      |</pre>"
      ],
      "text/plain": [
       "| 469       | 11590.331422 | 0.432393      |"
      ]
     },
     "metadata": {},
     "output_type": "display_data"
    },
    {
     "data": {
      "text/html": [
       "<pre>| 470       | 11615.936802 | 0.432366      |</pre>"
      ],
      "text/plain": [
       "| 470       | 11615.936802 | 0.432366      |"
      ]
     },
     "metadata": {},
     "output_type": "display_data"
    },
    {
     "data": {
      "text/html": [
       "<pre>| 471       | 11640.116714 | 0.432345      |</pre>"
      ],
      "text/plain": [
       "| 471       | 11640.116714 | 0.432345      |"
      ]
     },
     "metadata": {},
     "output_type": "display_data"
    },
    {
     "data": {
      "text/html": [
       "<pre>| 472       | 11663.804591 | 0.432312      |</pre>"
      ],
      "text/plain": [
       "| 472       | 11663.804591 | 0.432312      |"
      ]
     },
     "metadata": {},
     "output_type": "display_data"
    },
    {
     "data": {
      "text/html": [
       "<pre>| 473       | 11687.517602 | 0.432279      |</pre>"
      ],
      "text/plain": [
       "| 473       | 11687.517602 | 0.432279      |"
      ]
     },
     "metadata": {},
     "output_type": "display_data"
    },
    {
     "data": {
      "text/html": [
       "<pre>| 474       | 11713.120887 | 0.432255      |</pre>"
      ],
      "text/plain": [
       "| 474       | 11713.120887 | 0.432255      |"
      ]
     },
     "metadata": {},
     "output_type": "display_data"
    },
    {
     "data": {
      "text/html": [
       "<pre>| 475       | 11738.265880 | 0.432235      |</pre>"
      ],
      "text/plain": [
       "| 475       | 11738.265880 | 0.432235      |"
      ]
     },
     "metadata": {},
     "output_type": "display_data"
    },
    {
     "data": {
      "text/html": [
       "<pre>| 476       | 11762.253597 | 0.432217      |</pre>"
      ],
      "text/plain": [
       "| 476       | 11762.253597 | 0.432217      |"
      ]
     },
     "metadata": {},
     "output_type": "display_data"
    },
    {
     "data": {
      "text/html": [
       "<pre>| 477       | 11787.946629 | 0.432191      |</pre>"
      ],
      "text/plain": [
       "| 477       | 11787.946629 | 0.432191      |"
      ]
     },
     "metadata": {},
     "output_type": "display_data"
    },
    {
     "data": {
      "text/html": [
       "<pre>| 478       | 11812.966574 | 0.432155      |</pre>"
      ],
      "text/plain": [
       "| 478       | 11812.966574 | 0.432155      |"
      ]
     },
     "metadata": {},
     "output_type": "display_data"
    },
    {
     "data": {
      "text/html": [
       "<pre>| 479       | 11839.281833 | 0.432134      |</pre>"
      ],
      "text/plain": [
       "| 479       | 11839.281833 | 0.432134      |"
      ]
     },
     "metadata": {},
     "output_type": "display_data"
    },
    {
     "data": {
      "text/html": [
       "<pre>| 480       | 11863.440443 | 0.432115      |</pre>"
      ],
      "text/plain": [
       "| 480       | 11863.440443 | 0.432115      |"
      ]
     },
     "metadata": {},
     "output_type": "display_data"
    },
    {
     "data": {
      "text/html": [
       "<pre>| 481       | 11890.025146 | 0.432088      |</pre>"
      ],
      "text/plain": [
       "| 481       | 11890.025146 | 0.432088      |"
      ]
     },
     "metadata": {},
     "output_type": "display_data"
    },
    {
     "data": {
      "text/html": [
       "<pre>| 482       | 11915.260813 | 0.432062      |</pre>"
      ],
      "text/plain": [
       "| 482       | 11915.260813 | 0.432062      |"
      ]
     },
     "metadata": {},
     "output_type": "display_data"
    },
    {
     "data": {
      "text/html": [
       "<pre>| 483       | 11938.735786 | 0.432029      |</pre>"
      ],
      "text/plain": [
       "| 483       | 11938.735786 | 0.432029      |"
      ]
     },
     "metadata": {},
     "output_type": "display_data"
    },
    {
     "data": {
      "text/html": [
       "<pre>| 484       | 11963.926988 | 0.432005      |</pre>"
      ],
      "text/plain": [
       "| 484       | 11963.926988 | 0.432005      |"
      ]
     },
     "metadata": {},
     "output_type": "display_data"
    },
    {
     "data": {
      "text/html": [
       "<pre>| 485       | 11987.811502 | 0.431994      |</pre>"
      ],
      "text/plain": [
       "| 485       | 11987.811502 | 0.431994      |"
      ]
     },
     "metadata": {},
     "output_type": "display_data"
    },
    {
     "data": {
      "text/html": [
       "<pre>| 486       | 12013.276724 | 0.431959      |</pre>"
      ],
      "text/plain": [
       "| 486       | 12013.276724 | 0.431959      |"
      ]
     },
     "metadata": {},
     "output_type": "display_data"
    },
    {
     "data": {
      "text/html": [
       "<pre>| 487       | 12036.889904 | 0.431943      |</pre>"
      ],
      "text/plain": [
       "| 487       | 12036.889904 | 0.431943      |"
      ]
     },
     "metadata": {},
     "output_type": "display_data"
    },
    {
     "data": {
      "text/html": [
       "<pre>| 488       | 12063.250662 | 0.431919      |</pre>"
      ],
      "text/plain": [
       "| 488       | 12063.250662 | 0.431919      |"
      ]
     },
     "metadata": {},
     "output_type": "display_data"
    },
    {
     "data": {
      "text/html": [
       "<pre>| 489       | 12086.140335 | 0.431898      |</pre>"
      ],
      "text/plain": [
       "| 489       | 12086.140335 | 0.431898      |"
      ]
     },
     "metadata": {},
     "output_type": "display_data"
    },
    {
     "data": {
      "text/html": [
       "<pre>| 490       | 12111.032264 | 0.431863      |</pre>"
      ],
      "text/plain": [
       "| 490       | 12111.032264 | 0.431863      |"
      ]
     },
     "metadata": {},
     "output_type": "display_data"
    },
    {
     "data": {
      "text/html": [
       "<pre>| 491       | 12136.961625 | 0.431840      |</pre>"
      ],
      "text/plain": [
       "| 491       | 12136.961625 | 0.431840      |"
      ]
     },
     "metadata": {},
     "output_type": "display_data"
    },
    {
     "data": {
      "text/html": [
       "<pre>| 492       | 12162.772494 | 0.431810      |</pre>"
      ],
      "text/plain": [
       "| 492       | 12162.772494 | 0.431810      |"
      ]
     },
     "metadata": {},
     "output_type": "display_data"
    },
    {
     "data": {
      "text/html": [
       "<pre>| 493       | 12185.889882 | 0.431786      |</pre>"
      ],
      "text/plain": [
       "| 493       | 12185.889882 | 0.431786      |"
      ]
     },
     "metadata": {},
     "output_type": "display_data"
    },
    {
     "data": {
      "text/html": [
       "<pre>| 494       | 12210.880039 | 0.431765      |</pre>"
      ],
      "text/plain": [
       "| 494       | 12210.880039 | 0.431765      |"
      ]
     },
     "metadata": {},
     "output_type": "display_data"
    },
    {
     "data": {
      "text/html": [
       "<pre>| 495       | 12235.825322 | 0.431736      |</pre>"
      ],
      "text/plain": [
       "| 495       | 12235.825322 | 0.431736      |"
      ]
     },
     "metadata": {},
     "output_type": "display_data"
    },
    {
     "data": {
      "text/html": [
       "<pre>| 496       | 12259.611869 | 0.431691      |</pre>"
      ],
      "text/plain": [
       "| 496       | 12259.611869 | 0.431691      |"
      ]
     },
     "metadata": {},
     "output_type": "display_data"
    },
    {
     "data": {
      "text/html": [
       "<pre>| 497       | 12283.881369 | 0.431663      |</pre>"
      ],
      "text/plain": [
       "| 497       | 12283.881369 | 0.431663      |"
      ]
     },
     "metadata": {},
     "output_type": "display_data"
    },
    {
     "data": {
      "text/html": [
       "<pre>| 498       | 12309.176271 | 0.431641      |</pre>"
      ],
      "text/plain": [
       "| 498       | 12309.176271 | 0.431641      |"
      ]
     },
     "metadata": {},
     "output_type": "display_data"
    },
    {
     "data": {
      "text/html": [
       "<pre>| 499       | 12333.091819 | 0.431630      |</pre>"
      ],
      "text/plain": [
       "| 499       | 12333.091819 | 0.431630      |"
      ]
     },
     "metadata": {},
     "output_type": "display_data"
    },
    {
     "data": {
      "text/html": [
       "<pre>| 500       | 12358.824954 | 0.431608      |</pre>"
      ],
      "text/plain": [
       "| 500       | 12358.824954 | 0.431608      |"
      ]
     },
     "metadata": {},
     "output_type": "display_data"
    },
    {
     "data": {
      "text/html": [
       "<pre>| 501       | 12383.853154 | 0.431587      |</pre>"
      ],
      "text/plain": [
       "| 501       | 12383.853154 | 0.431587      |"
      ]
     },
     "metadata": {},
     "output_type": "display_data"
    },
    {
     "data": {
      "text/html": [
       "<pre>| 502       | 12407.953072 | 0.431575      |</pre>"
      ],
      "text/plain": [
       "| 502       | 12407.953072 | 0.431575      |"
      ]
     },
     "metadata": {},
     "output_type": "display_data"
    },
    {
     "data": {
      "text/html": [
       "<pre>| 503       | 12432.649549 | 0.431554      |</pre>"
      ],
      "text/plain": [
       "| 503       | 12432.649549 | 0.431554      |"
      ]
     },
     "metadata": {},
     "output_type": "display_data"
    },
    {
     "data": {
      "text/html": [
       "<pre>| 504       | 12455.792952 | 0.431531      |</pre>"
      ],
      "text/plain": [
       "| 504       | 12455.792952 | 0.431531      |"
      ]
     },
     "metadata": {},
     "output_type": "display_data"
    },
    {
     "data": {
      "text/html": [
       "<pre>| 505       | 12479.459239 | 0.431497      |</pre>"
      ],
      "text/plain": [
       "| 505       | 12479.459239 | 0.431497      |"
      ]
     },
     "metadata": {},
     "output_type": "display_data"
    },
    {
     "data": {
      "text/html": [
       "<pre>| 506       | 12502.477957 | 0.431477      |</pre>"
      ],
      "text/plain": [
       "| 506       | 12502.477957 | 0.431477      |"
      ]
     },
     "metadata": {},
     "output_type": "display_data"
    },
    {
     "data": {
      "text/html": [
       "<pre>| 507       | 12526.079480 | 0.431466      |</pre>"
      ],
      "text/plain": [
       "| 507       | 12526.079480 | 0.431466      |"
      ]
     },
     "metadata": {},
     "output_type": "display_data"
    },
    {
     "data": {
      "text/html": [
       "<pre>| 508       | 12549.812595 | 0.431463      |</pre>"
      ],
      "text/plain": [
       "| 508       | 12549.812595 | 0.431463      |"
      ]
     },
     "metadata": {},
     "output_type": "display_data"
    },
    {
     "data": {
      "text/html": [
       "<pre>| 509       | 12574.531282 | 0.431446      |</pre>"
      ],
      "text/plain": [
       "| 509       | 12574.531282 | 0.431446      |"
      ]
     },
     "metadata": {},
     "output_type": "display_data"
    },
    {
     "data": {
      "text/html": [
       "<pre>| 510       | 12598.810471 | 0.431432      |</pre>"
      ],
      "text/plain": [
       "| 510       | 12598.810471 | 0.431432      |"
      ]
     },
     "metadata": {},
     "output_type": "display_data"
    },
    {
     "data": {
      "text/html": [
       "<pre>| 511       | 12623.926434 | 0.431416      |</pre>"
      ],
      "text/plain": [
       "| 511       | 12623.926434 | 0.431416      |"
      ]
     },
     "metadata": {},
     "output_type": "display_data"
    },
    {
     "data": {
      "text/html": [
       "<pre>| 512       | 12647.872072 | 0.431399      |</pre>"
      ],
      "text/plain": [
       "| 512       | 12647.872072 | 0.431399      |"
      ]
     },
     "metadata": {},
     "output_type": "display_data"
    },
    {
     "data": {
      "text/html": [
       "<pre>| 513       | 12672.334185 | 0.431382      |</pre>"
      ],
      "text/plain": [
       "| 513       | 12672.334185 | 0.431382      |"
      ]
     },
     "metadata": {},
     "output_type": "display_data"
    },
    {
     "data": {
      "text/html": [
       "<pre>| 514       | 12697.658091 | 0.431358      |</pre>"
      ],
      "text/plain": [
       "| 514       | 12697.658091 | 0.431358      |"
      ]
     },
     "metadata": {},
     "output_type": "display_data"
    },
    {
     "data": {
      "text/html": [
       "<pre>| 515       | 12722.804662 | 0.431339      |</pre>"
      ],
      "text/plain": [
       "| 515       | 12722.804662 | 0.431339      |"
      ]
     },
     "metadata": {},
     "output_type": "display_data"
    },
    {
     "data": {
      "text/html": [
       "<pre>| 516       | 12747.280813 | 0.431324      |</pre>"
      ],
      "text/plain": [
       "| 516       | 12747.280813 | 0.431324      |"
      ]
     },
     "metadata": {},
     "output_type": "display_data"
    },
    {
     "data": {
      "text/html": [
       "<pre>| 517       | 12770.792668 | 0.431296      |</pre>"
      ],
      "text/plain": [
       "| 517       | 12770.792668 | 0.431296      |"
      ]
     },
     "metadata": {},
     "output_type": "display_data"
    },
    {
     "data": {
      "text/html": [
       "<pre>| 518       | 12793.815759 | 0.431283      |</pre>"
      ],
      "text/plain": [
       "| 518       | 12793.815759 | 0.431283      |"
      ]
     },
     "metadata": {},
     "output_type": "display_data"
    },
    {
     "data": {
      "text/html": [
       "<pre>| 519       | 12818.082097 | 0.431262      |</pre>"
      ],
      "text/plain": [
       "| 519       | 12818.082097 | 0.431262      |"
      ]
     },
     "metadata": {},
     "output_type": "display_data"
    },
    {
     "data": {
      "text/html": [
       "<pre>| 520       | 12842.998259 | 0.431242      |</pre>"
      ],
      "text/plain": [
       "| 520       | 12842.998259 | 0.431242      |"
      ]
     },
     "metadata": {},
     "output_type": "display_data"
    },
    {
     "data": {
      "text/html": [
       "<pre>| 521       | 12867.565563 | 0.431223      |</pre>"
      ],
      "text/plain": [
       "| 521       | 12867.565563 | 0.431223      |"
      ]
     },
     "metadata": {},
     "output_type": "display_data"
    },
    {
     "data": {
      "text/html": [
       "<pre>| 522       | 12893.498600 | 0.431192      |</pre>"
      ],
      "text/plain": [
       "| 522       | 12893.498600 | 0.431192      |"
      ]
     },
     "metadata": {},
     "output_type": "display_data"
    },
    {
     "data": {
      "text/html": [
       "<pre>| 523       | 12919.173097 | 0.431159      |</pre>"
      ],
      "text/plain": [
       "| 523       | 12919.173097 | 0.431159      |"
      ]
     },
     "metadata": {},
     "output_type": "display_data"
    },
    {
     "data": {
      "text/html": [
       "<pre>| 524       | 12942.226678 | 0.431152      |</pre>"
      ],
      "text/plain": [
       "| 524       | 12942.226678 | 0.431152      |"
      ]
     },
     "metadata": {},
     "output_type": "display_data"
    },
    {
     "data": {
      "text/html": [
       "<pre>| 525       | 12965.428557 | 0.431137      |</pre>"
      ],
      "text/plain": [
       "| 525       | 12965.428557 | 0.431137      |"
      ]
     },
     "metadata": {},
     "output_type": "display_data"
    },
    {
     "data": {
      "text/html": [
       "<pre>| 526       | 12992.011326 | 0.431117      |</pre>"
      ],
      "text/plain": [
       "| 526       | 12992.011326 | 0.431117      |"
      ]
     },
     "metadata": {},
     "output_type": "display_data"
    },
    {
     "data": {
      "text/html": [
       "<pre>| 527       | 13016.751708 | 0.431093      |</pre>"
      ],
      "text/plain": [
       "| 527       | 13016.751708 | 0.431093      |"
      ]
     },
     "metadata": {},
     "output_type": "display_data"
    },
    {
     "data": {
      "text/html": [
       "<pre>| 528       | 13042.641605 | 0.431075      |</pre>"
      ],
      "text/plain": [
       "| 528       | 13042.641605 | 0.431075      |"
      ]
     },
     "metadata": {},
     "output_type": "display_data"
    },
    {
     "data": {
      "text/html": [
       "<pre>| 529       | 13067.339517 | 0.431066      |</pre>"
      ],
      "text/plain": [
       "| 529       | 13067.339517 | 0.431066      |"
      ]
     },
     "metadata": {},
     "output_type": "display_data"
    },
    {
     "data": {
      "text/html": [
       "<pre>| 530       | 13091.345429 | 0.431044      |</pre>"
      ],
      "text/plain": [
       "| 530       | 13091.345429 | 0.431044      |"
      ]
     },
     "metadata": {},
     "output_type": "display_data"
    },
    {
     "data": {
      "text/html": [
       "<pre>| 531       | 13115.181559 | 0.431002      |</pre>"
      ],
      "text/plain": [
       "| 531       | 13115.181559 | 0.431002      |"
      ]
     },
     "metadata": {},
     "output_type": "display_data"
    },
    {
     "data": {
      "text/html": [
       "<pre>| 532       | 13140.270717 | 0.430976      |</pre>"
      ],
      "text/plain": [
       "| 532       | 13140.270717 | 0.430976      |"
      ]
     },
     "metadata": {},
     "output_type": "display_data"
    },
    {
     "data": {
      "text/html": [
       "<pre>| 533       | 13165.858231 | 0.430943      |</pre>"
      ],
      "text/plain": [
       "| 533       | 13165.858231 | 0.430943      |"
      ]
     },
     "metadata": {},
     "output_type": "display_data"
    },
    {
     "data": {
      "text/html": [
       "<pre>| 534       | 13189.749760 | 0.430923      |</pre>"
      ],
      "text/plain": [
       "| 534       | 13189.749760 | 0.430923      |"
      ]
     },
     "metadata": {},
     "output_type": "display_data"
    },
    {
     "data": {
      "text/html": [
       "<pre>| 535       | 13213.556680 | 0.430914      |</pre>"
      ],
      "text/plain": [
       "| 535       | 13213.556680 | 0.430914      |"
      ]
     },
     "metadata": {},
     "output_type": "display_data"
    },
    {
     "data": {
      "text/html": [
       "<pre>| 536       | 13237.880601 | 0.430878      |</pre>"
      ],
      "text/plain": [
       "| 536       | 13237.880601 | 0.430878      |"
      ]
     },
     "metadata": {},
     "output_type": "display_data"
    },
    {
     "data": {
      "text/html": [
       "<pre>| 537       | 13262.710259 | 0.430863      |</pre>"
      ],
      "text/plain": [
       "| 537       | 13262.710259 | 0.430863      |"
      ]
     },
     "metadata": {},
     "output_type": "display_data"
    },
    {
     "data": {
      "text/html": [
       "<pre>| 538       | 13287.333752 | 0.430843      |</pre>"
      ],
      "text/plain": [
       "| 538       | 13287.333752 | 0.430843      |"
      ]
     },
     "metadata": {},
     "output_type": "display_data"
    },
    {
     "data": {
      "text/html": [
       "<pre>| 539       | 13310.960371 | 0.430819      |</pre>"
      ],
      "text/plain": [
       "| 539       | 13310.960371 | 0.430819      |"
      ]
     },
     "metadata": {},
     "output_type": "display_data"
    },
    {
     "data": {
      "text/html": [
       "<pre>| 540       | 13335.783197 | 0.430799      |</pre>"
      ],
      "text/plain": [
       "| 540       | 13335.783197 | 0.430799      |"
      ]
     },
     "metadata": {},
     "output_type": "display_data"
    },
    {
     "data": {
      "text/html": [
       "<pre>| 541       | 13361.850437 | 0.430785      |</pre>"
      ],
      "text/plain": [
       "| 541       | 13361.850437 | 0.430785      |"
      ]
     },
     "metadata": {},
     "output_type": "display_data"
    },
    {
     "data": {
      "text/html": [
       "<pre>| 542       | 13385.796750 | 0.430766      |</pre>"
      ],
      "text/plain": [
       "| 542       | 13385.796750 | 0.430766      |"
      ]
     },
     "metadata": {},
     "output_type": "display_data"
    },
    {
     "data": {
      "text/html": [
       "<pre>| 543       | 13410.295598 | 0.430743      |</pre>"
      ],
      "text/plain": [
       "| 543       | 13410.295598 | 0.430743      |"
      ]
     },
     "metadata": {},
     "output_type": "display_data"
    },
    {
     "data": {
      "text/html": [
       "<pre>| 544       | 13436.521332 | 0.430733      |</pre>"
      ],
      "text/plain": [
       "| 544       | 13436.521332 | 0.430733      |"
      ]
     },
     "metadata": {},
     "output_type": "display_data"
    },
    {
     "data": {
      "text/html": [
       "<pre>| 545       | 13462.162012 | 0.430695      |</pre>"
      ],
      "text/plain": [
       "| 545       | 13462.162012 | 0.430695      |"
      ]
     },
     "metadata": {},
     "output_type": "display_data"
    },
    {
     "data": {
      "text/html": [
       "<pre>| 546       | 13487.223441 | 0.430681      |</pre>"
      ],
      "text/plain": [
       "| 546       | 13487.223441 | 0.430681      |"
      ]
     },
     "metadata": {},
     "output_type": "display_data"
    },
    {
     "data": {
      "text/html": [
       "<pre>| 547       | 13511.288456 | 0.430653      |</pre>"
      ],
      "text/plain": [
       "| 547       | 13511.288456 | 0.430653      |"
      ]
     },
     "metadata": {},
     "output_type": "display_data"
    },
    {
     "data": {
      "text/html": [
       "<pre>| 548       | 13536.083374 | 0.430628      |</pre>"
      ],
      "text/plain": [
       "| 548       | 13536.083374 | 0.430628      |"
      ]
     },
     "metadata": {},
     "output_type": "display_data"
    },
    {
     "data": {
      "text/html": [
       "<pre>| 549       | 13560.918218 | 0.430599      |</pre>"
      ],
      "text/plain": [
       "| 549       | 13560.918218 | 0.430599      |"
      ]
     },
     "metadata": {},
     "output_type": "display_data"
    },
    {
     "data": {
      "text/html": [
       "<pre>| 550       | 13585.802739 | 0.430573      |</pre>"
      ],
      "text/plain": [
       "| 550       | 13585.802739 | 0.430573      |"
      ]
     },
     "metadata": {},
     "output_type": "display_data"
    },
    {
     "data": {
      "text/html": [
       "<pre>| 551       | 13611.985581 | 0.430557      |</pre>"
      ],
      "text/plain": [
       "| 551       | 13611.985581 | 0.430557      |"
      ]
     },
     "metadata": {},
     "output_type": "display_data"
    },
    {
     "data": {
      "text/html": [
       "<pre>| 552       | 13636.810283 | 0.430527      |</pre>"
      ],
      "text/plain": [
       "| 552       | 13636.810283 | 0.430527      |"
      ]
     },
     "metadata": {},
     "output_type": "display_data"
    },
    {
     "data": {
      "text/html": [
       "<pre>| 553       | 13662.195342 | 0.430497      |</pre>"
      ],
      "text/plain": [
       "| 553       | 13662.195342 | 0.430497      |"
      ]
     },
     "metadata": {},
     "output_type": "display_data"
    },
    {
     "data": {
      "text/html": [
       "<pre>| 554       | 13687.804094 | 0.430468      |</pre>"
      ],
      "text/plain": [
       "| 554       | 13687.804094 | 0.430468      |"
      ]
     },
     "metadata": {},
     "output_type": "display_data"
    },
    {
     "data": {
      "text/html": [
       "<pre>| 555       | 13713.682299 | 0.430439      |</pre>"
      ],
      "text/plain": [
       "| 555       | 13713.682299 | 0.430439      |"
      ]
     },
     "metadata": {},
     "output_type": "display_data"
    },
    {
     "data": {
      "text/html": [
       "<pre>| 556       | 13738.187670 | 0.430417      |</pre>"
      ],
      "text/plain": [
       "| 556       | 13738.187670 | 0.430417      |"
      ]
     },
     "metadata": {},
     "output_type": "display_data"
    },
    {
     "data": {
      "text/html": [
       "<pre>| 557       | 13762.730245 | 0.430389      |</pre>"
      ],
      "text/plain": [
       "| 557       | 13762.730245 | 0.430389      |"
      ]
     },
     "metadata": {},
     "output_type": "display_data"
    },
    {
     "data": {
      "text/html": [
       "<pre>| 558       | 13786.582145 | 0.430359      |</pre>"
      ],
      "text/plain": [
       "| 558       | 13786.582145 | 0.430359      |"
      ]
     },
     "metadata": {},
     "output_type": "display_data"
    },
    {
     "data": {
      "text/html": [
       "<pre>| 559       | 13812.872479 | 0.430330      |</pre>"
      ],
      "text/plain": [
       "| 559       | 13812.872479 | 0.430330      |"
      ]
     },
     "metadata": {},
     "output_type": "display_data"
    },
    {
     "data": {
      "text/html": [
       "<pre>| 560       | 13837.833183 | 0.430316      |</pre>"
      ],
      "text/plain": [
       "| 560       | 13837.833183 | 0.430316      |"
      ]
     },
     "metadata": {},
     "output_type": "display_data"
    },
    {
     "data": {
      "text/html": [
       "<pre>| 561       | 13862.849729 | 0.430296      |</pre>"
      ],
      "text/plain": [
       "| 561       | 13862.849729 | 0.430296      |"
      ]
     },
     "metadata": {},
     "output_type": "display_data"
    },
    {
     "data": {
      "text/html": [
       "<pre>| 562       | 13889.206814 | 0.430276      |</pre>"
      ],
      "text/plain": [
       "| 562       | 13889.206814 | 0.430276      |"
      ]
     },
     "metadata": {},
     "output_type": "display_data"
    },
    {
     "data": {
      "text/html": [
       "<pre>| 563       | 13912.689962 | 0.430268      |</pre>"
      ],
      "text/plain": [
       "| 563       | 13912.689962 | 0.430268      |"
      ]
     },
     "metadata": {},
     "output_type": "display_data"
    },
    {
     "data": {
      "text/html": [
       "<pre>| 564       | 13937.222834 | 0.430253      |</pre>"
      ],
      "text/plain": [
       "| 564       | 13937.222834 | 0.430253      |"
      ]
     },
     "metadata": {},
     "output_type": "display_data"
    },
    {
     "data": {
      "text/html": [
       "<pre>| 565       | 13963.556316 | 0.430205      |</pre>"
      ],
      "text/plain": [
       "| 565       | 13963.556316 | 0.430205      |"
      ]
     },
     "metadata": {},
     "output_type": "display_data"
    },
    {
     "data": {
      "text/html": [
       "<pre>| 566       | 13988.665975 | 0.430173      |</pre>"
      ],
      "text/plain": [
       "| 566       | 13988.665975 | 0.430173      |"
      ]
     },
     "metadata": {},
     "output_type": "display_data"
    },
    {
     "data": {
      "text/html": [
       "<pre>| 567       | 14013.803807 | 0.430147      |</pre>"
      ],
      "text/plain": [
       "| 567       | 14013.803807 | 0.430147      |"
      ]
     },
     "metadata": {},
     "output_type": "display_data"
    },
    {
     "data": {
      "text/html": [
       "<pre>| 568       | 14037.460254 | 0.430121      |</pre>"
      ],
      "text/plain": [
       "| 568       | 14037.460254 | 0.430121      |"
      ]
     },
     "metadata": {},
     "output_type": "display_data"
    },
    {
     "data": {
      "text/html": [
       "<pre>| 569       | 14063.730976 | 0.430087      |</pre>"
      ],
      "text/plain": [
       "| 569       | 14063.730976 | 0.430087      |"
      ]
     },
     "metadata": {},
     "output_type": "display_data"
    },
    {
     "data": {
      "text/html": [
       "<pre>| 570       | 14090.295373 | 0.430071      |</pre>"
      ],
      "text/plain": [
       "| 570       | 14090.295373 | 0.430071      |"
      ]
     },
     "metadata": {},
     "output_type": "display_data"
    },
    {
     "data": {
      "text/html": [
       "<pre>| 571       | 14115.918579 | 0.430049      |</pre>"
      ],
      "text/plain": [
       "| 571       | 14115.918579 | 0.430049      |"
      ]
     },
     "metadata": {},
     "output_type": "display_data"
    },
    {
     "data": {
      "text/html": [
       "<pre>| 572       | 14139.182556 | 0.430043      |</pre>"
      ],
      "text/plain": [
       "| 572       | 14139.182556 | 0.430043      |"
      ]
     },
     "metadata": {},
     "output_type": "display_data"
    },
    {
     "data": {
      "text/html": [
       "<pre>| 573       | 14163.779265 | 0.430030      |</pre>"
      ],
      "text/plain": [
       "| 573       | 14163.779265 | 0.430030      |"
      ]
     },
     "metadata": {},
     "output_type": "display_data"
    },
    {
     "data": {
      "text/html": [
       "<pre>| 574       | 14188.874190 | 0.430020      |</pre>"
      ],
      "text/plain": [
       "| 574       | 14188.874190 | 0.430020      |"
      ]
     },
     "metadata": {},
     "output_type": "display_data"
    },
    {
     "data": {
      "text/html": [
       "<pre>| 575       | 14214.795542 | 0.430012      |</pre>"
      ],
      "text/plain": [
       "| 575       | 14214.795542 | 0.430012      |"
      ]
     },
     "metadata": {},
     "output_type": "display_data"
    },
    {
     "data": {
      "text/html": [
       "<pre>| 576       | 14240.299144 | 0.429994      |</pre>"
      ],
      "text/plain": [
       "| 576       | 14240.299144 | 0.429994      |"
      ]
     },
     "metadata": {},
     "output_type": "display_data"
    },
    {
     "data": {
      "text/html": [
       "<pre>| 577       | 14265.200029 | 0.429978      |</pre>"
      ],
      "text/plain": [
       "| 577       | 14265.200029 | 0.429978      |"
      ]
     },
     "metadata": {},
     "output_type": "display_data"
    },
    {
     "data": {
      "text/html": [
       "<pre>| 578       | 14288.630045 | 0.429967      |</pre>"
      ],
      "text/plain": [
       "| 578       | 14288.630045 | 0.429967      |"
      ]
     },
     "metadata": {},
     "output_type": "display_data"
    },
    {
     "data": {
      "text/html": [
       "<pre>| 579       | 14314.201444 | 0.429943      |</pre>"
      ],
      "text/plain": [
       "| 579       | 14314.201444 | 0.429943      |"
      ]
     },
     "metadata": {},
     "output_type": "display_data"
    },
    {
     "data": {
      "text/html": [
       "<pre>| 580       | 14340.087571 | 0.429911      |</pre>"
      ],
      "text/plain": [
       "| 580       | 14340.087571 | 0.429911      |"
      ]
     },
     "metadata": {},
     "output_type": "display_data"
    },
    {
     "data": {
      "text/html": [
       "<pre>| 581       | 14363.277742 | 0.429892      |</pre>"
      ],
      "text/plain": [
       "| 581       | 14363.277742 | 0.429892      |"
      ]
     },
     "metadata": {},
     "output_type": "display_data"
    },
    {
     "data": {
      "text/html": [
       "<pre>| 582       | 14388.078997 | 0.429875      |</pre>"
      ],
      "text/plain": [
       "| 582       | 14388.078997 | 0.429875      |"
      ]
     },
     "metadata": {},
     "output_type": "display_data"
    },
    {
     "data": {
      "text/html": [
       "<pre>| 583       | 14413.598417 | 0.429864      |</pre>"
      ],
      "text/plain": [
       "| 583       | 14413.598417 | 0.429864      |"
      ]
     },
     "metadata": {},
     "output_type": "display_data"
    },
    {
     "data": {
      "text/html": [
       "<pre>| 584       | 14439.748932 | 0.429833      |</pre>"
      ],
      "text/plain": [
       "| 584       | 14439.748932 | 0.429833      |"
      ]
     },
     "metadata": {},
     "output_type": "display_data"
    },
    {
     "data": {
      "text/html": [
       "<pre>| 585       | 14463.010890 | 0.429809      |</pre>"
      ],
      "text/plain": [
       "| 585       | 14463.010890 | 0.429809      |"
      ]
     },
     "metadata": {},
     "output_type": "display_data"
    },
    {
     "data": {
      "text/html": [
       "<pre>| 586       | 14486.759123 | 0.429794      |</pre>"
      ],
      "text/plain": [
       "| 586       | 14486.759123 | 0.429794      |"
      ]
     },
     "metadata": {},
     "output_type": "display_data"
    },
    {
     "data": {
      "text/html": [
       "<pre>| 587       | 14511.300607 | 0.429774      |</pre>"
      ],
      "text/plain": [
       "| 587       | 14511.300607 | 0.429774      |"
      ]
     },
     "metadata": {},
     "output_type": "display_data"
    },
    {
     "data": {
      "text/html": [
       "<pre>| 588       | 14535.910273 | 0.429760      |</pre>"
      ],
      "text/plain": [
       "| 588       | 14535.910273 | 0.429760      |"
      ]
     },
     "metadata": {},
     "output_type": "display_data"
    },
    {
     "data": {
      "text/html": [
       "<pre>| 589       | 14558.925994 | 0.429738      |</pre>"
      ],
      "text/plain": [
       "| 589       | 14558.925994 | 0.429738      |"
      ]
     },
     "metadata": {},
     "output_type": "display_data"
    },
    {
     "data": {
      "text/html": [
       "<pre>| 590       | 14584.687282 | 0.429695      |</pre>"
      ],
      "text/plain": [
       "| 590       | 14584.687282 | 0.429695      |"
      ]
     },
     "metadata": {},
     "output_type": "display_data"
    },
    {
     "data": {
      "text/html": [
       "<pre>| 591       | 14610.200694 | 0.429687      |</pre>"
      ],
      "text/plain": [
       "| 591       | 14610.200694 | 0.429687      |"
      ]
     },
     "metadata": {},
     "output_type": "display_data"
    },
    {
     "data": {
      "text/html": [
       "<pre>| 592       | 14633.297310 | 0.429666      |</pre>"
      ],
      "text/plain": [
       "| 592       | 14633.297310 | 0.429666      |"
      ]
     },
     "metadata": {},
     "output_type": "display_data"
    },
    {
     "data": {
      "text/html": [
       "<pre>| 593       | 14657.686627 | 0.429642      |</pre>"
      ],
      "text/plain": [
       "| 593       | 14657.686627 | 0.429642      |"
      ]
     },
     "metadata": {},
     "output_type": "display_data"
    },
    {
     "data": {
      "text/html": [
       "<pre>| 594       | 14682.102464 | 0.429623      |</pre>"
      ],
      "text/plain": [
       "| 594       | 14682.102464 | 0.429623      |"
      ]
     },
     "metadata": {},
     "output_type": "display_data"
    },
    {
     "data": {
      "text/html": [
       "<pre>| 595       | 14705.808068 | 0.429594      |</pre>"
      ],
      "text/plain": [
       "| 595       | 14705.808068 | 0.429594      |"
      ]
     },
     "metadata": {},
     "output_type": "display_data"
    },
    {
     "data": {
      "text/html": [
       "<pre>| 596       | 14730.791931 | 0.429570      |</pre>"
      ],
      "text/plain": [
       "| 596       | 14730.791931 | 0.429570      |"
      ]
     },
     "metadata": {},
     "output_type": "display_data"
    },
    {
     "data": {
      "text/html": [
       "<pre>| 597       | 14756.974917 | 0.429553      |</pre>"
      ],
      "text/plain": [
       "| 597       | 14756.974917 | 0.429553      |"
      ]
     },
     "metadata": {},
     "output_type": "display_data"
    },
    {
     "data": {
      "text/html": [
       "<pre>| 598       | 14781.535398 | 0.429531      |</pre>"
      ],
      "text/plain": [
       "| 598       | 14781.535398 | 0.429531      |"
      ]
     },
     "metadata": {},
     "output_type": "display_data"
    },
    {
     "data": {
      "text/html": [
       "<pre>| 599       | 14805.935989 | 0.429515      |</pre>"
      ],
      "text/plain": [
       "| 599       | 14805.935989 | 0.429515      |"
      ]
     },
     "metadata": {},
     "output_type": "display_data"
    },
    {
     "data": {
      "text/html": [
       "<pre>| 600       | 14831.879115 | 0.429494      |</pre>"
      ],
      "text/plain": [
       "| 600       | 14831.879115 | 0.429494      |"
      ]
     },
     "metadata": {},
     "output_type": "display_data"
    },
    {
     "data": {
      "text/html": [
       "<pre>| 601       | 14854.556712 | 0.429473      |</pre>"
      ],
      "text/plain": [
       "| 601       | 14854.556712 | 0.429473      |"
      ]
     },
     "metadata": {},
     "output_type": "display_data"
    },
    {
     "data": {
      "text/html": [
       "<pre>| 602       | 14879.158328 | 0.429457      |</pre>"
      ],
      "text/plain": [
       "| 602       | 14879.158328 | 0.429457      |"
      ]
     },
     "metadata": {},
     "output_type": "display_data"
    },
    {
     "data": {
      "text/html": [
       "<pre>| 603       | 14902.697743 | 0.429442      |</pre>"
      ],
      "text/plain": [
       "| 603       | 14902.697743 | 0.429442      |"
      ]
     },
     "metadata": {},
     "output_type": "display_data"
    },
    {
     "data": {
      "text/html": [
       "<pre>| 604       | 14926.859947 | 0.429425      |</pre>"
      ],
      "text/plain": [
       "| 604       | 14926.859947 | 0.429425      |"
      ]
     },
     "metadata": {},
     "output_type": "display_data"
    },
    {
     "data": {
      "text/html": [
       "<pre>| 605       | 14951.585637 | 0.429406      |</pre>"
      ],
      "text/plain": [
       "| 605       | 14951.585637 | 0.429406      |"
      ]
     },
     "metadata": {},
     "output_type": "display_data"
    },
    {
     "data": {
      "text/html": [
       "<pre>| 606       | 14978.022930 | 0.429383      |</pre>"
      ],
      "text/plain": [
       "| 606       | 14978.022930 | 0.429383      |"
      ]
     },
     "metadata": {},
     "output_type": "display_data"
    },
    {
     "data": {
      "text/html": [
       "<pre>| 607       | 15001.899875 | 0.429365      |</pre>"
      ],
      "text/plain": [
       "| 607       | 15001.899875 | 0.429365      |"
      ]
     },
     "metadata": {},
     "output_type": "display_data"
    },
    {
     "data": {
      "text/html": [
       "<pre>| 608       | 15026.630443 | 0.429348      |</pre>"
      ],
      "text/plain": [
       "| 608       | 15026.630443 | 0.429348      |"
      ]
     },
     "metadata": {},
     "output_type": "display_data"
    },
    {
     "data": {
      "text/html": [
       "<pre>| 609       | 15050.084029 | 0.429335      |</pre>"
      ],
      "text/plain": [
       "| 609       | 15050.084029 | 0.429335      |"
      ]
     },
     "metadata": {},
     "output_type": "display_data"
    },
    {
     "data": {
      "text/html": [
       "<pre>| 610       | 15074.122339 | 0.429316      |</pre>"
      ],
      "text/plain": [
       "| 610       | 15074.122339 | 0.429316      |"
      ]
     },
     "metadata": {},
     "output_type": "display_data"
    },
    {
     "data": {
      "text/html": [
       "<pre>| 611       | 15097.076372 | 0.429296      |</pre>"
      ],
      "text/plain": [
       "| 611       | 15097.076372 | 0.429296      |"
      ]
     },
     "metadata": {},
     "output_type": "display_data"
    },
    {
     "data": {
      "text/html": [
       "<pre>| 612       | 15120.532855 | 0.429287      |</pre>"
      ],
      "text/plain": [
       "| 612       | 15120.532855 | 0.429287      |"
      ]
     },
     "metadata": {},
     "output_type": "display_data"
    },
    {
     "data": {
      "text/html": [
       "<pre>| 613       | 15146.223986 | 0.429271      |</pre>"
      ],
      "text/plain": [
       "| 613       | 15146.223986 | 0.429271      |"
      ]
     },
     "metadata": {},
     "output_type": "display_data"
    },
    {
     "data": {
      "text/html": [
       "<pre>| 614       | 15172.429976 | 0.429230      |</pre>"
      ],
      "text/plain": [
       "| 614       | 15172.429976 | 0.429230      |"
      ]
     },
     "metadata": {},
     "output_type": "display_data"
    },
    {
     "data": {
      "text/html": [
       "<pre>| 615       | 15197.330578 | 0.429218      |</pre>"
      ],
      "text/plain": [
       "| 615       | 15197.330578 | 0.429218      |"
      ]
     },
     "metadata": {},
     "output_type": "display_data"
    },
    {
     "data": {
      "text/html": [
       "<pre>| 616       | 15222.348877 | 0.429205      |</pre>"
      ],
      "text/plain": [
       "| 616       | 15222.348877 | 0.429205      |"
      ]
     },
     "metadata": {},
     "output_type": "display_data"
    },
    {
     "data": {
      "text/html": [
       "<pre>| 617       | 15246.990418 | 0.429195      |</pre>"
      ],
      "text/plain": [
       "| 617       | 15246.990418 | 0.429195      |"
      ]
     },
     "metadata": {},
     "output_type": "display_data"
    },
    {
     "data": {
      "text/html": [
       "<pre>| 618       | 15272.562977 | 0.429173      |</pre>"
      ],
      "text/plain": [
       "| 618       | 15272.562977 | 0.429173      |"
      ]
     },
     "metadata": {},
     "output_type": "display_data"
    },
    {
     "data": {
      "text/html": [
       "<pre>| 619       | 15297.146721 | 0.429150      |</pre>"
      ],
      "text/plain": [
       "| 619       | 15297.146721 | 0.429150      |"
      ]
     },
     "metadata": {},
     "output_type": "display_data"
    },
    {
     "data": {
      "text/html": [
       "<pre>| 620       | 15321.442028 | 0.429145      |</pre>"
      ],
      "text/plain": [
       "| 620       | 15321.442028 | 0.429145      |"
      ]
     },
     "metadata": {},
     "output_type": "display_data"
    },
    {
     "data": {
      "text/html": [
       "<pre>| 621       | 15346.592563 | 0.429136      |</pre>"
      ],
      "text/plain": [
       "| 621       | 15346.592563 | 0.429136      |"
      ]
     },
     "metadata": {},
     "output_type": "display_data"
    },
    {
     "data": {
      "text/html": [
       "<pre>| 622       | 15371.392727 | 0.429103      |</pre>"
      ],
      "text/plain": [
       "| 622       | 15371.392727 | 0.429103      |"
      ]
     },
     "metadata": {},
     "output_type": "display_data"
    },
    {
     "data": {
      "text/html": [
       "<pre>| 623       | 15394.921862 | 0.429093      |</pre>"
      ],
      "text/plain": [
       "| 623       | 15394.921862 | 0.429093      |"
      ]
     },
     "metadata": {},
     "output_type": "display_data"
    },
    {
     "data": {
      "text/html": [
       "<pre>| 624       | 15418.936459 | 0.429057      |</pre>"
      ],
      "text/plain": [
       "| 624       | 15418.936459 | 0.429057      |"
      ]
     },
     "metadata": {},
     "output_type": "display_data"
    },
    {
     "data": {
      "text/html": [
       "<pre>| 625       | 15443.079103 | 0.429046      |</pre>"
      ],
      "text/plain": [
       "| 625       | 15443.079103 | 0.429046      |"
      ]
     },
     "metadata": {},
     "output_type": "display_data"
    },
    {
     "data": {
      "text/html": [
       "<pre>| 626       | 15467.534585 | 0.429022      |</pre>"
      ],
      "text/plain": [
       "| 626       | 15467.534585 | 0.429022      |"
      ]
     },
     "metadata": {},
     "output_type": "display_data"
    },
    {
     "data": {
      "text/html": [
       "<pre>| 627       | 15490.625885 | 0.428988      |</pre>"
      ],
      "text/plain": [
       "| 627       | 15490.625885 | 0.428988      |"
      ]
     },
     "metadata": {},
     "output_type": "display_data"
    },
    {
     "data": {
      "text/html": [
       "<pre>| 628       | 15515.845738 | 0.428966      |</pre>"
      ],
      "text/plain": [
       "| 628       | 15515.845738 | 0.428966      |"
      ]
     },
     "metadata": {},
     "output_type": "display_data"
    },
    {
     "data": {
      "text/html": [
       "<pre>| 629       | 15540.675922 | 0.428957      |</pre>"
      ],
      "text/plain": [
       "| 629       | 15540.675922 | 0.428957      |"
      ]
     },
     "metadata": {},
     "output_type": "display_data"
    },
    {
     "data": {
      "text/html": [
       "<pre>| 630       | 15565.043427 | 0.428946      |</pre>"
      ],
      "text/plain": [
       "| 630       | 15565.043427 | 0.428946      |"
      ]
     },
     "metadata": {},
     "output_type": "display_data"
    },
    {
     "data": {
      "text/html": [
       "<pre>| 631       | 15589.045409 | 0.428923      |</pre>"
      ],
      "text/plain": [
       "| 631       | 15589.045409 | 0.428923      |"
      ]
     },
     "metadata": {},
     "output_type": "display_data"
    },
    {
     "data": {
      "text/html": [
       "<pre>| 632       | 15612.981312 | 0.428906      |</pre>"
      ],
      "text/plain": [
       "| 632       | 15612.981312 | 0.428906      |"
      ]
     },
     "metadata": {},
     "output_type": "display_data"
    },
    {
     "data": {
      "text/html": [
       "<pre>| 633       | 15637.962982 | 0.428879      |</pre>"
      ],
      "text/plain": [
       "| 633       | 15637.962982 | 0.428879      |"
      ]
     },
     "metadata": {},
     "output_type": "display_data"
    },
    {
     "data": {
      "text/html": [
       "<pre>| 634       | 15662.471292 | 0.428851      |</pre>"
      ],
      "text/plain": [
       "| 634       | 15662.471292 | 0.428851      |"
      ]
     },
     "metadata": {},
     "output_type": "display_data"
    },
    {
     "data": {
      "text/html": [
       "<pre>| 635       | 15684.989049 | 0.428846      |</pre>"
      ],
      "text/plain": [
       "| 635       | 15684.989049 | 0.428846      |"
      ]
     },
     "metadata": {},
     "output_type": "display_data"
    },
    {
     "data": {
      "text/html": [
       "<pre>| 636       | 15709.750901 | 0.428829      |</pre>"
      ],
      "text/plain": [
       "| 636       | 15709.750901 | 0.428829      |"
      ]
     },
     "metadata": {},
     "output_type": "display_data"
    },
    {
     "data": {
      "text/html": [
       "<pre>| 637       | 15734.363039 | 0.428812      |</pre>"
      ],
      "text/plain": [
       "| 637       | 15734.363039 | 0.428812      |"
      ]
     },
     "metadata": {},
     "output_type": "display_data"
    },
    {
     "data": {
      "text/html": [
       "<pre>| 638       | 15758.012646 | 0.428800      |</pre>"
      ],
      "text/plain": [
       "| 638       | 15758.012646 | 0.428800      |"
      ]
     },
     "metadata": {},
     "output_type": "display_data"
    },
    {
     "data": {
      "text/html": [
       "<pre>| 639       | 15783.606623 | 0.428777      |</pre>"
      ],
      "text/plain": [
       "| 639       | 15783.606623 | 0.428777      |"
      ]
     },
     "metadata": {},
     "output_type": "display_data"
    },
    {
     "data": {
      "text/html": [
       "<pre>| 640       | 15809.705271 | 0.428758      |</pre>"
      ],
      "text/plain": [
       "| 640       | 15809.705271 | 0.428758      |"
      ]
     },
     "metadata": {},
     "output_type": "display_data"
    },
    {
     "data": {
      "text/html": [
       "<pre>| 641       | 15834.199482 | 0.428729      |</pre>"
      ],
      "text/plain": [
       "| 641       | 15834.199482 | 0.428729      |"
      ]
     },
     "metadata": {},
     "output_type": "display_data"
    },
    {
     "data": {
      "text/html": [
       "<pre>| 642       | 15857.169036 | 0.428716      |</pre>"
      ],
      "text/plain": [
       "| 642       | 15857.169036 | 0.428716      |"
      ]
     },
     "metadata": {},
     "output_type": "display_data"
    },
    {
     "data": {
      "text/html": [
       "<pre>| 643       | 15881.966969 | 0.428695      |</pre>"
      ],
      "text/plain": [
       "| 643       | 15881.966969 | 0.428695      |"
      ]
     },
     "metadata": {},
     "output_type": "display_data"
    },
    {
     "data": {
      "text/html": [
       "<pre>| 644       | 15907.390480 | 0.428666      |</pre>"
      ],
      "text/plain": [
       "| 644       | 15907.390480 | 0.428666      |"
      ]
     },
     "metadata": {},
     "output_type": "display_data"
    },
    {
     "data": {
      "text/html": [
       "<pre>| 645       | 15931.564292 | 0.428645      |</pre>"
      ],
      "text/plain": [
       "| 645       | 15931.564292 | 0.428645      |"
      ]
     },
     "metadata": {},
     "output_type": "display_data"
    },
    {
     "data": {
      "text/html": [
       "<pre>| 646       | 15957.895439 | 0.428629      |</pre>"
      ],
      "text/plain": [
       "| 646       | 15957.895439 | 0.428629      |"
      ]
     },
     "metadata": {},
     "output_type": "display_data"
    },
    {
     "data": {
      "text/html": [
       "<pre>| 647       | 15984.059000 | 0.428606      |</pre>"
      ],
      "text/plain": [
       "| 647       | 15984.059000 | 0.428606      |"
      ]
     },
     "metadata": {},
     "output_type": "display_data"
    },
    {
     "data": {
      "text/html": [
       "<pre>| 648       | 16009.937422 | 0.428583      |</pre>"
      ],
      "text/plain": [
       "| 648       | 16009.937422 | 0.428583      |"
      ]
     },
     "metadata": {},
     "output_type": "display_data"
    },
    {
     "data": {
      "text/html": [
       "<pre>| 649       | 16036.202412 | 0.428569      |</pre>"
      ],
      "text/plain": [
       "| 649       | 16036.202412 | 0.428569      |"
      ]
     },
     "metadata": {},
     "output_type": "display_data"
    },
    {
     "data": {
      "text/html": [
       "<pre>| 650       | 16060.499785 | 0.428546      |</pre>"
      ],
      "text/plain": [
       "| 650       | 16060.499785 | 0.428546      |"
      ]
     },
     "metadata": {},
     "output_type": "display_data"
    },
    {
     "data": {
      "text/html": [
       "<pre>| 651       | 16084.192530 | 0.428519      |</pre>"
      ],
      "text/plain": [
       "| 651       | 16084.192530 | 0.428519      |"
      ]
     },
     "metadata": {},
     "output_type": "display_data"
    },
    {
     "data": {
      "text/html": [
       "<pre>| 652       | 16107.380704 | 0.428494      |</pre>"
      ],
      "text/plain": [
       "| 652       | 16107.380704 | 0.428494      |"
      ]
     },
     "metadata": {},
     "output_type": "display_data"
    },
    {
     "data": {
      "text/html": [
       "<pre>| 653       | 16130.798564 | 0.428457      |</pre>"
      ],
      "text/plain": [
       "| 653       | 16130.798564 | 0.428457      |"
      ]
     },
     "metadata": {},
     "output_type": "display_data"
    },
    {
     "data": {
      "text/html": [
       "<pre>| 654       | 16156.389772 | 0.428437      |</pre>"
      ],
      "text/plain": [
       "| 654       | 16156.389772 | 0.428437      |"
      ]
     },
     "metadata": {},
     "output_type": "display_data"
    },
    {
     "data": {
      "text/html": [
       "<pre>| 655       | 16183.047897 | 0.428421      |</pre>"
      ],
      "text/plain": [
       "| 655       | 16183.047897 | 0.428421      |"
      ]
     },
     "metadata": {},
     "output_type": "display_data"
    },
    {
     "data": {
      "text/html": [
       "<pre>| 656       | 16209.403614 | 0.428404      |</pre>"
      ],
      "text/plain": [
       "| 656       | 16209.403614 | 0.428404      |"
      ]
     },
     "metadata": {},
     "output_type": "display_data"
    },
    {
     "data": {
      "text/html": [
       "<pre>| 657       | 16234.831899 | 0.428392      |</pre>"
      ],
      "text/plain": [
       "| 657       | 16234.831899 | 0.428392      |"
      ]
     },
     "metadata": {},
     "output_type": "display_data"
    },
    {
     "data": {
      "text/html": [
       "<pre>| 658       | 16260.922298 | 0.428381      |</pre>"
      ],
      "text/plain": [
       "| 658       | 16260.922298 | 0.428381      |"
      ]
     },
     "metadata": {},
     "output_type": "display_data"
    },
    {
     "data": {
      "text/html": [
       "<pre>| 659       | 16286.432700 | 0.428364      |</pre>"
      ],
      "text/plain": [
       "| 659       | 16286.432700 | 0.428364      |"
      ]
     },
     "metadata": {},
     "output_type": "display_data"
    },
    {
     "data": {
      "text/html": [
       "<pre>| 660       | 16309.870954 | 0.428344      |</pre>"
      ],
      "text/plain": [
       "| 660       | 16309.870954 | 0.428344      |"
      ]
     },
     "metadata": {},
     "output_type": "display_data"
    },
    {
     "data": {
      "text/html": [
       "<pre>| 661       | 16335.937839 | 0.428319      |</pre>"
      ],
      "text/plain": [
       "| 661       | 16335.937839 | 0.428319      |"
      ]
     },
     "metadata": {},
     "output_type": "display_data"
    },
    {
     "data": {
      "text/html": [
       "<pre>| 662       | 16361.444569 | 0.428311      |</pre>"
      ],
      "text/plain": [
       "| 662       | 16361.444569 | 0.428311      |"
      ]
     },
     "metadata": {},
     "output_type": "display_data"
    },
    {
     "data": {
      "text/html": [
       "<pre>| 663       | 16386.198762 | 0.428296      |</pre>"
      ],
      "text/plain": [
       "| 663       | 16386.198762 | 0.428296      |"
      ]
     },
     "metadata": {},
     "output_type": "display_data"
    },
    {
     "data": {
      "text/html": [
       "<pre>| 664       | 16410.967735 | 0.428279      |</pre>"
      ],
      "text/plain": [
       "| 664       | 16410.967735 | 0.428279      |"
      ]
     },
     "metadata": {},
     "output_type": "display_data"
    },
    {
     "data": {
      "text/html": [
       "<pre>| 665       | 16437.217129 | 0.428261      |</pre>"
      ],
      "text/plain": [
       "| 665       | 16437.217129 | 0.428261      |"
      ]
     },
     "metadata": {},
     "output_type": "display_data"
    },
    {
     "data": {
      "text/html": [
       "<pre>| 666       | 16461.591306 | 0.428244      |</pre>"
      ],
      "text/plain": [
       "| 666       | 16461.591306 | 0.428244      |"
      ]
     },
     "metadata": {},
     "output_type": "display_data"
    },
    {
     "data": {
      "text/html": [
       "<pre>| 667       | 16485.843538 | 0.428232      |</pre>"
      ],
      "text/plain": [
       "| 667       | 16485.843538 | 0.428232      |"
      ]
     },
     "metadata": {},
     "output_type": "display_data"
    },
    {
     "data": {
      "text/html": [
       "<pre>| 668       | 16510.747383 | 0.428206      |</pre>"
      ],
      "text/plain": [
       "| 668       | 16510.747383 | 0.428206      |"
      ]
     },
     "metadata": {},
     "output_type": "display_data"
    },
    {
     "data": {
      "text/html": [
       "<pre>| 669       | 16535.903185 | 0.428198      |</pre>"
      ],
      "text/plain": [
       "| 669       | 16535.903185 | 0.428198      |"
      ]
     },
     "metadata": {},
     "output_type": "display_data"
    },
    {
     "data": {
      "text/html": [
       "<pre>| 670       | 16560.913062 | 0.428178      |</pre>"
      ],
      "text/plain": [
       "| 670       | 16560.913062 | 0.428178      |"
      ]
     },
     "metadata": {},
     "output_type": "display_data"
    },
    {
     "data": {
      "text/html": [
       "<pre>| 671       | 16586.468311 | 0.428153      |</pre>"
      ],
      "text/plain": [
       "| 671       | 16586.468311 | 0.428153      |"
      ]
     },
     "metadata": {},
     "output_type": "display_data"
    },
    {
     "data": {
      "text/html": [
       "<pre>| 672       | 16611.655313 | 0.428139      |</pre>"
      ],
      "text/plain": [
       "| 672       | 16611.655313 | 0.428139      |"
      ]
     },
     "metadata": {},
     "output_type": "display_data"
    },
    {
     "data": {
      "text/html": [
       "<pre>| 673       | 16637.126415 | 0.428108      |</pre>"
      ],
      "text/plain": [
       "| 673       | 16637.126415 | 0.428108      |"
      ]
     },
     "metadata": {},
     "output_type": "display_data"
    },
    {
     "data": {
      "text/html": [
       "<pre>| 674       | 16661.374419 | 0.428094      |</pre>"
      ],
      "text/plain": [
       "| 674       | 16661.374419 | 0.428094      |"
      ]
     },
     "metadata": {},
     "output_type": "display_data"
    },
    {
     "data": {
      "text/html": [
       "<pre>| 675       | 16687.201839 | 0.428081      |</pre>"
      ],
      "text/plain": [
       "| 675       | 16687.201839 | 0.428081      |"
      ]
     },
     "metadata": {},
     "output_type": "display_data"
    },
    {
     "data": {
      "text/html": [
       "<pre>| 676       | 16711.773450 | 0.428061      |</pre>"
      ],
      "text/plain": [
       "| 676       | 16711.773450 | 0.428061      |"
      ]
     },
     "metadata": {},
     "output_type": "display_data"
    },
    {
     "data": {
      "text/html": [
       "<pre>| 677       | 16737.042592 | 0.428027      |</pre>"
      ],
      "text/plain": [
       "| 677       | 16737.042592 | 0.428027      |"
      ]
     },
     "metadata": {},
     "output_type": "display_data"
    },
    {
     "data": {
      "text/html": [
       "<pre>| 678       | 16760.675092 | 0.428016      |</pre>"
      ],
      "text/plain": [
       "| 678       | 16760.675092 | 0.428016      |"
      ]
     },
     "metadata": {},
     "output_type": "display_data"
    },
    {
     "data": {
      "text/html": [
       "<pre>| 679       | 16784.605756 | 0.428000      |</pre>"
      ],
      "text/plain": [
       "| 679       | 16784.605756 | 0.428000      |"
      ]
     },
     "metadata": {},
     "output_type": "display_data"
    },
    {
     "data": {
      "text/html": [
       "<pre>| 680       | 16810.733830 | 0.427992      |</pre>"
      ],
      "text/plain": [
       "| 680       | 16810.733830 | 0.427992      |"
      ]
     },
     "metadata": {},
     "output_type": "display_data"
    },
    {
     "data": {
      "text/html": [
       "<pre>| 681       | 16835.383126 | 0.427940      |</pre>"
      ],
      "text/plain": [
       "| 681       | 16835.383126 | 0.427940      |"
      ]
     },
     "metadata": {},
     "output_type": "display_data"
    },
    {
     "data": {
      "text/html": [
       "<pre>| 682       | 16860.841782 | 0.427916      |</pre>"
      ],
      "text/plain": [
       "| 682       | 16860.841782 | 0.427916      |"
      ]
     },
     "metadata": {},
     "output_type": "display_data"
    },
    {
     "data": {
      "text/html": [
       "<pre>| 683       | 16885.874673 | 0.427908      |</pre>"
      ],
      "text/plain": [
       "| 683       | 16885.874673 | 0.427908      |"
      ]
     },
     "metadata": {},
     "output_type": "display_data"
    },
    {
     "data": {
      "text/html": [
       "<pre>| 684       | 16910.825597 | 0.427885      |</pre>"
      ],
      "text/plain": [
       "| 684       | 16910.825597 | 0.427885      |"
      ]
     },
     "metadata": {},
     "output_type": "display_data"
    },
    {
     "data": {
      "text/html": [
       "<pre>| 685       | 16936.169571 | 0.427862      |</pre>"
      ],
      "text/plain": [
       "| 685       | 16936.169571 | 0.427862      |"
      ]
     },
     "metadata": {},
     "output_type": "display_data"
    },
    {
     "data": {
      "text/html": [
       "<pre>| 686       | 16958.153705 | 0.427855      |</pre>"
      ],
      "text/plain": [
       "| 686       | 16958.153705 | 0.427855      |"
      ]
     },
     "metadata": {},
     "output_type": "display_data"
    },
    {
     "data": {
      "text/html": [
       "<pre>| 687       | 16982.530012 | 0.427839      |</pre>"
      ],
      "text/plain": [
       "| 687       | 16982.530012 | 0.427839      |"
      ]
     },
     "metadata": {},
     "output_type": "display_data"
    },
    {
     "data": {
      "text/html": [
       "<pre>| 688       | 17008.167831 | 0.427811      |</pre>"
      ],
      "text/plain": [
       "| 688       | 17008.167831 | 0.427811      |"
      ]
     },
     "metadata": {},
     "output_type": "display_data"
    },
    {
     "data": {
      "text/html": [
       "<pre>| 689       | 17032.133551 | 0.427797      |</pre>"
      ],
      "text/plain": [
       "| 689       | 17032.133551 | 0.427797      |"
      ]
     },
     "metadata": {},
     "output_type": "display_data"
    },
    {
     "data": {
      "text/html": [
       "<pre>| 690       | 17057.120944 | 0.427786      |</pre>"
      ],
      "text/plain": [
       "| 690       | 17057.120944 | 0.427786      |"
      ]
     },
     "metadata": {},
     "output_type": "display_data"
    },
    {
     "data": {
      "text/html": [
       "<pre>| 691       | 17081.212080 | 0.427776      |</pre>"
      ],
      "text/plain": [
       "| 691       | 17081.212080 | 0.427776      |"
      ]
     },
     "metadata": {},
     "output_type": "display_data"
    },
    {
     "data": {
      "text/html": [
       "<pre>| 692       | 17106.083686 | 0.427740      |</pre>"
      ],
      "text/plain": [
       "| 692       | 17106.083686 | 0.427740      |"
      ]
     },
     "metadata": {},
     "output_type": "display_data"
    },
    {
     "data": {
      "text/html": [
       "<pre>| 693       | 17129.776731 | 0.427729      |</pre>"
      ],
      "text/plain": [
       "| 693       | 17129.776731 | 0.427729      |"
      ]
     },
     "metadata": {},
     "output_type": "display_data"
    },
    {
     "data": {
      "text/html": [
       "<pre>| 694       | 17154.961587 | 0.427696      |</pre>"
      ],
      "text/plain": [
       "| 694       | 17154.961587 | 0.427696      |"
      ]
     },
     "metadata": {},
     "output_type": "display_data"
    },
    {
     "data": {
      "text/html": [
       "<pre>| 695       | 17178.638779 | 0.427675      |</pre>"
      ],
      "text/plain": [
       "| 695       | 17178.638779 | 0.427675      |"
      ]
     },
     "metadata": {},
     "output_type": "display_data"
    },
    {
     "data": {
      "text/html": [
       "<pre>| 696       | 17203.945479 | 0.427663      |</pre>"
      ],
      "text/plain": [
       "| 696       | 17203.945479 | 0.427663      |"
      ]
     },
     "metadata": {},
     "output_type": "display_data"
    },
    {
     "data": {
      "text/html": [
       "<pre>| 697       | 17228.649434 | 0.427640      |</pre>"
      ],
      "text/plain": [
       "| 697       | 17228.649434 | 0.427640      |"
      ]
     },
     "metadata": {},
     "output_type": "display_data"
    },
    {
     "data": {
      "text/html": [
       "<pre>| 698       | 17253.533435 | 0.427629      |</pre>"
      ],
      "text/plain": [
       "| 698       | 17253.533435 | 0.427629      |"
      ]
     },
     "metadata": {},
     "output_type": "display_data"
    },
    {
     "data": {
      "text/html": [
       "<pre>| 699       | 17278.161575 | 0.427620      |</pre>"
      ],
      "text/plain": [
       "| 699       | 17278.161575 | 0.427620      |"
      ]
     },
     "metadata": {},
     "output_type": "display_data"
    },
    {
     "data": {
      "text/html": [
       "<pre>| 700       | 17302.012129 | 0.427599      |</pre>"
      ],
      "text/plain": [
       "| 700       | 17302.012129 | 0.427599      |"
      ]
     },
     "metadata": {},
     "output_type": "display_data"
    },
    {
     "data": {
      "text/html": [
       "<pre>| 701       | 17326.869324 | 0.427568      |</pre>"
      ],
      "text/plain": [
       "| 701       | 17326.869324 | 0.427568      |"
      ]
     },
     "metadata": {},
     "output_type": "display_data"
    },
    {
     "data": {
      "text/html": [
       "<pre>| 702       | 17351.779096 | 0.427551      |</pre>"
      ],
      "text/plain": [
       "| 702       | 17351.779096 | 0.427551      |"
      ]
     },
     "metadata": {},
     "output_type": "display_data"
    },
    {
     "data": {
      "text/html": [
       "<pre>| 703       | 17376.388546 | 0.427530      |</pre>"
      ],
      "text/plain": [
       "| 703       | 17376.388546 | 0.427530      |"
      ]
     },
     "metadata": {},
     "output_type": "display_data"
    },
    {
     "data": {
      "text/html": [
       "<pre>| 704       | 17401.861251 | 0.427504      |</pre>"
      ],
      "text/plain": [
       "| 704       | 17401.861251 | 0.427504      |"
      ]
     },
     "metadata": {},
     "output_type": "display_data"
    },
    {
     "data": {
      "text/html": [
       "<pre>| 705       | 17426.464553 | 0.427482      |</pre>"
      ],
      "text/plain": [
       "| 705       | 17426.464553 | 0.427482      |"
      ]
     },
     "metadata": {},
     "output_type": "display_data"
    },
    {
     "data": {
      "text/html": [
       "<pre>| 706       | 17449.270736 | 0.427473      |</pre>"
      ],
      "text/plain": [
       "| 706       | 17449.270736 | 0.427473      |"
      ]
     },
     "metadata": {},
     "output_type": "display_data"
    },
    {
     "data": {
      "text/html": [
       "<pre>| 707       | 17473.848145 | 0.427450      |</pre>"
      ],
      "text/plain": [
       "| 707       | 17473.848145 | 0.427450      |"
      ]
     },
     "metadata": {},
     "output_type": "display_data"
    },
    {
     "data": {
      "text/html": [
       "<pre>| 708       | 17498.495345 | 0.427424      |</pre>"
      ],
      "text/plain": [
       "| 708       | 17498.495345 | 0.427424      |"
      ]
     },
     "metadata": {},
     "output_type": "display_data"
    },
    {
     "data": {
      "text/html": [
       "<pre>| 709       | 17522.978950 | 0.427382      |</pre>"
      ],
      "text/plain": [
       "| 709       | 17522.978950 | 0.427382      |"
      ]
     },
     "metadata": {},
     "output_type": "display_data"
    },
    {
     "data": {
      "text/html": [
       "<pre>| 710       | 17549.837005 | 0.427364      |</pre>"
      ],
      "text/plain": [
       "| 710       | 17549.837005 | 0.427364      |"
      ]
     },
     "metadata": {},
     "output_type": "display_data"
    },
    {
     "data": {
      "text/html": [
       "<pre>| 711       | 17575.376591 | 0.427332      |</pre>"
      ],
      "text/plain": [
       "| 711       | 17575.376591 | 0.427332      |"
      ]
     },
     "metadata": {},
     "output_type": "display_data"
    },
    {
     "data": {
      "text/html": [
       "<pre>| 712       | 17599.692088 | 0.427315      |</pre>"
      ],
      "text/plain": [
       "| 712       | 17599.692088 | 0.427315      |"
      ]
     },
     "metadata": {},
     "output_type": "display_data"
    },
    {
     "data": {
      "text/html": [
       "<pre>| 713       | 17625.408734 | 0.427293      |</pre>"
      ],
      "text/plain": [
       "| 713       | 17625.408734 | 0.427293      |"
      ]
     },
     "metadata": {},
     "output_type": "display_data"
    },
    {
     "data": {
      "text/html": [
       "<pre>| 714       | 17649.386909 | 0.427274      |</pre>"
      ],
      "text/plain": [
       "| 714       | 17649.386909 | 0.427274      |"
      ]
     },
     "metadata": {},
     "output_type": "display_data"
    },
    {
     "data": {
      "text/html": [
       "<pre>| 715       | 17674.478989 | 0.427253      |</pre>"
      ],
      "text/plain": [
       "| 715       | 17674.478989 | 0.427253      |"
      ]
     },
     "metadata": {},
     "output_type": "display_data"
    },
    {
     "data": {
      "text/html": [
       "<pre>| 716       | 17700.607027 | 0.427245      |</pre>"
      ],
      "text/plain": [
       "| 716       | 17700.607027 | 0.427245      |"
      ]
     },
     "metadata": {},
     "output_type": "display_data"
    },
    {
     "data": {
      "text/html": [
       "<pre>| 717       | 17724.793120 | 0.427216      |</pre>"
      ],
      "text/plain": [
       "| 717       | 17724.793120 | 0.427216      |"
      ]
     },
     "metadata": {},
     "output_type": "display_data"
    },
    {
     "data": {
      "text/html": [
       "<pre>| 718       | 17750.675621 | 0.427203      |</pre>"
      ],
      "text/plain": [
       "| 718       | 17750.675621 | 0.427203      |"
      ]
     },
     "metadata": {},
     "output_type": "display_data"
    },
    {
     "data": {
      "text/html": [
       "<pre>| 719       | 17775.073217 | 0.427195      |</pre>"
      ],
      "text/plain": [
       "| 719       | 17775.073217 | 0.427195      |"
      ]
     },
     "metadata": {},
     "output_type": "display_data"
    },
    {
     "data": {
      "text/html": [
       "<pre>| 720       | 17800.247935 | 0.427172      |</pre>"
      ],
      "text/plain": [
       "| 720       | 17800.247935 | 0.427172      |"
      ]
     },
     "metadata": {},
     "output_type": "display_data"
    },
    {
     "data": {
      "text/html": [
       "<pre>| 721       | 17824.462911 | 0.427164      |</pre>"
      ],
      "text/plain": [
       "| 721       | 17824.462911 | 0.427164      |"
      ]
     },
     "metadata": {},
     "output_type": "display_data"
    },
    {
     "data": {
      "text/html": [
       "<pre>| 722       | 17848.568004 | 0.427128      |</pre>"
      ],
      "text/plain": [
       "| 722       | 17848.568004 | 0.427128      |"
      ]
     },
     "metadata": {},
     "output_type": "display_data"
    },
    {
     "data": {
      "text/html": [
       "<pre>| 723       | 17872.717548 | 0.427114      |</pre>"
      ],
      "text/plain": [
       "| 723       | 17872.717548 | 0.427114      |"
      ]
     },
     "metadata": {},
     "output_type": "display_data"
    },
    {
     "data": {
      "text/html": [
       "<pre>| 724       | 17898.463190 | 0.427100      |</pre>"
      ],
      "text/plain": [
       "| 724       | 17898.463190 | 0.427100      |"
      ]
     },
     "metadata": {},
     "output_type": "display_data"
    },
    {
     "data": {
      "text/html": [
       "<pre>| 725       | 17924.681140 | 0.427087      |</pre>"
      ],
      "text/plain": [
       "| 725       | 17924.681140 | 0.427087      |"
      ]
     },
     "metadata": {},
     "output_type": "display_data"
    },
    {
     "data": {
      "text/html": [
       "<pre>| 726       | 17949.402695 | 0.427075      |</pre>"
      ],
      "text/plain": [
       "| 726       | 17949.402695 | 0.427075      |"
      ]
     },
     "metadata": {},
     "output_type": "display_data"
    },
    {
     "data": {
      "text/html": [
       "<pre>| 727       | 17973.544708 | 0.427059      |</pre>"
      ],
      "text/plain": [
       "| 727       | 17973.544708 | 0.427059      |"
      ]
     },
     "metadata": {},
     "output_type": "display_data"
    },
    {
     "data": {
      "text/html": [
       "<pre>| 728       | 17999.155410 | 0.427050      |</pre>"
      ],
      "text/plain": [
       "| 728       | 17999.155410 | 0.427050      |"
      ]
     },
     "metadata": {},
     "output_type": "display_data"
    },
    {
     "data": {
      "text/html": [
       "<pre>| 729       | 18023.737357 | 0.427035      |</pre>"
      ],
      "text/plain": [
       "| 729       | 18023.737357 | 0.427035      |"
      ]
     },
     "metadata": {},
     "output_type": "display_data"
    },
    {
     "data": {
      "text/html": [
       "<pre>| 730       | 18047.568749 | 0.427022      |</pre>"
      ],
      "text/plain": [
       "| 730       | 18047.568749 | 0.427022      |"
      ]
     },
     "metadata": {},
     "output_type": "display_data"
    },
    {
     "data": {
      "text/html": [
       "<pre>| 731       | 18073.639591 | 0.427010      |</pre>"
      ],
      "text/plain": [
       "| 731       | 18073.639591 | 0.427010      |"
      ]
     },
     "metadata": {},
     "output_type": "display_data"
    },
    {
     "data": {
      "text/html": [
       "<pre>| 732       | 18097.630778 | 0.427005      |</pre>"
      ],
      "text/plain": [
       "| 732       | 18097.630778 | 0.427005      |"
      ]
     },
     "metadata": {},
     "output_type": "display_data"
    },
    {
     "data": {
      "text/html": [
       "<pre>| 733       | 18121.318084 | 0.426974      |</pre>"
      ],
      "text/plain": [
       "| 733       | 18121.318084 | 0.426974      |"
      ]
     },
     "metadata": {},
     "output_type": "display_data"
    },
    {
     "data": {
      "text/html": [
       "<pre>| 734       | 18145.871311 | 0.426954      |</pre>"
      ],
      "text/plain": [
       "| 734       | 18145.871311 | 0.426954      |"
      ]
     },
     "metadata": {},
     "output_type": "display_data"
    },
    {
     "data": {
      "text/html": [
       "<pre>| 735       | 18170.037069 | 0.426928      |</pre>"
      ],
      "text/plain": [
       "| 735       | 18170.037069 | 0.426928      |"
      ]
     },
     "metadata": {},
     "output_type": "display_data"
    },
    {
     "data": {
      "text/html": [
       "<pre>| 736       | 18193.383844 | 0.426923      |</pre>"
      ],
      "text/plain": [
       "| 736       | 18193.383844 | 0.426923      |"
      ]
     },
     "metadata": {},
     "output_type": "display_data"
    },
    {
     "data": {
      "text/html": [
       "<pre>| 737       | 18218.258112 | 0.426918      |</pre>"
      ],
      "text/plain": [
       "| 737       | 18218.258112 | 0.426918      |"
      ]
     },
     "metadata": {},
     "output_type": "display_data"
    },
    {
     "data": {
      "text/html": [
       "<pre>| 738       | 18241.333875 | 0.426902      |</pre>"
      ],
      "text/plain": [
       "| 738       | 18241.333875 | 0.426902      |"
      ]
     },
     "metadata": {},
     "output_type": "display_data"
    },
    {
     "data": {
      "text/html": [
       "<pre>| 739       | 18265.045445 | 0.426889      |</pre>"
      ],
      "text/plain": [
       "| 739       | 18265.045445 | 0.426889      |"
      ]
     },
     "metadata": {},
     "output_type": "display_data"
    },
    {
     "data": {
      "text/html": [
       "<pre>| 740       | 18289.237726 | 0.426872      |</pre>"
      ],
      "text/plain": [
       "| 740       | 18289.237726 | 0.426872      |"
      ]
     },
     "metadata": {},
     "output_type": "display_data"
    },
    {
     "data": {
      "text/html": [
       "<pre>| 741       | 18311.785921 | 0.426864      |</pre>"
      ],
      "text/plain": [
       "| 741       | 18311.785921 | 0.426864      |"
      ]
     },
     "metadata": {},
     "output_type": "display_data"
    },
    {
     "data": {
      "text/html": [
       "<pre>| 742       | 18336.671793 | 0.426857      |</pre>"
      ],
      "text/plain": [
       "| 742       | 18336.671793 | 0.426857      |"
      ]
     },
     "metadata": {},
     "output_type": "display_data"
    },
    {
     "data": {
      "text/html": [
       "<pre>| 743       | 18362.218418 | 0.426847      |</pre>"
      ],
      "text/plain": [
       "| 743       | 18362.218418 | 0.426847      |"
      ]
     },
     "metadata": {},
     "output_type": "display_data"
    },
    {
     "data": {
      "text/html": [
       "<pre>| 744       | 18385.478709 | 0.426840      |</pre>"
      ],
      "text/plain": [
       "| 744       | 18385.478709 | 0.426840      |"
      ]
     },
     "metadata": {},
     "output_type": "display_data"
    },
    {
     "data": {
      "text/html": [
       "<pre>| 745       | 18410.736003 | 0.426817      |</pre>"
      ],
      "text/plain": [
       "| 745       | 18410.736003 | 0.426817      |"
      ]
     },
     "metadata": {},
     "output_type": "display_data"
    },
    {
     "data": {
      "text/html": [
       "<pre>| 746       | 18434.961755 | 0.426799      |</pre>"
      ],
      "text/plain": [
       "| 746       | 18434.961755 | 0.426799      |"
      ]
     },
     "metadata": {},
     "output_type": "display_data"
    },
    {
     "data": {
      "text/html": [
       "<pre>| 747       | 18460.247139 | 0.426791      |</pre>"
      ],
      "text/plain": [
       "| 747       | 18460.247139 | 0.426791      |"
      ]
     },
     "metadata": {},
     "output_type": "display_data"
    },
    {
     "data": {
      "text/html": [
       "<pre>| 748       | 18484.694023 | 0.426765      |</pre>"
      ],
      "text/plain": [
       "| 748       | 18484.694023 | 0.426765      |"
      ]
     },
     "metadata": {},
     "output_type": "display_data"
    },
    {
     "data": {
      "text/html": [
       "<pre>| 749       | 18508.627873 | 0.426752      |</pre>"
      ],
      "text/plain": [
       "| 749       | 18508.627873 | 0.426752      |"
      ]
     },
     "metadata": {},
     "output_type": "display_data"
    },
    {
     "data": {
      "text/html": [
       "<pre>| 750       | 18533.436514 | 0.426731      |</pre>"
      ],
      "text/plain": [
       "| 750       | 18533.436514 | 0.426731      |"
      ]
     },
     "metadata": {},
     "output_type": "display_data"
    },
    {
     "data": {
      "text/html": [
       "<pre>| 751       | 18557.551385 | 0.426714      |</pre>"
      ],
      "text/plain": [
       "| 751       | 18557.551385 | 0.426714      |"
      ]
     },
     "metadata": {},
     "output_type": "display_data"
    },
    {
     "data": {
      "text/html": [
       "<pre>| 752       | 18582.439996 | 0.426678      |</pre>"
      ],
      "text/plain": [
       "| 752       | 18582.439996 | 0.426678      |"
      ]
     },
     "metadata": {},
     "output_type": "display_data"
    },
    {
     "data": {
      "text/html": [
       "<pre>| 753       | 18605.818775 | 0.426643      |</pre>"
      ],
      "text/plain": [
       "| 753       | 18605.818775 | 0.426643      |"
      ]
     },
     "metadata": {},
     "output_type": "display_data"
    },
    {
     "data": {
      "text/html": [
       "<pre>| 754       | 18630.044890 | 0.426601      |</pre>"
      ],
      "text/plain": [
       "| 754       | 18630.044890 | 0.426601      |"
      ]
     },
     "metadata": {},
     "output_type": "display_data"
    },
    {
     "data": {
      "text/html": [
       "<pre>| 755       | 18655.569084 | 0.426582      |</pre>"
      ],
      "text/plain": [
       "| 755       | 18655.569084 | 0.426582      |"
      ]
     },
     "metadata": {},
     "output_type": "display_data"
    },
    {
     "data": {
      "text/html": [
       "<pre>| 756       | 18682.059726 | 0.426566      |</pre>"
      ],
      "text/plain": [
       "| 756       | 18682.059726 | 0.426566      |"
      ]
     },
     "metadata": {},
     "output_type": "display_data"
    },
    {
     "data": {
      "text/html": [
       "<pre>| 757       | 18707.543309 | 0.426543      |</pre>"
      ],
      "text/plain": [
       "| 757       | 18707.543309 | 0.426543      |"
      ]
     },
     "metadata": {},
     "output_type": "display_data"
    },
    {
     "data": {
      "text/html": [
       "<pre>| 758       | 18732.963402 | 0.426508      |</pre>"
      ],
      "text/plain": [
       "| 758       | 18732.963402 | 0.426508      |"
      ]
     },
     "metadata": {},
     "output_type": "display_data"
    },
    {
     "data": {
      "text/html": [
       "<pre>| 759       | 18758.163219 | 0.426491      |</pre>"
      ],
      "text/plain": [
       "| 759       | 18758.163219 | 0.426491      |"
      ]
     },
     "metadata": {},
     "output_type": "display_data"
    },
    {
     "data": {
      "text/html": [
       "<pre>| 760       | 18783.481602 | 0.426465      |</pre>"
      ],
      "text/plain": [
       "| 760       | 18783.481602 | 0.426465      |"
      ]
     },
     "metadata": {},
     "output_type": "display_data"
    },
    {
     "data": {
      "text/html": [
       "<pre>| 761       | 18807.901993 | 0.426452      |</pre>"
      ],
      "text/plain": [
       "| 761       | 18807.901993 | 0.426452      |"
      ]
     },
     "metadata": {},
     "output_type": "display_data"
    },
    {
     "data": {
      "text/html": [
       "<pre>| 762       | 18832.620419 | 0.426439      |</pre>"
      ],
      "text/plain": [
       "| 762       | 18832.620419 | 0.426439      |"
      ]
     },
     "metadata": {},
     "output_type": "display_data"
    },
    {
     "data": {
      "text/html": [
       "<pre>| 763       | 18858.515413 | 0.426419      |</pre>"
      ],
      "text/plain": [
       "| 763       | 18858.515413 | 0.426419      |"
      ]
     },
     "metadata": {},
     "output_type": "display_data"
    },
    {
     "data": {
      "text/html": [
       "<pre>| 764       | 18883.529941 | 0.426405      |</pre>"
      ],
      "text/plain": [
       "| 764       | 18883.529941 | 0.426405      |"
      ]
     },
     "metadata": {},
     "output_type": "display_data"
    },
    {
     "data": {
      "text/html": [
       "<pre>| 765       | 18908.679379 | 0.426388      |</pre>"
      ],
      "text/plain": [
       "| 765       | 18908.679379 | 0.426388      |"
      ]
     },
     "metadata": {},
     "output_type": "display_data"
    },
    {
     "data": {
      "text/html": [
       "<pre>| 766       | 18932.198688 | 0.426377      |</pre>"
      ],
      "text/plain": [
       "| 766       | 18932.198688 | 0.426377      |"
      ]
     },
     "metadata": {},
     "output_type": "display_data"
    },
    {
     "data": {
      "text/html": [
       "<pre>| 767       | 18956.988468 | 0.426355      |</pre>"
      ],
      "text/plain": [
       "| 767       | 18956.988468 | 0.426355      |"
      ]
     },
     "metadata": {},
     "output_type": "display_data"
    },
    {
     "data": {
      "text/html": [
       "<pre>| 768       | 18980.020569 | 0.426340      |</pre>"
      ],
      "text/plain": [
       "| 768       | 18980.020569 | 0.426340      |"
      ]
     },
     "metadata": {},
     "output_type": "display_data"
    },
    {
     "data": {
      "text/html": [
       "<pre>| 769       | 19004.216106 | 0.426323      |</pre>"
      ],
      "text/plain": [
       "| 769       | 19004.216106 | 0.426323      |"
      ]
     },
     "metadata": {},
     "output_type": "display_data"
    },
    {
     "data": {
      "text/html": [
       "<pre>| 770       | 19027.117061 | 0.426305      |</pre>"
      ],
      "text/plain": [
       "| 770       | 19027.117061 | 0.426305      |"
      ]
     },
     "metadata": {},
     "output_type": "display_data"
    },
    {
     "data": {
      "text/html": [
       "<pre>| 771       | 19050.165854 | 0.426293      |</pre>"
      ],
      "text/plain": [
       "| 771       | 19050.165854 | 0.426293      |"
      ]
     },
     "metadata": {},
     "output_type": "display_data"
    },
    {
     "data": {
      "text/html": [
       "<pre>| 772       | 19074.218182 | 0.426279      |</pre>"
      ],
      "text/plain": [
       "| 772       | 19074.218182 | 0.426279      |"
      ]
     },
     "metadata": {},
     "output_type": "display_data"
    },
    {
     "data": {
      "text/html": [
       "<pre>| 773       | 19097.995452 | 0.426261      |</pre>"
      ],
      "text/plain": [
       "| 773       | 19097.995452 | 0.426261      |"
      ]
     },
     "metadata": {},
     "output_type": "display_data"
    },
    {
     "data": {
      "text/html": [
       "<pre>| 774       | 19122.035433 | 0.426248      |</pre>"
      ],
      "text/plain": [
       "| 774       | 19122.035433 | 0.426248      |"
      ]
     },
     "metadata": {},
     "output_type": "display_data"
    },
    {
     "data": {
      "text/html": [
       "<pre>| 775       | 19145.284296 | 0.426233      |</pre>"
      ],
      "text/plain": [
       "| 775       | 19145.284296 | 0.426233      |"
      ]
     },
     "metadata": {},
     "output_type": "display_data"
    },
    {
     "data": {
      "text/html": [
       "<pre>| 776       | 19170.137620 | 0.426200      |</pre>"
      ],
      "text/plain": [
       "| 776       | 19170.137620 | 0.426200      |"
      ]
     },
     "metadata": {},
     "output_type": "display_data"
    },
    {
     "data": {
      "text/html": [
       "<pre>| 777       | 19194.117177 | 0.426185      |</pre>"
      ],
      "text/plain": [
       "| 777       | 19194.117177 | 0.426185      |"
      ]
     },
     "metadata": {},
     "output_type": "display_data"
    },
    {
     "data": {
      "text/html": [
       "<pre>| 778       | 19219.627073 | 0.426176      |</pre>"
      ],
      "text/plain": [
       "| 778       | 19219.627073 | 0.426176      |"
      ]
     },
     "metadata": {},
     "output_type": "display_data"
    },
    {
     "data": {
      "text/html": [
       "<pre>| 779       | 19245.025255 | 0.426158      |</pre>"
      ],
      "text/plain": [
       "| 779       | 19245.025255 | 0.426158      |"
      ]
     },
     "metadata": {},
     "output_type": "display_data"
    },
    {
     "data": {
      "text/html": [
       "<pre>| 780       | 19270.215940 | 0.426144      |</pre>"
      ],
      "text/plain": [
       "| 780       | 19270.215940 | 0.426144      |"
      ]
     },
     "metadata": {},
     "output_type": "display_data"
    },
    {
     "data": {
      "text/html": [
       "<pre>| 781       | 19296.027642 | 0.426111      |</pre>"
      ],
      "text/plain": [
       "| 781       | 19296.027642 | 0.426111      |"
      ]
     },
     "metadata": {},
     "output_type": "display_data"
    },
    {
     "data": {
      "text/html": [
       "<pre>| 782       | 19320.779402 | 0.426097      |</pre>"
      ],
      "text/plain": [
       "| 782       | 19320.779402 | 0.426097      |"
      ]
     },
     "metadata": {},
     "output_type": "display_data"
    },
    {
     "data": {
      "text/html": [
       "<pre>| 783       | 19346.816578 | 0.426078      |</pre>"
      ],
      "text/plain": [
       "| 783       | 19346.816578 | 0.426078      |"
      ]
     },
     "metadata": {},
     "output_type": "display_data"
    },
    {
     "data": {
      "text/html": [
       "<pre>| 784       | 19374.037682 | 0.426053      |</pre>"
      ],
      "text/plain": [
       "| 784       | 19374.037682 | 0.426053      |"
      ]
     },
     "metadata": {},
     "output_type": "display_data"
    },
    {
     "data": {
      "text/html": [
       "<pre>| 785       | 19399.904704 | 0.426038      |</pre>"
      ],
      "text/plain": [
       "| 785       | 19399.904704 | 0.426038      |"
      ]
     },
     "metadata": {},
     "output_type": "display_data"
    },
    {
     "data": {
      "text/html": [
       "<pre>| 786       | 19424.806179 | 0.426021      |</pre>"
      ],
      "text/plain": [
       "| 786       | 19424.806179 | 0.426021      |"
      ]
     },
     "metadata": {},
     "output_type": "display_data"
    },
    {
     "data": {
      "text/html": [
       "<pre>| 787       | 19448.279555 | 0.425992      |</pre>"
      ],
      "text/plain": [
       "| 787       | 19448.279555 | 0.425992      |"
      ]
     },
     "metadata": {},
     "output_type": "display_data"
    },
    {
     "data": {
      "text/html": [
       "<pre>| 788       | 19471.877149 | 0.425968      |</pre>"
      ],
      "text/plain": [
       "| 788       | 19471.877149 | 0.425968      |"
      ]
     },
     "metadata": {},
     "output_type": "display_data"
    },
    {
     "data": {
      "text/html": [
       "<pre>| 789       | 19497.345912 | 0.425944      |</pre>"
      ],
      "text/plain": [
       "| 789       | 19497.345912 | 0.425944      |"
      ]
     },
     "metadata": {},
     "output_type": "display_data"
    },
    {
     "data": {
      "text/html": [
       "<pre>| 790       | 19521.445829 | 0.425940      |</pre>"
      ],
      "text/plain": [
       "| 790       | 19521.445829 | 0.425940      |"
      ]
     },
     "metadata": {},
     "output_type": "display_data"
    },
    {
     "data": {
      "text/html": [
       "<pre>| 791       | 19545.457071 | 0.425927      |</pre>"
      ],
      "text/plain": [
       "| 791       | 19545.457071 | 0.425927      |"
      ]
     },
     "metadata": {},
     "output_type": "display_data"
    },
    {
     "data": {
      "text/html": [
       "<pre>| 792       | 19568.842371 | 0.425907      |</pre>"
      ],
      "text/plain": [
       "| 792       | 19568.842371 | 0.425907      |"
      ]
     },
     "metadata": {},
     "output_type": "display_data"
    },
    {
     "data": {
      "text/html": [
       "<pre>| 793       | 19592.992587 | 0.425899      |</pre>"
      ],
      "text/plain": [
       "| 793       | 19592.992587 | 0.425899      |"
      ]
     },
     "metadata": {},
     "output_type": "display_data"
    },
    {
     "data": {
      "text/html": [
       "<pre>| 794       | 19615.769764 | 0.425884      |</pre>"
      ],
      "text/plain": [
       "| 794       | 19615.769764 | 0.425884      |"
      ]
     },
     "metadata": {},
     "output_type": "display_data"
    },
    {
     "data": {
      "text/html": [
       "<pre>| 795       | 19639.746926 | 0.425866      |</pre>"
      ],
      "text/plain": [
       "| 795       | 19639.746926 | 0.425866      |"
      ]
     },
     "metadata": {},
     "output_type": "display_data"
    },
    {
     "data": {
      "text/html": [
       "<pre>| 796       | 19664.411246 | 0.425850      |</pre>"
      ],
      "text/plain": [
       "| 796       | 19664.411246 | 0.425850      |"
      ]
     },
     "metadata": {},
     "output_type": "display_data"
    },
    {
     "data": {
      "text/html": [
       "<pre>| 797       | 19688.357945 | 0.425828      |</pre>"
      ],
      "text/plain": [
       "| 797       | 19688.357945 | 0.425828      |"
      ]
     },
     "metadata": {},
     "output_type": "display_data"
    },
    {
     "data": {
      "text/html": [
       "<pre>| 798       | 19714.499849 | 0.425815      |</pre>"
      ],
      "text/plain": [
       "| 798       | 19714.499849 | 0.425815      |"
      ]
     },
     "metadata": {},
     "output_type": "display_data"
    },
    {
     "data": {
      "text/html": [
       "<pre>| 799       | 19739.371737 | 0.425793      |</pre>"
      ],
      "text/plain": [
       "| 799       | 19739.371737 | 0.425793      |"
      ]
     },
     "metadata": {},
     "output_type": "display_data"
    },
    {
     "data": {
      "text/html": [
       "<pre>| 800       | 19763.923261 | 0.425785      |</pre>"
      ],
      "text/plain": [
       "| 800       | 19763.923261 | 0.425785      |"
      ]
     },
     "metadata": {},
     "output_type": "display_data"
    },
    {
     "data": {
      "text/html": [
       "<pre>| 801       | 19789.115640 | 0.425772      |</pre>"
      ],
      "text/plain": [
       "| 801       | 19789.115640 | 0.425772      |"
      ]
     },
     "metadata": {},
     "output_type": "display_data"
    },
    {
     "data": {
      "text/html": [
       "<pre>| 802       | 19813.678119 | 0.425764      |</pre>"
      ],
      "text/plain": [
       "| 802       | 19813.678119 | 0.425764      |"
      ]
     },
     "metadata": {},
     "output_type": "display_data"
    },
    {
     "data": {
      "text/html": [
       "<pre>| 803       | 19838.027868 | 0.425740      |</pre>"
      ],
      "text/plain": [
       "| 803       | 19838.027868 | 0.425740      |"
      ]
     },
     "metadata": {},
     "output_type": "display_data"
    },
    {
     "data": {
      "text/html": [
       "<pre>| 804       | 19864.596778 | 0.425731      |</pre>"
      ],
      "text/plain": [
       "| 804       | 19864.596778 | 0.425731      |"
      ]
     },
     "metadata": {},
     "output_type": "display_data"
    },
    {
     "data": {
      "text/html": [
       "<pre>| 805       | 19891.600624 | 0.425692      |</pre>"
      ],
      "text/plain": [
       "| 805       | 19891.600624 | 0.425692      |"
      ]
     },
     "metadata": {},
     "output_type": "display_data"
    },
    {
     "data": {
      "text/html": [
       "<pre>| 806       | 19916.541858 | 0.425680      |</pre>"
      ],
      "text/plain": [
       "| 806       | 19916.541858 | 0.425680      |"
      ]
     },
     "metadata": {},
     "output_type": "display_data"
    },
    {
     "data": {
      "text/html": [
       "<pre>| 807       | 19940.447545 | 0.425651      |</pre>"
      ],
      "text/plain": [
       "| 807       | 19940.447545 | 0.425651      |"
      ]
     },
     "metadata": {},
     "output_type": "display_data"
    },
    {
     "data": {
      "text/html": [
       "<pre>| 808       | 19965.255462 | 0.425630      |</pre>"
      ],
      "text/plain": [
       "| 808       | 19965.255462 | 0.425630      |"
      ]
     },
     "metadata": {},
     "output_type": "display_data"
    },
    {
     "data": {
      "text/html": [
       "<pre>| 809       | 19989.996731 | 0.425611      |</pre>"
      ],
      "text/plain": [
       "| 809       | 19989.996731 | 0.425611      |"
      ]
     },
     "metadata": {},
     "output_type": "display_data"
    },
    {
     "data": {
      "text/html": [
       "<pre>| 810       | 20014.686086 | 0.425587      |</pre>"
      ],
      "text/plain": [
       "| 810       | 20014.686086 | 0.425587      |"
      ]
     },
     "metadata": {},
     "output_type": "display_data"
    },
    {
     "data": {
      "text/html": [
       "<pre>| 811       | 20039.806136 | 0.425577      |</pre>"
      ],
      "text/plain": [
       "| 811       | 20039.806136 | 0.425577      |"
      ]
     },
     "metadata": {},
     "output_type": "display_data"
    },
    {
     "data": {
      "text/html": [
       "<pre>| 812       | 20063.545976 | 0.425557      |</pre>"
      ],
      "text/plain": [
       "| 812       | 20063.545976 | 0.425557      |"
      ]
     },
     "metadata": {},
     "output_type": "display_data"
    },
    {
     "data": {
      "text/html": [
       "<pre>| 813       | 20087.317976 | 0.425537      |</pre>"
      ],
      "text/plain": [
       "| 813       | 20087.317976 | 0.425537      |"
      ]
     },
     "metadata": {},
     "output_type": "display_data"
    },
    {
     "data": {
      "text/html": [
       "<pre>| 814       | 20111.291658 | 0.425501      |</pre>"
      ],
      "text/plain": [
       "| 814       | 20111.291658 | 0.425501      |"
      ]
     },
     "metadata": {},
     "output_type": "display_data"
    },
    {
     "data": {
      "text/html": [
       "<pre>| 815       | 20134.455091 | 0.425495      |</pre>"
      ],
      "text/plain": [
       "| 815       | 20134.455091 | 0.425495      |"
      ]
     },
     "metadata": {},
     "output_type": "display_data"
    },
    {
     "data": {
      "text/html": [
       "<pre>| 816       | 20157.733947 | 0.425473      |</pre>"
      ],
      "text/plain": [
       "| 816       | 20157.733947 | 0.425473      |"
      ]
     },
     "metadata": {},
     "output_type": "display_data"
    },
    {
     "data": {
      "text/html": [
       "<pre>| 817       | 20182.362225 | 0.425454      |</pre>"
      ],
      "text/plain": [
       "| 817       | 20182.362225 | 0.425454      |"
      ]
     },
     "metadata": {},
     "output_type": "display_data"
    },
    {
     "data": {
      "text/html": [
       "<pre>| 818       | 20206.682469 | 0.425431      |</pre>"
      ],
      "text/plain": [
       "| 818       | 20206.682469 | 0.425431      |"
      ]
     },
     "metadata": {},
     "output_type": "display_data"
    },
    {
     "data": {
      "text/html": [
       "<pre>| 819       | 20231.532891 | 0.425407      |</pre>"
      ],
      "text/plain": [
       "| 819       | 20231.532891 | 0.425407      |"
      ]
     },
     "metadata": {},
     "output_type": "display_data"
    },
    {
     "data": {
      "text/html": [
       "<pre>| 820       | 20257.170045 | 0.425397      |</pre>"
      ],
      "text/plain": [
       "| 820       | 20257.170045 | 0.425397      |"
      ]
     },
     "metadata": {},
     "output_type": "display_data"
    },
    {
     "data": {
      "text/html": [
       "<pre>| 821       | 20283.235496 | 0.425379      |</pre>"
      ],
      "text/plain": [
       "| 821       | 20283.235496 | 0.425379      |"
      ]
     },
     "metadata": {},
     "output_type": "display_data"
    },
    {
     "data": {
      "text/html": [
       "<pre>| 822       | 20308.350131 | 0.425355      |</pre>"
      ],
      "text/plain": [
       "| 822       | 20308.350131 | 0.425355      |"
      ]
     },
     "metadata": {},
     "output_type": "display_data"
    },
    {
     "data": {
      "text/html": [
       "<pre>| 823       | 20334.079941 | 0.425333      |</pre>"
      ],
      "text/plain": [
       "| 823       | 20334.079941 | 0.425333      |"
      ]
     },
     "metadata": {},
     "output_type": "display_data"
    },
    {
     "data": {
      "text/html": [
       "<pre>| 824       | 20358.475057 | 0.425306      |</pre>"
      ],
      "text/plain": [
       "| 824       | 20358.475057 | 0.425306      |"
      ]
     },
     "metadata": {},
     "output_type": "display_data"
    },
    {
     "data": {
      "text/html": [
       "<pre>| 825       | 20384.150759 | 0.425296      |</pre>"
      ],
      "text/plain": [
       "| 825       | 20384.150759 | 0.425296      |"
      ]
     },
     "metadata": {},
     "output_type": "display_data"
    },
    {
     "data": {
      "text/html": [
       "<pre>| 826       | 20409.370104 | 0.425271      |</pre>"
      ],
      "text/plain": [
       "| 826       | 20409.370104 | 0.425271      |"
      ]
     },
     "metadata": {},
     "output_type": "display_data"
    },
    {
     "data": {
      "text/html": [
       "<pre>| 827       | 20433.886994 | 0.425245      |</pre>"
      ],
      "text/plain": [
       "| 827       | 20433.886994 | 0.425245      |"
      ]
     },
     "metadata": {},
     "output_type": "display_data"
    },
    {
     "data": {
      "text/html": [
       "<pre>| 828       | 20457.753745 | 0.425226      |</pre>"
      ],
      "text/plain": [
       "| 828       | 20457.753745 | 0.425226      |"
      ]
     },
     "metadata": {},
     "output_type": "display_data"
    },
    {
     "data": {
      "text/html": [
       "<pre>| 829       | 20482.865218 | 0.425216      |</pre>"
      ],
      "text/plain": [
       "| 829       | 20482.865218 | 0.425216      |"
      ]
     },
     "metadata": {},
     "output_type": "display_data"
    },
    {
     "data": {
      "text/html": [
       "<pre>| 830       | 20507.005820 | 0.425193      |</pre>"
      ],
      "text/plain": [
       "| 830       | 20507.005820 | 0.425193      |"
      ]
     },
     "metadata": {},
     "output_type": "display_data"
    },
    {
     "data": {
      "text/html": [
       "<pre>| 831       | 20533.013027 | 0.425171      |</pre>"
      ],
      "text/plain": [
       "| 831       | 20533.013027 | 0.425171      |"
      ]
     },
     "metadata": {},
     "output_type": "display_data"
    },
    {
     "data": {
      "text/html": [
       "<pre>| 832       | 20557.148432 | 0.425153      |</pre>"
      ],
      "text/plain": [
       "| 832       | 20557.148432 | 0.425153      |"
      ]
     },
     "metadata": {},
     "output_type": "display_data"
    },
    {
     "data": {
      "text/html": [
       "<pre>| 833       | 20582.389627 | 0.425135      |</pre>"
      ],
      "text/plain": [
       "| 833       | 20582.389627 | 0.425135      |"
      ]
     },
     "metadata": {},
     "output_type": "display_data"
    },
    {
     "data": {
      "text/html": [
       "<pre>| 834       | 20605.379650 | 0.425119      |</pre>"
      ],
      "text/plain": [
       "| 834       | 20605.379650 | 0.425119      |"
      ]
     },
     "metadata": {},
     "output_type": "display_data"
    },
    {
     "data": {
      "text/html": [
       "<pre>| 835       | 20629.931722 | 0.425106      |</pre>"
      ],
      "text/plain": [
       "| 835       | 20629.931722 | 0.425106      |"
      ]
     },
     "metadata": {},
     "output_type": "display_data"
    },
    {
     "data": {
      "text/html": [
       "<pre>| 836       | 20653.707012 | 0.425085      |</pre>"
      ],
      "text/plain": [
       "| 836       | 20653.707012 | 0.425085      |"
      ]
     },
     "metadata": {},
     "output_type": "display_data"
    },
    {
     "data": {
      "text/html": [
       "<pre>| 837       | 20678.959434 | 0.425061      |</pre>"
      ],
      "text/plain": [
       "| 837       | 20678.959434 | 0.425061      |"
      ]
     },
     "metadata": {},
     "output_type": "display_data"
    },
    {
     "data": {
      "text/html": [
       "<pre>| 838       | 20705.687704 | 0.425038      |</pre>"
      ],
      "text/plain": [
       "| 838       | 20705.687704 | 0.425038      |"
      ]
     },
     "metadata": {},
     "output_type": "display_data"
    },
    {
     "data": {
      "text/html": [
       "<pre>| 839       | 20730.543892 | 0.425017      |</pre>"
      ],
      "text/plain": [
       "| 839       | 20730.543892 | 0.425017      |"
      ]
     },
     "metadata": {},
     "output_type": "display_data"
    },
    {
     "data": {
      "text/html": [
       "<pre>| 840       | 20755.756193 | 0.424986      |</pre>"
      ],
      "text/plain": [
       "| 840       | 20755.756193 | 0.424986      |"
      ]
     },
     "metadata": {},
     "output_type": "display_data"
    },
    {
     "data": {
      "text/html": [
       "<pre>| 841       | 20778.673313 | 0.424966      |</pre>"
      ],
      "text/plain": [
       "| 841       | 20778.673313 | 0.424966      |"
      ]
     },
     "metadata": {},
     "output_type": "display_data"
    },
    {
     "data": {
      "text/html": [
       "<pre>| 842       | 20803.582391 | 0.424957      |</pre>"
      ],
      "text/plain": [
       "| 842       | 20803.582391 | 0.424957      |"
      ]
     },
     "metadata": {},
     "output_type": "display_data"
    },
    {
     "data": {
      "text/html": [
       "<pre>| 843       | 20828.651110 | 0.424946      |</pre>"
      ],
      "text/plain": [
       "| 843       | 20828.651110 | 0.424946      |"
      ]
     },
     "metadata": {},
     "output_type": "display_data"
    },
    {
     "data": {
      "text/html": [
       "<pre>| 844       | 20853.868593 | 0.424923      |</pre>"
      ],
      "text/plain": [
       "| 844       | 20853.868593 | 0.424923      |"
      ]
     },
     "metadata": {},
     "output_type": "display_data"
    },
    {
     "data": {
      "text/html": [
       "<pre>| 845       | 20877.964547 | 0.424907      |</pre>"
      ],
      "text/plain": [
       "| 845       | 20877.964547 | 0.424907      |"
      ]
     },
     "metadata": {},
     "output_type": "display_data"
    },
    {
     "data": {
      "text/html": [
       "<pre>| 846       | 20902.063661 | 0.424883      |</pre>"
      ],
      "text/plain": [
       "| 846       | 20902.063661 | 0.424883      |"
      ]
     },
     "metadata": {},
     "output_type": "display_data"
    },
    {
     "data": {
      "text/html": [
       "<pre>| 847       | 20928.893967 | 0.424856      |</pre>"
      ],
      "text/plain": [
       "| 847       | 20928.893967 | 0.424856      |"
      ]
     },
     "metadata": {},
     "output_type": "display_data"
    },
    {
     "data": {
      "text/html": [
       "<pre>| 848       | 20953.593145 | 0.424844      |</pre>"
      ],
      "text/plain": [
       "| 848       | 20953.593145 | 0.424844      |"
      ]
     },
     "metadata": {},
     "output_type": "display_data"
    },
    {
     "data": {
      "text/html": [
       "<pre>| 849       | 20978.822128 | 0.424807      |</pre>"
      ],
      "text/plain": [
       "| 849       | 20978.822128 | 0.424807      |"
      ]
     },
     "metadata": {},
     "output_type": "display_data"
    },
    {
     "data": {
      "text/html": [
       "<pre>| 850       | 21004.866878 | 0.424787      |</pre>"
      ],
      "text/plain": [
       "| 850       | 21004.866878 | 0.424787      |"
      ]
     },
     "metadata": {},
     "output_type": "display_data"
    },
    {
     "data": {
      "text/html": [
       "<pre>| 851       | 21030.697362 | 0.424765      |</pre>"
      ],
      "text/plain": [
       "| 851       | 21030.697362 | 0.424765      |"
      ]
     },
     "metadata": {},
     "output_type": "display_data"
    },
    {
     "data": {
      "text/html": [
       "<pre>| 852       | 21054.871613 | 0.424736      |</pre>"
      ],
      "text/plain": [
       "| 852       | 21054.871613 | 0.424736      |"
      ]
     },
     "metadata": {},
     "output_type": "display_data"
    },
    {
     "data": {
      "text/html": [
       "<pre>| 853       | 21079.668762 | 0.424704      |</pre>"
      ],
      "text/plain": [
       "| 853       | 21079.668762 | 0.424704      |"
      ]
     },
     "metadata": {},
     "output_type": "display_data"
    },
    {
     "data": {
      "text/html": [
       "<pre>| 854       | 21105.783845 | 0.424693      |</pre>"
      ],
      "text/plain": [
       "| 854       | 21105.783845 | 0.424693      |"
      ]
     },
     "metadata": {},
     "output_type": "display_data"
    },
    {
     "data": {
      "text/html": [
       "<pre>| 855       | 21130.348648 | 0.424667      |</pre>"
      ],
      "text/plain": [
       "| 855       | 21130.348648 | 0.424667      |"
      ]
     },
     "metadata": {},
     "output_type": "display_data"
    },
    {
     "data": {
      "text/html": [
       "<pre>| 856       | 21155.547129 | 0.424646      |</pre>"
      ],
      "text/plain": [
       "| 856       | 21155.547129 | 0.424646      |"
      ]
     },
     "metadata": {},
     "output_type": "display_data"
    },
    {
     "data": {
      "text/html": [
       "<pre>| 857       | 21181.205791 | 0.424636      |</pre>"
      ],
      "text/plain": [
       "| 857       | 21181.205791 | 0.424636      |"
      ]
     },
     "metadata": {},
     "output_type": "display_data"
    },
    {
     "data": {
      "text/html": [
       "<pre>| 858       | 21206.181564 | 0.424619      |</pre>"
      ],
      "text/plain": [
       "| 858       | 21206.181564 | 0.424619      |"
      ]
     },
     "metadata": {},
     "output_type": "display_data"
    },
    {
     "data": {
      "text/html": [
       "<pre>| 859       | 21231.068673 | 0.424592      |</pre>"
      ],
      "text/plain": [
       "| 859       | 21231.068673 | 0.424592      |"
      ]
     },
     "metadata": {},
     "output_type": "display_data"
    },
    {
     "data": {
      "text/html": [
       "<pre>| 860       | 21255.987494 | 0.424580      |</pre>"
      ],
      "text/plain": [
       "| 860       | 21255.987494 | 0.424580      |"
      ]
     },
     "metadata": {},
     "output_type": "display_data"
    },
    {
     "data": {
      "text/html": [
       "<pre>| 861       | 21279.919047 | 0.424572      |</pre>"
      ],
      "text/plain": [
       "| 861       | 21279.919047 | 0.424572      |"
      ]
     },
     "metadata": {},
     "output_type": "display_data"
    },
    {
     "data": {
      "text/html": [
       "<pre>| 862       | 21303.353290 | 0.424555      |</pre>"
      ],
      "text/plain": [
       "| 862       | 21303.353290 | 0.424555      |"
      ]
     },
     "metadata": {},
     "output_type": "display_data"
    },
    {
     "data": {
      "text/html": [
       "<pre>| 863       | 21328.593679 | 0.424526      |</pre>"
      ],
      "text/plain": [
       "| 863       | 21328.593679 | 0.424526      |"
      ]
     },
     "metadata": {},
     "output_type": "display_data"
    },
    {
     "data": {
      "text/html": [
       "<pre>| 864       | 21353.081276 | 0.424498      |</pre>"
      ],
      "text/plain": [
       "| 864       | 21353.081276 | 0.424498      |"
      ]
     },
     "metadata": {},
     "output_type": "display_data"
    },
    {
     "data": {
      "text/html": [
       "<pre>| 865       | 21379.849784 | 0.424475      |</pre>"
      ],
      "text/plain": [
       "| 865       | 21379.849784 | 0.424475      |"
      ]
     },
     "metadata": {},
     "output_type": "display_data"
    },
    {
     "data": {
      "text/html": [
       "<pre>| 866       | 21406.030476 | 0.424454      |</pre>"
      ],
      "text/plain": [
       "| 866       | 21406.030476 | 0.424454      |"
      ]
     },
     "metadata": {},
     "output_type": "display_data"
    },
    {
     "data": {
      "text/html": [
       "<pre>| 867       | 21430.784476 | 0.424442      |</pre>"
      ],
      "text/plain": [
       "| 867       | 21430.784476 | 0.424442      |"
      ]
     },
     "metadata": {},
     "output_type": "display_data"
    },
    {
     "data": {
      "text/html": [
       "<pre>| 868       | 21455.886293 | 0.424419      |</pre>"
      ],
      "text/plain": [
       "| 868       | 21455.886293 | 0.424419      |"
      ]
     },
     "metadata": {},
     "output_type": "display_data"
    },
    {
     "data": {
      "text/html": [
       "<pre>| 869       | 21481.305700 | 0.424398      |</pre>"
      ],
      "text/plain": [
       "| 869       | 21481.305700 | 0.424398      |"
      ]
     },
     "metadata": {},
     "output_type": "display_data"
    },
    {
     "data": {
      "text/html": [
       "<pre>| 870       | 21506.438622 | 0.424374      |</pre>"
      ],
      "text/plain": [
       "| 870       | 21506.438622 | 0.424374      |"
      ]
     },
     "metadata": {},
     "output_type": "display_data"
    },
    {
     "data": {
      "text/html": [
       "<pre>| 871       | 21532.325209 | 0.424352      |</pre>"
      ],
      "text/plain": [
       "| 871       | 21532.325209 | 0.424352      |"
      ]
     },
     "metadata": {},
     "output_type": "display_data"
    },
    {
     "data": {
      "text/html": [
       "<pre>| 872       | 21558.085927 | 0.424334      |</pre>"
      ],
      "text/plain": [
       "| 872       | 21558.085927 | 0.424334      |"
      ]
     },
     "metadata": {},
     "output_type": "display_data"
    },
    {
     "data": {
      "text/html": [
       "<pre>| 873       | 21583.273116 | 0.424325      |</pre>"
      ],
      "text/plain": [
       "| 873       | 21583.273116 | 0.424325      |"
      ]
     },
     "metadata": {},
     "output_type": "display_data"
    },
    {
     "data": {
      "text/html": [
       "<pre>| 874       | 21607.298605 | 0.424309      |</pre>"
      ],
      "text/plain": [
       "| 874       | 21607.298605 | 0.424309      |"
      ]
     },
     "metadata": {},
     "output_type": "display_data"
    },
    {
     "data": {
      "text/html": [
       "<pre>| 875       | 21631.637173 | 0.424295      |</pre>"
      ],
      "text/plain": [
       "| 875       | 21631.637173 | 0.424295      |"
      ]
     },
     "metadata": {},
     "output_type": "display_data"
    },
    {
     "data": {
      "text/html": [
       "<pre>| 876       | 21655.971709 | 0.424269      |</pre>"
      ],
      "text/plain": [
       "| 876       | 21655.971709 | 0.424269      |"
      ]
     },
     "metadata": {},
     "output_type": "display_data"
    },
    {
     "data": {
      "text/html": [
       "<pre>| 877       | 21679.996827 | 0.424262      |</pre>"
      ],
      "text/plain": [
       "| 877       | 21679.996827 | 0.424262      |"
      ]
     },
     "metadata": {},
     "output_type": "display_data"
    },
    {
     "data": {
      "text/html": [
       "<pre>| 878       | 21704.905121 | 0.424243      |</pre>"
      ],
      "text/plain": [
       "| 878       | 21704.905121 | 0.424243      |"
      ]
     },
     "metadata": {},
     "output_type": "display_data"
    },
    {
     "data": {
      "text/html": [
       "<pre>| 879       | 21729.561309 | 0.424217      |</pre>"
      ],
      "text/plain": [
       "| 879       | 21729.561309 | 0.424217      |"
      ]
     },
     "metadata": {},
     "output_type": "display_data"
    },
    {
     "data": {
      "text/html": [
       "<pre>| 880       | 21752.490289 | 0.424198      |</pre>"
      ],
      "text/plain": [
       "| 880       | 21752.490289 | 0.424198      |"
      ]
     },
     "metadata": {},
     "output_type": "display_data"
    },
    {
     "data": {
      "text/html": [
       "<pre>| 881       | 21776.755120 | 0.424191      |</pre>"
      ],
      "text/plain": [
       "| 881       | 21776.755120 | 0.424191      |"
      ]
     },
     "metadata": {},
     "output_type": "display_data"
    },
    {
     "data": {
      "text/html": [
       "<pre>| 882       | 21799.543542 | 0.424176      |</pre>"
      ],
      "text/plain": [
       "| 882       | 21799.543542 | 0.424176      |"
      ]
     },
     "metadata": {},
     "output_type": "display_data"
    },
    {
     "data": {
      "text/html": [
       "<pre>| 883       | 21823.878851 | 0.424159      |</pre>"
      ],
      "text/plain": [
       "| 883       | 21823.878851 | 0.424159      |"
      ]
     },
     "metadata": {},
     "output_type": "display_data"
    },
    {
     "data": {
      "text/html": [
       "<pre>| 884       | 21848.779741 | 0.424147      |</pre>"
      ],
      "text/plain": [
       "| 884       | 21848.779741 | 0.424147      |"
      ]
     },
     "metadata": {},
     "output_type": "display_data"
    },
    {
     "data": {
      "text/html": [
       "<pre>| 885       | 21873.473070 | 0.424128      |</pre>"
      ],
      "text/plain": [
       "| 885       | 21873.473070 | 0.424128      |"
      ]
     },
     "metadata": {},
     "output_type": "display_data"
    },
    {
     "data": {
      "text/html": [
       "<pre>| 886       | 21898.895964 | 0.424107      |</pre>"
      ],
      "text/plain": [
       "| 886       | 21898.895964 | 0.424107      |"
      ]
     },
     "metadata": {},
     "output_type": "display_data"
    },
    {
     "data": {
      "text/html": [
       "<pre>| 887       | 21924.890422 | 0.424086      |</pre>"
      ],
      "text/plain": [
       "| 887       | 21924.890422 | 0.424086      |"
      ]
     },
     "metadata": {},
     "output_type": "display_data"
    },
    {
     "data": {
      "text/html": [
       "<pre>| 888       | 21949.649087 | 0.424066      |</pre>"
      ],
      "text/plain": [
       "| 888       | 21949.649087 | 0.424066      |"
      ]
     },
     "metadata": {},
     "output_type": "display_data"
    },
    {
     "data": {
      "text/html": [
       "<pre>| 889       | 21973.321432 | 0.424056      |</pre>"
      ],
      "text/plain": [
       "| 889       | 21973.321432 | 0.424056      |"
      ]
     },
     "metadata": {},
     "output_type": "display_data"
    },
    {
     "data": {
      "text/html": [
       "<pre>| 890       | 21996.052800 | 0.424039      |</pre>"
      ],
      "text/plain": [
       "| 890       | 21996.052800 | 0.424039      |"
      ]
     },
     "metadata": {},
     "output_type": "display_data"
    },
    {
     "data": {
      "text/html": [
       "<pre>| 891       | 22018.798093 | 0.424032      |</pre>"
      ],
      "text/plain": [
       "| 891       | 22018.798093 | 0.424032      |"
      ]
     },
     "metadata": {},
     "output_type": "display_data"
    },
    {
     "data": {
      "text/html": [
       "<pre>| 892       | 22043.761739 | 0.424004      |</pre>"
      ],
      "text/plain": [
       "| 892       | 22043.761739 | 0.424004      |"
      ]
     },
     "metadata": {},
     "output_type": "display_data"
    },
    {
     "data": {
      "text/html": [
       "<pre>| 893       | 22068.154004 | 0.423991      |</pre>"
      ],
      "text/plain": [
       "| 893       | 22068.154004 | 0.423991      |"
      ]
     },
     "metadata": {},
     "output_type": "display_data"
    },
    {
     "data": {
      "text/html": [
       "<pre>| 894       | 22093.640871 | 0.423975      |</pre>"
      ],
      "text/plain": [
       "| 894       | 22093.640871 | 0.423975      |"
      ]
     },
     "metadata": {},
     "output_type": "display_data"
    },
    {
     "data": {
      "text/html": [
       "<pre>| 895       | 22118.241321 | 0.423952      |</pre>"
      ],
      "text/plain": [
       "| 895       | 22118.241321 | 0.423952      |"
      ]
     },
     "metadata": {},
     "output_type": "display_data"
    },
    {
     "data": {
      "text/html": [
       "<pre>| 896       | 22141.814221 | 0.423938      |</pre>"
      ],
      "text/plain": [
       "| 896       | 22141.814221 | 0.423938      |"
      ]
     },
     "metadata": {},
     "output_type": "display_data"
    },
    {
     "data": {
      "text/html": [
       "<pre>| 897       | 22165.463189 | 0.423918      |</pre>"
      ],
      "text/plain": [
       "| 897       | 22165.463189 | 0.423918      |"
      ]
     },
     "metadata": {},
     "output_type": "display_data"
    },
    {
     "data": {
      "text/html": [
       "<pre>| 898       | 22190.285858 | 0.423903      |</pre>"
      ],
      "text/plain": [
       "| 898       | 22190.285858 | 0.423903      |"
      ]
     },
     "metadata": {},
     "output_type": "display_data"
    },
    {
     "data": {
      "text/html": [
       "<pre>| 899       | 22214.666399 | 0.423881      |</pre>"
      ],
      "text/plain": [
       "| 899       | 22214.666399 | 0.423881      |"
      ]
     },
     "metadata": {},
     "output_type": "display_data"
    },
    {
     "data": {
      "text/html": [
       "<pre>| 900       | 22238.387408 | 0.423861      |</pre>"
      ],
      "text/plain": [
       "| 900       | 22238.387408 | 0.423861      |"
      ]
     },
     "metadata": {},
     "output_type": "display_data"
    },
    {
     "data": {
      "text/html": [
       "<pre>| 901       | 22263.752064 | 0.423853      |</pre>"
      ],
      "text/plain": [
       "| 901       | 22263.752064 | 0.423853      |"
      ]
     },
     "metadata": {},
     "output_type": "display_data"
    },
    {
     "data": {
      "text/html": [
       "<pre>| 902       | 22289.353787 | 0.423833      |</pre>"
      ],
      "text/plain": [
       "| 902       | 22289.353787 | 0.423833      |"
      ]
     },
     "metadata": {},
     "output_type": "display_data"
    },
    {
     "data": {
      "text/html": [
       "<pre>| 903       | 22313.197586 | 0.423830      |</pre>"
      ],
      "text/plain": [
       "| 903       | 22313.197586 | 0.423830      |"
      ]
     },
     "metadata": {},
     "output_type": "display_data"
    },
    {
     "data": {
      "text/html": [
       "<pre>| 904       | 22339.579336 | 0.423808      |</pre>"
      ],
      "text/plain": [
       "| 904       | 22339.579336 | 0.423808      |"
      ]
     },
     "metadata": {},
     "output_type": "display_data"
    },
    {
     "data": {
      "text/html": [
       "<pre>| 905       | 22362.682121 | 0.423793      |</pre>"
      ],
      "text/plain": [
       "| 905       | 22362.682121 | 0.423793      |"
      ]
     },
     "metadata": {},
     "output_type": "display_data"
    },
    {
     "data": {
      "text/html": [
       "<pre>| 906       | 22387.027590 | 0.423779      |</pre>"
      ],
      "text/plain": [
       "| 906       | 22387.027590 | 0.423779      |"
      ]
     },
     "metadata": {},
     "output_type": "display_data"
    },
    {
     "data": {
      "text/html": [
       "<pre>| 907       | 22411.237936 | 0.423748      |</pre>"
      ],
      "text/plain": [
       "| 907       | 22411.237936 | 0.423748      |"
      ]
     },
     "metadata": {},
     "output_type": "display_data"
    },
    {
     "data": {
      "text/html": [
       "<pre>| 908       | 22435.452086 | 0.423742      |</pre>"
      ],
      "text/plain": [
       "| 908       | 22435.452086 | 0.423742      |"
      ]
     },
     "metadata": {},
     "output_type": "display_data"
    },
    {
     "data": {
      "text/html": [
       "<pre>| 909       | 22460.386010 | 0.423731      |</pre>"
      ],
      "text/plain": [
       "| 909       | 22460.386010 | 0.423731      |"
      ]
     },
     "metadata": {},
     "output_type": "display_data"
    },
    {
     "data": {
      "text/html": [
       "<pre>| 910       | 22486.054091 | 0.423699      |</pre>"
      ],
      "text/plain": [
       "| 910       | 22486.054091 | 0.423699      |"
      ]
     },
     "metadata": {},
     "output_type": "display_data"
    },
    {
     "data": {
      "text/html": [
       "<pre>| 911       | 22510.282702 | 0.423693      |</pre>"
      ],
      "text/plain": [
       "| 911       | 22510.282702 | 0.423693      |"
      ]
     },
     "metadata": {},
     "output_type": "display_data"
    },
    {
     "data": {
      "text/html": [
       "<pre>| 912       | 22534.692513 | 0.423678      |</pre>"
      ],
      "text/plain": [
       "| 912       | 22534.692513 | 0.423678      |"
      ]
     },
     "metadata": {},
     "output_type": "display_data"
    },
    {
     "data": {
      "text/html": [
       "<pre>| 913       | 22559.353372 | 0.423645      |</pre>"
      ],
      "text/plain": [
       "| 913       | 22559.353372 | 0.423645      |"
      ]
     },
     "metadata": {},
     "output_type": "display_data"
    },
    {
     "data": {
      "text/html": [
       "<pre>| 914       | 22585.098495 | 0.423629      |</pre>"
      ],
      "text/plain": [
       "| 914       | 22585.098495 | 0.423629      |"
      ]
     },
     "metadata": {},
     "output_type": "display_data"
    },
    {
     "data": {
      "text/html": [
       "<pre>| 915       | 22610.455077 | 0.423603      |</pre>"
      ],
      "text/plain": [
       "| 915       | 22610.455077 | 0.423603      |"
      ]
     },
     "metadata": {},
     "output_type": "display_data"
    },
    {
     "data": {
      "text/html": [
       "<pre>| 916       | 22634.895636 | 0.423591      |</pre>"
      ],
      "text/plain": [
       "| 916       | 22634.895636 | 0.423591      |"
      ]
     },
     "metadata": {},
     "output_type": "display_data"
    },
    {
     "data": {
      "text/html": [
       "<pre>| 917       | 22659.456899 | 0.423575      |</pre>"
      ],
      "text/plain": [
       "| 917       | 22659.456899 | 0.423575      |"
      ]
     },
     "metadata": {},
     "output_type": "display_data"
    },
    {
     "data": {
      "text/html": [
       "<pre>| 918       | 22683.485488 | 0.423559      |</pre>"
      ],
      "text/plain": [
       "| 918       | 22683.485488 | 0.423559      |"
      ]
     },
     "metadata": {},
     "output_type": "display_data"
    },
    {
     "data": {
      "text/html": [
       "<pre>| 919       | 22708.652250 | 0.423526      |</pre>"
      ],
      "text/plain": [
       "| 919       | 22708.652250 | 0.423526      |"
      ]
     },
     "metadata": {},
     "output_type": "display_data"
    },
    {
     "data": {
      "text/html": [
       "<pre>| 920       | 22733.397565 | 0.423512      |</pre>"
      ],
      "text/plain": [
       "| 920       | 22733.397565 | 0.423512      |"
      ]
     },
     "metadata": {},
     "output_type": "display_data"
    },
    {
     "data": {
      "text/html": [
       "<pre>| 921       | 22757.945380 | 0.423485      |</pre>"
      ],
      "text/plain": [
       "| 921       | 22757.945380 | 0.423485      |"
      ]
     },
     "metadata": {},
     "output_type": "display_data"
    },
    {
     "data": {
      "text/html": [
       "<pre>| 922       | 22782.663442 | 0.423473      |</pre>"
      ],
      "text/plain": [
       "| 922       | 22782.663442 | 0.423473      |"
      ]
     },
     "metadata": {},
     "output_type": "display_data"
    },
    {
     "data": {
      "text/html": [
       "<pre>| 923       | 22806.620222 | 0.423450      |</pre>"
      ],
      "text/plain": [
       "| 923       | 22806.620222 | 0.423450      |"
      ]
     },
     "metadata": {},
     "output_type": "display_data"
    },
    {
     "data": {
      "text/html": [
       "<pre>| 924       | 22832.600914 | 0.423425      |</pre>"
      ],
      "text/plain": [
       "| 924       | 22832.600914 | 0.423425      |"
      ]
     },
     "metadata": {},
     "output_type": "display_data"
    },
    {
     "data": {
      "text/html": [
       "<pre>| 925       | 22856.436631 | 0.423404      |</pre>"
      ],
      "text/plain": [
       "| 925       | 22856.436631 | 0.423404      |"
      ]
     },
     "metadata": {},
     "output_type": "display_data"
    },
    {
     "data": {
      "text/html": [
       "<pre>| 926       | 22882.789137 | 0.423372      |</pre>"
      ],
      "text/plain": [
       "| 926       | 22882.789137 | 0.423372      |"
      ]
     },
     "metadata": {},
     "output_type": "display_data"
    },
    {
     "data": {
      "text/html": [
       "<pre>| 927       | 22907.106571 | 0.423346      |</pre>"
      ],
      "text/plain": [
       "| 927       | 22907.106571 | 0.423346      |"
      ]
     },
     "metadata": {},
     "output_type": "display_data"
    },
    {
     "data": {
      "text/html": [
       "<pre>| 928       | 22930.501491 | 0.423321      |</pre>"
      ],
      "text/plain": [
       "| 928       | 22930.501491 | 0.423321      |"
      ]
     },
     "metadata": {},
     "output_type": "display_data"
    },
    {
     "data": {
      "text/html": [
       "<pre>| 929       | 22956.465706 | 0.423306      |</pre>"
      ],
      "text/plain": [
       "| 929       | 22956.465706 | 0.423306      |"
      ]
     },
     "metadata": {},
     "output_type": "display_data"
    },
    {
     "data": {
      "text/html": [
       "<pre>| 930       | 22982.080959 | 0.423289      |</pre>"
      ],
      "text/plain": [
       "| 930       | 22982.080959 | 0.423289      |"
      ]
     },
     "metadata": {},
     "output_type": "display_data"
    },
    {
     "data": {
      "text/html": [
       "<pre>| 931       | 23006.521377 | 0.423273      |</pre>"
      ],
      "text/plain": [
       "| 931       | 23006.521377 | 0.423273      |"
      ]
     },
     "metadata": {},
     "output_type": "display_data"
    },
    {
     "data": {
      "text/html": [
       "<pre>| 932       | 23028.890615 | 0.423259      |</pre>"
      ],
      "text/plain": [
       "| 932       | 23028.890615 | 0.423259      |"
      ]
     },
     "metadata": {},
     "output_type": "display_data"
    },
    {
     "data": {
      "text/html": [
       "<pre>| 933       | 23053.073307 | 0.423241      |</pre>"
      ],
      "text/plain": [
       "| 933       | 23053.073307 | 0.423241      |"
      ]
     },
     "metadata": {},
     "output_type": "display_data"
    },
    {
     "data": {
      "text/html": [
       "<pre>| 934       | 23079.047305 | 0.423227      |</pre>"
      ],
      "text/plain": [
       "| 934       | 23079.047305 | 0.423227      |"
      ]
     },
     "metadata": {},
     "output_type": "display_data"
    },
    {
     "data": {
      "text/html": [
       "<pre>| 935       | 23102.795514 | 0.423215      |</pre>"
      ],
      "text/plain": [
       "| 935       | 23102.795514 | 0.423215      |"
      ]
     },
     "metadata": {},
     "output_type": "display_data"
    },
    {
     "data": {
      "text/html": [
       "<pre>| 936       | 23128.182527 | 0.423207      |</pre>"
      ],
      "text/plain": [
       "| 936       | 23128.182527 | 0.423207      |"
      ]
     },
     "metadata": {},
     "output_type": "display_data"
    },
    {
     "data": {
      "text/html": [
       "<pre>| 937       | 23152.671569 | 0.423184      |</pre>"
      ],
      "text/plain": [
       "| 937       | 23152.671569 | 0.423184      |"
      ]
     },
     "metadata": {},
     "output_type": "display_data"
    },
    {
     "data": {
      "text/html": [
       "<pre>| 938       | 23178.416801 | 0.423151      |</pre>"
      ],
      "text/plain": [
       "| 938       | 23178.416801 | 0.423151      |"
      ]
     },
     "metadata": {},
     "output_type": "display_data"
    },
    {
     "data": {
      "text/html": [
       "<pre>| 939       | 23203.981034 | 0.423133      |</pre>"
      ],
      "text/plain": [
       "| 939       | 23203.981034 | 0.423133      |"
      ]
     },
     "metadata": {},
     "output_type": "display_data"
    },
    {
     "data": {
      "text/html": [
       "<pre>| 940       | 23227.397549 | 0.423121      |</pre>"
      ],
      "text/plain": [
       "| 940       | 23227.397549 | 0.423121      |"
      ]
     },
     "metadata": {},
     "output_type": "display_data"
    },
    {
     "data": {
      "text/html": [
       "<pre>| 941       | 23251.612753 | 0.423095      |</pre>"
      ],
      "text/plain": [
       "| 941       | 23251.612753 | 0.423095      |"
      ]
     },
     "metadata": {},
     "output_type": "display_data"
    },
    {
     "data": {
      "text/html": [
       "<pre>| 942       | 23276.599309 | 0.423074      |</pre>"
      ],
      "text/plain": [
       "| 942       | 23276.599309 | 0.423074      |"
      ]
     },
     "metadata": {},
     "output_type": "display_data"
    },
    {
     "data": {
      "text/html": [
       "<pre>| 943       | 23299.909033 | 0.423061      |</pre>"
      ],
      "text/plain": [
       "| 943       | 23299.909033 | 0.423061      |"
      ]
     },
     "metadata": {},
     "output_type": "display_data"
    },
    {
     "data": {
      "text/html": [
       "<pre>| 944       | 23325.495956 | 0.423045      |</pre>"
      ],
      "text/plain": [
       "| 944       | 23325.495956 | 0.423045      |"
      ]
     },
     "metadata": {},
     "output_type": "display_data"
    },
    {
     "data": {
      "text/html": [
       "<pre>| 945       | 23350.752386 | 0.423025      |</pre>"
      ],
      "text/plain": [
       "| 945       | 23350.752386 | 0.423025      |"
      ]
     },
     "metadata": {},
     "output_type": "display_data"
    },
    {
     "data": {
      "text/html": [
       "<pre>| 946       | 23374.792772 | 0.423002      |</pre>"
      ],
      "text/plain": [
       "| 946       | 23374.792772 | 0.423002      |"
      ]
     },
     "metadata": {},
     "output_type": "display_data"
    },
    {
     "data": {
      "text/html": [
       "<pre>| 947       | 23400.062737 | 0.422999      |</pre>"
      ],
      "text/plain": [
       "| 947       | 23400.062737 | 0.422999      |"
      ]
     },
     "metadata": {},
     "output_type": "display_data"
    },
    {
     "data": {
      "text/html": [
       "<pre>| 948       | 23423.668892 | 0.422985      |</pre>"
      ],
      "text/plain": [
       "| 948       | 23423.668892 | 0.422985      |"
      ]
     },
     "metadata": {},
     "output_type": "display_data"
    },
    {
     "data": {
      "text/html": [
       "<pre>| 949       | 23449.097655 | 0.422961      |</pre>"
      ],
      "text/plain": [
       "| 949       | 23449.097655 | 0.422961      |"
      ]
     },
     "metadata": {},
     "output_type": "display_data"
    },
    {
     "data": {
      "text/html": [
       "<pre>| 950       | 23474.020571 | 0.422941      |</pre>"
      ],
      "text/plain": [
       "| 950       | 23474.020571 | 0.422941      |"
      ]
     },
     "metadata": {},
     "output_type": "display_data"
    },
    {
     "data": {
      "text/html": [
       "<pre>| 951       | 23500.131352 | 0.422916      |</pre>"
      ],
      "text/plain": [
       "| 951       | 23500.131352 | 0.422916      |"
      ]
     },
     "metadata": {},
     "output_type": "display_data"
    },
    {
     "data": {
      "text/html": [
       "<pre>| 952       | 23524.762192 | 0.422888      |</pre>"
      ],
      "text/plain": [
       "| 952       | 23524.762192 | 0.422888      |"
      ]
     },
     "metadata": {},
     "output_type": "display_data"
    },
    {
     "data": {
      "text/html": [
       "<pre>| 953       | 23547.970732 | 0.422869      |</pre>"
      ],
      "text/plain": [
       "| 953       | 23547.970732 | 0.422869      |"
      ]
     },
     "metadata": {},
     "output_type": "display_data"
    },
    {
     "data": {
      "text/html": [
       "<pre>| 954       | 23573.421466 | 0.422858      |</pre>"
      ],
      "text/plain": [
       "| 954       | 23573.421466 | 0.422858      |"
      ]
     },
     "metadata": {},
     "output_type": "display_data"
    },
    {
     "data": {
      "text/html": [
       "<pre>| 955       | 23597.306924 | 0.422851      |</pre>"
      ],
      "text/plain": [
       "| 955       | 23597.306924 | 0.422851      |"
      ]
     },
     "metadata": {},
     "output_type": "display_data"
    },
    {
     "data": {
      "text/html": [
       "<pre>| 956       | 23620.596973 | 0.422838      |</pre>"
      ],
      "text/plain": [
       "| 956       | 23620.596973 | 0.422838      |"
      ]
     },
     "metadata": {},
     "output_type": "display_data"
    },
    {
     "data": {
      "text/html": [
       "<pre>| 957       | 23645.795358 | 0.422826      |</pre>"
      ],
      "text/plain": [
       "| 957       | 23645.795358 | 0.422826      |"
      ]
     },
     "metadata": {},
     "output_type": "display_data"
    },
    {
     "data": {
      "text/html": [
       "<pre>| 958       | 23672.147019 | 0.422816      |</pre>"
      ],
      "text/plain": [
       "| 958       | 23672.147019 | 0.422816      |"
      ]
     },
     "metadata": {},
     "output_type": "display_data"
    },
    {
     "data": {
      "text/html": [
       "<pre>| 959       | 23696.576519 | 0.422811      |</pre>"
      ],
      "text/plain": [
       "| 959       | 23696.576519 | 0.422811      |"
      ]
     },
     "metadata": {},
     "output_type": "display_data"
    },
    {
     "data": {
      "text/html": [
       "<pre>| 960       | 23721.223428 | 0.422797      |</pre>"
      ],
      "text/plain": [
       "| 960       | 23721.223428 | 0.422797      |"
      ]
     },
     "metadata": {},
     "output_type": "display_data"
    },
    {
     "data": {
      "text/html": [
       "<pre>| 961       | 23746.025695 | 0.422786      |</pre>"
      ],
      "text/plain": [
       "| 961       | 23746.025695 | 0.422786      |"
      ]
     },
     "metadata": {},
     "output_type": "display_data"
    },
    {
     "data": {
      "text/html": [
       "<pre>| 962       | 23769.329007 | 0.422772      |</pre>"
      ],
      "text/plain": [
       "| 962       | 23769.329007 | 0.422772      |"
      ]
     },
     "metadata": {},
     "output_type": "display_data"
    },
    {
     "data": {
      "text/html": [
       "<pre>| 963       | 23794.020029 | 0.422755      |</pre>"
      ],
      "text/plain": [
       "| 963       | 23794.020029 | 0.422755      |"
      ]
     },
     "metadata": {},
     "output_type": "display_data"
    },
    {
     "data": {
      "text/html": [
       "<pre>| 964       | 23816.636821 | 0.422749      |</pre>"
      ],
      "text/plain": [
       "| 964       | 23816.636821 | 0.422749      |"
      ]
     },
     "metadata": {},
     "output_type": "display_data"
    },
    {
     "data": {
      "text/html": [
       "<pre>| 965       | 23840.422781 | 0.422738      |</pre>"
      ],
      "text/plain": [
       "| 965       | 23840.422781 | 0.422738      |"
      ]
     },
     "metadata": {},
     "output_type": "display_data"
    },
    {
     "data": {
      "text/html": [
       "<pre>| 966       | 23865.649001 | 0.422724      |</pre>"
      ],
      "text/plain": [
       "| 966       | 23865.649001 | 0.422724      |"
      ]
     },
     "metadata": {},
     "output_type": "display_data"
    },
    {
     "data": {
      "text/html": [
       "<pre>| 967       | 23891.516171 | 0.422712      |</pre>"
      ],
      "text/plain": [
       "| 967       | 23891.516171 | 0.422712      |"
      ]
     },
     "metadata": {},
     "output_type": "display_data"
    },
    {
     "data": {
      "text/html": [
       "<pre>| 968       | 23916.738688 | 0.422689      |</pre>"
      ],
      "text/plain": [
       "| 968       | 23916.738688 | 0.422689      |"
      ]
     },
     "metadata": {},
     "output_type": "display_data"
    },
    {
     "data": {
      "text/html": [
       "<pre>| 969       | 23942.221044 | 0.422666      |</pre>"
      ],
      "text/plain": [
       "| 969       | 23942.221044 | 0.422666      |"
      ]
     },
     "metadata": {},
     "output_type": "display_data"
    },
    {
     "data": {
      "text/html": [
       "<pre>| 970       | 23967.470118 | 0.422642      |</pre>"
      ],
      "text/plain": [
       "| 970       | 23967.470118 | 0.422642      |"
      ]
     },
     "metadata": {},
     "output_type": "display_data"
    },
    {
     "data": {
      "text/html": [
       "<pre>| 971       | 23993.796618 | 0.422625      |</pre>"
      ],
      "text/plain": [
       "| 971       | 23993.796618 | 0.422625      |"
      ]
     },
     "metadata": {},
     "output_type": "display_data"
    },
    {
     "data": {
      "text/html": [
       "<pre>| 972       | 24017.683664 | 0.422602      |</pre>"
      ],
      "text/plain": [
       "| 972       | 24017.683664 | 0.422602      |"
      ]
     },
     "metadata": {},
     "output_type": "display_data"
    },
    {
     "data": {
      "text/html": [
       "<pre>| 973       | 24042.714299 | 0.422582      |</pre>"
      ],
      "text/plain": [
       "| 973       | 24042.714299 | 0.422582      |"
      ]
     },
     "metadata": {},
     "output_type": "display_data"
    },
    {
     "data": {
      "text/html": [
       "<pre>| 974       | 24067.186601 | 0.422577      |</pre>"
      ],
      "text/plain": [
       "| 974       | 24067.186601 | 0.422577      |"
      ]
     },
     "metadata": {},
     "output_type": "display_data"
    },
    {
     "data": {
      "text/html": [
       "<pre>| 975       | 24091.740635 | 0.422573      |</pre>"
      ],
      "text/plain": [
       "| 975       | 24091.740635 | 0.422573      |"
      ]
     },
     "metadata": {},
     "output_type": "display_data"
    },
    {
     "data": {
      "text/html": [
       "<pre>| 976       | 24117.517242 | 0.422552      |</pre>"
      ],
      "text/plain": [
       "| 976       | 24117.517242 | 0.422552      |"
      ]
     },
     "metadata": {},
     "output_type": "display_data"
    },
    {
     "data": {
      "text/html": [
       "<pre>| 977       | 24141.743318 | 0.422532      |</pre>"
      ],
      "text/plain": [
       "| 977       | 24141.743318 | 0.422532      |"
      ]
     },
     "metadata": {},
     "output_type": "display_data"
    },
    {
     "data": {
      "text/html": [
       "<pre>| 978       | 24166.963137 | 0.422506      |</pre>"
      ],
      "text/plain": [
       "| 978       | 24166.963137 | 0.422506      |"
      ]
     },
     "metadata": {},
     "output_type": "display_data"
    },
    {
     "data": {
      "text/html": [
       "<pre>| 979       | 24191.931880 | 0.422495      |</pre>"
      ],
      "text/plain": [
       "| 979       | 24191.931880 | 0.422495      |"
      ]
     },
     "metadata": {},
     "output_type": "display_data"
    },
    {
     "data": {
      "text/html": [
       "<pre>| 980       | 24216.864488 | 0.422474      |</pre>"
      ],
      "text/plain": [
       "| 980       | 24216.864488 | 0.422474      |"
      ]
     },
     "metadata": {},
     "output_type": "display_data"
    },
    {
     "data": {
      "text/html": [
       "<pre>| 981       | 24242.269660 | 0.422463      |</pre>"
      ],
      "text/plain": [
       "| 981       | 24242.269660 | 0.422463      |"
      ]
     },
     "metadata": {},
     "output_type": "display_data"
    },
    {
     "data": {
      "text/html": [
       "<pre>| 982       | 24268.044875 | 0.422433      |</pre>"
      ],
      "text/plain": [
       "| 982       | 24268.044875 | 0.422433      |"
      ]
     },
     "metadata": {},
     "output_type": "display_data"
    },
    {
     "data": {
      "text/html": [
       "<pre>| 983       | 24291.438782 | 0.422411      |</pre>"
      ],
      "text/plain": [
       "| 983       | 24291.438782 | 0.422411      |"
      ]
     },
     "metadata": {},
     "output_type": "display_data"
    },
    {
     "data": {
      "text/html": [
       "<pre>| 984       | 24315.639678 | 0.422382      |</pre>"
      ],
      "text/plain": [
       "| 984       | 24315.639678 | 0.422382      |"
      ]
     },
     "metadata": {},
     "output_type": "display_data"
    },
    {
     "data": {
      "text/html": [
       "<pre>| 985       | 24340.639096 | 0.422362      |</pre>"
      ],
      "text/plain": [
       "| 985       | 24340.639096 | 0.422362      |"
      ]
     },
     "metadata": {},
     "output_type": "display_data"
    },
    {
     "data": {
      "text/html": [
       "<pre>| 986       | 24365.066147 | 0.422346      |</pre>"
      ],
      "text/plain": [
       "| 986       | 24365.066147 | 0.422346      |"
      ]
     },
     "metadata": {},
     "output_type": "display_data"
    },
    {
     "data": {
      "text/html": [
       "<pre>| 987       | 24389.911100 | 0.422329      |</pre>"
      ],
      "text/plain": [
       "| 987       | 24389.911100 | 0.422329      |"
      ]
     },
     "metadata": {},
     "output_type": "display_data"
    },
    {
     "data": {
      "text/html": [
       "<pre>| 988       | 24413.958945 | 0.422310      |</pre>"
      ],
      "text/plain": [
       "| 988       | 24413.958945 | 0.422310      |"
      ]
     },
     "metadata": {},
     "output_type": "display_data"
    },
    {
     "data": {
      "text/html": [
       "<pre>| 989       | 24437.471434 | 0.422297      |</pre>"
      ],
      "text/plain": [
       "| 989       | 24437.471434 | 0.422297      |"
      ]
     },
     "metadata": {},
     "output_type": "display_data"
    },
    {
     "data": {
      "text/html": [
       "<pre>| 990       | 24463.077359 | 0.422280      |</pre>"
      ],
      "text/plain": [
       "| 990       | 24463.077359 | 0.422280      |"
      ]
     },
     "metadata": {},
     "output_type": "display_data"
    },
    {
     "data": {
      "text/html": [
       "<pre>| 991       | 24486.958229 | 0.422264      |</pre>"
      ],
      "text/plain": [
       "| 991       | 24486.958229 | 0.422264      |"
      ]
     },
     "metadata": {},
     "output_type": "display_data"
    },
    {
     "data": {
      "text/html": [
       "<pre>| 992       | 24509.674734 | 0.422250      |</pre>"
      ],
      "text/plain": [
       "| 992       | 24509.674734 | 0.422250      |"
      ]
     },
     "metadata": {},
     "output_type": "display_data"
    },
    {
     "data": {
      "text/html": [
       "<pre>| 993       | 24534.760550 | 0.422217      |</pre>"
      ],
      "text/plain": [
       "| 993       | 24534.760550 | 0.422217      |"
      ]
     },
     "metadata": {},
     "output_type": "display_data"
    },
    {
     "data": {
      "text/html": [
       "<pre>| 994       | 24560.515754 | 0.422195      |</pre>"
      ],
      "text/plain": [
       "| 994       | 24560.515754 | 0.422195      |"
      ]
     },
     "metadata": {},
     "output_type": "display_data"
    },
    {
     "data": {
      "text/html": [
       "<pre>| 995       | 24585.121234 | 0.422181      |</pre>"
      ],
      "text/plain": [
       "| 995       | 24585.121234 | 0.422181      |"
      ]
     },
     "metadata": {},
     "output_type": "display_data"
    },
    {
     "data": {
      "text/html": [
       "<pre>| 996       | 24610.876915 | 0.422153      |</pre>"
      ],
      "text/plain": [
       "| 996       | 24610.876915 | 0.422153      |"
      ]
     },
     "metadata": {},
     "output_type": "display_data"
    },
    {
     "data": {
      "text/html": [
       "<pre>| 997       | 24635.550260 | 0.422133      |</pre>"
      ],
      "text/plain": [
       "| 997       | 24635.550260 | 0.422133      |"
      ]
     },
     "metadata": {},
     "output_type": "display_data"
    },
    {
     "data": {
      "text/html": [
       "<pre>| 998       | 24658.968295 | 0.422123      |</pre>"
      ],
      "text/plain": [
       "| 998       | 24658.968295 | 0.422123      |"
      ]
     },
     "metadata": {},
     "output_type": "display_data"
    },
    {
     "data": {
      "text/html": [
       "<pre>| 999       | 24684.511511 | 0.422116      |</pre>"
      ],
      "text/plain": [
       "| 999       | 24684.511511 | 0.422116      |"
      ]
     },
     "metadata": {},
     "output_type": "display_data"
    },
    {
     "data": {
      "text/html": [
       "<pre>| 1000      | 24708.773409 | 0.422093      |</pre>"
      ],
      "text/plain": [
       "| 1000      | 24708.773409 | 0.422093      |"
      ]
     },
     "metadata": {},
     "output_type": "display_data"
    },
    {
     "data": {
      "text/html": [
       "<pre>| 1001      | 24732.390355 | 0.422078      |</pre>"
      ],
      "text/plain": [
       "| 1001      | 24732.390355 | 0.422078      |"
      ]
     },
     "metadata": {},
     "output_type": "display_data"
    },
    {
     "data": {
      "text/html": [
       "<pre>| 1002      | 24755.749831 | 0.422054      |</pre>"
      ],
      "text/plain": [
       "| 1002      | 24755.749831 | 0.422054      |"
      ]
     },
     "metadata": {},
     "output_type": "display_data"
    },
    {
     "data": {
      "text/html": [
       "<pre>| 1003      | 24779.558114 | 0.422032      |</pre>"
      ],
      "text/plain": [
       "| 1003      | 24779.558114 | 0.422032      |"
      ]
     },
     "metadata": {},
     "output_type": "display_data"
    },
    {
     "data": {
      "text/html": [
       "<pre>| 1004      | 24803.219907 | 0.422019      |</pre>"
      ],
      "text/plain": [
       "| 1004      | 24803.219907 | 0.422019      |"
      ]
     },
     "metadata": {},
     "output_type": "display_data"
    },
    {
     "data": {
      "text/html": [
       "<pre>| 1005      | 24828.342935 | 0.422005      |</pre>"
      ],
      "text/plain": [
       "| 1005      | 24828.342935 | 0.422005      |"
      ]
     },
     "metadata": {},
     "output_type": "display_data"
    },
    {
     "data": {
      "text/html": [
       "<pre>| 1006      | 24853.603428 | 0.422000      |</pre>"
      ],
      "text/plain": [
       "| 1006      | 24853.603428 | 0.422000      |"
      ]
     },
     "metadata": {},
     "output_type": "display_data"
    },
    {
     "data": {
      "text/html": [
       "<pre>| 1007      | 24877.617258 | 0.421992      |</pre>"
      ],
      "text/plain": [
       "| 1007      | 24877.617258 | 0.421992      |"
      ]
     },
     "metadata": {},
     "output_type": "display_data"
    },
    {
     "data": {
      "text/html": [
       "<pre>| 1008      | 24900.866034 | 0.421985      |</pre>"
      ],
      "text/plain": [
       "| 1008      | 24900.866034 | 0.421985      |"
      ]
     },
     "metadata": {},
     "output_type": "display_data"
    },
    {
     "data": {
      "text/html": [
       "<pre>| 1009      | 24926.118808 | 0.421968      |</pre>"
      ],
      "text/plain": [
       "| 1009      | 24926.118808 | 0.421968      |"
      ]
     },
     "metadata": {},
     "output_type": "display_data"
    },
    {
     "data": {
      "text/html": [
       "<pre>| 1010      | 24950.984825 | 0.421956      |</pre>"
      ],
      "text/plain": [
       "| 1010      | 24950.984825 | 0.421956      |"
      ]
     },
     "metadata": {},
     "output_type": "display_data"
    },
    {
     "data": {
      "text/html": [
       "<pre>| 1011      | 24975.311683 | 0.421938      |</pre>"
      ],
      "text/plain": [
       "| 1011      | 24975.311683 | 0.421938      |"
      ]
     },
     "metadata": {},
     "output_type": "display_data"
    },
    {
     "data": {
      "text/html": [
       "<pre>| 1012      | 25001.414385 | 0.421917      |</pre>"
      ],
      "text/plain": [
       "| 1012      | 25001.414385 | 0.421917      |"
      ]
     },
     "metadata": {},
     "output_type": "display_data"
    },
    {
     "data": {
      "text/html": [
       "<pre>| 1013      | 25027.139244 | 0.421910      |</pre>"
      ],
      "text/plain": [
       "| 1013      | 25027.139244 | 0.421910      |"
      ]
     },
     "metadata": {},
     "output_type": "display_data"
    },
    {
     "data": {
      "text/html": [
       "<pre>| 1014      | 25051.518182 | 0.421900      |</pre>"
      ],
      "text/plain": [
       "| 1014      | 25051.518182 | 0.421900      |"
      ]
     },
     "metadata": {},
     "output_type": "display_data"
    },
    {
     "data": {
      "text/html": [
       "<pre>| 1015      | 25076.039842 | 0.421889      |</pre>"
      ],
      "text/plain": [
       "| 1015      | 25076.039842 | 0.421889      |"
      ]
     },
     "metadata": {},
     "output_type": "display_data"
    },
    {
     "data": {
      "text/html": [
       "<pre>| 1016      | 25100.506178 | 0.421866      |</pre>"
      ],
      "text/plain": [
       "| 1016      | 25100.506178 | 0.421866      |"
      ]
     },
     "metadata": {},
     "output_type": "display_data"
    },
    {
     "data": {
      "text/html": [
       "<pre>| 1017      | 25125.290433 | 0.421852      |</pre>"
      ],
      "text/plain": [
       "| 1017      | 25125.290433 | 0.421852      |"
      ]
     },
     "metadata": {},
     "output_type": "display_data"
    },
    {
     "data": {
      "text/html": [
       "<pre>| 1018      | 25151.275574 | 0.421830      |</pre>"
      ],
      "text/plain": [
       "| 1018      | 25151.275574 | 0.421830      |"
      ]
     },
     "metadata": {},
     "output_type": "display_data"
    },
    {
     "data": {
      "text/html": [
       "<pre>| 1019      | 25176.857504 | 0.421816      |</pre>"
      ],
      "text/plain": [
       "| 1019      | 25176.857504 | 0.421816      |"
      ]
     },
     "metadata": {},
     "output_type": "display_data"
    },
    {
     "data": {
      "text/html": [
       "<pre>| 1020      | 25202.048615 | 0.421798      |</pre>"
      ],
      "text/plain": [
       "| 1020      | 25202.048615 | 0.421798      |"
      ]
     },
     "metadata": {},
     "output_type": "display_data"
    },
    {
     "data": {
      "text/html": [
       "<pre>| 1021      | 25227.425805 | 0.421779      |</pre>"
      ],
      "text/plain": [
       "| 1021      | 25227.425805 | 0.421779      |"
      ]
     },
     "metadata": {},
     "output_type": "display_data"
    },
    {
     "data": {
      "text/html": [
       "<pre>| 1022      | 25250.915157 | 0.421767      |</pre>"
      ],
      "text/plain": [
       "| 1022      | 25250.915157 | 0.421767      |"
      ]
     },
     "metadata": {},
     "output_type": "display_data"
    },
    {
     "data": {
      "text/html": [
       "<pre>| 1023      | 25275.745250 | 0.421745      |</pre>"
      ],
      "text/plain": [
       "| 1023      | 25275.745250 | 0.421745      |"
      ]
     },
     "metadata": {},
     "output_type": "display_data"
    },
    {
     "data": {
      "text/html": [
       "<pre>| 1024      | 25298.278166 | 0.421739      |</pre>"
      ],
      "text/plain": [
       "| 1024      | 25298.278166 | 0.421739      |"
      ]
     },
     "metadata": {},
     "output_type": "display_data"
    },
    {
     "data": {
      "text/html": [
       "<pre>| 1025      | 25323.274739 | 0.421732      |</pre>"
      ],
      "text/plain": [
       "| 1025      | 25323.274739 | 0.421732      |"
      ]
     },
     "metadata": {},
     "output_type": "display_data"
    },
    {
     "data": {
      "text/html": [
       "<pre>| 1026      | 25349.041602 | 0.421708      |</pre>"
      ],
      "text/plain": [
       "| 1026      | 25349.041602 | 0.421708      |"
      ]
     },
     "metadata": {},
     "output_type": "display_data"
    },
    {
     "data": {
      "text/html": [
       "<pre>| 1027      | 25374.020534 | 0.421688      |</pre>"
      ],
      "text/plain": [
       "| 1027      | 25374.020534 | 0.421688      |"
      ]
     },
     "metadata": {},
     "output_type": "display_data"
    },
    {
     "data": {
      "text/html": [
       "<pre>| 1028      | 25396.558043 | 0.421657      |</pre>"
      ],
      "text/plain": [
       "| 1028      | 25396.558043 | 0.421657      |"
      ]
     },
     "metadata": {},
     "output_type": "display_data"
    },
    {
     "data": {
      "text/html": [
       "<pre>| 1029      | 25421.876695 | 0.421648      |</pre>"
      ],
      "text/plain": [
       "| 1029      | 25421.876695 | 0.421648      |"
      ]
     },
     "metadata": {},
     "output_type": "display_data"
    },
    {
     "data": {
      "text/html": [
       "<pre>| 1030      | 25446.492388 | 0.421629      |</pre>"
      ],
      "text/plain": [
       "| 1030      | 25446.492388 | 0.421629      |"
      ]
     },
     "metadata": {},
     "output_type": "display_data"
    },
    {
     "data": {
      "text/html": [
       "<pre>| 1031      | 25470.506490 | 0.421604      |</pre>"
      ],
      "text/plain": [
       "| 1031      | 25470.506490 | 0.421604      |"
      ]
     },
     "metadata": {},
     "output_type": "display_data"
    },
    {
     "data": {
      "text/html": [
       "<pre>| 1032      | 25494.167842 | 0.421577      |</pre>"
      ],
      "text/plain": [
       "| 1032      | 25494.167842 | 0.421577      |"
      ]
     },
     "metadata": {},
     "output_type": "display_data"
    },
    {
     "data": {
      "text/html": [
       "<pre>| 1033      | 25518.669830 | 0.421559      |</pre>"
      ],
      "text/plain": [
       "| 1033      | 25518.669830 | 0.421559      |"
      ]
     },
     "metadata": {},
     "output_type": "display_data"
    },
    {
     "data": {
      "text/html": [
       "<pre>| 1034      | 25542.473071 | 0.421535      |</pre>"
      ],
      "text/plain": [
       "| 1034      | 25542.473071 | 0.421535      |"
      ]
     },
     "metadata": {},
     "output_type": "display_data"
    },
    {
     "data": {
      "text/html": [
       "<pre>| 1035      | 25565.968904 | 0.421516      |</pre>"
      ],
      "text/plain": [
       "| 1035      | 25565.968904 | 0.421516      |"
      ]
     },
     "metadata": {},
     "output_type": "display_data"
    },
    {
     "data": {
      "text/html": [
       "<pre>| 1036      | 25590.752977 | 0.421493      |</pre>"
      ],
      "text/plain": [
       "| 1036      | 25590.752977 | 0.421493      |"
      ]
     },
     "metadata": {},
     "output_type": "display_data"
    },
    {
     "data": {
      "text/html": [
       "<pre>| 1037      | 25616.050538 | 0.421478      |</pre>"
      ],
      "text/plain": [
       "| 1037      | 25616.050538 | 0.421478      |"
      ]
     },
     "metadata": {},
     "output_type": "display_data"
    },
    {
     "data": {
      "text/html": [
       "<pre>| 1038      | 25641.452844 | 0.421466      |</pre>"
      ],
      "text/plain": [
       "| 1038      | 25641.452844 | 0.421466      |"
      ]
     },
     "metadata": {},
     "output_type": "display_data"
    },
    {
     "data": {
      "text/html": [
       "<pre>| 1039      | 25666.146262 | 0.421452      |</pre>"
      ],
      "text/plain": [
       "| 1039      | 25666.146262 | 0.421452      |"
      ]
     },
     "metadata": {},
     "output_type": "display_data"
    },
    {
     "data": {
      "text/html": [
       "<pre>| 1040      | 25690.820945 | 0.421442      |</pre>"
      ],
      "text/plain": [
       "| 1040      | 25690.820945 | 0.421442      |"
      ]
     },
     "metadata": {},
     "output_type": "display_data"
    },
    {
     "data": {
      "text/html": [
       "<pre>| 1041      | 25716.493442 | 0.421424      |</pre>"
      ],
      "text/plain": [
       "| 1041      | 25716.493442 | 0.421424      |"
      ]
     },
     "metadata": {},
     "output_type": "display_data"
    },
    {
     "data": {
      "text/html": [
       "<pre>| 1042      | 25741.483998 | 0.421404      |</pre>"
      ],
      "text/plain": [
       "| 1042      | 25741.483998 | 0.421404      |"
      ]
     },
     "metadata": {},
     "output_type": "display_data"
    },
    {
     "data": {
      "text/html": [
       "<pre>| 1043      | 25765.099545 | 0.421390      |</pre>"
      ],
      "text/plain": [
       "| 1043      | 25765.099545 | 0.421390      |"
      ]
     },
     "metadata": {},
     "output_type": "display_data"
    },
    {
     "data": {
      "text/html": [
       "<pre>| 1044      | 25789.043432 | 0.421369      |</pre>"
      ],
      "text/plain": [
       "| 1044      | 25789.043432 | 0.421369      |"
      ]
     },
     "metadata": {},
     "output_type": "display_data"
    },
    {
     "data": {
      "text/html": [
       "<pre>| 1045      | 25812.715782 | 0.421352      |</pre>"
      ],
      "text/plain": [
       "| 1045      | 25812.715782 | 0.421352      |"
      ]
     },
     "metadata": {},
     "output_type": "display_data"
    },
    {
     "data": {
      "text/html": [
       "<pre>| 1046      | 25835.654724 | 0.421344      |</pre>"
      ],
      "text/plain": [
       "| 1046      | 25835.654724 | 0.421344      |"
      ]
     },
     "metadata": {},
     "output_type": "display_data"
    },
    {
     "data": {
      "text/html": [
       "<pre>| 1047      | 25859.498102 | 0.421332      |</pre>"
      ],
      "text/plain": [
       "| 1047      | 25859.498102 | 0.421332      |"
      ]
     },
     "metadata": {},
     "output_type": "display_data"
    },
    {
     "data": {
      "text/html": [
       "<pre>| 1048      | 25883.799120 | 0.421312      |</pre>"
      ],
      "text/plain": [
       "| 1048      | 25883.799120 | 0.421312      |"
      ]
     },
     "metadata": {},
     "output_type": "display_data"
    },
    {
     "data": {
      "text/html": [
       "<pre>| 1049      | 25908.772640 | 0.421290      |</pre>"
      ],
      "text/plain": [
       "| 1049      | 25908.772640 | 0.421290      |"
      ]
     },
     "metadata": {},
     "output_type": "display_data"
    },
    {
     "data": {
      "text/html": [
       "<pre>| 1050      | 25933.478730 | 0.421279      |</pre>"
      ],
      "text/plain": [
       "| 1050      | 25933.478730 | 0.421279      |"
      ]
     },
     "metadata": {},
     "output_type": "display_data"
    },
    {
     "data": {
      "text/html": [
       "<pre>| 1051      | 25958.167638 | 0.421264      |</pre>"
      ],
      "text/plain": [
       "| 1051      | 25958.167638 | 0.421264      |"
      ]
     },
     "metadata": {},
     "output_type": "display_data"
    },
    {
     "data": {
      "text/html": [
       "<pre>| 1052      | 25980.972872 | 0.421246      |</pre>"
      ],
      "text/plain": [
       "| 1052      | 25980.972872 | 0.421246      |"
      ]
     },
     "metadata": {},
     "output_type": "display_data"
    },
    {
     "data": {
      "text/html": [
       "<pre>| 1053      | 26004.830661 | 0.421227      |</pre>"
      ],
      "text/plain": [
       "| 1053      | 26004.830661 | 0.421227      |"
      ]
     },
     "metadata": {},
     "output_type": "display_data"
    },
    {
     "data": {
      "text/html": [
       "<pre>| 1054      | 26030.117671 | 0.421199      |</pre>"
      ],
      "text/plain": [
       "| 1054      | 26030.117671 | 0.421199      |"
      ]
     },
     "metadata": {},
     "output_type": "display_data"
    },
    {
     "data": {
      "text/html": [
       "<pre>| 1055      | 26053.749087 | 0.421177      |</pre>"
      ],
      "text/plain": [
       "| 1055      | 26053.749087 | 0.421177      |"
      ]
     },
     "metadata": {},
     "output_type": "display_data"
    },
    {
     "data": {
      "text/html": [
       "<pre>| 1056      | 26078.212220 | 0.421165      |</pre>"
      ],
      "text/plain": [
       "| 1056      | 26078.212220 | 0.421165      |"
      ]
     },
     "metadata": {},
     "output_type": "display_data"
    },
    {
     "data": {
      "text/html": [
       "<pre>| 1057      | 26101.170042 | 0.421147      |</pre>"
      ],
      "text/plain": [
       "| 1057      | 26101.170042 | 0.421147      |"
      ]
     },
     "metadata": {},
     "output_type": "display_data"
    },
    {
     "data": {
      "text/html": [
       "<pre>| 1058      | 26126.365177 | 0.421136      |</pre>"
      ],
      "text/plain": [
       "| 1058      | 26126.365177 | 0.421136      |"
      ]
     },
     "metadata": {},
     "output_type": "display_data"
    },
    {
     "data": {
      "text/html": [
       "<pre>| 1059      | 26151.803457 | 0.421122      |</pre>"
      ],
      "text/plain": [
       "| 1059      | 26151.803457 | 0.421122      |"
      ]
     },
     "metadata": {},
     "output_type": "display_data"
    },
    {
     "data": {
      "text/html": [
       "<pre>| 1060      | 26176.629710 | 0.421097      |</pre>"
      ],
      "text/plain": [
       "| 1060      | 26176.629710 | 0.421097      |"
      ]
     },
     "metadata": {},
     "output_type": "display_data"
    },
    {
     "data": {
      "text/html": [
       "<pre>| 1061      | 26200.188284 | 0.421090      |</pre>"
      ],
      "text/plain": [
       "| 1061      | 26200.188284 | 0.421090      |"
      ]
     },
     "metadata": {},
     "output_type": "display_data"
    },
    {
     "data": {
      "text/html": [
       "<pre>| 1062      | 26224.997478 | 0.421075      |</pre>"
      ],
      "text/plain": [
       "| 1062      | 26224.997478 | 0.421075      |"
      ]
     },
     "metadata": {},
     "output_type": "display_data"
    },
    {
     "data": {
      "text/html": [
       "<pre>| 1063      | 26249.238994 | 0.421062      |</pre>"
      ],
      "text/plain": [
       "| 1063      | 26249.238994 | 0.421062      |"
      ]
     },
     "metadata": {},
     "output_type": "display_data"
    },
    {
     "data": {
      "text/html": [
       "<pre>| 1064      | 26272.929862 | 0.421031      |</pre>"
      ],
      "text/plain": [
       "| 1064      | 26272.929862 | 0.421031      |"
      ]
     },
     "metadata": {},
     "output_type": "display_data"
    },
    {
     "data": {
      "text/html": [
       "<pre>| 1065      | 26297.988662 | 0.421016      |</pre>"
      ],
      "text/plain": [
       "| 1065      | 26297.988662 | 0.421016      |"
      ]
     },
     "metadata": {},
     "output_type": "display_data"
    },
    {
     "data": {
      "text/html": [
       "<pre>| 1066      | 26322.730156 | 0.421007      |</pre>"
      ],
      "text/plain": [
       "| 1066      | 26322.730156 | 0.421007      |"
      ]
     },
     "metadata": {},
     "output_type": "display_data"
    },
    {
     "data": {
      "text/html": [
       "<pre>| 1067      | 26347.076359 | 0.420988      |</pre>"
      ],
      "text/plain": [
       "| 1067      | 26347.076359 | 0.420988      |"
      ]
     },
     "metadata": {},
     "output_type": "display_data"
    },
    {
     "data": {
      "text/html": [
       "<pre>| 1068      | 26372.015398 | 0.420964      |</pre>"
      ],
      "text/plain": [
       "| 1068      | 26372.015398 | 0.420964      |"
      ]
     },
     "metadata": {},
     "output_type": "display_data"
    },
    {
     "data": {
      "text/html": [
       "<pre>| 1069      | 26396.695085 | 0.420949      |</pre>"
      ],
      "text/plain": [
       "| 1069      | 26396.695085 | 0.420949      |"
      ]
     },
     "metadata": {},
     "output_type": "display_data"
    },
    {
     "data": {
      "text/html": [
       "<pre>| 1070      | 26421.884750 | 0.420926      |</pre>"
      ],
      "text/plain": [
       "| 1070      | 26421.884750 | 0.420926      |"
      ]
     },
     "metadata": {},
     "output_type": "display_data"
    },
    {
     "data": {
      "text/html": [
       "<pre>| 1071      | 26445.972340 | 0.420912      |</pre>"
      ],
      "text/plain": [
       "| 1071      | 26445.972340 | 0.420912      |"
      ]
     },
     "metadata": {},
     "output_type": "display_data"
    },
    {
     "data": {
      "text/html": [
       "<pre>| 1072      | 26471.391665 | 0.420888      |</pre>"
      ],
      "text/plain": [
       "| 1072      | 26471.391665 | 0.420888      |"
      ]
     },
     "metadata": {},
     "output_type": "display_data"
    },
    {
     "data": {
      "text/html": [
       "<pre>| 1073      | 26496.565900 | 0.420869      |</pre>"
      ],
      "text/plain": [
       "| 1073      | 26496.565900 | 0.420869      |"
      ]
     },
     "metadata": {},
     "output_type": "display_data"
    },
    {
     "data": {
      "text/html": [
       "<pre>| 1074      | 26519.706394 | 0.420861      |</pre>"
      ],
      "text/plain": [
       "| 1074      | 26519.706394 | 0.420861      |"
      ]
     },
     "metadata": {},
     "output_type": "display_data"
    },
    {
     "data": {
      "text/html": [
       "<pre>| 1075      | 26544.033575 | 0.420855      |</pre>"
      ],
      "text/plain": [
       "| 1075      | 26544.033575 | 0.420855      |"
      ]
     },
     "metadata": {},
     "output_type": "display_data"
    },
    {
     "data": {
      "text/html": [
       "<pre>| 1076      | 26567.652735 | 0.420850      |</pre>"
      ],
      "text/plain": [
       "| 1076      | 26567.652735 | 0.420850      |"
      ]
     },
     "metadata": {},
     "output_type": "display_data"
    },
    {
     "data": {
      "text/html": [
       "<pre>| 1077      | 26591.175343 | 0.420840      |</pre>"
      ],
      "text/plain": [
       "| 1077      | 26591.175343 | 0.420840      |"
      ]
     },
     "metadata": {},
     "output_type": "display_data"
    },
    {
     "data": {
      "text/html": [
       "<pre>| 1078      | 26616.810710 | 0.420819      |</pre>"
      ],
      "text/plain": [
       "| 1078      | 26616.810710 | 0.420819      |"
      ]
     },
     "metadata": {},
     "output_type": "display_data"
    },
    {
     "data": {
      "text/html": [
       "<pre>| 1079      | 26640.766246 | 0.420813      |</pre>"
      ],
      "text/plain": [
       "| 1079      | 26640.766246 | 0.420813      |"
      ]
     },
     "metadata": {},
     "output_type": "display_data"
    },
    {
     "data": {
      "text/html": [
       "<pre>| 1080      | 26664.349821 | 0.420809      |</pre>"
      ],
      "text/plain": [
       "| 1080      | 26664.349821 | 0.420809      |"
      ]
     },
     "metadata": {},
     "output_type": "display_data"
    },
    {
     "data": {
      "text/html": [
       "<pre>| 1081      | 26688.775662 | 0.420795      |</pre>"
      ],
      "text/plain": [
       "| 1081      | 26688.775662 | 0.420795      |"
      ]
     },
     "metadata": {},
     "output_type": "display_data"
    },
    {
     "data": {
      "text/html": [
       "<pre>| 1082      | 26715.058915 | 0.420791      |</pre>"
      ],
      "text/plain": [
       "| 1082      | 26715.058915 | 0.420791      |"
      ]
     },
     "metadata": {},
     "output_type": "display_data"
    },
    {
     "data": {
      "text/html": [
       "<pre>| 1083      | 26739.388641 | 0.420781      |</pre>"
      ],
      "text/plain": [
       "| 1083      | 26739.388641 | 0.420781      |"
      ]
     },
     "metadata": {},
     "output_type": "display_data"
    },
    {
     "data": {
      "text/html": [
       "<pre>| 1084      | 26763.361237 | 0.420759      |</pre>"
      ],
      "text/plain": [
       "| 1084      | 26763.361237 | 0.420759      |"
      ]
     },
     "metadata": {},
     "output_type": "display_data"
    },
    {
     "data": {
      "text/html": [
       "<pre>| 1085      | 26787.061086 | 0.420756      |</pre>"
      ],
      "text/plain": [
       "| 1085      | 26787.061086 | 0.420756      |"
      ]
     },
     "metadata": {},
     "output_type": "display_data"
    },
    {
     "data": {
      "text/html": [
       "<pre>| 1086      | 26810.824523 | 0.420735      |</pre>"
      ],
      "text/plain": [
       "| 1086      | 26810.824523 | 0.420735      |"
      ]
     },
     "metadata": {},
     "output_type": "display_data"
    },
    {
     "data": {
      "text/html": [
       "<pre>| 1087      | 26836.308263 | 0.420721      |</pre>"
      ],
      "text/plain": [
       "| 1087      | 26836.308263 | 0.420721      |"
      ]
     },
     "metadata": {},
     "output_type": "display_data"
    },
    {
     "data": {
      "text/html": [
       "<pre>| 1088      | 26860.298121 | 0.420694      |</pre>"
      ],
      "text/plain": [
       "| 1088      | 26860.298121 | 0.420694      |"
      ]
     },
     "metadata": {},
     "output_type": "display_data"
    },
    {
     "data": {
      "text/html": [
       "<pre>| 1089      | 26884.466502 | 0.420690      |</pre>"
      ],
      "text/plain": [
       "| 1089      | 26884.466502 | 0.420690      |"
      ]
     },
     "metadata": {},
     "output_type": "display_data"
    },
    {
     "data": {
      "text/html": [
       "<pre>| 1090      | 26908.810773 | 0.420669      |</pre>"
      ],
      "text/plain": [
       "| 1090      | 26908.810773 | 0.420669      |"
      ]
     },
     "metadata": {},
     "output_type": "display_data"
    },
    {
     "data": {
      "text/html": [
       "<pre>| 1091      | 26933.852142 | 0.420649      |</pre>"
      ],
      "text/plain": [
       "| 1091      | 26933.852142 | 0.420649      |"
      ]
     },
     "metadata": {},
     "output_type": "display_data"
    },
    {
     "data": {
      "text/html": [
       "<pre>| 1092      | 26957.622382 | 0.420636      |</pre>"
      ],
      "text/plain": [
       "| 1092      | 26957.622382 | 0.420636      |"
      ]
     },
     "metadata": {},
     "output_type": "display_data"
    },
    {
     "data": {
      "text/html": [
       "<pre>| 1093      | 26981.153957 | 0.420630      |</pre>"
      ],
      "text/plain": [
       "| 1093      | 26981.153957 | 0.420630      |"
      ]
     },
     "metadata": {},
     "output_type": "display_data"
    },
    {
     "data": {
      "text/html": [
       "<pre>| 1094      | 27005.247680 | 0.420606      |</pre>"
      ],
      "text/plain": [
       "| 1094      | 27005.247680 | 0.420606      |"
      ]
     },
     "metadata": {},
     "output_type": "display_data"
    },
    {
     "data": {
      "text/html": [
       "<pre>| 1095      | 27032.838985 | 0.420582      |</pre>"
      ],
      "text/plain": [
       "| 1095      | 27032.838985 | 0.420582      |"
      ]
     },
     "metadata": {},
     "output_type": "display_data"
    },
    {
     "data": {
      "text/html": [
       "<pre>| 1096      | 27058.560995 | 0.420566      |</pre>"
      ],
      "text/plain": [
       "| 1096      | 27058.560995 | 0.420566      |"
      ]
     },
     "metadata": {},
     "output_type": "display_data"
    },
    {
     "data": {
      "text/html": [
       "<pre>| 1097      | 27083.755045 | 0.420555      |</pre>"
      ],
      "text/plain": [
       "| 1097      | 27083.755045 | 0.420555      |"
      ]
     },
     "metadata": {},
     "output_type": "display_data"
    },
    {
     "data": {
      "text/html": [
       "<pre>| 1098      | 27108.798125 | 0.420536      |</pre>"
      ],
      "text/plain": [
       "| 1098      | 27108.798125 | 0.420536      |"
      ]
     },
     "metadata": {},
     "output_type": "display_data"
    },
    {
     "data": {
      "text/html": [
       "<pre>| 1099      | 27132.235461 | 0.420512      |</pre>"
      ],
      "text/plain": [
       "| 1099      | 27132.235461 | 0.420512      |"
      ]
     },
     "metadata": {},
     "output_type": "display_data"
    },
    {
     "data": {
      "text/html": [
       "<pre>| 1100      | 27155.509147 | 0.420497      |</pre>"
      ],
      "text/plain": [
       "| 1100      | 27155.509147 | 0.420497      |"
      ]
     },
     "metadata": {},
     "output_type": "display_data"
    },
    {
     "data": {
      "text/html": [
       "<pre>| 1101      | 27179.547192 | 0.420482      |</pre>"
      ],
      "text/plain": [
       "| 1101      | 27179.547192 | 0.420482      |"
      ]
     },
     "metadata": {},
     "output_type": "display_data"
    },
    {
     "data": {
      "text/html": [
       "<pre>| 1102      | 27203.042211 | 0.420466      |</pre>"
      ],
      "text/plain": [
       "| 1102      | 27203.042211 | 0.420466      |"
      ]
     },
     "metadata": {},
     "output_type": "display_data"
    },
    {
     "data": {
      "text/html": [
       "<pre>| 1103      | 27226.191661 | 0.420448      |</pre>"
      ],
      "text/plain": [
       "| 1103      | 27226.191661 | 0.420448      |"
      ]
     },
     "metadata": {},
     "output_type": "display_data"
    },
    {
     "data": {
      "text/html": [
       "<pre>| 1104      | 27250.153985 | 0.420427      |</pre>"
      ],
      "text/plain": [
       "| 1104      | 27250.153985 | 0.420427      |"
      ]
     },
     "metadata": {},
     "output_type": "display_data"
    },
    {
     "data": {
      "text/html": [
       "<pre>| 1105      | 27275.621991 | 0.420408      |</pre>"
      ],
      "text/plain": [
       "| 1105      | 27275.621991 | 0.420408      |"
      ]
     },
     "metadata": {},
     "output_type": "display_data"
    },
    {
     "data": {
      "text/html": [
       "<pre>| 1106      | 27300.141349 | 0.420385      |</pre>"
      ],
      "text/plain": [
       "| 1106      | 27300.141349 | 0.420385      |"
      ]
     },
     "metadata": {},
     "output_type": "display_data"
    },
    {
     "data": {
      "text/html": [
       "<pre>| 1107      | 27323.548732 | 0.420375      |</pre>"
      ],
      "text/plain": [
       "| 1107      | 27323.548732 | 0.420375      |"
      ]
     },
     "metadata": {},
     "output_type": "display_data"
    },
    {
     "data": {
      "text/html": [
       "<pre>| 1108      | 27349.753603 | 0.420367      |</pre>"
      ],
      "text/plain": [
       "| 1108      | 27349.753603 | 0.420367      |"
      ]
     },
     "metadata": {},
     "output_type": "display_data"
    },
    {
     "data": {
      "text/html": [
       "<pre>| 1109      | 27372.333220 | 0.420355      |</pre>"
      ],
      "text/plain": [
       "| 1109      | 27372.333220 | 0.420355      |"
      ]
     },
     "metadata": {},
     "output_type": "display_data"
    },
    {
     "data": {
      "text/html": [
       "<pre>| 1110      | 27395.009358 | 0.420346      |</pre>"
      ],
      "text/plain": [
       "| 1110      | 27395.009358 | 0.420346      |"
      ]
     },
     "metadata": {},
     "output_type": "display_data"
    },
    {
     "data": {
      "text/html": [
       "<pre>| 1111      | 27417.803417 | 0.420319      |</pre>"
      ],
      "text/plain": [
       "| 1111      | 27417.803417 | 0.420319      |"
      ]
     },
     "metadata": {},
     "output_type": "display_data"
    },
    {
     "data": {
      "text/html": [
       "<pre>| 1112      | 27441.811995 | 0.420305      |</pre>"
      ],
      "text/plain": [
       "| 1112      | 27441.811995 | 0.420305      |"
      ]
     },
     "metadata": {},
     "output_type": "display_data"
    },
    {
     "data": {
      "text/html": [
       "<pre>| 1113      | 27466.206668 | 0.420287      |</pre>"
      ],
      "text/plain": [
       "| 1113      | 27466.206668 | 0.420287      |"
      ]
     },
     "metadata": {},
     "output_type": "display_data"
    },
    {
     "data": {
      "text/html": [
       "<pre>| 1114      | 27489.723225 | 0.420267      |</pre>"
      ],
      "text/plain": [
       "| 1114      | 27489.723225 | 0.420267      |"
      ]
     },
     "metadata": {},
     "output_type": "display_data"
    },
    {
     "data": {
      "text/html": [
       "<pre>| 1115      | 27513.217641 | 0.420258      |</pre>"
      ],
      "text/plain": [
       "| 1115      | 27513.217641 | 0.420258      |"
      ]
     },
     "metadata": {},
     "output_type": "display_data"
    },
    {
     "data": {
      "text/html": [
       "<pre>| 1116      | 27536.219113 | 0.420250      |</pre>"
      ],
      "text/plain": [
       "| 1116      | 27536.219113 | 0.420250      |"
      ]
     },
     "metadata": {},
     "output_type": "display_data"
    },
    {
     "data": {
      "text/html": [
       "<pre>| 1117      | 27561.596671 | 0.420222      |</pre>"
      ],
      "text/plain": [
       "| 1117      | 27561.596671 | 0.420222      |"
      ]
     },
     "metadata": {},
     "output_type": "display_data"
    },
    {
     "data": {
      "text/html": [
       "<pre>| 1118      | 27586.873162 | 0.420208      |</pre>"
      ],
      "text/plain": [
       "| 1118      | 27586.873162 | 0.420208      |"
      ]
     },
     "metadata": {},
     "output_type": "display_data"
    },
    {
     "data": {
      "text/html": [
       "<pre>| 1119      | 27610.836087 | 0.420194      |</pre>"
      ],
      "text/plain": [
       "| 1119      | 27610.836087 | 0.420194      |"
      ]
     },
     "metadata": {},
     "output_type": "display_data"
    },
    {
     "data": {
      "text/html": [
       "<pre>| 1120      | 27634.244292 | 0.420171      |</pre>"
      ],
      "text/plain": [
       "| 1120      | 27634.244292 | 0.420171      |"
      ]
     },
     "metadata": {},
     "output_type": "display_data"
    },
    {
     "data": {
      "text/html": [
       "<pre>| 1121      | 27657.467699 | 0.420154      |</pre>"
      ],
      "text/plain": [
       "| 1121      | 27657.467699 | 0.420154      |"
      ]
     },
     "metadata": {},
     "output_type": "display_data"
    },
    {
     "data": {
      "text/html": [
       "<pre>| 1122      | 27680.869178 | 0.420135      |</pre>"
      ],
      "text/plain": [
       "| 1122      | 27680.869178 | 0.420135      |"
      ]
     },
     "metadata": {},
     "output_type": "display_data"
    },
    {
     "data": {
      "text/html": [
       "<pre>| 1123      | 27706.168027 | 0.420113      |</pre>"
      ],
      "text/plain": [
       "| 1123      | 27706.168027 | 0.420113      |"
      ]
     },
     "metadata": {},
     "output_type": "display_data"
    },
    {
     "data": {
      "text/html": [
       "<pre>| 1124      | 27730.293017 | 0.420109      |</pre>"
      ],
      "text/plain": [
       "| 1124      | 27730.293017 | 0.420109      |"
      ]
     },
     "metadata": {},
     "output_type": "display_data"
    },
    {
     "data": {
      "text/html": [
       "<pre>| 1125      | 27753.332964 | 0.420094      |</pre>"
      ],
      "text/plain": [
       "| 1125      | 27753.332964 | 0.420094      |"
      ]
     },
     "metadata": {},
     "output_type": "display_data"
    },
    {
     "data": {
      "text/html": [
       "<pre>| 1126      | 27775.386786 | 0.420080      |</pre>"
      ],
      "text/plain": [
       "| 1126      | 27775.386786 | 0.420080      |"
      ]
     },
     "metadata": {},
     "output_type": "display_data"
    },
    {
     "data": {
      "text/html": [
       "<pre>| 1127      | 27797.886703 | 0.420060      |</pre>"
      ],
      "text/plain": [
       "| 1127      | 27797.886703 | 0.420060      |"
      ]
     },
     "metadata": {},
     "output_type": "display_data"
    },
    {
     "data": {
      "text/html": [
       "<pre>| 1128      | 27824.098599 | 0.420043      |</pre>"
      ],
      "text/plain": [
       "| 1128      | 27824.098599 | 0.420043      |"
      ]
     },
     "metadata": {},
     "output_type": "display_data"
    },
    {
     "data": {
      "text/html": [
       "<pre>| 1129      | 27848.784056 | 0.420025      |</pre>"
      ],
      "text/plain": [
       "| 1129      | 27848.784056 | 0.420025      |"
      ]
     },
     "metadata": {},
     "output_type": "display_data"
    },
    {
     "data": {
      "text/html": [
       "<pre>| 1130      | 27873.691023 | 0.420005      |</pre>"
      ],
      "text/plain": [
       "| 1130      | 27873.691023 | 0.420005      |"
      ]
     },
     "metadata": {},
     "output_type": "display_data"
    },
    {
     "data": {
      "text/html": [
       "<pre>| 1131      | 27898.885738 | 0.419984      |</pre>"
      ],
      "text/plain": [
       "| 1131      | 27898.885738 | 0.419984      |"
      ]
     },
     "metadata": {},
     "output_type": "display_data"
    },
    {
     "data": {
      "text/html": [
       "<pre>| 1132      | 27925.238889 | 0.419959      |</pre>"
      ],
      "text/plain": [
       "| 1132      | 27925.238889 | 0.419959      |"
      ]
     },
     "metadata": {},
     "output_type": "display_data"
    },
    {
     "data": {
      "text/html": [
       "<pre>| 1133      | 27949.590090 | 0.419953      |</pre>"
      ],
      "text/plain": [
       "| 1133      | 27949.590090 | 0.419953      |"
      ]
     },
     "metadata": {},
     "output_type": "display_data"
    },
    {
     "data": {
      "text/html": [
       "<pre>| 1134      | 27973.594561 | 0.419944      |</pre>"
      ],
      "text/plain": [
       "| 1134      | 27973.594561 | 0.419944      |"
      ]
     },
     "metadata": {},
     "output_type": "display_data"
    },
    {
     "data": {
      "text/html": [
       "<pre>| 1135      | 27997.356667 | 0.419926      |</pre>"
      ],
      "text/plain": [
       "| 1135      | 27997.356667 | 0.419926      |"
      ]
     },
     "metadata": {},
     "output_type": "display_data"
    },
    {
     "data": {
      "text/html": [
       "<pre>| 1136      | 28021.677124 | 0.419912      |</pre>"
      ],
      "text/plain": [
       "| 1136      | 28021.677124 | 0.419912      |"
      ]
     },
     "metadata": {},
     "output_type": "display_data"
    },
    {
     "data": {
      "text/html": [
       "<pre>| 1137      | 28046.621218 | 0.419888      |</pre>"
      ],
      "text/plain": [
       "| 1137      | 28046.621218 | 0.419888      |"
      ]
     },
     "metadata": {},
     "output_type": "display_data"
    },
    {
     "data": {
      "text/html": [
       "<pre>| 1138      | 28070.984161 | 0.419873      |</pre>"
      ],
      "text/plain": [
       "| 1138      | 28070.984161 | 0.419873      |"
      ]
     },
     "metadata": {},
     "output_type": "display_data"
    },
    {
     "data": {
      "text/html": [
       "<pre>| 1139      | 28095.213398 | 0.419858      |</pre>"
      ],
      "text/plain": [
       "| 1139      | 28095.213398 | 0.419858      |"
      ]
     },
     "metadata": {},
     "output_type": "display_data"
    },
    {
     "data": {
      "text/html": [
       "<pre>| 1140      | 28120.034248 | 0.419849      |</pre>"
      ],
      "text/plain": [
       "| 1140      | 28120.034248 | 0.419849      |"
      ]
     },
     "metadata": {},
     "output_type": "display_data"
    },
    {
     "data": {
      "text/html": [
       "<pre>| 1141      | 28143.754707 | 0.419835      |</pre>"
      ],
      "text/plain": [
       "| 1141      | 28143.754707 | 0.419835      |"
      ]
     },
     "metadata": {},
     "output_type": "display_data"
    },
    {
     "data": {
      "text/html": [
       "<pre>| 1142      | 28168.545116 | 0.419812      |</pre>"
      ],
      "text/plain": [
       "| 1142      | 28168.545116 | 0.419812      |"
      ]
     },
     "metadata": {},
     "output_type": "display_data"
    },
    {
     "data": {
      "text/html": [
       "<pre>| 1143      | 28191.022216 | 0.419802      |</pre>"
      ],
      "text/plain": [
       "| 1143      | 28191.022216 | 0.419802      |"
      ]
     },
     "metadata": {},
     "output_type": "display_data"
    },
    {
     "data": {
      "text/html": [
       "<pre>| 1144      | 28215.652819 | 0.419797      |</pre>"
      ],
      "text/plain": [
       "| 1144      | 28215.652819 | 0.419797      |"
      ]
     },
     "metadata": {},
     "output_type": "display_data"
    },
    {
     "data": {
      "text/html": [
       "<pre>| 1145      | 28241.098573 | 0.419788      |</pre>"
      ],
      "text/plain": [
       "| 1145      | 28241.098573 | 0.419788      |"
      ]
     },
     "metadata": {},
     "output_type": "display_data"
    },
    {
     "data": {
      "text/html": [
       "<pre>| 1146      | 28266.307338 | 0.419776      |</pre>"
      ],
      "text/plain": [
       "| 1146      | 28266.307338 | 0.419776      |"
      ]
     },
     "metadata": {},
     "output_type": "display_data"
    },
    {
     "data": {
      "text/html": [
       "<pre>| 1147      | 28290.984571 | 0.419768      |</pre>"
      ],
      "text/plain": [
       "| 1147      | 28290.984571 | 0.419768      |"
      ]
     },
     "metadata": {},
     "output_type": "display_data"
    },
    {
     "data": {
      "text/html": [
       "<pre>| 1148      | 28315.777135 | 0.419758      |</pre>"
      ],
      "text/plain": [
       "| 1148      | 28315.777135 | 0.419758      |"
      ]
     },
     "metadata": {},
     "output_type": "display_data"
    },
    {
     "data": {
      "text/html": [
       "<pre>| 1149      | 28340.898618 | 0.419738      |</pre>"
      ],
      "text/plain": [
       "| 1149      | 28340.898618 | 0.419738      |"
      ]
     },
     "metadata": {},
     "output_type": "display_data"
    },
    {
     "data": {
      "text/html": [
       "<pre>| 1150      | 28365.898136 | 0.419732      |</pre>"
      ],
      "text/plain": [
       "| 1150      | 28365.898136 | 0.419732      |"
      ]
     },
     "metadata": {},
     "output_type": "display_data"
    },
    {
     "data": {
      "text/html": [
       "<pre>| 1151      | 28389.949535 | 0.419721      |</pre>"
      ],
      "text/plain": [
       "| 1151      | 28389.949535 | 0.419721      |"
      ]
     },
     "metadata": {},
     "output_type": "display_data"
    },
    {
     "data": {
      "text/html": [
       "<pre>| 1152      | 28413.541618 | 0.419715      |</pre>"
      ],
      "text/plain": [
       "| 1152      | 28413.541618 | 0.419715      |"
      ]
     },
     "metadata": {},
     "output_type": "display_data"
    },
    {
     "data": {
      "text/html": [
       "<pre>| 1153      | 28436.385879 | 0.419695      |</pre>"
      ],
      "text/plain": [
       "| 1153      | 28436.385879 | 0.419695      |"
      ]
     },
     "metadata": {},
     "output_type": "display_data"
    },
    {
     "data": {
      "text/html": [
       "<pre>| 1154      | 28461.707227 | 0.419676      |</pre>"
      ],
      "text/plain": [
       "| 1154      | 28461.707227 | 0.419676      |"
      ]
     },
     "metadata": {},
     "output_type": "display_data"
    },
    {
     "data": {
      "text/html": [
       "<pre>| 1155      | 28484.363349 | 0.419647      |</pre>"
      ],
      "text/plain": [
       "| 1155      | 28484.363349 | 0.419647      |"
      ]
     },
     "metadata": {},
     "output_type": "display_data"
    },
    {
     "data": {
      "text/html": [
       "<pre>| 1156      | 28508.025345 | 0.419626      |</pre>"
      ],
      "text/plain": [
       "| 1156      | 28508.025345 | 0.419626      |"
      ]
     },
     "metadata": {},
     "output_type": "display_data"
    },
    {
     "data": {
      "text/html": [
       "<pre>| 1157      | 28533.842038 | 0.419621      |</pre>"
      ],
      "text/plain": [
       "| 1157      | 28533.842038 | 0.419621      |"
      ]
     },
     "metadata": {},
     "output_type": "display_data"
    },
    {
     "data": {
      "text/html": [
       "<pre>| 1158      | 28558.750556 | 0.419596      |</pre>"
      ],
      "text/plain": [
       "| 1158      | 28558.750556 | 0.419596      |"
      ]
     },
     "metadata": {},
     "output_type": "display_data"
    },
    {
     "data": {
      "text/html": [
       "<pre>| 1159      | 28581.848004 | 0.419586      |</pre>"
      ],
      "text/plain": [
       "| 1159      | 28581.848004 | 0.419586      |"
      ]
     },
     "metadata": {},
     "output_type": "display_data"
    },
    {
     "data": {
      "text/html": [
       "<pre>| 1160      | 28606.370611 | 0.419571      |</pre>"
      ],
      "text/plain": [
       "| 1160      | 28606.370611 | 0.419571      |"
      ]
     },
     "metadata": {},
     "output_type": "display_data"
    },
    {
     "data": {
      "text/html": [
       "<pre>| 1161      | 28630.818332 | 0.419559      |</pre>"
      ],
      "text/plain": [
       "| 1161      | 28630.818332 | 0.419559      |"
      ]
     },
     "metadata": {},
     "output_type": "display_data"
    },
    {
     "data": {
      "text/html": [
       "<pre>| 1162      | 28656.310371 | 0.419536      |</pre>"
      ],
      "text/plain": [
       "| 1162      | 28656.310371 | 0.419536      |"
      ]
     },
     "metadata": {},
     "output_type": "display_data"
    },
    {
     "data": {
      "text/html": [
       "<pre>| 1163      | 28682.218592 | 0.419521      |</pre>"
      ],
      "text/plain": [
       "| 1163      | 28682.218592 | 0.419521      |"
      ]
     },
     "metadata": {},
     "output_type": "display_data"
    },
    {
     "data": {
      "text/html": [
       "<pre>| 1164      | 28707.204427 | 0.419506      |</pre>"
      ],
      "text/plain": [
       "| 1164      | 28707.204427 | 0.419506      |"
      ]
     },
     "metadata": {},
     "output_type": "display_data"
    },
    {
     "data": {
      "text/html": [
       "<pre>| 1165      | 28731.184630 | 0.419482      |</pre>"
      ],
      "text/plain": [
       "| 1165      | 28731.184630 | 0.419482      |"
      ]
     },
     "metadata": {},
     "output_type": "display_data"
    },
    {
     "data": {
      "text/html": [
       "<pre>| 1166      | 28755.264466 | 0.419476      |</pre>"
      ],
      "text/plain": [
       "| 1166      | 28755.264466 | 0.419476      |"
      ]
     },
     "metadata": {},
     "output_type": "display_data"
    },
    {
     "data": {
      "text/html": [
       "<pre>| 1167      | 28781.220803 | 0.419460      |</pre>"
      ],
      "text/plain": [
       "| 1167      | 28781.220803 | 0.419460      |"
      ]
     },
     "metadata": {},
     "output_type": "display_data"
    },
    {
     "data": {
      "text/html": [
       "<pre>| 1168      | 28805.969087 | 0.419437      |</pre>"
      ],
      "text/plain": [
       "| 1168      | 28805.969087 | 0.419437      |"
      ]
     },
     "metadata": {},
     "output_type": "display_data"
    },
    {
     "data": {
      "text/html": [
       "<pre>| 1169      | 28830.343199 | 0.419424      |</pre>"
      ],
      "text/plain": [
       "| 1169      | 28830.343199 | 0.419424      |"
      ]
     },
     "metadata": {},
     "output_type": "display_data"
    },
    {
     "data": {
      "text/html": [
       "<pre>| 1170      | 28854.453023 | 0.419410      |</pre>"
      ],
      "text/plain": [
       "| 1170      | 28854.453023 | 0.419410      |"
      ]
     },
     "metadata": {},
     "output_type": "display_data"
    },
    {
     "data": {
      "text/html": [
       "<pre>| 1171      | 28879.645006 | 0.419398      |</pre>"
      ],
      "text/plain": [
       "| 1171      | 28879.645006 | 0.419398      |"
      ]
     },
     "metadata": {},
     "output_type": "display_data"
    },
    {
     "data": {
      "text/html": [
       "<pre>| 1172      | 28901.822378 | 0.419386      |</pre>"
      ],
      "text/plain": [
       "| 1172      | 28901.822378 | 0.419386      |"
      ]
     },
     "metadata": {},
     "output_type": "display_data"
    },
    {
     "data": {
      "text/html": [
       "<pre>| 1173      | 28926.758878 | 0.419374      |</pre>"
      ],
      "text/plain": [
       "| 1173      | 28926.758878 | 0.419374      |"
      ]
     },
     "metadata": {},
     "output_type": "display_data"
    },
    {
     "data": {
      "text/html": [
       "<pre>| 1174      | 28950.934187 | 0.419355      |</pre>"
      ],
      "text/plain": [
       "| 1174      | 28950.934187 | 0.419355      |"
      ]
     },
     "metadata": {},
     "output_type": "display_data"
    },
    {
     "data": {
      "text/html": [
       "<pre>| 1175      | 28976.857368 | 0.419335      |</pre>"
      ],
      "text/plain": [
       "| 1175      | 28976.857368 | 0.419335      |"
      ]
     },
     "metadata": {},
     "output_type": "display_data"
    },
    {
     "data": {
      "text/html": [
       "<pre>| 1176      | 29001.006123 | 0.419317      |</pre>"
      ],
      "text/plain": [
       "| 1176      | 29001.006123 | 0.419317      |"
      ]
     },
     "metadata": {},
     "output_type": "display_data"
    },
    {
     "data": {
      "text/html": [
       "<pre>| 1177      | 29025.469183 | 0.419308      |</pre>"
      ],
      "text/plain": [
       "| 1177      | 29025.469183 | 0.419308      |"
      ]
     },
     "metadata": {},
     "output_type": "display_data"
    },
    {
     "data": {
      "text/html": [
       "<pre>| 1178      | 29050.525348 | 0.419295      |</pre>"
      ],
      "text/plain": [
       "| 1178      | 29050.525348 | 0.419295      |"
      ]
     },
     "metadata": {},
     "output_type": "display_data"
    },
    {
     "data": {
      "text/html": [
       "<pre>| 1179      | 29074.816226 | 0.419274      |</pre>"
      ],
      "text/plain": [
       "| 1179      | 29074.816226 | 0.419274      |"
      ]
     },
     "metadata": {},
     "output_type": "display_data"
    },
    {
     "data": {
      "text/html": [
       "<pre>| 1180      | 29098.326783 | 0.419263      |</pre>"
      ],
      "text/plain": [
       "| 1180      | 29098.326783 | 0.419263      |"
      ]
     },
     "metadata": {},
     "output_type": "display_data"
    },
    {
     "data": {
      "text/html": [
       "<pre>| 1181      | 29120.860164 | 0.419255      |</pre>"
      ],
      "text/plain": [
       "| 1181      | 29120.860164 | 0.419255      |"
      ]
     },
     "metadata": {},
     "output_type": "display_data"
    },
    {
     "data": {
      "text/html": [
       "<pre>| 1182      | 29145.630861 | 0.419237      |</pre>"
      ],
      "text/plain": [
       "| 1182      | 29145.630861 | 0.419237      |"
      ]
     },
     "metadata": {},
     "output_type": "display_data"
    },
    {
     "data": {
      "text/html": [
       "<pre>| 1183      | 29168.860342 | 0.419229      |</pre>"
      ],
      "text/plain": [
       "| 1183      | 29168.860342 | 0.419229      |"
      ]
     },
     "metadata": {},
     "output_type": "display_data"
    },
    {
     "data": {
      "text/html": [
       "<pre>| 1184      | 29192.991664 | 0.419220      |</pre>"
      ],
      "text/plain": [
       "| 1184      | 29192.991664 | 0.419220      |"
      ]
     },
     "metadata": {},
     "output_type": "display_data"
    },
    {
     "data": {
      "text/html": [
       "<pre>| 1185      | 29217.995666 | 0.419200      |</pre>"
      ],
      "text/plain": [
       "| 1185      | 29217.995666 | 0.419200      |"
      ]
     },
     "metadata": {},
     "output_type": "display_data"
    },
    {
     "data": {
      "text/html": [
       "<pre>| 1186      | 29242.898762 | 0.419174      |</pre>"
      ],
      "text/plain": [
       "| 1186      | 29242.898762 | 0.419174      |"
      ]
     },
     "metadata": {},
     "output_type": "display_data"
    },
    {
     "data": {
      "text/html": [
       "<pre>| 1187      | 29266.738430 | 0.419154      |</pre>"
      ],
      "text/plain": [
       "| 1187      | 29266.738430 | 0.419154      |"
      ]
     },
     "metadata": {},
     "output_type": "display_data"
    },
    {
     "data": {
      "text/html": [
       "<pre>| 1188      | 29291.022876 | 0.419141      |</pre>"
      ],
      "text/plain": [
       "| 1188      | 29291.022876 | 0.419141      |"
      ]
     },
     "metadata": {},
     "output_type": "display_data"
    },
    {
     "data": {
      "text/html": [
       "<pre>| 1189      | 29316.187331 | 0.419120      |</pre>"
      ],
      "text/plain": [
       "| 1189      | 29316.187331 | 0.419120      |"
      ]
     },
     "metadata": {},
     "output_type": "display_data"
    },
    {
     "data": {
      "text/html": [
       "<pre>| 1190      | 29341.618092 | 0.419102      |</pre>"
      ],
      "text/plain": [
       "| 1190      | 29341.618092 | 0.419102      |"
      ]
     },
     "metadata": {},
     "output_type": "display_data"
    },
    {
     "data": {
      "text/html": [
       "<pre>| 1191      | 29365.383255 | 0.419085      |</pre>"
      ],
      "text/plain": [
       "| 1191      | 29365.383255 | 0.419085      |"
      ]
     },
     "metadata": {},
     "output_type": "display_data"
    },
    {
     "data": {
      "text/html": [
       "<pre>| 1192      | 29388.247829 | 0.419073      |</pre>"
      ],
      "text/plain": [
       "| 1192      | 29388.247829 | 0.419073      |"
      ]
     },
     "metadata": {},
     "output_type": "display_data"
    },
    {
     "data": {
      "text/html": [
       "<pre>| 1193      | 29411.930068 | 0.419069      |</pre>"
      ],
      "text/plain": [
       "| 1193      | 29411.930068 | 0.419069      |"
      ]
     },
     "metadata": {},
     "output_type": "display_data"
    },
    {
     "data": {
      "text/html": [
       "<pre>| 1194      | 29435.338519 | 0.419061      |</pre>"
      ],
      "text/plain": [
       "| 1194      | 29435.338519 | 0.419061      |"
      ]
     },
     "metadata": {},
     "output_type": "display_data"
    },
    {
     "data": {
      "text/html": [
       "<pre>| 1195      | 29460.612830 | 0.419033      |</pre>"
      ],
      "text/plain": [
       "| 1195      | 29460.612830 | 0.419033      |"
      ]
     },
     "metadata": {},
     "output_type": "display_data"
    },
    {
     "data": {
      "text/html": [
       "<pre>| 1196      | 29485.128191 | 0.419013      |</pre>"
      ],
      "text/plain": [
       "| 1196      | 29485.128191 | 0.419013      |"
      ]
     },
     "metadata": {},
     "output_type": "display_data"
    },
    {
     "data": {
      "text/html": [
       "<pre>| 1197      | 29509.209487 | 0.418993      |</pre>"
      ],
      "text/plain": [
       "| 1197      | 29509.209487 | 0.418993      |"
      ]
     },
     "metadata": {},
     "output_type": "display_data"
    },
    {
     "data": {
      "text/html": [
       "<pre>| 1198      | 29534.016316 | 0.418975      |</pre>"
      ],
      "text/plain": [
       "| 1198      | 29534.016316 | 0.418975      |"
      ]
     },
     "metadata": {},
     "output_type": "display_data"
    },
    {
     "data": {
      "text/html": [
       "<pre>| 1199      | 29558.944248 | 0.418952      |</pre>"
      ],
      "text/plain": [
       "| 1199      | 29558.944248 | 0.418952      |"
      ]
     },
     "metadata": {},
     "output_type": "display_data"
    },
    {
     "data": {
      "text/html": [
       "<pre>| 1200      | 29582.895342 | 0.418937      |</pre>"
      ],
      "text/plain": [
       "| 1200      | 29582.895342 | 0.418937      |"
      ]
     },
     "metadata": {},
     "output_type": "display_data"
    },
    {
     "data": {
      "text/html": [
       "<pre>Checkpointing to /home/zongyi/bimbo_data/model_checkpoint_1200</pre>"
      ],
      "text/plain": [
       "Checkpointing to /home/zongyi/bimbo_data/model_checkpoint_1200"
      ]
     },
     "metadata": {},
     "output_type": "display_data"
    },
    {
     "data": {
      "text/html": [
       "<pre>+-----------+--------------+---------------+</pre>"
      ],
      "text/plain": [
       "+-----------+--------------+---------------+"
      ]
     },
     "metadata": {},
     "output_type": "display_data"
    }
   ],
   "source": [
    "# Make a train-test split\n",
    "# train_data, test_data = train.random_split(0.9,seed=543)\n",
    "\n",
    "# Create a model.\n",
    "model = gl.boosted_trees_regression.create(train, target='Demada_log',\n",
    "                                           step_size=0.1,\n",
    "                                           max_iterations=1200,\n",
    "                                           max_depth = 10,\n",
    "                                          metric='rmse',\n",
    "                                          random_seed=461,\n",
    "                                          column_subsample=0.7,\n",
    "                                          row_subsample=0.85,\n",
    "                                          validation_set=None,\n",
    "                                          model_checkpoint_path=path,\n",
    "                                          model_checkpoint_interval=1200)\n",
    "\n",
    "#500       | 14060.836344 | 0.435407      | 0.447519  \n"
   ]
  },
  {
   "cell_type": "code",
   "execution_count": 21,
   "metadata": {
    "collapsed": false
   },
   "outputs": [
    {
     "data": {
      "text/plain": [
       "(0.4, 0.5)"
      ]
     },
     "execution_count": 21,
     "metadata": {},
     "output_type": "execute_result"
    },
    {
     "data": {
      "image/png": "[encoded data removed]",
      "text/plain": [
       "<matplotlib.figure.Figure at 0x7fbc3bab5050>"
      ]
     },
     "metadata": {},
     "output_type": "display_data"
    }
   ],
   "source": [
    "from IPython.core.pylabtools import figsize\n",
    "import numpy as np\n",
    "from matplotlib import pyplot as plt\n",
    "import seaborn as sns\n",
    "sns.set_style('darkgrid', {'grid.color': '.8','grid.linestyle': u'--'}) \n",
    "%matplotlib inline\n",
    "\n",
    "figsize(16, 6)\n",
    "plt.scatter(model.progress['Iteration'], model.progress['Training-rmse'],alpha=.5)\n",
    "plt.ylim(.4,.5)\n",
    "# plt.xticks(rotation=45)"
   ]
  },
  {
   "cell_type": "code",
   "execution_count": 48,
   "metadata": {
    "collapsed": false
   },
   "outputs": [
    {
     "data": {
      "text/html": [
       "<div style=\"max-height:1000px;max-width:1500px;overflow:auto;\"><table frame=\"box\" rules=\"cols\">\n",
       "    <tr>\n",
       "        <th style=\"padding-left: 1em; padding-right: 1em; text-align: center\">id</th>\n",
       "        <th style=\"padding-left: 1em; padding-right: 1em; text-align: center\">name</th>\n",
       "        <th style=\"padding-left: 1em; padding-right: 1em; text-align: center\">index</th>\n",
       "        <th style=\"padding-left: 1em; padding-right: 1em; text-align: center\">count</th>\n",
       "    </tr>\n",
       "    <tr>\n",
       "        <td style=\"padding-left: 1em; padding-right: 1em; text-align: center; vertical-align: top\">0</td>\n",
       "        <td style=\"padding-left: 1em; padding-right: 1em; text-align: center; vertical-align: top\">Cliente_ID</td>\n",
       "        <td style=\"padding-left: 1em; padding-right: 1em; text-align: center; vertical-align: top\">None</td>\n",
       "        <td style=\"padding-left: 1em; padding-right: 1em; text-align: center; vertical-align: top\">86467</td>\n",
       "    </tr>\n",
       "    <tr>\n",
       "        <td style=\"padding-left: 1em; padding-right: 1em; text-align: center; vertical-align: top\">1</td>\n",
       "        <td style=\"padding-left: 1em; padding-right: 1em; text-align: center; vertical-align: top\">mpca</td>\n",
       "        <td style=\"padding-left: 1em; padding-right: 1em; text-align: center; vertical-align: top\">None</td>\n",
       "        <td style=\"padding-left: 1em; padding-right: 1em; text-align: center; vertical-align: top\">78153</td>\n",
       "    </tr>\n",
       "    <tr>\n",
       "        <td style=\"padding-left: 1em; padding-right: 1em; text-align: center; vertical-align: top\">2</td>\n",
       "        <td style=\"padding-left: 1em; padding-right: 1em; text-align: center; vertical-align: top\">Ruta_SAK</td>\n",
       "        <td style=\"padding-left: 1em; padding-right: 1em; text-align: center; vertical-align: top\">None</td>\n",
       "        <td style=\"padding-left: 1em; padding-right: 1em; text-align: center; vertical-align: top\">63966</td>\n",
       "    </tr>\n",
       "    <tr>\n",
       "        <td style=\"padding-left: 1em; padding-right: 1em; text-align: center; vertical-align: top\">3</td>\n",
       "        <td style=\"padding-left: 1em; padding-right: 1em; text-align: center; vertical-align: top\">Agencia_ID</td>\n",
       "        <td style=\"padding-left: 1em; padding-right: 1em; text-align: center; vertical-align: top\">None</td>\n",
       "        <td style=\"padding-left: 1em; padding-right: 1em; text-align: center; vertical-align: top\">56860</td>\n",
       "    </tr>\n",
       "    <tr>\n",
       "        <td style=\"padding-left: 1em; padding-right: 1em; text-align: center; vertical-align: top\">4</td>\n",
       "        <td style=\"padding-left: 1em; padding-right: 1em; text-align: center; vertical-align: top\">Producto_ID</td>\n",
       "        <td style=\"padding-left: 1em; padding-right: 1em; text-align: center; vertical-align: top\">None</td>\n",
       "        <td style=\"padding-left: 1em; padding-right: 1em; text-align: center; vertical-align: top\">55172</td>\n",
       "    </tr>\n",
       "    <tr>\n",
       "        <td style=\"padding-left: 1em; padding-right: 1em; text-align: center; vertical-align: top\">5</td>\n",
       "        <td style=\"padding-left: 1em; padding-right: 1em; text-align: center; vertical-align: top\">n_c</td>\n",
       "        <td style=\"padding-left: 1em; padding-right: 1em; text-align: center; vertical-align: top\">None</td>\n",
       "        <td style=\"padding-left: 1em; padding-right: 1em; text-align: center; vertical-align: top\">53960</td>\n",
       "    </tr>\n",
       "    <tr>\n",
       "        <td style=\"padding-left: 1em; padding-right: 1em; text-align: center; vertical-align: top\">6</td>\n",
       "        <td style=\"padding-left: 1em; padding-right: 1em; text-align: center; vertical-align: top\">n_r</td>\n",
       "        <td style=\"padding-left: 1em; padding-right: 1em; text-align: center; vertical-align: top\">None</td>\n",
       "        <td style=\"padding-left: 1em; padding-right: 1em; text-align: center; vertical-align: top\">46064</td>\n",
       "    </tr>\n",
       "    <tr>\n",
       "        <td style=\"padding-left: 1em; padding-right: 1em; text-align: center; vertical-align: top\">7</td>\n",
       "        <td style=\"padding-left: 1em; padding-right: 1em; text-align: center; vertical-align: top\">lag1</td>\n",
       "        <td style=\"padding-left: 1em; padding-right: 1em; text-align: center; vertical-align: top\">None</td>\n",
       "        <td style=\"padding-left: 1em; padding-right: 1em; text-align: center; vertical-align: top\">43999</td>\n",
       "    </tr>\n",
       "    <tr>\n",
       "        <td style=\"padding-left: 1em; padding-right: 1em; text-align: center; vertical-align: top\">8</td>\n",
       "        <td style=\"padding-left: 1em; padding-right: 1em; text-align: center; vertical-align: top\">n_p</td>\n",
       "        <td style=\"padding-left: 1em; padding-right: 1em; text-align: center; vertical-align: top\">None</td>\n",
       "        <td style=\"padding-left: 1em; padding-right: 1em; text-align: center; vertical-align: top\">43365</td>\n",
       "    </tr>\n",
       "    <tr>\n",
       "        <td style=\"padding-left: 1em; padding-right: 1em; text-align: center; vertical-align: top\">9</td>\n",
       "        <td style=\"padding-left: 1em; padding-right: 1em; text-align: center; vertical-align: top\">n_a</td>\n",
       "        <td style=\"padding-left: 1em; padding-right: 1em; text-align: center; vertical-align: top\">None</td>\n",
       "        <td style=\"padding-left: 1em; padding-right: 1em; text-align: center; vertical-align: top\">38188</td>\n",
       "    </tr>\n",
       "</table>\n",
       "[14 rows x 4 columns]<br/>Note: Only the head of the SFrame is printed.<br/>You can use print_rows(num_rows=m, num_columns=n) to print more rows and columns.\n",
       "</div>"
      ],
      "text/plain": [
       "Columns:\n",
       "\tid\tint\n",
       "\tname\tstr\n",
       "\tindex\tstr\n",
       "\tcount\tint\n",
       "\n",
       "Rows: 14\n",
       "\n",
       "Data:\n",
       "+----+-------------+-------+-------+\n",
       "| id |     name    | index | count |\n",
       "+----+-------------+-------+-------+\n",
       "| 0  |  Cliente_ID |  None | 86467 |\n",
       "| 1  |     mpca    |  None | 78153 |\n",
       "| 2  |   Ruta_SAK  |  None | 63966 |\n",
       "| 3  |  Agencia_ID |  None | 56860 |\n",
       "| 4  | Producto_ID |  None | 55172 |\n",
       "| 5  |     n_c     |  None | 53960 |\n",
       "| 6  |     n_r     |  None | 46064 |\n",
       "| 7  |     lag1    |  None | 43999 |\n",
       "| 8  |     n_p     |  None | 43365 |\n",
       "| 9  |     n_a     |  None | 38188 |\n",
       "+----+-------------+-------+-------+\n",
       "[14 rows x 4 columns]\n",
       "Note: Only the head of the SFrame is printed.\n",
       "You can use print_rows(num_rows=m, num_columns=n) to print more rows and columns."
      ]
     },
     "execution_count": 48,
     "metadata": {},
     "output_type": "execute_result"
    }
   ],
   "source": [
    "w = model.get_feature_importance()\n",
    "w = w.add_row_number()\n",
    "w"
   ]
  },
  {
   "cell_type": "code",
   "execution_count": 49,
   "metadata": {
    "collapsed": false
   },
   "outputs": [
    {
     "data": {
      "text/plain": [
       "(array([ 0,  1,  2,  3,  4,  5,  6,  7,  8,  9, 10, 11, 12, 13]),\n",
       " <a list of 14 Text xticklabel objects>)"
      ]
     },
     "execution_count": 49,
     "metadata": {},
     "output_type": "execute_result"
    },
    {
     "data": {
      "image/png": "[encoded data removed]",
      "text/plain": [
       "<matplotlib.figure.Figure at 0x7fbc2536b750>"
      ]
     },
     "metadata": {},
     "output_type": "display_data"
    }
   ],
   "source": [
    "from IPython.core.pylabtools import figsize\n",
    "import numpy as np\n",
    "from matplotlib import pyplot as plt\n",
    "import seaborn as sns\n",
    "sns.set_style('darkgrid', {'grid.color': '.8','grid.linestyle': u'--'}) \n",
    "%matplotlib inline\n",
    "\n",
    "figsize(16, 9)\n",
    "plt.bar(w['id'], w['count'], tick_label=w['name'])\n",
    "\n",
    "plt.xticks(rotation=45)\n"
   ]
  },
  {
   "cell_type": "code",
   "execution_count": null,
   "metadata": {
    "collapsed": true
   },
   "outputs": [],
   "source": []
  },
  {
   "cell_type": "code",
   "execution_count": 20,
   "metadata": {
    "collapsed": false
   },
   "outputs": [
    {
     "name": "stdout",
     "output_type": "stream",
     "text": [
      "{'max_error': 6.300516724586487, 'rmse': 0.4389403189567331}\n"
     ]
    }
   ],
   "source": [
    "# Save predictions to an SArray\n",
    "predictions = model.predict(train)\n",
    "\n",
    "# Evaluate the model and save the results into a dictionary\n",
    "results = model.evaluate(train)\n",
    "print results\n"
   ]
  },
  {
   "cell_type": "markdown",
   "metadata": {
    "collapsed": true
   },
   "source": [
    "## predict"
   ]
  },
  {
   "cell_type": "code",
   "execution_count": 53,
   "metadata": {
    "collapsed": true
   },
   "outputs": [],
   "source": [
    "'''Add feature to week 11'''\n",
    "def feature_w11(test, lag_sum=0, prior_sum=0):\n",
    "    test_full = test.copy()\n",
    "    ids = test['id']\n",
    "    del test['id']\n",
    "    del test['Semana']\n",
    "    demand_log = model.predict(test)\n",
    "    sub1 = gl.SFrame({'id':ids,'Demanda_uni_equil':demand_log})\n",
    "    test_full = test_full.join(sub1,on=['id'],how='left')\n",
    "    lag11 = test_full.groupby(key_columns=['Semana','Cliente_ID','Producto_ID'], operations={'lag11':agg.MEAN('Demanda_uni_equil')})\n",
    "    lag11['Semana'] = lag11['Semana'].apply(lambda x: x+1)\n",
    "    test_full = test_full.join(lag11,on=['Semana','Cliente_ID','Producto_ID'],how='left')\n",
    "    test_full = test_full.fillna('lag11',0)\n",
    "    test_full['lag1'] = test_full['lag1'] + test_full['lag11']\n",
    "    \n",
    "    if lag_sum == 1:\n",
    "        test_full['lag_sum'] = test_full['lag_sum'] + test_full['lag11']\n",
    "        \n",
    "    if prior_sum == 1:\n",
    "        lag_sum11 = test_full.groupby(key_columns=['Semana','Cliente_ID','Producto_ID'], operations={'lag_sum11':agg.SUM('Demanda_uni_equil')})\n",
    "        lag_sum11['Semana'] = lag_sum11['Semana'].apply(lambda x: x+1)\n",
    "        test_full = test_full.join(lag_sum11,on=['Semana','Cliente_ID','Producto_ID'],how='left')\n",
    "        test_full = test_full.fillna('lag_sum11',0)\n",
    "        test_full['prior_sum'] = test_full['prior_sum'] + test_full['lag_sum11']\n",
    "        del test_full['lag_sum11']\n",
    "\n",
    "    del test_full['lag11']\n",
    "    del test_full['Demanda_uni_equil']\n",
    "    del test_full['Semana']\n",
    "    return test_full"
   ]
  },
  {
   "cell_type": "code",
   "execution_count": 54,
   "metadata": {
    "collapsed": true
   },
   "outputs": [],
   "source": [
    "test = gl.SFrame.read_csv(path + 'test_lag5_w9_mean.csv', verbose=False)\n",
    "# test = test.join(town, on=['Agencia_ID','Producto_ID'], how='left')\n",
    "# test = test.fillna('t_c',1)\n",
    "# test = test.fillna('tcc',0)\n",
    "# test = test.fillna('tp_sum',0)\n",
    "# del test['Town']\n",
    "# del test['t_c']\n",
    "# del test['n_t']"
   ]
  },
  {
   "cell_type": "code",
   "execution_count": 55,
   "metadata": {
    "collapsed": false
   },
   "outputs": [
    {
     "name": "stdout",
     "output_type": "stream",
     "text": [
      "['id', 'Semana', 'Agencia_ID', 'Canal_ID', 'Ruta_SAK', 'Cliente_ID', 'Producto_ID', 'lag1', 'lag2', 'lag3', 'lag4', 'lag5', 'lag_sum', 'prior_sum', 'week_times', 'n_a', 'n_r', 'n_c', 'n_p', 'mpca']\n",
      "20\n"
     ]
    }
   ],
   "source": [
    "print test.column_names()\n",
    "print len(test.column_names())"
   ]
  },
  {
   "cell_type": "code",
   "execution_count": 56,
   "metadata": {
    "collapsed": false
   },
   "outputs": [],
   "source": [
    "del test['prior_sum']\n",
    "del test['lag_sum']\n",
    "del test['week_times']\n",
    "# del test['Semana']\n",
    "del test['Canal_ID']\n",
    "test = test.fillna('lag1',0)\n",
    "test = test.fillna('lag2',0)\n",
    "test = test.fillna('lag3',0)\n",
    "test = test.fillna('lag4',0)\n",
    "test = test.fillna('lag5',0)\n",
    "# test = test.fillna('lag_sum',0)\n",
    "# test = test.fillna('prior_sum',0)\n",
    "test = test.fillna('n_a',0)\n",
    "test = test.fillna('n_r',0)\n",
    "test = test.fillna('n_c',0)\n",
    "test = test.fillna('n_p',0)\n"
   ]
  },
  {
   "cell_type": "code",
   "execution_count": 57,
   "metadata": {
    "collapsed": false
   },
   "outputs": [],
   "source": [
    "test_full = feature_w11(test, lag_sum=0, prior_sum=0)"
   ]
  },
  {
   "cell_type": "code",
   "execution_count": 58,
   "metadata": {
    "collapsed": false,
    "scrolled": false
   },
   "outputs": [],
   "source": [
    "ids = test_full['id']\n",
    "del test_full['id']\n",
    "# del test_full['Semana']\n",
    "demand_log = model.predict(test_full)\n",
    "sub = gl.SFrame({'id':ids,'Demanda_uni_equil':demand_log})"
   ]
  },
  {
   "cell_type": "code",
   "execution_count": 59,
   "metadata": {
    "collapsed": false
   },
   "outputs": [],
   "source": [
    "import math\n",
    "sub['Demanda_uni_equil'] = sub['Demanda_uni_equil'].apply(lambda x: math.expm1(max(0, x)))"
   ]
  },
  {
   "cell_type": "code",
   "execution_count": 60,
   "metadata": {
    "collapsed": false
   },
   "outputs": [],
   "source": [
    "file_name = 'w9'+'_f'+str(model.num_features)+'_n'+str(model.max_iterations)+'_c'+str(model.column_subsample)\n",
    "sub.save(path+file_name,format='csv')"
   ]
  },
  {
   "cell_type": "code",
   "execution_count": 37,
   "metadata": {
    "collapsed": false
   },
   "outputs": [
    {
     "data": {
      "text/html": [
       "<div style=\"max-height:1000px;max-width:1500px;overflow:auto;\"><table frame=\"box\" rules=\"cols\">\n",
       "    <tr>\n",
       "        <th style=\"padding-left: 1em; padding-right: 1em; text-align: center\">Demanda_uni_equil</th>\n",
       "        <th style=\"padding-left: 1em; padding-right: 1em; text-align: center\">id</th>\n",
       "    </tr>\n",
       "    <tr>\n",
       "        <td style=\"padding-left: 1em; padding-right: 1em; text-align: center; vertical-align: top\">1.61837256058</td>\n",
       "        <td style=\"padding-left: 1em; padding-right: 1em; text-align: center; vertical-align: top\">3462602</td>\n",
       "    </tr>\n",
       "    <tr>\n",
       "        <td style=\"padding-left: 1em; padding-right: 1em; text-align: center; vertical-align: top\">1.3085287952</td>\n",
       "        <td style=\"padding-left: 1em; padding-right: 1em; text-align: center; vertical-align: top\">5404948</td>\n",
       "    </tr>\n",
       "    <tr>\n",
       "        <td style=\"padding-left: 1em; padding-right: 1em; text-align: center; vertical-align: top\">5.9580097926</td>\n",
       "        <td style=\"padding-left: 1em; padding-right: 1em; text-align: center; vertical-align: top\">1787383</td>\n",
       "    </tr>\n",
       "    <tr>\n",
       "        <td style=\"padding-left: 1em; padding-right: 1em; text-align: center; vertical-align: top\">0.707530317114</td>\n",
       "        <td style=\"padding-left: 1em; padding-right: 1em; text-align: center; vertical-align: top\">6974704</td>\n",
       "    </tr>\n",
       "    <tr>\n",
       "        <td style=\"padding-left: 1em; padding-right: 1em; text-align: center; vertical-align: top\">1.55761237857</td>\n",
       "        <td style=\"padding-left: 1em; padding-right: 1em; text-align: center; vertical-align: top\">4537131</td>\n",
       "    </tr>\n",
       "    <tr>\n",
       "        <td style=\"padding-left: 1em; padding-right: 1em; text-align: center; vertical-align: top\">5.08172827211</td>\n",
       "        <td style=\"padding-left: 1em; padding-right: 1em; text-align: center; vertical-align: top\">195176</td>\n",
       "    </tr>\n",
       "    <tr>\n",
       "        <td style=\"padding-left: 1em; padding-right: 1em; text-align: center; vertical-align: top\">1.3427107602</td>\n",
       "        <td style=\"padding-left: 1em; padding-right: 1em; text-align: center; vertical-align: top\">1291184</td>\n",
       "    </tr>\n",
       "    <tr>\n",
       "        <td style=\"padding-left: 1em; padding-right: 1em; text-align: center; vertical-align: top\">2.05182806322</td>\n",
       "        <td style=\"padding-left: 1em; padding-right: 1em; text-align: center; vertical-align: top\">5641989</td>\n",
       "    </tr>\n",
       "    <tr>\n",
       "        <td style=\"padding-left: 1em; padding-right: 1em; text-align: center; vertical-align: top\">1.83510567121</td>\n",
       "        <td style=\"padding-left: 1em; padding-right: 1em; text-align: center; vertical-align: top\">652235</td>\n",
       "    </tr>\n",
       "    <tr>\n",
       "        <td style=\"padding-left: 1em; padding-right: 1em; text-align: center; vertical-align: top\">5.67998698555</td>\n",
       "        <td style=\"padding-left: 1em; padding-right: 1em; text-align: center; vertical-align: top\">1866280</td>\n",
       "    </tr>\n",
       "</table>\n",
       "[6999251 rows x 2 columns]<br/>Note: Only the head of the SFrame is printed.<br/>You can use print_rows(num_rows=m, num_columns=n) to print more rows and columns.\n",
       "</div>"
      ],
      "text/plain": [
       "Columns:\n",
       "\tDemanda_uni_equil\tfloat\n",
       "\tid\tint\n",
       "\n",
       "Rows: 6999251\n",
       "\n",
       "Data:\n",
       "+-------------------+---------+\n",
       "| Demanda_uni_equil |    id   |\n",
       "+-------------------+---------+\n",
       "|   1.61837256058   | 3462602 |\n",
       "|    1.3085287952   | 5404948 |\n",
       "|    5.9580097926   | 1787383 |\n",
       "|   0.707530317114  | 6974704 |\n",
       "|   1.55761237857   | 4537131 |\n",
       "|   5.08172827211   |  195176 |\n",
       "|    1.3427107602   | 1291184 |\n",
       "|   2.05182806322   | 5641989 |\n",
       "|   1.83510567121   |  652235 |\n",
       "|   5.67998698555   | 1866280 |\n",
       "+-------------------+---------+\n",
       "[6999251 rows x 2 columns]\n",
       "Note: Only the head of the SFrame is printed.\n",
       "You can use print_rows(num_rows=m, num_columns=n) to print more rows and columns."
      ]
     },
     "execution_count": 37,
     "metadata": {},
     "output_type": "execute_result"
    }
   ],
   "source": [
    "sub"
   ]
  },
  {
   "cell_type": "code",
   "execution_count": null,
   "metadata": {
    "collapsed": true
   },
   "outputs": [],
   "source": []
  }
 ],
 "metadata": {
  "kernelspec": {
   "display_name": "Python 2",
   "language": "python",
   "name": "python2"
  },
  "language_info": {
   "codemirror_mode": {
    "name": "ipython",
    "version": 2
   },
   "file_extension": ".py",
   "mimetype": "text/x-python",
   "name": "python",
   "nbconvert_exporter": "python",
   "pygments_lexer": "ipython2",
   "version": "2.7.6"
  }
 },
 "nbformat": 4,
 "nbformat_minor": 0
}
