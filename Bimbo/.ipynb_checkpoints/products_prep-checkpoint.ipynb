{
 "cells": [
  {
   "cell_type": "code",
   "execution_count": 1,
   "metadata": {
    "collapsed": true
   },
   "outputs": [],
   "source": [
    "import pandas as pd\n",
    "import matplotlib.pyplot as plt\n",
    "import numpy as np\n",
    "%matplotlib inline\n"
   ]
  },
  {
   "cell_type": "code",
   "execution_count": 3,
   "metadata": {
    "collapsed": false
   },
   "outputs": [],
   "source": [
    "'''钢炮'''\n",
    "path = '/home/zongyi/bimbo_data/'\n",
    "prod = pd.read_csv(path+'producto_tabla.csv')\n",
    "cluster = pd.read_csv(path+'prod_cluster.csv')"
   ]
  },
  {
   "cell_type": "code",
   "execution_count": 2,
   "metadata": {
    "collapsed": true
   },
   "outputs": [],
   "source": [
    "'''MAC'''\n",
    "path = '/Users/zonemercy/jupyter_notebook/bimbo_data/'\n",
    "prod = pd.read_csv(path+'producto_tabla.csv')\n",
    "cluster = pd.read_csv(path+'prod_cluster.csv')"
   ]
  },
  {
   "cell_type": "code",
   "execution_count": 4,
   "metadata": {
    "collapsed": false
   },
   "outputs": [
    {
     "data": {
      "text/html": [
       "<div>\n",
       "<table border=\"1\" class=\"dataframe\">\n",
       "  <thead>\n",
       "    <tr style=\"text-align: right;\">\n",
       "      <th></th>\n",
       "      <th>Producto_ID</th>\n",
       "      <th>p_name</th>\n",
       "      <th>p_clt</th>\n",
       "    </tr>\n",
       "  </thead>\n",
       "  <tbody>\n",
       "    <tr>\n",
       "      <th>0</th>\n",
       "      <td>9</td>\n",
       "      <td>Capuccino Moka 750g</td>\n",
       "      <td>23</td>\n",
       "    </tr>\n",
       "    <tr>\n",
       "      <th>1</th>\n",
       "      <td>41</td>\n",
       "      <td>Bimbollos Ext sAjonjoli 6p 480g</td>\n",
       "      <td>9</td>\n",
       "    </tr>\n",
       "    <tr>\n",
       "      <th>2</th>\n",
       "      <td>53</td>\n",
       "      <td>Burritos Sincro 170g</td>\n",
       "      <td>29</td>\n",
       "    </tr>\n",
       "    <tr>\n",
       "      <th>3</th>\n",
       "      <td>72</td>\n",
       "      <td>Div Tira Mini Doradita 4p 45g</td>\n",
       "      <td>23</td>\n",
       "    </tr>\n",
       "    <tr>\n",
       "      <th>4</th>\n",
       "      <td>73</td>\n",
       "      <td>Pan Multigrano Linaza 540g</td>\n",
       "      <td>1</td>\n",
       "    </tr>\n",
       "  </tbody>\n",
       "</table>\n",
       "</div>"
      ],
      "text/plain": [
       "   Producto_ID                           p_name  p_clt\n",
       "0            9              Capuccino Moka 750g     23\n",
       "1           41  Bimbollos Ext sAjonjoli 6p 480g      9\n",
       "2           53             Burritos Sincro 170g     29\n",
       "3           72    Div Tira Mini Doradita 4p 45g     23\n",
       "4           73       Pan Multigrano Linaza 540g      1"
      ]
     },
     "execution_count": 4,
     "metadata": {},
     "output_type": "execute_result"
    }
   ],
   "source": [
    "cluster[['Producto_ID','p_name','p_clt']]=cluster[['Producto_ID','product_shortname','cluster']]\n",
    "cluster=cluster[['Producto_ID','p_name','p_clt']]\n",
    "cluster.head()"
   ]
  },
  {
   "cell_type": "code",
   "execution_count": 5,
   "metadata": {
    "collapsed": true
   },
   "outputs": [],
   "source": [
    "'''p_cluster | p_name'''\n",
    "prod = pd.merge(prod, cluster, how='left', on=['Producto_ID'])\n",
    "prod.fillna(0, inplace=True)"
   ]
  },
  {
   "cell_type": "code",
   "execution_count": 6,
   "metadata": {
    "collapsed": false
   },
   "outputs": [
    {
     "data": {
      "text/plain": [
       "204"
      ]
     },
     "execution_count": 6,
     "metadata": {},
     "output_type": "execute_result"
    }
   ],
   "source": [
    "'''prom'''\n",
    "prod.drop(prod.index[[0]], inplace=True) #delete first row 'no indication'\n",
    "prod['prom'] = prod['NombreProducto'].apply(lambda x: 1 if 'Prom' in x else 0)\n",
    "len(prod[prod['prom'] == 1])"
   ]
  },
  {
   "cell_type": "code",
   "execution_count": 7,
   "metadata": {
    "collapsed": false
   },
   "outputs": [],
   "source": [
    "# prod['short_name'] = prod.NombreProducto.str.extract('^(\\D*)', expand=False)\n",
    "prod.loc[prod['Producto_ID']==46711, 'NombreProducto'] = 'Coca Cola Zero Lata 355ml CC 46711' # 355 ml bug\n",
    "\n",
    "prod['brand'] = prod.NombreProducto.str.extract('^.+\\s(\\D+) \\d+$', expand=False)\n",
    "w = prod.NombreProducto.str.extract('(\\d+)(Kg|g)', expand=True)\n",
    "prod['weight'] = w[0].astype('float')*w[1].map({'Kg':1000, 'g':1})\n",
    "prod['pieces'] =  prod.NombreProducto.str.extract('(\\d+)p ', expand=False).astype('float')\n",
    "prod['pieces'].fillna(1, inplace=True)\n",
    "prod['w_per_piece'] = prod['weight']/prod['pieces']\n",
    "\n",
    "prod['healthy']= prod.NombreProducto.str.contains('100pct| 0pct|Multigrano|Integral|Fibra|Grasa|sin Azucar').astype(int)\n"
   ]
  },
  {
   "cell_type": "code",
   "execution_count": 8,
   "metadata": {
    "collapsed": false
   },
   "outputs": [
    {
     "data": {
      "text/plain": [
       "49"
      ]
     },
     "execution_count": 8,
     "metadata": {},
     "output_type": "execute_result"
    }
   ],
   "source": [
    "'''drink'''\n",
    "prod['drink'] = prod['NombreProducto'].apply(lambda x: 1 if 'ml' in x else 0)\n",
    "len(prod[prod['drink'] == 1])\n",
    "# prod['drink'] = 0\n",
    "# for row in prod.iterrows():\n",
    "#     if np.isnan(row[1]['weight']):\n",
    "#             prod.set_value(row[0], 'drink', 1)"
   ]
  },
  {
   "cell_type": "code",
   "execution_count": 9,
   "metadata": {
    "collapsed": false
   },
   "outputs": [],
   "source": [
    "prod.loc[prod['NombreProducto'].str.contains('ml'),'w_per_piece'] = \\\n",
    "                                            prod[prod['NombreProducto'].str.contains('ml')] \\\n",
    "                                            .NombreProducto.str.extract('(\\d+)(ml)', expand=True)[0].astype('float') \n",
    "\n",
    "prod.loc[prod['NombreProducto'].str.contains('ml'),'weight'] = \\\n",
    "                                            prod.loc[prod['NombreProducto'].str.contains('ml'),'w_per_piece'] \\\n",
    "                                            *prod.loc[prod['NombreProducto'].str.contains('ml'),'pieces']"
   ]
  },
  {
   "cell_type": "code",
   "execution_count": 17,
   "metadata": {
    "collapsed": false,
    "scrolled": false
   },
   "outputs": [
    {
     "data": {
      "text/html": [
       "<div>\n",
       "<table border=\"1\" class=\"dataframe\">\n",
       "  <thead>\n",
       "    <tr style=\"text-align: right;\">\n",
       "      <th></th>\n",
       "      <th>Producto_ID</th>\n",
       "      <th>p_clt</th>\n",
       "      <th>prom</th>\n",
       "      <th>brand</th>\n",
       "      <th>weight</th>\n",
       "      <th>pieces</th>\n",
       "      <th>w_per_piece</th>\n",
       "      <th>healthy</th>\n",
       "      <th>drink</th>\n",
       "    </tr>\n",
       "  </thead>\n",
       "  <tbody>\n",
       "    <tr>\n",
       "      <th>1</th>\n",
       "      <td>9</td>\n",
       "      <td>23.0</td>\n",
       "      <td>0</td>\n",
       "      <td>NES</td>\n",
       "      <td>750.0</td>\n",
       "      <td>1.0</td>\n",
       "      <td>750.00</td>\n",
       "      <td>0</td>\n",
       "      <td>0</td>\n",
       "    </tr>\n",
       "    <tr>\n",
       "      <th>2</th>\n",
       "      <td>41</td>\n",
       "      <td>9.0</td>\n",
       "      <td>0</td>\n",
       "      <td>BIM</td>\n",
       "      <td>480.0</td>\n",
       "      <td>6.0</td>\n",
       "      <td>80.00</td>\n",
       "      <td>0</td>\n",
       "      <td>0</td>\n",
       "    </tr>\n",
       "    <tr>\n",
       "      <th>3</th>\n",
       "      <td>53</td>\n",
       "      <td>29.0</td>\n",
       "      <td>0</td>\n",
       "      <td>LON</td>\n",
       "      <td>170.0</td>\n",
       "      <td>1.0</td>\n",
       "      <td>170.00</td>\n",
       "      <td>0</td>\n",
       "      <td>0</td>\n",
       "    </tr>\n",
       "    <tr>\n",
       "      <th>4</th>\n",
       "      <td>72</td>\n",
       "      <td>23.0</td>\n",
       "      <td>0</td>\n",
       "      <td>TR</td>\n",
       "      <td>45.0</td>\n",
       "      <td>4.0</td>\n",
       "      <td>11.25</td>\n",
       "      <td>0</td>\n",
       "      <td>0</td>\n",
       "    </tr>\n",
       "    <tr>\n",
       "      <th>5</th>\n",
       "      <td>73</td>\n",
       "      <td>1.0</td>\n",
       "      <td>0</td>\n",
       "      <td>BIM</td>\n",
       "      <td>540.0</td>\n",
       "      <td>1.0</td>\n",
       "      <td>540.00</td>\n",
       "      <td>1</td>\n",
       "      <td>0</td>\n",
       "    </tr>\n",
       "  </tbody>\n",
       "</table>\n",
       "</div>"
      ],
      "text/plain": [
       "   Producto_ID  p_clt  prom brand  weight  pieces  w_per_piece  healthy  drink\n",
       "1            9   23.0     0   NES   750.0     1.0       750.00        0      0\n",
       "2           41    9.0     0   BIM   480.0     6.0        80.00        0      0\n",
       "3           53   29.0     0   LON   170.0     1.0       170.00        0      0\n",
       "4           72   23.0     0    TR    45.0     4.0        11.25        0      0\n",
       "5           73    1.0     0   BIM   540.0     1.0       540.00        1      0"
      ]
     },
     "execution_count": 17,
     "metadata": {},
     "output_type": "execute_result"
    }
   ],
   "source": [
    "# prod[prod['NombreProducto'].str.contains('ml')].head()\n",
    "prod.drop(['NombreProducto','p_name'],axis=1, inplace=True)"
   ]
  },
  {
   "cell_type": "code",
   "execution_count": 20,
   "metadata": {
    "collapsed": true
   },
   "outputs": [],
   "source": [
    "prod['p_clt'] = prod['p_clt'].astype('int')\n",
    "prod['pieces'] = prod['pieces'].astype('int')"
   ]
  },
  {
   "cell_type": "code",
   "execution_count": 23,
   "metadata": {
    "collapsed": false
   },
   "outputs": [
    {
     "name": "stdout",
     "output_type": "stream",
     "text": [
      "[nan 'AM' 'AV' 'BAR' 'BIM' 'BRE' 'BRL' 'CAR' 'CC' 'CHK' 'COR' 'DH' 'DIF'\n",
      " 'EMB' 'GBI' 'GV' 'JMX' 'KOD' 'LAR' 'LC' 'LON' 'MCM' 'MLA' 'MP' 'MR' 'MSK'\n",
      " 'MTB' 'NAI' 'NEC' 'NES' 'ORO' 'PUL' 'RIC' 'SAN' 'SKD' 'SL' 'SUA' 'SUN'\n",
      " 'THO' 'TR' 'TRI' 'VER' 'VR' 'WON']\n"
     ]
    },
    {
     "name": "stderr",
     "output_type": "stream",
     "text": [
      "/usr/local/lib/python2.7/dist-packages/numpy/lib/arraysetops.py:259: FutureWarning: numpy equal will not check object identity in the future. The comparison did not return the same result as suggested by the identity (`is`)) and will change.\n",
      "  return aux[:-1][aux[1:] == aux[:-1]]\n"
     ]
    }
   ],
   "source": [
    "from sklearn import preprocessing\n",
    "le = preprocessing.LabelEncoder()\n",
    "le.fit(prod['brand'])\n",
    "\n",
    "print le.classes_\n",
    "\n",
    "prod['brand'] = le.transform(prod['brand']) "
   ]
  },
  {
   "cell_type": "code",
   "execution_count": 28,
   "metadata": {
    "collapsed": true
   },
   "outputs": [],
   "source": [
    "price = pd.read_csv(path+'price.csv')\n",
    "prod = pd.merge(prod, price, how='left', on=['Producto_ID'])"
   ]
  },
  {
   "cell_type": "code",
   "execution_count": 30,
   "metadata": {
    "collapsed": false,
    "scrolled": true
   },
   "outputs": [],
   "source": [
    "price_na = {}\n",
    "for row in prod.iterrows():\n",
    "    if np.isnan(row[1]['price']):\n",
    "        cluster = prod[prod['p_clt']==row[1]['p_clt']]\n",
    "        subcluster = cluster[cluster['brand']==row[1]['brand']]\n",
    "        subsubcluster = cluster[cluster['weight']==row[1]['weight']]\n",
    "        subsubmed =  subsubcluster['price'].median()\n",
    "        submed =  subcluster['price'].median()\n",
    "        med =  cluster['price'].median()\n",
    "        if np.isnan(subsubmed):\n",
    "            if np.isnan(submed):\n",
    "                if np.isnan(med):\n",
    "                    prod.set_value(row[0], 'price', 0)\n",
    "                else:\n",
    "                    prod.set_value(row[0], 'price', med)\n",
    "            else:\n",
    "                prod.set_value(row[0], 'price', submed)\n",
    "        else:\n",
    "            prod.set_value(row[0], 'price', subsubmed)"
   ]
  },
  {
   "cell_type": "code",
   "execution_count": 31,
   "metadata": {
    "collapsed": false
   },
   "outputs": [
    {
     "data": {
      "text/html": [
       "<div>\n",
       "<table border=\"1\" class=\"dataframe\">\n",
       "  <thead>\n",
       "    <tr style=\"text-align: right;\">\n",
       "      <th></th>\n",
       "      <th>Producto_ID</th>\n",
       "      <th>p_clt</th>\n",
       "      <th>prom</th>\n",
       "      <th>brand</th>\n",
       "      <th>weight</th>\n",
       "      <th>pieces</th>\n",
       "      <th>w_per_piece</th>\n",
       "      <th>healthy</th>\n",
       "      <th>drink</th>\n",
       "      <th>price</th>\n",
       "    </tr>\n",
       "  </thead>\n",
       "  <tbody>\n",
       "    <tr>\n",
       "      <th>0</th>\n",
       "      <td>9</td>\n",
       "      <td>23</td>\n",
       "      <td>0</td>\n",
       "      <td>29</td>\n",
       "      <td>750.0</td>\n",
       "      <td>1</td>\n",
       "      <td>750.00</td>\n",
       "      <td>0</td>\n",
       "      <td>0</td>\n",
       "      <td>8.8000</td>\n",
       "    </tr>\n",
       "    <tr>\n",
       "      <th>1</th>\n",
       "      <td>41</td>\n",
       "      <td>9</td>\n",
       "      <td>0</td>\n",
       "      <td>4</td>\n",
       "      <td>480.0</td>\n",
       "      <td>6</td>\n",
       "      <td>80.00</td>\n",
       "      <td>0</td>\n",
       "      <td>0</td>\n",
       "      <td>17.1317</td>\n",
       "    </tr>\n",
       "    <tr>\n",
       "      <th>2</th>\n",
       "      <td>53</td>\n",
       "      <td>29</td>\n",
       "      <td>0</td>\n",
       "      <td>20</td>\n",
       "      <td>170.0</td>\n",
       "      <td>1</td>\n",
       "      <td>170.00</td>\n",
       "      <td>0</td>\n",
       "      <td>0</td>\n",
       "      <td>5.7600</td>\n",
       "    </tr>\n",
       "    <tr>\n",
       "      <th>3</th>\n",
       "      <td>72</td>\n",
       "      <td>23</td>\n",
       "      <td>0</td>\n",
       "      <td>39</td>\n",
       "      <td>45.0</td>\n",
       "      <td>4</td>\n",
       "      <td>11.25</td>\n",
       "      <td>0</td>\n",
       "      <td>0</td>\n",
       "      <td>8.0000</td>\n",
       "    </tr>\n",
       "    <tr>\n",
       "      <th>4</th>\n",
       "      <td>73</td>\n",
       "      <td>1</td>\n",
       "      <td>0</td>\n",
       "      <td>4</td>\n",
       "      <td>540.0</td>\n",
       "      <td>1</td>\n",
       "      <td>540.00</td>\n",
       "      <td>1</td>\n",
       "      <td>0</td>\n",
       "      <td>35.6700</td>\n",
       "    </tr>\n",
       "  </tbody>\n",
       "</table>\n",
       "</div>"
      ],
      "text/plain": [
       "   Producto_ID  p_clt  prom  brand  weight  pieces  w_per_piece  healthy  \\\n",
       "0            9     23     0     29   750.0       1       750.00        0   \n",
       "1           41      9     0      4   480.0       6        80.00        0   \n",
       "2           53     29     0     20   170.0       1       170.00        0   \n",
       "3           72     23     0     39    45.0       4        11.25        0   \n",
       "4           73      1     0      4   540.0       1       540.00        1   \n",
       "\n",
       "   drink    price  \n",
       "0      0   8.8000  \n",
       "1      0  17.1317  \n",
       "2      0   5.7600  \n",
       "3      0   8.0000  \n",
       "4      0  35.6700  "
      ]
     },
     "execution_count": 31,
     "metadata": {},
     "output_type": "execute_result"
    }
   ],
   "source": [
    "prod.head()"
   ]
  },
  {
   "cell_type": "code",
   "execution_count": null,
   "metadata": {
    "collapsed": true
   },
   "outputs": [],
   "source": []
  },
  {
   "cell_type": "code",
   "execution_count": 32,
   "metadata": {
    "collapsed": false
   },
   "outputs": [],
   "source": [
    "prod.fillna(0, inplace=True)\n",
    "prod.to_csv(path+'products.csv',index=False)"
   ]
  },
  {
   "cell_type": "code",
   "execution_count": null,
   "metadata": {
    "collapsed": true
   },
   "outputs": [],
   "source": []
  },
  {
   "cell_type": "code",
   "execution_count": null,
   "metadata": {
    "collapsed": true
   },
   "outputs": [],
   "source": []
  },
  {
   "cell_type": "code",
   "execution_count": null,
   "metadata": {
    "collapsed": true
   },
   "outputs": [],
   "source": []
  },
  {
   "cell_type": "code",
   "execution_count": null,
   "metadata": {
    "collapsed": true
   },
   "outputs": [],
   "source": []
  },
  {
   "cell_type": "code",
   "execution_count": 13,
   "metadata": {
    "collapsed": false,
    "scrolled": false
   },
   "outputs": [
    {
     "data": {
      "text/html": [
       "<div>\n",
       "<table border=\"1\" class=\"dataframe\">\n",
       "  <thead>\n",
       "    <tr style=\"text-align: right;\">\n",
       "      <th></th>\n",
       "      <th>Producto_ID</th>\n",
       "      <th>NombreProducto</th>\n",
       "      <th>p_name</th>\n",
       "      <th>p_clt</th>\n",
       "      <th>prom</th>\n",
       "      <th>brand</th>\n",
       "      <th>weight</th>\n",
       "      <th>pieces</th>\n",
       "      <th>w_per_piece</th>\n",
       "      <th>healthy</th>\n",
       "      <th>drink</th>\n",
       "    </tr>\n",
       "  </thead>\n",
       "  <tbody>\n",
       "    <tr>\n",
       "      <th>436</th>\n",
       "      <td>30403</td>\n",
       "      <td>Pan Integral 370g Prom BIM 30403</td>\n",
       "      <td>Pan Integral 370g</td>\n",
       "      <td>1.0</td>\n",
       "      <td>1</td>\n",
       "      <td>BIM</td>\n",
       "      <td>370.0</td>\n",
       "      <td>1.0</td>\n",
       "      <td>370.0</td>\n",
       "      <td>1</td>\n",
       "      <td>0</td>\n",
       "    </tr>\n",
       "    <tr>\n",
       "      <th>519</th>\n",
       "      <td>30904</td>\n",
       "      <td>Sandwich Integral 112g Prom MTA LON 30904</td>\n",
       "      <td>Sandwich Integral 112g</td>\n",
       "      <td>1.0</td>\n",
       "      <td>1</td>\n",
       "      <td>LON</td>\n",
       "      <td>112.0</td>\n",
       "      <td>1.0</td>\n",
       "      <td>112.0</td>\n",
       "      <td>1</td>\n",
       "      <td>0</td>\n",
       "    </tr>\n",
       "    <tr>\n",
       "      <th>605</th>\n",
       "      <td>31320</td>\n",
       "      <td>Barra Multigrano Nuez 12p Prom CU BIM 31320</td>\n",
       "      <td>Barra Multigrano Nuez 12p</td>\n",
       "      <td>27.0</td>\n",
       "      <td>1</td>\n",
       "      <td>BIM</td>\n",
       "      <td>0.0</td>\n",
       "      <td>12.0</td>\n",
       "      <td>0.0</td>\n",
       "      <td>1</td>\n",
       "      <td>0</td>\n",
       "    </tr>\n",
       "    <tr>\n",
       "      <th>761</th>\n",
       "      <td>32221</td>\n",
       "      <td>Sandwich Integral 112g Prom LON 32221</td>\n",
       "      <td>Sandwich Integral 112g</td>\n",
       "      <td>1.0</td>\n",
       "      <td>1</td>\n",
       "      <td>LON</td>\n",
       "      <td>112.0</td>\n",
       "      <td>1.0</td>\n",
       "      <td>112.0</td>\n",
       "      <td>1</td>\n",
       "      <td>0</td>\n",
       "    </tr>\n",
       "    <tr>\n",
       "      <th>937</th>\n",
       "      <td>32999</td>\n",
       "      <td>Sandwich Integral Cong 112g Prom CU LON 32999</td>\n",
       "      <td>Sandwich Integral Cong 112g</td>\n",
       "      <td>1.0</td>\n",
       "      <td>1</td>\n",
       "      <td>LON</td>\n",
       "      <td>112.0</td>\n",
       "      <td>1.0</td>\n",
       "      <td>112.0</td>\n",
       "      <td>1</td>\n",
       "      <td>0</td>\n",
       "    </tr>\n",
       "  </tbody>\n",
       "</table>\n",
       "</div>"
      ],
      "text/plain": [
       "     Producto_ID                                 NombreProducto  \\\n",
       "436        30403               Pan Integral 370g Prom BIM 30403   \n",
       "519        30904      Sandwich Integral 112g Prom MTA LON 30904   \n",
       "605        31320    Barra Multigrano Nuez 12p Prom CU BIM 31320   \n",
       "761        32221          Sandwich Integral 112g Prom LON 32221   \n",
       "937        32999  Sandwich Integral Cong 112g Prom CU LON 32999   \n",
       "\n",
       "                          p_name  p_clt  prom brand  weight  pieces  \\\n",
       "436            Pan Integral 370g    1.0     1   BIM   370.0     1.0   \n",
       "519       Sandwich Integral 112g    1.0     1   LON   112.0     1.0   \n",
       "605    Barra Multigrano Nuez 12p   27.0     1   BIM     0.0    12.0   \n",
       "761       Sandwich Integral 112g    1.0     1   LON   112.0     1.0   \n",
       "937  Sandwich Integral Cong 112g    1.0     1   LON   112.0     1.0   \n",
       "\n",
       "     w_per_piece  healthy  drink  \n",
       "436        370.0        1      0  \n",
       "519        112.0        1      0  \n",
       "605          0.0        1      0  \n",
       "761        112.0        1      0  \n",
       "937        112.0        1      0  "
      ]
     },
     "execution_count": 13,
     "metadata": {},
     "output_type": "execute_result"
    }
   ],
   "source": [
    "prod[(prod['prom']==1)&(prod['healthy']==1)]"
   ]
  },
  {
   "cell_type": "code",
   "execution_count": 12,
   "metadata": {
    "collapsed": false,
    "scrolled": false
   },
   "outputs": [
    {
     "data": {
      "text/html": [
       "<div>\n",
       "<table border=\"1\" class=\"dataframe\">\n",
       "  <thead>\n",
       "    <tr style=\"text-align: right;\">\n",
       "      <th></th>\n",
       "      <th>Producto_ID</th>\n",
       "      <th>NombreProducto</th>\n",
       "      <th>p_name</th>\n",
       "      <th>p_clt</th>\n",
       "      <th>prom</th>\n",
       "      <th>brand</th>\n",
       "      <th>weight</th>\n",
       "      <th>pieces</th>\n",
       "      <th>w_per_piece</th>\n",
       "      <th>drink</th>\n",
       "    </tr>\n",
       "  </thead>\n",
       "  <tbody>\n",
       "    <tr>\n",
       "      <th>392</th>\n",
       "      <td>30190</td>\n",
       "      <td>Fanta Lata 24p 355ml CC 30190</td>\n",
       "      <td>Fanta Lata 24p 355ml</td>\n",
       "      <td>22.0</td>\n",
       "      <td>0</td>\n",
       "      <td>CC</td>\n",
       "      <td>8520.0</td>\n",
       "      <td>24.0</td>\n",
       "      <td>355.0</td>\n",
       "      <td>1</td>\n",
       "    </tr>\n",
       "    <tr>\n",
       "      <th>2566</th>\n",
       "      <td>49765</td>\n",
       "      <td>Fanta Lata 355ml CC 49765</td>\n",
       "      <td>Fanta Lata 355ml</td>\n",
       "      <td>22.0</td>\n",
       "      <td>0</td>\n",
       "      <td>CC</td>\n",
       "      <td>355.0</td>\n",
       "      <td>1.0</td>\n",
       "      <td>355.0</td>\n",
       "      <td>1</td>\n",
       "    </tr>\n",
       "  </tbody>\n",
       "</table>\n",
       "</div>"
      ],
      "text/plain": [
       "      Producto_ID                 NombreProducto                p_name  p_clt  \\\n",
       "392         30190  Fanta Lata 24p 355ml CC 30190  Fanta Lata 24p 355ml   22.0   \n",
       "2566        49765      Fanta Lata 355ml CC 49765      Fanta Lata 355ml   22.0   \n",
       "\n",
       "      prom brand  weight  pieces  w_per_piece  drink  \n",
       "392      0    CC  8520.0    24.0        355.0      1  \n",
       "2566     0    CC   355.0     1.0        355.0      1  "
      ]
     },
     "execution_count": 12,
     "metadata": {},
     "output_type": "execute_result"
    }
   ],
   "source": [
    "cc = prod[prod['NombreProducto'].str.contains('Fanta')]\n",
    "cc"
   ]
  },
  {
   "cell_type": "markdown",
   "metadata": {},
   "source": [
    "对比一下 prom\n",
    "936\t32997\tAgua Ciel Toronja 600ml CC 32997\t0\tCC\t0.0\t1.0\t0.000000\tAgua Ciel Toronja 600ml\t17m\n",
    "949\t33074\tAgua Ciel Toronja 600ml Prom CC 33074\t1\tCC\t0.0\t1.0\t0.000000\tAgua Ciel Toronja 600ml\t17"
   ]
  },
  {
   "cell_type": "code",
   "execution_count": null,
   "metadata": {
    "collapsed": true
   },
   "outputs": [],
   "source": []
  },
  {
   "cell_type": "code",
   "execution_count": null,
   "metadata": {
    "collapsed": true
   },
   "outputs": [],
   "source": []
  },
  {
   "cell_type": "code",
   "execution_count": null,
   "metadata": {
    "collapsed": true
   },
   "outputs": [],
   "source": []
  },
  {
   "cell_type": "markdown",
   "metadata": {},
   "source": [
    "---\n",
    "## 暂时用R的skmeans"
   ]
  },
  {
   "cell_type": "code",
   "execution_count": 5,
   "metadata": {
    "collapsed": false
   },
   "outputs": [
    {
     "data": {
      "text/plain": [
       "(2592, 808)"
      ]
     },
     "execution_count": 5,
     "metadata": {},
     "output_type": "execute_result"
    }
   ],
   "source": [
    "from sklearn.feature_extraction.text import CountVectorizer\n",
    "vectorizer = CountVectorizer(analyzer = \"word\",   \\\n",
    "                             tokenizer = None,    \\\n",
    "                             preprocessor = None, \\\n",
    "                             stop_words = None,   \\\n",
    "                             max_features = 1000) \n",
    "\n",
    "product_bag_words = vectorizer.fit_transform(products.short_name).toarray()\n",
    "product_bag_words.shape"
   ]
  },
  {
   "cell_type": "code",
   "execution_count": 6,
   "metadata": {
    "collapsed": false
   },
   "outputs": [],
   "source": [
    "from sklearn.cluster import KMeans, SpectralClustering, AgglomerativeClustering\n",
    "\n",
    "cltr = KMeans(n_clusters=100)\n",
    "inds = cltr.fit_predict(product_bag_words)"
   ]
  },
  {
   "cell_type": "code",
   "execution_count": 7,
   "metadata": {
    "collapsed": false
   },
   "outputs": [
    {
     "data": {
      "text/plain": [
       "array(['Suavicremas Fresa ', 'Suavicremas Fresa KC ', 'Suavicremas Fresa ',\n",
       "       'Suavicremas Fresa ', 'Suavicremas Fresa ', 'Suavicremas Fresa ',\n",
       "       'Suavicremas Fresa ', 'Suavicremas Fresa ', 'Suavicremas Fresa ',\n",
       "       'Suavicremas Fresa ', 'Suavicremas Fresa ', 'Suavicremas Fresa ',\n",
       "       'Suavicremas Fresa ', 'Suavicremas Fresa Nuevo KC ',\n",
       "       'Suavicremas Fresa ', 'Suavicremas Fresa MG ',\n",
       "       'Suavicremas Fresa MG ', 'Suavicremas Fresa ', 'Suavicremas Fresa ',\n",
       "       'Suavicremas Fresa '], dtype=object)"
      ]
     },
     "execution_count": 7,
     "metadata": {},
     "output_type": "execute_result"
    }
   ],
   "source": [
    "products['short_name'].values[np.where(inds==0)]"
   ]
  },
  {
   "cell_type": "code",
   "execution_count": 8,
   "metadata": {
    "collapsed": false
   },
   "outputs": [],
   "source": [
    "products['cluster_nombre'] = inds\n",
    "products['drink'] = 0"
   ]
  },
  {
   "cell_type": "code",
   "execution_count": 9,
   "metadata": {
    "collapsed": true
   },
   "outputs": [
    {
     "ename": "KeyError",
     "evalue": "'price'",
     "output_type": "error",
     "traceback": [
      "\u001b[0;31m---------------------------------------------------------------------------\u001b[0m",
      "\u001b[0;31mKeyError\u001b[0m                                  Traceback (most recent call last)",
      "\u001b[0;32m<ipython-input-9-259d4a822de5>\u001b[0m in \u001b[0;36m<module>\u001b[0;34m()\u001b[0m\n\u001b[1;32m      3\u001b[0m     \u001b[0;32mif\u001b[0m \u001b[0mnp\u001b[0m\u001b[0;34m.\u001b[0m\u001b[0misnan\u001b[0m\u001b[0;34m(\u001b[0m\u001b[0mrow\u001b[0m\u001b[0;34m[\u001b[0m\u001b[0;36m1\u001b[0m\u001b[0;34m]\u001b[0m\u001b[0;34m[\u001b[0m\u001b[0;34m'weight'\u001b[0m\u001b[0;34m]\u001b[0m\u001b[0;34m)\u001b[0m\u001b[0;34m:\u001b[0m\u001b[0;34m\u001b[0m\u001b[0m\n\u001b[1;32m      4\u001b[0m         \u001b[0mproducts\u001b[0m\u001b[0;34m.\u001b[0m\u001b[0mset_value\u001b[0m\u001b[0;34m(\u001b[0m\u001b[0mrow\u001b[0m\u001b[0;34m[\u001b[0m\u001b[0;36m0\u001b[0m\u001b[0;34m]\u001b[0m\u001b[0;34m,\u001b[0m \u001b[0;34m'drink'\u001b[0m\u001b[0;34m,\u001b[0m \u001b[0;36m1\u001b[0m\u001b[0;34m)\u001b[0m\u001b[0;34m\u001b[0m\u001b[0m\n\u001b[0;32m----> 5\u001b[0;31m     \u001b[0;32mif\u001b[0m \u001b[0mnp\u001b[0m\u001b[0;34m.\u001b[0m\u001b[0misnan\u001b[0m\u001b[0;34m(\u001b[0m\u001b[0mrow\u001b[0m\u001b[0;34m[\u001b[0m\u001b[0;36m1\u001b[0m\u001b[0;34m]\u001b[0m\u001b[0;34m[\u001b[0m\u001b[0;34m'price'\u001b[0m\u001b[0;34m]\u001b[0m\u001b[0;34m)\u001b[0m\u001b[0;34m:\u001b[0m\u001b[0;34m\u001b[0m\u001b[0m\n\u001b[0m\u001b[1;32m      6\u001b[0m         \u001b[0mcluster\u001b[0m \u001b[0;34m=\u001b[0m \u001b[0mproducts\u001b[0m\u001b[0;34m[\u001b[0m\u001b[0mproducts\u001b[0m\u001b[0;34m[\u001b[0m\u001b[0;34m'cluster_nombre'\u001b[0m\u001b[0;34m]\u001b[0m\u001b[0;34m==\u001b[0m\u001b[0mrow\u001b[0m\u001b[0;34m[\u001b[0m\u001b[0;36m1\u001b[0m\u001b[0;34m]\u001b[0m\u001b[0;34m[\u001b[0m\u001b[0;34m'cluster_nombre'\u001b[0m\u001b[0;34m]\u001b[0m\u001b[0;34m]\u001b[0m\u001b[0;34m\u001b[0m\u001b[0m\n\u001b[1;32m      7\u001b[0m         \u001b[0msubcluster\u001b[0m \u001b[0;34m=\u001b[0m \u001b[0mcluster\u001b[0m\u001b[0;34m[\u001b[0m\u001b[0mcluster\u001b[0m\u001b[0;34m[\u001b[0m\u001b[0;34m'brand'\u001b[0m\u001b[0;34m]\u001b[0m\u001b[0;34m==\u001b[0m\u001b[0mrow\u001b[0m\u001b[0;34m[\u001b[0m\u001b[0;36m1\u001b[0m\u001b[0;34m]\u001b[0m\u001b[0;34m[\u001b[0m\u001b[0;34m'brand'\u001b[0m\u001b[0;34m]\u001b[0m\u001b[0;34m]\u001b[0m\u001b[0;34m\u001b[0m\u001b[0m\n",
      "\u001b[0;32m/usr/local/lib/python2.7/site-packages/pandas/core/series.pyc\u001b[0m in \u001b[0;36m__getitem__\u001b[0;34m(self, key)\u001b[0m\n\u001b[1;32m    558\u001b[0m     \u001b[0;32mdef\u001b[0m \u001b[0m__getitem__\u001b[0m\u001b[0;34m(\u001b[0m\u001b[0mself\u001b[0m\u001b[0;34m,\u001b[0m \u001b[0mkey\u001b[0m\u001b[0;34m)\u001b[0m\u001b[0;34m:\u001b[0m\u001b[0;34m\u001b[0m\u001b[0m\n\u001b[1;32m    559\u001b[0m         \u001b[0;32mtry\u001b[0m\u001b[0;34m:\u001b[0m\u001b[0;34m\u001b[0m\u001b[0m\n\u001b[0;32m--> 560\u001b[0;31m             \u001b[0mresult\u001b[0m \u001b[0;34m=\u001b[0m \u001b[0mself\u001b[0m\u001b[0;34m.\u001b[0m\u001b[0mindex\u001b[0m\u001b[0;34m.\u001b[0m\u001b[0mget_value\u001b[0m\u001b[0;34m(\u001b[0m\u001b[0mself\u001b[0m\u001b[0;34m,\u001b[0m \u001b[0mkey\u001b[0m\u001b[0;34m)\u001b[0m\u001b[0;34m\u001b[0m\u001b[0m\n\u001b[0m\u001b[1;32m    561\u001b[0m \u001b[0;34m\u001b[0m\u001b[0m\n\u001b[1;32m    562\u001b[0m             \u001b[0;32mif\u001b[0m \u001b[0;32mnot\u001b[0m \u001b[0mlib\u001b[0m\u001b[0;34m.\u001b[0m\u001b[0misscalar\u001b[0m\u001b[0;34m(\u001b[0m\u001b[0mresult\u001b[0m\u001b[0;34m)\u001b[0m\u001b[0;34m:\u001b[0m\u001b[0;34m\u001b[0m\u001b[0m\n",
      "\u001b[0;32m/usr/local/lib/python2.7/site-packages/pandas/indexes/base.pyc\u001b[0m in \u001b[0;36mget_value\u001b[0;34m(self, series, key)\u001b[0m\n\u001b[1;32m   1923\u001b[0m                     \u001b[0;32mraise\u001b[0m \u001b[0mInvalidIndexError\u001b[0m\u001b[0;34m(\u001b[0m\u001b[0mkey\u001b[0m\u001b[0;34m)\u001b[0m\u001b[0;34m\u001b[0m\u001b[0m\n\u001b[1;32m   1924\u001b[0m                 \u001b[0;32melse\u001b[0m\u001b[0;34m:\u001b[0m\u001b[0;34m\u001b[0m\u001b[0m\n\u001b[0;32m-> 1925\u001b[0;31m                     \u001b[0;32mraise\u001b[0m \u001b[0me1\u001b[0m\u001b[0;34m\u001b[0m\u001b[0m\n\u001b[0m\u001b[1;32m   1926\u001b[0m             \u001b[0;32mexcept\u001b[0m \u001b[0mException\u001b[0m\u001b[0;34m:\u001b[0m  \u001b[0;31m# pragma: no cover\u001b[0m\u001b[0;34m\u001b[0m\u001b[0m\n\u001b[1;32m   1927\u001b[0m                 \u001b[0;32mraise\u001b[0m \u001b[0me1\u001b[0m\u001b[0;34m\u001b[0m\u001b[0m\n",
      "\u001b[0;31mKeyError\u001b[0m: 'price'"
     ]
    }
   ],
   "source": [
    "price_na = {}\n",
    "for row in products.iterrows():\n",
    "    if np.isnan(row[1]['weight']):\n",
    "        products.set_value(row[0], 'drink', 1)\n",
    "    if np.isnan(row[1]['price']):\n",
    "        cluster = products[products['cluster_nombre']==row[1]['cluster_nombre']]\n",
    "        subcluster = cluster[cluster['brand']==row[1]['brand']]\n",
    "        subsubcluster = cluster[cluster['weight']==row[1]['weight']]\n",
    "        subsubmed =  subsubcluster['price'].median()\n",
    "        submed =  subcluster['price'].median()\n",
    "        med =  cluster['price'].median()\n",
    "        if np.isnan(subsubmed):\n",
    "            if np.isnan(submed):\n",
    "                if np.isnan(med):\n",
    "                    products.set_value(row[0], 'price', 0)\n",
    "                else:\n",
    "                    products.set_value(row[0], 'price', med)\n",
    "            else:\n",
    "                products.set_value(row[0], 'price', submed)\n",
    "        else:\n",
    "            products.set_value(row[0], 'price', subsubmed)"
   ]
  }
 ],
 "metadata": {
  "anaconda-cloud": {},
  "kernelspec": {
   "display_name": "Python 2",
   "language": "python",
   "name": "python2"
  },
  "language_info": {
   "codemirror_mode": {
    "name": "ipython",
    "version": 2
   },
   "file_extension": ".py",
   "mimetype": "text/x-python",
   "name": "python",
   "nbconvert_exporter": "python",
   "pygments_lexer": "ipython2",
   "version": "2.7.6"
  }
 },
 "nbformat": 4,
 "nbformat_minor": 0
}
