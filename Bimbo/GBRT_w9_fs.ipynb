{
 "cells": [
  {
   "cell_type": "code",
   "execution_count": 1,
   "metadata": {
    "collapsed": true
   },
   "outputs": [],
   "source": [
    "import pandas as pd\n",
    "import numpy as np\n",
    "import os\n",
    "import math\n",
    "import graphlab\n",
    "import graphlab as gl\n",
    "import graphlab.aggregate as agg"
   ]
  },
  {
   "cell_type": "code",
   "execution_count": 2,
   "metadata": {
    "collapsed": true
   },
   "outputs": [],
   "source": [
    "'''钢炮'''\n",
    "path = '/home/zongyi/bimbo_data/'"
   ]
  },
  {
   "cell_type": "code",
   "execution_count": 3,
   "metadata": {
    "collapsed": false
   },
   "outputs": [
    {
     "name": "stderr",
     "output_type": "stream",
     "text": [
      "/usr/local/lib/python2.7/dist-packages/requests/packages/urllib3/util/ssl_.py:315: SNIMissingWarning: An HTTPS request has been made, but the SNI (Subject Name Indication) extension to TLS is not available on this platform. This may cause the server to present an incorrect TLS certificate, which can cause validation failures. For more information, see https://urllib3.readthedocs.org/en/latest/security.html#snimissingwarning.\n",
      "  SNIMissingWarning\n",
      "/usr/local/lib/python2.7/dist-packages/requests/packages/urllib3/util/ssl_.py:120: InsecurePlatformWarning: A true SSLContext object is not available. This prevents urllib3 from configuring SSL appropriately and may cause certain SSL connections to fail. For more information, see https://urllib3.readthedocs.org/en/latest/security.html#insecureplatformwarning.\n",
      "  InsecurePlatformWarning\n"
     ]
    },
    {
     "name": "stdout",
     "output_type": "stream",
     "text": [
      "This non-commercial license of GraphLab Create for academic use is assigned to zong-yi.liu@irit.fr and will expire on July 13, 2017.\n"
     ]
    },
    {
     "name": "stderr",
     "output_type": "stream",
     "text": [
      "[INFO] graphlab.cython.cy_server: GraphLab Create v2.0.1 started. Logging: /tmp/graphlab_server_1472248141.log\n"
     ]
    }
   ],
   "source": [
    "train = gl.SFrame.read_csv(path + 'train_fs_w9.csv', verbose=False)"
   ]
  },
  {
   "cell_type": "code",
   "execution_count": 4,
   "metadata": {
    "collapsed": false
   },
   "outputs": [],
   "source": [
    "town = gl.SFrame.read_csv(path + 'towns.csv', verbose=False)\n",
    "town = town['Agencia_ID','Producto_ID','tcc']\n",
    "train = train.join(town, on=['Agencia_ID','Producto_ID'], how='left')\n",
    "# train = train.fillna('t_c',1)\n",
    "train = train.fillna('tcc',0)\n",
    "# train = train.fillna('tp_sum',0)\n",
    "del town"
   ]
  },
  {
   "cell_type": "code",
   "execution_count": 7,
   "metadata": {
    "collapsed": true
   },
   "outputs": [],
   "source": [
    "# relag_train = gl.SFrame.read_csv(path + 're_lag_train.csv', verbose=False)\n",
    "# train = train.join(relag_train, on=['Cliente_ID','Producto_ID','Semana'], how='left')\n",
    "# train = train.fillna('re_lag1',0)\n",
    "# train = train.fillna('re_lag2',0)\n",
    "# train = train.fillna('re_lag3',0)\n",
    "# train = train.fillna('re_lag4',0)\n",
    "# train = train.fillna('re_lag5',0)\n",
    "# del relag_train"
   ]
  },
  {
   "cell_type": "code",
   "execution_count": 8,
   "metadata": {
    "collapsed": true
   },
   "outputs": [],
   "source": [
    "# pd = gl.SFrame.read_csv(path + 'products.csv', verbose=False)\n",
    "# train = train.join(pd, on=['Producto_ID'], how='left')\n",
    "# train = train.fillna('prom',0)\n",
    "# train = train.fillna('weight',0)\n",
    "# train = train.fillna('pieces',1)\n",
    "# train = train.fillna('w_per_piece',0)\n",
    "# train = train.fillna('healthy',0)\n",
    "# train = train.fillna('drink',0)\n",
    "# del train['brand']\n",
    "# del train['NombreProducto']\n",
    "# del pd"
   ]
  },
  {
   "cell_type": "code",
   "execution_count": 9,
   "metadata": {
    "collapsed": true
   },
   "outputs": [],
   "source": [
    "# client = gl.SFrame.read_csv(path + 'clients.csv', verbose=False)\n",
    "# train = train.join(client, on=['Cliente_ID'], how='left')\n",
    "# del client"
   ]
  },
  {
   "cell_type": "code",
   "execution_count": 5,
   "metadata": {
    "collapsed": false
   },
   "outputs": [],
   "source": [
    "del train['prior_sum']\n",
    "del train['lag_sum']\n",
    "# del train['week_times']\n",
    "# del train['Semana']"
   ]
  },
  {
   "cell_type": "code",
   "execution_count": 6,
   "metadata": {
    "collapsed": true
   },
   "outputs": [],
   "source": [
    "del train['n_t']"
   ]
  },
  {
   "cell_type": "code",
   "execution_count": 7,
   "metadata": {
    "collapsed": false
   },
   "outputs": [
    {
     "name": "stdout",
     "output_type": "stream",
     "text": [
      "['Agencia_ID', 'Ruta_SAK', 'Cliente_ID', 'Producto_ID', 'Demada_log', 'lag1', 'lag2', 'lag3', 'lag4', 'lag5', 'week_times', 'n_a', 'n_r', 'n_c', 'n_p', 'Town', 't_c', 'tp_sum', 're_sum', 'p_clt', 'weight', 'pieces', 'w_per_piece', 'price', 'c_clt', 'tcc']\n",
      "26\n"
     ]
    }
   ],
   "source": [
    "print train.column_names()\n",
    "print len(train.column_names())\n"
   ]
  },
  {
   "cell_type": "code",
   "execution_count": 8,
   "metadata": {
    "collapsed": false,
    "scrolled": true
   },
   "outputs": [
    {
     "data": {
      "text/html": [
       "<pre>Boosted trees regression:</pre>"
      ],
      "text/plain": [
       "Boosted trees regression:"
      ]
     },
     "metadata": {},
     "output_type": "display_data"
    },
    {
     "data": {
      "text/html": [
       "<pre>--------------------------------------------------------</pre>"
      ],
      "text/plain": [
       "--------------------------------------------------------"
      ]
     },
     "metadata": {},
     "output_type": "display_data"
    },
    {
     "data": {
      "text/html": [
       "<pre>Number of examples          : 10408713</pre>"
      ],
      "text/plain": [
       "Number of examples          : 10408713"
      ]
     },
     "metadata": {},
     "output_type": "display_data"
    },
    {
     "data": {
      "text/html": [
       "<pre>Number of features          : 25</pre>"
      ],
      "text/plain": [
       "Number of features          : 25"
      ]
     },
     "metadata": {},
     "output_type": "display_data"
    },
    {
     "data": {
      "text/html": [
       "<pre>Number of unpacked features : 25</pre>"
      ],
      "text/plain": [
       "Number of unpacked features : 25"
      ]
     },
     "metadata": {},
     "output_type": "display_data"
    },
    {
     "data": {
      "text/html": [
       "<pre>+-----------+--------------+---------------+</pre>"
      ],
      "text/plain": [
       "+-----------+--------------+---------------+"
      ]
     },
     "metadata": {},
     "output_type": "display_data"
    },
    {
     "data": {
      "text/html": [
       "<pre>| Iteration | Elapsed Time | Training-rmse |</pre>"
      ],
      "text/plain": [
       "| Iteration | Elapsed Time | Training-rmse |"
      ]
     },
     "metadata": {},
     "output_type": "display_data"
    },
    {
     "data": {
      "text/html": [
       "<pre>+-----------+--------------+---------------+</pre>"
      ],
      "text/plain": [
       "+-----------+--------------+---------------+"
      ]
     },
     "metadata": {},
     "output_type": "display_data"
    },
    {
     "data": {
      "text/html": [
       "<pre>| 1         | 30.549851    | 1.261288      |</pre>"
      ],
      "text/plain": [
       "| 1         | 30.549851    | 1.261288      |"
      ]
     },
     "metadata": {},
     "output_type": "display_data"
    },
    {
     "data": {
      "text/html": [
       "<pre>| 2         | 60.414207    | 1.157321      |</pre>"
      ],
      "text/plain": [
       "| 2         | 60.414207    | 1.157321      |"
      ]
     },
     "metadata": {},
     "output_type": "display_data"
    },
    {
     "data": {
      "text/html": [
       "<pre>| 3         | 88.528655    | 1.064447      |</pre>"
      ],
      "text/plain": [
       "| 3         | 88.528655    | 1.064447      |"
      ]
     },
     "metadata": {},
     "output_type": "display_data"
    },
    {
     "data": {
      "text/html": [
       "<pre>| 4         | 119.531564   | 0.984762      |</pre>"
      ],
      "text/plain": [
       "| 4         | 119.531564   | 0.984762      |"
      ]
     },
     "metadata": {},
     "output_type": "display_data"
    },
    {
     "data": {
      "text/html": [
       "<pre>| 5         | 152.663628   | 0.914326      |</pre>"
      ],
      "text/plain": [
       "| 5         | 152.663628   | 0.914326      |"
      ]
     },
     "metadata": {},
     "output_type": "display_data"
    },
    {
     "data": {
      "text/html": [
       "<pre>| 6         | 182.919073   | 0.852321      |</pre>"
      ],
      "text/plain": [
       "| 6         | 182.919073   | 0.852321      |"
      ]
     },
     "metadata": {},
     "output_type": "display_data"
    },
    {
     "data": {
      "text/html": [
       "<pre>| 7         | 215.187312   | 0.800367      |</pre>"
      ],
      "text/plain": [
       "| 7         | 215.187312   | 0.800367      |"
      ]
     },
     "metadata": {},
     "output_type": "display_data"
    },
    {
     "data": {
      "text/html": [
       "<pre>| 8         | 245.518996   | 0.751358      |</pre>"
      ],
      "text/plain": [
       "| 8         | 245.518996   | 0.751358      |"
      ]
     },
     "metadata": {},
     "output_type": "display_data"
    },
    {
     "data": {
      "text/html": [
       "<pre>| 9         | 276.494772   | 0.708486      |</pre>"
      ],
      "text/plain": [
       "| 9         | 276.494772   | 0.708486      |"
      ]
     },
     "metadata": {},
     "output_type": "display_data"
    },
    {
     "data": {
      "text/html": [
       "<pre>| 10        | 305.633595   | 0.671673      |</pre>"
      ],
      "text/plain": [
       "| 10        | 305.633595   | 0.671673      |"
      ]
     },
     "metadata": {},
     "output_type": "display_data"
    },
    {
     "data": {
      "text/html": [
       "<pre>| 11        | 333.844766   | 0.639877      |</pre>"
      ],
      "text/plain": [
       "| 11        | 333.844766   | 0.639877      |"
      ]
     },
     "metadata": {},
     "output_type": "display_data"
    },
    {
     "data": {
      "text/html": [
       "<pre>| 12        | 364.473309   | 0.612956      |</pre>"
      ],
      "text/plain": [
       "| 12        | 364.473309   | 0.612956      |"
      ]
     },
     "metadata": {},
     "output_type": "display_data"
    },
    {
     "data": {
      "text/html": [
       "<pre>| 13        | 393.425541   | 0.589230      |</pre>"
      ],
      "text/plain": [
       "| 13        | 393.425541   | 0.589230      |"
      ]
     },
     "metadata": {},
     "output_type": "display_data"
    },
    {
     "data": {
      "text/html": [
       "<pre>| 14        | 422.169535   | 0.570199      |</pre>"
      ],
      "text/plain": [
       "| 14        | 422.169535   | 0.570199      |"
      ]
     },
     "metadata": {},
     "output_type": "display_data"
    },
    {
     "data": {
      "text/html": [
       "<pre>| 15        | 453.698058   | 0.553089      |</pre>"
      ],
      "text/plain": [
       "| 15        | 453.698058   | 0.553089      |"
      ]
     },
     "metadata": {},
     "output_type": "display_data"
    },
    {
     "data": {
      "text/html": [
       "<pre>| 16        | 483.517583   | 0.538960      |</pre>"
      ],
      "text/plain": [
       "| 16        | 483.517583   | 0.538960      |"
      ]
     },
     "metadata": {},
     "output_type": "display_data"
    },
    {
     "data": {
      "text/html": [
       "<pre>| 17        | 512.373990   | 0.527258      |</pre>"
      ],
      "text/plain": [
       "| 17        | 512.373990   | 0.527258      |"
      ]
     },
     "metadata": {},
     "output_type": "display_data"
    },
    {
     "data": {
      "text/html": [
       "<pre>| 18        | 542.083830   | 0.517441      |</pre>"
      ],
      "text/plain": [
       "| 18        | 542.083830   | 0.517441      |"
      ]
     },
     "metadata": {},
     "output_type": "display_data"
    },
    {
     "data": {
      "text/html": [
       "<pre>| 19        | 571.774002   | 0.509153      |</pre>"
      ],
      "text/plain": [
       "| 19        | 571.774002   | 0.509153      |"
      ]
     },
     "metadata": {},
     "output_type": "display_data"
    },
    {
     "data": {
      "text/html": [
       "<pre>| 20        | 600.920131   | 0.501776      |</pre>"
      ],
      "text/plain": [
       "| 20        | 600.920131   | 0.501776      |"
      ]
     },
     "metadata": {},
     "output_type": "display_data"
    },
    {
     "data": {
      "text/html": [
       "<pre>| 21        | 630.335375   | 0.495695      |</pre>"
      ],
      "text/plain": [
       "| 21        | 630.335375   | 0.495695      |"
      ]
     },
     "metadata": {},
     "output_type": "display_data"
    },
    {
     "data": {
      "text/html": [
       "<pre>| 22        | 660.187232   | 0.490489      |</pre>"
      ],
      "text/plain": [
       "| 22        | 660.187232   | 0.490489      |"
      ]
     },
     "metadata": {},
     "output_type": "display_data"
    },
    {
     "data": {
      "text/html": [
       "<pre>| 23        | 690.563281   | 0.486156      |</pre>"
      ],
      "text/plain": [
       "| 23        | 690.563281   | 0.486156      |"
      ]
     },
     "metadata": {},
     "output_type": "display_data"
    },
    {
     "data": {
      "text/html": [
       "<pre>| 24        | 719.609141   | 0.482313      |</pre>"
      ],
      "text/plain": [
       "| 24        | 719.609141   | 0.482313      |"
      ]
     },
     "metadata": {},
     "output_type": "display_data"
    },
    {
     "data": {
      "text/html": [
       "<pre>| 25        | 749.209841   | 0.479256      |</pre>"
      ],
      "text/plain": [
       "| 25        | 749.209841   | 0.479256      |"
      ]
     },
     "metadata": {},
     "output_type": "display_data"
    },
    {
     "data": {
      "text/html": [
       "<pre>| 26        | 776.750651   | 0.476452      |</pre>"
      ],
      "text/plain": [
       "| 26        | 776.750651   | 0.476452      |"
      ]
     },
     "metadata": {},
     "output_type": "display_data"
    },
    {
     "data": {
      "text/html": [
       "<pre>| 27        | 806.249862   | 0.473940      |</pre>"
      ],
      "text/plain": [
       "| 27        | 806.249862   | 0.473940      |"
      ]
     },
     "metadata": {},
     "output_type": "display_data"
    },
    {
     "data": {
      "text/html": [
       "<pre>| 28        | 836.560556   | 0.471885      |</pre>"
      ],
      "text/plain": [
       "| 28        | 836.560556   | 0.471885      |"
      ]
     },
     "metadata": {},
     "output_type": "display_data"
    },
    {
     "data": {
      "text/html": [
       "<pre>| 29        | 865.718212   | 0.470368      |</pre>"
      ],
      "text/plain": [
       "| 29        | 865.718212   | 0.470368      |"
      ]
     },
     "metadata": {},
     "output_type": "display_data"
    },
    {
     "data": {
      "text/html": [
       "<pre>| 30        | 896.643066   | 0.468682      |</pre>"
      ],
      "text/plain": [
       "| 30        | 896.643066   | 0.468682      |"
      ]
     },
     "metadata": {},
     "output_type": "display_data"
    },
    {
     "data": {
      "text/html": [
       "<pre>| 31        | 926.123207   | 0.467489      |</pre>"
      ],
      "text/plain": [
       "| 31        | 926.123207   | 0.467489      |"
      ]
     },
     "metadata": {},
     "output_type": "display_data"
    },
    {
     "data": {
      "text/html": [
       "<pre>| 32        | 956.825016   | 0.466250      |</pre>"
      ],
      "text/plain": [
       "| 32        | 956.825016   | 0.466250      |"
      ]
     },
     "metadata": {},
     "output_type": "display_data"
    },
    {
     "data": {
      "text/html": [
       "<pre>| 33        | 988.105619   | 0.465012      |</pre>"
      ],
      "text/plain": [
       "| 33        | 988.105619   | 0.465012      |"
      ]
     },
     "metadata": {},
     "output_type": "display_data"
    },
    {
     "data": {
      "text/html": [
       "<pre>| 34        | 1018.361014  | 0.464069      |</pre>"
      ],
      "text/plain": [
       "| 34        | 1018.361014  | 0.464069      |"
      ]
     },
     "metadata": {},
     "output_type": "display_data"
    },
    {
     "data": {
      "text/html": [
       "<pre>| 35        | 1046.915676  | 0.463215      |</pre>"
      ],
      "text/plain": [
       "| 35        | 1046.915676  | 0.463215      |"
      ]
     },
     "metadata": {},
     "output_type": "display_data"
    },
    {
     "data": {
      "text/html": [
       "<pre>| 36        | 1076.579914  | 0.462342      |</pre>"
      ],
      "text/plain": [
       "| 36        | 1076.579914  | 0.462342      |"
      ]
     },
     "metadata": {},
     "output_type": "display_data"
    },
    {
     "data": {
      "text/html": [
       "<pre>| 37        | 1106.188540  | 0.461615      |</pre>"
      ],
      "text/plain": [
       "| 37        | 1106.188540  | 0.461615      |"
      ]
     },
     "metadata": {},
     "output_type": "display_data"
    },
    {
     "data": {
      "text/html": [
       "<pre>| 38        | 1136.633710  | 0.460974      |</pre>"
      ],
      "text/plain": [
       "| 38        | 1136.633710  | 0.460974      |"
      ]
     },
     "metadata": {},
     "output_type": "display_data"
    },
    {
     "data": {
      "text/html": [
       "<pre>| 39        | 1167.364636  | 0.460373      |</pre>"
      ],
      "text/plain": [
       "| 39        | 1167.364636  | 0.460373      |"
      ]
     },
     "metadata": {},
     "output_type": "display_data"
    },
    {
     "data": {
      "text/html": [
       "<pre>| 40        | 1197.178082  | 0.459883      |</pre>"
      ],
      "text/plain": [
       "| 40        | 1197.178082  | 0.459883      |"
      ]
     },
     "metadata": {},
     "output_type": "display_data"
    },
    {
     "data": {
      "text/html": [
       "<pre>| 41        | 1227.204938  | 0.459511      |</pre>"
      ],
      "text/plain": [
       "| 41        | 1227.204938  | 0.459511      |"
      ]
     },
     "metadata": {},
     "output_type": "display_data"
    },
    {
     "data": {
      "text/html": [
       "<pre>| 42        | 1256.680380  | 0.459105      |</pre>"
      ],
      "text/plain": [
       "| 42        | 1256.680380  | 0.459105      |"
      ]
     },
     "metadata": {},
     "output_type": "display_data"
    },
    {
     "data": {
      "text/html": [
       "<pre>| 43        | 1286.271247  | 0.458648      |</pre>"
      ],
      "text/plain": [
       "| 43        | 1286.271247  | 0.458648      |"
      ]
     },
     "metadata": {},
     "output_type": "display_data"
    },
    {
     "data": {
      "text/html": [
       "<pre>| 44        | 1317.424646  | 0.458274      |</pre>"
      ],
      "text/plain": [
       "| 44        | 1317.424646  | 0.458274      |"
      ]
     },
     "metadata": {},
     "output_type": "display_data"
    },
    {
     "data": {
      "text/html": [
       "<pre>| 45        | 1347.207302  | 0.457787      |</pre>"
      ],
      "text/plain": [
       "| 45        | 1347.207302  | 0.457787      |"
      ]
     },
     "metadata": {},
     "output_type": "display_data"
    },
    {
     "data": {
      "text/html": [
       "<pre>| 46        | 1375.726764  | 0.457446      |</pre>"
      ],
      "text/plain": [
       "| 46        | 1375.726764  | 0.457446      |"
      ]
     },
     "metadata": {},
     "output_type": "display_data"
    },
    {
     "data": {
      "text/html": [
       "<pre>| 47        | 1405.777109  | 0.457033      |</pre>"
      ],
      "text/plain": [
       "| 47        | 1405.777109  | 0.457033      |"
      ]
     },
     "metadata": {},
     "output_type": "display_data"
    },
    {
     "data": {
      "text/html": [
       "<pre>| 48        | 1436.450637  | 0.456575      |</pre>"
      ],
      "text/plain": [
       "| 48        | 1436.450637  | 0.456575      |"
      ]
     },
     "metadata": {},
     "output_type": "display_data"
    },
    {
     "data": {
      "text/html": [
       "<pre>| 49        | 1465.817171  | 0.456258      |</pre>"
      ],
      "text/plain": [
       "| 49        | 1465.817171  | 0.456258      |"
      ]
     },
     "metadata": {},
     "output_type": "display_data"
    },
    {
     "data": {
      "text/html": [
       "<pre>| 50        | 1496.391429  | 0.455913      |</pre>"
      ],
      "text/plain": [
       "| 50        | 1496.391429  | 0.455913      |"
      ]
     },
     "metadata": {},
     "output_type": "display_data"
    },
    {
     "data": {
      "text/html": [
       "<pre>| 51        | 1527.010414  | 0.455540      |</pre>"
      ],
      "text/plain": [
       "| 51        | 1527.010414  | 0.455540      |"
      ]
     },
     "metadata": {},
     "output_type": "display_data"
    },
    {
     "data": {
      "text/html": [
       "<pre>| 52        | 1556.957208  | 0.455316      |</pre>"
      ],
      "text/plain": [
       "| 52        | 1556.957208  | 0.455316      |"
      ]
     },
     "metadata": {},
     "output_type": "display_data"
    },
    {
     "data": {
      "text/html": [
       "<pre>| 53        | 1586.705980  | 0.455091      |</pre>"
      ],
      "text/plain": [
       "| 53        | 1586.705980  | 0.455091      |"
      ]
     },
     "metadata": {},
     "output_type": "display_data"
    },
    {
     "data": {
      "text/html": [
       "<pre>| 54        | 1618.274609  | 0.454867      |</pre>"
      ],
      "text/plain": [
       "| 54        | 1618.274609  | 0.454867      |"
      ]
     },
     "metadata": {},
     "output_type": "display_data"
    },
    {
     "data": {
      "text/html": [
       "<pre>| 55        | 1648.021321  | 0.454596      |</pre>"
      ],
      "text/plain": [
       "| 55        | 1648.021321  | 0.454596      |"
      ]
     },
     "metadata": {},
     "output_type": "display_data"
    },
    {
     "data": {
      "text/html": [
       "<pre>| 56        | 1678.559525  | 0.454269      |</pre>"
      ],
      "text/plain": [
       "| 56        | 1678.559525  | 0.454269      |"
      ]
     },
     "metadata": {},
     "output_type": "display_data"
    },
    {
     "data": {
      "text/html": [
       "<pre>| 57        | 1709.944519  | 0.454045      |</pre>"
      ],
      "text/plain": [
       "| 57        | 1709.944519  | 0.454045      |"
      ]
     },
     "metadata": {},
     "output_type": "display_data"
    },
    {
     "data": {
      "text/html": [
       "<pre>| 58        | 1739.256534  | 0.453846      |</pre>"
      ],
      "text/plain": [
       "| 58        | 1739.256534  | 0.453846      |"
      ]
     },
     "metadata": {},
     "output_type": "display_data"
    },
    {
     "data": {
      "text/html": [
       "<pre>| 59        | 1768.563601  | 0.453605      |</pre>"
      ],
      "text/plain": [
       "| 59        | 1768.563601  | 0.453605      |"
      ]
     },
     "metadata": {},
     "output_type": "display_data"
    },
    {
     "data": {
      "text/html": [
       "<pre>| 60        | 1798.470085  | 0.453283      |</pre>"
      ],
      "text/plain": [
       "| 60        | 1798.470085  | 0.453283      |"
      ]
     },
     "metadata": {},
     "output_type": "display_data"
    },
    {
     "data": {
      "text/html": [
       "<pre>| 61        | 1829.703087  | 0.453064      |</pre>"
      ],
      "text/plain": [
       "| 61        | 1829.703087  | 0.453064      |"
      ]
     },
     "metadata": {},
     "output_type": "display_data"
    },
    {
     "data": {
      "text/html": [
       "<pre>| 62        | 1858.681883  | 0.452815      |</pre>"
      ],
      "text/plain": [
       "| 62        | 1858.681883  | 0.452815      |"
      ]
     },
     "metadata": {},
     "output_type": "display_data"
    },
    {
     "data": {
      "text/html": [
       "<pre>| 63        | 1888.502702  | 0.452598      |</pre>"
      ],
      "text/plain": [
       "| 63        | 1888.502702  | 0.452598      |"
      ]
     },
     "metadata": {},
     "output_type": "display_data"
    },
    {
     "data": {
      "text/html": [
       "<pre>| 64        | 1919.405760  | 0.452365      |</pre>"
      ],
      "text/plain": [
       "| 64        | 1919.405760  | 0.452365      |"
      ]
     },
     "metadata": {},
     "output_type": "display_data"
    },
    {
     "data": {
      "text/html": [
       "<pre>| 65        | 1949.155337  | 0.452097      |</pre>"
      ],
      "text/plain": [
       "| 65        | 1949.155337  | 0.452097      |"
      ]
     },
     "metadata": {},
     "output_type": "display_data"
    },
    {
     "data": {
      "text/html": [
       "<pre>| 66        | 1979.913338  | 0.451841      |</pre>"
      ],
      "text/plain": [
       "| 66        | 1979.913338  | 0.451841      |"
      ]
     },
     "metadata": {},
     "output_type": "display_data"
    },
    {
     "data": {
      "text/html": [
       "<pre>| 67        | 2009.280750  | 0.451587      |</pre>"
      ],
      "text/plain": [
       "| 67        | 2009.280750  | 0.451587      |"
      ]
     },
     "metadata": {},
     "output_type": "display_data"
    },
    {
     "data": {
      "text/html": [
       "<pre>| 68        | 2041.807186  | 0.451367      |</pre>"
      ],
      "text/plain": [
       "| 68        | 2041.807186  | 0.451367      |"
      ]
     },
     "metadata": {},
     "output_type": "display_data"
    },
    {
     "data": {
      "text/html": [
       "<pre>| 69        | 2071.572280  | 0.451114      |</pre>"
      ],
      "text/plain": [
       "| 69        | 2071.572280  | 0.451114      |"
      ]
     },
     "metadata": {},
     "output_type": "display_data"
    },
    {
     "data": {
      "text/html": [
       "<pre>| 70        | 2100.353962  | 0.450916      |</pre>"
      ],
      "text/plain": [
       "| 70        | 2100.353962  | 0.450916      |"
      ]
     },
     "metadata": {},
     "output_type": "display_data"
    },
    {
     "data": {
      "text/html": [
       "<pre>| 71        | 2130.953399  | 0.450716      |</pre>"
      ],
      "text/plain": [
       "| 71        | 2130.953399  | 0.450716      |"
      ]
     },
     "metadata": {},
     "output_type": "display_data"
    },
    {
     "data": {
      "text/html": [
       "<pre>| 72        | 2162.150496  | 0.450537      |</pre>"
      ],
      "text/plain": [
       "| 72        | 2162.150496  | 0.450537      |"
      ]
     },
     "metadata": {},
     "output_type": "display_data"
    },
    {
     "data": {
      "text/html": [
       "<pre>| 73        | 2193.167942  | 0.450409      |</pre>"
      ],
      "text/plain": [
       "| 73        | 2193.167942  | 0.450409      |"
      ]
     },
     "metadata": {},
     "output_type": "display_data"
    },
    {
     "data": {
      "text/html": [
       "<pre>| 74        | 2224.944933  | 0.450200      |</pre>"
      ],
      "text/plain": [
       "| 74        | 2224.944933  | 0.450200      |"
      ]
     },
     "metadata": {},
     "output_type": "display_data"
    },
    {
     "data": {
      "text/html": [
       "<pre>| 75        | 2254.479002  | 0.450002      |</pre>"
      ],
      "text/plain": [
       "| 75        | 2254.479002  | 0.450002      |"
      ]
     },
     "metadata": {},
     "output_type": "display_data"
    },
    {
     "data": {
      "text/html": [
       "<pre>| 76        | 2284.182778  | 0.449816      |</pre>"
      ],
      "text/plain": [
       "| 76        | 2284.182778  | 0.449816      |"
      ]
     },
     "metadata": {},
     "output_type": "display_data"
    },
    {
     "data": {
      "text/html": [
       "<pre>| 77        | 2315.360069  | 0.449620      |</pre>"
      ],
      "text/plain": [
       "| 77        | 2315.360069  | 0.449620      |"
      ]
     },
     "metadata": {},
     "output_type": "display_data"
    },
    {
     "data": {
      "text/html": [
       "<pre>| 78        | 2344.794193  | 0.449504      |</pre>"
      ],
      "text/plain": [
       "| 78        | 2344.794193  | 0.449504      |"
      ]
     },
     "metadata": {},
     "output_type": "display_data"
    },
    {
     "data": {
      "text/html": [
       "<pre>| 79        | 2375.306994  | 0.449339      |</pre>"
      ],
      "text/plain": [
       "| 79        | 2375.306994  | 0.449339      |"
      ]
     },
     "metadata": {},
     "output_type": "display_data"
    },
    {
     "data": {
      "text/html": [
       "<pre>| 80        | 2405.958642  | 0.449205      |</pre>"
      ],
      "text/plain": [
       "| 80        | 2405.958642  | 0.449205      |"
      ]
     },
     "metadata": {},
     "output_type": "display_data"
    },
    {
     "data": {
      "text/html": [
       "<pre>| 81        | 2435.775857  | 0.449067      |</pre>"
      ],
      "text/plain": [
       "| 81        | 2435.775857  | 0.449067      |"
      ]
     },
     "metadata": {},
     "output_type": "display_data"
    },
    {
     "data": {
      "text/html": [
       "<pre>| 82        | 2465.460138  | 0.448924      |</pre>"
      ],
      "text/plain": [
       "| 82        | 2465.460138  | 0.448924      |"
      ]
     },
     "metadata": {},
     "output_type": "display_data"
    },
    {
     "data": {
      "text/html": [
       "<pre>| 83        | 2497.144613  | 0.448772      |</pre>"
      ],
      "text/plain": [
       "| 83        | 2497.144613  | 0.448772      |"
      ]
     },
     "metadata": {},
     "output_type": "display_data"
    },
    {
     "data": {
      "text/html": [
       "<pre>| 84        | 2528.739887  | 0.448631      |</pre>"
      ],
      "text/plain": [
       "| 84        | 2528.739887  | 0.448631      |"
      ]
     },
     "metadata": {},
     "output_type": "display_data"
    },
    {
     "data": {
      "text/html": [
       "<pre>| 85        | 2560.752900  | 0.448507      |</pre>"
      ],
      "text/plain": [
       "| 85        | 2560.752900  | 0.448507      |"
      ]
     },
     "metadata": {},
     "output_type": "display_data"
    },
    {
     "data": {
      "text/html": [
       "<pre>| 86        | 2591.501748  | 0.448395      |</pre>"
      ],
      "text/plain": [
       "| 86        | 2591.501748  | 0.448395      |"
      ]
     },
     "metadata": {},
     "output_type": "display_data"
    },
    {
     "data": {
      "text/html": [
       "<pre>| 87        | 2621.009613  | 0.448333      |</pre>"
      ],
      "text/plain": [
       "| 87        | 2621.009613  | 0.448333      |"
      ]
     },
     "metadata": {},
     "output_type": "display_data"
    },
    {
     "data": {
      "text/html": [
       "<pre>| 88        | 2652.111863  | 0.448215      |</pre>"
      ],
      "text/plain": [
       "| 88        | 2652.111863  | 0.448215      |"
      ]
     },
     "metadata": {},
     "output_type": "display_data"
    },
    {
     "data": {
      "text/html": [
       "<pre>| 89        | 2683.164206  | 0.448056      |</pre>"
      ],
      "text/plain": [
       "| 89        | 2683.164206  | 0.448056      |"
      ]
     },
     "metadata": {},
     "output_type": "display_data"
    },
    {
     "data": {
      "text/html": [
       "<pre>| 90        | 2714.403792  | 0.447939      |</pre>"
      ],
      "text/plain": [
       "| 90        | 2714.403792  | 0.447939      |"
      ]
     },
     "metadata": {},
     "output_type": "display_data"
    },
    {
     "data": {
      "text/html": [
       "<pre>| 91        | 2743.249479  | 0.447854      |</pre>"
      ],
      "text/plain": [
       "| 91        | 2743.249479  | 0.447854      |"
      ]
     },
     "metadata": {},
     "output_type": "display_data"
    },
    {
     "data": {
      "text/html": [
       "<pre>| 92        | 2772.392645  | 0.447762      |</pre>"
      ],
      "text/plain": [
       "| 92        | 2772.392645  | 0.447762      |"
      ]
     },
     "metadata": {},
     "output_type": "display_data"
    },
    {
     "data": {
      "text/html": [
       "<pre>| 93        | 2803.074876  | 0.447622      |</pre>"
      ],
      "text/plain": [
       "| 93        | 2803.074876  | 0.447622      |"
      ]
     },
     "metadata": {},
     "output_type": "display_data"
    },
    {
     "data": {
      "text/html": [
       "<pre>| 94        | 2834.284179  | 0.447505      |</pre>"
      ],
      "text/plain": [
       "| 94        | 2834.284179  | 0.447505      |"
      ]
     },
     "metadata": {},
     "output_type": "display_data"
    },
    {
     "data": {
      "text/html": [
       "<pre>| 95        | 2862.316312  | 0.447358      |</pre>"
      ],
      "text/plain": [
       "| 95        | 2862.316312  | 0.447358      |"
      ]
     },
     "metadata": {},
     "output_type": "display_data"
    },
    {
     "data": {
      "text/html": [
       "<pre>| 96        | 2893.342868  | 0.447192      |</pre>"
      ],
      "text/plain": [
       "| 96        | 2893.342868  | 0.447192      |"
      ]
     },
     "metadata": {},
     "output_type": "display_data"
    },
    {
     "data": {
      "text/html": [
       "<pre>| 97        | 2924.870497  | 0.447087      |</pre>"
      ],
      "text/plain": [
       "| 97        | 2924.870497  | 0.447087      |"
      ]
     },
     "metadata": {},
     "output_type": "display_data"
    },
    {
     "data": {
      "text/html": [
       "<pre>| 98        | 2955.045180  | 0.446997      |</pre>"
      ],
      "text/plain": [
       "| 98        | 2955.045180  | 0.446997      |"
      ]
     },
     "metadata": {},
     "output_type": "display_data"
    },
    {
     "data": {
      "text/html": [
       "<pre>| 99        | 2984.299456  | 0.446892      |</pre>"
      ],
      "text/plain": [
       "| 99        | 2984.299456  | 0.446892      |"
      ]
     },
     "metadata": {},
     "output_type": "display_data"
    },
    {
     "data": {
      "text/html": [
       "<pre>| 100       | 3013.817149  | 0.446787      |</pre>"
      ],
      "text/plain": [
       "| 100       | 3013.817149  | 0.446787      |"
      ]
     },
     "metadata": {},
     "output_type": "display_data"
    },
    {
     "data": {
      "text/html": [
       "<pre>| 101       | 3044.202443  | 0.446697      |</pre>"
      ],
      "text/plain": [
       "| 101       | 3044.202443  | 0.446697      |"
      ]
     },
     "metadata": {},
     "output_type": "display_data"
    },
    {
     "data": {
      "text/html": [
       "<pre>| 102       | 3073.858494  | 0.446598      |</pre>"
      ],
      "text/plain": [
       "| 102       | 3073.858494  | 0.446598      |"
      ]
     },
     "metadata": {},
     "output_type": "display_data"
    },
    {
     "data": {
      "text/html": [
       "<pre>| 103       | 3103.953555  | 0.446488      |</pre>"
      ],
      "text/plain": [
       "| 103       | 3103.953555  | 0.446488      |"
      ]
     },
     "metadata": {},
     "output_type": "display_data"
    },
    {
     "data": {
      "text/html": [
       "<pre>| 104       | 3131.641759  | 0.446405      |</pre>"
      ],
      "text/plain": [
       "| 104       | 3131.641759  | 0.446405      |"
      ]
     },
     "metadata": {},
     "output_type": "display_data"
    },
    {
     "data": {
      "text/html": [
       "<pre>| 105       | 3162.423219  | 0.446262      |</pre>"
      ],
      "text/plain": [
       "| 105       | 3162.423219  | 0.446262      |"
      ]
     },
     "metadata": {},
     "output_type": "display_data"
    },
    {
     "data": {
      "text/html": [
       "<pre>| 106       | 3193.471764  | 0.446130      |</pre>"
      ],
      "text/plain": [
       "| 106       | 3193.471764  | 0.446130      |"
      ]
     },
     "metadata": {},
     "output_type": "display_data"
    },
    {
     "data": {
      "text/html": [
       "<pre>| 107       | 3224.513333  | 0.446004      |</pre>"
      ],
      "text/plain": [
       "| 107       | 3224.513333  | 0.446004      |"
      ]
     },
     "metadata": {},
     "output_type": "display_data"
    },
    {
     "data": {
      "text/html": [
       "<pre>| 108       | 3255.392044  | 0.445932      |</pre>"
      ],
      "text/plain": [
       "| 108       | 3255.392044  | 0.445932      |"
      ]
     },
     "metadata": {},
     "output_type": "display_data"
    },
    {
     "data": {
      "text/html": [
       "<pre>| 109       | 3286.834774  | 0.445821      |</pre>"
      ],
      "text/plain": [
       "| 109       | 3286.834774  | 0.445821      |"
      ]
     },
     "metadata": {},
     "output_type": "display_data"
    },
    {
     "data": {
      "text/html": [
       "<pre>| 110       | 3317.384823  | 0.445727      |</pre>"
      ],
      "text/plain": [
       "| 110       | 3317.384823  | 0.445727      |"
      ]
     },
     "metadata": {},
     "output_type": "display_data"
    },
    {
     "data": {
      "text/html": [
       "<pre>| 111       | 3347.288618  | 0.445569      |</pre>"
      ],
      "text/plain": [
       "| 111       | 3347.288618  | 0.445569      |"
      ]
     },
     "metadata": {},
     "output_type": "display_data"
    },
    {
     "data": {
      "text/html": [
       "<pre>| 112       | 3380.079172  | 0.445434      |</pre>"
      ],
      "text/plain": [
       "| 112       | 3380.079172  | 0.445434      |"
      ]
     },
     "metadata": {},
     "output_type": "display_data"
    },
    {
     "data": {
      "text/html": [
       "<pre>| 113       | 3410.884846  | 0.445362      |</pre>"
      ],
      "text/plain": [
       "| 113       | 3410.884846  | 0.445362      |"
      ]
     },
     "metadata": {},
     "output_type": "display_data"
    },
    {
     "data": {
      "text/html": [
       "<pre>| 114       | 3441.495534  | 0.445284      |</pre>"
      ],
      "text/plain": [
       "| 114       | 3441.495534  | 0.445284      |"
      ]
     },
     "metadata": {},
     "output_type": "display_data"
    },
    {
     "data": {
      "text/html": [
       "<pre>| 115       | 3471.749976  | 0.445167      |</pre>"
      ],
      "text/plain": [
       "| 115       | 3471.749976  | 0.445167      |"
      ]
     },
     "metadata": {},
     "output_type": "display_data"
    },
    {
     "data": {
      "text/html": [
       "<pre>| 116       | 3501.353951  | 0.445077      |</pre>"
      ],
      "text/plain": [
       "| 116       | 3501.353951  | 0.445077      |"
      ]
     },
     "metadata": {},
     "output_type": "display_data"
    },
    {
     "data": {
      "text/html": [
       "<pre>| 117       | 3531.965940  | 0.444985      |</pre>"
      ],
      "text/plain": [
       "| 117       | 3531.965940  | 0.444985      |"
      ]
     },
     "metadata": {},
     "output_type": "display_data"
    },
    {
     "data": {
      "text/html": [
       "<pre>| 118       | 3563.421193  | 0.444889      |</pre>"
      ],
      "text/plain": [
       "| 118       | 3563.421193  | 0.444889      |"
      ]
     },
     "metadata": {},
     "output_type": "display_data"
    },
    {
     "data": {
      "text/html": [
       "<pre>| 119       | 3594.296418  | 0.444764      |</pre>"
      ],
      "text/plain": [
       "| 119       | 3594.296418  | 0.444764      |"
      ]
     },
     "metadata": {},
     "output_type": "display_data"
    },
    {
     "data": {
      "text/html": [
       "<pre>| 120       | 3626.094543  | 0.444650      |</pre>"
      ],
      "text/plain": [
       "| 120       | 3626.094543  | 0.444650      |"
      ]
     },
     "metadata": {},
     "output_type": "display_data"
    },
    {
     "data": {
      "text/html": [
       "<pre>| 121       | 3657.110884  | 0.444559      |</pre>"
      ],
      "text/plain": [
       "| 121       | 3657.110884  | 0.444559      |"
      ]
     },
     "metadata": {},
     "output_type": "display_data"
    },
    {
     "data": {
      "text/html": [
       "<pre>| 122       | 3686.931418  | 0.444473      |</pre>"
      ],
      "text/plain": [
       "| 122       | 3686.931418  | 0.444473      |"
      ]
     },
     "metadata": {},
     "output_type": "display_data"
    },
    {
     "data": {
      "text/html": [
       "<pre>| 123       | 3718.647140  | 0.444405      |</pre>"
      ],
      "text/plain": [
       "| 123       | 3718.647140  | 0.444405      |"
      ]
     },
     "metadata": {},
     "output_type": "display_data"
    },
    {
     "data": {
      "text/html": [
       "<pre>| 124       | 3749.419424  | 0.444337      |</pre>"
      ],
      "text/plain": [
       "| 124       | 3749.419424  | 0.444337      |"
      ]
     },
     "metadata": {},
     "output_type": "display_data"
    },
    {
     "data": {
      "text/html": [
       "<pre>| 125       | 3779.616833  | 0.444262      |</pre>"
      ],
      "text/plain": [
       "| 125       | 3779.616833  | 0.444262      |"
      ]
     },
     "metadata": {},
     "output_type": "display_data"
    },
    {
     "data": {
      "text/html": [
       "<pre>| 126       | 3809.491854  | 0.444192      |</pre>"
      ],
      "text/plain": [
       "| 126       | 3809.491854  | 0.444192      |"
      ]
     },
     "metadata": {},
     "output_type": "display_data"
    },
    {
     "data": {
      "text/html": [
       "<pre>| 127       | 3840.311082  | 0.444104      |</pre>"
      ],
      "text/plain": [
       "| 127       | 3840.311082  | 0.444104      |"
      ]
     },
     "metadata": {},
     "output_type": "display_data"
    },
    {
     "data": {
      "text/html": [
       "<pre>| 128       | 3871.785263  | 0.444015      |</pre>"
      ],
      "text/plain": [
       "| 128       | 3871.785263  | 0.444015      |"
      ]
     },
     "metadata": {},
     "output_type": "display_data"
    },
    {
     "data": {
      "text/html": [
       "<pre>| 129       | 3903.257517  | 0.443923      |</pre>"
      ],
      "text/plain": [
       "| 129       | 3903.257517  | 0.443923      |"
      ]
     },
     "metadata": {},
     "output_type": "display_data"
    },
    {
     "data": {
      "text/html": [
       "<pre>| 130       | 3933.144755  | 0.443817      |</pre>"
      ],
      "text/plain": [
       "| 130       | 3933.144755  | 0.443817      |"
      ]
     },
     "metadata": {},
     "output_type": "display_data"
    },
    {
     "data": {
      "text/html": [
       "<pre>| 131       | 3964.730628  | 0.443715      |</pre>"
      ],
      "text/plain": [
       "| 131       | 3964.730628  | 0.443715      |"
      ]
     },
     "metadata": {},
     "output_type": "display_data"
    },
    {
     "data": {
      "text/html": [
       "<pre>| 132       | 3996.645725  | 0.443649      |</pre>"
      ],
      "text/plain": [
       "| 132       | 3996.645725  | 0.443649      |"
      ]
     },
     "metadata": {},
     "output_type": "display_data"
    },
    {
     "data": {
      "text/html": [
       "<pre>| 133       | 4026.756810  | 0.443594      |</pre>"
      ],
      "text/plain": [
       "| 133       | 4026.756810  | 0.443594      |"
      ]
     },
     "metadata": {},
     "output_type": "display_data"
    },
    {
     "data": {
      "text/html": [
       "<pre>| 134       | 4056.297137  | 0.443542      |</pre>"
      ],
      "text/plain": [
       "| 134       | 4056.297137  | 0.443542      |"
      ]
     },
     "metadata": {},
     "output_type": "display_data"
    },
    {
     "data": {
      "text/html": [
       "<pre>| 135       | 4085.488197  | 0.443446      |</pre>"
      ],
      "text/plain": [
       "| 135       | 4085.488197  | 0.443446      |"
      ]
     },
     "metadata": {},
     "output_type": "display_data"
    },
    {
     "data": {
      "text/html": [
       "<pre>| 136       | 4114.954663  | 0.443361      |</pre>"
      ],
      "text/plain": [
       "| 136       | 4114.954663  | 0.443361      |"
      ]
     },
     "metadata": {},
     "output_type": "display_data"
    },
    {
     "data": {
      "text/html": [
       "<pre>| 137       | 4146.997376  | 0.443307      |</pre>"
      ],
      "text/plain": [
       "| 137       | 4146.997376  | 0.443307      |"
      ]
     },
     "metadata": {},
     "output_type": "display_data"
    },
    {
     "data": {
      "text/html": [
       "<pre>| 138       | 4179.819523  | 0.443235      |</pre>"
      ],
      "text/plain": [
       "| 138       | 4179.819523  | 0.443235      |"
      ]
     },
     "metadata": {},
     "output_type": "display_data"
    },
    {
     "data": {
      "text/html": [
       "<pre>| 139       | 4208.776711  | 0.443160      |</pre>"
      ],
      "text/plain": [
       "| 139       | 4208.776711  | 0.443160      |"
      ]
     },
     "metadata": {},
     "output_type": "display_data"
    },
    {
     "data": {
      "text/html": [
       "<pre>| 140       | 4240.650355  | 0.443085      |</pre>"
      ],
      "text/plain": [
       "| 140       | 4240.650355  | 0.443085      |"
      ]
     },
     "metadata": {},
     "output_type": "display_data"
    },
    {
     "data": {
      "text/html": [
       "<pre>| 141       | 4268.437713  | 0.443002      |</pre>"
      ],
      "text/plain": [
       "| 141       | 4268.437713  | 0.443002      |"
      ]
     },
     "metadata": {},
     "output_type": "display_data"
    },
    {
     "data": {
      "text/html": [
       "<pre>| 142       | 4298.397012  | 0.442941      |</pre>"
      ],
      "text/plain": [
       "| 142       | 4298.397012  | 0.442941      |"
      ]
     },
     "metadata": {},
     "output_type": "display_data"
    },
    {
     "data": {
      "text/html": [
       "<pre>| 143       | 4327.087899  | 0.442891      |</pre>"
      ],
      "text/plain": [
       "| 143       | 4327.087899  | 0.442891      |"
      ]
     },
     "metadata": {},
     "output_type": "display_data"
    },
    {
     "data": {
      "text/html": [
       "<pre>| 144       | 4359.240309  | 0.442794      |</pre>"
      ],
      "text/plain": [
       "| 144       | 4359.240309  | 0.442794      |"
      ]
     },
     "metadata": {},
     "output_type": "display_data"
    },
    {
     "data": {
      "text/html": [
       "<pre>| 145       | 4390.074735  | 0.442734      |</pre>"
      ],
      "text/plain": [
       "| 145       | 4390.074735  | 0.442734      |"
      ]
     },
     "metadata": {},
     "output_type": "display_data"
    },
    {
     "data": {
      "text/html": [
       "<pre>| 146       | 4421.610020  | 0.442703      |</pre>"
      ],
      "text/plain": [
       "| 146       | 4421.610020  | 0.442703      |"
      ]
     },
     "metadata": {},
     "output_type": "display_data"
    },
    {
     "data": {
      "text/html": [
       "<pre>| 147       | 4449.895419  | 0.442636      |</pre>"
      ],
      "text/plain": [
       "| 147       | 4449.895419  | 0.442636      |"
      ]
     },
     "metadata": {},
     "output_type": "display_data"
    },
    {
     "data": {
      "text/html": [
       "<pre>| 148       | 4478.580279  | 0.442569      |</pre>"
      ],
      "text/plain": [
       "| 148       | 4478.580279  | 0.442569      |"
      ]
     },
     "metadata": {},
     "output_type": "display_data"
    },
    {
     "data": {
      "text/html": [
       "<pre>| 149       | 4507.936924  | 0.442510      |</pre>"
      ],
      "text/plain": [
       "| 149       | 4507.936924  | 0.442510      |"
      ]
     },
     "metadata": {},
     "output_type": "display_data"
    },
    {
     "data": {
      "text/html": [
       "<pre>| 150       | 4538.543752  | 0.442451      |</pre>"
      ],
      "text/plain": [
       "| 150       | 4538.543752  | 0.442451      |"
      ]
     },
     "metadata": {},
     "output_type": "display_data"
    },
    {
     "data": {
      "text/html": [
       "<pre>| 151       | 4568.565036  | 0.442415      |</pre>"
      ],
      "text/plain": [
       "| 151       | 4568.565036  | 0.442415      |"
      ]
     },
     "metadata": {},
     "output_type": "display_data"
    },
    {
     "data": {
      "text/html": [
       "<pre>| 152       | 4597.050793  | 0.442367      |</pre>"
      ],
      "text/plain": [
       "| 152       | 4597.050793  | 0.442367      |"
      ]
     },
     "metadata": {},
     "output_type": "display_data"
    },
    {
     "data": {
      "text/html": [
       "<pre>| 153       | 4628.372433  | 0.442324      |</pre>"
      ],
      "text/plain": [
       "| 153       | 4628.372433  | 0.442324      |"
      ]
     },
     "metadata": {},
     "output_type": "display_data"
    },
    {
     "data": {
      "text/html": [
       "<pre>| 154       | 4658.981854  | 0.442270      |</pre>"
      ],
      "text/plain": [
       "| 154       | 4658.981854  | 0.442270      |"
      ]
     },
     "metadata": {},
     "output_type": "display_data"
    },
    {
     "data": {
      "text/html": [
       "<pre>| 155       | 4688.051359  | 0.442219      |</pre>"
      ],
      "text/plain": [
       "| 155       | 4688.051359  | 0.442219      |"
      ]
     },
     "metadata": {},
     "output_type": "display_data"
    },
    {
     "data": {
      "text/html": [
       "<pre>| 156       | 4717.871587  | 0.442183      |</pre>"
      ],
      "text/plain": [
       "| 156       | 4717.871587  | 0.442183      |"
      ]
     },
     "metadata": {},
     "output_type": "display_data"
    },
    {
     "data": {
      "text/html": [
       "<pre>| 157       | 4749.382007  | 0.442073      |</pre>"
      ],
      "text/plain": [
       "| 157       | 4749.382007  | 0.442073      |"
      ]
     },
     "metadata": {},
     "output_type": "display_data"
    },
    {
     "data": {
      "text/html": [
       "<pre>| 158       | 4779.533881  | 0.442030      |</pre>"
      ],
      "text/plain": [
       "| 158       | 4779.533881  | 0.442030      |"
      ]
     },
     "metadata": {},
     "output_type": "display_data"
    },
    {
     "data": {
      "text/html": [
       "<pre>| 159       | 4810.490519  | 0.441974      |</pre>"
      ],
      "text/plain": [
       "| 159       | 4810.490519  | 0.441974      |"
      ]
     },
     "metadata": {},
     "output_type": "display_data"
    },
    {
     "data": {
      "text/html": [
       "<pre>| 160       | 4841.224385  | 0.441886      |</pre>"
      ],
      "text/plain": [
       "| 160       | 4841.224385  | 0.441886      |"
      ]
     },
     "metadata": {},
     "output_type": "display_data"
    },
    {
     "data": {
      "text/html": [
       "<pre>| 161       | 4870.859087  | 0.441815      |</pre>"
      ],
      "text/plain": [
       "| 161       | 4870.859087  | 0.441815      |"
      ]
     },
     "metadata": {},
     "output_type": "display_data"
    },
    {
     "data": {
      "text/html": [
       "<pre>| 162       | 4900.871786  | 0.441764      |</pre>"
      ],
      "text/plain": [
       "| 162       | 4900.871786  | 0.441764      |"
      ]
     },
     "metadata": {},
     "output_type": "display_data"
    },
    {
     "data": {
      "text/html": [
       "<pre>| 163       | 4931.915947  | 0.441700      |</pre>"
      ],
      "text/plain": [
       "| 163       | 4931.915947  | 0.441700      |"
      ]
     },
     "metadata": {},
     "output_type": "display_data"
    },
    {
     "data": {
      "text/html": [
       "<pre>| 164       | 4964.000277  | 0.441656      |</pre>"
      ],
      "text/plain": [
       "| 164       | 4964.000277  | 0.441656      |"
      ]
     },
     "metadata": {},
     "output_type": "display_data"
    },
    {
     "data": {
      "text/html": [
       "<pre>| 165       | 4995.093562  | 0.441579      |</pre>"
      ],
      "text/plain": [
       "| 165       | 4995.093562  | 0.441579      |"
      ]
     },
     "metadata": {},
     "output_type": "display_data"
    },
    {
     "data": {
      "text/html": [
       "<pre>| 166       | 5025.883730  | 0.441520      |</pre>"
      ],
      "text/plain": [
       "| 166       | 5025.883730  | 0.441520      |"
      ]
     },
     "metadata": {},
     "output_type": "display_data"
    },
    {
     "data": {
      "text/html": [
       "<pre>| 167       | 5055.028094  | 0.441484      |</pre>"
      ],
      "text/plain": [
       "| 167       | 5055.028094  | 0.441484      |"
      ]
     },
     "metadata": {},
     "output_type": "display_data"
    },
    {
     "data": {
      "text/html": [
       "<pre>| 168       | 5085.352728  | 0.441433      |</pre>"
      ],
      "text/plain": [
       "| 168       | 5085.352728  | 0.441433      |"
      ]
     },
     "metadata": {},
     "output_type": "display_data"
    },
    {
     "data": {
      "text/html": [
       "<pre>| 169       | 5111.795528  | 0.441389      |</pre>"
      ],
      "text/plain": [
       "| 169       | 5111.795528  | 0.441389      |"
      ]
     },
     "metadata": {},
     "output_type": "display_data"
    },
    {
     "data": {
      "text/html": [
       "<pre>| 170       | 5144.050373  | 0.441324      |</pre>"
      ],
      "text/plain": [
       "| 170       | 5144.050373  | 0.441324      |"
      ]
     },
     "metadata": {},
     "output_type": "display_data"
    },
    {
     "data": {
      "text/html": [
       "<pre>| 171       | 5175.828095  | 0.441268      |</pre>"
      ],
      "text/plain": [
       "| 171       | 5175.828095  | 0.441268      |"
      ]
     },
     "metadata": {},
     "output_type": "display_data"
    },
    {
     "data": {
      "text/html": [
       "<pre>| 172       | 5207.324178  | 0.441211      |</pre>"
      ],
      "text/plain": [
       "| 172       | 5207.324178  | 0.441211      |"
      ]
     },
     "metadata": {},
     "output_type": "display_data"
    },
    {
     "data": {
      "text/html": [
       "<pre>| 173       | 5237.285820  | 0.441186      |</pre>"
      ],
      "text/plain": [
       "| 173       | 5237.285820  | 0.441186      |"
      ]
     },
     "metadata": {},
     "output_type": "display_data"
    },
    {
     "data": {
      "text/html": [
       "<pre>| 174       | 5267.740678  | 0.441128      |</pre>"
      ],
      "text/plain": [
       "| 174       | 5267.740678  | 0.441128      |"
      ]
     },
     "metadata": {},
     "output_type": "display_data"
    },
    {
     "data": {
      "text/html": [
       "<pre>| 175       | 5295.437177  | 0.441106      |</pre>"
      ],
      "text/plain": [
       "| 175       | 5295.437177  | 0.441106      |"
      ]
     },
     "metadata": {},
     "output_type": "display_data"
    },
    {
     "data": {
      "text/html": [
       "<pre>| 176       | 5326.913248  | 0.441065      |</pre>"
      ],
      "text/plain": [
       "| 176       | 5326.913248  | 0.441065      |"
      ]
     },
     "metadata": {},
     "output_type": "display_data"
    },
    {
     "data": {
      "text/html": [
       "<pre>| 177       | 5358.597204  | 0.441008      |</pre>"
      ],
      "text/plain": [
       "| 177       | 5358.597204  | 0.441008      |"
      ]
     },
     "metadata": {},
     "output_type": "display_data"
    },
    {
     "data": {
      "text/html": [
       "<pre>| 178       | 5389.216092  | 0.440976      |</pre>"
      ],
      "text/plain": [
       "| 178       | 5389.216092  | 0.440976      |"
      ]
     },
     "metadata": {},
     "output_type": "display_data"
    },
    {
     "data": {
      "text/html": [
       "<pre>| 179       | 5418.298456  | 0.440948      |</pre>"
      ],
      "text/plain": [
       "| 179       | 5418.298456  | 0.440948      |"
      ]
     },
     "metadata": {},
     "output_type": "display_data"
    },
    {
     "data": {
      "text/html": [
       "<pre>| 180       | 5449.847479  | 0.440903      |</pre>"
      ],
      "text/plain": [
       "| 180       | 5449.847479  | 0.440903      |"
      ]
     },
     "metadata": {},
     "output_type": "display_data"
    },
    {
     "data": {
      "text/html": [
       "<pre>| 181       | 5481.208831  | 0.440821      |</pre>"
      ],
      "text/plain": [
       "| 181       | 5481.208831  | 0.440821      |"
      ]
     },
     "metadata": {},
     "output_type": "display_data"
    },
    {
     "data": {
      "text/html": [
       "<pre>| 182       | 5512.468781  | 0.440773      |</pre>"
      ],
      "text/plain": [
       "| 182       | 5512.468781  | 0.440773      |"
      ]
     },
     "metadata": {},
     "output_type": "display_data"
    },
    {
     "data": {
      "text/html": [
       "<pre>| 183       | 5541.052339  | 0.440729      |</pre>"
      ],
      "text/plain": [
       "| 183       | 5541.052339  | 0.440729      |"
      ]
     },
     "metadata": {},
     "output_type": "display_data"
    },
    {
     "data": {
      "text/html": [
       "<pre>| 184       | 5571.603970  | 0.440695      |</pre>"
      ],
      "text/plain": [
       "| 184       | 5571.603970  | 0.440695      |"
      ]
     },
     "metadata": {},
     "output_type": "display_data"
    },
    {
     "data": {
      "text/html": [
       "<pre>| 185       | 5602.782641  | 0.440662      |</pre>"
      ],
      "text/plain": [
       "| 185       | 5602.782641  | 0.440662      |"
      ]
     },
     "metadata": {},
     "output_type": "display_data"
    },
    {
     "data": {
      "text/html": [
       "<pre>| 186       | 5633.547777  | 0.440626      |</pre>"
      ],
      "text/plain": [
       "| 186       | 5633.547777  | 0.440626      |"
      ]
     },
     "metadata": {},
     "output_type": "display_data"
    },
    {
     "data": {
      "text/html": [
       "<pre>| 187       | 5664.637391  | 0.440573      |</pre>"
      ],
      "text/plain": [
       "| 187       | 5664.637391  | 0.440573      |"
      ]
     },
     "metadata": {},
     "output_type": "display_data"
    },
    {
     "data": {
      "text/html": [
       "<pre>| 188       | 5696.099183  | 0.440527      |</pre>"
      ],
      "text/plain": [
       "| 188       | 5696.099183  | 0.440527      |"
      ]
     },
     "metadata": {},
     "output_type": "display_data"
    },
    {
     "data": {
      "text/html": [
       "<pre>| 189       | 5728.564269  | 0.440477      |</pre>"
      ],
      "text/plain": [
       "| 189       | 5728.564269  | 0.440477      |"
      ]
     },
     "metadata": {},
     "output_type": "display_data"
    },
    {
     "data": {
      "text/html": [
       "<pre>| 190       | 5759.840875  | 0.440395      |</pre>"
      ],
      "text/plain": [
       "| 190       | 5759.840875  | 0.440395      |"
      ]
     },
     "metadata": {},
     "output_type": "display_data"
    },
    {
     "data": {
      "text/html": [
       "<pre>| 191       | 5788.394564  | 0.440359      |</pre>"
      ],
      "text/plain": [
       "| 191       | 5788.394564  | 0.440359      |"
      ]
     },
     "metadata": {},
     "output_type": "display_data"
    },
    {
     "data": {
      "text/html": [
       "<pre>| 192       | 5819.182691  | 0.440339      |</pre>"
      ],
      "text/plain": [
       "| 192       | 5819.182691  | 0.440339      |"
      ]
     },
     "metadata": {},
     "output_type": "display_data"
    },
    {
     "data": {
      "text/html": [
       "<pre>| 193       | 5848.722345  | 0.440300      |</pre>"
      ],
      "text/plain": [
       "| 193       | 5848.722345  | 0.440300      |"
      ]
     },
     "metadata": {},
     "output_type": "display_data"
    },
    {
     "data": {
      "text/html": [
       "<pre>| 194       | 5879.659959  | 0.440261      |</pre>"
      ],
      "text/plain": [
       "| 194       | 5879.659959  | 0.440261      |"
      ]
     },
     "metadata": {},
     "output_type": "display_data"
    },
    {
     "data": {
      "text/html": [
       "<pre>| 195       | 5909.247193  | 0.440231      |</pre>"
      ],
      "text/plain": [
       "| 195       | 5909.247193  | 0.440231      |"
      ]
     },
     "metadata": {},
     "output_type": "display_data"
    },
    {
     "data": {
      "text/html": [
       "<pre>| 196       | 5937.569532  | 0.440185      |</pre>"
      ],
      "text/plain": [
       "| 196       | 5937.569532  | 0.440185      |"
      ]
     },
     "metadata": {},
     "output_type": "display_data"
    },
    {
     "data": {
      "text/html": [
       "<pre>| 197       | 5967.927392  | 0.440116      |</pre>"
      ],
      "text/plain": [
       "| 197       | 5967.927392  | 0.440116      |"
      ]
     },
     "metadata": {},
     "output_type": "display_data"
    },
    {
     "data": {
      "text/html": [
       "<pre>| 198       | 5998.199193  | 0.440084      |</pre>"
      ],
      "text/plain": [
       "| 198       | 5998.199193  | 0.440084      |"
      ]
     },
     "metadata": {},
     "output_type": "display_data"
    },
    {
     "data": {
      "text/html": [
       "<pre>| 199       | 6029.452949  | 0.440049      |</pre>"
      ],
      "text/plain": [
       "| 199       | 6029.452949  | 0.440049      |"
      ]
     },
     "metadata": {},
     "output_type": "display_data"
    },
    {
     "data": {
      "text/html": [
       "<pre>| 200       | 6060.410770  | 0.439998      |</pre>"
      ],
      "text/plain": [
       "| 200       | 6060.410770  | 0.439998      |"
      ]
     },
     "metadata": {},
     "output_type": "display_data"
    },
    {
     "data": {
      "text/html": [
       "<pre>| 201       | 6089.915470  | 0.439981      |</pre>"
      ],
      "text/plain": [
       "| 201       | 6089.915470  | 0.439981      |"
      ]
     },
     "metadata": {},
     "output_type": "display_data"
    },
    {
     "data": {
      "text/html": [
       "<pre>| 202       | 6118.434489  | 0.439946      |</pre>"
      ],
      "text/plain": [
       "| 202       | 6118.434489  | 0.439946      |"
      ]
     },
     "metadata": {},
     "output_type": "display_data"
    },
    {
     "data": {
      "text/html": [
       "<pre>| 203       | 6149.404111  | 0.439904      |</pre>"
      ],
      "text/plain": [
       "| 203       | 6149.404111  | 0.439904      |"
      ]
     },
     "metadata": {},
     "output_type": "display_data"
    },
    {
     "data": {
      "text/html": [
       "<pre>| 204       | 6177.795033  | 0.439845      |</pre>"
      ],
      "text/plain": [
       "| 204       | 6177.795033  | 0.439845      |"
      ]
     },
     "metadata": {},
     "output_type": "display_data"
    },
    {
     "data": {
      "text/html": [
       "<pre>| 205       | 6208.858592  | 0.439785      |</pre>"
      ],
      "text/plain": [
       "| 205       | 6208.858592  | 0.439785      |"
      ]
     },
     "metadata": {},
     "output_type": "display_data"
    },
    {
     "data": {
      "text/html": [
       "<pre>| 206       | 6238.608503  | 0.439745      |</pre>"
      ],
      "text/plain": [
       "| 206       | 6238.608503  | 0.439745      |"
      ]
     },
     "metadata": {},
     "output_type": "display_data"
    },
    {
     "data": {
      "text/html": [
       "<pre>| 207       | 6268.453496  | 0.439703      |</pre>"
      ],
      "text/plain": [
       "| 207       | 6268.453496  | 0.439703      |"
      ]
     },
     "metadata": {},
     "output_type": "display_data"
    },
    {
     "data": {
      "text/html": [
       "<pre>| 208       | 6299.394250  | 0.439657      |</pre>"
      ],
      "text/plain": [
       "| 208       | 6299.394250  | 0.439657      |"
      ]
     },
     "metadata": {},
     "output_type": "display_data"
    },
    {
     "data": {
      "text/html": [
       "<pre>| 209       | 6330.625426  | 0.439613      |</pre>"
      ],
      "text/plain": [
       "| 209       | 6330.625426  | 0.439613      |"
      ]
     },
     "metadata": {},
     "output_type": "display_data"
    },
    {
     "data": {
      "text/html": [
       "<pre>| 210       | 6360.070570  | 0.439573      |</pre>"
      ],
      "text/plain": [
       "| 210       | 6360.070570  | 0.439573      |"
      ]
     },
     "metadata": {},
     "output_type": "display_data"
    },
    {
     "data": {
      "text/html": [
       "<pre>| 211       | 6389.907659  | 0.439507      |</pre>"
      ],
      "text/plain": [
       "| 211       | 6389.907659  | 0.439507      |"
      ]
     },
     "metadata": {},
     "output_type": "display_data"
    },
    {
     "data": {
      "text/html": [
       "<pre>| 212       | 6420.917950  | 0.439469      |</pre>"
      ],
      "text/plain": [
       "| 212       | 6420.917950  | 0.439469      |"
      ]
     },
     "metadata": {},
     "output_type": "display_data"
    },
    {
     "data": {
      "text/html": [
       "<pre>| 213       | 6451.099002  | 0.439426      |</pre>"
      ],
      "text/plain": [
       "| 213       | 6451.099002  | 0.439426      |"
      ]
     },
     "metadata": {},
     "output_type": "display_data"
    },
    {
     "data": {
      "text/html": [
       "<pre>| 214       | 6479.663887  | 0.439403      |</pre>"
      ],
      "text/plain": [
       "| 214       | 6479.663887  | 0.439403      |"
      ]
     },
     "metadata": {},
     "output_type": "display_data"
    },
    {
     "data": {
      "text/html": [
       "<pre>| 215       | 6509.875977  | 0.439385      |</pre>"
      ],
      "text/plain": [
       "| 215       | 6509.875977  | 0.439385      |"
      ]
     },
     "metadata": {},
     "output_type": "display_data"
    },
    {
     "data": {
      "text/html": [
       "<pre>| 216       | 6538.868836  | 0.439369      |</pre>"
      ],
      "text/plain": [
       "| 216       | 6538.868836  | 0.439369      |"
      ]
     },
     "metadata": {},
     "output_type": "display_data"
    },
    {
     "data": {
      "text/html": [
       "<pre>| 217       | 6568.073151  | 0.439340      |</pre>"
      ],
      "text/plain": [
       "| 217       | 6568.073151  | 0.439340      |"
      ]
     },
     "metadata": {},
     "output_type": "display_data"
    },
    {
     "data": {
      "text/html": [
       "<pre>| 218       | 6597.607270  | 0.439300      |</pre>"
      ],
      "text/plain": [
       "| 218       | 6597.607270  | 0.439300      |"
      ]
     },
     "metadata": {},
     "output_type": "display_data"
    },
    {
     "data": {
      "text/html": [
       "<pre>| 219       | 6627.466680  | 0.439271      |</pre>"
      ],
      "text/plain": [
       "| 219       | 6627.466680  | 0.439271      |"
      ]
     },
     "metadata": {},
     "output_type": "display_data"
    },
    {
     "data": {
      "text/html": [
       "<pre>| 220       | 6658.483537  | 0.439227      |</pre>"
      ],
      "text/plain": [
       "| 220       | 6658.483537  | 0.439227      |"
      ]
     },
     "metadata": {},
     "output_type": "display_data"
    },
    {
     "data": {
      "text/html": [
       "<pre>| 221       | 6688.289606  | 0.439187      |</pre>"
      ],
      "text/plain": [
       "| 221       | 6688.289606  | 0.439187      |"
      ]
     },
     "metadata": {},
     "output_type": "display_data"
    },
    {
     "data": {
      "text/html": [
       "<pre>| 222       | 6719.112771  | 0.439138      |</pre>"
      ],
      "text/plain": [
       "| 222       | 6719.112771  | 0.439138      |"
      ]
     },
     "metadata": {},
     "output_type": "display_data"
    },
    {
     "data": {
      "text/html": [
       "<pre>| 223       | 6749.527129  | 0.439102      |</pre>"
      ],
      "text/plain": [
       "| 223       | 6749.527129  | 0.439102      |"
      ]
     },
     "metadata": {},
     "output_type": "display_data"
    },
    {
     "data": {
      "text/html": [
       "<pre>| 224       | 6778.967104  | 0.439054      |</pre>"
      ],
      "text/plain": [
       "| 224       | 6778.967104  | 0.439054      |"
      ]
     },
     "metadata": {},
     "output_type": "display_data"
    },
    {
     "data": {
      "text/html": [
       "<pre>| 225       | 6807.371315  | 0.439019      |</pre>"
      ],
      "text/plain": [
       "| 225       | 6807.371315  | 0.439019      |"
      ]
     },
     "metadata": {},
     "output_type": "display_data"
    },
    {
     "data": {
      "text/html": [
       "<pre>| 226       | 6838.265561  | 0.438980      |</pre>"
      ],
      "text/plain": [
       "| 226       | 6838.265561  | 0.438980      |"
      ]
     },
     "metadata": {},
     "output_type": "display_data"
    },
    {
     "data": {
      "text/html": [
       "<pre>| 227       | 6867.906852  | 0.438951      |</pre>"
      ],
      "text/plain": [
       "| 227       | 6867.906852  | 0.438951      |"
      ]
     },
     "metadata": {},
     "output_type": "display_data"
    },
    {
     "data": {
      "text/html": [
       "<pre>| 228       | 6899.169555  | 0.438925      |</pre>"
      ],
      "text/plain": [
       "| 228       | 6899.169555  | 0.438925      |"
      ]
     },
     "metadata": {},
     "output_type": "display_data"
    },
    {
     "data": {
      "text/html": [
       "<pre>| 229       | 6929.591184  | 0.438880      |</pre>"
      ],
      "text/plain": [
       "| 229       | 6929.591184  | 0.438880      |"
      ]
     },
     "metadata": {},
     "output_type": "display_data"
    },
    {
     "data": {
      "text/html": [
       "<pre>| 230       | 6960.334828  | 0.438833      |</pre>"
      ],
      "text/plain": [
       "| 230       | 6960.334828  | 0.438833      |"
      ]
     },
     "metadata": {},
     "output_type": "display_data"
    },
    {
     "data": {
      "text/html": [
       "<pre>| 231       | 6990.054966  | 0.438798      |</pre>"
      ],
      "text/plain": [
       "| 231       | 6990.054966  | 0.438798      |"
      ]
     },
     "metadata": {},
     "output_type": "display_data"
    },
    {
     "data": {
      "text/html": [
       "<pre>| 232       | 7019.011929  | 0.438767      |</pre>"
      ],
      "text/plain": [
       "| 232       | 7019.011929  | 0.438767      |"
      ]
     },
     "metadata": {},
     "output_type": "display_data"
    },
    {
     "data": {
      "text/html": [
       "<pre>| 233       | 7048.603087  | 0.438711      |</pre>"
      ],
      "text/plain": [
       "| 233       | 7048.603087  | 0.438711      |"
      ]
     },
     "metadata": {},
     "output_type": "display_data"
    },
    {
     "data": {
      "text/html": [
       "<pre>| 234       | 7079.185596  | 0.438669      |</pre>"
      ],
      "text/plain": [
       "| 234       | 7079.185596  | 0.438669      |"
      ]
     },
     "metadata": {},
     "output_type": "display_data"
    },
    {
     "data": {
      "text/html": [
       "<pre>| 235       | 7109.256660  | 0.438639      |</pre>"
      ],
      "text/plain": [
       "| 235       | 7109.256660  | 0.438639      |"
      ]
     },
     "metadata": {},
     "output_type": "display_data"
    },
    {
     "data": {
      "text/html": [
       "<pre>| 236       | 7139.739496  | 0.438608      |</pre>"
      ],
      "text/plain": [
       "| 236       | 7139.739496  | 0.438608      |"
      ]
     },
     "metadata": {},
     "output_type": "display_data"
    },
    {
     "data": {
      "text/html": [
       "<pre>| 237       | 7168.240940  | 0.438565      |</pre>"
      ],
      "text/plain": [
       "| 237       | 7168.240940  | 0.438565      |"
      ]
     },
     "metadata": {},
     "output_type": "display_data"
    },
    {
     "data": {
      "text/html": [
       "<pre>| 238       | 7199.144516  | 0.438517      |</pre>"
      ],
      "text/plain": [
       "| 238       | 7199.144516  | 0.438517      |"
      ]
     },
     "metadata": {},
     "output_type": "display_data"
    },
    {
     "data": {
      "text/html": [
       "<pre>| 239       | 7230.913683  | 0.438482      |</pre>"
      ],
      "text/plain": [
       "| 239       | 7230.913683  | 0.438482      |"
      ]
     },
     "metadata": {},
     "output_type": "display_data"
    },
    {
     "data": {
      "text/html": [
       "<pre>| 240       | 7260.933390  | 0.438448      |</pre>"
      ],
      "text/plain": [
       "| 240       | 7260.933390  | 0.438448      |"
      ]
     },
     "metadata": {},
     "output_type": "display_data"
    },
    {
     "data": {
      "text/html": [
       "<pre>| 241       | 7289.926206  | 0.438429      |</pre>"
      ],
      "text/plain": [
       "| 241       | 7289.926206  | 0.438429      |"
      ]
     },
     "metadata": {},
     "output_type": "display_data"
    },
    {
     "data": {
      "text/html": [
       "<pre>| 242       | 7318.574612  | 0.438410      |</pre>"
      ],
      "text/plain": [
       "| 242       | 7318.574612  | 0.438410      |"
      ]
     },
     "metadata": {},
     "output_type": "display_data"
    },
    {
     "data": {
      "text/html": [
       "<pre>| 243       | 7348.570627  | 0.438381      |</pre>"
      ],
      "text/plain": [
       "| 243       | 7348.570627  | 0.438381      |"
      ]
     },
     "metadata": {},
     "output_type": "display_data"
    },
    {
     "data": {
      "text/html": [
       "<pre>| 244       | 7378.477080  | 0.438354      |</pre>"
      ],
      "text/plain": [
       "| 244       | 7378.477080  | 0.438354      |"
      ]
     },
     "metadata": {},
     "output_type": "display_data"
    },
    {
     "data": {
      "text/html": [
       "<pre>| 245       | 7407.894701  | 0.438319      |</pre>"
      ],
      "text/plain": [
       "| 245       | 7407.894701  | 0.438319      |"
      ]
     },
     "metadata": {},
     "output_type": "display_data"
    },
    {
     "data": {
      "text/html": [
       "<pre>| 246       | 7439.617966  | 0.438265      |</pre>"
      ],
      "text/plain": [
       "| 246       | 7439.617966  | 0.438265      |"
      ]
     },
     "metadata": {},
     "output_type": "display_data"
    },
    {
     "data": {
      "text/html": [
       "<pre>| 247       | 7471.295009  | 0.438199      |</pre>"
      ],
      "text/plain": [
       "| 247       | 7471.295009  | 0.438199      |"
      ]
     },
     "metadata": {},
     "output_type": "display_data"
    },
    {
     "data": {
      "text/html": [
       "<pre>| 248       | 7500.570433  | 0.438130      |</pre>"
      ],
      "text/plain": [
       "| 248       | 7500.570433  | 0.438130      |"
      ]
     },
     "metadata": {},
     "output_type": "display_data"
    },
    {
     "data": {
      "text/html": [
       "<pre>| 249       | 7532.652933  | 0.438091      |</pre>"
      ],
      "text/plain": [
       "| 249       | 7532.652933  | 0.438091      |"
      ]
     },
     "metadata": {},
     "output_type": "display_data"
    },
    {
     "data": {
      "text/html": [
       "<pre>| 250       | 7564.297848  | 0.438053      |</pre>"
      ],
      "text/plain": [
       "| 250       | 7564.297848  | 0.438053      |"
      ]
     },
     "metadata": {},
     "output_type": "display_data"
    },
    {
     "data": {
      "text/html": [
       "<pre>| 251       | 7594.998424  | 0.438016      |</pre>"
      ],
      "text/plain": [
       "| 251       | 7594.998424  | 0.438016      |"
      ]
     },
     "metadata": {},
     "output_type": "display_data"
    },
    {
     "data": {
      "text/html": [
       "<pre>| 252       | 7626.243512  | 0.437969      |</pre>"
      ],
      "text/plain": [
       "| 252       | 7626.243512  | 0.437969      |"
      ]
     },
     "metadata": {},
     "output_type": "display_data"
    },
    {
     "data": {
      "text/html": [
       "<pre>| 253       | 7657.704258  | 0.437936      |</pre>"
      ],
      "text/plain": [
       "| 253       | 7657.704258  | 0.437936      |"
      ]
     },
     "metadata": {},
     "output_type": "display_data"
    },
    {
     "data": {
      "text/html": [
       "<pre>| 254       | 7688.429379  | 0.437905      |</pre>"
      ],
      "text/plain": [
       "| 254       | 7688.429379  | 0.437905      |"
      ]
     },
     "metadata": {},
     "output_type": "display_data"
    },
    {
     "data": {
      "text/html": [
       "<pre>| 255       | 7717.639916  | 0.437856      |</pre>"
      ],
      "text/plain": [
       "| 255       | 7717.639916  | 0.437856      |"
      ]
     },
     "metadata": {},
     "output_type": "display_data"
    },
    {
     "data": {
      "text/html": [
       "<pre>| 256       | 7747.698020  | 0.437819      |</pre>"
      ],
      "text/plain": [
       "| 256       | 7747.698020  | 0.437819      |"
      ]
     },
     "metadata": {},
     "output_type": "display_data"
    },
    {
     "data": {
      "text/html": [
       "<pre>| 257       | 7777.213882  | 0.437781      |</pre>"
      ],
      "text/plain": [
       "| 257       | 7777.213882  | 0.437781      |"
      ]
     },
     "metadata": {},
     "output_type": "display_data"
    },
    {
     "data": {
      "text/html": [
       "<pre>| 258       | 7807.183580  | 0.437746      |</pre>"
      ],
      "text/plain": [
       "| 258       | 7807.183580  | 0.437746      |"
      ]
     },
     "metadata": {},
     "output_type": "display_data"
    },
    {
     "data": {
      "text/html": [
       "<pre>| 259       | 7838.012072  | 0.437719      |</pre>"
      ],
      "text/plain": [
       "| 259       | 7838.012072  | 0.437719      |"
      ]
     },
     "metadata": {},
     "output_type": "display_data"
    },
    {
     "data": {
      "text/html": [
       "<pre>| 260       | 7868.102671  | 0.437689      |</pre>"
      ],
      "text/plain": [
       "| 260       | 7868.102671  | 0.437689      |"
      ]
     },
     "metadata": {},
     "output_type": "display_data"
    },
    {
     "data": {
      "text/html": [
       "<pre>| 261       | 7898.011876  | 0.437663      |</pre>"
      ],
      "text/plain": [
       "| 261       | 7898.011876  | 0.437663      |"
      ]
     },
     "metadata": {},
     "output_type": "display_data"
    },
    {
     "data": {
      "text/html": [
       "<pre>| 262       | 7928.280709  | 0.437636      |</pre>"
      ],
      "text/plain": [
       "| 262       | 7928.280709  | 0.437636      |"
      ]
     },
     "metadata": {},
     "output_type": "display_data"
    },
    {
     "data": {
      "text/html": [
       "<pre>| 263       | 7956.235823  | 0.437592      |</pre>"
      ],
      "text/plain": [
       "| 263       | 7956.235823  | 0.437592      |"
      ]
     },
     "metadata": {},
     "output_type": "display_data"
    },
    {
     "data": {
      "text/html": [
       "<pre>| 264       | 7987.004209  | 0.437542      |</pre>"
      ],
      "text/plain": [
       "| 264       | 7987.004209  | 0.437542      |"
      ]
     },
     "metadata": {},
     "output_type": "display_data"
    },
    {
     "data": {
      "text/html": [
       "<pre>| 265       | 8016.245603  | 0.437502      |</pre>"
      ],
      "text/plain": [
       "| 265       | 8016.245603  | 0.437502      |"
      ]
     },
     "metadata": {},
     "output_type": "display_data"
    },
    {
     "data": {
      "text/html": [
       "<pre>| 266       | 8046.374878  | 0.437470      |</pre>"
      ],
      "text/plain": [
       "| 266       | 8046.374878  | 0.437470      |"
      ]
     },
     "metadata": {},
     "output_type": "display_data"
    },
    {
     "data": {
      "text/html": [
       "<pre>| 267       | 8078.600524  | 0.437432      |</pre>"
      ],
      "text/plain": [
       "| 267       | 8078.600524  | 0.437432      |"
      ]
     },
     "metadata": {},
     "output_type": "display_data"
    },
    {
     "data": {
      "text/html": [
       "<pre>| 268       | 8110.664017  | 0.437389      |</pre>"
      ],
      "text/plain": [
       "| 268       | 8110.664017  | 0.437389      |"
      ]
     },
     "metadata": {},
     "output_type": "display_data"
    },
    {
     "data": {
      "text/html": [
       "<pre>| 269       | 8141.577154  | 0.437370      |</pre>"
      ],
      "text/plain": [
       "| 269       | 8141.577154  | 0.437370      |"
      ]
     },
     "metadata": {},
     "output_type": "display_data"
    },
    {
     "data": {
      "text/html": [
       "<pre>| 270       | 8171.667787  | 0.437348      |</pre>"
      ],
      "text/plain": [
       "| 270       | 8171.667787  | 0.437348      |"
      ]
     },
     "metadata": {},
     "output_type": "display_data"
    },
    {
     "data": {
      "text/html": [
       "<pre>| 271       | 8202.598349  | 0.437319      |</pre>"
      ],
      "text/plain": [
       "| 271       | 8202.598349  | 0.437319      |"
      ]
     },
     "metadata": {},
     "output_type": "display_data"
    },
    {
     "data": {
      "text/html": [
       "<pre>| 272       | 8233.794313  | 0.437290      |</pre>"
      ],
      "text/plain": [
       "| 272       | 8233.794313  | 0.437290      |"
      ]
     },
     "metadata": {},
     "output_type": "display_data"
    },
    {
     "data": {
      "text/html": [
       "<pre>| 273       | 8263.504078  | 0.437262      |</pre>"
      ],
      "text/plain": [
       "| 273       | 8263.504078  | 0.437262      |"
      ]
     },
     "metadata": {},
     "output_type": "display_data"
    },
    {
     "data": {
      "text/html": [
       "<pre>| 274       | 8294.007064  | 0.437218      |</pre>"
      ],
      "text/plain": [
       "| 274       | 8294.007064  | 0.437218      |"
      ]
     },
     "metadata": {},
     "output_type": "display_data"
    },
    {
     "data": {
      "text/html": [
       "<pre>| 275       | 8324.129695  | 0.437193      |</pre>"
      ],
      "text/plain": [
       "| 275       | 8324.129695  | 0.437193      |"
      ]
     },
     "metadata": {},
     "output_type": "display_data"
    },
    {
     "data": {
      "text/html": [
       "<pre>| 276       | 8354.663413  | 0.437172      |</pre>"
      ],
      "text/plain": [
       "| 276       | 8354.663413  | 0.437172      |"
      ]
     },
     "metadata": {},
     "output_type": "display_data"
    },
    {
     "data": {
      "text/html": [
       "<pre>| 277       | 8385.268034  | 0.437127      |</pre>"
      ],
      "text/plain": [
       "| 277       | 8385.268034  | 0.437127      |"
      ]
     },
     "metadata": {},
     "output_type": "display_data"
    },
    {
     "data": {
      "text/html": [
       "<pre>| 278       | 8415.058130  | 0.437079      |</pre>"
      ],
      "text/plain": [
       "| 278       | 8415.058130  | 0.437079      |"
      ]
     },
     "metadata": {},
     "output_type": "display_data"
    },
    {
     "data": {
      "text/html": [
       "<pre>| 279       | 8445.273881  | 0.437054      |</pre>"
      ],
      "text/plain": [
       "| 279       | 8445.273881  | 0.437054      |"
      ]
     },
     "metadata": {},
     "output_type": "display_data"
    },
    {
     "data": {
      "text/html": [
       "<pre>| 280       | 8475.680947  | 0.437024      |</pre>"
      ],
      "text/plain": [
       "| 280       | 8475.680947  | 0.437024      |"
      ]
     },
     "metadata": {},
     "output_type": "display_data"
    },
    {
     "data": {
      "text/html": [
       "<pre>| 281       | 8506.813615  | 0.436992      |</pre>"
      ],
      "text/plain": [
       "| 281       | 8506.813615  | 0.436992      |"
      ]
     },
     "metadata": {},
     "output_type": "display_data"
    },
    {
     "data": {
      "text/html": [
       "<pre>| 282       | 8537.030799  | 0.436963      |</pre>"
      ],
      "text/plain": [
       "| 282       | 8537.030799  | 0.436963      |"
      ]
     },
     "metadata": {},
     "output_type": "display_data"
    },
    {
     "data": {
      "text/html": [
       "<pre>| 283       | 8569.313507  | 0.436927      |</pre>"
      ],
      "text/plain": [
       "| 283       | 8569.313507  | 0.436927      |"
      ]
     },
     "metadata": {},
     "output_type": "display_data"
    },
    {
     "data": {
      "text/html": [
       "<pre>| 284       | 8600.177944  | 0.436911      |</pre>"
      ],
      "text/plain": [
       "| 284       | 8600.177944  | 0.436911      |"
      ]
     },
     "metadata": {},
     "output_type": "display_data"
    },
    {
     "data": {
      "text/html": [
       "<pre>| 285       | 8632.401701  | 0.436888      |</pre>"
      ],
      "text/plain": [
       "| 285       | 8632.401701  | 0.436888      |"
      ]
     },
     "metadata": {},
     "output_type": "display_data"
    },
    {
     "data": {
      "text/html": [
       "<pre>| 286       | 8662.793519  | 0.436855      |</pre>"
      ],
      "text/plain": [
       "| 286       | 8662.793519  | 0.436855      |"
      ]
     },
     "metadata": {},
     "output_type": "display_data"
    },
    {
     "data": {
      "text/html": [
       "<pre>| 287       | 8693.561497  | 0.436799      |</pre>"
      ],
      "text/plain": [
       "| 287       | 8693.561497  | 0.436799      |"
      ]
     },
     "metadata": {},
     "output_type": "display_data"
    },
    {
     "data": {
      "text/html": [
       "<pre>| 288       | 8723.758458  | 0.436772      |</pre>"
      ],
      "text/plain": [
       "| 288       | 8723.758458  | 0.436772      |"
      ]
     },
     "metadata": {},
     "output_type": "display_data"
    },
    {
     "data": {
      "text/html": [
       "<pre>| 289       | 8752.521162  | 0.436762      |</pre>"
      ],
      "text/plain": [
       "| 289       | 8752.521162  | 0.436762      |"
      ]
     },
     "metadata": {},
     "output_type": "display_data"
    },
    {
     "data": {
      "text/html": [
       "<pre>| 290       | 8783.119291  | 0.436721      |</pre>"
      ],
      "text/plain": [
       "| 290       | 8783.119291  | 0.436721      |"
      ]
     },
     "metadata": {},
     "output_type": "display_data"
    },
    {
     "data": {
      "text/html": [
       "<pre>| 291       | 8812.618075  | 0.436684      |</pre>"
      ],
      "text/plain": [
       "| 291       | 8812.618075  | 0.436684      |"
      ]
     },
     "metadata": {},
     "output_type": "display_data"
    },
    {
     "data": {
      "text/html": [
       "<pre>| 292       | 8841.641066  | 0.436653      |</pre>"
      ],
      "text/plain": [
       "| 292       | 8841.641066  | 0.436653      |"
      ]
     },
     "metadata": {},
     "output_type": "display_data"
    },
    {
     "data": {
      "text/html": [
       "<pre>| 293       | 8871.437656  | 0.436618      |</pre>"
      ],
      "text/plain": [
       "| 293       | 8871.437656  | 0.436618      |"
      ]
     },
     "metadata": {},
     "output_type": "display_data"
    },
    {
     "data": {
      "text/html": [
       "<pre>| 294       | 8900.017641  | 0.436592      |</pre>"
      ],
      "text/plain": [
       "| 294       | 8900.017641  | 0.436592      |"
      ]
     },
     "metadata": {},
     "output_type": "display_data"
    },
    {
     "data": {
      "text/html": [
       "<pre>| 295       | 8928.612167  | 0.436568      |</pre>"
      ],
      "text/plain": [
       "| 295       | 8928.612167  | 0.436568      |"
      ]
     },
     "metadata": {},
     "output_type": "display_data"
    },
    {
     "data": {
      "text/html": [
       "<pre>| 296       | 8957.221959  | 0.436538      |</pre>"
      ],
      "text/plain": [
       "| 296       | 8957.221959  | 0.436538      |"
      ]
     },
     "metadata": {},
     "output_type": "display_data"
    },
    {
     "data": {
      "text/html": [
       "<pre>| 297       | 8988.526913  | 0.436502      |</pre>"
      ],
      "text/plain": [
       "| 297       | 8988.526913  | 0.436502      |"
      ]
     },
     "metadata": {},
     "output_type": "display_data"
    },
    {
     "data": {
      "text/html": [
       "<pre>| 298       | 9017.046946  | 0.436482      |</pre>"
      ],
      "text/plain": [
       "| 298       | 9017.046946  | 0.436482      |"
      ]
     },
     "metadata": {},
     "output_type": "display_data"
    },
    {
     "data": {
      "text/html": [
       "<pre>| 299       | 9047.523616  | 0.436463      |</pre>"
      ],
      "text/plain": [
       "| 299       | 9047.523616  | 0.436463      |"
      ]
     },
     "metadata": {},
     "output_type": "display_data"
    },
    {
     "data": {
      "text/html": [
       "<pre>| 300       | 9077.461187  | 0.436442      |</pre>"
      ],
      "text/plain": [
       "| 300       | 9077.461187  | 0.436442      |"
      ]
     },
     "metadata": {},
     "output_type": "display_data"
    },
    {
     "data": {
      "text/html": [
       "<pre>| 301       | 9107.699239  | 0.436410      |</pre>"
      ],
      "text/plain": [
       "| 301       | 9107.699239  | 0.436410      |"
      ]
     },
     "metadata": {},
     "output_type": "display_data"
    },
    {
     "data": {
      "text/html": [
       "<pre>| 302       | 9138.482302  | 0.436372      |</pre>"
      ],
      "text/plain": [
       "| 302       | 9138.482302  | 0.436372      |"
      ]
     },
     "metadata": {},
     "output_type": "display_data"
    },
    {
     "data": {
      "text/html": [
       "<pre>| 303       | 9169.208531  | 0.436327      |</pre>"
      ],
      "text/plain": [
       "| 303       | 9169.208531  | 0.436327      |"
      ]
     },
     "metadata": {},
     "output_type": "display_data"
    },
    {
     "data": {
      "text/html": [
       "<pre>| 304       | 9198.635074  | 0.436292      |</pre>"
      ],
      "text/plain": [
       "| 304       | 9198.635074  | 0.436292      |"
      ]
     },
     "metadata": {},
     "output_type": "display_data"
    },
    {
     "data": {
      "text/html": [
       "<pre>| 305       | 9228.660246  | 0.436248      |</pre>"
      ],
      "text/plain": [
       "| 305       | 9228.660246  | 0.436248      |"
      ]
     },
     "metadata": {},
     "output_type": "display_data"
    },
    {
     "data": {
      "text/html": [
       "<pre>| 306       | 9259.287645  | 0.436224      |</pre>"
      ],
      "text/plain": [
       "| 306       | 9259.287645  | 0.436224      |"
      ]
     },
     "metadata": {},
     "output_type": "display_data"
    },
    {
     "data": {
      "text/html": [
       "<pre>| 307       | 9289.745876  | 0.436206      |</pre>"
      ],
      "text/plain": [
       "| 307       | 9289.745876  | 0.436206      |"
      ]
     },
     "metadata": {},
     "output_type": "display_data"
    },
    {
     "data": {
      "text/html": [
       "<pre>| 308       | 9320.788057  | 0.436167      |</pre>"
      ],
      "text/plain": [
       "| 308       | 9320.788057  | 0.436167      |"
      ]
     },
     "metadata": {},
     "output_type": "display_data"
    },
    {
     "data": {
      "text/html": [
       "<pre>| 309       | 9351.200425  | 0.436143      |</pre>"
      ],
      "text/plain": [
       "| 309       | 9351.200425  | 0.436143      |"
      ]
     },
     "metadata": {},
     "output_type": "display_data"
    },
    {
     "data": {
      "text/html": [
       "<pre>| 310       | 9381.667169  | 0.436098      |</pre>"
      ],
      "text/plain": [
       "| 310       | 9381.667169  | 0.436098      |"
      ]
     },
     "metadata": {},
     "output_type": "display_data"
    },
    {
     "data": {
      "text/html": [
       "<pre>| 311       | 9411.881987  | 0.436087      |</pre>"
      ],
      "text/plain": [
       "| 311       | 9411.881987  | 0.436087      |"
      ]
     },
     "metadata": {},
     "output_type": "display_data"
    },
    {
     "data": {
      "text/html": [
       "<pre>| 312       | 9442.696207  | 0.436054      |</pre>"
      ],
      "text/plain": [
       "| 312       | 9442.696207  | 0.436054      |"
      ]
     },
     "metadata": {},
     "output_type": "display_data"
    },
    {
     "data": {
      "text/html": [
       "<pre>| 313       | 9472.528391  | 0.436035      |</pre>"
      ],
      "text/plain": [
       "| 313       | 9472.528391  | 0.436035      |"
      ]
     },
     "metadata": {},
     "output_type": "display_data"
    },
    {
     "data": {
      "text/html": [
       "<pre>| 314       | 9501.833594  | 0.436015      |</pre>"
      ],
      "text/plain": [
       "| 314       | 9501.833594  | 0.436015      |"
      ]
     },
     "metadata": {},
     "output_type": "display_data"
    },
    {
     "data": {
      "text/html": [
       "<pre>| 315       | 9532.314536  | 0.435993      |</pre>"
      ],
      "text/plain": [
       "| 315       | 9532.314536  | 0.435993      |"
      ]
     },
     "metadata": {},
     "output_type": "display_data"
    },
    {
     "data": {
      "text/html": [
       "<pre>| 316       | 9563.301257  | 0.435970      |</pre>"
      ],
      "text/plain": [
       "| 316       | 9563.301257  | 0.435970      |"
      ]
     },
     "metadata": {},
     "output_type": "display_data"
    },
    {
     "data": {
      "text/html": [
       "<pre>| 317       | 9593.809483  | 0.435944      |</pre>"
      ],
      "text/plain": [
       "| 317       | 9593.809483  | 0.435944      |"
      ]
     },
     "metadata": {},
     "output_type": "display_data"
    },
    {
     "data": {
      "text/html": [
       "<pre>| 318       | 9623.029786  | 0.435914      |</pre>"
      ],
      "text/plain": [
       "| 318       | 9623.029786  | 0.435914      |"
      ]
     },
     "metadata": {},
     "output_type": "display_data"
    },
    {
     "data": {
      "text/html": [
       "<pre>| 319       | 9653.056774  | 0.435873      |</pre>"
      ],
      "text/plain": [
       "| 319       | 9653.056774  | 0.435873      |"
      ]
     },
     "metadata": {},
     "output_type": "display_data"
    },
    {
     "data": {
      "text/html": [
       "<pre>| 320       | 9684.315891  | 0.435845      |</pre>"
      ],
      "text/plain": [
       "| 320       | 9684.315891  | 0.435845      |"
      ]
     },
     "metadata": {},
     "output_type": "display_data"
    },
    {
     "data": {
      "text/html": [
       "<pre>| 321       | 9714.754624  | 0.435823      |</pre>"
      ],
      "text/plain": [
       "| 321       | 9714.754624  | 0.435823      |"
      ]
     },
     "metadata": {},
     "output_type": "display_data"
    },
    {
     "data": {
      "text/html": [
       "<pre>| 322       | 9744.028593  | 0.435802      |</pre>"
      ],
      "text/plain": [
       "| 322       | 9744.028593  | 0.435802      |"
      ]
     },
     "metadata": {},
     "output_type": "display_data"
    },
    {
     "data": {
      "text/html": [
       "<pre>| 323       | 9771.880155  | 0.435762      |</pre>"
      ],
      "text/plain": [
       "| 323       | 9771.880155  | 0.435762      |"
      ]
     },
     "metadata": {},
     "output_type": "display_data"
    },
    {
     "data": {
      "text/html": [
       "<pre>| 324       | 9803.186970  | 0.435731      |</pre>"
      ],
      "text/plain": [
       "| 324       | 9803.186970  | 0.435731      |"
      ]
     },
     "metadata": {},
     "output_type": "display_data"
    },
    {
     "data": {
      "text/html": [
       "<pre>| 325       | 9833.462683  | 0.435716      |</pre>"
      ],
      "text/plain": [
       "| 325       | 9833.462683  | 0.435716      |"
      ]
     },
     "metadata": {},
     "output_type": "display_data"
    },
    {
     "data": {
      "text/html": [
       "<pre>| 326       | 9863.351679  | 0.435688      |</pre>"
      ],
      "text/plain": [
       "| 326       | 9863.351679  | 0.435688      |"
      ]
     },
     "metadata": {},
     "output_type": "display_data"
    },
    {
     "data": {
      "text/html": [
       "<pre>| 327       | 9892.889157  | 0.435670      |</pre>"
      ],
      "text/plain": [
       "| 327       | 9892.889157  | 0.435670      |"
      ]
     },
     "metadata": {},
     "output_type": "display_data"
    },
    {
     "data": {
      "text/html": [
       "<pre>| 328       | 9922.342471  | 0.435644      |</pre>"
      ],
      "text/plain": [
       "| 328       | 9922.342471  | 0.435644      |"
      ]
     },
     "metadata": {},
     "output_type": "display_data"
    },
    {
     "data": {
      "text/html": [
       "<pre>| 329       | 9951.672213  | 0.435626      |</pre>"
      ],
      "text/plain": [
       "| 329       | 9951.672213  | 0.435626      |"
      ]
     },
     "metadata": {},
     "output_type": "display_data"
    },
    {
     "data": {
      "text/html": [
       "<pre>| 330       | 9981.881104  | 0.435604      |</pre>"
      ],
      "text/plain": [
       "| 330       | 9981.881104  | 0.435604      |"
      ]
     },
     "metadata": {},
     "output_type": "display_data"
    },
    {
     "data": {
      "text/html": [
       "<pre>| 331       | 10012.720827 | 0.435580      |</pre>"
      ],
      "text/plain": [
       "| 331       | 10012.720827 | 0.435580      |"
      ]
     },
     "metadata": {},
     "output_type": "display_data"
    },
    {
     "data": {
      "text/html": [
       "<pre>| 332       | 10042.251270 | 0.435557      |</pre>"
      ],
      "text/plain": [
       "| 332       | 10042.251270 | 0.435557      |"
      ]
     },
     "metadata": {},
     "output_type": "display_data"
    },
    {
     "data": {
      "text/html": [
       "<pre>| 333       | 10072.655593 | 0.435525      |</pre>"
      ],
      "text/plain": [
       "| 333       | 10072.655593 | 0.435525      |"
      ]
     },
     "metadata": {},
     "output_type": "display_data"
    },
    {
     "data": {
      "text/html": [
       "<pre>| 334       | 10102.582205 | 0.435488      |</pre>"
      ],
      "text/plain": [
       "| 334       | 10102.582205 | 0.435488      |"
      ]
     },
     "metadata": {},
     "output_type": "display_data"
    },
    {
     "data": {
      "text/html": [
       "<pre>| 335       | 10132.537811 | 0.435474      |</pre>"
      ],
      "text/plain": [
       "| 335       | 10132.537811 | 0.435474      |"
      ]
     },
     "metadata": {},
     "output_type": "display_data"
    },
    {
     "data": {
      "text/html": [
       "<pre>| 336       | 10161.672748 | 0.435462      |</pre>"
      ],
      "text/plain": [
       "| 336       | 10161.672748 | 0.435462      |"
      ]
     },
     "metadata": {},
     "output_type": "display_data"
    },
    {
     "data": {
      "text/html": [
       "<pre>| 337       | 10191.807542 | 0.435433      |</pre>"
      ],
      "text/plain": [
       "| 337       | 10191.807542 | 0.435433      |"
      ]
     },
     "metadata": {},
     "output_type": "display_data"
    },
    {
     "data": {
      "text/html": [
       "<pre>| 338       | 10222.502860 | 0.435404      |</pre>"
      ],
      "text/plain": [
       "| 338       | 10222.502860 | 0.435404      |"
      ]
     },
     "metadata": {},
     "output_type": "display_data"
    },
    {
     "data": {
      "text/html": [
       "<pre>| 339       | 10250.309322 | 0.435387      |</pre>"
      ],
      "text/plain": [
       "| 339       | 10250.309322 | 0.435387      |"
      ]
     },
     "metadata": {},
     "output_type": "display_data"
    },
    {
     "data": {
      "text/html": [
       "<pre>| 340       | 10279.310973 | 0.435376      |</pre>"
      ],
      "text/plain": [
       "| 340       | 10279.310973 | 0.435376      |"
      ]
     },
     "metadata": {},
     "output_type": "display_data"
    },
    {
     "data": {
      "text/html": [
       "<pre>| 341       | 10307.628317 | 0.435362      |</pre>"
      ],
      "text/plain": [
       "| 341       | 10307.628317 | 0.435362      |"
      ]
     },
     "metadata": {},
     "output_type": "display_data"
    },
    {
     "data": {
      "text/html": [
       "<pre>| 342       | 10337.766273 | 0.435321      |</pre>"
      ],
      "text/plain": [
       "| 342       | 10337.766273 | 0.435321      |"
      ]
     },
     "metadata": {},
     "output_type": "display_data"
    },
    {
     "data": {
      "text/html": [
       "<pre>| 343       | 10367.693300 | 0.435315      |</pre>"
      ],
      "text/plain": [
       "| 343       | 10367.693300 | 0.435315      |"
      ]
     },
     "metadata": {},
     "output_type": "display_data"
    },
    {
     "data": {
      "text/html": [
       "<pre>| 344       | 10397.984843 | 0.435292      |</pre>"
      ],
      "text/plain": [
       "| 344       | 10397.984843 | 0.435292      |"
      ]
     },
     "metadata": {},
     "output_type": "display_data"
    },
    {
     "data": {
      "text/html": [
       "<pre>| 345       | 10427.100073 | 0.435277      |</pre>"
      ],
      "text/plain": [
       "| 345       | 10427.100073 | 0.435277      |"
      ]
     },
     "metadata": {},
     "output_type": "display_data"
    },
    {
     "data": {
      "text/html": [
       "<pre>| 346       | 10458.318995 | 0.435253      |</pre>"
      ],
      "text/plain": [
       "| 346       | 10458.318995 | 0.435253      |"
      ]
     },
     "metadata": {},
     "output_type": "display_data"
    },
    {
     "data": {
      "text/html": [
       "<pre>| 347       | 10487.820854 | 0.435237      |</pre>"
      ],
      "text/plain": [
       "| 347       | 10487.820854 | 0.435237      |"
      ]
     },
     "metadata": {},
     "output_type": "display_data"
    },
    {
     "data": {
      "text/html": [
       "<pre>| 348       | 10518.705782 | 0.435214      |</pre>"
      ],
      "text/plain": [
       "| 348       | 10518.705782 | 0.435214      |"
      ]
     },
     "metadata": {},
     "output_type": "display_data"
    },
    {
     "data": {
      "text/html": [
       "<pre>| 349       | 10548.718858 | 0.435185      |</pre>"
      ],
      "text/plain": [
       "| 349       | 10548.718858 | 0.435185      |"
      ]
     },
     "metadata": {},
     "output_type": "display_data"
    },
    {
     "data": {
      "text/html": [
       "<pre>| 350       | 10579.021132 | 0.435146      |</pre>"
      ],
      "text/plain": [
       "| 350       | 10579.021132 | 0.435146      |"
      ]
     },
     "metadata": {},
     "output_type": "display_data"
    },
    {
     "data": {
      "text/html": [
       "<pre>| 351       | 10608.259022 | 0.435129      |</pre>"
      ],
      "text/plain": [
       "| 351       | 10608.259022 | 0.435129      |"
      ]
     },
     "metadata": {},
     "output_type": "display_data"
    },
    {
     "data": {
      "text/html": [
       "<pre>| 352       | 10637.885785 | 0.435110      |</pre>"
      ],
      "text/plain": [
       "| 352       | 10637.885785 | 0.435110      |"
      ]
     },
     "metadata": {},
     "output_type": "display_data"
    },
    {
     "data": {
      "text/html": [
       "<pre>| 353       | 10669.798724 | 0.435076      |</pre>"
      ],
      "text/plain": [
       "| 353       | 10669.798724 | 0.435076      |"
      ]
     },
     "metadata": {},
     "output_type": "display_data"
    },
    {
     "data": {
      "text/html": [
       "<pre>| 354       | 10700.279459 | 0.435041      |</pre>"
      ],
      "text/plain": [
       "| 354       | 10700.279459 | 0.435041      |"
      ]
     },
     "metadata": {},
     "output_type": "display_data"
    },
    {
     "data": {
      "text/html": [
       "<pre>| 355       | 10729.608572 | 0.435036      |</pre>"
      ],
      "text/plain": [
       "| 355       | 10729.608572 | 0.435036      |"
      ]
     },
     "metadata": {},
     "output_type": "display_data"
    },
    {
     "data": {
      "text/html": [
       "<pre>| 356       | 10760.284304 | 0.435006      |</pre>"
      ],
      "text/plain": [
       "| 356       | 10760.284304 | 0.435006      |"
      ]
     },
     "metadata": {},
     "output_type": "display_data"
    },
    {
     "data": {
      "text/html": [
       "<pre>| 357       | 10792.296192 | 0.434988      |</pre>"
      ],
      "text/plain": [
       "| 357       | 10792.296192 | 0.434988      |"
      ]
     },
     "metadata": {},
     "output_type": "display_data"
    },
    {
     "data": {
      "text/html": [
       "<pre>| 358       | 10820.548159 | 0.434949      |</pre>"
      ],
      "text/plain": [
       "| 358       | 10820.548159 | 0.434949      |"
      ]
     },
     "metadata": {},
     "output_type": "display_data"
    },
    {
     "data": {
      "text/html": [
       "<pre>| 359       | 10852.226702 | 0.434921      |</pre>"
      ],
      "text/plain": [
       "| 359       | 10852.226702 | 0.434921      |"
      ]
     },
     "metadata": {},
     "output_type": "display_data"
    },
    {
     "data": {
      "text/html": [
       "<pre>| 360       | 10882.504750 | 0.434898      |</pre>"
      ],
      "text/plain": [
       "| 360       | 10882.504750 | 0.434898      |"
      ]
     },
     "metadata": {},
     "output_type": "display_data"
    },
    {
     "data": {
      "text/html": [
       "<pre>| 361       | 10911.082422 | 0.434856      |</pre>"
      ],
      "text/plain": [
       "| 361       | 10911.082422 | 0.434856      |"
      ]
     },
     "metadata": {},
     "output_type": "display_data"
    },
    {
     "data": {
      "text/html": [
       "<pre>| 362       | 10943.022595 | 0.434828      |</pre>"
      ],
      "text/plain": [
       "| 362       | 10943.022595 | 0.434828      |"
      ]
     },
     "metadata": {},
     "output_type": "display_data"
    },
    {
     "data": {
      "text/html": [
       "<pre>| 363       | 10972.899455 | 0.434811      |</pre>"
      ],
      "text/plain": [
       "| 363       | 10972.899455 | 0.434811      |"
      ]
     },
     "metadata": {},
     "output_type": "display_data"
    },
    {
     "data": {
      "text/html": [
       "<pre>| 364       | 11003.926363 | 0.434782      |</pre>"
      ],
      "text/plain": [
       "| 364       | 11003.926363 | 0.434782      |"
      ]
     },
     "metadata": {},
     "output_type": "display_data"
    },
    {
     "data": {
      "text/html": [
       "<pre>| 365       | 11032.024705 | 0.434764      |</pre>"
      ],
      "text/plain": [
       "| 365       | 11032.024705 | 0.434764      |"
      ]
     },
     "metadata": {},
     "output_type": "display_data"
    },
    {
     "data": {
      "text/html": [
       "<pre>| 366       | 11061.041244 | 0.434739      |</pre>"
      ],
      "text/plain": [
       "| 366       | 11061.041244 | 0.434739      |"
      ]
     },
     "metadata": {},
     "output_type": "display_data"
    },
    {
     "data": {
      "text/html": [
       "<pre>| 367       | 11088.969233 | 0.434722      |</pre>"
      ],
      "text/plain": [
       "| 367       | 11088.969233 | 0.434722      |"
      ]
     },
     "metadata": {},
     "output_type": "display_data"
    },
    {
     "data": {
      "text/html": [
       "<pre>| 368       | 11120.374499 | 0.434700      |</pre>"
      ],
      "text/plain": [
       "| 368       | 11120.374499 | 0.434700      |"
      ]
     },
     "metadata": {},
     "output_type": "display_data"
    },
    {
     "data": {
      "text/html": [
       "<pre>| 369       | 11150.082830 | 0.434663      |</pre>"
      ],
      "text/plain": [
       "| 369       | 11150.082830 | 0.434663      |"
      ]
     },
     "metadata": {},
     "output_type": "display_data"
    },
    {
     "data": {
      "text/html": [
       "<pre>| 370       | 11177.025903 | 0.434634      |</pre>"
      ],
      "text/plain": [
       "| 370       | 11177.025903 | 0.434634      |"
      ]
     },
     "metadata": {},
     "output_type": "display_data"
    },
    {
     "data": {
      "text/html": [
       "<pre>| 371       | 11204.995417 | 0.434625      |</pre>"
      ],
      "text/plain": [
       "| 371       | 11204.995417 | 0.434625      |"
      ]
     },
     "metadata": {},
     "output_type": "display_data"
    },
    {
     "data": {
      "text/html": [
       "<pre>| 372       | 11234.176170 | 0.434602      |</pre>"
      ],
      "text/plain": [
       "| 372       | 11234.176170 | 0.434602      |"
      ]
     },
     "metadata": {},
     "output_type": "display_data"
    },
    {
     "data": {
      "text/html": [
       "<pre>| 373       | 11262.749553 | 0.434579      |</pre>"
      ],
      "text/plain": [
       "| 373       | 11262.749553 | 0.434579      |"
      ]
     },
     "metadata": {},
     "output_type": "display_data"
    },
    {
     "data": {
      "text/html": [
       "<pre>| 374       | 11292.441501 | 0.434565      |</pre>"
      ],
      "text/plain": [
       "| 374       | 11292.441501 | 0.434565      |"
      ]
     },
     "metadata": {},
     "output_type": "display_data"
    },
    {
     "data": {
      "text/html": [
       "<pre>| 375       | 11321.537854 | 0.434555      |</pre>"
      ],
      "text/plain": [
       "| 375       | 11321.537854 | 0.434555      |"
      ]
     },
     "metadata": {},
     "output_type": "display_data"
    },
    {
     "data": {
      "text/html": [
       "<pre>| 376       | 11351.790862 | 0.434536      |</pre>"
      ],
      "text/plain": [
       "| 376       | 11351.790862 | 0.434536      |"
      ]
     },
     "metadata": {},
     "output_type": "display_data"
    },
    {
     "data": {
      "text/html": [
       "<pre>| 377       | 11382.069906 | 0.434525      |</pre>"
      ],
      "text/plain": [
       "| 377       | 11382.069906 | 0.434525      |"
      ]
     },
     "metadata": {},
     "output_type": "display_data"
    },
    {
     "data": {
      "text/html": [
       "<pre>| 378       | 11411.162997 | 0.434502      |</pre>"
      ],
      "text/plain": [
       "| 378       | 11411.162997 | 0.434502      |"
      ]
     },
     "metadata": {},
     "output_type": "display_data"
    },
    {
     "data": {
      "text/html": [
       "<pre>| 379       | 11442.060455 | 0.434483      |</pre>"
      ],
      "text/plain": [
       "| 379       | 11442.060455 | 0.434483      |"
      ]
     },
     "metadata": {},
     "output_type": "display_data"
    },
    {
     "data": {
      "text/html": [
       "<pre>| 380       | 11471.738072 | 0.434451      |</pre>"
      ],
      "text/plain": [
       "| 380       | 11471.738072 | 0.434451      |"
      ]
     },
     "metadata": {},
     "output_type": "display_data"
    },
    {
     "data": {
      "text/html": [
       "<pre>| 381       | 11501.692113 | 0.434443      |</pre>"
      ],
      "text/plain": [
       "| 381       | 11501.692113 | 0.434443      |"
      ]
     },
     "metadata": {},
     "output_type": "display_data"
    },
    {
     "data": {
      "text/html": [
       "<pre>| 382       | 11530.919012 | 0.434421      |</pre>"
      ],
      "text/plain": [
       "| 382       | 11530.919012 | 0.434421      |"
      ]
     },
     "metadata": {},
     "output_type": "display_data"
    },
    {
     "data": {
      "text/html": [
       "<pre>| 383       | 11559.793550 | 0.434390      |</pre>"
      ],
      "text/plain": [
       "| 383       | 11559.793550 | 0.434390      |"
      ]
     },
     "metadata": {},
     "output_type": "display_data"
    },
    {
     "data": {
      "text/html": [
       "<pre>| 384       | 11589.843223 | 0.434368      |</pre>"
      ],
      "text/plain": [
       "| 384       | 11589.843223 | 0.434368      |"
      ]
     },
     "metadata": {},
     "output_type": "display_data"
    },
    {
     "data": {
      "text/html": [
       "<pre>| 385       | 11620.927156 | 0.434327      |</pre>"
      ],
      "text/plain": [
       "| 385       | 11620.927156 | 0.434327      |"
      ]
     },
     "metadata": {},
     "output_type": "display_data"
    },
    {
     "data": {
      "text/html": [
       "<pre>| 386       | 11652.328376 | 0.434301      |</pre>"
      ],
      "text/plain": [
       "| 386       | 11652.328376 | 0.434301      |"
      ]
     },
     "metadata": {},
     "output_type": "display_data"
    },
    {
     "data": {
      "text/html": [
       "<pre>| 387       | 11680.349400 | 0.434284      |</pre>"
      ],
      "text/plain": [
       "| 387       | 11680.349400 | 0.434284      |"
      ]
     },
     "metadata": {},
     "output_type": "display_data"
    },
    {
     "data": {
      "text/html": [
       "<pre>| 388       | 11711.760844 | 0.434269      |</pre>"
      ],
      "text/plain": [
       "| 388       | 11711.760844 | 0.434269      |"
      ]
     },
     "metadata": {},
     "output_type": "display_data"
    },
    {
     "data": {
      "text/html": [
       "<pre>| 389       | 11742.689954 | 0.434248      |</pre>"
      ],
      "text/plain": [
       "| 389       | 11742.689954 | 0.434248      |"
      ]
     },
     "metadata": {},
     "output_type": "display_data"
    },
    {
     "data": {
      "text/html": [
       "<pre>| 390       | 11773.894221 | 0.434218      |</pre>"
      ],
      "text/plain": [
       "| 390       | 11773.894221 | 0.434218      |"
      ]
     },
     "metadata": {},
     "output_type": "display_data"
    },
    {
     "data": {
      "text/html": [
       "<pre>| 391       | 11805.535567 | 0.434194      |</pre>"
      ],
      "text/plain": [
       "| 391       | 11805.535567 | 0.434194      |"
      ]
     },
     "metadata": {},
     "output_type": "display_data"
    },
    {
     "data": {
      "text/html": [
       "<pre>| 392       | 11834.454719 | 0.434178      |</pre>"
      ],
      "text/plain": [
       "| 392       | 11834.454719 | 0.434178      |"
      ]
     },
     "metadata": {},
     "output_type": "display_data"
    },
    {
     "data": {
      "text/html": [
       "<pre>| 393       | 11864.590143 | 0.434156      |</pre>"
      ],
      "text/plain": [
       "| 393       | 11864.590143 | 0.434156      |"
      ]
     },
     "metadata": {},
     "output_type": "display_data"
    },
    {
     "data": {
      "text/html": [
       "<pre>| 394       | 11894.915179 | 0.434127      |</pre>"
      ],
      "text/plain": [
       "| 394       | 11894.915179 | 0.434127      |"
      ]
     },
     "metadata": {},
     "output_type": "display_data"
    },
    {
     "data": {
      "text/html": [
       "<pre>| 395       | 11925.194492 | 0.434101      |</pre>"
      ],
      "text/plain": [
       "| 395       | 11925.194492 | 0.434101      |"
      ]
     },
     "metadata": {},
     "output_type": "display_data"
    },
    {
     "data": {
      "text/html": [
       "<pre>| 396       | 11956.909514 | 0.434081      |</pre>"
      ],
      "text/plain": [
       "| 396       | 11956.909514 | 0.434081      |"
      ]
     },
     "metadata": {},
     "output_type": "display_data"
    },
    {
     "data": {
      "text/html": [
       "<pre>| 397       | 11988.140053 | 0.434039      |</pre>"
      ],
      "text/plain": [
       "| 397       | 11988.140053 | 0.434039      |"
      ]
     },
     "metadata": {},
     "output_type": "display_data"
    },
    {
     "data": {
      "text/html": [
       "<pre>| 398       | 12018.109198 | 0.434016      |</pre>"
      ],
      "text/plain": [
       "| 398       | 12018.109198 | 0.434016      |"
      ]
     },
     "metadata": {},
     "output_type": "display_data"
    },
    {
     "data": {
      "text/html": [
       "<pre>| 399       | 12049.613955 | 0.433982      |</pre>"
      ],
      "text/plain": [
       "| 399       | 12049.613955 | 0.433982      |"
      ]
     },
     "metadata": {},
     "output_type": "display_data"
    },
    {
     "data": {
      "text/html": [
       "<pre>| 400       | 12079.530529 | 0.433955      |</pre>"
      ],
      "text/plain": [
       "| 400       | 12079.530529 | 0.433955      |"
      ]
     },
     "metadata": {},
     "output_type": "display_data"
    },
    {
     "data": {
      "text/html": [
       "<pre>| 401       | 12107.138530 | 0.433939      |</pre>"
      ],
      "text/plain": [
       "| 401       | 12107.138530 | 0.433939      |"
      ]
     },
     "metadata": {},
     "output_type": "display_data"
    },
    {
     "data": {
      "text/html": [
       "<pre>| 402       | 12137.451564 | 0.433910      |</pre>"
      ],
      "text/plain": [
       "| 402       | 12137.451564 | 0.433910      |"
      ]
     },
     "metadata": {},
     "output_type": "display_data"
    },
    {
     "data": {
      "text/html": [
       "<pre>| 403       | 12168.638490 | 0.433876      |</pre>"
      ],
      "text/plain": [
       "| 403       | 12168.638490 | 0.433876      |"
      ]
     },
     "metadata": {},
     "output_type": "display_data"
    },
    {
     "data": {
      "text/html": [
       "<pre>| 404       | 12199.356209 | 0.433832      |</pre>"
      ],
      "text/plain": [
       "| 404       | 12199.356209 | 0.433832      |"
      ]
     },
     "metadata": {},
     "output_type": "display_data"
    },
    {
     "data": {
      "text/html": [
       "<pre>| 405       | 12228.914911 | 0.433812      |</pre>"
      ],
      "text/plain": [
       "| 405       | 12228.914911 | 0.433812      |"
      ]
     },
     "metadata": {},
     "output_type": "display_data"
    },
    {
     "data": {
      "text/html": [
       "<pre>| 406       | 12258.278540 | 0.433803      |</pre>"
      ],
      "text/plain": [
       "| 406       | 12258.278540 | 0.433803      |"
      ]
     },
     "metadata": {},
     "output_type": "display_data"
    },
    {
     "data": {
      "text/html": [
       "<pre>| 407       | 12288.876961 | 0.433780      |</pre>"
      ],
      "text/plain": [
       "| 407       | 12288.876961 | 0.433780      |"
      ]
     },
     "metadata": {},
     "output_type": "display_data"
    },
    {
     "data": {
      "text/html": [
       "<pre>| 408       | 12319.058203 | 0.433756      |</pre>"
      ],
      "text/plain": [
       "| 408       | 12319.058203 | 0.433756      |"
      ]
     },
     "metadata": {},
     "output_type": "display_data"
    },
    {
     "data": {
      "text/html": [
       "<pre>| 409       | 12347.572016 | 0.433743      |</pre>"
      ],
      "text/plain": [
       "| 409       | 12347.572016 | 0.433743      |"
      ]
     },
     "metadata": {},
     "output_type": "display_data"
    },
    {
     "data": {
      "text/html": [
       "<pre>| 410       | 12377.378820 | 0.433727      |</pre>"
      ],
      "text/plain": [
       "| 410       | 12377.378820 | 0.433727      |"
      ]
     },
     "metadata": {},
     "output_type": "display_data"
    },
    {
     "data": {
      "text/html": [
       "<pre>| 411       | 12408.184411 | 0.433718      |</pre>"
      ],
      "text/plain": [
       "| 411       | 12408.184411 | 0.433718      |"
      ]
     },
     "metadata": {},
     "output_type": "display_data"
    },
    {
     "data": {
      "text/html": [
       "<pre>| 412       | 12434.325502 | 0.433709      |</pre>"
      ],
      "text/plain": [
       "| 412       | 12434.325502 | 0.433709      |"
      ]
     },
     "metadata": {},
     "output_type": "display_data"
    },
    {
     "data": {
      "text/html": [
       "<pre>| 413       | 12464.681257 | 0.433702      |</pre>"
      ],
      "text/plain": [
       "| 413       | 12464.681257 | 0.433702      |"
      ]
     },
     "metadata": {},
     "output_type": "display_data"
    },
    {
     "data": {
      "text/html": [
       "<pre>| 414       | 12495.791064 | 0.433665      |</pre>"
      ],
      "text/plain": [
       "| 414       | 12495.791064 | 0.433665      |"
      ]
     },
     "metadata": {},
     "output_type": "display_data"
    },
    {
     "data": {
      "text/html": [
       "<pre>| 415       | 12523.907133 | 0.433638      |</pre>"
      ],
      "text/plain": [
       "| 415       | 12523.907133 | 0.433638      |"
      ]
     },
     "metadata": {},
     "output_type": "display_data"
    },
    {
     "data": {
      "text/html": [
       "<pre>| 416       | 12553.850305 | 0.433608      |</pre>"
      ],
      "text/plain": [
       "| 416       | 12553.850305 | 0.433608      |"
      ]
     },
     "metadata": {},
     "output_type": "display_data"
    },
    {
     "data": {
      "text/html": [
       "<pre>| 417       | 12583.349497 | 0.433578      |</pre>"
      ],
      "text/plain": [
       "| 417       | 12583.349497 | 0.433578      |"
      ]
     },
     "metadata": {},
     "output_type": "display_data"
    },
    {
     "data": {
      "text/html": [
       "<pre>| 418       | 12612.448988 | 0.433568      |</pre>"
      ],
      "text/plain": [
       "| 418       | 12612.448988 | 0.433568      |"
      ]
     },
     "metadata": {},
     "output_type": "display_data"
    },
    {
     "data": {
      "text/html": [
       "<pre>| 419       | 12642.673498 | 0.433541      |</pre>"
      ],
      "text/plain": [
       "| 419       | 12642.673498 | 0.433541      |"
      ]
     },
     "metadata": {},
     "output_type": "display_data"
    },
    {
     "data": {
      "text/html": [
       "<pre>| 420       | 12673.020551 | 0.433511      |</pre>"
      ],
      "text/plain": [
       "| 420       | 12673.020551 | 0.433511      |"
      ]
     },
     "metadata": {},
     "output_type": "display_data"
    },
    {
     "data": {
      "text/html": [
       "<pre>| 421       | 12702.472456 | 0.433491      |</pre>"
      ],
      "text/plain": [
       "| 421       | 12702.472456 | 0.433491      |"
      ]
     },
     "metadata": {},
     "output_type": "display_data"
    },
    {
     "data": {
      "text/html": [
       "<pre>| 422       | 12733.054814 | 0.433456      |</pre>"
      ],
      "text/plain": [
       "| 422       | 12733.054814 | 0.433456      |"
      ]
     },
     "metadata": {},
     "output_type": "display_data"
    },
    {
     "data": {
      "text/html": [
       "<pre>| 423       | 12764.320732 | 0.433414      |</pre>"
      ],
      "text/plain": [
       "| 423       | 12764.320732 | 0.433414      |"
      ]
     },
     "metadata": {},
     "output_type": "display_data"
    },
    {
     "data": {
      "text/html": [
       "<pre>| 424       | 12795.913112 | 0.433386      |</pre>"
      ],
      "text/plain": [
       "| 424       | 12795.913112 | 0.433386      |"
      ]
     },
     "metadata": {},
     "output_type": "display_data"
    },
    {
     "data": {
      "text/html": [
       "<pre>| 425       | 12826.659935 | 0.433354      |</pre>"
      ],
      "text/plain": [
       "| 425       | 12826.659935 | 0.433354      |"
      ]
     },
     "metadata": {},
     "output_type": "display_data"
    },
    {
     "data": {
      "text/html": [
       "<pre>| 426       | 12856.809340 | 0.433331      |</pre>"
      ],
      "text/plain": [
       "| 426       | 12856.809340 | 0.433331      |"
      ]
     },
     "metadata": {},
     "output_type": "display_data"
    },
    {
     "data": {
      "text/html": [
       "<pre>| 427       | 12887.273757 | 0.433294      |</pre>"
      ],
      "text/plain": [
       "| 427       | 12887.273757 | 0.433294      |"
      ]
     },
     "metadata": {},
     "output_type": "display_data"
    },
    {
     "data": {
      "text/html": [
       "<pre>| 428       | 12916.506470 | 0.433284      |</pre>"
      ],
      "text/plain": [
       "| 428       | 12916.506470 | 0.433284      |"
      ]
     },
     "metadata": {},
     "output_type": "display_data"
    },
    {
     "data": {
      "text/html": [
       "<pre>| 429       | 12945.774132 | 0.433260      |</pre>"
      ],
      "text/plain": [
       "| 429       | 12945.774132 | 0.433260      |"
      ]
     },
     "metadata": {},
     "output_type": "display_data"
    },
    {
     "data": {
      "text/html": [
       "<pre>| 430       | 12975.306764 | 0.433240      |</pre>"
      ],
      "text/plain": [
       "| 430       | 12975.306764 | 0.433240      |"
      ]
     },
     "metadata": {},
     "output_type": "display_data"
    },
    {
     "data": {
      "text/html": [
       "<pre>| 431       | 13004.876154 | 0.433226      |</pre>"
      ],
      "text/plain": [
       "| 431       | 13004.876154 | 0.433226      |"
      ]
     },
     "metadata": {},
     "output_type": "display_data"
    },
    {
     "data": {
      "text/html": [
       "<pre>| 432       | 13033.887595 | 0.433205      |</pre>"
      ],
      "text/plain": [
       "| 432       | 13033.887595 | 0.433205      |"
      ]
     },
     "metadata": {},
     "output_type": "display_data"
    },
    {
     "data": {
      "text/html": [
       "<pre>| 433       | 13065.567689 | 0.433183      |</pre>"
      ],
      "text/plain": [
       "| 433       | 13065.567689 | 0.433183      |"
      ]
     },
     "metadata": {},
     "output_type": "display_data"
    },
    {
     "data": {
      "text/html": [
       "<pre>| 434       | 13094.127507 | 0.433155      |</pre>"
      ],
      "text/plain": [
       "| 434       | 13094.127507 | 0.433155      |"
      ]
     },
     "metadata": {},
     "output_type": "display_data"
    },
    {
     "data": {
      "text/html": [
       "<pre>| 435       | 13124.438652 | 0.433119      |</pre>"
      ],
      "text/plain": [
       "| 435       | 13124.438652 | 0.433119      |"
      ]
     },
     "metadata": {},
     "output_type": "display_data"
    },
    {
     "data": {
      "text/html": [
       "<pre>| 436       | 13154.103451 | 0.433084      |</pre>"
      ],
      "text/plain": [
       "| 436       | 13154.103451 | 0.433084      |"
      ]
     },
     "metadata": {},
     "output_type": "display_data"
    },
    {
     "data": {
      "text/html": [
       "<pre>| 437       | 13183.849548 | 0.433044      |</pre>"
      ],
      "text/plain": [
       "| 437       | 13183.849548 | 0.433044      |"
      ]
     },
     "metadata": {},
     "output_type": "display_data"
    },
    {
     "data": {
      "text/html": [
       "<pre>| 438       | 13213.689138 | 0.433024      |</pre>"
      ],
      "text/plain": [
       "| 438       | 13213.689138 | 0.433024      |"
      ]
     },
     "metadata": {},
     "output_type": "display_data"
    },
    {
     "data": {
      "text/html": [
       "<pre>| 439       | 13243.567111 | 0.432994      |</pre>"
      ],
      "text/plain": [
       "| 439       | 13243.567111 | 0.432994      |"
      ]
     },
     "metadata": {},
     "output_type": "display_data"
    },
    {
     "data": {
      "text/html": [
       "<pre>| 440       | 13273.780839 | 0.432983      |</pre>"
      ],
      "text/plain": [
       "| 440       | 13273.780839 | 0.432983      |"
      ]
     },
     "metadata": {},
     "output_type": "display_data"
    },
    {
     "data": {
      "text/html": [
       "<pre>| 441       | 13303.459102 | 0.432965      |</pre>"
      ],
      "text/plain": [
       "| 441       | 13303.459102 | 0.432965      |"
      ]
     },
     "metadata": {},
     "output_type": "display_data"
    },
    {
     "data": {
      "text/html": [
       "<pre>| 442       | 13333.614098 | 0.432946      |</pre>"
      ],
      "text/plain": [
       "| 442       | 13333.614098 | 0.432946      |"
      ]
     },
     "metadata": {},
     "output_type": "display_data"
    },
    {
     "data": {
      "text/html": [
       "<pre>| 443       | 13362.425025 | 0.432915      |</pre>"
      ],
      "text/plain": [
       "| 443       | 13362.425025 | 0.432915      |"
      ]
     },
     "metadata": {},
     "output_type": "display_data"
    },
    {
     "data": {
      "text/html": [
       "<pre>| 444       | 13391.262992 | 0.432896      |</pre>"
      ],
      "text/plain": [
       "| 444       | 13391.262992 | 0.432896      |"
      ]
     },
     "metadata": {},
     "output_type": "display_data"
    },
    {
     "data": {
      "text/html": [
       "<pre>| 445       | 13419.962334 | 0.432882      |</pre>"
      ],
      "text/plain": [
       "| 445       | 13419.962334 | 0.432882      |"
      ]
     },
     "metadata": {},
     "output_type": "display_data"
    },
    {
     "data": {
      "text/html": [
       "<pre>| 446       | 13449.290601 | 0.432861      |</pre>"
      ],
      "text/plain": [
       "| 446       | 13449.290601 | 0.432861      |"
      ]
     },
     "metadata": {},
     "output_type": "display_data"
    },
    {
     "data": {
      "text/html": [
       "<pre>| 447       | 13478.976022 | 0.432844      |</pre>"
      ],
      "text/plain": [
       "| 447       | 13478.976022 | 0.432844      |"
      ]
     },
     "metadata": {},
     "output_type": "display_data"
    },
    {
     "data": {
      "text/html": [
       "<pre>| 448       | 13509.240942 | 0.432817      |</pre>"
      ],
      "text/plain": [
       "| 448       | 13509.240942 | 0.432817      |"
      ]
     },
     "metadata": {},
     "output_type": "display_data"
    },
    {
     "data": {
      "text/html": [
       "<pre>| 449       | 13537.131523 | 0.432792      |</pre>"
      ],
      "text/plain": [
       "| 449       | 13537.131523 | 0.432792      |"
      ]
     },
     "metadata": {},
     "output_type": "display_data"
    },
    {
     "data": {
      "text/html": [
       "<pre>| 450       | 13567.012990 | 0.432770      |</pre>"
      ],
      "text/plain": [
       "| 450       | 13567.012990 | 0.432770      |"
      ]
     },
     "metadata": {},
     "output_type": "display_data"
    },
    {
     "data": {
      "text/html": [
       "<pre>| 451       | 13595.964003 | 0.432753      |</pre>"
      ],
      "text/plain": [
       "| 451       | 13595.964003 | 0.432753      |"
      ]
     },
     "metadata": {},
     "output_type": "display_data"
    },
    {
     "data": {
      "text/html": [
       "<pre>| 452       | 13626.919266 | 0.432723      |</pre>"
      ],
      "text/plain": [
       "| 452       | 13626.919266 | 0.432723      |"
      ]
     },
     "metadata": {},
     "output_type": "display_data"
    },
    {
     "data": {
      "text/html": [
       "<pre>| 453       | 13656.088926 | 0.432710      |</pre>"
      ],
      "text/plain": [
       "| 453       | 13656.088926 | 0.432710      |"
      ]
     },
     "metadata": {},
     "output_type": "display_data"
    },
    {
     "data": {
      "text/html": [
       "<pre>| 454       | 13685.614102 | 0.432693      |</pre>"
      ],
      "text/plain": [
       "| 454       | 13685.614102 | 0.432693      |"
      ]
     },
     "metadata": {},
     "output_type": "display_data"
    },
    {
     "data": {
      "text/html": [
       "<pre>| 455       | 13715.076234 | 0.432668      |</pre>"
      ],
      "text/plain": [
       "| 455       | 13715.076234 | 0.432668      |"
      ]
     },
     "metadata": {},
     "output_type": "display_data"
    },
    {
     "data": {
      "text/html": [
       "<pre>| 456       | 13744.676809 | 0.432634      |</pre>"
      ],
      "text/plain": [
       "| 456       | 13744.676809 | 0.432634      |"
      ]
     },
     "metadata": {},
     "output_type": "display_data"
    },
    {
     "data": {
      "text/html": [
       "<pre>| 457       | 13773.816010 | 0.432614      |</pre>"
      ],
      "text/plain": [
       "| 457       | 13773.816010 | 0.432614      |"
      ]
     },
     "metadata": {},
     "output_type": "display_data"
    },
    {
     "data": {
      "text/html": [
       "<pre>| 458       | 13803.806654 | 0.432581      |</pre>"
      ],
      "text/plain": [
       "| 458       | 13803.806654 | 0.432581      |"
      ]
     },
     "metadata": {},
     "output_type": "display_data"
    },
    {
     "data": {
      "text/html": [
       "<pre>| 459       | 13833.392673 | 0.432556      |</pre>"
      ],
      "text/plain": [
       "| 459       | 13833.392673 | 0.432556      |"
      ]
     },
     "metadata": {},
     "output_type": "display_data"
    },
    {
     "data": {
      "text/html": [
       "<pre>| 460       | 13861.855295 | 0.432524      |</pre>"
      ],
      "text/plain": [
       "| 460       | 13861.855295 | 0.432524      |"
      ]
     },
     "metadata": {},
     "output_type": "display_data"
    },
    {
     "data": {
      "text/html": [
       "<pre>| 461       | 13889.659142 | 0.432507      |</pre>"
      ],
      "text/plain": [
       "| 461       | 13889.659142 | 0.432507      |"
      ]
     },
     "metadata": {},
     "output_type": "display_data"
    },
    {
     "data": {
      "text/html": [
       "<pre>| 462       | 13918.863185 | 0.432485      |</pre>"
      ],
      "text/plain": [
       "| 462       | 13918.863185 | 0.432485      |"
      ]
     },
     "metadata": {},
     "output_type": "display_data"
    },
    {
     "data": {
      "text/html": [
       "<pre>| 463       | 13949.129965 | 0.432452      |</pre>"
      ],
      "text/plain": [
       "| 463       | 13949.129965 | 0.432452      |"
      ]
     },
     "metadata": {},
     "output_type": "display_data"
    },
    {
     "data": {
      "text/html": [
       "<pre>| 464       | 13979.043156 | 0.432421      |</pre>"
      ],
      "text/plain": [
       "| 464       | 13979.043156 | 0.432421      |"
      ]
     },
     "metadata": {},
     "output_type": "display_data"
    },
    {
     "data": {
      "text/html": [
       "<pre>| 465       | 14006.953946 | 0.432397      |</pre>"
      ],
      "text/plain": [
       "| 465       | 14006.953946 | 0.432397      |"
      ]
     },
     "metadata": {},
     "output_type": "display_data"
    },
    {
     "data": {
      "text/html": [
       "<pre>| 466       | 14037.312715 | 0.432371      |</pre>"
      ],
      "text/plain": [
       "| 466       | 14037.312715 | 0.432371      |"
      ]
     },
     "metadata": {},
     "output_type": "display_data"
    },
    {
     "data": {
      "text/html": [
       "<pre>| 467       | 14066.034903 | 0.432359      |</pre>"
      ],
      "text/plain": [
       "| 467       | 14066.034903 | 0.432359      |"
      ]
     },
     "metadata": {},
     "output_type": "display_data"
    },
    {
     "data": {
      "text/html": [
       "<pre>| 468       | 14094.048959 | 0.432333      |</pre>"
      ],
      "text/plain": [
       "| 468       | 14094.048959 | 0.432333      |"
      ]
     },
     "metadata": {},
     "output_type": "display_data"
    },
    {
     "data": {
      "text/html": [
       "<pre>| 469       | 14124.540476 | 0.432304      |</pre>"
      ],
      "text/plain": [
       "| 469       | 14124.540476 | 0.432304      |"
      ]
     },
     "metadata": {},
     "output_type": "display_data"
    },
    {
     "data": {
      "text/html": [
       "<pre>| 470       | 14156.560152 | 0.432283      |</pre>"
      ],
      "text/plain": [
       "| 470       | 14156.560152 | 0.432283      |"
      ]
     },
     "metadata": {},
     "output_type": "display_data"
    },
    {
     "data": {
      "text/html": [
       "<pre>| 471       | 14185.958105 | 0.432233      |</pre>"
      ],
      "text/plain": [
       "| 471       | 14185.958105 | 0.432233      |"
      ]
     },
     "metadata": {},
     "output_type": "display_data"
    },
    {
     "data": {
      "text/html": [
       "<pre>| 472       | 14216.556199 | 0.432218      |</pre>"
      ],
      "text/plain": [
       "| 472       | 14216.556199 | 0.432218      |"
      ]
     },
     "metadata": {},
     "output_type": "display_data"
    },
    {
     "data": {
      "text/html": [
       "<pre>| 473       | 14246.593584 | 0.432184      |</pre>"
      ],
      "text/plain": [
       "| 473       | 14246.593584 | 0.432184      |"
      ]
     },
     "metadata": {},
     "output_type": "display_data"
    },
    {
     "data": {
      "text/html": [
       "<pre>| 474       | 14275.582098 | 0.432161      |</pre>"
      ],
      "text/plain": [
       "| 474       | 14275.582098 | 0.432161      |"
      ]
     },
     "metadata": {},
     "output_type": "display_data"
    },
    {
     "data": {
      "text/html": [
       "<pre>| 475       | 14305.139009 | 0.432139      |</pre>"
      ],
      "text/plain": [
       "| 475       | 14305.139009 | 0.432139      |"
      ]
     },
     "metadata": {},
     "output_type": "display_data"
    },
    {
     "data": {
      "text/html": [
       "<pre>| 476       | 14334.289106 | 0.432128      |</pre>"
      ],
      "text/plain": [
       "| 476       | 14334.289106 | 0.432128      |"
      ]
     },
     "metadata": {},
     "output_type": "display_data"
    },
    {
     "data": {
      "text/html": [
       "<pre>| 477       | 14365.639925 | 0.432102      |</pre>"
      ],
      "text/plain": [
       "| 477       | 14365.639925 | 0.432102      |"
      ]
     },
     "metadata": {},
     "output_type": "display_data"
    },
    {
     "data": {
      "text/html": [
       "<pre>| 478       | 14395.888996 | 0.432061      |</pre>"
      ],
      "text/plain": [
       "| 478       | 14395.888996 | 0.432061      |"
      ]
     },
     "metadata": {},
     "output_type": "display_data"
    },
    {
     "data": {
      "text/html": [
       "<pre>| 479       | 14424.168419 | 0.432045      |</pre>"
      ],
      "text/plain": [
       "| 479       | 14424.168419 | 0.432045      |"
      ]
     },
     "metadata": {},
     "output_type": "display_data"
    },
    {
     "data": {
      "text/html": [
       "<pre>| 480       | 14453.530484 | 0.432019      |</pre>"
      ],
      "text/plain": [
       "| 480       | 14453.530484 | 0.432019      |"
      ]
     },
     "metadata": {},
     "output_type": "display_data"
    },
    {
     "data": {
      "text/html": [
       "<pre>| 481       | 14483.896363 | 0.431997      |</pre>"
      ],
      "text/plain": [
       "| 481       | 14483.896363 | 0.431997      |"
      ]
     },
     "metadata": {},
     "output_type": "display_data"
    },
    {
     "data": {
      "text/html": [
       "<pre>| 482       | 14514.632598 | 0.431970      |</pre>"
      ],
      "text/plain": [
       "| 482       | 14514.632598 | 0.431970      |"
      ]
     },
     "metadata": {},
     "output_type": "display_data"
    },
    {
     "data": {
      "text/html": [
       "<pre>| 483       | 14546.026509 | 0.431962      |</pre>"
      ],
      "text/plain": [
       "| 483       | 14546.026509 | 0.431962      |"
      ]
     },
     "metadata": {},
     "output_type": "display_data"
    },
    {
     "data": {
      "text/html": [
       "<pre>| 484       | 14576.178929 | 0.431943      |</pre>"
      ],
      "text/plain": [
       "| 484       | 14576.178929 | 0.431943      |"
      ]
     },
     "metadata": {},
     "output_type": "display_data"
    },
    {
     "data": {
      "text/html": [
       "<pre>| 485       | 14604.505019 | 0.431919      |</pre>"
      ],
      "text/plain": [
       "| 485       | 14604.505019 | 0.431919      |"
      ]
     },
     "metadata": {},
     "output_type": "display_data"
    },
    {
     "data": {
      "text/html": [
       "<pre>| 486       | 14635.219822 | 0.431904      |</pre>"
      ],
      "text/plain": [
       "| 486       | 14635.219822 | 0.431904      |"
      ]
     },
     "metadata": {},
     "output_type": "display_data"
    },
    {
     "data": {
      "text/html": [
       "<pre>| 487       | 14665.336979 | 0.431883      |</pre>"
      ],
      "text/plain": [
       "| 487       | 14665.336979 | 0.431883      |"
      ]
     },
     "metadata": {},
     "output_type": "display_data"
    },
    {
     "data": {
      "text/html": [
       "<pre>| 488       | 14696.407547 | 0.431836      |</pre>"
      ],
      "text/plain": [
       "| 488       | 14696.407547 | 0.431836      |"
      ]
     },
     "metadata": {},
     "output_type": "display_data"
    },
    {
     "data": {
      "text/html": [
       "<pre>| 489       | 14727.851526 | 0.431796      |</pre>"
      ],
      "text/plain": [
       "| 489       | 14727.851526 | 0.431796      |"
      ]
     },
     "metadata": {},
     "output_type": "display_data"
    },
    {
     "data": {
      "text/html": [
       "<pre>| 490       | 14758.927604 | 0.431756      |</pre>"
      ],
      "text/plain": [
       "| 490       | 14758.927604 | 0.431756      |"
      ]
     },
     "metadata": {},
     "output_type": "display_data"
    },
    {
     "data": {
      "text/html": [
       "<pre>| 491       | 14788.877217 | 0.431736      |</pre>"
      ],
      "text/plain": [
       "| 491       | 14788.877217 | 0.431736      |"
      ]
     },
     "metadata": {},
     "output_type": "display_data"
    },
    {
     "data": {
      "text/html": [
       "<pre>| 492       | 14821.028818 | 0.431695      |</pre>"
      ],
      "text/plain": [
       "| 492       | 14821.028818 | 0.431695      |"
      ]
     },
     "metadata": {},
     "output_type": "display_data"
    },
    {
     "data": {
      "text/html": [
       "<pre>| 493       | 14850.594595 | 0.431684      |</pre>"
      ],
      "text/plain": [
       "| 493       | 14850.594595 | 0.431684      |"
      ]
     },
     "metadata": {},
     "output_type": "display_data"
    },
    {
     "data": {
      "text/html": [
       "<pre>| 494       | 14880.331176 | 0.431665      |</pre>"
      ],
      "text/plain": [
       "| 494       | 14880.331176 | 0.431665      |"
      ]
     },
     "metadata": {},
     "output_type": "display_data"
    },
    {
     "data": {
      "text/html": [
       "<pre>| 495       | 14909.856227 | 0.431645      |</pre>"
      ],
      "text/plain": [
       "| 495       | 14909.856227 | 0.431645      |"
      ]
     },
     "metadata": {},
     "output_type": "display_data"
    },
    {
     "data": {
      "text/html": [
       "<pre>| 496       | 14940.277715 | 0.431610      |</pre>"
      ],
      "text/plain": [
       "| 496       | 14940.277715 | 0.431610      |"
      ]
     },
     "metadata": {},
     "output_type": "display_data"
    },
    {
     "data": {
      "text/html": [
       "<pre>| 497       | 14969.961032 | 0.431590      |</pre>"
      ],
      "text/plain": [
       "| 497       | 14969.961032 | 0.431590      |"
      ]
     },
     "metadata": {},
     "output_type": "display_data"
    },
    {
     "data": {
      "text/html": [
       "<pre>| 498       | 14999.867116 | 0.431562      |</pre>"
      ],
      "text/plain": [
       "| 498       | 14999.867116 | 0.431562      |"
      ]
     },
     "metadata": {},
     "output_type": "display_data"
    },
    {
     "data": {
      "text/html": [
       "<pre>| 499       | 15029.734314 | 0.431546      |</pre>"
      ],
      "text/plain": [
       "| 499       | 15029.734314 | 0.431546      |"
      ]
     },
     "metadata": {},
     "output_type": "display_data"
    },
    {
     "data": {
      "text/html": [
       "<pre>| 500       | 15059.892544 | 0.431517      |</pre>"
      ],
      "text/plain": [
       "| 500       | 15059.892544 | 0.431517      |"
      ]
     },
     "metadata": {},
     "output_type": "display_data"
    },
    {
     "data": {
      "text/html": [
       "<pre>| 501       | 15090.079414 | 0.431479      |</pre>"
      ],
      "text/plain": [
       "| 501       | 15090.079414 | 0.431479      |"
      ]
     },
     "metadata": {},
     "output_type": "display_data"
    },
    {
     "data": {
      "text/html": [
       "<pre>| 502       | 15118.211517 | 0.431468      |</pre>"
      ],
      "text/plain": [
       "| 502       | 15118.211517 | 0.431468      |"
      ]
     },
     "metadata": {},
     "output_type": "display_data"
    },
    {
     "data": {
      "text/html": [
       "<pre>| 503       | 15145.550534 | 0.431456      |</pre>"
      ],
      "text/plain": [
       "| 503       | 15145.550534 | 0.431456      |"
      ]
     },
     "metadata": {},
     "output_type": "display_data"
    },
    {
     "data": {
      "text/html": [
       "<pre>| 504       | 15176.384292 | 0.431417      |</pre>"
      ],
      "text/plain": [
       "| 504       | 15176.384292 | 0.431417      |"
      ]
     },
     "metadata": {},
     "output_type": "display_data"
    },
    {
     "data": {
      "text/html": [
       "<pre>| 505       | 15206.321916 | 0.431380      |</pre>"
      ],
      "text/plain": [
       "| 505       | 15206.321916 | 0.431380      |"
      ]
     },
     "metadata": {},
     "output_type": "display_data"
    },
    {
     "data": {
      "text/html": [
       "<pre>| 506       | 15235.042327 | 0.431366      |</pre>"
      ],
      "text/plain": [
       "| 506       | 15235.042327 | 0.431366      |"
      ]
     },
     "metadata": {},
     "output_type": "display_data"
    },
    {
     "data": {
      "text/html": [
       "<pre>| 507       | 15263.531997 | 0.431351      |</pre>"
      ],
      "text/plain": [
       "| 507       | 15263.531997 | 0.431351      |"
      ]
     },
     "metadata": {},
     "output_type": "display_data"
    },
    {
     "data": {
      "text/html": [
       "<pre>| 508       | 15293.918538 | 0.431325      |</pre>"
      ],
      "text/plain": [
       "| 508       | 15293.918538 | 0.431325      |"
      ]
     },
     "metadata": {},
     "output_type": "display_data"
    },
    {
     "data": {
      "text/html": [
       "<pre>| 509       | 15323.300527 | 0.431292      |</pre>"
      ],
      "text/plain": [
       "| 509       | 15323.300527 | 0.431292      |"
      ]
     },
     "metadata": {},
     "output_type": "display_data"
    },
    {
     "data": {
      "text/html": [
       "<pre>| 510       | 15354.211318 | 0.431260      |</pre>"
      ],
      "text/plain": [
       "| 510       | 15354.211318 | 0.431260      |"
      ]
     },
     "metadata": {},
     "output_type": "display_data"
    },
    {
     "data": {
      "text/html": [
       "<pre>| 511       | 15382.759221 | 0.431237      |</pre>"
      ],
      "text/plain": [
       "| 511       | 15382.759221 | 0.431237      |"
      ]
     },
     "metadata": {},
     "output_type": "display_data"
    },
    {
     "data": {
      "text/html": [
       "<pre>| 512       | 15414.295193 | 0.431216      |</pre>"
      ],
      "text/plain": [
       "| 512       | 15414.295193 | 0.431216      |"
      ]
     },
     "metadata": {},
     "output_type": "display_data"
    },
    {
     "data": {
      "text/html": [
       "<pre>| 513       | 15445.296350 | 0.431187      |</pre>"
      ],
      "text/plain": [
       "| 513       | 15445.296350 | 0.431187      |"
      ]
     },
     "metadata": {},
     "output_type": "display_data"
    },
    {
     "data": {
      "text/html": [
       "<pre>| 514       | 15475.903067 | 0.431158      |</pre>"
      ],
      "text/plain": [
       "| 514       | 15475.903067 | 0.431158      |"
      ]
     },
     "metadata": {},
     "output_type": "display_data"
    },
    {
     "data": {
      "text/html": [
       "<pre>| 515       | 15506.384935 | 0.431134      |</pre>"
      ],
      "text/plain": [
       "| 515       | 15506.384935 | 0.431134      |"
      ]
     },
     "metadata": {},
     "output_type": "display_data"
    },
    {
     "data": {
      "text/html": [
       "<pre>| 516       | 15535.722317 | 0.431105      |</pre>"
      ],
      "text/plain": [
       "| 516       | 15535.722317 | 0.431105      |"
      ]
     },
     "metadata": {},
     "output_type": "display_data"
    },
    {
     "data": {
      "text/html": [
       "<pre>| 517       | 15565.318482 | 0.431073      |</pre>"
      ],
      "text/plain": [
       "| 517       | 15565.318482 | 0.431073      |"
      ]
     },
     "metadata": {},
     "output_type": "display_data"
    },
    {
     "data": {
      "text/html": [
       "<pre>| 518       | 15594.972260 | 0.431049      |</pre>"
      ],
      "text/plain": [
       "| 518       | 15594.972260 | 0.431049      |"
      ]
     },
     "metadata": {},
     "output_type": "display_data"
    },
    {
     "data": {
      "text/html": [
       "<pre>| 519       | 15624.953274 | 0.431040      |</pre>"
      ],
      "text/plain": [
       "| 519       | 15624.953274 | 0.431040      |"
      ]
     },
     "metadata": {},
     "output_type": "display_data"
    },
    {
     "data": {
      "text/html": [
       "<pre>| 520       | 15652.833257 | 0.431021      |</pre>"
      ],
      "text/plain": [
       "| 520       | 15652.833257 | 0.431021      |"
      ]
     },
     "metadata": {},
     "output_type": "display_data"
    },
    {
     "data": {
      "text/html": [
       "<pre>| 521       | 15682.466666 | 0.430997      |</pre>"
      ],
      "text/plain": [
       "| 521       | 15682.466666 | 0.430997      |"
      ]
     },
     "metadata": {},
     "output_type": "display_data"
    },
    {
     "data": {
      "text/html": [
       "<pre>| 522       | 15710.870285 | 0.430987      |</pre>"
      ],
      "text/plain": [
       "| 522       | 15710.870285 | 0.430987      |"
      ]
     },
     "metadata": {},
     "output_type": "display_data"
    },
    {
     "data": {
      "text/html": [
       "<pre>| 523       | 15741.887893 | 0.430958      |</pre>"
      ],
      "text/plain": [
       "| 523       | 15741.887893 | 0.430958      |"
      ]
     },
     "metadata": {},
     "output_type": "display_data"
    },
    {
     "data": {
      "text/html": [
       "<pre>| 524       | 15772.946300 | 0.430938      |</pre>"
      ],
      "text/plain": [
       "| 524       | 15772.946300 | 0.430938      |"
      ]
     },
     "metadata": {},
     "output_type": "display_data"
    },
    {
     "data": {
      "text/html": [
       "<pre>| 525       | 15803.924972 | 0.430910      |</pre>"
      ],
      "text/plain": [
       "| 525       | 15803.924972 | 0.430910      |"
      ]
     },
     "metadata": {},
     "output_type": "display_data"
    },
    {
     "data": {
      "text/html": [
       "<pre>| 526       | 15831.619638 | 0.430898      |</pre>"
      ],
      "text/plain": [
       "| 526       | 15831.619638 | 0.430898      |"
      ]
     },
     "metadata": {},
     "output_type": "display_data"
    },
    {
     "data": {
      "text/html": [
       "<pre>| 527       | 15861.639217 | 0.430875      |</pre>"
      ],
      "text/plain": [
       "| 527       | 15861.639217 | 0.430875      |"
      ]
     },
     "metadata": {},
     "output_type": "display_data"
    },
    {
     "data": {
      "text/html": [
       "<pre>| 528       | 15891.129842 | 0.430850      |</pre>"
      ],
      "text/plain": [
       "| 528       | 15891.129842 | 0.430850      |"
      ]
     },
     "metadata": {},
     "output_type": "display_data"
    },
    {
     "data": {
      "text/html": [
       "<pre>| 529       | 15919.127712 | 0.430841      |</pre>"
      ],
      "text/plain": [
       "| 529       | 15919.127712 | 0.430841      |"
      ]
     },
     "metadata": {},
     "output_type": "display_data"
    },
    {
     "data": {
      "text/html": [
       "<pre>| 530       | 15950.092196 | 0.430816      |</pre>"
      ],
      "text/plain": [
       "| 530       | 15950.092196 | 0.430816      |"
      ]
     },
     "metadata": {},
     "output_type": "display_data"
    },
    {
     "data": {
      "text/html": [
       "<pre>| 531       | 15979.705049 | 0.430796      |</pre>"
      ],
      "text/plain": [
       "| 531       | 15979.705049 | 0.430796      |"
      ]
     },
     "metadata": {},
     "output_type": "display_data"
    },
    {
     "data": {
      "text/html": [
       "<pre>| 532       | 16009.665730 | 0.430786      |</pre>"
      ],
      "text/plain": [
       "| 532       | 16009.665730 | 0.430786      |"
      ]
     },
     "metadata": {},
     "output_type": "display_data"
    },
    {
     "data": {
      "text/html": [
       "<pre>| 533       | 16038.345864 | 0.430765      |</pre>"
      ],
      "text/plain": [
       "| 533       | 16038.345864 | 0.430765      |"
      ]
     },
     "metadata": {},
     "output_type": "display_data"
    },
    {
     "data": {
      "text/html": [
       "<pre>| 534       | 16067.910102 | 0.430738      |</pre>"
      ],
      "text/plain": [
       "| 534       | 16067.910102 | 0.430738      |"
      ]
     },
     "metadata": {},
     "output_type": "display_data"
    },
    {
     "data": {
      "text/html": [
       "<pre>| 535       | 16097.896612 | 0.430732      |</pre>"
      ],
      "text/plain": [
       "| 535       | 16097.896612 | 0.430732      |"
      ]
     },
     "metadata": {},
     "output_type": "display_data"
    },
    {
     "data": {
      "text/html": [
       "<pre>| 536       | 16126.223257 | 0.430698      |</pre>"
      ],
      "text/plain": [
       "| 536       | 16126.223257 | 0.430698      |"
      ]
     },
     "metadata": {},
     "output_type": "display_data"
    },
    {
     "data": {
      "text/html": [
       "<pre>| 537       | 16155.709363 | 0.430682      |</pre>"
      ],
      "text/plain": [
       "| 537       | 16155.709363 | 0.430682      |"
      ]
     },
     "metadata": {},
     "output_type": "display_data"
    },
    {
     "data": {
      "text/html": [
       "<pre>| 538       | 16182.568752 | 0.430660      |</pre>"
      ],
      "text/plain": [
       "| 538       | 16182.568752 | 0.430660      |"
      ]
     },
     "metadata": {},
     "output_type": "display_data"
    },
    {
     "data": {
      "text/html": [
       "<pre>| 539       | 16214.484869 | 0.430640      |</pre>"
      ],
      "text/plain": [
       "| 539       | 16214.484869 | 0.430640      |"
      ]
     },
     "metadata": {},
     "output_type": "display_data"
    },
    {
     "data": {
      "text/html": [
       "<pre>| 540       | 16246.400335 | 0.430624      |</pre>"
      ],
      "text/plain": [
       "| 540       | 16246.400335 | 0.430624      |"
      ]
     },
     "metadata": {},
     "output_type": "display_data"
    },
    {
     "data": {
      "text/html": [
       "<pre>| 541       | 16274.964369 | 0.430606      |</pre>"
      ],
      "text/plain": [
       "| 541       | 16274.964369 | 0.430606      |"
      ]
     },
     "metadata": {},
     "output_type": "display_data"
    },
    {
     "data": {
      "text/html": [
       "<pre>| 542       | 16305.380151 | 0.430570      |</pre>"
      ],
      "text/plain": [
       "| 542       | 16305.380151 | 0.430570      |"
      ]
     },
     "metadata": {},
     "output_type": "display_data"
    },
    {
     "data": {
      "text/html": [
       "<pre>| 543       | 16336.378272 | 0.430558      |</pre>"
      ],
      "text/plain": [
       "| 543       | 16336.378272 | 0.430558      |"
      ]
     },
     "metadata": {},
     "output_type": "display_data"
    },
    {
     "data": {
      "text/html": [
       "<pre>| 544       | 16367.694875 | 0.430534      |</pre>"
      ],
      "text/plain": [
       "| 544       | 16367.694875 | 0.430534      |"
      ]
     },
     "metadata": {},
     "output_type": "display_data"
    },
    {
     "data": {
      "text/html": [
       "<pre>| 545       | 16397.346719 | 0.430515      |</pre>"
      ],
      "text/plain": [
       "| 545       | 16397.346719 | 0.430515      |"
      ]
     },
     "metadata": {},
     "output_type": "display_data"
    },
    {
     "data": {
      "text/html": [
       "<pre>| 546       | 16427.999036 | 0.430486      |</pre>"
      ],
      "text/plain": [
       "| 546       | 16427.999036 | 0.430486      |"
      ]
     },
     "metadata": {},
     "output_type": "display_data"
    },
    {
     "data": {
      "text/html": [
       "<pre>| 547       | 16459.917022 | 0.430469      |</pre>"
      ],
      "text/plain": [
       "| 547       | 16459.917022 | 0.430469      |"
      ]
     },
     "metadata": {},
     "output_type": "display_data"
    },
    {
     "data": {
      "text/html": [
       "<pre>| 548       | 16488.908167 | 0.430459      |</pre>"
      ],
      "text/plain": [
       "| 548       | 16488.908167 | 0.430459      |"
      ]
     },
     "metadata": {},
     "output_type": "display_data"
    },
    {
     "data": {
      "text/html": [
       "<pre>| 549       | 16519.562515 | 0.430436      |</pre>"
      ],
      "text/plain": [
       "| 549       | 16519.562515 | 0.430436      |"
      ]
     },
     "metadata": {},
     "output_type": "display_data"
    },
    {
     "data": {
      "text/html": [
       "<pre>| 550       | 16549.542193 | 0.430402      |</pre>"
      ],
      "text/plain": [
       "| 550       | 16549.542193 | 0.430402      |"
      ]
     },
     "metadata": {},
     "output_type": "display_data"
    },
    {
     "data": {
      "text/html": [
       "<pre>| 551       | 16580.221591 | 0.430383      |</pre>"
      ],
      "text/plain": [
       "| 551       | 16580.221591 | 0.430383      |"
      ]
     },
     "metadata": {},
     "output_type": "display_data"
    },
    {
     "data": {
      "text/html": [
       "<pre>| 552       | 16608.994705 | 0.430364      |</pre>"
      ],
      "text/plain": [
       "| 552       | 16608.994705 | 0.430364      |"
      ]
     },
     "metadata": {},
     "output_type": "display_data"
    },
    {
     "data": {
      "text/html": [
       "<pre>| 553       | 16637.122591 | 0.430344      |</pre>"
      ],
      "text/plain": [
       "| 553       | 16637.122591 | 0.430344      |"
      ]
     },
     "metadata": {},
     "output_type": "display_data"
    },
    {
     "data": {
      "text/html": [
       "<pre>| 554       | 16668.461370 | 0.430316      |</pre>"
      ],
      "text/plain": [
       "| 554       | 16668.461370 | 0.430316      |"
      ]
     },
     "metadata": {},
     "output_type": "display_data"
    },
    {
     "data": {
      "text/html": [
       "<pre>| 555       | 16698.872989 | 0.430301      |</pre>"
      ],
      "text/plain": [
       "| 555       | 16698.872989 | 0.430301      |"
      ]
     },
     "metadata": {},
     "output_type": "display_data"
    },
    {
     "data": {
      "text/html": [
       "<pre>| 556       | 16727.746665 | 0.430266      |</pre>"
      ],
      "text/plain": [
       "| 556       | 16727.746665 | 0.430266      |"
      ]
     },
     "metadata": {},
     "output_type": "display_data"
    },
    {
     "data": {
      "text/html": [
       "<pre>| 557       | 16756.786170 | 0.430242      |</pre>"
      ],
      "text/plain": [
       "| 557       | 16756.786170 | 0.430242      |"
      ]
     },
     "metadata": {},
     "output_type": "display_data"
    },
    {
     "data": {
      "text/html": [
       "<pre>| 558       | 16786.850393 | 0.430236      |</pre>"
      ],
      "text/plain": [
       "| 558       | 16786.850393 | 0.430236      |"
      ]
     },
     "metadata": {},
     "output_type": "display_data"
    },
    {
     "data": {
      "text/html": [
       "<pre>| 559       | 16816.613923 | 0.430220      |</pre>"
      ],
      "text/plain": [
       "| 559       | 16816.613923 | 0.430220      |"
      ]
     },
     "metadata": {},
     "output_type": "display_data"
    },
    {
     "data": {
      "text/html": [
       "<pre>| 560       | 16845.480375 | 0.430195      |</pre>"
      ],
      "text/plain": [
       "| 560       | 16845.480375 | 0.430195      |"
      ]
     },
     "metadata": {},
     "output_type": "display_data"
    },
    {
     "data": {
      "text/html": [
       "<pre>| 561       | 16875.782627 | 0.430145      |</pre>"
      ],
      "text/plain": [
       "| 561       | 16875.782627 | 0.430145      |"
      ]
     },
     "metadata": {},
     "output_type": "display_data"
    },
    {
     "data": {
      "text/html": [
       "<pre>| 562       | 16907.208206 | 0.430126      |</pre>"
      ],
      "text/plain": [
       "| 562       | 16907.208206 | 0.430126      |"
      ]
     },
     "metadata": {},
     "output_type": "display_data"
    },
    {
     "data": {
      "text/html": [
       "<pre>| 563       | 16936.367426 | 0.430104      |</pre>"
      ],
      "text/plain": [
       "| 563       | 16936.367426 | 0.430104      |"
      ]
     },
     "metadata": {},
     "output_type": "display_data"
    },
    {
     "data": {
      "text/html": [
       "<pre>| 564       | 16967.886024 | 0.430080      |</pre>"
      ],
      "text/plain": [
       "| 564       | 16967.886024 | 0.430080      |"
      ]
     },
     "metadata": {},
     "output_type": "display_data"
    },
    {
     "data": {
      "text/html": [
       "<pre>| 565       | 16997.864163 | 0.430045      |</pre>"
      ],
      "text/plain": [
       "| 565       | 16997.864163 | 0.430045      |"
      ]
     },
     "metadata": {},
     "output_type": "display_data"
    },
    {
     "data": {
      "text/html": [
       "<pre>| 566       | 17027.792368 | 0.430010      |</pre>"
      ],
      "text/plain": [
       "| 566       | 17027.792368 | 0.430010      |"
      ]
     },
     "metadata": {},
     "output_type": "display_data"
    },
    {
     "data": {
      "text/html": [
       "<pre>| 567       | 17058.403172 | 0.429988      |</pre>"
      ],
      "text/plain": [
       "| 567       | 17058.403172 | 0.429988      |"
      ]
     },
     "metadata": {},
     "output_type": "display_data"
    },
    {
     "data": {
      "text/html": [
       "<pre>| 568       | 17088.648119 | 0.429968      |</pre>"
      ],
      "text/plain": [
       "| 568       | 17088.648119 | 0.429968      |"
      ]
     },
     "metadata": {},
     "output_type": "display_data"
    },
    {
     "data": {
      "text/html": [
       "<pre>| 569       | 17119.189458 | 0.429934      |</pre>"
      ],
      "text/plain": [
       "| 569       | 17119.189458 | 0.429934      |"
      ]
     },
     "metadata": {},
     "output_type": "display_data"
    },
    {
     "data": {
      "text/html": [
       "<pre>| 570       | 17147.227426 | 0.429918      |</pre>"
      ],
      "text/plain": [
       "| 570       | 17147.227426 | 0.429918      |"
      ]
     },
     "metadata": {},
     "output_type": "display_data"
    },
    {
     "data": {
      "text/html": [
       "<pre>| 571       | 17177.625323 | 0.429896      |</pre>"
      ],
      "text/plain": [
       "| 571       | 17177.625323 | 0.429896      |"
      ]
     },
     "metadata": {},
     "output_type": "display_data"
    },
    {
     "data": {
      "text/html": [
       "<pre>| 572       | 17206.895679 | 0.429880      |</pre>"
      ],
      "text/plain": [
       "| 572       | 17206.895679 | 0.429880      |"
      ]
     },
     "metadata": {},
     "output_type": "display_data"
    },
    {
     "data": {
      "text/html": [
       "<pre>| 573       | 17236.849845 | 0.429854      |</pre>"
      ],
      "text/plain": [
       "| 573       | 17236.849845 | 0.429854      |"
      ]
     },
     "metadata": {},
     "output_type": "display_data"
    },
    {
     "data": {
      "text/html": [
       "<pre>| 574       | 17267.900551 | 0.429824      |</pre>"
      ],
      "text/plain": [
       "| 574       | 17267.900551 | 0.429824      |"
      ]
     },
     "metadata": {},
     "output_type": "display_data"
    },
    {
     "data": {
      "text/html": [
       "<pre>| 575       | 17298.067757 | 0.429800      |</pre>"
      ],
      "text/plain": [
       "| 575       | 17298.067757 | 0.429800      |"
      ]
     },
     "metadata": {},
     "output_type": "display_data"
    },
    {
     "data": {
      "text/html": [
       "<pre>| 576       | 17329.207458 | 0.429748      |</pre>"
      ],
      "text/plain": [
       "| 576       | 17329.207458 | 0.429748      |"
      ]
     },
     "metadata": {},
     "output_type": "display_data"
    },
    {
     "data": {
      "text/html": [
       "<pre>| 577       | 17360.175266 | 0.429728      |</pre>"
      ],
      "text/plain": [
       "| 577       | 17360.175266 | 0.429728      |"
      ]
     },
     "metadata": {},
     "output_type": "display_data"
    },
    {
     "data": {
      "text/html": [
       "<pre>| 578       | 17390.775935 | 0.429696      |</pre>"
      ],
      "text/plain": [
       "| 578       | 17390.775935 | 0.429696      |"
      ]
     },
     "metadata": {},
     "output_type": "display_data"
    },
    {
     "data": {
      "text/html": [
       "<pre>| 579       | 17421.235427 | 0.429675      |</pre>"
      ],
      "text/plain": [
       "| 579       | 17421.235427 | 0.429675      |"
      ]
     },
     "metadata": {},
     "output_type": "display_data"
    },
    {
     "data": {
      "text/html": [
       "<pre>| 580       | 17450.591080 | 0.429659      |</pre>"
      ],
      "text/plain": [
       "| 580       | 17450.591080 | 0.429659      |"
      ]
     },
     "metadata": {},
     "output_type": "display_data"
    },
    {
     "data": {
      "text/html": [
       "<pre>| 581       | 17480.084659 | 0.429629      |</pre>"
      ],
      "text/plain": [
       "| 581       | 17480.084659 | 0.429629      |"
      ]
     },
     "metadata": {},
     "output_type": "display_data"
    },
    {
     "data": {
      "text/html": [
       "<pre>| 582       | 17507.240295 | 0.429601      |</pre>"
      ],
      "text/plain": [
       "| 582       | 17507.240295 | 0.429601      |"
      ]
     },
     "metadata": {},
     "output_type": "display_data"
    },
    {
     "data": {
      "text/html": [
       "<pre>| 583       | 17535.787817 | 0.429557      |</pre>"
      ],
      "text/plain": [
       "| 583       | 17535.787817 | 0.429557      |"
      ]
     },
     "metadata": {},
     "output_type": "display_data"
    },
    {
     "data": {
      "text/html": [
       "<pre>| 584       | 17566.780305 | 0.429542      |</pre>"
      ],
      "text/plain": [
       "| 584       | 17566.780305 | 0.429542      |"
      ]
     },
     "metadata": {},
     "output_type": "display_data"
    },
    {
     "data": {
      "text/html": [
       "<pre>| 585       | 17598.141170 | 0.429511      |</pre>"
      ],
      "text/plain": [
       "| 585       | 17598.141170 | 0.429511      |"
      ]
     },
     "metadata": {},
     "output_type": "display_data"
    },
    {
     "data": {
      "text/html": [
       "<pre>| 586       | 17627.863377 | 0.429479      |</pre>"
      ],
      "text/plain": [
       "| 586       | 17627.863377 | 0.429479      |"
      ]
     },
     "metadata": {},
     "output_type": "display_data"
    },
    {
     "data": {
      "text/html": [
       "<pre>| 587       | 17657.634041 | 0.429467      |</pre>"
      ],
      "text/plain": [
       "| 587       | 17657.634041 | 0.429467      |"
      ]
     },
     "metadata": {},
     "output_type": "display_data"
    },
    {
     "data": {
      "text/html": [
       "<pre>| 588       | 17687.304831 | 0.429450      |</pre>"
      ],
      "text/plain": [
       "| 588       | 17687.304831 | 0.429450      |"
      ]
     },
     "metadata": {},
     "output_type": "display_data"
    },
    {
     "data": {
      "text/html": [
       "<pre>| 589       | 17717.592908 | 0.429434      |</pre>"
      ],
      "text/plain": [
       "| 589       | 17717.592908 | 0.429434      |"
      ]
     },
     "metadata": {},
     "output_type": "display_data"
    },
    {
     "data": {
      "text/html": [
       "<pre>| 590       | 17747.773179 | 0.429413      |</pre>"
      ],
      "text/plain": [
       "| 590       | 17747.773179 | 0.429413      |"
      ]
     },
     "metadata": {},
     "output_type": "display_data"
    },
    {
     "data": {
      "text/html": [
       "<pre>| 591       | 17778.075078 | 0.429386      |</pre>"
      ],
      "text/plain": [
       "| 591       | 17778.075078 | 0.429386      |"
      ]
     },
     "metadata": {},
     "output_type": "display_data"
    },
    {
     "data": {
      "text/html": [
       "<pre>| 592       | 17806.317702 | 0.429377      |</pre>"
      ],
      "text/plain": [
       "| 592       | 17806.317702 | 0.429377      |"
      ]
     },
     "metadata": {},
     "output_type": "display_data"
    },
    {
     "data": {
      "text/html": [
       "<pre>| 593       | 17835.480969 | 0.429358      |</pre>"
      ],
      "text/plain": [
       "| 593       | 17835.480969 | 0.429358      |"
      ]
     },
     "metadata": {},
     "output_type": "display_data"
    },
    {
     "data": {
      "text/html": [
       "<pre>| 594       | 17866.681305 | 0.429337      |</pre>"
      ],
      "text/plain": [
       "| 594       | 17866.681305 | 0.429337      |"
      ]
     },
     "metadata": {},
     "output_type": "display_data"
    },
    {
     "data": {
      "text/html": [
       "<pre>| 595       | 17895.598087 | 0.429322      |</pre>"
      ],
      "text/plain": [
       "| 595       | 17895.598087 | 0.429322      |"
      ]
     },
     "metadata": {},
     "output_type": "display_data"
    },
    {
     "data": {
      "text/html": [
       "<pre>| 596       | 17923.881054 | 0.429304      |</pre>"
      ],
      "text/plain": [
       "| 596       | 17923.881054 | 0.429304      |"
      ]
     },
     "metadata": {},
     "output_type": "display_data"
    },
    {
     "data": {
      "text/html": [
       "<pre>| 597       | 17953.235515 | 0.429295      |</pre>"
      ],
      "text/plain": [
       "| 597       | 17953.235515 | 0.429295      |"
      ]
     },
     "metadata": {},
     "output_type": "display_data"
    },
    {
     "data": {
      "text/html": [
       "<pre>| 598       | 17983.555990 | 0.429266      |</pre>"
      ],
      "text/plain": [
       "| 598       | 17983.555990 | 0.429266      |"
      ]
     },
     "metadata": {},
     "output_type": "display_data"
    },
    {
     "data": {
      "text/html": [
       "<pre>| 599       | 18010.904681 | 0.429247      |</pre>"
      ],
      "text/plain": [
       "| 599       | 18010.904681 | 0.429247      |"
      ]
     },
     "metadata": {},
     "output_type": "display_data"
    },
    {
     "data": {
      "text/html": [
       "<pre>| 600       | 18041.470724 | 0.429230      |</pre>"
      ],
      "text/plain": [
       "| 600       | 18041.470724 | 0.429230      |"
      ]
     },
     "metadata": {},
     "output_type": "display_data"
    },
    {
     "data": {
      "text/html": [
       "<pre>| 601       | 18071.340853 | 0.429202      |</pre>"
      ],
      "text/plain": [
       "| 601       | 18071.340853 | 0.429202      |"
      ]
     },
     "metadata": {},
     "output_type": "display_data"
    },
    {
     "data": {
      "text/html": [
       "<pre>| 602       | 18102.737440 | 0.429170      |</pre>"
      ],
      "text/plain": [
       "| 602       | 18102.737440 | 0.429170      |"
      ]
     },
     "metadata": {},
     "output_type": "display_data"
    },
    {
     "data": {
      "text/html": [
       "<pre>| 603       | 18134.345661 | 0.429151      |</pre>"
      ],
      "text/plain": [
       "| 603       | 18134.345661 | 0.429151      |"
      ]
     },
     "metadata": {},
     "output_type": "display_data"
    },
    {
     "data": {
      "text/html": [
       "<pre>| 604       | 18165.978914 | 0.429125      |</pre>"
      ],
      "text/plain": [
       "| 604       | 18165.978914 | 0.429125      |"
      ]
     },
     "metadata": {},
     "output_type": "display_data"
    },
    {
     "data": {
      "text/html": [
       "<pre>| 605       | 18196.640184 | 0.429104      |</pre>"
      ],
      "text/plain": [
       "| 605       | 18196.640184 | 0.429104      |"
      ]
     },
     "metadata": {},
     "output_type": "display_data"
    },
    {
     "data": {
      "text/html": [
       "<pre>| 606       | 18227.290365 | 0.429081      |</pre>"
      ],
      "text/plain": [
       "| 606       | 18227.290365 | 0.429081      |"
      ]
     },
     "metadata": {},
     "output_type": "display_data"
    },
    {
     "data": {
      "text/html": [
       "<pre>| 607       | 18253.486434 | 0.429058      |</pre>"
      ],
      "text/plain": [
       "| 607       | 18253.486434 | 0.429058      |"
      ]
     },
     "metadata": {},
     "output_type": "display_data"
    },
    {
     "data": {
      "text/html": [
       "<pre>| 608       | 18283.676117 | 0.429044      |</pre>"
      ],
      "text/plain": [
       "| 608       | 18283.676117 | 0.429044      |"
      ]
     },
     "metadata": {},
     "output_type": "display_data"
    },
    {
     "data": {
      "text/html": [
       "<pre>| 609       | 18313.297022 | 0.429025      |</pre>"
      ],
      "text/plain": [
       "| 609       | 18313.297022 | 0.429025      |"
      ]
     },
     "metadata": {},
     "output_type": "display_data"
    },
    {
     "data": {
      "text/html": [
       "<pre>| 610       | 18342.806302 | 0.429008      |</pre>"
      ],
      "text/plain": [
       "| 610       | 18342.806302 | 0.429008      |"
      ]
     },
     "metadata": {},
     "output_type": "display_data"
    },
    {
     "data": {
      "text/html": [
       "<pre>| 611       | 18372.381443 | 0.428988      |</pre>"
      ],
      "text/plain": [
       "| 611       | 18372.381443 | 0.428988      |"
      ]
     },
     "metadata": {},
     "output_type": "display_data"
    },
    {
     "data": {
      "text/html": [
       "<pre>| 612       | 18401.678770 | 0.428980      |</pre>"
      ],
      "text/plain": [
       "| 612       | 18401.678770 | 0.428980      |"
      ]
     },
     "metadata": {},
     "output_type": "display_data"
    },
    {
     "data": {
      "text/html": [
       "<pre>| 613       | 18430.129389 | 0.428968      |</pre>"
      ],
      "text/plain": [
       "| 613       | 18430.129389 | 0.428968      |"
      ]
     },
     "metadata": {},
     "output_type": "display_data"
    },
    {
     "data": {
      "text/html": [
       "<pre>| 614       | 18462.043985 | 0.428957      |</pre>"
      ],
      "text/plain": [
       "| 614       | 18462.043985 | 0.428957      |"
      ]
     },
     "metadata": {},
     "output_type": "display_data"
    },
    {
     "data": {
      "text/html": [
       "<pre>| 615       | 18492.676702 | 0.428945      |</pre>"
      ],
      "text/plain": [
       "| 615       | 18492.676702 | 0.428945      |"
      ]
     },
     "metadata": {},
     "output_type": "display_data"
    },
    {
     "data": {
      "text/html": [
       "<pre>| 616       | 18524.223867 | 0.428934      |</pre>"
      ],
      "text/plain": [
       "| 616       | 18524.223867 | 0.428934      |"
      ]
     },
     "metadata": {},
     "output_type": "display_data"
    },
    {
     "data": {
      "text/html": [
       "<pre>| 617       | 18554.988949 | 0.428921      |</pre>"
      ],
      "text/plain": [
       "| 617       | 18554.988949 | 0.428921      |"
      ]
     },
     "metadata": {},
     "output_type": "display_data"
    },
    {
     "data": {
      "text/html": [
       "<pre>| 618       | 18583.619345 | 0.428906      |</pre>"
      ],
      "text/plain": [
       "| 618       | 18583.619345 | 0.428906      |"
      ]
     },
     "metadata": {},
     "output_type": "display_data"
    },
    {
     "data": {
      "text/html": [
       "<pre>| 619       | 18614.474002 | 0.428882      |</pre>"
      ],
      "text/plain": [
       "| 619       | 18614.474002 | 0.428882      |"
      ]
     },
     "metadata": {},
     "output_type": "display_data"
    },
    {
     "data": {
      "text/html": [
       "<pre>| 620       | 18643.135178 | 0.428861      |</pre>"
      ],
      "text/plain": [
       "| 620       | 18643.135178 | 0.428861      |"
      ]
     },
     "metadata": {},
     "output_type": "display_data"
    },
    {
     "data": {
      "text/html": [
       "<pre>| 621       | 18674.498452 | 0.428828      |</pre>"
      ],
      "text/plain": [
       "| 621       | 18674.498452 | 0.428828      |"
      ]
     },
     "metadata": {},
     "output_type": "display_data"
    },
    {
     "data": {
      "text/html": [
       "<pre>| 622       | 18702.575986 | 0.428811      |</pre>"
      ],
      "text/plain": [
       "| 622       | 18702.575986 | 0.428811      |"
      ]
     },
     "metadata": {},
     "output_type": "display_data"
    },
    {
     "data": {
      "text/html": [
       "<pre>| 623       | 18732.862962 | 0.428790      |</pre>"
      ],
      "text/plain": [
       "| 623       | 18732.862962 | 0.428790      |"
      ]
     },
     "metadata": {},
     "output_type": "display_data"
    },
    {
     "data": {
      "text/html": [
       "<pre>| 624       | 18762.497235 | 0.428775      |</pre>"
      ],
      "text/plain": [
       "| 624       | 18762.497235 | 0.428775      |"
      ]
     },
     "metadata": {},
     "output_type": "display_data"
    },
    {
     "data": {
      "text/html": [
       "<pre>| 625       | 18793.664040 | 0.428755      |</pre>"
      ],
      "text/plain": [
       "| 625       | 18793.664040 | 0.428755      |"
      ]
     },
     "metadata": {},
     "output_type": "display_data"
    },
    {
     "data": {
      "text/html": [
       "<pre>| 626       | 18823.755017 | 0.428741      |</pre>"
      ],
      "text/plain": [
       "| 626       | 18823.755017 | 0.428741      |"
      ]
     },
     "metadata": {},
     "output_type": "display_data"
    },
    {
     "data": {
      "text/html": [
       "<pre>| 627       | 18853.523793 | 0.428728      |</pre>"
      ],
      "text/plain": [
       "| 627       | 18853.523793 | 0.428728      |"
      ]
     },
     "metadata": {},
     "output_type": "display_data"
    },
    {
     "data": {
      "text/html": [
       "<pre>| 628       | 18884.194972 | 0.428711      |</pre>"
      ],
      "text/plain": [
       "| 628       | 18884.194972 | 0.428711      |"
      ]
     },
     "metadata": {},
     "output_type": "display_data"
    },
    {
     "data": {
      "text/html": [
       "<pre>| 629       | 18914.159605 | 0.428697      |</pre>"
      ],
      "text/plain": [
       "| 629       | 18914.159605 | 0.428697      |"
      ]
     },
     "metadata": {},
     "output_type": "display_data"
    },
    {
     "data": {
      "text/html": [
       "<pre>| 630       | 18942.755713 | 0.428664      |</pre>"
      ],
      "text/plain": [
       "| 630       | 18942.755713 | 0.428664      |"
      ]
     },
     "metadata": {},
     "output_type": "display_data"
    },
    {
     "data": {
      "text/html": [
       "<pre>| 631       | 18972.273808 | 0.428642      |</pre>"
      ],
      "text/plain": [
       "| 631       | 18972.273808 | 0.428642      |"
      ]
     },
     "metadata": {},
     "output_type": "display_data"
    },
    {
     "data": {
      "text/html": [
       "<pre>| 632       | 19002.650212 | 0.428606      |</pre>"
      ],
      "text/plain": [
       "| 632       | 19002.650212 | 0.428606      |"
      ]
     },
     "metadata": {},
     "output_type": "display_data"
    },
    {
     "data": {
      "text/html": [
       "<pre>| 633       | 19030.223055 | 0.428571      |</pre>"
      ],
      "text/plain": [
       "| 633       | 19030.223055 | 0.428571      |"
      ]
     },
     "metadata": {},
     "output_type": "display_data"
    },
    {
     "data": {
      "text/html": [
       "<pre>| 634       | 19061.267665 | 0.428532      |</pre>"
      ],
      "text/plain": [
       "| 634       | 19061.267665 | 0.428532      |"
      ]
     },
     "metadata": {},
     "output_type": "display_data"
    },
    {
     "data": {
      "text/html": [
       "<pre>| 635       | 19088.895093 | 0.428498      |</pre>"
      ],
      "text/plain": [
       "| 635       | 19088.895093 | 0.428498      |"
      ]
     },
     "metadata": {},
     "output_type": "display_data"
    },
    {
     "data": {
      "text/html": [
       "<pre>| 636       | 19118.192577 | 0.428486      |</pre>"
      ],
      "text/plain": [
       "| 636       | 19118.192577 | 0.428486      |"
      ]
     },
     "metadata": {},
     "output_type": "display_data"
    },
    {
     "data": {
      "text/html": [
       "<pre>| 637       | 19148.971133 | 0.428471      |</pre>"
      ],
      "text/plain": [
       "| 637       | 19148.971133 | 0.428471      |"
      ]
     },
     "metadata": {},
     "output_type": "display_data"
    },
    {
     "data": {
      "text/html": [
       "<pre>| 638       | 19179.617156 | 0.428442      |</pre>"
      ],
      "text/plain": [
       "| 638       | 19179.617156 | 0.428442      |"
      ]
     },
     "metadata": {},
     "output_type": "display_data"
    },
    {
     "data": {
      "text/html": [
       "<pre>| 639       | 19207.330112 | 0.428435      |</pre>"
      ],
      "text/plain": [
       "| 639       | 19207.330112 | 0.428435      |"
      ]
     },
     "metadata": {},
     "output_type": "display_data"
    },
    {
     "data": {
      "text/html": [
       "<pre>| 640       | 19236.077838 | 0.428411      |</pre>"
      ],
      "text/plain": [
       "| 640       | 19236.077838 | 0.428411      |"
      ]
     },
     "metadata": {},
     "output_type": "display_data"
    },
    {
     "data": {
      "text/html": [
       "<pre>| 641       | 19264.204802 | 0.428382      |</pre>"
      ],
      "text/plain": [
       "| 641       | 19264.204802 | 0.428382      |"
      ]
     },
     "metadata": {},
     "output_type": "display_data"
    },
    {
     "data": {
      "text/html": [
       "<pre>| 642       | 19295.612606 | 0.428357      |</pre>"
      ],
      "text/plain": [
       "| 642       | 19295.612606 | 0.428357      |"
      ]
     },
     "metadata": {},
     "output_type": "display_data"
    },
    {
     "data": {
      "text/html": [
       "<pre>| 643       | 19326.714729 | 0.428343      |</pre>"
      ],
      "text/plain": [
       "| 643       | 19326.714729 | 0.428343      |"
      ]
     },
     "metadata": {},
     "output_type": "display_data"
    },
    {
     "data": {
      "text/html": [
       "<pre>| 644       | 19356.149881 | 0.428312      |</pre>"
      ],
      "text/plain": [
       "| 644       | 19356.149881 | 0.428312      |"
      ]
     },
     "metadata": {},
     "output_type": "display_data"
    },
    {
     "data": {
      "text/html": [
       "<pre>| 645       | 19386.432413 | 0.428305      |</pre>"
      ],
      "text/plain": [
       "| 645       | 19386.432413 | 0.428305      |"
      ]
     },
     "metadata": {},
     "output_type": "display_data"
    },
    {
     "data": {
      "text/html": [
       "<pre>| 646       | 19415.598024 | 0.428288      |</pre>"
      ],
      "text/plain": [
       "| 646       | 19415.598024 | 0.428288      |"
      ]
     },
     "metadata": {},
     "output_type": "display_data"
    },
    {
     "data": {
      "text/html": [
       "<pre>| 647       | 19445.962042 | 0.428271      |</pre>"
      ],
      "text/plain": [
       "| 647       | 19445.962042 | 0.428271      |"
      ]
     },
     "metadata": {},
     "output_type": "display_data"
    },
    {
     "data": {
      "text/html": [
       "<pre>| 648       | 19474.530542 | 0.428241      |</pre>"
      ],
      "text/plain": [
       "| 648       | 19474.530542 | 0.428241      |"
      ]
     },
     "metadata": {},
     "output_type": "display_data"
    },
    {
     "data": {
      "text/html": [
       "<pre>| 649       | 19503.340099 | 0.428221      |</pre>"
      ],
      "text/plain": [
       "| 649       | 19503.340099 | 0.428221      |"
      ]
     },
     "metadata": {},
     "output_type": "display_data"
    },
    {
     "data": {
      "text/html": [
       "<pre>| 650       | 19531.864709 | 0.428201      |</pre>"
      ],
      "text/plain": [
       "| 650       | 19531.864709 | 0.428201      |"
      ]
     },
     "metadata": {},
     "output_type": "display_data"
    },
    {
     "data": {
      "text/html": [
       "<pre>| 651       | 19560.528479 | 0.428183      |</pre>"
      ],
      "text/plain": [
       "| 651       | 19560.528479 | 0.428183      |"
      ]
     },
     "metadata": {},
     "output_type": "display_data"
    },
    {
     "data": {
      "text/html": [
       "<pre>| 652       | 19589.503715 | 0.428163      |</pre>"
      ],
      "text/plain": [
       "| 652       | 19589.503715 | 0.428163      |"
      ]
     },
     "metadata": {},
     "output_type": "display_data"
    },
    {
     "data": {
      "text/html": [
       "<pre>| 653       | 19619.819532 | 0.428147      |</pre>"
      ],
      "text/plain": [
       "| 653       | 19619.819532 | 0.428147      |"
      ]
     },
     "metadata": {},
     "output_type": "display_data"
    },
    {
     "data": {
      "text/html": [
       "<pre>| 654       | 19650.303601 | 0.428135      |</pre>"
      ],
      "text/plain": [
       "| 654       | 19650.303601 | 0.428135      |"
      ]
     },
     "metadata": {},
     "output_type": "display_data"
    },
    {
     "data": {
      "text/html": [
       "<pre>| 655       | 19681.236642 | 0.428106      |</pre>"
      ],
      "text/plain": [
       "| 655       | 19681.236642 | 0.428106      |"
      ]
     },
     "metadata": {},
     "output_type": "display_data"
    },
    {
     "data": {
      "text/html": [
       "<pre>| 656       | 19713.183889 | 0.428080      |</pre>"
      ],
      "text/plain": [
       "| 656       | 19713.183889 | 0.428080      |"
      ]
     },
     "metadata": {},
     "output_type": "display_data"
    },
    {
     "data": {
      "text/html": [
       "<pre>| 657       | 19743.079957 | 0.428070      |</pre>"
      ],
      "text/plain": [
       "| 657       | 19743.079957 | 0.428070      |"
      ]
     },
     "metadata": {},
     "output_type": "display_data"
    },
    {
     "data": {
      "text/html": [
       "<pre>| 658       | 19773.630573 | 0.428053      |</pre>"
      ],
      "text/plain": [
       "| 658       | 19773.630573 | 0.428053      |"
      ]
     },
     "metadata": {},
     "output_type": "display_data"
    },
    {
     "data": {
      "text/html": [
       "<pre>| 659       | 19802.181160 | 0.428032      |</pre>"
      ],
      "text/plain": [
       "| 659       | 19802.181160 | 0.428032      |"
      ]
     },
     "metadata": {},
     "output_type": "display_data"
    },
    {
     "data": {
      "text/html": [
       "<pre>| 660       | 19830.983965 | 0.428022      |</pre>"
      ],
      "text/plain": [
       "| 660       | 19830.983965 | 0.428022      |"
      ]
     },
     "metadata": {},
     "output_type": "display_data"
    },
    {
     "data": {
      "text/html": [
       "<pre>| 661       | 19860.440124 | 0.428005      |</pre>"
      ],
      "text/plain": [
       "| 661       | 19860.440124 | 0.428005      |"
      ]
     },
     "metadata": {},
     "output_type": "display_data"
    },
    {
     "data": {
      "text/html": [
       "<pre>| 662       | 19893.471527 | 0.427980      |</pre>"
      ],
      "text/plain": [
       "| 662       | 19893.471527 | 0.427980      |"
      ]
     },
     "metadata": {},
     "output_type": "display_data"
    },
    {
     "data": {
      "text/html": [
       "<pre>| 663       | 19923.193946 | 0.427968      |</pre>"
      ],
      "text/plain": [
       "| 663       | 19923.193946 | 0.427968      |"
      ]
     },
     "metadata": {},
     "output_type": "display_data"
    },
    {
     "data": {
      "text/html": [
       "<pre>| 664       | 19949.986510 | 0.427954      |</pre>"
      ],
      "text/plain": [
       "| 664       | 19949.986510 | 0.427954      |"
      ]
     },
     "metadata": {},
     "output_type": "display_data"
    },
    {
     "data": {
      "text/html": [
       "<pre>| 665       | 19979.771272 | 0.427943      |</pre>"
      ],
      "text/plain": [
       "| 665       | 19979.771272 | 0.427943      |"
      ]
     },
     "metadata": {},
     "output_type": "display_data"
    },
    {
     "data": {
      "text/html": [
       "<pre>| 666       | 20008.579496 | 0.427928      |</pre>"
      ],
      "text/plain": [
       "| 666       | 20008.579496 | 0.427928      |"
      ]
     },
     "metadata": {},
     "output_type": "display_data"
    },
    {
     "data": {
      "text/html": [
       "<pre>| 667       | 20039.562752 | 0.427908      |</pre>"
      ],
      "text/plain": [
       "| 667       | 20039.562752 | 0.427908      |"
      ]
     },
     "metadata": {},
     "output_type": "display_data"
    },
    {
     "data": {
      "text/html": [
       "<pre>| 668       | 20068.110716 | 0.427885      |</pre>"
      ],
      "text/plain": [
       "| 668       | 20068.110716 | 0.427885      |"
      ]
     },
     "metadata": {},
     "output_type": "display_data"
    },
    {
     "data": {
      "text/html": [
       "<pre>| 669       | 20099.909855 | 0.427871      |</pre>"
      ],
      "text/plain": [
       "| 669       | 20099.909855 | 0.427871      |"
      ]
     },
     "metadata": {},
     "output_type": "display_data"
    },
    {
     "data": {
      "text/html": [
       "<pre>| 670       | 20126.203776 | 0.427860      |</pre>"
      ],
      "text/plain": [
       "| 670       | 20126.203776 | 0.427860      |"
      ]
     },
     "metadata": {},
     "output_type": "display_data"
    },
    {
     "data": {
      "text/html": [
       "<pre>| 671       | 20157.170833 | 0.427830      |</pre>"
      ],
      "text/plain": [
       "| 671       | 20157.170833 | 0.427830      |"
      ]
     },
     "metadata": {},
     "output_type": "display_data"
    },
    {
     "data": {
      "text/html": [
       "<pre>| 672       | 20187.622348 | 0.427814      |</pre>"
      ],
      "text/plain": [
       "| 672       | 20187.622348 | 0.427814      |"
      ]
     },
     "metadata": {},
     "output_type": "display_data"
    },
    {
     "data": {
      "text/html": [
       "<pre>| 673       | 20219.525163 | 0.427783      |</pre>"
      ],
      "text/plain": [
       "| 673       | 20219.525163 | 0.427783      |"
      ]
     },
     "metadata": {},
     "output_type": "display_data"
    },
    {
     "data": {
      "text/html": [
       "<pre>| 674       | 20248.791876 | 0.427753      |</pre>"
      ],
      "text/plain": [
       "| 674       | 20248.791876 | 0.427753      |"
      ]
     },
     "metadata": {},
     "output_type": "display_data"
    },
    {
     "data": {
      "text/html": [
       "<pre>| 675       | 20278.635956 | 0.427720      |</pre>"
      ],
      "text/plain": [
       "| 675       | 20278.635956 | 0.427720      |"
      ]
     },
     "metadata": {},
     "output_type": "display_data"
    },
    {
     "data": {
      "text/html": [
       "<pre>| 676       | 20305.836547 | 0.427718      |</pre>"
      ],
      "text/plain": [
       "| 676       | 20305.836547 | 0.427718      |"
      ]
     },
     "metadata": {},
     "output_type": "display_data"
    },
    {
     "data": {
      "text/html": [
       "<pre>| 677       | 20335.080510 | 0.427711      |</pre>"
      ],
      "text/plain": [
       "| 677       | 20335.080510 | 0.427711      |"
      ]
     },
     "metadata": {},
     "output_type": "display_data"
    },
    {
     "data": {
      "text/html": [
       "<pre>| 678       | 20366.150667 | 0.427693      |</pre>"
      ],
      "text/plain": [
       "| 678       | 20366.150667 | 0.427693      |"
      ]
     },
     "metadata": {},
     "output_type": "display_data"
    },
    {
     "data": {
      "text/html": [
       "<pre>| 679       | 20397.270055 | 0.427680      |</pre>"
      ],
      "text/plain": [
       "| 679       | 20397.270055 | 0.427680      |"
      ]
     },
     "metadata": {},
     "output_type": "display_data"
    },
    {
     "data": {
      "text/html": [
       "<pre>| 680       | 20426.712573 | 0.427669      |</pre>"
      ],
      "text/plain": [
       "| 680       | 20426.712573 | 0.427669      |"
      ]
     },
     "metadata": {},
     "output_type": "display_data"
    },
    {
     "data": {
      "text/html": [
       "<pre>| 681       | 20455.732388 | 0.427658      |</pre>"
      ],
      "text/plain": [
       "| 681       | 20455.732388 | 0.427658      |"
      ]
     },
     "metadata": {},
     "output_type": "display_data"
    },
    {
     "data": {
      "text/html": [
       "<pre>| 682       | 20486.496748 | 0.427640      |</pre>"
      ],
      "text/plain": [
       "| 682       | 20486.496748 | 0.427640      |"
      ]
     },
     "metadata": {},
     "output_type": "display_data"
    },
    {
     "data": {
      "text/html": [
       "<pre>| 683       | 20516.776198 | 0.427627      |</pre>"
      ],
      "text/plain": [
       "| 683       | 20516.776198 | 0.427627      |"
      ]
     },
     "metadata": {},
     "output_type": "display_data"
    },
    {
     "data": {
      "text/html": [
       "<pre>| 684       | 20548.283469 | 0.427606      |</pre>"
      ],
      "text/plain": [
       "| 684       | 20548.283469 | 0.427606      |"
      ]
     },
     "metadata": {},
     "output_type": "display_data"
    },
    {
     "data": {
      "text/html": [
       "<pre>| 685       | 20578.132373 | 0.427590      |</pre>"
      ],
      "text/plain": [
       "| 685       | 20578.132373 | 0.427590      |"
      ]
     },
     "metadata": {},
     "output_type": "display_data"
    },
    {
     "data": {
      "text/html": [
       "<pre>| 686       | 20606.494163 | 0.427556      |</pre>"
      ],
      "text/plain": [
       "| 686       | 20606.494163 | 0.427556      |"
      ]
     },
     "metadata": {},
     "output_type": "display_data"
    },
    {
     "data": {
      "text/html": [
       "<pre>| 687       | 20637.017286 | 0.427538      |</pre>"
      ],
      "text/plain": [
       "| 687       | 20637.017286 | 0.427538      |"
      ]
     },
     "metadata": {},
     "output_type": "display_data"
    },
    {
     "data": {
      "text/html": [
       "<pre>| 688       | 20666.263376 | 0.427518      |</pre>"
      ],
      "text/plain": [
       "| 688       | 20666.263376 | 0.427518      |"
      ]
     },
     "metadata": {},
     "output_type": "display_data"
    },
    {
     "data": {
      "text/html": [
       "<pre>| 689       | 20696.526469 | 0.427487      |</pre>"
      ],
      "text/plain": [
       "| 689       | 20696.526469 | 0.427487      |"
      ]
     },
     "metadata": {},
     "output_type": "display_data"
    },
    {
     "data": {
      "text/html": [
       "<pre>| 690       | 20725.128232 | 0.427473      |</pre>"
      ],
      "text/plain": [
       "| 690       | 20725.128232 | 0.427473      |"
      ]
     },
     "metadata": {},
     "output_type": "display_data"
    },
    {
     "data": {
      "text/html": [
       "<pre>| 691       | 20757.551432 | 0.427435      |</pre>"
      ],
      "text/plain": [
       "| 691       | 20757.551432 | 0.427435      |"
      ]
     },
     "metadata": {},
     "output_type": "display_data"
    },
    {
     "data": {
      "text/html": [
       "<pre>| 692       | 20789.243455 | 0.427428      |</pre>"
      ],
      "text/plain": [
       "| 692       | 20789.243455 | 0.427428      |"
      ]
     },
     "metadata": {},
     "output_type": "display_data"
    },
    {
     "data": {
      "text/html": [
       "<pre>| 693       | 20819.686020 | 0.427408      |</pre>"
      ],
      "text/plain": [
       "| 693       | 20819.686020 | 0.427408      |"
      ]
     },
     "metadata": {},
     "output_type": "display_data"
    },
    {
     "data": {
      "text/html": [
       "<pre>| 694       | 20847.897652 | 0.427388      |</pre>"
      ],
      "text/plain": [
       "| 694       | 20847.897652 | 0.427388      |"
      ]
     },
     "metadata": {},
     "output_type": "display_data"
    },
    {
     "data": {
      "text/html": [
       "<pre>| 695       | 20875.799920 | 0.427375      |</pre>"
      ],
      "text/plain": [
       "| 695       | 20875.799920 | 0.427375      |"
      ]
     },
     "metadata": {},
     "output_type": "display_data"
    },
    {
     "data": {
      "text/html": [
       "<pre>| 696       | 20905.582704 | 0.427359      |</pre>"
      ],
      "text/plain": [
       "| 696       | 20905.582704 | 0.427359      |"
      ]
     },
     "metadata": {},
     "output_type": "display_data"
    },
    {
     "data": {
      "text/html": [
       "<pre>| 697       | 20933.238104 | 0.427352      |</pre>"
      ],
      "text/plain": [
       "| 697       | 20933.238104 | 0.427352      |"
      ]
     },
     "metadata": {},
     "output_type": "display_data"
    },
    {
     "data": {
      "text/html": [
       "<pre>| 698       | 20961.821889 | 0.427336      |</pre>"
      ],
      "text/plain": [
       "| 698       | 20961.821889 | 0.427336      |"
      ]
     },
     "metadata": {},
     "output_type": "display_data"
    },
    {
     "data": {
      "text/html": [
       "<pre>| 699       | 20992.816241 | 0.427313      |</pre>"
      ],
      "text/plain": [
       "| 699       | 20992.816241 | 0.427313      |"
      ]
     },
     "metadata": {},
     "output_type": "display_data"
    },
    {
     "data": {
      "text/html": [
       "<pre>| 700       | 21023.305288 | 0.427296      |</pre>"
      ],
      "text/plain": [
       "| 700       | 21023.305288 | 0.427296      |"
      ]
     },
     "metadata": {},
     "output_type": "display_data"
    },
    {
     "data": {
      "text/html": [
       "<pre>| 701       | 21054.834597 | 0.427279      |</pre>"
      ],
      "text/plain": [
       "| 701       | 21054.834597 | 0.427279      |"
      ]
     },
     "metadata": {},
     "output_type": "display_data"
    },
    {
     "data": {
      "text/html": [
       "<pre>| 702       | 21084.125162 | 0.427259      |</pre>"
      ],
      "text/plain": [
       "| 702       | 21084.125162 | 0.427259      |"
      ]
     },
     "metadata": {},
     "output_type": "display_data"
    },
    {
     "data": {
      "text/html": [
       "<pre>| 703       | 21112.537317 | 0.427253      |</pre>"
      ],
      "text/plain": [
       "| 703       | 21112.537317 | 0.427253      |"
      ]
     },
     "metadata": {},
     "output_type": "display_data"
    },
    {
     "data": {
      "text/html": [
       "<pre>| 704       | 21143.797305 | 0.427235      |</pre>"
      ],
      "text/plain": [
       "| 704       | 21143.797305 | 0.427235      |"
      ]
     },
     "metadata": {},
     "output_type": "display_data"
    },
    {
     "data": {
      "text/html": [
       "<pre>| 705       | 21171.126537 | 0.427216      |</pre>"
      ],
      "text/plain": [
       "| 705       | 21171.126537 | 0.427216      |"
      ]
     },
     "metadata": {},
     "output_type": "display_data"
    },
    {
     "data": {
      "text/html": [
       "<pre>| 706       | 21199.552712 | 0.427212      |</pre>"
      ],
      "text/plain": [
       "| 706       | 21199.552712 | 0.427212      |"
      ]
     },
     "metadata": {},
     "output_type": "display_data"
    },
    {
     "data": {
      "text/html": [
       "<pre>| 707       | 21229.989199 | 0.427188      |</pre>"
      ],
      "text/plain": [
       "| 707       | 21229.989199 | 0.427188      |"
      ]
     },
     "metadata": {},
     "output_type": "display_data"
    },
    {
     "data": {
      "text/html": [
       "<pre>| 708       | 21257.763951 | 0.427179      |</pre>"
      ],
      "text/plain": [
       "| 708       | 21257.763951 | 0.427179      |"
      ]
     },
     "metadata": {},
     "output_type": "display_data"
    },
    {
     "data": {
      "text/html": [
       "<pre>| 709       | 21288.628783 | 0.427159      |</pre>"
      ],
      "text/plain": [
       "| 709       | 21288.628783 | 0.427159      |"
      ]
     },
     "metadata": {},
     "output_type": "display_data"
    },
    {
     "data": {
      "text/html": [
       "<pre>| 710       | 21317.515116 | 0.427134      |</pre>"
      ],
      "text/plain": [
       "| 710       | 21317.515116 | 0.427134      |"
      ]
     },
     "metadata": {},
     "output_type": "display_data"
    },
    {
     "data": {
      "text/html": [
       "<pre>| 711       | 21344.824266 | 0.427118      |</pre>"
      ],
      "text/plain": [
       "| 711       | 21344.824266 | 0.427118      |"
      ]
     },
     "metadata": {},
     "output_type": "display_data"
    },
    {
     "data": {
      "text/html": [
       "<pre>| 712       | 21373.909548 | 0.427094      |</pre>"
      ],
      "text/plain": [
       "| 712       | 21373.909548 | 0.427094      |"
      ]
     },
     "metadata": {},
     "output_type": "display_data"
    },
    {
     "data": {
      "text/html": [
       "<pre>| 713       | 21403.727726 | 0.427067      |</pre>"
      ],
      "text/plain": [
       "| 713       | 21403.727726 | 0.427067      |"
      ]
     },
     "metadata": {},
     "output_type": "display_data"
    },
    {
     "data": {
      "text/html": [
       "<pre>| 714       | 21432.218819 | 0.427044      |</pre>"
      ],
      "text/plain": [
       "| 714       | 21432.218819 | 0.427044      |"
      ]
     },
     "metadata": {},
     "output_type": "display_data"
    },
    {
     "data": {
      "text/html": [
       "<pre>| 715       | 21462.123155 | 0.427019      |</pre>"
      ],
      "text/plain": [
       "| 715       | 21462.123155 | 0.427019      |"
      ]
     },
     "metadata": {},
     "output_type": "display_data"
    },
    {
     "data": {
      "text/html": [
       "<pre>| 716       | 21491.079036 | 0.427001      |</pre>"
      ],
      "text/plain": [
       "| 716       | 21491.079036 | 0.427001      |"
      ]
     },
     "metadata": {},
     "output_type": "display_data"
    },
    {
     "data": {
      "text/html": [
       "<pre>| 717       | 21521.569171 | 0.426986      |</pre>"
      ],
      "text/plain": [
       "| 717       | 21521.569171 | 0.426986      |"
      ]
     },
     "metadata": {},
     "output_type": "display_data"
    },
    {
     "data": {
      "text/html": [
       "<pre>| 718       | 21550.961742 | 0.426957      |</pre>"
      ],
      "text/plain": [
       "| 718       | 21550.961742 | 0.426957      |"
      ]
     },
     "metadata": {},
     "output_type": "display_data"
    },
    {
     "data": {
      "text/html": [
       "<pre>| 719       | 21582.472548 | 0.426941      |</pre>"
      ],
      "text/plain": [
       "| 719       | 21582.472548 | 0.426941      |"
      ]
     },
     "metadata": {},
     "output_type": "display_data"
    },
    {
     "data": {
      "text/html": [
       "<pre>| 720       | 21612.243481 | 0.426926      |</pre>"
      ],
      "text/plain": [
       "| 720       | 21612.243481 | 0.426926      |"
      ]
     },
     "metadata": {},
     "output_type": "display_data"
    },
    {
     "data": {
      "text/html": [
       "<pre>| 721       | 21642.405767 | 0.426911      |</pre>"
      ],
      "text/plain": [
       "| 721       | 21642.405767 | 0.426911      |"
      ]
     },
     "metadata": {},
     "output_type": "display_data"
    },
    {
     "data": {
      "text/html": [
       "<pre>| 722       | 21673.072591 | 0.426885      |</pre>"
      ],
      "text/plain": [
       "| 722       | 21673.072591 | 0.426885      |"
      ]
     },
     "metadata": {},
     "output_type": "display_data"
    },
    {
     "data": {
      "text/html": [
       "<pre>| 723       | 21703.453528 | 0.426873      |</pre>"
      ],
      "text/plain": [
       "| 723       | 21703.453528 | 0.426873      |"
      ]
     },
     "metadata": {},
     "output_type": "display_data"
    },
    {
     "data": {
      "text/html": [
       "<pre>| 724       | 21735.219455 | 0.426866      |</pre>"
      ],
      "text/plain": [
       "| 724       | 21735.219455 | 0.426866      |"
      ]
     },
     "metadata": {},
     "output_type": "display_data"
    },
    {
     "data": {
      "text/html": [
       "<pre>| 725       | 21765.596188 | 0.426853      |</pre>"
      ],
      "text/plain": [
       "| 725       | 21765.596188 | 0.426853      |"
      ]
     },
     "metadata": {},
     "output_type": "display_data"
    },
    {
     "data": {
      "text/html": [
       "<pre>| 726       | 21793.776484 | 0.426839      |</pre>"
      ],
      "text/plain": [
       "| 726       | 21793.776484 | 0.426839      |"
      ]
     },
     "metadata": {},
     "output_type": "display_data"
    },
    {
     "data": {
      "text/html": [
       "<pre>| 727       | 21822.507851 | 0.426823      |</pre>"
      ],
      "text/plain": [
       "| 727       | 21822.507851 | 0.426823      |"
      ]
     },
     "metadata": {},
     "output_type": "display_data"
    },
    {
     "data": {
      "text/html": [
       "<pre>| 728       | 21855.150254 | 0.426799      |</pre>"
      ],
      "text/plain": [
       "| 728       | 21855.150254 | 0.426799      |"
      ]
     },
     "metadata": {},
     "output_type": "display_data"
    },
    {
     "data": {
      "text/html": [
       "<pre>| 729       | 21886.000101 | 0.426775      |</pre>"
      ],
      "text/plain": [
       "| 729       | 21886.000101 | 0.426775      |"
      ]
     },
     "metadata": {},
     "output_type": "display_data"
    },
    {
     "data": {
      "text/html": [
       "<pre>| 730       | 21915.101644 | 0.426760      |</pre>"
      ],
      "text/plain": [
       "| 730       | 21915.101644 | 0.426760      |"
      ]
     },
     "metadata": {},
     "output_type": "display_data"
    },
    {
     "data": {
      "text/html": [
       "<pre>| 731       | 21943.907129 | 0.426752      |</pre>"
      ],
      "text/plain": [
       "| 731       | 21943.907129 | 0.426752      |"
      ]
     },
     "metadata": {},
     "output_type": "display_data"
    },
    {
     "data": {
      "text/html": [
       "<pre>| 732       | 21973.514108 | 0.426728      |</pre>"
      ],
      "text/plain": [
       "| 732       | 21973.514108 | 0.426728      |"
      ]
     },
     "metadata": {},
     "output_type": "display_data"
    },
    {
     "data": {
      "text/html": [
       "<pre>| 733       | 22002.807127 | 0.426711      |</pre>"
      ],
      "text/plain": [
       "| 733       | 22002.807127 | 0.426711      |"
      ]
     },
     "metadata": {},
     "output_type": "display_data"
    },
    {
     "data": {
      "text/html": [
       "<pre>| 734       | 22033.420953 | 0.426687      |</pre>"
      ],
      "text/plain": [
       "| 734       | 22033.420953 | 0.426687      |"
      ]
     },
     "metadata": {},
     "output_type": "display_data"
    },
    {
     "data": {
      "text/html": [
       "<pre>| 735       | 22062.995520 | 0.426679      |</pre>"
      ],
      "text/plain": [
       "| 735       | 22062.995520 | 0.426679      |"
      ]
     },
     "metadata": {},
     "output_type": "display_data"
    },
    {
     "data": {
      "text/html": [
       "<pre>| 736       | 22093.571578 | 0.426645      |</pre>"
      ],
      "text/plain": [
       "| 736       | 22093.571578 | 0.426645      |"
      ]
     },
     "metadata": {},
     "output_type": "display_data"
    },
    {
     "data": {
      "text/html": [
       "<pre>| 737       | 22123.413318 | 0.426630      |</pre>"
      ],
      "text/plain": [
       "| 737       | 22123.413318 | 0.426630      |"
      ]
     },
     "metadata": {},
     "output_type": "display_data"
    },
    {
     "data": {
      "text/html": [
       "<pre>| 738       | 22153.399830 | 0.426610      |</pre>"
      ],
      "text/plain": [
       "| 738       | 22153.399830 | 0.426610      |"
      ]
     },
     "metadata": {},
     "output_type": "display_data"
    },
    {
     "data": {
      "text/html": [
       "<pre>| 739       | 22184.413795 | 0.426595      |</pre>"
      ],
      "text/plain": [
       "| 739       | 22184.413795 | 0.426595      |"
      ]
     },
     "metadata": {},
     "output_type": "display_data"
    },
    {
     "data": {
      "text/html": [
       "<pre>| 740       | 22215.002842 | 0.426580      |</pre>"
      ],
      "text/plain": [
       "| 740       | 22215.002842 | 0.426580      |"
      ]
     },
     "metadata": {},
     "output_type": "display_data"
    },
    {
     "data": {
      "text/html": [
       "<pre>| 741       | 22242.774373 | 0.426554      |</pre>"
      ],
      "text/plain": [
       "| 741       | 22242.774373 | 0.426554      |"
      ]
     },
     "metadata": {},
     "output_type": "display_data"
    },
    {
     "data": {
      "text/html": [
       "<pre>| 742       | 22271.885376 | 0.426545      |</pre>"
      ],
      "text/plain": [
       "| 742       | 22271.885376 | 0.426545      |"
      ]
     },
     "metadata": {},
     "output_type": "display_data"
    },
    {
     "data": {
      "text/html": [
       "<pre>| 743       | 22301.613929 | 0.426521      |</pre>"
      ],
      "text/plain": [
       "| 743       | 22301.613929 | 0.426521      |"
      ]
     },
     "metadata": {},
     "output_type": "display_data"
    },
    {
     "data": {
      "text/html": [
       "<pre>| 744       | 22330.049345 | 0.426504      |</pre>"
      ],
      "text/plain": [
       "| 744       | 22330.049345 | 0.426504      |"
      ]
     },
     "metadata": {},
     "output_type": "display_data"
    },
    {
     "data": {
      "text/html": [
       "<pre>| 745       | 22360.490234 | 0.426492      |</pre>"
      ],
      "text/plain": [
       "| 745       | 22360.490234 | 0.426492      |"
      ]
     },
     "metadata": {},
     "output_type": "display_data"
    },
    {
     "data": {
      "text/html": [
       "<pre>| 746       | 22390.461802 | 0.426463      |</pre>"
      ],
      "text/plain": [
       "| 746       | 22390.461802 | 0.426463      |"
      ]
     },
     "metadata": {},
     "output_type": "display_data"
    },
    {
     "data": {
      "text/html": [
       "<pre>| 747       | 22420.802203 | 0.426443      |</pre>"
      ],
      "text/plain": [
       "| 747       | 22420.802203 | 0.426443      |"
      ]
     },
     "metadata": {},
     "output_type": "display_data"
    },
    {
     "data": {
      "text/html": [
       "<pre>| 748       | 22449.968207 | 0.426415      |</pre>"
      ],
      "text/plain": [
       "| 748       | 22449.968207 | 0.426415      |"
      ]
     },
     "metadata": {},
     "output_type": "display_data"
    },
    {
     "data": {
      "text/html": [
       "<pre>| 749       | 22480.516676 | 0.426395      |</pre>"
      ],
      "text/plain": [
       "| 749       | 22480.516676 | 0.426395      |"
      ]
     },
     "metadata": {},
     "output_type": "display_data"
    },
    {
     "data": {
      "text/html": [
       "<pre>| 750       | 22511.847586 | 0.426375      |</pre>"
      ],
      "text/plain": [
       "| 750       | 22511.847586 | 0.426375      |"
      ]
     },
     "metadata": {},
     "output_type": "display_data"
    },
    {
     "data": {
      "text/html": [
       "<pre>| 751       | 22544.498552 | 0.426351      |</pre>"
      ],
      "text/plain": [
       "| 751       | 22544.498552 | 0.426351      |"
      ]
     },
     "metadata": {},
     "output_type": "display_data"
    },
    {
     "data": {
      "text/html": [
       "<pre>| 752       | 22574.674973 | 0.426324      |</pre>"
      ],
      "text/plain": [
       "| 752       | 22574.674973 | 0.426324      |"
      ]
     },
     "metadata": {},
     "output_type": "display_data"
    },
    {
     "data": {
      "text/html": [
       "<pre>| 753       | 22603.599700 | 0.426307      |</pre>"
      ],
      "text/plain": [
       "| 753       | 22603.599700 | 0.426307      |"
      ]
     },
     "metadata": {},
     "output_type": "display_data"
    },
    {
     "data": {
      "text/html": [
       "<pre>| 754       | 22635.058742 | 0.426298      |</pre>"
      ],
      "text/plain": [
       "| 754       | 22635.058742 | 0.426298      |"
      ]
     },
     "metadata": {},
     "output_type": "display_data"
    },
    {
     "data": {
      "text/html": [
       "<pre>| 755       | 22665.869092 | 0.426273      |</pre>"
      ],
      "text/plain": [
       "| 755       | 22665.869092 | 0.426273      |"
      ]
     },
     "metadata": {},
     "output_type": "display_data"
    },
    {
     "data": {
      "text/html": [
       "<pre>| 756       | 22695.063960 | 0.426256      |</pre>"
      ],
      "text/plain": [
       "| 756       | 22695.063960 | 0.426256      |"
      ]
     },
     "metadata": {},
     "output_type": "display_data"
    },
    {
     "data": {
      "text/html": [
       "<pre>| 757       | 22723.083415 | 0.426243      |</pre>"
      ],
      "text/plain": [
       "| 757       | 22723.083415 | 0.426243      |"
      ]
     },
     "metadata": {},
     "output_type": "display_data"
    },
    {
     "data": {
      "text/html": [
       "<pre>| 758       | 22754.044124 | 0.426222      |</pre>"
      ],
      "text/plain": [
       "| 758       | 22754.044124 | 0.426222      |"
      ]
     },
     "metadata": {},
     "output_type": "display_data"
    },
    {
     "data": {
      "text/html": [
       "<pre>| 759       | 22782.996125 | 0.426198      |</pre>"
      ],
      "text/plain": [
       "| 759       | 22782.996125 | 0.426198      |"
      ]
     },
     "metadata": {},
     "output_type": "display_data"
    },
    {
     "data": {
      "text/html": [
       "<pre>| 760       | 22813.604814 | 0.426189      |</pre>"
      ],
      "text/plain": [
       "| 760       | 22813.604814 | 0.426189      |"
      ]
     },
     "metadata": {},
     "output_type": "display_data"
    },
    {
     "data": {
      "text/html": [
       "<pre>| 761       | 22843.326266 | 0.426160      |</pre>"
      ],
      "text/plain": [
       "| 761       | 22843.326266 | 0.426160      |"
      ]
     },
     "metadata": {},
     "output_type": "display_data"
    },
    {
     "data": {
      "text/html": [
       "<pre>| 762       | 22873.454671 | 0.426139      |</pre>"
      ],
      "text/plain": [
       "| 762       | 22873.454671 | 0.426139      |"
      ]
     },
     "metadata": {},
     "output_type": "display_data"
    },
    {
     "data": {
      "text/html": [
       "<pre>| 763       | 22903.189848 | 0.426130      |</pre>"
      ],
      "text/plain": [
       "| 763       | 22903.189848 | 0.426130      |"
      ]
     },
     "metadata": {},
     "output_type": "display_data"
    },
    {
     "data": {
      "text/html": [
       "<pre>| 764       | 22933.248367 | 0.426108      |</pre>"
      ],
      "text/plain": [
       "| 764       | 22933.248367 | 0.426108      |"
      ]
     },
     "metadata": {},
     "output_type": "display_data"
    },
    {
     "data": {
      "text/html": [
       "<pre>| 765       | 22962.445172 | 0.426096      |</pre>"
      ],
      "text/plain": [
       "| 765       | 22962.445172 | 0.426096      |"
      ]
     },
     "metadata": {},
     "output_type": "display_data"
    },
    {
     "data": {
      "text/html": [
       "<pre>| 766       | 22993.568131 | 0.426067      |</pre>"
      ],
      "text/plain": [
       "| 766       | 22993.568131 | 0.426067      |"
      ]
     },
     "metadata": {},
     "output_type": "display_data"
    },
    {
     "data": {
      "text/html": [
       "<pre>| 767       | 23024.176450 | 0.426051      |</pre>"
      ],
      "text/plain": [
       "| 767       | 23024.176450 | 0.426051      |"
      ]
     },
     "metadata": {},
     "output_type": "display_data"
    },
    {
     "data": {
      "text/html": [
       "<pre>| 768       | 23055.320282 | 0.426040      |</pre>"
      ],
      "text/plain": [
       "| 768       | 23055.320282 | 0.426040      |"
      ]
     },
     "metadata": {},
     "output_type": "display_data"
    },
    {
     "data": {
      "text/html": [
       "<pre>| 769       | 23084.026400 | 0.426027      |</pre>"
      ],
      "text/plain": [
       "| 769       | 23084.026400 | 0.426027      |"
      ]
     },
     "metadata": {},
     "output_type": "display_data"
    },
    {
     "data": {
      "text/html": [
       "<pre>| 770       | 23114.234109 | 0.426019      |</pre>"
      ],
      "text/plain": [
       "| 770       | 23114.234109 | 0.426019      |"
      ]
     },
     "metadata": {},
     "output_type": "display_data"
    },
    {
     "data": {
      "text/html": [
       "<pre>| 771       | 23144.033201 | 0.425996      |</pre>"
      ],
      "text/plain": [
       "| 771       | 23144.033201 | 0.425996      |"
      ]
     },
     "metadata": {},
     "output_type": "display_data"
    },
    {
     "data": {
      "text/html": [
       "<pre>| 772       | 23174.947990 | 0.425960      |</pre>"
      ],
      "text/plain": [
       "| 772       | 23174.947990 | 0.425960      |"
      ]
     },
     "metadata": {},
     "output_type": "display_data"
    },
    {
     "data": {
      "text/html": [
       "<pre>| 773       | 23204.624527 | 0.425932      |</pre>"
      ],
      "text/plain": [
       "| 773       | 23204.624527 | 0.425932      |"
      ]
     },
     "metadata": {},
     "output_type": "display_data"
    },
    {
     "data": {
      "text/html": [
       "<pre>| 774       | 23233.214655 | 0.425912      |</pre>"
      ],
      "text/plain": [
       "| 774       | 23233.214655 | 0.425912      |"
      ]
     },
     "metadata": {},
     "output_type": "display_data"
    },
    {
     "data": {
      "text/html": [
       "<pre>| 775       | 23265.406394 | 0.425908      |</pre>"
      ],
      "text/plain": [
       "| 775       | 23265.406394 | 0.425908      |"
      ]
     },
     "metadata": {},
     "output_type": "display_data"
    },
    {
     "data": {
      "text/html": [
       "<pre>| 776       | 23294.581742 | 0.425889      |</pre>"
      ],
      "text/plain": [
       "| 776       | 23294.581742 | 0.425889      |"
      ]
     },
     "metadata": {},
     "output_type": "display_data"
    },
    {
     "data": {
      "text/html": [
       "<pre>| 777       | 23324.500241 | 0.425883      |</pre>"
      ],
      "text/plain": [
       "| 777       | 23324.500241 | 0.425883      |"
      ]
     },
     "metadata": {},
     "output_type": "display_data"
    },
    {
     "data": {
      "text/html": [
       "<pre>| 778       | 23355.666748 | 0.425870      |</pre>"
      ],
      "text/plain": [
       "| 778       | 23355.666748 | 0.425870      |"
      ]
     },
     "metadata": {},
     "output_type": "display_data"
    },
    {
     "data": {
      "text/html": [
       "<pre>| 779       | 23383.912054 | 0.425860      |</pre>"
      ],
      "text/plain": [
       "| 779       | 23383.912054 | 0.425860      |"
      ]
     },
     "metadata": {},
     "output_type": "display_data"
    },
    {
     "data": {
      "text/html": [
       "<pre>| 780       | 23414.200946 | 0.425835      |</pre>"
      ],
      "text/plain": [
       "| 780       | 23414.200946 | 0.425835      |"
      ]
     },
     "metadata": {},
     "output_type": "display_data"
    },
    {
     "data": {
      "text/html": [
       "<pre>| 781       | 23445.013645 | 0.425804      |</pre>"
      ],
      "text/plain": [
       "| 781       | 23445.013645 | 0.425804      |"
      ]
     },
     "metadata": {},
     "output_type": "display_data"
    },
    {
     "data": {
      "text/html": [
       "<pre>| 782       | 23473.972833 | 0.425787      |</pre>"
      ],
      "text/plain": [
       "| 782       | 23473.972833 | 0.425787      |"
      ]
     },
     "metadata": {},
     "output_type": "display_data"
    },
    {
     "data": {
      "text/html": [
       "<pre>| 783       | 23500.812618 | 0.425767      |</pre>"
      ],
      "text/plain": [
       "| 783       | 23500.812618 | 0.425767      |"
      ]
     },
     "metadata": {},
     "output_type": "display_data"
    },
    {
     "data": {
      "text/html": [
       "<pre>| 784       | 23532.712316 | 0.425738      |</pre>"
      ],
      "text/plain": [
       "| 784       | 23532.712316 | 0.425738      |"
      ]
     },
     "metadata": {},
     "output_type": "display_data"
    },
    {
     "data": {
      "text/html": [
       "<pre>| 785       | 23561.678478 | 0.425708      |</pre>"
      ],
      "text/plain": [
       "| 785       | 23561.678478 | 0.425708      |"
      ]
     },
     "metadata": {},
     "output_type": "display_data"
    },
    {
     "data": {
      "text/html": [
       "<pre>| 786       | 23591.770194 | 0.425693      |</pre>"
      ],
      "text/plain": [
       "| 786       | 23591.770194 | 0.425693      |"
      ]
     },
     "metadata": {},
     "output_type": "display_data"
    },
    {
     "data": {
      "text/html": [
       "<pre>| 787       | 23621.572241 | 0.425683      |</pre>"
      ],
      "text/plain": [
       "| 787       | 23621.572241 | 0.425683      |"
      ]
     },
     "metadata": {},
     "output_type": "display_data"
    },
    {
     "data": {
      "text/html": [
       "<pre>| 788       | 23652.285950 | 0.425670      |</pre>"
      ],
      "text/plain": [
       "| 788       | 23652.285950 | 0.425670      |"
      ]
     },
     "metadata": {},
     "output_type": "display_data"
    },
    {
     "data": {
      "text/html": [
       "<pre>| 789       | 23683.577593 | 0.425657      |</pre>"
      ],
      "text/plain": [
       "| 789       | 23683.577593 | 0.425657      |"
      ]
     },
     "metadata": {},
     "output_type": "display_data"
    },
    {
     "data": {
      "text/html": [
       "<pre>| 790       | 23712.828588 | 0.425642      |</pre>"
      ],
      "text/plain": [
       "| 790       | 23712.828588 | 0.425642      |"
      ]
     },
     "metadata": {},
     "output_type": "display_data"
    },
    {
     "data": {
      "text/html": [
       "<pre>| 791       | 23744.001355 | 0.425629      |</pre>"
      ],
      "text/plain": [
       "| 791       | 23744.001355 | 0.425629      |"
      ]
     },
     "metadata": {},
     "output_type": "display_data"
    },
    {
     "data": {
      "text/html": [
       "<pre>| 792       | 23773.304940 | 0.425622      |</pre>"
      ],
      "text/plain": [
       "| 792       | 23773.304940 | 0.425622      |"
      ]
     },
     "metadata": {},
     "output_type": "display_data"
    },
    {
     "data": {
      "text/html": [
       "<pre>| 793       | 23800.603101 | 0.425615      |</pre>"
      ],
      "text/plain": [
       "| 793       | 23800.603101 | 0.425615      |"
      ]
     },
     "metadata": {},
     "output_type": "display_data"
    },
    {
     "data": {
      "text/html": [
       "<pre>| 794       | 23831.400780 | 0.425601      |</pre>"
      ],
      "text/plain": [
       "| 794       | 23831.400780 | 0.425601      |"
      ]
     },
     "metadata": {},
     "output_type": "display_data"
    },
    {
     "data": {
      "text/html": [
       "<pre>| 795       | 23861.103164 | 0.425577      |</pre>"
      ],
      "text/plain": [
       "| 795       | 23861.103164 | 0.425577      |"
      ]
     },
     "metadata": {},
     "output_type": "display_data"
    },
    {
     "data": {
      "text/html": [
       "<pre>| 796       | 23890.725900 | 0.425566      |</pre>"
      ],
      "text/plain": [
       "| 796       | 23890.725900 | 0.425566      |"
      ]
     },
     "metadata": {},
     "output_type": "display_data"
    },
    {
     "data": {
      "text/html": [
       "<pre>| 797       | 23921.322072 | 0.425548      |</pre>"
      ],
      "text/plain": [
       "| 797       | 23921.322072 | 0.425548      |"
      ]
     },
     "metadata": {},
     "output_type": "display_data"
    },
    {
     "data": {
      "text/html": [
       "<pre>| 798       | 23952.643417 | 0.425520      |</pre>"
      ],
      "text/plain": [
       "| 798       | 23952.643417 | 0.425520      |"
      ]
     },
     "metadata": {},
     "output_type": "display_data"
    },
    {
     "data": {
      "text/html": [
       "<pre>| 799       | 23982.429751 | 0.425503      |</pre>"
      ],
      "text/plain": [
       "| 799       | 23982.429751 | 0.425503      |"
      ]
     },
     "metadata": {},
     "output_type": "display_data"
    },
    {
     "data": {
      "text/html": [
       "<pre>| 800       | 24013.915212 | 0.425488      |</pre>"
      ],
      "text/plain": [
       "| 800       | 24013.915212 | 0.425488      |"
      ]
     },
     "metadata": {},
     "output_type": "display_data"
    },
    {
     "data": {
      "text/html": [
       "<pre>| 801       | 24043.096187 | 0.425476      |</pre>"
      ],
      "text/plain": [
       "| 801       | 24043.096187 | 0.425476      |"
      ]
     },
     "metadata": {},
     "output_type": "display_data"
    },
    {
     "data": {
      "text/html": [
       "<pre>| 802       | 24071.040522 | 0.425457      |</pre>"
      ],
      "text/plain": [
       "| 802       | 24071.040522 | 0.425457      |"
      ]
     },
     "metadata": {},
     "output_type": "display_data"
    },
    {
     "data": {
      "text/html": [
       "<pre>| 803       | 24100.062965 | 0.425441      |</pre>"
      ],
      "text/plain": [
       "| 803       | 24100.062965 | 0.425441      |"
      ]
     },
     "metadata": {},
     "output_type": "display_data"
    },
    {
     "data": {
      "text/html": [
       "<pre>| 804       | 24129.991727 | 0.425424      |</pre>"
      ],
      "text/plain": [
       "| 804       | 24129.991727 | 0.425424      |"
      ]
     },
     "metadata": {},
     "output_type": "display_data"
    },
    {
     "data": {
      "text/html": [
       "<pre>| 805       | 24159.435956 | 0.425402      |</pre>"
      ],
      "text/plain": [
       "| 805       | 24159.435956 | 0.425402      |"
      ]
     },
     "metadata": {},
     "output_type": "display_data"
    },
    {
     "data": {
      "text/html": [
       "<pre>| 806       | 24190.709821 | 0.425382      |</pre>"
      ],
      "text/plain": [
       "| 806       | 24190.709821 | 0.425382      |"
      ]
     },
     "metadata": {},
     "output_type": "display_data"
    },
    {
     "data": {
      "text/html": [
       "<pre>| 807       | 24219.058097 | 0.425375      |</pre>"
      ],
      "text/plain": [
       "| 807       | 24219.058097 | 0.425375      |"
      ]
     },
     "metadata": {},
     "output_type": "display_data"
    },
    {
     "data": {
      "text/html": [
       "<pre>| 808       | 24250.792331 | 0.425338      |</pre>"
      ],
      "text/plain": [
       "| 808       | 24250.792331 | 0.425338      |"
      ]
     },
     "metadata": {},
     "output_type": "display_data"
    },
    {
     "data": {
      "text/html": [
       "<pre>| 809       | 24280.102715 | 0.425319      |</pre>"
      ],
      "text/plain": [
       "| 809       | 24280.102715 | 0.425319      |"
      ]
     },
     "metadata": {},
     "output_type": "display_data"
    },
    {
     "data": {
      "text/html": [
       "<pre>| 810       | 24309.971929 | 0.425312      |</pre>"
      ],
      "text/plain": [
       "| 810       | 24309.971929 | 0.425312      |"
      ]
     },
     "metadata": {},
     "output_type": "display_data"
    },
    {
     "data": {
      "text/html": [
       "<pre>| 811       | 24339.990540 | 0.425297      |</pre>"
      ],
      "text/plain": [
       "| 811       | 24339.990540 | 0.425297      |"
      ]
     },
     "metadata": {},
     "output_type": "display_data"
    },
    {
     "data": {
      "text/html": [
       "<pre>| 812       | 24367.410741 | 0.425287      |</pre>"
      ],
      "text/plain": [
       "| 812       | 24367.410741 | 0.425287      |"
      ]
     },
     "metadata": {},
     "output_type": "display_data"
    },
    {
     "data": {
      "text/html": [
       "<pre>| 813       | 24397.530879 | 0.425267      |</pre>"
      ],
      "text/plain": [
       "| 813       | 24397.530879 | 0.425267      |"
      ]
     },
     "metadata": {},
     "output_type": "display_data"
    },
    {
     "data": {
      "text/html": [
       "<pre>| 814       | 24427.917109 | 0.425247      |</pre>"
      ],
      "text/plain": [
       "| 814       | 24427.917109 | 0.425247      |"
      ]
     },
     "metadata": {},
     "output_type": "display_data"
    },
    {
     "data": {
      "text/html": [
       "<pre>| 815       | 24456.155052 | 0.425233      |</pre>"
      ],
      "text/plain": [
       "| 815       | 24456.155052 | 0.425233      |"
      ]
     },
     "metadata": {},
     "output_type": "display_data"
    },
    {
     "data": {
      "text/html": [
       "<pre>| 816       | 24487.335640 | 0.425213      |</pre>"
      ],
      "text/plain": [
       "| 816       | 24487.335640 | 0.425213      |"
      ]
     },
     "metadata": {},
     "output_type": "display_data"
    },
    {
     "data": {
      "text/html": [
       "<pre>| 817       | 24518.857220 | 0.425192      |</pre>"
      ],
      "text/plain": [
       "| 817       | 24518.857220 | 0.425192      |"
      ]
     },
     "metadata": {},
     "output_type": "display_data"
    },
    {
     "data": {
      "text/html": [
       "<pre>| 818       | 24547.518741 | 0.425176      |</pre>"
      ],
      "text/plain": [
       "| 818       | 24547.518741 | 0.425176      |"
      ]
     },
     "metadata": {},
     "output_type": "display_data"
    },
    {
     "data": {
      "text/html": [
       "<pre>| 819       | 24578.125010 | 0.425166      |</pre>"
      ],
      "text/plain": [
       "| 819       | 24578.125010 | 0.425166      |"
      ]
     },
     "metadata": {},
     "output_type": "display_data"
    },
    {
     "data": {
      "text/html": [
       "<pre>| 820       | 24608.627124 | 0.425143      |</pre>"
      ],
      "text/plain": [
       "| 820       | 24608.627124 | 0.425143      |"
      ]
     },
     "metadata": {},
     "output_type": "display_data"
    },
    {
     "data": {
      "text/html": [
       "<pre>| 821       | 24639.334416 | 0.425115      |</pre>"
      ],
      "text/plain": [
       "| 821       | 24639.334416 | 0.425115      |"
      ]
     },
     "metadata": {},
     "output_type": "display_data"
    },
    {
     "data": {
      "text/html": [
       "<pre>| 822       | 24669.517425 | 0.425091      |</pre>"
      ],
      "text/plain": [
       "| 822       | 24669.517425 | 0.425091      |"
      ]
     },
     "metadata": {},
     "output_type": "display_data"
    },
    {
     "data": {
      "text/html": [
       "<pre>| 823       | 24696.557667 | 0.425074      |</pre>"
      ],
      "text/plain": [
       "| 823       | 24696.557667 | 0.425074      |"
      ]
     },
     "metadata": {},
     "output_type": "display_data"
    },
    {
     "data": {
      "text/html": [
       "<pre>| 824       | 24726.967362 | 0.425057      |</pre>"
      ],
      "text/plain": [
       "| 824       | 24726.967362 | 0.425057      |"
      ]
     },
     "metadata": {},
     "output_type": "display_data"
    },
    {
     "data": {
      "text/html": [
       "<pre>| 825       | 24757.231895 | 0.425039      |</pre>"
      ],
      "text/plain": [
       "| 825       | 24757.231895 | 0.425039      |"
      ]
     },
     "metadata": {},
     "output_type": "display_data"
    },
    {
     "data": {
      "text/html": [
       "<pre>| 826       | 24785.278135 | 0.425034      |</pre>"
      ],
      "text/plain": [
       "| 826       | 24785.278135 | 0.425034      |"
      ]
     },
     "metadata": {},
     "output_type": "display_data"
    },
    {
     "data": {
      "text/html": [
       "<pre>| 827       | 24815.637436 | 0.425016      |</pre>"
      ],
      "text/plain": [
       "| 827       | 24815.637436 | 0.425016      |"
      ]
     },
     "metadata": {},
     "output_type": "display_data"
    },
    {
     "data": {
      "text/html": [
       "<pre>| 828       | 24845.628678 | 0.424993      |</pre>"
      ],
      "text/plain": [
       "| 828       | 24845.628678 | 0.424993      |"
      ]
     },
     "metadata": {},
     "output_type": "display_data"
    },
    {
     "data": {
      "text/html": [
       "<pre>| 829       | 24875.802036 | 0.424976      |</pre>"
      ],
      "text/plain": [
       "| 829       | 24875.802036 | 0.424976      |"
      ]
     },
     "metadata": {},
     "output_type": "display_data"
    },
    {
     "data": {
      "text/html": [
       "<pre>| 830       | 24905.428286 | 0.424952      |</pre>"
      ],
      "text/plain": [
       "| 830       | 24905.428286 | 0.424952      |"
      ]
     },
     "metadata": {},
     "output_type": "display_data"
    },
    {
     "data": {
      "text/html": [
       "<pre>| 831       | 24935.525920 | 0.424934      |</pre>"
      ],
      "text/plain": [
       "| 831       | 24935.525920 | 0.424934      |"
      ]
     },
     "metadata": {},
     "output_type": "display_data"
    },
    {
     "data": {
      "text/html": [
       "<pre>| 832       | 24966.802898 | 0.424902      |</pre>"
      ],
      "text/plain": [
       "| 832       | 24966.802898 | 0.424902      |"
      ]
     },
     "metadata": {},
     "output_type": "display_data"
    },
    {
     "data": {
      "text/html": [
       "<pre>| 833       | 24993.695639 | 0.424883      |</pre>"
      ],
      "text/plain": [
       "| 833       | 24993.695639 | 0.424883      |"
      ]
     },
     "metadata": {},
     "output_type": "display_data"
    },
    {
     "data": {
      "text/html": [
       "<pre>| 834       | 25022.362618 | 0.424863      |</pre>"
      ],
      "text/plain": [
       "| 834       | 25022.362618 | 0.424863      |"
      ]
     },
     "metadata": {},
     "output_type": "display_data"
    },
    {
     "data": {
      "text/html": [
       "<pre>| 835       | 25052.296437 | 0.424848      |</pre>"
      ],
      "text/plain": [
       "| 835       | 25052.296437 | 0.424848      |"
      ]
     },
     "metadata": {},
     "output_type": "display_data"
    },
    {
     "data": {
      "text/html": [
       "<pre>| 836       | 25082.969872 | 0.424820      |</pre>"
      ],
      "text/plain": [
       "| 836       | 25082.969872 | 0.424820      |"
      ]
     },
     "metadata": {},
     "output_type": "display_data"
    },
    {
     "data": {
      "text/html": [
       "<pre>| 837       | 25112.317065 | 0.424809      |</pre>"
      ],
      "text/plain": [
       "| 837       | 25112.317065 | 0.424809      |"
      ]
     },
     "metadata": {},
     "output_type": "display_data"
    },
    {
     "data": {
      "text/html": [
       "<pre>| 838       | 25139.919234 | 0.424796      |</pre>"
      ],
      "text/plain": [
       "| 838       | 25139.919234 | 0.424796      |"
      ]
     },
     "metadata": {},
     "output_type": "display_data"
    },
    {
     "data": {
      "text/html": [
       "<pre>| 839       | 25169.201532 | 0.424779      |</pre>"
      ],
      "text/plain": [
       "| 839       | 25169.201532 | 0.424779      |"
      ]
     },
     "metadata": {},
     "output_type": "display_data"
    },
    {
     "data": {
      "text/html": [
       "<pre>| 840       | 25198.236411 | 0.424764      |</pre>"
      ],
      "text/plain": [
       "| 840       | 25198.236411 | 0.424764      |"
      ]
     },
     "metadata": {},
     "output_type": "display_data"
    },
    {
     "data": {
      "text/html": [
       "<pre>| 841       | 25228.672025 | 0.424737      |</pre>"
      ],
      "text/plain": [
       "| 841       | 25228.672025 | 0.424737      |"
      ]
     },
     "metadata": {},
     "output_type": "display_data"
    },
    {
     "data": {
      "text/html": [
       "<pre>| 842       | 25258.699773 | 0.424711      |</pre>"
      ],
      "text/plain": [
       "| 842       | 25258.699773 | 0.424711      |"
      ]
     },
     "metadata": {},
     "output_type": "display_data"
    },
    {
     "data": {
      "text/html": [
       "<pre>| 843       | 25287.046202 | 0.424691      |</pre>"
      ],
      "text/plain": [
       "| 843       | 25287.046202 | 0.424691      |"
      ]
     },
     "metadata": {},
     "output_type": "display_data"
    },
    {
     "data": {
      "text/html": [
       "<pre>| 844       | 25316.189150 | 0.424683      |</pre>"
      ],
      "text/plain": [
       "| 844       | 25316.189150 | 0.424683      |"
      ]
     },
     "metadata": {},
     "output_type": "display_data"
    },
    {
     "data": {
      "text/html": [
       "<pre>| 845       | 25346.052074 | 0.424671      |</pre>"
      ],
      "text/plain": [
       "| 845       | 25346.052074 | 0.424671      |"
      ]
     },
     "metadata": {},
     "output_type": "display_data"
    },
    {
     "data": {
      "text/html": [
       "<pre>| 846       | 25375.548451 | 0.424642      |</pre>"
      ],
      "text/plain": [
       "| 846       | 25375.548451 | 0.424642      |"
      ]
     },
     "metadata": {},
     "output_type": "display_data"
    },
    {
     "data": {
      "text/html": [
       "<pre>| 847       | 25404.862751 | 0.424626      |</pre>"
      ],
      "text/plain": [
       "| 847       | 25404.862751 | 0.424626      |"
      ]
     },
     "metadata": {},
     "output_type": "display_data"
    },
    {
     "data": {
      "text/html": [
       "<pre>| 848       | 25433.320032 | 0.424615      |</pre>"
      ],
      "text/plain": [
       "| 848       | 25433.320032 | 0.424615      |"
      ]
     },
     "metadata": {},
     "output_type": "display_data"
    },
    {
     "data": {
      "text/html": [
       "<pre>| 849       | 25463.128098 | 0.424606      |</pre>"
      ],
      "text/plain": [
       "| 849       | 25463.128098 | 0.424606      |"
      ]
     },
     "metadata": {},
     "output_type": "display_data"
    },
    {
     "data": {
      "text/html": [
       "<pre>| 850       | 25495.087835 | 0.424587      |</pre>"
      ],
      "text/plain": [
       "| 850       | 25495.087835 | 0.424587      |"
      ]
     },
     "metadata": {},
     "output_type": "display_data"
    },
    {
     "data": {
      "text/html": [
       "<pre>| 851       | 25526.320283 | 0.424573      |</pre>"
      ],
      "text/plain": [
       "| 851       | 25526.320283 | 0.424573      |"
      ]
     },
     "metadata": {},
     "output_type": "display_data"
    },
    {
     "data": {
      "text/html": [
       "<pre>| 852       | 25556.371121 | 0.424554      |</pre>"
      ],
      "text/plain": [
       "| 852       | 25556.371121 | 0.424554      |"
      ]
     },
     "metadata": {},
     "output_type": "display_data"
    },
    {
     "data": {
      "text/html": [
       "<pre>| 853       | 25585.611500 | 0.424530      |</pre>"
      ],
      "text/plain": [
       "| 853       | 25585.611500 | 0.424530      |"
      ]
     },
     "metadata": {},
     "output_type": "display_data"
    },
    {
     "data": {
      "text/html": [
       "<pre>| 854       | 25615.635057 | 0.424518      |</pre>"
      ],
      "text/plain": [
       "| 854       | 25615.635057 | 0.424518      |"
      ]
     },
     "metadata": {},
     "output_type": "display_data"
    },
    {
     "data": {
      "text/html": [
       "<pre>| 855       | 25644.653384 | 0.424507      |</pre>"
      ],
      "text/plain": [
       "| 855       | 25644.653384 | 0.424507      |"
      ]
     },
     "metadata": {},
     "output_type": "display_data"
    },
    {
     "data": {
      "text/html": [
       "<pre>| 856       | 25672.061593 | 0.424500      |</pre>"
      ],
      "text/plain": [
       "| 856       | 25672.061593 | 0.424500      |"
      ]
     },
     "metadata": {},
     "output_type": "display_data"
    },
    {
     "data": {
      "text/html": [
       "<pre>| 857       | 25701.893807 | 0.424483      |</pre>"
      ],
      "text/plain": [
       "| 857       | 25701.893807 | 0.424483      |"
      ]
     },
     "metadata": {},
     "output_type": "display_data"
    },
    {
     "data": {
      "text/html": [
       "<pre>| 858       | 25730.121961 | 0.424467      |</pre>"
      ],
      "text/plain": [
       "| 858       | 25730.121961 | 0.424467      |"
      ]
     },
     "metadata": {},
     "output_type": "display_data"
    },
    {
     "data": {
      "text/html": [
       "<pre>| 859       | 25759.654290 | 0.424443      |</pre>"
      ],
      "text/plain": [
       "| 859       | 25759.654290 | 0.424443      |"
      ]
     },
     "metadata": {},
     "output_type": "display_data"
    },
    {
     "data": {
      "text/html": [
       "<pre>| 860       | 25790.309295 | 0.424433      |</pre>"
      ],
      "text/plain": [
       "| 860       | 25790.309295 | 0.424433      |"
      ]
     },
     "metadata": {},
     "output_type": "display_data"
    },
    {
     "data": {
      "text/html": [
       "<pre>| 861       | 25821.187905 | 0.424416      |</pre>"
      ],
      "text/plain": [
       "| 861       | 25821.187905 | 0.424416      |"
      ]
     },
     "metadata": {},
     "output_type": "display_data"
    },
    {
     "data": {
      "text/html": [
       "<pre>| 862       | 25850.121703 | 0.424398      |</pre>"
      ],
      "text/plain": [
       "| 862       | 25850.121703 | 0.424398      |"
      ]
     },
     "metadata": {},
     "output_type": "display_data"
    },
    {
     "data": {
      "text/html": [
       "<pre>| 863       | 25879.792158 | 0.424379      |</pre>"
      ],
      "text/plain": [
       "| 863       | 25879.792158 | 0.424379      |"
      ]
     },
     "metadata": {},
     "output_type": "display_data"
    },
    {
     "data": {
      "text/html": [
       "<pre>| 864       | 25909.443017 | 0.424355      |</pre>"
      ],
      "text/plain": [
       "| 864       | 25909.443017 | 0.424355      |"
      ]
     },
     "metadata": {},
     "output_type": "display_data"
    },
    {
     "data": {
      "text/html": [
       "<pre>| 865       | 25939.223373 | 0.424330      |</pre>"
      ],
      "text/plain": [
       "| 865       | 25939.223373 | 0.424330      |"
      ]
     },
     "metadata": {},
     "output_type": "display_data"
    },
    {
     "data": {
      "text/html": [
       "<pre>| 866       | 25968.693310 | 0.424317      |</pre>"
      ],
      "text/plain": [
       "| 866       | 25968.693310 | 0.424317      |"
      ]
     },
     "metadata": {},
     "output_type": "display_data"
    },
    {
     "data": {
      "text/html": [
       "<pre>| 867       | 25999.598669 | 0.424290      |</pre>"
      ],
      "text/plain": [
       "| 867       | 25999.598669 | 0.424290      |"
      ]
     },
     "metadata": {},
     "output_type": "display_data"
    },
    {
     "data": {
      "text/html": [
       "<pre>| 868       | 26030.429178 | 0.424285      |</pre>"
      ],
      "text/plain": [
       "| 868       | 26030.429178 | 0.424285      |"
      ]
     },
     "metadata": {},
     "output_type": "display_data"
    },
    {
     "data": {
      "text/html": [
       "<pre>| 869       | 26058.872284 | 0.424273      |</pre>"
      ],
      "text/plain": [
       "| 869       | 26058.872284 | 0.424273      |"
      ]
     },
     "metadata": {},
     "output_type": "display_data"
    },
    {
     "data": {
      "text/html": [
       "<pre>| 870       | 26089.369390 | 0.424260      |</pre>"
      ],
      "text/plain": [
       "| 870       | 26089.369390 | 0.424260      |"
      ]
     },
     "metadata": {},
     "output_type": "display_data"
    },
    {
     "data": {
      "text/html": [
       "<pre>| 871       | 26118.916597 | 0.424245      |</pre>"
      ],
      "text/plain": [
       "| 871       | 26118.916597 | 0.424245      |"
      ]
     },
     "metadata": {},
     "output_type": "display_data"
    },
    {
     "data": {
      "text/html": [
       "<pre>| 872       | 26147.922223 | 0.424234      |</pre>"
      ],
      "text/plain": [
       "| 872       | 26147.922223 | 0.424234      |"
      ]
     },
     "metadata": {},
     "output_type": "display_data"
    },
    {
     "data": {
      "text/html": [
       "<pre>| 873       | 26175.443617 | 0.424214      |</pre>"
      ],
      "text/plain": [
       "| 873       | 26175.443617 | 0.424214      |"
      ]
     },
     "metadata": {},
     "output_type": "display_data"
    },
    {
     "data": {
      "text/html": [
       "<pre>| 874       | 26205.365204 | 0.424193      |</pre>"
      ],
      "text/plain": [
       "| 874       | 26205.365204 | 0.424193      |"
      ]
     },
     "metadata": {},
     "output_type": "display_data"
    },
    {
     "data": {
      "text/html": [
       "<pre>| 875       | 26234.723783 | 0.424172      |</pre>"
      ],
      "text/plain": [
       "| 875       | 26234.723783 | 0.424172      |"
      ]
     },
     "metadata": {},
     "output_type": "display_data"
    },
    {
     "data": {
      "text/html": [
       "<pre>| 876       | 26260.545260 | 0.424170      |</pre>"
      ],
      "text/plain": [
       "| 876       | 26260.545260 | 0.424170      |"
      ]
     },
     "metadata": {},
     "output_type": "display_data"
    },
    {
     "data": {
      "text/html": [
       "<pre>| 877       | 26290.649391 | 0.424148      |</pre>"
      ],
      "text/plain": [
       "| 877       | 26290.649391 | 0.424148      |"
      ]
     },
     "metadata": {},
     "output_type": "display_data"
    },
    {
     "data": {
      "text/html": [
       "<pre>| 878       | 26320.792949 | 0.424126      |</pre>"
      ],
      "text/plain": [
       "| 878       | 26320.792949 | 0.424126      |"
      ]
     },
     "metadata": {},
     "output_type": "display_data"
    },
    {
     "data": {
      "text/html": [
       "<pre>| 879       | 26351.956823 | 0.424112      |</pre>"
      ],
      "text/plain": [
       "| 879       | 26351.956823 | 0.424112      |"
      ]
     },
     "metadata": {},
     "output_type": "display_data"
    },
    {
     "data": {
      "text/html": [
       "<pre>| 880       | 26380.093717 | 0.424095      |</pre>"
      ],
      "text/plain": [
       "| 880       | 26380.093717 | 0.424095      |"
      ]
     },
     "metadata": {},
     "output_type": "display_data"
    },
    {
     "data": {
      "text/html": [
       "<pre>| 881       | 26412.205713 | 0.424074      |</pre>"
      ],
      "text/plain": [
       "| 881       | 26412.205713 | 0.424074      |"
      ]
     },
     "metadata": {},
     "output_type": "display_data"
    },
    {
     "data": {
      "text/html": [
       "<pre>| 882       | 26442.933031 | 0.424038      |</pre>"
      ],
      "text/plain": [
       "| 882       | 26442.933031 | 0.424038      |"
      ]
     },
     "metadata": {},
     "output_type": "display_data"
    },
    {
     "data": {
      "text/html": [
       "<pre>| 883       | 26470.843241 | 0.424027      |</pre>"
      ],
      "text/plain": [
       "| 883       | 26470.843241 | 0.424027      |"
      ]
     },
     "metadata": {},
     "output_type": "display_data"
    },
    {
     "data": {
      "text/html": [
       "<pre>| 884       | 26499.410866 | 0.424014      |</pre>"
      ],
      "text/plain": [
       "| 884       | 26499.410866 | 0.424014      |"
      ]
     },
     "metadata": {},
     "output_type": "display_data"
    },
    {
     "data": {
      "text/html": [
       "<pre>| 885       | 26528.475173 | 0.424001      |</pre>"
      ],
      "text/plain": [
       "| 885       | 26528.475173 | 0.424001      |"
      ]
     },
     "metadata": {},
     "output_type": "display_data"
    },
    {
     "data": {
      "text/html": [
       "<pre>| 886       | 26555.455449 | 0.423988      |</pre>"
      ],
      "text/plain": [
       "| 886       | 26555.455449 | 0.423988      |"
      ]
     },
     "metadata": {},
     "output_type": "display_data"
    },
    {
     "data": {
      "text/html": [
       "<pre>| 887       | 26585.704864 | 0.423970      |</pre>"
      ],
      "text/plain": [
       "| 887       | 26585.704864 | 0.423970      |"
      ]
     },
     "metadata": {},
     "output_type": "display_data"
    },
    {
     "data": {
      "text/html": [
       "<pre>| 888       | 26615.659704 | 0.423959      |</pre>"
      ],
      "text/plain": [
       "| 888       | 26615.659704 | 0.423959      |"
      ]
     },
     "metadata": {},
     "output_type": "display_data"
    },
    {
     "data": {
      "text/html": [
       "<pre>| 889       | 26647.405248 | 0.423931      |</pre>"
      ],
      "text/plain": [
       "| 889       | 26647.405248 | 0.423931      |"
      ]
     },
     "metadata": {},
     "output_type": "display_data"
    },
    {
     "data": {
      "text/html": [
       "<pre>| 890       | 26678.873993 | 0.423919      |</pre>"
      ],
      "text/plain": [
       "| 890       | 26678.873993 | 0.423919      |"
      ]
     },
     "metadata": {},
     "output_type": "display_data"
    },
    {
     "data": {
      "text/html": [
       "<pre>| 891       | 26708.048839 | 0.423901      |</pre>"
      ],
      "text/plain": [
       "| 891       | 26708.048839 | 0.423901      |"
      ]
     },
     "metadata": {},
     "output_type": "display_data"
    },
    {
     "data": {
      "text/html": [
       "<pre>| 892       | 26737.861233 | 0.423881      |</pre>"
      ],
      "text/plain": [
       "| 892       | 26737.861233 | 0.423881      |"
      ]
     },
     "metadata": {},
     "output_type": "display_data"
    },
    {
     "data": {
      "text/html": [
       "<pre>| 893       | 26768.863689 | 0.423864      |</pre>"
      ],
      "text/plain": [
       "| 893       | 26768.863689 | 0.423864      |"
      ]
     },
     "metadata": {},
     "output_type": "display_data"
    },
    {
     "data": {
      "text/html": [
       "<pre>| 894       | 26797.773803 | 0.423854      |</pre>"
      ],
      "text/plain": [
       "| 894       | 26797.773803 | 0.423854      |"
      ]
     },
     "metadata": {},
     "output_type": "display_data"
    },
    {
     "data": {
      "text/html": [
       "<pre>| 895       | 26827.562205 | 0.423839      |</pre>"
      ],
      "text/plain": [
       "| 895       | 26827.562205 | 0.423839      |"
      ]
     },
     "metadata": {},
     "output_type": "display_data"
    },
    {
     "data": {
      "text/html": [
       "<pre>| 896       | 26855.336211 | 0.423824      |</pre>"
      ],
      "text/plain": [
       "| 896       | 26855.336211 | 0.423824      |"
      ]
     },
     "metadata": {},
     "output_type": "display_data"
    },
    {
     "data": {
      "text/html": [
       "<pre>| 897       | 26886.334146 | 0.423803      |</pre>"
      ],
      "text/plain": [
       "| 897       | 26886.334146 | 0.423803      |"
      ]
     },
     "metadata": {},
     "output_type": "display_data"
    },
    {
     "data": {
      "text/html": [
       "<pre>| 898       | 26917.241175 | 0.423786      |</pre>"
      ],
      "text/plain": [
       "| 898       | 26917.241175 | 0.423786      |"
      ]
     },
     "metadata": {},
     "output_type": "display_data"
    },
    {
     "data": {
      "text/html": [
       "<pre>| 899       | 26947.946470 | 0.423765      |</pre>"
      ],
      "text/plain": [
       "| 899       | 26947.946470 | 0.423765      |"
      ]
     },
     "metadata": {},
     "output_type": "display_data"
    },
    {
     "data": {
      "text/html": [
       "<pre>| 900       | 26978.481277 | 0.423750      |</pre>"
      ],
      "text/plain": [
       "| 900       | 26978.481277 | 0.423750      |"
      ]
     },
     "metadata": {},
     "output_type": "display_data"
    },
    {
     "data": {
      "text/html": [
       "<pre>| 901       | 27005.932731 | 0.423742      |</pre>"
      ],
      "text/plain": [
       "| 901       | 27005.932731 | 0.423742      |"
      ]
     },
     "metadata": {},
     "output_type": "display_data"
    },
    {
     "data": {
      "text/html": [
       "<pre>| 902       | 27035.911298 | 0.423726      |</pre>"
      ],
      "text/plain": [
       "| 902       | 27035.911298 | 0.423726      |"
      ]
     },
     "metadata": {},
     "output_type": "display_data"
    },
    {
     "data": {
      "text/html": [
       "<pre>| 903       | 27065.408096 | 0.423717      |</pre>"
      ],
      "text/plain": [
       "| 903       | 27065.408096 | 0.423717      |"
      ]
     },
     "metadata": {},
     "output_type": "display_data"
    },
    {
     "data": {
      "text/html": [
       "<pre>| 904       | 27094.712903 | 0.423708      |</pre>"
      ],
      "text/plain": [
       "| 904       | 27094.712903 | 0.423708      |"
      ]
     },
     "metadata": {},
     "output_type": "display_data"
    },
    {
     "data": {
      "text/html": [
       "<pre>| 905       | 27124.347196 | 0.423697      |</pre>"
      ],
      "text/plain": [
       "| 905       | 27124.347196 | 0.423697      |"
      ]
     },
     "metadata": {},
     "output_type": "display_data"
    },
    {
     "data": {
      "text/html": [
       "<pre>| 906       | 27154.496134 | 0.423683      |</pre>"
      ],
      "text/plain": [
       "| 906       | 27154.496134 | 0.423683      |"
      ]
     },
     "metadata": {},
     "output_type": "display_data"
    },
    {
     "data": {
      "text/html": [
       "<pre>| 907       | 27185.040861 | 0.423661      |</pre>"
      ],
      "text/plain": [
       "| 907       | 27185.040861 | 0.423661      |"
      ]
     },
     "metadata": {},
     "output_type": "display_data"
    },
    {
     "data": {
      "text/html": [
       "<pre>| 908       | 27215.798308 | 0.423640      |</pre>"
      ],
      "text/plain": [
       "| 908       | 27215.798308 | 0.423640      |"
      ]
     },
     "metadata": {},
     "output_type": "display_data"
    },
    {
     "data": {
      "text/html": [
       "<pre>| 909       | 27246.060861 | 0.423622      |</pre>"
      ],
      "text/plain": [
       "| 909       | 27246.060861 | 0.423622      |"
      ]
     },
     "metadata": {},
     "output_type": "display_data"
    },
    {
     "data": {
      "text/html": [
       "<pre>| 910       | 27275.837655 | 0.423610      |</pre>"
      ],
      "text/plain": [
       "| 910       | 27275.837655 | 0.423610      |"
      ]
     },
     "metadata": {},
     "output_type": "display_data"
    },
    {
     "data": {
      "text/html": [
       "<pre>| 911       | 27305.629118 | 0.423592      |</pre>"
      ],
      "text/plain": [
       "| 911       | 27305.629118 | 0.423592      |"
      ]
     },
     "metadata": {},
     "output_type": "display_data"
    },
    {
     "data": {
      "text/html": [
       "<pre>| 912       | 27335.135526 | 0.423579      |</pre>"
      ],
      "text/plain": [
       "| 912       | 27335.135526 | 0.423579      |"
      ]
     },
     "metadata": {},
     "output_type": "display_data"
    },
    {
     "data": {
      "text/html": [
       "<pre>| 913       | 27364.366333 | 0.423558      |</pre>"
      ],
      "text/plain": [
       "| 913       | 27364.366333 | 0.423558      |"
      ]
     },
     "metadata": {},
     "output_type": "display_data"
    },
    {
     "data": {
      "text/html": [
       "<pre>| 914       | 27393.934922 | 0.423547      |</pre>"
      ],
      "text/plain": [
       "| 914       | 27393.934922 | 0.423547      |"
      ]
     },
     "metadata": {},
     "output_type": "display_data"
    },
    {
     "data": {
      "text/html": [
       "<pre>| 915       | 27423.928809 | 0.423537      |</pre>"
      ],
      "text/plain": [
       "| 915       | 27423.928809 | 0.423537      |"
      ]
     },
     "metadata": {},
     "output_type": "display_data"
    },
    {
     "data": {
      "text/html": [
       "<pre>| 916       | 27454.539079 | 0.423516      |</pre>"
      ],
      "text/plain": [
       "| 916       | 27454.539079 | 0.423516      |"
      ]
     },
     "metadata": {},
     "output_type": "display_data"
    },
    {
     "data": {
      "text/html": [
       "<pre>| 917       | 27485.539542 | 0.423483      |</pre>"
      ],
      "text/plain": [
       "| 917       | 27485.539542 | 0.423483      |"
      ]
     },
     "metadata": {},
     "output_type": "display_data"
    },
    {
     "data": {
      "text/html": [
       "<pre>| 918       | 27515.413044 | 0.423470      |</pre>"
      ],
      "text/plain": [
       "| 918       | 27515.413044 | 0.423470      |"
      ]
     },
     "metadata": {},
     "output_type": "display_data"
    },
    {
     "data": {
      "text/html": [
       "<pre>| 919       | 27544.118799 | 0.423454      |</pre>"
      ],
      "text/plain": [
       "| 919       | 27544.118799 | 0.423454      |"
      ]
     },
     "metadata": {},
     "output_type": "display_data"
    },
    {
     "data": {
      "text/html": [
       "<pre>| 920       | 27573.735391 | 0.423429      |</pre>"
      ],
      "text/plain": [
       "| 920       | 27573.735391 | 0.423429      |"
      ]
     },
     "metadata": {},
     "output_type": "display_data"
    },
    {
     "data": {
      "text/html": [
       "<pre>| 921       | 27602.971118 | 0.423423      |</pre>"
      ],
      "text/plain": [
       "| 921       | 27602.971118 | 0.423423      |"
      ]
     },
     "metadata": {},
     "output_type": "display_data"
    },
    {
     "data": {
      "text/html": [
       "<pre>| 922       | 27632.450085 | 0.423403      |</pre>"
      ],
      "text/plain": [
       "| 922       | 27632.450085 | 0.423403      |"
      ]
     },
     "metadata": {},
     "output_type": "display_data"
    },
    {
     "data": {
      "text/html": [
       "<pre>| 923       | 27662.166040 | 0.423383      |</pre>"
      ],
      "text/plain": [
       "| 923       | 27662.166040 | 0.423383      |"
      ]
     },
     "metadata": {},
     "output_type": "display_data"
    },
    {
     "data": {
      "text/html": [
       "<pre>| 924       | 27693.579753 | 0.423363      |</pre>"
      ],
      "text/plain": [
       "| 924       | 27693.579753 | 0.423363      |"
      ]
     },
     "metadata": {},
     "output_type": "display_data"
    },
    {
     "data": {
      "text/html": [
       "<pre>| 925       | 27724.050923 | 0.423350      |</pre>"
      ],
      "text/plain": [
       "| 925       | 27724.050923 | 0.423350      |"
      ]
     },
     "metadata": {},
     "output_type": "display_data"
    },
    {
     "data": {
      "text/html": [
       "<pre>| 926       | 27754.123790 | 0.423339      |</pre>"
      ],
      "text/plain": [
       "| 926       | 27754.123790 | 0.423339      |"
      ]
     },
     "metadata": {},
     "output_type": "display_data"
    },
    {
     "data": {
      "text/html": [
       "<pre>| 927       | 27782.969746 | 0.423305      |</pre>"
      ],
      "text/plain": [
       "| 927       | 27782.969746 | 0.423305      |"
      ]
     },
     "metadata": {},
     "output_type": "display_data"
    },
    {
     "data": {
      "text/html": [
       "<pre>| 928       | 27812.219506 | 0.423293      |</pre>"
      ],
      "text/plain": [
       "| 928       | 27812.219506 | 0.423293      |"
      ]
     },
     "metadata": {},
     "output_type": "display_data"
    },
    {
     "data": {
      "text/html": [
       "<pre>| 929       | 27841.245962 | 0.423262      |</pre>"
      ],
      "text/plain": [
       "| 929       | 27841.245962 | 0.423262      |"
      ]
     },
     "metadata": {},
     "output_type": "display_data"
    },
    {
     "data": {
      "text/html": [
       "<pre>| 930       | 27870.636734 | 0.423247      |</pre>"
      ],
      "text/plain": [
       "| 930       | 27870.636734 | 0.423247      |"
      ]
     },
     "metadata": {},
     "output_type": "display_data"
    },
    {
     "data": {
      "text/html": [
       "<pre>| 931       | 27898.960652 | 0.423224      |</pre>"
      ],
      "text/plain": [
       "| 931       | 27898.960652 | 0.423224      |"
      ]
     },
     "metadata": {},
     "output_type": "display_data"
    },
    {
     "data": {
      "text/html": [
       "<pre>| 932       | 27928.930628 | 0.423221      |</pre>"
      ],
      "text/plain": [
       "| 932       | 27928.930628 | 0.423221      |"
      ]
     },
     "metadata": {},
     "output_type": "display_data"
    },
    {
     "data": {
      "text/html": [
       "<pre>| 933       | 27958.108480 | 0.423207      |</pre>"
      ],
      "text/plain": [
       "| 933       | 27958.108480 | 0.423207      |"
      ]
     },
     "metadata": {},
     "output_type": "display_data"
    },
    {
     "data": {
      "text/html": [
       "<pre>| 934       | 27988.375147 | 0.423185      |</pre>"
      ],
      "text/plain": [
       "| 934       | 27988.375147 | 0.423185      |"
      ]
     },
     "metadata": {},
     "output_type": "display_data"
    },
    {
     "data": {
      "text/html": [
       "<pre>| 935       | 28019.148873 | 0.423174      |</pre>"
      ],
      "text/plain": [
       "| 935       | 28019.148873 | 0.423174      |"
      ]
     },
     "metadata": {},
     "output_type": "display_data"
    },
    {
     "data": {
      "text/html": [
       "<pre>| 936       | 28048.753979 | 0.423164      |</pre>"
      ],
      "text/plain": [
       "| 936       | 28048.753979 | 0.423164      |"
      ]
     },
     "metadata": {},
     "output_type": "display_data"
    },
    {
     "data": {
      "text/html": [
       "<pre>| 937       | 28078.801429 | 0.423144      |</pre>"
      ],
      "text/plain": [
       "| 937       | 28078.801429 | 0.423144      |"
      ]
     },
     "metadata": {},
     "output_type": "display_data"
    },
    {
     "data": {
      "text/html": [
       "<pre>| 938       | 28109.579372 | 0.423130      |</pre>"
      ],
      "text/plain": [
       "| 938       | 28109.579372 | 0.423130      |"
      ]
     },
     "metadata": {},
     "output_type": "display_data"
    },
    {
     "data": {
      "text/html": [
       "<pre>| 939       | 28139.833622 | 0.423101      |</pre>"
      ],
      "text/plain": [
       "| 939       | 28139.833622 | 0.423101      |"
      ]
     },
     "metadata": {},
     "output_type": "display_data"
    },
    {
     "data": {
      "text/html": [
       "<pre>| 940       | 28169.004428 | 0.423082      |</pre>"
      ],
      "text/plain": [
       "| 940       | 28169.004428 | 0.423082      |"
      ]
     },
     "metadata": {},
     "output_type": "display_data"
    },
    {
     "data": {
      "text/html": [
       "<pre>| 941       | 28197.847250 | 0.423078      |</pre>"
      ],
      "text/plain": [
       "| 941       | 28197.847250 | 0.423078      |"
      ]
     },
     "metadata": {},
     "output_type": "display_data"
    },
    {
     "data": {
      "text/html": [
       "<pre>| 942       | 28229.713647 | 0.423052      |</pre>"
      ],
      "text/plain": [
       "| 942       | 28229.713647 | 0.423052      |"
      ]
     },
     "metadata": {},
     "output_type": "display_data"
    },
    {
     "data": {
      "text/html": [
       "<pre>| 943       | 28260.111016 | 0.423034      |</pre>"
      ],
      "text/plain": [
       "| 943       | 28260.111016 | 0.423034      |"
      ]
     },
     "metadata": {},
     "output_type": "display_data"
    },
    {
     "data": {
      "text/html": [
       "<pre>| 944       | 28290.758068 | 0.423020      |</pre>"
      ],
      "text/plain": [
       "| 944       | 28290.758068 | 0.423020      |"
      ]
     },
     "metadata": {},
     "output_type": "display_data"
    },
    {
     "data": {
      "text/html": [
       "<pre>| 945       | 28319.288119 | 0.423005      |</pre>"
      ],
      "text/plain": [
       "| 945       | 28319.288119 | 0.423005      |"
      ]
     },
     "metadata": {},
     "output_type": "display_data"
    },
    {
     "data": {
      "text/html": [
       "<pre>| 946       | 28349.187525 | 0.422986      |</pre>"
      ],
      "text/plain": [
       "| 946       | 28349.187525 | 0.422986      |"
      ]
     },
     "metadata": {},
     "output_type": "display_data"
    },
    {
     "data": {
      "text/html": [
       "<pre>| 947       | 28375.955030 | 0.422974      |</pre>"
      ],
      "text/plain": [
       "| 947       | 28375.955030 | 0.422974      |"
      ]
     },
     "metadata": {},
     "output_type": "display_data"
    },
    {
     "data": {
      "text/html": [
       "<pre>| 948       | 28405.871204 | 0.422956      |</pre>"
      ],
      "text/plain": [
       "| 948       | 28405.871204 | 0.422956      |"
      ]
     },
     "metadata": {},
     "output_type": "display_data"
    },
    {
     "data": {
      "text/html": [
       "<pre>| 949       | 28434.906517 | 0.422926      |</pre>"
      ],
      "text/plain": [
       "| 949       | 28434.906517 | 0.422926      |"
      ]
     },
     "metadata": {},
     "output_type": "display_data"
    },
    {
     "data": {
      "text/html": [
       "<pre>| 950       | 28464.809090 | 0.422912      |</pre>"
      ],
      "text/plain": [
       "| 950       | 28464.809090 | 0.422912      |"
      ]
     },
     "metadata": {},
     "output_type": "display_data"
    },
    {
     "data": {
      "text/html": [
       "<pre>| 951       | 28496.363896 | 0.422895      |</pre>"
      ],
      "text/plain": [
       "| 951       | 28496.363896 | 0.422895      |"
      ]
     },
     "metadata": {},
     "output_type": "display_data"
    },
    {
     "data": {
      "text/html": [
       "<pre>| 952       | 28525.180390 | 0.422873      |</pre>"
      ],
      "text/plain": [
       "| 952       | 28525.180390 | 0.422873      |"
      ]
     },
     "metadata": {},
     "output_type": "display_data"
    },
    {
     "data": {
      "text/html": [
       "<pre>| 953       | 28553.551160 | 0.422863      |</pre>"
      ],
      "text/plain": [
       "| 953       | 28553.551160 | 0.422863      |"
      ]
     },
     "metadata": {},
     "output_type": "display_data"
    },
    {
     "data": {
      "text/html": [
       "<pre>| 954       | 28584.037240 | 0.422847      |</pre>"
      ],
      "text/plain": [
       "| 954       | 28584.037240 | 0.422847      |"
      ]
     },
     "metadata": {},
     "output_type": "display_data"
    },
    {
     "data": {
      "text/html": [
       "<pre>| 955       | 28612.254570 | 0.422828      |</pre>"
      ],
      "text/plain": [
       "| 955       | 28612.254570 | 0.422828      |"
      ]
     },
     "metadata": {},
     "output_type": "display_data"
    },
    {
     "data": {
      "text/html": [
       "<pre>| 956       | 28642.873021 | 0.422808      |</pre>"
      ],
      "text/plain": [
       "| 956       | 28642.873021 | 0.422808      |"
      ]
     },
     "metadata": {},
     "output_type": "display_data"
    },
    {
     "data": {
      "text/html": [
       "<pre>| 957       | 28672.587295 | 0.422802      |</pre>"
      ],
      "text/plain": [
       "| 957       | 28672.587295 | 0.422802      |"
      ]
     },
     "metadata": {},
     "output_type": "display_data"
    },
    {
     "data": {
      "text/html": [
       "<pre>| 958       | 28701.373169 | 0.422797      |</pre>"
      ],
      "text/plain": [
       "| 958       | 28701.373169 | 0.422797      |"
      ]
     },
     "metadata": {},
     "output_type": "display_data"
    },
    {
     "data": {
      "text/html": [
       "<pre>| 959       | 28730.797771 | 0.422790      |</pre>"
      ],
      "text/plain": [
       "| 959       | 28730.797771 | 0.422790      |"
      ]
     },
     "metadata": {},
     "output_type": "display_data"
    },
    {
     "data": {
      "text/html": [
       "<pre>| 960       | 28761.026863 | 0.422776      |</pre>"
      ],
      "text/plain": [
       "| 960       | 28761.026863 | 0.422776      |"
      ]
     },
     "metadata": {},
     "output_type": "display_data"
    },
    {
     "data": {
      "text/html": [
       "<pre>| 961       | 28791.061140 | 0.422768      |</pre>"
      ],
      "text/plain": [
       "| 961       | 28791.061140 | 0.422768      |"
      ]
     },
     "metadata": {},
     "output_type": "display_data"
    },
    {
     "data": {
      "text/html": [
       "<pre>| 962       | 28820.401982 | 0.422754      |</pre>"
      ],
      "text/plain": [
       "| 962       | 28820.401982 | 0.422754      |"
      ]
     },
     "metadata": {},
     "output_type": "display_data"
    },
    {
     "data": {
      "text/html": [
       "<pre>| 963       | 28849.454518 | 0.422720      |</pre>"
      ],
      "text/plain": [
       "| 963       | 28849.454518 | 0.422720      |"
      ]
     },
     "metadata": {},
     "output_type": "display_data"
    },
    {
     "data": {
      "text/html": [
       "<pre>| 964       | 28878.779885 | 0.422693      |</pre>"
      ],
      "text/plain": [
       "| 964       | 28878.779885 | 0.422693      |"
      ]
     },
     "metadata": {},
     "output_type": "display_data"
    },
    {
     "data": {
      "text/html": [
       "<pre>| 965       | 28909.442836 | 0.422690      |</pre>"
      ],
      "text/plain": [
       "| 965       | 28909.442836 | 0.422690      |"
      ]
     },
     "metadata": {},
     "output_type": "display_data"
    },
    {
     "data": {
      "text/html": [
       "<pre>| 966       | 28939.011085 | 0.422675      |</pre>"
      ],
      "text/plain": [
       "| 966       | 28939.011085 | 0.422675      |"
      ]
     },
     "metadata": {},
     "output_type": "display_data"
    },
    {
     "data": {
      "text/html": [
       "<pre>| 967       | 28966.501588 | 0.422664      |</pre>"
      ],
      "text/plain": [
       "| 967       | 28966.501588 | 0.422664      |"
      ]
     },
     "metadata": {},
     "output_type": "display_data"
    },
    {
     "data": {
      "text/html": [
       "<pre>| 968       | 28996.603482 | 0.422647      |</pre>"
      ],
      "text/plain": [
       "| 968       | 28996.603482 | 0.422647      |"
      ]
     },
     "metadata": {},
     "output_type": "display_data"
    },
    {
     "data": {
      "text/html": [
       "<pre>| 969       | 29025.736503 | 0.422636      |</pre>"
      ],
      "text/plain": [
       "| 969       | 29025.736503 | 0.422636      |"
      ]
     },
     "metadata": {},
     "output_type": "display_data"
    },
    {
     "data": {
      "text/html": [
       "<pre>| 970       | 29059.828310 | 0.422618      |</pre>"
      ],
      "text/plain": [
       "| 970       | 29059.828310 | 0.422618      |"
      ]
     },
     "metadata": {},
     "output_type": "display_data"
    },
    {
     "data": {
      "text/html": [
       "<pre>| 971       | 29087.654140 | 0.422605      |</pre>"
      ],
      "text/plain": [
       "| 971       | 29087.654140 | 0.422605      |"
      ]
     },
     "metadata": {},
     "output_type": "display_data"
    },
    {
     "data": {
      "text/html": [
       "<pre>| 972       | 29117.735848 | 0.422586      |</pre>"
      ],
      "text/plain": [
       "| 972       | 29117.735848 | 0.422586      |"
      ]
     },
     "metadata": {},
     "output_type": "display_data"
    },
    {
     "data": {
      "text/html": [
       "<pre>| 973       | 29149.423846 | 0.422565      |</pre>"
      ],
      "text/plain": [
       "| 973       | 29149.423846 | 0.422565      |"
      ]
     },
     "metadata": {},
     "output_type": "display_data"
    },
    {
     "data": {
      "text/html": [
       "<pre>| 974       | 29180.003685 | 0.422549      |</pre>"
      ],
      "text/plain": [
       "| 974       | 29180.003685 | 0.422549      |"
      ]
     },
     "metadata": {},
     "output_type": "display_data"
    },
    {
     "data": {
      "text/html": [
       "<pre>| 975       | 29208.965785 | 0.422520      |</pre>"
      ],
      "text/plain": [
       "| 975       | 29208.965785 | 0.422520      |"
      ]
     },
     "metadata": {},
     "output_type": "display_data"
    },
    {
     "data": {
      "text/html": [
       "<pre>| 976       | 29238.806050 | 0.422500      |</pre>"
      ],
      "text/plain": [
       "| 976       | 29238.806050 | 0.422500      |"
      ]
     },
     "metadata": {},
     "output_type": "display_data"
    },
    {
     "data": {
      "text/html": [
       "<pre>| 977       | 29268.594837 | 0.422480      |</pre>"
      ],
      "text/plain": [
       "| 977       | 29268.594837 | 0.422480      |"
      ]
     },
     "metadata": {},
     "output_type": "display_data"
    },
    {
     "data": {
      "text/html": [
       "<pre>| 978       | 29298.043785 | 0.422457      |</pre>"
      ],
      "text/plain": [
       "| 978       | 29298.043785 | 0.422457      |"
      ]
     },
     "metadata": {},
     "output_type": "display_data"
    },
    {
     "data": {
      "text/html": [
       "<pre>| 979       | 29328.497069 | 0.422442      |</pre>"
      ],
      "text/plain": [
       "| 979       | 29328.497069 | 0.422442      |"
      ]
     },
     "metadata": {},
     "output_type": "display_data"
    },
    {
     "data": {
      "text/html": [
       "<pre>| 980       | 29358.046295 | 0.422421      |</pre>"
      ],
      "text/plain": [
       "| 980       | 29358.046295 | 0.422421      |"
      ]
     },
     "metadata": {},
     "output_type": "display_data"
    },
    {
     "data": {
      "text/html": [
       "<pre>| 981       | 29385.895095 | 0.422402      |</pre>"
      ],
      "text/plain": [
       "| 981       | 29385.895095 | 0.422402      |"
      ]
     },
     "metadata": {},
     "output_type": "display_data"
    },
    {
     "data": {
      "text/html": [
       "<pre>| 982       | 29416.212696 | 0.422381      |</pre>"
      ],
      "text/plain": [
       "| 982       | 29416.212696 | 0.422381      |"
      ]
     },
     "metadata": {},
     "output_type": "display_data"
    },
    {
     "data": {
      "text/html": [
       "<pre>| 983       | 29445.567316 | 0.422365      |</pre>"
      ],
      "text/plain": [
       "| 983       | 29445.567316 | 0.422365      |"
      ]
     },
     "metadata": {},
     "output_type": "display_data"
    },
    {
     "data": {
      "text/html": [
       "<pre>| 984       | 29474.609579 | 0.422349      |</pre>"
      ],
      "text/plain": [
       "| 984       | 29474.609579 | 0.422349      |"
      ]
     },
     "metadata": {},
     "output_type": "display_data"
    },
    {
     "data": {
      "text/html": [
       "<pre>| 985       | 29503.897155 | 0.422339      |</pre>"
      ],
      "text/plain": [
       "| 985       | 29503.897155 | 0.422339      |"
      ]
     },
     "metadata": {},
     "output_type": "display_data"
    },
    {
     "data": {
      "text/html": [
       "<pre>| 986       | 29533.851068 | 0.422313      |</pre>"
      ],
      "text/plain": [
       "| 986       | 29533.851068 | 0.422313      |"
      ]
     },
     "metadata": {},
     "output_type": "display_data"
    },
    {
     "data": {
      "text/html": [
       "<pre>| 987       | 29562.760388 | 0.422307      |</pre>"
      ],
      "text/plain": [
       "| 987       | 29562.760388 | 0.422307      |"
      ]
     },
     "metadata": {},
     "output_type": "display_data"
    },
    {
     "data": {
      "text/html": [
       "<pre>| 988       | 29592.712901 | 0.422276      |</pre>"
      ],
      "text/plain": [
       "| 988       | 29592.712901 | 0.422276      |"
      ]
     },
     "metadata": {},
     "output_type": "display_data"
    },
    {
     "data": {
      "text/html": [
       "<pre>| 989       | 29621.523952 | 0.422262      |</pre>"
      ],
      "text/plain": [
       "| 989       | 29621.523952 | 0.422262      |"
      ]
     },
     "metadata": {},
     "output_type": "display_data"
    },
    {
     "data": {
      "text/html": [
       "<pre>| 990       | 29649.883750 | 0.422247      |</pre>"
      ],
      "text/plain": [
       "| 990       | 29649.883750 | 0.422247      |"
      ]
     },
     "metadata": {},
     "output_type": "display_data"
    },
    {
     "data": {
      "text/html": [
       "<pre>| 991       | 29679.613473 | 0.422241      |</pre>"
      ],
      "text/plain": [
       "| 991       | 29679.613473 | 0.422241      |"
      ]
     },
     "metadata": {},
     "output_type": "display_data"
    },
    {
     "data": {
      "text/html": [
       "<pre>| 992       | 29708.759900 | 0.422234      |</pre>"
      ],
      "text/plain": [
       "| 992       | 29708.759900 | 0.422234      |"
      ]
     },
     "metadata": {},
     "output_type": "display_data"
    },
    {
     "data": {
      "text/html": [
       "<pre>| 993       | 29739.108692 | 0.422223      |</pre>"
      ],
      "text/plain": [
       "| 993       | 29739.108692 | 0.422223      |"
      ]
     },
     "metadata": {},
     "output_type": "display_data"
    },
    {
     "data": {
      "text/html": [
       "<pre>| 994       | 29768.211275 | 0.422208      |</pre>"
      ],
      "text/plain": [
       "| 994       | 29768.211275 | 0.422208      |"
      ]
     },
     "metadata": {},
     "output_type": "display_data"
    },
    {
     "data": {
      "text/html": [
       "<pre>| 995       | 29797.488459 | 0.422201      |</pre>"
      ],
      "text/plain": [
       "| 995       | 29797.488459 | 0.422201      |"
      ]
     },
     "metadata": {},
     "output_type": "display_data"
    },
    {
     "data": {
      "text/html": [
       "<pre>| 996       | 29825.529495 | 0.422193      |</pre>"
      ],
      "text/plain": [
       "| 996       | 29825.529495 | 0.422193      |"
      ]
     },
     "metadata": {},
     "output_type": "display_data"
    },
    {
     "data": {
      "text/html": [
       "<pre>| 997       | 29857.062617 | 0.422174      |</pre>"
      ],
      "text/plain": [
       "| 997       | 29857.062617 | 0.422174      |"
      ]
     },
     "metadata": {},
     "output_type": "display_data"
    },
    {
     "data": {
      "text/html": [
       "<pre>| 998       | 29887.486159 | 0.422167      |</pre>"
      ],
      "text/plain": [
       "| 998       | 29887.486159 | 0.422167      |"
      ]
     },
     "metadata": {},
     "output_type": "display_data"
    },
    {
     "data": {
      "text/html": [
       "<pre>| 999       | 29916.066524 | 0.422144      |</pre>"
      ],
      "text/plain": [
       "| 999       | 29916.066524 | 0.422144      |"
      ]
     },
     "metadata": {},
     "output_type": "display_data"
    },
    {
     "data": {
      "text/html": [
       "<pre>| 1000      | 29946.285760 | 0.422125      |</pre>"
      ],
      "text/plain": [
       "| 1000      | 29946.285760 | 0.422125      |"
      ]
     },
     "metadata": {},
     "output_type": "display_data"
    },
    {
     "data": {
      "text/html": [
       "<pre>| 1001      | 29976.593275 | 0.422111      |</pre>"
      ],
      "text/plain": [
       "| 1001      | 29976.593275 | 0.422111      |"
      ]
     },
     "metadata": {},
     "output_type": "display_data"
    },
    {
     "data": {
      "text/html": [
       "<pre>| 1002      | 30005.425247 | 0.422099      |</pre>"
      ],
      "text/plain": [
       "| 1002      | 30005.425247 | 0.422099      |"
      ]
     },
     "metadata": {},
     "output_type": "display_data"
    },
    {
     "data": {
      "text/html": [
       "<pre>| 1003      | 30033.872506 | 0.422090      |</pre>"
      ],
      "text/plain": [
       "| 1003      | 30033.872506 | 0.422090      |"
      ]
     },
     "metadata": {},
     "output_type": "display_data"
    },
    {
     "data": {
      "text/html": [
       "<pre>| 1004      | 30060.848363 | 0.422082      |</pre>"
      ],
      "text/plain": [
       "| 1004      | 30060.848363 | 0.422082      |"
      ]
     },
     "metadata": {},
     "output_type": "display_data"
    },
    {
     "data": {
      "text/html": [
       "<pre>| 1005      | 30093.941708 | 0.422077      |</pre>"
      ],
      "text/plain": [
       "| 1005      | 30093.941708 | 0.422077      |"
      ]
     },
     "metadata": {},
     "output_type": "display_data"
    },
    {
     "data": {
      "text/html": [
       "<pre>| 1006      | 30124.449746 | 0.422058      |</pre>"
      ],
      "text/plain": [
       "| 1006      | 30124.449746 | 0.422058      |"
      ]
     },
     "metadata": {},
     "output_type": "display_data"
    },
    {
     "data": {
      "text/html": [
       "<pre>| 1007      | 30154.070237 | 0.422047      |</pre>"
      ],
      "text/plain": [
       "| 1007      | 30154.070237 | 0.422047      |"
      ]
     },
     "metadata": {},
     "output_type": "display_data"
    },
    {
     "data": {
      "text/html": [
       "<pre>| 1008      | 30184.640357 | 0.422023      |</pre>"
      ],
      "text/plain": [
       "| 1008      | 30184.640357 | 0.422023      |"
      ]
     },
     "metadata": {},
     "output_type": "display_data"
    },
    {
     "data": {
      "text/html": [
       "<pre>| 1009      | 30216.289907 | 0.422002      |</pre>"
      ],
      "text/plain": [
       "| 1009      | 30216.289907 | 0.422002      |"
      ]
     },
     "metadata": {},
     "output_type": "display_data"
    },
    {
     "data": {
      "text/html": [
       "<pre>| 1010      | 30244.303133 | 0.421991      |</pre>"
      ],
      "text/plain": [
       "| 1010      | 30244.303133 | 0.421991      |"
      ]
     },
     "metadata": {},
     "output_type": "display_data"
    },
    {
     "data": {
      "text/html": [
       "<pre>| 1011      | 30272.473236 | 0.421975      |</pre>"
      ],
      "text/plain": [
       "| 1011      | 30272.473236 | 0.421975      |"
      ]
     },
     "metadata": {},
     "output_type": "display_data"
    },
    {
     "data": {
      "text/html": [
       "<pre>| 1012      | 30301.611312 | 0.421950      |</pre>"
      ],
      "text/plain": [
       "| 1012      | 30301.611312 | 0.421950      |"
      ]
     },
     "metadata": {},
     "output_type": "display_data"
    },
    {
     "data": {
      "text/html": [
       "<pre>| 1013      | 30331.696691 | 0.421927      |</pre>"
      ],
      "text/plain": [
       "| 1013      | 30331.696691 | 0.421927      |"
      ]
     },
     "metadata": {},
     "output_type": "display_data"
    },
    {
     "data": {
      "text/html": [
       "<pre>| 1014      | 30362.588105 | 0.421905      |</pre>"
      ],
      "text/plain": [
       "| 1014      | 30362.588105 | 0.421905      |"
      ]
     },
     "metadata": {},
     "output_type": "display_data"
    },
    {
     "data": {
      "text/html": [
       "<pre>| 1015      | 30392.108793 | 0.421892      |</pre>"
      ],
      "text/plain": [
       "| 1015      | 30392.108793 | 0.421892      |"
      ]
     },
     "metadata": {},
     "output_type": "display_data"
    },
    {
     "data": {
      "text/html": [
       "<pre>| 1016      | 30420.772253 | 0.421880      |</pre>"
      ],
      "text/plain": [
       "| 1016      | 30420.772253 | 0.421880      |"
      ]
     },
     "metadata": {},
     "output_type": "display_data"
    },
    {
     "data": {
      "text/html": [
       "<pre>| 1017      | 30451.639442 | 0.421861      |</pre>"
      ],
      "text/plain": [
       "| 1017      | 30451.639442 | 0.421861      |"
      ]
     },
     "metadata": {},
     "output_type": "display_data"
    },
    {
     "data": {
      "text/html": [
       "<pre>| 1018      | 30480.132224 | 0.421852      |</pre>"
      ],
      "text/plain": [
       "| 1018      | 30480.132224 | 0.421852      |"
      ]
     },
     "metadata": {},
     "output_type": "display_data"
    },
    {
     "data": {
      "text/html": [
       "<pre>| 1019      | 30510.542602 | 0.421840      |</pre>"
      ],
      "text/plain": [
       "| 1019      | 30510.542602 | 0.421840      |"
      ]
     },
     "metadata": {},
     "output_type": "display_data"
    },
    {
     "data": {
      "text/html": [
       "<pre>| 1020      | 30541.640234 | 0.421819      |</pre>"
      ],
      "text/plain": [
       "| 1020      | 30541.640234 | 0.421819      |"
      ]
     },
     "metadata": {},
     "output_type": "display_data"
    },
    {
     "data": {
      "text/html": [
       "<pre>| 1021      | 30572.355887 | 0.421804      |</pre>"
      ],
      "text/plain": [
       "| 1021      | 30572.355887 | 0.421804      |"
      ]
     },
     "metadata": {},
     "output_type": "display_data"
    },
    {
     "data": {
      "text/html": [
       "<pre>| 1022      | 30603.727320 | 0.421784      |</pre>"
      ],
      "text/plain": [
       "| 1022      | 30603.727320 | 0.421784      |"
      ]
     },
     "metadata": {},
     "output_type": "display_data"
    },
    {
     "data": {
      "text/html": [
       "<pre>| 1023      | 30635.588382 | 0.421760      |</pre>"
      ],
      "text/plain": [
       "| 1023      | 30635.588382 | 0.421760      |"
      ]
     },
     "metadata": {},
     "output_type": "display_data"
    },
    {
     "data": {
      "text/html": [
       "<pre>| 1024      | 30666.287132 | 0.421750      |</pre>"
      ],
      "text/plain": [
       "| 1024      | 30666.287132 | 0.421750      |"
      ]
     },
     "metadata": {},
     "output_type": "display_data"
    },
    {
     "data": {
      "text/html": [
       "<pre>| 1025      | 30695.498633 | 0.421743      |</pre>"
      ],
      "text/plain": [
       "| 1025      | 30695.498633 | 0.421743      |"
      ]
     },
     "metadata": {},
     "output_type": "display_data"
    },
    {
     "data": {
      "text/html": [
       "<pre>| 1026      | 30728.230700 | 0.421721      |</pre>"
      ],
      "text/plain": [
       "| 1026      | 30728.230700 | 0.421721      |"
      ]
     },
     "metadata": {},
     "output_type": "display_data"
    },
    {
     "data": {
      "text/html": [
       "<pre>| 1027      | 30759.062646 | 0.421699      |</pre>"
      ],
      "text/plain": [
       "| 1027      | 30759.062646 | 0.421699      |"
      ]
     },
     "metadata": {},
     "output_type": "display_data"
    },
    {
     "data": {
      "text/html": [
       "<pre>| 1028      | 30789.326525 | 0.421674      |</pre>"
      ],
      "text/plain": [
       "| 1028      | 30789.326525 | 0.421674      |"
      ]
     },
     "metadata": {},
     "output_type": "display_data"
    },
    {
     "data": {
      "text/html": [
       "<pre>| 1029      | 30821.658778 | 0.421652      |</pre>"
      ],
      "text/plain": [
       "| 1029      | 30821.658778 | 0.421652      |"
      ]
     },
     "metadata": {},
     "output_type": "display_data"
    },
    {
     "data": {
      "text/html": [
       "<pre>| 1030      | 30852.507622 | 0.421633      |</pre>"
      ],
      "text/plain": [
       "| 1030      | 30852.507622 | 0.421633      |"
      ]
     },
     "metadata": {},
     "output_type": "display_data"
    },
    {
     "data": {
      "text/html": [
       "<pre>| 1031      | 30883.287127 | 0.421608      |</pre>"
      ],
      "text/plain": [
       "| 1031      | 30883.287127 | 0.421608      |"
      ]
     },
     "metadata": {},
     "output_type": "display_data"
    },
    {
     "data": {
      "text/html": [
       "<pre>| 1032      | 30912.431242 | 0.421594      |</pre>"
      ],
      "text/plain": [
       "| 1032      | 30912.431242 | 0.421594      |"
      ]
     },
     "metadata": {},
     "output_type": "display_data"
    },
    {
     "data": {
      "text/html": [
       "<pre>| 1033      | 30942.646910 | 0.421571      |</pre>"
      ],
      "text/plain": [
       "| 1033      | 30942.646910 | 0.421571      |"
      ]
     },
     "metadata": {},
     "output_type": "display_data"
    },
    {
     "data": {
      "text/html": [
       "<pre>| 1034      | 30974.352220 | 0.421553      |</pre>"
      ],
      "text/plain": [
       "| 1034      | 30974.352220 | 0.421553      |"
      ]
     },
     "metadata": {},
     "output_type": "display_data"
    },
    {
     "data": {
      "text/html": [
       "<pre>| 1035      | 31003.184319 | 0.421520      |</pre>"
      ],
      "text/plain": [
       "| 1035      | 31003.184319 | 0.421520      |"
      ]
     },
     "metadata": {},
     "output_type": "display_data"
    },
    {
     "data": {
      "text/html": [
       "<pre>| 1036      | 31033.784615 | 0.421498      |</pre>"
      ],
      "text/plain": [
       "| 1036      | 31033.784615 | 0.421498      |"
      ]
     },
     "metadata": {},
     "output_type": "display_data"
    },
    {
     "data": {
      "text/html": [
       "<pre>| 1037      | 31064.022826 | 0.421481      |</pre>"
      ],
      "text/plain": [
       "| 1037      | 31064.022826 | 0.421481      |"
      ]
     },
     "metadata": {},
     "output_type": "display_data"
    },
    {
     "data": {
      "text/html": [
       "<pre>| 1038      | 31093.162850 | 0.421475      |</pre>"
      ],
      "text/plain": [
       "| 1038      | 31093.162850 | 0.421475      |"
      ]
     },
     "metadata": {},
     "output_type": "display_data"
    },
    {
     "data": {
      "text/html": [
       "<pre>| 1039      | 31121.741321 | 0.421463      |</pre>"
      ],
      "text/plain": [
       "| 1039      | 31121.741321 | 0.421463      |"
      ]
     },
     "metadata": {},
     "output_type": "display_data"
    },
    {
     "data": {
      "text/html": [
       "<pre>| 1040      | 31149.889463 | 0.421452      |</pre>"
      ],
      "text/plain": [
       "| 1040      | 31149.889463 | 0.421452      |"
      ]
     },
     "metadata": {},
     "output_type": "display_data"
    },
    {
     "data": {
      "text/html": [
       "<pre>| 1041      | 31181.310301 | 0.421440      |</pre>"
      ],
      "text/plain": [
       "| 1041      | 31181.310301 | 0.421440      |"
      ]
     },
     "metadata": {},
     "output_type": "display_data"
    },
    {
     "data": {
      "text/html": [
       "<pre>| 1042      | 31212.835258 | 0.421422      |</pre>"
      ],
      "text/plain": [
       "| 1042      | 31212.835258 | 0.421422      |"
      ]
     },
     "metadata": {},
     "output_type": "display_data"
    },
    {
     "data": {
      "text/html": [
       "<pre>| 1043      | 31241.041154 | 0.421401      |</pre>"
      ],
      "text/plain": [
       "| 1043      | 31241.041154 | 0.421401      |"
      ]
     },
     "metadata": {},
     "output_type": "display_data"
    },
    {
     "data": {
      "text/html": [
       "<pre>| 1044      | 31271.950289 | 0.421386      |</pre>"
      ],
      "text/plain": [
       "| 1044      | 31271.950289 | 0.421386      |"
      ]
     },
     "metadata": {},
     "output_type": "display_data"
    },
    {
     "data": {
      "text/html": [
       "<pre>| 1045      | 31303.184310 | 0.421374      |</pre>"
      ],
      "text/plain": [
       "| 1045      | 31303.184310 | 0.421374      |"
      ]
     },
     "metadata": {},
     "output_type": "display_data"
    },
    {
     "data": {
      "text/html": [
       "<pre>| 1046      | 31331.455877 | 0.421361      |</pre>"
      ],
      "text/plain": [
       "| 1046      | 31331.455877 | 0.421361      |"
      ]
     },
     "metadata": {},
     "output_type": "display_data"
    },
    {
     "data": {
      "text/html": [
       "<pre>| 1047      | 31360.620471 | 0.421350      |</pre>"
      ],
      "text/plain": [
       "| 1047      | 31360.620471 | 0.421350      |"
      ]
     },
     "metadata": {},
     "output_type": "display_data"
    },
    {
     "data": {
      "text/html": [
       "<pre>| 1048      | 31389.984727 | 0.421344      |</pre>"
      ],
      "text/plain": [
       "| 1048      | 31389.984727 | 0.421344      |"
      ]
     },
     "metadata": {},
     "output_type": "display_data"
    },
    {
     "data": {
      "text/html": [
       "<pre>| 1049      | 31418.136575 | 0.421341      |</pre>"
      ],
      "text/plain": [
       "| 1049      | 31418.136575 | 0.421341      |"
      ]
     },
     "metadata": {},
     "output_type": "display_data"
    },
    {
     "data": {
      "text/html": [
       "<pre>| 1050      | 31446.780944 | 0.421334      |</pre>"
      ],
      "text/plain": [
       "| 1050      | 31446.780944 | 0.421334      |"
      ]
     },
     "metadata": {},
     "output_type": "display_data"
    },
    {
     "data": {
      "text/html": [
       "<pre>| 1051      | 31477.415546 | 0.421300      |</pre>"
      ],
      "text/plain": [
       "| 1051      | 31477.415546 | 0.421300      |"
      ]
     },
     "metadata": {},
     "output_type": "display_data"
    },
    {
     "data": {
      "text/html": [
       "<pre>| 1052      | 31507.846499 | 0.421294      |</pre>"
      ],
      "text/plain": [
       "| 1052      | 31507.846499 | 0.421294      |"
      ]
     },
     "metadata": {},
     "output_type": "display_data"
    },
    {
     "data": {
      "text/html": [
       "<pre>| 1053      | 31537.425160 | 0.421269      |</pre>"
      ],
      "text/plain": [
       "| 1053      | 31537.425160 | 0.421269      |"
      ]
     },
     "metadata": {},
     "output_type": "display_data"
    },
    {
     "data": {
      "text/html": [
       "<pre>| 1054      | 31567.130619 | 0.421254      |</pre>"
      ],
      "text/plain": [
       "| 1054      | 31567.130619 | 0.421254      |"
      ]
     },
     "metadata": {},
     "output_type": "display_data"
    },
    {
     "data": {
      "text/html": [
       "<pre>| 1055      | 31598.547169 | 0.421250      |</pre>"
      ],
      "text/plain": [
       "| 1055      | 31598.547169 | 0.421250      |"
      ]
     },
     "metadata": {},
     "output_type": "display_data"
    },
    {
     "data": {
      "text/html": [
       "<pre>| 1056      | 31628.527469 | 0.421227      |</pre>"
      ],
      "text/plain": [
       "| 1056      | 31628.527469 | 0.421227      |"
      ]
     },
     "metadata": {},
     "output_type": "display_data"
    },
    {
     "data": {
      "text/html": [
       "<pre>| 1057      | 31659.233469 | 0.421209      |</pre>"
      ],
      "text/plain": [
       "| 1057      | 31659.233469 | 0.421209      |"
      ]
     },
     "metadata": {},
     "output_type": "display_data"
    },
    {
     "data": {
      "text/html": [
       "<pre>| 1058      | 31691.035569 | 0.421176      |</pre>"
      ],
      "text/plain": [
       "| 1058      | 31691.035569 | 0.421176      |"
      ]
     },
     "metadata": {},
     "output_type": "display_data"
    },
    {
     "data": {
      "text/html": [
       "<pre>| 1059      | 31722.155679 | 0.421166      |</pre>"
      ],
      "text/plain": [
       "| 1059      | 31722.155679 | 0.421166      |"
      ]
     },
     "metadata": {},
     "output_type": "display_data"
    },
    {
     "data": {
      "text/html": [
       "<pre>| 1060      | 31752.241548 | 0.421154      |</pre>"
      ],
      "text/plain": [
       "| 1060      | 31752.241548 | 0.421154      |"
      ]
     },
     "metadata": {},
     "output_type": "display_data"
    },
    {
     "data": {
      "text/html": [
       "<pre>| 1061      | 31782.184887 | 0.421144      |</pre>"
      ],
      "text/plain": [
       "| 1061      | 31782.184887 | 0.421144      |"
      ]
     },
     "metadata": {},
     "output_type": "display_data"
    },
    {
     "data": {
      "text/html": [
       "<pre>| 1062      | 31813.723700 | 0.421126      |</pre>"
      ],
      "text/plain": [
       "| 1062      | 31813.723700 | 0.421126      |"
      ]
     },
     "metadata": {},
     "output_type": "display_data"
    },
    {
     "data": {
      "text/html": [
       "<pre>| 1063      | 31843.563280 | 0.421108      |</pre>"
      ],
      "text/plain": [
       "| 1063      | 31843.563280 | 0.421108      |"
      ]
     },
     "metadata": {},
     "output_type": "display_data"
    },
    {
     "data": {
      "text/html": [
       "<pre>| 1064      | 31873.924239 | 0.421087      |</pre>"
      ],
      "text/plain": [
       "| 1064      | 31873.924239 | 0.421087      |"
      ]
     },
     "metadata": {},
     "output_type": "display_data"
    },
    {
     "data": {
      "text/html": [
       "<pre>| 1065      | 31903.936037 | 0.421072      |</pre>"
      ],
      "text/plain": [
       "| 1065      | 31903.936037 | 0.421072      |"
      ]
     },
     "metadata": {},
     "output_type": "display_data"
    },
    {
     "data": {
      "text/html": [
       "<pre>| 1066      | 31933.798421 | 0.421060      |</pre>"
      ],
      "text/plain": [
       "| 1066      | 31933.798421 | 0.421060      |"
      ]
     },
     "metadata": {},
     "output_type": "display_data"
    },
    {
     "data": {
      "text/html": [
       "<pre>| 1067      | 31966.033293 | 0.421032      |</pre>"
      ],
      "text/plain": [
       "| 1067      | 31966.033293 | 0.421032      |"
      ]
     },
     "metadata": {},
     "output_type": "display_data"
    },
    {
     "data": {
      "text/html": [
       "<pre>| 1068      | 31995.298437 | 0.421016      |</pre>"
      ],
      "text/plain": [
       "| 1068      | 31995.298437 | 0.421016      |"
      ]
     },
     "metadata": {},
     "output_type": "display_data"
    },
    {
     "data": {
      "text/html": [
       "<pre>| 1069      | 32025.955239 | 0.420993      |</pre>"
      ],
      "text/plain": [
       "| 1069      | 32025.955239 | 0.420993      |"
      ]
     },
     "metadata": {},
     "output_type": "display_data"
    },
    {
     "data": {
      "text/html": [
       "<pre>| 1070      | 32055.509483 | 0.420969      |</pre>"
      ],
      "text/plain": [
       "| 1070      | 32055.509483 | 0.420969      |"
      ]
     },
     "metadata": {},
     "output_type": "display_data"
    },
    {
     "data": {
      "text/html": [
       "<pre>| 1071      | 32087.488425 | 0.420942      |</pre>"
      ],
      "text/plain": [
       "| 1071      | 32087.488425 | 0.420942      |"
      ]
     },
     "metadata": {},
     "output_type": "display_data"
    },
    {
     "data": {
      "text/html": [
       "<pre>| 1072      | 32118.200821 | 0.420925      |</pre>"
      ],
      "text/plain": [
       "| 1072      | 32118.200821 | 0.420925      |"
      ]
     },
     "metadata": {},
     "output_type": "display_data"
    },
    {
     "data": {
      "text/html": [
       "<pre>| 1073      | 32148.536071 | 0.420899      |</pre>"
      ],
      "text/plain": [
       "| 1073      | 32148.536071 | 0.420899      |"
      ]
     },
     "metadata": {},
     "output_type": "display_data"
    },
    {
     "data": {
      "text/html": [
       "<pre>| 1074      | 32177.979750 | 0.420883      |</pre>"
      ],
      "text/plain": [
       "| 1074      | 32177.979750 | 0.420883      |"
      ]
     },
     "metadata": {},
     "output_type": "display_data"
    },
    {
     "data": {
      "text/html": [
       "<pre>| 1075      | 32206.819780 | 0.420850      |</pre>"
      ],
      "text/plain": [
       "| 1075      | 32206.819780 | 0.420850      |"
      ]
     },
     "metadata": {},
     "output_type": "display_data"
    },
    {
     "data": {
      "text/html": [
       "<pre>| 1076      | 32236.581953 | 0.420828      |</pre>"
      ],
      "text/plain": [
       "| 1076      | 32236.581953 | 0.420828      |"
      ]
     },
     "metadata": {},
     "output_type": "display_data"
    },
    {
     "data": {
      "text/html": [
       "<pre>| 1077      | 32266.083713 | 0.420813      |</pre>"
      ],
      "text/plain": [
       "| 1077      | 32266.083713 | 0.420813      |"
      ]
     },
     "metadata": {},
     "output_type": "display_data"
    },
    {
     "data": {
      "text/html": [
       "<pre>| 1078      | 32294.218649 | 0.420802      |</pre>"
      ],
      "text/plain": [
       "| 1078      | 32294.218649 | 0.420802      |"
      ]
     },
     "metadata": {},
     "output_type": "display_data"
    },
    {
     "data": {
      "text/html": [
       "<pre>| 1079      | 32325.103089 | 0.420781      |</pre>"
      ],
      "text/plain": [
       "| 1079      | 32325.103089 | 0.420781      |"
      ]
     },
     "metadata": {},
     "output_type": "display_data"
    },
    {
     "data": {
      "text/html": [
       "<pre>| 1080      | 32351.875811 | 0.420777      |</pre>"
      ],
      "text/plain": [
       "| 1080      | 32351.875811 | 0.420777      |"
      ]
     },
     "metadata": {},
     "output_type": "display_data"
    },
    {
     "data": {
      "text/html": [
       "<pre>| 1081      | 32378.348132 | 0.420775      |</pre>"
      ],
      "text/plain": [
       "| 1081      | 32378.348132 | 0.420775      |"
      ]
     },
     "metadata": {},
     "output_type": "display_data"
    },
    {
     "data": {
      "text/html": [
       "<pre>| 1082      | 32408.409291 | 0.420758      |</pre>"
      ],
      "text/plain": [
       "| 1082      | 32408.409291 | 0.420758      |"
      ]
     },
     "metadata": {},
     "output_type": "display_data"
    },
    {
     "data": {
      "text/html": [
       "<pre>| 1083      | 32439.086912 | 0.420750      |</pre>"
      ],
      "text/plain": [
       "| 1083      | 32439.086912 | 0.420750      |"
      ]
     },
     "metadata": {},
     "output_type": "display_data"
    },
    {
     "data": {
      "text/html": [
       "<pre>| 1084      | 32469.472920 | 0.420724      |</pre>"
      ],
      "text/plain": [
       "| 1084      | 32469.472920 | 0.420724      |"
      ]
     },
     "metadata": {},
     "output_type": "display_data"
    },
    {
     "data": {
      "text/html": [
       "<pre>| 1085      | 32501.044053 | 0.420704      |</pre>"
      ],
      "text/plain": [
       "| 1085      | 32501.044053 | 0.420704      |"
      ]
     },
     "metadata": {},
     "output_type": "display_data"
    },
    {
     "data": {
      "text/html": [
       "<pre>| 1086      | 32530.244035 | 0.420683      |</pre>"
      ],
      "text/plain": [
       "| 1086      | 32530.244035 | 0.420683      |"
      ]
     },
     "metadata": {},
     "output_type": "display_data"
    },
    {
     "data": {
      "text/html": [
       "<pre>| 1087      | 32561.637877 | 0.420664      |</pre>"
      ],
      "text/plain": [
       "| 1087      | 32561.637877 | 0.420664      |"
      ]
     },
     "metadata": {},
     "output_type": "display_data"
    },
    {
     "data": {
      "text/html": [
       "<pre>| 1088      | 32591.169277 | 0.420654      |</pre>"
      ],
      "text/plain": [
       "| 1088      | 32591.169277 | 0.420654      |"
      ]
     },
     "metadata": {},
     "output_type": "display_data"
    },
    {
     "data": {
      "text/html": [
       "<pre>| 1089      | 32622.803157 | 0.420621      |</pre>"
      ],
      "text/plain": [
       "| 1089      | 32622.803157 | 0.420621      |"
      ]
     },
     "metadata": {},
     "output_type": "display_data"
    },
    {
     "data": {
      "text/html": [
       "<pre>| 1090      | 32652.373004 | 0.420603      |</pre>"
      ],
      "text/plain": [
       "| 1090      | 32652.373004 | 0.420603      |"
      ]
     },
     "metadata": {},
     "output_type": "display_data"
    },
    {
     "data": {
      "text/html": [
       "<pre>| 1091      | 32683.820416 | 0.420589      |</pre>"
      ],
      "text/plain": [
       "| 1091      | 32683.820416 | 0.420589      |"
      ]
     },
     "metadata": {},
     "output_type": "display_data"
    },
    {
     "data": {
      "text/html": [
       "<pre>| 1092      | 32713.545937 | 0.420576      |</pre>"
      ],
      "text/plain": [
       "| 1092      | 32713.545937 | 0.420576      |"
      ]
     },
     "metadata": {},
     "output_type": "display_data"
    },
    {
     "data": {
      "text/html": [
       "<pre>| 1093      | 32742.177260 | 0.420564      |</pre>"
      ],
      "text/plain": [
       "| 1093      | 32742.177260 | 0.420564      |"
      ]
     },
     "metadata": {},
     "output_type": "display_data"
    },
    {
     "data": {
      "text/html": [
       "<pre>| 1094      | 32771.845583 | 0.420535      |</pre>"
      ],
      "text/plain": [
       "| 1094      | 32771.845583 | 0.420535      |"
      ]
     },
     "metadata": {},
     "output_type": "display_data"
    },
    {
     "data": {
      "text/html": [
       "<pre>| 1095      | 32801.995987 | 0.420518      |</pre>"
      ],
      "text/plain": [
       "| 1095      | 32801.995987 | 0.420518      |"
      ]
     },
     "metadata": {},
     "output_type": "display_data"
    },
    {
     "data": {
      "text/html": [
       "<pre>| 1096      | 32830.668377 | 0.420507      |</pre>"
      ],
      "text/plain": [
       "| 1096      | 32830.668377 | 0.420507      |"
      ]
     },
     "metadata": {},
     "output_type": "display_data"
    },
    {
     "data": {
      "text/html": [
       "<pre>| 1097      | 32858.672441 | 0.420494      |</pre>"
      ],
      "text/plain": [
       "| 1097      | 32858.672441 | 0.420494      |"
      ]
     },
     "metadata": {},
     "output_type": "display_data"
    },
    {
     "data": {
      "text/html": [
       "<pre>| 1098      | 32888.510461 | 0.420478      |</pre>"
      ],
      "text/plain": [
       "| 1098      | 32888.510461 | 0.420478      |"
      ]
     },
     "metadata": {},
     "output_type": "display_data"
    },
    {
     "data": {
      "text/html": [
       "<pre>| 1099      | 32919.711443 | 0.420460      |</pre>"
      ],
      "text/plain": [
       "| 1099      | 32919.711443 | 0.420460      |"
      ]
     },
     "metadata": {},
     "output_type": "display_data"
    },
    {
     "data": {
      "text/html": [
       "<pre>| 1100      | 32949.003495 | 0.420453      |</pre>"
      ],
      "text/plain": [
       "| 1100      | 32949.003495 | 0.420453      |"
      ]
     },
     "metadata": {},
     "output_type": "display_data"
    },
    {
     "data": {
      "text/html": [
       "<pre>| 1101      | 32979.803368 | 0.420449      |</pre>"
      ],
      "text/plain": [
       "| 1101      | 32979.803368 | 0.420449      |"
      ]
     },
     "metadata": {},
     "output_type": "display_data"
    },
    {
     "data": {
      "text/html": [
       "<pre>| 1102      | 33010.085586 | 0.420431      |</pre>"
      ],
      "text/plain": [
       "| 1102      | 33010.085586 | 0.420431      |"
      ]
     },
     "metadata": {},
     "output_type": "display_data"
    },
    {
     "data": {
      "text/html": [
       "<pre>| 1103      | 33040.395796 | 0.420418      |</pre>"
      ],
      "text/plain": [
       "| 1103      | 33040.395796 | 0.420418      |"
      ]
     },
     "metadata": {},
     "output_type": "display_data"
    },
    {
     "data": {
      "text/html": [
       "<pre>| 1104      | 33070.279399 | 0.420396      |</pre>"
      ],
      "text/plain": [
       "| 1104      | 33070.279399 | 0.420396      |"
      ]
     },
     "metadata": {},
     "output_type": "display_data"
    },
    {
     "data": {
      "text/html": [
       "<pre>| 1105      | 33100.712771 | 0.420376      |</pre>"
      ],
      "text/plain": [
       "| 1105      | 33100.712771 | 0.420376      |"
      ]
     },
     "metadata": {},
     "output_type": "display_data"
    },
    {
     "data": {
      "text/html": [
       "<pre>| 1106      | 33129.811382 | 0.420361      |</pre>"
      ],
      "text/plain": [
       "| 1106      | 33129.811382 | 0.420361      |"
      ]
     },
     "metadata": {},
     "output_type": "display_data"
    },
    {
     "data": {
      "text/html": [
       "<pre>| 1107      | 33160.827721 | 0.420345      |</pre>"
      ],
      "text/plain": [
       "| 1107      | 33160.827721 | 0.420345      |"
      ]
     },
     "metadata": {},
     "output_type": "display_data"
    },
    {
     "data": {
      "text/html": [
       "<pre>| 1108      | 33192.531148 | 0.420319      |</pre>"
      ],
      "text/plain": [
       "| 1108      | 33192.531148 | 0.420319      |"
      ]
     },
     "metadata": {},
     "output_type": "display_data"
    },
    {
     "data": {
      "text/html": [
       "<pre>| 1109      | 33223.835459 | 0.420301      |</pre>"
      ],
      "text/plain": [
       "| 1109      | 33223.835459 | 0.420301      |"
      ]
     },
     "metadata": {},
     "output_type": "display_data"
    },
    {
     "data": {
      "text/html": [
       "<pre>| 1110      | 33253.135417 | 0.420282      |</pre>"
      ],
      "text/plain": [
       "| 1110      | 33253.135417 | 0.420282      |"
      ]
     },
     "metadata": {},
     "output_type": "display_data"
    },
    {
     "data": {
      "text/html": [
       "<pre>| 1111      | 33283.239057 | 0.420257      |</pre>"
      ],
      "text/plain": [
       "| 1111      | 33283.239057 | 0.420257      |"
      ]
     },
     "metadata": {},
     "output_type": "display_data"
    },
    {
     "data": {
      "text/html": [
       "<pre>| 1112      | 33314.491685 | 0.420236      |</pre>"
      ],
      "text/plain": [
       "| 1112      | 33314.491685 | 0.420236      |"
      ]
     },
     "metadata": {},
     "output_type": "display_data"
    },
    {
     "data": {
      "text/html": [
       "<pre>| 1113      | 33343.964195 | 0.420221      |</pre>"
      ],
      "text/plain": [
       "| 1113      | 33343.964195 | 0.420221      |"
      ]
     },
     "metadata": {},
     "output_type": "display_data"
    },
    {
     "data": {
      "text/html": [
       "<pre>| 1114      | 33374.477009 | 0.420209      |</pre>"
      ],
      "text/plain": [
       "| 1114      | 33374.477009 | 0.420209      |"
      ]
     },
     "metadata": {},
     "output_type": "display_data"
    },
    {
     "data": {
      "text/html": [
       "<pre>| 1115      | 33405.231045 | 0.420185      |</pre>"
      ],
      "text/plain": [
       "| 1115      | 33405.231045 | 0.420185      |"
      ]
     },
     "metadata": {},
     "output_type": "display_data"
    },
    {
     "data": {
      "text/html": [
       "<pre>| 1116      | 33434.038106 | 0.420173      |</pre>"
      ],
      "text/plain": [
       "| 1116      | 33434.038106 | 0.420173      |"
      ]
     },
     "metadata": {},
     "output_type": "display_data"
    },
    {
     "data": {
      "text/html": [
       "<pre>| 1117      | 33462.628549 | 0.420159      |</pre>"
      ],
      "text/plain": [
       "| 1117      | 33462.628549 | 0.420159      |"
      ]
     },
     "metadata": {},
     "output_type": "display_data"
    },
    {
     "data": {
      "text/html": [
       "<pre>| 1118      | 33492.617768 | 0.420142      |</pre>"
      ],
      "text/plain": [
       "| 1118      | 33492.617768 | 0.420142      |"
      ]
     },
     "metadata": {},
     "output_type": "display_data"
    },
    {
     "data": {
      "text/html": [
       "<pre>| 1119      | 33522.730838 | 0.420122      |</pre>"
      ],
      "text/plain": [
       "| 1119      | 33522.730838 | 0.420122      |"
      ]
     },
     "metadata": {},
     "output_type": "display_data"
    },
    {
     "data": {
      "text/html": [
       "<pre>| 1120      | 33552.430195 | 0.420111      |</pre>"
      ],
      "text/plain": [
       "| 1120      | 33552.430195 | 0.420111      |"
      ]
     },
     "metadata": {},
     "output_type": "display_data"
    },
    {
     "data": {
      "text/html": [
       "<pre>| 1121      | 33583.658240 | 0.420090      |</pre>"
      ],
      "text/plain": [
       "| 1121      | 33583.658240 | 0.420090      |"
      ]
     },
     "metadata": {},
     "output_type": "display_data"
    },
    {
     "data": {
      "text/html": [
       "<pre>| 1122      | 33615.245727 | 0.420079      |</pre>"
      ],
      "text/plain": [
       "| 1122      | 33615.245727 | 0.420079      |"
      ]
     },
     "metadata": {},
     "output_type": "display_data"
    },
    {
     "data": {
      "text/html": [
       "<pre>| 1123      | 33644.764345 | 0.420063      |</pre>"
      ],
      "text/plain": [
       "| 1123      | 33644.764345 | 0.420063      |"
      ]
     },
     "metadata": {},
     "output_type": "display_data"
    },
    {
     "data": {
      "text/html": [
       "<pre>| 1124      | 33674.363366 | 0.420046      |</pre>"
      ],
      "text/plain": [
       "| 1124      | 33674.363366 | 0.420046      |"
      ]
     },
     "metadata": {},
     "output_type": "display_data"
    },
    {
     "data": {
      "text/html": [
       "<pre>| 1125      | 33704.538167 | 0.420025      |</pre>"
      ],
      "text/plain": [
       "| 1125      | 33704.538167 | 0.420025      |"
      ]
     },
     "metadata": {},
     "output_type": "display_data"
    },
    {
     "data": {
      "text/html": [
       "<pre>| 1126      | 33735.646559 | 0.419998      |</pre>"
      ],
      "text/plain": [
       "| 1126      | 33735.646559 | 0.419998      |"
      ]
     },
     "metadata": {},
     "output_type": "display_data"
    },
    {
     "data": {
      "text/html": [
       "<pre>| 1127      | 33766.282406 | 0.419984      |</pre>"
      ],
      "text/plain": [
       "| 1127      | 33766.282406 | 0.419984      |"
      ]
     },
     "metadata": {},
     "output_type": "display_data"
    },
    {
     "data": {
      "text/html": [
       "<pre>| 1128      | 33795.725829 | 0.419968      |</pre>"
      ],
      "text/plain": [
       "| 1128      | 33795.725829 | 0.419968      |"
      ]
     },
     "metadata": {},
     "output_type": "display_data"
    },
    {
     "data": {
      "text/html": [
       "<pre>| 1129      | 33825.610697 | 0.419962      |</pre>"
      ],
      "text/plain": [
       "| 1129      | 33825.610697 | 0.419962      |"
      ]
     },
     "metadata": {},
     "output_type": "display_data"
    },
    {
     "data": {
      "text/html": [
       "<pre>| 1130      | 33853.569005 | 0.419954      |</pre>"
      ],
      "text/plain": [
       "| 1130      | 33853.569005 | 0.419954      |"
      ]
     },
     "metadata": {},
     "output_type": "display_data"
    },
    {
     "data": {
      "text/html": [
       "<pre>| 1131      | 33883.106823 | 0.419937      |</pre>"
      ],
      "text/plain": [
       "| 1131      | 33883.106823 | 0.419937      |"
      ]
     },
     "metadata": {},
     "output_type": "display_data"
    },
    {
     "data": {
      "text/html": [
       "<pre>| 1132      | 33914.531592 | 0.419919      |</pre>"
      ],
      "text/plain": [
       "| 1132      | 33914.531592 | 0.419919      |"
      ]
     },
     "metadata": {},
     "output_type": "display_data"
    },
    {
     "data": {
      "text/html": [
       "<pre>| 1133      | 33944.247629 | 0.419916      |</pre>"
      ],
      "text/plain": [
       "| 1133      | 33944.247629 | 0.419916      |"
      ]
     },
     "metadata": {},
     "output_type": "display_data"
    },
    {
     "data": {
      "text/html": [
       "<pre>| 1134      | 33975.579071 | 0.419892      |</pre>"
      ],
      "text/plain": [
       "| 1134      | 33975.579071 | 0.419892      |"
      ]
     },
     "metadata": {},
     "output_type": "display_data"
    },
    {
     "data": {
      "text/html": [
       "<pre>| 1135      | 34003.832967 | 0.419887      |</pre>"
      ],
      "text/plain": [
       "| 1135      | 34003.832967 | 0.419887      |"
      ]
     },
     "metadata": {},
     "output_type": "display_data"
    },
    {
     "data": {
      "text/html": [
       "<pre>| 1136      | 34033.190570 | 0.419859      |</pre>"
      ],
      "text/plain": [
       "| 1136      | 34033.190570 | 0.419859      |"
      ]
     },
     "metadata": {},
     "output_type": "display_data"
    },
    {
     "data": {
      "text/html": [
       "<pre>| 1137      | 34063.221385 | 0.419839      |</pre>"
      ],
      "text/plain": [
       "| 1137      | 34063.221385 | 0.419839      |"
      ]
     },
     "metadata": {},
     "output_type": "display_data"
    },
    {
     "data": {
      "text/html": [
       "<pre>| 1138      | 34092.150379 | 0.419825      |</pre>"
      ],
      "text/plain": [
       "| 1138      | 34092.150379 | 0.419825      |"
      ]
     },
     "metadata": {},
     "output_type": "display_data"
    },
    {
     "data": {
      "text/html": [
       "<pre>| 1139      | 34122.420447 | 0.419800      |</pre>"
      ],
      "text/plain": [
       "| 1139      | 34122.420447 | 0.419800      |"
      ]
     },
     "metadata": {},
     "output_type": "display_data"
    },
    {
     "data": {
      "text/html": [
       "<pre>| 1140      | 34150.472023 | 0.419796      |</pre>"
      ],
      "text/plain": [
       "| 1140      | 34150.472023 | 0.419796      |"
      ]
     },
     "metadata": {},
     "output_type": "display_data"
    },
    {
     "data": {
      "text/html": [
       "<pre>| 1141      | 34180.476638 | 0.419775      |</pre>"
      ],
      "text/plain": [
       "| 1141      | 34180.476638 | 0.419775      |"
      ]
     },
     "metadata": {},
     "output_type": "display_data"
    },
    {
     "data": {
      "text/html": [
       "<pre>| 1142      | 34211.350007 | 0.419757      |</pre>"
      ],
      "text/plain": [
       "| 1142      | 34211.350007 | 0.419757      |"
      ]
     },
     "metadata": {},
     "output_type": "display_data"
    },
    {
     "data": {
      "text/html": [
       "<pre>| 1143      | 34240.788205 | 0.419749      |</pre>"
      ],
      "text/plain": [
       "| 1143      | 34240.788205 | 0.419749      |"
      ]
     },
     "metadata": {},
     "output_type": "display_data"
    },
    {
     "data": {
      "text/html": [
       "<pre>| 1144      | 34271.965117 | 0.419736      |</pre>"
      ],
      "text/plain": [
       "| 1144      | 34271.965117 | 0.419736      |"
      ]
     },
     "metadata": {},
     "output_type": "display_data"
    },
    {
     "data": {
      "text/html": [
       "<pre>| 1145      | 34300.154675 | 0.419726      |</pre>"
      ],
      "text/plain": [
       "| 1145      | 34300.154675 | 0.419726      |"
      ]
     },
     "metadata": {},
     "output_type": "display_data"
    },
    {
     "data": {
      "text/html": [
       "<pre>| 1146      | 34329.475205 | 0.419697      |</pre>"
      ],
      "text/plain": [
       "| 1146      | 34329.475205 | 0.419697      |"
      ]
     },
     "metadata": {},
     "output_type": "display_data"
    },
    {
     "data": {
      "text/html": [
       "<pre>| 1147      | 34358.586429 | 0.419673      |</pre>"
      ],
      "text/plain": [
       "| 1147      | 34358.586429 | 0.419673      |"
      ]
     },
     "metadata": {},
     "output_type": "display_data"
    },
    {
     "data": {
      "text/html": [
       "<pre>| 1148      | 34387.375543 | 0.419667      |</pre>"
      ],
      "text/plain": [
       "| 1148      | 34387.375543 | 0.419667      |"
      ]
     },
     "metadata": {},
     "output_type": "display_data"
    },
    {
     "data": {
      "text/html": [
       "<pre>| 1149      | 34416.764683 | 0.419656      |</pre>"
      ],
      "text/plain": [
       "| 1149      | 34416.764683 | 0.419656      |"
      ]
     },
     "metadata": {},
     "output_type": "display_data"
    },
    {
     "data": {
      "text/html": [
       "<pre>| 1150      | 34446.594848 | 0.419643      |</pre>"
      ],
      "text/plain": [
       "| 1150      | 34446.594848 | 0.419643      |"
      ]
     },
     "metadata": {},
     "output_type": "display_data"
    },
    {
     "data": {
      "text/html": [
       "<pre>| 1151      | 34477.168280 | 0.419637      |</pre>"
      ],
      "text/plain": [
       "| 1151      | 34477.168280 | 0.419637      |"
      ]
     },
     "metadata": {},
     "output_type": "display_data"
    },
    {
     "data": {
      "text/html": [
       "<pre>| 1152      | 34508.005568 | 0.419626      |</pre>"
      ],
      "text/plain": [
       "| 1152      | 34508.005568 | 0.419626      |"
      ]
     },
     "metadata": {},
     "output_type": "display_data"
    },
    {
     "data": {
      "text/html": [
       "<pre>| 1153      | 34538.720737 | 0.419613      |</pre>"
      ],
      "text/plain": [
       "| 1153      | 34538.720737 | 0.419613      |"
      ]
     },
     "metadata": {},
     "output_type": "display_data"
    },
    {
     "data": {
      "text/html": [
       "<pre>| 1154      | 34567.814281 | 0.419588      |</pre>"
      ],
      "text/plain": [
       "| 1154      | 34567.814281 | 0.419588      |"
      ]
     },
     "metadata": {},
     "output_type": "display_data"
    },
    {
     "data": {
      "text/html": [
       "<pre>| 1155      | 34597.929011 | 0.419578      |</pre>"
      ],
      "text/plain": [
       "| 1155      | 34597.929011 | 0.419578      |"
      ]
     },
     "metadata": {},
     "output_type": "display_data"
    },
    {
     "data": {
      "text/html": [
       "<pre>| 1156      | 34626.048252 | 0.419556      |</pre>"
      ],
      "text/plain": [
       "| 1156      | 34626.048252 | 0.419556      |"
      ]
     },
     "metadata": {},
     "output_type": "display_data"
    },
    {
     "data": {
      "text/html": [
       "<pre>| 1157      | 34657.118605 | 0.419553      |</pre>"
      ],
      "text/plain": [
       "| 1157      | 34657.118605 | 0.419553      |"
      ]
     },
     "metadata": {},
     "output_type": "display_data"
    },
    {
     "data": {
      "text/html": [
       "<pre>| 1158      | 34688.314784 | 0.419534      |</pre>"
      ],
      "text/plain": [
       "| 1158      | 34688.314784 | 0.419534      |"
      ]
     },
     "metadata": {},
     "output_type": "display_data"
    },
    {
     "data": {
      "text/html": [
       "<pre>| 1159      | 34718.132636 | 0.419527      |</pre>"
      ],
      "text/plain": [
       "| 1159      | 34718.132636 | 0.419527      |"
      ]
     },
     "metadata": {},
     "output_type": "display_data"
    },
    {
     "data": {
      "text/html": [
       "<pre>| 1160      | 34749.447144 | 0.419518      |</pre>"
      ],
      "text/plain": [
       "| 1160      | 34749.447144 | 0.419518      |"
      ]
     },
     "metadata": {},
     "output_type": "display_data"
    },
    {
     "data": {
      "text/html": [
       "<pre>| 1161      | 34776.860839 | 0.419511      |</pre>"
      ],
      "text/plain": [
       "| 1161      | 34776.860839 | 0.419511      |"
      ]
     },
     "metadata": {},
     "output_type": "display_data"
    },
    {
     "data": {
      "text/html": [
       "<pre>| 1162      | 34807.757156 | 0.419497      |</pre>"
      ],
      "text/plain": [
       "| 1162      | 34807.757156 | 0.419497      |"
      ]
     },
     "metadata": {},
     "output_type": "display_data"
    },
    {
     "data": {
      "text/html": [
       "<pre>| 1163      | 34837.054386 | 0.419484      |</pre>"
      ],
      "text/plain": [
       "| 1163      | 34837.054386 | 0.419484      |"
      ]
     },
     "metadata": {},
     "output_type": "display_data"
    },
    {
     "data": {
      "text/html": [
       "<pre>| 1164      | 34869.218883 | 0.419472      |</pre>"
      ],
      "text/plain": [
       "| 1164      | 34869.218883 | 0.419472      |"
      ]
     },
     "metadata": {},
     "output_type": "display_data"
    },
    {
     "data": {
      "text/html": [
       "<pre>| 1165      | 34900.376184 | 0.419462      |</pre>"
      ],
      "text/plain": [
       "| 1165      | 34900.376184 | 0.419462      |"
      ]
     },
     "metadata": {},
     "output_type": "display_data"
    },
    {
     "data": {
      "text/html": [
       "<pre>| 1166      | 34929.878329 | 0.419441      |</pre>"
      ],
      "text/plain": [
       "| 1166      | 34929.878329 | 0.419441      |"
      ]
     },
     "metadata": {},
     "output_type": "display_data"
    },
    {
     "data": {
      "text/html": [
       "<pre>| 1167      | 34958.847336 | 0.419429      |</pre>"
      ],
      "text/plain": [
       "| 1167      | 34958.847336 | 0.419429      |"
      ]
     },
     "metadata": {},
     "output_type": "display_data"
    },
    {
     "data": {
      "text/html": [
       "<pre>| 1168      | 34987.864481 | 0.419421      |</pre>"
      ],
      "text/plain": [
       "| 1168      | 34987.864481 | 0.419421      |"
      ]
     },
     "metadata": {},
     "output_type": "display_data"
    },
    {
     "data": {
      "text/html": [
       "<pre>| 1169      | 35015.218964 | 0.419402      |</pre>"
      ],
      "text/plain": [
       "| 1169      | 35015.218964 | 0.419402      |"
      ]
     },
     "metadata": {},
     "output_type": "display_data"
    },
    {
     "data": {
      "text/html": [
       "<pre>| 1170      | 35046.247453 | 0.419372      |</pre>"
      ],
      "text/plain": [
       "| 1170      | 35046.247453 | 0.419372      |"
      ]
     },
     "metadata": {},
     "output_type": "display_data"
    },
    {
     "data": {
      "text/html": [
       "<pre>| 1171      | 35076.059142 | 0.419350      |</pre>"
      ],
      "text/plain": [
       "| 1171      | 35076.059142 | 0.419350      |"
      ]
     },
     "metadata": {},
     "output_type": "display_data"
    },
    {
     "data": {
      "text/html": [
       "<pre>| 1172      | 35104.950335 | 0.419329      |</pre>"
      ],
      "text/plain": [
       "| 1172      | 35104.950335 | 0.419329      |"
      ]
     },
     "metadata": {},
     "output_type": "display_data"
    },
    {
     "data": {
      "text/html": [
       "<pre>| 1173      | 35135.289411 | 0.419305      |</pre>"
      ],
      "text/plain": [
       "| 1173      | 35135.289411 | 0.419305      |"
      ]
     },
     "metadata": {},
     "output_type": "display_data"
    },
    {
     "data": {
      "text/html": [
       "<pre>| 1174      | 35164.321407 | 0.419288      |</pre>"
      ],
      "text/plain": [
       "| 1174      | 35164.321407 | 0.419288      |"
      ]
     },
     "metadata": {},
     "output_type": "display_data"
    },
    {
     "data": {
      "text/html": [
       "<pre>| 1175      | 35194.982996 | 0.419261      |</pre>"
      ],
      "text/plain": [
       "| 1175      | 35194.982996 | 0.419261      |"
      ]
     },
     "metadata": {},
     "output_type": "display_data"
    },
    {
     "data": {
      "text/html": [
       "<pre>| 1176      | 35223.203298 | 0.419247      |</pre>"
      ],
      "text/plain": [
       "| 1176      | 35223.203298 | 0.419247      |"
      ]
     },
     "metadata": {},
     "output_type": "display_data"
    },
    {
     "data": {
      "text/html": [
       "<pre>| 1177      | 35251.905475 | 0.419221      |</pre>"
      ],
      "text/plain": [
       "| 1177      | 35251.905475 | 0.419221      |"
      ]
     },
     "metadata": {},
     "output_type": "display_data"
    },
    {
     "data": {
      "text/html": [
       "<pre>| 1178      | 35281.199113 | 0.419213      |</pre>"
      ],
      "text/plain": [
       "| 1178      | 35281.199113 | 0.419213      |"
      ]
     },
     "metadata": {},
     "output_type": "display_data"
    },
    {
     "data": {
      "text/html": [
       "<pre>| 1179      | 35310.923500 | 0.419202      |</pre>"
      ],
      "text/plain": [
       "| 1179      | 35310.923500 | 0.419202      |"
      ]
     },
     "metadata": {},
     "output_type": "display_data"
    },
    {
     "data": {
      "text/html": [
       "<pre>| 1180      | 35341.158995 | 0.419188      |</pre>"
      ],
      "text/plain": [
       "| 1180      | 35341.158995 | 0.419188      |"
      ]
     },
     "metadata": {},
     "output_type": "display_data"
    },
    {
     "data": {
      "text/html": [
       "<pre>| 1181      | 35368.401160 | 0.419177      |</pre>"
      ],
      "text/plain": [
       "| 1181      | 35368.401160 | 0.419177      |"
      ]
     },
     "metadata": {},
     "output_type": "display_data"
    },
    {
     "data": {
      "text/html": [
       "<pre>| 1182      | 35397.806633 | 0.419154      |</pre>"
      ],
      "text/plain": [
       "| 1182      | 35397.806633 | 0.419154      |"
      ]
     },
     "metadata": {},
     "output_type": "display_data"
    },
    {
     "data": {
      "text/html": [
       "<pre>| 1183      | 35426.722711 | 0.419143      |</pre>"
      ],
      "text/plain": [
       "| 1183      | 35426.722711 | 0.419143      |"
      ]
     },
     "metadata": {},
     "output_type": "display_data"
    },
    {
     "data": {
      "text/html": [
       "<pre>| 1184      | 35456.629723 | 0.419138      |</pre>"
      ],
      "text/plain": [
       "| 1184      | 35456.629723 | 0.419138      |"
      ]
     },
     "metadata": {},
     "output_type": "display_data"
    },
    {
     "data": {
      "text/html": [
       "<pre>| 1185      | 35488.167484 | 0.419118      |</pre>"
      ],
      "text/plain": [
       "| 1185      | 35488.167484 | 0.419118      |"
      ]
     },
     "metadata": {},
     "output_type": "display_data"
    },
    {
     "data": {
      "text/html": [
       "<pre>| 1186      | 35518.033434 | 0.419095      |</pre>"
      ],
      "text/plain": [
       "| 1186      | 35518.033434 | 0.419095      |"
      ]
     },
     "metadata": {},
     "output_type": "display_data"
    },
    {
     "data": {
      "text/html": [
       "<pre>| 1187      | 35545.994339 | 0.419087      |</pre>"
      ],
      "text/plain": [
       "| 1187      | 35545.994339 | 0.419087      |"
      ]
     },
     "metadata": {},
     "output_type": "display_data"
    },
    {
     "data": {
      "text/html": [
       "<pre>| 1188      | 35574.953931 | 0.419072      |</pre>"
      ],
      "text/plain": [
       "| 1188      | 35574.953931 | 0.419072      |"
      ]
     },
     "metadata": {},
     "output_type": "display_data"
    },
    {
     "data": {
      "text/html": [
       "<pre>| 1189      | 35604.010097 | 0.419049      |</pre>"
      ],
      "text/plain": [
       "| 1189      | 35604.010097 | 0.419049      |"
      ]
     },
     "metadata": {},
     "output_type": "display_data"
    },
    {
     "data": {
      "text/html": [
       "<pre>| 1190      | 35634.259497 | 0.419019      |</pre>"
      ],
      "text/plain": [
       "| 1190      | 35634.259497 | 0.419019      |"
      ]
     },
     "metadata": {},
     "output_type": "display_data"
    },
    {
     "data": {
      "text/html": [
       "<pre>| 1191      | 35664.169468 | 0.419004      |</pre>"
      ],
      "text/plain": [
       "| 1191      | 35664.169468 | 0.419004      |"
      ]
     },
     "metadata": {},
     "output_type": "display_data"
    },
    {
     "data": {
      "text/html": [
       "<pre>| 1192      | 35694.551108 | 0.418998      |</pre>"
      ],
      "text/plain": [
       "| 1192      | 35694.551108 | 0.418998      |"
      ]
     },
     "metadata": {},
     "output_type": "display_data"
    },
    {
     "data": {
      "text/html": [
       "<pre>| 1193      | 35726.065376 | 0.418979      |</pre>"
      ],
      "text/plain": [
       "| 1193      | 35726.065376 | 0.418979      |"
      ]
     },
     "metadata": {},
     "output_type": "display_data"
    },
    {
     "data": {
      "text/html": [
       "<pre>| 1194      | 35754.210630 | 0.418969      |</pre>"
      ],
      "text/plain": [
       "| 1194      | 35754.210630 | 0.418969      |"
      ]
     },
     "metadata": {},
     "output_type": "display_data"
    },
    {
     "data": {
      "text/html": [
       "<pre>| 1195      | 35783.887924 | 0.418949      |</pre>"
      ],
      "text/plain": [
       "| 1195      | 35783.887924 | 0.418949      |"
      ]
     },
     "metadata": {},
     "output_type": "display_data"
    },
    {
     "data": {
      "text/html": [
       "<pre>| 1196      | 35813.729808 | 0.418942      |</pre>"
      ],
      "text/plain": [
       "| 1196      | 35813.729808 | 0.418942      |"
      ]
     },
     "metadata": {},
     "output_type": "display_data"
    },
    {
     "data": {
      "text/html": [
       "<pre>| 1197      | 35842.817954 | 0.418929      |</pre>"
      ],
      "text/plain": [
       "| 1197      | 35842.817954 | 0.418929      |"
      ]
     },
     "metadata": {},
     "output_type": "display_data"
    },
    {
     "data": {
      "text/html": [
       "<pre>| 1198      | 35873.021998 | 0.418925      |</pre>"
      ],
      "text/plain": [
       "| 1198      | 35873.021998 | 0.418925      |"
      ]
     },
     "metadata": {},
     "output_type": "display_data"
    },
    {
     "data": {
      "text/html": [
       "<pre>| 1199      | 35903.277336 | 0.418911      |</pre>"
      ],
      "text/plain": [
       "| 1199      | 35903.277336 | 0.418911      |"
      ]
     },
     "metadata": {},
     "output_type": "display_data"
    },
    {
     "data": {
      "text/html": [
       "<pre>| 1200      | 35931.562687 | 0.418901      |</pre>"
      ],
      "text/plain": [
       "| 1200      | 35931.562687 | 0.418901      |"
      ]
     },
     "metadata": {},
     "output_type": "display_data"
    },
    {
     "data": {
      "text/html": [
       "<pre>| 1201      | 35962.320909 | 0.418873      |</pre>"
      ],
      "text/plain": [
       "| 1201      | 35962.320909 | 0.418873      |"
      ]
     },
     "metadata": {},
     "output_type": "display_data"
    },
    {
     "data": {
      "text/html": [
       "<pre>| 1202      | 35991.408525 | 0.418865      |</pre>"
      ],
      "text/plain": [
       "| 1202      | 35991.408525 | 0.418865      |"
      ]
     },
     "metadata": {},
     "output_type": "display_data"
    },
    {
     "data": {
      "text/html": [
       "<pre>| 1203      | 36023.725052 | 0.418845      |</pre>"
      ],
      "text/plain": [
       "| 1203      | 36023.725052 | 0.418845      |"
      ]
     },
     "metadata": {},
     "output_type": "display_data"
    },
    {
     "data": {
      "text/html": [
       "<pre>| 1204      | 36052.015636 | 0.418826      |</pre>"
      ],
      "text/plain": [
       "| 1204      | 36052.015636 | 0.418826      |"
      ]
     },
     "metadata": {},
     "output_type": "display_data"
    },
    {
     "data": {
      "text/html": [
       "<pre>| 1205      | 36080.570893 | 0.418800      |</pre>"
      ],
      "text/plain": [
       "| 1205      | 36080.570893 | 0.418800      |"
      ]
     },
     "metadata": {},
     "output_type": "display_data"
    },
    {
     "data": {
      "text/html": [
       "<pre>| 1206      | 36110.671079 | 0.418788      |</pre>"
      ],
      "text/plain": [
       "| 1206      | 36110.671079 | 0.418788      |"
      ]
     },
     "metadata": {},
     "output_type": "display_data"
    },
    {
     "data": {
      "text/html": [
       "<pre>| 1207      | 36140.936283 | 0.418778      |</pre>"
      ],
      "text/plain": [
       "| 1207      | 36140.936283 | 0.418778      |"
      ]
     },
     "metadata": {},
     "output_type": "display_data"
    },
    {
     "data": {
      "text/html": [
       "<pre>| 1208      | 36172.179434 | 0.418753      |</pre>"
      ],
      "text/plain": [
       "| 1208      | 36172.179434 | 0.418753      |"
      ]
     },
     "metadata": {},
     "output_type": "display_data"
    },
    {
     "data": {
      "text/html": [
       "<pre>| 1209      | 36201.872370 | 0.418729      |</pre>"
      ],
      "text/plain": [
       "| 1209      | 36201.872370 | 0.418729      |"
      ]
     },
     "metadata": {},
     "output_type": "display_data"
    },
    {
     "data": {
      "text/html": [
       "<pre>| 1210      | 36231.358295 | 0.418710      |</pre>"
      ],
      "text/plain": [
       "| 1210      | 36231.358295 | 0.418710      |"
      ]
     },
     "metadata": {},
     "output_type": "display_data"
    },
    {
     "data": {
      "text/html": [
       "<pre>| 1211      | 36260.324123 | 0.418704      |</pre>"
      ],
      "text/plain": [
       "| 1211      | 36260.324123 | 0.418704      |"
      ]
     },
     "metadata": {},
     "output_type": "display_data"
    },
    {
     "data": {
      "text/html": [
       "<pre>| 1212      | 36288.878041 | 0.418691      |</pre>"
      ],
      "text/plain": [
       "| 1212      | 36288.878041 | 0.418691      |"
      ]
     },
     "metadata": {},
     "output_type": "display_data"
    },
    {
     "data": {
      "text/html": [
       "<pre>| 1213      | 36319.600495 | 0.418675      |</pre>"
      ],
      "text/plain": [
       "| 1213      | 36319.600495 | 0.418675      |"
      ]
     },
     "metadata": {},
     "output_type": "display_data"
    },
    {
     "data": {
      "text/html": [
       "<pre>| 1214      | 36351.233402 | 0.418654      |</pre>"
      ],
      "text/plain": [
       "| 1214      | 36351.233402 | 0.418654      |"
      ]
     },
     "metadata": {},
     "output_type": "display_data"
    },
    {
     "data": {
      "text/html": [
       "<pre>| 1215      | 36380.718326 | 0.418641      |</pre>"
      ],
      "text/plain": [
       "| 1215      | 36380.718326 | 0.418641      |"
      ]
     },
     "metadata": {},
     "output_type": "display_data"
    },
    {
     "data": {
      "text/html": [
       "<pre>| 1216      | 36412.016120 | 0.418626      |</pre>"
      ],
      "text/plain": [
       "| 1216      | 36412.016120 | 0.418626      |"
      ]
     },
     "metadata": {},
     "output_type": "display_data"
    },
    {
     "data": {
      "text/html": [
       "<pre>| 1217      | 36444.026970 | 0.418603      |</pre>"
      ],
      "text/plain": [
       "| 1217      | 36444.026970 | 0.418603      |"
      ]
     },
     "metadata": {},
     "output_type": "display_data"
    },
    {
     "data": {
      "text/html": [
       "<pre>| 1218      | 36472.193018 | 0.418578      |</pre>"
      ],
      "text/plain": [
       "| 1218      | 36472.193018 | 0.418578      |"
      ]
     },
     "metadata": {},
     "output_type": "display_data"
    },
    {
     "data": {
      "text/html": [
       "<pre>| 1219      | 36502.817598 | 0.418559      |</pre>"
      ],
      "text/plain": [
       "| 1219      | 36502.817598 | 0.418559      |"
      ]
     },
     "metadata": {},
     "output_type": "display_data"
    },
    {
     "data": {
      "text/html": [
       "<pre>| 1220      | 36532.251683 | 0.418550      |</pre>"
      ],
      "text/plain": [
       "| 1220      | 36532.251683 | 0.418550      |"
      ]
     },
     "metadata": {},
     "output_type": "display_data"
    },
    {
     "data": {
      "text/html": [
       "<pre>| 1221      | 36563.332156 | 0.418530      |</pre>"
      ],
      "text/plain": [
       "| 1221      | 36563.332156 | 0.418530      |"
      ]
     },
     "metadata": {},
     "output_type": "display_data"
    },
    {
     "data": {
      "text/html": [
       "<pre>| 1222      | 36592.398451 | 0.418517      |</pre>"
      ],
      "text/plain": [
       "| 1222      | 36592.398451 | 0.418517      |"
      ]
     },
     "metadata": {},
     "output_type": "display_data"
    },
    {
     "data": {
      "text/html": [
       "<pre>| 1223      | 36625.521123 | 0.418496      |</pre>"
      ],
      "text/plain": [
       "| 1223      | 36625.521123 | 0.418496      |"
      ]
     },
     "metadata": {},
     "output_type": "display_data"
    },
    {
     "data": {
      "text/html": [
       "<pre>| 1224      | 36656.735779 | 0.418480      |</pre>"
      ],
      "text/plain": [
       "| 1224      | 36656.735779 | 0.418480      |"
      ]
     },
     "metadata": {},
     "output_type": "display_data"
    },
    {
     "data": {
      "text/html": [
       "<pre>| 1225      | 36688.522938 | 0.418466      |</pre>"
      ],
      "text/plain": [
       "| 1225      | 36688.522938 | 0.418466      |"
      ]
     },
     "metadata": {},
     "output_type": "display_data"
    },
    {
     "data": {
      "text/html": [
       "<pre>| 1226      | 36718.052107 | 0.418444      |</pre>"
      ],
      "text/plain": [
       "| 1226      | 36718.052107 | 0.418444      |"
      ]
     },
     "metadata": {},
     "output_type": "display_data"
    },
    {
     "data": {
      "text/html": [
       "<pre>| 1227      | 36749.768854 | 0.418438      |</pre>"
      ],
      "text/plain": [
       "| 1227      | 36749.768854 | 0.418438      |"
      ]
     },
     "metadata": {},
     "output_type": "display_data"
    },
    {
     "data": {
      "text/html": [
       "<pre>| 1228      | 36778.113015 | 0.418434      |</pre>"
      ],
      "text/plain": [
       "| 1228      | 36778.113015 | 0.418434      |"
      ]
     },
     "metadata": {},
     "output_type": "display_data"
    },
    {
     "data": {
      "text/html": [
       "<pre>| 1229      | 36807.332270 | 0.418423      |</pre>"
      ],
      "text/plain": [
       "| 1229      | 36807.332270 | 0.418423      |"
      ]
     },
     "metadata": {},
     "output_type": "display_data"
    },
    {
     "data": {
      "text/html": [
       "<pre>| 1230      | 36835.803289 | 0.418409      |</pre>"
      ],
      "text/plain": [
       "| 1230      | 36835.803289 | 0.418409      |"
      ]
     },
     "metadata": {},
     "output_type": "display_data"
    },
    {
     "data": {
      "text/html": [
       "<pre>| 1231      | 36864.882789 | 0.418400      |</pre>"
      ],
      "text/plain": [
       "| 1231      | 36864.882789 | 0.418400      |"
      ]
     },
     "metadata": {},
     "output_type": "display_data"
    },
    {
     "data": {
      "text/html": [
       "<pre>| 1232      | 36895.690557 | 0.418388      |</pre>"
      ],
      "text/plain": [
       "| 1232      | 36895.690557 | 0.418388      |"
      ]
     },
     "metadata": {},
     "output_type": "display_data"
    },
    {
     "data": {
      "text/html": [
       "<pre>| 1233      | 36925.782958 | 0.418375      |</pre>"
      ],
      "text/plain": [
       "| 1233      | 36925.782958 | 0.418375      |"
      ]
     },
     "metadata": {},
     "output_type": "display_data"
    },
    {
     "data": {
      "text/html": [
       "<pre>| 1234      | 36953.737868 | 0.418363      |</pre>"
      ],
      "text/plain": [
       "| 1234      | 36953.737868 | 0.418363      |"
      ]
     },
     "metadata": {},
     "output_type": "display_data"
    },
    {
     "data": {
      "text/html": [
       "<pre>| 1235      | 36983.574379 | 0.418361      |</pre>"
      ],
      "text/plain": [
       "| 1235      | 36983.574379 | 0.418361      |"
      ]
     },
     "metadata": {},
     "output_type": "display_data"
    },
    {
     "data": {
      "text/html": [
       "<pre>| 1236      | 37013.837313 | 0.418353      |</pre>"
      ],
      "text/plain": [
       "| 1236      | 37013.837313 | 0.418353      |"
      ]
     },
     "metadata": {},
     "output_type": "display_data"
    },
    {
     "data": {
      "text/html": [
       "<pre>| 1237      | 37042.575564 | 0.418337      |</pre>"
      ],
      "text/plain": [
       "| 1237      | 37042.575564 | 0.418337      |"
      ]
     },
     "metadata": {},
     "output_type": "display_data"
    },
    {
     "data": {
      "text/html": [
       "<pre>| 1238      | 37073.528694 | 0.418328      |</pre>"
      ],
      "text/plain": [
       "| 1238      | 37073.528694 | 0.418328      |"
      ]
     },
     "metadata": {},
     "output_type": "display_data"
    },
    {
     "data": {
      "text/html": [
       "<pre>| 1239      | 37103.331262 | 0.418323      |</pre>"
      ],
      "text/plain": [
       "| 1239      | 37103.331262 | 0.418323      |"
      ]
     },
     "metadata": {},
     "output_type": "display_data"
    },
    {
     "data": {
      "text/html": [
       "<pre>| 1240      | 37134.242333 | 0.418306      |</pre>"
      ],
      "text/plain": [
       "| 1240      | 37134.242333 | 0.418306      |"
      ]
     },
     "metadata": {},
     "output_type": "display_data"
    },
    {
     "data": {
      "text/html": [
       "<pre>| 1241      | 37163.192700 | 0.418297      |</pre>"
      ],
      "text/plain": [
       "| 1241      | 37163.192700 | 0.418297      |"
      ]
     },
     "metadata": {},
     "output_type": "display_data"
    },
    {
     "data": {
      "text/html": [
       "<pre>| 1242      | 37195.446942 | 0.418281      |</pre>"
      ],
      "text/plain": [
       "| 1242      | 37195.446942 | 0.418281      |"
      ]
     },
     "metadata": {},
     "output_type": "display_data"
    },
    {
     "data": {
      "text/html": [
       "<pre>| 1243      | 37225.868958 | 0.418274      |</pre>"
      ],
      "text/plain": [
       "| 1243      | 37225.868958 | 0.418274      |"
      ]
     },
     "metadata": {},
     "output_type": "display_data"
    },
    {
     "data": {
      "text/html": [
       "<pre>| 1244      | 37255.839579 | 0.418254      |</pre>"
      ],
      "text/plain": [
       "| 1244      | 37255.839579 | 0.418254      |"
      ]
     },
     "metadata": {},
     "output_type": "display_data"
    },
    {
     "data": {
      "text/html": [
       "<pre>| 1245      | 37286.838246 | 0.418218      |</pre>"
      ],
      "text/plain": [
       "| 1245      | 37286.838246 | 0.418218      |"
      ]
     },
     "metadata": {},
     "output_type": "display_data"
    },
    {
     "data": {
      "text/html": [
       "<pre>| 1246      | 37315.751061 | 0.418206      |</pre>"
      ],
      "text/plain": [
       "| 1246      | 37315.751061 | 0.418206      |"
      ]
     },
     "metadata": {},
     "output_type": "display_data"
    },
    {
     "data": {
      "text/html": [
       "<pre>| 1247      | 37345.596199 | 0.418201      |</pre>"
      ],
      "text/plain": [
       "| 1247      | 37345.596199 | 0.418201      |"
      ]
     },
     "metadata": {},
     "output_type": "display_data"
    },
    {
     "data": {
      "text/html": [
       "<pre>| 1248      | 37376.718513 | 0.418185      |</pre>"
      ],
      "text/plain": [
       "| 1248      | 37376.718513 | 0.418185      |"
      ]
     },
     "metadata": {},
     "output_type": "display_data"
    },
    {
     "data": {
      "text/html": [
       "<pre>| 1249      | 37407.499034 | 0.418168      |</pre>"
      ],
      "text/plain": [
       "| 1249      | 37407.499034 | 0.418168      |"
      ]
     },
     "metadata": {},
     "output_type": "display_data"
    },
    {
     "data": {
      "text/html": [
       "<pre>| 1250      | 37437.710219 | 0.418159      |</pre>"
      ],
      "text/plain": [
       "| 1250      | 37437.710219 | 0.418159      |"
      ]
     },
     "metadata": {},
     "output_type": "display_data"
    },
    {
     "data": {
      "text/html": [
       "<pre>| 1251      | 37470.479490 | 0.418132      |</pre>"
      ],
      "text/plain": [
       "| 1251      | 37470.479490 | 0.418132      |"
      ]
     },
     "metadata": {},
     "output_type": "display_data"
    },
    {
     "data": {
      "text/html": [
       "<pre>| 1252      | 37499.329682 | 0.418121      |</pre>"
      ],
      "text/plain": [
       "| 1252      | 37499.329682 | 0.418121      |"
      ]
     },
     "metadata": {},
     "output_type": "display_data"
    },
    {
     "data": {
      "text/html": [
       "<pre>| 1253      | 37530.020994 | 0.418105      |</pre>"
      ],
      "text/plain": [
       "| 1253      | 37530.020994 | 0.418105      |"
      ]
     },
     "metadata": {},
     "output_type": "display_data"
    },
    {
     "data": {
      "text/html": [
       "<pre>| 1254      | 37558.812668 | 0.418100      |</pre>"
      ],
      "text/plain": [
       "| 1254      | 37558.812668 | 0.418100      |"
      ]
     },
     "metadata": {},
     "output_type": "display_data"
    },
    {
     "data": {
      "text/html": [
       "<pre>| 1255      | 37589.661652 | 0.418094      |</pre>"
      ],
      "text/plain": [
       "| 1255      | 37589.661652 | 0.418094      |"
      ]
     },
     "metadata": {},
     "output_type": "display_data"
    },
    {
     "data": {
      "text/html": [
       "<pre>| 1256      | 37619.003654 | 0.418083      |</pre>"
      ],
      "text/plain": [
       "| 1256      | 37619.003654 | 0.418083      |"
      ]
     },
     "metadata": {},
     "output_type": "display_data"
    },
    {
     "data": {
      "text/html": [
       "<pre>| 1257      | 37649.747484 | 0.418073      |</pre>"
      ],
      "text/plain": [
       "| 1257      | 37649.747484 | 0.418073      |"
      ]
     },
     "metadata": {},
     "output_type": "display_data"
    },
    {
     "data": {
      "text/html": [
       "<pre>| 1258      | 37678.936337 | 0.418064      |</pre>"
      ],
      "text/plain": [
       "| 1258      | 37678.936337 | 0.418064      |"
      ]
     },
     "metadata": {},
     "output_type": "display_data"
    },
    {
     "data": {
      "text/html": [
       "<pre>| 1259      | 37708.776454 | 0.418039      |</pre>"
      ],
      "text/plain": [
       "| 1259      | 37708.776454 | 0.418039      |"
      ]
     },
     "metadata": {},
     "output_type": "display_data"
    },
    {
     "data": {
      "text/html": [
       "<pre>| 1260      | 37739.388276 | 0.418025      |</pre>"
      ],
      "text/plain": [
       "| 1260      | 37739.388276 | 0.418025      |"
      ]
     },
     "metadata": {},
     "output_type": "display_data"
    },
    {
     "data": {
      "text/html": [
       "<pre>| 1261      | 37768.428727 | 0.418018      |</pre>"
      ],
      "text/plain": [
       "| 1261      | 37768.428727 | 0.418018      |"
      ]
     },
     "metadata": {},
     "output_type": "display_data"
    },
    {
     "data": {
      "text/html": [
       "<pre>| 1262      | 37799.671757 | 0.418004      |</pre>"
      ],
      "text/plain": [
       "| 1262      | 37799.671757 | 0.418004      |"
      ]
     },
     "metadata": {},
     "output_type": "display_data"
    },
    {
     "data": {
      "text/html": [
       "<pre>| 1263      | 37827.016144 | 0.417989      |</pre>"
      ],
      "text/plain": [
       "| 1263      | 37827.016144 | 0.417989      |"
      ]
     },
     "metadata": {},
     "output_type": "display_data"
    },
    {
     "data": {
      "text/html": [
       "<pre>| 1264      | 37854.531758 | 0.417973      |</pre>"
      ],
      "text/plain": [
       "| 1264      | 37854.531758 | 0.417973      |"
      ]
     },
     "metadata": {},
     "output_type": "display_data"
    },
    {
     "data": {
      "text/html": [
       "<pre>| 1265      | 37883.366215 | 0.417955      |</pre>"
      ],
      "text/plain": [
       "| 1265      | 37883.366215 | 0.417955      |"
      ]
     },
     "metadata": {},
     "output_type": "display_data"
    },
    {
     "data": {
      "text/html": [
       "<pre>| 1266      | 37911.873788 | 0.417938      |</pre>"
      ],
      "text/plain": [
       "| 1266      | 37911.873788 | 0.417938      |"
      ]
     },
     "metadata": {},
     "output_type": "display_data"
    },
    {
     "data": {
      "text/html": [
       "<pre>| 1267      | 37941.841477 | 0.417920      |</pre>"
      ],
      "text/plain": [
       "| 1267      | 37941.841477 | 0.417920      |"
      ]
     },
     "metadata": {},
     "output_type": "display_data"
    },
    {
     "data": {
      "text/html": [
       "<pre>| 1268      | 37969.909543 | 0.417911      |</pre>"
      ],
      "text/plain": [
       "| 1268      | 37969.909543 | 0.417911      |"
      ]
     },
     "metadata": {},
     "output_type": "display_data"
    },
    {
     "data": {
      "text/html": [
       "<pre>| 1269      | 37999.483719 | 0.417895      |</pre>"
      ],
      "text/plain": [
       "| 1269      | 37999.483719 | 0.417895      |"
      ]
     },
     "metadata": {},
     "output_type": "display_data"
    },
    {
     "data": {
      "text/html": [
       "<pre>| 1270      | 38028.912378 | 0.417882      |</pre>"
      ],
      "text/plain": [
       "| 1270      | 38028.912378 | 0.417882      |"
      ]
     },
     "metadata": {},
     "output_type": "display_data"
    },
    {
     "data": {
      "text/html": [
       "<pre>| 1271      | 38058.898829 | 0.417863      |</pre>"
      ],
      "text/plain": [
       "| 1271      | 38058.898829 | 0.417863      |"
      ]
     },
     "metadata": {},
     "output_type": "display_data"
    },
    {
     "data": {
      "text/html": [
       "<pre>| 1272      | 38090.389250 | 0.417843      |</pre>"
      ],
      "text/plain": [
       "| 1272      | 38090.389250 | 0.417843      |"
      ]
     },
     "metadata": {},
     "output_type": "display_data"
    },
    {
     "data": {
      "text/html": [
       "<pre>| 1273      | 38119.770227 | 0.417832      |</pre>"
      ],
      "text/plain": [
       "| 1273      | 38119.770227 | 0.417832      |"
      ]
     },
     "metadata": {},
     "output_type": "display_data"
    },
    {
     "data": {
      "text/html": [
       "<pre>| 1274      | 38149.476899 | 0.417820      |</pre>"
      ],
      "text/plain": [
       "| 1274      | 38149.476899 | 0.417820      |"
      ]
     },
     "metadata": {},
     "output_type": "display_data"
    },
    {
     "data": {
      "text/html": [
       "<pre>| 1275      | 38181.128016 | 0.417804      |</pre>"
      ],
      "text/plain": [
       "| 1275      | 38181.128016 | 0.417804      |"
      ]
     },
     "metadata": {},
     "output_type": "display_data"
    },
    {
     "data": {
      "text/html": [
       "<pre>| 1276      | 38211.906320 | 0.417785      |</pre>"
      ],
      "text/plain": [
       "| 1276      | 38211.906320 | 0.417785      |"
      ]
     },
     "metadata": {},
     "output_type": "display_data"
    },
    {
     "data": {
      "text/html": [
       "<pre>| 1277      | 38242.626450 | 0.417771      |</pre>"
      ],
      "text/plain": [
       "| 1277      | 38242.626450 | 0.417771      |"
      ]
     },
     "metadata": {},
     "output_type": "display_data"
    },
    {
     "data": {
      "text/html": [
       "<pre>| 1278      | 38269.574196 | 0.417764      |</pre>"
      ],
      "text/plain": [
       "| 1278      | 38269.574196 | 0.417764      |"
      ]
     },
     "metadata": {},
     "output_type": "display_data"
    },
    {
     "data": {
      "text/html": [
       "<pre>| 1279      | 38298.645170 | 0.417755      |</pre>"
      ],
      "text/plain": [
       "| 1279      | 38298.645170 | 0.417755      |"
      ]
     },
     "metadata": {},
     "output_type": "display_data"
    },
    {
     "data": {
      "text/html": [
       "<pre>| 1280      | 38327.981606 | 0.417737      |</pre>"
      ],
      "text/plain": [
       "| 1280      | 38327.981606 | 0.417737      |"
      ]
     },
     "metadata": {},
     "output_type": "display_data"
    },
    {
     "data": {
      "text/html": [
       "<pre>| 1281      | 38359.668892 | 0.417720      |</pre>"
      ],
      "text/plain": [
       "| 1281      | 38359.668892 | 0.417720      |"
      ]
     },
     "metadata": {},
     "output_type": "display_data"
    },
    {
     "data": {
      "text/html": [
       "<pre>| 1282      | 38389.033053 | 0.417706      |</pre>"
      ],
      "text/plain": [
       "| 1282      | 38389.033053 | 0.417706      |"
      ]
     },
     "metadata": {},
     "output_type": "display_data"
    },
    {
     "data": {
      "text/html": [
       "<pre>| 1283      | 38419.013619 | 0.417684      |</pre>"
      ],
      "text/plain": [
       "| 1283      | 38419.013619 | 0.417684      |"
      ]
     },
     "metadata": {},
     "output_type": "display_data"
    },
    {
     "data": {
      "text/html": [
       "<pre>| 1284      | 38448.094095 | 0.417673      |</pre>"
      ],
      "text/plain": [
       "| 1284      | 38448.094095 | 0.417673      |"
      ]
     },
     "metadata": {},
     "output_type": "display_data"
    },
    {
     "data": {
      "text/html": [
       "<pre>| 1285      | 38479.150362 | 0.417647      |</pre>"
      ],
      "text/plain": [
       "| 1285      | 38479.150362 | 0.417647      |"
      ]
     },
     "metadata": {},
     "output_type": "display_data"
    },
    {
     "data": {
      "text/html": [
       "<pre>| 1286      | 38510.061885 | 0.417625      |</pre>"
      ],
      "text/plain": [
       "| 1286      | 38510.061885 | 0.417625      |"
      ]
     },
     "metadata": {},
     "output_type": "display_data"
    },
    {
     "data": {
      "text/html": [
       "<pre>| 1287      | 38539.055328 | 0.417619      |</pre>"
      ],
      "text/plain": [
       "| 1287      | 38539.055328 | 0.417619      |"
      ]
     },
     "metadata": {},
     "output_type": "display_data"
    },
    {
     "data": {
      "text/html": [
       "<pre>| 1288      | 38568.163640 | 0.417600      |</pre>"
      ],
      "text/plain": [
       "| 1288      | 38568.163640 | 0.417600      |"
      ]
     },
     "metadata": {},
     "output_type": "display_data"
    },
    {
     "data": {
      "text/html": [
       "<pre>| 1289      | 38597.703630 | 0.417586      |</pre>"
      ],
      "text/plain": [
       "| 1289      | 38597.703630 | 0.417586      |"
      ]
     },
     "metadata": {},
     "output_type": "display_data"
    },
    {
     "data": {
      "text/html": [
       "<pre>| 1290      | 38628.816926 | 0.417565      |</pre>"
      ],
      "text/plain": [
       "| 1290      | 38628.816926 | 0.417565      |"
      ]
     },
     "metadata": {},
     "output_type": "display_data"
    },
    {
     "data": {
      "text/html": [
       "<pre>| 1291      | 38660.491133 | 0.417549      |</pre>"
      ],
      "text/plain": [
       "| 1291      | 38660.491133 | 0.417549      |"
      ]
     },
     "metadata": {},
     "output_type": "display_data"
    },
    {
     "data": {
      "text/html": [
       "<pre>| 1292      | 38689.454015 | 0.417530      |</pre>"
      ],
      "text/plain": [
       "| 1292      | 38689.454015 | 0.417530      |"
      ]
     },
     "metadata": {},
     "output_type": "display_data"
    },
    {
     "data": {
      "text/html": [
       "<pre>| 1293      | 38718.872229 | 0.417512      |</pre>"
      ],
      "text/plain": [
       "| 1293      | 38718.872229 | 0.417512      |"
      ]
     },
     "metadata": {},
     "output_type": "display_data"
    },
    {
     "data": {
      "text/html": [
       "<pre>| 1294      | 38749.513684 | 0.417497      |</pre>"
      ],
      "text/plain": [
       "| 1294      | 38749.513684 | 0.417497      |"
      ]
     },
     "metadata": {},
     "output_type": "display_data"
    },
    {
     "data": {
      "text/html": [
       "<pre>| 1295      | 38777.970541 | 0.417487      |</pre>"
      ],
      "text/plain": [
       "| 1295      | 38777.970541 | 0.417487      |"
      ]
     },
     "metadata": {},
     "output_type": "display_data"
    },
    {
     "data": {
      "text/html": [
       "<pre>| 1296      | 38808.660953 | 0.417474      |</pre>"
      ],
      "text/plain": [
       "| 1296      | 38808.660953 | 0.417474      |"
      ]
     },
     "metadata": {},
     "output_type": "display_data"
    },
    {
     "data": {
      "text/html": [
       "<pre>| 1297      | 38839.380262 | 0.417461      |</pre>"
      ],
      "text/plain": [
       "| 1297      | 38839.380262 | 0.417461      |"
      ]
     },
     "metadata": {},
     "output_type": "display_data"
    },
    {
     "data": {
      "text/html": [
       "<pre>| 1298      | 38870.331816 | 0.417447      |</pre>"
      ],
      "text/plain": [
       "| 1298      | 38870.331816 | 0.417447      |"
      ]
     },
     "metadata": {},
     "output_type": "display_data"
    },
    {
     "data": {
      "text/html": [
       "<pre>| 1299      | 38900.908934 | 0.417437      |</pre>"
      ],
      "text/plain": [
       "| 1299      | 38900.908934 | 0.417437      |"
      ]
     },
     "metadata": {},
     "output_type": "display_data"
    },
    {
     "data": {
      "text/html": [
       "<pre>| 1300      | 38931.439910 | 0.417414      |</pre>"
      ],
      "text/plain": [
       "| 1300      | 38931.439910 | 0.417414      |"
      ]
     },
     "metadata": {},
     "output_type": "display_data"
    },
    {
     "data": {
      "text/html": [
       "<pre>| 1301      | 38961.359825 | 0.417400      |</pre>"
      ],
      "text/plain": [
       "| 1301      | 38961.359825 | 0.417400      |"
      ]
     },
     "metadata": {},
     "output_type": "display_data"
    },
    {
     "data": {
      "text/html": [
       "<pre>| 1302      | 38991.694559 | 0.417389      |</pre>"
      ],
      "text/plain": [
       "| 1302      | 38991.694559 | 0.417389      |"
      ]
     },
     "metadata": {},
     "output_type": "display_data"
    },
    {
     "data": {
      "text/html": [
       "<pre>| 1303      | 39022.053933 | 0.417380      |</pre>"
      ],
      "text/plain": [
       "| 1303      | 39022.053933 | 0.417380      |"
      ]
     },
     "metadata": {},
     "output_type": "display_data"
    },
    {
     "data": {
      "text/html": [
       "<pre>| 1304      | 39051.839828 | 0.417365      |</pre>"
      ],
      "text/plain": [
       "| 1304      | 39051.839828 | 0.417365      |"
      ]
     },
     "metadata": {},
     "output_type": "display_data"
    },
    {
     "data": {
      "text/html": [
       "<pre>| 1305      | 39081.642087 | 0.417350      |</pre>"
      ],
      "text/plain": [
       "| 1305      | 39081.642087 | 0.417350      |"
      ]
     },
     "metadata": {},
     "output_type": "display_data"
    },
    {
     "data": {
      "text/html": [
       "<pre>| 1306      | 39111.736454 | 0.417325      |</pre>"
      ],
      "text/plain": [
       "| 1306      | 39111.736454 | 0.417325      |"
      ]
     },
     "metadata": {},
     "output_type": "display_data"
    },
    {
     "data": {
      "text/html": [
       "<pre>| 1307      | 39143.613282 | 0.417305      |</pre>"
      ],
      "text/plain": [
       "| 1307      | 39143.613282 | 0.417305      |"
      ]
     },
     "metadata": {},
     "output_type": "display_data"
    },
    {
     "data": {
      "text/html": [
       "<pre>| 1308      | 39174.919452 | 0.417287      |</pre>"
      ],
      "text/plain": [
       "| 1308      | 39174.919452 | 0.417287      |"
      ]
     },
     "metadata": {},
     "output_type": "display_data"
    },
    {
     "data": {
      "text/html": [
       "<pre>| 1309      | 39203.713444 | 0.417273      |</pre>"
      ],
      "text/plain": [
       "| 1309      | 39203.713444 | 0.417273      |"
      ]
     },
     "metadata": {},
     "output_type": "display_data"
    },
    {
     "data": {
      "text/html": [
       "<pre>| 1310      | 39230.961296 | 0.417259      |</pre>"
      ],
      "text/plain": [
       "| 1310      | 39230.961296 | 0.417259      |"
      ]
     },
     "metadata": {},
     "output_type": "display_data"
    },
    {
     "data": {
      "text/html": [
       "<pre>| 1311      | 39262.050231 | 0.417240      |</pre>"
      ],
      "text/plain": [
       "| 1311      | 39262.050231 | 0.417240      |"
      ]
     },
     "metadata": {},
     "output_type": "display_data"
    },
    {
     "data": {
      "text/html": [
       "<pre>| 1312      | 39291.473268 | 0.417225      |</pre>"
      ],
      "text/plain": [
       "| 1312      | 39291.473268 | 0.417225      |"
      ]
     },
     "metadata": {},
     "output_type": "display_data"
    },
    {
     "data": {
      "text/html": [
       "<pre>| 1313      | 39319.348135 | 0.417214      |</pre>"
      ],
      "text/plain": [
       "| 1313      | 39319.348135 | 0.417214      |"
      ]
     },
     "metadata": {},
     "output_type": "display_data"
    },
    {
     "data": {
      "text/html": [
       "<pre>| 1314      | 39349.622871 | 0.417209      |</pre>"
      ],
      "text/plain": [
       "| 1314      | 39349.622871 | 0.417209      |"
      ]
     },
     "metadata": {},
     "output_type": "display_data"
    },
    {
     "data": {
      "text/html": [
       "<pre>| 1315      | 39380.256848 | 0.417189      |</pre>"
      ],
      "text/plain": [
       "| 1315      | 39380.256848 | 0.417189      |"
      ]
     },
     "metadata": {},
     "output_type": "display_data"
    },
    {
     "data": {
      "text/html": [
       "<pre>| 1316      | 39410.612947 | 0.417173      |</pre>"
      ],
      "text/plain": [
       "| 1316      | 39410.612947 | 0.417173      |"
      ]
     },
     "metadata": {},
     "output_type": "display_data"
    },
    {
     "data": {
      "text/html": [
       "<pre>| 1317      | 39442.422595 | 0.417159      |</pre>"
      ],
      "text/plain": [
       "| 1317      | 39442.422595 | 0.417159      |"
      ]
     },
     "metadata": {},
     "output_type": "display_data"
    },
    {
     "data": {
      "text/html": [
       "<pre>| 1318      | 39472.189596 | 0.417152      |</pre>"
      ],
      "text/plain": [
       "| 1318      | 39472.189596 | 0.417152      |"
      ]
     },
     "metadata": {},
     "output_type": "display_data"
    },
    {
     "data": {
      "text/html": [
       "<pre>| 1319      | 39504.873614 | 0.417130      |</pre>"
      ],
      "text/plain": [
       "| 1319      | 39504.873614 | 0.417130      |"
      ]
     },
     "metadata": {},
     "output_type": "display_data"
    },
    {
     "data": {
      "text/html": [
       "<pre>| 1320      | 39534.400628 | 0.417120      |</pre>"
      ],
      "text/plain": [
       "| 1320      | 39534.400628 | 0.417120      |"
      ]
     },
     "metadata": {},
     "output_type": "display_data"
    },
    {
     "data": {
      "text/html": [
       "<pre>| 1321      | 39563.428652 | 0.417101      |</pre>"
      ],
      "text/plain": [
       "| 1321      | 39563.428652 | 0.417101      |"
      ]
     },
     "metadata": {},
     "output_type": "display_data"
    },
    {
     "data": {
      "text/html": [
       "<pre>| 1322      | 39593.610479 | 0.417081      |</pre>"
      ],
      "text/plain": [
       "| 1322      | 39593.610479 | 0.417081      |"
      ]
     },
     "metadata": {},
     "output_type": "display_data"
    },
    {
     "data": {
      "text/html": [
       "<pre>| 1323      | 39625.165142 | 0.417057      |</pre>"
      ],
      "text/plain": [
       "| 1323      | 39625.165142 | 0.417057      |"
      ]
     },
     "metadata": {},
     "output_type": "display_data"
    },
    {
     "data": {
      "text/html": [
       "<pre>| 1324      | 39655.499473 | 0.417040      |</pre>"
      ],
      "text/plain": [
       "| 1324      | 39655.499473 | 0.417040      |"
      ]
     },
     "metadata": {},
     "output_type": "display_data"
    },
    {
     "data": {
      "text/html": [
       "<pre>| 1325      | 39685.027449 | 0.417027      |</pre>"
      ],
      "text/plain": [
       "| 1325      | 39685.027449 | 0.417027      |"
      ]
     },
     "metadata": {},
     "output_type": "display_data"
    },
    {
     "data": {
      "text/html": [
       "<pre>| 1326      | 39714.531357 | 0.417016      |</pre>"
      ],
      "text/plain": [
       "| 1326      | 39714.531357 | 0.417016      |"
      ]
     },
     "metadata": {},
     "output_type": "display_data"
    },
    {
     "data": {
      "text/html": [
       "<pre>| 1327      | 39745.273729 | 0.416999      |</pre>"
      ],
      "text/plain": [
       "| 1327      | 39745.273729 | 0.416999      |"
      ]
     },
     "metadata": {},
     "output_type": "display_data"
    },
    {
     "data": {
      "text/html": [
       "<pre>| 1328      | 39774.239045 | 0.416992      |</pre>"
      ],
      "text/plain": [
       "| 1328      | 39774.239045 | 0.416992      |"
      ]
     },
     "metadata": {},
     "output_type": "display_data"
    },
    {
     "data": {
      "text/html": [
       "<pre>| 1329      | 39805.253435 | 0.416984      |</pre>"
      ],
      "text/plain": [
       "| 1329      | 39805.253435 | 0.416984      |"
      ]
     },
     "metadata": {},
     "output_type": "display_data"
    },
    {
     "data": {
      "text/html": [
       "<pre>| 1330      | 39834.271681 | 0.416974      |</pre>"
      ],
      "text/plain": [
       "| 1330      | 39834.271681 | 0.416974      |"
      ]
     },
     "metadata": {},
     "output_type": "display_data"
    },
    {
     "data": {
      "text/html": [
       "<pre>| 1331      | 39862.964435 | 0.416957      |</pre>"
      ],
      "text/plain": [
       "| 1331      | 39862.964435 | 0.416957      |"
      ]
     },
     "metadata": {},
     "output_type": "display_data"
    },
    {
     "data": {
      "text/html": [
       "<pre>| 1332      | 39892.627320 | 0.416948      |</pre>"
      ],
      "text/plain": [
       "| 1332      | 39892.627320 | 0.416948      |"
      ]
     },
     "metadata": {},
     "output_type": "display_data"
    },
    {
     "data": {
      "text/html": [
       "<pre>| 1333      | 39920.687108 | 0.416936      |</pre>"
      ],
      "text/plain": [
       "| 1333      | 39920.687108 | 0.416936      |"
      ]
     },
     "metadata": {},
     "output_type": "display_data"
    },
    {
     "data": {
      "text/html": [
       "<pre>| 1334      | 39952.058707 | 0.416920      |</pre>"
      ],
      "text/plain": [
       "| 1334      | 39952.058707 | 0.416920      |"
      ]
     },
     "metadata": {},
     "output_type": "display_data"
    },
    {
     "data": {
      "text/html": [
       "<pre>| 1335      | 39980.184878 | 0.416907      |</pre>"
      ],
      "text/plain": [
       "| 1335      | 39980.184878 | 0.416907      |"
      ]
     },
     "metadata": {},
     "output_type": "display_data"
    },
    {
     "data": {
      "text/html": [
       "<pre>| 1336      | 40010.981869 | 0.416886      |</pre>"
      ],
      "text/plain": [
       "| 1336      | 40010.981869 | 0.416886      |"
      ]
     },
     "metadata": {},
     "output_type": "display_data"
    },
    {
     "data": {
      "text/html": [
       "<pre>| 1337      | 40039.884553 | 0.416874      |</pre>"
      ],
      "text/plain": [
       "| 1337      | 40039.884553 | 0.416874      |"
      ]
     },
     "metadata": {},
     "output_type": "display_data"
    },
    {
     "data": {
      "text/html": [
       "<pre>| 1338      | 40069.060448 | 0.416858      |</pre>"
      ],
      "text/plain": [
       "| 1338      | 40069.060448 | 0.416858      |"
      ]
     },
     "metadata": {},
     "output_type": "display_data"
    },
    {
     "data": {
      "text/html": [
       "<pre>| 1339      | 40099.066855 | 0.416853      |</pre>"
      ],
      "text/plain": [
       "| 1339      | 40099.066855 | 0.416853      |"
      ]
     },
     "metadata": {},
     "output_type": "display_data"
    },
    {
     "data": {
      "text/html": [
       "<pre>| 1340      | 40126.115044 | 0.416846      |</pre>"
      ],
      "text/plain": [
       "| 1340      | 40126.115044 | 0.416846      |"
      ]
     },
     "metadata": {},
     "output_type": "display_data"
    },
    {
     "data": {
      "text/html": [
       "<pre>| 1341      | 40155.589601 | 0.416836      |</pre>"
      ],
      "text/plain": [
       "| 1341      | 40155.589601 | 0.416836      |"
      ]
     },
     "metadata": {},
     "output_type": "display_data"
    },
    {
     "data": {
      "text/html": [
       "<pre>| 1342      | 40185.376506 | 0.416827      |</pre>"
      ],
      "text/plain": [
       "| 1342      | 40185.376506 | 0.416827      |"
      ]
     },
     "metadata": {},
     "output_type": "display_data"
    },
    {
     "data": {
      "text/html": [
       "<pre>| 1343      | 40216.475120 | 0.416807      |</pre>"
      ],
      "text/plain": [
       "| 1343      | 40216.475120 | 0.416807      |"
      ]
     },
     "metadata": {},
     "output_type": "display_data"
    },
    {
     "data": {
      "text/html": [
       "<pre>| 1344      | 40245.827939 | 0.416796      |</pre>"
      ],
      "text/plain": [
       "| 1344      | 40245.827939 | 0.416796      |"
      ]
     },
     "metadata": {},
     "output_type": "display_data"
    },
    {
     "data": {
      "text/html": [
       "<pre>| 1345      | 40277.556651 | 0.416779      |</pre>"
      ],
      "text/plain": [
       "| 1345      | 40277.556651 | 0.416779      |"
      ]
     },
     "metadata": {},
     "output_type": "display_data"
    },
    {
     "data": {
      "text/html": [
       "<pre>| 1346      | 40306.917777 | 0.416764      |</pre>"
      ],
      "text/plain": [
       "| 1346      | 40306.917777 | 0.416764      |"
      ]
     },
     "metadata": {},
     "output_type": "display_data"
    },
    {
     "data": {
      "text/html": [
       "<pre>| 1347      | 40337.493171 | 0.416748      |</pre>"
      ],
      "text/plain": [
       "| 1347      | 40337.493171 | 0.416748      |"
      ]
     },
     "metadata": {},
     "output_type": "display_data"
    },
    {
     "data": {
      "text/html": [
       "<pre>| 1348      | 40367.793114 | 0.416732      |</pre>"
      ],
      "text/plain": [
       "| 1348      | 40367.793114 | 0.416732      |"
      ]
     },
     "metadata": {},
     "output_type": "display_data"
    },
    {
     "data": {
      "text/html": [
       "<pre>| 1349      | 40397.037771 | 0.416722      |</pre>"
      ],
      "text/plain": [
       "| 1349      | 40397.037771 | 0.416722      |"
      ]
     },
     "metadata": {},
     "output_type": "display_data"
    },
    {
     "data": {
      "text/html": [
       "<pre>| 1350      | 40427.182748 | 0.416707      |</pre>"
      ],
      "text/plain": [
       "| 1350      | 40427.182748 | 0.416707      |"
      ]
     },
     "metadata": {},
     "output_type": "display_data"
    },
    {
     "data": {
      "text/html": [
       "<pre>| 1351      | 40454.732644 | 0.416702      |</pre>"
      ],
      "text/plain": [
       "| 1351      | 40454.732644 | 0.416702      |"
      ]
     },
     "metadata": {},
     "output_type": "display_data"
    },
    {
     "data": {
      "text/html": [
       "<pre>| 1352      | 40484.867636 | 0.416678      |</pre>"
      ],
      "text/plain": [
       "| 1352      | 40484.867636 | 0.416678      |"
      ]
     },
     "metadata": {},
     "output_type": "display_data"
    },
    {
     "data": {
      "text/html": [
       "<pre>| 1353      | 40515.119487 | 0.416669      |</pre>"
      ],
      "text/plain": [
       "| 1353      | 40515.119487 | 0.416669      |"
      ]
     },
     "metadata": {},
     "output_type": "display_data"
    },
    {
     "data": {
      "text/html": [
       "<pre>| 1354      | 40543.854755 | 0.416658      |</pre>"
      ],
      "text/plain": [
       "| 1354      | 40543.854755 | 0.416658      |"
      ]
     },
     "metadata": {},
     "output_type": "display_data"
    },
    {
     "data": {
      "text/html": [
       "<pre>| 1355      | 40573.804435 | 0.416647      |</pre>"
      ],
      "text/plain": [
       "| 1355      | 40573.804435 | 0.416647      |"
      ]
     },
     "metadata": {},
     "output_type": "display_data"
    },
    {
     "data": {
      "text/html": [
       "<pre>| 1356      | 40604.365656 | 0.416637      |</pre>"
      ],
      "text/plain": [
       "| 1356      | 40604.365656 | 0.416637      |"
      ]
     },
     "metadata": {},
     "output_type": "display_data"
    },
    {
     "data": {
      "text/html": [
       "<pre>| 1357      | 40636.068097 | 0.416618      |</pre>"
      ],
      "text/plain": [
       "| 1357      | 40636.068097 | 0.416618      |"
      ]
     },
     "metadata": {},
     "output_type": "display_data"
    },
    {
     "data": {
      "text/html": [
       "<pre>| 1358      | 40666.255880 | 0.416610      |</pre>"
      ],
      "text/plain": [
       "| 1358      | 40666.255880 | 0.416610      |"
      ]
     },
     "metadata": {},
     "output_type": "display_data"
    },
    {
     "data": {
      "text/html": [
       "<pre>| 1359      | 40696.075662 | 0.416596      |</pre>"
      ],
      "text/plain": [
       "| 1359      | 40696.075662 | 0.416596      |"
      ]
     },
     "metadata": {},
     "output_type": "display_data"
    },
    {
     "data": {
      "text/html": [
       "<pre>| 1360      | 40725.293726 | 0.416580      |</pre>"
      ],
      "text/plain": [
       "| 1360      | 40725.293726 | 0.416580      |"
      ]
     },
     "metadata": {},
     "output_type": "display_data"
    },
    {
     "data": {
      "text/html": [
       "<pre>| 1361      | 40754.785595 | 0.416566      |</pre>"
      ],
      "text/plain": [
       "| 1361      | 40754.785595 | 0.416566      |"
      ]
     },
     "metadata": {},
     "output_type": "display_data"
    },
    {
     "data": {
      "text/html": [
       "<pre>| 1362      | 40785.286381 | 0.416537      |</pre>"
      ],
      "text/plain": [
       "| 1362      | 40785.286381 | 0.416537      |"
      ]
     },
     "metadata": {},
     "output_type": "display_data"
    },
    {
     "data": {
      "text/html": [
       "<pre>| 1363      | 40813.616349 | 0.416521      |</pre>"
      ],
      "text/plain": [
       "| 1363      | 40813.616349 | 0.416521      |"
      ]
     },
     "metadata": {},
     "output_type": "display_data"
    },
    {
     "data": {
      "text/html": [
       "<pre>| 1364      | 40843.063158 | 0.416504      |</pre>"
      ],
      "text/plain": [
       "| 1364      | 40843.063158 | 0.416504      |"
      ]
     },
     "metadata": {},
     "output_type": "display_data"
    },
    {
     "data": {
      "text/html": [
       "<pre>| 1365      | 40871.479242 | 0.416488      |</pre>"
      ],
      "text/plain": [
       "| 1365      | 40871.479242 | 0.416488      |"
      ]
     },
     "metadata": {},
     "output_type": "display_data"
    },
    {
     "data": {
      "text/html": [
       "<pre>| 1366      | 40902.529559 | 0.416477      |</pre>"
      ],
      "text/plain": [
       "| 1366      | 40902.529559 | 0.416477      |"
      ]
     },
     "metadata": {},
     "output_type": "display_data"
    },
    {
     "data": {
      "text/html": [
       "<pre>| 1367      | 40932.796510 | 0.416452      |</pre>"
      ],
      "text/plain": [
       "| 1367      | 40932.796510 | 0.416452      |"
      ]
     },
     "metadata": {},
     "output_type": "display_data"
    },
    {
     "data": {
      "text/html": [
       "<pre>| 1368      | 40963.259162 | 0.416443      |</pre>"
      ],
      "text/plain": [
       "| 1368      | 40963.259162 | 0.416443      |"
      ]
     },
     "metadata": {},
     "output_type": "display_data"
    },
    {
     "data": {
      "text/html": [
       "<pre>| 1369      | 40992.522907 | 0.416423      |</pre>"
      ],
      "text/plain": [
       "| 1369      | 40992.522907 | 0.416423      |"
      ]
     },
     "metadata": {},
     "output_type": "display_data"
    },
    {
     "data": {
      "text/html": [
       "<pre>| 1370      | 41023.332389 | 0.416417      |</pre>"
      ],
      "text/plain": [
       "| 1370      | 41023.332389 | 0.416417      |"
      ]
     },
     "metadata": {},
     "output_type": "display_data"
    },
    {
     "data": {
      "text/html": [
       "<pre>| 1371      | 41055.610504 | 0.416399      |</pre>"
      ],
      "text/plain": [
       "| 1371      | 41055.610504 | 0.416399      |"
      ]
     },
     "metadata": {},
     "output_type": "display_data"
    },
    {
     "data": {
      "text/html": [
       "<pre>| 1372      | 41084.779855 | 0.416381      |</pre>"
      ],
      "text/plain": [
       "| 1372      | 41084.779855 | 0.416381      |"
      ]
     },
     "metadata": {},
     "output_type": "display_data"
    },
    {
     "data": {
      "text/html": [
       "<pre>| 1373      | 41114.347416 | 0.416372      |</pre>"
      ],
      "text/plain": [
       "| 1373      | 41114.347416 | 0.416372      |"
      ]
     },
     "metadata": {},
     "output_type": "display_data"
    },
    {
     "data": {
      "text/html": [
       "<pre>| 1374      | 41144.755694 | 0.416362      |</pre>"
      ],
      "text/plain": [
       "| 1374      | 41144.755694 | 0.416362      |"
      ]
     },
     "metadata": {},
     "output_type": "display_data"
    },
    {
     "data": {
      "text/html": [
       "<pre>| 1375      | 41176.200814 | 0.416353      |</pre>"
      ],
      "text/plain": [
       "| 1375      | 41176.200814 | 0.416353      |"
      ]
     },
     "metadata": {},
     "output_type": "display_data"
    },
    {
     "data": {
      "text/html": [
       "<pre>| 1376      | 41204.654046 | 0.416344      |</pre>"
      ],
      "text/plain": [
       "| 1376      | 41204.654046 | 0.416344      |"
      ]
     },
     "metadata": {},
     "output_type": "display_data"
    },
    {
     "data": {
      "text/html": [
       "<pre>| 1377      | 41234.497094 | 0.416337      |</pre>"
      ],
      "text/plain": [
       "| 1377      | 41234.497094 | 0.416337      |"
      ]
     },
     "metadata": {},
     "output_type": "display_data"
    },
    {
     "data": {
      "text/html": [
       "<pre>| 1378      | 41264.678717 | 0.416319      |</pre>"
      ],
      "text/plain": [
       "| 1378      | 41264.678717 | 0.416319      |"
      ]
     },
     "metadata": {},
     "output_type": "display_data"
    },
    {
     "data": {
      "text/html": [
       "<pre>| 1379      | 41295.218833 | 0.416301      |</pre>"
      ],
      "text/plain": [
       "| 1379      | 41295.218833 | 0.416301      |"
      ]
     },
     "metadata": {},
     "output_type": "display_data"
    },
    {
     "data": {
      "text/html": [
       "<pre>| 1380      | 41324.692267 | 0.416286      |</pre>"
      ],
      "text/plain": [
       "| 1380      | 41324.692267 | 0.416286      |"
      ]
     },
     "metadata": {},
     "output_type": "display_data"
    },
    {
     "data": {
      "text/html": [
       "<pre>| 1381      | 41355.864355 | 0.416268      |</pre>"
      ],
      "text/plain": [
       "| 1381      | 41355.864355 | 0.416268      |"
      ]
     },
     "metadata": {},
     "output_type": "display_data"
    },
    {
     "data": {
      "text/html": [
       "<pre>| 1382      | 41386.883261 | 0.416259      |</pre>"
      ],
      "text/plain": [
       "| 1382      | 41386.883261 | 0.416259      |"
      ]
     },
     "metadata": {},
     "output_type": "display_data"
    },
    {
     "data": {
      "text/html": [
       "<pre>| 1383      | 41417.946195 | 0.416253      |</pre>"
      ],
      "text/plain": [
       "| 1383      | 41417.946195 | 0.416253      |"
      ]
     },
     "metadata": {},
     "output_type": "display_data"
    },
    {
     "data": {
      "text/html": [
       "<pre>| 1384      | 41447.543633 | 0.416248      |</pre>"
      ],
      "text/plain": [
       "| 1384      | 41447.543633 | 0.416248      |"
      ]
     },
     "metadata": {},
     "output_type": "display_data"
    },
    {
     "data": {
      "text/html": [
       "<pre>| 1385      | 41478.084006 | 0.416228      |</pre>"
      ],
      "text/plain": [
       "| 1385      | 41478.084006 | 0.416228      |"
      ]
     },
     "metadata": {},
     "output_type": "display_data"
    },
    {
     "data": {
      "text/html": [
       "<pre>| 1386      | 41507.288560 | 0.416219      |</pre>"
      ],
      "text/plain": [
       "| 1386      | 41507.288560 | 0.416219      |"
      ]
     },
     "metadata": {},
     "output_type": "display_data"
    },
    {
     "data": {
      "text/html": [
       "<pre>| 1387      | 41534.821521 | 0.416214      |</pre>"
      ],
      "text/plain": [
       "| 1387      | 41534.821521 | 0.416214      |"
      ]
     },
     "metadata": {},
     "output_type": "display_data"
    },
    {
     "data": {
      "text/html": [
       "<pre>| 1388      | 41564.519357 | 0.416205      |</pre>"
      ],
      "text/plain": [
       "| 1388      | 41564.519357 | 0.416205      |"
      ]
     },
     "metadata": {},
     "output_type": "display_data"
    },
    {
     "data": {
      "text/html": [
       "<pre>| 1389      | 41595.269082 | 0.416193      |</pre>"
      ],
      "text/plain": [
       "| 1389      | 41595.269082 | 0.416193      |"
      ]
     },
     "metadata": {},
     "output_type": "display_data"
    },
    {
     "data": {
      "text/html": [
       "<pre>| 1390      | 41624.404057 | 0.416177      |</pre>"
      ],
      "text/plain": [
       "| 1390      | 41624.404057 | 0.416177      |"
      ]
     },
     "metadata": {},
     "output_type": "display_data"
    },
    {
     "data": {
      "text/html": [
       "<pre>| 1391      | 41654.744536 | 0.416166      |</pre>"
      ],
      "text/plain": [
       "| 1391      | 41654.744536 | 0.416166      |"
      ]
     },
     "metadata": {},
     "output_type": "display_data"
    },
    {
     "data": {
      "text/html": [
       "<pre>| 1392      | 41684.821000 | 0.416149      |</pre>"
      ],
      "text/plain": [
       "| 1392      | 41684.821000 | 0.416149      |"
      ]
     },
     "metadata": {},
     "output_type": "display_data"
    },
    {
     "data": {
      "text/html": [
       "<pre>| 1393      | 41715.510115 | 0.416141      |</pre>"
      ],
      "text/plain": [
       "| 1393      | 41715.510115 | 0.416141      |"
      ]
     },
     "metadata": {},
     "output_type": "display_data"
    },
    {
     "data": {
      "text/html": [
       "<pre>| 1394      | 41744.452465 | 0.416130      |</pre>"
      ],
      "text/plain": [
       "| 1394      | 41744.452465 | 0.416130      |"
      ]
     },
     "metadata": {},
     "output_type": "display_data"
    },
    {
     "data": {
      "text/html": [
       "<pre>| 1395      | 41774.058527 | 0.416118      |</pre>"
      ],
      "text/plain": [
       "| 1395      | 41774.058527 | 0.416118      |"
      ]
     },
     "metadata": {},
     "output_type": "display_data"
    },
    {
     "data": {
      "text/html": [
       "<pre>| 1396      | 41803.737248 | 0.416087      |</pre>"
      ],
      "text/plain": [
       "| 1396      | 41803.737248 | 0.416087      |"
      ]
     },
     "metadata": {},
     "output_type": "display_data"
    },
    {
     "data": {
      "text/html": [
       "<pre>| 1397      | 41834.754186 | 0.416072      |</pre>"
      ],
      "text/plain": [
       "| 1397      | 41834.754186 | 0.416072      |"
      ]
     },
     "metadata": {},
     "output_type": "display_data"
    },
    {
     "data": {
      "text/html": [
       "<pre>| 1398      | 41866.272008 | 0.416055      |</pre>"
      ],
      "text/plain": [
       "| 1398      | 41866.272008 | 0.416055      |"
      ]
     },
     "metadata": {},
     "output_type": "display_data"
    },
    {
     "data": {
      "text/html": [
       "<pre>| 1399      | 41897.380195 | 0.416033      |</pre>"
      ],
      "text/plain": [
       "| 1399      | 41897.380195 | 0.416033      |"
      ]
     },
     "metadata": {},
     "output_type": "display_data"
    },
    {
     "data": {
      "text/html": [
       "<pre>| 1400      | 41925.898058 | 0.416012      |</pre>"
      ],
      "text/plain": [
       "| 1400      | 41925.898058 | 0.416012      |"
      ]
     },
     "metadata": {},
     "output_type": "display_data"
    },
    {
     "data": {
      "text/html": [
       "<pre>| 1401      | 41954.768429 | 0.415993      |</pre>"
      ],
      "text/plain": [
       "| 1401      | 41954.768429 | 0.415993      |"
      ]
     },
     "metadata": {},
     "output_type": "display_data"
    },
    {
     "data": {
      "text/html": [
       "<pre>| 1402      | 41984.144846 | 0.415973      |</pre>"
      ],
      "text/plain": [
       "| 1402      | 41984.144846 | 0.415973      |"
      ]
     },
     "metadata": {},
     "output_type": "display_data"
    },
    {
     "data": {
      "text/html": [
       "<pre>| 1403      | 42014.932688 | 0.415952      |</pre>"
      ],
      "text/plain": [
       "| 1403      | 42014.932688 | 0.415952      |"
      ]
     },
     "metadata": {},
     "output_type": "display_data"
    },
    {
     "data": {
      "text/html": [
       "<pre>| 1404      | 42045.388900 | 0.415943      |</pre>"
      ],
      "text/plain": [
       "| 1404      | 42045.388900 | 0.415943      |"
      ]
     },
     "metadata": {},
     "output_type": "display_data"
    },
    {
     "data": {
      "text/html": [
       "<pre>| 1405      | 42073.926560 | 0.415933      |</pre>"
      ],
      "text/plain": [
       "| 1405      | 42073.926560 | 0.415933      |"
      ]
     },
     "metadata": {},
     "output_type": "display_data"
    },
    {
     "data": {
      "text/html": [
       "<pre>| 1406      | 42102.634319 | 0.415927      |</pre>"
      ],
      "text/plain": [
       "| 1406      | 42102.634319 | 0.415927      |"
      ]
     },
     "metadata": {},
     "output_type": "display_data"
    },
    {
     "data": {
      "text/html": [
       "<pre>| 1407      | 42134.610863 | 0.415915      |</pre>"
      ],
      "text/plain": [
       "| 1407      | 42134.610863 | 0.415915      |"
      ]
     },
     "metadata": {},
     "output_type": "display_data"
    },
    {
     "data": {
      "text/html": [
       "<pre>| 1408      | 42165.428518 | 0.415900      |</pre>"
      ],
      "text/plain": [
       "| 1408      | 42165.428518 | 0.415900      |"
      ]
     },
     "metadata": {},
     "output_type": "display_data"
    },
    {
     "data": {
      "text/html": [
       "<pre>| 1409      | 42195.350109 | 0.415889      |</pre>"
      ],
      "text/plain": [
       "| 1409      | 42195.350109 | 0.415889      |"
      ]
     },
     "metadata": {},
     "output_type": "display_data"
    },
    {
     "data": {
      "text/html": [
       "<pre>| 1410      | 42226.220480 | 0.415872      |</pre>"
      ],
      "text/plain": [
       "| 1410      | 42226.220480 | 0.415872      |"
      ]
     },
     "metadata": {},
     "output_type": "display_data"
    },
    {
     "data": {
      "text/html": [
       "<pre>| 1411      | 42256.433882 | 0.415862      |</pre>"
      ],
      "text/plain": [
       "| 1411      | 42256.433882 | 0.415862      |"
      ]
     },
     "metadata": {},
     "output_type": "display_data"
    },
    {
     "data": {
      "text/html": [
       "<pre>| 1412      | 42286.521525 | 0.415839      |</pre>"
      ],
      "text/plain": [
       "| 1412      | 42286.521525 | 0.415839      |"
      ]
     },
     "metadata": {},
     "output_type": "display_data"
    },
    {
     "data": {
      "text/html": [
       "<pre>| 1413      | 42316.651266 | 0.415821      |</pre>"
      ],
      "text/plain": [
       "| 1413      | 42316.651266 | 0.415821      |"
      ]
     },
     "metadata": {},
     "output_type": "display_data"
    },
    {
     "data": {
      "text/html": [
       "<pre>| 1414      | 42345.695900 | 0.415811      |</pre>"
      ],
      "text/plain": [
       "| 1414      | 42345.695900 | 0.415811      |"
      ]
     },
     "metadata": {},
     "output_type": "display_data"
    },
    {
     "data": {
      "text/html": [
       "<pre>| 1415      | 42376.609366 | 0.415805      |</pre>"
      ],
      "text/plain": [
       "| 1415      | 42376.609366 | 0.415805      |"
      ]
     },
     "metadata": {},
     "output_type": "display_data"
    },
    {
     "data": {
      "text/html": [
       "<pre>| 1416      | 42405.450469 | 0.415796      |</pre>"
      ],
      "text/plain": [
       "| 1416      | 42405.450469 | 0.415796      |"
      ]
     },
     "metadata": {},
     "output_type": "display_data"
    },
    {
     "data": {
      "text/html": [
       "<pre>| 1417      | 42435.302216 | 0.415785      |</pre>"
      ],
      "text/plain": [
       "| 1417      | 42435.302216 | 0.415785      |"
      ]
     },
     "metadata": {},
     "output_type": "display_data"
    },
    {
     "data": {
      "text/html": [
       "<pre>| 1418      | 42465.160454 | 0.415769      |</pre>"
      ],
      "text/plain": [
       "| 1418      | 42465.160454 | 0.415769      |"
      ]
     },
     "metadata": {},
     "output_type": "display_data"
    },
    {
     "data": {
      "text/html": [
       "<pre>| 1419      | 42496.031653 | 0.415753      |</pre>"
      ],
      "text/plain": [
       "| 1419      | 42496.031653 | 0.415753      |"
      ]
     },
     "metadata": {},
     "output_type": "display_data"
    },
    {
     "data": {
      "text/html": [
       "<pre>| 1420      | 42525.247207 | 0.415746      |</pre>"
      ],
      "text/plain": [
       "| 1420      | 42525.247207 | 0.415746      |"
      ]
     },
     "metadata": {},
     "output_type": "display_data"
    },
    {
     "data": {
      "text/html": [
       "<pre>| 1421      | 42555.680133 | 0.415736      |</pre>"
      ],
      "text/plain": [
       "| 1421      | 42555.680133 | 0.415736      |"
      ]
     },
     "metadata": {},
     "output_type": "display_data"
    },
    {
     "data": {
      "text/html": [
       "<pre>| 1422      | 42583.297065 | 0.415722      |</pre>"
      ],
      "text/plain": [
       "| 1422      | 42583.297065 | 0.415722      |"
      ]
     },
     "metadata": {},
     "output_type": "display_data"
    },
    {
     "data": {
      "text/html": [
       "<pre>| 1423      | 42611.887895 | 0.415718      |</pre>"
      ],
      "text/plain": [
       "| 1423      | 42611.887895 | 0.415718      |"
      ]
     },
     "metadata": {},
     "output_type": "display_data"
    },
    {
     "data": {
      "text/html": [
       "<pre>| 1424      | 42642.184912 | 0.415708      |</pre>"
      ],
      "text/plain": [
       "| 1424      | 42642.184912 | 0.415708      |"
      ]
     },
     "metadata": {},
     "output_type": "display_data"
    },
    {
     "data": {
      "text/html": [
       "<pre>| 1425      | 42671.732629 | 0.415689      |</pre>"
      ],
      "text/plain": [
       "| 1425      | 42671.732629 | 0.415689      |"
      ]
     },
     "metadata": {},
     "output_type": "display_data"
    },
    {
     "data": {
      "text/html": [
       "<pre>| 1426      | 42701.512188 | 0.415686      |</pre>"
      ],
      "text/plain": [
       "| 1426      | 42701.512188 | 0.415686      |"
      ]
     },
     "metadata": {},
     "output_type": "display_data"
    },
    {
     "data": {
      "text/html": [
       "<pre>| 1427      | 42731.806120 | 0.415676      |</pre>"
      ],
      "text/plain": [
       "| 1427      | 42731.806120 | 0.415676      |"
      ]
     },
     "metadata": {},
     "output_type": "display_data"
    },
    {
     "data": {
      "text/html": [
       "<pre>| 1428      | 42761.883031 | 0.415655      |</pre>"
      ],
      "text/plain": [
       "| 1428      | 42761.883031 | 0.415655      |"
      ]
     },
     "metadata": {},
     "output_type": "display_data"
    },
    {
     "data": {
      "text/html": [
       "<pre>| 1429      | 42792.209722 | 0.415635      |</pre>"
      ],
      "text/plain": [
       "| 1429      | 42792.209722 | 0.415635      |"
      ]
     },
     "metadata": {},
     "output_type": "display_data"
    },
    {
     "data": {
      "text/html": [
       "<pre>| 1430      | 42822.588072 | 0.415621      |</pre>"
      ],
      "text/plain": [
       "| 1430      | 42822.588072 | 0.415621      |"
      ]
     },
     "metadata": {},
     "output_type": "display_data"
    },
    {
     "data": {
      "text/html": [
       "<pre>| 1431      | 42852.426793 | 0.415609      |</pre>"
      ],
      "text/plain": [
       "| 1431      | 42852.426793 | 0.415609      |"
      ]
     },
     "metadata": {},
     "output_type": "display_data"
    },
    {
     "data": {
      "text/html": [
       "<pre>| 1432      | 42880.066562 | 0.415604      |</pre>"
      ],
      "text/plain": [
       "| 1432      | 42880.066562 | 0.415604      |"
      ]
     },
     "metadata": {},
     "output_type": "display_data"
    },
    {
     "data": {
      "text/html": [
       "<pre>| 1433      | 42910.358195 | 0.415597      |</pre>"
      ],
      "text/plain": [
       "| 1433      | 42910.358195 | 0.415597      |"
      ]
     },
     "metadata": {},
     "output_type": "display_data"
    },
    {
     "data": {
      "text/html": [
       "<pre>| 1434      | 42938.389001 | 0.415586      |</pre>"
      ],
      "text/plain": [
       "| 1434      | 42938.389001 | 0.415586      |"
      ]
     },
     "metadata": {},
     "output_type": "display_data"
    },
    {
     "data": {
      "text/html": [
       "<pre>| 1435      | 42967.495324 | 0.415579      |</pre>"
      ],
      "text/plain": [
       "| 1435      | 42967.495324 | 0.415579      |"
      ]
     },
     "metadata": {},
     "output_type": "display_data"
    },
    {
     "data": {
      "text/html": [
       "<pre>| 1436      | 42997.125972 | 0.415571      |</pre>"
      ],
      "text/plain": [
       "| 1436      | 42997.125972 | 0.415571      |"
      ]
     },
     "metadata": {},
     "output_type": "display_data"
    },
    {
     "data": {
      "text/html": [
       "<pre>| 1437      | 43025.909062 | 0.415551      |</pre>"
      ],
      "text/plain": [
       "| 1437      | 43025.909062 | 0.415551      |"
      ]
     },
     "metadata": {},
     "output_type": "display_data"
    },
    {
     "data": {
      "text/html": [
       "<pre>| 1438      | 43056.354035 | 0.415536      |</pre>"
      ],
      "text/plain": [
       "| 1438      | 43056.354035 | 0.415536      |"
      ]
     },
     "metadata": {},
     "output_type": "display_data"
    },
    {
     "data": {
      "text/html": [
       "<pre>| 1439      | 43087.493372 | 0.415523      |</pre>"
      ],
      "text/plain": [
       "| 1439      | 43087.493372 | 0.415523      |"
      ]
     },
     "metadata": {},
     "output_type": "display_data"
    },
    {
     "data": {
      "text/html": [
       "<pre>| 1440      | 43119.008017 | 0.415496      |</pre>"
      ],
      "text/plain": [
       "| 1440      | 43119.008017 | 0.415496      |"
      ]
     },
     "metadata": {},
     "output_type": "display_data"
    },
    {
     "data": {
      "text/html": [
       "<pre>| 1441      | 43149.364688 | 0.415487      |</pre>"
      ],
      "text/plain": [
       "| 1441      | 43149.364688 | 0.415487      |"
      ]
     },
     "metadata": {},
     "output_type": "display_data"
    },
    {
     "data": {
      "text/html": [
       "<pre>| 1442      | 43180.337844 | 0.415462      |</pre>"
      ],
      "text/plain": [
       "| 1442      | 43180.337844 | 0.415462      |"
      ]
     },
     "metadata": {},
     "output_type": "display_data"
    },
    {
     "data": {
      "text/html": [
       "<pre>| 1443      | 43210.848887 | 0.415447      |</pre>"
      ],
      "text/plain": [
       "| 1443      | 43210.848887 | 0.415447      |"
      ]
     },
     "metadata": {},
     "output_type": "display_data"
    },
    {
     "data": {
      "text/html": [
       "<pre>| 1444      | 43241.421792 | 0.415433      |</pre>"
      ],
      "text/plain": [
       "| 1444      | 43241.421792 | 0.415433      |"
      ]
     },
     "metadata": {},
     "output_type": "display_data"
    },
    {
     "data": {
      "text/html": [
       "<pre>| 1445      | 43273.054931 | 0.415409      |</pre>"
      ],
      "text/plain": [
       "| 1445      | 43273.054931 | 0.415409      |"
      ]
     },
     "metadata": {},
     "output_type": "display_data"
    },
    {
     "data": {
      "text/html": [
       "<pre>| 1446      | 43303.705737 | 0.415401      |</pre>"
      ],
      "text/plain": [
       "| 1446      | 43303.705737 | 0.415401      |"
      ]
     },
     "metadata": {},
     "output_type": "display_data"
    },
    {
     "data": {
      "text/html": [
       "<pre>| 1447      | 43332.757272 | 0.415393      |</pre>"
      ],
      "text/plain": [
       "| 1447      | 43332.757272 | 0.415393      |"
      ]
     },
     "metadata": {},
     "output_type": "display_data"
    },
    {
     "data": {
      "text/html": [
       "<pre>| 1448      | 43360.919982 | 0.415391      |</pre>"
      ],
      "text/plain": [
       "| 1448      | 43360.919982 | 0.415391      |"
      ]
     },
     "metadata": {},
     "output_type": "display_data"
    },
    {
     "data": {
      "text/html": [
       "<pre>| 1449      | 43391.545167 | 0.415386      |</pre>"
      ],
      "text/plain": [
       "| 1449      | 43391.545167 | 0.415386      |"
      ]
     },
     "metadata": {},
     "output_type": "display_data"
    },
    {
     "data": {
      "text/html": [
       "<pre>| 1450      | 43420.635673 | 0.415362      |</pre>"
      ],
      "text/plain": [
       "| 1450      | 43420.635673 | 0.415362      |"
      ]
     },
     "metadata": {},
     "output_type": "display_data"
    },
    {
     "data": {
      "text/html": [
       "<pre>| 1451      | 43451.920815 | 0.415345      |</pre>"
      ],
      "text/plain": [
       "| 1451      | 43451.920815 | 0.415345      |"
      ]
     },
     "metadata": {},
     "output_type": "display_data"
    },
    {
     "data": {
      "text/html": [
       "<pre>| 1452      | 43482.983569 | 0.415327      |</pre>"
      ],
      "text/plain": [
       "| 1452      | 43482.983569 | 0.415327      |"
      ]
     },
     "metadata": {},
     "output_type": "display_data"
    },
    {
     "data": {
      "text/html": [
       "<pre>| 1453      | 43512.810138 | 0.415315      |</pre>"
      ],
      "text/plain": [
       "| 1453      | 43512.810138 | 0.415315      |"
      ]
     },
     "metadata": {},
     "output_type": "display_data"
    },
    {
     "data": {
      "text/html": [
       "<pre>| 1454      | 43542.287045 | 0.415297      |</pre>"
      ],
      "text/plain": [
       "| 1454      | 43542.287045 | 0.415297      |"
      ]
     },
     "metadata": {},
     "output_type": "display_data"
    },
    {
     "data": {
      "text/html": [
       "<pre>| 1455      | 43573.202870 | 0.415281      |</pre>"
      ],
      "text/plain": [
       "| 1455      | 43573.202870 | 0.415281      |"
      ]
     },
     "metadata": {},
     "output_type": "display_data"
    },
    {
     "data": {
      "text/html": [
       "<pre>| 1456      | 43603.706509 | 0.415261      |</pre>"
      ],
      "text/plain": [
       "| 1456      | 43603.706509 | 0.415261      |"
      ]
     },
     "metadata": {},
     "output_type": "display_data"
    },
    {
     "data": {
      "text/html": [
       "<pre>| 1457      | 43633.602061 | 0.415247      |</pre>"
      ],
      "text/plain": [
       "| 1457      | 43633.602061 | 0.415247      |"
      ]
     },
     "metadata": {},
     "output_type": "display_data"
    },
    {
     "data": {
      "text/html": [
       "<pre>| 1458      | 43664.527716 | 0.415221      |</pre>"
      ],
      "text/plain": [
       "| 1458      | 43664.527716 | 0.415221      |"
      ]
     },
     "metadata": {},
     "output_type": "display_data"
    },
    {
     "data": {
      "text/html": [
       "<pre>| 1459      | 43694.631580 | 0.415212      |</pre>"
      ],
      "text/plain": [
       "| 1459      | 43694.631580 | 0.415212      |"
      ]
     },
     "metadata": {},
     "output_type": "display_data"
    },
    {
     "data": {
      "text/html": [
       "<pre>| 1460      | 43725.143907 | 0.415199      |</pre>"
      ],
      "text/plain": [
       "| 1460      | 43725.143907 | 0.415199      |"
      ]
     },
     "metadata": {},
     "output_type": "display_data"
    },
    {
     "data": {
      "text/html": [
       "<pre>| 1461      | 43755.747807 | 0.415173      |</pre>"
      ],
      "text/plain": [
       "| 1461      | 43755.747807 | 0.415173      |"
      ]
     },
     "metadata": {},
     "output_type": "display_data"
    },
    {
     "data": {
      "text/html": [
       "<pre>| 1462      | 43785.166418 | 0.415165      |</pre>"
      ],
      "text/plain": [
       "| 1462      | 43785.166418 | 0.415165      |"
      ]
     },
     "metadata": {},
     "output_type": "display_data"
    },
    {
     "data": {
      "text/html": [
       "<pre>| 1463      | 43814.534913 | 0.415158      |</pre>"
      ],
      "text/plain": [
       "| 1463      | 43814.534913 | 0.415158      |"
      ]
     },
     "metadata": {},
     "output_type": "display_data"
    },
    {
     "data": {
      "text/html": [
       "<pre>| 1464      | 43842.351267 | 0.415151      |</pre>"
      ],
      "text/plain": [
       "| 1464      | 43842.351267 | 0.415151      |"
      ]
     },
     "metadata": {},
     "output_type": "display_data"
    },
    {
     "data": {
      "text/html": [
       "<pre>| 1465      | 43871.993195 | 0.415143      |</pre>"
      ],
      "text/plain": [
       "| 1465      | 43871.993195 | 0.415143      |"
      ]
     },
     "metadata": {},
     "output_type": "display_data"
    },
    {
     "data": {
      "text/html": [
       "<pre>| 1466      | 43902.339022 | 0.415134      |</pre>"
      ],
      "text/plain": [
       "| 1466      | 43902.339022 | 0.415134      |"
      ]
     },
     "metadata": {},
     "output_type": "display_data"
    },
    {
     "data": {
      "text/html": [
       "<pre>| 1467      | 43931.743076 | 0.415125      |</pre>"
      ],
      "text/plain": [
       "| 1467      | 43931.743076 | 0.415125      |"
      ]
     },
     "metadata": {},
     "output_type": "display_data"
    },
    {
     "data": {
      "text/html": [
       "<pre>| 1468      | 43961.710322 | 0.415117      |</pre>"
      ],
      "text/plain": [
       "| 1468      | 43961.710322 | 0.415117      |"
      ]
     },
     "metadata": {},
     "output_type": "display_data"
    },
    {
     "data": {
      "text/html": [
       "<pre>| 1469      | 43992.856423 | 0.415108      |</pre>"
      ],
      "text/plain": [
       "| 1469      | 43992.856423 | 0.415108      |"
      ]
     },
     "metadata": {},
     "output_type": "display_data"
    },
    {
     "data": {
      "text/html": [
       "<pre>| 1470      | 44023.997036 | 0.415097      |</pre>"
      ],
      "text/plain": [
       "| 1470      | 44023.997036 | 0.415097      |"
      ]
     },
     "metadata": {},
     "output_type": "display_data"
    },
    {
     "data": {
      "text/html": [
       "<pre>| 1471      | 44053.547591 | 0.415076      |</pre>"
      ],
      "text/plain": [
       "| 1471      | 44053.547591 | 0.415076      |"
      ]
     },
     "metadata": {},
     "output_type": "display_data"
    },
    {
     "data": {
      "text/html": [
       "<pre>| 1472      | 44082.912800 | 0.415063      |</pre>"
      ],
      "text/plain": [
       "| 1472      | 44082.912800 | 0.415063      |"
      ]
     },
     "metadata": {},
     "output_type": "display_data"
    },
    {
     "data": {
      "text/html": [
       "<pre>| 1473      | 44112.306037 | 0.415047      |</pre>"
      ],
      "text/plain": [
       "| 1473      | 44112.306037 | 0.415047      |"
      ]
     },
     "metadata": {},
     "output_type": "display_data"
    },
    {
     "data": {
      "text/html": [
       "<pre>| 1474      | 44141.176352 | 0.415035      |</pre>"
      ],
      "text/plain": [
       "| 1474      | 44141.176352 | 0.415035      |"
      ]
     },
     "metadata": {},
     "output_type": "display_data"
    },
    {
     "data": {
      "text/html": [
       "<pre>| 1475      | 44170.698902 | 0.415016      |</pre>"
      ],
      "text/plain": [
       "| 1475      | 44170.698902 | 0.415016      |"
      ]
     },
     "metadata": {},
     "output_type": "display_data"
    },
    {
     "data": {
      "text/html": [
       "<pre>| 1476      | 44200.817366 | 0.414996      |</pre>"
      ],
      "text/plain": [
       "| 1476      | 44200.817366 | 0.414996      |"
      ]
     },
     "metadata": {},
     "output_type": "display_data"
    },
    {
     "data": {
      "text/html": [
       "<pre>| 1477      | 44228.478562 | 0.414988      |</pre>"
      ],
      "text/plain": [
       "| 1477      | 44228.478562 | 0.414988      |"
      ]
     },
     "metadata": {},
     "output_type": "display_data"
    },
    {
     "data": {
      "text/html": [
       "<pre>| 1478      | 44258.444542 | 0.414978      |</pre>"
      ],
      "text/plain": [
       "| 1478      | 44258.444542 | 0.414978      |"
      ]
     },
     "metadata": {},
     "output_type": "display_data"
    },
    {
     "data": {
      "text/html": [
       "<pre>| 1479      | 44287.901994 | 0.414961      |</pre>"
      ],
      "text/plain": [
       "| 1479      | 44287.901994 | 0.414961      |"
      ]
     },
     "metadata": {},
     "output_type": "display_data"
    },
    {
     "data": {
      "text/html": [
       "<pre>| 1480      | 44318.186570 | 0.414949      |</pre>"
      ],
      "text/plain": [
       "| 1480      | 44318.186570 | 0.414949      |"
      ]
     },
     "metadata": {},
     "output_type": "display_data"
    },
    {
     "data": {
      "text/html": [
       "<pre>| 1481      | 44349.108707 | 0.414935      |</pre>"
      ],
      "text/plain": [
       "| 1481      | 44349.108707 | 0.414935      |"
      ]
     },
     "metadata": {},
     "output_type": "display_data"
    },
    {
     "data": {
      "text/html": [
       "<pre>| 1482      | 44378.454843 | 0.414919      |</pre>"
      ],
      "text/plain": [
       "| 1482      | 44378.454843 | 0.414919      |"
      ]
     },
     "metadata": {},
     "output_type": "display_data"
    },
    {
     "data": {
      "text/html": [
       "<pre>| 1483      | 44405.738761 | 0.414908      |</pre>"
      ],
      "text/plain": [
       "| 1483      | 44405.738761 | 0.414908      |"
      ]
     },
     "metadata": {},
     "output_type": "display_data"
    },
    {
     "data": {
      "text/html": [
       "<pre>| 1484      | 44435.828876 | 0.414893      |</pre>"
      ],
      "text/plain": [
       "| 1484      | 44435.828876 | 0.414893      |"
      ]
     },
     "metadata": {},
     "output_type": "display_data"
    },
    {
     "data": {
      "text/html": [
       "<pre>| 1485      | 44466.074003 | 0.414884      |</pre>"
      ],
      "text/plain": [
       "| 1485      | 44466.074003 | 0.414884      |"
      ]
     },
     "metadata": {},
     "output_type": "display_data"
    },
    {
     "data": {
      "text/html": [
       "<pre>| 1486      | 44494.181940 | 0.414872      |</pre>"
      ],
      "text/plain": [
       "| 1486      | 44494.181940 | 0.414872      |"
      ]
     },
     "metadata": {},
     "output_type": "display_data"
    },
    {
     "data": {
      "text/html": [
       "<pre>| 1487      | 44523.424751 | 0.414865      |</pre>"
      ],
      "text/plain": [
       "| 1487      | 44523.424751 | 0.414865      |"
      ]
     },
     "metadata": {},
     "output_type": "display_data"
    },
    {
     "data": {
      "text/html": [
       "<pre>| 1488      | 44551.166571 | 0.414853      |</pre>"
      ],
      "text/plain": [
       "| 1488      | 44551.166571 | 0.414853      |"
      ]
     },
     "metadata": {},
     "output_type": "display_data"
    },
    {
     "data": {
      "text/html": [
       "<pre>| 1489      | 44579.770820 | 0.414839      |</pre>"
      ],
      "text/plain": [
       "| 1489      | 44579.770820 | 0.414839      |"
      ]
     },
     "metadata": {},
     "output_type": "display_data"
    },
    {
     "data": {
      "text/html": [
       "<pre>| 1490      | 44610.478503 | 0.414829      |</pre>"
      ],
      "text/plain": [
       "| 1490      | 44610.478503 | 0.414829      |"
      ]
     },
     "metadata": {},
     "output_type": "display_data"
    },
    {
     "data": {
      "text/html": [
       "<pre>| 1491      | 44639.759725 | 0.414819      |</pre>"
      ],
      "text/plain": [
       "| 1491      | 44639.759725 | 0.414819      |"
      ]
     },
     "metadata": {},
     "output_type": "display_data"
    },
    {
     "data": {
      "text/html": [
       "<pre>| 1492      | 44670.328733 | 0.414810      |</pre>"
      ],
      "text/plain": [
       "| 1492      | 44670.328733 | 0.414810      |"
      ]
     },
     "metadata": {},
     "output_type": "display_data"
    },
    {
     "data": {
      "text/html": [
       "<pre>| 1493      | 44701.786363 | 0.414788      |</pre>"
      ],
      "text/plain": [
       "| 1493      | 44701.786363 | 0.414788      |"
      ]
     },
     "metadata": {},
     "output_type": "display_data"
    },
    {
     "data": {
      "text/html": [
       "<pre>| 1494      | 44731.181725 | 0.414782      |</pre>"
      ],
      "text/plain": [
       "| 1494      | 44731.181725 | 0.414782      |"
      ]
     },
     "metadata": {},
     "output_type": "display_data"
    },
    {
     "data": {
      "text/html": [
       "<pre>| 1495      | 44762.802201 | 0.414768      |</pre>"
      ],
      "text/plain": [
       "| 1495      | 44762.802201 | 0.414768      |"
      ]
     },
     "metadata": {},
     "output_type": "display_data"
    },
    {
     "data": {
      "text/html": [
       "<pre>| 1496      | 44791.656872 | 0.414752      |</pre>"
      ],
      "text/plain": [
       "| 1496      | 44791.656872 | 0.414752      |"
      ]
     },
     "metadata": {},
     "output_type": "display_data"
    },
    {
     "data": {
      "text/html": [
       "<pre>| 1497      | 44820.151722 | 0.414742      |</pre>"
      ],
      "text/plain": [
       "| 1497      | 44820.151722 | 0.414742      |"
      ]
     },
     "metadata": {},
     "output_type": "display_data"
    },
    {
     "data": {
      "text/html": [
       "<pre>| 1498      | 44852.176491 | 0.414723      |</pre>"
      ],
      "text/plain": [
       "| 1498      | 44852.176491 | 0.414723      |"
      ]
     },
     "metadata": {},
     "output_type": "display_data"
    },
    {
     "data": {
      "text/html": [
       "<pre>| 1499      | 44881.295810 | 0.414705      |</pre>"
      ],
      "text/plain": [
       "| 1499      | 44881.295810 | 0.414705      |"
      ]
     },
     "metadata": {},
     "output_type": "display_data"
    },
    {
     "data": {
      "text/html": [
       "<pre>| 1500      | 44910.451968 | 0.414691      |</pre>"
      ],
      "text/plain": [
       "| 1500      | 44910.451968 | 0.414691      |"
      ]
     },
     "metadata": {},
     "output_type": "display_data"
    },
    {
     "data": {
      "text/html": [
       "<pre>Checkpointing to /home/zongyi/bimbo_data/model_checkpoint_1500</pre>"
      ],
      "text/plain": [
       "Checkpointing to /home/zongyi/bimbo_data/model_checkpoint_1500"
      ]
     },
     "metadata": {},
     "output_type": "display_data"
    },
    {
     "data": {
      "text/html": [
       "<pre>+-----------+--------------+---------------+</pre>"
      ],
      "text/plain": [
       "+-----------+--------------+---------------+"
      ]
     },
     "metadata": {},
     "output_type": "display_data"
    }
   ],
   "source": [
    "# Make a train-test split\n",
    "# train_data, test_data = train.random_split(0.999)\n",
    "\n",
    "# Create a model.\n",
    "model = gl.boosted_trees_regression.create(train, target='Demada_log',\n",
    "                                           step_size=0.1,\n",
    "                                           max_iterations=1500,\n",
    "                                           max_depth = 10,\n",
    "                                          metric='rmse',\n",
    "                                          random_seed=998,\n",
    "                                          column_subsample=0.5,\n",
    "                                          row_subsample=0.85,\n",
    "                                          validation_set=None,\n",
    "                                          model_checkpoint_path=path,\n",
    "                                          model_checkpoint_interval=1500)\n"
   ]
  },
  {
   "cell_type": "code",
   "execution_count": 18,
   "metadata": {
    "collapsed": true
   },
   "outputs": [
    {
     "data": {
      "text/html": [
       "<pre>WARNING: Detected extremely low variance for feature(s) 'Semana' because all entries are nearly the same.\n",
       "Proceeding with model training using all features. If the model does not provide results of adequate quality, exclude the above mentioned feature(s) from the input dataset.</pre>"
      ],
      "text/plain": [
       "WARNING: Detected extremely low variance for feature(s) 'Semana' because all entries are nearly the same.\n",
       "Proceeding with model training using all features. If the model does not provide results of adequate quality, exclude the above mentioned feature(s) from the input dataset."
      ]
     },
     "metadata": {},
     "output_type": "display_data"
    },
    {
     "data": {
      "text/html": [
       "<pre>Resuming from checkpoint at /home/zongyi/bimbo_data/model_checkpoint_1000_w8</pre>"
      ],
      "text/plain": [
       "Resuming from checkpoint at /home/zongyi/bimbo_data/model_checkpoint_1000_w8"
      ]
     },
     "metadata": {},
     "output_type": "display_data"
    },
    {
     "data": {
      "text/html": [
       "<pre>Boosted trees regression:</pre>"
      ],
      "text/plain": [
       "Boosted trees regression:"
      ]
     },
     "metadata": {},
     "output_type": "display_data"
    },
    {
     "data": {
      "text/html": [
       "<pre>--------------------------------------------------------</pre>"
      ],
      "text/plain": [
       "--------------------------------------------------------"
      ]
     },
     "metadata": {},
     "output_type": "display_data"
    },
    {
     "data": {
      "text/html": [
       "<pre>Number of examples          : 10396388</pre>"
      ],
      "text/plain": [
       "Number of examples          : 10396388"
      ]
     },
     "metadata": {},
     "output_type": "display_data"
    },
    {
     "data": {
      "text/html": [
       "<pre>Number of features          : 24</pre>"
      ],
      "text/plain": [
       "Number of features          : 24"
      ]
     },
     "metadata": {},
     "output_type": "display_data"
    },
    {
     "data": {
      "text/html": [
       "<pre>Number of unpacked features : 24</pre>"
      ],
      "text/plain": [
       "Number of unpacked features : 24"
      ]
     },
     "metadata": {},
     "output_type": "display_data"
    },
    {
     "data": {
      "text/html": [
       "<pre>Resumed training from checkpoint at iteration 1000 which is greater than or equal to max_iterations 1000</pre>"
      ],
      "text/plain": [
       "Resumed training from checkpoint at iteration 1000 which is greater than or equal to max_iterations 1000"
      ]
     },
     "metadata": {},
     "output_type": "display_data"
    }
   ],
   "source": [
    "# '''resume_from_checkpoint'''\n",
    "\n",
    "# train_data, test_data = train.random_split(0.999)\n",
    "\n",
    "# model = gl.boosted_trees_regression.create(train_data, target='Demada_log',\n",
    "#                                            step_size=0.1,\n",
    "#                                            max_iterations=1000,\n",
    "#                                            max_depth = 10,\n",
    "#                                           metric='rmse',\n",
    "#                                           random_seed=461,\n",
    "#                                           column_subsample=0.75,\n",
    "#                                           row_subsample=0.85,\n",
    "#                                           validation_set=test_data,\n",
    "#                                           resume_from_checkpoint=path+'model_checkpoint_1000_w8',\n",
    "#                                            model_checkpoint_path=path,\n",
    "#                                           model_checkpoint_interval=1000)"
   ]
  },
  {
   "cell_type": "code",
   "execution_count": 9,
   "metadata": {
    "collapsed": false
   },
   "outputs": [
    {
     "data": {
      "text/html": [
       "<div style=\"max-height:1000px;max-width:1500px;overflow:auto;\"><table frame=\"box\" rules=\"cols\">\n",
       "    <tr>\n",
       "        <th style=\"padding-left: 1em; padding-right: 1em; text-align: center\">id</th>\n",
       "        <th style=\"padding-left: 1em; padding-right: 1em; text-align: center\">name</th>\n",
       "        <th style=\"padding-left: 1em; padding-right: 1em; text-align: center\">index</th>\n",
       "        <th style=\"padding-left: 1em; padding-right: 1em; text-align: center\">count</th>\n",
       "    </tr>\n",
       "    <tr>\n",
       "        <td style=\"padding-left: 1em; padding-right: 1em; text-align: center; vertical-align: top\">0</td>\n",
       "        <td style=\"padding-left: 1em; padding-right: 1em; text-align: center; vertical-align: top\">Cliente_ID</td>\n",
       "        <td style=\"padding-left: 1em; padding-right: 1em; text-align: center; vertical-align: top\">None</td>\n",
       "        <td style=\"padding-left: 1em; padding-right: 1em; text-align: center; vertical-align: top\">102246</td>\n",
       "    </tr>\n",
       "    <tr>\n",
       "        <td style=\"padding-left: 1em; padding-right: 1em; text-align: center; vertical-align: top\">1</td>\n",
       "        <td style=\"padding-left: 1em; padding-right: 1em; text-align: center; vertical-align: top\">Ruta_SAK</td>\n",
       "        <td style=\"padding-left: 1em; padding-right: 1em; text-align: center; vertical-align: top\">None</td>\n",
       "        <td style=\"padding-left: 1em; padding-right: 1em; text-align: center; vertical-align: top\">87104</td>\n",
       "    </tr>\n",
       "    <tr>\n",
       "        <td style=\"padding-left: 1em; padding-right: 1em; text-align: center; vertical-align: top\">2</td>\n",
       "        <td style=\"padding-left: 1em; padding-right: 1em; text-align: center; vertical-align: top\">n_c</td>\n",
       "        <td style=\"padding-left: 1em; padding-right: 1em; text-align: center; vertical-align: top\">None</td>\n",
       "        <td style=\"padding-left: 1em; padding-right: 1em; text-align: center; vertical-align: top\">67164</td>\n",
       "    </tr>\n",
       "    <tr>\n",
       "        <td style=\"padding-left: 1em; padding-right: 1em; text-align: center; vertical-align: top\">3</td>\n",
       "        <td style=\"padding-left: 1em; padding-right: 1em; text-align: center; vertical-align: top\">n_r</td>\n",
       "        <td style=\"padding-left: 1em; padding-right: 1em; text-align: center; vertical-align: top\">None</td>\n",
       "        <td style=\"padding-left: 1em; padding-right: 1em; text-align: center; vertical-align: top\">64885</td>\n",
       "    </tr>\n",
       "    <tr>\n",
       "        <td style=\"padding-left: 1em; padding-right: 1em; text-align: center; vertical-align: top\">4</td>\n",
       "        <td style=\"padding-left: 1em; padding-right: 1em; text-align: center; vertical-align: top\">lag1</td>\n",
       "        <td style=\"padding-left: 1em; padding-right: 1em; text-align: center; vertical-align: top\">None</td>\n",
       "        <td style=\"padding-left: 1em; padding-right: 1em; text-align: center; vertical-align: top\">56340</td>\n",
       "    </tr>\n",
       "    <tr>\n",
       "        <td style=\"padding-left: 1em; padding-right: 1em; text-align: center; vertical-align: top\">5</td>\n",
       "        <td style=\"padding-left: 1em; padding-right: 1em; text-align: center; vertical-align: top\">tp_sum</td>\n",
       "        <td style=\"padding-left: 1em; padding-right: 1em; text-align: center; vertical-align: top\">None</td>\n",
       "        <td style=\"padding-left: 1em; padding-right: 1em; text-align: center; vertical-align: top\">53893</td>\n",
       "    </tr>\n",
       "    <tr>\n",
       "        <td style=\"padding-left: 1em; padding-right: 1em; text-align: center; vertical-align: top\">6</td>\n",
       "        <td style=\"padding-left: 1em; padding-right: 1em; text-align: center; vertical-align: top\">lag2</td>\n",
       "        <td style=\"padding-left: 1em; padding-right: 1em; text-align: center; vertical-align: top\">None</td>\n",
       "        <td style=\"padding-left: 1em; padding-right: 1em; text-align: center; vertical-align: top\">50728</td>\n",
       "    </tr>\n",
       "    <tr>\n",
       "        <td style=\"padding-left: 1em; padding-right: 1em; text-align: center; vertical-align: top\">7</td>\n",
       "        <td style=\"padding-left: 1em; padding-right: 1em; text-align: center; vertical-align: top\">Agencia_ID</td>\n",
       "        <td style=\"padding-left: 1em; padding-right: 1em; text-align: center; vertical-align: top\">None</td>\n",
       "        <td style=\"padding-left: 1em; padding-right: 1em; text-align: center; vertical-align: top\">49199</td>\n",
       "    </tr>\n",
       "    <tr>\n",
       "        <td style=\"padding-left: 1em; padding-right: 1em; text-align: center; vertical-align: top\">8</td>\n",
       "        <td style=\"padding-left: 1em; padding-right: 1em; text-align: center; vertical-align: top\">Producto_ID</td>\n",
       "        <td style=\"padding-left: 1em; padding-right: 1em; text-align: center; vertical-align: top\">None</td>\n",
       "        <td style=\"padding-left: 1em; padding-right: 1em; text-align: center; vertical-align: top\">48514</td>\n",
       "    </tr>\n",
       "    <tr>\n",
       "        <td style=\"padding-left: 1em; padding-right: 1em; text-align: center; vertical-align: top\">9</td>\n",
       "        <td style=\"padding-left: 1em; padding-right: 1em; text-align: center; vertical-align: top\">lag3</td>\n",
       "        <td style=\"padding-left: 1em; padding-right: 1em; text-align: center; vertical-align: top\">None</td>\n",
       "        <td style=\"padding-left: 1em; padding-right: 1em; text-align: center; vertical-align: top\">46807</td>\n",
       "    </tr>\n",
       "</table>\n",
       "[25 rows x 4 columns]<br/>Note: Only the head of the SFrame is printed.<br/>You can use print_rows(num_rows=m, num_columns=n) to print more rows and columns.\n",
       "</div>"
      ],
      "text/plain": [
       "Columns:\n",
       "\tid\tint\n",
       "\tname\tstr\n",
       "\tindex\tstr\n",
       "\tcount\tint\n",
       "\n",
       "Rows: 25\n",
       "\n",
       "Data:\n",
       "+----+-------------+-------+--------+\n",
       "| id |     name    | index | count  |\n",
       "+----+-------------+-------+--------+\n",
       "| 0  |  Cliente_ID |  None | 102246 |\n",
       "| 1  |   Ruta_SAK  |  None | 87104  |\n",
       "| 2  |     n_c     |  None | 67164  |\n",
       "| 3  |     n_r     |  None | 64885  |\n",
       "| 4  |     lag1    |  None | 56340  |\n",
       "| 5  |    tp_sum   |  None | 53893  |\n",
       "| 6  |     lag2    |  None | 50728  |\n",
       "| 7  |  Agencia_ID |  None | 49199  |\n",
       "| 8  | Producto_ID |  None | 48514  |\n",
       "| 9  |     lag3    |  None | 46807  |\n",
       "+----+-------------+-------+--------+\n",
       "[25 rows x 4 columns]\n",
       "Note: Only the head of the SFrame is printed.\n",
       "You can use print_rows(num_rows=m, num_columns=n) to print more rows and columns."
      ]
     },
     "execution_count": 9,
     "metadata": {},
     "output_type": "execute_result"
    }
   ],
   "source": [
    "'''feature important'''\n",
    "w = model.get_feature_importance()\n",
    "w = w.add_row_number()\n",
    "w"
   ]
  },
  {
   "cell_type": "code",
   "execution_count": 32,
   "metadata": {
    "collapsed": false
   },
   "outputs": [
    {
     "data": {
      "text/plain": [
       "(array([ 0,  1,  2,  3,  4,  5,  6,  7,  8,  9, 10, 11, 12, 13, 14, 15, 16,\n",
       "        17, 18, 19, 20, 21, 22, 23, 24]),\n",
       " <a list of 25 Text xticklabel objects>)"
      ]
     },
     "execution_count": 32,
     "metadata": {},
     "output_type": "execute_result"
    },
    {
     "data": {
      "image/png": "[encoded data removed]",
      "text/plain": [
       "<matplotlib.figure.Figure at 0x7efdeda8b850>"
      ]
     },
     "metadata": {},
     "output_type": "display_data"
    }
   ],
   "source": [
    "from IPython.core.pylabtools import figsize\n",
    "import numpy as np\n",
    "from matplotlib import pyplot as plt\n",
    "import seaborn as sns\n",
    "sns.set_style('darkgrid', {'grid.color': '.8','grid.linestyle': u'--'}) \n",
    "%matplotlib inline\n",
    "\n",
    "figsize(12, 6)\n",
    "plt.bar(w['id'], w['count'], tick_label=w['name'])\n",
    "\n",
    "plt.xticks(rotation=45)\n"
   ]
  },
  {
   "cell_type": "code",
   "execution_count": 23,
   "metadata": {
    "collapsed": false
   },
   "outputs": [
    {
     "data": {
      "text/plain": [
       "(0.4, 0.5)"
      ]
     },
     "execution_count": 23,
     "metadata": {},
     "output_type": "execute_result"
    },
    {
     "data": {
      "image/png": "[encoded data removed]",
      "text/plain": [
       "<matplotlib.figure.Figure at 0x7efded9cbc50>"
      ]
     },
     "metadata": {},
     "output_type": "display_data"
    }
   ],
   "source": [
    "from IPython.core.pylabtools import figsize\n",
    "import numpy as np\n",
    "from matplotlib import pyplot as plt\n",
    "import seaborn as sns\n",
    "sns.set_style('darkgrid', {'grid.color': '.8','grid.linestyle': u'--'}) \n",
    "%matplotlib inline\n",
    "\n",
    "figsize(16, 6)\n",
    "plt.scatter(model.progress['Iteration'], model.progress['Training-rmse'],alpha=.5)\n",
    "plt.ylim(.4,.5)\n",
    "# plt.xticks(rotation=45)"
   ]
  },
  {
   "cell_type": "code",
   "execution_count": 16,
   "metadata": {
    "collapsed": false
   },
   "outputs": [
    {
     "name": "stdout",
     "output_type": "stream",
     "text": [
      "{'max_error': 5.325312852859497, 'rmse': 0.42764513831793416}\n"
     ]
    }
   ],
   "source": [
    "# Save predictions to an SArray\n",
    "# predictions = model.predict(train)\n",
    "\n",
    "# Evaluate the model and save the results into a dictionary\n",
    "\n",
    "# results = model.evaluate(train)\n",
    "# print results\n"
   ]
  },
  {
   "cell_type": "markdown",
   "metadata": {
    "collapsed": true
   },
   "source": [
    "## predict"
   ]
  },
  {
   "cell_type": "code",
   "execution_count": 24,
   "metadata": {
    "collapsed": true
   },
   "outputs": [],
   "source": [
    "test = gl.SFrame.read_csv(path + 'test_fs_w9.csv', verbose=False)\n",
    "# test = test.join(town, on=['Agencia_ID','Producto_ID'], how='left')\n",
    "# del test['Town']\n",
    "# test = test.fillna('t_c',1)\n",
    "# test = test.fillna('tcc',0)\n",
    "# test = test.fillna('tp_sum',0)"
   ]
  },
  {
   "cell_type": "code",
   "execution_count": 26,
   "metadata": {
    "collapsed": false
   },
   "outputs": [],
   "source": [
    "\n",
    "del test['Canal_ID']\n",
    "del test['lag_sum']\n",
    "del test['prior_sum']\n",
    "\n",
    "del test['n_t']\n",
    "del test['prom']\n",
    "del test['brand']\n",
    "del test['healthy']\n",
    "del test['drink']"
   ]
  },
  {
   "cell_type": "code",
   "execution_count": 27,
   "metadata": {
    "collapsed": false
   },
   "outputs": [
    {
     "name": "stdout",
     "output_type": "stream",
     "text": [
      "['id', 'Semana', 'Agencia_ID', 'Ruta_SAK', 'Cliente_ID', 'Producto_ID', 'lag1', 'lag2', 'lag3', 'lag4', 'lag5', 'week_times', 'n_a', 'n_r', 'n_c', 'n_p', 'Town', 't_c', 'tcc', 'tp_sum', 're_sum', 'p_clt', 'weight', 'pieces', 'w_per_piece', 'price', 'c_clt']\n",
      "27\n"
     ]
    }
   ],
   "source": [
    "print test.column_names()\n",
    "print len(test.column_names())"
   ]
  },
  {
   "cell_type": "code",
   "execution_count": 28,
   "metadata": {
    "collapsed": true
   },
   "outputs": [],
   "source": [
    "'''Add feature to week 11'''\n",
    "def feature_w11(test, lag_sum=0, prior_sum=0):\n",
    "    test_full = test.copy()\n",
    "    ids = test['id']\n",
    "    del test['id']\n",
    "    del test['Semana']\n",
    "    demand_log = model.predict(test)\n",
    "    sub1 = gl.SFrame({'id':ids,'Demanda_uni_equil':demand_log})\n",
    "    test_full = test_full.join(sub1,on=['id'],how='left')\n",
    "    lag11 = test_full.groupby(key_columns=['Semana','Cliente_ID','Producto_ID'], operations={'lag11':agg.MEAN('Demanda_uni_equil')})\n",
    "    lag11['Semana'] = lag11['Semana'].apply(lambda x: x+1)\n",
    "    test_full = test_full.join(lag11,on=['Semana','Cliente_ID','Producto_ID'],how='left')\n",
    "    test_full = test_full.fillna('lag11',0)\n",
    "    test_full['lag1'] = test_full['lag1'] + test_full['lag11']\n",
    "    \n",
    "    if lag_sum == 1:\n",
    "        test_full['lag_sum'] = test_full['lag_sum'] + test_full['lag11']\n",
    "        \n",
    "    if prior_sum == 1:\n",
    "        lag_sum11 = test_full.groupby(key_columns=['Semana','Cliente_ID','Producto_ID'], operations={'lag_sum11':agg.SUM('Demanda_uni_equil')})\n",
    "        lag_sum11['Semana'] = lag_sum11['Semana'].apply(lambda x: x+1)\n",
    "        test_full = test_full.join(lag_sum11,on=['Semana','Cliente_ID','Producto_ID'],how='left')\n",
    "        test_full = test_full.fillna('lag_sum11',0)\n",
    "        test_full['prior_sum'] = test_full['prior_sum'] + test_full['lag_sum11']\n",
    "        del test_full['lag_sum11']\n",
    "\n",
    "    del test_full['lag11']\n",
    "    del test_full['Demanda_uni_equil']\n",
    "    return test_full"
   ]
  },
  {
   "cell_type": "code",
   "execution_count": 29,
   "metadata": {
    "collapsed": true
   },
   "outputs": [],
   "source": [
    "test_full = feature_w11(test, lag_sum=0, prior_sum=0)\n",
    "\n",
    "ids = test_full['id']\n",
    "del test_full['id']\n",
    "del test_full['Semana']\n",
    "demand_log = model.predict(test_full)\n",
    "sub = gl.SFrame({'id':ids,'Demanda_uni_equil':demand_log})"
   ]
  },
  {
   "cell_type": "code",
   "execution_count": 30,
   "metadata": {
    "collapsed": false
   },
   "outputs": [],
   "source": [
    "import math\n",
    "sub['Demanda_uni_equil'] = sub['Demanda_uni_equil'].apply(lambda x: math.expm1(max(0, x)))"
   ]
  },
  {
   "cell_type": "code",
   "execution_count": 31,
   "metadata": {
    "collapsed": true
   },
   "outputs": [],
   "source": [
    "file_name = 'w9'+'_f'+str(model.num_features)+'_n'+str(model.max_iterations)+'_c'+str(model.column_subsample)\n",
    "sub.save(path + file_name,format='csv')"
   ]
  },
  {
   "cell_type": "code",
   "execution_count": 56,
   "metadata": {
    "collapsed": false
   },
   "outputs": [
    {
     "data": {
      "text/html": [
       "<div style=\"max-height:1000px;max-width:1500px;overflow:auto;\"><table frame=\"box\" rules=\"cols\">\n",
       "    <tr>\n",
       "        <th style=\"padding-left: 1em; padding-right: 1em; text-align: center\">Demanda_uni_equil</th>\n",
       "        <th style=\"padding-left: 1em; padding-right: 1em; text-align: center\">id</th>\n",
       "    </tr>\n",
       "    <tr>\n",
       "        <td style=\"padding-left: 1em; padding-right: 1em; text-align: center; vertical-align: top\">3.44166957171</td>\n",
       "        <td style=\"padding-left: 1em; padding-right: 1em; text-align: center; vertical-align: top\">4721633</td>\n",
       "    </tr>\n",
       "    <tr>\n",
       "        <td style=\"padding-left: 1em; padding-right: 1em; text-align: center; vertical-align: top\">1.85704603627</td>\n",
       "        <td style=\"padding-left: 1em; padding-right: 1em; text-align: center; vertical-align: top\">6035419</td>\n",
       "    </tr>\n",
       "    <tr>\n",
       "        <td style=\"padding-left: 1em; padding-right: 1em; text-align: center; vertical-align: top\">1.66017810641</td>\n",
       "        <td style=\"padding-left: 1em; padding-right: 1em; text-align: center; vertical-align: top\">3462602</td>\n",
       "    </tr>\n",
       "    <tr>\n",
       "        <td style=\"padding-left: 1em; padding-right: 1em; text-align: center; vertical-align: top\">2.07406741465</td>\n",
       "        <td style=\"padding-left: 1em; padding-right: 1em; text-align: center; vertical-align: top\">855102</td>\n",
       "    </tr>\n",
       "    <tr>\n",
       "        <td style=\"padding-left: 1em; padding-right: 1em; text-align: center; vertical-align: top\">9.65243960287</td>\n",
       "        <td style=\"padding-left: 1em; padding-right: 1em; text-align: center; vertical-align: top\">3242700</td>\n",
       "    </tr>\n",
       "    <tr>\n",
       "        <td style=\"padding-left: 1em; padding-right: 1em; text-align: center; vertical-align: top\">12.1227423306</td>\n",
       "        <td style=\"padding-left: 1em; padding-right: 1em; text-align: center; vertical-align: top\">2421613</td>\n",
       "    </tr>\n",
       "    <tr>\n",
       "        <td style=\"padding-left: 1em; padding-right: 1em; text-align: center; vertical-align: top\">3.56680995819</td>\n",
       "        <td style=\"padding-left: 1em; padding-right: 1em; text-align: center; vertical-align: top\">1573296</td>\n",
       "    </tr>\n",
       "    <tr>\n",
       "        <td style=\"padding-left: 1em; padding-right: 1em; text-align: center; vertical-align: top\">6.66333331862</td>\n",
       "        <td style=\"padding-left: 1em; padding-right: 1em; text-align: center; vertical-align: top\">1619375</td>\n",
       "    </tr>\n",
       "    <tr>\n",
       "        <td style=\"padding-left: 1em; padding-right: 1em; text-align: center; vertical-align: top\">1.67583492502</td>\n",
       "        <td style=\"padding-left: 1em; padding-right: 1em; text-align: center; vertical-align: top\">3539201</td>\n",
       "    </tr>\n",
       "    <tr>\n",
       "        <td style=\"padding-left: 1em; padding-right: 1em; text-align: center; vertical-align: top\">8.6226952164</td>\n",
       "        <td style=\"padding-left: 1em; padding-right: 1em; text-align: center; vertical-align: top\">1631781</td>\n",
       "    </tr>\n",
       "</table>\n",
       "[6999251 rows x 2 columns]<br/>Note: Only the head of the SFrame is printed.<br/>You can use print_rows(num_rows=m, num_columns=n) to print more rows and columns.\n",
       "</div>"
      ],
      "text/plain": [
       "Columns:\n",
       "\tDemanda_uni_equil\tfloat\n",
       "\tid\tint\n",
       "\n",
       "Rows: 6999251\n",
       "\n",
       "Data:\n",
       "+-------------------+---------+\n",
       "| Demanda_uni_equil |    id   |\n",
       "+-------------------+---------+\n",
       "|   3.44166957171   | 4721633 |\n",
       "|   1.85704603627   | 6035419 |\n",
       "|   1.66017810641   | 3462602 |\n",
       "|   2.07406741465   |  855102 |\n",
       "|   9.65243960287   | 3242700 |\n",
       "|   12.1227423306   | 2421613 |\n",
       "|   3.56680995819   | 1573296 |\n",
       "|   6.66333331862   | 1619375 |\n",
       "|   1.67583492502   | 3539201 |\n",
       "|    8.6226952164   | 1631781 |\n",
       "+-------------------+---------+\n",
       "[6999251 rows x 2 columns]\n",
       "Note: Only the head of the SFrame is printed.\n",
       "You can use print_rows(num_rows=m, num_columns=n) to print more rows and columns."
      ]
     },
     "execution_count": 56,
     "metadata": {},
     "output_type": "execute_result"
    }
   ],
   "source": [
    "sub"
   ]
  }
 ],
 "metadata": {
  "kernelspec": {
   "display_name": "Python 2",
   "language": "python",
   "name": "python2"
  },
  "language_info": {
   "codemirror_mode": {
    "name": "ipython",
    "version": 2
   },
   "file_extension": ".py",
   "mimetype": "text/x-python",
   "name": "python",
   "nbconvert_exporter": "python",
   "pygments_lexer": "ipython2",
   "version": "2.7.6"
  }
 },
 "nbformat": 4,
 "nbformat_minor": 0
}
