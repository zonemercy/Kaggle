{
 "cells": [
  {
   "cell_type": "code",
   "execution_count": 1,
   "metadata": {
    "collapsed": true
   },
   "outputs": [],
   "source": [
    "import pandas as pd\n",
    "import matplotlib.pyplot as plt\n",
    "import numpy as np\n",
    "%matplotlib inline\n",
    "train = pd.read_csv('train.csv')\n",
    "#test = pd.read_csv('test.csv')"
   ]
  },
  {
   "cell_type": "code",
   "execution_count": 2,
   "metadata": {
    "collapsed": false
   },
   "outputs": [],
   "source": [
    "train['Demanda_uni_equil_log'] = np.log1p(train['Demanda_uni_equil'])"
   ]
  },
  {
   "cell_type": "code",
   "execution_count": 3,
   "metadata": {
    "collapsed": false
   },
   "outputs": [],
   "source": [
    "test['pred'] = np.nan"
   ]
  },
  {
   "cell_type": "code",
   "execution_count": 4,
   "metadata": {
    "collapsed": false
   },
   "outputs": [],
   "source": [
    "mean_prod = train.groupby(['Producto_ID'])['Demanda_uni_equil_log'].mean().reset_index()\n",
    "mean_prod_agenc_client = train.groupby(['Producto_ID', 'Agencia_ID', 'Cliente_ID'])['Demanda_uni_equil_log'].mean().reset_index()\n",
    "mean_prod_ruta = train.groupby(['Producto_ID', 'Ruta_SAK'])['Demanda_uni_equil_log'].mean().reset_index()"
   ]
  },
  {
   "cell_type": "code",
   "execution_count": 5,
   "metadata": {
    "collapsed": false
   },
   "outputs": [],
   "source": [
    "test = pd.merge(test, mean_prod, how='left', on=['Producto_ID'])\n",
    "test.rename(columns={'Demanda_uni_equil_log': 'prod'}, inplace=True)\n",
    "test = pd.merge(test, mean_prod_ruta, how='left', on=['Producto_ID', 'Ruta_SAK'])\n",
    "test.rename(columns={'Demanda_uni_equil_log': 'prod_ruta'}, inplace=True)\n",
    "test = pd.merge(test, mean_prod_agenc_client, how='left', on=['Producto_ID', 'Agencia_ID', 'Cliente_ID'])\n",
    "test.rename(columns={'Demanda_uni_equil_log': 'prod_age_cli'}, inplace=True)"
   ]
  },
  {
   "cell_type": "code",
   "execution_count": 8,
   "metadata": {
    "collapsed": false
   },
   "outputs": [],
   "source": [
    "np.expm1(test[['prod', 'prod_ruta', 'prod_age_cli']].mean(axis=1)).to_csv('sub1.csv')"
   ]
  },
  {
   "cell_type": "code",
   "execution_count": 34,
   "metadata": {
    "collapsed": false
   },
   "outputs": [],
   "source": [
    "submission = []\n",
    "for row in test.iterrows():\n",
    "    if np.isnan(row[1]['prod_age_cli']):\n",
    "        if np.isnan(row[1]['prod_ruta']):\n",
    "            if np.isnan(row[1]['prod']):\n",
    "                submission.append(1)\n",
    "            else:\n",
    "                submission.append(row[1]['prod']) \n",
    "        else:\n",
    "            submission.append(row[1]['prod_ruta'])\n",
    "    else:\n",
    "        submission.append(row[1]['prod_age_cli'])"
   ]
  },
  {
   "cell_type": "code",
   "execution_count": 28,
   "metadata": {
    "collapsed": false
   },
   "outputs": [],
   "source": [
    "(0.91*np.expm1(pd.Series(submission))).to_csv('sub2.csv')"
   ]
  },
  {
   "cell_type": "code",
   "execution_count": 35,
   "metadata": {
    "collapsed": true
   },
   "outputs": [],
   "source": [
    "mean_pred = np.expm1(test[['prod', 'prod_ruta', 'prod_age_cli']].mean(axis=1))\n",
    "order_pred = 0.91*np.expm1(pd.Series(submission))"
   ]
  },
  {
   "cell_type": "code",
   "execution_count": 36,
   "metadata": {
    "collapsed": false
   },
   "outputs": [],
   "source": [
    "order_pred.fillna(1).to_csv('sub2.csv')"
   ]
  },
  {
   "cell_type": "code",
   "execution_count": 33,
   "metadata": {
    "collapsed": false
   },
   "outputs": [],
   "source": [
    "def RMSLE_score(pred, true, inds):\n",
    "    score = 0\n",
    "    for ind in inds:\n",
    "        score += (np.log1p(pred[ind]) - np.log1p(true[ind]))**2\n",
    "    score = np.sqrt(score/len(inds))\n",
    "    return score"
   ]
  },
  {
   "cell_type": "code",
   "execution_count": 56,
   "metadata": {
    "collapsed": false
   },
   "outputs": [
    {
     "data": {
      "text/plain": [
       "0.48417830792395533"
      ]
     },
     "execution_count": 56,
     "metadata": {},
     "output_type": "execute_result"
    }
   ],
   "source": [
    "inds = np.random.choice(range(len(train)), int(0.01*len(train)))\n",
    "RMSLE_score(0.9*ptrain, train['Demanda_uni_equil'].values, inds)"
   ]
  },
  {
   "cell_type": "code",
   "execution_count": 32,
   "metadata": {
    "collapsed": false
   },
   "outputs": [],
   "source": [
    "mean_prod_agenc_client = train.groupby(['Producto_ID', 'Agencia_ID', 'Cliente_ID'])['Demanda_uni_equil_log'].mean()"
   ]
  },
  {
   "cell_type": "code",
   "execution_count": 46,
   "metadata": {
    "collapsed": false
   },
   "outputs": [],
   "source": [
    "ruta = train.groupby(['Producto_ID', 'Ruta_SAK'])['Demanda_uni_equil_log'].mean()"
   ]
  },
  {
   "cell_type": "code",
   "execution_count": 25,
   "metadata": {
    "collapsed": false
   },
   "outputs": [
    {
     "data": {
      "text/plain": [
       "0          1.609438\n",
       "1          1.006477\n",
       "2          1.098612\n",
       "3          1.059591\n",
       "4          1.310750\n",
       "5          1.460676\n",
       "6          0.828302\n",
       "7          1.892663\n",
       "8          1.907352\n",
       "9          1.953121\n",
       "10         2.246999\n",
       "11         1.098612\n",
       "12         1.629048\n",
       "13         2.293817\n",
       "14         1.177221\n",
       "15         1.716351\n",
       "16         0.982927\n",
       "17         1.133732\n",
       "18         0.895880\n",
       "19         1.609438\n",
       "20         1.940755\n",
       "21         2.499225\n",
       "22         2.469455\n",
       "23         0.965939\n",
       "24         0.693147\n",
       "25         2.113276\n",
       "26         1.267526\n",
       "27         1.806634\n",
       "28         0.693147\n",
       "29         0.693147\n",
       "             ...   \n",
       "6999221    1.373032\n",
       "6999222    1.310437\n",
       "6999223    1.703766\n",
       "6999224    0.895880\n",
       "6999225    2.596058\n",
       "6999226    1.464816\n",
       "6999227    1.984002\n",
       "6999228    1.229845\n",
       "6999229    1.415922\n",
       "6999230    4.286372\n",
       "6999231    1.098612\n",
       "6999232    1.364782\n",
       "6999233    0.972206\n",
       "6999234    0.822406\n",
       "6999235    1.916859\n",
       "6999236    1.010298\n",
       "6999237    1.395786\n",
       "6999238    1.945910\n",
       "6999239    1.975122\n",
       "6999240    0.693147\n",
       "6999241    0.693147\n",
       "6999242    0.908015\n",
       "6999243    2.197225\n",
       "6999244    3.835320\n",
       "6999245    2.238668\n",
       "6999246    1.242453\n",
       "6999247    1.051499\n",
       "6999248    1.373387\n",
       "6999249    1.242453\n",
       "6999250    0.346574\n",
       "dtype: float64"
      ]
     },
     "execution_count": 25,
     "metadata": {},
     "output_type": "execute_result"
    }
   ],
   "source": [
    "pd.Series(submission)"
   ]
  },
  {
   "cell_type": "code",
   "execution_count": 6,
   "metadata": {
    "collapsed": false
   },
   "outputs": [
    {
     "data": {
      "text/plain": [
       "array([ 1212,  1216,  1238, ..., 35441, 35442, 42192], dtype=int64)"
      ]
     },
     "execution_count": 6,
     "metadata": {},
     "output_type": "execute_result"
    }
   ],
   "source": [
    "train['Producto_ID'].unique()"
   ]
  },
  {
   "cell_type": "code",
   "execution_count": null,
   "metadata": {
    "collapsed": true
   },
   "outputs": [],
   "source": []
  }
 ],
 "metadata": {
  "kernelspec": {
   "display_name": "Python [Root]",
   "language": "python",
   "name": "Python [Root]"
  },
  "language_info": {
   "codemirror_mode": {
    "name": "ipython",
    "version": 2
   },
   "file_extension": ".py",
   "mimetype": "text/x-python",
   "name": "python",
   "nbconvert_exporter": "python",
   "pygments_lexer": "ipython2",
   "version": "2.7.12"
  }
 },
 "nbformat": 4,
 "nbformat_minor": 0
}
