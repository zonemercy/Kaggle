{
 "cells": [
  {
   "cell_type": "code",
   "execution_count": 1,
   "metadata": {
    "collapsed": false
   },
   "outputs": [],
   "source": [
    "import pandas as pd\n",
    "import numpy as np\n",
    "import os\n",
    "import math\n",
    "import graphlab\n",
    "import graphlab as gl\n",
    "import graphlab.aggregate as agg"
   ]
  },
  {
   "cell_type": "code",
   "execution_count": 2,
   "metadata": {
    "collapsed": false
   },
   "outputs": [
    {
     "name": "stderr",
     "output_type": "stream",
     "text": [
      "/usr/local/lib/python2.7/dist-packages/requests/packages/urllib3/util/ssl_.py:315: SNIMissingWarning: An HTTPS request has been made, but the SNI (Subject Name Indication) extension to TLS is not available on this platform. This may cause the server to present an incorrect TLS certificate, which can cause validation failures. For more information, see https://urllib3.readthedocs.org/en/latest/security.html#snimissingwarning.\n",
      "  SNIMissingWarning\n",
      "/usr/local/lib/python2.7/dist-packages/requests/packages/urllib3/util/ssl_.py:120: InsecurePlatformWarning: A true SSLContext object is not available. This prevents urllib3 from configuring SSL appropriately and may cause certain SSL connections to fail. For more information, see https://urllib3.readthedocs.org/en/latest/security.html#insecureplatformwarning.\n",
      "  InsecurePlatformWarning\n",
      "[INFO] graphlab.cython.cy_server: GraphLab Create v2.0.1 started. Logging: /tmp/graphlab_server_1472162610.log\n"
     ]
    },
    {
     "name": "stdout",
     "output_type": "stream",
     "text": [
      "This non-commercial license of GraphLab Create for academic use is assigned to zong-yi.liu@irit.fr and will expire on July 13, 2017.\n"
     ]
    }
   ],
   "source": [
    "'''钢炮'''\n",
    "path = '/home/zongyi/bimbo_data/'\n",
    "sf = gl.SFrame.read_csv(path + 'train.csv', verbose=False)\n",
    "# town = gl.SFrame.read_csv(path + 'town_state.csv', verbose=False)"
   ]
  },
  {
   "cell_type": "code",
   "execution_count": 125,
   "metadata": {
    "collapsed": true
   },
   "outputs": [],
   "source": [
    "'''MAC'''\n",
    "path = '/Users/zonemercy/jupyter_notebook/bimbo_data/'\n",
    "sf = gl.SFrame.read_csv(path + 'train.csv', verbose=False)\n",
    "# town = gl.SFrame.read_csv(path + 'town_state.csv', verbose=False)"
   ]
  },
  {
   "cell_type": "code",
   "execution_count": 3,
   "metadata": {
    "collapsed": false
   },
   "outputs": [
    {
     "ename": "NameError",
     "evalue": "name 'town' is not defined",
     "output_type": "error",
     "traceback": [
      "\u001b[1;31m---------------------------------------------------------------------------\u001b[0m",
      "\u001b[1;31mNameError\u001b[0m                                 Traceback (most recent call last)",
      "\u001b[1;32m<ipython-input-3-fad060748b3c>\u001b[0m in \u001b[0;36m<module>\u001b[1;34m()\u001b[0m\n\u001b[1;32m----> 1\u001b[1;33m \u001b[0mt1\u001b[0m \u001b[1;33m=\u001b[0m \u001b[0mtown\u001b[0m\u001b[1;33m.\u001b[0m\u001b[0mgroupby\u001b[0m\u001b[1;33m(\u001b[0m\u001b[0mkey_columns\u001b[0m\u001b[1;33m=\u001b[0m\u001b[1;33m[\u001b[0m\u001b[1;34m'Town'\u001b[0m\u001b[1;33m]\u001b[0m\u001b[1;33m,\u001b[0m \u001b[0moperations\u001b[0m\u001b[1;33m=\u001b[0m\u001b[1;33m{\u001b[0m\u001b[1;34m't_c'\u001b[0m\u001b[1;33m:\u001b[0m \u001b[0magg\u001b[0m\u001b[1;33m.\u001b[0m\u001b[0mCOUNT\u001b[0m\u001b[1;33m(\u001b[0m\u001b[1;34m'Agencia_ID'\u001b[0m\u001b[1;33m)\u001b[0m\u001b[1;33m}\u001b[0m\u001b[1;33m)\u001b[0m\u001b[1;33m\u001b[0m\u001b[0m\n\u001b[0m\u001b[0;32m      2\u001b[0m \u001b[0mtown\u001b[0m \u001b[1;33m=\u001b[0m \u001b[0mtown\u001b[0m\u001b[1;33m.\u001b[0m\u001b[0mjoin\u001b[0m\u001b[1;33m(\u001b[0m\u001b[0mt1\u001b[0m\u001b[1;33m,\u001b[0m \u001b[0mon\u001b[0m\u001b[1;33m=\u001b[0m\u001b[1;34m'Town'\u001b[0m\u001b[1;33m,\u001b[0m \u001b[0mhow\u001b[0m\u001b[1;33m=\u001b[0m\u001b[1;34m'left'\u001b[0m\u001b[1;33m)\u001b[0m\u001b[1;33m\u001b[0m\u001b[0m\n\u001b[0;32m      3\u001b[0m \u001b[0mtown\u001b[0m \u001b[1;33m=\u001b[0m \u001b[0mtown\u001b[0m\u001b[1;33m[\u001b[0m\u001b[1;34m'Agencia_ID'\u001b[0m\u001b[1;33m,\u001b[0m\u001b[1;34m'Town'\u001b[0m\u001b[1;33m,\u001b[0m\u001b[1;34m't_c'\u001b[0m\u001b[1;33m]\u001b[0m\u001b[1;33m\u001b[0m\u001b[0m\n\u001b[0;32m      4\u001b[0m \u001b[1;32mdel\u001b[0m \u001b[0mt1\u001b[0m\u001b[1;33m\u001b[0m\u001b[0m\n",
      "\u001b[1;31mNameError\u001b[0m: name 'town' is not defined"
     ]
    }
   ],
   "source": [
    "t1 = town.groupby(key_columns=['Town'], operations={'t_c': agg.COUNT('Agencia_ID')})\n",
    "town = town.join(t1, on='Town', how='left')\n",
    "town = town['Agencia_ID','Town','t_c']\n",
    "del t1"
   ]
  },
  {
   "cell_type": "code",
   "execution_count": null,
   "metadata": {
    "collapsed": false
   },
   "outputs": [],
   "source": [
    "sf = sf.join(town,on='Agencia_ID',how='left')"
   ]
  },
  {
   "cell_type": "code",
   "execution_count": 8,
   "metadata": {
    "collapsed": false
   },
   "outputs": [
    {
     "name": "stdout",
     "output_type": "stream",
     "text": [
      "+------------+-------------------------+-----+\n",
      "| Agencia_ID |           Town          | t_c |\n",
      "+------------+-------------------------+-----+\n",
      "|    1110    |    2008 AG. LAGO FILT   |  4  |\n",
      "|    1111    |  2002 AG. AZCAPOTZALCO  |  4  |\n",
      "|    1112    |   2004 AG. CUAUTITLAN   |  4  |\n",
      "|    1113    |    2008 AG. LAGO FILT   |  4  |\n",
      "|    1114    |   2029 AG.IZTAPALAPA 2  |  6  |\n",
      "|    1116    |   2011 AG. SAN ANTONIO  |  7  |\n",
      "|    1117    |    2001 AG. ATIZAPAN    |  5  |\n",
      "|    1118    |    2007 AG. LA VILLA    |  3  |\n",
      "|    1119    | 2013 AG. MEGA NAUCALPAN |  8  |\n",
      "|    1120    |  2018 AG. TEPALCATES 2  |  4  |\n",
      "+------------+-------------------------+-----+\n",
      "[10 rows x 3 columns]\n",
      "\n"
     ]
    }
   ],
   "source": [
    "print town.head()"
   ]
  },
  {
   "cell_type": "code",
   "execution_count": 9,
   "metadata": {
    "collapsed": false
   },
   "outputs": [
    {
     "name": "stdout",
     "output_type": "stream",
     "text": [
      "251\n"
     ]
    },
    {
     "data": {
      "text/html": [
       "<div style=\"max-height:1000px;max-width:1500px;overflow:auto;\"><table frame=\"box\" rules=\"cols\">\n",
       "    <tr>\n",
       "        <th style=\"padding-left: 1em; padding-right: 1em; text-align: center\">Town</th>\n",
       "        <th style=\"padding-left: 1em; padding-right: 1em; text-align: center\">tcc</th>\n",
       "    </tr>\n",
       "    <tr>\n",
       "        <td style=\"padding-left: 1em; padding-right: 1em; text-align: center; vertical-align: top\">2089 AG. AZCAPOTZALCO<br>INSTITUCIONALES ...</td>\n",
       "        <td style=\"padding-left: 1em; padding-right: 1em; text-align: center; vertical-align: top\">0</td>\n",
       "    </tr>\n",
       "    <tr>\n",
       "        <td style=\"padding-left: 1em; padding-right: 1em; text-align: center; vertical-align: top\">2145 Cruce De Anden Norte</td>\n",
       "        <td style=\"padding-left: 1em; padding-right: 1em; text-align: center; vertical-align: top\">13</td>\n",
       "    </tr>\n",
       "    <tr>\n",
       "        <td style=\"padding-left: 1em; padding-right: 1em; text-align: center; vertical-align: top\">2152 Cruce De Anden<br>Noroeste ...</td>\n",
       "        <td style=\"padding-left: 1em; padding-right: 1em; text-align: center; vertical-align: top\">17</td>\n",
       "    </tr>\n",
       "    <tr>\n",
       "        <td style=\"padding-left: 1em; padding-right: 1em; text-align: center; vertical-align: top\">2169 Cruce De Andén<br>Sureste ...</td>\n",
       "        <td style=\"padding-left: 1em; padding-right: 1em; text-align: center; vertical-align: top\">32</td>\n",
       "    </tr>\n",
       "    <tr>\n",
       "        <td style=\"padding-left: 1em; padding-right: 1em; text-align: center; vertical-align: top\">2116 Cruce De Anden<br>Región Mexico ...</td>\n",
       "        <td style=\"padding-left: 1em; padding-right: 1em; text-align: center; vertical-align: top\">41</td>\n",
       "    </tr>\n",
       "    <tr>\n",
       "        <td style=\"padding-left: 1em; padding-right: 1em; text-align: center; vertical-align: top\">2655 LOS MOCHIS</td>\n",
       "        <td style=\"padding-left: 1em; padding-right: 1em; text-align: center; vertical-align: top\">51</td>\n",
       "    </tr>\n",
       "    <tr>\n",
       "        <td style=\"padding-left: 1em; padding-right: 1em; text-align: center; vertical-align: top\">2081 NAUCALPAN II</td>\n",
       "        <td style=\"padding-left: 1em; padding-right: 1em; text-align: center; vertical-align: top\">129</td>\n",
       "    </tr>\n",
       "    <tr>\n",
       "        <td style=\"padding-left: 1em; padding-right: 1em; text-align: center; vertical-align: top\">2410 CANCUN II</td>\n",
       "        <td style=\"padding-left: 1em; padding-right: 1em; text-align: center; vertical-align: top\">146</td>\n",
       "    </tr>\n",
       "    <tr>\n",
       "        <td style=\"padding-left: 1em; padding-right: 1em; text-align: center; vertical-align: top\">2647 BLM_AG. CAMPESINOS<br>AUTOSERVICI ...</td>\n",
       "        <td style=\"padding-left: 1em; padding-right: 1em; text-align: center; vertical-align: top\">152</td>\n",
       "    </tr>\n",
       "    <tr>\n",
       "        <td style=\"padding-left: 1em; padding-right: 1em; text-align: center; vertical-align: top\">2472 OJINAGA</td>\n",
       "        <td style=\"padding-left: 1em; padding-right: 1em; text-align: center; vertical-align: top\">156</td>\n",
       "    </tr>\n",
       "</table>\n",
       "[257 rows x 2 columns]<br/>Note: Only the head of the SFrame is printed.<br/>You can use print_rows(num_rows=m, num_columns=n) to print more rows and columns.\n",
       "</div>"
      ],
      "text/plain": [
       "Columns:\n",
       "\tTown\tstr\n",
       "\ttcc\tint\n",
       "\n",
       "Rows: 257\n",
       "\n",
       "Data:\n",
       "+-------------------------------+-----+\n",
       "|              Town             | tcc |\n",
       "+-------------------------------+-----+\n",
       "| 2089 AG. AZCAPOTZALCO INST... |  0  |\n",
       "|   2145 Cruce De Anden Norte   |  13 |\n",
       "|  2152 Cruce De Anden Noroeste |  17 |\n",
       "|  2169 Cruce De Andén Sureste  |  32 |\n",
       "| 2116 Cruce De Anden Región... |  41 |\n",
       "|        2655 LOS MOCHIS        |  51 |\n",
       "|       2081 NAUCALPAN II       | 129 |\n",
       "|         2410 CANCUN II        | 146 |\n",
       "| 2647 BLM_AG. CAMPESINOS AU... | 152 |\n",
       "|          2472 OJINAGA         | 156 |\n",
       "+-------------------------------+-----+\n",
       "[257 rows x 2 columns]\n",
       "Note: Only the head of the SFrame is printed.\n",
       "You can use print_rows(num_rows=m, num_columns=n) to print more rows and columns."
      ]
     },
     "execution_count": 9,
     "metadata": {},
     "output_type": "execute_result"
    }
   ],
   "source": [
    "tcc = sf.groupby(key_columns=['Town'], operations={'tcc':agg.COUNT('Cliente_ID')})\n",
    "tcc['tcc'] = tcc['tcc']/100\n",
    "tcc['tcc']=tcc['tcc'].astype(int)\n",
    "print len(tcc['tcc'].unique())\n",
    "tcc.sort('tcc')#,ascending=False)"
   ]
  },
  {
   "cell_type": "code",
   "execution_count": 10,
   "metadata": {
    "collapsed": false
   },
   "outputs": [],
   "source": [
    "# sf = sf.join(tcc,on='Town',how='left')\n",
    "town = town.join(tcc,on='Town',how='left')"
   ]
  },
  {
   "cell_type": "code",
   "execution_count": 11,
   "metadata": {
    "collapsed": false
   },
   "outputs": [
    {
     "name": "stdout",
     "output_type": "stream",
     "text": [
      "+------------+-------------------------+-----+------+\n",
      "| Agencia_ID |           Town          | t_c | tcc  |\n",
      "+------------+-------------------------+-----+------+\n",
      "|    1110    |    2008 AG. LAGO FILT   |  4  | 3275 |\n",
      "|    1111    |  2002 AG. AZCAPOTZALCO  |  4  | 4750 |\n",
      "|    1112    |   2004 AG. CUAUTITLAN   |  4  | 3834 |\n",
      "|    1113    |    2008 AG. LAGO FILT   |  4  | 3275 |\n",
      "|    1114    |   2029 AG.IZTAPALAPA 2  |  6  | 3679 |\n",
      "|    1116    |   2011 AG. SAN ANTONIO  |  7  | 7781 |\n",
      "|    1117    |    2001 AG. ATIZAPAN    |  5  | 7784 |\n",
      "|    1118    |    2007 AG. LA VILLA    |  3  | 6445 |\n",
      "|    1119    | 2013 AG. MEGA NAUCALPAN |  8  | 8144 |\n",
      "|    1120    |  2018 AG. TEPALCATES 2  |  4  | 5094 |\n",
      "+------------+-------------------------+-----+------+\n",
      "[790 rows x 4 columns]\n",
      "Note: Only the head of the SFrame is printed.\n",
      "You can use print_rows(num_rows=m, num_columns=n) to print more rows and columns.\n"
     ]
    }
   ],
   "source": [
    "print town"
   ]
  },
  {
   "cell_type": "markdown",
   "metadata": {},
   "source": [
    "### tp_sum"
   ]
  },
  {
   "cell_type": "code",
   "execution_count": 12,
   "metadata": {
    "collapsed": false
   },
   "outputs": [],
   "source": [
    "sf['Demada_log'] = sf['Demanda_uni_equil'].apply(lambda x: math.log(x+1))\n",
    "\n",
    "tp_sum = sf.groupby(key_columns=['Town','Producto_ID'], operations={'tp_sum':agg.SUM('Demada_log')})"
   ]
  },
  {
   "cell_type": "code",
   "execution_count": 13,
   "metadata": {
    "collapsed": true
   },
   "outputs": [],
   "source": [
    "town = town.join(tp_sum,on=['Town'],how='left')"
   ]
  },
  {
   "cell_type": "code",
   "execution_count": 14,
   "metadata": {
    "collapsed": false
   },
   "outputs": [],
   "source": [
    "sf = sf.join(tp_sum,on=['Town','Producto_ID'],how='left')"
   ]
  },
  {
   "cell_type": "code",
   "execution_count": 19,
   "metadata": {
    "collapsed": false
   },
   "outputs": [
    {
     "name": "stdout",
     "output_type": "stream",
     "text": [
      "+------------+------+-----+------+-------------+---------------+\n",
      "| Agencia_ID | Town | t_c | tcc  | Producto_ID |     tp_sum    |\n",
      "+------------+------+-----+------+-------------+---------------+\n",
      "|   22187    |  84  |  1  | 3041 |    34768    | 177.708346361 |\n",
      "|    1164    |  26  |  5  | 7154 |    48893    | 1542.84943441 |\n",
      "|    1177    |  26  |  5  | 7154 |    48893    | 1542.84943441 |\n",
      "|    1220    |  26  |  5  | 7154 |    48893    | 1542.84943441 |\n",
      "|    1262    |  26  |  5  | 7154 |    48893    | 1542.84943441 |\n",
      "|   20489    |  26  |  5  | 7154 |    48893    | 1542.84943441 |\n",
      "|    1253    |  76  |  5  | 1266 |    33267    | 54.2948354786 |\n",
      "|    2011    |  76  |  5  | 1266 |    33267    | 54.2948354786 |\n",
      "|    2061    |  76  |  5  | 1266 |    33267    | 54.2948354786 |\n",
      "|    2095    |  76  |  5  | 1266 |    33267    | 54.2948354786 |\n",
      "+------------+------+-----+------+-------------+---------------+\n",
      "[234840 rows x 6 columns]\n",
      "Note: Only the head of the SFrame is printed.\n",
      "You can use print_rows(num_rows=m, num_columns=n) to print more rows and columns.\n"
     ]
    }
   ],
   "source": [
    "print town"
   ]
  },
  {
   "cell_type": "code",
   "execution_count": 18,
   "metadata": {
    "collapsed": false,
    "scrolled": true
   },
   "outputs": [
    {
     "name": "stdout",
     "output_type": "stream",
     "text": [
      "['2001 AG. ATIZAPAN' '2002 AG. AZCAPOTZALCO' '2003 AG. COACALCO'\n",
      " '2004 AG. CUAUTITLAN' '2007 AG. LA VILLA' '2008 AG. LAGO FILT'\n",
      " '2010 AG. LOS REYES' '2011 AG. SAN ANTONIO' '2013 AG. MEGA NAUCALPAN'\n",
      " '2014 AG. NEZA' '2015 AG. ROJO GOMEZ' '2016 AG. SAN LORENZO'\n",
      " '2017 AG. SANTA CLARA' '2018 AG. TEPALCATES 2' '2019 AG. XALOSTOC'\n",
      " '2021 AG. XOCHIMILCO 2' '2027 AG. VALLEJO' '2029 AG.IZTAPALAPA 2'\n",
      " '2031 AG. PANTITLAN' '2032 AG. SANTA LUCIA' '2034 ACAPULCO COSTERA'\n",
      " '2036 APIZACO MARINELA' '2040 AG. CENTRO' '2041 AG. TULTITLAN'\n",
      " '2042 AG. TEPOZOTLAN' '2044 CUERNAVACA BUENAVISTA' '2048 AG. IXTAPALUCA 1'\n",
      " '2049 AG. IZTAPALAPA 1' '2050 AG. MIXCOAC' '2053 OAXACA MARINELA'\n",
      " '2055 Pinotepa' '2056 PUEBLA NORTE MARINELA' '2057 PUEBLA SUR MARINELA'\n",
      " '2059 QUERETARO BALVANERA' '2059 Queretaro Balvanera'\n",
      " '2063 TEHUACAN MARINELA' '2064 AG. TEPALCATES 1' '2065 TOLUCA CENTRO'\n",
      " '2066 TOLUCA PONIENTE' '2070 AG. XOCHIMILCO 1' '2078 AG. TEXCOCO'\n",
      " '2080 TEXCOCO WONDER' '2081 NAUCALPAN II' '2083 AZCAPOTZALCO II MARINELA'\n",
      " '2087 AG. TIZAYUCA' '2088 AG. CEYLAN'\n",
      " '2089 AG. AZCAPOTZALCO INSTITUCIONALES' '2090 AG. TEPEJI DEL RIO'\n",
      " '2092 AG. SANTA CLARA AUTOSERVICIOS' '2094 CHALCO_BM'\n",
      " '2116 Cruce De Anden Regi\\xc3\\xb3n Mexico' '2145 Cruce De Anden Norte'\n",
      " '2151 ACAPULCO ESCENICA' '2152 ALTAMIRANO_BM'\n",
      " '2152 Cruce De Anden Noroeste' '2153 APATZINGAN' '2154 ATLACOMULCO'\n",
      " '2155 CELAYA NORPONIENTE' '2156 CELAYA INDUSTRIAL WONDER' '2157 CUAUTLA'\n",
      " '2158 CUERNAVACA CIVAC' '2159 CHILPANCINGO' '2160 IGUALA'\n",
      " '2161 IRAPUATO GUADALUPE' '2162 JOJUTLA_BM' '2163 LA PIEDAD'\n",
      " '2164 LAZARO CARDENAS' '2165 LEON SAN JUAN BOSCO' '2167 MORELIA LA HUERTA'\n",
      " '2168 MORELIA ABASTOS' '2169 Cruce De And\\xc3\\xa9n Sureste'\n",
      " '2169 PINOTEPA' '2170 PUERTO ESCONDIDO' '2171 QUERETARO SAN PABLO'\n",
      " '2173 SAN JUAN DEL RIO' '2174 SAN MIGUEL DE ALLENDE'\n",
      " '2175 TOLUCA AEROPUERTO' '2176 TOLUCA SAN ANTONIO' '2177 AGENCIA SUANDY'\n",
      " '2178 URIANGATO' '2179 URUAPAN' '2181 ZIHUATANEJO' '2182 ZITACUARO'\n",
      " '2186 LAGOS DE MORENO' '2187 SALAMANCA' '2188 MARAVATIO'\n",
      " '2189 ACAPULCO SAN ISIDRO' '2190 BI_SAN FRANCISCO DEL RINCON'\n",
      " '2251 AGUASCALIENTES NORTE' '2252 AGUASCALIENTES SIGLO XXI'\n",
      " '2253 ATOTONILCO' '2254 AUTLAN_BM' '2255 CD GUZMAN' '2256 CD. MANTE'\n",
      " '2257 CD. VALLES' '2258 COLIMA BIMBO' '2259 FRESNILLO BIMBO'\n",
      " '2260 GONZALEZ GALLO' '2262 LA PE\\xc3\\x91ITA' '2263 LIBERTAD'\n",
      " '2264 MANZANILLO BIMBO' '2265 MATEHUALA BIMBO' '2267 OCOTLAN BIMBO'\n",
      " '2268 PALOMAR' '2269 PUERTO VALLARTA BIMBO' '2271 RIO VERDE BIMBO'\n",
      " '2272 SAN LUIS REY' '2273 SAN PEDRO' '2274 TEPATITLAN BIMBO'\n",
      " '2275 TEPIC BIMBO' '2276 WONDER LA RAZA' '2277 ZACATECAS BIMBO'\n",
      " '2278 ZAPOPAN BIMBO' '2279 ACAPONETA' '2285 CD. CONSTITUCION'\n",
      " '2288 CULIACAN BIMBO' '2289 CULIACAN MARINELA' '2290 DURANGO BIMBO'\n",
      " '2293 GRANJAS MARINELA' '2294 GUADALAJARA' '2296 IRAPUATO SAN MIGUELITO'\n",
      " '2297 LA PAZ' '2300 LEON MILENIUM' '2301 CUBILETE' '2304 MARIANO OTERO_MM'\n",
      " '2305 MAZATLAN BIMBO' '2306 MAZATLAN MARINELA' '2309 NORTE'\n",
      " '2310 NUEVO IDEAL' '2313 SAN JOSE DEL CABO' '2314 SAN LUCAS'\n",
      " '2315 SAN LUIS POTOSI MARINELA' '2316 SANTA ROSALIA'\n",
      " '2321 ZACATECAS MARINELA' '2322 ZAMORA MADERO' '2325 TECOMAN'\n",
      " '2328 SANTIAGO IXCUINTLA' '2329 AG.HUEJUTLA' '2330 TLAQUEPARQUE'\n",
      " '2352 CORDOBA' '2353 HUAJUAPAN' '2354 ISLA' '2355 JALAPA I'\n",
      " '2358 MARTINEZ DE LA TORRE' '2359 AG.MIXQUIAHUALA' '2360 OAXACA BIMBO'\n",
      " '2361 ORIZABA' '2362 AG.PACHUCA' '2363 POZA RICA'\n",
      " '2364 PUEBLA NORTE BIMBO' '2365 PUEBLA SUR BIMBO' '2366 SAN ANDRES'\n",
      " '2367 SAN MARTIN T.' '2368 TAMPICO BIMBO' '2370 TEZIUTLAN'\n",
      " '2371 TIERRA BLANCA' '2372 AG.TULANCINGO' '2373 TUXPAM' '2374 TUXTEPEC'\n",
      " '2375 VERACRUZ NORTE' '2376 CONVENIENCIA VERACRUZ SUR'\n",
      " '2377 VERACRUZ SUR MLA' '2378 ACAYUCAN' '2379 ARRIAGA_BM' '2380 CAMPECHE'\n",
      " '2381 CANCUN_BM' '2382 CARDENAS' '2384 CIUDAD DEL CARMEN'\n",
      " '2386 COATZACOALCOS MLA.' '2387 COZUMEL' '2388 CHETUMAL'\n",
      " '2389 EMILIANO ZAPATA' '2390 INDUSTRIAL' '2391 IXTEPEC'\n",
      " '2392 MERIDA NORTE' '2393 MERIDA SUR' '2394 MINATITLAN'\n",
      " '2395 PLAYA DEL CARMEN' '2396 RUIZ CORTINEZ' '2397 SALINA CRUZ'\n",
      " '2398 SAN CRISTOBAL' '2399 TAPACHULA' '2401 TEKAX' '2402 TUXTLA'\n",
      " '2404 VALLADOLID' '2407 TEPEACA' '2408 ESCARCEGA' '2410 CANCUN II'\n",
      " '2411 COMITAN' '2412 APAN' '2413 CIUDAD SERD\\xc3\\x81N'\n",
      " '2414 IZUCAR DE MATAMOROS' '2415 JUXTLAHUACA' '2416 PACHUCA II'\n",
      " '2417 ZACATLAN' '2418 COMALCALCO' '2451 ACU\\xc3\\x91A' '2453 CASAS GRANDES'\n",
      " '2454 CUAHUTEMOC' '2455 CHIHUAHUA BIMBO' '2457 DELICIAS BIMBO'\n",
      " '2458 GOMEZ PALACIO BIMBO' '2461 HIDALGO BIMBO' '2462 JUAREZ BIMBO'\n",
      " '2465 LAREDO' '2466 LINARES' '2467 LINCOLN' '2468 MATAMOROS BIMBO'\n",
      " '2469 MONCLOVA BIMBO' '2472 OJINAGA' '2473 PARRAL BIMBO'\n",
      " '2474 PIEDRAS NEGRAS' '2475 REYNOSA BIMBO' '2476 SABINAS'\n",
      " '2477 SALTILLO BIMBO' '2478 SAN NICOLAS' '2479 SANTA CATARINA BIMBO'\n",
      " '2480 VICTORIA BIMBO' '2481 WONDER GUERRERO' '2485 CHIHUAHUA MARINELA'\n",
      " '2487 AEROPUERTO' '2488 JUAREZ' '2493 MITRAS' '2496 LA FE'\n",
      " '2499 REYNOSA MARINELA' '2502 SALTILLO MARINELA' '2504 TAMPICO MARINELA'\n",
      " '2505 TORREON' '2515 CAVAZOS' '2516 ESCOBEDO' '2517 SENDERO AUTOSERVICIO'\n",
      " '2520 HERMOSILLO SUR' '2551 AGUA PRIETA' '2552 CABORCA' '2553 CANANEA'\n",
      " '2554 CD. OBREGON' '2555 ENSENADA II' '2556 GUAMUCHIL' '2557 BW_GUASAVE'\n",
      " '2558 GUAYMAS' '2560 LAS TORRES' '2561 LOS MOCHIS' '2562 MEXICALI PLAZA'\n",
      " '2563 MEXICALI PONIENTE' '2564 MOCTEZUMA' '2565 NAVOJOA' '2566 NOGALES_BW'\n",
      " '2567 PUERTO PE\\xc3\\x91ASCO' '2568 SAN LUIS R.C.'\n",
      " '2569 SAN QUINT\\xc3\\x8dN' '2570 SANTA ANA' '2571 TECATE'\n",
      " '2572 TIJUANA EL FLORIDO' '2573 TIJUANA GATO BRONCO'\n",
      " '2574 TIJUANA PACIFICO' '2575 TIJUANA ROSARITO' '2576 GUERRERO NEGRO'\n",
      " '2647 BLM_AG. CAMPESINOS AUTOSERVICI' '2655 LOS MOCHIS'\n",
      " '3216 NUEVO LAREDO']\n"
     ]
    }
   ],
   "source": [
    "from sklearn import preprocessing\n",
    "le = preprocessing.LabelEncoder()\n",
    "le.fit(town['Town'])\n",
    "\n",
    "print le.classes_\n",
    "\n",
    "town['Town'] = le.transform(town['Town']) "
   ]
  },
  {
   "cell_type": "code",
   "execution_count": null,
   "metadata": {
    "collapsed": true
   },
   "outputs": [],
   "source": []
  },
  {
   "cell_type": "code",
   "execution_count": 5,
   "metadata": {
    "collapsed": false
   },
   "outputs": [],
   "source": [
    "'''n_t'''\n",
    "test = gl.SFrame.read_csv(path + 'test.csv', verbose=False)\n",
    "\n",
    "sf = sf[sf['Semana']==8]\n",
    "del sf['Venta_uni_hoy']\n",
    "del sf['Venta_hoy']\n",
    "del sf['Dev_uni_proxima']\n",
    "del sf['Dev_proxima']\n",
    "del sf['Demanda_uni_equil']\n",
    "# del sf['Demada_log']\n",
    "# del sf['id']\n",
    "del test['id']\n",
    "sf = sf.append(test)"
   ]
  },
  {
   "cell_type": "code",
   "execution_count": 6,
   "metadata": {
    "collapsed": false
   },
   "outputs": [
    {
     "name": "stdout",
     "output_type": "stream",
     "text": [
      "+--------+------------+----------+----------+------------+-------------+\n",
      "| Semana | Agencia_ID | Canal_ID | Ruta_SAK | Cliente_ID | Producto_ID |\n",
      "+--------+------------+----------+----------+------------+-------------+\n",
      "|   8    |    1110    |    7     |   3301   |   15766    |     1212    |\n",
      "|   8    |    1110    |    7     |   3301   |   15766    |     1216    |\n",
      "|   8    |    1110    |    7     |   3301   |   15766    |     1220    |\n",
      "|   8    |    1110    |    7     |   3301   |   15766    |     1238    |\n",
      "|   8    |    1110    |    7     |   3301   |   15766    |     1240    |\n",
      "|   8    |    1110    |    7     |   3301   |   15766    |     1242    |\n",
      "|   8    |    1110    |    7     |   3301   |   15766    |     1250    |\n",
      "|   8    |    1110    |    7     |   3301   |   15766    |     1309    |\n",
      "|   8    |    1110    |    7     |   3301   |   15766    |     3894    |\n",
      "|   8    |    1110    |    7     |   3301   |   15766    |    30531    |\n",
      "+--------+------------+----------+----------+------------+-------------+\n",
      "[17406119 rows x 6 columns]\n",
      "Note: Only the head of the SFrame is printed.\n",
      "You can use print_rows(num_rows=m, num_columns=n) to print more rows and columns.\n"
     ]
    }
   ],
   "source": [
    "print sf"
   ]
  },
  {
   "cell_type": "code",
   "execution_count": 7,
   "metadata": {
    "collapsed": false
   },
   "outputs": [],
   "source": [
    "town = gl.SFrame.read_csv(path + 'towns.csv', verbose=False)\n",
    "\n",
    "from sklearn import preprocessing\n",
    "le = preprocessing.LabelEncoder()\n",
    "le.fit(town['Town'])\n",
    "\n",
    "\n",
    "town['Town'] = le.transform(town['Town']) \n",
    "\n",
    "town1 = town['Town','Agencia_ID']"
   ]
  },
  {
   "cell_type": "code",
   "execution_count": 8,
   "metadata": {
    "collapsed": false
   },
   "outputs": [
    {
     "name": "stdout",
     "output_type": "stream",
     "text": [
      "+------+------------+\n",
      "| Town | Agencia_ID |\n",
      "+------+------------+\n",
      "|  84  |   22187    |\n",
      "|  26  |    1164    |\n",
      "|  26  |    1177    |\n",
      "|  26  |    1220    |\n",
      "|  26  |    1262    |\n",
      "|  26  |   20489    |\n",
      "|  76  |    1253    |\n",
      "|  76  |    2011    |\n",
      "|  76  |    2061    |\n",
      "|  76  |    2095    |\n",
      "+------+------------+\n",
      "[234840 rows x 2 columns]\n",
      "Note: Only the head of the SFrame is printed.\n",
      "You can use print_rows(num_rows=m, num_columns=n) to print more rows and columns.\n"
     ]
    }
   ],
   "source": [
    "print town1"
   ]
  },
  {
   "cell_type": "code",
   "execution_count": 9,
   "metadata": {
    "collapsed": false
   },
   "outputs": [],
   "source": [
    "sf = sf.join(town1,on='Agencia_ID',how='left')"
   ]
  },
  {
   "cell_type": "code",
   "execution_count": 10,
   "metadata": {
    "collapsed": false
   },
   "outputs": [
    {
     "ename": "RuntimeError",
     "evalue": "Runtime Exception. Canceled by user",
     "output_type": "error",
     "traceback": [
      "\u001b[1;31m---------------------------------------------------------------------------\u001b[0m",
      "\u001b[1;31mRuntimeError\u001b[0m                              Traceback (most recent call last)",
      "\u001b[1;32m<ipython-input-10-8a091fe2cce4>\u001b[0m in \u001b[0;36m<module>\u001b[1;34m()\u001b[0m\n\u001b[1;32m----> 1\u001b[1;33m \u001b[0mn_t\u001b[0m \u001b[1;33m=\u001b[0m \u001b[0msf\u001b[0m\u001b[1;33m.\u001b[0m\u001b[0mgroupby\u001b[0m\u001b[1;33m(\u001b[0m\u001b[0mkey_columns\u001b[0m\u001b[1;33m=\u001b[0m\u001b[1;33m[\u001b[0m\u001b[1;34m'Semana'\u001b[0m\u001b[1;33m,\u001b[0m\u001b[1;34m'Town'\u001b[0m\u001b[1;33m]\u001b[0m\u001b[1;33m,\u001b[0m \u001b[0moperations\u001b[0m\u001b[1;33m=\u001b[0m\u001b[1;33m{\u001b[0m\u001b[1;34m'n_t'\u001b[0m\u001b[1;33m:\u001b[0m\u001b[0magg\u001b[0m\u001b[1;33m.\u001b[0m\u001b[0mCOUNT\u001b[0m\u001b[1;33m(\u001b[0m\u001b[1;34m'Town'\u001b[0m\u001b[1;33m)\u001b[0m\u001b[1;33m}\u001b[0m\u001b[1;33m)\u001b[0m\u001b[1;33m\u001b[0m\u001b[0m\n\u001b[0m\u001b[0;32m      2\u001b[0m \u001b[0mn_t\u001b[0m \u001b[1;33m=\u001b[0m \u001b[0mn_t\u001b[0m\u001b[1;33m.\u001b[0m\u001b[0mgroupby\u001b[0m\u001b[1;33m(\u001b[0m\u001b[0mkey_columns\u001b[0m\u001b[1;33m=\u001b[0m\u001b[1;33m[\u001b[0m\u001b[1;34m'Town'\u001b[0m\u001b[1;33m]\u001b[0m\u001b[1;33m,\u001b[0m \u001b[0moperations\u001b[0m\u001b[1;33m=\u001b[0m\u001b[1;33m{\u001b[0m\u001b[1;34m'n_t'\u001b[0m\u001b[1;33m:\u001b[0m\u001b[0magg\u001b[0m\u001b[1;33m.\u001b[0m\u001b[0mMEAN\u001b[0m\u001b[1;33m(\u001b[0m\u001b[1;34m'n_t'\u001b[0m\u001b[1;33m)\u001b[0m\u001b[1;33m}\u001b[0m\u001b[1;33m)\u001b[0m\u001b[1;33m\u001b[0m\u001b[0m\n",
      "\u001b[1;32m/usr/local/lib/python2.7/dist-packages/graphlab/data_structures/sframe.pyc\u001b[0m in \u001b[0;36mgroupby\u001b[1;34m(self, key_columns, operations, *args)\u001b[0m\n\u001b[0;32m   4650\u001b[0m                                                                   \u001b[0mgroup_columns\u001b[0m\u001b[1;33m,\u001b[0m\u001b[1;33m\u001b[0m\u001b[0m\n\u001b[0;32m   4651\u001b[0m                                                                   \u001b[0mgroup_output_columns\u001b[0m\u001b[1;33m,\u001b[0m\u001b[1;33m\u001b[0m\u001b[0m\n\u001b[1;32m-> 4652\u001b[1;33m                                                                   group_ops))\n\u001b[0m\u001b[0;32m   4653\u001b[0m \u001b[1;33m\u001b[0m\u001b[0m\n\u001b[0;32m   4654\u001b[0m     \u001b[1;32mdef\u001b[0m \u001b[0mjoin\u001b[0m\u001b[1;33m(\u001b[0m\u001b[0mself\u001b[0m\u001b[1;33m,\u001b[0m \u001b[0mright\u001b[0m\u001b[1;33m,\u001b[0m \u001b[0mon\u001b[0m\u001b[1;33m=\u001b[0m\u001b[0mNone\u001b[0m\u001b[1;33m,\u001b[0m \u001b[0mhow\u001b[0m\u001b[1;33m=\u001b[0m\u001b[1;34m'inner'\u001b[0m\u001b[1;33m)\u001b[0m\u001b[1;33m:\u001b[0m\u001b[1;33m\u001b[0m\u001b[0m\n",
      "\u001b[1;32m/usr/local/lib/python2.7/dist-packages/graphlab/cython/context.pyc\u001b[0m in \u001b[0;36m__exit__\u001b[1;34m(self, exc_type, exc_value, traceback)\u001b[0m\n\u001b[0;32m     47\u001b[0m             \u001b[1;32mif\u001b[0m \u001b[1;32mnot\u001b[0m \u001b[0mself\u001b[0m\u001b[1;33m.\u001b[0m\u001b[0mshow_cython_trace\u001b[0m\u001b[1;33m:\u001b[0m\u001b[1;33m\u001b[0m\u001b[0m\n\u001b[0;32m     48\u001b[0m                 \u001b[1;31m# To hide cython trace, we re-raise from here\u001b[0m\u001b[1;33m\u001b[0m\u001b[1;33m\u001b[0m\u001b[0m\n\u001b[1;32m---> 49\u001b[1;33m                 \u001b[1;32mraise\u001b[0m \u001b[0mexc_type\u001b[0m\u001b[1;33m(\u001b[0m\u001b[0mexc_value\u001b[0m\u001b[1;33m)\u001b[0m\u001b[1;33m\u001b[0m\u001b[0m\n\u001b[0m\u001b[0;32m     50\u001b[0m             \u001b[1;32melse\u001b[0m\u001b[1;33m:\u001b[0m\u001b[1;33m\u001b[0m\u001b[0m\n\u001b[0;32m     51\u001b[0m                 \u001b[1;31m# To show the full trace, we do nothing and let exception propagate\u001b[0m\u001b[1;33m\u001b[0m\u001b[1;33m\u001b[0m\u001b[0m\n",
      "\u001b[1;31mRuntimeError\u001b[0m: Runtime Exception. Canceled by user"
     ]
    }
   ],
   "source": [
    "n_t = sf.groupby(key_columns=['Semana','Town'], operations={'n_t':agg.COUNT('Town')})\n",
    "n_t = n_t.groupby(key_columns=['Town'], operations={'n_t':agg.MEAN('n_t')})"
   ]
  },
  {
   "cell_type": "code",
   "execution_count": null,
   "metadata": {
    "collapsed": true
   },
   "outputs": [],
   "source": [
    "n_t"
   ]
  },
  {
   "cell_type": "code",
   "execution_count": null,
   "metadata": {
    "collapsed": true
   },
   "outputs": [],
   "source": [
    "n_t.save(path+'town8.csv',format='csv')"
   ]
  },
  {
   "cell_type": "code",
   "execution_count": null,
   "metadata": {
    "collapsed": true
   },
   "outputs": [],
   "source": []
  },
  {
   "cell_type": "code",
   "execution_count": null,
   "metadata": {
    "collapsed": true
   },
   "outputs": [],
   "source": []
  },
  {
   "cell_type": "code",
   "execution_count": 13,
   "metadata": {
    "collapsed": true
   },
   "outputs": [],
   "source": [
    "town.save(path+'towns.csv',format='csv')"
   ]
  },
  {
   "cell_type": "code",
   "execution_count": null,
   "metadata": {
    "collapsed": true
   },
   "outputs": [],
   "source": []
  },
  {
   "cell_type": "code",
   "execution_count": null,
   "metadata": {
    "collapsed": true
   },
   "outputs": [],
   "source": []
  },
  {
   "cell_type": "code",
   "execution_count": 38,
   "metadata": {
    "collapsed": false
   },
   "outputs": [
    {
     "data": {
      "image/png": "[encoded data removed]",
      "text/plain": [
       "<matplotlib.figure.Figure at 0x7fcd940898d0>"
      ]
     },
     "metadata": {},
     "output_type": "display_data"
    }
   ],
   "source": [
    "from IPython.core.pylabtools import figsize\n",
    "import numpy as np\n",
    "from matplotlib import pyplot as plt\n",
    "import seaborn as sns\n",
    "sns.set_style('darkgrid', {'grid.color': '.8','grid.linestyle': u'--'}) \n",
    "%matplotlib inline\n",
    "\n",
    "# figsize(16, 9)\n",
    "# fig, axs = plt.subplots(3, 3)\n",
    "# fig.subplots_adjust(hspace = .3) #, wspace=.1)\n",
    "\n",
    "# data = np.arange(3, 10)\n",
    "# for ax, d in zip(axs.ravel(), data):\n",
    "x = sf1['tp_sum']\n",
    "y = sf1['Demanda_uni_equil']\n",
    "plot = plt.scatter(x, y, alpha=.2)\n",
    "del x\n",
    "del y\n",
    "del plot"
   ]
  }
 ],
 "metadata": {
  "kernelspec": {
   "display_name": "Python 2",
   "language": "python",
   "name": "python2"
  },
  "language_info": {
   "codemirror_mode": {
    "name": "ipython",
    "version": 2
   },
   "file_extension": ".py",
   "mimetype": "text/x-python",
   "name": "python",
   "nbconvert_exporter": "python",
   "pygments_lexer": "ipython2",
   "version": "2.7.6"
  }
 },
 "nbformat": 4,
 "nbformat_minor": 0
}
