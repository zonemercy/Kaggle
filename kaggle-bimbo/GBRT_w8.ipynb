{
 "cells": [
  {
   "cell_type": "code",
   "execution_count": 1,
   "metadata": {
    "collapsed": true
   },
   "outputs": [],
   "source": [
    "import pandas as pd\n",
    "import numpy as np\n",
    "import os\n",
    "import math\n",
    "import graphlab\n",
    "import graphlab as gl\n",
    "import graphlab.aggregate as agg"
   ]
  },
  {
   "cell_type": "code",
   "execution_count": 2,
   "metadata": {
    "collapsed": true
   },
   "outputs": [],
   "source": [
    "'''钢炮'''\n",
    "path = '/home/zongyi/bimbo_data/'"
   ]
  },
  {
   "cell_type": "code",
   "execution_count": 17,
   "metadata": {
    "collapsed": false
   },
   "outputs": [],
   "source": [
    "train = gl.SFrame.read_csv(path + 'train_lag5_w8.csv', verbose=False)"
   ]
  },
  {
   "cell_type": "code",
   "execution_count": 10,
   "metadata": {
    "collapsed": false
   },
   "outputs": [],
   "source": [
    "del train['id']\n",
    "del train['Venta_uni_hoy']\n",
    "del train['Venta_hoy']\n",
    "del train['Dev_uni_proxima']\n",
    "del train['Dev_proxima']\n",
    "del train['Demanda_uni_equil']"
   ]
  },
  {
   "cell_type": "code",
   "execution_count": 11,
   "metadata": {
    "collapsed": false
   },
   "outputs": [],
   "source": [
    "del train['prior_sum']\n",
    "del train['lag_sum']\n",
    "del train['week_times']\n",
    "del train['Semana']"
   ]
  },
  {
   "cell_type": "code",
   "execution_count": 5,
   "metadata": {
    "collapsed": false
   },
   "outputs": [],
   "source": [
    "# town = gl.SFrame.read_csv(path + 'towns.csv', verbose=False)\n",
    "# train = train.join(town, on=['Agencia_ID','Producto_ID'], how='left')\n",
    "# train = train.fillna('t_c',1)\n",
    "# train = train.fillna('tcc',0)\n",
    "# train = train.fillna('tp_sum',0)\n",
    "# del train['Town']"
   ]
  },
  {
   "cell_type": "code",
   "execution_count": 7,
   "metadata": {
    "collapsed": true
   },
   "outputs": [],
   "source": [
    "# relag_train = gl.SFrame.read_csv(path + 're_lag_train.csv', verbose=False)\n",
    "# train = train.join(relag_train, on=['Cliente_ID','Producto_ID','Semana'], how='left')\n",
    "# train = train.fillna('re_lag1',0)\n",
    "# train = train.fillna('re_lag2',0)\n",
    "# train = train.fillna('re_lag3',0)\n",
    "# train = train.fillna('re_lag4',0)\n",
    "# train = train.fillna('re_lag5',0)\n",
    "# del relag_train"
   ]
  },
  {
   "cell_type": "code",
   "execution_count": 8,
   "metadata": {
    "collapsed": true
   },
   "outputs": [],
   "source": [
    "# pd = gl.SFrame.read_csv(path + 'products.csv', verbose=False)\n",
    "# train = train.join(pd, on=['Producto_ID'], how='left')\n",
    "# train = train.fillna('prom',0)\n",
    "# train = train.fillna('weight',0)\n",
    "# train = train.fillna('pieces',1)\n",
    "# train = train.fillna('w_per_piece',0)\n",
    "# train = train.fillna('healthy',0)\n",
    "# train = train.fillna('drink',0)\n",
    "# del train['brand']\n",
    "# del train['NombreProducto']\n",
    "# del pd"
   ]
  },
  {
   "cell_type": "code",
   "execution_count": 9,
   "metadata": {
    "collapsed": true
   },
   "outputs": [],
   "source": [
    "# client = gl.SFrame.read_csv(path + 'clients.csv', verbose=False)\n",
    "# train = train.join(client, on=['Cliente_ID'], how='left')\n",
    "# del client"
   ]
  },
  {
   "cell_type": "code",
   "execution_count": 42,
   "metadata": {
    "collapsed": false,
    "scrolled": true
   },
   "outputs": [
    {
     "data": {
      "text/html": [
       "<pre>Boosted trees regression:</pre>"
      ],
      "text/plain": [
       "Boosted trees regression:"
      ]
     },
     "metadata": {},
     "output_type": "display_data"
    },
    {
     "data": {
      "text/html": [
       "<pre>--------------------------------------------------------</pre>"
      ],
      "text/plain": [
       "--------------------------------------------------------"
      ]
     },
     "metadata": {},
     "output_type": "display_data"
    },
    {
     "data": {
      "text/html": [
       "<pre>Number of examples          : 10396472</pre>"
      ],
      "text/plain": [
       "Number of examples          : 10396472"
      ]
     },
     "metadata": {},
     "output_type": "display_data"
    },
    {
     "data": {
      "text/html": [
       "<pre>Number of features          : 14</pre>"
      ],
      "text/plain": [
       "Number of features          : 14"
      ]
     },
     "metadata": {},
     "output_type": "display_data"
    },
    {
     "data": {
      "text/html": [
       "<pre>Number of unpacked features : 14</pre>"
      ],
      "text/plain": [
       "Number of unpacked features : 14"
      ]
     },
     "metadata": {},
     "output_type": "display_data"
    },
    {
     "data": {
      "text/html": [
       "<pre>+-----------+--------------+---------------+-----------------+</pre>"
      ],
      "text/plain": [
       "+-----------+--------------+---------------+-----------------+"
      ]
     },
     "metadata": {},
     "output_type": "display_data"
    },
    {
     "data": {
      "text/html": [
       "<pre>| Iteration | Elapsed Time | Training-rmse | Validation-rmse |</pre>"
      ],
      "text/plain": [
       "| Iteration | Elapsed Time | Training-rmse | Validation-rmse |"
      ]
     },
     "metadata": {},
     "output_type": "display_data"
    },
    {
     "data": {
      "text/html": [
       "<pre>+-----------+--------------+---------------+-----------------+</pre>"
      ],
      "text/plain": [
       "+-----------+--------------+---------------+-----------------+"
      ]
     },
     "metadata": {},
     "output_type": "display_data"
    },
    {
     "data": {
      "text/html": [
       "<pre>| 1         | 27.201350    | 1.268903      | 1.267609        |</pre>"
      ],
      "text/plain": [
       "| 1         | 27.201350    | 1.268903      | 1.267609        |"
      ]
     },
     "metadata": {},
     "output_type": "display_data"
    },
    {
     "data": {
      "text/html": [
       "<pre>| 2         | 54.446795    | 1.165219      | 1.163619        |</pre>"
      ],
      "text/plain": [
       "| 2         | 54.446795    | 1.165219      | 1.163619        |"
      ]
     },
     "metadata": {},
     "output_type": "display_data"
    },
    {
     "data": {
      "text/html": [
       "<pre>| 3         | 79.189943    | 1.071897      | 1.070408        |</pre>"
      ],
      "text/plain": [
       "| 3         | 79.189943    | 1.071897      | 1.070408        |"
      ]
     },
     "metadata": {},
     "output_type": "display_data"
    },
    {
     "data": {
      "text/html": [
       "<pre>| 4         | 103.986517   | 0.989873      | 0.988515        |</pre>"
      ],
      "text/plain": [
       "| 4         | 103.986517   | 0.989873      | 0.988515        |"
      ]
     },
     "metadata": {},
     "output_type": "display_data"
    },
    {
     "data": {
      "text/html": [
       "<pre>| 5         | 128.143162   | 0.917530      | 0.916328        |</pre>"
      ],
      "text/plain": [
       "| 5         | 128.143162   | 0.917530      | 0.916328        |"
      ]
     },
     "metadata": {},
     "output_type": "display_data"
    },
    {
     "data": {
      "text/html": [
       "<pre>| 6         | 151.644742   | 0.854313      | 0.853378        |</pre>"
      ],
      "text/plain": [
       "| 6         | 151.644742   | 0.854313      | 0.853378        |"
      ]
     },
     "metadata": {},
     "output_type": "display_data"
    },
    {
     "data": {
      "text/html": [
       "<pre>| 7         | 176.966372   | 0.799365      | 0.798037        |</pre>"
      ],
      "text/plain": [
       "| 7         | 176.966372   | 0.799365      | 0.798037        |"
      ]
     },
     "metadata": {},
     "output_type": "display_data"
    },
    {
     "data": {
      "text/html": [
       "<pre>| 8         | 204.234475   | 0.752778      | 0.751562        |</pre>"
      ],
      "text/plain": [
       "| 8         | 204.234475   | 0.752778      | 0.751562        |"
      ]
     },
     "metadata": {},
     "output_type": "display_data"
    },
    {
     "data": {
      "text/html": [
       "<pre>| 9         | 227.578450   | 0.710774      | 0.709410        |</pre>"
      ],
      "text/plain": [
       "| 9         | 227.578450   | 0.710774      | 0.709410        |"
      ]
     },
     "metadata": {},
     "output_type": "display_data"
    },
    {
     "data": {
      "text/html": [
       "<pre>| 10        | 252.007971   | 0.674477      | 0.673100        |</pre>"
      ],
      "text/plain": [
       "| 10        | 252.007971   | 0.674477      | 0.673100        |"
      ]
     },
     "metadata": {},
     "output_type": "display_data"
    },
    {
     "data": {
      "text/html": [
       "<pre>| 11        | 276.554376   | 0.643727      | 0.642594        |</pre>"
      ],
      "text/plain": [
       "| 11        | 276.554376   | 0.643727      | 0.642594        |"
      ]
     },
     "metadata": {},
     "output_type": "display_data"
    },
    {
     "data": {
      "text/html": [
       "<pre>| 12        | 301.072763   | 0.617694      | 0.616710        |</pre>"
      ],
      "text/plain": [
       "| 12        | 301.072763   | 0.617694      | 0.616710        |"
      ]
     },
     "metadata": {},
     "output_type": "display_data"
    },
    {
     "data": {
      "text/html": [
       "<pre>| 13        | 327.477755   | 0.595479      | 0.594807        |</pre>"
      ],
      "text/plain": [
       "| 13        | 327.477755   | 0.595479      | 0.594807        |"
      ]
     },
     "metadata": {},
     "output_type": "display_data"
    },
    {
     "data": {
      "text/html": [
       "<pre>| 14        | 351.471539   | 0.576724      | 0.576236        |</pre>"
      ],
      "text/plain": [
       "| 14        | 351.471539   | 0.576724      | 0.576236        |"
      ]
     },
     "metadata": {},
     "output_type": "display_data"
    },
    {
     "data": {
      "text/html": [
       "<pre>| 15        | 375.506633   | 0.560239      | 0.559705        |</pre>"
      ],
      "text/plain": [
       "| 15        | 375.506633   | 0.560239      | 0.559705        |"
      ]
     },
     "metadata": {},
     "output_type": "display_data"
    },
    {
     "data": {
      "text/html": [
       "<pre>| 16        | 399.483642   | 0.546840      | 0.546356        |</pre>"
      ],
      "text/plain": [
       "| 16        | 399.483642   | 0.546840      | 0.546356        |"
      ]
     },
     "metadata": {},
     "output_type": "display_data"
    },
    {
     "data": {
      "text/html": [
       "<pre>| 17        | 423.100816   | 0.535349      | 0.534793        |</pre>"
      ],
      "text/plain": [
       "| 17        | 423.100816   | 0.535349      | 0.534793        |"
      ]
     },
     "metadata": {},
     "output_type": "display_data"
    },
    {
     "data": {
      "text/html": [
       "<pre>| 18        | 448.243984   | 0.524919      | 0.524324        |</pre>"
      ],
      "text/plain": [
       "| 18        | 448.243984   | 0.524919      | 0.524324        |"
      ]
     },
     "metadata": {},
     "output_type": "display_data"
    },
    {
     "data": {
      "text/html": [
       "<pre>| 19        | 473.620975   | 0.516211      | 0.515818        |</pre>"
      ],
      "text/plain": [
       "| 19        | 473.620975   | 0.516211      | 0.515818        |"
      ]
     },
     "metadata": {},
     "output_type": "display_data"
    },
    {
     "data": {
      "text/html": [
       "<pre>| 20        | 500.298011   | 0.509101      | 0.508666        |</pre>"
      ],
      "text/plain": [
       "| 20        | 500.298011   | 0.509101      | 0.508666        |"
      ]
     },
     "metadata": {},
     "output_type": "display_data"
    },
    {
     "data": {
      "text/html": [
       "<pre>| 21        | 524.411252   | 0.503044      | 0.502883        |</pre>"
      ],
      "text/plain": [
       "| 21        | 524.411252   | 0.503044      | 0.502883        |"
      ]
     },
     "metadata": {},
     "output_type": "display_data"
    },
    {
     "data": {
      "text/html": [
       "<pre>| 22        | 548.118604   | 0.498370      | 0.498518        |</pre>"
      ],
      "text/plain": [
       "| 22        | 548.118604   | 0.498370      | 0.498518        |"
      ]
     },
     "metadata": {},
     "output_type": "display_data"
    },
    {
     "data": {
      "text/html": [
       "<pre>| 23        | 572.915908   | 0.494643      | 0.495095        |</pre>"
      ],
      "text/plain": [
       "| 23        | 572.915908   | 0.494643      | 0.495095        |"
      ]
     },
     "metadata": {},
     "output_type": "display_data"
    },
    {
     "data": {
      "text/html": [
       "<pre>| 24        | 597.622946   | 0.491459      | 0.492098        |</pre>"
      ],
      "text/plain": [
       "| 24        | 597.622946   | 0.491459      | 0.492098        |"
      ]
     },
     "metadata": {},
     "output_type": "display_data"
    },
    {
     "data": {
      "text/html": [
       "<pre>| 25        | 623.105261   | 0.488354      | 0.489167        |</pre>"
      ],
      "text/plain": [
       "| 25        | 623.105261   | 0.488354      | 0.489167        |"
      ]
     },
     "metadata": {},
     "output_type": "display_data"
    },
    {
     "data": {
      "text/html": [
       "<pre>| 26        | 648.438849   | 0.485890      | 0.486738        |</pre>"
      ],
      "text/plain": [
       "| 26        | 648.438849   | 0.485890      | 0.486738        |"
      ]
     },
     "metadata": {},
     "output_type": "display_data"
    },
    {
     "data": {
      "text/html": [
       "<pre>| 27        | 673.341060   | 0.483967      | 0.484899        |</pre>"
      ],
      "text/plain": [
       "| 27        | 673.341060   | 0.483967      | 0.484899        |"
      ]
     },
     "metadata": {},
     "output_type": "display_data"
    },
    {
     "data": {
      "text/html": [
       "<pre>| 28        | 699.022241   | 0.482196      | 0.483131        |</pre>"
      ],
      "text/plain": [
       "| 28        | 699.022241   | 0.482196      | 0.483131        |"
      ]
     },
     "metadata": {},
     "output_type": "display_data"
    },
    {
     "data": {
      "text/html": [
       "<pre>| 29        | 722.983679   | 0.480465      | 0.481626        |</pre>"
      ],
      "text/plain": [
       "| 29        | 722.983679   | 0.480465      | 0.481626        |"
      ]
     },
     "metadata": {},
     "output_type": "display_data"
    },
    {
     "data": {
      "text/html": [
       "<pre>| 30        | 746.617241   | 0.479328      | 0.480555        |</pre>"
      ],
      "text/plain": [
       "| 30        | 746.617241   | 0.479328      | 0.480555        |"
      ]
     },
     "metadata": {},
     "output_type": "display_data"
    },
    {
     "data": {
      "text/html": [
       "<pre>| 31        | 772.051329   | 0.478185      | 0.479546        |</pre>"
      ],
      "text/plain": [
       "| 31        | 772.051329   | 0.478185      | 0.479546        |"
      ]
     },
     "metadata": {},
     "output_type": "display_data"
    },
    {
     "data": {
      "text/html": [
       "<pre>| 32        | 798.526036   | 0.476952      | 0.478395        |</pre>"
      ],
      "text/plain": [
       "| 32        | 798.526036   | 0.476952      | 0.478395        |"
      ]
     },
     "metadata": {},
     "output_type": "display_data"
    },
    {
     "data": {
      "text/html": [
       "<pre>| 33        | 822.896011   | 0.475789      | 0.477209        |</pre>"
      ],
      "text/plain": [
       "| 33        | 822.896011   | 0.475789      | 0.477209        |"
      ]
     },
     "metadata": {},
     "output_type": "display_data"
    },
    {
     "data": {
      "text/html": [
       "<pre>| 34        | 848.995470   | 0.474743      | 0.476281        |</pre>"
      ],
      "text/plain": [
       "| 34        | 848.995470   | 0.474743      | 0.476281        |"
      ]
     },
     "metadata": {},
     "output_type": "display_data"
    },
    {
     "data": {
      "text/html": [
       "<pre>| 35        | 874.759629   | 0.473522      | 0.475149        |</pre>"
      ],
      "text/plain": [
       "| 35        | 874.759629   | 0.473522      | 0.475149        |"
      ]
     },
     "metadata": {},
     "output_type": "display_data"
    },
    {
     "data": {
      "text/html": [
       "<pre>| 36        | 902.337785   | 0.472639      | 0.474203        |</pre>"
      ],
      "text/plain": [
       "| 36        | 902.337785   | 0.472639      | 0.474203        |"
      ]
     },
     "metadata": {},
     "output_type": "display_data"
    },
    {
     "data": {
      "text/html": [
       "<pre>| 37        | 927.279698   | 0.471733      | 0.473206        |</pre>"
      ],
      "text/plain": [
       "| 37        | 927.279698   | 0.471733      | 0.473206        |"
      ]
     },
     "metadata": {},
     "output_type": "display_data"
    },
    {
     "data": {
      "text/html": [
       "<pre>| 38        | 952.351612   | 0.471371      | 0.472918        |</pre>"
      ],
      "text/plain": [
       "| 38        | 952.351612   | 0.471371      | 0.472918        |"
      ]
     },
     "metadata": {},
     "output_type": "display_data"
    },
    {
     "data": {
      "text/html": [
       "<pre>| 39        | 978.739170   | 0.470689      | 0.472414        |</pre>"
      ],
      "text/plain": [
       "| 39        | 978.739170   | 0.470689      | 0.472414        |"
      ]
     },
     "metadata": {},
     "output_type": "display_data"
    },
    {
     "data": {
      "text/html": [
       "<pre>| 40        | 1003.232958  | 0.470056      | 0.471809        |</pre>"
      ],
      "text/plain": [
       "| 40        | 1003.232958  | 0.470056      | 0.471809        |"
      ]
     },
     "metadata": {},
     "output_type": "display_data"
    },
    {
     "data": {
      "text/html": [
       "<pre>| 41        | 1028.181686  | 0.469644      | 0.471497        |</pre>"
      ],
      "text/plain": [
       "| 41        | 1028.181686  | 0.469644      | 0.471497        |"
      ]
     },
     "metadata": {},
     "output_type": "display_data"
    },
    {
     "data": {
      "text/html": [
       "<pre>| 42        | 1054.763172  | 0.469100      | 0.470973        |</pre>"
      ],
      "text/plain": [
       "| 42        | 1054.763172  | 0.469100      | 0.470973        |"
      ]
     },
     "metadata": {},
     "output_type": "display_data"
    },
    {
     "data": {
      "text/html": [
       "<pre>| 43        | 1077.996778  | 0.468624      | 0.470519        |</pre>"
      ],
      "text/plain": [
       "| 43        | 1077.996778  | 0.468624      | 0.470519        |"
      ]
     },
     "metadata": {},
     "output_type": "display_data"
    },
    {
     "data": {
      "text/html": [
       "<pre>| 44        | 1105.114311  | 0.468019      | 0.469931        |</pre>"
      ],
      "text/plain": [
       "| 44        | 1105.114311  | 0.468019      | 0.469931        |"
      ]
     },
     "metadata": {},
     "output_type": "display_data"
    },
    {
     "data": {
      "text/html": [
       "<pre>| 45        | 1130.122311  | 0.467381      | 0.469313        |</pre>"
      ],
      "text/plain": [
       "| 45        | 1130.122311  | 0.467381      | 0.469313        |"
      ]
     },
     "metadata": {},
     "output_type": "display_data"
    },
    {
     "data": {
      "text/html": [
       "<pre>| 46        | 1156.124073  | 0.466990      | 0.468888        |</pre>"
      ],
      "text/plain": [
       "| 46        | 1156.124073  | 0.466990      | 0.468888        |"
      ]
     },
     "metadata": {},
     "output_type": "display_data"
    },
    {
     "data": {
      "text/html": [
       "<pre>| 47        | 1182.005863  | 0.466533      | 0.468526        |</pre>"
      ],
      "text/plain": [
       "| 47        | 1182.005863  | 0.466533      | 0.468526        |"
      ]
     },
     "metadata": {},
     "output_type": "display_data"
    },
    {
     "data": {
      "text/html": [
       "<pre>| 48        | 1208.777688  | 0.466344      | 0.468418        |</pre>"
      ],
      "text/plain": [
       "| 48        | 1208.777688  | 0.466344      | 0.468418        |"
      ]
     },
     "metadata": {},
     "output_type": "display_data"
    },
    {
     "data": {
      "text/html": [
       "<pre>| 49        | 1234.589304  | 0.465855      | 0.467993        |</pre>"
      ],
      "text/plain": [
       "| 49        | 1234.589304  | 0.465855      | 0.467993        |"
      ]
     },
     "metadata": {},
     "output_type": "display_data"
    },
    {
     "data": {
      "text/html": [
       "<pre>| 50        | 1261.373579  | 0.465403      | 0.467520        |</pre>"
      ],
      "text/plain": [
       "| 50        | 1261.373579  | 0.465403      | 0.467520        |"
      ]
     },
     "metadata": {},
     "output_type": "display_data"
    },
    {
     "data": {
      "text/html": [
       "<pre>| 51        | 1285.588483  | 0.464837      | 0.467034        |</pre>"
      ],
      "text/plain": [
       "| 51        | 1285.588483  | 0.464837      | 0.467034        |"
      ]
     },
     "metadata": {},
     "output_type": "display_data"
    },
    {
     "data": {
      "text/html": [
       "<pre>| 52        | 1309.594130  | 0.464707      | 0.466972        |</pre>"
      ],
      "text/plain": [
       "| 52        | 1309.594130  | 0.464707      | 0.466972        |"
      ]
     },
     "metadata": {},
     "output_type": "display_data"
    },
    {
     "data": {
      "text/html": [
       "<pre>| 53        | 1333.950908  | 0.464200      | 0.466372        |</pre>"
      ],
      "text/plain": [
       "| 53        | 1333.950908  | 0.464200      | 0.466372        |"
      ]
     },
     "metadata": {},
     "output_type": "display_data"
    },
    {
     "data": {
      "text/html": [
       "<pre>| 54        | 1359.798292  | 0.463836      | 0.466126        |</pre>"
      ],
      "text/plain": [
       "| 54        | 1359.798292  | 0.463836      | 0.466126        |"
      ]
     },
     "metadata": {},
     "output_type": "display_data"
    },
    {
     "data": {
      "text/html": [
       "<pre>| 55        | 1385.004526  | 0.463569      | 0.465830        |</pre>"
      ],
      "text/plain": [
       "| 55        | 1385.004526  | 0.463569      | 0.465830        |"
      ]
     },
     "metadata": {},
     "output_type": "display_data"
    },
    {
     "data": {
      "text/html": [
       "<pre>| 56        | 1410.964812  | 0.463211      | 0.465440        |</pre>"
      ],
      "text/plain": [
       "| 56        | 1410.964812  | 0.463211      | 0.465440        |"
      ]
     },
     "metadata": {},
     "output_type": "display_data"
    },
    {
     "data": {
      "text/html": [
       "<pre>| 57        | 1436.833244  | 0.462941      | 0.465197        |</pre>"
      ],
      "text/plain": [
       "| 57        | 1436.833244  | 0.462941      | 0.465197        |"
      ]
     },
     "metadata": {},
     "output_type": "display_data"
    },
    {
     "data": {
      "text/html": [
       "<pre>| 58        | 1463.321631  | 0.462648      | 0.464986        |</pre>"
      ],
      "text/plain": [
       "| 58        | 1463.321631  | 0.462648      | 0.464986        |"
      ]
     },
     "metadata": {},
     "output_type": "display_data"
    },
    {
     "data": {
      "text/html": [
       "<pre>| 59        | 1486.518091  | 0.462530      | 0.464958        |</pre>"
      ],
      "text/plain": [
       "| 59        | 1486.518091  | 0.462530      | 0.464958        |"
      ]
     },
     "metadata": {},
     "output_type": "display_data"
    },
    {
     "data": {
      "text/html": [
       "<pre>| 60        | 1512.532407  | 0.462247      | 0.464797        |</pre>"
      ],
      "text/plain": [
       "| 60        | 1512.532407  | 0.462247      | 0.464797        |"
      ]
     },
     "metadata": {},
     "output_type": "display_data"
    },
    {
     "data": {
      "text/html": [
       "<pre>| 61        | 1539.303481  | 0.461922      | 0.464486        |</pre>"
      ],
      "text/plain": [
       "| 61        | 1539.303481  | 0.461922      | 0.464486        |"
      ]
     },
     "metadata": {},
     "output_type": "display_data"
    },
    {
     "data": {
      "text/html": [
       "<pre>| 62        | 1564.386809  | 0.461749      | 0.464378        |</pre>"
      ],
      "text/plain": [
       "| 62        | 1564.386809  | 0.461749      | 0.464378        |"
      ]
     },
     "metadata": {},
     "output_type": "display_data"
    },
    {
     "data": {
      "text/html": [
       "<pre>| 63        | 1589.335440  | 0.461338      | 0.464011        |</pre>"
      ],
      "text/plain": [
       "| 63        | 1589.335440  | 0.461338      | 0.464011        |"
      ]
     },
     "metadata": {},
     "output_type": "display_data"
    },
    {
     "data": {
      "text/html": [
       "<pre>| 64        | 1615.425231  | 0.461064      | 0.463775        |</pre>"
      ],
      "text/plain": [
       "| 64        | 1615.425231  | 0.461064      | 0.463775        |"
      ]
     },
     "metadata": {},
     "output_type": "display_data"
    },
    {
     "data": {
      "text/html": [
       "<pre>| 65        | 1642.114270  | 0.460766      | 0.463548        |</pre>"
      ],
      "text/plain": [
       "| 65        | 1642.114270  | 0.460766      | 0.463548        |"
      ]
     },
     "metadata": {},
     "output_type": "display_data"
    },
    {
     "data": {
      "text/html": [
       "<pre>| 66        | 1667.511316  | 0.460542      | 0.463410        |</pre>"
      ],
      "text/plain": [
       "| 66        | 1667.511316  | 0.460542      | 0.463410        |"
      ]
     },
     "metadata": {},
     "output_type": "display_data"
    },
    {
     "data": {
      "text/html": [
       "<pre>| 67        | 1692.188881  | 0.460374      | 0.463288        |</pre>"
      ],
      "text/plain": [
       "| 67        | 1692.188881  | 0.460374      | 0.463288        |"
      ]
     },
     "metadata": {},
     "output_type": "display_data"
    },
    {
     "data": {
      "text/html": [
       "<pre>| 68        | 1716.283837  | 0.460249      | 0.463267        |</pre>"
      ],
      "text/plain": [
       "| 68        | 1716.283837  | 0.460249      | 0.463267        |"
      ]
     },
     "metadata": {},
     "output_type": "display_data"
    },
    {
     "data": {
      "text/html": [
       "<pre>| 69        | 1743.986526  | 0.460091      | 0.463150        |</pre>"
      ],
      "text/plain": [
       "| 69        | 1743.986526  | 0.460091      | 0.463150        |"
      ]
     },
     "metadata": {},
     "output_type": "display_data"
    },
    {
     "data": {
      "text/html": [
       "<pre>| 70        | 1769.130913  | 0.459909      | 0.462954        |</pre>"
      ],
      "text/plain": [
       "| 70        | 1769.130913  | 0.459909      | 0.462954        |"
      ]
     },
     "metadata": {},
     "output_type": "display_data"
    },
    {
     "data": {
      "text/html": [
       "<pre>| 71        | 1794.982357  | 0.459629      | 0.462670        |</pre>"
      ],
      "text/plain": [
       "| 71        | 1794.982357  | 0.459629      | 0.462670        |"
      ]
     },
     "metadata": {},
     "output_type": "display_data"
    },
    {
     "data": {
      "text/html": [
       "<pre>| 72        | 1819.883825  | 0.459355      | 0.462402        |</pre>"
      ],
      "text/plain": [
       "| 72        | 1819.883825  | 0.459355      | 0.462402        |"
      ]
     },
     "metadata": {},
     "output_type": "display_data"
    },
    {
     "data": {
      "text/html": [
       "<pre>| 73        | 1846.793757  | 0.459118      | 0.462201        |</pre>"
      ],
      "text/plain": [
       "| 73        | 1846.793757  | 0.459118      | 0.462201        |"
      ]
     },
     "metadata": {},
     "output_type": "display_data"
    },
    {
     "data": {
      "text/html": [
       "<pre>| 74        | 1871.262772  | 0.458908      | 0.462008        |</pre>"
      ],
      "text/plain": [
       "| 74        | 1871.262772  | 0.458908      | 0.462008        |"
      ]
     },
     "metadata": {},
     "output_type": "display_data"
    },
    {
     "data": {
      "text/html": [
       "<pre>| 75        | 1895.674425  | 0.458760      | 0.461890        |</pre>"
      ],
      "text/plain": [
       "| 75        | 1895.674425  | 0.458760      | 0.461890        |"
      ]
     },
     "metadata": {},
     "output_type": "display_data"
    },
    {
     "data": {
      "text/html": [
       "<pre>| 76        | 1920.774802  | 0.458585      | 0.461772        |</pre>"
      ],
      "text/plain": [
       "| 76        | 1920.774802  | 0.458585      | 0.461772        |"
      ]
     },
     "metadata": {},
     "output_type": "display_data"
    },
    {
     "data": {
      "text/html": [
       "<pre>| 77        | 1945.423620  | 0.458479      | 0.461700        |</pre>"
      ],
      "text/plain": [
       "| 77        | 1945.423620  | 0.458479      | 0.461700        |"
      ]
     },
     "metadata": {},
     "output_type": "display_data"
    },
    {
     "data": {
      "text/html": [
       "<pre>| 78        | 1971.241780  | 0.458328      | 0.461664        |</pre>"
      ],
      "text/plain": [
       "| 78        | 1971.241780  | 0.458328      | 0.461664        |"
      ]
     },
     "metadata": {},
     "output_type": "display_data"
    },
    {
     "data": {
      "text/html": [
       "<pre>| 79        | 1997.876767  | 0.458173      | 0.461572        |</pre>"
      ],
      "text/plain": [
       "| 79        | 1997.876767  | 0.458173      | 0.461572        |"
      ]
     },
     "metadata": {},
     "output_type": "display_data"
    },
    {
     "data": {
      "text/html": [
       "<pre>| 80        | 2022.773270  | 0.458063      | 0.461542        |</pre>"
      ],
      "text/plain": [
       "| 80        | 2022.773270  | 0.458063      | 0.461542        |"
      ]
     },
     "metadata": {},
     "output_type": "display_data"
    },
    {
     "data": {
      "text/html": [
       "<pre>| 81        | 2047.816675  | 0.457871      | 0.461340        |</pre>"
      ],
      "text/plain": [
       "| 81        | 2047.816675  | 0.457871      | 0.461340        |"
      ]
     },
     "metadata": {},
     "output_type": "display_data"
    },
    {
     "data": {
      "text/html": [
       "<pre>| 82        | 2072.210929  | 0.457681      | 0.461207        |</pre>"
      ],
      "text/plain": [
       "| 82        | 2072.210929  | 0.457681      | 0.461207        |"
      ]
     },
     "metadata": {},
     "output_type": "display_data"
    },
    {
     "data": {
      "text/html": [
       "<pre>| 83        | 2097.469413  | 0.457586      | 0.461094        |</pre>"
      ],
      "text/plain": [
       "| 83        | 2097.469413  | 0.457586      | 0.461094        |"
      ]
     },
     "metadata": {},
     "output_type": "display_data"
    },
    {
     "data": {
      "text/html": [
       "<pre>| 84        | 2122.718785  | 0.457455      | 0.460949        |</pre>"
      ],
      "text/plain": [
       "| 84        | 2122.718785  | 0.457455      | 0.460949        |"
      ]
     },
     "metadata": {},
     "output_type": "display_data"
    },
    {
     "data": {
      "text/html": [
       "<pre>| 85        | 2147.169322  | 0.457323      | 0.460869        |</pre>"
      ],
      "text/plain": [
       "| 85        | 2147.169322  | 0.457323      | 0.460869        |"
      ]
     },
     "metadata": {},
     "output_type": "display_data"
    },
    {
     "data": {
      "text/html": [
       "<pre>| 86        | 2173.474895  | 0.457127      | 0.460682        |</pre>"
      ],
      "text/plain": [
       "| 86        | 2173.474895  | 0.457127      | 0.460682        |"
      ]
     },
     "metadata": {},
     "output_type": "display_data"
    },
    {
     "data": {
      "text/html": [
       "<pre>| 87        | 2200.639146  | 0.456950      | 0.460401        |</pre>"
      ],
      "text/plain": [
       "| 87        | 2200.639146  | 0.456950      | 0.460401        |"
      ]
     },
     "metadata": {},
     "output_type": "display_data"
    },
    {
     "data": {
      "text/html": [
       "<pre>| 88        | 2225.843225  | 0.456828      | 0.460299        |</pre>"
      ],
      "text/plain": [
       "| 88        | 2225.843225  | 0.456828      | 0.460299        |"
      ]
     },
     "metadata": {},
     "output_type": "display_data"
    },
    {
     "data": {
      "text/html": [
       "<pre>| 89        | 2252.402172  | 0.456592      | 0.460091        |</pre>"
      ],
      "text/plain": [
       "| 89        | 2252.402172  | 0.456592      | 0.460091        |"
      ]
     },
     "metadata": {},
     "output_type": "display_data"
    },
    {
     "data": {
      "text/html": [
       "<pre>| 90        | 2278.321448  | 0.456505      | 0.460085        |</pre>"
      ],
      "text/plain": [
       "| 90        | 2278.321448  | 0.456505      | 0.460085        |"
      ]
     },
     "metadata": {},
     "output_type": "display_data"
    },
    {
     "data": {
      "text/html": [
       "<pre>| 91        | 2302.215685  | 0.456385      | 0.460060        |</pre>"
      ],
      "text/plain": [
       "| 91        | 2302.215685  | 0.456385      | 0.460060        |"
      ]
     },
     "metadata": {},
     "output_type": "display_data"
    },
    {
     "data": {
      "text/html": [
       "<pre>| 92        | 2328.323948  | 0.456261      | 0.459909        |</pre>"
      ],
      "text/plain": [
       "| 92        | 2328.323948  | 0.456261      | 0.459909        |"
      ]
     },
     "metadata": {},
     "output_type": "display_data"
    },
    {
     "data": {
      "text/html": [
       "<pre>| 93        | 2355.885745  | 0.456146      | 0.459818        |</pre>"
      ],
      "text/plain": [
       "| 93        | 2355.885745  | 0.456146      | 0.459818        |"
      ]
     },
     "metadata": {},
     "output_type": "display_data"
    },
    {
     "data": {
      "text/html": [
       "<pre>| 94        | 2382.470682  | 0.456029      | 0.459737        |</pre>"
      ],
      "text/plain": [
       "| 94        | 2382.470682  | 0.456029      | 0.459737        |"
      ]
     },
     "metadata": {},
     "output_type": "display_data"
    },
    {
     "data": {
      "text/html": [
       "<pre>| 95        | 2409.474599  | 0.455927      | 0.459694        |</pre>"
      ],
      "text/plain": [
       "| 95        | 2409.474599  | 0.455927      | 0.459694        |"
      ]
     },
     "metadata": {},
     "output_type": "display_data"
    },
    {
     "data": {
      "text/html": [
       "<pre>| 96        | 2434.430985  | 0.455801      | 0.459606        |</pre>"
      ],
      "text/plain": [
       "| 96        | 2434.430985  | 0.455801      | 0.459606        |"
      ]
     },
     "metadata": {},
     "output_type": "display_data"
    },
    {
     "data": {
      "text/html": [
       "<pre>| 97        | 2458.367354  | 0.455723      | 0.459579        |</pre>"
      ],
      "text/plain": [
       "| 97        | 2458.367354  | 0.455723      | 0.459579        |"
      ]
     },
     "metadata": {},
     "output_type": "display_data"
    },
    {
     "data": {
      "text/html": [
       "<pre>| 98        | 2482.986048  | 0.455624      | 0.459571        |</pre>"
      ],
      "text/plain": [
       "| 98        | 2482.986048  | 0.455624      | 0.459571        |"
      ]
     },
     "metadata": {},
     "output_type": "display_data"
    },
    {
     "data": {
      "text/html": [
       "<pre>| 99        | 2509.087956  | 0.455555      | 0.459545        |</pre>"
      ],
      "text/plain": [
       "| 99        | 2509.087956  | 0.455555      | 0.459545        |"
      ]
     },
     "metadata": {},
     "output_type": "display_data"
    },
    {
     "data": {
      "text/html": [
       "<pre>| 100       | 2535.916480  | 0.455452      | 0.459484        |</pre>"
      ],
      "text/plain": [
       "| 100       | 2535.916480  | 0.455452      | 0.459484        |"
      ]
     },
     "metadata": {},
     "output_type": "display_data"
    },
    {
     "data": {
      "text/html": [
       "<pre>| 101       | 2562.343363  | 0.455252      | 0.459288        |</pre>"
      ],
      "text/plain": [
       "| 101       | 2562.343363  | 0.455252      | 0.459288        |"
      ]
     },
     "metadata": {},
     "output_type": "display_data"
    },
    {
     "data": {
      "text/html": [
       "<pre>| 102       | 2586.873022  | 0.455174      | 0.459273        |</pre>"
      ],
      "text/plain": [
       "| 102       | 2586.873022  | 0.455174      | 0.459273        |"
      ]
     },
     "metadata": {},
     "output_type": "display_data"
    },
    {
     "data": {
      "text/html": [
       "<pre>| 103       | 2612.843336  | 0.455053      | 0.459142        |</pre>"
      ],
      "text/plain": [
       "| 103       | 2612.843336  | 0.455053      | 0.459142        |"
      ]
     },
     "metadata": {},
     "output_type": "display_data"
    },
    {
     "data": {
      "text/html": [
       "<pre>| 104       | 2637.762453  | 0.454971      | 0.459089        |</pre>"
      ],
      "text/plain": [
       "| 104       | 2637.762453  | 0.454971      | 0.459089        |"
      ]
     },
     "metadata": {},
     "output_type": "display_data"
    },
    {
     "data": {
      "text/html": [
       "<pre>| 105       | 2663.926380  | 0.454846      | 0.459004        |</pre>"
      ],
      "text/plain": [
       "| 105       | 2663.926380  | 0.454846      | 0.459004        |"
      ]
     },
     "metadata": {},
     "output_type": "display_data"
    },
    {
     "data": {
      "text/html": [
       "<pre>| 106       | 2688.505382  | 0.454763      | 0.458982        |</pre>"
      ],
      "text/plain": [
       "| 106       | 2688.505382  | 0.454763      | 0.458982        |"
      ]
     },
     "metadata": {},
     "output_type": "display_data"
    },
    {
     "data": {
      "text/html": [
       "<pre>| 107       | 2712.241649  | 0.454719      | 0.458956        |</pre>"
      ],
      "text/plain": [
       "| 107       | 2712.241649  | 0.454719      | 0.458956        |"
      ]
     },
     "metadata": {},
     "output_type": "display_data"
    },
    {
     "data": {
      "text/html": [
       "<pre>| 108       | 2738.354101  | 0.454612      | 0.458905        |</pre>"
      ],
      "text/plain": [
       "| 108       | 2738.354101  | 0.454612      | 0.458905        |"
      ]
     },
     "metadata": {},
     "output_type": "display_data"
    },
    {
     "data": {
      "text/html": [
       "<pre>| 109       | 2765.052809  | 0.454423      | 0.458762        |</pre>"
      ],
      "text/plain": [
       "| 109       | 2765.052809  | 0.454423      | 0.458762        |"
      ]
     },
     "metadata": {},
     "output_type": "display_data"
    },
    {
     "data": {
      "text/html": [
       "<pre>| 110       | 2789.443270  | 0.454333      | 0.458744        |</pre>"
      ],
      "text/plain": [
       "| 110       | 2789.443270  | 0.454333      | 0.458744        |"
      ]
     },
     "metadata": {},
     "output_type": "display_data"
    },
    {
     "data": {
      "text/html": [
       "<pre>| 111       | 2814.156788  | 0.454225      | 0.458659        |</pre>"
      ],
      "text/plain": [
       "| 111       | 2814.156788  | 0.454225      | 0.458659        |"
      ]
     },
     "metadata": {},
     "output_type": "display_data"
    },
    {
     "data": {
      "text/html": [
       "<pre>| 112       | 2840.072608  | 0.454108      | 0.458520        |</pre>"
      ],
      "text/plain": [
       "| 112       | 2840.072608  | 0.454108      | 0.458520        |"
      ]
     },
     "metadata": {},
     "output_type": "display_data"
    },
    {
     "data": {
      "text/html": [
       "<pre>| 113       | 2865.892385  | 0.454019      | 0.458484        |</pre>"
      ],
      "text/plain": [
       "| 113       | 2865.892385  | 0.454019      | 0.458484        |"
      ]
     },
     "metadata": {},
     "output_type": "display_data"
    },
    {
     "data": {
      "text/html": [
       "<pre>| 114       | 2890.452989  | 0.453941      | 0.458410        |</pre>"
      ],
      "text/plain": [
       "| 114       | 2890.452989  | 0.453941      | 0.458410        |"
      ]
     },
     "metadata": {},
     "output_type": "display_data"
    },
    {
     "data": {
      "text/html": [
       "<pre>| 115       | 2914.560202  | 0.453849      | 0.458331        |</pre>"
      ],
      "text/plain": [
       "| 115       | 2914.560202  | 0.453849      | 0.458331        |"
      ]
     },
     "metadata": {},
     "output_type": "display_data"
    },
    {
     "data": {
      "text/html": [
       "<pre>| 116       | 2940.218921  | 0.453752      | 0.458225        |</pre>"
      ],
      "text/plain": [
       "| 116       | 2940.218921  | 0.453752      | 0.458225        |"
      ]
     },
     "metadata": {},
     "output_type": "display_data"
    },
    {
     "data": {
      "text/html": [
       "<pre>| 117       | 2964.075091  | 0.453657      | 0.458070        |</pre>"
      ],
      "text/plain": [
       "| 117       | 2964.075091  | 0.453657      | 0.458070        |"
      ]
     },
     "metadata": {},
     "output_type": "display_data"
    },
    {
     "data": {
      "text/html": [
       "<pre>| 118       | 2987.905713  | 0.453586      | 0.458050        |</pre>"
      ],
      "text/plain": [
       "| 118       | 2987.905713  | 0.453586      | 0.458050        |"
      ]
     },
     "metadata": {},
     "output_type": "display_data"
    },
    {
     "data": {
      "text/html": [
       "<pre>| 119       | 3012.221612  | 0.453488      | 0.457974        |</pre>"
      ],
      "text/plain": [
       "| 119       | 3012.221612  | 0.453488      | 0.457974        |"
      ]
     },
     "metadata": {},
     "output_type": "display_data"
    },
    {
     "data": {
      "text/html": [
       "<pre>| 120       | 3037.422966  | 0.453419      | 0.457948        |</pre>"
      ],
      "text/plain": [
       "| 120       | 3037.422966  | 0.453419      | 0.457948        |"
      ]
     },
     "metadata": {},
     "output_type": "display_data"
    },
    {
     "data": {
      "text/html": [
       "<pre>| 121       | 3060.751193  | 0.453336      | 0.457869        |</pre>"
      ],
      "text/plain": [
       "| 121       | 3060.751193  | 0.453336      | 0.457869        |"
      ]
     },
     "metadata": {},
     "output_type": "display_data"
    },
    {
     "data": {
      "text/html": [
       "<pre>| 122       | 3084.537795  | 0.453210      | 0.457702        |</pre>"
      ],
      "text/plain": [
       "| 122       | 3084.537795  | 0.453210      | 0.457702        |"
      ]
     },
     "metadata": {},
     "output_type": "display_data"
    },
    {
     "data": {
      "text/html": [
       "<pre>| 123       | 3110.064313  | 0.453166      | 0.457704        |</pre>"
      ],
      "text/plain": [
       "| 123       | 3110.064313  | 0.453166      | 0.457704        |"
      ]
     },
     "metadata": {},
     "output_type": "display_data"
    },
    {
     "data": {
      "text/html": [
       "<pre>| 124       | 3133.408229  | 0.453097      | 0.457641        |</pre>"
      ],
      "text/plain": [
       "| 124       | 3133.408229  | 0.453097      | 0.457641        |"
      ]
     },
     "metadata": {},
     "output_type": "display_data"
    },
    {
     "data": {
      "text/html": [
       "<pre>| 125       | 3158.283791  | 0.453003      | 0.457573        |</pre>"
      ],
      "text/plain": [
       "| 125       | 3158.283791  | 0.453003      | 0.457573        |"
      ]
     },
     "metadata": {},
     "output_type": "display_data"
    },
    {
     "data": {
      "text/html": [
       "<pre>| 126       | 3184.197683  | 0.452872      | 0.457480        |</pre>"
      ],
      "text/plain": [
       "| 126       | 3184.197683  | 0.452872      | 0.457480        |"
      ]
     },
     "metadata": {},
     "output_type": "display_data"
    },
    {
     "data": {
      "text/html": [
       "<pre>| 127       | 3208.405461  | 0.452785      | 0.457380        |</pre>"
      ],
      "text/plain": [
       "| 127       | 3208.405461  | 0.452785      | 0.457380        |"
      ]
     },
     "metadata": {},
     "output_type": "display_data"
    },
    {
     "data": {
      "text/html": [
       "<pre>| 128       | 3233.814290  | 0.452698      | 0.457279        |</pre>"
      ],
      "text/plain": [
       "| 128       | 3233.814290  | 0.452698      | 0.457279        |"
      ]
     },
     "metadata": {},
     "output_type": "display_data"
    },
    {
     "data": {
      "text/html": [
       "<pre>| 129       | 3258.418756  | 0.452642      | 0.457199        |</pre>"
      ],
      "text/plain": [
       "| 129       | 3258.418756  | 0.452642      | 0.457199        |"
      ]
     },
     "metadata": {},
     "output_type": "display_data"
    },
    {
     "data": {
      "text/html": [
       "<pre>| 130       | 3284.126104  | 0.452536      | 0.457116        |</pre>"
      ],
      "text/plain": [
       "| 130       | 3284.126104  | 0.452536      | 0.457116        |"
      ]
     },
     "metadata": {},
     "output_type": "display_data"
    },
    {
     "data": {
      "text/html": [
       "<pre>| 131       | 3309.356100  | 0.452473      | 0.457104        |</pre>"
      ],
      "text/plain": [
       "| 131       | 3309.356100  | 0.452473      | 0.457104        |"
      ]
     },
     "metadata": {},
     "output_type": "display_data"
    },
    {
     "data": {
      "text/html": [
       "<pre>| 132       | 3334.354523  | 0.452341      | 0.456967        |</pre>"
      ],
      "text/plain": [
       "| 132       | 3334.354523  | 0.452341      | 0.456967        |"
      ]
     },
     "metadata": {},
     "output_type": "display_data"
    },
    {
     "data": {
      "text/html": [
       "<pre>| 133       | 3359.448766  | 0.452295      | 0.456956        |</pre>"
      ],
      "text/plain": [
       "| 133       | 3359.448766  | 0.452295      | 0.456956        |"
      ]
     },
     "metadata": {},
     "output_type": "display_data"
    },
    {
     "data": {
      "text/html": [
       "<pre>| 134       | 3385.091979  | 0.452236      | 0.456949        |</pre>"
      ],
      "text/plain": [
       "| 134       | 3385.091979  | 0.452236      | 0.456949        |"
      ]
     },
     "metadata": {},
     "output_type": "display_data"
    },
    {
     "data": {
      "text/html": [
       "<pre>| 135       | 3409.219921  | 0.452182      | 0.456957        |</pre>"
      ],
      "text/plain": [
       "| 135       | 3409.219921  | 0.452182      | 0.456957        |"
      ]
     },
     "metadata": {},
     "output_type": "display_data"
    },
    {
     "data": {
      "text/html": [
       "<pre>| 136       | 3433.503044  | 0.452076      | 0.456846        |</pre>"
      ],
      "text/plain": [
       "| 136       | 3433.503044  | 0.452076      | 0.456846        |"
      ]
     },
     "metadata": {},
     "output_type": "display_data"
    },
    {
     "data": {
      "text/html": [
       "<pre>| 137       | 3457.859654  | 0.451957      | 0.456717        |</pre>"
      ],
      "text/plain": [
       "| 137       | 3457.859654  | 0.451957      | 0.456717        |"
      ]
     },
     "metadata": {},
     "output_type": "display_data"
    },
    {
     "data": {
      "text/html": [
       "<pre>| 138       | 3483.431228  | 0.451889      | 0.456684        |</pre>"
      ],
      "text/plain": [
       "| 138       | 3483.431228  | 0.451889      | 0.456684        |"
      ]
     },
     "metadata": {},
     "output_type": "display_data"
    },
    {
     "data": {
      "text/html": [
       "<pre>| 139       | 3508.699498  | 0.451800      | 0.456633        |</pre>"
      ],
      "text/plain": [
       "| 139       | 3508.699498  | 0.451800      | 0.456633        |"
      ]
     },
     "metadata": {},
     "output_type": "display_data"
    },
    {
     "data": {
      "text/html": [
       "<pre>| 140       | 3533.061565  | 0.451738      | 0.456595        |</pre>"
      ],
      "text/plain": [
       "| 140       | 3533.061565  | 0.451738      | 0.456595        |"
      ]
     },
     "metadata": {},
     "output_type": "display_data"
    },
    {
     "data": {
      "text/html": [
       "<pre>| 141       | 3558.353296  | 0.451678      | 0.456585        |</pre>"
      ],
      "text/plain": [
       "| 141       | 3558.353296  | 0.451678      | 0.456585        |"
      ]
     },
     "metadata": {},
     "output_type": "display_data"
    },
    {
     "data": {
      "text/html": [
       "<pre>| 142       | 3583.080766  | 0.451581      | 0.456481        |</pre>"
      ],
      "text/plain": [
       "| 142       | 3583.080766  | 0.451581      | 0.456481        |"
      ]
     },
     "metadata": {},
     "output_type": "display_data"
    },
    {
     "data": {
      "text/html": [
       "<pre>| 143       | 3606.638667  | 0.451488      | 0.456428        |</pre>"
      ],
      "text/plain": [
       "| 143       | 3606.638667  | 0.451488      | 0.456428        |"
      ]
     },
     "metadata": {},
     "output_type": "display_data"
    },
    {
     "data": {
      "text/html": [
       "<pre>| 144       | 3630.370763  | 0.451427      | 0.456279        |</pre>"
      ],
      "text/plain": [
       "| 144       | 3630.370763  | 0.451427      | 0.456279        |"
      ]
     },
     "metadata": {},
     "output_type": "display_data"
    },
    {
     "data": {
      "text/html": [
       "<pre>| 145       | 3655.488866  | 0.451375      | 0.456317        |</pre>"
      ],
      "text/plain": [
       "| 145       | 3655.488866  | 0.451375      | 0.456317        |"
      ]
     },
     "metadata": {},
     "output_type": "display_data"
    },
    {
     "data": {
      "text/html": [
       "<pre>| 146       | 3681.122368  | 0.451305      | 0.456299        |</pre>"
      ],
      "text/plain": [
       "| 146       | 3681.122368  | 0.451305      | 0.456299        |"
      ]
     },
     "metadata": {},
     "output_type": "display_data"
    },
    {
     "data": {
      "text/html": [
       "<pre>| 147       | 3705.519907  | 0.451226      | 0.456289        |</pre>"
      ],
      "text/plain": [
       "| 147       | 3705.519907  | 0.451226      | 0.456289        |"
      ]
     },
     "metadata": {},
     "output_type": "display_data"
    },
    {
     "data": {
      "text/html": [
       "<pre>| 148       | 3731.818242  | 0.451173      | 0.456235        |</pre>"
      ],
      "text/plain": [
       "| 148       | 3731.818242  | 0.451173      | 0.456235        |"
      ]
     },
     "metadata": {},
     "output_type": "display_data"
    },
    {
     "data": {
      "text/html": [
       "<pre>| 149       | 3756.943114  | 0.451079      | 0.456096        |</pre>"
      ],
      "text/plain": [
       "| 149       | 3756.943114  | 0.451079      | 0.456096        |"
      ]
     },
     "metadata": {},
     "output_type": "display_data"
    },
    {
     "data": {
      "text/html": [
       "<pre>| 150       | 3782.680791  | 0.451020      | 0.456042        |</pre>"
      ],
      "text/plain": [
       "| 150       | 3782.680791  | 0.451020      | 0.456042        |"
      ]
     },
     "metadata": {},
     "output_type": "display_data"
    },
    {
     "data": {
      "text/html": [
       "<pre>| 151       | 3809.288984  | 0.450975      | 0.456031        |</pre>"
      ],
      "text/plain": [
       "| 151       | 3809.288984  | 0.450975      | 0.456031        |"
      ]
     },
     "metadata": {},
     "output_type": "display_data"
    },
    {
     "data": {
      "text/html": [
       "<pre>| 152       | 3833.468985  | 0.450892      | 0.456000        |</pre>"
      ],
      "text/plain": [
       "| 152       | 3833.468985  | 0.450892      | 0.456000        |"
      ]
     },
     "metadata": {},
     "output_type": "display_data"
    },
    {
     "data": {
      "text/html": [
       "<pre>| 153       | 3858.245593  | 0.450805      | 0.455940        |</pre>"
      ],
      "text/plain": [
       "| 153       | 3858.245593  | 0.450805      | 0.455940        |"
      ]
     },
     "metadata": {},
     "output_type": "display_data"
    },
    {
     "data": {
      "text/html": [
       "<pre>| 154       | 3884.695840  | 0.450747      | 0.455941        |</pre>"
      ],
      "text/plain": [
       "| 154       | 3884.695840  | 0.450747      | 0.455941        |"
      ]
     },
     "metadata": {},
     "output_type": "display_data"
    },
    {
     "data": {
      "text/html": [
       "<pre>| 155       | 3909.652231  | 0.450619      | 0.455802        |</pre>"
      ],
      "text/plain": [
       "| 155       | 3909.652231  | 0.450619      | 0.455802        |"
      ]
     },
     "metadata": {},
     "output_type": "display_data"
    },
    {
     "data": {
      "text/html": [
       "<pre>| 156       | 3936.607692  | 0.450536      | 0.455735        |</pre>"
      ],
      "text/plain": [
       "| 156       | 3936.607692  | 0.450536      | 0.455735        |"
      ]
     },
     "metadata": {},
     "output_type": "display_data"
    },
    {
     "data": {
      "text/html": [
       "<pre>| 157       | 3959.984680  | 0.450445      | 0.455633        |</pre>"
      ],
      "text/plain": [
       "| 157       | 3959.984680  | 0.450445      | 0.455633        |"
      ]
     },
     "metadata": {},
     "output_type": "display_data"
    },
    {
     "data": {
      "text/html": [
       "<pre>| 158       | 3985.417952  | 0.450382      | 0.455558        |</pre>"
      ],
      "text/plain": [
       "| 158       | 3985.417952  | 0.450382      | 0.455558        |"
      ]
     },
     "metadata": {},
     "output_type": "display_data"
    },
    {
     "data": {
      "text/html": [
       "<pre>| 159       | 4011.857888  | 0.450288      | 0.455508        |</pre>"
      ],
      "text/plain": [
       "| 159       | 4011.857888  | 0.450288      | 0.455508        |"
      ]
     },
     "metadata": {},
     "output_type": "display_data"
    },
    {
     "data": {
      "text/html": [
       "<pre>| 160       | 4037.713825  | 0.450227      | 0.455449        |</pre>"
      ],
      "text/plain": [
       "| 160       | 4037.713825  | 0.450227      | 0.455449        |"
      ]
     },
     "metadata": {},
     "output_type": "display_data"
    },
    {
     "data": {
      "text/html": [
       "<pre>| 161       | 4063.743442  | 0.450156      | 0.455428        |</pre>"
      ],
      "text/plain": [
       "| 161       | 4063.743442  | 0.450156      | 0.455428        |"
      ]
     },
     "metadata": {},
     "output_type": "display_data"
    },
    {
     "data": {
      "text/html": [
       "<pre>| 162       | 4088.573515  | 0.450097      | 0.455412        |</pre>"
      ],
      "text/plain": [
       "| 162       | 4088.573515  | 0.450097      | 0.455412        |"
      ]
     },
     "metadata": {},
     "output_type": "display_data"
    },
    {
     "data": {
      "text/html": [
       "<pre>| 163       | 4114.940406  | 0.450030      | 0.455368        |</pre>"
      ],
      "text/plain": [
       "| 163       | 4114.940406  | 0.450030      | 0.455368        |"
      ]
     },
     "metadata": {},
     "output_type": "display_data"
    },
    {
     "data": {
      "text/html": [
       "<pre>| 164       | 4139.489353  | 0.449940      | 0.455302        |</pre>"
      ],
      "text/plain": [
       "| 164       | 4139.489353  | 0.449940      | 0.455302        |"
      ]
     },
     "metadata": {},
     "output_type": "display_data"
    },
    {
     "data": {
      "text/html": [
       "<pre>| 165       | 4165.033916  | 0.449843      | 0.455222        |</pre>"
      ],
      "text/plain": [
       "| 165       | 4165.033916  | 0.449843      | 0.455222        |"
      ]
     },
     "metadata": {},
     "output_type": "display_data"
    },
    {
     "data": {
      "text/html": [
       "<pre>| 166       | 4190.987193  | 0.449792      | 0.455242        |</pre>"
      ],
      "text/plain": [
       "| 166       | 4190.987193  | 0.449792      | 0.455242        |"
      ]
     },
     "metadata": {},
     "output_type": "display_data"
    },
    {
     "data": {
      "text/html": [
       "<pre>| 167       | 4217.812773  | 0.449723      | 0.455188        |</pre>"
      ],
      "text/plain": [
       "| 167       | 4217.812773  | 0.449723      | 0.455188        |"
      ]
     },
     "metadata": {},
     "output_type": "display_data"
    },
    {
     "data": {
      "text/html": [
       "<pre>| 168       | 4243.798630  | 0.449673      | 0.455121        |</pre>"
      ],
      "text/plain": [
       "| 168       | 4243.798630  | 0.449673      | 0.455121        |"
      ]
     },
     "metadata": {},
     "output_type": "display_data"
    },
    {
     "data": {
      "text/html": [
       "<pre>| 169       | 4267.417350  | 0.449624      | 0.455099        |</pre>"
      ],
      "text/plain": [
       "| 169       | 4267.417350  | 0.449624      | 0.455099        |"
      ]
     },
     "metadata": {},
     "output_type": "display_data"
    },
    {
     "data": {
      "text/html": [
       "<pre>| 170       | 4293.687827  | 0.449567      | 0.455066        |</pre>"
      ],
      "text/plain": [
       "| 170       | 4293.687827  | 0.449567      | 0.455066        |"
      ]
     },
     "metadata": {},
     "output_type": "display_data"
    },
    {
     "data": {
      "text/html": [
       "<pre>| 171       | 4320.366840  | 0.449433      | 0.454968        |</pre>"
      ],
      "text/plain": [
       "| 171       | 4320.366840  | 0.449433      | 0.454968        |"
      ]
     },
     "metadata": {},
     "output_type": "display_data"
    },
    {
     "data": {
      "text/html": [
       "<pre>| 172       | 4344.836747  | 0.449392      | 0.454967        |</pre>"
      ],
      "text/plain": [
       "| 172       | 4344.836747  | 0.449392      | 0.454967        |"
      ]
     },
     "metadata": {},
     "output_type": "display_data"
    },
    {
     "data": {
      "text/html": [
       "<pre>| 173       | 4370.001332  | 0.449347      | 0.454934        |</pre>"
      ],
      "text/plain": [
       "| 173       | 4370.001332  | 0.449347      | 0.454934        |"
      ]
     },
     "metadata": {},
     "output_type": "display_data"
    },
    {
     "data": {
      "text/html": [
       "<pre>| 174       | 4395.510095  | 0.449285      | 0.454922        |</pre>"
      ],
      "text/plain": [
       "| 174       | 4395.510095  | 0.449285      | 0.454922        |"
      ]
     },
     "metadata": {},
     "output_type": "display_data"
    },
    {
     "data": {
      "text/html": [
       "<pre>| 175       | 4421.579830  | 0.449238      | 0.454923        |</pre>"
      ],
      "text/plain": [
       "| 175       | 4421.579830  | 0.449238      | 0.454923        |"
      ]
     },
     "metadata": {},
     "output_type": "display_data"
    },
    {
     "data": {
      "text/html": [
       "<pre>| 176       | 4449.180596  | 0.449132      | 0.454796        |</pre>"
      ],
      "text/plain": [
       "| 176       | 4449.180596  | 0.449132      | 0.454796        |"
      ]
     },
     "metadata": {},
     "output_type": "display_data"
    },
    {
     "data": {
      "text/html": [
       "<pre>| 177       | 4475.190602  | 0.449068      | 0.454787        |</pre>"
      ],
      "text/plain": [
       "| 177       | 4475.190602  | 0.449068      | 0.454787        |"
      ]
     },
     "metadata": {},
     "output_type": "display_data"
    },
    {
     "data": {
      "text/html": [
       "<pre>| 178       | 4500.077270  | 0.449020      | 0.454798        |</pre>"
      ],
      "text/plain": [
       "| 178       | 4500.077270  | 0.449020      | 0.454798        |"
      ]
     },
     "metadata": {},
     "output_type": "display_data"
    },
    {
     "data": {
      "text/html": [
       "<pre>| 179       | 4527.154181  | 0.448963      | 0.454757        |</pre>"
      ],
      "text/plain": [
       "| 179       | 4527.154181  | 0.448963      | 0.454757        |"
      ]
     },
     "metadata": {},
     "output_type": "display_data"
    },
    {
     "data": {
      "text/html": [
       "<pre>| 180       | 4551.820616  | 0.448906      | 0.454738        |</pre>"
      ],
      "text/plain": [
       "| 180       | 4551.820616  | 0.448906      | 0.454738        |"
      ]
     },
     "metadata": {},
     "output_type": "display_data"
    },
    {
     "data": {
      "text/html": [
       "<pre>| 181       | 4577.446908  | 0.448803      | 0.454723        |</pre>"
      ],
      "text/plain": [
       "| 181       | 4577.446908  | 0.448803      | 0.454723        |"
      ]
     },
     "metadata": {},
     "output_type": "display_data"
    },
    {
     "data": {
      "text/html": [
       "<pre>| 182       | 4602.359601  | 0.448747      | 0.454699        |</pre>"
      ],
      "text/plain": [
       "| 182       | 4602.359601  | 0.448747      | 0.454699        |"
      ]
     },
     "metadata": {},
     "output_type": "display_data"
    },
    {
     "data": {
      "text/html": [
       "<pre>| 183       | 4628.190812  | 0.448662      | 0.454660        |</pre>"
      ],
      "text/plain": [
       "| 183       | 4628.190812  | 0.448662      | 0.454660        |"
      ]
     },
     "metadata": {},
     "output_type": "display_data"
    },
    {
     "data": {
      "text/html": [
       "<pre>| 184       | 4654.389715  | 0.448592      | 0.454613        |</pre>"
      ],
      "text/plain": [
       "| 184       | 4654.389715  | 0.448592      | 0.454613        |"
      ]
     },
     "metadata": {},
     "output_type": "display_data"
    },
    {
     "data": {
      "text/html": [
       "<pre>| 185       | 4678.504994  | 0.448480      | 0.454538        |</pre>"
      ],
      "text/plain": [
       "| 185       | 4678.504994  | 0.448480      | 0.454538        |"
      ]
     },
     "metadata": {},
     "output_type": "display_data"
    },
    {
     "data": {
      "text/html": [
       "<pre>| 186       | 4704.075868  | 0.448423      | 0.454419        |</pre>"
      ],
      "text/plain": [
       "| 186       | 4704.075868  | 0.448423      | 0.454419        |"
      ]
     },
     "metadata": {},
     "output_type": "display_data"
    },
    {
     "data": {
      "text/html": [
       "<pre>| 187       | 4729.289109  | 0.448372      | 0.454410        |</pre>"
      ],
      "text/plain": [
       "| 187       | 4729.289109  | 0.448372      | 0.454410        |"
      ]
     },
     "metadata": {},
     "output_type": "display_data"
    },
    {
     "data": {
      "text/html": [
       "<pre>| 188       | 4754.248208  | 0.448311      | 0.454337        |</pre>"
      ],
      "text/plain": [
       "| 188       | 4754.248208  | 0.448311      | 0.454337        |"
      ]
     },
     "metadata": {},
     "output_type": "display_data"
    },
    {
     "data": {
      "text/html": [
       "<pre>| 189       | 4779.305507  | 0.448263      | 0.454335        |</pre>"
      ],
      "text/plain": [
       "| 189       | 4779.305507  | 0.448263      | 0.454335        |"
      ]
     },
     "metadata": {},
     "output_type": "display_data"
    },
    {
     "data": {
      "text/html": [
       "<pre>| 190       | 4803.769701  | 0.448213      | 0.454318        |</pre>"
      ],
      "text/plain": [
       "| 190       | 4803.769701  | 0.448213      | 0.454318        |"
      ]
     },
     "metadata": {},
     "output_type": "display_data"
    },
    {
     "data": {
      "text/html": [
       "<pre>| 191       | 4829.627235  | 0.448147      | 0.454283        |</pre>"
      ],
      "text/plain": [
       "| 191       | 4829.627235  | 0.448147      | 0.454283        |"
      ]
     },
     "metadata": {},
     "output_type": "display_data"
    },
    {
     "data": {
      "text/html": [
       "<pre>| 192       | 4854.779187  | 0.448095      | 0.454241        |</pre>"
      ],
      "text/plain": [
       "| 192       | 4854.779187  | 0.448095      | 0.454241        |"
      ]
     },
     "metadata": {},
     "output_type": "display_data"
    },
    {
     "data": {
      "text/html": [
       "<pre>| 193       | 4881.430352  | 0.448041      | 0.454259        |</pre>"
      ],
      "text/plain": [
       "| 193       | 4881.430352  | 0.448041      | 0.454259        |"
      ]
     },
     "metadata": {},
     "output_type": "display_data"
    },
    {
     "data": {
      "text/html": [
       "<pre>| 194       | 4908.138736  | 0.447993      | 0.454259        |</pre>"
      ],
      "text/plain": [
       "| 194       | 4908.138736  | 0.447993      | 0.454259        |"
      ]
     },
     "metadata": {},
     "output_type": "display_data"
    },
    {
     "data": {
      "text/html": [
       "<pre>| 195       | 4933.659714  | 0.447969      | 0.454239        |</pre>"
      ],
      "text/plain": [
       "| 195       | 4933.659714  | 0.447969      | 0.454239        |"
      ]
     },
     "metadata": {},
     "output_type": "display_data"
    },
    {
     "data": {
      "text/html": [
       "<pre>| 196       | 4959.697658  | 0.447912      | 0.454201        |</pre>"
      ],
      "text/plain": [
       "| 196       | 4959.697658  | 0.447912      | 0.454201        |"
      ]
     },
     "metadata": {},
     "output_type": "display_data"
    },
    {
     "data": {
      "text/html": [
       "<pre>| 197       | 4983.777530  | 0.447839      | 0.454166        |</pre>"
      ],
      "text/plain": [
       "| 197       | 4983.777530  | 0.447839      | 0.454166        |"
      ]
     },
     "metadata": {},
     "output_type": "display_data"
    },
    {
     "data": {
      "text/html": [
       "<pre>| 198       | 5009.520614  | 0.447803      | 0.454182        |</pre>"
      ],
      "text/plain": [
       "| 198       | 5009.520614  | 0.447803      | 0.454182        |"
      ]
     },
     "metadata": {},
     "output_type": "display_data"
    },
    {
     "data": {
      "text/html": [
       "<pre>| 199       | 5034.646134  | 0.447734      | 0.454171        |</pre>"
      ],
      "text/plain": [
       "| 199       | 5034.646134  | 0.447734      | 0.454171        |"
      ]
     },
     "metadata": {},
     "output_type": "display_data"
    },
    {
     "data": {
      "text/html": [
       "<pre>| 200       | 5060.980527  | 0.447683      | 0.454104        |</pre>"
      ],
      "text/plain": [
       "| 200       | 5060.980527  | 0.447683      | 0.454104        |"
      ]
     },
     "metadata": {},
     "output_type": "display_data"
    },
    {
     "data": {
      "text/html": [
       "<pre>| 201       | 5084.966604  | 0.447631      | 0.454085        |</pre>"
      ],
      "text/plain": [
       "| 201       | 5084.966604  | 0.447631      | 0.454085        |"
      ]
     },
     "metadata": {},
     "output_type": "display_data"
    },
    {
     "data": {
      "text/html": [
       "<pre>| 202       | 5109.242225  | 0.447556      | 0.454007        |</pre>"
      ],
      "text/plain": [
       "| 202       | 5109.242225  | 0.447556      | 0.454007        |"
      ]
     },
     "metadata": {},
     "output_type": "display_data"
    },
    {
     "data": {
      "text/html": [
       "<pre>| 203       | 5133.638320  | 0.447498      | 0.454008        |</pre>"
      ],
      "text/plain": [
       "| 203       | 5133.638320  | 0.447498      | 0.454008        |"
      ]
     },
     "metadata": {},
     "output_type": "display_data"
    },
    {
     "data": {
      "text/html": [
       "<pre>| 204       | 5158.402659  | 0.447455      | 0.453939        |</pre>"
      ],
      "text/plain": [
       "| 204       | 5158.402659  | 0.447455      | 0.453939        |"
      ]
     },
     "metadata": {},
     "output_type": "display_data"
    },
    {
     "data": {
      "text/html": [
       "<pre>| 205       | 5183.319418  | 0.447412      | 0.453921        |</pre>"
      ],
      "text/plain": [
       "| 205       | 5183.319418  | 0.447412      | 0.453921        |"
      ]
     },
     "metadata": {},
     "output_type": "display_data"
    },
    {
     "data": {
      "text/html": [
       "<pre>| 206       | 5207.660484  | 0.447351      | 0.453863        |</pre>"
      ],
      "text/plain": [
       "| 206       | 5207.660484  | 0.447351      | 0.453863        |"
      ]
     },
     "metadata": {},
     "output_type": "display_data"
    },
    {
     "data": {
      "text/html": [
       "<pre>| 207       | 5231.988961  | 0.447243      | 0.453710        |</pre>"
      ],
      "text/plain": [
       "| 207       | 5231.988961  | 0.447243      | 0.453710        |"
      ]
     },
     "metadata": {},
     "output_type": "display_data"
    },
    {
     "data": {
      "text/html": [
       "<pre>| 208       | 5258.049052  | 0.447209      | 0.453664        |</pre>"
      ],
      "text/plain": [
       "| 208       | 5258.049052  | 0.447209      | 0.453664        |"
      ]
     },
     "metadata": {},
     "output_type": "display_data"
    },
    {
     "data": {
      "text/html": [
       "<pre>| 209       | 5284.703191  | 0.447176      | 0.453655        |</pre>"
      ],
      "text/plain": [
       "| 209       | 5284.703191  | 0.447176      | 0.453655        |"
      ]
     },
     "metadata": {},
     "output_type": "display_data"
    },
    {
     "data": {
      "text/html": [
       "<pre>| 210       | 5309.934687  | 0.447140      | 0.453648        |</pre>"
      ],
      "text/plain": [
       "| 210       | 5309.934687  | 0.447140      | 0.453648        |"
      ]
     },
     "metadata": {},
     "output_type": "display_data"
    },
    {
     "data": {
      "text/html": [
       "<pre>| 211       | 5333.988746  | 0.447101      | 0.453628        |</pre>"
      ],
      "text/plain": [
       "| 211       | 5333.988746  | 0.447101      | 0.453628        |"
      ]
     },
     "metadata": {},
     "output_type": "display_data"
    },
    {
     "data": {
      "text/html": [
       "<pre>| 212       | 5357.824546  | 0.447056      | 0.453596        |</pre>"
      ],
      "text/plain": [
       "| 212       | 5357.824546  | 0.447056      | 0.453596        |"
      ]
     },
     "metadata": {},
     "output_type": "display_data"
    },
    {
     "data": {
      "text/html": [
       "<pre>| 213       | 5383.232504  | 0.446997      | 0.453579        |</pre>"
      ],
      "text/plain": [
       "| 213       | 5383.232504  | 0.446997      | 0.453579        |"
      ]
     },
     "metadata": {},
     "output_type": "display_data"
    },
    {
     "data": {
      "text/html": [
       "<pre>| 214       | 5407.601984  | 0.446949      | 0.453570        |</pre>"
      ],
      "text/plain": [
       "| 214       | 5407.601984  | 0.446949      | 0.453570        |"
      ]
     },
     "metadata": {},
     "output_type": "display_data"
    },
    {
     "data": {
      "text/html": [
       "<pre>| 215       | 5433.227699  | 0.446930      | 0.453572        |</pre>"
      ],
      "text/plain": [
       "| 215       | 5433.227699  | 0.446930      | 0.453572        |"
      ]
     },
     "metadata": {},
     "output_type": "display_data"
    },
    {
     "data": {
      "text/html": [
       "<pre>| 216       | 5458.790428  | 0.446875      | 0.453551        |</pre>"
      ],
      "text/plain": [
       "| 216       | 5458.790428  | 0.446875      | 0.453551        |"
      ]
     },
     "metadata": {},
     "output_type": "display_data"
    },
    {
     "data": {
      "text/html": [
       "<pre>| 217       | 5482.213068  | 0.446844      | 0.453527        |</pre>"
      ],
      "text/plain": [
       "| 217       | 5482.213068  | 0.446844      | 0.453527        |"
      ]
     },
     "metadata": {},
     "output_type": "display_data"
    },
    {
     "data": {
      "text/html": [
       "<pre>| 218       | 5505.591866  | 0.446791      | 0.453494        |</pre>"
      ],
      "text/plain": [
       "| 218       | 5505.591866  | 0.446791      | 0.453494        |"
      ]
     },
     "metadata": {},
     "output_type": "display_data"
    },
    {
     "data": {
      "text/html": [
       "<pre>| 219       | 5530.641608  | 0.446759      | 0.453492        |</pre>"
      ],
      "text/plain": [
       "| 219       | 5530.641608  | 0.446759      | 0.453492        |"
      ]
     },
     "metadata": {},
     "output_type": "display_data"
    },
    {
     "data": {
      "text/html": [
       "<pre>| 220       | 5557.973635  | 0.446741      | 0.453481        |</pre>"
      ],
      "text/plain": [
       "| 220       | 5557.973635  | 0.446741      | 0.453481        |"
      ]
     },
     "metadata": {},
     "output_type": "display_data"
    },
    {
     "data": {
      "text/html": [
       "<pre>| 221       | 5582.251942  | 0.446698      | 0.453510        |</pre>"
      ],
      "text/plain": [
       "| 221       | 5582.251942  | 0.446698      | 0.453510        |"
      ]
     },
     "metadata": {},
     "output_type": "display_data"
    },
    {
     "data": {
      "text/html": [
       "<pre>| 222       | 5607.612487  | 0.446644      | 0.453472        |</pre>"
      ],
      "text/plain": [
       "| 222       | 5607.612487  | 0.446644      | 0.453472        |"
      ]
     },
     "metadata": {},
     "output_type": "display_data"
    },
    {
     "data": {
      "text/html": [
       "<pre>| 223       | 5633.497474  | 0.446612      | 0.453457        |</pre>"
      ],
      "text/plain": [
       "| 223       | 5633.497474  | 0.446612      | 0.453457        |"
      ]
     },
     "metadata": {},
     "output_type": "display_data"
    },
    {
     "data": {
      "text/html": [
       "<pre>| 224       | 5657.130192  | 0.446527      | 0.453398        |</pre>"
      ],
      "text/plain": [
       "| 224       | 5657.130192  | 0.446527      | 0.453398        |"
      ]
     },
     "metadata": {},
     "output_type": "display_data"
    },
    {
     "data": {
      "text/html": [
       "<pre>| 225       | 5684.344791  | 0.446481      | 0.453452        |</pre>"
      ],
      "text/plain": [
       "| 225       | 5684.344791  | 0.446481      | 0.453452        |"
      ]
     },
     "metadata": {},
     "output_type": "display_data"
    },
    {
     "data": {
      "text/html": [
       "<pre>| 226       | 5709.261584  | 0.446426      | 0.453406        |</pre>"
      ],
      "text/plain": [
       "| 226       | 5709.261584  | 0.446426      | 0.453406        |"
      ]
     },
     "metadata": {},
     "output_type": "display_data"
    },
    {
     "data": {
      "text/html": [
       "<pre>| 227       | 5734.440741  | 0.446387      | 0.453404        |</pre>"
      ],
      "text/plain": [
       "| 227       | 5734.440741  | 0.446387      | 0.453404        |"
      ]
     },
     "metadata": {},
     "output_type": "display_data"
    },
    {
     "data": {
      "text/html": [
       "<pre>| 228       | 5761.679406  | 0.446319      | 0.453340        |</pre>"
      ],
      "text/plain": [
       "| 228       | 5761.679406  | 0.446319      | 0.453340        |"
      ]
     },
     "metadata": {},
     "output_type": "display_data"
    },
    {
     "data": {
      "text/html": [
       "<pre>| 229       | 5786.319853  | 0.446263      | 0.453307        |</pre>"
      ],
      "text/plain": [
       "| 229       | 5786.319853  | 0.446263      | 0.453307        |"
      ]
     },
     "metadata": {},
     "output_type": "display_data"
    },
    {
     "data": {
      "text/html": [
       "<pre>| 230       | 5810.958993  | 0.446211      | 0.453312        |</pre>"
      ],
      "text/plain": [
       "| 230       | 5810.958993  | 0.446211      | 0.453312        |"
      ]
     },
     "metadata": {},
     "output_type": "display_data"
    },
    {
     "data": {
      "text/html": [
       "<pre>| 231       | 5835.513638  | 0.446167      | 0.453295        |</pre>"
      ],
      "text/plain": [
       "| 231       | 5835.513638  | 0.446167      | 0.453295        |"
      ]
     },
     "metadata": {},
     "output_type": "display_data"
    },
    {
     "data": {
      "text/html": [
       "<pre>| 232       | 5860.701795  | 0.446148      | 0.453311        |</pre>"
      ],
      "text/plain": [
       "| 232       | 5860.701795  | 0.446148      | 0.453311        |"
      ]
     },
     "metadata": {},
     "output_type": "display_data"
    },
    {
     "data": {
      "text/html": [
       "<pre>| 233       | 5885.983744  | 0.446080      | 0.453274        |</pre>"
      ],
      "text/plain": [
       "| 233       | 5885.983744  | 0.446080      | 0.453274        |"
      ]
     },
     "metadata": {},
     "output_type": "display_data"
    },
    {
     "data": {
      "text/html": [
       "<pre>| 234       | 5910.939101  | 0.446029      | 0.453227        |</pre>"
      ],
      "text/plain": [
       "| 234       | 5910.939101  | 0.446029      | 0.453227        |"
      ]
     },
     "metadata": {},
     "output_type": "display_data"
    },
    {
     "data": {
      "text/html": [
       "<pre>| 235       | 5935.704038  | 0.445962      | 0.453155        |</pre>"
      ],
      "text/plain": [
       "| 235       | 5935.704038  | 0.445962      | 0.453155        |"
      ]
     },
     "metadata": {},
     "output_type": "display_data"
    },
    {
     "data": {
      "text/html": [
       "<pre>| 236       | 5962.043338  | 0.445894      | 0.453117        |</pre>"
      ],
      "text/plain": [
       "| 236       | 5962.043338  | 0.445894      | 0.453117        |"
      ]
     },
     "metadata": {},
     "output_type": "display_data"
    },
    {
     "data": {
      "text/html": [
       "<pre>| 237       | 5987.203735  | 0.445853      | 0.453140        |</pre>"
      ],
      "text/plain": [
       "| 237       | 5987.203735  | 0.445853      | 0.453140        |"
      ]
     },
     "metadata": {},
     "output_type": "display_data"
    },
    {
     "data": {
      "text/html": [
       "<pre>| 238       | 6012.541453  | 0.445832      | 0.453154        |</pre>"
      ],
      "text/plain": [
       "| 238       | 6012.541453  | 0.445832      | 0.453154        |"
      ]
     },
     "metadata": {},
     "output_type": "display_data"
    },
    {
     "data": {
      "text/html": [
       "<pre>| 239       | 6036.480137  | 0.445773      | 0.453109        |</pre>"
      ],
      "text/plain": [
       "| 239       | 6036.480137  | 0.445773      | 0.453109        |"
      ]
     },
     "metadata": {},
     "output_type": "display_data"
    },
    {
     "data": {
      "text/html": [
       "<pre>| 240       | 6062.531336  | 0.445727      | 0.453057        |</pre>"
      ],
      "text/plain": [
       "| 240       | 6062.531336  | 0.445727      | 0.453057        |"
      ]
     },
     "metadata": {},
     "output_type": "display_data"
    },
    {
     "data": {
      "text/html": [
       "<pre>| 241       | 6088.211561  | 0.445697      | 0.453052        |</pre>"
      ],
      "text/plain": [
       "| 241       | 6088.211561  | 0.445697      | 0.453052        |"
      ]
     },
     "metadata": {},
     "output_type": "display_data"
    },
    {
     "data": {
      "text/html": [
       "<pre>| 242       | 6113.506220  | 0.445663      | 0.453087        |</pre>"
      ],
      "text/plain": [
       "| 242       | 6113.506220  | 0.445663      | 0.453087        |"
      ]
     },
     "metadata": {},
     "output_type": "display_data"
    },
    {
     "data": {
      "text/html": [
       "<pre>| 243       | 6137.481435  | 0.445617      | 0.453029        |</pre>"
      ],
      "text/plain": [
       "| 243       | 6137.481435  | 0.445617      | 0.453029        |"
      ]
     },
     "metadata": {},
     "output_type": "display_data"
    },
    {
     "data": {
      "text/html": [
       "<pre>| 244       | 6162.692114  | 0.445589      | 0.453051        |</pre>"
      ],
      "text/plain": [
       "| 244       | 6162.692114  | 0.445589      | 0.453051        |"
      ]
     },
     "metadata": {},
     "output_type": "display_data"
    },
    {
     "data": {
      "text/html": [
       "<pre>| 245       | 6187.623941  | 0.445559      | 0.453063        |</pre>"
      ],
      "text/plain": [
       "| 245       | 6187.623941  | 0.445559      | 0.453063        |"
      ]
     },
     "metadata": {},
     "output_type": "display_data"
    },
    {
     "data": {
      "text/html": [
       "<pre>| 246       | 6213.099942  | 0.445511      | 0.453062        |</pre>"
      ],
      "text/plain": [
       "| 246       | 6213.099942  | 0.445511      | 0.453062        |"
      ]
     },
     "metadata": {},
     "output_type": "display_data"
    },
    {
     "data": {
      "text/html": [
       "<pre>| 247       | 6238.882831  | 0.445477      | 0.453062        |</pre>"
      ],
      "text/plain": [
       "| 247       | 6238.882831  | 0.445477      | 0.453062        |"
      ]
     },
     "metadata": {},
     "output_type": "display_data"
    },
    {
     "data": {
      "text/html": [
       "<pre>| 248       | 6263.820090  | 0.445422      | 0.453022        |</pre>"
      ],
      "text/plain": [
       "| 248       | 6263.820090  | 0.445422      | 0.453022        |"
      ]
     },
     "metadata": {},
     "output_type": "display_data"
    },
    {
     "data": {
      "text/html": [
       "<pre>| 249       | 6290.047171  | 0.445391      | 0.453027        |</pre>"
      ],
      "text/plain": [
       "| 249       | 6290.047171  | 0.445391      | 0.453027        |"
      ]
     },
     "metadata": {},
     "output_type": "display_data"
    },
    {
     "data": {
      "text/html": [
       "<pre>| 250       | 6313.650967  | 0.445369      | 0.453014        |</pre>"
      ],
      "text/plain": [
       "| 250       | 6313.650967  | 0.445369      | 0.453014        |"
      ]
     },
     "metadata": {},
     "output_type": "display_data"
    },
    {
     "data": {
      "text/html": [
       "<pre>| 251       | 6338.551657  | 0.445315      | 0.452974        |</pre>"
      ],
      "text/plain": [
       "| 251       | 6338.551657  | 0.445315      | 0.452974        |"
      ]
     },
     "metadata": {},
     "output_type": "display_data"
    },
    {
     "data": {
      "text/html": [
       "<pre>| 252       | 6362.760788  | 0.445285      | 0.452955        |</pre>"
      ],
      "text/plain": [
       "| 252       | 6362.760788  | 0.445285      | 0.452955        |"
      ]
     },
     "metadata": {},
     "output_type": "display_data"
    },
    {
     "data": {
      "text/html": [
       "<pre>| 253       | 6386.772331  | 0.445240      | 0.452935        |</pre>"
      ],
      "text/plain": [
       "| 253       | 6386.772331  | 0.445240      | 0.452935        |"
      ]
     },
     "metadata": {},
     "output_type": "display_data"
    },
    {
     "data": {
      "text/html": [
       "<pre>| 254       | 6411.690034  | 0.445198      | 0.452894        |</pre>"
      ],
      "text/plain": [
       "| 254       | 6411.690034  | 0.445198      | 0.452894        |"
      ]
     },
     "metadata": {},
     "output_type": "display_data"
    },
    {
     "data": {
      "text/html": [
       "<pre>| 255       | 6435.684623  | 0.445157      | 0.452868        |</pre>"
      ],
      "text/plain": [
       "| 255       | 6435.684623  | 0.445157      | 0.452868        |"
      ]
     },
     "metadata": {},
     "output_type": "display_data"
    },
    {
     "data": {
      "text/html": [
       "<pre>| 256       | 6459.883817  | 0.445097      | 0.452828        |</pre>"
      ],
      "text/plain": [
       "| 256       | 6459.883817  | 0.445097      | 0.452828        |"
      ]
     },
     "metadata": {},
     "output_type": "display_data"
    },
    {
     "data": {
      "text/html": [
       "<pre>| 257       | 6486.917085  | 0.445054      | 0.452781        |</pre>"
      ],
      "text/plain": [
       "| 257       | 6486.917085  | 0.445054      | 0.452781        |"
      ]
     },
     "metadata": {},
     "output_type": "display_data"
    },
    {
     "data": {
      "text/html": [
       "<pre>| 258       | 6511.549384  | 0.445014      | 0.452758        |</pre>"
      ],
      "text/plain": [
       "| 258       | 6511.549384  | 0.445014      | 0.452758        |"
      ]
     },
     "metadata": {},
     "output_type": "display_data"
    },
    {
     "data": {
      "text/html": [
       "<pre>| 259       | 6534.960738  | 0.444991      | 0.452743        |</pre>"
      ],
      "text/plain": [
       "| 259       | 6534.960738  | 0.444991      | 0.452743        |"
      ]
     },
     "metadata": {},
     "output_type": "display_data"
    },
    {
     "data": {
      "text/html": [
       "<pre>| 260       | 6559.804255  | 0.444951      | 0.452743        |</pre>"
      ],
      "text/plain": [
       "| 260       | 6559.804255  | 0.444951      | 0.452743        |"
      ]
     },
     "metadata": {},
     "output_type": "display_data"
    },
    {
     "data": {
      "text/html": [
       "<pre>| 261       | 6584.889542  | 0.444904      | 0.452746        |</pre>"
      ],
      "text/plain": [
       "| 261       | 6584.889542  | 0.444904      | 0.452746        |"
      ]
     },
     "metadata": {},
     "output_type": "display_data"
    },
    {
     "data": {
      "text/html": [
       "<pre>| 262       | 6609.855286  | 0.444867      | 0.452730        |</pre>"
      ],
      "text/plain": [
       "| 262       | 6609.855286  | 0.444867      | 0.452730        |"
      ]
     },
     "metadata": {},
     "output_type": "display_data"
    },
    {
     "data": {
      "text/html": [
       "<pre>| 263       | 6635.587002  | 0.444820      | 0.452653        |</pre>"
      ],
      "text/plain": [
       "| 263       | 6635.587002  | 0.444820      | 0.452653        |"
      ]
     },
     "metadata": {},
     "output_type": "display_data"
    },
    {
     "data": {
      "text/html": [
       "<pre>| 264       | 6659.537283  | 0.444764      | 0.452601        |</pre>"
      ],
      "text/plain": [
       "| 264       | 6659.537283  | 0.444764      | 0.452601        |"
      ]
     },
     "metadata": {},
     "output_type": "display_data"
    },
    {
     "data": {
      "text/html": [
       "<pre>| 265       | 6683.736250  | 0.444732      | 0.452613        |</pre>"
      ],
      "text/plain": [
       "| 265       | 6683.736250  | 0.444732      | 0.452613        |"
      ]
     },
     "metadata": {},
     "output_type": "display_data"
    },
    {
     "data": {
      "text/html": [
       "<pre>| 266       | 6707.338839  | 0.444694      | 0.452580        |</pre>"
      ],
      "text/plain": [
       "| 266       | 6707.338839  | 0.444694      | 0.452580        |"
      ]
     },
     "metadata": {},
     "output_type": "display_data"
    },
    {
     "data": {
      "text/html": [
       "<pre>| 267       | 6732.976413  | 0.444642      | 0.452578        |</pre>"
      ],
      "text/plain": [
       "| 267       | 6732.976413  | 0.444642      | 0.452578        |"
      ]
     },
     "metadata": {},
     "output_type": "display_data"
    },
    {
     "data": {
      "text/html": [
       "<pre>| 268       | 6756.806718  | 0.444609      | 0.452579        |</pre>"
      ],
      "text/plain": [
       "| 268       | 6756.806718  | 0.444609      | 0.452579        |"
      ]
     },
     "metadata": {},
     "output_type": "display_data"
    },
    {
     "data": {
      "text/html": [
       "<pre>| 269       | 6782.247956  | 0.444571      | 0.452558        |</pre>"
      ],
      "text/plain": [
       "| 269       | 6782.247956  | 0.444571      | 0.452558        |"
      ]
     },
     "metadata": {},
     "output_type": "display_data"
    },
    {
     "data": {
      "text/html": [
       "<pre>| 270       | 6806.422472  | 0.444544      | 0.452529        |</pre>"
      ],
      "text/plain": [
       "| 270       | 6806.422472  | 0.444544      | 0.452529        |"
      ]
     },
     "metadata": {},
     "output_type": "display_data"
    },
    {
     "data": {
      "text/html": [
       "<pre>| 271       | 6831.561984  | 0.444482      | 0.452495        |</pre>"
      ],
      "text/plain": [
       "| 271       | 6831.561984  | 0.444482      | 0.452495        |"
      ]
     },
     "metadata": {},
     "output_type": "display_data"
    },
    {
     "data": {
      "text/html": [
       "<pre>| 272       | 6856.969839  | 0.444445      | 0.452471        |</pre>"
      ],
      "text/plain": [
       "| 272       | 6856.969839  | 0.444445      | 0.452471        |"
      ]
     },
     "metadata": {},
     "output_type": "display_data"
    },
    {
     "data": {
      "text/html": [
       "<pre>| 273       | 6881.524544  | 0.444417      | 0.452460        |</pre>"
      ],
      "text/plain": [
       "| 273       | 6881.524544  | 0.444417      | 0.452460        |"
      ]
     },
     "metadata": {},
     "output_type": "display_data"
    },
    {
     "data": {
      "text/html": [
       "<pre>| 274       | 6903.800454  | 0.444411      | 0.452450        |</pre>"
      ],
      "text/plain": [
       "| 274       | 6903.800454  | 0.444411      | 0.452450        |"
      ]
     },
     "metadata": {},
     "output_type": "display_data"
    },
    {
     "data": {
      "text/html": [
       "<pre>| 275       | 6928.016408  | 0.444384      | 0.452428        |</pre>"
      ],
      "text/plain": [
       "| 275       | 6928.016408  | 0.444384      | 0.452428        |"
      ]
     },
     "metadata": {},
     "output_type": "display_data"
    },
    {
     "data": {
      "text/html": [
       "<pre>| 276       | 6952.218345  | 0.444372      | 0.452437        |</pre>"
      ],
      "text/plain": [
       "| 276       | 6952.218345  | 0.444372      | 0.452437        |"
      ]
     },
     "metadata": {},
     "output_type": "display_data"
    },
    {
     "data": {
      "text/html": [
       "<pre>| 277       | 6975.470422  | 0.444329      | 0.452432        |</pre>"
      ],
      "text/plain": [
       "| 277       | 6975.470422  | 0.444329      | 0.452432        |"
      ]
     },
     "metadata": {},
     "output_type": "display_data"
    },
    {
     "data": {
      "text/html": [
       "<pre>| 278       | 6998.879913  | 0.444287      | 0.452414        |</pre>"
      ],
      "text/plain": [
       "| 278       | 6998.879913  | 0.444287      | 0.452414        |"
      ]
     },
     "metadata": {},
     "output_type": "display_data"
    },
    {
     "data": {
      "text/html": [
       "<pre>| 279       | 7023.946566  | 0.444248      | 0.452398        |</pre>"
      ],
      "text/plain": [
       "| 279       | 7023.946566  | 0.444248      | 0.452398        |"
      ]
     },
     "metadata": {},
     "output_type": "display_data"
    },
    {
     "data": {
      "text/html": [
       "<pre>| 280       | 7047.240214  | 0.444206      | 0.452381        |</pre>"
      ],
      "text/plain": [
       "| 280       | 7047.240214  | 0.444206      | 0.452381        |"
      ]
     },
     "metadata": {},
     "output_type": "display_data"
    },
    {
     "data": {
      "text/html": [
       "<pre>| 281       | 7072.534905  | 0.444178      | 0.452360        |</pre>"
      ],
      "text/plain": [
       "| 281       | 7072.534905  | 0.444178      | 0.452360        |"
      ]
     },
     "metadata": {},
     "output_type": "display_data"
    },
    {
     "data": {
      "text/html": [
       "<pre>| 282       | 7096.333493  | 0.444153      | 0.452356        |</pre>"
      ],
      "text/plain": [
       "| 282       | 7096.333493  | 0.444153      | 0.452356        |"
      ]
     },
     "metadata": {},
     "output_type": "display_data"
    },
    {
     "data": {
      "text/html": [
       "<pre>| 283       | 7121.044282  | 0.444132      | 0.452337        |</pre>"
      ],
      "text/plain": [
       "| 283       | 7121.044282  | 0.444132      | 0.452337        |"
      ]
     },
     "metadata": {},
     "output_type": "display_data"
    },
    {
     "data": {
      "text/html": [
       "<pre>| 284       | 7144.017823  | 0.444094      | 0.452273        |</pre>"
      ],
      "text/plain": [
       "| 284       | 7144.017823  | 0.444094      | 0.452273        |"
      ]
     },
     "metadata": {},
     "output_type": "display_data"
    },
    {
     "data": {
      "text/html": [
       "<pre>| 285       | 7168.705735  | 0.444062      | 0.452196        |</pre>"
      ],
      "text/plain": [
       "| 285       | 7168.705735  | 0.444062      | 0.452196        |"
      ]
     },
     "metadata": {},
     "output_type": "display_data"
    },
    {
     "data": {
      "text/html": [
       "<pre>| 286       | 7193.069968  | 0.444011      | 0.452131        |</pre>"
      ],
      "text/plain": [
       "| 286       | 7193.069968  | 0.444011      | 0.452131        |"
      ]
     },
     "metadata": {},
     "output_type": "display_data"
    },
    {
     "data": {
      "text/html": [
       "<pre>| 287       | 7217.843447  | 0.443952      | 0.452050        |</pre>"
      ],
      "text/plain": [
       "| 287       | 7217.843447  | 0.443952      | 0.452050        |"
      ]
     },
     "metadata": {},
     "output_type": "display_data"
    },
    {
     "data": {
      "text/html": [
       "<pre>| 288       | 7241.955435  | 0.443907      | 0.452020        |</pre>"
      ],
      "text/plain": [
       "| 288       | 7241.955435  | 0.443907      | 0.452020        |"
      ]
     },
     "metadata": {},
     "output_type": "display_data"
    },
    {
     "data": {
      "text/html": [
       "<pre>| 289       | 7267.102691  | 0.443880      | 0.452014        |</pre>"
      ],
      "text/plain": [
       "| 289       | 7267.102691  | 0.443880      | 0.452014        |"
      ]
     },
     "metadata": {},
     "output_type": "display_data"
    },
    {
     "data": {
      "text/html": [
       "<pre>| 290       | 7291.963305  | 0.443838      | 0.451969        |</pre>"
      ],
      "text/plain": [
       "| 290       | 7291.963305  | 0.443838      | 0.451969        |"
      ]
     },
     "metadata": {},
     "output_type": "display_data"
    },
    {
     "data": {
      "text/html": [
       "<pre>| 291       | 7317.443925  | 0.443810      | 0.451956        |</pre>"
      ],
      "text/plain": [
       "| 291       | 7317.443925  | 0.443810      | 0.451956        |"
      ]
     },
     "metadata": {},
     "output_type": "display_data"
    },
    {
     "data": {
      "text/html": [
       "<pre>| 292       | 7340.523787  | 0.443779      | 0.451961        |</pre>"
      ],
      "text/plain": [
       "| 292       | 7340.523787  | 0.443779      | 0.451961        |"
      ]
     },
     "metadata": {},
     "output_type": "display_data"
    },
    {
     "data": {
      "text/html": [
       "<pre>| 293       | 7367.005782  | 0.443728      | 0.451939        |</pre>"
      ],
      "text/plain": [
       "| 293       | 7367.005782  | 0.443728      | 0.451939        |"
      ]
     },
     "metadata": {},
     "output_type": "display_data"
    },
    {
     "data": {
      "text/html": [
       "<pre>| 294       | 7391.783851  | 0.443685      | 0.451921        |</pre>"
      ],
      "text/plain": [
       "| 294       | 7391.783851  | 0.443685      | 0.451921        |"
      ]
     },
     "metadata": {},
     "output_type": "display_data"
    },
    {
     "data": {
      "text/html": [
       "<pre>| 295       | 7415.947463  | 0.443656      | 0.451921        |</pre>"
      ],
      "text/plain": [
       "| 295       | 7415.947463  | 0.443656      | 0.451921        |"
      ]
     },
     "metadata": {},
     "output_type": "display_data"
    },
    {
     "data": {
      "text/html": [
       "<pre>| 296       | 7441.720151  | 0.443601      | 0.451909        |</pre>"
      ],
      "text/plain": [
       "| 296       | 7441.720151  | 0.443601      | 0.451909        |"
      ]
     },
     "metadata": {},
     "output_type": "display_data"
    },
    {
     "data": {
      "text/html": [
       "<pre>| 297       | 7467.324430  | 0.443569      | 0.451903        |</pre>"
      ],
      "text/plain": [
       "| 297       | 7467.324430  | 0.443569      | 0.451903        |"
      ]
     },
     "metadata": {},
     "output_type": "display_data"
    },
    {
     "data": {
      "text/html": [
       "<pre>| 298       | 7491.586962  | 0.443533      | 0.451913        |</pre>"
      ],
      "text/plain": [
       "| 298       | 7491.586962  | 0.443533      | 0.451913        |"
      ]
     },
     "metadata": {},
     "output_type": "display_data"
    },
    {
     "data": {
      "text/html": [
       "<pre>| 299       | 7516.104541  | 0.443514      | 0.451907        |</pre>"
      ],
      "text/plain": [
       "| 299       | 7516.104541  | 0.443514      | 0.451907        |"
      ]
     },
     "metadata": {},
     "output_type": "display_data"
    },
    {
     "data": {
      "text/html": [
       "<pre>| 300       | 7542.102589  | 0.443488      | 0.451899        |</pre>"
      ],
      "text/plain": [
       "| 300       | 7542.102589  | 0.443488      | 0.451899        |"
      ]
     },
     "metadata": {},
     "output_type": "display_data"
    },
    {
     "data": {
      "text/html": [
       "<pre>| 301       | 7567.654737  | 0.443441      | 0.451857        |</pre>"
      ],
      "text/plain": [
       "| 301       | 7567.654737  | 0.443441      | 0.451857        |"
      ]
     },
     "metadata": {},
     "output_type": "display_data"
    },
    {
     "data": {
      "text/html": [
       "<pre>| 302       | 7592.793003  | 0.443405      | 0.451822        |</pre>"
      ],
      "text/plain": [
       "| 302       | 7592.793003  | 0.443405      | 0.451822        |"
      ]
     },
     "metadata": {},
     "output_type": "display_data"
    },
    {
     "data": {
      "text/html": [
       "<pre>| 303       | 7618.890839  | 0.443369      | 0.451804        |</pre>"
      ],
      "text/plain": [
       "| 303       | 7618.890839  | 0.443369      | 0.451804        |"
      ]
     },
     "metadata": {},
     "output_type": "display_data"
    },
    {
     "data": {
      "text/html": [
       "<pre>| 304       | 7643.398803  | 0.443339      | 0.451800        |</pre>"
      ],
      "text/plain": [
       "| 304       | 7643.398803  | 0.443339      | 0.451800        |"
      ]
     },
     "metadata": {},
     "output_type": "display_data"
    },
    {
     "data": {
      "text/html": [
       "<pre>| 305       | 7667.668196  | 0.443307      | 0.451795        |</pre>"
      ],
      "text/plain": [
       "| 305       | 7667.668196  | 0.443307      | 0.451795        |"
      ]
     },
     "metadata": {},
     "output_type": "display_data"
    },
    {
     "data": {
      "text/html": [
       "<pre>| 306       | 7692.620766  | 0.443273      | 0.451774        |</pre>"
      ],
      "text/plain": [
       "| 306       | 7692.620766  | 0.443273      | 0.451774        |"
      ]
     },
     "metadata": {},
     "output_type": "display_data"
    },
    {
     "data": {
      "text/html": [
       "<pre>| 307       | 7716.201787  | 0.443240      | 0.451755        |</pre>"
      ],
      "text/plain": [
       "| 307       | 7716.201787  | 0.443240      | 0.451755        |"
      ]
     },
     "metadata": {},
     "output_type": "display_data"
    },
    {
     "data": {
      "text/html": [
       "<pre>| 308       | 7741.692881  | 0.443212      | 0.451746        |</pre>"
      ],
      "text/plain": [
       "| 308       | 7741.692881  | 0.443212      | 0.451746        |"
      ]
     },
     "metadata": {},
     "output_type": "display_data"
    },
    {
     "data": {
      "text/html": [
       "<pre>| 309       | 7767.673697  | 0.443184      | 0.451739        |</pre>"
      ],
      "text/plain": [
       "| 309       | 7767.673697  | 0.443184      | 0.451739        |"
      ]
     },
     "metadata": {},
     "output_type": "display_data"
    },
    {
     "data": {
      "text/html": [
       "<pre>| 310       | 7794.565701  | 0.443168      | 0.451745        |</pre>"
      ],
      "text/plain": [
       "| 310       | 7794.565701  | 0.443168      | 0.451745        |"
      ]
     },
     "metadata": {},
     "output_type": "display_data"
    },
    {
     "data": {
      "text/html": [
       "<pre>| 311       | 7820.309222  | 0.443099      | 0.451709        |</pre>"
      ],
      "text/plain": [
       "| 311       | 7820.309222  | 0.443099      | 0.451709        |"
      ]
     },
     "metadata": {},
     "output_type": "display_data"
    },
    {
     "data": {
      "text/html": [
       "<pre>| 312       | 7844.707201  | 0.443067      | 0.451727        |</pre>"
      ],
      "text/plain": [
       "| 312       | 7844.707201  | 0.443067      | 0.451727        |"
      ]
     },
     "metadata": {},
     "output_type": "display_data"
    },
    {
     "data": {
      "text/html": [
       "<pre>| 313       | 7872.424928  | 0.443037      | 0.451695        |</pre>"
      ],
      "text/plain": [
       "| 313       | 7872.424928  | 0.443037      | 0.451695        |"
      ]
     },
     "metadata": {},
     "output_type": "display_data"
    },
    {
     "data": {
      "text/html": [
       "<pre>| 314       | 7897.443833  | 0.443009      | 0.451688        |</pre>"
      ],
      "text/plain": [
       "| 314       | 7897.443833  | 0.443009      | 0.451688        |"
      ]
     },
     "metadata": {},
     "output_type": "display_data"
    },
    {
     "data": {
      "text/html": [
       "<pre>| 315       | 7924.967986  | 0.442985      | 0.451662        |</pre>"
      ],
      "text/plain": [
       "| 315       | 7924.967986  | 0.442985      | 0.451662        |"
      ]
     },
     "metadata": {},
     "output_type": "display_data"
    },
    {
     "data": {
      "text/html": [
       "<pre>| 316       | 7950.872090  | 0.442967      | 0.451656        |</pre>"
      ],
      "text/plain": [
       "| 316       | 7950.872090  | 0.442967      | 0.451656        |"
      ]
     },
     "metadata": {},
     "output_type": "display_data"
    },
    {
     "data": {
      "text/html": [
       "<pre>| 317       | 7977.243106  | 0.442936      | 0.451651        |</pre>"
      ],
      "text/plain": [
       "| 317       | 7977.243106  | 0.442936      | 0.451651        |"
      ]
     },
     "metadata": {},
     "output_type": "display_data"
    },
    {
     "data": {
      "text/html": [
       "<pre>| 318       | 8003.276498  | 0.442874      | 0.451652        |</pre>"
      ],
      "text/plain": [
       "| 318       | 8003.276498  | 0.442874      | 0.451652        |"
      ]
     },
     "metadata": {},
     "output_type": "display_data"
    },
    {
     "data": {
      "text/html": [
       "<pre>| 319       | 8028.774904  | 0.442852      | 0.451651        |</pre>"
      ],
      "text/plain": [
       "| 319       | 8028.774904  | 0.442852      | 0.451651        |"
      ]
     },
     "metadata": {},
     "output_type": "display_data"
    },
    {
     "data": {
      "text/html": [
       "<pre>| 320       | 8054.676661  | 0.442818      | 0.451671        |</pre>"
      ],
      "text/plain": [
       "| 320       | 8054.676661  | 0.442818      | 0.451671        |"
      ]
     },
     "metadata": {},
     "output_type": "display_data"
    },
    {
     "data": {
      "text/html": [
       "<pre>| 321       | 8081.303153  | 0.442784      | 0.451622        |</pre>"
      ],
      "text/plain": [
       "| 321       | 8081.303153  | 0.442784      | 0.451622        |"
      ]
     },
     "metadata": {},
     "output_type": "display_data"
    },
    {
     "data": {
      "text/html": [
       "<pre>| 322       | 8107.566947  | 0.442748      | 0.451646        |</pre>"
      ],
      "text/plain": [
       "| 322       | 8107.566947  | 0.442748      | 0.451646        |"
      ]
     },
     "metadata": {},
     "output_type": "display_data"
    },
    {
     "data": {
      "text/html": [
       "<pre>| 323       | 8132.302536  | 0.442689      | 0.451632        |</pre>"
      ],
      "text/plain": [
       "| 323       | 8132.302536  | 0.442689      | 0.451632        |"
      ]
     },
     "metadata": {},
     "output_type": "display_data"
    },
    {
     "data": {
      "text/html": [
       "<pre>| 324       | 8156.553433  | 0.442665      | 0.451599        |</pre>"
      ],
      "text/plain": [
       "| 324       | 8156.553433  | 0.442665      | 0.451599        |"
      ]
     },
     "metadata": {},
     "output_type": "display_data"
    },
    {
     "data": {
      "text/html": [
       "<pre>| 325       | 8180.404626  | 0.442642      | 0.451625        |</pre>"
      ],
      "text/plain": [
       "| 325       | 8180.404626  | 0.442642      | 0.451625        |"
      ]
     },
     "metadata": {},
     "output_type": "display_data"
    },
    {
     "data": {
      "text/html": [
       "<pre>| 326       | 8206.170376  | 0.442614      | 0.451640        |</pre>"
      ],
      "text/plain": [
       "| 326       | 8206.170376  | 0.442614      | 0.451640        |"
      ]
     },
     "metadata": {},
     "output_type": "display_data"
    },
    {
     "data": {
      "text/html": [
       "<pre>| 327       | 8231.598320  | 0.442590      | 0.451641        |</pre>"
      ],
      "text/plain": [
       "| 327       | 8231.598320  | 0.442590      | 0.451641        |"
      ]
     },
     "metadata": {},
     "output_type": "display_data"
    },
    {
     "data": {
      "text/html": [
       "<pre>| 328       | 8256.396513  | 0.442536      | 0.451595        |</pre>"
      ],
      "text/plain": [
       "| 328       | 8256.396513  | 0.442536      | 0.451595        |"
      ]
     },
     "metadata": {},
     "output_type": "display_data"
    },
    {
     "data": {
      "text/html": [
       "<pre>| 329       | 8282.594586  | 0.442501      | 0.451610        |</pre>"
      ],
      "text/plain": [
       "| 329       | 8282.594586  | 0.442501      | 0.451610        |"
      ]
     },
     "metadata": {},
     "output_type": "display_data"
    },
    {
     "data": {
      "text/html": [
       "<pre>| 330       | 8306.904758  | 0.442452      | 0.451586        |</pre>"
      ],
      "text/plain": [
       "| 330       | 8306.904758  | 0.442452      | 0.451586        |"
      ]
     },
     "metadata": {},
     "output_type": "display_data"
    },
    {
     "data": {
      "text/html": [
       "<pre>| 331       | 8331.167950  | 0.442421      | 0.451576        |</pre>"
      ],
      "text/plain": [
       "| 331       | 8331.167950  | 0.442421      | 0.451576        |"
      ]
     },
     "metadata": {},
     "output_type": "display_data"
    },
    {
     "data": {
      "text/html": [
       "<pre>| 332       | 8355.632582  | 0.442394      | 0.451520        |</pre>"
      ],
      "text/plain": [
       "| 332       | 8355.632582  | 0.442394      | 0.451520        |"
      ]
     },
     "metadata": {},
     "output_type": "display_data"
    },
    {
     "data": {
      "text/html": [
       "<pre>| 333       | 8380.740164  | 0.442374      | 0.451505        |</pre>"
      ],
      "text/plain": [
       "| 333       | 8380.740164  | 0.442374      | 0.451505        |"
      ]
     },
     "metadata": {},
     "output_type": "display_data"
    },
    {
     "data": {
      "text/html": [
       "<pre>| 334       | 8405.802442  | 0.442317      | 0.451415        |</pre>"
      ],
      "text/plain": [
       "| 334       | 8405.802442  | 0.442317      | 0.451415        |"
      ]
     },
     "metadata": {},
     "output_type": "display_data"
    },
    {
     "data": {
      "text/html": [
       "<pre>| 335       | 8429.605788  | 0.442295      | 0.451414        |</pre>"
      ],
      "text/plain": [
       "| 335       | 8429.605788  | 0.442295      | 0.451414        |"
      ]
     },
     "metadata": {},
     "output_type": "display_data"
    },
    {
     "data": {
      "text/html": [
       "<pre>| 336       | 8456.885719  | 0.442271      | 0.451403        |</pre>"
      ],
      "text/plain": [
       "| 336       | 8456.885719  | 0.442271      | 0.451403        |"
      ]
     },
     "metadata": {},
     "output_type": "display_data"
    },
    {
     "data": {
      "text/html": [
       "<pre>| 337       | 8480.946184  | 0.442263      | 0.451395        |</pre>"
      ],
      "text/plain": [
       "| 337       | 8480.946184  | 0.442263      | 0.451395        |"
      ]
     },
     "metadata": {},
     "output_type": "display_data"
    },
    {
     "data": {
      "text/html": [
       "<pre>| 338       | 8503.979076  | 0.442232      | 0.451375        |</pre>"
      ],
      "text/plain": [
       "| 338       | 8503.979076  | 0.442232      | 0.451375        |"
      ]
     },
     "metadata": {},
     "output_type": "display_data"
    },
    {
     "data": {
      "text/html": [
       "<pre>| 339       | 8529.472028  | 0.442182      | 0.451337        |</pre>"
      ],
      "text/plain": [
       "| 339       | 8529.472028  | 0.442182      | 0.451337        |"
      ]
     },
     "metadata": {},
     "output_type": "display_data"
    },
    {
     "data": {
      "text/html": [
       "<pre>| 340       | 8555.182783  | 0.442134      | 0.451280        |</pre>"
      ],
      "text/plain": [
       "| 340       | 8555.182783  | 0.442134      | 0.451280        |"
      ]
     },
     "metadata": {},
     "output_type": "display_data"
    },
    {
     "data": {
      "text/html": [
       "<pre>| 341       | 8579.250571  | 0.442105      | 0.451265        |</pre>"
      ],
      "text/plain": [
       "| 341       | 8579.250571  | 0.442105      | 0.451265        |"
      ]
     },
     "metadata": {},
     "output_type": "display_data"
    },
    {
     "data": {
      "text/html": [
       "<pre>| 342       | 8603.110608  | 0.442057      | 0.451245        |</pre>"
      ],
      "text/plain": [
       "| 342       | 8603.110608  | 0.442057      | 0.451245        |"
      ]
     },
     "metadata": {},
     "output_type": "display_data"
    },
    {
     "data": {
      "text/html": [
       "<pre>| 343       | 8628.624759  | 0.442031      | 0.451216        |</pre>"
      ],
      "text/plain": [
       "| 343       | 8628.624759  | 0.442031      | 0.451216        |"
      ]
     },
     "metadata": {},
     "output_type": "display_data"
    },
    {
     "data": {
      "text/html": [
       "<pre>| 344       | 8652.154562  | 0.441984      | 0.451161        |</pre>"
      ],
      "text/plain": [
       "| 344       | 8652.154562  | 0.441984      | 0.451161        |"
      ]
     },
     "metadata": {},
     "output_type": "display_data"
    },
    {
     "data": {
      "text/html": [
       "<pre>| 345       | 8677.223964  | 0.441953      | 0.451137        |</pre>"
      ],
      "text/plain": [
       "| 345       | 8677.223964  | 0.441953      | 0.451137        |"
      ]
     },
     "metadata": {},
     "output_type": "display_data"
    },
    {
     "data": {
      "text/html": [
       "<pre>| 346       | 8702.441327  | 0.441912      | 0.451108        |</pre>"
      ],
      "text/plain": [
       "| 346       | 8702.441327  | 0.441912      | 0.451108        |"
      ]
     },
     "metadata": {},
     "output_type": "display_data"
    },
    {
     "data": {
      "text/html": [
       "<pre>| 347       | 8727.909345  | 0.441887      | 0.451106        |</pre>"
      ],
      "text/plain": [
       "| 347       | 8727.909345  | 0.441887      | 0.451106        |"
      ]
     },
     "metadata": {},
     "output_type": "display_data"
    },
    {
     "data": {
      "text/html": [
       "<pre>| 348       | 8751.022077  | 0.441875      | 0.451091        |</pre>"
      ],
      "text/plain": [
       "| 348       | 8751.022077  | 0.441875      | 0.451091        |"
      ]
     },
     "metadata": {},
     "output_type": "display_data"
    },
    {
     "data": {
      "text/html": [
       "<pre>| 349       | 8774.654460  | 0.441855      | 0.451077        |</pre>"
      ],
      "text/plain": [
       "| 349       | 8774.654460  | 0.441855      | 0.451077        |"
      ]
     },
     "metadata": {},
     "output_type": "display_data"
    },
    {
     "data": {
      "text/html": [
       "<pre>| 350       | 8799.330961  | 0.441822      | 0.451047        |</pre>"
      ],
      "text/plain": [
       "| 350       | 8799.330961  | 0.441822      | 0.451047        |"
      ]
     },
     "metadata": {},
     "output_type": "display_data"
    },
    {
     "data": {
      "text/html": [
       "<pre>| 351       | 8824.706408  | 0.441782      | 0.451051        |</pre>"
      ],
      "text/plain": [
       "| 351       | 8824.706408  | 0.441782      | 0.451051        |"
      ]
     },
     "metadata": {},
     "output_type": "display_data"
    },
    {
     "data": {
      "text/html": [
       "<pre>| 352       | 8848.631702  | 0.441750      | 0.451027        |</pre>"
      ],
      "text/plain": [
       "| 352       | 8848.631702  | 0.441750      | 0.451027        |"
      ]
     },
     "metadata": {},
     "output_type": "display_data"
    },
    {
     "data": {
      "text/html": [
       "<pre>| 353       | 8874.631481  | 0.441693      | 0.451007        |</pre>"
      ],
      "text/plain": [
       "| 353       | 8874.631481  | 0.441693      | 0.451007        |"
      ]
     },
     "metadata": {},
     "output_type": "display_data"
    },
    {
     "data": {
      "text/html": [
       "<pre>| 354       | 8898.637028  | 0.441660      | 0.451005        |</pre>"
      ],
      "text/plain": [
       "| 354       | 8898.637028  | 0.441660      | 0.451005        |"
      ]
     },
     "metadata": {},
     "output_type": "display_data"
    },
    {
     "data": {
      "text/html": [
       "<pre>| 355       | 8922.766109  | 0.441640      | 0.450992        |</pre>"
      ],
      "text/plain": [
       "| 355       | 8922.766109  | 0.441640      | 0.450992        |"
      ]
     },
     "metadata": {},
     "output_type": "display_data"
    },
    {
     "data": {
      "text/html": [
       "<pre>| 356       | 8946.927449  | 0.441616      | 0.450976        |</pre>"
      ],
      "text/plain": [
       "| 356       | 8946.927449  | 0.441616      | 0.450976        |"
      ]
     },
     "metadata": {},
     "output_type": "display_data"
    },
    {
     "data": {
      "text/html": [
       "<pre>| 357       | 8971.419532  | 0.441587      | 0.450974        |</pre>"
      ],
      "text/plain": [
       "| 357       | 8971.419532  | 0.441587      | 0.450974        |"
      ]
     },
     "metadata": {},
     "output_type": "display_data"
    },
    {
     "data": {
      "text/html": [
       "<pre>| 358       | 8994.247894  | 0.441549      | 0.450969        |</pre>"
      ],
      "text/plain": [
       "| 358       | 8994.247894  | 0.441549      | 0.450969        |"
      ]
     },
     "metadata": {},
     "output_type": "display_data"
    },
    {
     "data": {
      "text/html": [
       "<pre>| 359       | 9020.143856  | 0.441514      | 0.450952        |</pre>"
      ],
      "text/plain": [
       "| 359       | 9020.143856  | 0.441514      | 0.450952        |"
      ]
     },
     "metadata": {},
     "output_type": "display_data"
    },
    {
     "data": {
      "text/html": [
       "<pre>| 360       | 9046.018075  | 0.441473      | 0.450931        |</pre>"
      ],
      "text/plain": [
       "| 360       | 9046.018075  | 0.441473      | 0.450931        |"
      ]
     },
     "metadata": {},
     "output_type": "display_data"
    },
    {
     "data": {
      "text/html": [
       "<pre>| 361       | 9070.510361  | 0.441432      | 0.450910        |</pre>"
      ],
      "text/plain": [
       "| 361       | 9070.510361  | 0.441432      | 0.450910        |"
      ]
     },
     "metadata": {},
     "output_type": "display_data"
    },
    {
     "data": {
      "text/html": [
       "<pre>| 362       | 9096.173470  | 0.441414      | 0.450894        |</pre>"
      ],
      "text/plain": [
       "| 362       | 9096.173470  | 0.441414      | 0.450894        |"
      ]
     },
     "metadata": {},
     "output_type": "display_data"
    },
    {
     "data": {
      "text/html": [
       "<pre>| 363       | 9120.172982  | 0.441397      | 0.450912        |</pre>"
      ],
      "text/plain": [
       "| 363       | 9120.172982  | 0.441397      | 0.450912        |"
      ]
     },
     "metadata": {},
     "output_type": "display_data"
    },
    {
     "data": {
      "text/html": [
       "<pre>| 364       | 9145.737545  | 0.441371      | 0.450904        |</pre>"
      ],
      "text/plain": [
       "| 364       | 9145.737545  | 0.441371      | 0.450904        |"
      ]
     },
     "metadata": {},
     "output_type": "display_data"
    },
    {
     "data": {
      "text/html": [
       "<pre>| 365       | 9170.624566  | 0.441343      | 0.450878        |</pre>"
      ],
      "text/plain": [
       "| 365       | 9170.624566  | 0.441343      | 0.450878        |"
      ]
     },
     "metadata": {},
     "output_type": "display_data"
    },
    {
     "data": {
      "text/html": [
       "<pre>| 366       | 9195.116498  | 0.441313      | 0.450880        |</pre>"
      ],
      "text/plain": [
       "| 366       | 9195.116498  | 0.441313      | 0.450880        |"
      ]
     },
     "metadata": {},
     "output_type": "display_data"
    },
    {
     "data": {
      "text/html": [
       "<pre>| 367       | 9218.934164  | 0.441299      | 0.450878        |</pre>"
      ],
      "text/plain": [
       "| 367       | 9218.934164  | 0.441299      | 0.450878        |"
      ]
     },
     "metadata": {},
     "output_type": "display_data"
    },
    {
     "data": {
      "text/html": [
       "<pre>| 368       | 9243.812209  | 0.441280      | 0.450883        |</pre>"
      ],
      "text/plain": [
       "| 368       | 9243.812209  | 0.441280      | 0.450883        |"
      ]
     },
     "metadata": {},
     "output_type": "display_data"
    },
    {
     "data": {
      "text/html": [
       "<pre>| 369       | 9266.764234  | 0.441262      | 0.450878        |</pre>"
      ],
      "text/plain": [
       "| 369       | 9266.764234  | 0.441262      | 0.450878        |"
      ]
     },
     "metadata": {},
     "output_type": "display_data"
    },
    {
     "data": {
      "text/html": [
       "<pre>| 370       | 9291.516514  | 0.441246      | 0.450874        |</pre>"
      ],
      "text/plain": [
       "| 370       | 9291.516514  | 0.441246      | 0.450874        |"
      ]
     },
     "metadata": {},
     "output_type": "display_data"
    },
    {
     "data": {
      "text/html": [
       "<pre>| 371       | 9317.343121  | 0.441207      | 0.450883        |</pre>"
      ],
      "text/plain": [
       "| 371       | 9317.343121  | 0.441207      | 0.450883        |"
      ]
     },
     "metadata": {},
     "output_type": "display_data"
    },
    {
     "data": {
      "text/html": [
       "<pre>| 372       | 9340.870642  | 0.441162      | 0.450823        |</pre>"
      ],
      "text/plain": [
       "| 372       | 9340.870642  | 0.441162      | 0.450823        |"
      ]
     },
     "metadata": {},
     "output_type": "display_data"
    },
    {
     "data": {
      "text/html": [
       "<pre>| 373       | 9365.338419  | 0.441133      | 0.450808        |</pre>"
      ],
      "text/plain": [
       "| 373       | 9365.338419  | 0.441133      | 0.450808        |"
      ]
     },
     "metadata": {},
     "output_type": "display_data"
    },
    {
     "data": {
      "text/html": [
       "<pre>| 374       | 9390.671845  | 0.441106      | 0.450810        |</pre>"
      ],
      "text/plain": [
       "| 374       | 9390.671845  | 0.441106      | 0.450810        |"
      ]
     },
     "metadata": {},
     "output_type": "display_data"
    },
    {
     "data": {
      "text/html": [
       "<pre>| 375       | 9416.362741  | 0.441077      | 0.450773        |</pre>"
      ],
      "text/plain": [
       "| 375       | 9416.362741  | 0.441077      | 0.450773        |"
      ]
     },
     "metadata": {},
     "output_type": "display_data"
    },
    {
     "data": {
      "text/html": [
       "<pre>| 376       | 9441.577573  | 0.441058      | 0.450726        |</pre>"
      ],
      "text/plain": [
       "| 376       | 9441.577573  | 0.441058      | 0.450726        |"
      ]
     },
     "metadata": {},
     "output_type": "display_data"
    },
    {
     "data": {
      "text/html": [
       "<pre>| 377       | 9465.994851  | 0.441045      | 0.450723        |</pre>"
      ],
      "text/plain": [
       "| 377       | 9465.994851  | 0.441045      | 0.450723        |"
      ]
     },
     "metadata": {},
     "output_type": "display_data"
    },
    {
     "data": {
      "text/html": [
       "<pre>| 378       | 9491.311967  | 0.441025      | 0.450726        |</pre>"
      ],
      "text/plain": [
       "| 378       | 9491.311967  | 0.441025      | 0.450726        |"
      ]
     },
     "metadata": {},
     "output_type": "display_data"
    },
    {
     "data": {
      "text/html": [
       "<pre>| 379       | 9515.946791  | 0.440996      | 0.450732        |</pre>"
      ],
      "text/plain": [
       "| 379       | 9515.946791  | 0.440996      | 0.450732        |"
      ]
     },
     "metadata": {},
     "output_type": "display_data"
    },
    {
     "data": {
      "text/html": [
       "<pre>| 380       | 9539.664003  | 0.440975      | 0.450734        |</pre>"
      ],
      "text/plain": [
       "| 380       | 9539.664003  | 0.440975      | 0.450734        |"
      ]
     },
     "metadata": {},
     "output_type": "display_data"
    },
    {
     "data": {
      "text/html": [
       "<pre>| 381       | 9564.240459  | 0.440926      | 0.450680        |</pre>"
      ],
      "text/plain": [
       "| 381       | 9564.240459  | 0.440926      | 0.450680        |"
      ]
     },
     "metadata": {},
     "output_type": "display_data"
    },
    {
     "data": {
      "text/html": [
       "<pre>| 382       | 9589.675381  | 0.440911      | 0.450667        |</pre>"
      ],
      "text/plain": [
       "| 382       | 9589.675381  | 0.440911      | 0.450667        |"
      ]
     },
     "metadata": {},
     "output_type": "display_data"
    },
    {
     "data": {
      "text/html": [
       "<pre>| 383       | 9614.303794  | 0.440886      | 0.450657        |</pre>"
      ],
      "text/plain": [
       "| 383       | 9614.303794  | 0.440886      | 0.450657        |"
      ]
     },
     "metadata": {},
     "output_type": "display_data"
    },
    {
     "data": {
      "text/html": [
       "<pre>| 384       | 9639.429477  | 0.440857      | 0.450653        |</pre>"
      ],
      "text/plain": [
       "| 384       | 9639.429477  | 0.440857      | 0.450653        |"
      ]
     },
     "metadata": {},
     "output_type": "display_data"
    },
    {
     "data": {
      "text/html": [
       "<pre>| 385       | 9664.693831  | 0.440810      | 0.450645        |</pre>"
      ],
      "text/plain": [
       "| 385       | 9664.693831  | 0.440810      | 0.450645        |"
      ]
     },
     "metadata": {},
     "output_type": "display_data"
    },
    {
     "data": {
      "text/html": [
       "<pre>| 386       | 9688.761800  | 0.440756      | 0.450637        |</pre>"
      ],
      "text/plain": [
       "| 386       | 9688.761800  | 0.440756      | 0.450637        |"
      ]
     },
     "metadata": {},
     "output_type": "display_data"
    },
    {
     "data": {
      "text/html": [
       "<pre>| 387       | 9713.321958  | 0.440735      | 0.450624        |</pre>"
      ],
      "text/plain": [
       "| 387       | 9713.321958  | 0.440735      | 0.450624        |"
      ]
     },
     "metadata": {},
     "output_type": "display_data"
    },
    {
     "data": {
      "text/html": [
       "<pre>| 388       | 9738.683761  | 0.440717      | 0.450599        |</pre>"
      ],
      "text/plain": [
       "| 388       | 9738.683761  | 0.440717      | 0.450599        |"
      ]
     },
     "metadata": {},
     "output_type": "display_data"
    },
    {
     "data": {
      "text/html": [
       "<pre>| 389       | 9763.287469  | 0.440698      | 0.450589        |</pre>"
      ],
      "text/plain": [
       "| 389       | 9763.287469  | 0.440698      | 0.450589        |"
      ]
     },
     "metadata": {},
     "output_type": "display_data"
    },
    {
     "data": {
      "text/html": [
       "<pre>| 390       | 9789.852217  | 0.440645      | 0.450570        |</pre>"
      ],
      "text/plain": [
       "| 390       | 9789.852217  | 0.440645      | 0.450570        |"
      ]
     },
     "metadata": {},
     "output_type": "display_data"
    },
    {
     "data": {
      "text/html": [
       "<pre>| 391       | 9815.274665  | 0.440619      | 0.450548        |</pre>"
      ],
      "text/plain": [
       "| 391       | 9815.274665  | 0.440619      | 0.450548        |"
      ]
     },
     "metadata": {},
     "output_type": "display_data"
    },
    {
     "data": {
      "text/html": [
       "<pre>| 392       | 9840.222472  | 0.440593      | 0.450556        |</pre>"
      ],
      "text/plain": [
       "| 392       | 9840.222472  | 0.440593      | 0.450556        |"
      ]
     },
     "metadata": {},
     "output_type": "display_data"
    },
    {
     "data": {
      "text/html": [
       "<pre>| 393       | 9864.334374  | 0.440556      | 0.450545        |</pre>"
      ],
      "text/plain": [
       "| 393       | 9864.334374  | 0.440556      | 0.450545        |"
      ]
     },
     "metadata": {},
     "output_type": "display_data"
    },
    {
     "data": {
      "text/html": [
       "<pre>| 394       | 9888.225082  | 0.440539      | 0.450531        |</pre>"
      ],
      "text/plain": [
       "| 394       | 9888.225082  | 0.440539      | 0.450531        |"
      ]
     },
     "metadata": {},
     "output_type": "display_data"
    },
    {
     "data": {
      "text/html": [
       "<pre>| 395       | 9914.381774  | 0.440514      | 0.450527        |</pre>"
      ],
      "text/plain": [
       "| 395       | 9914.381774  | 0.440514      | 0.450527        |"
      ]
     },
     "metadata": {},
     "output_type": "display_data"
    },
    {
     "data": {
      "text/html": [
       "<pre>| 396       | 9939.785227  | 0.440488      | 0.450527        |</pre>"
      ],
      "text/plain": [
       "| 396       | 9939.785227  | 0.440488      | 0.450527        |"
      ]
     },
     "metadata": {},
     "output_type": "display_data"
    },
    {
     "data": {
      "text/html": [
       "<pre>| 397       | 9964.105588  | 0.440461      | 0.450501        |</pre>"
      ],
      "text/plain": [
       "| 397       | 9964.105588  | 0.440461      | 0.450501        |"
      ]
     },
     "metadata": {},
     "output_type": "display_data"
    },
    {
     "data": {
      "text/html": [
       "<pre>| 398       | 9988.413606  | 0.440438      | 0.450498        |</pre>"
      ],
      "text/plain": [
       "| 398       | 9988.413606  | 0.440438      | 0.450498        |"
      ]
     },
     "metadata": {},
     "output_type": "display_data"
    },
    {
     "data": {
      "text/html": [
       "<pre>| 399       | 10014.404872 | 0.440403      | 0.450482        |</pre>"
      ],
      "text/plain": [
       "| 399       | 10014.404872 | 0.440403      | 0.450482        |"
      ]
     },
     "metadata": {},
     "output_type": "display_data"
    },
    {
     "data": {
      "text/html": [
       "<pre>| 400       | 10037.948833 | 0.440389      | 0.450484        |</pre>"
      ],
      "text/plain": [
       "| 400       | 10037.948833 | 0.440389      | 0.450484        |"
      ]
     },
     "metadata": {},
     "output_type": "display_data"
    },
    {
     "data": {
      "text/html": [
       "<pre>| 401       | 10061.681444 | 0.440373      | 0.450471        |</pre>"
      ],
      "text/plain": [
       "| 401       | 10061.681444 | 0.440373      | 0.450471        |"
      ]
     },
     "metadata": {},
     "output_type": "display_data"
    },
    {
     "data": {
      "text/html": [
       "<pre>| 402       | 10086.377864 | 0.440343      | 0.450480        |</pre>"
      ],
      "text/plain": [
       "| 402       | 10086.377864 | 0.440343      | 0.450480        |"
      ]
     },
     "metadata": {},
     "output_type": "display_data"
    },
    {
     "data": {
      "text/html": [
       "<pre>| 403       | 10111.934463 | 0.440322      | 0.450453        |</pre>"
      ],
      "text/plain": [
       "| 403       | 10111.934463 | 0.440322      | 0.450453        |"
      ]
     },
     "metadata": {},
     "output_type": "display_data"
    },
    {
     "data": {
      "text/html": [
       "<pre>| 404       | 10136.263535 | 0.440307      | 0.450457        |</pre>"
      ],
      "text/plain": [
       "| 404       | 10136.263535 | 0.440307      | 0.450457        |"
      ]
     },
     "metadata": {},
     "output_type": "display_data"
    },
    {
     "data": {
      "text/html": [
       "<pre>| 405       | 10161.701792 | 0.440268      | 0.450434        |</pre>"
      ],
      "text/plain": [
       "| 405       | 10161.701792 | 0.440268      | 0.450434        |"
      ]
     },
     "metadata": {},
     "output_type": "display_data"
    },
    {
     "data": {
      "text/html": [
       "<pre>| 406       | 10187.052251 | 0.440236      | 0.450407        |</pre>"
      ],
      "text/plain": [
       "| 406       | 10187.052251 | 0.440236      | 0.450407        |"
      ]
     },
     "metadata": {},
     "output_type": "display_data"
    },
    {
     "data": {
      "text/html": [
       "<pre>| 407       | 10213.364245 | 0.440205      | 0.450417        |</pre>"
      ],
      "text/plain": [
       "| 407       | 10213.364245 | 0.440205      | 0.450417        |"
      ]
     },
     "metadata": {},
     "output_type": "display_data"
    },
    {
     "data": {
      "text/html": [
       "<pre>| 408       | 10239.595905 | 0.440169      | 0.450382        |</pre>"
      ],
      "text/plain": [
       "| 408       | 10239.595905 | 0.440169      | 0.450382        |"
      ]
     },
     "metadata": {},
     "output_type": "display_data"
    },
    {
     "data": {
      "text/html": [
       "<pre>| 409       | 10265.156014 | 0.440161      | 0.450386        |</pre>"
      ],
      "text/plain": [
       "| 409       | 10265.156014 | 0.440161      | 0.450386        |"
      ]
     },
     "metadata": {},
     "output_type": "display_data"
    },
    {
     "data": {
      "text/html": [
       "<pre>| 410       | 10290.514484 | 0.440137      | 0.450406        |</pre>"
      ],
      "text/plain": [
       "| 410       | 10290.514484 | 0.440137      | 0.450406        |"
      ]
     },
     "metadata": {},
     "output_type": "display_data"
    },
    {
     "data": {
      "text/html": [
       "<pre>| 411       | 10315.394482 | 0.440113      | 0.450420        |</pre>"
      ],
      "text/plain": [
       "| 411       | 10315.394482 | 0.440113      | 0.450420        |"
      ]
     },
     "metadata": {},
     "output_type": "display_data"
    },
    {
     "data": {
      "text/html": [
       "<pre>| 412       | 10340.282998 | 0.440058      | 0.450354        |</pre>"
      ],
      "text/plain": [
       "| 412       | 10340.282998 | 0.440058      | 0.450354        |"
      ]
     },
     "metadata": {},
     "output_type": "display_data"
    },
    {
     "data": {
      "text/html": [
       "<pre>| 413       | 10364.832786 | 0.440006      | 0.450323        |</pre>"
      ],
      "text/plain": [
       "| 413       | 10364.832786 | 0.440006      | 0.450323        |"
      ]
     },
     "metadata": {},
     "output_type": "display_data"
    },
    {
     "data": {
      "text/html": [
       "<pre>| 414       | 10388.938162 | 0.439983      | 0.450296        |</pre>"
      ],
      "text/plain": [
       "| 414       | 10388.938162 | 0.439983      | 0.450296        |"
      ]
     },
     "metadata": {},
     "output_type": "display_data"
    },
    {
     "data": {
      "text/html": [
       "<pre>| 415       | 10413.328956 | 0.439965      | 0.450286        |</pre>"
      ],
      "text/plain": [
       "| 415       | 10413.328956 | 0.439965      | 0.450286        |"
      ]
     },
     "metadata": {},
     "output_type": "display_data"
    },
    {
     "data": {
      "text/html": [
       "<pre>| 416       | 10437.772150 | 0.439940      | 0.450283        |</pre>"
      ],
      "text/plain": [
       "| 416       | 10437.772150 | 0.439940      | 0.450283        |"
      ]
     },
     "metadata": {},
     "output_type": "display_data"
    },
    {
     "data": {
      "text/html": [
       "<pre>| 417       | 10461.317834 | 0.439913      | 0.450270        |</pre>"
      ],
      "text/plain": [
       "| 417       | 10461.317834 | 0.439913      | 0.450270        |"
      ]
     },
     "metadata": {},
     "output_type": "display_data"
    },
    {
     "data": {
      "text/html": [
       "<pre>| 418       | 10486.533612 | 0.439877      | 0.450267        |</pre>"
      ],
      "text/plain": [
       "| 418       | 10486.533612 | 0.439877      | 0.450267        |"
      ]
     },
     "metadata": {},
     "output_type": "display_data"
    },
    {
     "data": {
      "text/html": [
       "<pre>| 419       | 10509.936500 | 0.439861      | 0.450273        |</pre>"
      ],
      "text/plain": [
       "| 419       | 10509.936500 | 0.439861      | 0.450273        |"
      ]
     },
     "metadata": {},
     "output_type": "display_data"
    },
    {
     "data": {
      "text/html": [
       "<pre>| 420       | 10535.248511 | 0.439821      | 0.450240        |</pre>"
      ],
      "text/plain": [
       "| 420       | 10535.248511 | 0.439821      | 0.450240        |"
      ]
     },
     "metadata": {},
     "output_type": "display_data"
    },
    {
     "data": {
      "text/html": [
       "<pre>| 421       | 10561.977999 | 0.439798      | 0.450243        |</pre>"
      ],
      "text/plain": [
       "| 421       | 10561.977999 | 0.439798      | 0.450243        |"
      ]
     },
     "metadata": {},
     "output_type": "display_data"
    },
    {
     "data": {
      "text/html": [
       "<pre>| 422       | 10586.448017 | 0.439738      | 0.450202        |</pre>"
      ],
      "text/plain": [
       "| 422       | 10586.448017 | 0.439738      | 0.450202        |"
      ]
     },
     "metadata": {},
     "output_type": "display_data"
    },
    {
     "data": {
      "text/html": [
       "<pre>| 423       | 10610.223558 | 0.439710      | 0.450189        |</pre>"
      ],
      "text/plain": [
       "| 423       | 10610.223558 | 0.439710      | 0.450189        |"
      ]
     },
     "metadata": {},
     "output_type": "display_data"
    },
    {
     "data": {
      "text/html": [
       "<pre>| 424       | 10634.823169 | 0.439682      | 0.450187        |</pre>"
      ],
      "text/plain": [
       "| 424       | 10634.823169 | 0.439682      | 0.450187        |"
      ]
     },
     "metadata": {},
     "output_type": "display_data"
    },
    {
     "data": {
      "text/html": [
       "<pre>| 425       | 10660.354035 | 0.439656      | 0.450184        |</pre>"
      ],
      "text/plain": [
       "| 425       | 10660.354035 | 0.439656      | 0.450184        |"
      ]
     },
     "metadata": {},
     "output_type": "display_data"
    },
    {
     "data": {
      "text/html": [
       "<pre>| 426       | 10685.048398 | 0.439632      | 0.450185        |</pre>"
      ],
      "text/plain": [
       "| 426       | 10685.048398 | 0.439632      | 0.450185        |"
      ]
     },
     "metadata": {},
     "output_type": "display_data"
    },
    {
     "data": {
      "text/html": [
       "<pre>| 427       | 10708.595044 | 0.439613      | 0.450180        |</pre>"
      ],
      "text/plain": [
       "| 427       | 10708.595044 | 0.439613      | 0.450180        |"
      ]
     },
     "metadata": {},
     "output_type": "display_data"
    },
    {
     "data": {
      "text/html": [
       "<pre>| 428       | 10733.969774 | 0.439591      | 0.450184        |</pre>"
      ],
      "text/plain": [
       "| 428       | 10733.969774 | 0.439591      | 0.450184        |"
      ]
     },
     "metadata": {},
     "output_type": "display_data"
    },
    {
     "data": {
      "text/html": [
       "<pre>| 429       | 10760.740250 | 0.439569      | 0.450161        |</pre>"
      ],
      "text/plain": [
       "| 429       | 10760.740250 | 0.439569      | 0.450161        |"
      ]
     },
     "metadata": {},
     "output_type": "display_data"
    },
    {
     "data": {
      "text/html": [
       "<pre>| 430       | 10785.989489 | 0.439531      | 0.450148        |</pre>"
      ],
      "text/plain": [
       "| 430       | 10785.989489 | 0.439531      | 0.450148        |"
      ]
     },
     "metadata": {},
     "output_type": "display_data"
    },
    {
     "data": {
      "text/html": [
       "<pre>| 431       | 10810.969729 | 0.439504      | 0.450144        |</pre>"
      ],
      "text/plain": [
       "| 431       | 10810.969729 | 0.439504      | 0.450144        |"
      ]
     },
     "metadata": {},
     "output_type": "display_data"
    },
    {
     "data": {
      "text/html": [
       "<pre>| 432       | 10834.824766 | 0.439492      | 0.450140        |</pre>"
      ],
      "text/plain": [
       "| 432       | 10834.824766 | 0.439492      | 0.450140        |"
      ]
     },
     "metadata": {},
     "output_type": "display_data"
    },
    {
     "data": {
      "text/html": [
       "<pre>| 433       | 10860.238592 | 0.439432      | 0.450123        |</pre>"
      ],
      "text/plain": [
       "| 433       | 10860.238592 | 0.439432      | 0.450123        |"
      ]
     },
     "metadata": {},
     "output_type": "display_data"
    },
    {
     "data": {
      "text/html": [
       "<pre>| 434       | 10883.935329 | 0.439428      | 0.450130        |</pre>"
      ],
      "text/plain": [
       "| 434       | 10883.935329 | 0.439428      | 0.450130        |"
      ]
     },
     "metadata": {},
     "output_type": "display_data"
    },
    {
     "data": {
      "text/html": [
       "<pre>| 435       | 10908.112202 | 0.439414      | 0.450127        |</pre>"
      ],
      "text/plain": [
       "| 435       | 10908.112202 | 0.439414      | 0.450127        |"
      ]
     },
     "metadata": {},
     "output_type": "display_data"
    },
    {
     "data": {
      "text/html": [
       "<pre>| 436       | 10931.683257 | 0.439402      | 0.450149        |</pre>"
      ],
      "text/plain": [
       "| 436       | 10931.683257 | 0.439402      | 0.450149        |"
      ]
     },
     "metadata": {},
     "output_type": "display_data"
    },
    {
     "data": {
      "text/html": [
       "<pre>| 437       | 10956.682976 | 0.439379      | 0.450118        |</pre>"
      ],
      "text/plain": [
       "| 437       | 10956.682976 | 0.439379      | 0.450118        |"
      ]
     },
     "metadata": {},
     "output_type": "display_data"
    },
    {
     "data": {
      "text/html": [
       "<pre>| 438       | 10982.002848 | 0.439351      | 0.450066        |</pre>"
      ],
      "text/plain": [
       "| 438       | 10982.002848 | 0.439351      | 0.450066        |"
      ]
     },
     "metadata": {},
     "output_type": "display_data"
    },
    {
     "data": {
      "text/html": [
       "<pre>| 439       | 11006.000443 | 0.439316      | 0.450056        |</pre>"
      ],
      "text/plain": [
       "| 439       | 11006.000443 | 0.439316      | 0.450056        |"
      ]
     },
     "metadata": {},
     "output_type": "display_data"
    },
    {
     "data": {
      "text/html": [
       "<pre>| 440       | 11031.826426 | 0.439275      | 0.450043        |</pre>"
      ],
      "text/plain": [
       "| 440       | 11031.826426 | 0.439275      | 0.450043        |"
      ]
     },
     "metadata": {},
     "output_type": "display_data"
    },
    {
     "data": {
      "text/html": [
       "<pre>| 441       | 11056.645988 | 0.439236      | 0.450023        |</pre>"
      ],
      "text/plain": [
       "| 441       | 11056.645988 | 0.439236      | 0.450023        |"
      ]
     },
     "metadata": {},
     "output_type": "display_data"
    },
    {
     "data": {
      "text/html": [
       "<pre>| 442       | 11081.183938 | 0.439217      | 0.450022        |</pre>"
      ],
      "text/plain": [
       "| 442       | 11081.183938 | 0.439217      | 0.450022        |"
      ]
     },
     "metadata": {},
     "output_type": "display_data"
    },
    {
     "data": {
      "text/html": [
       "<pre>| 443       | 11106.675909 | 0.439186      | 0.450013        |</pre>"
      ],
      "text/plain": [
       "| 443       | 11106.675909 | 0.439186      | 0.450013        |"
      ]
     },
     "metadata": {},
     "output_type": "display_data"
    },
    {
     "data": {
      "text/html": [
       "<pre>| 444       | 11131.718326 | 0.439157      | 0.449977        |</pre>"
      ],
      "text/plain": [
       "| 444       | 11131.718326 | 0.439157      | 0.449977        |"
      ]
     },
     "metadata": {},
     "output_type": "display_data"
    },
    {
     "data": {
      "text/html": [
       "<pre>| 445       | 11156.754876 | 0.439131      | 0.449972        |</pre>"
      ],
      "text/plain": [
       "| 445       | 11156.754876 | 0.439131      | 0.449972        |"
      ]
     },
     "metadata": {},
     "output_type": "display_data"
    },
    {
     "data": {
      "text/html": [
       "<pre>| 446       | 11181.369742 | 0.439101      | 0.449961        |</pre>"
      ],
      "text/plain": [
       "| 446       | 11181.369742 | 0.439101      | 0.449961        |"
      ]
     },
     "metadata": {},
     "output_type": "display_data"
    },
    {
     "data": {
      "text/html": [
       "<pre>| 447       | 11207.373673 | 0.439072      | 0.449962        |</pre>"
      ],
      "text/plain": [
       "| 447       | 11207.373673 | 0.439072      | 0.449962        |"
      ]
     },
     "metadata": {},
     "output_type": "display_data"
    },
    {
     "data": {
      "text/html": [
       "<pre>| 448       | 11231.146783 | 0.439039      | 0.449954        |</pre>"
      ],
      "text/plain": [
       "| 448       | 11231.146783 | 0.439039      | 0.449954        |"
      ]
     },
     "metadata": {},
     "output_type": "display_data"
    },
    {
     "data": {
      "text/html": [
       "<pre>| 449       | 11255.122776 | 0.439026      | 0.449956        |</pre>"
      ],
      "text/plain": [
       "| 449       | 11255.122776 | 0.439026      | 0.449956        |"
      ]
     },
     "metadata": {},
     "output_type": "display_data"
    },
    {
     "data": {
      "text/html": [
       "<pre>| 450       | 11280.569811 | 0.438993      | 0.449950        |</pre>"
      ],
      "text/plain": [
       "| 450       | 11280.569811 | 0.438993      | 0.449950        |"
      ]
     },
     "metadata": {},
     "output_type": "display_data"
    },
    {
     "data": {
      "text/html": [
       "<pre>| 451       | 11304.344850 | 0.438978      | 0.449939        |</pre>"
      ],
      "text/plain": [
       "| 451       | 11304.344850 | 0.438978      | 0.449939        |"
      ]
     },
     "metadata": {},
     "output_type": "display_data"
    },
    {
     "data": {
      "text/html": [
       "<pre>| 452       | 11328.225876 | 0.438962      | 0.449936        |</pre>"
      ],
      "text/plain": [
       "| 452       | 11328.225876 | 0.438962      | 0.449936        |"
      ]
     },
     "metadata": {},
     "output_type": "display_data"
    },
    {
     "data": {
      "text/html": [
       "<pre>| 453       | 11353.918160 | 0.438913      | 0.449939        |</pre>"
      ],
      "text/plain": [
       "| 453       | 11353.918160 | 0.438913      | 0.449939        |"
      ]
     },
     "metadata": {},
     "output_type": "display_data"
    },
    {
     "data": {
      "text/html": [
       "<pre>| 454       | 11378.664616 | 0.438902      | 0.449940        |</pre>"
      ],
      "text/plain": [
       "| 454       | 11378.664616 | 0.438902      | 0.449940        |"
      ]
     },
     "metadata": {},
     "output_type": "display_data"
    },
    {
     "data": {
      "text/html": [
       "<pre>| 455       | 11403.095709 | 0.438879      | 0.449928        |</pre>"
      ],
      "text/plain": [
       "| 455       | 11403.095709 | 0.438879      | 0.449928        |"
      ]
     },
     "metadata": {},
     "output_type": "display_data"
    },
    {
     "data": {
      "text/html": [
       "<pre>| 456       | 11427.916489 | 0.438864      | 0.449909        |</pre>"
      ],
      "text/plain": [
       "| 456       | 11427.916489 | 0.438864      | 0.449909        |"
      ]
     },
     "metadata": {},
     "output_type": "display_data"
    },
    {
     "data": {
      "text/html": [
       "<pre>| 457       | 11453.323704 | 0.438832      | 0.449883        |</pre>"
      ],
      "text/plain": [
       "| 457       | 11453.323704 | 0.438832      | 0.449883        |"
      ]
     },
     "metadata": {},
     "output_type": "display_data"
    },
    {
     "data": {
      "text/html": [
       "<pre>| 458       | 11478.701514 | 0.438824      | 0.449888        |</pre>"
      ],
      "text/plain": [
       "| 458       | 11478.701514 | 0.438824      | 0.449888        |"
      ]
     },
     "metadata": {},
     "output_type": "display_data"
    },
    {
     "data": {
      "text/html": [
       "<pre>| 459       | 11501.982220 | 0.438785      | 0.449873        |</pre>"
      ],
      "text/plain": [
       "| 459       | 11501.982220 | 0.438785      | 0.449873        |"
      ]
     },
     "metadata": {},
     "output_type": "display_data"
    },
    {
     "data": {
      "text/html": [
       "<pre>| 460       | 11526.164961 | 0.438730      | 0.449863        |</pre>"
      ],
      "text/plain": [
       "| 460       | 11526.164961 | 0.438730      | 0.449863        |"
      ]
     },
     "metadata": {},
     "output_type": "display_data"
    },
    {
     "data": {
      "text/html": [
       "<pre>| 461       | 11551.784632 | 0.438714      | 0.449851        |</pre>"
      ],
      "text/plain": [
       "| 461       | 11551.784632 | 0.438714      | 0.449851        |"
      ]
     },
     "metadata": {},
     "output_type": "display_data"
    },
    {
     "data": {
      "text/html": [
       "<pre>| 462       | 11575.641198 | 0.438681      | 0.449846        |</pre>"
      ],
      "text/plain": [
       "| 462       | 11575.641198 | 0.438681      | 0.449846        |"
      ]
     },
     "metadata": {},
     "output_type": "display_data"
    },
    {
     "data": {
      "text/html": [
       "<pre>| 463       | 11601.739881 | 0.438656      | 0.449821        |</pre>"
      ],
      "text/plain": [
       "| 463       | 11601.739881 | 0.438656      | 0.449821        |"
      ]
     },
     "metadata": {},
     "output_type": "display_data"
    },
    {
     "data": {
      "text/html": [
       "<pre>| 464       | 11627.800167 | 0.438621      | 0.449803        |</pre>"
      ],
      "text/plain": [
       "| 464       | 11627.800167 | 0.438621      | 0.449803        |"
      ]
     },
     "metadata": {},
     "output_type": "display_data"
    },
    {
     "data": {
      "text/html": [
       "<pre>| 465       | 11652.839617 | 0.438599      | 0.449747        |</pre>"
      ],
      "text/plain": [
       "| 465       | 11652.839617 | 0.438599      | 0.449747        |"
      ]
     },
     "metadata": {},
     "output_type": "display_data"
    },
    {
     "data": {
      "text/html": [
       "<pre>| 466       | 11677.031437 | 0.438574      | 0.449732        |</pre>"
      ],
      "text/plain": [
       "| 466       | 11677.031437 | 0.438574      | 0.449732        |"
      ]
     },
     "metadata": {},
     "output_type": "display_data"
    },
    {
     "data": {
      "text/html": [
       "<pre>| 467       | 11702.044858 | 0.438559      | 0.449741        |</pre>"
      ],
      "text/plain": [
       "| 467       | 11702.044858 | 0.438559      | 0.449741        |"
      ]
     },
     "metadata": {},
     "output_type": "display_data"
    },
    {
     "data": {
      "text/html": [
       "<pre>| 468       | 11726.324247 | 0.438533      | 0.449738        |</pre>"
      ],
      "text/plain": [
       "| 468       | 11726.324247 | 0.438533      | 0.449738        |"
      ]
     },
     "metadata": {},
     "output_type": "display_data"
    },
    {
     "data": {
      "text/html": [
       "<pre>| 469       | 11752.388178 | 0.438499      | 0.449720        |</pre>"
      ],
      "text/plain": [
       "| 469       | 11752.388178 | 0.438499      | 0.449720        |"
      ]
     },
     "metadata": {},
     "output_type": "display_data"
    },
    {
     "data": {
      "text/html": [
       "<pre>| 470       | 11778.646775 | 0.438468      | 0.449696        |</pre>"
      ],
      "text/plain": [
       "| 470       | 11778.646775 | 0.438468      | 0.449696        |"
      ]
     },
     "metadata": {},
     "output_type": "display_data"
    },
    {
     "data": {
      "text/html": [
       "<pre>| 471       | 11803.243919 | 0.438453      | 0.449695        |</pre>"
      ],
      "text/plain": [
       "| 471       | 11803.243919 | 0.438453      | 0.449695        |"
      ]
     },
     "metadata": {},
     "output_type": "display_data"
    },
    {
     "data": {
      "text/html": [
       "<pre>| 472       | 11829.950350 | 0.438400      | 0.449651        |</pre>"
      ],
      "text/plain": [
       "| 472       | 11829.950350 | 0.438400      | 0.449651        |"
      ]
     },
     "metadata": {},
     "output_type": "display_data"
    },
    {
     "data": {
      "text/html": [
       "<pre>| 473       | 11853.932818 | 0.438383      | 0.449623        |</pre>"
      ],
      "text/plain": [
       "| 473       | 11853.932818 | 0.438383      | 0.449623        |"
      ]
     },
     "metadata": {},
     "output_type": "display_data"
    },
    {
     "data": {
      "text/html": [
       "<pre>| 474       | 11877.876937 | 0.438357      | 0.449621        |</pre>"
      ],
      "text/plain": [
       "| 474       | 11877.876937 | 0.438357      | 0.449621        |"
      ]
     },
     "metadata": {},
     "output_type": "display_data"
    },
    {
     "data": {
      "text/html": [
       "<pre>| 475       | 11901.731853 | 0.438335      | 0.449642        |</pre>"
      ],
      "text/plain": [
       "| 475       | 11901.731853 | 0.438335      | 0.449642        |"
      ]
     },
     "metadata": {},
     "output_type": "display_data"
    },
    {
     "data": {
      "text/html": [
       "<pre>| 476       | 11925.164326 | 0.438320      | 0.449639        |</pre>"
      ],
      "text/plain": [
       "| 476       | 11925.164326 | 0.438320      | 0.449639        |"
      ]
     },
     "metadata": {},
     "output_type": "display_data"
    },
    {
     "data": {
      "text/html": [
       "<pre>| 477       | 11950.406281 | 0.438287      | 0.449611        |</pre>"
      ],
      "text/plain": [
       "| 477       | 11950.406281 | 0.438287      | 0.449611        |"
      ]
     },
     "metadata": {},
     "output_type": "display_data"
    },
    {
     "data": {
      "text/html": [
       "<pre>| 478       | 11975.342572 | 0.438260      | 0.449592        |</pre>"
      ],
      "text/plain": [
       "| 478       | 11975.342572 | 0.438260      | 0.449592        |"
      ]
     },
     "metadata": {},
     "output_type": "display_data"
    },
    {
     "data": {
      "text/html": [
       "<pre>| 479       | 11998.442243 | 0.438227      | 0.449588        |</pre>"
      ],
      "text/plain": [
       "| 479       | 11998.442243 | 0.438227      | 0.449588        |"
      ]
     },
     "metadata": {},
     "output_type": "display_data"
    },
    {
     "data": {
      "text/html": [
       "<pre>| 480       | 12023.087516 | 0.438207      | 0.449577        |</pre>"
      ],
      "text/plain": [
       "| 480       | 12023.087516 | 0.438207      | 0.449577        |"
      ]
     },
     "metadata": {},
     "output_type": "display_data"
    },
    {
     "data": {
      "text/html": [
       "<pre>| 481       | 12049.254354 | 0.438162      | 0.449601        |</pre>"
      ],
      "text/plain": [
       "| 481       | 12049.254354 | 0.438162      | 0.449601        |"
      ]
     },
     "metadata": {},
     "output_type": "display_data"
    },
    {
     "data": {
      "text/html": [
       "<pre>| 482       | 12074.570292 | 0.438145      | 0.449549        |</pre>"
      ],
      "text/plain": [
       "| 482       | 12074.570292 | 0.438145      | 0.449549        |"
      ]
     },
     "metadata": {},
     "output_type": "display_data"
    },
    {
     "data": {
      "text/html": [
       "<pre>| 483       | 12100.163178 | 0.438118      | 0.449555        |</pre>"
      ],
      "text/plain": [
       "| 483       | 12100.163178 | 0.438118      | 0.449555        |"
      ]
     },
     "metadata": {},
     "output_type": "display_data"
    },
    {
     "data": {
      "text/html": [
       "<pre>| 484       | 12124.520529 | 0.438092      | 0.449552        |</pre>"
      ],
      "text/plain": [
       "| 484       | 12124.520529 | 0.438092      | 0.449552        |"
      ]
     },
     "metadata": {},
     "output_type": "display_data"
    },
    {
     "data": {
      "text/html": [
       "<pre>| 485       | 12150.283774 | 0.438053      | 0.449527        |</pre>"
      ],
      "text/plain": [
       "| 485       | 12150.283774 | 0.438053      | 0.449527        |"
      ]
     },
     "metadata": {},
     "output_type": "display_data"
    },
    {
     "data": {
      "text/html": [
       "<pre>| 486       | 12174.525805 | 0.438030      | 0.449544        |</pre>"
      ],
      "text/plain": [
       "| 486       | 12174.525805 | 0.438030      | 0.449544        |"
      ]
     },
     "metadata": {},
     "output_type": "display_data"
    },
    {
     "data": {
      "text/html": [
       "<pre>| 487       | 12198.822332 | 0.438014      | 0.449553        |</pre>"
      ],
      "text/plain": [
       "| 487       | 12198.822332 | 0.438014      | 0.449553        |"
      ]
     },
     "metadata": {},
     "output_type": "display_data"
    },
    {
     "data": {
      "text/html": [
       "<pre>| 488       | 12223.630697 | 0.437989      | 0.449560        |</pre>"
      ],
      "text/plain": [
       "| 488       | 12223.630697 | 0.437989      | 0.449560        |"
      ]
     },
     "metadata": {},
     "output_type": "display_data"
    },
    {
     "data": {
      "text/html": [
       "<pre>| 489       | 12248.115314 | 0.437969      | 0.449570        |</pre>"
      ],
      "text/plain": [
       "| 489       | 12248.115314 | 0.437969      | 0.449570        |"
      ]
     },
     "metadata": {},
     "output_type": "display_data"
    },
    {
     "data": {
      "text/html": [
       "<pre>| 490       | 12273.231049 | 0.437953      | 0.449562        |</pre>"
      ],
      "text/plain": [
       "| 490       | 12273.231049 | 0.437953      | 0.449562        |"
      ]
     },
     "metadata": {},
     "output_type": "display_data"
    },
    {
     "data": {
      "text/html": [
       "<pre>| 491       | 12296.959075 | 0.437950      | 0.449563        |</pre>"
      ],
      "text/plain": [
       "| 491       | 12296.959075 | 0.437950      | 0.449563        |"
      ]
     },
     "metadata": {},
     "output_type": "display_data"
    },
    {
     "data": {
      "text/html": [
       "<pre>| 492       | 12320.859455 | 0.437907      | 0.449507        |</pre>"
      ],
      "text/plain": [
       "| 492       | 12320.859455 | 0.437907      | 0.449507        |"
      ]
     },
     "metadata": {},
     "output_type": "display_data"
    },
    {
     "data": {
      "text/html": [
       "<pre>| 493       | 12345.401991 | 0.437879      | 0.449483        |</pre>"
      ],
      "text/plain": [
       "| 493       | 12345.401991 | 0.437879      | 0.449483        |"
      ]
     },
     "metadata": {},
     "output_type": "display_data"
    },
    {
     "data": {
      "text/html": [
       "<pre>| 494       | 12370.664445 | 0.437845      | 0.449475        |</pre>"
      ],
      "text/plain": [
       "| 494       | 12370.664445 | 0.437845      | 0.449475        |"
      ]
     },
     "metadata": {},
     "output_type": "display_data"
    },
    {
     "data": {
      "text/html": [
       "<pre>| 495       | 12395.719379 | 0.437819      | 0.449473        |</pre>"
      ],
      "text/plain": [
       "| 495       | 12395.719379 | 0.437819      | 0.449473        |"
      ]
     },
     "metadata": {},
     "output_type": "display_data"
    },
    {
     "data": {
      "text/html": [
       "<pre>| 496       | 12420.957840 | 0.437793      | 0.449444        |</pre>"
      ],
      "text/plain": [
       "| 496       | 12420.957840 | 0.437793      | 0.449444        |"
      ]
     },
     "metadata": {},
     "output_type": "display_data"
    },
    {
     "data": {
      "text/html": [
       "<pre>| 497       | 12445.703868 | 0.437769      | 0.449431        |</pre>"
      ],
      "text/plain": [
       "| 497       | 12445.703868 | 0.437769      | 0.449431        |"
      ]
     },
     "metadata": {},
     "output_type": "display_data"
    },
    {
     "data": {
      "text/html": [
       "<pre>| 498       | 12469.032584 | 0.437750      | 0.449409        |</pre>"
      ],
      "text/plain": [
       "| 498       | 12469.032584 | 0.437750      | 0.449409        |"
      ]
     },
     "metadata": {},
     "output_type": "display_data"
    },
    {
     "data": {
      "text/html": [
       "<pre>| 499       | 12493.968074 | 0.437735      | 0.449423        |</pre>"
      ],
      "text/plain": [
       "| 499       | 12493.968074 | 0.437735      | 0.449423        |"
      ]
     },
     "metadata": {},
     "output_type": "display_data"
    },
    {
     "data": {
      "text/html": [
       "<pre>| 500       | 12519.416663 | 0.437719      | 0.449416        |</pre>"
      ],
      "text/plain": [
       "| 500       | 12519.416663 | 0.437719      | 0.449416        |"
      ]
     },
     "metadata": {},
     "output_type": "display_data"
    },
    {
     "data": {
      "text/html": [
       "<pre>Checkpointing to /home/zongyi/bimbo_data/model_checkpoint_500</pre>"
      ],
      "text/plain": [
       "Checkpointing to /home/zongyi/bimbo_data/model_checkpoint_500"
      ]
     },
     "metadata": {},
     "output_type": "display_data"
    },
    {
     "data": {
      "text/html": [
       "<pre>+-----------+--------------+---------------+-----------------+</pre>"
      ],
      "text/plain": [
       "+-----------+--------------+---------------+-----------------+"
      ]
     },
     "metadata": {},
     "output_type": "display_data"
    }
   ],
   "source": [
    "# Make a train-test split\n",
    "# train_data, test_data = train.random_split(0.999)\n",
    "\n",
    "# Create a model.\n",
    "model = gl.boosted_trees_regression.create(train, target='Demada_log',\n",
    "                                           step_size=0.1,\n",
    "                                           max_iterations=1000,\n",
    "                                           max_depth = 10,\n",
    "                                          metric='rmse',\n",
    "                                          random_seed=643,\n",
    "                                          column_subsample=0.7,\n",
    "                                          row_subsample=0.85,\n",
    "                                          validation_set=None,\n",
    "                                          model_checkpoint_path=path,\n",
    "                                          model_checkpoint_interval=1000)\n"
   ]
  },
  {
   "cell_type": "code",
   "execution_count": 18,
   "metadata": {
    "collapsed": false
   },
   "outputs": [
    {
     "data": {
      "text/html": [
       "<pre>WARNING: Detected extremely low variance for feature(s) 'Semana' because all entries are nearly the same.\n",
       "Proceeding with model training using all features. If the model does not provide results of adequate quality, exclude the above mentioned feature(s) from the input dataset.</pre>"
      ],
      "text/plain": [
       "WARNING: Detected extremely low variance for feature(s) 'Semana' because all entries are nearly the same.\n",
       "Proceeding with model training using all features. If the model does not provide results of adequate quality, exclude the above mentioned feature(s) from the input dataset."
      ]
     },
     "metadata": {},
     "output_type": "display_data"
    },
    {
     "data": {
      "text/html": [
       "<pre>Resuming from checkpoint at /home/zongyi/bimbo_data/model_checkpoint_1000_w8</pre>"
      ],
      "text/plain": [
       "Resuming from checkpoint at /home/zongyi/bimbo_data/model_checkpoint_1000_w8"
      ]
     },
     "metadata": {},
     "output_type": "display_data"
    },
    {
     "data": {
      "text/html": [
       "<pre>Boosted trees regression:</pre>"
      ],
      "text/plain": [
       "Boosted trees regression:"
      ]
     },
     "metadata": {},
     "output_type": "display_data"
    },
    {
     "data": {
      "text/html": [
       "<pre>--------------------------------------------------------</pre>"
      ],
      "text/plain": [
       "--------------------------------------------------------"
      ]
     },
     "metadata": {},
     "output_type": "display_data"
    },
    {
     "data": {
      "text/html": [
       "<pre>Number of examples          : 10396388</pre>"
      ],
      "text/plain": [
       "Number of examples          : 10396388"
      ]
     },
     "metadata": {},
     "output_type": "display_data"
    },
    {
     "data": {
      "text/html": [
       "<pre>Number of features          : 24</pre>"
      ],
      "text/plain": [
       "Number of features          : 24"
      ]
     },
     "metadata": {},
     "output_type": "display_data"
    },
    {
     "data": {
      "text/html": [
       "<pre>Number of unpacked features : 24</pre>"
      ],
      "text/plain": [
       "Number of unpacked features : 24"
      ]
     },
     "metadata": {},
     "output_type": "display_data"
    },
    {
     "data": {
      "text/html": [
       "<pre>Resumed training from checkpoint at iteration 1000 which is greater than or equal to max_iterations 1000</pre>"
      ],
      "text/plain": [
       "Resumed training from checkpoint at iteration 1000 which is greater than or equal to max_iterations 1000"
      ]
     },
     "metadata": {},
     "output_type": "display_data"
    }
   ],
   "source": [
    "# '''resume_from_checkpoint'''\n",
    "\n",
    "# train_data, test_data = train.random_split(0.999)\n",
    "\n",
    "# model = gl.boosted_trees_regression.create(train_data, target='Demada_log',\n",
    "#                                            step_size=0.1,\n",
    "#                                            max_iterations=1000,\n",
    "#                                            max_depth = 10,\n",
    "#                                           metric='rmse',\n",
    "#                                           random_seed=461,\n",
    "#                                           column_subsample=0.75,\n",
    "#                                           row_subsample=0.85,\n",
    "#                                           validation_set=test_data,\n",
    "#                                           resume_from_checkpoint=path+'model_checkpoint_1000_w8',\n",
    "#                                            model_checkpoint_path=path,\n",
    "#                                           model_checkpoint_interval=1000)"
   ]
  },
  {
   "cell_type": "code",
   "execution_count": 19,
   "metadata": {
    "collapsed": false
   },
   "outputs": [
    {
     "data": {
      "text/html": [
       "<div style=\"max-height:1000px;max-width:1500px;overflow:auto;\"><table frame=\"box\" rules=\"cols\">\n",
       "    <tr>\n",
       "        <th style=\"padding-left: 1em; padding-right: 1em; text-align: center\">id</th>\n",
       "        <th style=\"padding-left: 1em; padding-right: 1em; text-align: center\">name</th>\n",
       "        <th style=\"padding-left: 1em; padding-right: 1em; text-align: center\">index</th>\n",
       "        <th style=\"padding-left: 1em; padding-right: 1em; text-align: center\">count</th>\n",
       "    </tr>\n",
       "    <tr>\n",
       "        <td style=\"padding-left: 1em; padding-right: 1em; text-align: center; vertical-align: top\">0</td>\n",
       "        <td style=\"padding-left: 1em; padding-right: 1em; text-align: center; vertical-align: top\">Cliente_ID</td>\n",
       "        <td style=\"padding-left: 1em; padding-right: 1em; text-align: center; vertical-align: top\">None</td>\n",
       "        <td style=\"padding-left: 1em; padding-right: 1em; text-align: center; vertical-align: top\">91924</td>\n",
       "    </tr>\n",
       "    <tr>\n",
       "        <td style=\"padding-left: 1em; padding-right: 1em; text-align: center; vertical-align: top\">1</td>\n",
       "        <td style=\"padding-left: 1em; padding-right: 1em; text-align: center; vertical-align: top\">Ruta_SAK</td>\n",
       "        <td style=\"padding-left: 1em; padding-right: 1em; text-align: center; vertical-align: top\">None</td>\n",
       "        <td style=\"padding-left: 1em; padding-right: 1em; text-align: center; vertical-align: top\">74921</td>\n",
       "    </tr>\n",
       "    <tr>\n",
       "        <td style=\"padding-left: 1em; padding-right: 1em; text-align: center; vertical-align: top\">2</td>\n",
       "        <td style=\"padding-left: 1em; padding-right: 1em; text-align: center; vertical-align: top\">Producto_ID</td>\n",
       "        <td style=\"padding-left: 1em; padding-right: 1em; text-align: center; vertical-align: top\">None</td>\n",
       "        <td style=\"padding-left: 1em; padding-right: 1em; text-align: center; vertical-align: top\">68034</td>\n",
       "    </tr>\n",
       "    <tr>\n",
       "        <td style=\"padding-left: 1em; padding-right: 1em; text-align: center; vertical-align: top\">3</td>\n",
       "        <td style=\"padding-left: 1em; padding-right: 1em; text-align: center; vertical-align: top\">Agencia_ID</td>\n",
       "        <td style=\"padding-left: 1em; padding-right: 1em; text-align: center; vertical-align: top\">None</td>\n",
       "        <td style=\"padding-left: 1em; padding-right: 1em; text-align: center; vertical-align: top\">67866</td>\n",
       "    </tr>\n",
       "    <tr>\n",
       "        <td style=\"padding-left: 1em; padding-right: 1em; text-align: center; vertical-align: top\">4</td>\n",
       "        <td style=\"padding-left: 1em; padding-right: 1em; text-align: center; vertical-align: top\">n_c</td>\n",
       "        <td style=\"padding-left: 1em; padding-right: 1em; text-align: center; vertical-align: top\">None</td>\n",
       "        <td style=\"padding-left: 1em; padding-right: 1em; text-align: center; vertical-align: top\">63979</td>\n",
       "    </tr>\n",
       "    <tr>\n",
       "        <td style=\"padding-left: 1em; padding-right: 1em; text-align: center; vertical-align: top\">5</td>\n",
       "        <td style=\"padding-left: 1em; padding-right: 1em; text-align: center; vertical-align: top\">lag1</td>\n",
       "        <td style=\"padding-left: 1em; padding-right: 1em; text-align: center; vertical-align: top\">None</td>\n",
       "        <td style=\"padding-left: 1em; padding-right: 1em; text-align: center; vertical-align: top\">56174</td>\n",
       "    </tr>\n",
       "    <tr>\n",
       "        <td style=\"padding-left: 1em; padding-right: 1em; text-align: center; vertical-align: top\">6</td>\n",
       "        <td style=\"padding-left: 1em; padding-right: 1em; text-align: center; vertical-align: top\">n_r</td>\n",
       "        <td style=\"padding-left: 1em; padding-right: 1em; text-align: center; vertical-align: top\">None</td>\n",
       "        <td style=\"padding-left: 1em; padding-right: 1em; text-align: center; vertical-align: top\">54858</td>\n",
       "    </tr>\n",
       "    <tr>\n",
       "        <td style=\"padding-left: 1em; padding-right: 1em; text-align: center; vertical-align: top\">7</td>\n",
       "        <td style=\"padding-left: 1em; padding-right: 1em; text-align: center; vertical-align: top\">n_p</td>\n",
       "        <td style=\"padding-left: 1em; padding-right: 1em; text-align: center; vertical-align: top\">None</td>\n",
       "        <td style=\"padding-left: 1em; padding-right: 1em; text-align: center; vertical-align: top\">52506</td>\n",
       "    </tr>\n",
       "    <tr>\n",
       "        <td style=\"padding-left: 1em; padding-right: 1em; text-align: center; vertical-align: top\">8</td>\n",
       "        <td style=\"padding-left: 1em; padding-right: 1em; text-align: center; vertical-align: top\">n_a</td>\n",
       "        <td style=\"padding-left: 1em; padding-right: 1em; text-align: center; vertical-align: top\">None</td>\n",
       "        <td style=\"padding-left: 1em; padding-right: 1em; text-align: center; vertical-align: top\">45184</td>\n",
       "    </tr>\n",
       "    <tr>\n",
       "        <td style=\"padding-left: 1em; padding-right: 1em; text-align: center; vertical-align: top\">9</td>\n",
       "        <td style=\"padding-left: 1em; padding-right: 1em; text-align: center; vertical-align: top\">lag2</td>\n",
       "        <td style=\"padding-left: 1em; padding-right: 1em; text-align: center; vertical-align: top\">None</td>\n",
       "        <td style=\"padding-left: 1em; padding-right: 1em; text-align: center; vertical-align: top\">44347</td>\n",
       "    </tr>\n",
       "</table>\n",
       "[14 rows x 4 columns]<br/>Note: Only the head of the SFrame is printed.<br/>You can use print_rows(num_rows=m, num_columns=n) to print more rows and columns.\n",
       "</div>"
      ],
      "text/plain": [
       "Columns:\n",
       "\tid\tint\n",
       "\tname\tstr\n",
       "\tindex\tstr\n",
       "\tcount\tint\n",
       "\n",
       "Rows: 14\n",
       "\n",
       "Data:\n",
       "+----+-------------+-------+-------+\n",
       "| id |     name    | index | count |\n",
       "+----+-------------+-------+-------+\n",
       "| 0  |  Cliente_ID |  None | 91924 |\n",
       "| 1  |   Ruta_SAK  |  None | 74921 |\n",
       "| 2  | Producto_ID |  None | 68034 |\n",
       "| 3  |  Agencia_ID |  None | 67866 |\n",
       "| 4  |     n_c     |  None | 63979 |\n",
       "| 5  |     lag1    |  None | 56174 |\n",
       "| 6  |     n_r     |  None | 54858 |\n",
       "| 7  |     n_p     |  None | 52506 |\n",
       "| 8  |     n_a     |  None | 45184 |\n",
       "| 9  |     lag2    |  None | 44347 |\n",
       "+----+-------------+-------+-------+\n",
       "[14 rows x 4 columns]\n",
       "Note: Only the head of the SFrame is printed.\n",
       "You can use print_rows(num_rows=m, num_columns=n) to print more rows and columns."
      ]
     },
     "execution_count": 19,
     "metadata": {},
     "output_type": "execute_result"
    }
   ],
   "source": [
    "'''feature important'''\n",
    "w = model.get_feature_importance()\n",
    "w = w.add_row_number()\n",
    "w"
   ]
  },
  {
   "cell_type": "code",
   "execution_count": 20,
   "metadata": {
    "collapsed": false
   },
   "outputs": [
    {
     "data": {
      "text/plain": [
       "(array([ 0,  1,  2,  3,  4,  5,  6,  7,  8,  9, 10, 11, 12, 13]),\n",
       " <a list of 14 Text xticklabel objects>)"
      ]
     },
     "execution_count": 20,
     "metadata": {},
     "output_type": "execute_result"
    },
    {
     "data": {
      "image/png": "[encoded data removed]",
      "text/plain": [
       "<matplotlib.figure.Figure at 0x7f757a076c10>"
      ]
     },
     "metadata": {},
     "output_type": "display_data"
    }
   ],
   "source": [
    "from IPython.core.pylabtools import figsize\n",
    "import numpy as np\n",
    "from matplotlib import pyplot as plt\n",
    "import seaborn as sns\n",
    "sns.set_style('darkgrid', {'grid.color': '.8','grid.linestyle': u'--'}) \n",
    "%matplotlib inline\n",
    "\n",
    "figsize(12, 6)\n",
    "plt.bar(w['id'], w['count'], tick_label=w['name'])\n",
    "\n",
    "plt.xticks(rotation=45)\n"
   ]
  },
  {
   "cell_type": "code",
   "execution_count": 16,
   "metadata": {
    "collapsed": false
   },
   "outputs": [
    {
     "name": "stdout",
     "output_type": "stream",
     "text": [
      "{'max_error': 5.325312852859497, 'rmse': 0.42764513831793416}\n"
     ]
    }
   ],
   "source": [
    "# Save predictions to an SArray\n",
    "# predictions = model.predict(train)\n",
    "\n",
    "# Evaluate the model and save the results into a dictionary\n",
    "\n",
    "# results = model.evaluate(train)\n",
    "# print results\n"
   ]
  },
  {
   "cell_type": "markdown",
   "metadata": {
    "collapsed": true
   },
   "source": [
    "## predict"
   ]
  },
  {
   "cell_type": "code",
   "execution_count": 4,
   "metadata": {
    "collapsed": true
   },
   "outputs": [],
   "source": [
    "test = gl.SFrame.read_csv(path + 'test_lag5_w8.csv', verbose=False)\n",
    "# test = test.join(town, on=['Agencia_ID','Producto_ID'], how='left')\n",
    "# del test['Town']\n",
    "# test = test.fillna('t_c',1)\n",
    "# test = test.fillna('tcc',0)\n",
    "# test = test.fillna('tp_sum',0)"
   ]
  },
  {
   "cell_type": "code",
   "execution_count": 7,
   "metadata": {
    "collapsed": false
   },
   "outputs": [
    {
     "data": {
      "text/html": [
       "<div style=\"max-height:1000px;max-width:1500px;overflow:auto;\"><table frame=\"box\" rules=\"cols\">\n",
       "    <tr>\n",
       "        <th style=\"padding-left: 1em; padding-right: 1em; text-align: center\">id</th>\n",
       "        <th style=\"padding-left: 1em; padding-right: 1em; text-align: center\">Semana</th>\n",
       "        <th style=\"padding-left: 1em; padding-right: 1em; text-align: center\">Agencia_ID</th>\n",
       "        <th style=\"padding-left: 1em; padding-right: 1em; text-align: center\">Canal_ID</th>\n",
       "        <th style=\"padding-left: 1em; padding-right: 1em; text-align: center\">Ruta_SAK</th>\n",
       "        <th style=\"padding-left: 1em; padding-right: 1em; text-align: center\">Cliente_ID</th>\n",
       "        <th style=\"padding-left: 1em; padding-right: 1em; text-align: center\">Producto_ID</th>\n",
       "        <th style=\"padding-left: 1em; padding-right: 1em; text-align: center\">lag1</th>\n",
       "        <th style=\"padding-left: 1em; padding-right: 1em; text-align: center\">lag2</th>\n",
       "        <th style=\"padding-left: 1em; padding-right: 1em; text-align: center\">lag3</th>\n",
       "    </tr>\n",
       "    <tr>\n",
       "        <td style=\"padding-left: 1em; padding-right: 1em; text-align: center; vertical-align: top\">4721633</td>\n",
       "        <td style=\"padding-left: 1em; padding-right: 1em; text-align: center; vertical-align: top\">10</td>\n",
       "        <td style=\"padding-left: 1em; padding-right: 1em; text-align: center; vertical-align: top\">4037</td>\n",
       "        <td style=\"padding-left: 1em; padding-right: 1em; text-align: center; vertical-align: top\">1</td>\n",
       "        <td style=\"padding-left: 1em; padding-right: 1em; text-align: center; vertical-align: top\">1153</td>\n",
       "        <td style=\"padding-left: 1em; padding-right: 1em; text-align: center; vertical-align: top\">2398808</td>\n",
       "        <td style=\"padding-left: 1em; padding-right: 1em; text-align: center; vertical-align: top\">43202</td>\n",
       "        <td style=\"padding-left: 1em; padding-right: 1em; text-align: center; vertical-align: top\">0.0</td>\n",
       "        <td style=\"padding-left: 1em; padding-right: 1em; text-align: center; vertical-align: top\">0.0</td>\n",
       "        <td style=\"padding-left: 1em; padding-right: 1em; text-align: center; vertical-align: top\">1.60944</td>\n",
       "    </tr>\n",
       "    <tr>\n",
       "        <td style=\"padding-left: 1em; padding-right: 1em; text-align: center; vertical-align: top\">6035419</td>\n",
       "        <td style=\"padding-left: 1em; padding-right: 1em; text-align: center; vertical-align: top\">10</td>\n",
       "        <td style=\"padding-left: 1em; padding-right: 1em; text-align: center; vertical-align: top\">2239</td>\n",
       "        <td style=\"padding-left: 1em; padding-right: 1em; text-align: center; vertical-align: top\">1</td>\n",
       "        <td style=\"padding-left: 1em; padding-right: 1em; text-align: center; vertical-align: top\">1157</td>\n",
       "        <td style=\"padding-left: 1em; padding-right: 1em; text-align: center; vertical-align: top\">1529806</td>\n",
       "        <td style=\"padding-left: 1em; padding-right: 1em; text-align: center; vertical-align: top\">1230</td>\n",
       "        <td style=\"padding-left: 1em; padding-right: 1em; text-align: center; vertical-align: top\">1.09861</td>\n",
       "        <td style=\"padding-left: 1em; padding-right: 1em; text-align: center; vertical-align: top\">1.38629</td>\n",
       "        <td style=\"padding-left: 1em; padding-right: 1em; text-align: center; vertical-align: top\">0.0</td>\n",
       "    </tr>\n",
       "    <tr>\n",
       "        <td style=\"padding-left: 1em; padding-right: 1em; text-align: center; vertical-align: top\">3462602</td>\n",
       "        <td style=\"padding-left: 1em; padding-right: 1em; text-align: center; vertical-align: top\">10</td>\n",
       "        <td style=\"padding-left: 1em; padding-right: 1em; text-align: center; vertical-align: top\">1366</td>\n",
       "        <td style=\"padding-left: 1em; padding-right: 1em; text-align: center; vertical-align: top\">1</td>\n",
       "        <td style=\"padding-left: 1em; padding-right: 1em; text-align: center; vertical-align: top\">1051</td>\n",
       "        <td style=\"padding-left: 1em; padding-right: 1em; text-align: center; vertical-align: top\">1368806</td>\n",
       "        <td style=\"padding-left: 1em; padding-right: 1em; text-align: center; vertical-align: top\">1146</td>\n",
       "        <td style=\"padding-left: 1em; padding-right: 1em; text-align: center; vertical-align: top\">1.09861</td>\n",
       "        <td style=\"padding-left: 1em; padding-right: 1em; text-align: center; vertical-align: top\">0.693147</td>\n",
       "        <td style=\"padding-left: 1em; padding-right: 1em; text-align: center; vertical-align: top\">0.693147</td>\n",
       "    </tr>\n",
       "    <tr>\n",
       "        <td style=\"padding-left: 1em; padding-right: 1em; text-align: center; vertical-align: top\">855102</td>\n",
       "        <td style=\"padding-left: 1em; padding-right: 1em; text-align: center; vertical-align: top\">10</td>\n",
       "        <td style=\"padding-left: 1em; padding-right: 1em; text-align: center; vertical-align: top\">1911</td>\n",
       "        <td style=\"padding-left: 1em; padding-right: 1em; text-align: center; vertical-align: top\">1</td>\n",
       "        <td style=\"padding-left: 1em; padding-right: 1em; text-align: center; vertical-align: top\">1156</td>\n",
       "        <td style=\"padding-left: 1em; padding-right: 1em; text-align: center; vertical-align: top\">867160</td>\n",
       "        <td style=\"padding-left: 1em; padding-right: 1em; text-align: center; vertical-align: top\">1232</td>\n",
       "        <td style=\"padding-left: 1em; padding-right: 1em; text-align: center; vertical-align: top\">1.38629</td>\n",
       "        <td style=\"padding-left: 1em; padding-right: 1em; text-align: center; vertical-align: top\">0.0</td>\n",
       "        <td style=\"padding-left: 1em; padding-right: 1em; text-align: center; vertical-align: top\">0.0</td>\n",
       "    </tr>\n",
       "    <tr>\n",
       "        <td style=\"padding-left: 1em; padding-right: 1em; text-align: center; vertical-align: top\">3242700</td>\n",
       "        <td style=\"padding-left: 1em; padding-right: 1em; text-align: center; vertical-align: top\">11</td>\n",
       "        <td style=\"padding-left: 1em; padding-right: 1em; text-align: center; vertical-align: top\">1952</td>\n",
       "        <td style=\"padding-left: 1em; padding-right: 1em; text-align: center; vertical-align: top\">11</td>\n",
       "        <td style=\"padding-left: 1em; padding-right: 1em; text-align: center; vertical-align: top\">5721</td>\n",
       "        <td style=\"padding-left: 1em; padding-right: 1em; text-align: center; vertical-align: top\">1126647</td>\n",
       "        <td style=\"padding-left: 1em; padding-right: 1em; text-align: center; vertical-align: top\">47612</td>\n",
       "        <td style=\"padding-left: 1em; padding-right: 1em; text-align: center; vertical-align: top\">0.0</td>\n",
       "        <td style=\"padding-left: 1em; padding-right: 1em; text-align: center; vertical-align: top\">3.09104</td>\n",
       "        <td style=\"padding-left: 1em; padding-right: 1em; text-align: center; vertical-align: top\">2.99573</td>\n",
       "    </tr>\n",
       "    <tr>\n",
       "        <td style=\"padding-left: 1em; padding-right: 1em; text-align: center; vertical-align: top\">2421613</td>\n",
       "        <td style=\"padding-left: 1em; padding-right: 1em; text-align: center; vertical-align: top\">10</td>\n",
       "        <td style=\"padding-left: 1em; padding-right: 1em; text-align: center; vertical-align: top\">2653</td>\n",
       "        <td style=\"padding-left: 1em; padding-right: 1em; text-align: center; vertical-align: top\">1</td>\n",
       "        <td style=\"padding-left: 1em; padding-right: 1em; text-align: center; vertical-align: top\">2117</td>\n",
       "        <td style=\"padding-left: 1em; padding-right: 1em; text-align: center; vertical-align: top\">954439</td>\n",
       "        <td style=\"padding-left: 1em; padding-right: 1em; text-align: center; vertical-align: top\">35305</td>\n",
       "        <td style=\"padding-left: 1em; padding-right: 1em; text-align: center; vertical-align: top\">2.77259</td>\n",
       "        <td style=\"padding-left: 1em; padding-right: 1em; text-align: center; vertical-align: top\">3.04452</td>\n",
       "        <td style=\"padding-left: 1em; padding-right: 1em; text-align: center; vertical-align: top\">2.56495</td>\n",
       "    </tr>\n",
       "    <tr>\n",
       "        <td style=\"padding-left: 1em; padding-right: 1em; text-align: center; vertical-align: top\">1573296</td>\n",
       "        <td style=\"padding-left: 1em; padding-right: 1em; text-align: center; vertical-align: top\">10</td>\n",
       "        <td style=\"padding-left: 1em; padding-right: 1em; text-align: center; vertical-align: top\">1427</td>\n",
       "        <td style=\"padding-left: 1em; padding-right: 1em; text-align: center; vertical-align: top\">1</td>\n",
       "        <td style=\"padding-left: 1em; padding-right: 1em; text-align: center; vertical-align: top\">1102</td>\n",
       "        <td style=\"padding-left: 1em; padding-right: 1em; text-align: center; vertical-align: top\">4561415</td>\n",
       "        <td style=\"padding-left: 1em; padding-right: 1em; text-align: center; vertical-align: top\">43197</td>\n",
       "        <td style=\"padding-left: 1em; padding-right: 1em; text-align: center; vertical-align: top\">1.38629</td>\n",
       "        <td style=\"padding-left: 1em; padding-right: 1em; text-align: center; vertical-align: top\">1.79176</td>\n",
       "        <td style=\"padding-left: 1em; padding-right: 1em; text-align: center; vertical-align: top\">1.94591</td>\n",
       "    </tr>\n",
       "    <tr>\n",
       "        <td style=\"padding-left: 1em; padding-right: 1em; text-align: center; vertical-align: top\">1619375</td>\n",
       "        <td style=\"padding-left: 1em; padding-right: 1em; text-align: center; vertical-align: top\">10</td>\n",
       "        <td style=\"padding-left: 1em; padding-right: 1em; text-align: center; vertical-align: top\">1629</td>\n",
       "        <td style=\"padding-left: 1em; padding-right: 1em; text-align: center; vertical-align: top\">1</td>\n",
       "        <td style=\"padding-left: 1em; padding-right: 1em; text-align: center; vertical-align: top\">1013</td>\n",
       "        <td style=\"padding-left: 1em; padding-right: 1em; text-align: center; vertical-align: top\">169508</td>\n",
       "        <td style=\"padding-left: 1em; padding-right: 1em; text-align: center; vertical-align: top\">1146</td>\n",
       "        <td style=\"padding-left: 1em; padding-right: 1em; text-align: center; vertical-align: top\">2.07944</td>\n",
       "        <td style=\"padding-left: 1em; padding-right: 1em; text-align: center; vertical-align: top\">2.19722</td>\n",
       "        <td style=\"padding-left: 1em; padding-right: 1em; text-align: center; vertical-align: top\">1.79176</td>\n",
       "    </tr>\n",
       "    <tr>\n",
       "        <td style=\"padding-left: 1em; padding-right: 1em; text-align: center; vertical-align: top\">3539201</td>\n",
       "        <td style=\"padding-left: 1em; padding-right: 1em; text-align: center; vertical-align: top\">11</td>\n",
       "        <td style=\"padding-left: 1em; padding-right: 1em; text-align: center; vertical-align: top\">1120</td>\n",
       "        <td style=\"padding-left: 1em; padding-right: 1em; text-align: center; vertical-align: top\">1</td>\n",
       "        <td style=\"padding-left: 1em; padding-right: 1em; text-align: center; vertical-align: top\">1453</td>\n",
       "        <td style=\"padding-left: 1em; padding-right: 1em; text-align: center; vertical-align: top\">4602755</td>\n",
       "        <td style=\"padding-left: 1em; padding-right: 1em; text-align: center; vertical-align: top\">1230</td>\n",
       "        <td style=\"padding-left: 1em; padding-right: 1em; text-align: center; vertical-align: top\">0.0</td>\n",
       "        <td style=\"padding-left: 1em; padding-right: 1em; text-align: center; vertical-align: top\">1.38629</td>\n",
       "        <td style=\"padding-left: 1em; padding-right: 1em; text-align: center; vertical-align: top\">1.38629</td>\n",
       "    </tr>\n",
       "    <tr>\n",
       "        <td style=\"padding-left: 1em; padding-right: 1em; text-align: center; vertical-align: top\">1631781</td>\n",
       "        <td style=\"padding-left: 1em; padding-right: 1em; text-align: center; vertical-align: top\">10</td>\n",
       "        <td style=\"padding-left: 1em; padding-right: 1em; text-align: center; vertical-align: top\">1385</td>\n",
       "        <td style=\"padding-left: 1em; padding-right: 1em; text-align: center; vertical-align: top\">4</td>\n",
       "        <td style=\"padding-left: 1em; padding-right: 1em; text-align: center; vertical-align: top\">6617</td>\n",
       "        <td style=\"padding-left: 1em; padding-right: 1em; text-align: center; vertical-align: top\">20130</td>\n",
       "        <td style=\"padding-left: 1em; padding-right: 1em; text-align: center; vertical-align: top\">2025</td>\n",
       "        <td style=\"padding-left: 1em; padding-right: 1em; text-align: center; vertical-align: top\">2.56495</td>\n",
       "        <td style=\"padding-left: 1em; padding-right: 1em; text-align: center; vertical-align: top\">0.0</td>\n",
       "        <td style=\"padding-left: 1em; padding-right: 1em; text-align: center; vertical-align: top\">2.56495</td>\n",
       "    </tr>\n",
       "</table>\n",
       "<table frame=\"box\" rules=\"cols\">\n",
       "    <tr>\n",
       "        <th style=\"padding-left: 1em; padding-right: 1em; text-align: center\">lag4</th>\n",
       "        <th style=\"padding-left: 1em; padding-right: 1em; text-align: center\">lag5</th>\n",
       "        <th style=\"padding-left: 1em; padding-right: 1em; text-align: center\">n_a</th>\n",
       "        <th style=\"padding-left: 1em; padding-right: 1em; text-align: center\">n_r</th>\n",
       "        <th style=\"padding-left: 1em; padding-right: 1em; text-align: center\">n_c</th>\n",
       "        <th style=\"padding-left: 1em; padding-right: 1em; text-align: center\">n_p</th>\n",
       "    </tr>\n",
       "    <tr>\n",
       "        <td style=\"padding-left: 1em; padding-right: 1em; text-align: center; vertical-align: top\">1.94591</td>\n",
       "        <td style=\"padding-left: 1em; padding-right: 1em; text-align: center; vertical-align: top\">1.38629</td>\n",
       "        <td style=\"padding-left: 1em; padding-right: 1em; text-align: center; vertical-align: top\">34074.3</td>\n",
       "        <td style=\"padding-left: 1em; padding-right: 1em; text-align: center; vertical-align: top\">15042.7</td>\n",
       "        <td style=\"padding-left: 1em; padding-right: 1em; text-align: center; vertical-align: top\">18.6667</td>\n",
       "        <td style=\"padding-left: 1em; padding-right: 1em; text-align: center; vertical-align: top\">24927.3</td>\n",
       "    </tr>\n",
       "    <tr>\n",
       "        <td style=\"padding-left: 1em; padding-right: 1em; text-align: center; vertical-align: top\">0.0</td>\n",
       "        <td style=\"padding-left: 1em; padding-right: 1em; text-align: center; vertical-align: top\">0.0</td>\n",
       "        <td style=\"padding-left: 1em; padding-right: 1em; text-align: center; vertical-align: top\">16171.0</td>\n",
       "        <td style=\"padding-left: 1em; padding-right: 1em; text-align: center; vertical-align: top\">13202.7</td>\n",
       "        <td style=\"padding-left: 1em; padding-right: 1em; text-align: center; vertical-align: top\">19.0</td>\n",
       "        <td style=\"padding-left: 1em; padding-right: 1em; text-align: center; vertical-align: top\">48974.0</td>\n",
       "    </tr>\n",
       "    <tr>\n",
       "        <td style=\"padding-left: 1em; padding-right: 1em; text-align: center; vertical-align: top\">1.38629</td>\n",
       "        <td style=\"padding-left: 1em; padding-right: 1em; text-align: center; vertical-align: top\">0.693147</td>\n",
       "        <td style=\"padding-left: 1em; padding-right: 1em; text-align: center; vertical-align: top\">10229.3</td>\n",
       "        <td style=\"padding-left: 1em; padding-right: 1em; text-align: center; vertical-align: top\">12610.0</td>\n",
       "        <td style=\"padding-left: 1em; padding-right: 1em; text-align: center; vertical-align: top\">9.33333</td>\n",
       "        <td style=\"padding-left: 1em; padding-right: 1em; text-align: center; vertical-align: top\">117711.0</td>\n",
       "    </tr>\n",
       "    <tr>\n",
       "        <td style=\"padding-left: 1em; padding-right: 1em; text-align: center; vertical-align: top\">0.693147</td>\n",
       "        <td style=\"padding-left: 1em; padding-right: 1em; text-align: center; vertical-align: top\">1.38629</td>\n",
       "        <td style=\"padding-left: 1em; padding-right: 1em; text-align: center; vertical-align: top\">61147.0</td>\n",
       "        <td style=\"padding-left: 1em; padding-right: 1em; text-align: center; vertical-align: top\">14702.7</td>\n",
       "        <td style=\"padding-left: 1em; padding-right: 1em; text-align: center; vertical-align: top\">24.0</td>\n",
       "        <td style=\"padding-left: 1em; padding-right: 1em; text-align: center; vertical-align: top\">108023.0</td>\n",
       "    </tr>\n",
       "    <tr>\n",
       "        <td style=\"padding-left: 1em; padding-right: 1em; text-align: center; vertical-align: top\">2.07944</td>\n",
       "        <td style=\"padding-left: 1em; padding-right: 1em; text-align: center; vertical-align: top\">0.0</td>\n",
       "        <td style=\"padding-left: 1em; padding-right: 1em; text-align: center; vertical-align: top\">12069.3</td>\n",
       "        <td style=\"padding-left: 1em; padding-right: 1em; text-align: center; vertical-align: top\">281.667</td>\n",
       "        <td style=\"padding-left: 1em; padding-right: 1em; text-align: center; vertical-align: top\">2.5</td>\n",
       "        <td style=\"padding-left: 1em; padding-right: 1em; text-align: center; vertical-align: top\">872.333</td>\n",
       "    </tr>\n",
       "    <tr>\n",
       "        <td style=\"padding-left: 1em; padding-right: 1em; text-align: center; vertical-align: top\">0.0</td>\n",
       "        <td style=\"padding-left: 1em; padding-right: 1em; text-align: center; vertical-align: top\">0.0</td>\n",
       "        <td style=\"padding-left: 1em; padding-right: 1em; text-align: center; vertical-align: top\">36491.7</td>\n",
       "        <td style=\"padding-left: 1em; padding-right: 1em; text-align: center; vertical-align: top\">6030.0</td>\n",
       "        <td style=\"padding-left: 1em; padding-right: 1em; text-align: center; vertical-align: top\">11.6667</td>\n",
       "        <td style=\"padding-left: 1em; padding-right: 1em; text-align: center; vertical-align: top\">114897.0</td>\n",
       "    </tr>\n",
       "    <tr>\n",
       "        <td style=\"padding-left: 1em; padding-right: 1em; text-align: center; vertical-align: top\">1.94591</td>\n",
       "        <td style=\"padding-left: 1em; padding-right: 1em; text-align: center; vertical-align: top\">1.94591</td>\n",
       "        <td style=\"padding-left: 1em; padding-right: 1em; text-align: center; vertical-align: top\">15802.3</td>\n",
       "        <td style=\"padding-left: 1em; padding-right: 1em; text-align: center; vertical-align: top\">26768.3</td>\n",
       "        <td style=\"padding-left: 1em; padding-right: 1em; text-align: center; vertical-align: top\">12.6667</td>\n",
       "        <td style=\"padding-left: 1em; padding-right: 1em; text-align: center; vertical-align: top\">22454.7</td>\n",
       "    </tr>\n",
       "    <tr>\n",
       "        <td style=\"padding-left: 1em; padding-right: 1em; text-align: center; vertical-align: top\">2.07944</td>\n",
       "        <td style=\"padding-left: 1em; padding-right: 1em; text-align: center; vertical-align: top\">2.19722</td>\n",
       "        <td style=\"padding-left: 1em; padding-right: 1em; text-align: center; vertical-align: top\">40219.0</td>\n",
       "        <td style=\"padding-left: 1em; padding-right: 1em; text-align: center; vertical-align: top\">15385.0</td>\n",
       "        <td style=\"padding-left: 1em; padding-right: 1em; text-align: center; vertical-align: top\">33.3333</td>\n",
       "        <td style=\"padding-left: 1em; padding-right: 1em; text-align: center; vertical-align: top\">117711.0</td>\n",
       "    </tr>\n",
       "    <tr>\n",
       "        <td style=\"padding-left: 1em; padding-right: 1em; text-align: center; vertical-align: top\">1.09861</td>\n",
       "        <td style=\"padding-left: 1em; padding-right: 1em; text-align: center; vertical-align: top\">1.38629</td>\n",
       "        <td style=\"padding-left: 1em; padding-right: 1em; text-align: center; vertical-align: top\">36187.3</td>\n",
       "        <td style=\"padding-left: 1em; padding-right: 1em; text-align: center; vertical-align: top\">3004.0</td>\n",
       "        <td style=\"padding-left: 1em; padding-right: 1em; text-align: center; vertical-align: top\">26.6667</td>\n",
       "        <td style=\"padding-left: 1em; padding-right: 1em; text-align: center; vertical-align: top\">48974.0</td>\n",
       "    </tr>\n",
       "    <tr>\n",
       "        <td style=\"padding-left: 1em; padding-right: 1em; text-align: center; vertical-align: top\">2.48491</td>\n",
       "        <td style=\"padding-left: 1em; padding-right: 1em; text-align: center; vertical-align: top\">2.07944</td>\n",
       "        <td style=\"padding-left: 1em; padding-right: 1em; text-align: center; vertical-align: top\">3184.33</td>\n",
       "        <td style=\"padding-left: 1em; padding-right: 1em; text-align: center; vertical-align: top\">2943.67</td>\n",
       "        <td style=\"padding-left: 1em; padding-right: 1em; text-align: center; vertical-align: top\">6.33333</td>\n",
       "        <td style=\"padding-left: 1em; padding-right: 1em; text-align: center; vertical-align: top\">6295.67</td>\n",
       "    </tr>\n",
       "</table>\n",
       "[6999251 rows x 16 columns]<br/>Note: Only the head of the SFrame is printed.<br/>You can use print_rows(num_rows=m, num_columns=n) to print more rows and columns.\n",
       "</div>"
      ],
      "text/plain": [
       "Columns:\n",
       "\tid\tint\n",
       "\tSemana\tint\n",
       "\tAgencia_ID\tint\n",
       "\tCanal_ID\tint\n",
       "\tRuta_SAK\tint\n",
       "\tCliente_ID\tint\n",
       "\tProducto_ID\tint\n",
       "\tlag1\tfloat\n",
       "\tlag2\tfloat\n",
       "\tlag3\tfloat\n",
       "\tlag4\tfloat\n",
       "\tlag5\tfloat\n",
       "\tn_a\tfloat\n",
       "\tn_r\tfloat\n",
       "\tn_c\tfloat\n",
       "\tn_p\tfloat\n",
       "\n",
       "Rows: 6999251\n",
       "\n",
       "Data:\n",
       "+---------+--------+------------+----------+----------+------------+-------------+\n",
       "|    id   | Semana | Agencia_ID | Canal_ID | Ruta_SAK | Cliente_ID | Producto_ID |\n",
       "+---------+--------+------------+----------+----------+------------+-------------+\n",
       "| 4721633 |   10   |    4037    |    1     |   1153   |  2398808   |    43202    |\n",
       "| 6035419 |   10   |    2239    |    1     |   1157   |  1529806   |     1230    |\n",
       "| 3462602 |   10   |    1366    |    1     |   1051   |  1368806   |     1146    |\n",
       "|  855102 |   10   |    1911    |    1     |   1156   |   867160   |     1232    |\n",
       "| 3242700 |   11   |    1952    |    11    |   5721   |  1126647   |    47612    |\n",
       "| 2421613 |   10   |    2653    |    1     |   2117   |   954439   |    35305    |\n",
       "| 1573296 |   10   |    1427    |    1     |   1102   |  4561415   |    43197    |\n",
       "| 1619375 |   10   |    1629    |    1     |   1013   |   169508   |     1146    |\n",
       "| 3539201 |   11   |    1120    |    1     |   1453   |  4602755   |     1230    |\n",
       "| 1631781 |   10   |    1385    |    4     |   6617   |   20130    |     2025    |\n",
       "+---------+--------+------------+----------+----------+------------+-------------+\n",
       "+---------+----------+----------+----------+----------+---------+---------+\n",
       "|   lag1  |   lag2   |   lag3   |   lag4   |   lag5   |   n_a   |   n_r   |\n",
       "+---------+----------+----------+----------+----------+---------+---------+\n",
       "|   0.0   |   0.0    | 1.60944  | 1.94591  | 1.38629  | 34074.3 | 15042.7 |\n",
       "| 1.09861 | 1.38629  |   0.0    |   0.0    |   0.0    | 16171.0 | 13202.7 |\n",
       "| 1.09861 | 0.693147 | 0.693147 | 1.38629  | 0.693147 | 10229.3 | 12610.0 |\n",
       "| 1.38629 |   0.0    |   0.0    | 0.693147 | 1.38629  | 61147.0 | 14702.7 |\n",
       "|   0.0   | 3.09104  | 2.99573  | 2.07944  |   0.0    | 12069.3 | 281.667 |\n",
       "| 2.77259 | 3.04452  | 2.56495  |   0.0    |   0.0    | 36491.7 |  6030.0 |\n",
       "| 1.38629 | 1.79176  | 1.94591  | 1.94591  | 1.94591  | 15802.3 | 26768.3 |\n",
       "| 2.07944 | 2.19722  | 1.79176  | 2.07944  | 2.19722  | 40219.0 | 15385.0 |\n",
       "|   0.0   | 1.38629  | 1.38629  | 1.09861  | 1.38629  | 36187.3 |  3004.0 |\n",
       "| 2.56495 |   0.0    | 2.56495  | 2.48491  | 2.07944  | 3184.33 | 2943.67 |\n",
       "+---------+----------+----------+----------+----------+---------+---------+\n",
       "+---------+----------+\n",
       "|   n_c   |   n_p    |\n",
       "+---------+----------+\n",
       "| 18.6667 | 24927.3  |\n",
       "|   19.0  | 48974.0  |\n",
       "| 9.33333 | 117711.0 |\n",
       "|   24.0  | 108023.0 |\n",
       "|   2.5   | 872.333  |\n",
       "| 11.6667 | 114897.0 |\n",
       "| 12.6667 | 22454.7  |\n",
       "| 33.3333 | 117711.0 |\n",
       "| 26.6667 | 48974.0  |\n",
       "| 6.33333 | 6295.67  |\n",
       "+---------+----------+\n",
       "[6999251 rows x 16 columns]\n",
       "Note: Only the head of the SFrame is printed.\n",
       "You can use print_rows(num_rows=m, num_columns=n) to print more rows and columns."
      ]
     },
     "execution_count": 7,
     "metadata": {},
     "output_type": "execute_result"
    }
   ],
   "source": [
    "test"
   ]
  },
  {
   "cell_type": "code",
   "execution_count": 6,
   "metadata": {
    "collapsed": false
   },
   "outputs": [],
   "source": [
    "del test['prior_sum']\n",
    "del test['lag_sum']\n",
    "del test['week_times']"
   ]
  },
  {
   "cell_type": "code",
   "execution_count": 51,
   "metadata": {
    "collapsed": true
   },
   "outputs": [],
   "source": [
    "'''Add feature to week 11'''\n",
    "def feature_w11(test, lag_sum=0, prior_sum=0):\n",
    "    test_full = test.copy()\n",
    "    ids = test['id']\n",
    "    del test['id']\n",
    "    del test['Semana']\n",
    "    demand_log = model.predict(test)\n",
    "    sub1 = gl.SFrame({'id':ids,'Demanda_uni_equil':demand_log})\n",
    "    test_full = test_full.join(sub1,on=['id'],how='left')\n",
    "    lag11 = test_full.groupby(key_columns=['Semana','Cliente_ID','Producto_ID'], operations={'lag11':agg.MEAN('Demanda_uni_equil')})\n",
    "    lag11['Semana'] = lag11['Semana'].apply(lambda x: x+1)\n",
    "    test_full = test_full.join(lag11,on=['Semana','Cliente_ID','Producto_ID'],how='left')\n",
    "    test_full = test_full.fillna('lag11',0)\n",
    "    test_full['lag1'] = test_full['lag1'] + test_full['lag11']\n",
    "    \n",
    "    if lag_sum == 1:\n",
    "        test_full['lag_sum'] = test_full['lag_sum'] + test_full['lag11']\n",
    "        \n",
    "    if prior_sum == 1:\n",
    "        lag_sum11 = test_full.groupby(key_columns=['Semana','Cliente_ID','Producto_ID'], operations={'lag_sum11':agg.SUM('Demanda_uni_equil')})\n",
    "        lag_sum11['Semana'] = lag_sum11['Semana'].apply(lambda x: x+1)\n",
    "        test_full = test_full.join(lag_sum11,on=['Semana','Cliente_ID','Producto_ID'],how='left')\n",
    "        test_full = test_full.fillna('lag_sum11',0)\n",
    "        test_full['prior_sum'] = test_full['prior_sum'] + test_full['lag_sum11']\n",
    "        del test_full['lag_sum11']\n",
    "\n",
    "    del test_full['lag11']\n",
    "    del test_full['Demanda_uni_equil']\n",
    "    return test_full"
   ]
  },
  {
   "cell_type": "code",
   "execution_count": 52,
   "metadata": {
    "collapsed": true
   },
   "outputs": [],
   "source": [
    "test_full = feature_w11(test, lag_sum=0, prior_sum=0)\n",
    "\n",
    "ids = test_full['id']\n",
    "del test_full['id']\n",
    "del test_full['Semana']\n",
    "demand_log = model.predict(test_full)\n",
    "sub = gl.SFrame({'id':ids,'Demanda_uni_equil':demand_log})"
   ]
  },
  {
   "cell_type": "code",
   "execution_count": 55,
   "metadata": {
    "collapsed": false
   },
   "outputs": [],
   "source": [
    "import math\n",
    "sub['Demanda_uni_equil'] = sub['Demanda_uni_equil'].apply(lambda x: math.expm1(max(0, x)))"
   ]
  },
  {
   "cell_type": "code",
   "execution_count": 57,
   "metadata": {
    "collapsed": true
   },
   "outputs": [],
   "source": [
    "file_name = 'w8'+'_f'+str(model.num_features)+'_n'+str(model.max_iterations)+'_c'+str(model.column_subsample)\n",
    "sub.save(path + file_name,format='csv')"
   ]
  },
  {
   "cell_type": "code",
   "execution_count": 56,
   "metadata": {
    "collapsed": false
   },
   "outputs": [
    {
     "data": {
      "text/html": [
       "<div style=\"max-height:1000px;max-width:1500px;overflow:auto;\"><table frame=\"box\" rules=\"cols\">\n",
       "    <tr>\n",
       "        <th style=\"padding-left: 1em; padding-right: 1em; text-align: center\">Demanda_uni_equil</th>\n",
       "        <th style=\"padding-left: 1em; padding-right: 1em; text-align: center\">id</th>\n",
       "    </tr>\n",
       "    <tr>\n",
       "        <td style=\"padding-left: 1em; padding-right: 1em; text-align: center; vertical-align: top\">3.44166957171</td>\n",
       "        <td style=\"padding-left: 1em; padding-right: 1em; text-align: center; vertical-align: top\">4721633</td>\n",
       "    </tr>\n",
       "    <tr>\n",
       "        <td style=\"padding-left: 1em; padding-right: 1em; text-align: center; vertical-align: top\">1.85704603627</td>\n",
       "        <td style=\"padding-left: 1em; padding-right: 1em; text-align: center; vertical-align: top\">6035419</td>\n",
       "    </tr>\n",
       "    <tr>\n",
       "        <td style=\"padding-left: 1em; padding-right: 1em; text-align: center; vertical-align: top\">1.66017810641</td>\n",
       "        <td style=\"padding-left: 1em; padding-right: 1em; text-align: center; vertical-align: top\">3462602</td>\n",
       "    </tr>\n",
       "    <tr>\n",
       "        <td style=\"padding-left: 1em; padding-right: 1em; text-align: center; vertical-align: top\">2.07406741465</td>\n",
       "        <td style=\"padding-left: 1em; padding-right: 1em; text-align: center; vertical-align: top\">855102</td>\n",
       "    </tr>\n",
       "    <tr>\n",
       "        <td style=\"padding-left: 1em; padding-right: 1em; text-align: center; vertical-align: top\">9.65243960287</td>\n",
       "        <td style=\"padding-left: 1em; padding-right: 1em; text-align: center; vertical-align: top\">3242700</td>\n",
       "    </tr>\n",
       "    <tr>\n",
       "        <td style=\"padding-left: 1em; padding-right: 1em; text-align: center; vertical-align: top\">12.1227423306</td>\n",
       "        <td style=\"padding-left: 1em; padding-right: 1em; text-align: center; vertical-align: top\">2421613</td>\n",
       "    </tr>\n",
       "    <tr>\n",
       "        <td style=\"padding-left: 1em; padding-right: 1em; text-align: center; vertical-align: top\">3.56680995819</td>\n",
       "        <td style=\"padding-left: 1em; padding-right: 1em; text-align: center; vertical-align: top\">1573296</td>\n",
       "    </tr>\n",
       "    <tr>\n",
       "        <td style=\"padding-left: 1em; padding-right: 1em; text-align: center; vertical-align: top\">6.66333331862</td>\n",
       "        <td style=\"padding-left: 1em; padding-right: 1em; text-align: center; vertical-align: top\">1619375</td>\n",
       "    </tr>\n",
       "    <tr>\n",
       "        <td style=\"padding-left: 1em; padding-right: 1em; text-align: center; vertical-align: top\">1.67583492502</td>\n",
       "        <td style=\"padding-left: 1em; padding-right: 1em; text-align: center; vertical-align: top\">3539201</td>\n",
       "    </tr>\n",
       "    <tr>\n",
       "        <td style=\"padding-left: 1em; padding-right: 1em; text-align: center; vertical-align: top\">8.6226952164</td>\n",
       "        <td style=\"padding-left: 1em; padding-right: 1em; text-align: center; vertical-align: top\">1631781</td>\n",
       "    </tr>\n",
       "</table>\n",
       "[6999251 rows x 2 columns]<br/>Note: Only the head of the SFrame is printed.<br/>You can use print_rows(num_rows=m, num_columns=n) to print more rows and columns.\n",
       "</div>"
      ],
      "text/plain": [
       "Columns:\n",
       "\tDemanda_uni_equil\tfloat\n",
       "\tid\tint\n",
       "\n",
       "Rows: 6999251\n",
       "\n",
       "Data:\n",
       "+-------------------+---------+\n",
       "| Demanda_uni_equil |    id   |\n",
       "+-------------------+---------+\n",
       "|   3.44166957171   | 4721633 |\n",
       "|   1.85704603627   | 6035419 |\n",
       "|   1.66017810641   | 3462602 |\n",
       "|   2.07406741465   |  855102 |\n",
       "|   9.65243960287   | 3242700 |\n",
       "|   12.1227423306   | 2421613 |\n",
       "|   3.56680995819   | 1573296 |\n",
       "|   6.66333331862   | 1619375 |\n",
       "|   1.67583492502   | 3539201 |\n",
       "|    8.6226952164   | 1631781 |\n",
       "+-------------------+---------+\n",
       "[6999251 rows x 2 columns]\n",
       "Note: Only the head of the SFrame is printed.\n",
       "You can use print_rows(num_rows=m, num_columns=n) to print more rows and columns."
      ]
     },
     "execution_count": 56,
     "metadata": {},
     "output_type": "execute_result"
    }
   ],
   "source": [
    "sub"
   ]
  }
 ],
 "metadata": {
  "kernelspec": {
   "display_name": "Python 2",
   "language": "python",
   "name": "python2"
  },
  "language_info": {
   "codemirror_mode": {
    "name": "ipython",
    "version": 2
   },
   "file_extension": ".py",
   "mimetype": "text/x-python",
   "name": "python",
   "nbconvert_exporter": "python",
   "pygments_lexer": "ipython2",
   "version": "2.7.11"
  }
 },
 "nbformat": 4,
 "nbformat_minor": 0
}
