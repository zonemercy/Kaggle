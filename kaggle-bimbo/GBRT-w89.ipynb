{
 "cells": [
  {
   "cell_type": "code",
   "execution_count": 2,
   "metadata": {
    "collapsed": true
   },
   "outputs": [],
   "source": [
    "import pandas as pd\n",
    "import numpy as np\n",
    "import os\n",
    "import math\n",
    "import graphlab\n",
    "import graphlab as gl\n",
    "import graphlab.aggregate as agg\n",
    "from graphlab import SArray"
   ]
  },
  {
   "cell_type": "code",
   "execution_count": 3,
   "metadata": {
    "collapsed": true
   },
   "outputs": [],
   "source": [
    "'''钢炮'''\n",
    "path = '/home/zongyi/bimbo_data/'"
   ]
  },
  {
   "cell_type": "code",
   "execution_count": 4,
   "metadata": {
    "collapsed": false
   },
   "outputs": [
    {
     "name": "stdout",
     "output_type": "stream",
     "text": [
      "This non-commercial license of GraphLab Create for academic use is assigned to zong-yi.liu@irit.fr and will expire on July 13, 2017.\n"
     ]
    },
    {
     "name": "stderr",
     "output_type": "stream",
     "text": [
      "[INFO] graphlab.cython.cy_server: GraphLab Create v2.0.1 started. Logging: /tmp/graphlab_server_1471507912.log\n"
     ]
    }
   ],
   "source": [
    "train = gl.SFrame.read_csv(path + 'train_lag5.csv', verbose=False)"
   ]
  },
  {
   "cell_type": "code",
   "execution_count": 5,
   "metadata": {
    "collapsed": false
   },
   "outputs": [],
   "source": [
    "town = gl.SFrame.read_csv(path + 'towns.csv', verbose=False)\n",
    "train = train.join(town, on=['Agencia_ID','Producto_ID'], how='left')\n",
    "train = train.fillna('t_c',1)\n",
    "train = train.fillna('tcc',0)\n",
    "train = train.fillna('tp_sum',0)\n",
    "del train['Town']"
   ]
  },
  {
   "cell_type": "code",
   "execution_count": 6,
   "metadata": {
    "collapsed": false
   },
   "outputs": [],
   "source": [
    "del train['id']\n",
    "del train['Venta_uni_hoy']\n",
    "del train['Venta_hoy']\n",
    "del train['Dev_uni_proxima']\n",
    "del train['Dev_proxima']\n",
    "del train['Demanda_uni_equil']\n"
   ]
  },
  {
   "cell_type": "code",
   "execution_count": 7,
   "metadata": {
    "collapsed": true
   },
   "outputs": [],
   "source": [
    "# relag_train = gl.SFrame.read_csv(path + 're_lag_train.csv', verbose=False)\n",
    "# train = train.join(relag_train, on=['Cliente_ID','Producto_ID','Semana'], how='left')\n",
    "# train = train.fillna('re_lag1',0)\n",
    "# train = train.fillna('re_lag2',0)\n",
    "# train = train.fillna('re_lag3',0)\n",
    "# train = train.fillna('re_lag4',0)\n",
    "# train = train.fillna('re_lag5',0)\n",
    "# del relag_train\n"
   ]
  },
  {
   "cell_type": "code",
   "execution_count": 8,
   "metadata": {
    "collapsed": true
   },
   "outputs": [],
   "source": [
    "# pd = gl.SFrame.read_csv(path + 'products.csv', verbose=False)\n",
    "# train = train.join(pd, on=['Producto_ID'], how='left')\n",
    "# train = train.fillna('prom',0)\n",
    "# train = train.fillna('weight',0)\n",
    "# train = train.fillna('pieces',1)\n",
    "# train = train.fillna('w_per_piece',0)\n",
    "# train = train.fillna('healthy',0)\n",
    "# train = train.fillna('drink',0)\n",
    "# del train['brand']\n",
    "# del train['NombreProducto']\n",
    "# del pd"
   ]
  },
  {
   "cell_type": "code",
   "execution_count": 9,
   "metadata": {
    "collapsed": true
   },
   "outputs": [],
   "source": [
    "# client = gl.SFrame.read_csv(path + 'clients.csv', verbose=False)\n",
    "# train = train.join(client, on=['Cliente_ID'], how='left')\n",
    "# del client"
   ]
  },
  {
   "cell_type": "code",
   "execution_count": 10,
   "metadata": {
    "collapsed": false
   },
   "outputs": [],
   "source": [
    "# cluster = gl.SFrame.read_csv(path + 'prod_cluster.csv', verbose=False)\n",
    "# cluster = cluster[['Producto_ID','cluster']]\n",
    "# train = train.join(cluster, on=['Producto_ID'], how='left')"
   ]
  },
  {
   "cell_type": "code",
   "execution_count": 44,
   "metadata": {
    "collapsed": false
   },
   "outputs": [
    {
     "data": {
      "text/html": [
       "<div style=\"max-height:1000px;max-width:1500px;overflow:auto;\"><table frame=\"box\" rules=\"cols\">\n",
       "    <tr>\n",
       "        <th style=\"padding-left: 1em; padding-right: 1em; text-align: center\">Semana</th>\n",
       "        <th style=\"padding-left: 1em; padding-right: 1em; text-align: center\">Agencia_ID</th>\n",
       "        <th style=\"padding-left: 1em; padding-right: 1em; text-align: center\">Canal_ID</th>\n",
       "        <th style=\"padding-left: 1em; padding-right: 1em; text-align: center\">Ruta_SAK</th>\n",
       "        <th style=\"padding-left: 1em; padding-right: 1em; text-align: center\">Cliente_ID</th>\n",
       "        <th style=\"padding-left: 1em; padding-right: 1em; text-align: center\">Producto_ID</th>\n",
       "        <th style=\"padding-left: 1em; padding-right: 1em; text-align: center\">Demada_log</th>\n",
       "        <th style=\"padding-left: 1em; padding-right: 1em; text-align: center\">lag1</th>\n",
       "        <th style=\"padding-left: 1em; padding-right: 1em; text-align: center\">lag2</th>\n",
       "        <th style=\"padding-left: 1em; padding-right: 1em; text-align: center\">lag3</th>\n",
       "    </tr>\n",
       "    <tr>\n",
       "        <td style=\"padding-left: 1em; padding-right: 1em; text-align: center; vertical-align: top\">9</td>\n",
       "        <td style=\"padding-left: 1em; padding-right: 1em; text-align: center; vertical-align: top\">2234</td>\n",
       "        <td style=\"padding-left: 1em; padding-right: 1em; text-align: center; vertical-align: top\">1</td>\n",
       "        <td style=\"padding-left: 1em; padding-right: 1em; text-align: center; vertical-align: top\">1234</td>\n",
       "        <td style=\"padding-left: 1em; padding-right: 1em; text-align: center; vertical-align: top\">2308240</td>\n",
       "        <td style=\"padding-left: 1em; padding-right: 1em; text-align: center; vertical-align: top\">1240</td>\n",
       "        <td style=\"padding-left: 1em; padding-right: 1em; text-align: center; vertical-align: top\">2.19722</td>\n",
       "        <td style=\"padding-left: 1em; padding-right: 1em; text-align: center; vertical-align: top\">1.79176</td>\n",
       "        <td style=\"padding-left: 1em; padding-right: 1em; text-align: center; vertical-align: top\">0.693147</td>\n",
       "        <td style=\"padding-left: 1em; padding-right: 1em; text-align: center; vertical-align: top\">1.94591</td>\n",
       "    </tr>\n",
       "    <tr>\n",
       "        <td style=\"padding-left: 1em; padding-right: 1em; text-align: center; vertical-align: top\">9</td>\n",
       "        <td style=\"padding-left: 1em; padding-right: 1em; text-align: center; vertical-align: top\">1121</td>\n",
       "        <td style=\"padding-left: 1em; padding-right: 1em; text-align: center; vertical-align: top\">1</td>\n",
       "        <td style=\"padding-left: 1em; padding-right: 1em; text-align: center; vertical-align: top\">1415</td>\n",
       "        <td style=\"padding-left: 1em; padding-right: 1em; text-align: center; vertical-align: top\">1758210</td>\n",
       "        <td style=\"padding-left: 1em; padding-right: 1em; text-align: center; vertical-align: top\">35651</td>\n",
       "        <td style=\"padding-left: 1em; padding-right: 1em; text-align: center; vertical-align: top\">2.3979</td>\n",
       "        <td style=\"padding-left: 1em; padding-right: 1em; text-align: center; vertical-align: top\">1.94591</td>\n",
       "        <td style=\"padding-left: 1em; padding-right: 1em; text-align: center; vertical-align: top\">2.56495</td>\n",
       "        <td style=\"padding-left: 1em; padding-right: 1em; text-align: center; vertical-align: top\">3.4012</td>\n",
       "    </tr>\n",
       "    <tr>\n",
       "        <td style=\"padding-left: 1em; padding-right: 1em; text-align: center; vertical-align: top\">9</td>\n",
       "        <td style=\"padding-left: 1em; padding-right: 1em; text-align: center; vertical-align: top\">2032</td>\n",
       "        <td style=\"padding-left: 1em; padding-right: 1em; text-align: center; vertical-align: top\">1</td>\n",
       "        <td style=\"padding-left: 1em; padding-right: 1em; text-align: center; vertical-align: top\">1267</td>\n",
       "        <td style=\"padding-left: 1em; padding-right: 1em; text-align: center; vertical-align: top\">3554707</td>\n",
       "        <td style=\"padding-left: 1em; padding-right: 1em; text-align: center; vertical-align: top\">1240</td>\n",
       "        <td style=\"padding-left: 1em; padding-right: 1em; text-align: center; vertical-align: top\">1.38629</td>\n",
       "        <td style=\"padding-left: 1em; padding-right: 1em; text-align: center; vertical-align: top\">1.60944</td>\n",
       "        <td style=\"padding-left: 1em; padding-right: 1em; text-align: center; vertical-align: top\">1.60944</td>\n",
       "        <td style=\"padding-left: 1em; padding-right: 1em; text-align: center; vertical-align: top\">1.38629</td>\n",
       "    </tr>\n",
       "    <tr>\n",
       "        <td style=\"padding-left: 1em; padding-right: 1em; text-align: center; vertical-align: top\">9</td>\n",
       "        <td style=\"padding-left: 1em; padding-right: 1em; text-align: center; vertical-align: top\">2220</td>\n",
       "        <td style=\"padding-left: 1em; padding-right: 1em; text-align: center; vertical-align: top\">1</td>\n",
       "        <td style=\"padding-left: 1em; padding-right: 1em; text-align: center; vertical-align: top\">1227</td>\n",
       "        <td style=\"padding-left: 1em; padding-right: 1em; text-align: center; vertical-align: top\">2492643</td>\n",
       "        <td style=\"padding-left: 1em; padding-right: 1em; text-align: center; vertical-align: top\">1109</td>\n",
       "        <td style=\"padding-left: 1em; padding-right: 1em; text-align: center; vertical-align: top\">1.09861</td>\n",
       "        <td style=\"padding-left: 1em; padding-right: 1em; text-align: center; vertical-align: top\">1.09861</td>\n",
       "        <td style=\"padding-left: 1em; padding-right: 1em; text-align: center; vertical-align: top\">0.693147</td>\n",
       "        <td style=\"padding-left: 1em; padding-right: 1em; text-align: center; vertical-align: top\">1.09861</td>\n",
       "    </tr>\n",
       "    <tr>\n",
       "        <td style=\"padding-left: 1em; padding-right: 1em; text-align: center; vertical-align: top\">9</td>\n",
       "        <td style=\"padding-left: 1em; padding-right: 1em; text-align: center; vertical-align: top\">1612</td>\n",
       "        <td style=\"padding-left: 1em; padding-right: 1em; text-align: center; vertical-align: top\">1</td>\n",
       "        <td style=\"padding-left: 1em; padding-right: 1em; text-align: center; vertical-align: top\">1139</td>\n",
       "        <td style=\"padding-left: 1em; padding-right: 1em; text-align: center; vertical-align: top\">1965168</td>\n",
       "        <td style=\"padding-left: 1em; padding-right: 1em; text-align: center; vertical-align: top\">972</td>\n",
       "        <td style=\"padding-left: 1em; padding-right: 1em; text-align: center; vertical-align: top\">1.60944</td>\n",
       "        <td style=\"padding-left: 1em; padding-right: 1em; text-align: center; vertical-align: top\">1.09861</td>\n",
       "        <td style=\"padding-left: 1em; padding-right: 1em; text-align: center; vertical-align: top\">0.693147</td>\n",
       "        <td style=\"padding-left: 1em; padding-right: 1em; text-align: center; vertical-align: top\">1.38629</td>\n",
       "    </tr>\n",
       "    <tr>\n",
       "        <td style=\"padding-left: 1em; padding-right: 1em; text-align: center; vertical-align: top\">9</td>\n",
       "        <td style=\"padding-left: 1em; padding-right: 1em; text-align: center; vertical-align: top\">2230</td>\n",
       "        <td style=\"padding-left: 1em; padding-right: 1em; text-align: center; vertical-align: top\">1</td>\n",
       "        <td style=\"padding-left: 1em; padding-right: 1em; text-align: center; vertical-align: top\">1002</td>\n",
       "        <td style=\"padding-left: 1em; padding-right: 1em; text-align: center; vertical-align: top\">2482931</td>\n",
       "        <td style=\"padding-left: 1em; padding-right: 1em; text-align: center; vertical-align: top\">3631</td>\n",
       "        <td style=\"padding-left: 1em; padding-right: 1em; text-align: center; vertical-align: top\">2.48491</td>\n",
       "        <td style=\"padding-left: 1em; padding-right: 1em; text-align: center; vertical-align: top\">2.3979</td>\n",
       "        <td style=\"padding-left: 1em; padding-right: 1em; text-align: center; vertical-align: top\">2.56495</td>\n",
       "        <td style=\"padding-left: 1em; padding-right: 1em; text-align: center; vertical-align: top\">2.56495</td>\n",
       "    </tr>\n",
       "    <tr>\n",
       "        <td style=\"padding-left: 1em; padding-right: 1em; text-align: center; vertical-align: top\">9</td>\n",
       "        <td style=\"padding-left: 1em; padding-right: 1em; text-align: center; vertical-align: top\">1121</td>\n",
       "        <td style=\"padding-left: 1em; padding-right: 1em; text-align: center; vertical-align: top\">1</td>\n",
       "        <td style=\"padding-left: 1em; padding-right: 1em; text-align: center; vertical-align: top\">1049</td>\n",
       "        <td style=\"padding-left: 1em; padding-right: 1em; text-align: center; vertical-align: top\">2449109</td>\n",
       "        <td style=\"padding-left: 1em; padding-right: 1em; text-align: center; vertical-align: top\">1125</td>\n",
       "        <td style=\"padding-left: 1em; padding-right: 1em; text-align: center; vertical-align: top\">2.19722</td>\n",
       "        <td style=\"padding-left: 1em; padding-right: 1em; text-align: center; vertical-align: top\">3.29584</td>\n",
       "        <td style=\"padding-left: 1em; padding-right: 1em; text-align: center; vertical-align: top\">3.04452</td>\n",
       "        <td style=\"padding-left: 1em; padding-right: 1em; text-align: center; vertical-align: top\">1.94591</td>\n",
       "    </tr>\n",
       "    <tr>\n",
       "        <td style=\"padding-left: 1em; padding-right: 1em; text-align: center; vertical-align: top\">9</td>\n",
       "        <td style=\"padding-left: 1em; padding-right: 1em; text-align: center; vertical-align: top\">1121</td>\n",
       "        <td style=\"padding-left: 1em; padding-right: 1em; text-align: center; vertical-align: top\">1</td>\n",
       "        <td style=\"padding-left: 1em; padding-right: 1em; text-align: center; vertical-align: top\">1418</td>\n",
       "        <td style=\"padding-left: 1em; padding-right: 1em; text-align: center; vertical-align: top\">169387</td>\n",
       "        <td style=\"padding-left: 1em; padding-right: 1em; text-align: center; vertical-align: top\">1240</td>\n",
       "        <td style=\"padding-left: 1em; padding-right: 1em; text-align: center; vertical-align: top\">1.38629</td>\n",
       "        <td style=\"padding-left: 1em; padding-right: 1em; text-align: center; vertical-align: top\">1.60944</td>\n",
       "        <td style=\"padding-left: 1em; padding-right: 1em; text-align: center; vertical-align: top\">2.3979</td>\n",
       "        <td style=\"padding-left: 1em; padding-right: 1em; text-align: center; vertical-align: top\">1.38629</td>\n",
       "    </tr>\n",
       "    <tr>\n",
       "        <td style=\"padding-left: 1em; padding-right: 1em; text-align: center; vertical-align: top\">9</td>\n",
       "        <td style=\"padding-left: 1em; padding-right: 1em; text-align: center; vertical-align: top\">4041</td>\n",
       "        <td style=\"padding-left: 1em; padding-right: 1em; text-align: center; vertical-align: top\">1</td>\n",
       "        <td style=\"padding-left: 1em; padding-right: 1em; text-align: center; vertical-align: top\">1256</td>\n",
       "        <td style=\"padding-left: 1em; padding-right: 1em; text-align: center; vertical-align: top\">205279</td>\n",
       "        <td style=\"padding-left: 1em; padding-right: 1em; text-align: center; vertical-align: top\">1240</td>\n",
       "        <td style=\"padding-left: 1em; padding-right: 1em; text-align: center; vertical-align: top\">1.09861</td>\n",
       "        <td style=\"padding-left: 1em; padding-right: 1em; text-align: center; vertical-align: top\">1.09861</td>\n",
       "        <td style=\"padding-left: 1em; padding-right: 1em; text-align: center; vertical-align: top\">1.09861</td>\n",
       "        <td style=\"padding-left: 1em; padding-right: 1em; text-align: center; vertical-align: top\">1.09861</td>\n",
       "    </tr>\n",
       "    <tr>\n",
       "        <td style=\"padding-left: 1em; padding-right: 1em; text-align: center; vertical-align: top\">9</td>\n",
       "        <td style=\"padding-left: 1em; padding-right: 1em; text-align: center; vertical-align: top\">3215</td>\n",
       "        <td style=\"padding-left: 1em; padding-right: 1em; text-align: center; vertical-align: top\">1</td>\n",
       "        <td style=\"padding-left: 1em; padding-right: 1em; text-align: center; vertical-align: top\">4435</td>\n",
       "        <td style=\"padding-left: 1em; padding-right: 1em; text-align: center; vertical-align: top\">1280994</td>\n",
       "        <td style=\"padding-left: 1em; padding-right: 1em; text-align: center; vertical-align: top\">43285</td>\n",
       "        <td style=\"padding-left: 1em; padding-right: 1em; text-align: center; vertical-align: top\">1.79176</td>\n",
       "        <td style=\"padding-left: 1em; padding-right: 1em; text-align: center; vertical-align: top\">2.3979</td>\n",
       "        <td style=\"padding-left: 1em; padding-right: 1em; text-align: center; vertical-align: top\">1.79176</td>\n",
       "        <td style=\"padding-left: 1em; padding-right: 1em; text-align: center; vertical-align: top\">2.70805</td>\n",
       "    </tr>\n",
       "</table>\n",
       "<table frame=\"box\" rules=\"cols\">\n",
       "    <tr>\n",
       "        <th style=\"padding-left: 1em; padding-right: 1em; text-align: center\">lag4</th>\n",
       "        <th style=\"padding-left: 1em; padding-right: 1em; text-align: center\">lag5</th>\n",
       "        <th style=\"padding-left: 1em; padding-right: 1em; text-align: center\">week_times</th>\n",
       "        <th style=\"padding-left: 1em; padding-right: 1em; text-align: center\">lag_sum</th>\n",
       "        <th style=\"padding-left: 1em; padding-right: 1em; text-align: center\">prior_sum</th>\n",
       "        <th style=\"padding-left: 1em; padding-right: 1em; text-align: center\">n_a</th>\n",
       "        <th style=\"padding-left: 1em; padding-right: 1em; text-align: center\">n_r</th>\n",
       "        <th style=\"padding-left: 1em; padding-right: 1em; text-align: center\">n_c</th>\n",
       "        <th style=\"padding-left: 1em; padding-right: 1em; text-align: center\">n_p</th>\n",
       "        <th style=\"padding-left: 1em; padding-right: 1em; text-align: center\">t_c</th>\n",
       "        <th style=\"padding-left: 1em; padding-right: 1em; text-align: center\">tcc</th>\n",
       "        <th style=\"padding-left: 1em; padding-right: 1em; text-align: center\">tp_sum</th>\n",
       "    </tr>\n",
       "    <tr>\n",
       "        <td style=\"padding-left: 1em; padding-right: 1em; text-align: center; vertical-align: top\">0.0</td>\n",
       "        <td style=\"padding-left: 1em; padding-right: 1em; text-align: center; vertical-align: top\">0.0</td>\n",
       "        <td style=\"padding-left: 1em; padding-right: 1em; text-align: center; vertical-align: top\">1</td>\n",
       "        <td style=\"padding-left: 1em; padding-right: 1em; text-align: center; vertical-align: top\">4.43082</td>\n",
       "        <td style=\"padding-left: 1em; padding-right: 1em; text-align: center; vertical-align: top\">4.43082</td>\n",
       "        <td style=\"padding-left: 1em; padding-right: 1em; text-align: center; vertical-align: top\">21065.6</td>\n",
       "        <td style=\"padding-left: 1em; padding-right: 1em; text-align: center; vertical-align: top\">22685.1</td>\n",
       "        <td style=\"padding-left: 1em; padding-right: 1em; text-align: center; vertical-align: top\">21.2</td>\n",
       "        <td style=\"padding-left: 1em; padding-right: 1em; text-align: center; vertical-align: top\">306665.0</td>\n",
       "        <td style=\"padding-left: 1em; padding-right: 1em; text-align: center; vertical-align: top\">2</td>\n",
       "        <td style=\"padding-left: 1em; padding-right: 1em; text-align: center; vertical-align: top\">1474</td>\n",
       "        <td style=\"padding-left: 1em; padding-right: 1em; text-align: center; vertical-align: top\">7032.04</td>\n",
       "    </tr>\n",
       "    <tr>\n",
       "        <td style=\"padding-left: 1em; padding-right: 1em; text-align: center; vertical-align: top\">2.48491</td>\n",
       "        <td style=\"padding-left: 1em; padding-right: 1em; text-align: center; vertical-align: top\">2.56495</td>\n",
       "        <td style=\"padding-left: 1em; padding-right: 1em; text-align: center; vertical-align: top\">1</td>\n",
       "        <td style=\"padding-left: 1em; padding-right: 1em; text-align: center; vertical-align: top\">12.9619</td>\n",
       "        <td style=\"padding-left: 1em; padding-right: 1em; text-align: center; vertical-align: top\">12.9619</td>\n",
       "        <td style=\"padding-left: 1em; padding-right: 1em; text-align: center; vertical-align: top\">77207.6</td>\n",
       "        <td style=\"padding-left: 1em; padding-right: 1em; text-align: center; vertical-align: top\">11443.1</td>\n",
       "        <td style=\"padding-left: 1em; padding-right: 1em; text-align: center; vertical-align: top\">29.0</td>\n",
       "        <td style=\"padding-left: 1em; padding-right: 1em; text-align: center; vertical-align: top\">192223.0</td>\n",
       "        <td style=\"padding-left: 1em; padding-right: 1em; text-align: center; vertical-align: top\">2</td>\n",
       "        <td style=\"padding-left: 1em; padding-right: 1em; text-align: center; vertical-align: top\">5404</td>\n",
       "        <td style=\"padding-left: 1em; padding-right: 1em; text-align: center; vertical-align: top\">27611.6</td>\n",
       "    </tr>\n",
       "    <tr>\n",
       "        <td style=\"padding-left: 1em; padding-right: 1em; text-align: center; vertical-align: top\">1.79176</td>\n",
       "        <td style=\"padding-left: 1em; padding-right: 1em; text-align: center; vertical-align: top\">1.94591</td>\n",
       "        <td style=\"padding-left: 1em; padding-right: 1em; text-align: center; vertical-align: top\">1</td>\n",
       "        <td style=\"padding-left: 1em; padding-right: 1em; text-align: center; vertical-align: top\">8.34284</td>\n",
       "        <td style=\"padding-left: 1em; padding-right: 1em; text-align: center; vertical-align: top\">10.1346</td>\n",
       "        <td style=\"padding-left: 1em; padding-right: 1em; text-align: center; vertical-align: top\">58890.3</td>\n",
       "        <td style=\"padding-left: 1em; padding-right: 1em; text-align: center; vertical-align: top\">18231.6</td>\n",
       "        <td style=\"padding-left: 1em; padding-right: 1em; text-align: center; vertical-align: top\">14.0</td>\n",
       "        <td style=\"padding-left: 1em; padding-right: 1em; text-align: center; vertical-align: top\">306665.0</td>\n",
       "        <td style=\"padding-left: 1em; padding-right: 1em; text-align: center; vertical-align: top\">5</td>\n",
       "        <td style=\"padding-left: 1em; padding-right: 1em; text-align: center; vertical-align: top\">4551</td>\n",
       "        <td style=\"padding-left: 1em; padding-right: 1em; text-align: center; vertical-align: top\">28371.8</td>\n",
       "    </tr>\n",
       "    <tr>\n",
       "        <td style=\"padding-left: 1em; padding-right: 1em; text-align: center; vertical-align: top\">1.09861</td>\n",
       "        <td style=\"padding-left: 1em; padding-right: 1em; text-align: center; vertical-align: top\">0.0</td>\n",
       "        <td style=\"padding-left: 1em; padding-right: 1em; text-align: center; vertical-align: top\">1</td>\n",
       "        <td style=\"padding-left: 1em; padding-right: 1em; text-align: center; vertical-align: top\">3.98898</td>\n",
       "        <td style=\"padding-left: 1em; padding-right: 1em; text-align: center; vertical-align: top\">3.98898</td>\n",
       "        <td style=\"padding-left: 1em; padding-right: 1em; text-align: center; vertical-align: top\">24685.3</td>\n",
       "        <td style=\"padding-left: 1em; padding-right: 1em; text-align: center; vertical-align: top\">32862.7</td>\n",
       "        <td style=\"padding-left: 1em; padding-right: 1em; text-align: center; vertical-align: top\">9.57143</td>\n",
       "        <td style=\"padding-left: 1em; padding-right: 1em; text-align: center; vertical-align: top\">193724.0</td>\n",
       "        <td style=\"padding-left: 1em; padding-right: 1em; text-align: center; vertical-align: top\">4</td>\n",
       "        <td style=\"padding-left: 1em; padding-right: 1em; text-align: center; vertical-align: top\">1894</td>\n",
       "        <td style=\"padding-left: 1em; padding-right: 1em; text-align: center; vertical-align: top\">7265.43</td>\n",
       "    </tr>\n",
       "    <tr>\n",
       "        <td style=\"padding-left: 1em; padding-right: 1em; text-align: center; vertical-align: top\">1.09861</td>\n",
       "        <td style=\"padding-left: 1em; padding-right: 1em; text-align: center; vertical-align: top\">1.79176</td>\n",
       "        <td style=\"padding-left: 1em; padding-right: 1em; text-align: center; vertical-align: top\">1</td>\n",
       "        <td style=\"padding-left: 1em; padding-right: 1em; text-align: center; vertical-align: top\">6.06842</td>\n",
       "        <td style=\"padding-left: 1em; padding-right: 1em; text-align: center; vertical-align: top\">7.16704</td>\n",
       "        <td style=\"padding-left: 1em; padding-right: 1em; text-align: center; vertical-align: top\">29846.9</td>\n",
       "        <td style=\"padding-left: 1em; padding-right: 1em; text-align: center; vertical-align: top\">11812.4</td>\n",
       "        <td style=\"padding-left: 1em; padding-right: 1em; text-align: center; vertical-align: top\">25.7143</td>\n",
       "        <td style=\"padding-left: 1em; padding-right: 1em; text-align: center; vertical-align: top\">86259.0</td>\n",
       "        <td style=\"padding-left: 1em; padding-right: 1em; text-align: center; vertical-align: top\">4</td>\n",
       "        <td style=\"padding-left: 1em; padding-right: 1em; text-align: center; vertical-align: top\">2315</td>\n",
       "        <td style=\"padding-left: 1em; padding-right: 1em; text-align: center; vertical-align: top\">3132.52</td>\n",
       "    </tr>\n",
       "    <tr>\n",
       "        <td style=\"padding-left: 1em; padding-right: 1em; text-align: center; vertical-align: top\">2.30259</td>\n",
       "        <td style=\"padding-left: 1em; padding-right: 1em; text-align: center; vertical-align: top\">1.09861</td>\n",
       "        <td style=\"padding-left: 1em; padding-right: 1em; text-align: center; vertical-align: top\">1</td>\n",
       "        <td style=\"padding-left: 1em; padding-right: 1em; text-align: center; vertical-align: top\">10.929</td>\n",
       "        <td style=\"padding-left: 1em; padding-right: 1em; text-align: center; vertical-align: top\">13.3269</td>\n",
       "        <td style=\"padding-left: 1em; padding-right: 1em; text-align: center; vertical-align: top\">47042.3</td>\n",
       "        <td style=\"padding-left: 1em; padding-right: 1em; text-align: center; vertical-align: top\">37611.6</td>\n",
       "        <td style=\"padding-left: 1em; padding-right: 1em; text-align: center; vertical-align: top\">51.2857</td>\n",
       "        <td style=\"padding-left: 1em; padding-right: 1em; text-align: center; vertical-align: top\">113887.0</td>\n",
       "        <td style=\"padding-left: 1em; padding-right: 1em; text-align: center; vertical-align: top\">4</td>\n",
       "        <td style=\"padding-left: 1em; padding-right: 1em; text-align: center; vertical-align: top\">3509</td>\n",
       "        <td style=\"padding-left: 1em; padding-right: 1em; text-align: center; vertical-align: top\">1317.56</td>\n",
       "    </tr>\n",
       "    <tr>\n",
       "        <td style=\"padding-left: 1em; padding-right: 1em; text-align: center; vertical-align: top\">3.17805</td>\n",
       "        <td style=\"padding-left: 1em; padding-right: 1em; text-align: center; vertical-align: top\">2.77259</td>\n",
       "        <td style=\"padding-left: 1em; padding-right: 1em; text-align: center; vertical-align: top\">1</td>\n",
       "        <td style=\"padding-left: 1em; padding-right: 1em; text-align: center; vertical-align: top\">14.2369</td>\n",
       "        <td style=\"padding-left: 1em; padding-right: 1em; text-align: center; vertical-align: top\">17.495</td>\n",
       "        <td style=\"padding-left: 1em; padding-right: 1em; text-align: center; vertical-align: top\">77207.6</td>\n",
       "        <td style=\"padding-left: 1em; padding-right: 1em; text-align: center; vertical-align: top\">4978.14</td>\n",
       "        <td style=\"padding-left: 1em; padding-right: 1em; text-align: center; vertical-align: top\">42.0</td>\n",
       "        <td style=\"padding-left: 1em; padding-right: 1em; text-align: center; vertical-align: top\">150267.0</td>\n",
       "        <td style=\"padding-left: 1em; padding-right: 1em; text-align: center; vertical-align: top\">2</td>\n",
       "        <td style=\"padding-left: 1em; padding-right: 1em; text-align: center; vertical-align: top\">5404</td>\n",
       "        <td style=\"padding-left: 1em; padding-right: 1em; text-align: center; vertical-align: top\">19233.5</td>\n",
       "    </tr>\n",
       "    <tr>\n",
       "        <td style=\"padding-left: 1em; padding-right: 1em; text-align: center; vertical-align: top\">0.0</td>\n",
       "        <td style=\"padding-left: 1em; padding-right: 1em; text-align: center; vertical-align: top\">0.0</td>\n",
       "        <td style=\"padding-left: 1em; padding-right: 1em; text-align: center; vertical-align: top\">1</td>\n",
       "        <td style=\"padding-left: 1em; padding-right: 1em; text-align: center; vertical-align: top\">5.39363</td>\n",
       "        <td style=\"padding-left: 1em; padding-right: 1em; text-align: center; vertical-align: top\">5.39363</td>\n",
       "        <td style=\"padding-left: 1em; padding-right: 1em; text-align: center; vertical-align: top\">77207.6</td>\n",
       "        <td style=\"padding-left: 1em; padding-right: 1em; text-align: center; vertical-align: top\">12292.0</td>\n",
       "        <td style=\"padding-left: 1em; padding-right: 1em; text-align: center; vertical-align: top\">27.2857</td>\n",
       "        <td style=\"padding-left: 1em; padding-right: 1em; text-align: center; vertical-align: top\">306665.0</td>\n",
       "        <td style=\"padding-left: 1em; padding-right: 1em; text-align: center; vertical-align: top\">2</td>\n",
       "        <td style=\"padding-left: 1em; padding-right: 1em; text-align: center; vertical-align: top\">5404</td>\n",
       "        <td style=\"padding-left: 1em; padding-right: 1em; text-align: center; vertical-align: top\">23690.2</td>\n",
       "    </tr>\n",
       "    <tr>\n",
       "        <td style=\"padding-left: 1em; padding-right: 1em; text-align: center; vertical-align: top\">1.38629</td>\n",
       "        <td style=\"padding-left: 1em; padding-right: 1em; text-align: center; vertical-align: top\">1.09861</td>\n",
       "        <td style=\"padding-left: 1em; padding-right: 1em; text-align: center; vertical-align: top\">1</td>\n",
       "        <td style=\"padding-left: 1em; padding-right: 1em; text-align: center; vertical-align: top\">5.78073</td>\n",
       "        <td style=\"padding-left: 1em; padding-right: 1em; text-align: center; vertical-align: top\">7.16704</td>\n",
       "        <td style=\"padding-left: 1em; padding-right: 1em; text-align: center; vertical-align: top\">42256.7</td>\n",
       "        <td style=\"padding-left: 1em; padding-right: 1em; text-align: center; vertical-align: top\">29639.1</td>\n",
       "        <td style=\"padding-left: 1em; padding-right: 1em; text-align: center; vertical-align: top\">19.4286</td>\n",
       "        <td style=\"padding-left: 1em; padding-right: 1em; text-align: center; vertical-align: top\">306665.0</td>\n",
       "        <td style=\"padding-left: 1em; padding-right: 1em; text-align: center; vertical-align: top\">4</td>\n",
       "        <td style=\"padding-left: 1em; padding-right: 1em; text-align: center; vertical-align: top\">3356</td>\n",
       "        <td style=\"padding-left: 1em; padding-right: 1em; text-align: center; vertical-align: top\">19100.2</td>\n",
       "    </tr>\n",
       "    <tr>\n",
       "        <td style=\"padding-left: 1em; padding-right: 1em; text-align: center; vertical-align: top\">2.3979</td>\n",
       "        <td style=\"padding-left: 1em; padding-right: 1em; text-align: center; vertical-align: top\">2.83321</td>\n",
       "        <td style=\"padding-left: 1em; padding-right: 1em; text-align: center; vertical-align: top\">1</td>\n",
       "        <td style=\"padding-left: 1em; padding-right: 1em; text-align: center; vertical-align: top\">12.1288</td>\n",
       "        <td style=\"padding-left: 1em; padding-right: 1em; text-align: center; vertical-align: top\">12.1288</td>\n",
       "        <td style=\"padding-left: 1em; padding-right: 1em; text-align: center; vertical-align: top\">28063.9</td>\n",
       "        <td style=\"padding-left: 1em; padding-right: 1em; text-align: center; vertical-align: top\">2389.0</td>\n",
       "        <td style=\"padding-left: 1em; padding-right: 1em; text-align: center; vertical-align: top\">44.4286</td>\n",
       "        <td style=\"padding-left: 1em; padding-right: 1em; text-align: center; vertical-align: top\">172779.0</td>\n",
       "        <td style=\"padding-left: 1em; padding-right: 1em; text-align: center; vertical-align: top\">5</td>\n",
       "        <td style=\"padding-left: 1em; padding-right: 1em; text-align: center; vertical-align: top\">7784</td>\n",
       "        <td style=\"padding-left: 1em; padding-right: 1em; text-align: center; vertical-align: top\">36823.3</td>\n",
       "    </tr>\n",
       "</table>\n",
       "[20815581 rows x 22 columns]<br/>Note: Only the head of the SFrame is printed.<br/>You can use print_rows(num_rows=m, num_columns=n) to print more rows and columns.\n",
       "</div>"
      ],
      "text/plain": [
       "Columns:\n",
       "\tSemana\tint\n",
       "\tAgencia_ID\tint\n",
       "\tCanal_ID\tint\n",
       "\tRuta_SAK\tint\n",
       "\tCliente_ID\tint\n",
       "\tProducto_ID\tint\n",
       "\tDemada_log\tfloat\n",
       "\tlag1\tfloat\n",
       "\tlag2\tfloat\n",
       "\tlag3\tfloat\n",
       "\tlag4\tfloat\n",
       "\tlag5\tfloat\n",
       "\tweek_times\tint\n",
       "\tlag_sum\tfloat\n",
       "\tprior_sum\tfloat\n",
       "\tn_a\tfloat\n",
       "\tn_r\tfloat\n",
       "\tn_c\tfloat\n",
       "\tn_p\tfloat\n",
       "\tt_c\tint\n",
       "\ttcc\tint\n",
       "\ttp_sum\tfloat\n",
       "\n",
       "Rows: 20815581\n",
       "\n",
       "Data:\n",
       "+--------+------------+----------+----------+------------+-------------+------------+\n",
       "| Semana | Agencia_ID | Canal_ID | Ruta_SAK | Cliente_ID | Producto_ID | Demada_log |\n",
       "+--------+------------+----------+----------+------------+-------------+------------+\n",
       "|   9    |    2234    |    1     |   1234   |  2308240   |     1240    |  2.19722   |\n",
       "|   9    |    1121    |    1     |   1415   |  1758210   |    35651    |   2.3979   |\n",
       "|   9    |    2032    |    1     |   1267   |  3554707   |     1240    |  1.38629   |\n",
       "|   9    |    2220    |    1     |   1227   |  2492643   |     1109    |  1.09861   |\n",
       "|   9    |    1612    |    1     |   1139   |  1965168   |     972     |  1.60944   |\n",
       "|   9    |    2230    |    1     |   1002   |  2482931   |     3631    |  2.48491   |\n",
       "|   9    |    1121    |    1     |   1049   |  2449109   |     1125    |  2.19722   |\n",
       "|   9    |    1121    |    1     |   1418   |   169387   |     1240    |  1.38629   |\n",
       "|   9    |    4041    |    1     |   1256   |   205279   |     1240    |  1.09861   |\n",
       "|   9    |    3215    |    1     |   4435   |  1280994   |    43285    |  1.79176   |\n",
       "+--------+------------+----------+----------+------------+-------------+------------+\n",
       "+---------+----------+---------+---------+---------+------------+---------+\n",
       "|   lag1  |   lag2   |   lag3  |   lag4  |   lag5  | week_times | lag_sum |\n",
       "+---------+----------+---------+---------+---------+------------+---------+\n",
       "| 1.79176 | 0.693147 | 1.94591 |   0.0   |   0.0   |     1      | 4.43082 |\n",
       "| 1.94591 | 2.56495  |  3.4012 | 2.48491 | 2.56495 |     1      | 12.9619 |\n",
       "| 1.60944 | 1.60944  | 1.38629 | 1.79176 | 1.94591 |     1      | 8.34284 |\n",
       "| 1.09861 | 0.693147 | 1.09861 | 1.09861 |   0.0   |     1      | 3.98898 |\n",
       "| 1.09861 | 0.693147 | 1.38629 | 1.09861 | 1.79176 |     1      | 6.06842 |\n",
       "|  2.3979 | 2.56495  | 2.56495 | 2.30259 | 1.09861 |     1      |  10.929 |\n",
       "| 3.29584 | 3.04452  | 1.94591 | 3.17805 | 2.77259 |     1      | 14.2369 |\n",
       "| 1.60944 |  2.3979  | 1.38629 |   0.0   |   0.0   |     1      | 5.39363 |\n",
       "| 1.09861 | 1.09861  | 1.09861 | 1.38629 | 1.09861 |     1      | 5.78073 |\n",
       "|  2.3979 | 1.79176  | 2.70805 |  2.3979 | 2.83321 |     1      | 12.1288 |\n",
       "+---------+----------+---------+---------+---------+------------+---------+\n",
       "+-----------+---------+---------+---------+----------+-----+-----+\n",
       "| prior_sum |   n_a   |   n_r   |   n_c   |   n_p    | t_c | ... |\n",
       "+-----------+---------+---------+---------+----------+-----+-----+\n",
       "|  4.43082  | 21065.6 | 22685.1 |   21.2  | 306665.0 |  2  | ... |\n",
       "|  12.9619  | 77207.6 | 11443.1 |   29.0  | 192223.0 |  2  | ... |\n",
       "|  10.1346  | 58890.3 | 18231.6 |   14.0  | 306665.0 |  5  | ... |\n",
       "|  3.98898  | 24685.3 | 32862.7 | 9.57143 | 193724.0 |  4  | ... |\n",
       "|  7.16704  | 29846.9 | 11812.4 | 25.7143 | 86259.0  |  4  | ... |\n",
       "|  13.3269  | 47042.3 | 37611.6 | 51.2857 | 113887.0 |  4  | ... |\n",
       "|   17.495  | 77207.6 | 4978.14 |   42.0  | 150267.0 |  2  | ... |\n",
       "|  5.39363  | 77207.6 | 12292.0 | 27.2857 | 306665.0 |  2  | ... |\n",
       "|  7.16704  | 42256.7 | 29639.1 | 19.4286 | 306665.0 |  4  | ... |\n",
       "|  12.1288  | 28063.9 |  2389.0 | 44.4286 | 172779.0 |  5  | ... |\n",
       "+-----------+---------+---------+---------+----------+-----+-----+\n",
       "[20815581 rows x 22 columns]\n",
       "Note: Only the head of the SFrame is printed.\n",
       "You can use print_rows(num_rows=m, num_columns=n) to print more rows and columns."
      ]
     },
     "execution_count": 44,
     "metadata": {},
     "output_type": "execute_result"
    }
   ],
   "source": [
    "train"
   ]
  },
  {
   "cell_type": "code",
   "execution_count": 12,
   "metadata": {
    "collapsed": false,
    "scrolled": true
   },
   "outputs": [
    {
     "data": {
      "text/html": [
       "<pre>Boosted trees regression:</pre>"
      ],
      "text/plain": [
       "Boosted trees regression:"
      ]
     },
     "metadata": {},
     "output_type": "display_data"
    },
    {
     "data": {
      "text/html": [
       "<pre>--------------------------------------------------------</pre>"
      ],
      "text/plain": [
       "--------------------------------------------------------"
      ]
     },
     "metadata": {},
     "output_type": "display_data"
    },
    {
     "data": {
      "text/html": [
       "<pre>Number of examples          : 20794971</pre>"
      ],
      "text/plain": [
       "Number of examples          : 20794971"
      ]
     },
     "metadata": {},
     "output_type": "display_data"
    },
    {
     "data": {
      "text/html": [
       "<pre>Number of features          : 21</pre>"
      ],
      "text/plain": [
       "Number of features          : 21"
      ]
     },
     "metadata": {},
     "output_type": "display_data"
    },
    {
     "data": {
      "text/html": [
       "<pre>Number of unpacked features : 21</pre>"
      ],
      "text/plain": [
       "Number of unpacked features : 21"
      ]
     },
     "metadata": {},
     "output_type": "display_data"
    },
    {
     "data": {
      "text/html": [
       "<pre>+-----------+--------------+---------------+-----------------+</pre>"
      ],
      "text/plain": [
       "+-----------+--------------+---------------+-----------------+"
      ]
     },
     "metadata": {},
     "output_type": "display_data"
    },
    {
     "data": {
      "text/html": [
       "<pre>| Iteration | Elapsed Time | Training-rmse | Validation-rmse |</pre>"
      ],
      "text/plain": [
       "| Iteration | Elapsed Time | Training-rmse | Validation-rmse |"
      ]
     },
     "metadata": {},
     "output_type": "display_data"
    },
    {
     "data": {
      "text/html": [
       "<pre>+-----------+--------------+---------------+-----------------+</pre>"
      ],
      "text/plain": [
       "+-----------+--------------+---------------+-----------------+"
      ]
     },
     "metadata": {},
     "output_type": "display_data"
    },
    {
     "data": {
      "text/html": [
       "<pre>| 1         | 62.903776    | 1.264849      | 1.274738        |</pre>"
      ],
      "text/plain": [
       "| 1         | 62.903776    | 1.264849      | 1.274738        |"
      ]
     },
     "metadata": {},
     "output_type": "display_data"
    },
    {
     "data": {
      "text/html": [
       "<pre>| 2         | 126.663157   | 1.160038      | 1.169487        |</pre>"
      ],
      "text/plain": [
       "| 2         | 126.663157   | 1.160038      | 1.169487        |"
      ]
     },
     "metadata": {},
     "output_type": "display_data"
    },
    {
     "data": {
      "text/html": [
       "<pre>| 3         | 191.931803   | 1.067362      | 1.076570        |</pre>"
      ],
      "text/plain": [
       "| 3         | 191.931803   | 1.067362      | 1.076570        |"
      ]
     },
     "metadata": {},
     "output_type": "display_data"
    },
    {
     "data": {
      "text/html": [
       "<pre>| 4         | 258.258780   | 0.986312      | 0.995179        |</pre>"
      ],
      "text/plain": [
       "| 4         | 258.258780   | 0.986312      | 0.995179        |"
      ]
     },
     "metadata": {},
     "output_type": "display_data"
    },
    {
     "data": {
      "text/html": [
       "<pre>| 5         | 318.288369   | 0.915581      | 0.924253        |</pre>"
      ],
      "text/plain": [
       "| 5         | 318.288369   | 0.915581      | 0.924253        |"
      ]
     },
     "metadata": {},
     "output_type": "display_data"
    },
    {
     "data": {
      "text/html": [
       "<pre>| 6         | 385.540477   | 0.852039      | 0.860266        |</pre>"
      ],
      "text/plain": [
       "| 6         | 385.540477   | 0.852039      | 0.860266        |"
      ]
     },
     "metadata": {},
     "output_type": "display_data"
    },
    {
     "data": {
      "text/html": [
       "<pre>| 7         | 452.344752   | 0.797251      | 0.805138        |</pre>"
      ],
      "text/plain": [
       "| 7         | 452.344752   | 0.797251      | 0.805138        |"
      ]
     },
     "metadata": {},
     "output_type": "display_data"
    },
    {
     "data": {
      "text/html": [
       "<pre>| 8         | 514.916891   | 0.749145      | 0.756583        |</pre>"
      ],
      "text/plain": [
       "| 8         | 514.916891   | 0.749145      | 0.756583        |"
      ]
     },
     "metadata": {},
     "output_type": "display_data"
    },
    {
     "data": {
      "text/html": [
       "<pre>| 9         | 581.087198   | 0.707737      | 0.714993        |</pre>"
      ],
      "text/plain": [
       "| 9         | 581.087198   | 0.707737      | 0.714993        |"
      ]
     },
     "metadata": {},
     "output_type": "display_data"
    },
    {
     "data": {
      "text/html": [
       "<pre>| 10        | 644.435950   | 0.672528      | 0.679509        |</pre>"
      ],
      "text/plain": [
       "| 10        | 644.435950   | 0.672528      | 0.679509        |"
      ]
     },
     "metadata": {},
     "output_type": "display_data"
    },
    {
     "data": {
      "text/html": [
       "<pre>| 11        | 711.694113   | 0.641653      | 0.648163        |</pre>"
      ],
      "text/plain": [
       "| 11        | 711.694113   | 0.641653      | 0.648163        |"
      ]
     },
     "metadata": {},
     "output_type": "display_data"
    },
    {
     "data": {
      "text/html": [
       "<pre>| 12        | 777.060168   | 0.615807      | 0.622150        |</pre>"
      ],
      "text/plain": [
       "| 12        | 777.060168   | 0.615807      | 0.622150        |"
      ]
     },
     "metadata": {},
     "output_type": "display_data"
    },
    {
     "data": {
      "text/html": [
       "<pre>| 13        | 843.987115   | 0.593331      | 0.599248        |</pre>"
      ],
      "text/plain": [
       "| 13        | 843.987115   | 0.593331      | 0.599248        |"
      ]
     },
     "metadata": {},
     "output_type": "display_data"
    },
    {
     "data": {
      "text/html": [
       "<pre>| 14        | 907.749734   | 0.575079      | 0.580770        |</pre>"
      ],
      "text/plain": [
       "| 14        | 907.749734   | 0.575079      | 0.580770        |"
      ]
     },
     "metadata": {},
     "output_type": "display_data"
    },
    {
     "data": {
      "text/html": [
       "<pre>| 15        | 972.747105   | 0.559523      | 0.565087        |</pre>"
      ],
      "text/plain": [
       "| 15        | 972.747105   | 0.559523      | 0.565087        |"
      ]
     },
     "metadata": {},
     "output_type": "display_data"
    },
    {
     "data": {
      "text/html": [
       "<pre>| 16        | 1036.379700  | 0.546221      | 0.551397        |</pre>"
      ],
      "text/plain": [
       "| 16        | 1036.379700  | 0.546221      | 0.551397        |"
      ]
     },
     "metadata": {},
     "output_type": "display_data"
    },
    {
     "data": {
      "text/html": [
       "<pre>| 17        | 1098.973543  | 0.535189      | 0.540215        |</pre>"
      ],
      "text/plain": [
       "| 17        | 1098.973543  | 0.535189      | 0.540215        |"
      ]
     },
     "metadata": {},
     "output_type": "display_data"
    },
    {
     "data": {
      "text/html": [
       "<pre>| 18        | 1163.603514  | 0.526107      | 0.530995        |</pre>"
      ],
      "text/plain": [
       "| 18        | 1163.603514  | 0.526107      | 0.530995        |"
      ]
     },
     "metadata": {},
     "output_type": "display_data"
    },
    {
     "data": {
      "text/html": [
       "<pre>| 19        | 1232.930808  | 0.517305      | 0.521901        |</pre>"
      ],
      "text/plain": [
       "| 19        | 1232.930808  | 0.517305      | 0.521901        |"
      ]
     },
     "metadata": {},
     "output_type": "display_data"
    },
    {
     "data": {
      "text/html": [
       "<pre>| 20        | 1299.263837  | 0.510672      | 0.515194        |</pre>"
      ],
      "text/plain": [
       "| 20        | 1299.263837  | 0.510672      | 0.515194        |"
      ]
     },
     "metadata": {},
     "output_type": "display_data"
    },
    {
     "data": {
      "text/html": [
       "<pre>| 21        | 1367.519968  | 0.504288      | 0.508471        |</pre>"
      ],
      "text/plain": [
       "| 21        | 1367.519968  | 0.504288      | 0.508471        |"
      ]
     },
     "metadata": {},
     "output_type": "display_data"
    },
    {
     "data": {
      "text/html": [
       "<pre>| 22        | 1436.786112  | 0.498989      | 0.502852        |</pre>"
      ],
      "text/plain": [
       "| 22        | 1436.786112  | 0.498989      | 0.502852        |"
      ]
     },
     "metadata": {},
     "output_type": "display_data"
    },
    {
     "data": {
      "text/html": [
       "<pre>| 23        | 1502.339895  | 0.494468      | 0.498113        |</pre>"
      ],
      "text/plain": [
       "| 23        | 1502.339895  | 0.494468      | 0.498113        |"
      ]
     },
     "metadata": {},
     "output_type": "display_data"
    },
    {
     "data": {
      "text/html": [
       "<pre>| 24        | 1569.068817  | 0.491130      | 0.494777        |</pre>"
      ],
      "text/plain": [
       "| 24        | 1569.068817  | 0.491130      | 0.494777        |"
      ]
     },
     "metadata": {},
     "output_type": "display_data"
    },
    {
     "data": {
      "text/html": [
       "<pre>| 25        | 1633.156835  | 0.488182      | 0.491687        |</pre>"
      ],
      "text/plain": [
       "| 25        | 1633.156835  | 0.488182      | 0.491687        |"
      ]
     },
     "metadata": {},
     "output_type": "display_data"
    },
    {
     "data": {
      "text/html": [
       "<pre>| 26        | 1703.049990  | 0.485723      | 0.489253        |</pre>"
      ],
      "text/plain": [
       "| 26        | 1703.049990  | 0.485723      | 0.489253        |"
      ]
     },
     "metadata": {},
     "output_type": "display_data"
    },
    {
     "data": {
      "text/html": [
       "<pre>| 27        | 1772.055390  | 0.483073      | 0.486534        |</pre>"
      ],
      "text/plain": [
       "| 27        | 1772.055390  | 0.483073      | 0.486534        |"
      ]
     },
     "metadata": {},
     "output_type": "display_data"
    },
    {
     "data": {
      "text/html": [
       "<pre>| 28        | 1839.690682  | 0.481129      | 0.484571        |</pre>"
      ],
      "text/plain": [
       "| 28        | 1839.690682  | 0.481129      | 0.484571        |"
      ]
     },
     "metadata": {},
     "output_type": "display_data"
    },
    {
     "data": {
      "text/html": [
       "<pre>| 29        | 1905.750034  | 0.479545      | 0.482894        |</pre>"
      ],
      "text/plain": [
       "| 29        | 1905.750034  | 0.479545      | 0.482894        |"
      ]
     },
     "metadata": {},
     "output_type": "display_data"
    },
    {
     "data": {
      "text/html": [
       "<pre>| 30        | 1970.341474  | 0.477900      | 0.481195        |</pre>"
      ],
      "text/plain": [
       "| 30        | 1970.341474  | 0.477900      | 0.481195        |"
      ]
     },
     "metadata": {},
     "output_type": "display_data"
    },
    {
     "data": {
      "text/html": [
       "<pre>| 31        | 2034.847046  | 0.476596      | 0.479843        |</pre>"
      ],
      "text/plain": [
       "| 31        | 2034.847046  | 0.476596      | 0.479843        |"
      ]
     },
     "metadata": {},
     "output_type": "display_data"
    },
    {
     "data": {
      "text/html": [
       "<pre>| 32        | 2106.960313  | 0.474826      | 0.477928        |</pre>"
      ],
      "text/plain": [
       "| 32        | 2106.960313  | 0.474826      | 0.477928        |"
      ]
     },
     "metadata": {},
     "output_type": "display_data"
    },
    {
     "data": {
      "text/html": [
       "<pre>| 33        | 2177.918723  | 0.473837      | 0.476849        |</pre>"
      ],
      "text/plain": [
       "| 33        | 2177.918723  | 0.473837      | 0.476849        |"
      ]
     },
     "metadata": {},
     "output_type": "display_data"
    },
    {
     "data": {
      "text/html": [
       "<pre>| 34        | 2244.860949  | 0.472711      | 0.475615        |</pre>"
      ],
      "text/plain": [
       "| 34        | 2244.860949  | 0.472711      | 0.475615        |"
      ]
     },
     "metadata": {},
     "output_type": "display_data"
    },
    {
     "data": {
      "text/html": [
       "<pre>| 35        | 2310.819131  | 0.471808      | 0.474680        |</pre>"
      ],
      "text/plain": [
       "| 35        | 2310.819131  | 0.471808      | 0.474680        |"
      ]
     },
     "metadata": {},
     "output_type": "display_data"
    },
    {
     "data": {
      "text/html": [
       "<pre>| 36        | 2375.655160  | 0.471108      | 0.474022        |</pre>"
      ],
      "text/plain": [
       "| 36        | 2375.655160  | 0.471108      | 0.474022        |"
      ]
     },
     "metadata": {},
     "output_type": "display_data"
    },
    {
     "data": {
      "text/html": [
       "<pre>| 37        | 2443.135788  | 0.470235      | 0.473106        |</pre>"
      ],
      "text/plain": [
       "| 37        | 2443.135788  | 0.470235      | 0.473106        |"
      ]
     },
     "metadata": {},
     "output_type": "display_data"
    },
    {
     "data": {
      "text/html": [
       "<pre>| 38        | 2513.791354  | 0.469486      | 0.472298        |</pre>"
      ],
      "text/plain": [
       "| 38        | 2513.791354  | 0.469486      | 0.472298        |"
      ]
     },
     "metadata": {},
     "output_type": "display_data"
    },
    {
     "data": {
      "text/html": [
       "<pre>| 39        | 2584.486540  | 0.468832      | 0.471624        |</pre>"
      ],
      "text/plain": [
       "| 39        | 2584.486540  | 0.468832      | 0.471624        |"
      ]
     },
     "metadata": {},
     "output_type": "display_data"
    },
    {
     "data": {
      "text/html": [
       "<pre>| 40        | 2650.127260  | 0.468238      | 0.471090        |</pre>"
      ],
      "text/plain": [
       "| 40        | 2650.127260  | 0.468238      | 0.471090        |"
      ]
     },
     "metadata": {},
     "output_type": "display_data"
    },
    {
     "data": {
      "text/html": [
       "<pre>| 41        | 2714.607438  | 0.467793      | 0.470626        |</pre>"
      ],
      "text/plain": [
       "| 41        | 2714.607438  | 0.467793      | 0.470626        |"
      ]
     },
     "metadata": {},
     "output_type": "display_data"
    },
    {
     "data": {
      "text/html": [
       "<pre>| 42        | 2780.178805  | 0.467184      | 0.470038        |</pre>"
      ],
      "text/plain": [
       "| 42        | 2780.178805  | 0.467184      | 0.470038        |"
      ]
     },
     "metadata": {},
     "output_type": "display_data"
    },
    {
     "data": {
      "text/html": [
       "<pre>| 43        | 2846.151795  | 0.466673      | 0.469497        |</pre>"
      ],
      "text/plain": [
       "| 43        | 2846.151795  | 0.466673      | 0.469497        |"
      ]
     },
     "metadata": {},
     "output_type": "display_data"
    },
    {
     "data": {
      "text/html": [
       "<pre>| 44        | 2915.442029  | 0.466121      | 0.468946        |</pre>"
      ],
      "text/plain": [
       "| 44        | 2915.442029  | 0.466121      | 0.468946        |"
      ]
     },
     "metadata": {},
     "output_type": "display_data"
    },
    {
     "data": {
      "text/html": [
       "<pre>| 45        | 2984.101222  | 0.465557      | 0.468400        |</pre>"
      ],
      "text/plain": [
       "| 45        | 2984.101222  | 0.465557      | 0.468400        |"
      ]
     },
     "metadata": {},
     "output_type": "display_data"
    },
    {
     "data": {
      "text/html": [
       "<pre>| 46        | 3050.775974  | 0.465232      | 0.468101        |</pre>"
      ],
      "text/plain": [
       "| 46        | 3050.775974  | 0.465232      | 0.468101        |"
      ]
     },
     "metadata": {},
     "output_type": "display_data"
    },
    {
     "data": {
      "text/html": [
       "<pre>| 47        | 3119.499574  | 0.464794      | 0.467601        |</pre>"
      ],
      "text/plain": [
       "| 47        | 3119.499574  | 0.464794      | 0.467601        |"
      ]
     },
     "metadata": {},
     "output_type": "display_data"
    },
    {
     "data": {
      "text/html": [
       "<pre>| 48        | 3185.940088  | 0.464256      | 0.467042        |</pre>"
      ],
      "text/plain": [
       "| 48        | 3185.940088  | 0.464256      | 0.467042        |"
      ]
     },
     "metadata": {},
     "output_type": "display_data"
    },
    {
     "data": {
      "text/html": [
       "<pre>| 49        | 3255.253738  | 0.463992      | 0.466795        |</pre>"
      ],
      "text/plain": [
       "| 49        | 3255.253738  | 0.463992      | 0.466795        |"
      ]
     },
     "metadata": {},
     "output_type": "display_data"
    },
    {
     "data": {
      "text/html": [
       "<pre>| 50        | 3323.755584  | 0.463321      | 0.466061        |</pre>"
      ],
      "text/plain": [
       "| 50        | 3323.755584  | 0.463321      | 0.466061        |"
      ]
     },
     "metadata": {},
     "output_type": "display_data"
    },
    {
     "data": {
      "text/html": [
       "<pre>| 51        | 3392.728217  | 0.462910      | 0.465656        |</pre>"
      ],
      "text/plain": [
       "| 51        | 3392.728217  | 0.462910      | 0.465656        |"
      ]
     },
     "metadata": {},
     "output_type": "display_data"
    },
    {
     "data": {
      "text/html": [
       "<pre>| 52        | 3460.315961  | 0.462594      | 0.465320        |</pre>"
      ],
      "text/plain": [
       "| 52        | 3460.315961  | 0.462594      | 0.465320        |"
      ]
     },
     "metadata": {},
     "output_type": "display_data"
    },
    {
     "data": {
      "text/html": [
       "<pre>| 53        | 3529.795202  | 0.462267      | 0.465005        |</pre>"
      ],
      "text/plain": [
       "| 53        | 3529.795202  | 0.462267      | 0.465005        |"
      ]
     },
     "metadata": {},
     "output_type": "display_data"
    },
    {
     "data": {
      "text/html": [
       "<pre>| 54        | 3596.227444  | 0.462066      | 0.464842        |</pre>"
      ],
      "text/plain": [
       "| 54        | 3596.227444  | 0.462066      | 0.464842        |"
      ]
     },
     "metadata": {},
     "output_type": "display_data"
    },
    {
     "data": {
      "text/html": [
       "<pre>| 55        | 3664.384613  | 0.461732      | 0.464504        |</pre>"
      ],
      "text/plain": [
       "| 55        | 3664.384613  | 0.461732      | 0.464504        |"
      ]
     },
     "metadata": {},
     "output_type": "display_data"
    },
    {
     "data": {
      "text/html": [
       "<pre>| 56        | 3737.408819  | 0.461341      | 0.464170        |</pre>"
      ],
      "text/plain": [
       "| 56        | 3737.408819  | 0.461341      | 0.464170        |"
      ]
     },
     "metadata": {},
     "output_type": "display_data"
    },
    {
     "data": {
      "text/html": [
       "<pre>| 57        | 3807.117592  | 0.461077      | 0.463961        |</pre>"
      ],
      "text/plain": [
       "| 57        | 3807.117592  | 0.461077      | 0.463961        |"
      ]
     },
     "metadata": {},
     "output_type": "display_data"
    },
    {
     "data": {
      "text/html": [
       "<pre>| 58        | 3875.325048  | 0.460891      | 0.463825        |</pre>"
      ],
      "text/plain": [
       "| 58        | 3875.325048  | 0.460891      | 0.463825        |"
      ]
     },
     "metadata": {},
     "output_type": "display_data"
    },
    {
     "data": {
      "text/html": [
       "<pre>| 59        | 3939.882567  | 0.460767      | 0.463727        |</pre>"
      ],
      "text/plain": [
       "| 59        | 3939.882567  | 0.460767      | 0.463727        |"
      ]
     },
     "metadata": {},
     "output_type": "display_data"
    },
    {
     "data": {
      "text/html": [
       "<pre>| 60        | 4005.621921  | 0.460431      | 0.463395        |</pre>"
      ],
      "text/plain": [
       "| 60        | 4005.621921  | 0.460431      | 0.463395        |"
      ]
     },
     "metadata": {},
     "output_type": "display_data"
    },
    {
     "data": {
      "text/html": [
       "<pre>| 61        | 4073.339561  | 0.460225      | 0.463222        |</pre>"
      ],
      "text/plain": [
       "| 61        | 4073.339561  | 0.460225      | 0.463222        |"
      ]
     },
     "metadata": {},
     "output_type": "display_data"
    },
    {
     "data": {
      "text/html": [
       "<pre>| 62        | 4136.870802  | 0.460064      | 0.463091        |</pre>"
      ],
      "text/plain": [
       "| 62        | 4136.870802  | 0.460064      | 0.463091        |"
      ]
     },
     "metadata": {},
     "output_type": "display_data"
    },
    {
     "data": {
      "text/html": [
       "<pre>| 63        | 4206.569038  | 0.459773      | 0.462768        |</pre>"
      ],
      "text/plain": [
       "| 63        | 4206.569038  | 0.459773      | 0.462768        |"
      ]
     },
     "metadata": {},
     "output_type": "display_data"
    },
    {
     "data": {
      "text/html": [
       "<pre>| 64        | 4270.029934  | 0.459462      | 0.462380        |</pre>"
      ],
      "text/plain": [
       "| 64        | 4270.029934  | 0.459462      | 0.462380        |"
      ]
     },
     "metadata": {},
     "output_type": "display_data"
    },
    {
     "data": {
      "text/html": [
       "<pre>| 65        | 4342.338976  | 0.459084      | 0.462029        |</pre>"
      ],
      "text/plain": [
       "| 65        | 4342.338976  | 0.459084      | 0.462029        |"
      ]
     },
     "metadata": {},
     "output_type": "display_data"
    },
    {
     "data": {
      "text/html": [
       "<pre>| 66        | 4411.449270  | 0.458901      | 0.461903        |</pre>"
      ],
      "text/plain": [
       "| 66        | 4411.449270  | 0.458901      | 0.461903        |"
      ]
     },
     "metadata": {},
     "output_type": "display_data"
    },
    {
     "data": {
      "text/html": [
       "<pre>| 67        | 4477.415124  | 0.458777      | 0.461762        |</pre>"
      ],
      "text/plain": [
       "| 67        | 4477.415124  | 0.458777      | 0.461762        |"
      ]
     },
     "metadata": {},
     "output_type": "display_data"
    },
    {
     "data": {
      "text/html": [
       "<pre>| 68        | 4540.242808  | 0.458479      | 0.461477        |</pre>"
      ],
      "text/plain": [
       "| 68        | 4540.242808  | 0.458479      | 0.461477        |"
      ]
     },
     "metadata": {},
     "output_type": "display_data"
    },
    {
     "data": {
      "text/html": [
       "<pre>| 69        | 4607.664606  | 0.458237      | 0.461231        |</pre>"
      ],
      "text/plain": [
       "| 69        | 4607.664606  | 0.458237      | 0.461231        |"
      ]
     },
     "metadata": {},
     "output_type": "display_data"
    },
    {
     "data": {
      "text/html": [
       "<pre>| 70        | 4680.793168  | 0.458054      | 0.461032        |</pre>"
      ],
      "text/plain": [
       "| 70        | 4680.793168  | 0.458054      | 0.461032        |"
      ]
     },
     "metadata": {},
     "output_type": "display_data"
    },
    {
     "data": {
      "text/html": [
       "<pre>| 71        | 4746.282736  | 0.457836      | 0.460816        |</pre>"
      ],
      "text/plain": [
       "| 71        | 4746.282736  | 0.457836      | 0.460816        |"
      ]
     },
     "metadata": {},
     "output_type": "display_data"
    },
    {
     "data": {
      "text/html": [
       "<pre>| 72        | 4814.935070  | 0.457560      | 0.460583        |</pre>"
      ],
      "text/plain": [
       "| 72        | 4814.935070  | 0.457560      | 0.460583        |"
      ]
     },
     "metadata": {},
     "output_type": "display_data"
    },
    {
     "data": {
      "text/html": [
       "<pre>| 73        | 4884.784213  | 0.457370      | 0.460340        |</pre>"
      ],
      "text/plain": [
       "| 73        | 4884.784213  | 0.457370      | 0.460340        |"
      ]
     },
     "metadata": {},
     "output_type": "display_data"
    },
    {
     "data": {
      "text/html": [
       "<pre>| 74        | 4954.117698  | 0.457219      | 0.460195        |</pre>"
      ],
      "text/plain": [
       "| 74        | 4954.117698  | 0.457219      | 0.460195        |"
      ]
     },
     "metadata": {},
     "output_type": "display_data"
    },
    {
     "data": {
      "text/html": [
       "<pre>| 75        | 5021.902098  | 0.457079      | 0.460103        |</pre>"
      ],
      "text/plain": [
       "| 75        | 5021.902098  | 0.457079      | 0.460103        |"
      ]
     },
     "metadata": {},
     "output_type": "display_data"
    },
    {
     "data": {
      "text/html": [
       "<pre>| 76        | 5087.275899  | 0.456901      | 0.459977        |</pre>"
      ],
      "text/plain": [
       "| 76        | 5087.275899  | 0.456901      | 0.459977        |"
      ]
     },
     "metadata": {},
     "output_type": "display_data"
    },
    {
     "data": {
      "text/html": [
       "<pre>| 77        | 5157.800524  | 0.456756      | 0.459869        |</pre>"
      ],
      "text/plain": [
       "| 77        | 5157.800524  | 0.456756      | 0.459869        |"
      ]
     },
     "metadata": {},
     "output_type": "display_data"
    },
    {
     "data": {
      "text/html": [
       "<pre>| 78        | 5227.139935  | 0.456647      | 0.459789        |</pre>"
      ],
      "text/plain": [
       "| 78        | 5227.139935  | 0.456647      | 0.459789        |"
      ]
     },
     "metadata": {},
     "output_type": "display_data"
    },
    {
     "data": {
      "text/html": [
       "<pre>| 79        | 5296.592216  | 0.456516      | 0.459705        |</pre>"
      ],
      "text/plain": [
       "| 79        | 5296.592216  | 0.456516      | 0.459705        |"
      ]
     },
     "metadata": {},
     "output_type": "display_data"
    },
    {
     "data": {
      "text/html": [
       "<pre>| 80        | 5362.198006  | 0.456287      | 0.459434        |</pre>"
      ],
      "text/plain": [
       "| 80        | 5362.198006  | 0.456287      | 0.459434        |"
      ]
     },
     "metadata": {},
     "output_type": "display_data"
    },
    {
     "data": {
      "text/html": [
       "<pre>| 81        | 5427.423481  | 0.456152      | 0.459336        |</pre>"
      ],
      "text/plain": [
       "| 81        | 5427.423481  | 0.456152      | 0.459336        |"
      ]
     },
     "metadata": {},
     "output_type": "display_data"
    },
    {
     "data": {
      "text/html": [
       "<pre>| 82        | 5494.201216  | 0.455928      | 0.459137        |</pre>"
      ],
      "text/plain": [
       "| 82        | 5494.201216  | 0.455928      | 0.459137        |"
      ]
     },
     "metadata": {},
     "output_type": "display_data"
    },
    {
     "data": {
      "text/html": [
       "<pre>| 83        | 5560.899866  | 0.455828      | 0.459045        |</pre>"
      ],
      "text/plain": [
       "| 83        | 5560.899866  | 0.455828      | 0.459045        |"
      ]
     },
     "metadata": {},
     "output_type": "display_data"
    },
    {
     "data": {
      "text/html": [
       "<pre>| 84        | 5632.537896  | 0.455632      | 0.458873        |</pre>"
      ],
      "text/plain": [
       "| 84        | 5632.537896  | 0.455632      | 0.458873        |"
      ]
     },
     "metadata": {},
     "output_type": "display_data"
    },
    {
     "data": {
      "text/html": [
       "<pre>| 85        | 5698.646595  | 0.455499      | 0.458761        |</pre>"
      ],
      "text/plain": [
       "| 85        | 5698.646595  | 0.455499      | 0.458761        |"
      ]
     },
     "metadata": {},
     "output_type": "display_data"
    },
    {
     "data": {
      "text/html": [
       "<pre>| 86        | 5767.518612  | 0.455293      | 0.458517        |</pre>"
      ],
      "text/plain": [
       "| 86        | 5767.518612  | 0.455293      | 0.458517        |"
      ]
     },
     "metadata": {},
     "output_type": "display_data"
    },
    {
     "data": {
      "text/html": [
       "<pre>| 87        | 5835.322259  | 0.455120      | 0.458369        |</pre>"
      ],
      "text/plain": [
       "| 87        | 5835.322259  | 0.455120      | 0.458369        |"
      ]
     },
     "metadata": {},
     "output_type": "display_data"
    },
    {
     "data": {
      "text/html": [
       "<pre>| 88        | 5906.141549  | 0.454999      | 0.458305        |</pre>"
      ],
      "text/plain": [
       "| 88        | 5906.141549  | 0.454999      | 0.458305        |"
      ]
     },
     "metadata": {},
     "output_type": "display_data"
    },
    {
     "data": {
      "text/html": [
       "<pre>| 89        | 5974.746843  | 0.454844      | 0.458141        |</pre>"
      ],
      "text/plain": [
       "| 89        | 5974.746843  | 0.454844      | 0.458141        |"
      ]
     },
     "metadata": {},
     "output_type": "display_data"
    },
    {
     "data": {
      "text/html": [
       "<pre>| 90        | 6039.300471  | 0.454715      | 0.457997        |</pre>"
      ],
      "text/plain": [
       "| 90        | 6039.300471  | 0.454715      | 0.457997        |"
      ]
     },
     "metadata": {},
     "output_type": "display_data"
    },
    {
     "data": {
      "text/html": [
       "<pre>| 91        | 6107.997196  | 0.454590      | 0.457877        |</pre>"
      ],
      "text/plain": [
       "| 91        | 6107.997196  | 0.454590      | 0.457877        |"
      ]
     },
     "metadata": {},
     "output_type": "display_data"
    },
    {
     "data": {
      "text/html": [
       "<pre>| 92        | 6172.238346  | 0.454505      | 0.457833        |</pre>"
      ],
      "text/plain": [
       "| 92        | 6172.238346  | 0.454505      | 0.457833        |"
      ]
     },
     "metadata": {},
     "output_type": "display_data"
    },
    {
     "data": {
      "text/html": [
       "<pre>| 93        | 6239.465270  | 0.454375      | 0.457715        |</pre>"
      ],
      "text/plain": [
       "| 93        | 6239.465270  | 0.454375      | 0.457715        |"
      ]
     },
     "metadata": {},
     "output_type": "display_data"
    },
    {
     "data": {
      "text/html": [
       "<pre>| 94        | 6306.627001  | 0.454212      | 0.457543        |</pre>"
      ],
      "text/plain": [
       "| 94        | 6306.627001  | 0.454212      | 0.457543        |"
      ]
     },
     "metadata": {},
     "output_type": "display_data"
    },
    {
     "data": {
      "text/html": [
       "<pre>| 95        | 6376.039243  | 0.454097      | 0.457434        |</pre>"
      ],
      "text/plain": [
       "| 95        | 6376.039243  | 0.454097      | 0.457434        |"
      ]
     },
     "metadata": {},
     "output_type": "display_data"
    },
    {
     "data": {
      "text/html": [
       "<pre>| 96        | 6445.004887  | 0.453976      | 0.457315        |</pre>"
      ],
      "text/plain": [
       "| 96        | 6445.004887  | 0.453976      | 0.457315        |"
      ]
     },
     "metadata": {},
     "output_type": "display_data"
    },
    {
     "data": {
      "text/html": [
       "<pre>| 97        | 6507.373179  | 0.453888      | 0.457245        |</pre>"
      ],
      "text/plain": [
       "| 97        | 6507.373179  | 0.453888      | 0.457245        |"
      ]
     },
     "metadata": {},
     "output_type": "display_data"
    },
    {
     "data": {
      "text/html": [
       "<pre>| 98        | 6578.855689  | 0.453747      | 0.457120        |</pre>"
      ],
      "text/plain": [
       "| 98        | 6578.855689  | 0.453747      | 0.457120        |"
      ]
     },
     "metadata": {},
     "output_type": "display_data"
    },
    {
     "data": {
      "text/html": [
       "<pre>| 99        | 6646.555526  | 0.453620      | 0.456989        |</pre>"
      ],
      "text/plain": [
       "| 99        | 6646.555526  | 0.453620      | 0.456989        |"
      ]
     },
     "metadata": {},
     "output_type": "display_data"
    },
    {
     "data": {
      "text/html": [
       "<pre>| 100       | 6712.880093  | 0.453559      | 0.456916        |</pre>"
      ],
      "text/plain": [
       "| 100       | 6712.880093  | 0.453559      | 0.456916        |"
      ]
     },
     "metadata": {},
     "output_type": "display_data"
    },
    {
     "data": {
      "text/html": [
       "<pre>| 101       | 6783.710727  | 0.453409      | 0.456724        |</pre>"
      ],
      "text/plain": [
       "| 101       | 6783.710727  | 0.453409      | 0.456724        |"
      ]
     },
     "metadata": {},
     "output_type": "display_data"
    },
    {
     "data": {
      "text/html": [
       "<pre>| 102       | 6851.554027  | 0.453295      | 0.456635        |</pre>"
      ],
      "text/plain": [
       "| 102       | 6851.554027  | 0.453295      | 0.456635        |"
      ]
     },
     "metadata": {},
     "output_type": "display_data"
    },
    {
     "data": {
      "text/html": [
       "<pre>| 103       | 6916.954929  | 0.453127      | 0.456495        |</pre>"
      ],
      "text/plain": [
       "| 103       | 6916.954929  | 0.453127      | 0.456495        |"
      ]
     },
     "metadata": {},
     "output_type": "display_data"
    },
    {
     "data": {
      "text/html": [
       "<pre>| 104       | 6989.260729  | 0.453031      | 0.456438        |</pre>"
      ],
      "text/plain": [
       "| 104       | 6989.260729  | 0.453031      | 0.456438        |"
      ]
     },
     "metadata": {},
     "output_type": "display_data"
    },
    {
     "data": {
      "text/html": [
       "<pre>| 105       | 7058.250103  | 0.452940      | 0.456363        |</pre>"
      ],
      "text/plain": [
       "| 105       | 7058.250103  | 0.452940      | 0.456363        |"
      ]
     },
     "metadata": {},
     "output_type": "display_data"
    },
    {
     "data": {
      "text/html": [
       "<pre>| 106       | 7124.664365  | 0.452839      | 0.456278        |</pre>"
      ],
      "text/plain": [
       "| 106       | 7124.664365  | 0.452839      | 0.456278        |"
      ]
     },
     "metadata": {},
     "output_type": "display_data"
    },
    {
     "data": {
      "text/html": [
       "<pre>| 107       | 7192.842522  | 0.452744      | 0.456193        |</pre>"
      ],
      "text/plain": [
       "| 107       | 7192.842522  | 0.452744      | 0.456193        |"
      ]
     },
     "metadata": {},
     "output_type": "display_data"
    },
    {
     "data": {
      "text/html": [
       "<pre>| 108       | 7260.723621  | 0.452637      | 0.456114        |</pre>"
      ],
      "text/plain": [
       "| 108       | 7260.723621  | 0.452637      | 0.456114        |"
      ]
     },
     "metadata": {},
     "output_type": "display_data"
    },
    {
     "data": {
      "text/html": [
       "<pre>| 109       | 7328.379300  | 0.452484      | 0.455950        |</pre>"
      ],
      "text/plain": [
       "| 109       | 7328.379300  | 0.452484      | 0.455950        |"
      ]
     },
     "metadata": {},
     "output_type": "display_data"
    },
    {
     "data": {
      "text/html": [
       "<pre>| 110       | 7399.625441  | 0.452343      | 0.455821        |</pre>"
      ],
      "text/plain": [
       "| 110       | 7399.625441  | 0.452343      | 0.455821        |"
      ]
     },
     "metadata": {},
     "output_type": "display_data"
    },
    {
     "data": {
      "text/html": [
       "<pre>| 111       | 7469.093185  | 0.452275      | 0.455776        |</pre>"
      ],
      "text/plain": [
       "| 111       | 7469.093185  | 0.452275      | 0.455776        |"
      ]
     },
     "metadata": {},
     "output_type": "display_data"
    },
    {
     "data": {
      "text/html": [
       "<pre>| 112       | 7538.995144  | 0.452169      | 0.455675        |</pre>"
      ],
      "text/plain": [
       "| 112       | 7538.995144  | 0.452169      | 0.455675        |"
      ]
     },
     "metadata": {},
     "output_type": "display_data"
    },
    {
     "data": {
      "text/html": [
       "<pre>| 113       | 7607.134608  | 0.452106      | 0.455604        |</pre>"
      ],
      "text/plain": [
       "| 113       | 7607.134608  | 0.452106      | 0.455604        |"
      ]
     },
     "metadata": {},
     "output_type": "display_data"
    },
    {
     "data": {
      "text/html": [
       "<pre>| 114       | 7677.830400  | 0.451961      | 0.455474        |</pre>"
      ],
      "text/plain": [
       "| 114       | 7677.830400  | 0.451961      | 0.455474        |"
      ]
     },
     "metadata": {},
     "output_type": "display_data"
    },
    {
     "data": {
      "text/html": [
       "<pre>| 115       | 7748.755051  | 0.451876      | 0.455413        |</pre>"
      ],
      "text/plain": [
       "| 115       | 7748.755051  | 0.451876      | 0.455413        |"
      ]
     },
     "metadata": {},
     "output_type": "display_data"
    },
    {
     "data": {
      "text/html": [
       "<pre>| 116       | 7816.791871  | 0.451756      | 0.455269        |</pre>"
      ],
      "text/plain": [
       "| 116       | 7816.791871  | 0.451756      | 0.455269        |"
      ]
     },
     "metadata": {},
     "output_type": "display_data"
    },
    {
     "data": {
      "text/html": [
       "<pre>| 117       | 7889.409678  | 0.451679      | 0.455225        |</pre>"
      ],
      "text/plain": [
       "| 117       | 7889.409678  | 0.451679      | 0.455225        |"
      ]
     },
     "metadata": {},
     "output_type": "display_data"
    },
    {
     "data": {
      "text/html": [
       "<pre>| 118       | 7958.653055  | 0.451592      | 0.455188        |</pre>"
      ],
      "text/plain": [
       "| 118       | 7958.653055  | 0.451592      | 0.455188        |"
      ]
     },
     "metadata": {},
     "output_type": "display_data"
    },
    {
     "data": {
      "text/html": [
       "<pre>| 119       | 8027.651558  | 0.451517      | 0.455122        |</pre>"
      ],
      "text/plain": [
       "| 119       | 8027.651558  | 0.451517      | 0.455122        |"
      ]
     },
     "metadata": {},
     "output_type": "display_data"
    },
    {
     "data": {
      "text/html": [
       "<pre>| 120       | 8097.563339  | 0.451442      | 0.455075        |</pre>"
      ],
      "text/plain": [
       "| 120       | 8097.563339  | 0.451442      | 0.455075        |"
      ]
     },
     "metadata": {},
     "output_type": "display_data"
    },
    {
     "data": {
      "text/html": [
       "<pre>| 121       | 8170.713060  | 0.451347      | 0.454997        |</pre>"
      ],
      "text/plain": [
       "| 121       | 8170.713060  | 0.451347      | 0.454997        |"
      ]
     },
     "metadata": {},
     "output_type": "display_data"
    },
    {
     "data": {
      "text/html": [
       "<pre>| 122       | 8239.486764  | 0.451278      | 0.454969        |</pre>"
      ],
      "text/plain": [
       "| 122       | 8239.486764  | 0.451278      | 0.454969        |"
      ]
     },
     "metadata": {},
     "output_type": "display_data"
    },
    {
     "data": {
      "text/html": [
       "<pre>| 123       | 8307.886574  | 0.451156      | 0.454891        |</pre>"
      ],
      "text/plain": [
       "| 123       | 8307.886574  | 0.451156      | 0.454891        |"
      ]
     },
     "metadata": {},
     "output_type": "display_data"
    },
    {
     "data": {
      "text/html": [
       "<pre>| 124       | 8379.406048  | 0.451088      | 0.454838        |</pre>"
      ],
      "text/plain": [
       "| 124       | 8379.406048  | 0.451088      | 0.454838        |"
      ]
     },
     "metadata": {},
     "output_type": "display_data"
    },
    {
     "data": {
      "text/html": [
       "<pre>| 125       | 8446.172614  | 0.450983      | 0.454735        |</pre>"
      ],
      "text/plain": [
       "| 125       | 8446.172614  | 0.450983      | 0.454735        |"
      ]
     },
     "metadata": {},
     "output_type": "display_data"
    },
    {
     "data": {
      "text/html": [
       "<pre>| 126       | 8512.953583  | 0.450950      | 0.454719        |</pre>"
      ],
      "text/plain": [
       "| 126       | 8512.953583  | 0.450950      | 0.454719        |"
      ]
     },
     "metadata": {},
     "output_type": "display_data"
    },
    {
     "data": {
      "text/html": [
       "<pre>| 127       | 8585.721491  | 0.450836      | 0.454620        |</pre>"
      ],
      "text/plain": [
       "| 127       | 8585.721491  | 0.450836      | 0.454620        |"
      ]
     },
     "metadata": {},
     "output_type": "display_data"
    },
    {
     "data": {
      "text/html": [
       "<pre>| 128       | 8658.484979  | 0.450760      | 0.454570        |</pre>"
      ],
      "text/plain": [
       "| 128       | 8658.484979  | 0.450760      | 0.454570        |"
      ]
     },
     "metadata": {},
     "output_type": "display_data"
    },
    {
     "data": {
      "text/html": [
       "<pre>| 129       | 8727.702644  | 0.450685      | 0.454500        |</pre>"
      ],
      "text/plain": [
       "| 129       | 8727.702644  | 0.450685      | 0.454500        |"
      ]
     },
     "metadata": {},
     "output_type": "display_data"
    },
    {
     "data": {
      "text/html": [
       "<pre>| 130       | 8800.963598  | 0.450615      | 0.454448        |</pre>"
      ],
      "text/plain": [
       "| 130       | 8800.963598  | 0.450615      | 0.454448        |"
      ]
     },
     "metadata": {},
     "output_type": "display_data"
    },
    {
     "data": {
      "text/html": [
       "<pre>| 131       | 8870.711542  | 0.450547      | 0.454403        |</pre>"
      ],
      "text/plain": [
       "| 131       | 8870.711542  | 0.450547      | 0.454403        |"
      ]
     },
     "metadata": {},
     "output_type": "display_data"
    },
    {
     "data": {
      "text/html": [
       "<pre>| 132       | 8939.807324  | 0.450495      | 0.454361        |</pre>"
      ],
      "text/plain": [
       "| 132       | 8939.807324  | 0.450495      | 0.454361        |"
      ]
     },
     "metadata": {},
     "output_type": "display_data"
    },
    {
     "data": {
      "text/html": [
       "<pre>| 133       | 9009.653707  | 0.450441      | 0.454329        |</pre>"
      ],
      "text/plain": [
       "| 133       | 9009.653707  | 0.450441      | 0.454329        |"
      ]
     },
     "metadata": {},
     "output_type": "display_data"
    },
    {
     "data": {
      "text/html": [
       "<pre>| 134       | 9078.846840  | 0.450379      | 0.454267        |</pre>"
      ],
      "text/plain": [
       "| 134       | 9078.846840  | 0.450379      | 0.454267        |"
      ]
     },
     "metadata": {},
     "output_type": "display_data"
    },
    {
     "data": {
      "text/html": [
       "<pre>| 135       | 9150.150109  | 0.450271      | 0.454226        |</pre>"
      ],
      "text/plain": [
       "| 135       | 9150.150109  | 0.450271      | 0.454226        |"
      ]
     },
     "metadata": {},
     "output_type": "display_data"
    },
    {
     "data": {
      "text/html": [
       "<pre>| 136       | 9223.898536  | 0.450191      | 0.454132        |</pre>"
      ],
      "text/plain": [
       "| 136       | 9223.898536  | 0.450191      | 0.454132        |"
      ]
     },
     "metadata": {},
     "output_type": "display_data"
    },
    {
     "data": {
      "text/html": [
       "<pre>| 137       | 9293.092760  | 0.450105      | 0.454073        |</pre>"
      ],
      "text/plain": [
       "| 137       | 9293.092760  | 0.450105      | 0.454073        |"
      ]
     },
     "metadata": {},
     "output_type": "display_data"
    },
    {
     "data": {
      "text/html": [
       "<pre>| 138       | 9364.084321  | 0.450057      | 0.454014        |</pre>"
      ],
      "text/plain": [
       "| 138       | 9364.084321  | 0.450057      | 0.454014        |"
      ]
     },
     "metadata": {},
     "output_type": "display_data"
    },
    {
     "data": {
      "text/html": [
       "<pre>| 139       | 9430.967812  | 0.449978      | 0.453938        |</pre>"
      ],
      "text/plain": [
       "| 139       | 9430.967812  | 0.449978      | 0.453938        |"
      ]
     },
     "metadata": {},
     "output_type": "display_data"
    },
    {
     "data": {
      "text/html": [
       "<pre>| 140       | 9499.681126  | 0.449938      | 0.453919        |</pre>"
      ],
      "text/plain": [
       "| 140       | 9499.681126  | 0.449938      | 0.453919        |"
      ]
     },
     "metadata": {},
     "output_type": "display_data"
    },
    {
     "data": {
      "text/html": [
       "<pre>| 141       | 9572.760669  | 0.449873      | 0.453875        |</pre>"
      ],
      "text/plain": [
       "| 141       | 9572.760669  | 0.449873      | 0.453875        |"
      ]
     },
     "metadata": {},
     "output_type": "display_data"
    },
    {
     "data": {
      "text/html": [
       "<pre>| 142       | 9641.046831  | 0.449793      | 0.453821        |</pre>"
      ],
      "text/plain": [
       "| 142       | 9641.046831  | 0.449793      | 0.453821        |"
      ]
     },
     "metadata": {},
     "output_type": "display_data"
    },
    {
     "data": {
      "text/html": [
       "<pre>| 143       | 9705.176879  | 0.449735      | 0.453786        |</pre>"
      ],
      "text/plain": [
       "| 143       | 9705.176879  | 0.449735      | 0.453786        |"
      ]
     },
     "metadata": {},
     "output_type": "display_data"
    },
    {
     "data": {
      "text/html": [
       "<pre>| 144       | 9775.887699  | 0.449668      | 0.453751        |</pre>"
      ],
      "text/plain": [
       "| 144       | 9775.887699  | 0.449668      | 0.453751        |"
      ]
     },
     "metadata": {},
     "output_type": "display_data"
    },
    {
     "data": {
      "text/html": [
       "<pre>| 145       | 9846.113759  | 0.449585      | 0.453648        |</pre>"
      ],
      "text/plain": [
       "| 145       | 9846.113759  | 0.449585      | 0.453648        |"
      ]
     },
     "metadata": {},
     "output_type": "display_data"
    },
    {
     "data": {
      "text/html": [
       "<pre>| 146       | 9914.964987  | 0.449492      | 0.453569        |</pre>"
      ],
      "text/plain": [
       "| 146       | 9914.964987  | 0.449492      | 0.453569        |"
      ]
     },
     "metadata": {},
     "output_type": "display_data"
    },
    {
     "data": {
      "text/html": [
       "<pre>| 147       | 9984.075321  | 0.449439      | 0.453520        |</pre>"
      ],
      "text/plain": [
       "| 147       | 9984.075321  | 0.449439      | 0.453520        |"
      ]
     },
     "metadata": {},
     "output_type": "display_data"
    },
    {
     "data": {
      "text/html": [
       "<pre>| 148       | 10051.602071 | 0.449385      | 0.453467        |</pre>"
      ],
      "text/plain": [
       "| 148       | 10051.602071 | 0.449385      | 0.453467        |"
      ]
     },
     "metadata": {},
     "output_type": "display_data"
    },
    {
     "data": {
      "text/html": [
       "<pre>| 149       | 10121.875106 | 0.449318      | 0.453426        |</pre>"
      ],
      "text/plain": [
       "| 149       | 10121.875106 | 0.449318      | 0.453426        |"
      ]
     },
     "metadata": {},
     "output_type": "display_data"
    },
    {
     "data": {
      "text/html": [
       "<pre>| 150       | 10187.410400 | 0.449243      | 0.453359        |</pre>"
      ],
      "text/plain": [
       "| 150       | 10187.410400 | 0.449243      | 0.453359        |"
      ]
     },
     "metadata": {},
     "output_type": "display_data"
    },
    {
     "data": {
      "text/html": [
       "<pre>| 151       | 10253.521525 | 0.449186      | 0.453296        |</pre>"
      ],
      "text/plain": [
       "| 151       | 10253.521525 | 0.449186      | 0.453296        |"
      ]
     },
     "metadata": {},
     "output_type": "display_data"
    },
    {
     "data": {
      "text/html": [
       "<pre>| 152       | 10322.814885 | 0.449095      | 0.453234        |</pre>"
      ],
      "text/plain": [
       "| 152       | 10322.814885 | 0.449095      | 0.453234        |"
      ]
     },
     "metadata": {},
     "output_type": "display_data"
    },
    {
     "data": {
      "text/html": [
       "<pre>| 153       | 10392.209117 | 0.448999      | 0.453183        |</pre>"
      ],
      "text/plain": [
       "| 153       | 10392.209117 | 0.448999      | 0.453183        |"
      ]
     },
     "metadata": {},
     "output_type": "display_data"
    },
    {
     "data": {
      "text/html": [
       "<pre>| 154       | 10456.985629 | 0.448951      | 0.453146        |</pre>"
      ],
      "text/plain": [
       "| 154       | 10456.985629 | 0.448951      | 0.453146        |"
      ]
     },
     "metadata": {},
     "output_type": "display_data"
    },
    {
     "data": {
      "text/html": [
       "<pre>| 155       | 10527.765498 | 0.448886      | 0.453079        |</pre>"
      ],
      "text/plain": [
       "| 155       | 10527.765498 | 0.448886      | 0.453079        |"
      ]
     },
     "metadata": {},
     "output_type": "display_data"
    },
    {
     "data": {
      "text/html": [
       "<pre>| 156       | 10597.718274 | 0.448839      | 0.453054        |</pre>"
      ],
      "text/plain": [
       "| 156       | 10597.718274 | 0.448839      | 0.453054        |"
      ]
     },
     "metadata": {},
     "output_type": "display_data"
    },
    {
     "data": {
      "text/html": [
       "<pre>| 157       | 10668.884201 | 0.448796      | 0.453028        |</pre>"
      ],
      "text/plain": [
       "| 157       | 10668.884201 | 0.448796      | 0.453028        |"
      ]
     },
     "metadata": {},
     "output_type": "display_data"
    },
    {
     "data": {
      "text/html": [
       "<pre>| 158       | 10734.201539 | 0.448750      | 0.452998        |</pre>"
      ],
      "text/plain": [
       "| 158       | 10734.201539 | 0.448750      | 0.452998        |"
      ]
     },
     "metadata": {},
     "output_type": "display_data"
    },
    {
     "data": {
      "text/html": [
       "<pre>| 159       | 10803.979190 | 0.448691      | 0.452966        |</pre>"
      ],
      "text/plain": [
       "| 159       | 10803.979190 | 0.448691      | 0.452966        |"
      ]
     },
     "metadata": {},
     "output_type": "display_data"
    },
    {
     "data": {
      "text/html": [
       "<pre>| 160       | 10870.829597 | 0.448615      | 0.452917        |</pre>"
      ],
      "text/plain": [
       "| 160       | 10870.829597 | 0.448615      | 0.452917        |"
      ]
     },
     "metadata": {},
     "output_type": "display_data"
    },
    {
     "data": {
      "text/html": [
       "<pre>| 161       | 10942.051384 | 0.448586      | 0.452903        |</pre>"
      ],
      "text/plain": [
       "| 161       | 10942.051384 | 0.448586      | 0.452903        |"
      ]
     },
     "metadata": {},
     "output_type": "display_data"
    },
    {
     "data": {
      "text/html": [
       "<pre>| 162       | 11005.274538 | 0.448538      | 0.452866        |</pre>"
      ],
      "text/plain": [
       "| 162       | 11005.274538 | 0.448538      | 0.452866        |"
      ]
     },
     "metadata": {},
     "output_type": "display_data"
    },
    {
     "data": {
      "text/html": [
       "<pre>| 163       | 11077.364411 | 0.448466      | 0.452804        |</pre>"
      ],
      "text/plain": [
       "| 163       | 11077.364411 | 0.448466      | 0.452804        |"
      ]
     },
     "metadata": {},
     "output_type": "display_data"
    },
    {
     "data": {
      "text/html": [
       "<pre>| 164       | 11150.940257 | 0.448406      | 0.452747        |</pre>"
      ],
      "text/plain": [
       "| 164       | 11150.940257 | 0.448406      | 0.452747        |"
      ]
     },
     "metadata": {},
     "output_type": "display_data"
    },
    {
     "data": {
      "text/html": [
       "<pre>| 165       | 11216.802439 | 0.448364      | 0.452735        |</pre>"
      ],
      "text/plain": [
       "| 165       | 11216.802439 | 0.448364      | 0.452735        |"
      ]
     },
     "metadata": {},
     "output_type": "display_data"
    },
    {
     "data": {
      "text/html": [
       "<pre>| 166       | 11284.851767 | 0.448306      | 0.452700        |</pre>"
      ],
      "text/plain": [
       "| 166       | 11284.851767 | 0.448306      | 0.452700        |"
      ]
     },
     "metadata": {},
     "output_type": "display_data"
    },
    {
     "data": {
      "text/html": [
       "<pre>| 167       | 11352.682388 | 0.448239      | 0.452657        |</pre>"
      ],
      "text/plain": [
       "| 167       | 11352.682388 | 0.448239      | 0.452657        |"
      ]
     },
     "metadata": {},
     "output_type": "display_data"
    },
    {
     "data": {
      "text/html": [
       "<pre>| 168       | 11418.807725 | 0.448190      | 0.452614        |</pre>"
      ],
      "text/plain": [
       "| 168       | 11418.807725 | 0.448190      | 0.452614        |"
      ]
     },
     "metadata": {},
     "output_type": "display_data"
    },
    {
     "data": {
      "text/html": [
       "<pre>| 169       | 11488.670049 | 0.448145      | 0.452594        |</pre>"
      ],
      "text/plain": [
       "| 169       | 11488.670049 | 0.448145      | 0.452594        |"
      ]
     },
     "metadata": {},
     "output_type": "display_data"
    },
    {
     "data": {
      "text/html": [
       "<pre>| 170       | 11558.404479 | 0.448096      | 0.452550        |</pre>"
      ],
      "text/plain": [
       "| 170       | 11558.404479 | 0.448096      | 0.452550        |"
      ]
     },
     "metadata": {},
     "output_type": "display_data"
    },
    {
     "data": {
      "text/html": [
       "<pre>| 171       | 11625.048368 | 0.448053      | 0.452531        |</pre>"
      ],
      "text/plain": [
       "| 171       | 11625.048368 | 0.448053      | 0.452531        |"
      ]
     },
     "metadata": {},
     "output_type": "display_data"
    },
    {
     "data": {
      "text/html": [
       "<pre>| 172       | 11689.656795 | 0.448000      | 0.452460        |</pre>"
      ],
      "text/plain": [
       "| 172       | 11689.656795 | 0.448000      | 0.452460        |"
      ]
     },
     "metadata": {},
     "output_type": "display_data"
    },
    {
     "data": {
      "text/html": [
       "<pre>| 173       | 11759.753712 | 0.447925      | 0.452430        |</pre>"
      ],
      "text/plain": [
       "| 173       | 11759.753712 | 0.447925      | 0.452430        |"
      ]
     },
     "metadata": {},
     "output_type": "display_data"
    },
    {
     "data": {
      "text/html": [
       "<pre>| 174       | 11832.383882 | 0.447881      | 0.452406        |</pre>"
      ],
      "text/plain": [
       "| 174       | 11832.383882 | 0.447881      | 0.452406        |"
      ]
     },
     "metadata": {},
     "output_type": "display_data"
    },
    {
     "data": {
      "text/html": [
       "<pre>| 175       | 11900.678617 | 0.447834      | 0.452368        |</pre>"
      ],
      "text/plain": [
       "| 175       | 11900.678617 | 0.447834      | 0.452368        |"
      ]
     },
     "metadata": {},
     "output_type": "display_data"
    },
    {
     "data": {
      "text/html": [
       "<pre>| 176       | 11972.707555 | 0.447782      | 0.452340        |</pre>"
      ],
      "text/plain": [
       "| 176       | 11972.707555 | 0.447782      | 0.452340        |"
      ]
     },
     "metadata": {},
     "output_type": "display_data"
    },
    {
     "data": {
      "text/html": [
       "<pre>| 177       | 12040.494257 | 0.447740      | 0.452304        |</pre>"
      ],
      "text/plain": [
       "| 177       | 12040.494257 | 0.447740      | 0.452304        |"
      ]
     },
     "metadata": {},
     "output_type": "display_data"
    },
    {
     "data": {
      "text/html": [
       "<pre>| 178       | 12107.562017 | 0.447674      | 0.452240        |</pre>"
      ],
      "text/plain": [
       "| 178       | 12107.562017 | 0.447674      | 0.452240        |"
      ]
     },
     "metadata": {},
     "output_type": "display_data"
    },
    {
     "data": {
      "text/html": [
       "<pre>| 179       | 12176.500390 | 0.447622      | 0.452201        |</pre>"
      ],
      "text/plain": [
       "| 179       | 12176.500390 | 0.447622      | 0.452201        |"
      ]
     },
     "metadata": {},
     "output_type": "display_data"
    },
    {
     "data": {
      "text/html": [
       "<pre>| 180       | 12245.041581 | 0.447585      | 0.452159        |</pre>"
      ],
      "text/plain": [
       "| 180       | 12245.041581 | 0.447585      | 0.452159        |"
      ]
     },
     "metadata": {},
     "output_type": "display_data"
    },
    {
     "data": {
      "text/html": [
       "<pre>| 181       | 12314.251174 | 0.447544      | 0.452128        |</pre>"
      ],
      "text/plain": [
       "| 181       | 12314.251174 | 0.447544      | 0.452128        |"
      ]
     },
     "metadata": {},
     "output_type": "display_data"
    },
    {
     "data": {
      "text/html": [
       "<pre>| 182       | 12379.839845 | 0.447477      | 0.452057        |</pre>"
      ],
      "text/plain": [
       "| 182       | 12379.839845 | 0.447477      | 0.452057        |"
      ]
     },
     "metadata": {},
     "output_type": "display_data"
    },
    {
     "data": {
      "text/html": [
       "<pre>| 183       | 12446.778225 | 0.447442      | 0.452055        |</pre>"
      ],
      "text/plain": [
       "| 183       | 12446.778225 | 0.447442      | 0.452055        |"
      ]
     },
     "metadata": {},
     "output_type": "display_data"
    },
    {
     "data": {
      "text/html": [
       "<pre>| 184       | 12515.466147 | 0.447399      | 0.451958        |</pre>"
      ],
      "text/plain": [
       "| 184       | 12515.466147 | 0.447399      | 0.451958        |"
      ]
     },
     "metadata": {},
     "output_type": "display_data"
    },
    {
     "data": {
      "text/html": [
       "<pre>| 185       | 12585.289226 | 0.447352      | 0.451930        |</pre>"
      ],
      "text/plain": [
       "| 185       | 12585.289226 | 0.447352      | 0.451930        |"
      ]
     },
     "metadata": {},
     "output_type": "display_data"
    },
    {
     "data": {
      "text/html": [
       "<pre>| 186       | 12651.715484 | 0.447290      | 0.451872        |</pre>"
      ],
      "text/plain": [
       "| 186       | 12651.715484 | 0.447290      | 0.451872        |"
      ]
     },
     "metadata": {},
     "output_type": "display_data"
    },
    {
     "data": {
      "text/html": [
       "<pre>| 187       | 12718.040768 | 0.447244      | 0.451871        |</pre>"
      ],
      "text/plain": [
       "| 187       | 12718.040768 | 0.447244      | 0.451871        |"
      ]
     },
     "metadata": {},
     "output_type": "display_data"
    },
    {
     "data": {
      "text/html": [
       "<pre>| 188       | 12784.383311 | 0.447211      | 0.451855        |</pre>"
      ],
      "text/plain": [
       "| 188       | 12784.383311 | 0.447211      | 0.451855        |"
      ]
     },
     "metadata": {},
     "output_type": "display_data"
    },
    {
     "data": {
      "text/html": [
       "<pre>| 189       | 12852.624878 | 0.447128      | 0.451801        |</pre>"
      ],
      "text/plain": [
       "| 189       | 12852.624878 | 0.447128      | 0.451801        |"
      ]
     },
     "metadata": {},
     "output_type": "display_data"
    },
    {
     "data": {
      "text/html": [
       "<pre>| 190       | 12922.563646 | 0.447076      | 0.451772        |</pre>"
      ],
      "text/plain": [
       "| 190       | 12922.563646 | 0.447076      | 0.451772        |"
      ]
     },
     "metadata": {},
     "output_type": "display_data"
    },
    {
     "data": {
      "text/html": [
       "<pre>| 191       | 12990.361687 | 0.447037      | 0.451732        |</pre>"
      ],
      "text/plain": [
       "| 191       | 12990.361687 | 0.447037      | 0.451732        |"
      ]
     },
     "metadata": {},
     "output_type": "display_data"
    },
    {
     "data": {
      "text/html": [
       "<pre>| 192       | 13058.687734 | 0.447002      | 0.451715        |</pre>"
      ],
      "text/plain": [
       "| 192       | 13058.687734 | 0.447002      | 0.451715        |"
      ]
     },
     "metadata": {},
     "output_type": "display_data"
    },
    {
     "data": {
      "text/html": [
       "<pre>| 193       | 13130.347920 | 0.446964      | 0.451688        |</pre>"
      ],
      "text/plain": [
       "| 193       | 13130.347920 | 0.446964      | 0.451688        |"
      ]
     },
     "metadata": {},
     "output_type": "display_data"
    },
    {
     "data": {
      "text/html": [
       "<pre>| 194       | 13197.602942 | 0.446908      | 0.451623        |</pre>"
      ],
      "text/plain": [
       "| 194       | 13197.602942 | 0.446908      | 0.451623        |"
      ]
     },
     "metadata": {},
     "output_type": "display_data"
    },
    {
     "data": {
      "text/html": [
       "<pre>| 195       | 13263.658270 | 0.446874      | 0.451606        |</pre>"
      ],
      "text/plain": [
       "| 195       | 13263.658270 | 0.446874      | 0.451606        |"
      ]
     },
     "metadata": {},
     "output_type": "display_data"
    },
    {
     "data": {
      "text/html": [
       "<pre>| 196       | 13331.456953 | 0.446841      | 0.451597        |</pre>"
      ],
      "text/plain": [
       "| 196       | 13331.456953 | 0.446841      | 0.451597        |"
      ]
     },
     "metadata": {},
     "output_type": "display_data"
    },
    {
     "data": {
      "text/html": [
       "<pre>| 197       | 13400.463554 | 0.446809      | 0.451575        |</pre>"
      ],
      "text/plain": [
       "| 197       | 13400.463554 | 0.446809      | 0.451575        |"
      ]
     },
     "metadata": {},
     "output_type": "display_data"
    },
    {
     "data": {
      "text/html": [
       "<pre>| 198       | 13467.904431 | 0.446740      | 0.451534        |</pre>"
      ],
      "text/plain": [
       "| 198       | 13467.904431 | 0.446740      | 0.451534        |"
      ]
     },
     "metadata": {},
     "output_type": "display_data"
    },
    {
     "data": {
      "text/html": [
       "<pre>| 199       | 13534.433200 | 0.446683      | 0.451489        |</pre>"
      ],
      "text/plain": [
       "| 199       | 13534.433200 | 0.446683      | 0.451489        |"
      ]
     },
     "metadata": {},
     "output_type": "display_data"
    },
    {
     "data": {
      "text/html": [
       "<pre>| 200       | 13604.180718 | 0.446615      | 0.451416        |</pre>"
      ],
      "text/plain": [
       "| 200       | 13604.180718 | 0.446615      | 0.451416        |"
      ]
     },
     "metadata": {},
     "output_type": "display_data"
    },
    {
     "data": {
      "text/html": [
       "<pre>| 201       | 13671.640008 | 0.446579      | 0.451406        |</pre>"
      ],
      "text/plain": [
       "| 201       | 13671.640008 | 0.446579      | 0.451406        |"
      ]
     },
     "metadata": {},
     "output_type": "display_data"
    },
    {
     "data": {
      "text/html": [
       "<pre>| 202       | 13735.301453 | 0.446536      | 0.451382        |</pre>"
      ],
      "text/plain": [
       "| 202       | 13735.301453 | 0.446536      | 0.451382        |"
      ]
     },
     "metadata": {},
     "output_type": "display_data"
    },
    {
     "data": {
      "text/html": [
       "<pre>| 203       | 13799.819517 | 0.446458      | 0.451295        |</pre>"
      ],
      "text/plain": [
       "| 203       | 13799.819517 | 0.446458      | 0.451295        |"
      ]
     },
     "metadata": {},
     "output_type": "display_data"
    },
    {
     "data": {
      "text/html": [
       "<pre>| 204       | 13869.931670 | 0.446423      | 0.451274        |</pre>"
      ],
      "text/plain": [
       "| 204       | 13869.931670 | 0.446423      | 0.451274        |"
      ]
     },
     "metadata": {},
     "output_type": "display_data"
    },
    {
     "data": {
      "text/html": [
       "<pre>| 205       | 13941.214084 | 0.446374      | 0.451260        |</pre>"
      ],
      "text/plain": [
       "| 205       | 13941.214084 | 0.446374      | 0.451260        |"
      ]
     },
     "metadata": {},
     "output_type": "display_data"
    },
    {
     "data": {
      "text/html": [
       "<pre>| 206       | 14006.911546 | 0.446336      | 0.451214        |</pre>"
      ],
      "text/plain": [
       "| 206       | 14006.911546 | 0.446336      | 0.451214        |"
      ]
     },
     "metadata": {},
     "output_type": "display_data"
    },
    {
     "data": {
      "text/html": [
       "<pre>| 207       | 14074.039295 | 0.446304      | 0.451191        |</pre>"
      ],
      "text/plain": [
       "| 207       | 14074.039295 | 0.446304      | 0.451191        |"
      ]
     },
     "metadata": {},
     "output_type": "display_data"
    },
    {
     "data": {
      "text/html": [
       "<pre>| 208       | 14144.797477 | 0.446275      | 0.451179        |</pre>"
      ],
      "text/plain": [
       "| 208       | 14144.797477 | 0.446275      | 0.451179        |"
      ]
     },
     "metadata": {},
     "output_type": "display_data"
    },
    {
     "data": {
      "text/html": [
       "<pre>| 209       | 14214.864536 | 0.446215      | 0.451129        |</pre>"
      ],
      "text/plain": [
       "| 209       | 14214.864536 | 0.446215      | 0.451129        |"
      ]
     },
     "metadata": {},
     "output_type": "display_data"
    },
    {
     "data": {
      "text/html": [
       "<pre>| 210       | 14282.683034 | 0.446172      | 0.451103        |</pre>"
      ],
      "text/plain": [
       "| 210       | 14282.683034 | 0.446172      | 0.451103        |"
      ]
     },
     "metadata": {},
     "output_type": "display_data"
    },
    {
     "data": {
      "text/html": [
       "<pre>| 211       | 14355.331564 | 0.446134      | 0.451104        |</pre>"
      ],
      "text/plain": [
       "| 211       | 14355.331564 | 0.446134      | 0.451104        |"
      ]
     },
     "metadata": {},
     "output_type": "display_data"
    },
    {
     "data": {
      "text/html": [
       "<pre>| 212       | 14422.972058 | 0.446104      | 0.451082        |</pre>"
      ],
      "text/plain": [
       "| 212       | 14422.972058 | 0.446104      | 0.451082        |"
      ]
     },
     "metadata": {},
     "output_type": "display_data"
    },
    {
     "data": {
      "text/html": [
       "<pre>| 213       | 14488.140232 | 0.446048      | 0.451019        |</pre>"
      ],
      "text/plain": [
       "| 213       | 14488.140232 | 0.446048      | 0.451019        |"
      ]
     },
     "metadata": {},
     "output_type": "display_data"
    },
    {
     "data": {
      "text/html": [
       "<pre>| 214       | 14552.389952 | 0.445989      | 0.450979        |</pre>"
      ],
      "text/plain": [
       "| 214       | 14552.389952 | 0.445989      | 0.450979        |"
      ]
     },
     "metadata": {},
     "output_type": "display_data"
    },
    {
     "data": {
      "text/html": [
       "<pre>| 215       | 14623.199648 | 0.445962      | 0.450960        |</pre>"
      ],
      "text/plain": [
       "| 215       | 14623.199648 | 0.445962      | 0.450960        |"
      ]
     },
     "metadata": {},
     "output_type": "display_data"
    },
    {
     "data": {
      "text/html": [
       "<pre>| 216       | 14690.228384 | 0.445932      | 0.450941        |</pre>"
      ],
      "text/plain": [
       "| 216       | 14690.228384 | 0.445932      | 0.450941        |"
      ]
     },
     "metadata": {},
     "output_type": "display_data"
    },
    {
     "data": {
      "text/html": [
       "<pre>| 217       | 14757.116522 | 0.445902      | 0.450903        |</pre>"
      ],
      "text/plain": [
       "| 217       | 14757.116522 | 0.445902      | 0.450903        |"
      ]
     },
     "metadata": {},
     "output_type": "display_data"
    },
    {
     "data": {
      "text/html": [
       "<pre>| 218       | 14821.728835 | 0.445862      | 0.450862        |</pre>"
      ],
      "text/plain": [
       "| 218       | 14821.728835 | 0.445862      | 0.450862        |"
      ]
     },
     "metadata": {},
     "output_type": "display_data"
    },
    {
     "data": {
      "text/html": [
       "<pre>| 219       | 14890.358436 | 0.445831      | 0.450836        |</pre>"
      ],
      "text/plain": [
       "| 219       | 14890.358436 | 0.445831      | 0.450836        |"
      ]
     },
     "metadata": {},
     "output_type": "display_data"
    },
    {
     "data": {
      "text/html": [
       "<pre>| 220       | 14961.543949 | 0.445791      | 0.450799        |</pre>"
      ],
      "text/plain": [
       "| 220       | 14961.543949 | 0.445791      | 0.450799        |"
      ]
     },
     "metadata": {},
     "output_type": "display_data"
    },
    {
     "data": {
      "text/html": [
       "<pre>| 221       | 15030.585218 | 0.445761      | 0.450786        |</pre>"
      ],
      "text/plain": [
       "| 221       | 15030.585218 | 0.445761      | 0.450786        |"
      ]
     },
     "metadata": {},
     "output_type": "display_data"
    },
    {
     "data": {
      "text/html": [
       "<pre>| 222       | 15096.979502 | 0.445721      | 0.450755        |</pre>"
      ],
      "text/plain": [
       "| 222       | 15096.979502 | 0.445721      | 0.450755        |"
      ]
     },
     "metadata": {},
     "output_type": "display_data"
    },
    {
     "data": {
      "text/html": [
       "<pre>| 223       | 15166.522764 | 0.445692      | 0.450740        |</pre>"
      ],
      "text/plain": [
       "| 223       | 15166.522764 | 0.445692      | 0.450740        |"
      ]
     },
     "metadata": {},
     "output_type": "display_data"
    },
    {
     "data": {
      "text/html": [
       "<pre>| 224       | 15233.676469 | 0.445668      | 0.450738        |</pre>"
      ],
      "text/plain": [
       "| 224       | 15233.676469 | 0.445668      | 0.450738        |"
      ]
     },
     "metadata": {},
     "output_type": "display_data"
    },
    {
     "data": {
      "text/html": [
       "<pre>| 225       | 15301.948471 | 0.445641      | 0.450722        |</pre>"
      ],
      "text/plain": [
       "| 225       | 15301.948471 | 0.445641      | 0.450722        |"
      ]
     },
     "metadata": {},
     "output_type": "display_data"
    },
    {
     "data": {
      "text/html": [
       "<pre>| 226       | 15370.367362 | 0.445592      | 0.450696        |</pre>"
      ],
      "text/plain": [
       "| 226       | 15370.367362 | 0.445592      | 0.450696        |"
      ]
     },
     "metadata": {},
     "output_type": "display_data"
    },
    {
     "data": {
      "text/html": [
       "<pre>| 227       | 15442.696970 | 0.445563      | 0.450659        |</pre>"
      ],
      "text/plain": [
       "| 227       | 15442.696970 | 0.445563      | 0.450659        |"
      ]
     },
     "metadata": {},
     "output_type": "display_data"
    },
    {
     "data": {
      "text/html": [
       "<pre>| 228       | 15513.323734 | 0.445511      | 0.450612        |</pre>"
      ],
      "text/plain": [
       "| 228       | 15513.323734 | 0.445511      | 0.450612        |"
      ]
     },
     "metadata": {},
     "output_type": "display_data"
    },
    {
     "data": {
      "text/html": [
       "<pre>| 229       | 15584.119429 | 0.445483      | 0.450590        |</pre>"
      ],
      "text/plain": [
       "| 229       | 15584.119429 | 0.445483      | 0.450590        |"
      ]
     },
     "metadata": {},
     "output_type": "display_data"
    },
    {
     "data": {
      "text/html": [
       "<pre>| 230       | 15653.690744 | 0.445446      | 0.450566        |</pre>"
      ],
      "text/plain": [
       "| 230       | 15653.690744 | 0.445446      | 0.450566        |"
      ]
     },
     "metadata": {},
     "output_type": "display_data"
    },
    {
     "data": {
      "text/html": [
       "<pre>| 231       | 15725.632749 | 0.445411      | 0.450542        |</pre>"
      ],
      "text/plain": [
       "| 231       | 15725.632749 | 0.445411      | 0.450542        |"
      ]
     },
     "metadata": {},
     "output_type": "display_data"
    },
    {
     "data": {
      "text/html": [
       "<pre>| 232       | 15792.050899 | 0.445375      | 0.450500        |</pre>"
      ],
      "text/plain": [
       "| 232       | 15792.050899 | 0.445375      | 0.450500        |"
      ]
     },
     "metadata": {},
     "output_type": "display_data"
    },
    {
     "data": {
      "text/html": [
       "<pre>| 233       | 15859.671382 | 0.445357      | 0.450498        |</pre>"
      ],
      "text/plain": [
       "| 233       | 15859.671382 | 0.445357      | 0.450498        |"
      ]
     },
     "metadata": {},
     "output_type": "display_data"
    },
    {
     "data": {
      "text/html": [
       "<pre>| 234       | 15933.066907 | 0.445335      | 0.450507        |</pre>"
      ],
      "text/plain": [
       "| 234       | 15933.066907 | 0.445335      | 0.450507        |"
      ]
     },
     "metadata": {},
     "output_type": "display_data"
    },
    {
     "data": {
      "text/html": [
       "<pre>| 235       | 16005.377416 | 0.445305      | 0.450482        |</pre>"
      ],
      "text/plain": [
       "| 235       | 16005.377416 | 0.445305      | 0.450482        |"
      ]
     },
     "metadata": {},
     "output_type": "display_data"
    },
    {
     "data": {
      "text/html": [
       "<pre>| 236       | 16077.787475 | 0.445279      | 0.450476        |</pre>"
      ],
      "text/plain": [
       "| 236       | 16077.787475 | 0.445279      | 0.450476        |"
      ]
     },
     "metadata": {},
     "output_type": "display_data"
    },
    {
     "data": {
      "text/html": [
       "<pre>| 237       | 16147.149674 | 0.445243      | 0.450445        |</pre>"
      ],
      "text/plain": [
       "| 237       | 16147.149674 | 0.445243      | 0.450445        |"
      ]
     },
     "metadata": {},
     "output_type": "display_data"
    },
    {
     "data": {
      "text/html": [
       "<pre>| 238       | 16213.369780 | 0.445212      | 0.450444        |</pre>"
      ],
      "text/plain": [
       "| 238       | 16213.369780 | 0.445212      | 0.450444        |"
      ]
     },
     "metadata": {},
     "output_type": "display_data"
    },
    {
     "data": {
      "text/html": [
       "<pre>| 239       | 16283.522455 | 0.445174      | 0.450431        |</pre>"
      ],
      "text/plain": [
       "| 239       | 16283.522455 | 0.445174      | 0.450431        |"
      ]
     },
     "metadata": {},
     "output_type": "display_data"
    },
    {
     "data": {
      "text/html": [
       "<pre>| 240       | 16356.425548 | 0.445134      | 0.450409        |</pre>"
      ],
      "text/plain": [
       "| 240       | 16356.425548 | 0.445134      | 0.450409        |"
      ]
     },
     "metadata": {},
     "output_type": "display_data"
    },
    {
     "data": {
      "text/html": [
       "<pre>| 241       | 16425.925734 | 0.445101      | 0.450374        |</pre>"
      ],
      "text/plain": [
       "| 241       | 16425.925734 | 0.445101      | 0.450374        |"
      ]
     },
     "metadata": {},
     "output_type": "display_data"
    },
    {
     "data": {
      "text/html": [
       "<pre>| 242       | 16495.011344 | 0.445066      | 0.450360        |</pre>"
      ],
      "text/plain": [
       "| 242       | 16495.011344 | 0.445066      | 0.450360        |"
      ]
     },
     "metadata": {},
     "output_type": "display_data"
    },
    {
     "data": {
      "text/html": [
       "<pre>| 243       | 16560.875670 | 0.445026      | 0.450331        |</pre>"
      ],
      "text/plain": [
       "| 243       | 16560.875670 | 0.445026      | 0.450331        |"
      ]
     },
     "metadata": {},
     "output_type": "display_data"
    },
    {
     "data": {
      "text/html": [
       "<pre>| 244       | 16626.960274 | 0.444990      | 0.450299        |</pre>"
      ],
      "text/plain": [
       "| 244       | 16626.960274 | 0.444990      | 0.450299        |"
      ]
     },
     "metadata": {},
     "output_type": "display_data"
    },
    {
     "data": {
      "text/html": [
       "<pre>| 245       | 16696.616722 | 0.444942      | 0.450262        |</pre>"
      ],
      "text/plain": [
       "| 245       | 16696.616722 | 0.444942      | 0.450262        |"
      ]
     },
     "metadata": {},
     "output_type": "display_data"
    },
    {
     "data": {
      "text/html": [
       "<pre>| 246       | 16765.458459 | 0.444901      | 0.450222        |</pre>"
      ],
      "text/plain": [
       "| 246       | 16765.458459 | 0.444901      | 0.450222        |"
      ]
     },
     "metadata": {},
     "output_type": "display_data"
    },
    {
     "data": {
      "text/html": [
       "<pre>| 247       | 16831.969865 | 0.444883      | 0.450219        |</pre>"
      ],
      "text/plain": [
       "| 247       | 16831.969865 | 0.444883      | 0.450219        |"
      ]
     },
     "metadata": {},
     "output_type": "display_data"
    },
    {
     "data": {
      "text/html": [
       "<pre>| 248       | 16901.414791 | 0.444863      | 0.450221        |</pre>"
      ],
      "text/plain": [
       "| 248       | 16901.414791 | 0.444863      | 0.450221        |"
      ]
     },
     "metadata": {},
     "output_type": "display_data"
    },
    {
     "data": {
      "text/html": [
       "<pre>| 249       | 16971.635103 | 0.444834      | 0.450203        |</pre>"
      ],
      "text/plain": [
       "| 249       | 16971.635103 | 0.444834      | 0.450203        |"
      ]
     },
     "metadata": {},
     "output_type": "display_data"
    },
    {
     "data": {
      "text/html": [
       "<pre>| 250       | 17042.240501 | 0.444777      | 0.450185        |</pre>"
      ],
      "text/plain": [
       "| 250       | 17042.240501 | 0.444777      | 0.450185        |"
      ]
     },
     "metadata": {},
     "output_type": "display_data"
    },
    {
     "data": {
      "text/html": [
       "<pre>| 251       | 17111.412826 | 0.444749      | 0.450167        |</pre>"
      ],
      "text/plain": [
       "| 251       | 17111.412826 | 0.444749      | 0.450167        |"
      ]
     },
     "metadata": {},
     "output_type": "display_data"
    },
    {
     "data": {
      "text/html": [
       "<pre>| 252       | 17177.808606 | 0.444721      | 0.450117        |</pre>"
      ],
      "text/plain": [
       "| 252       | 17177.808606 | 0.444721      | 0.450117        |"
      ]
     },
     "metadata": {},
     "output_type": "display_data"
    },
    {
     "data": {
      "text/html": [
       "<pre>| 253       | 17253.339823 | 0.444676      | 0.450084        |</pre>"
      ],
      "text/plain": [
       "| 253       | 17253.339823 | 0.444676      | 0.450084        |"
      ]
     },
     "metadata": {},
     "output_type": "display_data"
    },
    {
     "data": {
      "text/html": [
       "<pre>| 254       | 17317.344777 | 0.444646      | 0.450085        |</pre>"
      ],
      "text/plain": [
       "| 254       | 17317.344777 | 0.444646      | 0.450085        |"
      ]
     },
     "metadata": {},
     "output_type": "display_data"
    },
    {
     "data": {
      "text/html": [
       "<pre>| 255       | 17382.519191 | 0.444619      | 0.450090        |</pre>"
      ],
      "text/plain": [
       "| 255       | 17382.519191 | 0.444619      | 0.450090        |"
      ]
     },
     "metadata": {},
     "output_type": "display_data"
    },
    {
     "data": {
      "text/html": [
       "<pre>| 256       | 17450.244867 | 0.444597      | 0.450078        |</pre>"
      ],
      "text/plain": [
       "| 256       | 17450.244867 | 0.444597      | 0.450078        |"
      ]
     },
     "metadata": {},
     "output_type": "display_data"
    },
    {
     "data": {
      "text/html": [
       "<pre>| 257       | 17519.171068 | 0.444551      | 0.450058        |</pre>"
      ],
      "text/plain": [
       "| 257       | 17519.171068 | 0.444551      | 0.450058        |"
      ]
     },
     "metadata": {},
     "output_type": "display_data"
    },
    {
     "data": {
      "text/html": [
       "<pre>| 258       | 17584.483833 | 0.444526      | 0.450037        |</pre>"
      ],
      "text/plain": [
       "| 258       | 17584.483833 | 0.444526      | 0.450037        |"
      ]
     },
     "metadata": {},
     "output_type": "display_data"
    },
    {
     "data": {
      "text/html": [
       "<pre>| 259       | 17652.886886 | 0.444498      | 0.450015        |</pre>"
      ],
      "text/plain": [
       "| 259       | 17652.886886 | 0.444498      | 0.450015        |"
      ]
     },
     "metadata": {},
     "output_type": "display_data"
    },
    {
     "data": {
      "text/html": [
       "<pre>| 260       | 17721.763173 | 0.444468      | 0.450006        |</pre>"
      ],
      "text/plain": [
       "| 260       | 17721.763173 | 0.444468      | 0.450006        |"
      ]
     },
     "metadata": {},
     "output_type": "display_data"
    },
    {
     "data": {
      "text/html": [
       "<pre>| 261       | 17786.937140 | 0.444450      | 0.450009        |</pre>"
      ],
      "text/plain": [
       "| 261       | 17786.937140 | 0.444450      | 0.450009        |"
      ]
     },
     "metadata": {},
     "output_type": "display_data"
    },
    {
     "data": {
      "text/html": [
       "<pre>| 262       | 17858.227156 | 0.444425      | 0.449985        |</pre>"
      ],
      "text/plain": [
       "| 262       | 17858.227156 | 0.444425      | 0.449985        |"
      ]
     },
     "metadata": {},
     "output_type": "display_data"
    },
    {
     "data": {
      "text/html": [
       "<pre>| 263       | 17927.277959 | 0.444382      | 0.449964        |</pre>"
      ],
      "text/plain": [
       "| 263       | 17927.277959 | 0.444382      | 0.449964        |"
      ]
     },
     "metadata": {},
     "output_type": "display_data"
    },
    {
     "data": {
      "text/html": [
       "<pre>| 264       | 17994.387536 | 0.444332      | 0.449920        |</pre>"
      ],
      "text/plain": [
       "| 264       | 17994.387536 | 0.444332      | 0.449920        |"
      ]
     },
     "metadata": {},
     "output_type": "display_data"
    },
    {
     "data": {
      "text/html": [
       "<pre>| 265       | 18059.970729 | 0.444304      | 0.449891        |</pre>"
      ],
      "text/plain": [
       "| 265       | 18059.970729 | 0.444304      | 0.449891        |"
      ]
     },
     "metadata": {},
     "output_type": "display_data"
    },
    {
     "data": {
      "text/html": [
       "<pre>| 266       | 18130.835975 | 0.444278      | 0.449859        |</pre>"
      ],
      "text/plain": [
       "| 266       | 18130.835975 | 0.444278      | 0.449859        |"
      ]
     },
     "metadata": {},
     "output_type": "display_data"
    },
    {
     "data": {
      "text/html": [
       "<pre>| 267       | 18196.326692 | 0.444257      | 0.449851        |</pre>"
      ],
      "text/plain": [
       "| 267       | 18196.326692 | 0.444257      | 0.449851        |"
      ]
     },
     "metadata": {},
     "output_type": "display_data"
    },
    {
     "data": {
      "text/html": [
       "<pre>| 268       | 18262.920902 | 0.444229      | 0.449824        |</pre>"
      ],
      "text/plain": [
       "| 268       | 18262.920902 | 0.444229      | 0.449824        |"
      ]
     },
     "metadata": {},
     "output_type": "display_data"
    },
    {
     "data": {
      "text/html": [
       "<pre>| 269       | 18332.638978 | 0.444179      | 0.449804        |</pre>"
      ],
      "text/plain": [
       "| 269       | 18332.638978 | 0.444179      | 0.449804        |"
      ]
     },
     "metadata": {},
     "output_type": "display_data"
    },
    {
     "data": {
      "text/html": [
       "<pre>| 270       | 18401.281498 | 0.444153      | 0.449780        |</pre>"
      ],
      "text/plain": [
       "| 270       | 18401.281498 | 0.444153      | 0.449780        |"
      ]
     },
     "metadata": {},
     "output_type": "display_data"
    },
    {
     "data": {
      "text/html": [
       "<pre>| 271       | 18470.420268 | 0.444134      | 0.449761        |</pre>"
      ],
      "text/plain": [
       "| 271       | 18470.420268 | 0.444134      | 0.449761        |"
      ]
     },
     "metadata": {},
     "output_type": "display_data"
    },
    {
     "data": {
      "text/html": [
       "<pre>| 272       | 18541.593706 | 0.444114      | 0.449752        |</pre>"
      ],
      "text/plain": [
       "| 272       | 18541.593706 | 0.444114      | 0.449752        |"
      ]
     },
     "metadata": {},
     "output_type": "display_data"
    },
    {
     "data": {
      "text/html": [
       "<pre>| 273       | 18613.484351 | 0.444084      | 0.449737        |</pre>"
      ],
      "text/plain": [
       "| 273       | 18613.484351 | 0.444084      | 0.449737        |"
      ]
     },
     "metadata": {},
     "output_type": "display_data"
    },
    {
     "data": {
      "text/html": [
       "<pre>| 274       | 18684.546780 | 0.444044      | 0.449711        |</pre>"
      ],
      "text/plain": [
       "| 274       | 18684.546780 | 0.444044      | 0.449711        |"
      ]
     },
     "metadata": {},
     "output_type": "display_data"
    },
    {
     "data": {
      "text/html": [
       "<pre>| 275       | 18752.543092 | 0.444013      | 0.449718        |</pre>"
      ],
      "text/plain": [
       "| 275       | 18752.543092 | 0.444013      | 0.449718        |"
      ]
     },
     "metadata": {},
     "output_type": "display_data"
    },
    {
     "data": {
      "text/html": [
       "<pre>| 276       | 18822.972625 | 0.443987      | 0.449706        |</pre>"
      ],
      "text/plain": [
       "| 276       | 18822.972625 | 0.443987      | 0.449706        |"
      ]
     },
     "metadata": {},
     "output_type": "display_data"
    },
    {
     "data": {
      "text/html": [
       "<pre>| 277       | 18890.481870 | 0.443960      | 0.449680        |</pre>"
      ],
      "text/plain": [
       "| 277       | 18890.481870 | 0.443960      | 0.449680        |"
      ]
     },
     "metadata": {},
     "output_type": "display_data"
    },
    {
     "data": {
      "text/html": [
       "<pre>| 278       | 18960.770026 | 0.443921      | 0.449649        |</pre>"
      ],
      "text/plain": [
       "| 278       | 18960.770026 | 0.443921      | 0.449649        |"
      ]
     },
     "metadata": {},
     "output_type": "display_data"
    },
    {
     "data": {
      "text/html": [
       "<pre>| 279       | 19030.692963 | 0.443865      | 0.449610        |</pre>"
      ],
      "text/plain": [
       "| 279       | 19030.692963 | 0.443865      | 0.449610        |"
      ]
     },
     "metadata": {},
     "output_type": "display_data"
    },
    {
     "data": {
      "text/html": [
       "<pre>| 280       | 19097.515596 | 0.443852      | 0.449597        |</pre>"
      ],
      "text/plain": [
       "| 280       | 19097.515596 | 0.443852      | 0.449597        |"
      ]
     },
     "metadata": {},
     "output_type": "display_data"
    },
    {
     "data": {
      "text/html": [
       "<pre>| 281       | 19163.588742 | 0.443814      | 0.449579        |</pre>"
      ],
      "text/plain": [
       "| 281       | 19163.588742 | 0.443814      | 0.449579        |"
      ]
     },
     "metadata": {},
     "output_type": "display_data"
    },
    {
     "data": {
      "text/html": [
       "<pre>| 282       | 19231.651298 | 0.443792      | 0.449531        |</pre>"
      ],
      "text/plain": [
       "| 282       | 19231.651298 | 0.443792      | 0.449531        |"
      ]
     },
     "metadata": {},
     "output_type": "display_data"
    },
    {
     "data": {
      "text/html": [
       "<pre>| 283       | 19299.642457 | 0.443780      | 0.449528        |</pre>"
      ],
      "text/plain": [
       "| 283       | 19299.642457 | 0.443780      | 0.449528        |"
      ]
     },
     "metadata": {},
     "output_type": "display_data"
    },
    {
     "data": {
      "text/html": [
       "<pre>| 284       | 19363.030034 | 0.443762      | 0.449517        |</pre>"
      ],
      "text/plain": [
       "| 284       | 19363.030034 | 0.443762      | 0.449517        |"
      ]
     },
     "metadata": {},
     "output_type": "display_data"
    },
    {
     "data": {
      "text/html": [
       "<pre>| 285       | 19429.873732 | 0.443738      | 0.449496        |</pre>"
      ],
      "text/plain": [
       "| 285       | 19429.873732 | 0.443738      | 0.449496        |"
      ]
     },
     "metadata": {},
     "output_type": "display_data"
    },
    {
     "data": {
      "text/html": [
       "<pre>| 286       | 19492.942687 | 0.443706      | 0.449482        |</pre>"
      ],
      "text/plain": [
       "| 286       | 19492.942687 | 0.443706      | 0.449482        |"
      ]
     },
     "metadata": {},
     "output_type": "display_data"
    },
    {
     "data": {
      "text/html": [
       "<pre>| 287       | 19563.696339 | 0.443687      | 0.449463        |</pre>"
      ],
      "text/plain": [
       "| 287       | 19563.696339 | 0.443687      | 0.449463        |"
      ]
     },
     "metadata": {},
     "output_type": "display_data"
    },
    {
     "data": {
      "text/html": [
       "<pre>| 288       | 19633.235021 | 0.443671      | 0.449460        |</pre>"
      ],
      "text/plain": [
       "| 288       | 19633.235021 | 0.443671      | 0.449460        |"
      ]
     },
     "metadata": {},
     "output_type": "display_data"
    },
    {
     "data": {
      "text/html": [
       "<pre>| 289       | 19700.805665 | 0.443647      | 0.449446        |</pre>"
      ],
      "text/plain": [
       "| 289       | 19700.805665 | 0.443647      | 0.449446        |"
      ]
     },
     "metadata": {},
     "output_type": "display_data"
    },
    {
     "data": {
      "text/html": [
       "<pre>| 290       | 19770.882514 | 0.443598      | 0.449412        |</pre>"
      ],
      "text/plain": [
       "| 290       | 19770.882514 | 0.443598      | 0.449412        |"
      ]
     },
     "metadata": {},
     "output_type": "display_data"
    },
    {
     "data": {
      "text/html": [
       "<pre>| 291       | 19836.725054 | 0.443576      | 0.449421        |</pre>"
      ],
      "text/plain": [
       "| 291       | 19836.725054 | 0.443576      | 0.449421        |"
      ]
     },
     "metadata": {},
     "output_type": "display_data"
    },
    {
     "data": {
      "text/html": [
       "<pre>| 292       | 19907.435156 | 0.443534      | 0.449408        |</pre>"
      ],
      "text/plain": [
       "| 292       | 19907.435156 | 0.443534      | 0.449408        |"
      ]
     },
     "metadata": {},
     "output_type": "display_data"
    },
    {
     "data": {
      "text/html": [
       "<pre>| 293       | 19976.360334 | 0.443497      | 0.449372        |</pre>"
      ],
      "text/plain": [
       "| 293       | 19976.360334 | 0.443497      | 0.449372        |"
      ]
     },
     "metadata": {},
     "output_type": "display_data"
    },
    {
     "data": {
      "text/html": [
       "<pre>| 294       | 20043.994010 | 0.443468      | 0.449392        |</pre>"
      ],
      "text/plain": [
       "| 294       | 20043.994010 | 0.443468      | 0.449392        |"
      ]
     },
     "metadata": {},
     "output_type": "display_data"
    },
    {
     "data": {
      "text/html": [
       "<pre>| 295       | 20113.280432 | 0.443434      | 0.449377        |</pre>"
      ],
      "text/plain": [
       "| 295       | 20113.280432 | 0.443434      | 0.449377        |"
      ]
     },
     "metadata": {},
     "output_type": "display_data"
    },
    {
     "data": {
      "text/html": [
       "<pre>| 296       | 20176.151258 | 0.443411      | 0.449369        |</pre>"
      ],
      "text/plain": [
       "| 296       | 20176.151258 | 0.443411      | 0.449369        |"
      ]
     },
     "metadata": {},
     "output_type": "display_data"
    },
    {
     "data": {
      "text/html": [
       "<pre>| 297       | 20238.089702 | 0.443382      | 0.449345        |</pre>"
      ],
      "text/plain": [
       "| 297       | 20238.089702 | 0.443382      | 0.449345        |"
      ]
     },
     "metadata": {},
     "output_type": "display_data"
    },
    {
     "data": {
      "text/html": [
       "<pre>| 298       | 20308.436104 | 0.443344      | 0.449326        |</pre>"
      ],
      "text/plain": [
       "| 298       | 20308.436104 | 0.443344      | 0.449326        |"
      ]
     },
     "metadata": {},
     "output_type": "display_data"
    },
    {
     "data": {
      "text/html": [
       "<pre>| 299       | 20381.115256 | 0.443306      | 0.449314        |</pre>"
      ],
      "text/plain": [
       "| 299       | 20381.115256 | 0.443306      | 0.449314        |"
      ]
     },
     "metadata": {},
     "output_type": "display_data"
    },
    {
     "data": {
      "text/html": [
       "<pre>| 300       | 20445.741237 | 0.443273      | 0.449297        |</pre>"
      ],
      "text/plain": [
       "| 300       | 20445.741237 | 0.443273      | 0.449297        |"
      ]
     },
     "metadata": {},
     "output_type": "display_data"
    },
    {
     "data": {
      "text/html": [
       "<pre>| 301       | 20515.532759 | 0.443248      | 0.449275        |</pre>"
      ],
      "text/plain": [
       "| 301       | 20515.532759 | 0.443248      | 0.449275        |"
      ]
     },
     "metadata": {},
     "output_type": "display_data"
    },
    {
     "data": {
      "text/html": [
       "<pre>| 302       | 20579.737960 | 0.443228      | 0.449268        |</pre>"
      ],
      "text/plain": [
       "| 302       | 20579.737960 | 0.443228      | 0.449268        |"
      ]
     },
     "metadata": {},
     "output_type": "display_data"
    },
    {
     "data": {
      "text/html": [
       "<pre>| 303       | 20646.464989 | 0.443170      | 0.449221        |</pre>"
      ],
      "text/plain": [
       "| 303       | 20646.464989 | 0.443170      | 0.449221        |"
      ]
     },
     "metadata": {},
     "output_type": "display_data"
    },
    {
     "data": {
      "text/html": [
       "<pre>| 304       | 20714.944225 | 0.443156      | 0.449204        |</pre>"
      ],
      "text/plain": [
       "| 304       | 20714.944225 | 0.443156      | 0.449204        |"
      ]
     },
     "metadata": {},
     "output_type": "display_data"
    },
    {
     "data": {
      "text/html": [
       "<pre>| 305       | 20785.292694 | 0.443132      | 0.449199        |</pre>"
      ],
      "text/plain": [
       "| 305       | 20785.292694 | 0.443132      | 0.449199        |"
      ]
     },
     "metadata": {},
     "output_type": "display_data"
    },
    {
     "data": {
      "text/html": [
       "<pre>| 306       | 20857.992526 | 0.443099      | 0.449186        |</pre>"
      ],
      "text/plain": [
       "| 306       | 20857.992526 | 0.443099      | 0.449186        |"
      ]
     },
     "metadata": {},
     "output_type": "display_data"
    },
    {
     "data": {
      "text/html": [
       "<pre>| 307       | 20927.068915 | 0.443074      | 0.449153        |</pre>"
      ],
      "text/plain": [
       "| 307       | 20927.068915 | 0.443074      | 0.449153        |"
      ]
     },
     "metadata": {},
     "output_type": "display_data"
    },
    {
     "data": {
      "text/html": [
       "<pre>| 308       | 20993.627740 | 0.443053      | 0.449159        |</pre>"
      ],
      "text/plain": [
       "| 308       | 20993.627740 | 0.443053      | 0.449159        |"
      ]
     },
     "metadata": {},
     "output_type": "display_data"
    },
    {
     "data": {
      "text/html": [
       "<pre>| 309       | 21062.004836 | 0.443031      | 0.449137        |</pre>"
      ],
      "text/plain": [
       "| 309       | 21062.004836 | 0.443031      | 0.449137        |"
      ]
     },
     "metadata": {},
     "output_type": "display_data"
    },
    {
     "data": {
      "text/html": [
       "<pre>| 310       | 21131.029303 | 0.443016      | 0.449133        |</pre>"
      ],
      "text/plain": [
       "| 310       | 21131.029303 | 0.443016      | 0.449133        |"
      ]
     },
     "metadata": {},
     "output_type": "display_data"
    },
    {
     "data": {
      "text/html": [
       "<pre>| 311       | 21196.760865 | 0.442985      | 0.449127        |</pre>"
      ],
      "text/plain": [
       "| 311       | 21196.760865 | 0.442985      | 0.449127        |"
      ]
     },
     "metadata": {},
     "output_type": "display_data"
    },
    {
     "data": {
      "text/html": [
       "<pre>| 312       | 21260.530556 | 0.442972      | 0.449129        |</pre>"
      ],
      "text/plain": [
       "| 312       | 21260.530556 | 0.442972      | 0.449129        |"
      ]
     },
     "metadata": {},
     "output_type": "display_data"
    },
    {
     "data": {
      "text/html": [
       "<pre>| 313       | 21326.656751 | 0.442948      | 0.449121        |</pre>"
      ],
      "text/plain": [
       "| 313       | 21326.656751 | 0.442948      | 0.449121        |"
      ]
     },
     "metadata": {},
     "output_type": "display_data"
    },
    {
     "data": {
      "text/html": [
       "<pre>| 314       | 21393.704325 | 0.442924      | 0.449114        |</pre>"
      ],
      "text/plain": [
       "| 314       | 21393.704325 | 0.442924      | 0.449114        |"
      ]
     },
     "metadata": {},
     "output_type": "display_data"
    },
    {
     "data": {
      "text/html": [
       "<pre>| 315       | 21460.058090 | 0.442896      | 0.449117        |</pre>"
      ],
      "text/plain": [
       "| 315       | 21460.058090 | 0.442896      | 0.449117        |"
      ]
     },
     "metadata": {},
     "output_type": "display_data"
    },
    {
     "data": {
      "text/html": [
       "<pre>| 316       | 21526.637395 | 0.442880      | 0.449108        |</pre>"
      ],
      "text/plain": [
       "| 316       | 21526.637395 | 0.442880      | 0.449108        |"
      ]
     },
     "metadata": {},
     "output_type": "display_data"
    },
    {
     "data": {
      "text/html": [
       "<pre>| 317       | 21597.098311 | 0.442859      | 0.449093        |</pre>"
      ],
      "text/plain": [
       "| 317       | 21597.098311 | 0.442859      | 0.449093        |"
      ]
     },
     "metadata": {},
     "output_type": "display_data"
    },
    {
     "data": {
      "text/html": [
       "<pre>| 318       | 21665.751469 | 0.442833      | 0.449085        |</pre>"
      ],
      "text/plain": [
       "| 318       | 21665.751469 | 0.442833      | 0.449085        |"
      ]
     },
     "metadata": {},
     "output_type": "display_data"
    },
    {
     "data": {
      "text/html": [
       "<pre>| 319       | 21732.063577 | 0.442815      | 0.449066        |</pre>"
      ],
      "text/plain": [
       "| 319       | 21732.063577 | 0.442815      | 0.449066        |"
      ]
     },
     "metadata": {},
     "output_type": "display_data"
    },
    {
     "data": {
      "text/html": [
       "<pre>| 320       | 21800.395029 | 0.442794      | 0.449061        |</pre>"
      ],
      "text/plain": [
       "| 320       | 21800.395029 | 0.442794      | 0.449061        |"
      ]
     },
     "metadata": {},
     "output_type": "display_data"
    },
    {
     "data": {
      "text/html": [
       "<pre>| 321       | 21866.137545 | 0.442765      | 0.449025        |</pre>"
      ],
      "text/plain": [
       "| 321       | 21866.137545 | 0.442765      | 0.449025        |"
      ]
     },
     "metadata": {},
     "output_type": "display_data"
    },
    {
     "data": {
      "text/html": [
       "<pre>| 322       | 21931.475776 | 0.442730      | 0.448990        |</pre>"
      ],
      "text/plain": [
       "| 322       | 21931.475776 | 0.442730      | 0.448990        |"
      ]
     },
     "metadata": {},
     "output_type": "display_data"
    },
    {
     "data": {
      "text/html": [
       "<pre>| 323       | 21997.460717 | 0.442706      | 0.448981        |</pre>"
      ],
      "text/plain": [
       "| 323       | 21997.460717 | 0.442706      | 0.448981        |"
      ]
     },
     "metadata": {},
     "output_type": "display_data"
    },
    {
     "data": {
      "text/html": [
       "<pre>| 324       | 22064.745573 | 0.442674      | 0.448936        |</pre>"
      ],
      "text/plain": [
       "| 324       | 22064.745573 | 0.442674      | 0.448936        |"
      ]
     },
     "metadata": {},
     "output_type": "display_data"
    },
    {
     "data": {
      "text/html": [
       "<pre>| 325       | 22130.842410 | 0.442668      | 0.448934        |</pre>"
      ],
      "text/plain": [
       "| 325       | 22130.842410 | 0.442668      | 0.448934        |"
      ]
     },
     "metadata": {},
     "output_type": "display_data"
    },
    {
     "data": {
      "text/html": [
       "<pre>| 326       | 22195.461332 | 0.442650      | 0.448927        |</pre>"
      ],
      "text/plain": [
       "| 326       | 22195.461332 | 0.442650      | 0.448927        |"
      ]
     },
     "metadata": {},
     "output_type": "display_data"
    },
    {
     "data": {
      "text/html": [
       "<pre>| 327       | 22261.705771 | 0.442623      | 0.448920        |</pre>"
      ],
      "text/plain": [
       "| 327       | 22261.705771 | 0.442623      | 0.448920        |"
      ]
     },
     "metadata": {},
     "output_type": "display_data"
    },
    {
     "data": {
      "text/html": [
       "<pre>| 328       | 22326.309649 | 0.442597      | 0.448905        |</pre>"
      ],
      "text/plain": [
       "| 328       | 22326.309649 | 0.442597      | 0.448905        |"
      ]
     },
     "metadata": {},
     "output_type": "display_data"
    },
    {
     "data": {
      "text/html": [
       "<pre>| 329       | 22398.189119 | 0.442574      | 0.448879        |</pre>"
      ],
      "text/plain": [
       "| 329       | 22398.189119 | 0.442574      | 0.448879        |"
      ]
     },
     "metadata": {},
     "output_type": "display_data"
    },
    {
     "data": {
      "text/html": [
       "<pre>| 330       | 22463.579648 | 0.442556      | 0.448876        |</pre>"
      ],
      "text/plain": [
       "| 330       | 22463.579648 | 0.442556      | 0.448876        |"
      ]
     },
     "metadata": {},
     "output_type": "display_data"
    },
    {
     "data": {
      "text/html": [
       "<pre>| 331       | 22528.647820 | 0.442520      | 0.448850        |</pre>"
      ],
      "text/plain": [
       "| 331       | 22528.647820 | 0.442520      | 0.448850        |"
      ]
     },
     "metadata": {},
     "output_type": "display_data"
    },
    {
     "data": {
      "text/html": [
       "<pre>| 332       | 22598.338149 | 0.442483      | 0.448813        |</pre>"
      ],
      "text/plain": [
       "| 332       | 22598.338149 | 0.442483      | 0.448813        |"
      ]
     },
     "metadata": {},
     "output_type": "display_data"
    },
    {
     "data": {
      "text/html": [
       "<pre>| 333       | 22668.051021 | 0.442464      | 0.448798        |</pre>"
      ],
      "text/plain": [
       "| 333       | 22668.051021 | 0.442464      | 0.448798        |"
      ]
     },
     "metadata": {},
     "output_type": "display_data"
    },
    {
     "data": {
      "text/html": [
       "<pre>| 334       | 22739.796408 | 0.442444      | 0.448812        |</pre>"
      ],
      "text/plain": [
       "| 334       | 22739.796408 | 0.442444      | 0.448812        |"
      ]
     },
     "metadata": {},
     "output_type": "display_data"
    },
    {
     "data": {
      "text/html": [
       "<pre>| 335       | 22804.690009 | 0.442422      | 0.448801        |</pre>"
      ],
      "text/plain": [
       "| 335       | 22804.690009 | 0.442422      | 0.448801        |"
      ]
     },
     "metadata": {},
     "output_type": "display_data"
    },
    {
     "data": {
      "text/html": [
       "<pre>| 336       | 22875.040649 | 0.442397      | 0.448791        |</pre>"
      ],
      "text/plain": [
       "| 336       | 22875.040649 | 0.442397      | 0.448791        |"
      ]
     },
     "metadata": {},
     "output_type": "display_data"
    },
    {
     "data": {
      "text/html": [
       "<pre>| 337       | 22944.610456 | 0.442374      | 0.448774        |</pre>"
      ],
      "text/plain": [
       "| 337       | 22944.610456 | 0.442374      | 0.448774        |"
      ]
     },
     "metadata": {},
     "output_type": "display_data"
    },
    {
     "data": {
      "text/html": [
       "<pre>| 338       | 23016.539010 | 0.442345      | 0.448760        |</pre>"
      ],
      "text/plain": [
       "| 338       | 23016.539010 | 0.442345      | 0.448760        |"
      ]
     },
     "metadata": {},
     "output_type": "display_data"
    },
    {
     "data": {
      "text/html": [
       "<pre>| 339       | 23085.615761 | 0.442321      | 0.448752        |</pre>"
      ],
      "text/plain": [
       "| 339       | 23085.615761 | 0.442321      | 0.448752        |"
      ]
     },
     "metadata": {},
     "output_type": "display_data"
    },
    {
     "data": {
      "text/html": [
       "<pre>| 340       | 23159.122392 | 0.442298      | 0.448737        |</pre>"
      ],
      "text/plain": [
       "| 340       | 23159.122392 | 0.442298      | 0.448737        |"
      ]
     },
     "metadata": {},
     "output_type": "display_data"
    },
    {
     "data": {
      "text/html": [
       "<pre>| 341       | 23229.615847 | 0.442261      | 0.448694        |</pre>"
      ],
      "text/plain": [
       "| 341       | 23229.615847 | 0.442261      | 0.448694        |"
      ]
     },
     "metadata": {},
     "output_type": "display_data"
    },
    {
     "data": {
      "text/html": [
       "<pre>| 342       | 23299.628348 | 0.442233      | 0.448668        |</pre>"
      ],
      "text/plain": [
       "| 342       | 23299.628348 | 0.442233      | 0.448668        |"
      ]
     },
     "metadata": {},
     "output_type": "display_data"
    },
    {
     "data": {
      "text/html": [
       "<pre>| 343       | 23371.824758 | 0.442201      | 0.448661        |</pre>"
      ],
      "text/plain": [
       "| 343       | 23371.824758 | 0.442201      | 0.448661        |"
      ]
     },
     "metadata": {},
     "output_type": "display_data"
    },
    {
     "data": {
      "text/html": [
       "<pre>| 344       | 23438.950870 | 0.442181      | 0.448654        |</pre>"
      ],
      "text/plain": [
       "| 344       | 23438.950870 | 0.442181      | 0.448654        |"
      ]
     },
     "metadata": {},
     "output_type": "display_data"
    },
    {
     "data": {
      "text/html": [
       "<pre>| 345       | 23505.871055 | 0.442155      | 0.448639        |</pre>"
      ],
      "text/plain": [
       "| 345       | 23505.871055 | 0.442155      | 0.448639        |"
      ]
     },
     "metadata": {},
     "output_type": "display_data"
    },
    {
     "data": {
      "text/html": [
       "<pre>| 346       | 23573.891682 | 0.442136      | 0.448624        |</pre>"
      ],
      "text/plain": [
       "| 346       | 23573.891682 | 0.442136      | 0.448624        |"
      ]
     },
     "metadata": {},
     "output_type": "display_data"
    },
    {
     "data": {
      "text/html": [
       "<pre>| 347       | 23643.573895 | 0.442110      | 0.448628        |</pre>"
      ],
      "text/plain": [
       "| 347       | 23643.573895 | 0.442110      | 0.448628        |"
      ]
     },
     "metadata": {},
     "output_type": "display_data"
    },
    {
     "data": {
      "text/html": [
       "<pre>| 348       | 23708.114411 | 0.442083      | 0.448614        |</pre>"
      ],
      "text/plain": [
       "| 348       | 23708.114411 | 0.442083      | 0.448614        |"
      ]
     },
     "metadata": {},
     "output_type": "display_data"
    },
    {
     "data": {
      "text/html": [
       "<pre>| 349       | 23776.301909 | 0.442059      | 0.448607        |</pre>"
      ],
      "text/plain": [
       "| 349       | 23776.301909 | 0.442059      | 0.448607        |"
      ]
     },
     "metadata": {},
     "output_type": "display_data"
    },
    {
     "data": {
      "text/html": [
       "<pre>| 350       | 23843.575101 | 0.442025      | 0.448594        |</pre>"
      ],
      "text/plain": [
       "| 350       | 23843.575101 | 0.442025      | 0.448594        |"
      ]
     },
     "metadata": {},
     "output_type": "display_data"
    },
    {
     "data": {
      "text/html": [
       "<pre>| 351       | 23913.092317 | 0.441998      | 0.448591        |</pre>"
      ],
      "text/plain": [
       "| 351       | 23913.092317 | 0.441998      | 0.448591        |"
      ]
     },
     "metadata": {},
     "output_type": "display_data"
    },
    {
     "data": {
      "text/html": [
       "<pre>| 352       | 23980.951090 | 0.441976      | 0.448597        |</pre>"
      ],
      "text/plain": [
       "| 352       | 23980.951090 | 0.441976      | 0.448597        |"
      ]
     },
     "metadata": {},
     "output_type": "display_data"
    },
    {
     "data": {
      "text/html": [
       "<pre>| 353       | 24049.175251 | 0.441956      | 0.448568        |</pre>"
      ],
      "text/plain": [
       "| 353       | 24049.175251 | 0.441956      | 0.448568        |"
      ]
     },
     "metadata": {},
     "output_type": "display_data"
    },
    {
     "data": {
      "text/html": [
       "<pre>| 354       | 24121.562212 | 0.441929      | 0.448549        |</pre>"
      ],
      "text/plain": [
       "| 354       | 24121.562212 | 0.441929      | 0.448549        |"
      ]
     },
     "metadata": {},
     "output_type": "display_data"
    },
    {
     "data": {
      "text/html": [
       "<pre>| 355       | 24192.089028 | 0.441907      | 0.448545        |</pre>"
      ],
      "text/plain": [
       "| 355       | 24192.089028 | 0.441907      | 0.448545        |"
      ]
     },
     "metadata": {},
     "output_type": "display_data"
    },
    {
     "data": {
      "text/html": [
       "<pre>| 356       | 24258.500843 | 0.441893      | 0.448542        |</pre>"
      ],
      "text/plain": [
       "| 356       | 24258.500843 | 0.441893      | 0.448542        |"
      ]
     },
     "metadata": {},
     "output_type": "display_data"
    },
    {
     "data": {
      "text/html": [
       "<pre>| 357       | 24326.724139 | 0.441871      | 0.448534        |</pre>"
      ],
      "text/plain": [
       "| 357       | 24326.724139 | 0.441871      | 0.448534        |"
      ]
     },
     "metadata": {},
     "output_type": "display_data"
    },
    {
     "data": {
      "text/html": [
       "<pre>| 358       | 24397.354799 | 0.441854      | 0.448535        |</pre>"
      ],
      "text/plain": [
       "| 358       | 24397.354799 | 0.441854      | 0.448535        |"
      ]
     },
     "metadata": {},
     "output_type": "display_data"
    },
    {
     "data": {
      "text/html": [
       "<pre>| 359       | 24467.717053 | 0.441836      | 0.448528        |</pre>"
      ],
      "text/plain": [
       "| 359       | 24467.717053 | 0.441836      | 0.448528        |"
      ]
     },
     "metadata": {},
     "output_type": "display_data"
    },
    {
     "data": {
      "text/html": [
       "<pre>| 360       | 24537.399165 | 0.441801      | 0.448495        |</pre>"
      ],
      "text/plain": [
       "| 360       | 24537.399165 | 0.441801      | 0.448495        |"
      ]
     },
     "metadata": {},
     "output_type": "display_data"
    },
    {
     "data": {
      "text/html": [
       "<pre>| 361       | 24604.343114 | 0.441771      | 0.448488        |</pre>"
      ],
      "text/plain": [
       "| 361       | 24604.343114 | 0.441771      | 0.448488        |"
      ]
     },
     "metadata": {},
     "output_type": "display_data"
    },
    {
     "data": {
      "text/html": [
       "<pre>| 362       | 24671.998842 | 0.441756      | 0.448482        |</pre>"
      ],
      "text/plain": [
       "| 362       | 24671.998842 | 0.441756      | 0.448482        |"
      ]
     },
     "metadata": {},
     "output_type": "display_data"
    },
    {
     "data": {
      "text/html": [
       "<pre>| 363       | 24739.525812 | 0.441740      | 0.448487        |</pre>"
      ],
      "text/plain": [
       "| 363       | 24739.525812 | 0.441740      | 0.448487        |"
      ]
     },
     "metadata": {},
     "output_type": "display_data"
    },
    {
     "data": {
      "text/html": [
       "<pre>| 364       | 24804.455700 | 0.441728      | 0.448474        |</pre>"
      ],
      "text/plain": [
       "| 364       | 24804.455700 | 0.441728      | 0.448474        |"
      ]
     },
     "metadata": {},
     "output_type": "display_data"
    },
    {
     "data": {
      "text/html": [
       "<pre>| 365       | 24873.405326 | 0.441707      | 0.448465        |</pre>"
      ],
      "text/plain": [
       "| 365       | 24873.405326 | 0.441707      | 0.448465        |"
      ]
     },
     "metadata": {},
     "output_type": "display_data"
    },
    {
     "data": {
      "text/html": [
       "<pre>| 366       | 24941.890149 | 0.441691      | 0.448468        |</pre>"
      ],
      "text/plain": [
       "| 366       | 24941.890149 | 0.441691      | 0.448468        |"
      ]
     },
     "metadata": {},
     "output_type": "display_data"
    },
    {
     "data": {
      "text/html": [
       "<pre>| 367       | 25009.040307 | 0.441665      | 0.448436        |</pre>"
      ],
      "text/plain": [
       "| 367       | 25009.040307 | 0.441665      | 0.448436        |"
      ]
     },
     "metadata": {},
     "output_type": "display_data"
    },
    {
     "data": {
      "text/html": [
       "<pre>| 368       | 25075.490877 | 0.441650      | 0.448437        |</pre>"
      ],
      "text/plain": [
       "| 368       | 25075.490877 | 0.441650      | 0.448437        |"
      ]
     },
     "metadata": {},
     "output_type": "display_data"
    },
    {
     "data": {
      "text/html": [
       "<pre>| 369       | 25145.702571 | 0.441615      | 0.448403        |</pre>"
      ],
      "text/plain": [
       "| 369       | 25145.702571 | 0.441615      | 0.448403        |"
      ]
     },
     "metadata": {},
     "output_type": "display_data"
    },
    {
     "data": {
      "text/html": [
       "<pre>| 370       | 25213.165786 | 0.441579      | 0.448373        |</pre>"
      ],
      "text/plain": [
       "| 370       | 25213.165786 | 0.441579      | 0.448373        |"
      ]
     },
     "metadata": {},
     "output_type": "display_data"
    },
    {
     "data": {
      "text/html": [
       "<pre>| 371       | 25282.420197 | 0.441546      | 0.448346        |</pre>"
      ],
      "text/plain": [
       "| 371       | 25282.420197 | 0.441546      | 0.448346        |"
      ]
     },
     "metadata": {},
     "output_type": "display_data"
    },
    {
     "data": {
      "text/html": [
       "<pre>| 372       | 25348.838570 | 0.441523      | 0.448335        |</pre>"
      ],
      "text/plain": [
       "| 372       | 25348.838570 | 0.441523      | 0.448335        |"
      ]
     },
     "metadata": {},
     "output_type": "display_data"
    },
    {
     "data": {
      "text/html": [
       "<pre>| 373       | 25417.911080 | 0.441517      | 0.448334        |</pre>"
      ],
      "text/plain": [
       "| 373       | 25417.911080 | 0.441517      | 0.448334        |"
      ]
     },
     "metadata": {},
     "output_type": "display_data"
    },
    {
     "data": {
      "text/html": [
       "<pre>| 374       | 25487.022127 | 0.441499      | 0.448323        |</pre>"
      ],
      "text/plain": [
       "| 374       | 25487.022127 | 0.441499      | 0.448323        |"
      ]
     },
     "metadata": {},
     "output_type": "display_data"
    },
    {
     "data": {
      "text/html": [
       "<pre>| 375       | 25551.998150 | 0.441488      | 0.448324        |</pre>"
      ],
      "text/plain": [
       "| 375       | 25551.998150 | 0.441488      | 0.448324        |"
      ]
     },
     "metadata": {},
     "output_type": "display_data"
    },
    {
     "data": {
      "text/html": [
       "<pre>| 376       | 25618.035956 | 0.441472      | 0.448325        |</pre>"
      ],
      "text/plain": [
       "| 376       | 25618.035956 | 0.441472      | 0.448325        |"
      ]
     },
     "metadata": {},
     "output_type": "display_data"
    },
    {
     "data": {
      "text/html": [
       "<pre>| 377       | 25684.381754 | 0.441450      | 0.448313        |</pre>"
      ],
      "text/plain": [
       "| 377       | 25684.381754 | 0.441450      | 0.448313        |"
      ]
     },
     "metadata": {},
     "output_type": "display_data"
    },
    {
     "data": {
      "text/html": [
       "<pre>| 378       | 25755.733001 | 0.441423      | 0.448305        |</pre>"
      ],
      "text/plain": [
       "| 378       | 25755.733001 | 0.441423      | 0.448305        |"
      ]
     },
     "metadata": {},
     "output_type": "display_data"
    },
    {
     "data": {
      "text/html": [
       "<pre>| 379       | 25826.040767 | 0.441384      | 0.448266        |</pre>"
      ],
      "text/plain": [
       "| 379       | 25826.040767 | 0.441384      | 0.448266        |"
      ]
     },
     "metadata": {},
     "output_type": "display_data"
    },
    {
     "data": {
      "text/html": [
       "<pre>| 380       | 25895.289623 | 0.441365      | 0.448278        |</pre>"
      ],
      "text/plain": [
       "| 380       | 25895.289623 | 0.441365      | 0.448278        |"
      ]
     },
     "metadata": {},
     "output_type": "display_data"
    },
    {
     "data": {
      "text/html": [
       "<pre>| 381       | 25963.883992 | 0.441344      | 0.448288        |</pre>"
      ],
      "text/plain": [
       "| 381       | 25963.883992 | 0.441344      | 0.448288        |"
      ]
     },
     "metadata": {},
     "output_type": "display_data"
    },
    {
     "data": {
      "text/html": [
       "<pre>| 382       | 26031.984012 | 0.441318      | 0.448272        |</pre>"
      ],
      "text/plain": [
       "| 382       | 26031.984012 | 0.441318      | 0.448272        |"
      ]
     },
     "metadata": {},
     "output_type": "display_data"
    },
    {
     "data": {
      "text/html": [
       "<pre>| 383       | 26102.600428 | 0.441285      | 0.448259        |</pre>"
      ],
      "text/plain": [
       "| 383       | 26102.600428 | 0.441285      | 0.448259        |"
      ]
     },
     "metadata": {},
     "output_type": "display_data"
    },
    {
     "data": {
      "text/html": [
       "<pre>| 384       | 26168.043779 | 0.441278      | 0.448249        |</pre>"
      ],
      "text/plain": [
       "| 384       | 26168.043779 | 0.441278      | 0.448249        |"
      ]
     },
     "metadata": {},
     "output_type": "display_data"
    },
    {
     "data": {
      "text/html": [
       "<pre>| 385       | 26236.159553 | 0.441254      | 0.448227        |</pre>"
      ],
      "text/plain": [
       "| 385       | 26236.159553 | 0.441254      | 0.448227        |"
      ]
     },
     "metadata": {},
     "output_type": "display_data"
    },
    {
     "data": {
      "text/html": [
       "<pre>| 386       | 26303.052766 | 0.441240      | 0.448221        |</pre>"
      ],
      "text/plain": [
       "| 386       | 26303.052766 | 0.441240      | 0.448221        |"
      ]
     },
     "metadata": {},
     "output_type": "display_data"
    },
    {
     "data": {
      "text/html": [
       "<pre>| 387       | 26375.311790 | 0.441222      | 0.448219        |</pre>"
      ],
      "text/plain": [
       "| 387       | 26375.311790 | 0.441222      | 0.448219        |"
      ]
     },
     "metadata": {},
     "output_type": "display_data"
    },
    {
     "data": {
      "text/html": [
       "<pre>| 388       | 26444.861985 | 0.441202      | 0.448215        |</pre>"
      ],
      "text/plain": [
       "| 388       | 26444.861985 | 0.441202      | 0.448215        |"
      ]
     },
     "metadata": {},
     "output_type": "display_data"
    },
    {
     "data": {
      "text/html": [
       "<pre>| 389       | 26513.452317 | 0.441187      | 0.448227        |</pre>"
      ],
      "text/plain": [
       "| 389       | 26513.452317 | 0.441187      | 0.448227        |"
      ]
     },
     "metadata": {},
     "output_type": "display_data"
    },
    {
     "data": {
      "text/html": [
       "<pre>| 390       | 26581.399293 | 0.441170      | 0.448206        |</pre>"
      ],
      "text/plain": [
       "| 390       | 26581.399293 | 0.441170      | 0.448206        |"
      ]
     },
     "metadata": {},
     "output_type": "display_data"
    },
    {
     "data": {
      "text/html": [
       "<pre>| 391       | 26647.515880 | 0.441142      | 0.448210        |</pre>"
      ],
      "text/plain": [
       "| 391       | 26647.515880 | 0.441142      | 0.448210        |"
      ]
     },
     "metadata": {},
     "output_type": "display_data"
    },
    {
     "data": {
      "text/html": [
       "<pre>| 392       | 26719.836958 | 0.441127      | 0.448201        |</pre>"
      ],
      "text/plain": [
       "| 392       | 26719.836958 | 0.441127      | 0.448201        |"
      ]
     },
     "metadata": {},
     "output_type": "display_data"
    },
    {
     "data": {
      "text/html": [
       "<pre>| 393       | 26786.240090 | 0.441113      | 0.448192        |</pre>"
      ],
      "text/plain": [
       "| 393       | 26786.240090 | 0.441113      | 0.448192        |"
      ]
     },
     "metadata": {},
     "output_type": "display_data"
    },
    {
     "data": {
      "text/html": [
       "<pre>| 394       | 26856.241378 | 0.441092      | 0.448191        |</pre>"
      ],
      "text/plain": [
       "| 394       | 26856.241378 | 0.441092      | 0.448191        |"
      ]
     },
     "metadata": {},
     "output_type": "display_data"
    },
    {
     "data": {
      "text/html": [
       "<pre>| 395       | 26928.738812 | 0.441070      | 0.448182        |</pre>"
      ],
      "text/plain": [
       "| 395       | 26928.738812 | 0.441070      | 0.448182        |"
      ]
     },
     "metadata": {},
     "output_type": "display_data"
    },
    {
     "data": {
      "text/html": [
       "<pre>| 396       | 26996.432320 | 0.441038      | 0.448161        |</pre>"
      ],
      "text/plain": [
       "| 396       | 26996.432320 | 0.441038      | 0.448161        |"
      ]
     },
     "metadata": {},
     "output_type": "display_data"
    },
    {
     "data": {
      "text/html": [
       "<pre>| 397       | 27062.646773 | 0.441018      | 0.448142        |</pre>"
      ],
      "text/plain": [
       "| 397       | 27062.646773 | 0.441018      | 0.448142        |"
      ]
     },
     "metadata": {},
     "output_type": "display_data"
    },
    {
     "data": {
      "text/html": [
       "<pre>| 398       | 27130.164348 | 0.440988      | 0.448117        |</pre>"
      ],
      "text/plain": [
       "| 398       | 27130.164348 | 0.440988      | 0.448117        |"
      ]
     },
     "metadata": {},
     "output_type": "display_data"
    },
    {
     "data": {
      "text/html": [
       "<pre>| 399       | 27202.326940 | 0.440966      | 0.448106        |</pre>"
      ],
      "text/plain": [
       "| 399       | 27202.326940 | 0.440966      | 0.448106        |"
      ]
     },
     "metadata": {},
     "output_type": "display_data"
    },
    {
     "data": {
      "text/html": [
       "<pre>| 400       | 27269.355123 | 0.440921      | 0.448059        |</pre>"
      ],
      "text/plain": [
       "| 400       | 27269.355123 | 0.440921      | 0.448059        |"
      ]
     },
     "metadata": {},
     "output_type": "display_data"
    },
    {
     "data": {
      "text/html": [
       "<pre>| 401       | 27333.538317 | 0.440891      | 0.448040        |</pre>"
      ],
      "text/plain": [
       "| 401       | 27333.538317 | 0.440891      | 0.448040        |"
      ]
     },
     "metadata": {},
     "output_type": "display_data"
    },
    {
     "data": {
      "text/html": [
       "<pre>| 402       | 27399.562962 | 0.440866      | 0.448036        |</pre>"
      ],
      "text/plain": [
       "| 402       | 27399.562962 | 0.440866      | 0.448036        |"
      ]
     },
     "metadata": {},
     "output_type": "display_data"
    },
    {
     "data": {
      "text/html": [
       "<pre>| 403       | 27464.335171 | 0.440851      | 0.448035        |</pre>"
      ],
      "text/plain": [
       "| 403       | 27464.335171 | 0.440851      | 0.448035        |"
      ]
     },
     "metadata": {},
     "output_type": "display_data"
    },
    {
     "data": {
      "text/html": [
       "<pre>| 404       | 27533.287827 | 0.440834      | 0.448017        |</pre>"
      ],
      "text/plain": [
       "| 404       | 27533.287827 | 0.440834      | 0.448017        |"
      ]
     },
     "metadata": {},
     "output_type": "display_data"
    },
    {
     "data": {
      "text/html": [
       "<pre>| 405       | 27602.588023 | 0.440815      | 0.448025        |</pre>"
      ],
      "text/plain": [
       "| 405       | 27602.588023 | 0.440815      | 0.448025        |"
      ]
     },
     "metadata": {},
     "output_type": "display_data"
    },
    {
     "data": {
      "text/html": [
       "<pre>| 406       | 27668.094657 | 0.440805      | 0.448018        |</pre>"
      ],
      "text/plain": [
       "| 406       | 27668.094657 | 0.440805      | 0.448018        |"
      ]
     },
     "metadata": {},
     "output_type": "display_data"
    },
    {
     "data": {
      "text/html": [
       "<pre>| 407       | 27737.214630 | 0.440780      | 0.448018        |</pre>"
      ],
      "text/plain": [
       "| 407       | 27737.214630 | 0.440780      | 0.448018        |"
      ]
     },
     "metadata": {},
     "output_type": "display_data"
    },
    {
     "data": {
      "text/html": [
       "<pre>| 408       | 27803.000809 | 0.440765      | 0.448016        |</pre>"
      ],
      "text/plain": [
       "| 408       | 27803.000809 | 0.440765      | 0.448016        |"
      ]
     },
     "metadata": {},
     "output_type": "display_data"
    },
    {
     "data": {
      "text/html": [
       "<pre>| 409       | 27872.747768 | 0.440745      | 0.448019        |</pre>"
      ],
      "text/plain": [
       "| 409       | 27872.747768 | 0.440745      | 0.448019        |"
      ]
     },
     "metadata": {},
     "output_type": "display_data"
    },
    {
     "data": {
      "text/html": [
       "<pre>| 410       | 27941.836637 | 0.440718      | 0.448003        |</pre>"
      ],
      "text/plain": [
       "| 410       | 27941.836637 | 0.440718      | 0.448003        |"
      ]
     },
     "metadata": {},
     "output_type": "display_data"
    },
    {
     "data": {
      "text/html": [
       "<pre>| 411       | 28006.048566 | 0.440701      | 0.447984        |</pre>"
      ],
      "text/plain": [
       "| 411       | 28006.048566 | 0.440701      | 0.447984        |"
      ]
     },
     "metadata": {},
     "output_type": "display_data"
    },
    {
     "data": {
      "text/html": [
       "<pre>| 412       | 28079.125848 | 0.440679      | 0.447975        |</pre>"
      ],
      "text/plain": [
       "| 412       | 28079.125848 | 0.440679      | 0.447975        |"
      ]
     },
     "metadata": {},
     "output_type": "display_data"
    },
    {
     "data": {
      "text/html": [
       "<pre>| 413       | 28145.963411 | 0.440666      | 0.447977        |</pre>"
      ],
      "text/plain": [
       "| 413       | 28145.963411 | 0.440666      | 0.447977        |"
      ]
     },
     "metadata": {},
     "output_type": "display_data"
    },
    {
     "data": {
      "text/html": [
       "<pre>| 414       | 28215.740796 | 0.440649      | 0.447965        |</pre>"
      ],
      "text/plain": [
       "| 414       | 28215.740796 | 0.440649      | 0.447965        |"
      ]
     },
     "metadata": {},
     "output_type": "display_data"
    },
    {
     "data": {
      "text/html": [
       "<pre>| 415       | 28282.046763 | 0.440629      | 0.447969        |</pre>"
      ],
      "text/plain": [
       "| 415       | 28282.046763 | 0.440629      | 0.447969        |"
      ]
     },
     "metadata": {},
     "output_type": "display_data"
    },
    {
     "data": {
      "text/html": [
       "<pre>| 416       | 28349.899204 | 0.440614      | 0.447957        |</pre>"
      ],
      "text/plain": [
       "| 416       | 28349.899204 | 0.440614      | 0.447957        |"
      ]
     },
     "metadata": {},
     "output_type": "display_data"
    },
    {
     "data": {
      "text/html": [
       "<pre>| 417       | 28418.699521 | 0.440579      | 0.447942        |</pre>"
      ],
      "text/plain": [
       "| 417       | 28418.699521 | 0.440579      | 0.447942        |"
      ]
     },
     "metadata": {},
     "output_type": "display_data"
    },
    {
     "data": {
      "text/html": [
       "<pre>| 418       | 28487.602831 | 0.440550      | 0.447926        |</pre>"
      ],
      "text/plain": [
       "| 418       | 28487.602831 | 0.440550      | 0.447926        |"
      ]
     },
     "metadata": {},
     "output_type": "display_data"
    },
    {
     "data": {
      "text/html": [
       "<pre>| 419       | 28552.645598 | 0.440543      | 0.447927        |</pre>"
      ],
      "text/plain": [
       "| 419       | 28552.645598 | 0.440543      | 0.447927        |"
      ]
     },
     "metadata": {},
     "output_type": "display_data"
    },
    {
     "data": {
      "text/html": [
       "<pre>| 420       | 28620.871202 | 0.440512      | 0.447891        |</pre>"
      ],
      "text/plain": [
       "| 420       | 28620.871202 | 0.440512      | 0.447891        |"
      ]
     },
     "metadata": {},
     "output_type": "display_data"
    },
    {
     "data": {
      "text/html": [
       "<pre>| 421       | 28687.159272 | 0.440500      | 0.447886        |</pre>"
      ],
      "text/plain": [
       "| 421       | 28687.159272 | 0.440500      | 0.447886        |"
      ]
     },
     "metadata": {},
     "output_type": "display_data"
    },
    {
     "data": {
      "text/html": [
       "<pre>| 422       | 28754.309338 | 0.440477      | 0.447875        |</pre>"
      ],
      "text/plain": [
       "| 422       | 28754.309338 | 0.440477      | 0.447875        |"
      ]
     },
     "metadata": {},
     "output_type": "display_data"
    },
    {
     "data": {
      "text/html": [
       "<pre>| 423       | 28820.306588 | 0.440459      | 0.447873        |</pre>"
      ],
      "text/plain": [
       "| 423       | 28820.306588 | 0.440459      | 0.447873        |"
      ]
     },
     "metadata": {},
     "output_type": "display_data"
    },
    {
     "data": {
      "text/html": [
       "<pre>| 424       | 28886.322605 | 0.440423      | 0.447865        |</pre>"
      ],
      "text/plain": [
       "| 424       | 28886.322605 | 0.440423      | 0.447865        |"
      ]
     },
     "metadata": {},
     "output_type": "display_data"
    },
    {
     "data": {
      "text/html": [
       "<pre>| 425       | 28955.928346 | 0.440409      | 0.447816        |</pre>"
      ],
      "text/plain": [
       "| 425       | 28955.928346 | 0.440409      | 0.447816        |"
      ]
     },
     "metadata": {},
     "output_type": "display_data"
    },
    {
     "data": {
      "text/html": [
       "<pre>| 426       | 29022.189721 | 0.440395      | 0.447813        |</pre>"
      ],
      "text/plain": [
       "| 426       | 29022.189721 | 0.440395      | 0.447813        |"
      ]
     },
     "metadata": {},
     "output_type": "display_data"
    },
    {
     "data": {
      "text/html": [
       "<pre>| 427       | 29091.765413 | 0.440380      | 0.447805        |</pre>"
      ],
      "text/plain": [
       "| 427       | 29091.765413 | 0.440380      | 0.447805        |"
      ]
     },
     "metadata": {},
     "output_type": "display_data"
    },
    {
     "data": {
      "text/html": [
       "<pre>| 428       | 29161.499084 | 0.440347      | 0.447803        |</pre>"
      ],
      "text/plain": [
       "| 428       | 29161.499084 | 0.440347      | 0.447803        |"
      ]
     },
     "metadata": {},
     "output_type": "display_data"
    },
    {
     "data": {
      "text/html": [
       "<pre>| 429       | 29232.317971 | 0.440327      | 0.447795        |</pre>"
      ],
      "text/plain": [
       "| 429       | 29232.317971 | 0.440327      | 0.447795        |"
      ]
     },
     "metadata": {},
     "output_type": "display_data"
    },
    {
     "data": {
      "text/html": [
       "<pre>| 430       | 29304.857563 | 0.440310      | 0.447790        |</pre>"
      ],
      "text/plain": [
       "| 430       | 29304.857563 | 0.440310      | 0.447790        |"
      ]
     },
     "metadata": {},
     "output_type": "display_data"
    },
    {
     "data": {
      "text/html": [
       "<pre>| 431       | 29371.825772 | 0.440294      | 0.447784        |</pre>"
      ],
      "text/plain": [
       "| 431       | 29371.825772 | 0.440294      | 0.447784        |"
      ]
     },
     "metadata": {},
     "output_type": "display_data"
    },
    {
     "data": {
      "text/html": [
       "<pre>| 432       | 29443.098361 | 0.440263      | 0.447771        |</pre>"
      ],
      "text/plain": [
       "| 432       | 29443.098361 | 0.440263      | 0.447771        |"
      ]
     },
     "metadata": {},
     "output_type": "display_data"
    },
    {
     "data": {
      "text/html": [
       "<pre>| 433       | 29512.967418 | 0.440248      | 0.447766        |</pre>"
      ],
      "text/plain": [
       "| 433       | 29512.967418 | 0.440248      | 0.447766        |"
      ]
     },
     "metadata": {},
     "output_type": "display_data"
    },
    {
     "data": {
      "text/html": [
       "<pre>| 434       | 29584.068248 | 0.440220      | 0.447755        |</pre>"
      ],
      "text/plain": [
       "| 434       | 29584.068248 | 0.440220      | 0.447755        |"
      ]
     },
     "metadata": {},
     "output_type": "display_data"
    },
    {
     "data": {
      "text/html": [
       "<pre>| 435       | 29654.080104 | 0.440198      | 0.447725        |</pre>"
      ],
      "text/plain": [
       "| 435       | 29654.080104 | 0.440198      | 0.447725        |"
      ]
     },
     "metadata": {},
     "output_type": "display_data"
    },
    {
     "data": {
      "text/html": [
       "<pre>| 436       | 29724.757025 | 0.440172      | 0.447716        |</pre>"
      ],
      "text/plain": [
       "| 436       | 29724.757025 | 0.440172      | 0.447716        |"
      ]
     },
     "metadata": {},
     "output_type": "display_data"
    },
    {
     "data": {
      "text/html": [
       "<pre>| 437       | 29793.032737 | 0.440155      | 0.447708        |</pre>"
      ],
      "text/plain": [
       "| 437       | 29793.032737 | 0.440155      | 0.447708        |"
      ]
     },
     "metadata": {},
     "output_type": "display_data"
    },
    {
     "data": {
      "text/html": [
       "<pre>| 438       | 29859.082379 | 0.440142      | 0.447705        |</pre>"
      ],
      "text/plain": [
       "| 438       | 29859.082379 | 0.440142      | 0.447705        |"
      ]
     },
     "metadata": {},
     "output_type": "display_data"
    },
    {
     "data": {
      "text/html": [
       "<pre>| 439       | 29931.692346 | 0.440117      | 0.447698        |</pre>"
      ],
      "text/plain": [
       "| 439       | 29931.692346 | 0.440117      | 0.447698        |"
      ]
     },
     "metadata": {},
     "output_type": "display_data"
    },
    {
     "data": {
      "text/html": [
       "<pre>| 440       | 30001.338215 | 0.440088      | 0.447701        |</pre>"
      ],
      "text/plain": [
       "| 440       | 30001.338215 | 0.440088      | 0.447701        |"
      ]
     },
     "metadata": {},
     "output_type": "display_data"
    },
    {
     "data": {
      "text/html": [
       "<pre>| 441       | 30070.843802 | 0.440066      | 0.447699        |</pre>"
      ],
      "text/plain": [
       "| 441       | 30070.843802 | 0.440066      | 0.447699        |"
      ]
     },
     "metadata": {},
     "output_type": "display_data"
    },
    {
     "data": {
      "text/html": [
       "<pre>| 442       | 30135.419684 | 0.440050      | 0.447708        |</pre>"
      ],
      "text/plain": [
       "| 442       | 30135.419684 | 0.440050      | 0.447708        |"
      ]
     },
     "metadata": {},
     "output_type": "display_data"
    },
    {
     "data": {
      "text/html": [
       "<pre>| 443       | 30203.222748 | 0.440031      | 0.447681        |</pre>"
      ],
      "text/plain": [
       "| 443       | 30203.222748 | 0.440031      | 0.447681        |"
      ]
     },
     "metadata": {},
     "output_type": "display_data"
    },
    {
     "data": {
      "text/html": [
       "<pre>| 444       | 30272.139966 | 0.440009      | 0.447662        |</pre>"
      ],
      "text/plain": [
       "| 444       | 30272.139966 | 0.440009      | 0.447662        |"
      ]
     },
     "metadata": {},
     "output_type": "display_data"
    },
    {
     "data": {
      "text/html": [
       "<pre>| 445       | 30336.127617 | 0.439990      | 0.447654        |</pre>"
      ],
      "text/plain": [
       "| 445       | 30336.127617 | 0.439990      | 0.447654        |"
      ]
     },
     "metadata": {},
     "output_type": "display_data"
    },
    {
     "data": {
      "text/html": [
       "<pre>| 446       | 30405.434460 | 0.439973      | 0.447666        |</pre>"
      ],
      "text/plain": [
       "| 446       | 30405.434460 | 0.439973      | 0.447666        |"
      ]
     },
     "metadata": {},
     "output_type": "display_data"
    },
    {
     "data": {
      "text/html": [
       "<pre>| 447       | 30475.044304 | 0.439943      | 0.447653        |</pre>"
      ],
      "text/plain": [
       "| 447       | 30475.044304 | 0.439943      | 0.447653        |"
      ]
     },
     "metadata": {},
     "output_type": "display_data"
    },
    {
     "data": {
      "text/html": [
       "<pre>| 448       | 30545.894720 | 0.439923      | 0.447645        |</pre>"
      ],
      "text/plain": [
       "| 448       | 30545.894720 | 0.439923      | 0.447645        |"
      ]
     },
     "metadata": {},
     "output_type": "display_data"
    },
    {
     "data": {
      "text/html": [
       "<pre>| 449       | 30612.181260 | 0.439904      | 0.447645        |</pre>"
      ],
      "text/plain": [
       "| 449       | 30612.181260 | 0.439904      | 0.447645        |"
      ]
     },
     "metadata": {},
     "output_type": "display_data"
    },
    {
     "data": {
      "text/html": [
       "<pre>| 450       | 30681.804359 | 0.439869      | 0.447615        |</pre>"
      ],
      "text/plain": [
       "| 450       | 30681.804359 | 0.439869      | 0.447615        |"
      ]
     },
     "metadata": {},
     "output_type": "display_data"
    },
    {
     "data": {
      "text/html": [
       "<pre>| 451       | 30753.602188 | 0.439842      | 0.447608        |</pre>"
      ],
      "text/plain": [
       "| 451       | 30753.602188 | 0.439842      | 0.447608        |"
      ]
     },
     "metadata": {},
     "output_type": "display_data"
    },
    {
     "data": {
      "text/html": [
       "<pre>| 452       | 30825.594469 | 0.439830      | 0.447604        |</pre>"
      ],
      "text/plain": [
       "| 452       | 30825.594469 | 0.439830      | 0.447604        |"
      ]
     },
     "metadata": {},
     "output_type": "display_data"
    },
    {
     "data": {
      "text/html": [
       "<pre>| 453       | 30900.057342 | 0.439809      | 0.447590        |</pre>"
      ],
      "text/plain": [
       "| 453       | 30900.057342 | 0.439809      | 0.447590        |"
      ]
     },
     "metadata": {},
     "output_type": "display_data"
    },
    {
     "data": {
      "text/html": [
       "<pre>| 454       | 30968.700433 | 0.439790      | 0.447539        |</pre>"
      ],
      "text/plain": [
       "| 454       | 30968.700433 | 0.439790      | 0.447539        |"
      ]
     },
     "metadata": {},
     "output_type": "display_data"
    },
    {
     "data": {
      "text/html": [
       "<pre>| 455       | 31038.018817 | 0.439775      | 0.447516        |</pre>"
      ],
      "text/plain": [
       "| 455       | 31038.018817 | 0.439775      | 0.447516        |"
      ]
     },
     "metadata": {},
     "output_type": "display_data"
    },
    {
     "data": {
      "text/html": [
       "<pre>| 456       | 31104.133761 | 0.439750      | 0.447478        |</pre>"
      ],
      "text/plain": [
       "| 456       | 31104.133761 | 0.439750      | 0.447478        |"
      ]
     },
     "metadata": {},
     "output_type": "display_data"
    },
    {
     "data": {
      "text/html": [
       "<pre>| 457       | 31174.509307 | 0.439734      | 0.447472        |</pre>"
      ],
      "text/plain": [
       "| 457       | 31174.509307 | 0.439734      | 0.447472        |"
      ]
     },
     "metadata": {},
     "output_type": "display_data"
    },
    {
     "data": {
      "text/html": [
       "<pre>| 458       | 31244.396028 | 0.439705      | 0.447478        |</pre>"
      ],
      "text/plain": [
       "| 458       | 31244.396028 | 0.439705      | 0.447478        |"
      ]
     },
     "metadata": {},
     "output_type": "display_data"
    },
    {
     "data": {
      "text/html": [
       "<pre>| 459       | 31314.851790 | 0.439688      | 0.447473        |</pre>"
      ],
      "text/plain": [
       "| 459       | 31314.851790 | 0.439688      | 0.447473        |"
      ]
     },
     "metadata": {},
     "output_type": "display_data"
    },
    {
     "data": {
      "text/html": [
       "<pre>| 460       | 31383.175244 | 0.439667      | 0.447460        |</pre>"
      ],
      "text/plain": [
       "| 460       | 31383.175244 | 0.439667      | 0.447460        |"
      ]
     },
     "metadata": {},
     "output_type": "display_data"
    },
    {
     "data": {
      "text/html": [
       "<pre>| 461       | 31448.706864 | 0.439657      | 0.447459        |</pre>"
      ],
      "text/plain": [
       "| 461       | 31448.706864 | 0.439657      | 0.447459        |"
      ]
     },
     "metadata": {},
     "output_type": "display_data"
    },
    {
     "data": {
      "text/html": [
       "<pre>| 462       | 31511.684279 | 0.439643      | 0.447451        |</pre>"
      ],
      "text/plain": [
       "| 462       | 31511.684279 | 0.439643      | 0.447451        |"
      ]
     },
     "metadata": {},
     "output_type": "display_data"
    },
    {
     "data": {
      "text/html": [
       "<pre>| 463       | 31582.539583 | 0.439635      | 0.447449        |</pre>"
      ],
      "text/plain": [
       "| 463       | 31582.539583 | 0.439635      | 0.447449        |"
      ]
     },
     "metadata": {},
     "output_type": "display_data"
    },
    {
     "data": {
      "text/html": [
       "<pre>| 464       | 31648.601473 | 0.439613      | 0.447450        |</pre>"
      ],
      "text/plain": [
       "| 464       | 31648.601473 | 0.439613      | 0.447450        |"
      ]
     },
     "metadata": {},
     "output_type": "display_data"
    },
    {
     "data": {
      "text/html": [
       "<pre>| 465       | 31716.167806 | 0.439585      | 0.447446        |</pre>"
      ],
      "text/plain": [
       "| 465       | 31716.167806 | 0.439585      | 0.447446        |"
      ]
     },
     "metadata": {},
     "output_type": "display_data"
    },
    {
     "data": {
      "text/html": [
       "<pre>| 466       | 31779.973007 | 0.439576      | 0.447443        |</pre>"
      ],
      "text/plain": [
       "| 466       | 31779.973007 | 0.439576      | 0.447443        |"
      ]
     },
     "metadata": {},
     "output_type": "display_data"
    },
    {
     "data": {
      "text/html": [
       "<pre>| 467       | 31846.837857 | 0.439558      | 0.447433        |</pre>"
      ],
      "text/plain": [
       "| 467       | 31846.837857 | 0.439558      | 0.447433        |"
      ]
     },
     "metadata": {},
     "output_type": "display_data"
    },
    {
     "data": {
      "text/html": [
       "<pre>| 468       | 31912.610820 | 0.439542      | 0.447435        |</pre>"
      ],
      "text/plain": [
       "| 468       | 31912.610820 | 0.439542      | 0.447435        |"
      ]
     },
     "metadata": {},
     "output_type": "display_data"
    },
    {
     "data": {
      "text/html": [
       "<pre>| 469       | 31985.329886 | 0.439527      | 0.447432        |</pre>"
      ],
      "text/plain": [
       "| 469       | 31985.329886 | 0.439527      | 0.447432        |"
      ]
     },
     "metadata": {},
     "output_type": "display_data"
    },
    {
     "data": {
      "text/html": [
       "<pre>| 470       | 32050.686671 | 0.439512      | 0.447420        |</pre>"
      ],
      "text/plain": [
       "| 470       | 32050.686671 | 0.439512      | 0.447420        |"
      ]
     },
     "metadata": {},
     "output_type": "display_data"
    },
    {
     "data": {
      "text/html": [
       "<pre>| 471       | 32119.455413 | 0.439489      | 0.447400        |</pre>"
      ],
      "text/plain": [
       "| 471       | 32119.455413 | 0.439489      | 0.447400        |"
      ]
     },
     "metadata": {},
     "output_type": "display_data"
    },
    {
     "data": {
      "text/html": [
       "<pre>| 472       | 32184.999486 | 0.439470      | 0.447393        |</pre>"
      ],
      "text/plain": [
       "| 472       | 32184.999486 | 0.439470      | 0.447393        |"
      ]
     },
     "metadata": {},
     "output_type": "display_data"
    },
    {
     "data": {
      "text/html": [
       "<pre>| 473       | 32249.816554 | 0.439451      | 0.447370        |</pre>"
      ],
      "text/plain": [
       "| 473       | 32249.816554 | 0.439451      | 0.447370        |"
      ]
     },
     "metadata": {},
     "output_type": "display_data"
    },
    {
     "data": {
      "text/html": [
       "<pre>| 474       | 32317.901612 | 0.439433      | 0.447361        |</pre>"
      ],
      "text/plain": [
       "| 474       | 32317.901612 | 0.439433      | 0.447361        |"
      ]
     },
     "metadata": {},
     "output_type": "display_data"
    },
    {
     "data": {
      "text/html": [
       "<pre>| 475       | 32390.244312 | 0.439409      | 0.447359        |</pre>"
      ],
      "text/plain": [
       "| 475       | 32390.244312 | 0.439409      | 0.447359        |"
      ]
     },
     "metadata": {},
     "output_type": "display_data"
    },
    {
     "data": {
      "text/html": [
       "<pre>| 476       | 32455.766584 | 0.439399      | 0.447354        |</pre>"
      ],
      "text/plain": [
       "| 476       | 32455.766584 | 0.439399      | 0.447354        |"
      ]
     },
     "metadata": {},
     "output_type": "display_data"
    },
    {
     "data": {
      "text/html": [
       "<pre>| 477       | 32525.583357 | 0.439376      | 0.447345        |</pre>"
      ],
      "text/plain": [
       "| 477       | 32525.583357 | 0.439376      | 0.447345        |"
      ]
     },
     "metadata": {},
     "output_type": "display_data"
    },
    {
     "data": {
      "text/html": [
       "<pre>| 478       | 32592.419104 | 0.439364      | 0.447345        |</pre>"
      ],
      "text/plain": [
       "| 478       | 32592.419104 | 0.439364      | 0.447345        |"
      ]
     },
     "metadata": {},
     "output_type": "display_data"
    },
    {
     "data": {
      "text/html": [
       "<pre>| 479       | 32663.819054 | 0.439344      | 0.447297        |</pre>"
      ],
      "text/plain": [
       "| 479       | 32663.819054 | 0.439344      | 0.447297        |"
      ]
     },
     "metadata": {},
     "output_type": "display_data"
    },
    {
     "data": {
      "text/html": [
       "<pre>| 480       | 32736.159029 | 0.439324      | 0.447294        |</pre>"
      ],
      "text/plain": [
       "| 480       | 32736.159029 | 0.439324      | 0.447294        |"
      ]
     },
     "metadata": {},
     "output_type": "display_data"
    },
    {
     "data": {
      "text/html": [
       "<pre>| 481       | 32805.372440 | 0.439293      | 0.447273        |</pre>"
      ],
      "text/plain": [
       "| 481       | 32805.372440 | 0.439293      | 0.447273        |"
      ]
     },
     "metadata": {},
     "output_type": "display_data"
    },
    {
     "data": {
      "text/html": [
       "<pre>| 482       | 32876.115138 | 0.439276      | 0.447255        |</pre>"
      ],
      "text/plain": [
       "| 482       | 32876.115138 | 0.439276      | 0.447255        |"
      ]
     },
     "metadata": {},
     "output_type": "display_data"
    },
    {
     "data": {
      "text/html": [
       "<pre>| 483       | 32943.792259 | 0.439256      | 0.447231        |</pre>"
      ],
      "text/plain": [
       "| 483       | 32943.792259 | 0.439256      | 0.447231        |"
      ]
     },
     "metadata": {},
     "output_type": "display_data"
    },
    {
     "data": {
      "text/html": [
       "<pre>| 484       | 33012.775315 | 0.439229      | 0.447218        |</pre>"
      ],
      "text/plain": [
       "| 484       | 33012.775315 | 0.439229      | 0.447218        |"
      ]
     },
     "metadata": {},
     "output_type": "display_data"
    },
    {
     "data": {
      "text/html": [
       "<pre>| 485       | 33082.018096 | 0.439218      | 0.447214        |</pre>"
      ],
      "text/plain": [
       "| 485       | 33082.018096 | 0.439218      | 0.447214        |"
      ]
     },
     "metadata": {},
     "output_type": "display_data"
    },
    {
     "data": {
      "text/html": [
       "<pre>| 486       | 33154.866399 | 0.439193      | 0.447192        |</pre>"
      ],
      "text/plain": [
       "| 486       | 33154.866399 | 0.439193      | 0.447192        |"
      ]
     },
     "metadata": {},
     "output_type": "display_data"
    },
    {
     "data": {
      "text/html": [
       "<pre>| 487       | 33225.811296 | 0.439157      | 0.447181        |</pre>"
      ],
      "text/plain": [
       "| 487       | 33225.811296 | 0.439157      | 0.447181        |"
      ]
     },
     "metadata": {},
     "output_type": "display_data"
    },
    {
     "data": {
      "text/html": [
       "<pre>| 488       | 33297.765905 | 0.439139      | 0.447167        |</pre>"
      ],
      "text/plain": [
       "| 488       | 33297.765905 | 0.439139      | 0.447167        |"
      ]
     },
     "metadata": {},
     "output_type": "display_data"
    },
    {
     "data": {
      "text/html": [
       "<pre>| 489       | 33368.806775 | 0.439111      | 0.447171        |</pre>"
      ],
      "text/plain": [
       "| 489       | 33368.806775 | 0.439111      | 0.447171        |"
      ]
     },
     "metadata": {},
     "output_type": "display_data"
    },
    {
     "data": {
      "text/html": [
       "<pre>| 490       | 33438.886534 | 0.439090      | 0.447165        |</pre>"
      ],
      "text/plain": [
       "| 490       | 33438.886534 | 0.439090      | 0.447165        |"
      ]
     },
     "metadata": {},
     "output_type": "display_data"
    },
    {
     "data": {
      "text/html": [
       "<pre>| 491       | 33502.197317 | 0.439080      | 0.447168        |</pre>"
      ],
      "text/plain": [
       "| 491       | 33502.197317 | 0.439080      | 0.447168        |"
      ]
     },
     "metadata": {},
     "output_type": "display_data"
    },
    {
     "data": {
      "text/html": [
       "<pre>| 492       | 33562.995510 | 0.439060      | 0.447146        |</pre>"
      ],
      "text/plain": [
       "| 492       | 33562.995510 | 0.439060      | 0.447146        |"
      ]
     },
     "metadata": {},
     "output_type": "display_data"
    },
    {
     "data": {
      "text/html": [
       "<pre>| 493       | 33635.289893 | 0.439043      | 0.447140        |</pre>"
      ],
      "text/plain": [
       "| 493       | 33635.289893 | 0.439043      | 0.447140        |"
      ]
     },
     "metadata": {},
     "output_type": "display_data"
    },
    {
     "data": {
      "text/html": [
       "<pre>| 494       | 33700.659719 | 0.439024      | 0.447117        |</pre>"
      ],
      "text/plain": [
       "| 494       | 33700.659719 | 0.439024      | 0.447117        |"
      ]
     },
     "metadata": {},
     "output_type": "display_data"
    },
    {
     "data": {
      "text/html": [
       "<pre>| 495       | 33764.842126 | 0.439015      | 0.447120        |</pre>"
      ],
      "text/plain": [
       "| 495       | 33764.842126 | 0.439015      | 0.447120        |"
      ]
     },
     "metadata": {},
     "output_type": "display_data"
    },
    {
     "data": {
      "text/html": [
       "<pre>| 496       | 33832.099138 | 0.438998      | 0.447116        |</pre>"
      ],
      "text/plain": [
       "| 496       | 33832.099138 | 0.438998      | 0.447116        |"
      ]
     },
     "metadata": {},
     "output_type": "display_data"
    },
    {
     "data": {
      "text/html": [
       "<pre>| 497       | 33898.686136 | 0.438979      | 0.447107        |</pre>"
      ],
      "text/plain": [
       "| 497       | 33898.686136 | 0.438979      | 0.447107        |"
      ]
     },
     "metadata": {},
     "output_type": "display_data"
    },
    {
     "data": {
      "text/html": [
       "<pre>| 498       | 33965.185898 | 0.438964      | 0.447108        |</pre>"
      ],
      "text/plain": [
       "| 498       | 33965.185898 | 0.438964      | 0.447108        |"
      ]
     },
     "metadata": {},
     "output_type": "display_data"
    },
    {
     "data": {
      "text/html": [
       "<pre>| 499       | 34032.710430 | 0.438947      | 0.447101        |</pre>"
      ],
      "text/plain": [
       "| 499       | 34032.710430 | 0.438947      | 0.447101        |"
      ]
     },
     "metadata": {},
     "output_type": "display_data"
    },
    {
     "data": {
      "text/html": [
       "<pre>| 500       | 34102.757059 | 0.438932      | 0.447099        |</pre>"
      ],
      "text/plain": [
       "| 500       | 34102.757059 | 0.438932      | 0.447099        |"
      ]
     },
     "metadata": {},
     "output_type": "display_data"
    },
    {
     "data": {
      "text/html": [
       "<pre>Checkpointing to /home/zongyi/bimbo_data/model_checkpoint_500</pre>"
      ],
      "text/plain": [
       "Checkpointing to /home/zongyi/bimbo_data/model_checkpoint_500"
      ]
     },
     "metadata": {},
     "output_type": "display_data"
    },
    {
     "data": {
      "text/html": [
       "<pre>+-----------+--------------+---------------+-----------------+</pre>"
      ],
      "text/plain": [
       "+-----------+--------------+---------------+-----------------+"
      ]
     },
     "metadata": {},
     "output_type": "display_data"
    }
   ],
   "source": [
    "# Make a train-test split\n",
    "train_data, test_data = train.random_split(0.999)\n",
    "\n",
    "# Create a model.\n",
    "model = gl.boosted_trees_regression.create(train_data, target='Demada_log',\n",
    "                                           step_size=0.1,\n",
    "                                           max_iterations=500,\n",
    "                                           max_depth = 10,\n",
    "                                          metric='rmse',\n",
    "                                          random_seed=395,\n",
    "                                          column_subsample=0.7,\n",
    "                                          row_subsample=0.85,\n",
    "                                          validation_set=test_data,\n",
    "                                          model_checkpoint_path=path,\n",
    "                                          model_checkpoint_interval=500)\n",
    "\n",
    "\n"
   ]
  },
  {
   "cell_type": "code",
   "execution_count": 71,
   "metadata": {
    "collapsed": false
   },
   "outputs": [
    {
     "data": {
      "text/html": [
       "<pre>Resuming from checkpoint at /home/zongyi/bimbo_data/model_checkpoint_4</pre>"
      ],
      "text/plain": [
       "Resuming from checkpoint at /home/zongyi/bimbo_data/model_checkpoint_4"
      ]
     },
     "metadata": {},
     "output_type": "display_data"
    },
    {
     "data": {
      "text/html": [
       "<pre>Boosted trees regression:</pre>"
      ],
      "text/plain": [
       "Boosted trees regression:"
      ]
     },
     "metadata": {},
     "output_type": "display_data"
    },
    {
     "data": {
      "text/html": [
       "<pre>--------------------------------------------------------</pre>"
      ],
      "text/plain": [
       "--------------------------------------------------------"
      ]
     },
     "metadata": {},
     "output_type": "display_data"
    },
    {
     "data": {
      "text/html": [
       "<pre>Number of examples          : 20815581</pre>"
      ],
      "text/plain": [
       "Number of examples          : 20815581"
      ]
     },
     "metadata": {},
     "output_type": "display_data"
    },
    {
     "data": {
      "text/html": [
       "<pre>Number of features          : 21</pre>"
      ],
      "text/plain": [
       "Number of features          : 21"
      ]
     },
     "metadata": {},
     "output_type": "display_data"
    },
    {
     "data": {
      "text/html": [
       "<pre>Number of unpacked features : 21</pre>"
      ],
      "text/plain": [
       "Number of unpacked features : 21"
      ]
     },
     "metadata": {},
     "output_type": "display_data"
    },
    {
     "data": {
      "text/html": [
       "<pre>Resumed training from checkpoint at iteration 4 which is greater than or equal to max_iterations 4</pre>"
      ],
      "text/plain": [
       "Resumed training from checkpoint at iteration 4 which is greater than or equal to max_iterations 4"
      ]
     },
     "metadata": {},
     "output_type": "display_data"
    }
   ],
   "source": [
    "model1 = gl.boosted_trees_regression.create(train, target='Demada_log',\n",
    "                                           step_size=0.1,\n",
    "                                           max_iterations=4,\n",
    "                                           max_depth = 10,\n",
    "                                          metric='rmse',\n",
    "                                          random_seed=395,\n",
    "                                          column_subsample=0.7,\n",
    "                                          row_subsample=0.85,\n",
    "                                          validation_set=None,\n",
    "                                          resume_from_checkpoint=path+'model_checkpoint_4',\n",
    "                                           model_checkpoint_path=path,\n",
    "                                          model_checkpoint_interval=2)"
   ]
  },
  {
   "cell_type": "code",
   "execution_count": 13,
   "metadata": {
    "collapsed": false
   },
   "outputs": [
    {
     "data": {
      "text/plain": [
       "Class                          : BoostedTreesRegression\n",
       "\n",
       "Schema\n",
       "------\n",
       "Number of examples             : 20794971\n",
       "Number of feature columns      : 21\n",
       "Number of unpacked features    : 21\n",
       "\n",
       "Settings\n",
       "--------\n",
       "Number of trees                : 500\n",
       "Max tree depth                 : 10\n",
       "Training time (sec)            : 34110.3241\n",
       "Training rmse                  : 0.4389\n",
       "Validation rmse                : 0.4471"
      ]
     },
     "execution_count": 13,
     "metadata": {},
     "output_type": "execute_result"
    }
   ],
   "source": [
    "model"
   ]
  },
  {
   "cell_type": "code",
   "execution_count": 15,
   "metadata": {
    "collapsed": false
   },
   "outputs": [],
   "source": [
    "w = model.get_feature_importance()"
   ]
  },
  {
   "cell_type": "code",
   "execution_count": 16,
   "metadata": {
    "collapsed": true
   },
   "outputs": [],
   "source": [
    "w = w.add_row_number()"
   ]
  },
  {
   "cell_type": "code",
   "execution_count": 17,
   "metadata": {
    "collapsed": false
   },
   "outputs": [
    {
     "data": {
      "text/html": [
       "<div style=\"max-height:1000px;max-width:1500px;overflow:auto;\"><table frame=\"box\" rules=\"cols\">\n",
       "    <tr>\n",
       "        <th style=\"padding-left: 1em; padding-right: 1em; text-align: center\">id</th>\n",
       "        <th style=\"padding-left: 1em; padding-right: 1em; text-align: center\">name</th>\n",
       "        <th style=\"padding-left: 1em; padding-right: 1em; text-align: center\">index</th>\n",
       "        <th style=\"padding-left: 1em; padding-right: 1em; text-align: center\">count</th>\n",
       "    </tr>\n",
       "    <tr>\n",
       "        <td style=\"padding-left: 1em; padding-right: 1em; text-align: center; vertical-align: top\">0</td>\n",
       "        <td style=\"padding-left: 1em; padding-right: 1em; text-align: center; vertical-align: top\">Ruta_SAK</td>\n",
       "        <td style=\"padding-left: 1em; padding-right: 1em; text-align: center; vertical-align: top\">None</td>\n",
       "        <td style=\"padding-left: 1em; padding-right: 1em; text-align: center; vertical-align: top\">39491</td>\n",
       "    </tr>\n",
       "    <tr>\n",
       "        <td style=\"padding-left: 1em; padding-right: 1em; text-align: center; vertical-align: top\">1</td>\n",
       "        <td style=\"padding-left: 1em; padding-right: 1em; text-align: center; vertical-align: top\">Cliente_ID</td>\n",
       "        <td style=\"padding-left: 1em; padding-right: 1em; text-align: center; vertical-align: top\">None</td>\n",
       "        <td style=\"padding-left: 1em; padding-right: 1em; text-align: center; vertical-align: top\">32859</td>\n",
       "    </tr>\n",
       "    <tr>\n",
       "        <td style=\"padding-left: 1em; padding-right: 1em; text-align: center; vertical-align: top\">2</td>\n",
       "        <td style=\"padding-left: 1em; padding-right: 1em; text-align: center; vertical-align: top\">n_c</td>\n",
       "        <td style=\"padding-left: 1em; padding-right: 1em; text-align: center; vertical-align: top\">None</td>\n",
       "        <td style=\"padding-left: 1em; padding-right: 1em; text-align: center; vertical-align: top\">31315</td>\n",
       "    </tr>\n",
       "    <tr>\n",
       "        <td style=\"padding-left: 1em; padding-right: 1em; text-align: center; vertical-align: top\">3</td>\n",
       "        <td style=\"padding-left: 1em; padding-right: 1em; text-align: center; vertical-align: top\">Producto_ID</td>\n",
       "        <td style=\"padding-left: 1em; padding-right: 1em; text-align: center; vertical-align: top\">None</td>\n",
       "        <td style=\"padding-left: 1em; padding-right: 1em; text-align: center; vertical-align: top\">29303</td>\n",
       "    </tr>\n",
       "    <tr>\n",
       "        <td style=\"padding-left: 1em; padding-right: 1em; text-align: center; vertical-align: top\">4</td>\n",
       "        <td style=\"padding-left: 1em; padding-right: 1em; text-align: center; vertical-align: top\">tp_sum</td>\n",
       "        <td style=\"padding-left: 1em; padding-right: 1em; text-align: center; vertical-align: top\">None</td>\n",
       "        <td style=\"padding-left: 1em; padding-right: 1em; text-align: center; vertical-align: top\">26693</td>\n",
       "    </tr>\n",
       "    <tr>\n",
       "        <td style=\"padding-left: 1em; padding-right: 1em; text-align: center; vertical-align: top\">5</td>\n",
       "        <td style=\"padding-left: 1em; padding-right: 1em; text-align: center; vertical-align: top\">n_p</td>\n",
       "        <td style=\"padding-left: 1em; padding-right: 1em; text-align: center; vertical-align: top\">None</td>\n",
       "        <td style=\"padding-left: 1em; padding-right: 1em; text-align: center; vertical-align: top\">26106</td>\n",
       "    </tr>\n",
       "    <tr>\n",
       "        <td style=\"padding-left: 1em; padding-right: 1em; text-align: center; vertical-align: top\">6</td>\n",
       "        <td style=\"padding-left: 1em; padding-right: 1em; text-align: center; vertical-align: top\">n_r</td>\n",
       "        <td style=\"padding-left: 1em; padding-right: 1em; text-align: center; vertical-align: top\">None</td>\n",
       "        <td style=\"padding-left: 1em; padding-right: 1em; text-align: center; vertical-align: top\">25619</td>\n",
       "    </tr>\n",
       "    <tr>\n",
       "        <td style=\"padding-left: 1em; padding-right: 1em; text-align: center; vertical-align: top\">7</td>\n",
       "        <td style=\"padding-left: 1em; padding-right: 1em; text-align: center; vertical-align: top\">lag_sum</td>\n",
       "        <td style=\"padding-left: 1em; padding-right: 1em; text-align: center; vertical-align: top\">None</td>\n",
       "        <td style=\"padding-left: 1em; padding-right: 1em; text-align: center; vertical-align: top\">24065</td>\n",
       "    </tr>\n",
       "    <tr>\n",
       "        <td style=\"padding-left: 1em; padding-right: 1em; text-align: center; vertical-align: top\">8</td>\n",
       "        <td style=\"padding-left: 1em; padding-right: 1em; text-align: center; vertical-align: top\">Agencia_ID</td>\n",
       "        <td style=\"padding-left: 1em; padding-right: 1em; text-align: center; vertical-align: top\">None</td>\n",
       "        <td style=\"padding-left: 1em; padding-right: 1em; text-align: center; vertical-align: top\">23724</td>\n",
       "    </tr>\n",
       "    <tr>\n",
       "        <td style=\"padding-left: 1em; padding-right: 1em; text-align: center; vertical-align: top\">9</td>\n",
       "        <td style=\"padding-left: 1em; padding-right: 1em; text-align: center; vertical-align: top\">prior_sum</td>\n",
       "        <td style=\"padding-left: 1em; padding-right: 1em; text-align: center; vertical-align: top\">None</td>\n",
       "        <td style=\"padding-left: 1em; padding-right: 1em; text-align: center; vertical-align: top\">22175</td>\n",
       "    </tr>\n",
       "</table>\n",
       "[21 rows x 4 columns]<br/>Note: Only the head of the SFrame is printed.<br/>You can use print_rows(num_rows=m, num_columns=n) to print more rows and columns.\n",
       "</div>"
      ],
      "text/plain": [
       "Columns:\n",
       "\tid\tint\n",
       "\tname\tstr\n",
       "\tindex\tstr\n",
       "\tcount\tint\n",
       "\n",
       "Rows: 21\n",
       "\n",
       "Data:\n",
       "+----+-------------+-------+-------+\n",
       "| id |     name    | index | count |\n",
       "+----+-------------+-------+-------+\n",
       "| 0  |   Ruta_SAK  |  None | 39491 |\n",
       "| 1  |  Cliente_ID |  None | 32859 |\n",
       "| 2  |     n_c     |  None | 31315 |\n",
       "| 3  | Producto_ID |  None | 29303 |\n",
       "| 4  |    tp_sum   |  None | 26693 |\n",
       "| 5  |     n_p     |  None | 26106 |\n",
       "| 6  |     n_r     |  None | 25619 |\n",
       "| 7  |   lag_sum   |  None | 24065 |\n",
       "| 8  |  Agencia_ID |  None | 23724 |\n",
       "| 9  |  prior_sum  |  None | 22175 |\n",
       "+----+-------------+-------+-------+\n",
       "[21 rows x 4 columns]\n",
       "Note: Only the head of the SFrame is printed.\n",
       "You can use print_rows(num_rows=m, num_columns=n) to print more rows and columns."
      ]
     },
     "execution_count": 17,
     "metadata": {},
     "output_type": "execute_result"
    }
   ],
   "source": [
    "w"
   ]
  },
  {
   "cell_type": "code",
   "execution_count": 21,
   "metadata": {
    "collapsed": false
   },
   "outputs": [
    {
     "data": {
      "text/plain": [
       "(array([ 0,  1,  2,  3,  4,  5,  6,  7,  8,  9, 10, 11, 12, 13, 14, 15, 16,\n",
       "        17, 18, 19, 20]), <a list of 21 Text xticklabel objects>)"
      ]
     },
     "execution_count": 21,
     "metadata": {},
     "output_type": "execute_result"
    },
    {
     "data": {
      "image/png": "[encoded data removed]",
      "text/plain": [
       "<matplotlib.figure.Figure at 0x7f0fde3f7990>"
      ]
     },
     "metadata": {},
     "output_type": "display_data"
    }
   ],
   "source": [
    "from IPython.core.pylabtools import figsize\n",
    "import numpy as np\n",
    "from matplotlib import pyplot as plt\n",
    "import seaborn as sns\n",
    "sns.set_style('darkgrid', {'grid.color': '.8','grid.linestyle': u'--'}) \n",
    "%matplotlib inline\n",
    "\n",
    "figsize(12, 6)\n",
    "plt.bar(w['id'], w['count'], tick_label=w['name'])\n",
    "\n",
    "plt.xticks(rotation=45)\n"
   ]
  },
  {
   "cell_type": "code",
   "execution_count": 20,
   "metadata": {
    "collapsed": false
   },
   "outputs": [
    {
     "name": "stdout",
     "output_type": "stream",
     "text": [
      "{'max_error': 6.300516724586487, 'rmse': 0.4389403189567331}\n"
     ]
    }
   ],
   "source": [
    "# Save predictions to an SArray\n",
    "predictions = model.predict(train)\n",
    "\n",
    "# Evaluate the model and save the results into a dictionary\n",
    "results = model.evaluate(train)\n",
    "print results\n"
   ]
  },
  {
   "cell_type": "code",
   "execution_count": 36,
   "metadata": {
    "collapsed": false
   },
   "outputs": [
    {
     "name": "stdout",
     "output_type": "stream",
     "text": [
      "Class                          : BoostedTreesRegression\n",
      "\n",
      "Schema\n",
      "------\n",
      "Number of examples             : 17797989\n",
      "Number of feature columns      : 21\n",
      "Number of unpacked features    : 21\n",
      "\n",
      "Settings\n",
      "--------\n",
      "Number of trees                : 200\n",
      "Max tree depth                 : 10\n",
      "Training time (sec)            : 11956.8374\n",
      "Training rmse                  : 0.4465\n",
      "Validation rmse                : 0.4507\n",
      "\n"
     ]
    }
   ],
   "source": [
    "model.summary()"
   ]
  },
  {
   "cell_type": "code",
   "execution_count": null,
   "metadata": {
    "collapsed": true
   },
   "outputs": [],
   "source": []
  },
  {
   "cell_type": "code",
   "execution_count": 23,
   "metadata": {
    "collapsed": true
   },
   "outputs": [],
   "source": [
    "test = gl.SFrame.read_csv(path + 'test_lag5.csv', verbose=False)\n",
    "test = test.join(town, on=['Agencia_ID','Producto_ID'], how='left')\n",
    "del test['Town']\n",
    "test = test.fillna('t_c',1)\n",
    "test = test.fillna('tcc',0)\n",
    "test = test.fillna('tp_sum',0)"
   ]
  },
  {
   "cell_type": "code",
   "execution_count": 24,
   "metadata": {
    "collapsed": false
   },
   "outputs": [
    {
     "data": {
      "text/html": [
       "<div style=\"max-height:1000px;max-width:1500px;overflow:auto;\"><table frame=\"box\" rules=\"cols\">\n",
       "    <tr>\n",
       "        <th style=\"padding-left: 1em; padding-right: 1em; text-align: center\">id</th>\n",
       "        <th style=\"padding-left: 1em; padding-right: 1em; text-align: center\">Semana</th>\n",
       "        <th style=\"padding-left: 1em; padding-right: 1em; text-align: center\">Agencia_ID</th>\n",
       "        <th style=\"padding-left: 1em; padding-right: 1em; text-align: center\">Canal_ID</th>\n",
       "        <th style=\"padding-left: 1em; padding-right: 1em; text-align: center\">Ruta_SAK</th>\n",
       "        <th style=\"padding-left: 1em; padding-right: 1em; text-align: center\">Cliente_ID</th>\n",
       "        <th style=\"padding-left: 1em; padding-right: 1em; text-align: center\">Producto_ID</th>\n",
       "        <th style=\"padding-left: 1em; padding-right: 1em; text-align: center\">lag1</th>\n",
       "        <th style=\"padding-left: 1em; padding-right: 1em; text-align: center\">lag2</th>\n",
       "        <th style=\"padding-left: 1em; padding-right: 1em; text-align: center\">lag3</th>\n",
       "    </tr>\n",
       "    <tr>\n",
       "        <td style=\"padding-left: 1em; padding-right: 1em; text-align: center; vertical-align: top\">4721633</td>\n",
       "        <td style=\"padding-left: 1em; padding-right: 1em; text-align: center; vertical-align: top\">10</td>\n",
       "        <td style=\"padding-left: 1em; padding-right: 1em; text-align: center; vertical-align: top\">4037</td>\n",
       "        <td style=\"padding-left: 1em; padding-right: 1em; text-align: center; vertical-align: top\">1</td>\n",
       "        <td style=\"padding-left: 1em; padding-right: 1em; text-align: center; vertical-align: top\">1153</td>\n",
       "        <td style=\"padding-left: 1em; padding-right: 1em; text-align: center; vertical-align: top\">2398808</td>\n",
       "        <td style=\"padding-left: 1em; padding-right: 1em; text-align: center; vertical-align: top\">43202</td>\n",
       "        <td style=\"padding-left: 1em; padding-right: 1em; text-align: center; vertical-align: top\">0.0</td>\n",
       "        <td style=\"padding-left: 1em; padding-right: 1em; text-align: center; vertical-align: top\">0.0</td>\n",
       "        <td style=\"padding-left: 1em; padding-right: 1em; text-align: center; vertical-align: top\">1.60944</td>\n",
       "    </tr>\n",
       "    <tr>\n",
       "        <td style=\"padding-left: 1em; padding-right: 1em; text-align: center; vertical-align: top\">6035419</td>\n",
       "        <td style=\"padding-left: 1em; padding-right: 1em; text-align: center; vertical-align: top\">10</td>\n",
       "        <td style=\"padding-left: 1em; padding-right: 1em; text-align: center; vertical-align: top\">2239</td>\n",
       "        <td style=\"padding-left: 1em; padding-right: 1em; text-align: center; vertical-align: top\">1</td>\n",
       "        <td style=\"padding-left: 1em; padding-right: 1em; text-align: center; vertical-align: top\">1157</td>\n",
       "        <td style=\"padding-left: 1em; padding-right: 1em; text-align: center; vertical-align: top\">1529806</td>\n",
       "        <td style=\"padding-left: 1em; padding-right: 1em; text-align: center; vertical-align: top\">1230</td>\n",
       "        <td style=\"padding-left: 1em; padding-right: 1em; text-align: center; vertical-align: top\">1.09861</td>\n",
       "        <td style=\"padding-left: 1em; padding-right: 1em; text-align: center; vertical-align: top\">1.38629</td>\n",
       "        <td style=\"padding-left: 1em; padding-right: 1em; text-align: center; vertical-align: top\">0.0</td>\n",
       "    </tr>\n",
       "    <tr>\n",
       "        <td style=\"padding-left: 1em; padding-right: 1em; text-align: center; vertical-align: top\">3462602</td>\n",
       "        <td style=\"padding-left: 1em; padding-right: 1em; text-align: center; vertical-align: top\">10</td>\n",
       "        <td style=\"padding-left: 1em; padding-right: 1em; text-align: center; vertical-align: top\">1366</td>\n",
       "        <td style=\"padding-left: 1em; padding-right: 1em; text-align: center; vertical-align: top\">1</td>\n",
       "        <td style=\"padding-left: 1em; padding-right: 1em; text-align: center; vertical-align: top\">1051</td>\n",
       "        <td style=\"padding-left: 1em; padding-right: 1em; text-align: center; vertical-align: top\">1368806</td>\n",
       "        <td style=\"padding-left: 1em; padding-right: 1em; text-align: center; vertical-align: top\">1146</td>\n",
       "        <td style=\"padding-left: 1em; padding-right: 1em; text-align: center; vertical-align: top\">1.09861</td>\n",
       "        <td style=\"padding-left: 1em; padding-right: 1em; text-align: center; vertical-align: top\">0.693147</td>\n",
       "        <td style=\"padding-left: 1em; padding-right: 1em; text-align: center; vertical-align: top\">0.693147</td>\n",
       "    </tr>\n",
       "    <tr>\n",
       "        <td style=\"padding-left: 1em; padding-right: 1em; text-align: center; vertical-align: top\">855102</td>\n",
       "        <td style=\"padding-left: 1em; padding-right: 1em; text-align: center; vertical-align: top\">10</td>\n",
       "        <td style=\"padding-left: 1em; padding-right: 1em; text-align: center; vertical-align: top\">1911</td>\n",
       "        <td style=\"padding-left: 1em; padding-right: 1em; text-align: center; vertical-align: top\">1</td>\n",
       "        <td style=\"padding-left: 1em; padding-right: 1em; text-align: center; vertical-align: top\">1156</td>\n",
       "        <td style=\"padding-left: 1em; padding-right: 1em; text-align: center; vertical-align: top\">867160</td>\n",
       "        <td style=\"padding-left: 1em; padding-right: 1em; text-align: center; vertical-align: top\">1232</td>\n",
       "        <td style=\"padding-left: 1em; padding-right: 1em; text-align: center; vertical-align: top\">1.38629</td>\n",
       "        <td style=\"padding-left: 1em; padding-right: 1em; text-align: center; vertical-align: top\">0.0</td>\n",
       "        <td style=\"padding-left: 1em; padding-right: 1em; text-align: center; vertical-align: top\">0.0</td>\n",
       "    </tr>\n",
       "    <tr>\n",
       "        <td style=\"padding-left: 1em; padding-right: 1em; text-align: center; vertical-align: top\">3242700</td>\n",
       "        <td style=\"padding-left: 1em; padding-right: 1em; text-align: center; vertical-align: top\">11</td>\n",
       "        <td style=\"padding-left: 1em; padding-right: 1em; text-align: center; vertical-align: top\">1952</td>\n",
       "        <td style=\"padding-left: 1em; padding-right: 1em; text-align: center; vertical-align: top\">11</td>\n",
       "        <td style=\"padding-left: 1em; padding-right: 1em; text-align: center; vertical-align: top\">5721</td>\n",
       "        <td style=\"padding-left: 1em; padding-right: 1em; text-align: center; vertical-align: top\">1126647</td>\n",
       "        <td style=\"padding-left: 1em; padding-right: 1em; text-align: center; vertical-align: top\">47612</td>\n",
       "        <td style=\"padding-left: 1em; padding-right: 1em; text-align: center; vertical-align: top\">0.0</td>\n",
       "        <td style=\"padding-left: 1em; padding-right: 1em; text-align: center; vertical-align: top\">3.09104</td>\n",
       "        <td style=\"padding-left: 1em; padding-right: 1em; text-align: center; vertical-align: top\">2.99573</td>\n",
       "    </tr>\n",
       "    <tr>\n",
       "        <td style=\"padding-left: 1em; padding-right: 1em; text-align: center; vertical-align: top\">2421613</td>\n",
       "        <td style=\"padding-left: 1em; padding-right: 1em; text-align: center; vertical-align: top\">10</td>\n",
       "        <td style=\"padding-left: 1em; padding-right: 1em; text-align: center; vertical-align: top\">2653</td>\n",
       "        <td style=\"padding-left: 1em; padding-right: 1em; text-align: center; vertical-align: top\">1</td>\n",
       "        <td style=\"padding-left: 1em; padding-right: 1em; text-align: center; vertical-align: top\">2117</td>\n",
       "        <td style=\"padding-left: 1em; padding-right: 1em; text-align: center; vertical-align: top\">954439</td>\n",
       "        <td style=\"padding-left: 1em; padding-right: 1em; text-align: center; vertical-align: top\">35305</td>\n",
       "        <td style=\"padding-left: 1em; padding-right: 1em; text-align: center; vertical-align: top\">2.77259</td>\n",
       "        <td style=\"padding-left: 1em; padding-right: 1em; text-align: center; vertical-align: top\">3.04452</td>\n",
       "        <td style=\"padding-left: 1em; padding-right: 1em; text-align: center; vertical-align: top\">2.56495</td>\n",
       "    </tr>\n",
       "    <tr>\n",
       "        <td style=\"padding-left: 1em; padding-right: 1em; text-align: center; vertical-align: top\">1573296</td>\n",
       "        <td style=\"padding-left: 1em; padding-right: 1em; text-align: center; vertical-align: top\">10</td>\n",
       "        <td style=\"padding-left: 1em; padding-right: 1em; text-align: center; vertical-align: top\">1427</td>\n",
       "        <td style=\"padding-left: 1em; padding-right: 1em; text-align: center; vertical-align: top\">1</td>\n",
       "        <td style=\"padding-left: 1em; padding-right: 1em; text-align: center; vertical-align: top\">1102</td>\n",
       "        <td style=\"padding-left: 1em; padding-right: 1em; text-align: center; vertical-align: top\">4561415</td>\n",
       "        <td style=\"padding-left: 1em; padding-right: 1em; text-align: center; vertical-align: top\">43197</td>\n",
       "        <td style=\"padding-left: 1em; padding-right: 1em; text-align: center; vertical-align: top\">1.38629</td>\n",
       "        <td style=\"padding-left: 1em; padding-right: 1em; text-align: center; vertical-align: top\">1.79176</td>\n",
       "        <td style=\"padding-left: 1em; padding-right: 1em; text-align: center; vertical-align: top\">1.94591</td>\n",
       "    </tr>\n",
       "    <tr>\n",
       "        <td style=\"padding-left: 1em; padding-right: 1em; text-align: center; vertical-align: top\">1619375</td>\n",
       "        <td style=\"padding-left: 1em; padding-right: 1em; text-align: center; vertical-align: top\">10</td>\n",
       "        <td style=\"padding-left: 1em; padding-right: 1em; text-align: center; vertical-align: top\">1629</td>\n",
       "        <td style=\"padding-left: 1em; padding-right: 1em; text-align: center; vertical-align: top\">1</td>\n",
       "        <td style=\"padding-left: 1em; padding-right: 1em; text-align: center; vertical-align: top\">1013</td>\n",
       "        <td style=\"padding-left: 1em; padding-right: 1em; text-align: center; vertical-align: top\">169508</td>\n",
       "        <td style=\"padding-left: 1em; padding-right: 1em; text-align: center; vertical-align: top\">1146</td>\n",
       "        <td style=\"padding-left: 1em; padding-right: 1em; text-align: center; vertical-align: top\">2.07944</td>\n",
       "        <td style=\"padding-left: 1em; padding-right: 1em; text-align: center; vertical-align: top\">2.19722</td>\n",
       "        <td style=\"padding-left: 1em; padding-right: 1em; text-align: center; vertical-align: top\">1.79176</td>\n",
       "    </tr>\n",
       "    <tr>\n",
       "        <td style=\"padding-left: 1em; padding-right: 1em; text-align: center; vertical-align: top\">3539201</td>\n",
       "        <td style=\"padding-left: 1em; padding-right: 1em; text-align: center; vertical-align: top\">11</td>\n",
       "        <td style=\"padding-left: 1em; padding-right: 1em; text-align: center; vertical-align: top\">1120</td>\n",
       "        <td style=\"padding-left: 1em; padding-right: 1em; text-align: center; vertical-align: top\">1</td>\n",
       "        <td style=\"padding-left: 1em; padding-right: 1em; text-align: center; vertical-align: top\">1453</td>\n",
       "        <td style=\"padding-left: 1em; padding-right: 1em; text-align: center; vertical-align: top\">4602755</td>\n",
       "        <td style=\"padding-left: 1em; padding-right: 1em; text-align: center; vertical-align: top\">1230</td>\n",
       "        <td style=\"padding-left: 1em; padding-right: 1em; text-align: center; vertical-align: top\">0.0</td>\n",
       "        <td style=\"padding-left: 1em; padding-right: 1em; text-align: center; vertical-align: top\">1.38629</td>\n",
       "        <td style=\"padding-left: 1em; padding-right: 1em; text-align: center; vertical-align: top\">1.38629</td>\n",
       "    </tr>\n",
       "    <tr>\n",
       "        <td style=\"padding-left: 1em; padding-right: 1em; text-align: center; vertical-align: top\">1631781</td>\n",
       "        <td style=\"padding-left: 1em; padding-right: 1em; text-align: center; vertical-align: top\">10</td>\n",
       "        <td style=\"padding-left: 1em; padding-right: 1em; text-align: center; vertical-align: top\">1385</td>\n",
       "        <td style=\"padding-left: 1em; padding-right: 1em; text-align: center; vertical-align: top\">4</td>\n",
       "        <td style=\"padding-left: 1em; padding-right: 1em; text-align: center; vertical-align: top\">6617</td>\n",
       "        <td style=\"padding-left: 1em; padding-right: 1em; text-align: center; vertical-align: top\">20130</td>\n",
       "        <td style=\"padding-left: 1em; padding-right: 1em; text-align: center; vertical-align: top\">2025</td>\n",
       "        <td style=\"padding-left: 1em; padding-right: 1em; text-align: center; vertical-align: top\">2.56495</td>\n",
       "        <td style=\"padding-left: 1em; padding-right: 1em; text-align: center; vertical-align: top\">0.0</td>\n",
       "        <td style=\"padding-left: 1em; padding-right: 1em; text-align: center; vertical-align: top\">2.56495</td>\n",
       "    </tr>\n",
       "</table>\n",
       "<table frame=\"box\" rules=\"cols\">\n",
       "    <tr>\n",
       "        <th style=\"padding-left: 1em; padding-right: 1em; text-align: center\">lag4</th>\n",
       "        <th style=\"padding-left: 1em; padding-right: 1em; text-align: center\">lag5</th>\n",
       "        <th style=\"padding-left: 1em; padding-right: 1em; text-align: center\">lag_sum</th>\n",
       "        <th style=\"padding-left: 1em; padding-right: 1em; text-align: center\">prior_sum</th>\n",
       "        <th style=\"padding-left: 1em; padding-right: 1em; text-align: center\">week_times</th>\n",
       "        <th style=\"padding-left: 1em; padding-right: 1em; text-align: center\">n_a</th>\n",
       "        <th style=\"padding-left: 1em; padding-right: 1em; text-align: center\">n_r</th>\n",
       "        <th style=\"padding-left: 1em; padding-right: 1em; text-align: center\">n_c</th>\n",
       "        <th style=\"padding-left: 1em; padding-right: 1em; text-align: center\">n_p</th>\n",
       "        <th style=\"padding-left: 1em; padding-right: 1em; text-align: center\">t_c</th>\n",
       "        <th style=\"padding-left: 1em; padding-right: 1em; text-align: center\">tcc</th>\n",
       "    </tr>\n",
       "    <tr>\n",
       "        <td style=\"padding-left: 1em; padding-right: 1em; text-align: center; vertical-align: top\">1.94591</td>\n",
       "        <td style=\"padding-left: 1em; padding-right: 1em; text-align: center; vertical-align: top\">1.38629</td>\n",
       "        <td style=\"padding-left: 1em; padding-right: 1em; text-align: center; vertical-align: top\">4.94164</td>\n",
       "        <td style=\"padding-left: 1em; padding-right: 1em; text-align: center; vertical-align: top\">4.94164</td>\n",
       "        <td style=\"padding-left: 1em; padding-right: 1em; text-align: center; vertical-align: top\">1</td>\n",
       "        <td style=\"padding-left: 1em; padding-right: 1em; text-align: center; vertical-align: top\">65135.3</td>\n",
       "        <td style=\"padding-left: 1em; padding-right: 1em; text-align: center; vertical-align: top\">27403.3</td>\n",
       "        <td style=\"padding-left: 1em; padding-right: 1em; text-align: center; vertical-align: top\">36.1429</td>\n",
       "        <td style=\"padding-left: 1em; padding-right: 1em; text-align: center; vertical-align: top\">44202.3</td>\n",
       "        <td style=\"padding-left: 1em; padding-right: 1em; text-align: center; vertical-align: top\">4</td>\n",
       "        <td style=\"padding-left: 1em; padding-right: 1em; text-align: center; vertical-align: top\">5437</td>\n",
       "    </tr>\n",
       "    <tr>\n",
       "        <td style=\"padding-left: 1em; padding-right: 1em; text-align: center; vertical-align: top\">0.0</td>\n",
       "        <td style=\"padding-left: 1em; padding-right: 1em; text-align: center; vertical-align: top\">0.0</td>\n",
       "        <td style=\"padding-left: 1em; padding-right: 1em; text-align: center; vertical-align: top\">2.48491</td>\n",
       "        <td style=\"padding-left: 1em; padding-right: 1em; text-align: center; vertical-align: top\">3.17805</td>\n",
       "        <td style=\"padding-left: 1em; padding-right: 1em; text-align: center; vertical-align: top\">1</td>\n",
       "        <td style=\"padding-left: 1em; padding-right: 1em; text-align: center; vertical-align: top\">29145.6</td>\n",
       "        <td style=\"padding-left: 1em; padding-right: 1em; text-align: center; vertical-align: top\">23702.4</td>\n",
       "        <td style=\"padding-left: 1em; padding-right: 1em; text-align: center; vertical-align: top\">27.8571</td>\n",
       "        <td style=\"padding-left: 1em; padding-right: 1em; text-align: center; vertical-align: top\">97279.0</td>\n",
       "        <td style=\"padding-left: 1em; padding-right: 1em; text-align: center; vertical-align: top\">4</td>\n",
       "        <td style=\"padding-left: 1em; padding-right: 1em; text-align: center; vertical-align: top\">2239</td>\n",
       "    </tr>\n",
       "    <tr>\n",
       "        <td style=\"padding-left: 1em; padding-right: 1em; text-align: center; vertical-align: top\">1.38629</td>\n",
       "        <td style=\"padding-left: 1em; padding-right: 1em; text-align: center; vertical-align: top\">0.693147</td>\n",
       "        <td style=\"padding-left: 1em; padding-right: 1em; text-align: center; vertical-align: top\">4.56435</td>\n",
       "        <td style=\"padding-left: 1em; padding-right: 1em; text-align: center; vertical-align: top\">5.2575</td>\n",
       "        <td style=\"padding-left: 1em; padding-right: 1em; text-align: center; vertical-align: top\">1</td>\n",
       "        <td style=\"padding-left: 1em; padding-right: 1em; text-align: center; vertical-align: top\">18224.3</td>\n",
       "        <td style=\"padding-left: 1em; padding-right: 1em; text-align: center; vertical-align: top\">21835.9</td>\n",
       "        <td style=\"padding-left: 1em; padding-right: 1em; text-align: center; vertical-align: top\">12.5714</td>\n",
       "        <td style=\"padding-left: 1em; padding-right: 1em; text-align: center; vertical-align: top\">209801.0</td>\n",
       "        <td style=\"padding-left: 1em; padding-right: 1em; text-align: center; vertical-align: top\">2</td>\n",
       "        <td style=\"padding-left: 1em; padding-right: 1em; text-align: center; vertical-align: top\">1275</td>\n",
       "    </tr>\n",
       "    <tr>\n",
       "        <td style=\"padding-left: 1em; padding-right: 1em; text-align: center; vertical-align: top\">0.693147</td>\n",
       "        <td style=\"padding-left: 1em; padding-right: 1em; text-align: center; vertical-align: top\">1.38629</td>\n",
       "        <td style=\"padding-left: 1em; padding-right: 1em; text-align: center; vertical-align: top\">3.46574</td>\n",
       "        <td style=\"padding-left: 1em; padding-right: 1em; text-align: center; vertical-align: top\">6.68461</td>\n",
       "        <td style=\"padding-left: 1em; padding-right: 1em; text-align: center; vertical-align: top\">1</td>\n",
       "        <td style=\"padding-left: 1em; padding-right: 1em; text-align: center; vertical-align: top\">115183.0</td>\n",
       "        <td style=\"padding-left: 1em; padding-right: 1em; text-align: center; vertical-align: top\">26237.0</td>\n",
       "        <td style=\"padding-left: 1em; padding-right: 1em; text-align: center; vertical-align: top\">42.8571</td>\n",
       "        <td style=\"padding-left: 1em; padding-right: 1em; text-align: center; vertical-align: top\">210297.0</td>\n",
       "        <td style=\"padding-left: 1em; padding-right: 1em; text-align: center; vertical-align: top\">3</td>\n",
       "        <td style=\"padding-left: 1em; padding-right: 1em; text-align: center; vertical-align: top\">8302</td>\n",
       "    </tr>\n",
       "    <tr>\n",
       "        <td style=\"padding-left: 1em; padding-right: 1em; text-align: center; vertical-align: top\">2.07944</td>\n",
       "        <td style=\"padding-left: 1em; padding-right: 1em; text-align: center; vertical-align: top\">0.0</td>\n",
       "        <td style=\"padding-left: 1em; padding-right: 1em; text-align: center; vertical-align: top\">8.16622</td>\n",
       "        <td style=\"padding-left: 1em; padding-right: 1em; text-align: center; vertical-align: top\">8.16622</td>\n",
       "        <td style=\"padding-left: 1em; padding-right: 1em; text-align: center; vertical-align: top\">1</td>\n",
       "        <td style=\"padding-left: 1em; padding-right: 1em; text-align: center; vertical-align: top\">22129.6</td>\n",
       "        <td style=\"padding-left: 1em; padding-right: 1em; text-align: center; vertical-align: top\">487.286</td>\n",
       "        <td style=\"padding-left: 1em; padding-right: 1em; text-align: center; vertical-align: top\">3.33333</td>\n",
       "        <td style=\"padding-left: 1em; padding-right: 1em; text-align: center; vertical-align: top\">1682.71</td>\n",
       "        <td style=\"padding-left: 1em; padding-right: 1em; text-align: center; vertical-align: top\">3</td>\n",
       "        <td style=\"padding-left: 1em; padding-right: 1em; text-align: center; vertical-align: top\">1598</td>\n",
       "    </tr>\n",
       "    <tr>\n",
       "        <td style=\"padding-left: 1em; padding-right: 1em; text-align: center; vertical-align: top\">0.0</td>\n",
       "        <td style=\"padding-left: 1em; padding-right: 1em; text-align: center; vertical-align: top\">0.0</td>\n",
       "        <td style=\"padding-left: 1em; padding-right: 1em; text-align: center; vertical-align: top\">8.38206</td>\n",
       "        <td style=\"padding-left: 1em; padding-right: 1em; text-align: center; vertical-align: top\">8.38206</td>\n",
       "        <td style=\"padding-left: 1em; padding-right: 1em; text-align: center; vertical-align: top\">1</td>\n",
       "        <td style=\"padding-left: 1em; padding-right: 1em; text-align: center; vertical-align: top\">67966.0</td>\n",
       "        <td style=\"padding-left: 1em; padding-right: 1em; text-align: center; vertical-align: top\">10179.9</td>\n",
       "        <td style=\"padding-left: 1em; padding-right: 1em; text-align: center; vertical-align: top\">20.7143</td>\n",
       "        <td style=\"padding-left: 1em; padding-right: 1em; text-align: center; vertical-align: top\">134427.0</td>\n",
       "        <td style=\"padding-left: 1em; padding-right: 1em; text-align: center; vertical-align: top\">2</td>\n",
       "        <td style=\"padding-left: 1em; padding-right: 1em; text-align: center; vertical-align: top\">4757</td>\n",
       "    </tr>\n",
       "    <tr>\n",
       "        <td style=\"padding-left: 1em; padding-right: 1em; text-align: center; vertical-align: top\">1.94591</td>\n",
       "        <td style=\"padding-left: 1em; padding-right: 1em; text-align: center; vertical-align: top\">1.94591</td>\n",
       "        <td style=\"padding-left: 1em; padding-right: 1em; text-align: center; vertical-align: top\">9.01578</td>\n",
       "        <td style=\"padding-left: 1em; padding-right: 1em; text-align: center; vertical-align: top\">10.9617</td>\n",
       "        <td style=\"padding-left: 1em; padding-right: 1em; text-align: center; vertical-align: top\">1</td>\n",
       "        <td style=\"padding-left: 1em; padding-right: 1em; text-align: center; vertical-align: top\">29824.4</td>\n",
       "        <td style=\"padding-left: 1em; padding-right: 1em; text-align: center; vertical-align: top\">50102.3</td>\n",
       "        <td style=\"padding-left: 1em; padding-right: 1em; text-align: center; vertical-align: top\">18.5714</td>\n",
       "        <td style=\"padding-left: 1em; padding-right: 1em; text-align: center; vertical-align: top\">37476.6</td>\n",
       "        <td style=\"padding-left: 1em; padding-right: 1em; text-align: center; vertical-align: top\">5</td>\n",
       "        <td style=\"padding-left: 1em; padding-right: 1em; text-align: center; vertical-align: top\">2526</td>\n",
       "    </tr>\n",
       "    <tr>\n",
       "        <td style=\"padding-left: 1em; padding-right: 1em; text-align: center; vertical-align: top\">2.07944</td>\n",
       "        <td style=\"padding-left: 1em; padding-right: 1em; text-align: center; vertical-align: top\">2.19722</td>\n",
       "        <td style=\"padding-left: 1em; padding-right: 1em; text-align: center; vertical-align: top\">10.3451</td>\n",
       "        <td style=\"padding-left: 1em; padding-right: 1em; text-align: center; vertical-align: top\">14.4394</td>\n",
       "        <td style=\"padding-left: 1em; padding-right: 1em; text-align: center; vertical-align: top\">1</td>\n",
       "        <td style=\"padding-left: 1em; padding-right: 1em; text-align: center; vertical-align: top\">71909.4</td>\n",
       "        <td style=\"padding-left: 1em; padding-right: 1em; text-align: center; vertical-align: top\">26384.6</td>\n",
       "        <td style=\"padding-left: 1em; padding-right: 1em; text-align: center; vertical-align: top\">54.7143</td>\n",
       "        <td style=\"padding-left: 1em; padding-right: 1em; text-align: center; vertical-align: top\">209801.0</td>\n",
       "        <td style=\"padding-left: 1em; padding-right: 1em; text-align: center; vertical-align: top\">4</td>\n",
       "        <td style=\"padding-left: 1em; padding-right: 1em; text-align: center; vertical-align: top\">5960</td>\n",
       "    </tr>\n",
       "    <tr>\n",
       "        <td style=\"padding-left: 1em; padding-right: 1em; text-align: center; vertical-align: top\">1.09861</td>\n",
       "        <td style=\"padding-left: 1em; padding-right: 1em; text-align: center; vertical-align: top\">1.38629</td>\n",
       "        <td style=\"padding-left: 1em; padding-right: 1em; text-align: center; vertical-align: top\">5.2575</td>\n",
       "        <td style=\"padding-left: 1em; padding-right: 1em; text-align: center; vertical-align: top\">6.35611</td>\n",
       "        <td style=\"padding-left: 1em; padding-right: 1em; text-align: center; vertical-align: top\">1</td>\n",
       "        <td style=\"padding-left: 1em; padding-right: 1em; text-align: center; vertical-align: top\">66669.6</td>\n",
       "        <td style=\"padding-left: 1em; padding-right: 1em; text-align: center; vertical-align: top\">5889.57</td>\n",
       "        <td style=\"padding-left: 1em; padding-right: 1em; text-align: center; vertical-align: top\">46.8571</td>\n",
       "        <td style=\"padding-left: 1em; padding-right: 1em; text-align: center; vertical-align: top\">97279.0</td>\n",
       "        <td style=\"padding-left: 1em; padding-right: 1em; text-align: center; vertical-align: top\">4</td>\n",
       "        <td style=\"padding-left: 1em; padding-right: 1em; text-align: center; vertical-align: top\">5094</td>\n",
       "    </tr>\n",
       "    <tr>\n",
       "        <td style=\"padding-left: 1em; padding-right: 1em; text-align: center; vertical-align: top\">2.48491</td>\n",
       "        <td style=\"padding-left: 1em; padding-right: 1em; text-align: center; vertical-align: top\">2.07944</td>\n",
       "        <td style=\"padding-left: 1em; padding-right: 1em; text-align: center; vertical-align: top\">9.69425</td>\n",
       "        <td style=\"padding-left: 1em; padding-right: 1em; text-align: center; vertical-align: top\">14.7441</td>\n",
       "        <td style=\"padding-left: 1em; padding-right: 1em; text-align: center; vertical-align: top\">1</td>\n",
       "        <td style=\"padding-left: 1em; padding-right: 1em; text-align: center; vertical-align: top\">5707.29</td>\n",
       "        <td style=\"padding-left: 1em; padding-right: 1em; text-align: center; vertical-align: top\">5323.86</td>\n",
       "        <td style=\"padding-left: 1em; padding-right: 1em; text-align: center; vertical-align: top\">10.8571</td>\n",
       "        <td style=\"padding-left: 1em; padding-right: 1em; text-align: center; vertical-align: top\">11829.3</td>\n",
       "        <td style=\"padding-left: 1em; padding-right: 1em; text-align: center; vertical-align: top\">6</td>\n",
       "        <td style=\"padding-left: 1em; padding-right: 1em; text-align: center; vertical-align: top\">4087</td>\n",
       "    </tr>\n",
       "</table>\n",
       "<table frame=\"box\" rules=\"cols\">\n",
       "    <tr>\n",
       "        <th style=\"padding-left: 1em; padding-right: 1em; text-align: center\">tp_sum</th>\n",
       "    </tr>\n",
       "    <tr>\n",
       "        <td style=\"padding-left: 1em; padding-right: 1em; text-align: center; vertical-align: top\">22072.1</td>\n",
       "    </tr>\n",
       "    <tr>\n",
       "        <td style=\"padding-left: 1em; padding-right: 1em; text-align: center; vertical-align: top\">7288.35</td>\n",
       "    </tr>\n",
       "    <tr>\n",
       "        <td style=\"padding-left: 1em; padding-right: 1em; text-align: center; vertical-align: top\">6922.05</td>\n",
       "    </tr>\n",
       "    <tr>\n",
       "        <td style=\"padding-left: 1em; padding-right: 1em; text-align: center; vertical-align: top\">18695.9</td>\n",
       "    </tr>\n",
       "    <tr>\n",
       "        <td style=\"padding-left: 1em; padding-right: 1em; text-align: center; vertical-align: top\">1831.61</td>\n",
       "    </tr>\n",
       "    <tr>\n",
       "        <td style=\"padding-left: 1em; padding-right: 1em; text-align: center; vertical-align: top\">9574.76</td>\n",
       "    </tr>\n",
       "    <tr>\n",
       "        <td style=\"padding-left: 1em; padding-right: 1em; text-align: center; vertical-align: top\">10830.0</td>\n",
       "    </tr>\n",
       "    <tr>\n",
       "        <td style=\"padding-left: 1em; padding-right: 1em; text-align: center; vertical-align: top\">15834.2</td>\n",
       "    </tr>\n",
       "    <tr>\n",
       "        <td style=\"padding-left: 1em; padding-right: 1em; text-align: center; vertical-align: top\">7680.14</td>\n",
       "    </tr>\n",
       "    <tr>\n",
       "        <td style=\"padding-left: 1em; padding-right: 1em; text-align: center; vertical-align: top\">2287.19</td>\n",
       "    </tr>\n",
       "</table>\n",
       "[6999251 rows x 22 columns]<br/>Note: Only the head of the SFrame is printed.<br/>You can use print_rows(num_rows=m, num_columns=n) to print more rows and columns.\n",
       "</div>"
      ],
      "text/plain": [
       "Columns:\n",
       "\tid\tint\n",
       "\tSemana\tint\n",
       "\tAgencia_ID\tint\n",
       "\tCanal_ID\tint\n",
       "\tRuta_SAK\tint\n",
       "\tCliente_ID\tint\n",
       "\tProducto_ID\tint\n",
       "\tlag1\tfloat\n",
       "\tlag2\tfloat\n",
       "\tlag3\tfloat\n",
       "\tlag4\tfloat\n",
       "\tlag5\tfloat\n",
       "\tlag_sum\tfloat\n",
       "\tprior_sum\tfloat\n",
       "\tweek_times\tint\n",
       "\tn_a\tfloat\n",
       "\tn_r\tfloat\n",
       "\tn_c\tfloat\n",
       "\tn_p\tfloat\n",
       "\tt_c\tint\n",
       "\ttcc\tint\n",
       "\ttp_sum\tfloat\n",
       "\n",
       "Rows: 6999251\n",
       "\n",
       "Data:\n",
       "+---------+--------+------------+----------+----------+------------+-------------+\n",
       "|    id   | Semana | Agencia_ID | Canal_ID | Ruta_SAK | Cliente_ID | Producto_ID |\n",
       "+---------+--------+------------+----------+----------+------------+-------------+\n",
       "| 4721633 |   10   |    4037    |    1     |   1153   |  2398808   |    43202    |\n",
       "| 6035419 |   10   |    2239    |    1     |   1157   |  1529806   |     1230    |\n",
       "| 3462602 |   10   |    1366    |    1     |   1051   |  1368806   |     1146    |\n",
       "|  855102 |   10   |    1911    |    1     |   1156   |   867160   |     1232    |\n",
       "| 3242700 |   11   |    1952    |    11    |   5721   |  1126647   |    47612    |\n",
       "| 2421613 |   10   |    2653    |    1     |   2117   |   954439   |    35305    |\n",
       "| 1573296 |   10   |    1427    |    1     |   1102   |  4561415   |    43197    |\n",
       "| 1619375 |   10   |    1629    |    1     |   1013   |   169508   |     1146    |\n",
       "| 3539201 |   11   |    1120    |    1     |   1453   |  4602755   |     1230    |\n",
       "| 1631781 |   10   |    1385    |    4     |   6617   |   20130    |     2025    |\n",
       "+---------+--------+------------+----------+----------+------------+-------------+\n",
       "+---------+----------+----------+----------+----------+---------+-----------+------------+\n",
       "|   lag1  |   lag2   |   lag3   |   lag4   |   lag5   | lag_sum | prior_sum | week_times |\n",
       "+---------+----------+----------+----------+----------+---------+-----------+------------+\n",
       "|   0.0   |   0.0    | 1.60944  | 1.94591  | 1.38629  | 4.94164 |  4.94164  |     1      |\n",
       "| 1.09861 | 1.38629  |   0.0    |   0.0    |   0.0    | 2.48491 |  3.17805  |     1      |\n",
       "| 1.09861 | 0.693147 | 0.693147 | 1.38629  | 0.693147 | 4.56435 |   5.2575  |     1      |\n",
       "| 1.38629 |   0.0    |   0.0    | 0.693147 | 1.38629  | 3.46574 |  6.68461  |     1      |\n",
       "|   0.0   | 3.09104  | 2.99573  | 2.07944  |   0.0    | 8.16622 |  8.16622  |     1      |\n",
       "| 2.77259 | 3.04452  | 2.56495  |   0.0    |   0.0    | 8.38206 |  8.38206  |     1      |\n",
       "| 1.38629 | 1.79176  | 1.94591  | 1.94591  | 1.94591  | 9.01578 |  10.9617  |     1      |\n",
       "| 2.07944 | 2.19722  | 1.79176  | 2.07944  | 2.19722  | 10.3451 |  14.4394  |     1      |\n",
       "|   0.0   | 1.38629  | 1.38629  | 1.09861  | 1.38629  |  5.2575 |  6.35611  |     1      |\n",
       "| 2.56495 |   0.0    | 2.56495  | 2.48491  | 2.07944  | 9.69425 |  14.7441  |     1      |\n",
       "+---------+----------+----------+----------+----------+---------+-----------+------------+\n",
       "+----------+---------+---------+----------+-----+-----+\n",
       "|   n_a    |   n_r   |   n_c   |   n_p    | t_c | ... |\n",
       "+----------+---------+---------+----------+-----+-----+\n",
       "| 65135.3  | 27403.3 | 36.1429 | 44202.3  |  4  | ... |\n",
       "| 29145.6  | 23702.4 | 27.8571 | 97279.0  |  4  | ... |\n",
       "| 18224.3  | 21835.9 | 12.5714 | 209801.0 |  2  | ... |\n",
       "| 115183.0 | 26237.0 | 42.8571 | 210297.0 |  3  | ... |\n",
       "| 22129.6  | 487.286 | 3.33333 | 1682.71  |  3  | ... |\n",
       "| 67966.0  | 10179.9 | 20.7143 | 134427.0 |  2  | ... |\n",
       "| 29824.4  | 50102.3 | 18.5714 | 37476.6  |  5  | ... |\n",
       "| 71909.4  | 26384.6 | 54.7143 | 209801.0 |  4  | ... |\n",
       "| 66669.6  | 5889.57 | 46.8571 | 97279.0  |  4  | ... |\n",
       "| 5707.29  | 5323.86 | 10.8571 | 11829.3  |  6  | ... |\n",
       "+----------+---------+---------+----------+-----+-----+\n",
       "[6999251 rows x 22 columns]\n",
       "Note: Only the head of the SFrame is printed.\n",
       "You can use print_rows(num_rows=m, num_columns=n) to print more rows and columns."
      ]
     },
     "execution_count": 24,
     "metadata": {},
     "output_type": "execute_result"
    }
   ],
   "source": [
    "test"
   ]
  },
  {
   "cell_type": "code",
   "execution_count": 25,
   "metadata": {
    "collapsed": false
   },
   "outputs": [],
   "source": [
    "ids = test['id']"
   ]
  },
  {
   "cell_type": "code",
   "execution_count": 26,
   "metadata": {
    "collapsed": false,
    "scrolled": false
   },
   "outputs": [],
   "source": [
    "del test['id']"
   ]
  },
  {
   "cell_type": "code",
   "execution_count": 27,
   "metadata": {
    "collapsed": true
   },
   "outputs": [],
   "source": [
    "demand_log = model.predict(test)"
   ]
  },
  {
   "cell_type": "code",
   "execution_count": 30,
   "metadata": {
    "collapsed": true
   },
   "outputs": [],
   "source": [
    "sub = gl.SFrame({'id':ids,'Demanda_uni_equil':demand_log})"
   ]
  },
  {
   "cell_type": "code",
   "execution_count": 33,
   "metadata": {
    "collapsed": false
   },
   "outputs": [],
   "source": [
    "import math\n",
    "sub['Demanda_uni_equil'] = sub['Demanda_uni_equil'].apply(lambda x: math.expm1(max(0, x)))"
   ]
  },
  {
   "cell_type": "code",
   "execution_count": 34,
   "metadata": {
    "collapsed": false
   },
   "outputs": [
    {
     "data": {
      "text/html": [
       "<div style=\"max-height:1000px;max-width:1500px;overflow:auto;\"><table frame=\"box\" rules=\"cols\">\n",
       "    <tr>\n",
       "        <th style=\"padding-left: 1em; padding-right: 1em; text-align: center\">Demanda_uni_equil</th>\n",
       "        <th style=\"padding-left: 1em; padding-right: 1em; text-align: center\">id</th>\n",
       "    </tr>\n",
       "    <tr>\n",
       "        <td style=\"padding-left: 1em; padding-right: 1em; text-align: center; vertical-align: top\">3.39354070541</td>\n",
       "        <td style=\"padding-left: 1em; padding-right: 1em; text-align: center; vertical-align: top\">4721633</td>\n",
       "    </tr>\n",
       "    <tr>\n",
       "        <td style=\"padding-left: 1em; padding-right: 1em; text-align: center; vertical-align: top\">2.12662481892</td>\n",
       "        <td style=\"padding-left: 1em; padding-right: 1em; text-align: center; vertical-align: top\">6035419</td>\n",
       "    </tr>\n",
       "    <tr>\n",
       "        <td style=\"padding-left: 1em; padding-right: 1em; text-align: center; vertical-align: top\">1.70040726436</td>\n",
       "        <td style=\"padding-left: 1em; padding-right: 1em; text-align: center; vertical-align: top\">3462602</td>\n",
       "    </tr>\n",
       "    <tr>\n",
       "        <td style=\"padding-left: 1em; padding-right: 1em; text-align: center; vertical-align: top\">3.01457863433</td>\n",
       "        <td style=\"padding-left: 1em; padding-right: 1em; text-align: center; vertical-align: top\">855102</td>\n",
       "    </tr>\n",
       "    <tr>\n",
       "        <td style=\"padding-left: 1em; padding-right: 1em; text-align: center; vertical-align: top\">9.90822214871</td>\n",
       "        <td style=\"padding-left: 1em; padding-right: 1em; text-align: center; vertical-align: top\">3242700</td>\n",
       "    </tr>\n",
       "    <tr>\n",
       "        <td style=\"padding-left: 1em; padding-right: 1em; text-align: center; vertical-align: top\">12.0511999688</td>\n",
       "        <td style=\"padding-left: 1em; padding-right: 1em; text-align: center; vertical-align: top\">2421613</td>\n",
       "    </tr>\n",
       "    <tr>\n",
       "        <td style=\"padding-left: 1em; padding-right: 1em; text-align: center; vertical-align: top\">3.74027486912</td>\n",
       "        <td style=\"padding-left: 1em; padding-right: 1em; text-align: center; vertical-align: top\">1573296</td>\n",
       "    </tr>\n",
       "    <tr>\n",
       "        <td style=\"padding-left: 1em; padding-right: 1em; text-align: center; vertical-align: top\">8.52467448859</td>\n",
       "        <td style=\"padding-left: 1em; padding-right: 1em; text-align: center; vertical-align: top\">1619375</td>\n",
       "    </tr>\n",
       "    <tr>\n",
       "        <td style=\"padding-left: 1em; padding-right: 1em; text-align: center; vertical-align: top\">1.88249081059</td>\n",
       "        <td style=\"padding-left: 1em; padding-right: 1em; text-align: center; vertical-align: top\">3539201</td>\n",
       "    </tr>\n",
       "    <tr>\n",
       "        <td style=\"padding-left: 1em; padding-right: 1em; text-align: center; vertical-align: top\">10.1654762286</td>\n",
       "        <td style=\"padding-left: 1em; padding-right: 1em; text-align: center; vertical-align: top\">1631781</td>\n",
       "    </tr>\n",
       "</table>\n",
       "[6999251 rows x 2 columns]<br/>Note: Only the head of the SFrame is printed.<br/>You can use print_rows(num_rows=m, num_columns=n) to print more rows and columns.\n",
       "</div>"
      ],
      "text/plain": [
       "Columns:\n",
       "\tDemanda_uni_equil\tfloat\n",
       "\tid\tint\n",
       "\n",
       "Rows: 6999251\n",
       "\n",
       "Data:\n",
       "+-------------------+---------+\n",
       "| Demanda_uni_equil |    id   |\n",
       "+-------------------+---------+\n",
       "|   3.39354070541   | 4721633 |\n",
       "|   2.12662481892   | 6035419 |\n",
       "|   1.70040726436   | 3462602 |\n",
       "|   3.01457863433   |  855102 |\n",
       "|   9.90822214871   | 3242700 |\n",
       "|   12.0511999688   | 2421613 |\n",
       "|   3.74027486912   | 1573296 |\n",
       "|   8.52467448859   | 1619375 |\n",
       "|   1.88249081059   | 3539201 |\n",
       "|   10.1654762286   | 1631781 |\n",
       "+-------------------+---------+\n",
       "[6999251 rows x 2 columns]\n",
       "Note: Only the head of the SFrame is printed.\n",
       "You can use print_rows(num_rows=m, num_columns=n) to print more rows and columns."
      ]
     },
     "execution_count": 34,
     "metadata": {},
     "output_type": "execute_result"
    }
   ],
   "source": [
    "sub"
   ]
  },
  {
   "cell_type": "code",
   "execution_count": 35,
   "metadata": {
    "collapsed": true
   },
   "outputs": [],
   "source": [
    "sub.save(path+'gbrt_sub3.csv',format='csv')"
   ]
  },
  {
   "cell_type": "code",
   "execution_count": 43,
   "metadata": {
    "collapsed": false
   },
   "outputs": [
    {
     "data": {
      "text/plain": [
       "1.9999999999999996"
      ]
     },
     "execution_count": 43,
     "metadata": {},
     "output_type": "execute_result"
    }
   ],
   "source": [
    "math.expm1(math.log1p(2))"
   ]
  },
  {
   "cell_type": "code",
   "execution_count": 40,
   "metadata": {
    "collapsed": false
   },
   "outputs": [
    {
     "data": {
      "text/plain": [
       "1.0986122886681098"
      ]
     },
     "execution_count": 40,
     "metadata": {},
     "output_type": "execute_result"
    }
   ],
   "source": []
  },
  {
   "cell_type": "code",
   "execution_count": null,
   "metadata": {
    "collapsed": true
   },
   "outputs": [],
   "source": []
  }
 ],
 "metadata": {
  "kernelspec": {
   "display_name": "Python 2",
   "language": "python",
   "name": "python2"
  },
  "language_info": {
   "codemirror_mode": {
    "name": "ipython",
    "version": 2
   },
   "file_extension": ".py",
   "mimetype": "text/x-python",
   "name": "python",
   "nbconvert_exporter": "python",
   "pygments_lexer": "ipython2",
   "version": "2.7.6"
  }
 },
 "nbformat": 4,
 "nbformat_minor": 0
}
