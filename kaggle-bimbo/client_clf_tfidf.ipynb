{
 "cells": [
  {
   "cell_type": "code",
   "execution_count": 35,
   "metadata": {
    "collapsed": true
   },
   "outputs": [],
   "source": [
    "import numpy as np # linear algebra\n",
    "import pandas as pd # data processing, CSV file I/O (e.g. pd.read_csv)\n",
    "\n",
    "# Input data files are available in the \"../input/\" directory.\n",
    "# For example, running this (by clicking run or pressing Shift+Enter) will list the files in the input directory\n",
    "\n",
    "from subprocess import check_output\n",
    "#print(check_output([\"ls\", \"../input\"]).decode(\"utf8\"))\n",
    "\n",
    "# Any results you write to the current directory are saved as output.\n",
    "\n",
    "# Load in the Client Name data\n",
    "# Make sure all names uppercase (there are some mixed instances)\n",
    "pd.set_option('display.max_rows', 30)\n",
    "path = '/home/zongyi/bimbo_data/'\n",
    "# path = '/Users/zonemercy/jupyter_notebook/bimbo_data/'\n",
    "vf = pd.read_csv(path+'cliente_tabla.csv',header=0)\n",
    "vf['NombreCliente'] = vf['NombreCliente'].str.upper()"
   ]
  },
  {
   "cell_type": "code",
   "execution_count": 3,
   "metadata": {
    "collapsed": false,
    "scrolled": true
   },
   "outputs": [
    {
     "data": {
      "text/plain": [
       "NO IDENTIFICADO    281670\n",
       "LUPITA               4863\n",
       "MARY                 3016\n",
       "LA PASADITA          2426\n",
       "LA VENTANITA         2267\n",
       "LA GUADALUPANA       1299\n",
       "ROSY                 1246\n",
       "ALEX                 1242\n",
       "GABY                 1238\n",
       "LA ESCONDIDA         1216\n",
       "Name: NombreCliente, dtype: int64"
      ]
     },
     "execution_count": 3,
     "metadata": {},
     "output_type": "execute_result"
    }
   ],
   "source": [
    "vf['NombreCliente'].value_counts()[0:10]"
   ]
  },
  {
   "cell_type": "code",
   "execution_count": 4,
   "metadata": {
    "collapsed": true
   },
   "outputs": [],
   "source": [
    "# Let's also generate a list of individual word frequency across all names\n",
    "def tfidf_score_list(vf2, list_len):\n",
    "    from sklearn.feature_extraction.text import TfidfVectorizer\n",
    "    v = TfidfVectorizer()\n",
    "\n",
    "    vf2['New'] = 'na'\n",
    "    a = \" \".join(vf2['NombreCliente'])\n",
    "    vf2['New'][0] = a\n",
    "\n",
    "    tfidf = v.fit_transform(vf2['New'])\n",
    "\n",
    "    feature_names = v.get_feature_names()\n",
    "\n",
    "    freq = []\n",
    "    doc = 0\n",
    "    feature_index = tfidf[doc,:].nonzero()[1]\n",
    "    tfidf_scores = zip(feature_index, [tfidf[doc, x] for x in feature_index])\n",
    "    for w, s in [(feature_names[i], s) for (i, s) in tfidf_scores]:\n",
    "            freq.append((w.encode('utf-8'),s))\n",
    "    \n",
    "    del vf2['New']\n",
    "    \n",
    "    import numpy as np\n",
    "    names = ['word','score']\n",
    "    formats = ['S50','f8']\n",
    "    dtype = dict(names = names, formats=formats)\n",
    "    array = np.array(freq, dtype=dtype)\n",
    "\n",
    "    b = np.sort(array, order='score')\n",
    "    \n",
    "    if list_len > len(b)+1:\n",
    "        list_len = len(b)+1\n",
    "    for i in range(1,list_len):\n",
    "        print(b[-i])"
   ]
  },
  {
   "cell_type": "code",
   "execution_count": 5,
   "metadata": {
    "collapsed": false,
    "scrolled": true
   },
   "outputs": [
    {
     "name": "stderr",
     "output_type": "stream",
     "text": [
      "/usr/local/lib/python2.7/dist-packages/ipykernel/__main__.py:8: SettingWithCopyWarning: \n",
      "A value is trying to be set on a copy of a slice from a DataFrame\n",
      "\n",
      "See the caveats in the documentation: http://pandas.pydata.org/pandas-docs/stable/indexing.html#indexing-view-versus-copy\n"
     ]
    },
    {
     "name": "stdout",
     "output_type": "stream",
     "text": [
      "('no', 0.6888126004393861)\n",
      "('identificado', 0.6849292193081505)\n",
      "('la', 0.14990532034895288)\n",
      "('el', 0.08328478631485127)\n",
      "('abarrotes', 0.0800093233318993)\n",
      "('de', 0.060769929775020375)\n",
      "('maria', 0.046819424108208656)\n",
      "('miscelanea', 0.038050812737366206)\n",
      "('super', 0.03520332413080589)\n",
      "('los', 0.02841652592336794)\n",
      "('san', 0.025741686070920162)\n",
      "('oxxo', 0.02257321668206611)\n",
      "('del', 0.021668634477420134)\n",
      "('garcia', 0.021376833766244014)\n",
      "('hernandez', 0.02099506116912192)\n",
      "('jose', 0.019835153342196838)\n",
      "('lupita', 0.019261278610217134)\n",
      "('gonzalez', 0.01775850494766011)\n",
      "('martinez', 0.01764664800837593)\n",
      "('lopez', 0.017150586799376526)\n",
      "('mini', 0.015331695699712036)\n",
      "('rodriguez', 0.014891562960354718)\n",
      "('las', 0.01388971385198337)\n",
      "('don', 0.012542567235386944)\n",
      "('comodin', 0.01238450851683321)\n",
      "('guadalupe', 0.012357760118308733)\n",
      "('mary', 0.012270219904955897)\n",
      "('jesus', 0.012024620973049328)\n",
      "('ramirez', 0.011995440901931718)\n",
      "('juan', 0.011966260830814104)\n",
      "('casa', 0.011929785741917089)\n",
      "('ag', 0.011820360475226043)\n",
      "('sanchez', 0.011567466525540072)\n",
      "('perez', 0.011192988946197384)\n",
      "('farmacia', 0.011115175423217084)\n",
      "('hermanos', 0.010881734854276187)\n",
      "('cruz', 0.01042458040676693)\n",
      "('flores', 0.009619696778439463)\n",
      "('mi', 0.008992325249410802)\n",
      "('rosa', 0.008676207812303337)\n",
      "('carmen', 0.008549760837460353)\n",
      "('diconsa', 0.008435472225583038)\n",
      "('papeleria', 0.008204463329235275)\n",
      "('luis', 0.008189873293676469)\n",
      "('torres', 0.007915094290652288)\n",
      "('tienda', 0.007907799272872884)\n",
      "('ventanita', 0.007778920625436765)\n",
      "('ii', 0.007338787886079448)\n",
      "('gomez', 0.007270701053471686)\n",
      "('pasadita', 0.007265837708285418)\n",
      "('cremeria', 0.007226930946795268)\n",
      "('reyes', 0.007141822406035567)\n",
      "('francisco', 0.006660351232594967)\n",
      "('antonio', 0.0066554878874086985)\n",
      "('esperanza', 0.006653056214815564)\n",
      "('ana', 0.00665062454222243)\n",
      "('puesto', 0.00655578931109019)\n",
      "('martha', 0.006529040912565712)\n",
      "('luz', 0.006475544115516757)\n",
      "('santa', 0.0064536590621785475)\n",
      "('angel', 0.006293168671031681)\n",
      "('vazquez', 0.006271283617693472)\n",
      "('gutierrez', 0.006174016713968098)\n",
      "('hamburguesas', 0.006154563333223023)\n",
      "('tiendita', 0.006059728102090784)\n",
      "('diaz', 0.005938144472434066)\n",
      "('miguel', 0.005792244116846006)\n",
      "('jimenez', 0.00564877543385108)\n",
      "('escuela', 0.0056025736545815275)\n",
      "('gloria', 0.0055588035479051095)\n",
      "('centro', 0.005527191804194363)\n",
      "('misc', 0.005403176501944511)\n",
      "('manuel', 0.0054007448293513765)\n",
      "('elena', 0.005303477925626003)\n",
      "('angeles', 0.005293751235253466)\n",
      "('ma', 0.005174599278189883)\n",
      "('morales', 0.005145419207072271)\n",
      "('abts', 0.005121102481140927)\n",
      "('teresa', 0.004958180417400927)\n",
      "('ruiz', 0.0049095469655382395)\n",
      "('margarita', 0.004839028460337343)\n",
      "('juana', 0.004804985044033463)\n",
      "('guadalupana', 0.004768509955136448)\n",
      "('chavez', 0.00475878326476391)\n",
      "('alex', 0.004683401414376746)\n",
      "('do\\xc3\\xb1a', 0.004671243051411074)\n",
      "('carniceria', 0.004639631307700328)\n",
      "('martin', 0.004622609599548387)\n",
      "('isabel', 0.004610451236582715)\n",
      "('mendoza', 0.0045131843328573415)\n",
      "('alicia', 0.004413485756538833)\n",
      "('aguilar', 0.0043964640483868936)\n",
      "('carlos', 0.004330808888372266)\n",
      "('fruteria', 0.0043040604898477875)\n",
      "('gaby', 0.004270017073543907)\n",
      "('rosy', 0.004265153728357638)\n",
      "('nueva', 0.004235973657240027)\n",
      "('estrella', 0.004165455152039131)\n",
      "('deposito', 0.004141138426107787)\n",
      "('juarez', 0.004128980063142115)\n",
      "('alvarez', 0.004082778283872563)\n",
      "('moreno', 0.004056029885348085)\n",
      "('cafeteria', 0.00405359821275495)\n",
      "('ortiz', 0.004031713159416741)\n",
      "('rivera', 0.004000101415705995)\n",
      "('castillo', 0.003978216362367786)\n",
      "('dany', 0.003953899636436442)\n",
      "('pedro', 0.0038882444764218155)\n",
      "('luna', 0.0038882444764218155)\n",
      "('paty', 0.003871222768269875)\n",
      "('secundaria', 0.0037228907400886795)\n",
      "('guzman', 0.003681552306005396)\n",
      "('dulces', 0.0036402138719221124)\n",
      "('providencia', 0.003618328818583903)\n",
      "('escondida', 0.0036037387830250974)\n",
      "('rosario', 0.0035696953667212167)\n",
      "('diana', 0.0035186302422653953)\n",
      "('ramos', 0.0035064718792997235)\n",
      "('chiquita', 0.0034845868259615145)\n",
      "('express', 0.003477291808182111)\n",
      "('medina', 0.003474860135588977)\n",
      "('reyna', 0.0034456800644713645)\n",
      "('esc', 0.0034456800644713645)\n",
      "('juquilita', 0.0033994782852018123)\n",
      "('laura', 0.0033775932318636033)\n",
      "('sol', 0.0033630031963047973)\n",
      "('romero', 0.0033459814881528567)\n",
      "('flor', 0.0033411181429665883)\n",
      "('silvia', 0.003299779708883304)\n",
      "('rosita', 0.003290053018510767)\n",
      "('minisuper', 0.0032851896733244977)\n",
      "('blanca', 0.0032657362925794233)\n",
      "('jorge', 0.0032584412748000204)\n",
      "('javier', 0.003253577929613752)\n",
      "('modelorama', 0.0032389878940549456)\n",
      "('leon', 0.0031976494599716613)\n",
      "('guerrero', 0.0031976494599716613)\n",
      "('fe', 0.003190354442192259)\n",
      "('vargas', 0.003122267609584497)\n",
      "('eleven', 0.003012842342893452)\n",
      "('victoria', 0.002990957289555243)\n",
      "('castro', 0.002930165474726884)\n",
      "('loncheria', 0.0029058487487955407)\n",
      "('tres', 0.0028985537310161373)\n",
      "('esquina', 0.0028888270406436)\n",
      "('angelica', 0.0028888270406436)\n",
      "('leticia', 0.0028450569339671817)\n",
      "('josefina', 0.0028304668984083757)\n",
      "('mercado', 0.002803718499883898)\n",
      "('lucy', 0.002789128464325092)\n",
      "('irma', 0.0027769701013594206)\n",
      "('mendez', 0.002769675083580017)\n",
      "('lety', 0.002769675083580017)\n",
      "('vinos', 0.002767243410986883)\n",
      "('comercial', 0.0027648117383937483)\n",
      "('claudia', 0.0027575167206143458)\n",
      "('espinoza', 0.0027356316672761363)\n",
      "('tere', 0.0027210416317173304)\n",
      "('yolanda', 0.0027137466139379274)\n",
      "('villa', 0.0027015882509722556)\n",
      "('esmeralda', 0.002689429888006584)\n",
      "('herrera', 0.0026748398524477778)\n",
      "('luisa', 0.0026675448346683748)\n",
      "('restaurant', 0.0026651131620752406)\n",
      "('licores', 0.0026602498168889718)\n",
      "('doa', 0.0026578181442958376)\n",
      "('expendio', 0.00263106974577136)\n",
      "('hotel', 0.002599458002060613)\n",
      "('dios', 0.00259216298428121)\n",
      "('juanita', 0.0025872996390949414)\n",
      "('colegio', 0.0025872996390949414)\n",
      "('valle', 0.00257514127612927)\n",
      "('dulceria', 0.0025654145857567324)\n",
      "('primaria', 0.002555687895384195)\n",
      "('caseta', 0.0025532562227910606)\n",
      "('local', 0.0025508245501979264)\n",
      "('hot', 0.0025459612050116576)\n",
      "('contreras', 0.00253623451463912)\n",
      "('estrada', 0.002528939496859717)\n",
      "('anita', 0.00251921280648718)\n",
      "('velazquez', 0.0025143494613009115)\n",
      "('karen', 0.002497327753148971)\n",
      "('salvador', 0.002477874372403896)\n",
      "('rocio', 0.0024535576464725524)\n",
      "('cv', 0.0024438309561000153)\n",
      "('alejandra', 0.0024316725931343435)\n",
      "('consumo', 0.0024195142301686717)\n",
      "('socorro', 0.0024122192123892687)\n",
      "('rafael', 0.002387902486457925)\n",
      "('comedor', 0.002385470813864791)\n",
      "('patricia', 0.0023757441234922537)\n",
      "('ab', 0.002370880778305985)\n",
      "('sa', 0.002363585760526582)\n",
      "('jugos', 0.002356290742747179)\n",
      "('rio', 0.0023538590701540443)\n",
      "('lourdes', 0.002341700707188373)\n",
      "('ortega', 0.0023392690345952383)\n",
      "('salazar', 0.002329542344222701)\n",
      "('plaza', 0.0023271106716295665)\n"
     ]
    }
   ],
   "source": [
    "tfidf_score_list(vf, 200)"
   ]
  },
  {
   "cell_type": "code",
   "execution_count": 7,
   "metadata": {
    "collapsed": false,
    "scrolled": true
   },
   "outputs": [
    {
     "name": "stdout",
     "output_type": "stream",
     "text": [
      "57514\n"
     ]
    }
   ],
   "source": [
    "# print(vf[vf['NombreCliente'].str.contains('.*CAFE.*')])\n",
    "print len(vf[vf['NombreCliente'].str.contains('NEZ|JOSE|NZO|TES')])"
   ]
  },
  {
   "cell_type": "code",
   "execution_count": 9,
   "metadata": {
    "collapsed": true
   },
   "outputs": [],
   "source": [
    "# --- Begin Filtering for specific terms\n",
    "\n",
    "# Note that the order of filtering is significant.\n",
    "# For example: \n",
    "# The regex of .*ERIA.* will assign \"FRUITERIA\" to 'Eatery' rather than 'Fresh Market'.\n",
    "# In other words, the first filters to occur have a bigger priority.\n",
    "\n",
    "def filter_specific(vf2):\n",
    "    \n",
    "    # Known Large Company / Special Group Types\n",
    "    vf2['NombreCliente'] = vf2['NombreCliente'].str.replace('.*REMISION.*','Consignment')\n",
    "    vf2['NombreCliente'] = vf2['NombreCliente'].str.replace('.*DISTRIBUIDORA.*','Distribut')\n",
    "    vf2['NombreCliente'] = vf2['NombreCliente'].replace(['.*WAL MART.*','.*SAMS CLUB.*'],'Walmart', regex=True)\n",
    "    vf2['NombreCliente'] = vf2['NombreCliente'].str.replace('.*OXXO.*','Oxxo Store')\n",
    "    vf2['NombreCliente'] = vf2['NombreCliente'].str.replace('.*CONASUPO.*','Govt Store')\n",
    "    vf2['NombreCliente'] = vf2['NombreCliente'].str.replace('.*BIMBO.*','Bimbo Store')\n",
    "\n",
    "    \n",
    "\n",
    "    # General term search for a random assortment of words I picked from looking at\n",
    "    # their frequency of appearance in the data and common spanish words for these categories\n",
    "#     vf2['NombreCliente'] = vf2['NombreCliente'].replace(['.*NEZ.*','.*JOSE.*','.*NZO.*','.*TES.*'],'Xicans', regex=True)\n",
    "\n",
    "    vf2['NombreCliente'] = vf2['NombreCliente'].replace(['.*COLEG.*','.*UNIV.*','.*ESCU.*','.*INSTI.*',\\\n",
    "                                                        '.*PREPAR.*'],'School', regex=True)\n",
    "    vf2['NombreCliente'] = vf2['NombreCliente'].str.replace('.*PUESTO.*','Post')\n",
    "    vf2['NombreCliente'] = vf2['NombreCliente'].replace(['.*FARMA.*','.*HOSPITAL.*','.*CLINI.*'],'Hospital', regex=True)\n",
    "    vf2['NombreCliente'] = vf2['NombreCliente'].replace(['.*CAFE.*','.*CREMERIA.*','.*DULCERIA.*',\\\n",
    "                                                        '.*REST.*','.*BURGER.*','.*TACO.*', '.*TORTA.*',\\\n",
    "                                                        '.*TAQUER.*','.*HOT DOG.*',\\\n",
    "                                                        '.*COMEDOR.*', '.*ERIA.*','.*BURGU.*'],'Eatery', regex=True)\n",
    "    vf2['NombreCliente'] = vf2['NombreCliente'].str.replace('.*SUPER.*','Supermarket')\n",
    "    vf2['NombreCliente'] = vf2['NombreCliente'].replace(['.*COMERCIAL.*','.*BODEGA.*','.*DEPOSITO.*',\\\n",
    "                                                            '.*ABARROTES.*','.*MERCADO.*','.*CAMBIO.*',\\\n",
    "                                                        '.*MARKET.*','.*MART .*','.*MINI .*',\\\n",
    "                                                        '.*PLAZA.*','.*MISC.*','.*ELEVEN.*','.*SEVEN.*','.*EXP.*',\\\n",
    "                                                         '.*SNACK.*', '.*PAPELERIA.*', '.*CARNICERIA.*',\\\n",
    "                                                         '.*LOCAL.*','.*COMODIN.*','.*PROVIDENCIA.*'\n",
    "                                                        ],'General Market'\\\n",
    "                                                       , regex=True)\n",
    "\n",
    "    vf2['NombreCliente'] = vf2['NombreCliente'].replace(['.*VERDU.*','.*FRUT.*'],'Fresh Market', regex=True)\n",
    "    vf2['NombreCliente'] = vf2['NombreCliente'].replace(['.*HOTEL.*','.*MOTEL.*'],'Hotel', regex=True)\n",
    "    vf2['NombreCliente'] = vf2['NombreCliente'].replace(['.*NEZ.*','.*JOSE.*','.*NZO.*','.*TES.*'],'Xicans', regex=True)\n",
    "    vf2['NombreCliente'] = vf2['NombreCliente'].str.replace('.*MODELOR.*','Modelor')\n",
    "    vf2['NombreCliente'] = vf2['NombreCliente'].str.replace('.*ARTELI.*','Arteli')\n",
    "    vf2['NombreCliente'] = vf2['NombreCliente'].str.replace('.*CALIMAX.*','Calimax')"
   ]
  },
  {
   "cell_type": "code",
   "execution_count": 10,
   "metadata": {
    "collapsed": true
   },
   "outputs": [],
   "source": [
    "filter_specific(vf)"
   ]
  },
  {
   "cell_type": "code",
   "execution_count": 12,
   "metadata": {
    "collapsed": true
   },
   "outputs": [],
   "source": [
    "# --- Begin filtering for more general terms\n",
    "# The idea here is to look for names with particles of speech that would\n",
    "# not appear in a person's name.\n",
    "# i.e. \"Individuals\" should not contain any participles or numbers in their names.\n",
    "def filter_participle(vf2):\n",
    "    vf2['NombreCliente'] = vf2['NombreCliente'].replace([\n",
    "            '.*LA .*','.*EL .*','.*DE .*','.*LOS .*','.*DEL .*','.*Y .*', '.*SAN .*', '.*SANTA .*',\\\n",
    "            '.*AG .*','.*LAS .*','.*MI .*','.*MA .*', '.*II.*', '.*[0-9]+.*'\\\n",
    "    ],'Small Franchise', regex=True)"
   ]
  },
  {
   "cell_type": "code",
   "execution_count": 13,
   "metadata": {
    "collapsed": true
   },
   "outputs": [],
   "source": [
    "filter_participle(vf)"
   ]
  },
  {
   "cell_type": "code",
   "execution_count": 15,
   "metadata": {
    "collapsed": true
   },
   "outputs": [],
   "source": [
    "# Any remaining entries should be \"Individual\" Named Clients, there are some outliers.\n",
    "# More specific filters could be used in order to reduce the percentage of outliers in this final set.\n",
    "def filter_remaining(vf2):\n",
    "    def function_word(data):\n",
    "        # Avoid the single-words created so far by checking for upper-case\n",
    "        if (data.isupper()) and (data != \"NO IDENTIFICADO\"): \n",
    "            return 'Individual'\n",
    "        else:\n",
    "            return data\n",
    "    vf2['NombreCliente'] = vf2['NombreCliente'].map(function_word)"
   ]
  },
  {
   "cell_type": "code",
   "execution_count": 16,
   "metadata": {
    "collapsed": true
   },
   "outputs": [],
   "source": [
    "filter_remaining(vf)"
   ]
  },
  {
   "cell_type": "code",
   "execution_count": 18,
   "metadata": {
    "collapsed": false
   },
   "outputs": [
    {
     "data": {
      "text/plain": [
       "Individual         335692\n",
       "NO IDENTIFICADO    281670\n",
       "Small Franchise    154007\n",
       "General Market      66378\n",
       "Eatery              30412\n",
       "Xicans              22352\n",
       "Supermarket         16015\n",
       "Oxxo Store           9313\n",
       "Hospital             5782\n",
       "School               5705\n",
       "Post                 2667\n",
       "Modelor              1280\n",
       "Hotel                1127\n",
       "Fresh Market         1068\n",
       "Govt Store            959\n",
       "Bimbo Store           320\n",
       "Distribut             288\n",
       "Walmart               220\n",
       "Calimax                73\n",
       "Arteli                 20\n",
       "Consignment            14\n",
       "Name: NombreCliente, dtype: int64"
      ]
     },
     "execution_count": 18,
     "metadata": {},
     "output_type": "execute_result"
    }
   ],
   "source": [
    "vf['NombreCliente'].value_counts()"
   ]
  },
  {
   "cell_type": "code",
   "execution_count": 20,
   "metadata": {
    "collapsed": false
   },
   "outputs": [
    {
     "name": "stdout",
     "output_type": "stream",
     "text": [
      "['Arteli' 'Bimbo Store' 'Calimax' 'Consignment' 'Distribut' 'Eatery'\n",
      " 'Fresh Market' 'General Market' 'Govt Store' 'Hospital' 'Hotel'\n",
      " 'Individual' 'Modelor' 'NO IDENTIFICADO' 'Oxxo Store' 'Post' 'School'\n",
      " 'Small Franchise' 'Supermarket' 'Walmart' 'Xicans']\n"
     ]
    }
   ],
   "source": [
    "from sklearn import preprocessing\n",
    "le = preprocessing.LabelEncoder()\n",
    "le.fit(vf['NombreCliente'])\n",
    "\n",
    "print le.classes_\n",
    "\n",
    "vf['c_clt'] = le.transform(vf['NombreCliente']) \n"
   ]
  },
  {
   "cell_type": "code",
   "execution_count": 22,
   "metadata": {
    "collapsed": false
   },
   "outputs": [
    {
     "data": {
      "text/html": [
       "<div>\n",
       "<table border=\"1\" class=\"dataframe\">\n",
       "  <thead>\n",
       "    <tr style=\"text-align: right;\">\n",
       "      <th></th>\n",
       "      <th>Cliente_ID</th>\n",
       "      <th>NombreCliente</th>\n",
       "      <th>c_clt</th>\n",
       "    </tr>\n",
       "  </thead>\n",
       "  <tbody>\n",
       "    <tr>\n",
       "      <th>0</th>\n",
       "      <td>0</td>\n",
       "      <td>Individual</td>\n",
       "      <td>11</td>\n",
       "    </tr>\n",
       "    <tr>\n",
       "      <th>1</th>\n",
       "      <td>1</td>\n",
       "      <td>Oxxo Store</td>\n",
       "      <td>14</td>\n",
       "    </tr>\n",
       "    <tr>\n",
       "      <th>2</th>\n",
       "      <td>2</td>\n",
       "      <td>Individual</td>\n",
       "      <td>11</td>\n",
       "    </tr>\n",
       "    <tr>\n",
       "      <th>3</th>\n",
       "      <td>3</td>\n",
       "      <td>Small Franchise</td>\n",
       "      <td>17</td>\n",
       "    </tr>\n",
       "    <tr>\n",
       "      <th>4</th>\n",
       "      <td>4</td>\n",
       "      <td>Small Franchise</td>\n",
       "      <td>17</td>\n",
       "    </tr>\n",
       "  </tbody>\n",
       "</table>\n",
       "</div>"
      ],
      "text/plain": [
       "   Cliente_ID    NombreCliente  c_clt\n",
       "0           0       Individual     11\n",
       "1           1       Oxxo Store     14\n",
       "2           2       Individual     11\n",
       "3           3  Small Franchise     17\n",
       "4           4  Small Franchise     17"
      ]
     },
     "execution_count": 22,
     "metadata": {},
     "output_type": "execute_result"
    }
   ],
   "source": [
    "vf.head()"
   ]
  },
  {
   "cell_type": "code",
   "execution_count": 27,
   "metadata": {
    "collapsed": false
   },
   "outputs": [
    {
     "data": {
      "text/plain": [
       "935362"
      ]
     },
     "execution_count": 27,
     "metadata": {},
     "output_type": "execute_result"
    }
   ],
   "source": [
    "len(vf) #935362"
   ]
  },
  {
   "cell_type": "code",
   "execution_count": 24,
   "metadata": {
    "collapsed": true
   },
   "outputs": [],
   "source": [
    "vf = vf[['Cliente_ID','c_clt']]"
   ]
  },
  {
   "cell_type": "code",
   "execution_count": 32,
   "metadata": {
    "collapsed": false
   },
   "outputs": [],
   "source": [
    "# vf = vf[vf['Cliente_ID'].unique()]\n",
    "vf = vf.drop_duplicates(subset='Cliente_ID', keep='last')"
   ]
  },
  {
   "cell_type": "code",
   "execution_count": 33,
   "metadata": {
    "collapsed": false,
    "scrolled": false
   },
   "outputs": [
    {
     "data": {
      "text/html": [
       "<div>\n",
       "<table border=\"1\" class=\"dataframe\">\n",
       "  <thead>\n",
       "    <tr style=\"text-align: right;\">\n",
       "      <th></th>\n",
       "      <th>Cliente_ID</th>\n",
       "      <th>c_clt</th>\n",
       "    </tr>\n",
       "  </thead>\n",
       "  <tbody>\n",
       "    <tr>\n",
       "      <th>0</th>\n",
       "      <td>0</td>\n",
       "      <td>11</td>\n",
       "    </tr>\n",
       "    <tr>\n",
       "      <th>1</th>\n",
       "      <td>1</td>\n",
       "      <td>14</td>\n",
       "    </tr>\n",
       "    <tr>\n",
       "      <th>2</th>\n",
       "      <td>2</td>\n",
       "      <td>11</td>\n",
       "    </tr>\n",
       "    <tr>\n",
       "      <th>3</th>\n",
       "      <td>3</td>\n",
       "      <td>17</td>\n",
       "    </tr>\n",
       "    <tr>\n",
       "      <th>5</th>\n",
       "      <td>4</td>\n",
       "      <td>17</td>\n",
       "    </tr>\n",
       "    <tr>\n",
       "      <th>6</th>\n",
       "      <td>5</td>\n",
       "      <td>17</td>\n",
       "    </tr>\n",
       "    <tr>\n",
       "      <th>7</th>\n",
       "      <td>6</td>\n",
       "      <td>11</td>\n",
       "    </tr>\n",
       "    <tr>\n",
       "      <th>8</th>\n",
       "      <td>7</td>\n",
       "      <td>17</td>\n",
       "    </tr>\n",
       "    <tr>\n",
       "      <th>9</th>\n",
       "      <td>8</td>\n",
       "      <td>18</td>\n",
       "    </tr>\n",
       "    <tr>\n",
       "      <th>10</th>\n",
       "      <td>9</td>\n",
       "      <td>18</td>\n",
       "    </tr>\n",
       "    <tr>\n",
       "      <th>11</th>\n",
       "      <td>10</td>\n",
       "      <td>17</td>\n",
       "    </tr>\n",
       "    <tr>\n",
       "      <th>12</th>\n",
       "      <td>11</td>\n",
       "      <td>9</td>\n",
       "    </tr>\n",
       "    <tr>\n",
       "      <th>13</th>\n",
       "      <td>12</td>\n",
       "      <td>5</td>\n",
       "    </tr>\n",
       "    <tr>\n",
       "      <th>14</th>\n",
       "      <td>13</td>\n",
       "      <td>11</td>\n",
       "    </tr>\n",
       "    <tr>\n",
       "      <th>15</th>\n",
       "      <td>14</td>\n",
       "      <td>11</td>\n",
       "    </tr>\n",
       "    <tr>\n",
       "      <th>...</th>\n",
       "      <td>...</td>\n",
       "      <td>...</td>\n",
       "    </tr>\n",
       "    <tr>\n",
       "      <th>935347</th>\n",
       "      <td>10142492</td>\n",
       "      <td>14</td>\n",
       "    </tr>\n",
       "    <tr>\n",
       "      <th>935348</th>\n",
       "      <td>10142588</td>\n",
       "      <td>7</td>\n",
       "    </tr>\n",
       "    <tr>\n",
       "      <th>935349</th>\n",
       "      <td>10281997</td>\n",
       "      <td>14</td>\n",
       "    </tr>\n",
       "    <tr>\n",
       "      <th>935350</th>\n",
       "      <td>10303963</td>\n",
       "      <td>4</td>\n",
       "    </tr>\n",
       "    <tr>\n",
       "      <th>935351</th>\n",
       "      <td>10351784</td>\n",
       "      <td>14</td>\n",
       "    </tr>\n",
       "    <tr>\n",
       "      <th>935352</th>\n",
       "      <td>10351790</td>\n",
       "      <td>14</td>\n",
       "    </tr>\n",
       "    <tr>\n",
       "      <th>935353</th>\n",
       "      <td>10351796</td>\n",
       "      <td>14</td>\n",
       "    </tr>\n",
       "    <tr>\n",
       "      <th>935354</th>\n",
       "      <td>10351802</td>\n",
       "      <td>14</td>\n",
       "    </tr>\n",
       "    <tr>\n",
       "      <th>935355</th>\n",
       "      <td>10351808</td>\n",
       "      <td>14</td>\n",
       "    </tr>\n",
       "    <tr>\n",
       "      <th>935356</th>\n",
       "      <td>10351814</td>\n",
       "      <td>14</td>\n",
       "    </tr>\n",
       "    <tr>\n",
       "      <th>935357</th>\n",
       "      <td>11011586</td>\n",
       "      <td>14</td>\n",
       "    </tr>\n",
       "    <tr>\n",
       "      <th>935358</th>\n",
       "      <td>11693264</td>\n",
       "      <td>18</td>\n",
       "    </tr>\n",
       "    <tr>\n",
       "      <th>935359</th>\n",
       "      <td>19988629</td>\n",
       "      <td>13</td>\n",
       "    </tr>\n",
       "    <tr>\n",
       "      <th>935360</th>\n",
       "      <td>99999999</td>\n",
       "      <td>13</td>\n",
       "    </tr>\n",
       "    <tr>\n",
       "      <th>935361</th>\n",
       "      <td>2015152015</td>\n",
       "      <td>13</td>\n",
       "    </tr>\n",
       "  </tbody>\n",
       "</table>\n",
       "<p>930500 rows × 2 columns</p>\n",
       "</div>"
      ],
      "text/plain": [
       "        Cliente_ID  c_clt\n",
       "0                0     11\n",
       "1                1     14\n",
       "2                2     11\n",
       "3                3     17\n",
       "5                4     17\n",
       "6                5     17\n",
       "7                6     11\n",
       "8                7     17\n",
       "9                8     18\n",
       "10               9     18\n",
       "11              10     17\n",
       "12              11      9\n",
       "13              12      5\n",
       "14              13     11\n",
       "15              14     11\n",
       "...            ...    ...\n",
       "935347    10142492     14\n",
       "935348    10142588      7\n",
       "935349    10281997     14\n",
       "935350    10303963      4\n",
       "935351    10351784     14\n",
       "935352    10351790     14\n",
       "935353    10351796     14\n",
       "935354    10351802     14\n",
       "935355    10351808     14\n",
       "935356    10351814     14\n",
       "935357    11011586     14\n",
       "935358    11693264     18\n",
       "935359    19988629     13\n",
       "935360    99999999     13\n",
       "935361  2015152015     13\n",
       "\n",
       "[930500 rows x 2 columns]"
      ]
     },
     "execution_count": 33,
     "metadata": {},
     "output_type": "execute_result"
    }
   ],
   "source": [
    "vf"
   ]
  },
  {
   "cell_type": "code",
   "execution_count": 34,
   "metadata": {
    "collapsed": true
   },
   "outputs": [],
   "source": [
    "vf.to_csv(path+'clients.csv',index=False)"
   ]
  },
  {
   "cell_type": "code",
   "execution_count": null,
   "metadata": {
    "collapsed": true
   },
   "outputs": [],
   "source": []
  }
 ],
 "metadata": {
  "kernelspec": {
   "display_name": "Python 2",
   "language": "python",
   "name": "python2"
  },
  "language_info": {
   "codemirror_mode": {
    "name": "ipython",
    "version": 2
   },
   "file_extension": ".py",
   "mimetype": "text/x-python",
   "name": "python",
   "nbconvert_exporter": "python",
   "pygments_lexer": "ipython2",
   "version": "2.7.6"
  }
 },
 "nbformat": 4,
 "nbformat_minor": 0
}
