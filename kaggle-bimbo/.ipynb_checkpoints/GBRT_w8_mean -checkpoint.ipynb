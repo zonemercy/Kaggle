{
 "cells": [
  {
   "cell_type": "code",
   "execution_count": 5,
   "metadata": {
    "ExecuteTime": {
     "end_time": "2016-08-27T23:58:07.432226",
     "start_time": "2016-08-27T23:58:06.450703"
    },
    "collapsed": true
   },
   "outputs": [],
   "source": [
    "import pandas as pd\n",
    "import numpy as np\n",
    "import os\n",
    "import math\n",
    "import graphlab\n",
    "import graphlab as gl\n",
    "import graphlab.aggregate as agg"
   ]
  },
  {
   "cell_type": "code",
   "execution_count": 6,
   "metadata": {
    "ExecuteTime": {
     "end_time": "2016-08-27T23:58:07.914196",
     "start_time": "2016-08-27T23:58:07.911785"
    },
    "collapsed": true
   },
   "outputs": [],
   "source": [
    "'''钢炮'''\n",
    "path = '/home/zongyi/bimbo_data/'"
   ]
  },
  {
   "cell_type": "code",
   "execution_count": 7,
   "metadata": {
    "ExecuteTime": {
     "end_time": "2016-08-27T23:58:30.080017",
     "start_time": "2016-08-27T23:58:08.846037"
    },
    "collapsed": false
   },
   "outputs": [],
   "source": [
    "train = gl.SFrame.read_csv(path + 'train_lag5_w8_mean.csv', verbose=False)"
   ]
  },
  {
   "cell_type": "code",
   "execution_count": 9,
   "metadata": {
    "ExecuteTime": {
     "end_time": "2016-08-27T23:58:30.089000",
     "start_time": "2016-08-27T23:58:30.081603"
    },
    "collapsed": false
   },
   "outputs": [],
   "source": [
    "del train['id']\n",
    "del train['Venta_uni_hoy']\n",
    "del train['Venta_hoy']\n",
    "del train['Dev_uni_proxima']\n",
    "del train['Dev_proxima']\n",
    "del train['Demanda_uni_equil']"
   ]
  },
  {
   "cell_type": "code",
   "execution_count": 10,
   "metadata": {
    "ExecuteTime": {
     "end_time": "2016-08-27T23:58:30.094291",
     "start_time": "2016-08-27T23:58:30.090323"
    },
    "collapsed": false
   },
   "outputs": [],
   "source": [
    "del train['prior_sum']\n",
    "del train['lag_sum']\n",
    "del train['week_times']\n",
    "del train['Semana']\n",
    "del train['Canal_ID']"
   ]
  },
  {
   "cell_type": "code",
   "execution_count": 6,
   "metadata": {
    "ExecuteTime": {
     "end_time": "2016-08-27T23:58:30.098371",
     "start_time": "2016-08-27T23:58:30.095863"
    },
    "collapsed": false
   },
   "outputs": [],
   "source": [
    "# town = gl.SFrame.read_csv(path + 'towns.csv', verbose=False)\n",
    "# train = train.join(town, on=['Agencia_ID','Producto_ID'], how='left')\n",
    "# train = train.fillna('t_c',1)\n",
    "# train = train.fillna('tcc',0)\n",
    "# train = train.fillna('tp_sum',0)\n",
    "# del train['Town']"
   ]
  },
  {
   "cell_type": "code",
   "execution_count": 7,
   "metadata": {
    "ExecuteTime": {
     "end_time": "2016-08-27T23:58:30.101872",
     "start_time": "2016-08-27T23:58:30.099528"
    },
    "collapsed": true
   },
   "outputs": [],
   "source": [
    "# relag_train = gl.SFrame.read_csv(path + 're_lag_train.csv', verbose=False)\n",
    "# train = train.join(relag_train, on=['Cliente_ID','Producto_ID','Semana'], how='left')\n",
    "# train = train.fillna('re_lag1',0)\n",
    "# train = train.fillna('re_lag2',0)\n",
    "# train = train.fillna('re_lag3',0)\n",
    "# train = train.fillna('re_lag4',0)\n",
    "# train = train.fillna('re_lag5',0)\n",
    "# del relag_train"
   ]
  },
  {
   "cell_type": "code",
   "execution_count": 8,
   "metadata": {
    "ExecuteTime": {
     "end_time": "2016-08-27T23:58:30.105487",
     "start_time": "2016-08-27T23:58:30.103157"
    },
    "collapsed": true
   },
   "outputs": [],
   "source": [
    "# pd = gl.SFrame.read_csv(path + 'products.csv', verbose=False)\n",
    "# train = train.join(pd, on=['Producto_ID'], how='left')\n",
    "# train = train.fillna('prom',0)\n",
    "# train = train.fillna('weight',0)\n",
    "# train = train.fillna('pieces',1)\n",
    "# train = train.fillna('w_per_piece',0)\n",
    "# train = train.fillna('healthy',0)\n",
    "# train = train.fillna('drink',0)\n",
    "# del train['brand']\n",
    "# del train['NombreProducto']\n",
    "# del pd"
   ]
  },
  {
   "cell_type": "code",
   "execution_count": 9,
   "metadata": {
    "ExecuteTime": {
     "end_time": "2016-08-27T23:58:30.109442",
     "start_time": "2016-08-27T23:58:30.106878"
    },
    "code_folding": [],
    "collapsed": true
   },
   "outputs": [],
   "source": [
    "# client = gl.SFrame.read_csv(path + 'clients.csv', verbose=False)\n",
    "# train = train.join(client, on=['Cliente_ID'], how='left')\n",
    "# del client"
   ]
  },
  {
   "cell_type": "code",
   "execution_count": 11,
   "metadata": {
    "collapsed": false
   },
   "outputs": [
    {
     "data": {
      "text/html": [
       "<div style=\"max-height:1000px;max-width:1500px;overflow:auto;\"><table frame=\"box\" rules=\"cols\">\n",
       "    <tr>\n",
       "        <th style=\"padding-left: 1em; padding-right: 1em; text-align: center\">Agencia_ID</th>\n",
       "        <th style=\"padding-left: 1em; padding-right: 1em; text-align: center\">Ruta_SAK</th>\n",
       "        <th style=\"padding-left: 1em; padding-right: 1em; text-align: center\">Cliente_ID</th>\n",
       "        <th style=\"padding-left: 1em; padding-right: 1em; text-align: center\">Producto_ID</th>\n",
       "        <th style=\"padding-left: 1em; padding-right: 1em; text-align: center\">Demada_log</th>\n",
       "        <th style=\"padding-left: 1em; padding-right: 1em; text-align: center\">lag1</th>\n",
       "        <th style=\"padding-left: 1em; padding-right: 1em; text-align: center\">lag2</th>\n",
       "        <th style=\"padding-left: 1em; padding-right: 1em; text-align: center\">lag3</th>\n",
       "        <th style=\"padding-left: 1em; padding-right: 1em; text-align: center\">lag4</th>\n",
       "        <th style=\"padding-left: 1em; padding-right: 1em; text-align: center\">lag5</th>\n",
       "    </tr>\n",
       "    <tr>\n",
       "        <td style=\"padding-left: 1em; padding-right: 1em; text-align: center; vertical-align: top\">1542</td>\n",
       "        <td style=\"padding-left: 1em; padding-right: 1em; text-align: center; vertical-align: top\">4501</td>\n",
       "        <td style=\"padding-left: 1em; padding-right: 1em; text-align: center; vertical-align: top\">4676035</td>\n",
       "        <td style=\"padding-left: 1em; padding-right: 1em; text-align: center; vertical-align: top\">1242</td>\n",
       "        <td style=\"padding-left: 1em; padding-right: 1em; text-align: center; vertical-align: top\">1.38629</td>\n",
       "        <td style=\"padding-left: 1em; padding-right: 1em; text-align: center; vertical-align: top\">1.38629</td>\n",
       "        <td style=\"padding-left: 1em; padding-right: 1em; text-align: center; vertical-align: top\">1.60944</td>\n",
       "        <td style=\"padding-left: 1em; padding-right: 1em; text-align: center; vertical-align: top\">1.09861</td>\n",
       "        <td style=\"padding-left: 1em; padding-right: 1em; text-align: center; vertical-align: top\">1.60944</td>\n",
       "        <td style=\"padding-left: 1em; padding-right: 1em; text-align: center; vertical-align: top\">1.38629</td>\n",
       "    </tr>\n",
       "    <tr>\n",
       "        <td style=\"padding-left: 1em; padding-right: 1em; text-align: center; vertical-align: top\">1138</td>\n",
       "        <td style=\"padding-left: 1em; padding-right: 1em; text-align: center; vertical-align: top\">1033</td>\n",
       "        <td style=\"padding-left: 1em; padding-right: 1em; text-align: center; vertical-align: top\">171033</td>\n",
       "        <td style=\"padding-left: 1em; padding-right: 1em; text-align: center; vertical-align: top\">1146</td>\n",
       "        <td style=\"padding-left: 1em; padding-right: 1em; text-align: center; vertical-align: top\">1.94591</td>\n",
       "        <td style=\"padding-left: 1em; padding-right: 1em; text-align: center; vertical-align: top\">2.19722</td>\n",
       "        <td style=\"padding-left: 1em; padding-right: 1em; text-align: center; vertical-align: top\">1.38629</td>\n",
       "        <td style=\"padding-left: 1em; padding-right: 1em; text-align: center; vertical-align: top\">2.07944</td>\n",
       "        <td style=\"padding-left: 1em; padding-right: 1em; text-align: center; vertical-align: top\">2.07944</td>\n",
       "        <td style=\"padding-left: 1em; padding-right: 1em; text-align: center; vertical-align: top\">2.19722</td>\n",
       "    </tr>\n",
       "    <tr>\n",
       "        <td style=\"padding-left: 1em; padding-right: 1em; text-align: center; vertical-align: top\">2238</td>\n",
       "        <td style=\"padding-left: 1em; padding-right: 1em; text-align: center; vertical-align: top\">4105</td>\n",
       "        <td style=\"padding-left: 1em; padding-right: 1em; text-align: center; vertical-align: top\">494132</td>\n",
       "        <td style=\"padding-left: 1em; padding-right: 1em; text-align: center; vertical-align: top\">40217</td>\n",
       "        <td style=\"padding-left: 1em; padding-right: 1em; text-align: center; vertical-align: top\">1.60944</td>\n",
       "        <td style=\"padding-left: 1em; padding-right: 1em; text-align: center; vertical-align: top\">2.19722</td>\n",
       "        <td style=\"padding-left: 1em; padding-right: 1em; text-align: center; vertical-align: top\">2.30259</td>\n",
       "        <td style=\"padding-left: 1em; padding-right: 1em; text-align: center; vertical-align: top\">0.0</td>\n",
       "        <td style=\"padding-left: 1em; padding-right: 1em; text-align: center; vertical-align: top\">0.0</td>\n",
       "        <td style=\"padding-left: 1em; padding-right: 1em; text-align: center; vertical-align: top\">2.48491</td>\n",
       "    </tr>\n",
       "    <tr>\n",
       "        <td style=\"padding-left: 1em; padding-right: 1em; text-align: center; vertical-align: top\">1350</td>\n",
       "        <td style=\"padding-left: 1em; padding-right: 1em; text-align: center; vertical-align: top\">1233</td>\n",
       "        <td style=\"padding-left: 1em; padding-right: 1em; text-align: center; vertical-align: top\">2030945</td>\n",
       "        <td style=\"padding-left: 1em; padding-right: 1em; text-align: center; vertical-align: top\">1232</td>\n",
       "        <td style=\"padding-left: 1em; padding-right: 1em; text-align: center; vertical-align: top\">1.09861</td>\n",
       "        <td style=\"padding-left: 1em; padding-right: 1em; text-align: center; vertical-align: top\">1.09861</td>\n",
       "        <td style=\"padding-left: 1em; padding-right: 1em; text-align: center; vertical-align: top\">1.09861</td>\n",
       "        <td style=\"padding-left: 1em; padding-right: 1em; text-align: center; vertical-align: top\">0.693147</td>\n",
       "        <td style=\"padding-left: 1em; padding-right: 1em; text-align: center; vertical-align: top\">1.09861</td>\n",
       "        <td style=\"padding-left: 1em; padding-right: 1em; text-align: center; vertical-align: top\">0.693147</td>\n",
       "    </tr>\n",
       "    <tr>\n",
       "        <td style=\"padding-left: 1em; padding-right: 1em; text-align: center; vertical-align: top\">1236</td>\n",
       "        <td style=\"padding-left: 1em; padding-right: 1em; text-align: center; vertical-align: top\">1203</td>\n",
       "        <td style=\"padding-left: 1em; padding-right: 1em; text-align: center; vertical-align: top\">85081</td>\n",
       "        <td style=\"padding-left: 1em; padding-right: 1em; text-align: center; vertical-align: top\">1182</td>\n",
       "        <td style=\"padding-left: 1em; padding-right: 1em; text-align: center; vertical-align: top\">1.94591</td>\n",
       "        <td style=\"padding-left: 1em; padding-right: 1em; text-align: center; vertical-align: top\">0.0</td>\n",
       "        <td style=\"padding-left: 1em; padding-right: 1em; text-align: center; vertical-align: top\">0.0</td>\n",
       "        <td style=\"padding-left: 1em; padding-right: 1em; text-align: center; vertical-align: top\">0.0</td>\n",
       "        <td style=\"padding-left: 1em; padding-right: 1em; text-align: center; vertical-align: top\">0.0</td>\n",
       "        <td style=\"padding-left: 1em; padding-right: 1em; text-align: center; vertical-align: top\">0.0</td>\n",
       "    </tr>\n",
       "    <tr>\n",
       "        <td style=\"padding-left: 1em; padding-right: 1em; text-align: center; vertical-align: top\">1629</td>\n",
       "        <td style=\"padding-left: 1em; padding-right: 1em; text-align: center; vertical-align: top\">1020</td>\n",
       "        <td style=\"padding-left: 1em; padding-right: 1em; text-align: center; vertical-align: top\">4165785</td>\n",
       "        <td style=\"padding-left: 1em; padding-right: 1em; text-align: center; vertical-align: top\">1182</td>\n",
       "        <td style=\"padding-left: 1em; padding-right: 1em; text-align: center; vertical-align: top\">2.30259</td>\n",
       "        <td style=\"padding-left: 1em; padding-right: 1em; text-align: center; vertical-align: top\">2.19722</td>\n",
       "        <td style=\"padding-left: 1em; padding-right: 1em; text-align: center; vertical-align: top\">2.19722</td>\n",
       "        <td style=\"padding-left: 1em; padding-right: 1em; text-align: center; vertical-align: top\">2.70805</td>\n",
       "        <td style=\"padding-left: 1em; padding-right: 1em; text-align: center; vertical-align: top\">2.3979</td>\n",
       "        <td style=\"padding-left: 1em; padding-right: 1em; text-align: center; vertical-align: top\">2.19722</td>\n",
       "    </tr>\n",
       "    <tr>\n",
       "        <td style=\"padding-left: 1em; padding-right: 1em; text-align: center; vertical-align: top\">1453</td>\n",
       "        <td style=\"padding-left: 1em; padding-right: 1em; text-align: center; vertical-align: top\">1107</td>\n",
       "        <td style=\"padding-left: 1em; padding-right: 1em; text-align: center; vertical-align: top\">10642</td>\n",
       "        <td style=\"padding-left: 1em; padding-right: 1em; text-align: center; vertical-align: top\">43207</td>\n",
       "        <td style=\"padding-left: 1em; padding-right: 1em; text-align: center; vertical-align: top\">3.43399</td>\n",
       "        <td style=\"padding-left: 1em; padding-right: 1em; text-align: center; vertical-align: top\">3.3673</td>\n",
       "        <td style=\"padding-left: 1em; padding-right: 1em; text-align: center; vertical-align: top\">2.89037</td>\n",
       "        <td style=\"padding-left: 1em; padding-right: 1em; text-align: center; vertical-align: top\">3.58352</td>\n",
       "        <td style=\"padding-left: 1em; padding-right: 1em; text-align: center; vertical-align: top\">2.77259</td>\n",
       "        <td style=\"padding-left: 1em; padding-right: 1em; text-align: center; vertical-align: top\">3.04452</td>\n",
       "    </tr>\n",
       "    <tr>\n",
       "        <td style=\"padding-left: 1em; padding-right: 1em; text-align: center; vertical-align: top\">2038</td>\n",
       "        <td style=\"padding-left: 1em; padding-right: 1em; text-align: center; vertical-align: top\">2814</td>\n",
       "        <td style=\"padding-left: 1em; padding-right: 1em; text-align: center; vertical-align: top\">1224421</td>\n",
       "        <td style=\"padding-left: 1em; padding-right: 1em; text-align: center; vertical-align: top\">36304</td>\n",
       "        <td style=\"padding-left: 1em; padding-right: 1em; text-align: center; vertical-align: top\">1.09861</td>\n",
       "        <td style=\"padding-left: 1em; padding-right: 1em; text-align: center; vertical-align: top\">0.0</td>\n",
       "        <td style=\"padding-left: 1em; padding-right: 1em; text-align: center; vertical-align: top\">0.0</td>\n",
       "        <td style=\"padding-left: 1em; padding-right: 1em; text-align: center; vertical-align: top\">0.0</td>\n",
       "        <td style=\"padding-left: 1em; padding-right: 1em; text-align: center; vertical-align: top\">0.0</td>\n",
       "        <td style=\"padding-left: 1em; padding-right: 1em; text-align: center; vertical-align: top\">0.0</td>\n",
       "    </tr>\n",
       "    <tr>\n",
       "        <td style=\"padding-left: 1em; padding-right: 1em; text-align: center; vertical-align: top\">1618</td>\n",
       "        <td style=\"padding-left: 1em; padding-right: 1em; text-align: center; vertical-align: top\">1261</td>\n",
       "        <td style=\"padding-left: 1em; padding-right: 1em; text-align: center; vertical-align: top\">858571</td>\n",
       "        <td style=\"padding-left: 1em; padding-right: 1em; text-align: center; vertical-align: top\">2665</td>\n",
       "        <td style=\"padding-left: 1em; padding-right: 1em; text-align: center; vertical-align: top\">0.693147</td>\n",
       "        <td style=\"padding-left: 1em; padding-right: 1em; text-align: center; vertical-align: top\">0.0</td>\n",
       "        <td style=\"padding-left: 1em; padding-right: 1em; text-align: center; vertical-align: top\">0.0</td>\n",
       "        <td style=\"padding-left: 1em; padding-right: 1em; text-align: center; vertical-align: top\">0.0</td>\n",
       "        <td style=\"padding-left: 1em; padding-right: 1em; text-align: center; vertical-align: top\">0.0</td>\n",
       "        <td style=\"padding-left: 1em; padding-right: 1em; text-align: center; vertical-align: top\">0.0</td>\n",
       "    </tr>\n",
       "    <tr>\n",
       "        <td style=\"padding-left: 1em; padding-right: 1em; text-align: center; vertical-align: top\">1120</td>\n",
       "        <td style=\"padding-left: 1em; padding-right: 1em; text-align: center; vertical-align: top\">2113</td>\n",
       "        <td style=\"padding-left: 1em; padding-right: 1em; text-align: center; vertical-align: top\">174432</td>\n",
       "        <td style=\"padding-left: 1em; padding-right: 1em; text-align: center; vertical-align: top\">30532</td>\n",
       "        <td style=\"padding-left: 1em; padding-right: 1em; text-align: center; vertical-align: top\">1.60944</td>\n",
       "        <td style=\"padding-left: 1em; padding-right: 1em; text-align: center; vertical-align: top\">1.09861</td>\n",
       "        <td style=\"padding-left: 1em; padding-right: 1em; text-align: center; vertical-align: top\">1.94591</td>\n",
       "        <td style=\"padding-left: 1em; padding-right: 1em; text-align: center; vertical-align: top\">0.0</td>\n",
       "        <td style=\"padding-left: 1em; padding-right: 1em; text-align: center; vertical-align: top\">0.0</td>\n",
       "        <td style=\"padding-left: 1em; padding-right: 1em; text-align: center; vertical-align: top\">2.30259</td>\n",
       "    </tr>\n",
       "</table>\n",
       "<table frame=\"box\" rules=\"cols\">\n",
       "    <tr>\n",
       "        <th style=\"padding-left: 1em; padding-right: 1em; text-align: center\">n_a</th>\n",
       "        <th style=\"padding-left: 1em; padding-right: 1em; text-align: center\">n_r</th>\n",
       "        <th style=\"padding-left: 1em; padding-right: 1em; text-align: center\">n_c</th>\n",
       "        <th style=\"padding-left: 1em; padding-right: 1em; text-align: center\">n_p</th>\n",
       "        <th style=\"padding-left: 1em; padding-right: 1em; text-align: center\">mpca</th>\n",
       "    </tr>\n",
       "    <tr>\n",
       "        <td style=\"padding-left: 1em; padding-right: 1em; text-align: center; vertical-align: top\">4920.33</td>\n",
       "        <td style=\"padding-left: 1em; padding-right: 1em; text-align: center; vertical-align: top\">17705.3</td>\n",
       "        <td style=\"padding-left: 1em; padding-right: 1em; text-align: center; vertical-align: top\">17.0</td>\n",
       "        <td style=\"padding-left: 1em; padding-right: 1em; text-align: center; vertical-align: top\">150460.0</td>\n",
       "        <td style=\"padding-left: 1em; padding-right: 1em; text-align: center; vertical-align: top\">1.38576</td>\n",
       "    </tr>\n",
       "    <tr>\n",
       "        <td style=\"padding-left: 1em; padding-right: 1em; text-align: center; vertical-align: top\">27322.7</td>\n",
       "        <td style=\"padding-left: 1em; padding-right: 1em; text-align: center; vertical-align: top\">8605.67</td>\n",
       "        <td style=\"padding-left: 1em; padding-right: 1em; text-align: center; vertical-align: top\">25.6667</td>\n",
       "        <td style=\"padding-left: 1em; padding-right: 1em; text-align: center; vertical-align: top\">117711.0</td>\n",
       "        <td style=\"padding-left: 1em; padding-right: 1em; text-align: center; vertical-align: top\">1.78838</td>\n",
       "    </tr>\n",
       "    <tr>\n",
       "        <td style=\"padding-left: 1em; padding-right: 1em; text-align: center; vertical-align: top\">9321.67</td>\n",
       "        <td style=\"padding-left: 1em; padding-right: 1em; text-align: center; vertical-align: top\">1760.0</td>\n",
       "        <td style=\"padding-left: 1em; padding-right: 1em; text-align: center; vertical-align: top\">10.3333</td>\n",
       "        <td style=\"padding-left: 1em; padding-right: 1em; text-align: center; vertical-align: top\">9504.67</td>\n",
       "        <td style=\"padding-left: 1em; padding-right: 1em; text-align: center; vertical-align: top\">2.13936</td>\n",
       "    </tr>\n",
       "    <tr>\n",
       "        <td style=\"padding-left: 1em; padding-right: 1em; text-align: center; vertical-align: top\">15862.7</td>\n",
       "        <td style=\"padding-left: 1em; padding-right: 1em; text-align: center; vertical-align: top\">14950.0</td>\n",
       "        <td style=\"padding-left: 1em; padding-right: 1em; text-align: center; vertical-align: top\">5.0</td>\n",
       "        <td style=\"padding-left: 1em; padding-right: 1em; text-align: center; vertical-align: top\">108023.0</td>\n",
       "        <td style=\"padding-left: 1em; padding-right: 1em; text-align: center; vertical-align: top\">0.943928</td>\n",
       "    </tr>\n",
       "    <tr>\n",
       "        <td style=\"padding-left: 1em; padding-right: 1em; text-align: center; vertical-align: top\">30028.7</td>\n",
       "        <td style=\"padding-left: 1em; padding-right: 1em; text-align: center; vertical-align: top\">32879.3</td>\n",
       "        <td style=\"padding-left: 1em; padding-right: 1em; text-align: center; vertical-align: top\">13.3333</td>\n",
       "        <td style=\"padding-left: 1em; padding-right: 1em; text-align: center; vertical-align: top\">52275.3</td>\n",
       "        <td style=\"padding-left: 1em; padding-right: 1em; text-align: center; vertical-align: top\">1.37841</td>\n",
       "    </tr>\n",
       "    <tr>\n",
       "        <td style=\"padding-left: 1em; padding-right: 1em; text-align: center; vertical-align: top\">40219.0</td>\n",
       "        <td style=\"padding-left: 1em; padding-right: 1em; text-align: center; vertical-align: top\">10540.0</td>\n",
       "        <td style=\"padding-left: 1em; padding-right: 1em; text-align: center; vertical-align: top\">20.3333</td>\n",
       "        <td style=\"padding-left: 1em; padding-right: 1em; text-align: center; vertical-align: top\">52275.3</td>\n",
       "        <td style=\"padding-left: 1em; padding-right: 1em; text-align: center; vertical-align: top\">2.2048</td>\n",
       "    </tr>\n",
       "    <tr>\n",
       "        <td style=\"padding-left: 1em; padding-right: 1em; text-align: center; vertical-align: top\">20021.3</td>\n",
       "        <td style=\"padding-left: 1em; padding-right: 1em; text-align: center; vertical-align: top\">17868.3</td>\n",
       "        <td style=\"padding-left: 1em; padding-right: 1em; text-align: center; vertical-align: top\">23.0</td>\n",
       "        <td style=\"padding-left: 1em; padding-right: 1em; text-align: center; vertical-align: top\">25734.0</td>\n",
       "        <td style=\"padding-left: 1em; padding-right: 1em; text-align: center; vertical-align: top\">2.94955</td>\n",
       "    </tr>\n",
       "    <tr>\n",
       "        <td style=\"padding-left: 1em; padding-right: 1em; text-align: center; vertical-align: top\">13577.7</td>\n",
       "        <td style=\"padding-left: 1em; padding-right: 1em; text-align: center; vertical-align: top\">9520.33</td>\n",
       "        <td style=\"padding-left: 1em; padding-right: 1em; text-align: center; vertical-align: top\">8.0</td>\n",
       "        <td style=\"padding-left: 1em; padding-right: 1em; text-align: center; vertical-align: top\">4284.33</td>\n",
       "        <td style=\"padding-left: 1em; padding-right: 1em; text-align: center; vertical-align: top\">1.07856</td>\n",
       "    </tr>\n",
       "    <tr>\n",
       "        <td style=\"padding-left: 1em; padding-right: 1em; text-align: center; vertical-align: top\">18915.7</td>\n",
       "        <td style=\"padding-left: 1em; padding-right: 1em; text-align: center; vertical-align: top\">13758.3</td>\n",
       "        <td style=\"padding-left: 1em; padding-right: 1em; text-align: center; vertical-align: top\">11.3333</td>\n",
       "        <td style=\"padding-left: 1em; padding-right: 1em; text-align: center; vertical-align: top\">24787.7</td>\n",
       "        <td style=\"padding-left: 1em; padding-right: 1em; text-align: center; vertical-align: top\">1.04317</td>\n",
       "    </tr>\n",
       "    <tr>\n",
       "        <td style=\"padding-left: 1em; padding-right: 1em; text-align: center; vertical-align: top\">36187.3</td>\n",
       "        <td style=\"padding-left: 1em; padding-right: 1em; text-align: center; vertical-align: top\">14982.7</td>\n",
       "        <td style=\"padding-left: 1em; padding-right: 1em; text-align: center; vertical-align: top\">14.6667</td>\n",
       "        <td style=\"padding-left: 1em; padding-right: 1em; text-align: center; vertical-align: top\">90304.3</td>\n",
       "        <td style=\"padding-left: 1em; padding-right: 1em; text-align: center; vertical-align: top\">1.79548</td>\n",
       "    </tr>\n",
       "</table>\n",
       "[10 rows x 15 columns]<br/>\n",
       "</div>"
      ],
      "text/plain": [
       "Columns:\n",
       "\tAgencia_ID\tint\n",
       "\tRuta_SAK\tint\n",
       "\tCliente_ID\tint\n",
       "\tProducto_ID\tint\n",
       "\tDemada_log\tfloat\n",
       "\tlag1\tfloat\n",
       "\tlag2\tfloat\n",
       "\tlag3\tfloat\n",
       "\tlag4\tfloat\n",
       "\tlag5\tfloat\n",
       "\tn_a\tfloat\n",
       "\tn_r\tfloat\n",
       "\tn_c\tfloat\n",
       "\tn_p\tfloat\n",
       "\tmpca\tfloat\n",
       "\n",
       "Rows: 10\n",
       "\n",
       "Data:\n",
       "+------------+----------+------------+-------------+------------+---------+\n",
       "| Agencia_ID | Ruta_SAK | Cliente_ID | Producto_ID | Demada_log |   lag1  |\n",
       "+------------+----------+------------+-------------+------------+---------+\n",
       "|    1542    |   4501   |  4676035   |     1242    |  1.38629   | 1.38629 |\n",
       "|    1138    |   1033   |   171033   |     1146    |  1.94591   | 2.19722 |\n",
       "|    2238    |   4105   |   494132   |    40217    |  1.60944   | 2.19722 |\n",
       "|    1350    |   1233   |  2030945   |     1232    |  1.09861   | 1.09861 |\n",
       "|    1236    |   1203   |   85081    |     1182    |  1.94591   |   0.0   |\n",
       "|    1629    |   1020   |  4165785   |     1182    |  2.30259   | 2.19722 |\n",
       "|    1453    |   1107   |   10642    |    43207    |  3.43399   |  3.3673 |\n",
       "|    2038    |   2814   |  1224421   |    36304    |  1.09861   |   0.0   |\n",
       "|    1618    |   1261   |   858571   |     2665    |  0.693147  |   0.0   |\n",
       "|    1120    |   2113   |   174432   |    30532    |  1.60944   | 1.09861 |\n",
       "+------------+----------+------------+-------------+------------+---------+\n",
       "+---------+----------+---------+----------+---------+---------+---------+\n",
       "|   lag2  |   lag3   |   lag4  |   lag5   |   n_a   |   n_r   |   n_c   |\n",
       "+---------+----------+---------+----------+---------+---------+---------+\n",
       "| 1.60944 | 1.09861  | 1.60944 | 1.38629  | 4920.33 | 17705.3 |   17.0  |\n",
       "| 1.38629 | 2.07944  | 2.07944 | 2.19722  | 27322.7 | 8605.67 | 25.6667 |\n",
       "| 2.30259 |   0.0    |   0.0   | 2.48491  | 9321.67 |  1760.0 | 10.3333 |\n",
       "| 1.09861 | 0.693147 | 1.09861 | 0.693147 | 15862.7 | 14950.0 |   5.0   |\n",
       "|   0.0   |   0.0    |   0.0   |   0.0    | 30028.7 | 32879.3 | 13.3333 |\n",
       "| 2.19722 | 2.70805  |  2.3979 | 2.19722  | 40219.0 | 10540.0 | 20.3333 |\n",
       "| 2.89037 | 3.58352  | 2.77259 | 3.04452  | 20021.3 | 17868.3 |   23.0  |\n",
       "|   0.0   |   0.0    |   0.0   |   0.0    | 13577.7 | 9520.33 |   8.0   |\n",
       "|   0.0   |   0.0    |   0.0   |   0.0    | 18915.7 | 13758.3 | 11.3333 |\n",
       "| 1.94591 |   0.0    |   0.0   | 2.30259  | 36187.3 | 14982.7 | 14.6667 |\n",
       "+---------+----------+---------+----------+---------+---------+---------+\n",
       "+----------+----------+\n",
       "|   n_p    |   mpca   |\n",
       "+----------+----------+\n",
       "| 150460.0 | 1.38576  |\n",
       "| 117711.0 | 1.78838  |\n",
       "| 9504.67  | 2.13936  |\n",
       "| 108023.0 | 0.943928 |\n",
       "| 52275.3  | 1.37841  |\n",
       "| 52275.3  |  2.2048  |\n",
       "| 25734.0  | 2.94955  |\n",
       "| 4284.33  | 1.07856  |\n",
       "| 24787.7  | 1.04317  |\n",
       "| 90304.3  | 1.79548  |\n",
       "+----------+----------+\n",
       "[10 rows x 15 columns]"
      ]
     },
     "execution_count": 11,
     "metadata": {},
     "output_type": "execute_result"
    }
   ],
   "source": [
    "train.head()"
   ]
  },
  {
   "cell_type": "code",
   "execution_count": null,
   "metadata": {
    "ExecuteTime": {
     "end_time": "2016-08-28T05:18:25.890661",
     "start_time": "2016-08-27T23:58:30.110620"
    },
    "collapsed": false,
    "scrolled": true
   },
   "outputs": [
    {
     "data": {
      "text/html": [
       "<pre>Boosted trees regression:</pre>"
      ],
      "text/plain": [
       "Boosted trees regression:"
      ]
     },
     "metadata": {},
     "output_type": "display_data"
    },
    {
     "data": {
      "text/html": [
       "<pre>--------------------------------------------------------</pre>"
      ],
      "text/plain": [
       "--------------------------------------------------------"
      ]
     },
     "metadata": {},
     "output_type": "display_data"
    },
    {
     "data": {
      "text/html": [
       "<pre>Number of examples          : 10406868</pre>"
      ],
      "text/plain": [
       "Number of examples          : 10406868"
      ]
     },
     "metadata": {},
     "output_type": "display_data"
    },
    {
     "data": {
      "text/html": [
       "<pre>Number of features          : 14</pre>"
      ],
      "text/plain": [
       "Number of features          : 14"
      ]
     },
     "metadata": {},
     "output_type": "display_data"
    },
    {
     "data": {
      "text/html": [
       "<pre>Number of unpacked features : 14</pre>"
      ],
      "text/plain": [
       "Number of unpacked features : 14"
      ]
     },
     "metadata": {},
     "output_type": "display_data"
    },
    {
     "data": {
      "text/html": [
       "<pre>+-----------+--------------+---------------+</pre>"
      ],
      "text/plain": [
       "+-----------+--------------+---------------+"
      ]
     },
     "metadata": {},
     "output_type": "display_data"
    },
    {
     "data": {
      "text/html": [
       "<pre>| Iteration | Elapsed Time | Training-rmse |</pre>"
      ],
      "text/plain": [
       "| Iteration | Elapsed Time | Training-rmse |"
      ]
     },
     "metadata": {},
     "output_type": "display_data"
    },
    {
     "data": {
      "text/html": [
       "<pre>+-----------+--------------+---------------+</pre>"
      ],
      "text/plain": [
       "+-----------+--------------+---------------+"
      ]
     },
     "metadata": {},
     "output_type": "display_data"
    },
    {
     "data": {
      "text/html": [
       "<pre>| 1         | 27.983087    | 1.263969      |</pre>"
      ],
      "text/plain": [
       "| 1         | 27.983087    | 1.263969      |"
      ]
     },
     "metadata": {},
     "output_type": "display_data"
    },
    {
     "data": {
      "text/html": [
       "<pre>| 2         | 55.050844    | 1.155445      |</pre>"
      ],
      "text/plain": [
       "| 2         | 55.050844    | 1.155445      |"
      ]
     },
     "metadata": {},
     "output_type": "display_data"
    },
    {
     "data": {
      "text/html": [
       "<pre>| 3         | 81.809064    | 1.059701      |</pre>"
      ],
      "text/plain": [
       "| 3         | 81.809064    | 1.059701      |"
      ]
     },
     "metadata": {},
     "output_type": "display_data"
    },
    {
     "data": {
      "text/html": [
       "<pre>| 4         | 105.795573   | 0.977373      |</pre>"
      ],
      "text/plain": [
       "| 4         | 105.795573   | 0.977373      |"
      ]
     },
     "metadata": {},
     "output_type": "display_data"
    }
   ],
   "source": [
    "# Make a train-test split\n",
    "# train_data, test_data = train.random_split(0.999)\n",
    "\n",
    "# Create a model.\n",
    "model = gl.boosted_trees_regression.create(train, target='Demada_log',\n",
    "                                           step_size=0.1,\n",
    "                                           max_iterations=1200,\n",
    "                                           max_depth = 10,\n",
    "                                          metric='rmse',\n",
    "                                          random_seed=369,\n",
    "                                          column_subsample=0.7,\n",
    "                                          row_subsample=0.85,\n",
    "                                          validation_set=None,\n",
    "                                          model_checkpoint_path=path,\n",
    "                                          model_checkpoint_interval=1200)\n"
   ]
  },
  {
   "cell_type": "code",
   "execution_count": null,
   "metadata": {
    "ExecuteTime": {
     "end_time": "2016-08-28T05:18:28.002549",
     "start_time": "2016-08-28T05:18:25.892023"
    },
    "collapsed": false
   },
   "outputs": [],
   "source": [
    "'''feature important'''\n",
    "w = model.get_feature_importance()\n",
    "w = w.add_row_number()\n",
    "w"
   ]
  },
  {
   "cell_type": "code",
   "execution_count": null,
   "metadata": {
    "ExecuteTime": {
     "end_time": "2016-08-28T05:18:28.872103",
     "start_time": "2016-08-28T05:18:28.003657"
    },
    "collapsed": false
   },
   "outputs": [],
   "source": [
    "from IPython.core.pylabtools import figsize\n",
    "import numpy as np\n",
    "from matplotlib import pyplot as plt\n",
    "import seaborn as sns\n",
    "sns.set_style('darkgrid', {'grid.color': '.8','grid.linestyle': u'--'}) \n",
    "%matplotlib inline\n",
    "\n",
    "figsize(12, 6)\n",
    "plt.bar(w['id'], w['count'], tick_label=w['name'])\n",
    "\n",
    "plt.xticks(rotation=45)\n"
   ]
  },
  {
   "cell_type": "markdown",
   "metadata": {
    "collapsed": true
   },
   "source": [
    "## predict"
   ]
  },
  {
   "cell_type": "code",
   "execution_count": null,
   "metadata": {
    "ExecuteTime": {
     "end_time": "2016-08-28T05:18:39.781342",
     "start_time": "2016-08-28T05:18:28.873628"
    },
    "collapsed": true
   },
   "outputs": [],
   "source": [
    "test = gl.SFrame.read_csv(path + 'test_lag5_w8_mean.csv', verbose=False)\n",
    "# test = test.join(town, on=['Agencia_ID','Producto_ID'], how='left')\n",
    "# del test['Town']\n",
    "# test = test.fillna('t_c',1)\n",
    "# test = test.fillna('tcc',0)\n",
    "# test = test.fillna('tp_sum',0)"
   ]
  },
  {
   "cell_type": "code",
   "execution_count": null,
   "metadata": {
    "ExecuteTime": {
     "end_time": "2016-08-28T05:18:39.787406",
     "start_time": "2016-08-28T05:18:39.782829"
    },
    "collapsed": false
   },
   "outputs": [],
   "source": [
    "del test['prior_sum']\n",
    "del test['lag_sum']\n",
    "del test['week_times']\n",
    "del test['Canal_ID']"
   ]
  },
  {
   "cell_type": "code",
   "execution_count": null,
   "metadata": {
    "ExecuteTime": {
     "end_time": "2016-08-28T05:18:39.809595",
     "start_time": "2016-08-28T05:18:39.789170"
    },
    "collapsed": true
   },
   "outputs": [],
   "source": [
    "'''Add feature to week 11'''\n",
    "def feature_w11(test, lag_sum=0, prior_sum=0):\n",
    "    test_full = test.copy()\n",
    "    ids = test['id']\n",
    "    del test['id']\n",
    "    del test['Semana']\n",
    "    demand_log = model.predict(test)\n",
    "    sub1 = gl.SFrame({'id':ids,'Demanda_uni_equil':demand_log})\n",
    "    test_full = test_full.join(sub1,on=['id'],how='left')\n",
    "    lag11 = test_full.groupby(key_columns=['Semana','Cliente_ID','Producto_ID'], operations={'lag11':agg.MEAN('Demanda_uni_equil')})\n",
    "    lag11['Semana'] = lag11['Semana'].apply(lambda x: x+1)\n",
    "    test_full = test_full.join(lag11,on=['Semana','Cliente_ID','Producto_ID'],how='left')\n",
    "    test_full = test_full.fillna('lag11',0)\n",
    "    test_full['lag1'] = test_full['lag1'] + test_full['lag11']\n",
    "    \n",
    "    if lag_sum == 1:\n",
    "        test_full['lag_sum'] = test_full['lag_sum'] + test_full['lag11']\n",
    "        \n",
    "    if prior_sum == 1:\n",
    "        lag_sum11 = test_full.groupby(key_columns=['Semana','Cliente_ID','Producto_ID'], operations={'lag_sum11':agg.SUM('Demanda_uni_equil')})\n",
    "        lag_sum11['Semana'] = lag_sum11['Semana'].apply(lambda x: x+1)\n",
    "        test_full = test_full.join(lag_sum11,on=['Semana','Cliente_ID','Producto_ID'],how='left')\n",
    "        test_full = test_full.fillna('lag_sum11',0)\n",
    "        test_full['prior_sum'] = test_full['prior_sum'] + test_full['lag_sum11']\n",
    "        del test_full['lag_sum11']\n",
    "\n",
    "    del test_full['lag11']\n",
    "    del test_full['Demanda_uni_equil']\n",
    "    return test_full"
   ]
  },
  {
   "cell_type": "code",
   "execution_count": null,
   "metadata": {
    "ExecuteTime": {
     "end_time": "2016-08-28T05:26:57.810448",
     "start_time": "2016-08-28T05:18:39.811409"
    },
    "collapsed": true
   },
   "outputs": [],
   "source": [
    "test_full = feature_w11(test, lag_sum=0, prior_sum=0)\n",
    "\n",
    "ids = test_full['id']\n",
    "del test_full['id']\n",
    "del test_full['Semana']\n",
    "demand_log = model.predict(test_full)\n",
    "sub = gl.SFrame({'id':ids,'Demanda_uni_equil':demand_log})"
   ]
  },
  {
   "cell_type": "code",
   "execution_count": null,
   "metadata": {
    "ExecuteTime": {
     "end_time": "2016-08-28T05:26:57.822610",
     "start_time": "2016-08-28T05:26:57.812166"
    },
    "collapsed": false
   },
   "outputs": [],
   "source": [
    "import math\n",
    "sub['Demanda_uni_equil'] = sub['Demanda_uni_equil'].apply(lambda x: math.expm1(max(0, x)))"
   ]
  },
  {
   "cell_type": "code",
   "execution_count": null,
   "metadata": {
    "ExecuteTime": {
     "end_time": "2016-08-28T05:27:10.488410",
     "start_time": "2016-08-28T05:26:57.824140"
    },
    "collapsed": true
   },
   "outputs": [],
   "source": [
    "file_name = 'w8'+'_f'+str(model.num_features)+'_n'+str(model.max_iterations)+'_c'+str(model.column_subsample)\n",
    "sub.save(path + file_name,format='csv')"
   ]
  },
  {
   "cell_type": "code",
   "execution_count": 19,
   "metadata": {
    "ExecuteTime": {
     "end_time": "2016-08-28T05:27:10.516186",
     "start_time": "2016-08-28T05:27:10.489923"
    },
    "collapsed": false
   },
   "outputs": [
    {
     "data": {
      "text/html": [
       "<div style=\"max-height:1000px;max-width:1500px;overflow:auto;\"><table frame=\"box\" rules=\"cols\">\n",
       "    <tr>\n",
       "        <th style=\"padding-left: 1em; padding-right: 1em; text-align: center\">Demanda_uni_equil</th>\n",
       "        <th style=\"padding-left: 1em; padding-right: 1em; text-align: center\">id</th>\n",
       "    </tr>\n",
       "    <tr>\n",
       "        <td style=\"padding-left: 1em; padding-right: 1em; text-align: center; vertical-align: top\">10.2759945106</td>\n",
       "        <td style=\"padding-left: 1em; padding-right: 1em; text-align: center; vertical-align: top\">1241139</td>\n",
       "    </tr>\n",
       "    <tr>\n",
       "        <td style=\"padding-left: 1em; padding-right: 1em; text-align: center; vertical-align: top\">1.55656712045</td>\n",
       "        <td style=\"padding-left: 1em; padding-right: 1em; text-align: center; vertical-align: top\">446660</td>\n",
       "    </tr>\n",
       "    <tr>\n",
       "        <td style=\"padding-left: 1em; padding-right: 1em; text-align: center; vertical-align: top\">3.624115765</td>\n",
       "        <td style=\"padding-left: 1em; padding-right: 1em; text-align: center; vertical-align: top\">699</td>\n",
       "    </tr>\n",
       "    <tr>\n",
       "        <td style=\"padding-left: 1em; padding-right: 1em; text-align: center; vertical-align: top\">5.22596714568</td>\n",
       "        <td style=\"padding-left: 1em; padding-right: 1em; text-align: center; vertical-align: top\">3563354</td>\n",
       "    </tr>\n",
       "    <tr>\n",
       "        <td style=\"padding-left: 1em; padding-right: 1em; text-align: center; vertical-align: top\">0.853487732775</td>\n",
       "        <td style=\"padding-left: 1em; padding-right: 1em; text-align: center; vertical-align: top\">4321974</td>\n",
       "    </tr>\n",
       "    <tr>\n",
       "        <td style=\"padding-left: 1em; padding-right: 1em; text-align: center; vertical-align: top\">14.59106358</td>\n",
       "        <td style=\"padding-left: 1em; padding-right: 1em; text-align: center; vertical-align: top\">2223933</td>\n",
       "    </tr>\n",
       "    <tr>\n",
       "        <td style=\"padding-left: 1em; padding-right: 1em; text-align: center; vertical-align: top\">3.44766689475</td>\n",
       "        <td style=\"padding-left: 1em; padding-right: 1em; text-align: center; vertical-align: top\">5868253</td>\n",
       "    </tr>\n",
       "    <tr>\n",
       "        <td style=\"padding-left: 1em; padding-right: 1em; text-align: center; vertical-align: top\">1.09161861938</td>\n",
       "        <td style=\"padding-left: 1em; padding-right: 1em; text-align: center; vertical-align: top\">2800590</td>\n",
       "    </tr>\n",
       "    <tr>\n",
       "        <td style=\"padding-left: 1em; padding-right: 1em; text-align: center; vertical-align: top\">8.85764549884</td>\n",
       "        <td style=\"padding-left: 1em; padding-right: 1em; text-align: center; vertical-align: top\">5720532</td>\n",
       "    </tr>\n",
       "    <tr>\n",
       "        <td style=\"padding-left: 1em; padding-right: 1em; text-align: center; vertical-align: top\">2.96202633523</td>\n",
       "        <td style=\"padding-left: 1em; padding-right: 1em; text-align: center; vertical-align: top\">761533</td>\n",
       "    </tr>\n",
       "</table>\n",
       "[6999251 rows x 2 columns]<br/>Note: Only the head of the SFrame is printed.<br/>You can use print_rows(num_rows=m, num_columns=n) to print more rows and columns.\n",
       "</div>"
      ],
      "text/plain": [
       "Columns:\n",
       "\tDemanda_uni_equil\tfloat\n",
       "\tid\tint\n",
       "\n",
       "Rows: 6999251\n",
       "\n",
       "Data:\n",
       "+-------------------+---------+\n",
       "| Demanda_uni_equil |    id   |\n",
       "+-------------------+---------+\n",
       "|   10.2759945106   | 1241139 |\n",
       "|   1.55656712045   |  446660 |\n",
       "|    3.624115765    |   699   |\n",
       "|   5.22596714568   | 3563354 |\n",
       "|   0.853487732775  | 4321974 |\n",
       "|    14.59106358    | 2223933 |\n",
       "|   3.44766689475   | 5868253 |\n",
       "|   1.09161861938   | 2800590 |\n",
       "|   8.85764549884   | 5720532 |\n",
       "|   2.96202633523   |  761533 |\n",
       "+-------------------+---------+\n",
       "[6999251 rows x 2 columns]\n",
       "Note: Only the head of the SFrame is printed.\n",
       "You can use print_rows(num_rows=m, num_columns=n) to print more rows and columns."
      ]
     },
     "execution_count": 19,
     "metadata": {},
     "output_type": "execute_result"
    }
   ],
   "source": [
    "sub"
   ]
  },
  {
   "cell_type": "code",
   "execution_count": null,
   "metadata": {
    "collapsed": true
   },
   "outputs": [],
   "source": []
  }
 ],
 "metadata": {
  "kernelspec": {
   "display_name": "Python 2",
   "language": "python",
   "name": "python2"
  },
  "language_info": {
   "codemirror_mode": {
    "name": "ipython",
    "version": 2
   },
   "file_extension": ".py",
   "mimetype": "text/x-python",
   "name": "python",
   "nbconvert_exporter": "python",
   "pygments_lexer": "ipython2",
   "version": "2.7.6"
  }
 },
 "nbformat": 4,
 "nbformat_minor": 0
}
