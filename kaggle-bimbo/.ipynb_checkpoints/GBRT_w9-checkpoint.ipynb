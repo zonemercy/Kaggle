{
 "cells": [
  {
   "cell_type": "code",
   "execution_count": 2,
   "metadata": {
    "collapsed": true
   },
   "outputs": [],
   "source": [
    "import pandas as pd\n",
    "import numpy as np\n",
    "import os\n",
    "import math\n",
    "import graphlab\n",
    "import graphlab as gl\n",
    "import graphlab.aggregate as agg\n",
    "from graphlab import SArray"
   ]
  },
  {
   "cell_type": "code",
   "execution_count": 3,
   "metadata": {
    "collapsed": true
   },
   "outputs": [],
   "source": [
    "'''钢炮'''\n",
    "path = '/home/zongyi/bimbo_data/'"
   ]
  },
  {
   "cell_type": "code",
   "execution_count": 4,
   "metadata": {
    "collapsed": false
   },
   "outputs": [
    {
     "name": "stderr",
     "output_type": "stream",
     "text": [
      "/usr/local/lib/python2.7/dist-packages/requests/packages/urllib3/util/ssl_.py:315: SNIMissingWarning: An HTTPS request has been made, but the SNI (Subject Name Indication) extension to TLS is not available on this platform. This may cause the server to present an incorrect TLS certificate, which can cause validation failures. For more information, see https://urllib3.readthedocs.org/en/latest/security.html#snimissingwarning.\n",
      "  SNIMissingWarning\n",
      "/usr/local/lib/python2.7/dist-packages/requests/packages/urllib3/util/ssl_.py:120: InsecurePlatformWarning: A true SSLContext object is not available. This prevents urllib3 from configuring SSL appropriately and may cause certain SSL connections to fail. For more information, see https://urllib3.readthedocs.org/en/latest/security.html#insecureplatformwarning.\n",
      "  InsecurePlatformWarning\n"
     ]
    },
    {
     "name": "stdout",
     "output_type": "stream",
     "text": [
      "This non-commercial license of GraphLab Create for academic use is assigned to zong-yi.liu@irit.fr and will expire on July 13, 2017.\n"
     ]
    },
    {
     "name": "stderr",
     "output_type": "stream",
     "text": [
      "[INFO] graphlab.cython.cy_server: GraphLab Create v2.0.1 started. Logging: /tmp/graphlab_server_1472143272.log\n"
     ]
    }
   ],
   "source": [
    "train = gl.SFrame.read_csv(path + 'train_lag5_w9.csv', verbose=False)"
   ]
  },
  {
   "cell_type": "code",
   "execution_count": 4,
   "metadata": {
    "collapsed": false
   },
   "outputs": [],
   "source": [
    "town = gl.SFrame.read_csv(path + 'towns.csv', verbose=False)\n",
    "train = train.join(town, on=['Agencia_ID','Producto_ID'], how='left')\n",
    "train = train.fillna('t_c',1)\n",
    "train = train.fillna('tcc',0)\n",
    "train = train.fillna('tp_sum',0)\n",
    "del train['Town']\n",
    "del train['t_c']\n"
   ]
  },
  {
   "cell_type": "code",
   "execution_count": 5,
   "metadata": {
    "collapsed": true
   },
   "outputs": [],
   "source": [
    "del train['n_t']"
   ]
  },
  {
   "cell_type": "code",
   "execution_count": 6,
   "metadata": {
    "collapsed": false
   },
   "outputs": [],
   "source": [
    "del train['id']\n",
    "del train['Venta_uni_hoy']\n",
    "del train['Venta_hoy']\n",
    "del train['Dev_uni_proxima']\n",
    "del train['Dev_proxima']\n",
    "del train['Demanda_uni_equil']\n"
   ]
  },
  {
   "cell_type": "code",
   "execution_count": 6,
   "metadata": {
    "collapsed": true
   },
   "outputs": [],
   "source": [
    "# relag_train = gl.SFrame.read_csv(path + 're_lag_train.csv', verbose=False)\n",
    "# train = train.join(relag_train, on=['Cliente_ID','Producto_ID','Semana'], how='left')\n",
    "# train = train.fillna('re_lag1',0)\n",
    "# train = train.fillna('re_lag2',0)\n",
    "# train = train.fillna('re_lag3',0)\n",
    "# train = train.fillna('re_lag4',0)\n",
    "# train = train.fillna('re_lag5',0)\n",
    "# del relag_train\n"
   ]
  },
  {
   "cell_type": "code",
   "execution_count": 7,
   "metadata": {
    "collapsed": true
   },
   "outputs": [],
   "source": [
    "# pd = gl.SFrame.read_csv(path + 'products.csv', verbose=False)\n",
    "# train = train.join(pd, on=['Producto_ID'], how='left')\n",
    "# train = train.fillna('prom',0)\n",
    "# train = train.fillna('weight',0)\n",
    "# train = train.fillna('pieces',1)\n",
    "# train = train.fillna('w_per_piece',0)\n",
    "# train = train.fillna('healthy',0)\n",
    "# train = train.fillna('drink',0)\n",
    "# del train['brand']\n",
    "# del train['NombreProducto']\n",
    "# del pd"
   ]
  },
  {
   "cell_type": "code",
   "execution_count": 8,
   "metadata": {
    "collapsed": true
   },
   "outputs": [],
   "source": [
    "# client = gl.SFrame.read_csv(path + 'clients.csv', verbose=False)\n",
    "# train = train.join(client, on=['Cliente_ID'], how='left')\n",
    "# del client"
   ]
  },
  {
   "cell_type": "code",
   "execution_count": 9,
   "metadata": {
    "collapsed": false
   },
   "outputs": [],
   "source": [
    "# cluster = gl.SFrame.read_csv(path + 'prod_cluster.csv', verbose=False)\n",
    "# cluster = cluster[['Producto_ID','cluster']]\n",
    "# train = train.join(cluster, on=['Producto_ID'], how='left')"
   ]
  },
  {
   "cell_type": "code",
   "execution_count": 36,
   "metadata": {
    "collapsed": false
   },
   "outputs": [
    {
     "data": {
      "text/html": [
       "<div style=\"max-height:1000px;max-width:1500px;overflow:auto;\"><table frame=\"box\" rules=\"cols\">\n",
       "    <tr>\n",
       "        <th style=\"padding-left: 1em; padding-right: 1em; text-align: center\">Agencia_ID</th>\n",
       "        <th style=\"padding-left: 1em; padding-right: 1em; text-align: center\">Ruta_SAK</th>\n",
       "        <th style=\"padding-left: 1em; padding-right: 1em; text-align: center\">Cliente_ID</th>\n",
       "        <th style=\"padding-left: 1em; padding-right: 1em; text-align: center\">Producto_ID</th>\n",
       "        <th style=\"padding-left: 1em; padding-right: 1em; text-align: center\">Demada_log</th>\n",
       "        <th style=\"padding-left: 1em; padding-right: 1em; text-align: center\">lag1</th>\n",
       "        <th style=\"padding-left: 1em; padding-right: 1em; text-align: center\">lag2</th>\n",
       "        <th style=\"padding-left: 1em; padding-right: 1em; text-align: center\">lag3</th>\n",
       "        <th style=\"padding-left: 1em; padding-right: 1em; text-align: center\">lag4</th>\n",
       "        <th style=\"padding-left: 1em; padding-right: 1em; text-align: center\">lag5</th>\n",
       "    </tr>\n",
       "    <tr>\n",
       "        <td style=\"padding-left: 1em; padding-right: 1em; text-align: center; vertical-align: top\">2234</td>\n",
       "        <td style=\"padding-left: 1em; padding-right: 1em; text-align: center; vertical-align: top\">1234</td>\n",
       "        <td style=\"padding-left: 1em; padding-right: 1em; text-align: center; vertical-align: top\">2308240</td>\n",
       "        <td style=\"padding-left: 1em; padding-right: 1em; text-align: center; vertical-align: top\">1240</td>\n",
       "        <td style=\"padding-left: 1em; padding-right: 1em; text-align: center; vertical-align: top\">2.19722</td>\n",
       "        <td style=\"padding-left: 1em; padding-right: 1em; text-align: center; vertical-align: top\">1.79176</td>\n",
       "        <td style=\"padding-left: 1em; padding-right: 1em; text-align: center; vertical-align: top\">0.693147</td>\n",
       "        <td style=\"padding-left: 1em; padding-right: 1em; text-align: center; vertical-align: top\">1.94591</td>\n",
       "        <td style=\"padding-left: 1em; padding-right: 1em; text-align: center; vertical-align: top\">0.0</td>\n",
       "        <td style=\"padding-left: 1em; padding-right: 1em; text-align: center; vertical-align: top\">0.0</td>\n",
       "    </tr>\n",
       "    <tr>\n",
       "        <td style=\"padding-left: 1em; padding-right: 1em; text-align: center; vertical-align: top\">1121</td>\n",
       "        <td style=\"padding-left: 1em; padding-right: 1em; text-align: center; vertical-align: top\">1415</td>\n",
       "        <td style=\"padding-left: 1em; padding-right: 1em; text-align: center; vertical-align: top\">1758210</td>\n",
       "        <td style=\"padding-left: 1em; padding-right: 1em; text-align: center; vertical-align: top\">35651</td>\n",
       "        <td style=\"padding-left: 1em; padding-right: 1em; text-align: center; vertical-align: top\">2.3979</td>\n",
       "        <td style=\"padding-left: 1em; padding-right: 1em; text-align: center; vertical-align: top\">1.94591</td>\n",
       "        <td style=\"padding-left: 1em; padding-right: 1em; text-align: center; vertical-align: top\">2.56495</td>\n",
       "        <td style=\"padding-left: 1em; padding-right: 1em; text-align: center; vertical-align: top\">3.4012</td>\n",
       "        <td style=\"padding-left: 1em; padding-right: 1em; text-align: center; vertical-align: top\">2.48491</td>\n",
       "        <td style=\"padding-left: 1em; padding-right: 1em; text-align: center; vertical-align: top\">2.56495</td>\n",
       "    </tr>\n",
       "    <tr>\n",
       "        <td style=\"padding-left: 1em; padding-right: 1em; text-align: center; vertical-align: top\">2032</td>\n",
       "        <td style=\"padding-left: 1em; padding-right: 1em; text-align: center; vertical-align: top\">1267</td>\n",
       "        <td style=\"padding-left: 1em; padding-right: 1em; text-align: center; vertical-align: top\">3554707</td>\n",
       "        <td style=\"padding-left: 1em; padding-right: 1em; text-align: center; vertical-align: top\">1240</td>\n",
       "        <td style=\"padding-left: 1em; padding-right: 1em; text-align: center; vertical-align: top\">1.38629</td>\n",
       "        <td style=\"padding-left: 1em; padding-right: 1em; text-align: center; vertical-align: top\">1.60944</td>\n",
       "        <td style=\"padding-left: 1em; padding-right: 1em; text-align: center; vertical-align: top\">1.60944</td>\n",
       "        <td style=\"padding-left: 1em; padding-right: 1em; text-align: center; vertical-align: top\">1.38629</td>\n",
       "        <td style=\"padding-left: 1em; padding-right: 1em; text-align: center; vertical-align: top\">1.79176</td>\n",
       "        <td style=\"padding-left: 1em; padding-right: 1em; text-align: center; vertical-align: top\">1.94591</td>\n",
       "    </tr>\n",
       "    <tr>\n",
       "        <td style=\"padding-left: 1em; padding-right: 1em; text-align: center; vertical-align: top\">2220</td>\n",
       "        <td style=\"padding-left: 1em; padding-right: 1em; text-align: center; vertical-align: top\">1227</td>\n",
       "        <td style=\"padding-left: 1em; padding-right: 1em; text-align: center; vertical-align: top\">2492643</td>\n",
       "        <td style=\"padding-left: 1em; padding-right: 1em; text-align: center; vertical-align: top\">1109</td>\n",
       "        <td style=\"padding-left: 1em; padding-right: 1em; text-align: center; vertical-align: top\">1.09861</td>\n",
       "        <td style=\"padding-left: 1em; padding-right: 1em; text-align: center; vertical-align: top\">1.09861</td>\n",
       "        <td style=\"padding-left: 1em; padding-right: 1em; text-align: center; vertical-align: top\">0.693147</td>\n",
       "        <td style=\"padding-left: 1em; padding-right: 1em; text-align: center; vertical-align: top\">1.09861</td>\n",
       "        <td style=\"padding-left: 1em; padding-right: 1em; text-align: center; vertical-align: top\">1.09861</td>\n",
       "        <td style=\"padding-left: 1em; padding-right: 1em; text-align: center; vertical-align: top\">0.0</td>\n",
       "    </tr>\n",
       "    <tr>\n",
       "        <td style=\"padding-left: 1em; padding-right: 1em; text-align: center; vertical-align: top\">1612</td>\n",
       "        <td style=\"padding-left: 1em; padding-right: 1em; text-align: center; vertical-align: top\">1139</td>\n",
       "        <td style=\"padding-left: 1em; padding-right: 1em; text-align: center; vertical-align: top\">1965168</td>\n",
       "        <td style=\"padding-left: 1em; padding-right: 1em; text-align: center; vertical-align: top\">972</td>\n",
       "        <td style=\"padding-left: 1em; padding-right: 1em; text-align: center; vertical-align: top\">1.60944</td>\n",
       "        <td style=\"padding-left: 1em; padding-right: 1em; text-align: center; vertical-align: top\">1.09861</td>\n",
       "        <td style=\"padding-left: 1em; padding-right: 1em; text-align: center; vertical-align: top\">0.693147</td>\n",
       "        <td style=\"padding-left: 1em; padding-right: 1em; text-align: center; vertical-align: top\">1.38629</td>\n",
       "        <td style=\"padding-left: 1em; padding-right: 1em; text-align: center; vertical-align: top\">1.09861</td>\n",
       "        <td style=\"padding-left: 1em; padding-right: 1em; text-align: center; vertical-align: top\">1.79176</td>\n",
       "    </tr>\n",
       "    <tr>\n",
       "        <td style=\"padding-left: 1em; padding-right: 1em; text-align: center; vertical-align: top\">2230</td>\n",
       "        <td style=\"padding-left: 1em; padding-right: 1em; text-align: center; vertical-align: top\">1002</td>\n",
       "        <td style=\"padding-left: 1em; padding-right: 1em; text-align: center; vertical-align: top\">2482931</td>\n",
       "        <td style=\"padding-left: 1em; padding-right: 1em; text-align: center; vertical-align: top\">3631</td>\n",
       "        <td style=\"padding-left: 1em; padding-right: 1em; text-align: center; vertical-align: top\">2.48491</td>\n",
       "        <td style=\"padding-left: 1em; padding-right: 1em; text-align: center; vertical-align: top\">2.3979</td>\n",
       "        <td style=\"padding-left: 1em; padding-right: 1em; text-align: center; vertical-align: top\">2.56495</td>\n",
       "        <td style=\"padding-left: 1em; padding-right: 1em; text-align: center; vertical-align: top\">2.56495</td>\n",
       "        <td style=\"padding-left: 1em; padding-right: 1em; text-align: center; vertical-align: top\">2.30259</td>\n",
       "        <td style=\"padding-left: 1em; padding-right: 1em; text-align: center; vertical-align: top\">1.09861</td>\n",
       "    </tr>\n",
       "    <tr>\n",
       "        <td style=\"padding-left: 1em; padding-right: 1em; text-align: center; vertical-align: top\">1121</td>\n",
       "        <td style=\"padding-left: 1em; padding-right: 1em; text-align: center; vertical-align: top\">1049</td>\n",
       "        <td style=\"padding-left: 1em; padding-right: 1em; text-align: center; vertical-align: top\">2449109</td>\n",
       "        <td style=\"padding-left: 1em; padding-right: 1em; text-align: center; vertical-align: top\">1125</td>\n",
       "        <td style=\"padding-left: 1em; padding-right: 1em; text-align: center; vertical-align: top\">2.19722</td>\n",
       "        <td style=\"padding-left: 1em; padding-right: 1em; text-align: center; vertical-align: top\">3.29584</td>\n",
       "        <td style=\"padding-left: 1em; padding-right: 1em; text-align: center; vertical-align: top\">3.04452</td>\n",
       "        <td style=\"padding-left: 1em; padding-right: 1em; text-align: center; vertical-align: top\">1.94591</td>\n",
       "        <td style=\"padding-left: 1em; padding-right: 1em; text-align: center; vertical-align: top\">3.17805</td>\n",
       "        <td style=\"padding-left: 1em; padding-right: 1em; text-align: center; vertical-align: top\">2.77259</td>\n",
       "    </tr>\n",
       "    <tr>\n",
       "        <td style=\"padding-left: 1em; padding-right: 1em; text-align: center; vertical-align: top\">1121</td>\n",
       "        <td style=\"padding-left: 1em; padding-right: 1em; text-align: center; vertical-align: top\">1418</td>\n",
       "        <td style=\"padding-left: 1em; padding-right: 1em; text-align: center; vertical-align: top\">169387</td>\n",
       "        <td style=\"padding-left: 1em; padding-right: 1em; text-align: center; vertical-align: top\">1240</td>\n",
       "        <td style=\"padding-left: 1em; padding-right: 1em; text-align: center; vertical-align: top\">1.38629</td>\n",
       "        <td style=\"padding-left: 1em; padding-right: 1em; text-align: center; vertical-align: top\">1.60944</td>\n",
       "        <td style=\"padding-left: 1em; padding-right: 1em; text-align: center; vertical-align: top\">2.3979</td>\n",
       "        <td style=\"padding-left: 1em; padding-right: 1em; text-align: center; vertical-align: top\">1.38629</td>\n",
       "        <td style=\"padding-left: 1em; padding-right: 1em; text-align: center; vertical-align: top\">0.0</td>\n",
       "        <td style=\"padding-left: 1em; padding-right: 1em; text-align: center; vertical-align: top\">0.0</td>\n",
       "    </tr>\n",
       "    <tr>\n",
       "        <td style=\"padding-left: 1em; padding-right: 1em; text-align: center; vertical-align: top\">4041</td>\n",
       "        <td style=\"padding-left: 1em; padding-right: 1em; text-align: center; vertical-align: top\">1256</td>\n",
       "        <td style=\"padding-left: 1em; padding-right: 1em; text-align: center; vertical-align: top\">205279</td>\n",
       "        <td style=\"padding-left: 1em; padding-right: 1em; text-align: center; vertical-align: top\">1240</td>\n",
       "        <td style=\"padding-left: 1em; padding-right: 1em; text-align: center; vertical-align: top\">1.09861</td>\n",
       "        <td style=\"padding-left: 1em; padding-right: 1em; text-align: center; vertical-align: top\">1.09861</td>\n",
       "        <td style=\"padding-left: 1em; padding-right: 1em; text-align: center; vertical-align: top\">1.09861</td>\n",
       "        <td style=\"padding-left: 1em; padding-right: 1em; text-align: center; vertical-align: top\">1.09861</td>\n",
       "        <td style=\"padding-left: 1em; padding-right: 1em; text-align: center; vertical-align: top\">1.38629</td>\n",
       "        <td style=\"padding-left: 1em; padding-right: 1em; text-align: center; vertical-align: top\">1.09861</td>\n",
       "    </tr>\n",
       "    <tr>\n",
       "        <td style=\"padding-left: 1em; padding-right: 1em; text-align: center; vertical-align: top\">3215</td>\n",
       "        <td style=\"padding-left: 1em; padding-right: 1em; text-align: center; vertical-align: top\">4435</td>\n",
       "        <td style=\"padding-left: 1em; padding-right: 1em; text-align: center; vertical-align: top\">1280994</td>\n",
       "        <td style=\"padding-left: 1em; padding-right: 1em; text-align: center; vertical-align: top\">43285</td>\n",
       "        <td style=\"padding-left: 1em; padding-right: 1em; text-align: center; vertical-align: top\">1.79176</td>\n",
       "        <td style=\"padding-left: 1em; padding-right: 1em; text-align: center; vertical-align: top\">2.3979</td>\n",
       "        <td style=\"padding-left: 1em; padding-right: 1em; text-align: center; vertical-align: top\">1.79176</td>\n",
       "        <td style=\"padding-left: 1em; padding-right: 1em; text-align: center; vertical-align: top\">2.70805</td>\n",
       "        <td style=\"padding-left: 1em; padding-right: 1em; text-align: center; vertical-align: top\">2.3979</td>\n",
       "        <td style=\"padding-left: 1em; padding-right: 1em; text-align: center; vertical-align: top\">2.83321</td>\n",
       "    </tr>\n",
       "</table>\n",
       "<table frame=\"box\" rules=\"cols\">\n",
       "    <tr>\n",
       "        <th style=\"padding-left: 1em; padding-right: 1em; text-align: center\">lag_sum</th>\n",
       "        <th style=\"padding-left: 1em; padding-right: 1em; text-align: center\">prior_sum</th>\n",
       "        <th style=\"padding-left: 1em; padding-right: 1em; text-align: center\">n_a</th>\n",
       "        <th style=\"padding-left: 1em; padding-right: 1em; text-align: center\">n_r</th>\n",
       "        <th style=\"padding-left: 1em; padding-right: 1em; text-align: center\">n_c</th>\n",
       "        <th style=\"padding-left: 1em; padding-right: 1em; text-align: center\">n_p</th>\n",
       "        <th style=\"padding-left: 1em; padding-right: 1em; text-align: center\">tcc</th>\n",
       "        <th style=\"padding-left: 1em; padding-right: 1em; text-align: center\">tp_sum</th>\n",
       "    </tr>\n",
       "    <tr>\n",
       "        <td style=\"padding-left: 1em; padding-right: 1em; text-align: center; vertical-align: top\">4.43082</td>\n",
       "        <td style=\"padding-left: 1em; padding-right: 1em; text-align: center; vertical-align: top\">4.43082</td>\n",
       "        <td style=\"padding-left: 1em; padding-right: 1em; text-align: center; vertical-align: top\">11387.0</td>\n",
       "        <td style=\"padding-left: 1em; padding-right: 1em; text-align: center; vertical-align: top\">11333.0</td>\n",
       "        <td style=\"padding-left: 1em; padding-right: 1em; text-align: center; vertical-align: top\">9.33333</td>\n",
       "        <td style=\"padding-left: 1em; padding-right: 1em; text-align: center; vertical-align: top\">142714.0</td>\n",
       "        <td style=\"padding-left: 1em; padding-right: 1em; text-align: center; vertical-align: top\">1474</td>\n",
       "        <td style=\"padding-left: 1em; padding-right: 1em; text-align: center; vertical-align: top\">7032.04</td>\n",
       "    </tr>\n",
       "    <tr>\n",
       "        <td style=\"padding-left: 1em; padding-right: 1em; text-align: center; vertical-align: top\">12.9619</td>\n",
       "        <td style=\"padding-left: 1em; padding-right: 1em; text-align: center; vertical-align: top\">12.9619</td>\n",
       "        <td style=\"padding-left: 1em; padding-right: 1em; text-align: center; vertical-align: top\">42768.0</td>\n",
       "        <td style=\"padding-left: 1em; padding-right: 1em; text-align: center; vertical-align: top\">5594.0</td>\n",
       "        <td style=\"padding-left: 1em; padding-right: 1em; text-align: center; vertical-align: top\">16.6667</td>\n",
       "        <td style=\"padding-left: 1em; padding-right: 1em; text-align: center; vertical-align: top\">90854.7</td>\n",
       "        <td style=\"padding-left: 1em; padding-right: 1em; text-align: center; vertical-align: top\">5404</td>\n",
       "        <td style=\"padding-left: 1em; padding-right: 1em; text-align: center; vertical-align: top\">27611.6</td>\n",
       "    </tr>\n",
       "    <tr>\n",
       "        <td style=\"padding-left: 1em; padding-right: 1em; text-align: center; vertical-align: top\">8.34284</td>\n",
       "        <td style=\"padding-left: 1em; padding-right: 1em; text-align: center; vertical-align: top\">10.1346</td>\n",
       "        <td style=\"padding-left: 1em; padding-right: 1em; text-align: center; vertical-align: top\">32083.0</td>\n",
       "        <td style=\"padding-left: 1em; padding-right: 1em; text-align: center; vertical-align: top\">10454.0</td>\n",
       "        <td style=\"padding-left: 1em; padding-right: 1em; text-align: center; vertical-align: top\">7.33333</td>\n",
       "        <td style=\"padding-left: 1em; padding-right: 1em; text-align: center; vertical-align: top\">142714.0</td>\n",
       "        <td style=\"padding-left: 1em; padding-right: 1em; text-align: center; vertical-align: top\">4551</td>\n",
       "        <td style=\"padding-left: 1em; padding-right: 1em; text-align: center; vertical-align: top\">28371.8</td>\n",
       "    </tr>\n",
       "    <tr>\n",
       "        <td style=\"padding-left: 1em; padding-right: 1em; text-align: center; vertical-align: top\">3.98898</td>\n",
       "        <td style=\"padding-left: 1em; padding-right: 1em; text-align: center; vertical-align: top\">3.98898</td>\n",
       "        <td style=\"padding-left: 1em; padding-right: 1em; text-align: center; vertical-align: top\">13659.3</td>\n",
       "        <td style=\"padding-left: 1em; padding-right: 1em; text-align: center; vertical-align: top\">16880.3</td>\n",
       "        <td style=\"padding-left: 1em; padding-right: 1em; text-align: center; vertical-align: top\">5.66667</td>\n",
       "        <td style=\"padding-left: 1em; padding-right: 1em; text-align: center; vertical-align: top\">111838.0</td>\n",
       "        <td style=\"padding-left: 1em; padding-right: 1em; text-align: center; vertical-align: top\">1894</td>\n",
       "        <td style=\"padding-left: 1em; padding-right: 1em; text-align: center; vertical-align: top\">7265.43</td>\n",
       "    </tr>\n",
       "    <tr>\n",
       "        <td style=\"padding-left: 1em; padding-right: 1em; text-align: center; vertical-align: top\">6.06842</td>\n",
       "        <td style=\"padding-left: 1em; padding-right: 1em; text-align: center; vertical-align: top\">7.16704</td>\n",
       "        <td style=\"padding-left: 1em; padding-right: 1em; text-align: center; vertical-align: top\">16434.0</td>\n",
       "        <td style=\"padding-left: 1em; padding-right: 1em; text-align: center; vertical-align: top\">6750.67</td>\n",
       "        <td style=\"padding-left: 1em; padding-right: 1em; text-align: center; vertical-align: top\">14.6667</td>\n",
       "        <td style=\"padding-left: 1em; padding-right: 1em; text-align: center; vertical-align: top\">43849.3</td>\n",
       "        <td style=\"padding-left: 1em; padding-right: 1em; text-align: center; vertical-align: top\">2315</td>\n",
       "        <td style=\"padding-left: 1em; padding-right: 1em; text-align: center; vertical-align: top\">3132.52</td>\n",
       "    </tr>\n",
       "    <tr>\n",
       "        <td style=\"padding-left: 1em; padding-right: 1em; text-align: center; vertical-align: top\">10.929</td>\n",
       "        <td style=\"padding-left: 1em; padding-right: 1em; text-align: center; vertical-align: top\">13.3269</td>\n",
       "        <td style=\"padding-left: 1em; padding-right: 1em; text-align: center; vertical-align: top\">24739.7</td>\n",
       "        <td style=\"padding-left: 1em; padding-right: 1em; text-align: center; vertical-align: top\">21504.0</td>\n",
       "        <td style=\"padding-left: 1em; padding-right: 1em; text-align: center; vertical-align: top\">32.3333</td>\n",
       "        <td style=\"padding-left: 1em; padding-right: 1em; text-align: center; vertical-align: top\">66206.0</td>\n",
       "        <td style=\"padding-left: 1em; padding-right: 1em; text-align: center; vertical-align: top\">3509</td>\n",
       "        <td style=\"padding-left: 1em; padding-right: 1em; text-align: center; vertical-align: top\">1317.56</td>\n",
       "    </tr>\n",
       "    <tr>\n",
       "        <td style=\"padding-left: 1em; padding-right: 1em; text-align: center; vertical-align: top\">14.2369</td>\n",
       "        <td style=\"padding-left: 1em; padding-right: 1em; text-align: center; vertical-align: top\">17.495</td>\n",
       "        <td style=\"padding-left: 1em; padding-right: 1em; text-align: center; vertical-align: top\">42768.0</td>\n",
       "        <td style=\"padding-left: 1em; padding-right: 1em; text-align: center; vertical-align: top\">2840.67</td>\n",
       "        <td style=\"padding-left: 1em; padding-right: 1em; text-align: center; vertical-align: top\">20.3333</td>\n",
       "        <td style=\"padding-left: 1em; padding-right: 1em; text-align: center; vertical-align: top\">105378.0</td>\n",
       "        <td style=\"padding-left: 1em; padding-right: 1em; text-align: center; vertical-align: top\">5404</td>\n",
       "        <td style=\"padding-left: 1em; padding-right: 1em; text-align: center; vertical-align: top\">19233.5</td>\n",
       "    </tr>\n",
       "    <tr>\n",
       "        <td style=\"padding-left: 1em; padding-right: 1em; text-align: center; vertical-align: top\">5.39363</td>\n",
       "        <td style=\"padding-left: 1em; padding-right: 1em; text-align: center; vertical-align: top\">5.39363</td>\n",
       "        <td style=\"padding-left: 1em; padding-right: 1em; text-align: center; vertical-align: top\">42768.0</td>\n",
       "        <td style=\"padding-left: 1em; padding-right: 1em; text-align: center; vertical-align: top\">6322.33</td>\n",
       "        <td style=\"padding-left: 1em; padding-right: 1em; text-align: center; vertical-align: top\">14.6667</td>\n",
       "        <td style=\"padding-left: 1em; padding-right: 1em; text-align: center; vertical-align: top\">142714.0</td>\n",
       "        <td style=\"padding-left: 1em; padding-right: 1em; text-align: center; vertical-align: top\">5404</td>\n",
       "        <td style=\"padding-left: 1em; padding-right: 1em; text-align: center; vertical-align: top\">23690.2</td>\n",
       "    </tr>\n",
       "    <tr>\n",
       "        <td style=\"padding-left: 1em; padding-right: 1em; text-align: center; vertical-align: top\">5.78073</td>\n",
       "        <td style=\"padding-left: 1em; padding-right: 1em; text-align: center; vertical-align: top\">7.16704</td>\n",
       "        <td style=\"padding-left: 1em; padding-right: 1em; text-align: center; vertical-align: top\">22477.7</td>\n",
       "        <td style=\"padding-left: 1em; padding-right: 1em; text-align: center; vertical-align: top\">16456.7</td>\n",
       "        <td style=\"padding-left: 1em; padding-right: 1em; text-align: center; vertical-align: top\">8.66667</td>\n",
       "        <td style=\"padding-left: 1em; padding-right: 1em; text-align: center; vertical-align: top\">142714.0</td>\n",
       "        <td style=\"padding-left: 1em; padding-right: 1em; text-align: center; vertical-align: top\">3356</td>\n",
       "        <td style=\"padding-left: 1em; padding-right: 1em; text-align: center; vertical-align: top\">19100.2</td>\n",
       "    </tr>\n",
       "    <tr>\n",
       "        <td style=\"padding-left: 1em; padding-right: 1em; text-align: center; vertical-align: top\">12.1288</td>\n",
       "        <td style=\"padding-left: 1em; padding-right: 1em; text-align: center; vertical-align: top\">12.1288</td>\n",
       "        <td style=\"padding-left: 1em; padding-right: 1em; text-align: center; vertical-align: top\">16032.3</td>\n",
       "        <td style=\"padding-left: 1em; padding-right: 1em; text-align: center; vertical-align: top\">1144.33</td>\n",
       "        <td style=\"padding-left: 1em; padding-right: 1em; text-align: center; vertical-align: top\">25.6667</td>\n",
       "        <td style=\"padding-left: 1em; padding-right: 1em; text-align: center; vertical-align: top\">98334.7</td>\n",
       "        <td style=\"padding-left: 1em; padding-right: 1em; text-align: center; vertical-align: top\">7784</td>\n",
       "        <td style=\"padding-left: 1em; padding-right: 1em; text-align: center; vertical-align: top\">36823.3</td>\n",
       "    </tr>\n",
       "</table>\n",
       "[10408713 rows x 18 columns]<br/>Note: Only the head of the SFrame is printed.<br/>You can use print_rows(num_rows=m, num_columns=n) to print more rows and columns.\n",
       "</div>"
      ],
      "text/plain": [
       "Columns:\n",
       "\tAgencia_ID\tint\n",
       "\tRuta_SAK\tint\n",
       "\tCliente_ID\tint\n",
       "\tProducto_ID\tint\n",
       "\tDemada_log\tfloat\n",
       "\tlag1\tfloat\n",
       "\tlag2\tfloat\n",
       "\tlag3\tfloat\n",
       "\tlag4\tfloat\n",
       "\tlag5\tfloat\n",
       "\tlag_sum\tfloat\n",
       "\tprior_sum\tfloat\n",
       "\tn_a\tfloat\n",
       "\tn_r\tfloat\n",
       "\tn_c\tfloat\n",
       "\tn_p\tfloat\n",
       "\ttcc\tint\n",
       "\ttp_sum\tfloat\n",
       "\n",
       "Rows: 10408713\n",
       "\n",
       "Data:\n",
       "+------------+----------+------------+-------------+------------+---------+\n",
       "| Agencia_ID | Ruta_SAK | Cliente_ID | Producto_ID | Demada_log |   lag1  |\n",
       "+------------+----------+------------+-------------+------------+---------+\n",
       "|    2234    |   1234   |  2308240   |     1240    |  2.19722   | 1.79176 |\n",
       "|    1121    |   1415   |  1758210   |    35651    |   2.3979   | 1.94591 |\n",
       "|    2032    |   1267   |  3554707   |     1240    |  1.38629   | 1.60944 |\n",
       "|    2220    |   1227   |  2492643   |     1109    |  1.09861   | 1.09861 |\n",
       "|    1612    |   1139   |  1965168   |     972     |  1.60944   | 1.09861 |\n",
       "|    2230    |   1002   |  2482931   |     3631    |  2.48491   |  2.3979 |\n",
       "|    1121    |   1049   |  2449109   |     1125    |  2.19722   | 3.29584 |\n",
       "|    1121    |   1418   |   169387   |     1240    |  1.38629   | 1.60944 |\n",
       "|    4041    |   1256   |   205279   |     1240    |  1.09861   | 1.09861 |\n",
       "|    3215    |   4435   |  1280994   |    43285    |  1.79176   |  2.3979 |\n",
       "+------------+----------+------------+-------------+------------+---------+\n",
       "+----------+---------+---------+---------+---------+-----------+---------+\n",
       "|   lag2   |   lag3  |   lag4  |   lag5  | lag_sum | prior_sum |   n_a   |\n",
       "+----------+---------+---------+---------+---------+-----------+---------+\n",
       "| 0.693147 | 1.94591 |   0.0   |   0.0   | 4.43082 |  4.43082  | 11387.0 |\n",
       "| 2.56495  |  3.4012 | 2.48491 | 2.56495 | 12.9619 |  12.9619  | 42768.0 |\n",
       "| 1.60944  | 1.38629 | 1.79176 | 1.94591 | 8.34284 |  10.1346  | 32083.0 |\n",
       "| 0.693147 | 1.09861 | 1.09861 |   0.0   | 3.98898 |  3.98898  | 13659.3 |\n",
       "| 0.693147 | 1.38629 | 1.09861 | 1.79176 | 6.06842 |  7.16704  | 16434.0 |\n",
       "| 2.56495  | 2.56495 | 2.30259 | 1.09861 |  10.929 |  13.3269  | 24739.7 |\n",
       "| 3.04452  | 1.94591 | 3.17805 | 2.77259 | 14.2369 |   17.495  | 42768.0 |\n",
       "|  2.3979  | 1.38629 |   0.0   |   0.0   | 5.39363 |  5.39363  | 42768.0 |\n",
       "| 1.09861  | 1.09861 | 1.38629 | 1.09861 | 5.78073 |  7.16704  | 22477.7 |\n",
       "| 1.79176  | 2.70805 |  2.3979 | 2.83321 | 12.1288 |  12.1288  | 16032.3 |\n",
       "+----------+---------+---------+---------+---------+-----------+---------+\n",
       "+---------+---------+----------+------+---------+\n",
       "|   n_r   |   n_c   |   n_p    | tcc  |  tp_sum |\n",
       "+---------+---------+----------+------+---------+\n",
       "| 11333.0 | 9.33333 | 142714.0 | 1474 | 7032.04 |\n",
       "|  5594.0 | 16.6667 | 90854.7  | 5404 | 27611.6 |\n",
       "| 10454.0 | 7.33333 | 142714.0 | 4551 | 28371.8 |\n",
       "| 16880.3 | 5.66667 | 111838.0 | 1894 | 7265.43 |\n",
       "| 6750.67 | 14.6667 | 43849.3  | 2315 | 3132.52 |\n",
       "| 21504.0 | 32.3333 | 66206.0  | 3509 | 1317.56 |\n",
       "| 2840.67 | 20.3333 | 105378.0 | 5404 | 19233.5 |\n",
       "| 6322.33 | 14.6667 | 142714.0 | 5404 | 23690.2 |\n",
       "| 16456.7 | 8.66667 | 142714.0 | 3356 | 19100.2 |\n",
       "| 1144.33 | 25.6667 | 98334.7  | 7784 | 36823.3 |\n",
       "+---------+---------+----------+------+---------+\n",
       "[10408713 rows x 18 columns]\n",
       "Note: Only the head of the SFrame is printed.\n",
       "You can use print_rows(num_rows=m, num_columns=n) to print more rows and columns."
      ]
     },
     "execution_count": 36,
     "metadata": {},
     "output_type": "execute_result"
    }
   ],
   "source": [
    "\n",
    "# del train['week_times']\n",
    "# del train['Semana']\n",
    "# del train['Canal_ID']\n",
    "train = train.fillna('lag1',0)\n",
    "train = train.fillna('lag2',0)\n",
    "train = train.fillna('lag3',0)\n",
    "train = train.fillna('lag4',0)\n",
    "train = train.fillna('lag5',0)\n",
    "train = train.fillna('lag_sum',0)\n",
    "train = train.fillna('prior_sum',0)\n",
    "train = train.fillna('n_a',0)\n",
    "train = train.fillna('n_r',0)\n",
    "train = train.fillna('n_c',0)\n",
    "train = train.fillna('n_p',0)\n",
    "train"
   ]
  },
  {
   "cell_type": "code",
   "execution_count": 5,
   "metadata": {
    "collapsed": false,
    "scrolled": true
   },
   "outputs": [
    {
     "data": {
      "text/html": [
       "<pre>WARNING: Detected extremely low variance for feature(s) 'Semana' because all entries are nearly the same.\n",
       "Proceeding with model training using all features. If the model does not provide results of adequate quality, exclude the above mentioned feature(s) from the input dataset.</pre>"
      ],
      "text/plain": [
       "WARNING: Detected extremely low variance for feature(s) 'Semana' because all entries are nearly the same.\n",
       "Proceeding with model training using all features. If the model does not provide results of adequate quality, exclude the above mentioned feature(s) from the input dataset."
      ]
     },
     "metadata": {},
     "output_type": "display_data"
    },
    {
     "data": {
      "text/html": [
       "<pre>Resuming from checkpoint at /home/zongyi/bimbo_data/model_checkpoint_1000_w9</pre>"
      ],
      "text/plain": [
       "Resuming from checkpoint at /home/zongyi/bimbo_data/model_checkpoint_1000_w9"
      ]
     },
     "metadata": {},
     "output_type": "display_data"
    },
    {
     "data": {
      "text/html": [
       "<pre>Boosted trees regression:</pre>"
      ],
      "text/plain": [
       "Boosted trees regression:"
      ]
     },
     "metadata": {},
     "output_type": "display_data"
    },
    {
     "data": {
      "text/html": [
       "<pre>--------------------------------------------------------</pre>"
      ],
      "text/plain": [
       "--------------------------------------------------------"
      ]
     },
     "metadata": {},
     "output_type": "display_data"
    },
    {
     "data": {
      "text/html": [
       "<pre>Number of examples          : 10408713</pre>"
      ],
      "text/plain": [
       "Number of examples          : 10408713"
      ]
     },
     "metadata": {},
     "output_type": "display_data"
    },
    {
     "data": {
      "text/html": [
       "<pre>Number of features          : 24</pre>"
      ],
      "text/plain": [
       "Number of features          : 24"
      ]
     },
     "metadata": {},
     "output_type": "display_data"
    },
    {
     "data": {
      "text/html": [
       "<pre>Number of unpacked features : 24</pre>"
      ],
      "text/plain": [
       "Number of unpacked features : 24"
      ]
     },
     "metadata": {},
     "output_type": "display_data"
    },
    {
     "data": {
      "text/html": [
       "<pre>Warning: ignoring provided value of column_subsample which is different from the model checkpoint</pre>"
      ],
      "text/plain": [
       "Warning: ignoring provided value of column_subsample which is different from the model checkpoint"
      ]
     },
     "metadata": {},
     "output_type": "display_data"
    },
    {
     "data": {
      "text/html": [
       "<pre>Warning: ignoring provided value of max_iterations which is different from the model checkpoint</pre>"
      ],
      "text/plain": [
       "Warning: ignoring provided value of max_iterations which is different from the model checkpoint"
      ]
     },
     "metadata": {},
     "output_type": "display_data"
    },
    {
     "data": {
      "text/html": [
       "<pre>Warning: ignoring provided value of model_checkpoint_interval which is different from the model checkpoint</pre>"
      ],
      "text/plain": [
       "Warning: ignoring provided value of model_checkpoint_interval which is different from the model checkpoint"
      ]
     },
     "metadata": {},
     "output_type": "display_data"
    },
    {
     "data": {
      "text/html": [
       "<pre>Warning: ignoring provided value of random_seed which is different from the model checkpoint</pre>"
      ],
      "text/plain": [
       "Warning: ignoring provided value of random_seed which is different from the model checkpoint"
      ]
     },
     "metadata": {},
     "output_type": "display_data"
    },
    {
     "data": {
      "text/html": [
       "<pre>Resumed training from checkpoint at iteration 1000 which is greater than or equal to max_iterations 1000</pre>"
      ],
      "text/plain": [
       "Resumed training from checkpoint at iteration 1000 which is greater than or equal to max_iterations 1000"
      ]
     },
     "metadata": {},
     "output_type": "display_data"
    }
   ],
   "source": [
    "# Make a train-test split\n",
    "train_data, test_data = train.random_split(0.99,seed=788)\n",
    "\n",
    "# Create a model.\n",
    "model = gl.boosted_trees_regression.create(train, target='Demada_log',\n",
    "                                           step_size=0.1,\n",
    "                                           max_iterations=500,\n",
    "                                           max_depth = 10,\n",
    "                                          metric='rmse',\n",
    "                                          random_seed=78,\n",
    "                                          column_subsample=0.6,\n",
    "                                          row_subsample=0.85,\n",
    "                                          validation_set=test_data,\n",
    "                                          model_checkpoint_path=path,\n",
    "                                          model_checkpoint_interval=500,\n",
    "                                          resume_from_checkpoint=path+'model_checkpoint_1000_w9')\n",
    "\n",
    "#500       | 14060.836344 | 0.435407      | 0.447519  \n"
   ]
  },
  {
   "cell_type": "code",
   "execution_count": 7,
   "metadata": {
    "collapsed": false
   },
   "outputs": [
    {
     "data": {
      "text/plain": [
       "['Agencia_ID',\n",
       " 'Canal_ID',\n",
       " 'Ruta_SAK',\n",
       " 'Cliente_ID',\n",
       " 'Producto_ID',\n",
       " 'lag1',\n",
       " 'lag2',\n",
       " 'lag3',\n",
       " 'lag4',\n",
       " 'lag5',\n",
       " 'n_a',\n",
       " 'n_r',\n",
       " 'n_c',\n",
       " 'n_p']"
      ]
     },
     "execution_count": 7,
     "metadata": {},
     "output_type": "execute_result"
    }
   ],
   "source": [
    "model.features"
   ]
  },
  {
   "cell_type": "code",
   "execution_count": 43,
   "metadata": {
    "collapsed": false
   },
   "outputs": [
    {
     "data": {
      "text/html": [
       "<div style=\"max-height:1000px;max-width:1500px;overflow:auto;\"><table frame=\"box\" rules=\"cols\">\n",
       "    <tr>\n",
       "        <th style=\"padding-left: 1em; padding-right: 1em; text-align: center\">id</th>\n",
       "        <th style=\"padding-left: 1em; padding-right: 1em; text-align: center\">name</th>\n",
       "        <th style=\"padding-left: 1em; padding-right: 1em; text-align: center\">index</th>\n",
       "        <th style=\"padding-left: 1em; padding-right: 1em; text-align: center\">count</th>\n",
       "    </tr>\n",
       "    <tr>\n",
       "        <td style=\"padding-left: 1em; padding-right: 1em; text-align: center; vertical-align: top\">0</td>\n",
       "        <td style=\"padding-left: 1em; padding-right: 1em; text-align: center; vertical-align: top\">Cliente_ID</td>\n",
       "        <td style=\"padding-left: 1em; padding-right: 1em; text-align: center; vertical-align: top\">None</td>\n",
       "        <td style=\"padding-left: 1em; padding-right: 1em; text-align: center; vertical-align: top\">37954</td>\n",
       "    </tr>\n",
       "    <tr>\n",
       "        <td style=\"padding-left: 1em; padding-right: 1em; text-align: center; vertical-align: top\">1</td>\n",
       "        <td style=\"padding-left: 1em; padding-right: 1em; text-align: center; vertical-align: top\">Ruta_SAK</td>\n",
       "        <td style=\"padding-left: 1em; padding-right: 1em; text-align: center; vertical-align: top\">None</td>\n",
       "        <td style=\"padding-left: 1em; padding-right: 1em; text-align: center; vertical-align: top\">37902</td>\n",
       "    </tr>\n",
       "    <tr>\n",
       "        <td style=\"padding-left: 1em; padding-right: 1em; text-align: center; vertical-align: top\">2</td>\n",
       "        <td style=\"padding-left: 1em; padding-right: 1em; text-align: center; vertical-align: top\">n_c</td>\n",
       "        <td style=\"padding-left: 1em; padding-right: 1em; text-align: center; vertical-align: top\">None</td>\n",
       "        <td style=\"padding-left: 1em; padding-right: 1em; text-align: center; vertical-align: top\">27015</td>\n",
       "    </tr>\n",
       "    <tr>\n",
       "        <td style=\"padding-left: 1em; padding-right: 1em; text-align: center; vertical-align: top\">3</td>\n",
       "        <td style=\"padding-left: 1em; padding-right: 1em; text-align: center; vertical-align: top\">n_r</td>\n",
       "        <td style=\"padding-left: 1em; padding-right: 1em; text-align: center; vertical-align: top\">None</td>\n",
       "        <td style=\"padding-left: 1em; padding-right: 1em; text-align: center; vertical-align: top\">26638</td>\n",
       "    </tr>\n",
       "    <tr>\n",
       "        <td style=\"padding-left: 1em; padding-right: 1em; text-align: center; vertical-align: top\">4</td>\n",
       "        <td style=\"padding-left: 1em; padding-right: 1em; text-align: center; vertical-align: top\">Producto_ID</td>\n",
       "        <td style=\"padding-left: 1em; padding-right: 1em; text-align: center; vertical-align: top\">None</td>\n",
       "        <td style=\"padding-left: 1em; padding-right: 1em; text-align: center; vertical-align: top\">25591</td>\n",
       "    </tr>\n",
       "    <tr>\n",
       "        <td style=\"padding-left: 1em; padding-right: 1em; text-align: center; vertical-align: top\">5</td>\n",
       "        <td style=\"padding-left: 1em; padding-right: 1em; text-align: center; vertical-align: top\">tp_sum</td>\n",
       "        <td style=\"padding-left: 1em; padding-right: 1em; text-align: center; vertical-align: top\">None</td>\n",
       "        <td style=\"padding-left: 1em; padding-right: 1em; text-align: center; vertical-align: top\">24838</td>\n",
       "    </tr>\n",
       "    <tr>\n",
       "        <td style=\"padding-left: 1em; padding-right: 1em; text-align: center; vertical-align: top\">6</td>\n",
       "        <td style=\"padding-left: 1em; padding-right: 1em; text-align: center; vertical-align: top\">Agencia_ID</td>\n",
       "        <td style=\"padding-left: 1em; padding-right: 1em; text-align: center; vertical-align: top\">None</td>\n",
       "        <td style=\"padding-left: 1em; padding-right: 1em; text-align: center; vertical-align: top\">24514</td>\n",
       "    </tr>\n",
       "    <tr>\n",
       "        <td style=\"padding-left: 1em; padding-right: 1em; text-align: center; vertical-align: top\">7</td>\n",
       "        <td style=\"padding-left: 1em; padding-right: 1em; text-align: center; vertical-align: top\">n_p</td>\n",
       "        <td style=\"padding-left: 1em; padding-right: 1em; text-align: center; vertical-align: top\">None</td>\n",
       "        <td style=\"padding-left: 1em; padding-right: 1em; text-align: center; vertical-align: top\">24358</td>\n",
       "    </tr>\n",
       "    <tr>\n",
       "        <td style=\"padding-left: 1em; padding-right: 1em; text-align: center; vertical-align: top\">8</td>\n",
       "        <td style=\"padding-left: 1em; padding-right: 1em; text-align: center; vertical-align: top\">prior_sum</td>\n",
       "        <td style=\"padding-left: 1em; padding-right: 1em; text-align: center; vertical-align: top\">None</td>\n",
       "        <td style=\"padding-left: 1em; padding-right: 1em; text-align: center; vertical-align: top\">22736</td>\n",
       "    </tr>\n",
       "    <tr>\n",
       "        <td style=\"padding-left: 1em; padding-right: 1em; text-align: center; vertical-align: top\">9</td>\n",
       "        <td style=\"padding-left: 1em; padding-right: 1em; text-align: center; vertical-align: top\">lag_sum</td>\n",
       "        <td style=\"padding-left: 1em; padding-right: 1em; text-align: center; vertical-align: top\">None</td>\n",
       "        <td style=\"padding-left: 1em; padding-right: 1em; text-align: center; vertical-align: top\">22532</td>\n",
       "    </tr>\n",
       "</table>\n",
       "[17 rows x 4 columns]<br/>Note: Only the head of the SFrame is printed.<br/>You can use print_rows(num_rows=m, num_columns=n) to print more rows and columns.\n",
       "</div>"
      ],
      "text/plain": [
       "Columns:\n",
       "\tid\tint\n",
       "\tname\tstr\n",
       "\tindex\tstr\n",
       "\tcount\tint\n",
       "\n",
       "Rows: 17\n",
       "\n",
       "Data:\n",
       "+----+-------------+-------+-------+\n",
       "| id |     name    | index | count |\n",
       "+----+-------------+-------+-------+\n",
       "| 0  |  Cliente_ID |  None | 37954 |\n",
       "| 1  |   Ruta_SAK  |  None | 37902 |\n",
       "| 2  |     n_c     |  None | 27015 |\n",
       "| 3  |     n_r     |  None | 26638 |\n",
       "| 4  | Producto_ID |  None | 25591 |\n",
       "| 5  |    tp_sum   |  None | 24838 |\n",
       "| 6  |  Agencia_ID |  None | 24514 |\n",
       "| 7  |     n_p     |  None | 24358 |\n",
       "| 8  |  prior_sum  |  None | 22736 |\n",
       "| 9  |   lag_sum   |  None | 22532 |\n",
       "+----+-------------+-------+-------+\n",
       "[17 rows x 4 columns]\n",
       "Note: Only the head of the SFrame is printed.\n",
       "You can use print_rows(num_rows=m, num_columns=n) to print more rows and columns."
      ]
     },
     "execution_count": 43,
     "metadata": {},
     "output_type": "execute_result"
    }
   ],
   "source": [
    "w = model.get_feature_importance()\n",
    "w = w.add_row_number()\n",
    "w"
   ]
  },
  {
   "cell_type": "code",
   "execution_count": 44,
   "metadata": {
    "collapsed": false
   },
   "outputs": [
    {
     "data": {
      "text/plain": [
       "(array([ 0,  1,  2,  3,  4,  5,  6,  7,  8,  9, 10, 11, 12, 13, 14, 15, 16]),\n",
       " <a list of 17 Text xticklabel objects>)"
      ]
     },
     "execution_count": 44,
     "metadata": {},
     "output_type": "execute_result"
    },
    {
     "data": {
      "image/png": "[encoded data removed]",
      "text/plain": [
       "<matplotlib.figure.Figure at 0x7f51f839f890>"
      ]
     },
     "metadata": {},
     "output_type": "display_data"
    }
   ],
   "source": [
    "from IPython.core.pylabtools import figsize\n",
    "import numpy as np\n",
    "from matplotlib import pyplot as plt\n",
    "import seaborn as sns\n",
    "sns.set_style('darkgrid', {'grid.color': '.8','grid.linestyle': u'--'}) \n",
    "%matplotlib inline\n",
    "\n",
    "figsize(16, 9)\n",
    "plt.bar(w['id'], w['count'], tick_label=w['name'])\n",
    "\n",
    "plt.xticks(rotation=45)\n"
   ]
  },
  {
   "cell_type": "code",
   "execution_count": 20,
   "metadata": {
    "collapsed": false
   },
   "outputs": [
    {
     "name": "stdout",
     "output_type": "stream",
     "text": [
      "{'max_error': 6.300516724586487, 'rmse': 0.4389403189567331}\n"
     ]
    }
   ],
   "source": [
    "# Save predictions to an SArray\n",
    "predictions = model.predict(train)\n",
    "\n",
    "# Evaluate the model and save the results into a dictionary\n",
    "results = model.evaluate(train)\n",
    "print results\n"
   ]
  },
  {
   "cell_type": "markdown",
   "metadata": {
    "collapsed": true
   },
   "source": [
    "## predict"
   ]
  },
  {
   "cell_type": "code",
   "execution_count": 88,
   "metadata": {
    "collapsed": true
   },
   "outputs": [],
   "source": [
    "'''Add feature to week 11'''\n",
    "def feature_w11(test, lag_sum=0, prior_sum=0):\n",
    "    test_full = test.copy()\n",
    "    ids = test['id']\n",
    "    del test['id']\n",
    "    del test['Semana']\n",
    "    demand_log = model.predict(test)\n",
    "    sub1 = gl.SFrame({'id':ids,'Demanda_uni_equil':demand_log})\n",
    "    test_full = test_full.join(sub1,on=['id'],how='left')\n",
    "    lag11 = test_full.groupby(key_columns=['Semana','Cliente_ID','Producto_ID'], operations={'lag11':agg.MEAN('Demanda_uni_equil')})\n",
    "    lag11['Semana'] = lag11['Semana'].apply(lambda x: x+1)\n",
    "    test_full = test_full.join(lag11,on=['Semana','Cliente_ID','Producto_ID'],how='left')\n",
    "    test_full = test_full.fillna('lag11',0)\n",
    "    test_full['lag1'] = test_full['lag1'] + test_full['lag11']\n",
    "    \n",
    "    if lag_sum == 1:\n",
    "        test_full['lag_sum'] = test_full['lag_sum'] + test_full['lag11']\n",
    "        \n",
    "    if prior_sum == 1:\n",
    "        lag_sum11 = test_full.groupby(key_columns=['Semana','Cliente_ID','Producto_ID'], operations={'lag_sum11':agg.SUM('Demanda_uni_equil')})\n",
    "        lag_sum11['Semana'] = lag_sum11['Semana'].apply(lambda x: x+1)\n",
    "        test_full = test_full.join(lag_sum11,on=['Semana','Cliente_ID','Producto_ID'],how='left')\n",
    "        test_full = test_full.fillna('lag_sum11',0)\n",
    "        test_full['prior_sum'] = test_full['prior_sum'] + test_full['lag_sum11']\n",
    "        del test_full['lag_sum11']\n",
    "\n",
    "    del test_full['lag11']\n",
    "    del test_full['Demanda_uni_equil']\n",
    "    del test_full['Semana']\n",
    "    return test_full"
   ]
  },
  {
   "cell_type": "code",
   "execution_count": 87,
   "metadata": {
    "collapsed": true
   },
   "outputs": [],
   "source": [
    "test = gl.SFrame.read_csv(path + 'test_lag5_w9.csv', verbose=False)\n",
    "test = test.join(town, on=['Agencia_ID','Producto_ID'], how='left')\n",
    "test = test.fillna('t_c',1)\n",
    "test = test.fillna('tcc',0)\n",
    "test = test.fillna('tp_sum',0)\n",
    "del test['Town']\n",
    "del test['t_c']\n",
    "del test['n_t']"
   ]
  },
  {
   "cell_type": "code",
   "execution_count": 89,
   "metadata": {
    "collapsed": false
   },
   "outputs": [
    {
     "name": "stdout",
     "output_type": "stream",
     "text": [
      "+---------+--------+------------+----------+------------+-------------+---------+\n",
      "|    id   | Semana | Agencia_ID | Ruta_SAK | Cliente_ID | Producto_ID |   lag1  |\n",
      "+---------+--------+------------+----------+------------+-------------+---------+\n",
      "| 4721633 |   10   |    4037    |   1153   |  2398808   |    43202    |   0.0   |\n",
      "| 6035419 |   10   |    2239    |   1157   |  1529806   |     1230    | 1.09861 |\n",
      "| 3462602 |   10   |    1366    |   1051   |  1368806   |     1146    | 1.09861 |\n",
      "|  855102 |   10   |    1911    |   1156   |   867160   |     1232    | 1.38629 |\n",
      "| 3242700 |   11   |    1952    |   5721   |  1126647   |    47612    |   0.0   |\n",
      "| 2421613 |   10   |    2653    |   2117   |   954439   |    35305    | 2.77259 |\n",
      "| 1573296 |   10   |    1427    |   1102   |  4561415   |    43197    | 1.38629 |\n",
      "| 1619375 |   10   |    1629    |   1013   |   169508   |     1146    | 2.07944 |\n",
      "| 3539201 |   11   |    1120    |   1453   |  4602755   |     1230    |   0.0   |\n",
      "| 1631781 |   10   |    1385    |   6617   |   20130    |     2025    | 2.56495 |\n",
      "+---------+--------+------------+----------+------------+-------------+---------+\n",
      "+----------+----------+----------+----------+---------+-----------+---------+\n",
      "|   lag2   |   lag3   |   lag4   |   lag5   | lag_sum | prior_sum |   n_a   |\n",
      "+----------+----------+----------+----------+---------+-----------+---------+\n",
      "|   0.0    | 1.60944  | 1.94591  | 1.38629  | 4.94164 |  4.94164  | 34667.0 |\n",
      "| 1.38629  |   0.0    |   0.0    |   0.0    | 2.48491 |  3.17805  | 15941.0 |\n",
      "| 0.693147 | 0.693147 | 1.38629  | 0.693147 | 4.56435 |   5.2575  | 10191.7 |\n",
      "|   0.0    |   0.0    | 0.693147 | 1.38629  | 3.46574 |  6.68461  | 63002.3 |\n",
      "| 3.09104  | 2.99573  | 2.07944  |   0.0    | 8.16622 |  8.16622  | 12083.3 |\n",
      "| 3.04452  | 2.56495  |   0.0    |   0.0    | 8.38206 |  8.38206  | 35352.0 |\n",
      "| 1.79176  | 1.94591  | 1.94591  | 1.94591  | 9.01578 |  10.9617  | 15958.0 |\n",
      "| 2.19722  | 1.79176  | 2.07944  | 2.19722  | 10.3451 |  14.4394  | 39959.7 |\n",
      "| 1.38629  | 1.38629  | 1.09861  | 1.38629  |  5.2575 |  6.35611  | 36688.3 |\n",
      "|   0.0    | 2.56495  | 2.48491  | 2.07944  | 9.69425 |  14.7441  | 3128.33 |\n",
      "+----------+----------+----------+----------+---------+-----------+---------+\n",
      "+---------+---------+----------+------+---------+\n",
      "|   n_r   |   n_c   |   n_p    | tcc  |  tp_sum |\n",
      "+---------+---------+----------+------+---------+\n",
      "| 14727.7 | 18.6667 | 26207.7  | 5437 | 22072.1 |\n",
      "| 12876.3 |   19.0  | 48687.7  | 2239 | 7288.35 |\n",
      "| 12811.0 | 7.66667 | 117553.0 | 1275 | 6922.05 |\n",
      "| 14546.7 |   28.0  | 107057.0 | 8302 | 18695.9 |\n",
      "| 250.667 |   3.0   |  922.0   | 1598 | 1831.61 |\n",
      "| 6104.33 | 8.66667 | 119140.0 | 4757 | 9574.76 |\n",
      "| 26384.0 |   13.0  | 23312.3  | 2526 | 10830.0 |\n",
      "| 15596.7 | 31.6667 | 117553.0 | 5960 | 15834.2 |\n",
      "|  2989.0 |   27.0  | 48687.7  | 5094 | 7680.14 |\n",
      "|  2996.0 | 6.66667 | 6303.67  | 4087 | 2287.19 |\n",
      "+---------+---------+----------+------+---------+\n",
      "[10 rows x 19 columns]\n",
      "\n"
     ]
    }
   ],
   "source": [
    "# del test['prior_sum']\n",
    "# del test['lag_sum']\n",
    "del test['week_times']\n",
    "# del test['Semana']\n",
    "del test['Canal_ID']\n",
    "test = test.fillna('lag1',0)\n",
    "test = test.fillna('lag2',0)\n",
    "test = test.fillna('lag3',0)\n",
    "test = test.fillna('lag4',0)\n",
    "test = test.fillna('lag5',0)\n",
    "test = test.fillna('lag_sum',0)\n",
    "test = test.fillna('prior_sum',0)\n",
    "test = test.fillna('n_a',0)\n",
    "test = test.fillna('n_r',0)\n",
    "test = test.fillna('n_c',0)\n",
    "test = test.fillna('n_p',0)\n",
    "print test.head()"
   ]
  },
  {
   "cell_type": "code",
   "execution_count": null,
   "metadata": {
    "collapsed": false
   },
   "outputs": [],
   "source": [
    "test_full = feature_w11(test, lag_sum=1, prior_sum=1)"
   ]
  },
  {
   "cell_type": "code",
   "execution_count": 64,
   "metadata": {
    "collapsed": false
   },
   "outputs": [],
   "source": [
    "test_full = test.copy()\n",
    "ids = test['id']\n",
    "del test['id']\n",
    "demand_log = model.predict(test)\n",
    "sub1 = gl.SFrame({'id':ids,'Demanda_uni_equil':demand_log})\n",
    "test_full = test_full.join(sub1,on=['id'],how='left')\n",
    "lag = test_full.groupby(key_columns=['Semana','Cliente_ID','Producto_ID'], operations={'lag':agg.MEAN('Demanda_uni_equil')})\n",
    "lag['Semana'] = lag['Semana'].apply(lambda x: x+1)\n",
    "test_full = test_full.join(lag,on=['Semana','Cliente_ID','Producto_ID'],how='left')\n",
    "test_full = test_full.fillna('lag',0)\n",
    "test_full['lag1'] = test_full['lag1'] + test_full['lag']\n",
    "del test_full['lag']\n",
    "del test_full['Demanda_uni_equil']"
   ]
  },
  {
   "cell_type": "code",
   "execution_count": 65,
   "metadata": {
    "collapsed": false
   },
   "outputs": [],
   "source": []
  },
  {
   "cell_type": "code",
   "execution_count": 66,
   "metadata": {
    "collapsed": false,
    "scrolled": false
   },
   "outputs": [],
   "source": [
    "ids = test_full['id']\n",
    "del test_full['id']\n",
    "del test_full['Semana']\n",
    "demand_log = model.predict(test_full)\n",
    "sub = gl.SFrame({'id':ids,'Demanda_uni_equil':demand_log})"
   ]
  },
  {
   "cell_type": "code",
   "execution_count": 69,
   "metadata": {
    "collapsed": false
   },
   "outputs": [],
   "source": [
    "import math\n",
    "sub['Demanda_uni_equil'] = sub['Demanda_uni_equil'].apply(lambda x: math.expm1(max(0, x)))"
   ]
  },
  {
   "cell_type": "code",
   "execution_count": 80,
   "metadata": {
    "collapsed": false
   },
   "outputs": [],
   "source": [
    "file_name = 'w9'+'_f'+str(model.num_features)+'_n'+str(model.max_iterations)+'_c'+str(model.column_subsample)\n",
    "sub.save(path+file_name,format='csv')"
   ]
  },
  {
   "cell_type": "code",
   "execution_count": 70,
   "metadata": {
    "collapsed": false
   },
   "outputs": [
    {
     "data": {
      "text/html": [
       "<div style=\"max-height:1000px;max-width:1500px;overflow:auto;\"><table frame=\"box\" rules=\"cols\">\n",
       "    <tr>\n",
       "        <th style=\"padding-left: 1em; padding-right: 1em; text-align: center\">Demanda_uni_equil</th>\n",
       "        <th style=\"padding-left: 1em; padding-right: 1em; text-align: center\">id</th>\n",
       "    </tr>\n",
       "    <tr>\n",
       "        <td style=\"padding-left: 1em; padding-right: 1em; text-align: center; vertical-align: top\">3.2877291637</td>\n",
       "        <td style=\"padding-left: 1em; padding-right: 1em; text-align: center; vertical-align: top\">4721633</td>\n",
       "    </tr>\n",
       "    <tr>\n",
       "        <td style=\"padding-left: 1em; padding-right: 1em; text-align: center; vertical-align: top\">2.24223753928</td>\n",
       "        <td style=\"padding-left: 1em; padding-right: 1em; text-align: center; vertical-align: top\">6035419</td>\n",
       "    </tr>\n",
       "    <tr>\n",
       "        <td style=\"padding-left: 1em; padding-right: 1em; text-align: center; vertical-align: top\">1.68033878328</td>\n",
       "        <td style=\"padding-left: 1em; padding-right: 1em; text-align: center; vertical-align: top\">3462602</td>\n",
       "    </tr>\n",
       "    <tr>\n",
       "        <td style=\"padding-left: 1em; padding-right: 1em; text-align: center; vertical-align: top\">3.8207045231</td>\n",
       "        <td style=\"padding-left: 1em; padding-right: 1em; text-align: center; vertical-align: top\">855102</td>\n",
       "    </tr>\n",
       "    <tr>\n",
       "        <td style=\"padding-left: 1em; padding-right: 1em; text-align: center; vertical-align: top\">8.93359333692</td>\n",
       "        <td style=\"padding-left: 1em; padding-right: 1em; text-align: center; vertical-align: top\">3242700</td>\n",
       "    </tr>\n",
       "    <tr>\n",
       "        <td style=\"padding-left: 1em; padding-right: 1em; text-align: center; vertical-align: top\">11.8469821368</td>\n",
       "        <td style=\"padding-left: 1em; padding-right: 1em; text-align: center; vertical-align: top\">2421613</td>\n",
       "    </tr>\n",
       "    <tr>\n",
       "        <td style=\"padding-left: 1em; padding-right: 1em; text-align: center; vertical-align: top\">3.53498757097</td>\n",
       "        <td style=\"padding-left: 1em; padding-right: 1em; text-align: center; vertical-align: top\">1573296</td>\n",
       "    </tr>\n",
       "    <tr>\n",
       "        <td style=\"padding-left: 1em; padding-right: 1em; text-align: center; vertical-align: top\">8.40957090009</td>\n",
       "        <td style=\"padding-left: 1em; padding-right: 1em; text-align: center; vertical-align: top\">1619375</td>\n",
       "    </tr>\n",
       "    <tr>\n",
       "        <td style=\"padding-left: 1em; padding-right: 1em; text-align: center; vertical-align: top\">1.75464872086</td>\n",
       "        <td style=\"padding-left: 1em; padding-right: 1em; text-align: center; vertical-align: top\">3539201</td>\n",
       "    </tr>\n",
       "    <tr>\n",
       "        <td style=\"padding-left: 1em; padding-right: 1em; text-align: center; vertical-align: top\">11.0039233874</td>\n",
       "        <td style=\"padding-left: 1em; padding-right: 1em; text-align: center; vertical-align: top\">1631781</td>\n",
       "    </tr>\n",
       "</table>\n",
       "[6999251 rows x 2 columns]<br/>Note: Only the head of the SFrame is printed.<br/>You can use print_rows(num_rows=m, num_columns=n) to print more rows and columns.\n",
       "</div>"
      ],
      "text/plain": [
       "Columns:\n",
       "\tDemanda_uni_equil\tfloat\n",
       "\tid\tint\n",
       "\n",
       "Rows: 6999251\n",
       "\n",
       "Data:\n",
       "+-------------------+---------+\n",
       "| Demanda_uni_equil |    id   |\n",
       "+-------------------+---------+\n",
       "|    3.2877291637   | 4721633 |\n",
       "|   2.24223753928   | 6035419 |\n",
       "|   1.68033878328   | 3462602 |\n",
       "|    3.8207045231   |  855102 |\n",
       "|   8.93359333692   | 3242700 |\n",
       "|   11.8469821368   | 2421613 |\n",
       "|   3.53498757097   | 1573296 |\n",
       "|   8.40957090009   | 1619375 |\n",
       "|   1.75464872086   | 3539201 |\n",
       "|   11.0039233874   | 1631781 |\n",
       "+-------------------+---------+\n",
       "[6999251 rows x 2 columns]\n",
       "Note: Only the head of the SFrame is printed.\n",
       "You can use print_rows(num_rows=m, num_columns=n) to print more rows and columns."
      ]
     },
     "execution_count": 70,
     "metadata": {},
     "output_type": "execute_result"
    }
   ],
   "source": [
    "sub"
   ]
  }
 ],
 "metadata": {
  "kernelspec": {
   "display_name": "Python 2",
   "language": "python",
   "name": "python2"
  },
  "language_info": {
   "codemirror_mode": {
    "name": "ipython",
    "version": 2
   },
   "file_extension": ".py",
   "mimetype": "text/x-python",
   "name": "python",
   "nbconvert_exporter": "python",
   "pygments_lexer": "ipython2",
   "version": "2.7.6"
  }
 },
 "nbformat": 4,
 "nbformat_minor": 0
}
