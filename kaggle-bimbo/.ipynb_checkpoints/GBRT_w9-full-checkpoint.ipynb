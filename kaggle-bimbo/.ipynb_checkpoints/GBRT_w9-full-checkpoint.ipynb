{
 "cells": [
  {
   "cell_type": "code",
   "execution_count": 1,
   "metadata": {
    "collapsed": true
   },
   "outputs": [],
   "source": [
    "import pandas as pd\n",
    "import numpy as np\n",
    "import os\n",
    "import math\n",
    "import graphlab\n",
    "import graphlab as gl\n",
    "import graphlab.aggregate as agg\n",
    "from graphlab import SArray"
   ]
  },
  {
   "cell_type": "code",
   "execution_count": 2,
   "metadata": {
    "collapsed": true
   },
   "outputs": [],
   "source": [
    "'''钢炮'''\n",
    "path = '/home/zongyi/bimbo_data/'"
   ]
  },
  {
   "cell_type": "code",
   "execution_count": 4,
   "metadata": {
    "collapsed": false
   },
   "outputs": [],
   "source": [
    "train = gl.SFrame.read_csv(path + 'train_lag5_w9.csv', verbose=False)"
   ]
  },
  {
   "cell_type": "code",
   "execution_count": 4,
   "metadata": {
    "collapsed": false
   },
   "outputs": [],
   "source": [
    "town = gl.SFrame.read_csv(path + 'towns.csv', verbose=False)\n",
    "train = train.join(town, on=['Agencia_ID','Producto_ID'], how='left')\n",
    "train = train.fillna('t_c',1)\n",
    "train = train.fillna('tcc',0)\n",
    "train = train.fillna('tp_sum',0)\n",
    "del train['Town']"
   ]
  },
  {
   "cell_type": "code",
   "execution_count": 5,
   "metadata": {
    "collapsed": false
   },
   "outputs": [],
   "source": [
    "del train['id']\n",
    "del train['Venta_uni_hoy']\n",
    "del train['Venta_hoy']\n",
    "del train['Dev_uni_proxima']\n",
    "del train['Dev_proxima']\n",
    "del train['Demanda_uni_equil']\n"
   ]
  },
  {
   "cell_type": "code",
   "execution_count": 6,
   "metadata": {
    "collapsed": true
   },
   "outputs": [],
   "source": [
    "relag_train = gl.SFrame.read_csv(path + 're_lag_train.csv', verbose=False)\n",
    "train = train.join(relag_train, on=['Cliente_ID','Producto_ID','Semana'], how='left')\n",
    "train = train.fillna('re_lag1',0)\n",
    "train = train.fillna('re_lag2',0)\n",
    "train = train.fillna('re_lag3',0)\n",
    "train = train.fillna('re_lag4',0)\n",
    "train = train.fillna('re_lag5',0)\n",
    "del relag_train\n"
   ]
  },
  {
   "cell_type": "code",
   "execution_count": 10,
   "metadata": {
    "collapsed": false
   },
   "outputs": [],
   "source": [
    "pd = gl.SFrame.read_csv(path + 'products.csv', verbose=False)\n",
    "train = train.join(pd, on=['Producto_ID'], how='left')\n",
    "train = train.fillna('prom',0)\n",
    "train = train.fillna('weight',0)\n",
    "train = train.fillna('pieces',1)\n",
    "train = train.fillna('w_per_piece',0)\n",
    "train = train.fillna('healthy',0)\n",
    "train = train.fillna('drink',0)\n",
    "del pd"
   ]
  },
  {
   "cell_type": "code",
   "execution_count": 14,
   "metadata": {
    "collapsed": false
   },
   "outputs": [
    {
     "name": "stdout",
     "output_type": "stream",
     "text": [
      "+------------+-------+\n",
      "| Cliente_ID | c_clt |\n",
      "+------------+-------+\n",
      "|     0      |   11  |\n",
      "|     1      |   14  |\n",
      "|     2      |   11  |\n",
      "|     3      |   17  |\n",
      "|     4      |   17  |\n",
      "|     4      |   17  |\n",
      "|     5      |   17  |\n",
      "|     6      |   11  |\n",
      "|     7      |   17  |\n",
      "|     8      |   18  |\n",
      "+------------+-------+\n",
      "[935362 rows x 2 columns]\n",
      "Note: Only the head of the SFrame is printed.\n",
      "You can use print_rows(num_rows=m, num_columns=n) to print more rows and columns.\n"
     ]
    }
   ],
   "source": [
    "client = gl.SFrame.read_csv(path + 'clients.csv', verbose=False)\n",
    "train = train.join(client, on=['Cliente_ID'], how='left')\n",
    "del client\n"
   ]
  },
  {
   "cell_type": "code",
   "execution_count": 15,
   "metadata": {
    "collapsed": false
   },
   "outputs": [],
   "source": [
    "# del train['prior_sum']\n",
    "# del train['lag_sum']\n",
    "# del train['week_times']\n",
    "del train['Semana']\n",
    "# train"
   ]
  },
  {
   "cell_type": "code",
   "execution_count": 16,
   "metadata": {
    "collapsed": true
   },
   "outputs": [],
   "source": [
    "train['re_sum'] = (train['re_lag1'] + train['re_lag2'] + train['re_lag3'] + train['re_lag4'] + train['re_lag5'])/5"
   ]
  },
  {
   "cell_type": "code",
   "execution_count": 17,
   "metadata": {
    "collapsed": false
   },
   "outputs": [
    {
     "name": "stdout",
     "output_type": "stream",
     "text": [
      "+------------+----------+----------+------------+-------------+------------+------+\n",
      "| Agencia_ID | Canal_ID | Ruta_SAK | Cliente_ID | Producto_ID | Demada_log | lag1 |\n",
      "+------------+----------+----------+------------+-------------+------------+------+\n",
      "|    3221    |    1     |   1620   |  1748240   |     160     |  1.09861   | 0.0  |\n",
      "|    1378    |    1     |   2003   |  1295207   |    43316    |  0.693147  | 0.0  |\n",
      "|    1116    |    1     |   4427   |   109877   |    35107    |  1.60944   | 0.0  |\n",
      "|    1471    |    1     |   1611   |  2336095   |    43038    |  1.38629   | 0.0  |\n",
      "|    2023    |    1     |   1208   |  2328381   |     1242    |  0.693147  | 0.0  |\n",
      "|    4051    |    1     |   1215   |   121243   |    34255    |  1.09861   | 0.0  |\n",
      "|    2214    |    1     |   1215   |   819679   |     1309    |  0.693147  | 0.0  |\n",
      "|    1242    |    1     |   1222   |  4345031   |     1109    |  0.693147  | 0.0  |\n",
      "|    1120    |    1     |   1616   |  4376818   |    31719    |  2.30259   | 0.0  |\n",
      "|    1423    |    1     |   1205   |  8010586   |    34914    |  0.693147  | 0.0  |\n",
      "+------------+----------+----------+------------+-------------+------------+------+\n",
      "+------+----------+---------+---------+------------+----------+-----------+\n",
      "| lag2 |   lag3   |   lag4  |   lag5  | week_times | lag_sum  | prior_sum |\n",
      "+------+----------+---------+---------+------------+----------+-----------+\n",
      "| 0.0  |   0.0    |   0.0   |   0.0   |     1      |   0.0    |    0.0    |\n",
      "| 0.0  |   0.0    |   0.0   |   0.0   |     1      |   0.0    |    0.0    |\n",
      "| 0.0  |   0.0    |   0.0   |   0.0   |     1      |   0.0    |    0.0    |\n",
      "| 0.0  |   0.0    |   0.0   |   0.0   |     1      |   0.0    |    0.0    |\n",
      "| 0.0  |   0.0    |   0.0   |   0.0   |     1      |   0.0    |    0.0    |\n",
      "| 0.0  |   0.0    |   0.0   |   0.0   |     1      |   0.0    |    0.0    |\n",
      "| 0.0  |   0.0    |   0.0   |   0.0   |     1      |   0.0    |    0.0    |\n",
      "| 0.0  |   0.0    | 1.38629 | 1.60944 |     1      | 2.99573  |  5.29832  |\n",
      "| 0.0  |   0.0    |   0.0   |   0.0   |     1      |   0.0    |    0.0    |\n",
      "| 0.0  | 0.693147 |   0.0   |   0.0   |     1      | 0.693147 |  0.693147 |\n",
      "+------+----------+---------+---------+------------+----------+-----------+\n",
      "+---------+---------+---------+----------+-----+------+-----+\n",
      "|   n_a   |   n_r   |   n_c   |   n_p    | t_c | tcc  | ... |\n",
      "+---------+---------+---------+----------+-----+------+-----+\n",
      "|  8509.5 |  5278.0 |   9.0   |   98.0   |  8  | 8144 | ... |\n",
      "| 14105.0 | 11492.3 | 11.3333 | 43675.0  |  2  | 1746 | ... |\n",
      "| 41727.3 | 1392.33 | 15.6667 | 7409.33  |  7  | 7781 | ... |\n",
      "| 28871.3 | 9066.33 | 6.66667 | 14012.3  |  3  | 4065 | ... |\n",
      "| 13211.0 | 27437.7 |   7.0   | 146794.0 |  2  | 1557 | ... |\n",
      "| 35446.7 | 24259.7 |   5.0   |  8603.0  |  4  | 4532 | ... |\n",
      "| 26553.0 | 24259.7 | 4.33333 | 85650.7  |  3  | 3780 | ... |\n",
      "|  7067.0 | 22530.3 |   6.0   | 111838.0 |  5  | 1368 | ... |\n",
      "| 36688.3 | 5629.33 | 29.6667 | 28667.0  |  4  | 5094 | ... |\n",
      "| 24501.7 | 30602.3 | 6.66667 | 1578.33  |  6  | 3848 | ... |\n",
      "+---------+---------+---------+----------+-----+------+-----+\n",
      "[10492579 rows x 37 columns]\n",
      "Note: Only the head of the SFrame is printed.\n",
      "You can use print_rows(num_rows=m, num_columns=n) to print more rows and columns.\n"
     ]
    }
   ],
   "source": [
    "print train"
   ]
  },
  {
   "cell_type": "code",
   "execution_count": 19,
   "metadata": {
    "collapsed": false,
    "scrolled": true
   },
   "outputs": [
    {
     "data": {
      "text/html": [
       "<pre>Resuming from checkpoint at /home/zongyi/bimbo_data/model_checkpoint_1200</pre>"
      ],
      "text/plain": [
       "Resuming from checkpoint at /home/zongyi/bimbo_data/model_checkpoint_1200"
      ]
     },
     "metadata": {},
     "output_type": "display_data"
    },
    {
     "data": {
      "text/html": [
       "<pre>Boosted trees regression:</pre>"
      ],
      "text/plain": [
       "Boosted trees regression:"
      ]
     },
     "metadata": {},
     "output_type": "display_data"
    },
    {
     "data": {
      "text/html": [
       "<pre>--------------------------------------------------------</pre>"
      ],
      "text/plain": [
       "--------------------------------------------------------"
      ]
     },
     "metadata": {},
     "output_type": "display_data"
    },
    {
     "data": {
      "text/html": [
       "<pre>Number of examples          : 10492579</pre>"
      ],
      "text/plain": [
       "Number of examples          : 10492579"
      ]
     },
     "metadata": {},
     "output_type": "display_data"
    },
    {
     "data": {
      "text/html": [
       "<pre>Number of features          : 36</pre>"
      ],
      "text/plain": [
       "Number of features          : 36"
      ]
     },
     "metadata": {},
     "output_type": "display_data"
    },
    {
     "data": {
      "text/html": [
       "<pre>Number of unpacked features : 36</pre>"
      ],
      "text/plain": [
       "Number of unpacked features : 36"
      ]
     },
     "metadata": {},
     "output_type": "display_data"
    },
    {
     "data": {
      "text/html": [
       "<pre>Resumed training from checkpoint at iteration 1200 which is greater than or equal to max_iterations 1200</pre>"
      ],
      "text/plain": [
       "Resumed training from checkpoint at iteration 1200 which is greater than or equal to max_iterations 1200"
      ]
     },
     "metadata": {},
     "output_type": "display_data"
    }
   ],
   "source": [
    "# Make a train-test split\n",
    "train_data, test_data = train.random_split(0.999)\n",
    "\n",
    "# Create a model.\n",
    "\n",
    "model = gl.boosted_trees_regression.create(train, target='Demada_log',\n",
    "                                           step_size=0.1,\n",
    "                                           max_iterations=1200,\n",
    "                                           max_depth = 10,\n",
    "                                          metric='rmse',\n",
    "                                          random_seed=789,\n",
    "                                          column_subsample=0.3,\n",
    "                                          row_subsample=0.85,\n",
    "                                          validation_set=test_data,\n",
    "                                          model_checkpoint_path=path,\n",
    "                                          model_checkpoint_interval=1200,\n",
    "                                          resume_from_checkpoint=path+'model_checkpoint_1200')"
   ]
  },
  {
   "cell_type": "code",
   "execution_count": 49,
   "metadata": {
    "collapsed": false,
    "scrolled": true
   },
   "outputs": [
    {
     "data": {
      "text/html": [
       "<pre>Boosted trees regression:</pre>"
      ],
      "text/plain": [
       "Boosted trees regression:"
      ]
     },
     "metadata": {},
     "output_type": "display_data"
    },
    {
     "data": {
      "text/html": [
       "<pre>--------------------------------------------------------</pre>"
      ],
      "text/plain": [
       "--------------------------------------------------------"
      ]
     },
     "metadata": {},
     "output_type": "display_data"
    },
    {
     "data": {
      "text/html": [
       "<pre>Number of examples          : 10482127</pre>"
      ],
      "text/plain": [
       "Number of examples          : 10482127"
      ]
     },
     "metadata": {},
     "output_type": "display_data"
    },
    {
     "data": {
      "text/html": [
       "<pre>Number of features          : 36</pre>"
      ],
      "text/plain": [
       "Number of features          : 36"
      ]
     },
     "metadata": {},
     "output_type": "display_data"
    },
    {
     "data": {
      "text/html": [
       "<pre>Number of unpacked features : 36</pre>"
      ],
      "text/plain": [
       "Number of unpacked features : 36"
      ]
     },
     "metadata": {},
     "output_type": "display_data"
    },
    {
     "data": {
      "text/html": [
       "<pre>+-----------+--------------+---------------+-----------------+</pre>"
      ],
      "text/plain": [
       "+-----------+--------------+---------------+-----------------+"
      ]
     },
     "metadata": {},
     "output_type": "display_data"
    },
    {
     "data": {
      "text/html": [
       "<pre>| Iteration | Elapsed Time | Training-rmse | Validation-rmse |</pre>"
      ],
      "text/plain": [
       "| Iteration | Elapsed Time | Training-rmse | Validation-rmse |"
      ]
     },
     "metadata": {},
     "output_type": "display_data"
    },
    {
     "data": {
      "text/html": [
       "<pre>+-----------+--------------+---------------+-----------------+</pre>"
      ],
      "text/plain": [
       "+-----------+--------------+---------------+-----------------+"
      ]
     },
     "metadata": {},
     "output_type": "display_data"
    },
    {
     "data": {
      "text/html": [
       "<pre>| 1         | 47.470004    | 1.264293      | 1.261316        |</pre>"
      ],
      "text/plain": [
       "| 1         | 47.470004    | 1.264293      | 1.261316        |"
      ]
     },
     "metadata": {},
     "output_type": "display_data"
    },
    {
     "data": {
      "text/html": [
       "<pre>| 2         | 95.477545    | 1.169706      | 1.167680        |</pre>"
      ],
      "text/plain": [
       "| 2         | 95.477545    | 1.169706      | 1.167680        |"
      ]
     },
     "metadata": {},
     "output_type": "display_data"
    },
    {
     "data": {
      "text/html": [
       "<pre>| 3         | 143.446649   | 1.078570      | 1.076424        |</pre>"
      ],
      "text/plain": [
       "| 3         | 143.446649   | 1.078570      | 1.076424        |"
      ]
     },
     "metadata": {},
     "output_type": "display_data"
    },
    {
     "data": {
      "text/html": [
       "<pre>| 4         | 190.093834   | 0.997881      | 0.996180        |</pre>"
      ],
      "text/plain": [
       "| 4         | 190.093834   | 0.997881      | 0.996180        |"
      ]
     },
     "metadata": {},
     "output_type": "display_data"
    },
    {
     "data": {
      "text/html": [
       "<pre>| 5         | 239.985328   | 0.924863      | 0.922625        |</pre>"
      ],
      "text/plain": [
       "| 5         | 239.985328   | 0.924863      | 0.922625        |"
      ]
     },
     "metadata": {},
     "output_type": "display_data"
    },
    {
     "data": {
      "text/html": [
       "<pre>| 6         | 286.563582   | 0.868839      | 0.867349        |</pre>"
      ],
      "text/plain": [
       "| 6         | 286.563582   | 0.868839      | 0.867349        |"
      ]
     },
     "metadata": {},
     "output_type": "display_data"
    },
    {
     "data": {
      "text/html": [
       "<pre>| 7         | 335.030050   | 0.812821      | 0.811212        |</pre>"
      ],
      "text/plain": [
       "| 7         | 335.030050   | 0.812821      | 0.811212        |"
      ]
     },
     "metadata": {},
     "output_type": "display_data"
    },
    {
     "data": {
      "text/html": [
       "<pre>| 8         | 383.742352   | 0.762782      | 0.760938        |</pre>"
      ],
      "text/plain": [
       "| 8         | 383.742352   | 0.762782      | 0.760938        |"
      ]
     },
     "metadata": {},
     "output_type": "display_data"
    },
    {
     "data": {
      "text/html": [
       "<pre>| 9         | 433.790097   | 0.719211      | 0.717103        |</pre>"
      ],
      "text/plain": [
       "| 9         | 433.790097   | 0.719211      | 0.717103        |"
      ]
     },
     "metadata": {},
     "output_type": "display_data"
    },
    {
     "data": {
      "text/html": [
       "<pre>| 10        | 482.177611   | 0.681480      | 0.679461        |</pre>"
      ],
      "text/plain": [
       "| 10        | 482.177611   | 0.681480      | 0.679461        |"
      ]
     },
     "metadata": {},
     "output_type": "display_data"
    },
    {
     "data": {
      "text/html": [
       "<pre>| 11        | 530.861494   | 0.650068      | 0.648001        |</pre>"
      ],
      "text/plain": [
       "| 11        | 530.861494   | 0.650068      | 0.648001        |"
      ]
     },
     "metadata": {},
     "output_type": "display_data"
    },
    {
     "data": {
      "text/html": [
       "<pre>| 12        | 579.915355   | 0.621856      | 0.619677        |</pre>"
      ],
      "text/plain": [
       "| 12        | 579.915355   | 0.621856      | 0.619677        |"
      ]
     },
     "metadata": {},
     "output_type": "display_data"
    },
    {
     "data": {
      "text/html": [
       "<pre>| 13        | 628.844955   | 0.598598      | 0.596261        |</pre>"
      ],
      "text/plain": [
       "| 13        | 628.844955   | 0.598598      | 0.596261        |"
      ]
     },
     "metadata": {},
     "output_type": "display_data"
    },
    {
     "data": {
      "text/html": [
       "<pre>| 14        | 676.459611   | 0.579155      | 0.577262        |</pre>"
      ],
      "text/plain": [
       "| 14        | 676.459611   | 0.579155      | 0.577262        |"
      ]
     },
     "metadata": {},
     "output_type": "display_data"
    },
    {
     "data": {
      "text/html": [
       "<pre>| 15        | 725.721512   | 0.561493      | 0.559538        |</pre>"
      ],
      "text/plain": [
       "| 15        | 725.721512   | 0.561493      | 0.559538        |"
      ]
     },
     "metadata": {},
     "output_type": "display_data"
    },
    {
     "data": {
      "text/html": [
       "<pre>| 16        | 778.635972   | 0.546689      | 0.544798        |</pre>"
      ],
      "text/plain": [
       "| 16        | 778.635972   | 0.546689      | 0.544798        |"
      ]
     },
     "metadata": {},
     "output_type": "display_data"
    },
    {
     "data": {
      "text/html": [
       "<pre>| 17        | 828.032593   | 0.534857      | 0.533012        |</pre>"
      ],
      "text/plain": [
       "| 17        | 828.032593   | 0.534857      | 0.533012        |"
      ]
     },
     "metadata": {},
     "output_type": "display_data"
    },
    {
     "data": {
      "text/html": [
       "<pre>| 18        | 876.655670   | 0.523681      | 0.521832        |</pre>"
      ],
      "text/plain": [
       "| 18        | 876.655670   | 0.523681      | 0.521832        |"
      ]
     },
     "metadata": {},
     "output_type": "display_data"
    },
    {
     "data": {
      "text/html": [
       "<pre>| 19        | 926.639887   | 0.514582      | 0.512762        |</pre>"
      ],
      "text/plain": [
       "| 19        | 926.639887   | 0.514582      | 0.512762        |"
      ]
     },
     "metadata": {},
     "output_type": "display_data"
    },
    {
     "data": {
      "text/html": [
       "<pre>| 20        | 975.949572   | 0.507046      | 0.505198        |</pre>"
      ],
      "text/plain": [
       "| 20        | 975.949572   | 0.507046      | 0.505198        |"
      ]
     },
     "metadata": {},
     "output_type": "display_data"
    },
    {
     "data": {
      "text/html": [
       "<pre>| 21        | 1027.122057  | 0.500331      | 0.498641        |</pre>"
      ],
      "text/plain": [
       "| 21        | 1027.122057  | 0.500331      | 0.498641        |"
      ]
     },
     "metadata": {},
     "output_type": "display_data"
    },
    {
     "data": {
      "text/html": [
       "<pre>| 22        | 1077.101794  | 0.495326      | 0.493798        |</pre>"
      ],
      "text/plain": [
       "| 22        | 1077.101794  | 0.495326      | 0.493798        |"
      ]
     },
     "metadata": {},
     "output_type": "display_data"
    },
    {
     "data": {
      "text/html": [
       "<pre>| 23        | 1127.997580  | 0.490421      | 0.488887        |</pre>"
      ],
      "text/plain": [
       "| 23        | 1127.997580  | 0.490421      | 0.488887        |"
      ]
     },
     "metadata": {},
     "output_type": "display_data"
    },
    {
     "data": {
      "text/html": [
       "<pre>| 24        | 1179.863129  | 0.486112      | 0.484713        |</pre>"
      ],
      "text/plain": [
       "| 24        | 1179.863129  | 0.486112      | 0.484713        |"
      ]
     },
     "metadata": {},
     "output_type": "display_data"
    },
    {
     "data": {
      "text/html": [
       "<pre>| 25        | 1228.157764  | 0.482751      | 0.481432        |</pre>"
      ],
      "text/plain": [
       "| 25        | 1228.157764  | 0.482751      | 0.481432        |"
      ]
     },
     "metadata": {},
     "output_type": "display_data"
    },
    {
     "data": {
      "text/html": [
       "<pre>| 26        | 1279.640746  | 0.479227      | 0.477746        |</pre>"
      ],
      "text/plain": [
       "| 26        | 1279.640746  | 0.479227      | 0.477746        |"
      ]
     },
     "metadata": {},
     "output_type": "display_data"
    },
    {
     "data": {
      "text/html": [
       "<pre>| 27        | 1331.974901  | 0.475645      | 0.474073        |</pre>"
      ],
      "text/plain": [
       "| 27        | 1331.974901  | 0.475645      | 0.474073        |"
      ]
     },
     "metadata": {},
     "output_type": "display_data"
    },
    {
     "data": {
      "text/html": [
       "<pre>| 28        | 1381.216598  | 0.473537      | 0.471912        |</pre>"
      ],
      "text/plain": [
       "| 28        | 1381.216598  | 0.473537      | 0.471912        |"
      ]
     },
     "metadata": {},
     "output_type": "display_data"
    },
    {
     "data": {
      "text/html": [
       "<pre>| 29        | 1434.820841  | 0.471503      | 0.469920        |</pre>"
      ],
      "text/plain": [
       "| 29        | 1434.820841  | 0.471503      | 0.469920        |"
      ]
     },
     "metadata": {},
     "output_type": "display_data"
    },
    {
     "data": {
      "text/html": [
       "<pre>| 30        | 1487.421441  | 0.469952      | 0.468517        |</pre>"
      ],
      "text/plain": [
       "| 30        | 1487.421441  | 0.469952      | 0.468517        |"
      ]
     },
     "metadata": {},
     "output_type": "display_data"
    },
    {
     "data": {
      "text/html": [
       "<pre>| 31        | 1541.921858  | 0.468085      | 0.466754        |</pre>"
      ],
      "text/plain": [
       "| 31        | 1541.921858  | 0.468085      | 0.466754        |"
      ]
     },
     "metadata": {},
     "output_type": "display_data"
    },
    {
     "data": {
      "text/html": [
       "<pre>| 32        | 1594.385968  | 0.466731      | 0.465346        |</pre>"
      ],
      "text/plain": [
       "| 32        | 1594.385968  | 0.466731      | 0.465346        |"
      ]
     },
     "metadata": {},
     "output_type": "display_data"
    },
    {
     "data": {
      "text/html": [
       "<pre>| 33        | 1646.708604  | 0.465742      | 0.464413        |</pre>"
      ],
      "text/plain": [
       "| 33        | 1646.708604  | 0.465742      | 0.464413        |"
      ]
     },
     "metadata": {},
     "output_type": "display_data"
    },
    {
     "data": {
      "text/html": [
       "<pre>| 34        | 1700.472387  | 0.464366      | 0.463106        |</pre>"
      ],
      "text/plain": [
       "| 34        | 1700.472387  | 0.464366      | 0.463106        |"
      ]
     },
     "metadata": {},
     "output_type": "display_data"
    },
    {
     "data": {
      "text/html": [
       "<pre>| 35        | 1756.110455  | 0.463356      | 0.462174        |</pre>"
      ],
      "text/plain": [
       "| 35        | 1756.110455  | 0.463356      | 0.462174        |"
      ]
     },
     "metadata": {},
     "output_type": "display_data"
    },
    {
     "data": {
      "text/html": [
       "<pre>| 36        | 1806.995427  | 0.462461      | 0.461281        |</pre>"
      ],
      "text/plain": [
       "| 36        | 1806.995427  | 0.462461      | 0.461281        |"
      ]
     },
     "metadata": {},
     "output_type": "display_data"
    },
    {
     "data": {
      "text/html": [
       "<pre>| 37        | 1858.449586  | 0.461935      | 0.460793        |</pre>"
      ],
      "text/plain": [
       "| 37        | 1858.449586  | 0.461935      | 0.460793        |"
      ]
     },
     "metadata": {},
     "output_type": "display_data"
    },
    {
     "data": {
      "text/html": [
       "<pre>| 38        | 1909.415422  | 0.460857      | 0.459688        |</pre>"
      ],
      "text/plain": [
       "| 38        | 1909.415422  | 0.460857      | 0.459688        |"
      ]
     },
     "metadata": {},
     "output_type": "display_data"
    },
    {
     "data": {
      "text/html": [
       "<pre>| 39        | 1964.015013  | 0.459995      | 0.458744        |</pre>"
      ],
      "text/plain": [
       "| 39        | 1964.015013  | 0.459995      | 0.458744        |"
      ]
     },
     "metadata": {},
     "output_type": "display_data"
    },
    {
     "data": {
      "text/html": [
       "<pre>| 40        | 2018.130909  | 0.459109      | 0.457868        |</pre>"
      ],
      "text/plain": [
       "| 40        | 2018.130909  | 0.459109      | 0.457868        |"
      ]
     },
     "metadata": {},
     "output_type": "display_data"
    },
    {
     "data": {
      "text/html": [
       "<pre>| 41        | 2073.626968  | 0.458584      | 0.457302        |</pre>"
      ],
      "text/plain": [
       "| 41        | 2073.626968  | 0.458584      | 0.457302        |"
      ]
     },
     "metadata": {},
     "output_type": "display_data"
    },
    {
     "data": {
      "text/html": [
       "<pre>| 42        | 2129.203473  | 0.457860      | 0.456585        |</pre>"
      ],
      "text/plain": [
       "| 42        | 2129.203473  | 0.457860      | 0.456585        |"
      ]
     },
     "metadata": {},
     "output_type": "display_data"
    },
    {
     "data": {
      "text/html": [
       "<pre>| 43        | 2180.379738  | 0.457367      | 0.456211        |</pre>"
      ],
      "text/plain": [
       "| 43        | 2180.379738  | 0.457367      | 0.456211        |"
      ]
     },
     "metadata": {},
     "output_type": "display_data"
    },
    {
     "data": {
      "text/html": [
       "<pre>| 44        | 2230.520913  | 0.456968      | 0.455824        |</pre>"
      ],
      "text/plain": [
       "| 44        | 2230.520913  | 0.456968      | 0.455824        |"
      ]
     },
     "metadata": {},
     "output_type": "display_data"
    },
    {
     "data": {
      "text/html": [
       "<pre>| 45        | 2282.354163  | 0.456473      | 0.455327        |</pre>"
      ],
      "text/plain": [
       "| 45        | 2282.354163  | 0.456473      | 0.455327        |"
      ]
     },
     "metadata": {},
     "output_type": "display_data"
    },
    {
     "data": {
      "text/html": [
       "<pre>| 46        | 2335.068133  | 0.456035      | 0.454987        |</pre>"
      ],
      "text/plain": [
       "| 46        | 2335.068133  | 0.456035      | 0.454987        |"
      ]
     },
     "metadata": {},
     "output_type": "display_data"
    },
    {
     "data": {
      "text/html": [
       "<pre>| 47        | 2384.465020  | 0.455775      | 0.454784        |</pre>"
      ],
      "text/plain": [
       "| 47        | 2384.465020  | 0.455775      | 0.454784        |"
      ]
     },
     "metadata": {},
     "output_type": "display_data"
    },
    {
     "data": {
      "text/html": [
       "<pre>| 48        | 2440.908791  | 0.455379      | 0.454426        |</pre>"
      ],
      "text/plain": [
       "| 48        | 2440.908791  | 0.455379      | 0.454426        |"
      ]
     },
     "metadata": {},
     "output_type": "display_data"
    },
    {
     "data": {
      "text/html": [
       "<pre>| 49        | 2494.442825  | 0.454936      | 0.454167        |</pre>"
      ],
      "text/plain": [
       "| 49        | 2494.442825  | 0.454936      | 0.454167        |"
      ]
     },
     "metadata": {},
     "output_type": "display_data"
    },
    {
     "data": {
      "text/html": [
       "<pre>| 50        | 2546.931382  | 0.454573      | 0.453849        |</pre>"
      ],
      "text/plain": [
       "| 50        | 2546.931382  | 0.454573      | 0.453849        |"
      ]
     },
     "metadata": {},
     "output_type": "display_data"
    },
    {
     "data": {
      "text/html": [
       "<pre>| 51        | 2598.160266  | 0.454282      | 0.453619        |</pre>"
      ],
      "text/plain": [
       "| 51        | 2598.160266  | 0.454282      | 0.453619        |"
      ]
     },
     "metadata": {},
     "output_type": "display_data"
    },
    {
     "data": {
      "text/html": [
       "<pre>| 52        | 2650.557003  | 0.454009      | 0.453340        |</pre>"
      ],
      "text/plain": [
       "| 52        | 2650.557003  | 0.454009      | 0.453340        |"
      ]
     },
     "metadata": {},
     "output_type": "display_data"
    },
    {
     "data": {
      "text/html": [
       "<pre>| 53        | 2702.826525  | 0.453656      | 0.453030        |</pre>"
      ],
      "text/plain": [
       "| 53        | 2702.826525  | 0.453656      | 0.453030        |"
      ]
     },
     "metadata": {},
     "output_type": "display_data"
    },
    {
     "data": {
      "text/html": [
       "<pre>| 54        | 2754.369876  | 0.453416      | 0.452800        |</pre>"
      ],
      "text/plain": [
       "| 54        | 2754.369876  | 0.453416      | 0.452800        |"
      ]
     },
     "metadata": {},
     "output_type": "display_data"
    },
    {
     "data": {
      "text/html": [
       "<pre>| 55        | 2806.428467  | 0.453137      | 0.452617        |</pre>"
      ],
      "text/plain": [
       "| 55        | 2806.428467  | 0.453137      | 0.452617        |"
      ]
     },
     "metadata": {},
     "output_type": "display_data"
    },
    {
     "data": {
      "text/html": [
       "<pre>| 56        | 2857.239056  | 0.452883      | 0.452413        |</pre>"
      ],
      "text/plain": [
       "| 56        | 2857.239056  | 0.452883      | 0.452413        |"
      ]
     },
     "metadata": {},
     "output_type": "display_data"
    },
    {
     "data": {
      "text/html": [
       "<pre>| 57        | 2911.832429  | 0.452560      | 0.452104        |</pre>"
      ],
      "text/plain": [
       "| 57        | 2911.832429  | 0.452560      | 0.452104        |"
      ]
     },
     "metadata": {},
     "output_type": "display_data"
    },
    {
     "data": {
      "text/html": [
       "<pre>| 58        | 2963.824588  | 0.452352      | 0.451963        |</pre>"
      ],
      "text/plain": [
       "| 58        | 2963.824588  | 0.452352      | 0.451963        |"
      ]
     },
     "metadata": {},
     "output_type": "display_data"
    },
    {
     "data": {
      "text/html": [
       "<pre>| 59        | 3018.791607  | 0.452065      | 0.451729        |</pre>"
      ],
      "text/plain": [
       "| 59        | 3018.791607  | 0.452065      | 0.451729        |"
      ]
     },
     "metadata": {},
     "output_type": "display_data"
    },
    {
     "data": {
      "text/html": [
       "<pre>| 60        | 3070.377282  | 0.451827      | 0.451580        |</pre>"
      ],
      "text/plain": [
       "| 60        | 3070.377282  | 0.451827      | 0.451580        |"
      ]
     },
     "metadata": {},
     "output_type": "display_data"
    },
    {
     "data": {
      "text/html": [
       "<pre>| 61        | 3151.075022  | 0.451617      | 0.451410        |</pre>"
      ],
      "text/plain": [
       "| 61        | 3151.075022  | 0.451617      | 0.451410        |"
      ]
     },
     "metadata": {},
     "output_type": "display_data"
    },
    {
     "data": {
      "text/html": [
       "<pre>| 62        | 3207.866372  | 0.451367      | 0.451234        |</pre>"
      ],
      "text/plain": [
       "| 62        | 3207.866372  | 0.451367      | 0.451234        |"
      ]
     },
     "metadata": {},
     "output_type": "display_data"
    },
    {
     "data": {
      "text/html": [
       "<pre>| 63        | 3259.344816  | 0.451207      | 0.451145        |</pre>"
      ],
      "text/plain": [
       "| 63        | 3259.344816  | 0.451207      | 0.451145        |"
      ]
     },
     "metadata": {},
     "output_type": "display_data"
    },
    {
     "data": {
      "text/html": [
       "<pre>| 64        | 3313.232209  | 0.450992      | 0.451014        |</pre>"
      ],
      "text/plain": [
       "| 64        | 3313.232209  | 0.450992      | 0.451014        |"
      ]
     },
     "metadata": {},
     "output_type": "display_data"
    },
    {
     "data": {
      "text/html": [
       "<pre>| 65        | 3368.208927  | 0.450745      | 0.450779        |</pre>"
      ],
      "text/plain": [
       "| 65        | 3368.208927  | 0.450745      | 0.450779        |"
      ]
     },
     "metadata": {},
     "output_type": "display_data"
    },
    {
     "data": {
      "text/html": [
       "<pre>| 66        | 3424.652861  | 0.450496      | 0.450521        |</pre>"
      ],
      "text/plain": [
       "| 66        | 3424.652861  | 0.450496      | 0.450521        |"
      ]
     },
     "metadata": {},
     "output_type": "display_data"
    },
    {
     "data": {
      "text/html": [
       "<pre>| 67        | 3478.922436  | 0.450207      | 0.450269        |</pre>"
      ],
      "text/plain": [
       "| 67        | 3478.922436  | 0.450207      | 0.450269        |"
      ]
     },
     "metadata": {},
     "output_type": "display_data"
    },
    {
     "data": {
      "text/html": [
       "<pre>| 68        | 3533.668294  | 0.450058      | 0.450107        |</pre>"
      ],
      "text/plain": [
       "| 68        | 3533.668294  | 0.450058      | 0.450107        |"
      ]
     },
     "metadata": {},
     "output_type": "display_data"
    },
    {
     "data": {
      "text/html": [
       "<pre>| 69        | 3588.510245  | 0.449858      | 0.449911        |</pre>"
      ],
      "text/plain": [
       "| 69        | 3588.510245  | 0.449858      | 0.449911        |"
      ]
     },
     "metadata": {},
     "output_type": "display_data"
    },
    {
     "data": {
      "text/html": [
       "<pre>| 70        | 3641.846045  | 0.449714      | 0.449751        |</pre>"
      ],
      "text/plain": [
       "| 70        | 3641.846045  | 0.449714      | 0.449751        |"
      ]
     },
     "metadata": {},
     "output_type": "display_data"
    },
    {
     "data": {
      "text/html": [
       "<pre>| 71        | 3696.894260  | 0.449513      | 0.449570        |</pre>"
      ],
      "text/plain": [
       "| 71        | 3696.894260  | 0.449513      | 0.449570        |"
      ]
     },
     "metadata": {},
     "output_type": "display_data"
    },
    {
     "data": {
      "text/html": [
       "<pre>| 72        | 3747.201240  | 0.449337      | 0.449393        |</pre>"
      ],
      "text/plain": [
       "| 72        | 3747.201240  | 0.449337      | 0.449393        |"
      ]
     },
     "metadata": {},
     "output_type": "display_data"
    },
    {
     "data": {
      "text/html": [
       "<pre>| 73        | 3798.594768  | 0.449208      | 0.449270        |</pre>"
      ],
      "text/plain": [
       "| 73        | 3798.594768  | 0.449208      | 0.449270        |"
      ]
     },
     "metadata": {},
     "output_type": "display_data"
    },
    {
     "data": {
      "text/html": [
       "<pre>| 74        | 3852.314952  | 0.449027      | 0.449095        |</pre>"
      ],
      "text/plain": [
       "| 74        | 3852.314952  | 0.449027      | 0.449095        |"
      ]
     },
     "metadata": {},
     "output_type": "display_data"
    },
    {
     "data": {
      "text/html": [
       "<pre>| 75        | 3907.178327  | 0.448818      | 0.448970        |</pre>"
      ],
      "text/plain": [
       "| 75        | 3907.178327  | 0.448818      | 0.448970        |"
      ]
     },
     "metadata": {},
     "output_type": "display_data"
    },
    {
     "data": {
      "text/html": [
       "<pre>| 76        | 3963.897261  | 0.448593      | 0.448783        |</pre>"
      ],
      "text/plain": [
       "| 76        | 3963.897261  | 0.448593      | 0.448783        |"
      ]
     },
     "metadata": {},
     "output_type": "display_data"
    },
    {
     "data": {
      "text/html": [
       "<pre>| 77        | 4015.045107  | 0.448492      | 0.448741        |</pre>"
      ],
      "text/plain": [
       "| 77        | 4015.045107  | 0.448492      | 0.448741        |"
      ]
     },
     "metadata": {},
     "output_type": "display_data"
    },
    {
     "data": {
      "text/html": [
       "<pre>| 78        | 4067.102330  | 0.448266      | 0.448524        |</pre>"
      ],
      "text/plain": [
       "| 78        | 4067.102330  | 0.448266      | 0.448524        |"
      ]
     },
     "metadata": {},
     "output_type": "display_data"
    },
    {
     "data": {
      "text/html": [
       "<pre>| 79        | 4122.633709  | 0.448091      | 0.448387        |</pre>"
      ],
      "text/plain": [
       "| 79        | 4122.633709  | 0.448091      | 0.448387        |"
      ]
     },
     "metadata": {},
     "output_type": "display_data"
    },
    {
     "data": {
      "text/html": [
       "<pre>| 80        | 4171.612188  | 0.447918      | 0.448243        |</pre>"
      ],
      "text/plain": [
       "| 80        | 4171.612188  | 0.447918      | 0.448243        |"
      ]
     },
     "metadata": {},
     "output_type": "display_data"
    },
    {
     "data": {
      "text/html": [
       "<pre>| 81        | 4227.214335  | 0.447755      | 0.448101        |</pre>"
      ],
      "text/plain": [
       "| 81        | 4227.214335  | 0.447755      | 0.448101        |"
      ]
     },
     "metadata": {},
     "output_type": "display_data"
    },
    {
     "data": {
      "text/html": [
       "<pre>| 82        | 4282.830311  | 0.447567      | 0.447908        |</pre>"
      ],
      "text/plain": [
       "| 82        | 4282.830311  | 0.447567      | 0.447908        |"
      ]
     },
     "metadata": {},
     "output_type": "display_data"
    },
    {
     "data": {
      "text/html": [
       "<pre>| 83        | 4338.608706  | 0.447444      | 0.447857        |</pre>"
      ],
      "text/plain": [
       "| 83        | 4338.608706  | 0.447444      | 0.447857        |"
      ]
     },
     "metadata": {},
     "output_type": "display_data"
    },
    {
     "data": {
      "text/html": [
       "<pre>| 84        | 4390.800580  | 0.447316      | 0.447761        |</pre>"
      ],
      "text/plain": [
       "| 84        | 4390.800580  | 0.447316      | 0.447761        |"
      ]
     },
     "metadata": {},
     "output_type": "display_data"
    },
    {
     "data": {
      "text/html": [
       "<pre>| 85        | 4444.839786  | 0.447160      | 0.447585        |</pre>"
      ],
      "text/plain": [
       "| 85        | 4444.839786  | 0.447160      | 0.447585        |"
      ]
     },
     "metadata": {},
     "output_type": "display_data"
    },
    {
     "data": {
      "text/html": [
       "<pre>| 86        | 4499.115488  | 0.446982      | 0.447414        |</pre>"
      ],
      "text/plain": [
       "| 86        | 4499.115488  | 0.446982      | 0.447414        |"
      ]
     },
     "metadata": {},
     "output_type": "display_data"
    },
    {
     "data": {
      "text/html": [
       "<pre>| 87        | 4554.347419  | 0.446862      | 0.447295        |</pre>"
      ],
      "text/plain": [
       "| 87        | 4554.347419  | 0.446862      | 0.447295        |"
      ]
     },
     "metadata": {},
     "output_type": "display_data"
    },
    {
     "data": {
      "text/html": [
       "<pre>| 88        | 4605.527014  | 0.446797      | 0.447270        |</pre>"
      ],
      "text/plain": [
       "| 88        | 4605.527014  | 0.446797      | 0.447270        |"
      ]
     },
     "metadata": {},
     "output_type": "display_data"
    },
    {
     "data": {
      "text/html": [
       "<pre>| 89        | 4657.806361  | 0.446654      | 0.447152        |</pre>"
      ],
      "text/plain": [
       "| 89        | 4657.806361  | 0.446654      | 0.447152        |"
      ]
     },
     "metadata": {},
     "output_type": "display_data"
    },
    {
     "data": {
      "text/html": [
       "<pre>| 90        | 4711.571567  | 0.446492      | 0.447028        |</pre>"
      ],
      "text/plain": [
       "| 90        | 4711.571567  | 0.446492      | 0.447028        |"
      ]
     },
     "metadata": {},
     "output_type": "display_data"
    },
    {
     "data": {
      "text/html": [
       "<pre>| 91        | 4763.084418  | 0.446395      | 0.446981        |</pre>"
      ],
      "text/plain": [
       "| 91        | 4763.084418  | 0.446395      | 0.446981        |"
      ]
     },
     "metadata": {},
     "output_type": "display_data"
    },
    {
     "data": {
      "text/html": [
       "<pre>| 92        | 4814.851060  | 0.446307      | 0.446884        |</pre>"
      ],
      "text/plain": [
       "| 92        | 4814.851060  | 0.446307      | 0.446884        |"
      ]
     },
     "metadata": {},
     "output_type": "display_data"
    },
    {
     "data": {
      "text/html": [
       "<pre>| 93        | 4868.362945  | 0.446193      | 0.446781        |</pre>"
      ],
      "text/plain": [
       "| 93        | 4868.362945  | 0.446193      | 0.446781        |"
      ]
     },
     "metadata": {},
     "output_type": "display_data"
    },
    {
     "data": {
      "text/html": [
       "<pre>| 94        | 4922.931399  | 0.446049      | 0.446665        |</pre>"
      ],
      "text/plain": [
       "| 94        | 4922.931399  | 0.446049      | 0.446665        |"
      ]
     },
     "metadata": {},
     "output_type": "display_data"
    },
    {
     "data": {
      "text/html": [
       "<pre>| 95        | 4977.571344  | 0.445908      | 0.446561        |</pre>"
      ],
      "text/plain": [
       "| 95        | 4977.571344  | 0.445908      | 0.446561        |"
      ]
     },
     "metadata": {},
     "output_type": "display_data"
    },
    {
     "data": {
      "text/html": [
       "<pre>| 96        | 5031.210784  | 0.445821      | 0.446509        |</pre>"
      ],
      "text/plain": [
       "| 96        | 5031.210784  | 0.445821      | 0.446509        |"
      ]
     },
     "metadata": {},
     "output_type": "display_data"
    },
    {
     "data": {
      "text/html": [
       "<pre>| 97        | 5085.727052  | 0.445680      | 0.446358        |</pre>"
      ],
      "text/plain": [
       "| 97        | 5085.727052  | 0.445680      | 0.446358        |"
      ]
     },
     "metadata": {},
     "output_type": "display_data"
    },
    {
     "data": {
      "text/html": [
       "<pre>| 98        | 5139.659478  | 0.445590      | 0.446315        |</pre>"
      ],
      "text/plain": [
       "| 98        | 5139.659478  | 0.445590      | 0.446315        |"
      ]
     },
     "metadata": {},
     "output_type": "display_data"
    },
    {
     "data": {
      "text/html": [
       "<pre>| 99        | 5195.239597  | 0.445478      | 0.446265        |</pre>"
      ],
      "text/plain": [
       "| 99        | 5195.239597  | 0.445478      | 0.446265        |"
      ]
     },
     "metadata": {},
     "output_type": "display_data"
    },
    {
     "data": {
      "text/html": [
       "<pre>| 100       | 5247.025152  | 0.445322      | 0.446126        |</pre>"
      ],
      "text/plain": [
       "| 100       | 5247.025152  | 0.445322      | 0.446126        |"
      ]
     },
     "metadata": {},
     "output_type": "display_data"
    },
    {
     "data": {
      "text/html": [
       "<pre>| 101       | 5301.780642  | 0.445215      | 0.446033        |</pre>"
      ],
      "text/plain": [
       "| 101       | 5301.780642  | 0.445215      | 0.446033        |"
      ]
     },
     "metadata": {},
     "output_type": "display_data"
    },
    {
     "data": {
      "text/html": [
       "<pre>| 102       | 5354.309864  | 0.445088      | 0.445926        |</pre>"
      ],
      "text/plain": [
       "| 102       | 5354.309864  | 0.445088      | 0.445926        |"
      ]
     },
     "metadata": {},
     "output_type": "display_data"
    },
    {
     "data": {
      "text/html": [
       "<pre>| 103       | 5407.506389  | 0.444918      | 0.445807        |</pre>"
      ],
      "text/plain": [
       "| 103       | 5407.506389  | 0.444918      | 0.445807        |"
      ]
     },
     "metadata": {},
     "output_type": "display_data"
    },
    {
     "data": {
      "text/html": [
       "<pre>| 104       | 5462.375980  | 0.444839      | 0.445752        |</pre>"
      ],
      "text/plain": [
       "| 104       | 5462.375980  | 0.444839      | 0.445752        |"
      ]
     },
     "metadata": {},
     "output_type": "display_data"
    },
    {
     "data": {
      "text/html": [
       "<pre>| 105       | 5512.818524  | 0.444742      | 0.445721        |</pre>"
      ],
      "text/plain": [
       "| 105       | 5512.818524  | 0.444742      | 0.445721        |"
      ]
     },
     "metadata": {},
     "output_type": "display_data"
    },
    {
     "data": {
      "text/html": [
       "<pre>| 106       | 5568.196587  | 0.444660      | 0.445631        |</pre>"
      ],
      "text/plain": [
       "| 106       | 5568.196587  | 0.444660      | 0.445631        |"
      ]
     },
     "metadata": {},
     "output_type": "display_data"
    },
    {
     "data": {
      "text/html": [
       "<pre>| 107       | 5619.396051  | 0.444583      | 0.445620        |</pre>"
      ],
      "text/plain": [
       "| 107       | 5619.396051  | 0.444583      | 0.445620        |"
      ]
     },
     "metadata": {},
     "output_type": "display_data"
    },
    {
     "data": {
      "text/html": [
       "<pre>| 108       | 5673.764228  | 0.444448      | 0.445454        |</pre>"
      ],
      "text/plain": [
       "| 108       | 5673.764228  | 0.444448      | 0.445454        |"
      ]
     },
     "metadata": {},
     "output_type": "display_data"
    },
    {
     "data": {
      "text/html": [
       "<pre>| 109       | 5728.820467  | 0.444353      | 0.445349        |</pre>"
      ],
      "text/plain": [
       "| 109       | 5728.820467  | 0.444353      | 0.445349        |"
      ]
     },
     "metadata": {},
     "output_type": "display_data"
    },
    {
     "data": {
      "text/html": [
       "<pre>| 110       | 5786.506641  | 0.444193      | 0.445265        |</pre>"
      ],
      "text/plain": [
       "| 110       | 5786.506641  | 0.444193      | 0.445265        |"
      ]
     },
     "metadata": {},
     "output_type": "display_data"
    },
    {
     "data": {
      "text/html": [
       "<pre>| 111       | 5839.788716  | 0.444096      | 0.445196        |</pre>"
      ],
      "text/plain": [
       "| 111       | 5839.788716  | 0.444096      | 0.445196        |"
      ]
     },
     "metadata": {},
     "output_type": "display_data"
    },
    {
     "data": {
      "text/html": [
       "<pre>| 112       | 5895.158053  | 0.443998      | 0.445112        |</pre>"
      ],
      "text/plain": [
       "| 112       | 5895.158053  | 0.443998      | 0.445112        |"
      ]
     },
     "metadata": {},
     "output_type": "display_data"
    },
    {
     "data": {
      "text/html": [
       "<pre>| 113       | 5949.918017  | 0.443911      | 0.445071        |</pre>"
      ],
      "text/plain": [
       "| 113       | 5949.918017  | 0.443911      | 0.445071        |"
      ]
     },
     "metadata": {},
     "output_type": "display_data"
    },
    {
     "data": {
      "text/html": [
       "<pre>| 114       | 6001.788766  | 0.443852      | 0.445042        |</pre>"
      ],
      "text/plain": [
       "| 114       | 6001.788766  | 0.443852      | 0.445042        |"
      ]
     },
     "metadata": {},
     "output_type": "display_data"
    },
    {
     "data": {
      "text/html": [
       "<pre>| 115       | 6056.631699  | 0.443718      | 0.444853        |</pre>"
      ],
      "text/plain": [
       "| 115       | 6056.631699  | 0.443718      | 0.444853        |"
      ]
     },
     "metadata": {},
     "output_type": "display_data"
    },
    {
     "data": {
      "text/html": [
       "<pre>| 116       | 6112.346475  | 0.443607      | 0.444757        |</pre>"
      ],
      "text/plain": [
       "| 116       | 6112.346475  | 0.443607      | 0.444757        |"
      ]
     },
     "metadata": {},
     "output_type": "display_data"
    },
    {
     "data": {
      "text/html": [
       "<pre>| 117       | 6169.296376  | 0.443493      | 0.444676        |</pre>"
      ],
      "text/plain": [
       "| 117       | 6169.296376  | 0.443493      | 0.444676        |"
      ]
     },
     "metadata": {},
     "output_type": "display_data"
    },
    {
     "data": {
      "text/html": [
       "<pre>| 118       | 6220.686371  | 0.443421      | 0.444595        |</pre>"
      ],
      "text/plain": [
       "| 118       | 6220.686371  | 0.443421      | 0.444595        |"
      ]
     },
     "metadata": {},
     "output_type": "display_data"
    },
    {
     "data": {
      "text/html": [
       "<pre>| 119       | 6274.010836  | 0.443351      | 0.444599        |</pre>"
      ],
      "text/plain": [
       "| 119       | 6274.010836  | 0.443351      | 0.444599        |"
      ]
     },
     "metadata": {},
     "output_type": "display_data"
    },
    {
     "data": {
      "text/html": [
       "<pre>| 120       | 6326.528077  | 0.443273      | 0.444554        |</pre>"
      ],
      "text/plain": [
       "| 120       | 6326.528077  | 0.443273      | 0.444554        |"
      ]
     },
     "metadata": {},
     "output_type": "display_data"
    },
    {
     "data": {
      "text/html": [
       "<pre>| 121       | 6381.003589  | 0.443185      | 0.444479        |</pre>"
      ],
      "text/plain": [
       "| 121       | 6381.003589  | 0.443185      | 0.444479        |"
      ]
     },
     "metadata": {},
     "output_type": "display_data"
    },
    {
     "data": {
      "text/html": [
       "<pre>| 122       | 6434.983525  | 0.443115      | 0.444469        |</pre>"
      ],
      "text/plain": [
       "| 122       | 6434.983525  | 0.443115      | 0.444469        |"
      ]
     },
     "metadata": {},
     "output_type": "display_data"
    },
    {
     "data": {
      "text/html": [
       "<pre>| 123       | 6488.881590  | 0.443036      | 0.444417        |</pre>"
      ],
      "text/plain": [
       "| 123       | 6488.881590  | 0.443036      | 0.444417        |"
      ]
     },
     "metadata": {},
     "output_type": "display_data"
    },
    {
     "data": {
      "text/html": [
       "<pre>| 124       | 6542.509916  | 0.442971      | 0.444350        |</pre>"
      ],
      "text/plain": [
       "| 124       | 6542.509916  | 0.442971      | 0.444350        |"
      ]
     },
     "metadata": {},
     "output_type": "display_data"
    },
    {
     "data": {
      "text/html": [
       "<pre>| 125       | 6599.426874  | 0.442878      | 0.444284        |</pre>"
      ],
      "text/plain": [
       "| 125       | 6599.426874  | 0.442878      | 0.444284        |"
      ]
     },
     "metadata": {},
     "output_type": "display_data"
    },
    {
     "data": {
      "text/html": [
       "<pre>| 126       | 6655.872773  | 0.442797      | 0.444193        |</pre>"
      ],
      "text/plain": [
       "| 126       | 6655.872773  | 0.442797      | 0.444193        |"
      ]
     },
     "metadata": {},
     "output_type": "display_data"
    },
    {
     "data": {
      "text/html": [
       "<pre>| 127       | 6707.406331  | 0.442736      | 0.444157        |</pre>"
      ],
      "text/plain": [
       "| 127       | 6707.406331  | 0.442736      | 0.444157        |"
      ]
     },
     "metadata": {},
     "output_type": "display_data"
    },
    {
     "data": {
      "text/html": [
       "<pre>| 128       | 6783.862243  | 0.442670      | 0.444107        |</pre>"
      ],
      "text/plain": [
       "| 128       | 6783.862243  | 0.442670      | 0.444107        |"
      ]
     },
     "metadata": {},
     "output_type": "display_data"
    },
    {
     "data": {
      "text/html": [
       "<pre>| 129       | 6841.388803  | 0.442560      | 0.444018        |</pre>"
      ],
      "text/plain": [
       "| 129       | 6841.388803  | 0.442560      | 0.444018        |"
      ]
     },
     "metadata": {},
     "output_type": "display_data"
    },
    {
     "data": {
      "text/html": [
       "<pre>| 130       | 6899.759596  | 0.442423      | 0.443933        |</pre>"
      ],
      "text/plain": [
       "| 130       | 6899.759596  | 0.442423      | 0.443933        |"
      ]
     },
     "metadata": {},
     "output_type": "display_data"
    },
    {
     "data": {
      "text/html": [
       "<pre>| 131       | 6956.212752  | 0.442355      | 0.443867        |</pre>"
      ],
      "text/plain": [
       "| 131       | 6956.212752  | 0.442355      | 0.443867        |"
      ]
     },
     "metadata": {},
     "output_type": "display_data"
    },
    {
     "data": {
      "text/html": [
       "<pre>| 132       | 7011.036254  | 0.442255      | 0.443777        |</pre>"
      ],
      "text/plain": [
       "| 132       | 7011.036254  | 0.442255      | 0.443777        |"
      ]
     },
     "metadata": {},
     "output_type": "display_data"
    },
    {
     "data": {
      "text/html": [
       "<pre>| 133       | 7066.086060  | 0.442161      | 0.443762        |</pre>"
      ],
      "text/plain": [
       "| 133       | 7066.086060  | 0.442161      | 0.443762        |"
      ]
     },
     "metadata": {},
     "output_type": "display_data"
    },
    {
     "data": {
      "text/html": [
       "<pre>| 134       | 7119.362989  | 0.442084      | 0.443745        |</pre>"
      ],
      "text/plain": [
       "| 134       | 7119.362989  | 0.442084      | 0.443745        |"
      ]
     },
     "metadata": {},
     "output_type": "display_data"
    },
    {
     "data": {
      "text/html": [
       "<pre>| 135       | 7172.934012  | 0.442048      | 0.443708        |</pre>"
      ],
      "text/plain": [
       "| 135       | 7172.934012  | 0.442048      | 0.443708        |"
      ]
     },
     "metadata": {},
     "output_type": "display_data"
    },
    {
     "data": {
      "text/html": [
       "<pre>| 136       | 7227.762733  | 0.441980      | 0.443699        |</pre>"
      ],
      "text/plain": [
       "| 136       | 7227.762733  | 0.441980      | 0.443699        |"
      ]
     },
     "metadata": {},
     "output_type": "display_data"
    },
    {
     "data": {
      "text/html": [
       "<pre>| 137       | 7277.944725  | 0.441891      | 0.443605        |</pre>"
      ],
      "text/plain": [
       "| 137       | 7277.944725  | 0.441891      | 0.443605        |"
      ]
     },
     "metadata": {},
     "output_type": "display_data"
    },
    {
     "data": {
      "text/html": [
       "<pre>| 138       | 7333.989919  | 0.441792      | 0.443557        |</pre>"
      ],
      "text/plain": [
       "| 138       | 7333.989919  | 0.441792      | 0.443557        |"
      ]
     },
     "metadata": {},
     "output_type": "display_data"
    },
    {
     "data": {
      "text/html": [
       "<pre>| 139       | 7385.034550  | 0.441733      | 0.443498        |</pre>"
      ],
      "text/plain": [
       "| 139       | 7385.034550  | 0.441733      | 0.443498        |"
      ]
     },
     "metadata": {},
     "output_type": "display_data"
    },
    {
     "data": {
      "text/html": [
       "<pre>| 140       | 7436.924361  | 0.441694      | 0.443442        |</pre>"
      ],
      "text/plain": [
       "| 140       | 7436.924361  | 0.441694      | 0.443442        |"
      ]
     },
     "metadata": {},
     "output_type": "display_data"
    },
    {
     "data": {
      "text/html": [
       "<pre>| 141       | 7496.052321  | 0.441590      | 0.443342        |</pre>"
      ],
      "text/plain": [
       "| 141       | 7496.052321  | 0.441590      | 0.443342        |"
      ]
     },
     "metadata": {},
     "output_type": "display_data"
    },
    {
     "data": {
      "text/html": [
       "<pre>| 142       | 7549.742075  | 0.441510      | 0.443270        |</pre>"
      ],
      "text/plain": [
       "| 142       | 7549.742075  | 0.441510      | 0.443270        |"
      ]
     },
     "metadata": {},
     "output_type": "display_data"
    },
    {
     "data": {
      "text/html": [
       "<pre>| 143       | 7601.942558  | 0.441458      | 0.443216        |</pre>"
      ],
      "text/plain": [
       "| 143       | 7601.942558  | 0.441458      | 0.443216        |"
      ]
     },
     "metadata": {},
     "output_type": "display_data"
    },
    {
     "data": {
      "text/html": [
       "<pre>| 144       | 7656.437182  | 0.441403      | 0.443180        |</pre>"
      ],
      "text/plain": [
       "| 144       | 7656.437182  | 0.441403      | 0.443180        |"
      ]
     },
     "metadata": {},
     "output_type": "display_data"
    },
    {
     "data": {
      "text/html": [
       "<pre>| 145       | 7712.030066  | 0.441341      | 0.443084        |</pre>"
      ],
      "text/plain": [
       "| 145       | 7712.030066  | 0.441341      | 0.443084        |"
      ]
     },
     "metadata": {},
     "output_type": "display_data"
    },
    {
     "data": {
      "text/html": [
       "<pre>| 146       | 7764.010551  | 0.441327      | 0.443071        |</pre>"
      ],
      "text/plain": [
       "| 146       | 7764.010551  | 0.441327      | 0.443071        |"
      ]
     },
     "metadata": {},
     "output_type": "display_data"
    },
    {
     "data": {
      "text/html": [
       "<pre>| 147       | 7818.224384  | 0.441244      | 0.442962        |</pre>"
      ],
      "text/plain": [
       "| 147       | 7818.224384  | 0.441244      | 0.442962        |"
      ]
     },
     "metadata": {},
     "output_type": "display_data"
    },
    {
     "data": {
      "text/html": [
       "<pre>| 148       | 7872.593902  | 0.441182      | 0.442891        |</pre>"
      ],
      "text/plain": [
       "| 148       | 7872.593902  | 0.441182      | 0.442891        |"
      ]
     },
     "metadata": {},
     "output_type": "display_data"
    },
    {
     "data": {
      "text/html": [
       "<pre>| 149       | 7925.423447  | 0.441136      | 0.442889        |</pre>"
      ],
      "text/plain": [
       "| 149       | 7925.423447  | 0.441136      | 0.442889        |"
      ]
     },
     "metadata": {},
     "output_type": "display_data"
    },
    {
     "data": {
      "text/html": [
       "<pre>| 150       | 7980.805641  | 0.441046      | 0.442791        |</pre>"
      ],
      "text/plain": [
       "| 150       | 7980.805641  | 0.441046      | 0.442791        |"
      ]
     },
     "metadata": {},
     "output_type": "display_data"
    },
    {
     "data": {
      "text/html": [
       "<pre>| 151       | 8034.170006  | 0.440941      | 0.442743        |</pre>"
      ],
      "text/plain": [
       "| 151       | 8034.170006  | 0.440941      | 0.442743        |"
      ]
     },
     "metadata": {},
     "output_type": "display_data"
    },
    {
     "data": {
      "text/html": [
       "<pre>| 152       | 8085.969184  | 0.440892      | 0.442699        |</pre>"
      ],
      "text/plain": [
       "| 152       | 8085.969184  | 0.440892      | 0.442699        |"
      ]
     },
     "metadata": {},
     "output_type": "display_data"
    },
    {
     "data": {
      "text/html": [
       "<pre>| 153       | 8142.192727  | 0.440812      | 0.442626        |</pre>"
      ],
      "text/plain": [
       "| 153       | 8142.192727  | 0.440812      | 0.442626        |"
      ]
     },
     "metadata": {},
     "output_type": "display_data"
    },
    {
     "data": {
      "text/html": [
       "<pre>| 154       | 8194.767956  | 0.440741      | 0.442550        |</pre>"
      ],
      "text/plain": [
       "| 154       | 8194.767956  | 0.440741      | 0.442550        |"
      ]
     },
     "metadata": {},
     "output_type": "display_data"
    },
    {
     "data": {
      "text/html": [
       "<pre>| 155       | 8248.088057  | 0.440697      | 0.442530        |</pre>"
      ],
      "text/plain": [
       "| 155       | 8248.088057  | 0.440697      | 0.442530        |"
      ]
     },
     "metadata": {},
     "output_type": "display_data"
    },
    {
     "data": {
      "text/html": [
       "<pre>| 156       | 8302.570784  | 0.440651      | 0.442523        |</pre>"
      ],
      "text/plain": [
       "| 156       | 8302.570784  | 0.440651      | 0.442523        |"
      ]
     },
     "metadata": {},
     "output_type": "display_data"
    },
    {
     "data": {
      "text/html": [
       "<pre>| 157       | 8357.182676  | 0.440591      | 0.442472        |</pre>"
      ],
      "text/plain": [
       "| 157       | 8357.182676  | 0.440591      | 0.442472        |"
      ]
     },
     "metadata": {},
     "output_type": "display_data"
    },
    {
     "data": {
      "text/html": [
       "<pre>| 158       | 8413.374138  | 0.440503      | 0.442397        |</pre>"
      ],
      "text/plain": [
       "| 158       | 8413.374138  | 0.440503      | 0.442397        |"
      ]
     },
     "metadata": {},
     "output_type": "display_data"
    },
    {
     "data": {
      "text/html": [
       "<pre>| 159       | 8468.286995  | 0.440408      | 0.442322        |</pre>"
      ],
      "text/plain": [
       "| 159       | 8468.286995  | 0.440408      | 0.442322        |"
      ]
     },
     "metadata": {},
     "output_type": "display_data"
    },
    {
     "data": {
      "text/html": [
       "<pre>| 160       | 8521.079125  | 0.440372      | 0.442308        |</pre>"
      ],
      "text/plain": [
       "| 160       | 8521.079125  | 0.440372      | 0.442308        |"
      ]
     },
     "metadata": {},
     "output_type": "display_data"
    },
    {
     "data": {
      "text/html": [
       "<pre>| 161       | 8575.442421  | 0.440320      | 0.442283        |</pre>"
      ],
      "text/plain": [
       "| 161       | 8575.442421  | 0.440320      | 0.442283        |"
      ]
     },
     "metadata": {},
     "output_type": "display_data"
    },
    {
     "data": {
      "text/html": [
       "<pre>| 162       | 8631.301979  | 0.440235      | 0.442221        |</pre>"
      ],
      "text/plain": [
       "| 162       | 8631.301979  | 0.440235      | 0.442221        |"
      ]
     },
     "metadata": {},
     "output_type": "display_data"
    },
    {
     "data": {
      "text/html": [
       "<pre>| 163       | 8682.078963  | 0.440187      | 0.442200        |</pre>"
      ],
      "text/plain": [
       "| 163       | 8682.078963  | 0.440187      | 0.442200        |"
      ]
     },
     "metadata": {},
     "output_type": "display_data"
    },
    {
     "data": {
      "text/html": [
       "<pre>| 164       | 8735.528659  | 0.440130      | 0.442167        |</pre>"
      ],
      "text/plain": [
       "| 164       | 8735.528659  | 0.440130      | 0.442167        |"
      ]
     },
     "metadata": {},
     "output_type": "display_data"
    },
    {
     "data": {
      "text/html": [
       "<pre>| 165       | 8791.150348  | 0.440077      | 0.442120        |</pre>"
      ],
      "text/plain": [
       "| 165       | 8791.150348  | 0.440077      | 0.442120        |"
      ]
     },
     "metadata": {},
     "output_type": "display_data"
    },
    {
     "data": {
      "text/html": [
       "<pre>| 166       | 8846.212253  | 0.440034      | 0.442085        |</pre>"
      ],
      "text/plain": [
       "| 166       | 8846.212253  | 0.440034      | 0.442085        |"
      ]
     },
     "metadata": {},
     "output_type": "display_data"
    },
    {
     "data": {
      "text/html": [
       "<pre>| 167       | 8901.020165  | 0.439992      | 0.442050        |</pre>"
      ],
      "text/plain": [
       "| 167       | 8901.020165  | 0.439992      | 0.442050        |"
      ]
     },
     "metadata": {},
     "output_type": "display_data"
    },
    {
     "data": {
      "text/html": [
       "<pre>| 168       | 8957.907510  | 0.439945      | 0.442023        |</pre>"
      ],
      "text/plain": [
       "| 168       | 8957.907510  | 0.439945      | 0.442023        |"
      ]
     },
     "metadata": {},
     "output_type": "display_data"
    },
    {
     "data": {
      "text/html": [
       "<pre>| 169       | 9012.822856  | 0.439897      | 0.442031        |</pre>"
      ],
      "text/plain": [
       "| 169       | 9012.822856  | 0.439897      | 0.442031        |"
      ]
     },
     "metadata": {},
     "output_type": "display_data"
    },
    {
     "data": {
      "text/html": [
       "<pre>| 170       | 9069.649806  | 0.439815      | 0.441960        |</pre>"
      ],
      "text/plain": [
       "| 170       | 9069.649806  | 0.439815      | 0.441960        |"
      ]
     },
     "metadata": {},
     "output_type": "display_data"
    },
    {
     "data": {
      "text/html": [
       "<pre>| 171       | 9126.661575  | 0.439748      | 0.441917        |</pre>"
      ],
      "text/plain": [
       "| 171       | 9126.661575  | 0.439748      | 0.441917        |"
      ]
     },
     "metadata": {},
     "output_type": "display_data"
    },
    {
     "data": {
      "text/html": [
       "<pre>| 172       | 9182.377778  | 0.439667      | 0.441867        |</pre>"
      ],
      "text/plain": [
       "| 172       | 9182.377778  | 0.439667      | 0.441867        |"
      ]
     },
     "metadata": {},
     "output_type": "display_data"
    },
    {
     "data": {
      "text/html": [
       "<pre>| 173       | 9236.777805  | 0.439634      | 0.441847        |</pre>"
      ],
      "text/plain": [
       "| 173       | 9236.777805  | 0.439634      | 0.441847        |"
      ]
     },
     "metadata": {},
     "output_type": "display_data"
    },
    {
     "data": {
      "text/html": [
       "<pre>| 174       | 9292.003853  | 0.439592      | 0.441838        |</pre>"
      ],
      "text/plain": [
       "| 174       | 9292.003853  | 0.439592      | 0.441838        |"
      ]
     },
     "metadata": {},
     "output_type": "display_data"
    },
    {
     "data": {
      "text/html": [
       "<pre>| 175       | 9344.774537  | 0.439543      | 0.441800        |</pre>"
      ],
      "text/plain": [
       "| 175       | 9344.774537  | 0.439543      | 0.441800        |"
      ]
     },
     "metadata": {},
     "output_type": "display_data"
    },
    {
     "data": {
      "text/html": [
       "<pre>| 176       | 9399.399337  | 0.439483      | 0.441767        |</pre>"
      ],
      "text/plain": [
       "| 176       | 9399.399337  | 0.439483      | 0.441767        |"
      ]
     },
     "metadata": {},
     "output_type": "display_data"
    },
    {
     "data": {
      "text/html": [
       "<pre>| 177       | 9453.063084  | 0.439456      | 0.441758        |</pre>"
      ],
      "text/plain": [
       "| 177       | 9453.063084  | 0.439456      | 0.441758        |"
      ]
     },
     "metadata": {},
     "output_type": "display_data"
    },
    {
     "data": {
      "text/html": [
       "<pre>| 178       | 9509.318394  | 0.439416      | 0.441733        |</pre>"
      ],
      "text/plain": [
       "| 178       | 9509.318394  | 0.439416      | 0.441733        |"
      ]
     },
     "metadata": {},
     "output_type": "display_data"
    },
    {
     "data": {
      "text/html": [
       "<pre>| 179       | 9562.668420  | 0.439346      | 0.441735        |</pre>"
      ],
      "text/plain": [
       "| 179       | 9562.668420  | 0.439346      | 0.441735        |"
      ]
     },
     "metadata": {},
     "output_type": "display_data"
    },
    {
     "data": {
      "text/html": [
       "<pre>| 180       | 9617.139458  | 0.439293      | 0.441694        |</pre>"
      ],
      "text/plain": [
       "| 180       | 9617.139458  | 0.439293      | 0.441694        |"
      ]
     },
     "metadata": {},
     "output_type": "display_data"
    },
    {
     "data": {
      "text/html": [
       "<pre>| 181       | 9671.285366  | 0.439229      | 0.441614        |</pre>"
      ],
      "text/plain": [
       "| 181       | 9671.285366  | 0.439229      | 0.441614        |"
      ]
     },
     "metadata": {},
     "output_type": "display_data"
    },
    {
     "data": {
      "text/html": [
       "<pre>| 182       | 9729.612530  | 0.439159      | 0.441576        |</pre>"
      ],
      "text/plain": [
       "| 182       | 9729.612530  | 0.439159      | 0.441576        |"
      ]
     },
     "metadata": {},
     "output_type": "display_data"
    },
    {
     "data": {
      "text/html": [
       "<pre>| 183       | 9784.293242  | 0.439113      | 0.441601        |</pre>"
      ],
      "text/plain": [
       "| 183       | 9784.293242  | 0.439113      | 0.441601        |"
      ]
     },
     "metadata": {},
     "output_type": "display_data"
    },
    {
     "data": {
      "text/html": [
       "<pre>| 184       | 9842.018985  | 0.439078      | 0.441593        |</pre>"
      ],
      "text/plain": [
       "| 184       | 9842.018985  | 0.439078      | 0.441593        |"
      ]
     },
     "metadata": {},
     "output_type": "display_data"
    },
    {
     "data": {
      "text/html": [
       "<pre>| 185       | 9899.400957  | 0.438998      | 0.441552        |</pre>"
      ],
      "text/plain": [
       "| 185       | 9899.400957  | 0.438998      | 0.441552        |"
      ]
     },
     "metadata": {},
     "output_type": "display_data"
    },
    {
     "data": {
      "text/html": [
       "<pre>| 186       | 9955.124889  | 0.438958      | 0.441500        |</pre>"
      ],
      "text/plain": [
       "| 186       | 9955.124889  | 0.438958      | 0.441500        |"
      ]
     },
     "metadata": {},
     "output_type": "display_data"
    },
    {
     "data": {
      "text/html": [
       "<pre>| 187       | 10008.271045 | 0.438930      | 0.441446        |</pre>"
      ],
      "text/plain": [
       "| 187       | 10008.271045 | 0.438930      | 0.441446        |"
      ]
     },
     "metadata": {},
     "output_type": "display_data"
    },
    {
     "data": {
      "text/html": [
       "<pre>| 188       | 10061.113967 | 0.438881      | 0.441383        |</pre>"
      ],
      "text/plain": [
       "| 188       | 10061.113967 | 0.438881      | 0.441383        |"
      ]
     },
     "metadata": {},
     "output_type": "display_data"
    },
    {
     "data": {
      "text/html": [
       "<pre>| 189       | 10116.786280 | 0.438853      | 0.441366        |</pre>"
      ],
      "text/plain": [
       "| 189       | 10116.786280 | 0.438853      | 0.441366        |"
      ]
     },
     "metadata": {},
     "output_type": "display_data"
    },
    {
     "data": {
      "text/html": [
       "<pre>| 190       | 10171.797674 | 0.438809      | 0.441328        |</pre>"
      ],
      "text/plain": [
       "| 190       | 10171.797674 | 0.438809      | 0.441328        |"
      ]
     },
     "metadata": {},
     "output_type": "display_data"
    },
    {
     "data": {
      "text/html": [
       "<pre>| 191       | 10223.869172 | 0.438781      | 0.441309        |</pre>"
      ],
      "text/plain": [
       "| 191       | 10223.869172 | 0.438781      | 0.441309        |"
      ]
     },
     "metadata": {},
     "output_type": "display_data"
    },
    {
     "data": {
      "text/html": [
       "<pre>| 192       | 10280.110326 | 0.438719      | 0.441258        |</pre>"
      ],
      "text/plain": [
       "| 192       | 10280.110326 | 0.438719      | 0.441258        |"
      ]
     },
     "metadata": {},
     "output_type": "display_data"
    },
    {
     "data": {
      "text/html": [
       "<pre>| 193       | 10353.831943 | 0.438677      | 0.441245        |</pre>"
      ],
      "text/plain": [
       "| 193       | 10353.831943 | 0.438677      | 0.441245        |"
      ]
     },
     "metadata": {},
     "output_type": "display_data"
    },
    {
     "data": {
      "text/html": [
       "<pre>| 194       | 10413.743182 | 0.438613      | 0.441167        |</pre>"
      ],
      "text/plain": [
       "| 194       | 10413.743182 | 0.438613      | 0.441167        |"
      ]
     },
     "metadata": {},
     "output_type": "display_data"
    },
    {
     "data": {
      "text/html": [
       "<pre>| 195       | 10468.764511 | 0.438577      | 0.441152        |</pre>"
      ],
      "text/plain": [
       "| 195       | 10468.764511 | 0.438577      | 0.441152        |"
      ]
     },
     "metadata": {},
     "output_type": "display_data"
    },
    {
     "data": {
      "text/html": [
       "<pre>| 196       | 10525.370922 | 0.438535      | 0.441115        |</pre>"
      ],
      "text/plain": [
       "| 196       | 10525.370922 | 0.438535      | 0.441115        |"
      ]
     },
     "metadata": {},
     "output_type": "display_data"
    },
    {
     "data": {
      "text/html": [
       "<pre>| 197       | 10581.035429 | 0.438497      | 0.441090        |</pre>"
      ],
      "text/plain": [
       "| 197       | 10581.035429 | 0.438497      | 0.441090        |"
      ]
     },
     "metadata": {},
     "output_type": "display_data"
    },
    {
     "data": {
      "text/html": [
       "<pre>| 198       | 10636.391932 | 0.438459      | 0.441079        |</pre>"
      ],
      "text/plain": [
       "| 198       | 10636.391932 | 0.438459      | 0.441079        |"
      ]
     },
     "metadata": {},
     "output_type": "display_data"
    },
    {
     "data": {
      "text/html": [
       "<pre>| 199       | 10692.247477 | 0.438417      | 0.441074        |</pre>"
      ],
      "text/plain": [
       "| 199       | 10692.247477 | 0.438417      | 0.441074        |"
      ]
     },
     "metadata": {},
     "output_type": "display_data"
    },
    {
     "data": {
      "text/html": [
       "<pre>| 200       | 10749.959517 | 0.438359      | 0.441068        |</pre>"
      ],
      "text/plain": [
       "| 200       | 10749.959517 | 0.438359      | 0.441068        |"
      ]
     },
     "metadata": {},
     "output_type": "display_data"
    },
    {
     "data": {
      "text/html": [
       "<pre>| 201       | 10804.512261 | 0.438280      | 0.441029        |</pre>"
      ],
      "text/plain": [
       "| 201       | 10804.512261 | 0.438280      | 0.441029        |"
      ]
     },
     "metadata": {},
     "output_type": "display_data"
    },
    {
     "data": {
      "text/html": [
       "<pre>| 202       | 10859.825062 | 0.438235      | 0.441006        |</pre>"
      ],
      "text/plain": [
       "| 202       | 10859.825062 | 0.438235      | 0.441006        |"
      ]
     },
     "metadata": {},
     "output_type": "display_data"
    },
    {
     "data": {
      "text/html": [
       "<pre>| 203       | 10913.170486 | 0.438198      | 0.440960        |</pre>"
      ],
      "text/plain": [
       "| 203       | 10913.170486 | 0.438198      | 0.440960        |"
      ]
     },
     "metadata": {},
     "output_type": "display_data"
    },
    {
     "data": {
      "text/html": [
       "<pre>| 204       | 10965.456450 | 0.438159      | 0.440983        |</pre>"
      ],
      "text/plain": [
       "| 204       | 10965.456450 | 0.438159      | 0.440983        |"
      ]
     },
     "metadata": {},
     "output_type": "display_data"
    },
    {
     "data": {
      "text/html": [
       "<pre>| 205       | 11021.742107 | 0.438093      | 0.440922        |</pre>"
      ],
      "text/plain": [
       "| 205       | 11021.742107 | 0.438093      | 0.440922        |"
      ]
     },
     "metadata": {},
     "output_type": "display_data"
    },
    {
     "data": {
      "text/html": [
       "<pre>| 206       | 11075.997162 | 0.438034      | 0.440903        |</pre>"
      ],
      "text/plain": [
       "| 206       | 11075.997162 | 0.438034      | 0.440903        |"
      ]
     },
     "metadata": {},
     "output_type": "display_data"
    },
    {
     "data": {
      "text/html": [
       "<pre>| 207       | 11129.196647 | 0.437986      | 0.440832        |</pre>"
      ],
      "text/plain": [
       "| 207       | 11129.196647 | 0.437986      | 0.440832        |"
      ]
     },
     "metadata": {},
     "output_type": "display_data"
    },
    {
     "data": {
      "text/html": [
       "<pre>| 208       | 11184.656947 | 0.437933      | 0.440780        |</pre>"
      ],
      "text/plain": [
       "| 208       | 11184.656947 | 0.437933      | 0.440780        |"
      ]
     },
     "metadata": {},
     "output_type": "display_data"
    },
    {
     "data": {
      "text/html": [
       "<pre>| 209       | 11242.565231 | 0.437891      | 0.440762        |</pre>"
      ],
      "text/plain": [
       "| 209       | 11242.565231 | 0.437891      | 0.440762        |"
      ]
     },
     "metadata": {},
     "output_type": "display_data"
    },
    {
     "data": {
      "text/html": [
       "<pre>| 210       | 11295.727169 | 0.437874      | 0.440755        |</pre>"
      ],
      "text/plain": [
       "| 210       | 11295.727169 | 0.437874      | 0.440755        |"
      ]
     },
     "metadata": {},
     "output_type": "display_data"
    },
    {
     "data": {
      "text/html": [
       "<pre>| 211       | 11352.333790 | 0.437831      | 0.440727        |</pre>"
      ],
      "text/plain": [
       "| 211       | 11352.333790 | 0.437831      | 0.440727        |"
      ]
     },
     "metadata": {},
     "output_type": "display_data"
    },
    {
     "data": {
      "text/html": [
       "<pre>| 212       | 11407.151507 | 0.437785      | 0.440704        |</pre>"
      ],
      "text/plain": [
       "| 212       | 11407.151507 | 0.437785      | 0.440704        |"
      ]
     },
     "metadata": {},
     "output_type": "display_data"
    },
    {
     "data": {
      "text/html": [
       "<pre>| 213       | 11461.310716 | 0.437723      | 0.440645        |</pre>"
      ],
      "text/plain": [
       "| 213       | 11461.310716 | 0.437723      | 0.440645        |"
      ]
     },
     "metadata": {},
     "output_type": "display_data"
    },
    {
     "data": {
      "text/html": [
       "<pre>| 214       | 11514.787372 | 0.437649      | 0.440601        |</pre>"
      ],
      "text/plain": [
       "| 214       | 11514.787372 | 0.437649      | 0.440601        |"
      ]
     },
     "metadata": {},
     "output_type": "display_data"
    },
    {
     "data": {
      "text/html": [
       "<pre>| 215       | 11572.130538 | 0.437594      | 0.440532        |</pre>"
      ],
      "text/plain": [
       "| 215       | 11572.130538 | 0.437594      | 0.440532        |"
      ]
     },
     "metadata": {},
     "output_type": "display_data"
    },
    {
     "data": {
      "text/html": [
       "<pre>| 216       | 11627.730467 | 0.437563      | 0.440522        |</pre>"
      ],
      "text/plain": [
       "| 216       | 11627.730467 | 0.437563      | 0.440522        |"
      ]
     },
     "metadata": {},
     "output_type": "display_data"
    },
    {
     "data": {
      "text/html": [
       "<pre>| 217       | 11682.443794 | 0.437522      | 0.440481        |</pre>"
      ],
      "text/plain": [
       "| 217       | 11682.443794 | 0.437522      | 0.440481        |"
      ]
     },
     "metadata": {},
     "output_type": "display_data"
    },
    {
     "data": {
      "text/html": [
       "<pre>| 218       | 11736.294050 | 0.437491      | 0.440490        |</pre>"
      ],
      "text/plain": [
       "| 218       | 11736.294050 | 0.437491      | 0.440490        |"
      ]
     },
     "metadata": {},
     "output_type": "display_data"
    },
    {
     "data": {
      "text/html": [
       "<pre>| 219       | 11790.223015 | 0.437452      | 0.440464        |</pre>"
      ],
      "text/plain": [
       "| 219       | 11790.223015 | 0.437452      | 0.440464        |"
      ]
     },
     "metadata": {},
     "output_type": "display_data"
    },
    {
     "data": {
      "text/html": [
       "<pre>| 220       | 11846.878918 | 0.437410      | 0.440430        |</pre>"
      ],
      "text/plain": [
       "| 220       | 11846.878918 | 0.437410      | 0.440430        |"
      ]
     },
     "metadata": {},
     "output_type": "display_data"
    },
    {
     "data": {
      "text/html": [
       "<pre>| 221       | 11902.768573 | 0.437380      | 0.440423        |</pre>"
      ],
      "text/plain": [
       "| 221       | 11902.768573 | 0.437380      | 0.440423        |"
      ]
     },
     "metadata": {},
     "output_type": "display_data"
    },
    {
     "data": {
      "text/html": [
       "<pre>| 222       | 11956.936919 | 0.437345      | 0.440414        |</pre>"
      ],
      "text/plain": [
       "| 222       | 11956.936919 | 0.437345      | 0.440414        |"
      ]
     },
     "metadata": {},
     "output_type": "display_data"
    },
    {
     "data": {
      "text/html": [
       "<pre>| 223       | 12011.714413 | 0.437307      | 0.440386        |</pre>"
      ],
      "text/plain": [
       "| 223       | 12011.714413 | 0.437307      | 0.440386        |"
      ]
     },
     "metadata": {},
     "output_type": "display_data"
    },
    {
     "data": {
      "text/html": [
       "<pre>| 224       | 12064.508041 | 0.437266      | 0.440371        |</pre>"
      ],
      "text/plain": [
       "| 224       | 12064.508041 | 0.437266      | 0.440371        |"
      ]
     },
     "metadata": {},
     "output_type": "display_data"
    },
    {
     "data": {
      "text/html": [
       "<pre>| 225       | 12119.907284 | 0.437209      | 0.440371        |</pre>"
      ],
      "text/plain": [
       "| 225       | 12119.907284 | 0.437209      | 0.440371        |"
      ]
     },
     "metadata": {},
     "output_type": "display_data"
    },
    {
     "data": {
      "text/html": [
       "<pre>| 226       | 12175.604987 | 0.437144      | 0.440324        |</pre>"
      ],
      "text/plain": [
       "| 226       | 12175.604987 | 0.437144      | 0.440324        |"
      ]
     },
     "metadata": {},
     "output_type": "display_data"
    },
    {
     "data": {
      "text/html": [
       "<pre>| 227       | 12230.280874 | 0.437084      | 0.440274        |</pre>"
      ],
      "text/plain": [
       "| 227       | 12230.280874 | 0.437084      | 0.440274        |"
      ]
     },
     "metadata": {},
     "output_type": "display_data"
    },
    {
     "data": {
      "text/html": [
       "<pre>| 228       | 12282.610946 | 0.437067      | 0.440270        |</pre>"
      ],
      "text/plain": [
       "| 228       | 12282.610946 | 0.437067      | 0.440270        |"
      ]
     },
     "metadata": {},
     "output_type": "display_data"
    },
    {
     "data": {
      "text/html": [
       "<pre>| 229       | 12336.229548 | 0.437038      | 0.440261        |</pre>"
      ],
      "text/plain": [
       "| 229       | 12336.229548 | 0.437038      | 0.440261        |"
      ]
     },
     "metadata": {},
     "output_type": "display_data"
    },
    {
     "data": {
      "text/html": [
       "<pre>| 230       | 12389.997328 | 0.437003      | 0.440254        |</pre>"
      ],
      "text/plain": [
       "| 230       | 12389.997328 | 0.437003      | 0.440254        |"
      ]
     },
     "metadata": {},
     "output_type": "display_data"
    },
    {
     "data": {
      "text/html": [
       "<pre>| 231       | 12446.474660 | 0.436953      | 0.440227        |</pre>"
      ],
      "text/plain": [
       "| 231       | 12446.474660 | 0.436953      | 0.440227        |"
      ]
     },
     "metadata": {},
     "output_type": "display_data"
    },
    {
     "data": {
      "text/html": [
       "<pre>| 232       | 12500.855446 | 0.436921      | 0.440241        |</pre>"
      ],
      "text/plain": [
       "| 232       | 12500.855446 | 0.436921      | 0.440241        |"
      ]
     },
     "metadata": {},
     "output_type": "display_data"
    },
    {
     "data": {
      "text/html": [
       "<pre>| 233       | 12555.931008 | 0.436872      | 0.440192        |</pre>"
      ],
      "text/plain": [
       "| 233       | 12555.931008 | 0.436872      | 0.440192        |"
      ]
     },
     "metadata": {},
     "output_type": "display_data"
    },
    {
     "data": {
      "text/html": [
       "<pre>| 234       | 12610.055736 | 0.436848      | 0.440206        |</pre>"
      ],
      "text/plain": [
       "| 234       | 12610.055736 | 0.436848      | 0.440206        |"
      ]
     },
     "metadata": {},
     "output_type": "display_data"
    },
    {
     "data": {
      "text/html": [
       "<pre>| 235       | 12665.732926 | 0.436803      | 0.440180        |</pre>"
      ],
      "text/plain": [
       "| 235       | 12665.732926 | 0.436803      | 0.440180        |"
      ]
     },
     "metadata": {},
     "output_type": "display_data"
    },
    {
     "data": {
      "text/html": [
       "<pre>| 236       | 12718.647174 | 0.436763      | 0.440154        |</pre>"
      ],
      "text/plain": [
       "| 236       | 12718.647174 | 0.436763      | 0.440154        |"
      ]
     },
     "metadata": {},
     "output_type": "display_data"
    },
    {
     "data": {
      "text/html": [
       "<pre>| 237       | 12775.376764 | 0.436705      | 0.440118        |</pre>"
      ],
      "text/plain": [
       "| 237       | 12775.376764 | 0.436705      | 0.440118        |"
      ]
     },
     "metadata": {},
     "output_type": "display_data"
    },
    {
     "data": {
      "text/html": [
       "<pre>| 238       | 12831.927064 | 0.436649      | 0.440061        |</pre>"
      ],
      "text/plain": [
       "| 238       | 12831.927064 | 0.436649      | 0.440061        |"
      ]
     },
     "metadata": {},
     "output_type": "display_data"
    },
    {
     "data": {
      "text/html": [
       "<pre>| 239       | 12886.951842 | 0.436598      | 0.440040        |</pre>"
      ],
      "text/plain": [
       "| 239       | 12886.951842 | 0.436598      | 0.440040        |"
      ]
     },
     "metadata": {},
     "output_type": "display_data"
    },
    {
     "data": {
      "text/html": [
       "<pre>| 240       | 12941.287289 | 0.436568      | 0.440027        |</pre>"
      ],
      "text/plain": [
       "| 240       | 12941.287289 | 0.436568      | 0.440027        |"
      ]
     },
     "metadata": {},
     "output_type": "display_data"
    },
    {
     "data": {
      "text/html": [
       "<pre>| 241       | 12993.657375 | 0.436537      | 0.440022        |</pre>"
      ],
      "text/plain": [
       "| 241       | 12993.657375 | 0.436537      | 0.440022        |"
      ]
     },
     "metadata": {},
     "output_type": "display_data"
    },
    {
     "data": {
      "text/html": [
       "<pre>| 242       | 13046.937280 | 0.436506      | 0.440004        |</pre>"
      ],
      "text/plain": [
       "| 242       | 13046.937280 | 0.436506      | 0.440004        |"
      ]
     },
     "metadata": {},
     "output_type": "display_data"
    },
    {
     "data": {
      "text/html": [
       "<pre>| 243       | 13101.791715 | 0.436472      | 0.439999        |</pre>"
      ],
      "text/plain": [
       "| 243       | 13101.791715 | 0.436472      | 0.439999        |"
      ]
     },
     "metadata": {},
     "output_type": "display_data"
    },
    {
     "data": {
      "text/html": [
       "<pre>| 244       | 13155.558358 | 0.436452      | 0.439987        |</pre>"
      ],
      "text/plain": [
       "| 244       | 13155.558358 | 0.436452      | 0.439987        |"
      ]
     },
     "metadata": {},
     "output_type": "display_data"
    },
    {
     "data": {
      "text/html": [
       "<pre>| 245       | 13212.193875 | 0.436412      | 0.439975        |</pre>"
      ],
      "text/plain": [
       "| 245       | 13212.193875 | 0.436412      | 0.439975        |"
      ]
     },
     "metadata": {},
     "output_type": "display_data"
    },
    {
     "data": {
      "text/html": [
       "<pre>| 246       | 13268.333259 | 0.436376      | 0.439863        |</pre>"
      ],
      "text/plain": [
       "| 246       | 13268.333259 | 0.436376      | 0.439863        |"
      ]
     },
     "metadata": {},
     "output_type": "display_data"
    },
    {
     "data": {
      "text/html": [
       "<pre>| 247       | 13327.343261 | 0.436324      | 0.439833        |</pre>"
      ],
      "text/plain": [
       "| 247       | 13327.343261 | 0.436324      | 0.439833        |"
      ]
     },
     "metadata": {},
     "output_type": "display_data"
    },
    {
     "data": {
      "text/html": [
       "<pre>| 248       | 13381.513733 | 0.436301      | 0.439816        |</pre>"
      ],
      "text/plain": [
       "| 248       | 13381.513733 | 0.436301      | 0.439816        |"
      ]
     },
     "metadata": {},
     "output_type": "display_data"
    },
    {
     "data": {
      "text/html": [
       "<pre>| 249       | 13432.591234 | 0.436277      | 0.439816        |</pre>"
      ],
      "text/plain": [
       "| 249       | 13432.591234 | 0.436277      | 0.439816        |"
      ]
     },
     "metadata": {},
     "output_type": "display_data"
    },
    {
     "data": {
      "text/html": [
       "<pre>| 250       | 13487.715702 | 0.436246      | 0.439779        |</pre>"
      ],
      "text/plain": [
       "| 250       | 13487.715702 | 0.436246      | 0.439779        |"
      ]
     },
     "metadata": {},
     "output_type": "display_data"
    },
    {
     "data": {
      "text/html": [
       "<pre>| 251       | 13542.528153 | 0.436219      | 0.439767        |</pre>"
      ],
      "text/plain": [
       "| 251       | 13542.528153 | 0.436219      | 0.439767        |"
      ]
     },
     "metadata": {},
     "output_type": "display_data"
    },
    {
     "data": {
      "text/html": [
       "<pre>| 252       | 13596.920766 | 0.436182      | 0.439761        |</pre>"
      ],
      "text/plain": [
       "| 252       | 13596.920766 | 0.436182      | 0.439761        |"
      ]
     },
     "metadata": {},
     "output_type": "display_data"
    },
    {
     "data": {
      "text/html": [
       "<pre>| 253       | 13648.741740 | 0.436151      | 0.439756        |</pre>"
      ],
      "text/plain": [
       "| 253       | 13648.741740 | 0.436151      | 0.439756        |"
      ]
     },
     "metadata": {},
     "output_type": "display_data"
    },
    {
     "data": {
      "text/html": [
       "<pre>| 254       | 13702.512953 | 0.436130      | 0.439730        |</pre>"
      ],
      "text/plain": [
       "| 254       | 13702.512953 | 0.436130      | 0.439730        |"
      ]
     },
     "metadata": {},
     "output_type": "display_data"
    },
    {
     "data": {
      "text/html": [
       "<pre>| 255       | 13760.968428 | 0.436071      | 0.439693        |</pre>"
      ],
      "text/plain": [
       "| 255       | 13760.968428 | 0.436071      | 0.439693        |"
      ]
     },
     "metadata": {},
     "output_type": "display_data"
    },
    {
     "data": {
      "text/html": [
       "<pre>| 256       | 13816.926704 | 0.436029      | 0.439650        |</pre>"
      ],
      "text/plain": [
       "| 256       | 13816.926704 | 0.436029      | 0.439650        |"
      ]
     },
     "metadata": {},
     "output_type": "display_data"
    },
    {
     "data": {
      "text/html": [
       "<pre>| 257       | 13870.362988 | 0.435993      | 0.439649        |</pre>"
      ],
      "text/plain": [
       "| 257       | 13870.362988 | 0.435993      | 0.439649        |"
      ]
     },
     "metadata": {},
     "output_type": "display_data"
    },
    {
     "data": {
      "text/html": [
       "<pre>| 258       | 13940.473970 | 0.435954      | 0.439605        |</pre>"
      ],
      "text/plain": [
       "| 258       | 13940.473970 | 0.435954      | 0.439605        |"
      ]
     },
     "metadata": {},
     "output_type": "display_data"
    },
    {
     "data": {
      "text/html": [
       "<pre>| 259       | 14000.644271 | 0.435901      | 0.439570        |</pre>"
      ],
      "text/plain": [
       "| 259       | 14000.644271 | 0.435901      | 0.439570        |"
      ]
     },
     "metadata": {},
     "output_type": "display_data"
    },
    {
     "data": {
      "text/html": [
       "<pre>| 260       | 14055.007107 | 0.435883      | 0.439563        |</pre>"
      ],
      "text/plain": [
       "| 260       | 14055.007107 | 0.435883      | 0.439563        |"
      ]
     },
     "metadata": {},
     "output_type": "display_data"
    },
    {
     "data": {
      "text/html": [
       "<pre>| 261       | 14116.244710 | 0.435869      | 0.439544        |</pre>"
      ],
      "text/plain": [
       "| 261       | 14116.244710 | 0.435869      | 0.439544        |"
      ]
     },
     "metadata": {},
     "output_type": "display_data"
    },
    {
     "data": {
      "text/html": [
       "<pre>| 262       | 14170.668831 | 0.435846      | 0.439513        |</pre>"
      ],
      "text/plain": [
       "| 262       | 14170.668831 | 0.435846      | 0.439513        |"
      ]
     },
     "metadata": {},
     "output_type": "display_data"
    },
    {
     "data": {
      "text/html": [
       "<pre>| 263       | 14226.610040 | 0.435806      | 0.439489        |</pre>"
      ],
      "text/plain": [
       "| 263       | 14226.610040 | 0.435806      | 0.439489        |"
      ]
     },
     "metadata": {},
     "output_type": "display_data"
    },
    {
     "data": {
      "text/html": [
       "<pre>| 264       | 14281.655628 | 0.435781      | 0.439477        |</pre>"
      ],
      "text/plain": [
       "| 264       | 14281.655628 | 0.435781      | 0.439477        |"
      ]
     },
     "metadata": {},
     "output_type": "display_data"
    },
    {
     "data": {
      "text/html": [
       "<pre>| 265       | 14337.398315 | 0.435756      | 0.439478        |</pre>"
      ],
      "text/plain": [
       "| 265       | 14337.398315 | 0.435756      | 0.439478        |"
      ]
     },
     "metadata": {},
     "output_type": "display_data"
    },
    {
     "data": {
      "text/html": [
       "<pre>| 266       | 14391.756406 | 0.435723      | 0.439376        |</pre>"
      ],
      "text/plain": [
       "| 266       | 14391.756406 | 0.435723      | 0.439376        |"
      ]
     },
     "metadata": {},
     "output_type": "display_data"
    },
    {
     "data": {
      "text/html": [
       "<pre>| 267       | 14448.062706 | 0.435687      | 0.439359        |</pre>"
      ],
      "text/plain": [
       "| 267       | 14448.062706 | 0.435687      | 0.439359        |"
      ]
     },
     "metadata": {},
     "output_type": "display_data"
    },
    {
     "data": {
      "text/html": [
       "<pre>| 268       | 14506.770663 | 0.435640      | 0.439285        |</pre>"
      ],
      "text/plain": [
       "| 268       | 14506.770663 | 0.435640      | 0.439285        |"
      ]
     },
     "metadata": {},
     "output_type": "display_data"
    },
    {
     "data": {
      "text/html": [
       "<pre>| 269       | 14559.660834 | 0.435617      | 0.439274        |</pre>"
      ],
      "text/plain": [
       "| 269       | 14559.660834 | 0.435617      | 0.439274        |"
      ]
     },
     "metadata": {},
     "output_type": "display_data"
    },
    {
     "data": {
      "text/html": [
       "<pre>| 270       | 14613.229854 | 0.435583      | 0.439298        |</pre>"
      ],
      "text/plain": [
       "| 270       | 14613.229854 | 0.435583      | 0.439298        |"
      ]
     },
     "metadata": {},
     "output_type": "display_data"
    },
    {
     "data": {
      "text/html": [
       "<pre>| 271       | 14668.926405 | 0.435555      | 0.439319        |</pre>"
      ],
      "text/plain": [
       "| 271       | 14668.926405 | 0.435555      | 0.439319        |"
      ]
     },
     "metadata": {},
     "output_type": "display_data"
    },
    {
     "data": {
      "text/html": [
       "<pre>| 272       | 14720.981401 | 0.435505      | 0.439299        |</pre>"
      ],
      "text/plain": [
       "| 272       | 14720.981401 | 0.435505      | 0.439299        |"
      ]
     },
     "metadata": {},
     "output_type": "display_data"
    },
    {
     "data": {
      "text/html": [
       "<pre>| 273       | 14778.443889 | 0.435467      | 0.439292        |</pre>"
      ],
      "text/plain": [
       "| 273       | 14778.443889 | 0.435467      | 0.439292        |"
      ]
     },
     "metadata": {},
     "output_type": "display_data"
    },
    {
     "data": {
      "text/html": [
       "<pre>| 274       | 14831.530359 | 0.435427      | 0.439291        |</pre>"
      ],
      "text/plain": [
       "| 274       | 14831.530359 | 0.435427      | 0.439291        |"
      ]
     },
     "metadata": {},
     "output_type": "display_data"
    },
    {
     "data": {
      "text/html": [
       "<pre>| 275       | 14888.967776 | 0.435381      | 0.439295        |</pre>"
      ],
      "text/plain": [
       "| 275       | 14888.967776 | 0.435381      | 0.439295        |"
      ]
     },
     "metadata": {},
     "output_type": "display_data"
    },
    {
     "data": {
      "text/html": [
       "<pre>| 276       | 14943.958481 | 0.435351      | 0.439255        |</pre>"
      ],
      "text/plain": [
       "| 276       | 14943.958481 | 0.435351      | 0.439255        |"
      ]
     },
     "metadata": {},
     "output_type": "display_data"
    },
    {
     "data": {
      "text/html": [
       "<pre>| 277       | 14999.818563 | 0.435328      | 0.439246        |</pre>"
      ],
      "text/plain": [
       "| 277       | 14999.818563 | 0.435328      | 0.439246        |"
      ]
     },
     "metadata": {},
     "output_type": "display_data"
    },
    {
     "data": {
      "text/html": [
       "<pre>| 278       | 15054.413056 | 0.435301      | 0.439252        |</pre>"
      ],
      "text/plain": [
       "| 278       | 15054.413056 | 0.435301      | 0.439252        |"
      ]
     },
     "metadata": {},
     "output_type": "display_data"
    },
    {
     "data": {
      "text/html": [
       "<pre>| 279       | 15105.876722 | 0.435275      | 0.439236        |</pre>"
      ],
      "text/plain": [
       "| 279       | 15105.876722 | 0.435275      | 0.439236        |"
      ]
     },
     "metadata": {},
     "output_type": "display_data"
    },
    {
     "data": {
      "text/html": [
       "<pre>| 280       | 15156.801721 | 0.435254      | 0.439217        |</pre>"
      ],
      "text/plain": [
       "| 280       | 15156.801721 | 0.435254      | 0.439217        |"
      ]
     },
     "metadata": {},
     "output_type": "display_data"
    },
    {
     "data": {
      "text/html": [
       "<pre>| 281       | 15214.522789 | 0.435233      | 0.439198        |</pre>"
      ],
      "text/plain": [
       "| 281       | 15214.522789 | 0.435233      | 0.439198        |"
      ]
     },
     "metadata": {},
     "output_type": "display_data"
    },
    {
     "data": {
      "text/html": [
       "<pre>| 282       | 15267.055978 | 0.435208      | 0.439152        |</pre>"
      ],
      "text/plain": [
       "| 282       | 15267.055978 | 0.435208      | 0.439152        |"
      ]
     },
     "metadata": {},
     "output_type": "display_data"
    },
    {
     "data": {
      "text/html": [
       "<pre>| 283       | 15320.105491 | 0.435158      | 0.439104        |</pre>"
      ],
      "text/plain": [
       "| 283       | 15320.105491 | 0.435158      | 0.439104        |"
      ]
     },
     "metadata": {},
     "output_type": "display_data"
    },
    {
     "data": {
      "text/html": [
       "<pre>| 284       | 15373.676765 | 0.435147      | 0.439108        |</pre>"
      ],
      "text/plain": [
       "| 284       | 15373.676765 | 0.435147      | 0.439108        |"
      ]
     },
     "metadata": {},
     "output_type": "display_data"
    },
    {
     "data": {
      "text/html": [
       "<pre>| 285       | 15427.770016 | 0.435118      | 0.439068        |</pre>"
      ],
      "text/plain": [
       "| 285       | 15427.770016 | 0.435118      | 0.439068        |"
      ]
     },
     "metadata": {},
     "output_type": "display_data"
    },
    {
     "data": {
      "text/html": [
       "<pre>| 286       | 15483.963028 | 0.435090      | 0.439067        |</pre>"
      ],
      "text/plain": [
       "| 286       | 15483.963028 | 0.435090      | 0.439067        |"
      ]
     },
     "metadata": {},
     "output_type": "display_data"
    },
    {
     "data": {
      "text/html": [
       "<pre>| 287       | 15537.723329 | 0.435066      | 0.439026        |</pre>"
      ],
      "text/plain": [
       "| 287       | 15537.723329 | 0.435066      | 0.439026        |"
      ]
     },
     "metadata": {},
     "output_type": "display_data"
    },
    {
     "data": {
      "text/html": [
       "<pre>| 288       | 15595.102679 | 0.435031      | 0.439028        |</pre>"
      ],
      "text/plain": [
       "| 288       | 15595.102679 | 0.435031      | 0.439028        |"
      ]
     },
     "metadata": {},
     "output_type": "display_data"
    },
    {
     "data": {
      "text/html": [
       "<pre>| 289       | 15652.370605 | 0.434983      | 0.439010        |</pre>"
      ],
      "text/plain": [
       "| 289       | 15652.370605 | 0.434983      | 0.439010        |"
      ]
     },
     "metadata": {},
     "output_type": "display_data"
    },
    {
     "data": {
      "text/html": [
       "<pre>| 290       | 15705.262398 | 0.434953      | 0.439003        |</pre>"
      ],
      "text/plain": [
       "| 290       | 15705.262398 | 0.434953      | 0.439003        |"
      ]
     },
     "metadata": {},
     "output_type": "display_data"
    },
    {
     "data": {
      "text/html": [
       "<pre>| 291       | 15761.523581 | 0.434918      | 0.439000        |</pre>"
      ],
      "text/plain": [
       "| 291       | 15761.523581 | 0.434918      | 0.439000        |"
      ]
     },
     "metadata": {},
     "output_type": "display_data"
    },
    {
     "data": {
      "text/html": [
       "<pre>| 292       | 15811.796765 | 0.434895      | 0.438998        |</pre>"
      ],
      "text/plain": [
       "| 292       | 15811.796765 | 0.434895      | 0.438998        |"
      ]
     },
     "metadata": {},
     "output_type": "display_data"
    },
    {
     "data": {
      "text/html": [
       "<pre>| 293       | 15865.911874 | 0.434867      | 0.438994        |</pre>"
      ],
      "text/plain": [
       "| 293       | 15865.911874 | 0.434867      | 0.438994        |"
      ]
     },
     "metadata": {},
     "output_type": "display_data"
    },
    {
     "data": {
      "text/html": [
       "<pre>| 294       | 15922.516675 | 0.434844      | 0.438959        |</pre>"
      ],
      "text/plain": [
       "| 294       | 15922.516675 | 0.434844      | 0.438959        |"
      ]
     },
     "metadata": {},
     "output_type": "display_data"
    },
    {
     "data": {
      "text/html": [
       "<pre>| 295       | 15976.260491 | 0.434801      | 0.438934        |</pre>"
      ],
      "text/plain": [
       "| 295       | 15976.260491 | 0.434801      | 0.438934        |"
      ]
     },
     "metadata": {},
     "output_type": "display_data"
    },
    {
     "data": {
      "text/html": [
       "<pre>| 296       | 16032.551491 | 0.434777      | 0.438929        |</pre>"
      ],
      "text/plain": [
       "| 296       | 16032.551491 | 0.434777      | 0.438929        |"
      ]
     },
     "metadata": {},
     "output_type": "display_data"
    },
    {
     "data": {
      "text/html": [
       "<pre>| 297       | 16086.796681 | 0.434727      | 0.438877        |</pre>"
      ],
      "text/plain": [
       "| 297       | 16086.796681 | 0.434727      | 0.438877        |"
      ]
     },
     "metadata": {},
     "output_type": "display_data"
    },
    {
     "data": {
      "text/html": [
       "<pre>| 298       | 16145.910223 | 0.434687      | 0.438840        |</pre>"
      ],
      "text/plain": [
       "| 298       | 16145.910223 | 0.434687      | 0.438840        |"
      ]
     },
     "metadata": {},
     "output_type": "display_data"
    },
    {
     "data": {
      "text/html": [
       "<pre>| 299       | 16202.339726 | 0.434655      | 0.438815        |</pre>"
      ],
      "text/plain": [
       "| 299       | 16202.339726 | 0.434655      | 0.438815        |"
      ]
     },
     "metadata": {},
     "output_type": "display_data"
    },
    {
     "data": {
      "text/html": [
       "<pre>| 300       | 16255.562746 | 0.434644      | 0.438783        |</pre>"
      ],
      "text/plain": [
       "| 300       | 16255.562746 | 0.434644      | 0.438783        |"
      ]
     },
     "metadata": {},
     "output_type": "display_data"
    },
    {
     "data": {
      "text/html": [
       "<pre>| 301       | 16310.894124 | 0.434606      | 0.438764        |</pre>"
      ],
      "text/plain": [
       "| 301       | 16310.894124 | 0.434606      | 0.438764        |"
      ]
     },
     "metadata": {},
     "output_type": "display_data"
    },
    {
     "data": {
      "text/html": [
       "<pre>| 302       | 16368.568051 | 0.434568      | 0.438751        |</pre>"
      ],
      "text/plain": [
       "| 302       | 16368.568051 | 0.434568      | 0.438751        |"
      ]
     },
     "metadata": {},
     "output_type": "display_data"
    },
    {
     "data": {
      "text/html": [
       "<pre>| 303       | 16423.841821 | 0.434544      | 0.438736        |</pre>"
      ],
      "text/plain": [
       "| 303       | 16423.841821 | 0.434544      | 0.438736        |"
      ]
     },
     "metadata": {},
     "output_type": "display_data"
    },
    {
     "data": {
      "text/html": [
       "<pre>| 304       | 16477.046718 | 0.434517      | 0.438715        |</pre>"
      ],
      "text/plain": [
       "| 304       | 16477.046718 | 0.434517      | 0.438715        |"
      ]
     },
     "metadata": {},
     "output_type": "display_data"
    },
    {
     "data": {
      "text/html": [
       "<pre>| 305       | 16530.443930 | 0.434499      | 0.438684        |</pre>"
      ],
      "text/plain": [
       "| 305       | 16530.443930 | 0.434499      | 0.438684        |"
      ]
     },
     "metadata": {},
     "output_type": "display_data"
    },
    {
     "data": {
      "text/html": [
       "<pre>| 306       | 16583.745324 | 0.434466      | 0.438683        |</pre>"
      ],
      "text/plain": [
       "| 306       | 16583.745324 | 0.434466      | 0.438683        |"
      ]
     },
     "metadata": {},
     "output_type": "display_data"
    },
    {
     "data": {
      "text/html": [
       "<pre>| 307       | 16636.778484 | 0.434448      | 0.438671        |</pre>"
      ],
      "text/plain": [
       "| 307       | 16636.778484 | 0.434448      | 0.438671        |"
      ]
     },
     "metadata": {},
     "output_type": "display_data"
    },
    {
     "data": {
      "text/html": [
       "<pre>| 308       | 16691.938471 | 0.434411      | 0.438659        |</pre>"
      ],
      "text/plain": [
       "| 308       | 16691.938471 | 0.434411      | 0.438659        |"
      ]
     },
     "metadata": {},
     "output_type": "display_data"
    },
    {
     "data": {
      "text/html": [
       "<pre>| 309       | 16745.018529 | 0.434389      | 0.438605        |</pre>"
      ],
      "text/plain": [
       "| 309       | 16745.018529 | 0.434389      | 0.438605        |"
      ]
     },
     "metadata": {},
     "output_type": "display_data"
    },
    {
     "data": {
      "text/html": [
       "<pre>| 310       | 16799.631233 | 0.434350      | 0.438595        |</pre>"
      ],
      "text/plain": [
       "| 310       | 16799.631233 | 0.434350      | 0.438595        |"
      ]
     },
     "metadata": {},
     "output_type": "display_data"
    },
    {
     "data": {
      "text/html": [
       "<pre>| 311       | 16853.120101 | 0.434326      | 0.438579        |</pre>"
      ],
      "text/plain": [
       "| 311       | 16853.120101 | 0.434326      | 0.438579        |"
      ]
     },
     "metadata": {},
     "output_type": "display_data"
    },
    {
     "data": {
      "text/html": [
       "<pre>| 312       | 16908.775470 | 0.434300      | 0.438551        |</pre>"
      ],
      "text/plain": [
       "| 312       | 16908.775470 | 0.434300      | 0.438551        |"
      ]
     },
     "metadata": {},
     "output_type": "display_data"
    },
    {
     "data": {
      "text/html": [
       "<pre>| 313       | 16962.074921 | 0.434276      | 0.438543        |</pre>"
      ],
      "text/plain": [
       "| 313       | 16962.074921 | 0.434276      | 0.438543        |"
      ]
     },
     "metadata": {},
     "output_type": "display_data"
    },
    {
     "data": {
      "text/html": [
       "<pre>| 314       | 17015.136461 | 0.434252      | 0.438520        |</pre>"
      ],
      "text/plain": [
       "| 314       | 17015.136461 | 0.434252      | 0.438520        |"
      ]
     },
     "metadata": {},
     "output_type": "display_data"
    },
    {
     "data": {
      "text/html": [
       "<pre>| 315       | 17069.031714 | 0.434236      | 0.438520        |</pre>"
      ],
      "text/plain": [
       "| 315       | 17069.031714 | 0.434236      | 0.438520        |"
      ]
     },
     "metadata": {},
     "output_type": "display_data"
    },
    {
     "data": {
      "text/html": [
       "<pre>| 316       | 17127.020655 | 0.434184      | 0.438462        |</pre>"
      ],
      "text/plain": [
       "| 316       | 17127.020655 | 0.434184      | 0.438462        |"
      ]
     },
     "metadata": {},
     "output_type": "display_data"
    },
    {
     "data": {
      "text/html": [
       "<pre>| 317       | 17183.629047 | 0.434161      | 0.438444        |</pre>"
      ],
      "text/plain": [
       "| 317       | 17183.629047 | 0.434161      | 0.438444        |"
      ]
     },
     "metadata": {},
     "output_type": "display_data"
    },
    {
     "data": {
      "text/html": [
       "<pre>| 318       | 17236.998831 | 0.434133      | 0.438438        |</pre>"
      ],
      "text/plain": [
       "| 318       | 17236.998831 | 0.434133      | 0.438438        |"
      ]
     },
     "metadata": {},
     "output_type": "display_data"
    },
    {
     "data": {
      "text/html": [
       "<pre>| 319       | 17292.906287 | 0.434087      | 0.438423        |</pre>"
      ],
      "text/plain": [
       "| 319       | 17292.906287 | 0.434087      | 0.438423        |"
      ]
     },
     "metadata": {},
     "output_type": "display_data"
    },
    {
     "data": {
      "text/html": [
       "<pre>| 320       | 17345.284445 | 0.434066      | 0.438406        |</pre>"
      ],
      "text/plain": [
       "| 320       | 17345.284445 | 0.434066      | 0.438406        |"
      ]
     },
     "metadata": {},
     "output_type": "display_data"
    },
    {
     "data": {
      "text/html": [
       "<pre>| 321       | 17401.924308 | 0.434019      | 0.438379        |</pre>"
      ],
      "text/plain": [
       "| 321       | 17401.924308 | 0.434019      | 0.438379        |"
      ]
     },
     "metadata": {},
     "output_type": "display_data"
    },
    {
     "data": {
      "text/html": [
       "<pre>| 322       | 17459.634030 | 0.433981      | 0.438387        |</pre>"
      ],
      "text/plain": [
       "| 322       | 17459.634030 | 0.433981      | 0.438387        |"
      ]
     },
     "metadata": {},
     "output_type": "display_data"
    },
    {
     "data": {
      "text/html": [
       "<pre>| 323       | 17515.547555 | 0.433947      | 0.438363        |</pre>"
      ],
      "text/plain": [
       "| 323       | 17515.547555 | 0.433947      | 0.438363        |"
      ]
     },
     "metadata": {},
     "output_type": "display_data"
    },
    {
     "data": {
      "text/html": [
       "<pre>| 324       | 17594.828201 | 0.433902      | 0.438327        |</pre>"
      ],
      "text/plain": [
       "| 324       | 17594.828201 | 0.433902      | 0.438327        |"
      ]
     },
     "metadata": {},
     "output_type": "display_data"
    },
    {
     "data": {
      "text/html": [
       "<pre>| 325       | 17647.267298 | 0.433882      | 0.438300        |</pre>"
      ],
      "text/plain": [
       "| 325       | 17647.267298 | 0.433882      | 0.438300        |"
      ]
     },
     "metadata": {},
     "output_type": "display_data"
    },
    {
     "data": {
      "text/html": [
       "<pre>| 326       | 17704.524109 | 0.433846      | 0.438282        |</pre>"
      ],
      "text/plain": [
       "| 326       | 17704.524109 | 0.433846      | 0.438282        |"
      ]
     },
     "metadata": {},
     "output_type": "display_data"
    },
    {
     "data": {
      "text/html": [
       "<pre>| 327       | 17758.234039 | 0.433814      | 0.438247        |</pre>"
      ],
      "text/plain": [
       "| 327       | 17758.234039 | 0.433814      | 0.438247        |"
      ]
     },
     "metadata": {},
     "output_type": "display_data"
    },
    {
     "data": {
      "text/html": [
       "<pre>| 328       | 17813.035675 | 0.433764      | 0.438239        |</pre>"
      ],
      "text/plain": [
       "| 328       | 17813.035675 | 0.433764      | 0.438239        |"
      ]
     },
     "metadata": {},
     "output_type": "display_data"
    },
    {
     "data": {
      "text/html": [
       "<pre>| 329       | 17867.325883 | 0.433732      | 0.438229        |</pre>"
      ],
      "text/plain": [
       "| 329       | 17867.325883 | 0.433732      | 0.438229        |"
      ]
     },
     "metadata": {},
     "output_type": "display_data"
    },
    {
     "data": {
      "text/html": [
       "<pre>| 330       | 17925.260176 | 0.433685      | 0.438220        |</pre>"
      ],
      "text/plain": [
       "| 330       | 17925.260176 | 0.433685      | 0.438220        |"
      ]
     },
     "metadata": {},
     "output_type": "display_data"
    },
    {
     "data": {
      "text/html": [
       "<pre>| 331       | 17977.427726 | 0.433659      | 0.438211        |</pre>"
      ],
      "text/plain": [
       "| 331       | 17977.427726 | 0.433659      | 0.438211        |"
      ]
     },
     "metadata": {},
     "output_type": "display_data"
    },
    {
     "data": {
      "text/html": [
       "<pre>| 332       | 18032.782382 | 0.433635      | 0.438211        |</pre>"
      ],
      "text/plain": [
       "| 332       | 18032.782382 | 0.433635      | 0.438211        |"
      ]
     },
     "metadata": {},
     "output_type": "display_data"
    },
    {
     "data": {
      "text/html": [
       "<pre>| 333       | 18086.384822 | 0.433607      | 0.438215        |</pre>"
      ],
      "text/plain": [
       "| 333       | 18086.384822 | 0.433607      | 0.438215        |"
      ]
     },
     "metadata": {},
     "output_type": "display_data"
    },
    {
     "data": {
      "text/html": [
       "<pre>| 334       | 18139.396207 | 0.433596      | 0.438225        |</pre>"
      ],
      "text/plain": [
       "| 334       | 18139.396207 | 0.433596      | 0.438225        |"
      ]
     },
     "metadata": {},
     "output_type": "display_data"
    },
    {
     "data": {
      "text/html": [
       "<pre>| 335       | 18196.348113 | 0.433556      | 0.438220        |</pre>"
      ],
      "text/plain": [
       "| 335       | 18196.348113 | 0.433556      | 0.438220        |"
      ]
     },
     "metadata": {},
     "output_type": "display_data"
    },
    {
     "data": {
      "text/html": [
       "<pre>| 336       | 18250.950580 | 0.433536      | 0.438202        |</pre>"
      ],
      "text/plain": [
       "| 336       | 18250.950580 | 0.433536      | 0.438202        |"
      ]
     },
     "metadata": {},
     "output_type": "display_data"
    },
    {
     "data": {
      "text/html": [
       "<pre>| 337       | 18306.689859 | 0.433505      | 0.438182        |</pre>"
      ],
      "text/plain": [
       "| 337       | 18306.689859 | 0.433505      | 0.438182        |"
      ]
     },
     "metadata": {},
     "output_type": "display_data"
    },
    {
     "data": {
      "text/html": [
       "<pre>| 338       | 18362.261530 | 0.433477      | 0.438082        |</pre>"
      ],
      "text/plain": [
       "| 338       | 18362.261530 | 0.433477      | 0.438082        |"
      ]
     },
     "metadata": {},
     "output_type": "display_data"
    },
    {
     "data": {
      "text/html": [
       "<pre>| 339       | 18417.585532 | 0.433444      | 0.438068        |</pre>"
      ],
      "text/plain": [
       "| 339       | 18417.585532 | 0.433444      | 0.438068        |"
      ]
     },
     "metadata": {},
     "output_type": "display_data"
    },
    {
     "data": {
      "text/html": [
       "<pre>| 340       | 18472.424295 | 0.433417      | 0.438049        |</pre>"
      ],
      "text/plain": [
       "| 340       | 18472.424295 | 0.433417      | 0.438049        |"
      ]
     },
     "metadata": {},
     "output_type": "display_data"
    },
    {
     "data": {
      "text/html": [
       "<pre>| 341       | 18527.814051 | 0.433389      | 0.438015        |</pre>"
      ],
      "text/plain": [
       "| 341       | 18527.814051 | 0.433389      | 0.438015        |"
      ]
     },
     "metadata": {},
     "output_type": "display_data"
    },
    {
     "data": {
      "text/html": [
       "<pre>| 342       | 18583.993231 | 0.433377      | 0.438004        |</pre>"
      ],
      "text/plain": [
       "| 342       | 18583.993231 | 0.433377      | 0.438004        |"
      ]
     },
     "metadata": {},
     "output_type": "display_data"
    },
    {
     "data": {
      "text/html": [
       "<pre>| 343       | 18638.430923 | 0.433346      | 0.437977        |</pre>"
      ],
      "text/plain": [
       "| 343       | 18638.430923 | 0.433346      | 0.437977        |"
      ]
     },
     "metadata": {},
     "output_type": "display_data"
    },
    {
     "data": {
      "text/html": [
       "<pre>| 344       | 18695.338447 | 0.433313      | 0.437983        |</pre>"
      ],
      "text/plain": [
       "| 344       | 18695.338447 | 0.433313      | 0.437983        |"
      ]
     },
     "metadata": {},
     "output_type": "display_data"
    },
    {
     "data": {
      "text/html": [
       "<pre>| 345       | 18753.930002 | 0.433279      | 0.437960        |</pre>"
      ],
      "text/plain": [
       "| 345       | 18753.930002 | 0.433279      | 0.437960        |"
      ]
     },
     "metadata": {},
     "output_type": "display_data"
    },
    {
     "data": {
      "text/html": [
       "<pre>| 346       | 18812.147928 | 0.433256      | 0.437948        |</pre>"
      ],
      "text/plain": [
       "| 346       | 18812.147928 | 0.433256      | 0.437948        |"
      ]
     },
     "metadata": {},
     "output_type": "display_data"
    },
    {
     "data": {
      "text/html": [
       "<pre>| 347       | 18868.082707 | 0.433222      | 0.437892        |</pre>"
      ],
      "text/plain": [
       "| 347       | 18868.082707 | 0.433222      | 0.437892        |"
      ]
     },
     "metadata": {},
     "output_type": "display_data"
    },
    {
     "data": {
      "text/html": [
       "<pre>| 348       | 18923.951270 | 0.433189      | 0.437878        |</pre>"
      ],
      "text/plain": [
       "| 348       | 18923.951270 | 0.433189      | 0.437878        |"
      ]
     },
     "metadata": {},
     "output_type": "display_data"
    },
    {
     "data": {
      "text/html": [
       "<pre>| 349       | 18979.470575 | 0.433164      | 0.437841        |</pre>"
      ],
      "text/plain": [
       "| 349       | 18979.470575 | 0.433164      | 0.437841        |"
      ]
     },
     "metadata": {},
     "output_type": "display_data"
    },
    {
     "data": {
      "text/html": [
       "<pre>| 350       | 19033.857469 | 0.433143      | 0.437819        |</pre>"
      ],
      "text/plain": [
       "| 350       | 19033.857469 | 0.433143      | 0.437819        |"
      ]
     },
     "metadata": {},
     "output_type": "display_data"
    },
    {
     "data": {
      "text/html": [
       "<pre>| 351       | 19089.273893 | 0.433106      | 0.437805        |</pre>"
      ],
      "text/plain": [
       "| 351       | 19089.273893 | 0.433106      | 0.437805        |"
      ]
     },
     "metadata": {},
     "output_type": "display_data"
    },
    {
     "data": {
      "text/html": [
       "<pre>| 352       | 19139.845234 | 0.433078      | 0.437764        |</pre>"
      ],
      "text/plain": [
       "| 352       | 19139.845234 | 0.433078      | 0.437764        |"
      ]
     },
     "metadata": {},
     "output_type": "display_data"
    },
    {
     "data": {
      "text/html": [
       "<pre>| 353       | 19195.447112 | 0.433042      | 0.437763        |</pre>"
      ],
      "text/plain": [
       "| 353       | 19195.447112 | 0.433042      | 0.437763        |"
      ]
     },
     "metadata": {},
     "output_type": "display_data"
    },
    {
     "data": {
      "text/html": [
       "<pre>| 354       | 19250.959176 | 0.433029      | 0.437740        |</pre>"
      ],
      "text/plain": [
       "| 354       | 19250.959176 | 0.433029      | 0.437740        |"
      ]
     },
     "metadata": {},
     "output_type": "display_data"
    },
    {
     "data": {
      "text/html": [
       "<pre>| 355       | 19306.570215 | 0.433000      | 0.437727        |</pre>"
      ],
      "text/plain": [
       "| 355       | 19306.570215 | 0.433000      | 0.437727        |"
      ]
     },
     "metadata": {},
     "output_type": "display_data"
    },
    {
     "data": {
      "text/html": [
       "<pre>| 356       | 19362.749465 | 0.432963      | 0.437719        |</pre>"
      ],
      "text/plain": [
       "| 356       | 19362.749465 | 0.432963      | 0.437719        |"
      ]
     },
     "metadata": {},
     "output_type": "display_data"
    },
    {
     "data": {
      "text/html": [
       "<pre>| 357       | 19417.503405 | 0.432940      | 0.437744        |</pre>"
      ],
      "text/plain": [
       "| 357       | 19417.503405 | 0.432940      | 0.437744        |"
      ]
     },
     "metadata": {},
     "output_type": "display_data"
    },
    {
     "data": {
      "text/html": [
       "<pre>| 358       | 19472.223786 | 0.432914      | 0.437749        |</pre>"
      ],
      "text/plain": [
       "| 358       | 19472.223786 | 0.432914      | 0.437749        |"
      ]
     },
     "metadata": {},
     "output_type": "display_data"
    },
    {
     "data": {
      "text/html": [
       "<pre>| 359       | 19526.001599 | 0.432901      | 0.437738        |</pre>"
      ],
      "text/plain": [
       "| 359       | 19526.001599 | 0.432901      | 0.437738        |"
      ]
     },
     "metadata": {},
     "output_type": "display_data"
    },
    {
     "data": {
      "text/html": [
       "<pre>| 360       | 19579.658810 | 0.432871      | 0.437721        |</pre>"
      ],
      "text/plain": [
       "| 360       | 19579.658810 | 0.432871      | 0.437721        |"
      ]
     },
     "metadata": {},
     "output_type": "display_data"
    },
    {
     "data": {
      "text/html": [
       "<pre>| 361       | 19634.610998 | 0.432840      | 0.437702        |</pre>"
      ],
      "text/plain": [
       "| 361       | 19634.610998 | 0.432840      | 0.437702        |"
      ]
     },
     "metadata": {},
     "output_type": "display_data"
    },
    {
     "data": {
      "text/html": [
       "<pre>| 362       | 19687.669754 | 0.432819      | 0.437703        |</pre>"
      ],
      "text/plain": [
       "| 362       | 19687.669754 | 0.432819      | 0.437703        |"
      ]
     },
     "metadata": {},
     "output_type": "display_data"
    },
    {
     "data": {
      "text/html": [
       "<pre>| 363       | 19740.924494 | 0.432793      | 0.437676        |</pre>"
      ],
      "text/plain": [
       "| 363       | 19740.924494 | 0.432793      | 0.437676        |"
      ]
     },
     "metadata": {},
     "output_type": "display_data"
    },
    {
     "data": {
      "text/html": [
       "<pre>| 364       | 19796.041891 | 0.432766      | 0.437675        |</pre>"
      ],
      "text/plain": [
       "| 364       | 19796.041891 | 0.432766      | 0.437675        |"
      ]
     },
     "metadata": {},
     "output_type": "display_data"
    },
    {
     "data": {
      "text/html": [
       "<pre>| 365       | 19850.139283 | 0.432750      | 0.437654        |</pre>"
      ],
      "text/plain": [
       "| 365       | 19850.139283 | 0.432750      | 0.437654        |"
      ]
     },
     "metadata": {},
     "output_type": "display_data"
    },
    {
     "data": {
      "text/html": [
       "<pre>| 366       | 19905.694904 | 0.432732      | 0.437648        |</pre>"
      ],
      "text/plain": [
       "| 366       | 19905.694904 | 0.432732      | 0.437648        |"
      ]
     },
     "metadata": {},
     "output_type": "display_data"
    },
    {
     "data": {
      "text/html": [
       "<pre>| 367       | 19959.713716 | 0.432697      | 0.437639        |</pre>"
      ],
      "text/plain": [
       "| 367       | 19959.713716 | 0.432697      | 0.437639        |"
      ]
     },
     "metadata": {},
     "output_type": "display_data"
    },
    {
     "data": {
      "text/html": [
       "<pre>| 368       | 20013.615199 | 0.432687      | 0.437643        |</pre>"
      ],
      "text/plain": [
       "| 368       | 20013.615199 | 0.432687      | 0.437643        |"
      ]
     },
     "metadata": {},
     "output_type": "display_data"
    },
    {
     "data": {
      "text/html": [
       "<pre>| 369       | 20068.851531 | 0.432660      | 0.437669        |</pre>"
      ],
      "text/plain": [
       "| 369       | 20068.851531 | 0.432660      | 0.437669        |"
      ]
     },
     "metadata": {},
     "output_type": "display_data"
    },
    {
     "data": {
      "text/html": [
       "<pre>| 370       | 20123.471453 | 0.432639      | 0.437692        |</pre>"
      ],
      "text/plain": [
       "| 370       | 20123.471453 | 0.432639      | 0.437692        |"
      ]
     },
     "metadata": {},
     "output_type": "display_data"
    },
    {
     "data": {
      "text/html": [
       "<pre>| 371       | 20179.806321 | 0.432601      | 0.437629        |</pre>"
      ],
      "text/plain": [
       "| 371       | 20179.806321 | 0.432601      | 0.437629        |"
      ]
     },
     "metadata": {},
     "output_type": "display_data"
    },
    {
     "data": {
      "text/html": [
       "<pre>| 372       | 20232.414207 | 0.432576      | 0.437627        |</pre>"
      ],
      "text/plain": [
       "| 372       | 20232.414207 | 0.432576      | 0.437627        |"
      ]
     },
     "metadata": {},
     "output_type": "display_data"
    },
    {
     "data": {
      "text/html": [
       "<pre>| 373       | 20284.765985 | 0.432566      | 0.437622        |</pre>"
      ],
      "text/plain": [
       "| 373       | 20284.765985 | 0.432566      | 0.437622        |"
      ]
     },
     "metadata": {},
     "output_type": "display_data"
    },
    {
     "data": {
      "text/html": [
       "<pre>| 374       | 20341.755400 | 0.432533      | 0.437617        |</pre>"
      ],
      "text/plain": [
       "| 374       | 20341.755400 | 0.432533      | 0.437617        |"
      ]
     },
     "metadata": {},
     "output_type": "display_data"
    },
    {
     "data": {
      "text/html": [
       "<pre>| 375       | 20398.817335 | 0.432516      | 0.437606        |</pre>"
      ],
      "text/plain": [
       "| 375       | 20398.817335 | 0.432516      | 0.437606        |"
      ]
     },
     "metadata": {},
     "output_type": "display_data"
    },
    {
     "data": {
      "text/html": [
       "<pre>| 376       | 20453.856482 | 0.432471      | 0.437606        |</pre>"
      ],
      "text/plain": [
       "| 376       | 20453.856482 | 0.432471      | 0.437606        |"
      ]
     },
     "metadata": {},
     "output_type": "display_data"
    },
    {
     "data": {
      "text/html": [
       "<pre>| 377       | 20506.343281 | 0.432457      | 0.437596        |</pre>"
      ],
      "text/plain": [
       "| 377       | 20506.343281 | 0.432457      | 0.437596        |"
      ]
     },
     "metadata": {},
     "output_type": "display_data"
    },
    {
     "data": {
      "text/html": [
       "<pre>| 378       | 20562.283703 | 0.432435      | 0.437583        |</pre>"
      ],
      "text/plain": [
       "| 378       | 20562.283703 | 0.432435      | 0.437583        |"
      ]
     },
     "metadata": {},
     "output_type": "display_data"
    },
    {
     "data": {
      "text/html": [
       "<pre>| 379       | 20619.417135 | 0.432403      | 0.437579        |</pre>"
      ],
      "text/plain": [
       "| 379       | 20619.417135 | 0.432403      | 0.437579        |"
      ]
     },
     "metadata": {},
     "output_type": "display_data"
    },
    {
     "data": {
      "text/html": [
       "<pre>| 380       | 20675.784682 | 0.432388      | 0.437574        |</pre>"
      ],
      "text/plain": [
       "| 380       | 20675.784682 | 0.432388      | 0.437574        |"
      ]
     },
     "metadata": {},
     "output_type": "display_data"
    },
    {
     "data": {
      "text/html": [
       "<pre>| 381       | 20733.964057 | 0.432361      | 0.437548        |</pre>"
      ],
      "text/plain": [
       "| 381       | 20733.964057 | 0.432361      | 0.437548        |"
      ]
     },
     "metadata": {},
     "output_type": "display_data"
    },
    {
     "data": {
      "text/html": [
       "<pre>| 382       | 20788.104253 | 0.432333      | 0.437507        |</pre>"
      ],
      "text/plain": [
       "| 382       | 20788.104253 | 0.432333      | 0.437507        |"
      ]
     },
     "metadata": {},
     "output_type": "display_data"
    },
    {
     "data": {
      "text/html": [
       "<pre>| 383       | 20843.055563 | 0.432314      | 0.437494        |</pre>"
      ],
      "text/plain": [
       "| 383       | 20843.055563 | 0.432314      | 0.437494        |"
      ]
     },
     "metadata": {},
     "output_type": "display_data"
    },
    {
     "data": {
      "text/html": [
       "<pre>| 384       | 20894.652795 | 0.432291      | 0.437454        |</pre>"
      ],
      "text/plain": [
       "| 384       | 20894.652795 | 0.432291      | 0.437454        |"
      ]
     },
     "metadata": {},
     "output_type": "display_data"
    },
    {
     "data": {
      "text/html": [
       "<pre>| 385       | 20951.435018 | 0.432255      | 0.437424        |</pre>"
      ],
      "text/plain": [
       "| 385       | 20951.435018 | 0.432255      | 0.437424        |"
      ]
     },
     "metadata": {},
     "output_type": "display_data"
    },
    {
     "data": {
      "text/html": [
       "<pre>| 386       | 21006.842517 | 0.432233      | 0.437405        |</pre>"
      ],
      "text/plain": [
       "| 386       | 21006.842517 | 0.432233      | 0.437405        |"
      ]
     },
     "metadata": {},
     "output_type": "display_data"
    },
    {
     "data": {
      "text/html": [
       "<pre>| 387       | 21060.639877 | 0.432198      | 0.437411        |</pre>"
      ],
      "text/plain": [
       "| 387       | 21060.639877 | 0.432198      | 0.437411        |"
      ]
     },
     "metadata": {},
     "output_type": "display_data"
    },
    {
     "data": {
      "text/html": [
       "<pre>| 388       | 21116.493103 | 0.432179      | 0.437412        |</pre>"
      ],
      "text/plain": [
       "| 388       | 21116.493103 | 0.432179      | 0.437412        |"
      ]
     },
     "metadata": {},
     "output_type": "display_data"
    },
    {
     "data": {
      "text/html": [
       "<pre>| 389       | 21188.895261 | 0.432169      | 0.437415        |</pre>"
      ],
      "text/plain": [
       "| 389       | 21188.895261 | 0.432169      | 0.437415        |"
      ]
     },
     "metadata": {},
     "output_type": "display_data"
    },
    {
     "data": {
      "text/html": [
       "<pre>| 390       | 21242.416149 | 0.432154      | 0.437416        |</pre>"
      ],
      "text/plain": [
       "| 390       | 21242.416149 | 0.432154      | 0.437416        |"
      ]
     },
     "metadata": {},
     "output_type": "display_data"
    },
    {
     "data": {
      "text/html": [
       "<pre>| 391       | 21296.570023 | 0.432131      | 0.437400        |</pre>"
      ],
      "text/plain": [
       "| 391       | 21296.570023 | 0.432131      | 0.437400        |"
      ]
     },
     "metadata": {},
     "output_type": "display_data"
    },
    {
     "data": {
      "text/html": [
       "<pre>| 392       | 21352.100483 | 0.432106      | 0.437408        |</pre>"
      ],
      "text/plain": [
       "| 392       | 21352.100483 | 0.432106      | 0.437408        |"
      ]
     },
     "metadata": {},
     "output_type": "display_data"
    },
    {
     "data": {
      "text/html": [
       "<pre>| 393       | 21404.882400 | 0.432099      | 0.437411        |</pre>"
      ],
      "text/plain": [
       "| 393       | 21404.882400 | 0.432099      | 0.437411        |"
      ]
     },
     "metadata": {},
     "output_type": "display_data"
    },
    {
     "data": {
      "text/html": [
       "<pre>| 394       | 21458.170356 | 0.432079      | 0.437406        |</pre>"
      ],
      "text/plain": [
       "| 394       | 21458.170356 | 0.432079      | 0.437406        |"
      ]
     },
     "metadata": {},
     "output_type": "display_data"
    },
    {
     "data": {
      "text/html": [
       "<pre>| 395       | 21516.072864 | 0.432040      | 0.437404        |</pre>"
      ],
      "text/plain": [
       "| 395       | 21516.072864 | 0.432040      | 0.437404        |"
      ]
     },
     "metadata": {},
     "output_type": "display_data"
    },
    {
     "data": {
      "text/html": [
       "<pre>| 396       | 21570.913413 | 0.432023      | 0.437402        |</pre>"
      ],
      "text/plain": [
       "| 396       | 21570.913413 | 0.432023      | 0.437402        |"
      ]
     },
     "metadata": {},
     "output_type": "display_data"
    },
    {
     "data": {
      "text/html": [
       "<pre>| 397       | 21627.800766 | 0.432012      | 0.437404        |</pre>"
      ],
      "text/plain": [
       "| 397       | 21627.800766 | 0.432012      | 0.437404        |"
      ]
     },
     "metadata": {},
     "output_type": "display_data"
    },
    {
     "data": {
      "text/html": [
       "<pre>| 398       | 21682.491865 | 0.431992      | 0.437421        |</pre>"
      ],
      "text/plain": [
       "| 398       | 21682.491865 | 0.431992      | 0.437421        |"
      ]
     },
     "metadata": {},
     "output_type": "display_data"
    },
    {
     "data": {
      "text/html": [
       "<pre>| 399       | 21738.156742 | 0.431967      | 0.437423        |</pre>"
      ],
      "text/plain": [
       "| 399       | 21738.156742 | 0.431967      | 0.437423        |"
      ]
     },
     "metadata": {},
     "output_type": "display_data"
    },
    {
     "data": {
      "text/html": [
       "<pre>| 400       | 21796.271034 | 0.431938      | 0.437430        |</pre>"
      ],
      "text/plain": [
       "| 400       | 21796.271034 | 0.431938      | 0.437430        |"
      ]
     },
     "metadata": {},
     "output_type": "display_data"
    },
    {
     "data": {
      "text/html": [
       "<pre>| 401       | 21856.253471 | 0.431912      | 0.437405        |</pre>"
      ],
      "text/plain": [
       "| 401       | 21856.253471 | 0.431912      | 0.437405        |"
      ]
     },
     "metadata": {},
     "output_type": "display_data"
    },
    {
     "data": {
      "text/html": [
       "<pre>| 402       | 21908.374207 | 0.431890      | 0.437414        |</pre>"
      ],
      "text/plain": [
       "| 402       | 21908.374207 | 0.431890      | 0.437414        |"
      ]
     },
     "metadata": {},
     "output_type": "display_data"
    },
    {
     "data": {
      "text/html": [
       "<pre>| 403       | 21962.524168 | 0.431876      | 0.437410        |</pre>"
      ],
      "text/plain": [
       "| 403       | 21962.524168 | 0.431876      | 0.437410        |"
      ]
     },
     "metadata": {},
     "output_type": "display_data"
    },
    {
     "data": {
      "text/html": [
       "<pre>| 404       | 22018.248788 | 0.431856      | 0.437407        |</pre>"
      ],
      "text/plain": [
       "| 404       | 22018.248788 | 0.431856      | 0.437407        |"
      ]
     },
     "metadata": {},
     "output_type": "display_data"
    },
    {
     "data": {
      "text/html": [
       "<pre>| 405       | 22070.987520 | 0.431833      | 0.437390        |</pre>"
      ],
      "text/plain": [
       "| 405       | 22070.987520 | 0.431833      | 0.437390        |"
      ]
     },
     "metadata": {},
     "output_type": "display_data"
    },
    {
     "data": {
      "text/html": [
       "<pre>| 406       | 22128.301746 | 0.431804      | 0.437366        |</pre>"
      ],
      "text/plain": [
       "| 406       | 22128.301746 | 0.431804      | 0.437366        |"
      ]
     },
     "metadata": {},
     "output_type": "display_data"
    },
    {
     "data": {
      "text/html": [
       "<pre>| 407       | 22185.931374 | 0.431757      | 0.437321        |</pre>"
      ],
      "text/plain": [
       "| 407       | 22185.931374 | 0.431757      | 0.437321        |"
      ]
     },
     "metadata": {},
     "output_type": "display_data"
    },
    {
     "data": {
      "text/html": [
       "<pre>| 408       | 22241.754343 | 0.431745      | 0.437327        |</pre>"
      ],
      "text/plain": [
       "| 408       | 22241.754343 | 0.431745      | 0.437327        |"
      ]
     },
     "metadata": {},
     "output_type": "display_data"
    },
    {
     "data": {
      "text/html": [
       "<pre>| 409       | 22300.670961 | 0.431706      | 0.437246        |</pre>"
      ],
      "text/plain": [
       "| 409       | 22300.670961 | 0.431706      | 0.437246        |"
      ]
     },
     "metadata": {},
     "output_type": "display_data"
    },
    {
     "data": {
      "text/html": [
       "<pre>| 410       | 22353.561813 | 0.431696      | 0.437243        |</pre>"
      ],
      "text/plain": [
       "| 410       | 22353.561813 | 0.431696      | 0.437243        |"
      ]
     },
     "metadata": {},
     "output_type": "display_data"
    },
    {
     "data": {
      "text/html": [
       "<pre>| 411       | 22413.520151 | 0.431653      | 0.437225        |</pre>"
      ],
      "text/plain": [
       "| 411       | 22413.520151 | 0.431653      | 0.437225        |"
      ]
     },
     "metadata": {},
     "output_type": "display_data"
    },
    {
     "data": {
      "text/html": [
       "<pre>| 412       | 22469.632403 | 0.431635      | 0.437197        |</pre>"
      ],
      "text/plain": [
       "| 412       | 22469.632403 | 0.431635      | 0.437197        |"
      ]
     },
     "metadata": {},
     "output_type": "display_data"
    },
    {
     "data": {
      "text/html": [
       "<pre>| 413       | 22524.027393 | 0.431617      | 0.437204        |</pre>"
      ],
      "text/plain": [
       "| 413       | 22524.027393 | 0.431617      | 0.437204        |"
      ]
     },
     "metadata": {},
     "output_type": "display_data"
    },
    {
     "data": {
      "text/html": [
       "<pre>| 414       | 22574.746662 | 0.431598      | 0.437218        |</pre>"
      ],
      "text/plain": [
       "| 414       | 22574.746662 | 0.431598      | 0.437218        |"
      ]
     },
     "metadata": {},
     "output_type": "display_data"
    },
    {
     "data": {
      "text/html": [
       "<pre>| 415       | 22631.707868 | 0.431575      | 0.437220        |</pre>"
      ],
      "text/plain": [
       "| 415       | 22631.707868 | 0.431575      | 0.437220        |"
      ]
     },
     "metadata": {},
     "output_type": "display_data"
    },
    {
     "data": {
      "text/html": [
       "<pre>| 416       | 22685.670215 | 0.431546      | 0.437178        |</pre>"
      ],
      "text/plain": [
       "| 416       | 22685.670215 | 0.431546      | 0.437178        |"
      ]
     },
     "metadata": {},
     "output_type": "display_data"
    },
    {
     "data": {
      "text/html": [
       "<pre>| 417       | 22740.861977 | 0.431527      | 0.437166        |</pre>"
      ],
      "text/plain": [
       "| 417       | 22740.861977 | 0.431527      | 0.437166        |"
      ]
     },
     "metadata": {},
     "output_type": "display_data"
    },
    {
     "data": {
      "text/html": [
       "<pre>| 418       | 22795.702545 | 0.431501      | 0.437160        |</pre>"
      ],
      "text/plain": [
       "| 418       | 22795.702545 | 0.431501      | 0.437160        |"
      ]
     },
     "metadata": {},
     "output_type": "display_data"
    },
    {
     "data": {
      "text/html": [
       "<pre>| 419       | 22849.580562 | 0.431484      | 0.437148        |</pre>"
      ],
      "text/plain": [
       "| 419       | 22849.580562 | 0.431484      | 0.437148        |"
      ]
     },
     "metadata": {},
     "output_type": "display_data"
    },
    {
     "data": {
      "text/html": [
       "<pre>| 420       | 22907.321982 | 0.431451      | 0.437140        |</pre>"
      ],
      "text/plain": [
       "| 420       | 22907.321982 | 0.431451      | 0.437140        |"
      ]
     },
     "metadata": {},
     "output_type": "display_data"
    },
    {
     "data": {
      "text/html": [
       "<pre>| 421       | 22960.153320 | 0.431428      | 0.437162        |</pre>"
      ],
      "text/plain": [
       "| 421       | 22960.153320 | 0.431428      | 0.437162        |"
      ]
     },
     "metadata": {},
     "output_type": "display_data"
    },
    {
     "data": {
      "text/html": [
       "<pre>| 422       | 23013.720896 | 0.431400      | 0.437150        |</pre>"
      ],
      "text/plain": [
       "| 422       | 23013.720896 | 0.431400      | 0.437150        |"
      ]
     },
     "metadata": {},
     "output_type": "display_data"
    },
    {
     "data": {
      "text/html": [
       "<pre>| 423       | 23071.862037 | 0.431352      | 0.437094        |</pre>"
      ],
      "text/plain": [
       "| 423       | 23071.862037 | 0.431352      | 0.437094        |"
      ]
     },
     "metadata": {},
     "output_type": "display_data"
    },
    {
     "data": {
      "text/html": [
       "<pre>| 424       | 23125.371063 | 0.431347      | 0.437100        |</pre>"
      ],
      "text/plain": [
       "| 424       | 23125.371063 | 0.431347      | 0.437100        |"
      ]
     },
     "metadata": {},
     "output_type": "display_data"
    },
    {
     "data": {
      "text/html": [
       "<pre>| 425       | 23179.596084 | 0.431342      | 0.437099        |</pre>"
      ],
      "text/plain": [
       "| 425       | 23179.596084 | 0.431342      | 0.437099        |"
      ]
     },
     "metadata": {},
     "output_type": "display_data"
    },
    {
     "data": {
      "text/html": [
       "<pre>| 426       | 23233.728799 | 0.431316      | 0.437130        |</pre>"
      ],
      "text/plain": [
       "| 426       | 23233.728799 | 0.431316      | 0.437130        |"
      ]
     },
     "metadata": {},
     "output_type": "display_data"
    },
    {
     "data": {
      "text/html": [
       "<pre>| 427       | 23289.235436 | 0.431298      | 0.437118        |</pre>"
      ],
      "text/plain": [
       "| 427       | 23289.235436 | 0.431298      | 0.437118        |"
      ]
     },
     "metadata": {},
     "output_type": "display_data"
    },
    {
     "data": {
      "text/html": [
       "<pre>| 428       | 23343.662527 | 0.431269      | 0.437097        |</pre>"
      ],
      "text/plain": [
       "| 428       | 23343.662527 | 0.431269      | 0.437097        |"
      ]
     },
     "metadata": {},
     "output_type": "display_data"
    },
    {
     "data": {
      "text/html": [
       "<pre>| 429       | 23399.890644 | 0.431248      | 0.437099        |</pre>"
      ],
      "text/plain": [
       "| 429       | 23399.890644 | 0.431248      | 0.437099        |"
      ]
     },
     "metadata": {},
     "output_type": "display_data"
    },
    {
     "data": {
      "text/html": [
       "<pre>| 430       | 23455.302853 | 0.431220      | 0.437078        |</pre>"
      ],
      "text/plain": [
       "| 430       | 23455.302853 | 0.431220      | 0.437078        |"
      ]
     },
     "metadata": {},
     "output_type": "display_data"
    },
    {
     "data": {
      "text/html": [
       "<pre>| 431       | 23508.594206 | 0.431209      | 0.437074        |</pre>"
      ],
      "text/plain": [
       "| 431       | 23508.594206 | 0.431209      | 0.437074        |"
      ]
     },
     "metadata": {},
     "output_type": "display_data"
    },
    {
     "data": {
      "text/html": [
       "<pre>| 432       | 23567.785216 | 0.431197      | 0.437015        |</pre>"
      ],
      "text/plain": [
       "| 432       | 23567.785216 | 0.431197      | 0.437015        |"
      ]
     },
     "metadata": {},
     "output_type": "display_data"
    },
    {
     "data": {
      "text/html": [
       "<pre>| 433       | 23623.470230 | 0.431167      | 0.437008        |</pre>"
      ],
      "text/plain": [
       "| 433       | 23623.470230 | 0.431167      | 0.437008        |"
      ]
     },
     "metadata": {},
     "output_type": "display_data"
    },
    {
     "data": {
      "text/html": [
       "<pre>| 434       | 23677.409511 | 0.431139      | 0.437010        |</pre>"
      ],
      "text/plain": [
       "| 434       | 23677.409511 | 0.431139      | 0.437010        |"
      ]
     },
     "metadata": {},
     "output_type": "display_data"
    },
    {
     "data": {
      "text/html": [
       "<pre>| 435       | 23732.830451 | 0.431112      | 0.436999        |</pre>"
      ],
      "text/plain": [
       "| 435       | 23732.830451 | 0.431112      | 0.436999        |"
      ]
     },
     "metadata": {},
     "output_type": "display_data"
    },
    {
     "data": {
      "text/html": [
       "<pre>| 436       | 23787.908296 | 0.431075      | 0.436984        |</pre>"
      ],
      "text/plain": [
       "| 436       | 23787.908296 | 0.431075      | 0.436984        |"
      ]
     },
     "metadata": {},
     "output_type": "display_data"
    },
    {
     "data": {
      "text/html": [
       "<pre>| 437       | 23843.068254 | 0.431053      | 0.436978        |</pre>"
      ],
      "text/plain": [
       "| 437       | 23843.068254 | 0.431053      | 0.436978        |"
      ]
     },
     "metadata": {},
     "output_type": "display_data"
    },
    {
     "data": {
      "text/html": [
       "<pre>| 438       | 23897.141228 | 0.431032      | 0.436956        |</pre>"
      ],
      "text/plain": [
       "| 438       | 23897.141228 | 0.431032      | 0.436956        |"
      ]
     },
     "metadata": {},
     "output_type": "display_data"
    },
    {
     "data": {
      "text/html": [
       "<pre>| 439       | 23953.745604 | 0.431008      | 0.436944        |</pre>"
      ],
      "text/plain": [
       "| 439       | 23953.745604 | 0.431008      | 0.436944        |"
      ]
     },
     "metadata": {},
     "output_type": "display_data"
    },
    {
     "data": {
      "text/html": [
       "<pre>| 440       | 24007.596597 | 0.430997      | 0.436944        |</pre>"
      ],
      "text/plain": [
       "| 440       | 24007.596597 | 0.430997      | 0.436944        |"
      ]
     },
     "metadata": {},
     "output_type": "display_data"
    },
    {
     "data": {
      "text/html": [
       "<pre>| 441       | 24060.800613 | 0.430975      | 0.436942        |</pre>"
      ],
      "text/plain": [
       "| 441       | 24060.800613 | 0.430975      | 0.436942        |"
      ]
     },
     "metadata": {},
     "output_type": "display_data"
    },
    {
     "data": {
      "text/html": [
       "<pre>| 442       | 24114.288222 | 0.430968      | 0.436946        |</pre>"
      ],
      "text/plain": [
       "| 442       | 24114.288222 | 0.430968      | 0.436946        |"
      ]
     },
     "metadata": {},
     "output_type": "display_data"
    },
    {
     "data": {
      "text/html": [
       "<pre>| 443       | 24167.182386 | 0.430957      | 0.436947        |</pre>"
      ],
      "text/plain": [
       "| 443       | 24167.182386 | 0.430957      | 0.436947        |"
      ]
     },
     "metadata": {},
     "output_type": "display_data"
    },
    {
     "data": {
      "text/html": [
       "<pre>| 444       | 24220.851368 | 0.430937      | 0.436935        |</pre>"
      ],
      "text/plain": [
       "| 444       | 24220.851368 | 0.430937      | 0.436935        |"
      ]
     },
     "metadata": {},
     "output_type": "display_data"
    },
    {
     "data": {
      "text/html": [
       "<pre>| 445       | 24275.652891 | 0.430915      | 0.436915        |</pre>"
      ],
      "text/plain": [
       "| 445       | 24275.652891 | 0.430915      | 0.436915        |"
      ]
     },
     "metadata": {},
     "output_type": "display_data"
    },
    {
     "data": {
      "text/html": [
       "<pre>| 446       | 24332.492751 | 0.430879      | 0.436878        |</pre>"
      ],
      "text/plain": [
       "| 446       | 24332.492751 | 0.430879      | 0.436878        |"
      ]
     },
     "metadata": {},
     "output_type": "display_data"
    },
    {
     "data": {
      "text/html": [
       "<pre>| 447       | 24388.539500 | 0.430854      | 0.436846        |</pre>"
      ],
      "text/plain": [
       "| 447       | 24388.539500 | 0.430854      | 0.436846        |"
      ]
     },
     "metadata": {},
     "output_type": "display_data"
    },
    {
     "data": {
      "text/html": [
       "<pre>| 448       | 24444.457517 | 0.430837      | 0.436855        |</pre>"
      ],
      "text/plain": [
       "| 448       | 24444.457517 | 0.430837      | 0.436855        |"
      ]
     },
     "metadata": {},
     "output_type": "display_data"
    },
    {
     "data": {
      "text/html": [
       "<pre>| 449       | 24499.035027 | 0.430797      | 0.436785        |</pre>"
      ],
      "text/plain": [
       "| 449       | 24499.035027 | 0.430797      | 0.436785        |"
      ]
     },
     "metadata": {},
     "output_type": "display_data"
    },
    {
     "data": {
      "text/html": [
       "<pre>| 450       | 24554.691261 | 0.430779      | 0.436794        |</pre>"
      ],
      "text/plain": [
       "| 450       | 24554.691261 | 0.430779      | 0.436794        |"
      ]
     },
     "metadata": {},
     "output_type": "display_data"
    },
    {
     "data": {
      "text/html": [
       "<pre>| 451       | 24607.963820 | 0.430762      | 0.436809        |</pre>"
      ],
      "text/plain": [
       "| 451       | 24607.963820 | 0.430762      | 0.436809        |"
      ]
     },
     "metadata": {},
     "output_type": "display_data"
    },
    {
     "data": {
      "text/html": [
       "<pre>| 452       | 24661.715415 | 0.430723      | 0.436784        |</pre>"
      ],
      "text/plain": [
       "| 452       | 24661.715415 | 0.430723      | 0.436784        |"
      ]
     },
     "metadata": {},
     "output_type": "display_data"
    },
    {
     "data": {
      "text/html": [
       "<pre>| 453       | 24718.675059 | 0.430692      | 0.436764        |</pre>"
      ],
      "text/plain": [
       "| 453       | 24718.675059 | 0.430692      | 0.436764        |"
      ]
     },
     "metadata": {},
     "output_type": "display_data"
    },
    {
     "data": {
      "text/html": [
       "<pre>| 454       | 24797.296898 | 0.430678      | 0.436764        |</pre>"
      ],
      "text/plain": [
       "| 454       | 24797.296898 | 0.430678      | 0.436764        |"
      ]
     },
     "metadata": {},
     "output_type": "display_data"
    },
    {
     "data": {
      "text/html": [
       "<pre>| 455       | 24849.414235 | 0.430656      | 0.436749        |</pre>"
      ],
      "text/plain": [
       "| 455       | 24849.414235 | 0.430656      | 0.436749        |"
      ]
     },
     "metadata": {},
     "output_type": "display_data"
    },
    {
     "data": {
      "text/html": [
       "<pre>| 456       | 24901.905907 | 0.430647      | 0.436754        |</pre>"
      ],
      "text/plain": [
       "| 456       | 24901.905907 | 0.430647      | 0.436754        |"
      ]
     },
     "metadata": {},
     "output_type": "display_data"
    },
    {
     "data": {
      "text/html": [
       "<pre>| 457       | 24956.619699 | 0.430620      | 0.436738        |</pre>"
      ],
      "text/plain": [
       "| 457       | 24956.619699 | 0.430620      | 0.436738        |"
      ]
     },
     "metadata": {},
     "output_type": "display_data"
    },
    {
     "data": {
      "text/html": [
       "<pre>| 458       | 25008.776864 | 0.430596      | 0.436728        |</pre>"
      ],
      "text/plain": [
       "| 458       | 25008.776864 | 0.430596      | 0.436728        |"
      ]
     },
     "metadata": {},
     "output_type": "display_data"
    },
    {
     "data": {
      "text/html": [
       "<pre>| 459       | 25064.043004 | 0.430586      | 0.436725        |</pre>"
      ],
      "text/plain": [
       "| 459       | 25064.043004 | 0.430586      | 0.436725        |"
      ]
     },
     "metadata": {},
     "output_type": "display_data"
    },
    {
     "data": {
      "text/html": [
       "<pre>| 460       | 25117.966380 | 0.430570      | 0.436717        |</pre>"
      ],
      "text/plain": [
       "| 460       | 25117.966380 | 0.430570      | 0.436717        |"
      ]
     },
     "metadata": {},
     "output_type": "display_data"
    },
    {
     "data": {
      "text/html": [
       "<pre>| 461       | 25170.085357 | 0.430551      | 0.436701        |</pre>"
      ],
      "text/plain": [
       "| 461       | 25170.085357 | 0.430551      | 0.436701        |"
      ]
     },
     "metadata": {},
     "output_type": "display_data"
    },
    {
     "data": {
      "text/html": [
       "<pre>| 462       | 25228.385403 | 0.430523      | 0.436673        |</pre>"
      ],
      "text/plain": [
       "| 462       | 25228.385403 | 0.430523      | 0.436673        |"
      ]
     },
     "metadata": {},
     "output_type": "display_data"
    },
    {
     "data": {
      "text/html": [
       "<pre>| 463       | 25284.702394 | 0.430491      | 0.436659        |</pre>"
      ],
      "text/plain": [
       "| 463       | 25284.702394 | 0.430491      | 0.436659        |"
      ]
     },
     "metadata": {},
     "output_type": "display_data"
    },
    {
     "data": {
      "text/html": [
       "<pre>| 464       | 25341.558573 | 0.430469      | 0.436646        |</pre>"
      ],
      "text/plain": [
       "| 464       | 25341.558573 | 0.430469      | 0.436646        |"
      ]
     },
     "metadata": {},
     "output_type": "display_data"
    },
    {
     "data": {
      "text/html": [
       "<pre>| 465       | 25393.628160 | 0.430456      | 0.436625        |</pre>"
      ],
      "text/plain": [
       "| 465       | 25393.628160 | 0.430456      | 0.436625        |"
      ]
     },
     "metadata": {},
     "output_type": "display_data"
    },
    {
     "data": {
      "text/html": [
       "<pre>| 466       | 25445.294839 | 0.430419      | 0.436609        |</pre>"
      ],
      "text/plain": [
       "| 466       | 25445.294839 | 0.430419      | 0.436609        |"
      ]
     },
     "metadata": {},
     "output_type": "display_data"
    },
    {
     "data": {
      "text/html": [
       "<pre>| 467       | 25499.512917 | 0.430409      | 0.436596        |</pre>"
      ],
      "text/plain": [
       "| 467       | 25499.512917 | 0.430409      | 0.436596        |"
      ]
     },
     "metadata": {},
     "output_type": "display_data"
    },
    {
     "data": {
      "text/html": [
       "<pre>| 468       | 25555.410666 | 0.430399      | 0.436594        |</pre>"
      ],
      "text/plain": [
       "| 468       | 25555.410666 | 0.430399      | 0.436594        |"
      ]
     },
     "metadata": {},
     "output_type": "display_data"
    },
    {
     "data": {
      "text/html": [
       "<pre>| 469       | 25610.362911 | 0.430388      | 0.436590        |</pre>"
      ],
      "text/plain": [
       "| 469       | 25610.362911 | 0.430388      | 0.436590        |"
      ]
     },
     "metadata": {},
     "output_type": "display_data"
    },
    {
     "data": {
      "text/html": [
       "<pre>| 470       | 25665.056419 | 0.430367      | 0.436582        |</pre>"
      ],
      "text/plain": [
       "| 470       | 25665.056419 | 0.430367      | 0.436582        |"
      ]
     },
     "metadata": {},
     "output_type": "display_data"
    },
    {
     "data": {
      "text/html": [
       "<pre>| 471       | 25722.318002 | 0.430330      | 0.436575        |</pre>"
      ],
      "text/plain": [
       "| 471       | 25722.318002 | 0.430330      | 0.436575        |"
      ]
     },
     "metadata": {},
     "output_type": "display_data"
    },
    {
     "data": {
      "text/html": [
       "<pre>| 472       | 25774.530349 | 0.430314      | 0.436583        |</pre>"
      ],
      "text/plain": [
       "| 472       | 25774.530349 | 0.430314      | 0.436583        |"
      ]
     },
     "metadata": {},
     "output_type": "display_data"
    },
    {
     "data": {
      "text/html": [
       "<pre>| 473       | 25832.737514 | 0.430292      | 0.436575        |</pre>"
      ],
      "text/plain": [
       "| 473       | 25832.737514 | 0.430292      | 0.436575        |"
      ]
     },
     "metadata": {},
     "output_type": "display_data"
    },
    {
     "data": {
      "text/html": [
       "<pre>| 474       | 25884.774987 | 0.430254      | 0.436576        |</pre>"
      ],
      "text/plain": [
       "| 474       | 25884.774987 | 0.430254      | 0.436576        |"
      ]
     },
     "metadata": {},
     "output_type": "display_data"
    },
    {
     "data": {
      "text/html": [
       "<pre>| 475       | 25938.506709 | 0.430244      | 0.436568        |</pre>"
      ],
      "text/plain": [
       "| 475       | 25938.506709 | 0.430244      | 0.436568        |"
      ]
     },
     "metadata": {},
     "output_type": "display_data"
    },
    {
     "data": {
      "text/html": [
       "<pre>| 476       | 25994.126749 | 0.430225      | 0.436579        |</pre>"
      ],
      "text/plain": [
       "| 476       | 25994.126749 | 0.430225      | 0.436579        |"
      ]
     },
     "metadata": {},
     "output_type": "display_data"
    },
    {
     "data": {
      "text/html": [
       "<pre>| 477       | 26050.332251 | 0.430206      | 0.436573        |</pre>"
      ],
      "text/plain": [
       "| 477       | 26050.332251 | 0.430206      | 0.436573        |"
      ]
     },
     "metadata": {},
     "output_type": "display_data"
    },
    {
     "data": {
      "text/html": [
       "<pre>| 478       | 26104.018268 | 0.430193      | 0.436572        |</pre>"
      ],
      "text/plain": [
       "| 478       | 26104.018268 | 0.430193      | 0.436572        |"
      ]
     },
     "metadata": {},
     "output_type": "display_data"
    },
    {
     "data": {
      "text/html": [
       "<pre>| 479       | 26155.292128 | 0.430166      | 0.436556        |</pre>"
      ],
      "text/plain": [
       "| 479       | 26155.292128 | 0.430166      | 0.436556        |"
      ]
     },
     "metadata": {},
     "output_type": "display_data"
    },
    {
     "data": {
      "text/html": [
       "<pre>| 480       | 26209.931368 | 0.430142      | 0.436540        |</pre>"
      ],
      "text/plain": [
       "| 480       | 26209.931368 | 0.430142      | 0.436540        |"
      ]
     },
     "metadata": {},
     "output_type": "display_data"
    },
    {
     "data": {
      "text/html": [
       "<pre>| 481       | 26267.648263 | 0.430118      | 0.436540        |</pre>"
      ],
      "text/plain": [
       "| 481       | 26267.648263 | 0.430118      | 0.436540        |"
      ]
     },
     "metadata": {},
     "output_type": "display_data"
    },
    {
     "data": {
      "text/html": [
       "<pre>| 482       | 26326.339285 | 0.430079      | 0.436515        |</pre>"
      ],
      "text/plain": [
       "| 482       | 26326.339285 | 0.430079      | 0.436515        |"
      ]
     },
     "metadata": {},
     "output_type": "display_data"
    },
    {
     "data": {
      "text/html": [
       "<pre>| 483       | 26383.151416 | 0.430063      | 0.436506        |</pre>"
      ],
      "text/plain": [
       "| 483       | 26383.151416 | 0.430063      | 0.436506        |"
      ]
     },
     "metadata": {},
     "output_type": "display_data"
    },
    {
     "data": {
      "text/html": [
       "<pre>| 484       | 26439.697994 | 0.430043      | 0.436497        |</pre>"
      ],
      "text/plain": [
       "| 484       | 26439.697994 | 0.430043      | 0.436497        |"
      ]
     },
     "metadata": {},
     "output_type": "display_data"
    },
    {
     "data": {
      "text/html": [
       "<pre>| 485       | 26499.167641 | 0.430019      | 0.436483        |</pre>"
      ],
      "text/plain": [
       "| 485       | 26499.167641 | 0.430019      | 0.436483        |"
      ]
     },
     "metadata": {},
     "output_type": "display_data"
    },
    {
     "data": {
      "text/html": [
       "<pre>| 486       | 26551.999909 | 0.430004      | 0.436516        |</pre>"
      ],
      "text/plain": [
       "| 486       | 26551.999909 | 0.430004      | 0.436516        |"
      ]
     },
     "metadata": {},
     "output_type": "display_data"
    },
    {
     "data": {
      "text/html": [
       "<pre>| 487       | 26606.666631 | 0.429987      | 0.436520        |</pre>"
      ],
      "text/plain": [
       "| 487       | 26606.666631 | 0.429987      | 0.436520        |"
      ]
     },
     "metadata": {},
     "output_type": "display_data"
    },
    {
     "data": {
      "text/html": [
       "<pre>| 488       | 26660.883651 | 0.429980      | 0.436513        |</pre>"
      ],
      "text/plain": [
       "| 488       | 26660.883651 | 0.429980      | 0.436513        |"
      ]
     },
     "metadata": {},
     "output_type": "display_data"
    },
    {
     "data": {
      "text/html": [
       "<pre>| 489       | 26715.257838 | 0.429978      | 0.436512        |</pre>"
      ],
      "text/plain": [
       "| 489       | 26715.257838 | 0.429978      | 0.436512        |"
      ]
     },
     "metadata": {},
     "output_type": "display_data"
    },
    {
     "data": {
      "text/html": [
       "<pre>| 490       | 26770.707322 | 0.429952      | 0.436489        |</pre>"
      ],
      "text/plain": [
       "| 490       | 26770.707322 | 0.429952      | 0.436489        |"
      ]
     },
     "metadata": {},
     "output_type": "display_data"
    },
    {
     "data": {
      "text/html": [
       "<pre>| 491       | 26825.402218 | 0.429934      | 0.436476        |</pre>"
      ],
      "text/plain": [
       "| 491       | 26825.402218 | 0.429934      | 0.436476        |"
      ]
     },
     "metadata": {},
     "output_type": "display_data"
    },
    {
     "data": {
      "text/html": [
       "<pre>| 492       | 26877.888259 | 0.429917      | 0.436486        |</pre>"
      ],
      "text/plain": [
       "| 492       | 26877.888259 | 0.429917      | 0.436486        |"
      ]
     },
     "metadata": {},
     "output_type": "display_data"
    },
    {
     "data": {
      "text/html": [
       "<pre>| 493       | 26931.427504 | 0.429894      | 0.436480        |</pre>"
      ],
      "text/plain": [
       "| 493       | 26931.427504 | 0.429894      | 0.436480        |"
      ]
     },
     "metadata": {},
     "output_type": "display_data"
    },
    {
     "data": {
      "text/html": [
       "<pre>| 494       | 26985.523190 | 0.429875      | 0.436460        |</pre>"
      ],
      "text/plain": [
       "| 494       | 26985.523190 | 0.429875      | 0.436460        |"
      ]
     },
     "metadata": {},
     "output_type": "display_data"
    },
    {
     "data": {
      "text/html": [
       "<pre>| 495       | 27037.843484 | 0.429864      | 0.436464        |</pre>"
      ],
      "text/plain": [
       "| 495       | 27037.843484 | 0.429864      | 0.436464        |"
      ]
     },
     "metadata": {},
     "output_type": "display_data"
    },
    {
     "data": {
      "text/html": [
       "<pre>| 496       | 27094.061927 | 0.429840      | 0.436467        |</pre>"
      ],
      "text/plain": [
       "| 496       | 27094.061927 | 0.429840      | 0.436467        |"
      ]
     },
     "metadata": {},
     "output_type": "display_data"
    },
    {
     "data": {
      "text/html": [
       "<pre>| 497       | 27148.203345 | 0.429820      | 0.436450        |</pre>"
      ],
      "text/plain": [
       "| 497       | 27148.203345 | 0.429820      | 0.436450        |"
      ]
     },
     "metadata": {},
     "output_type": "display_data"
    },
    {
     "data": {
      "text/html": [
       "<pre>| 498       | 27204.094347 | 0.429798      | 0.436478        |</pre>"
      ],
      "text/plain": [
       "| 498       | 27204.094347 | 0.429798      | 0.436478        |"
      ]
     },
     "metadata": {},
     "output_type": "display_data"
    },
    {
     "data": {
      "text/html": [
       "<pre>| 499       | 27257.767192 | 0.429777      | 0.436414        |</pre>"
      ],
      "text/plain": [
       "| 499       | 27257.767192 | 0.429777      | 0.436414        |"
      ]
     },
     "metadata": {},
     "output_type": "display_data"
    },
    {
     "data": {
      "text/html": [
       "<pre>| 500       | 27310.234706 | 0.429753      | 0.436415        |</pre>"
      ],
      "text/plain": [
       "| 500       | 27310.234706 | 0.429753      | 0.436415        |"
      ]
     },
     "metadata": {},
     "output_type": "display_data"
    },
    {
     "data": {
      "text/html": [
       "<pre>| 501       | 27366.710816 | 0.429725      | 0.436417        |</pre>"
      ],
      "text/plain": [
       "| 501       | 27366.710816 | 0.429725      | 0.436417        |"
      ]
     },
     "metadata": {},
     "output_type": "display_data"
    },
    {
     "data": {
      "text/html": [
       "<pre>| 502       | 27420.581907 | 0.429703      | 0.436419        |</pre>"
      ],
      "text/plain": [
       "| 502       | 27420.581907 | 0.429703      | 0.436419        |"
      ]
     },
     "metadata": {},
     "output_type": "display_data"
    },
    {
     "data": {
      "text/html": [
       "<pre>| 503       | 27476.982269 | 0.429678      | 0.436392        |</pre>"
      ],
      "text/plain": [
       "| 503       | 27476.982269 | 0.429678      | 0.436392        |"
      ]
     },
     "metadata": {},
     "output_type": "display_data"
    },
    {
     "data": {
      "text/html": [
       "<pre>| 504       | 27532.774222 | 0.429658      | 0.436391        |</pre>"
      ],
      "text/plain": [
       "| 504       | 27532.774222 | 0.429658      | 0.436391        |"
      ]
     },
     "metadata": {},
     "output_type": "display_data"
    },
    {
     "data": {
      "text/html": [
       "<pre>| 505       | 27587.309632 | 0.429637      | 0.436395        |</pre>"
      ],
      "text/plain": [
       "| 505       | 27587.309632 | 0.429637      | 0.436395        |"
      ]
     },
     "metadata": {},
     "output_type": "display_data"
    },
    {
     "data": {
      "text/html": [
       "<pre>| 506       | 27643.080716 | 0.429605      | 0.436380        |</pre>"
      ],
      "text/plain": [
       "| 506       | 27643.080716 | 0.429605      | 0.436380        |"
      ]
     },
     "metadata": {},
     "output_type": "display_data"
    },
    {
     "data": {
      "text/html": [
       "<pre>| 507       | 27697.646460 | 0.429584      | 0.436371        |</pre>"
      ],
      "text/plain": [
       "| 507       | 27697.646460 | 0.429584      | 0.436371        |"
      ]
     },
     "metadata": {},
     "output_type": "display_data"
    },
    {
     "data": {
      "text/html": [
       "<pre>| 508       | 27750.424066 | 0.429551      | 0.436308        |</pre>"
      ],
      "text/plain": [
       "| 508       | 27750.424066 | 0.429551      | 0.436308        |"
      ]
     },
     "metadata": {},
     "output_type": "display_data"
    },
    {
     "data": {
      "text/html": [
       "<pre>| 509       | 27804.418452 | 0.429535      | 0.436295        |</pre>"
      ],
      "text/plain": [
       "| 509       | 27804.418452 | 0.429535      | 0.436295        |"
      ]
     },
     "metadata": {},
     "output_type": "display_data"
    },
    {
     "data": {
      "text/html": [
       "<pre>| 510       | 27860.682283 | 0.429508      | 0.436292        |</pre>"
      ],
      "text/plain": [
       "| 510       | 27860.682283 | 0.429508      | 0.436292        |"
      ]
     },
     "metadata": {},
     "output_type": "display_data"
    },
    {
     "data": {
      "text/html": [
       "<pre>| 511       | 27914.848693 | 0.429486      | 0.436278        |</pre>"
      ],
      "text/plain": [
       "| 511       | 27914.848693 | 0.429486      | 0.436278        |"
      ]
     },
     "metadata": {},
     "output_type": "display_data"
    },
    {
     "data": {
      "text/html": [
       "<pre>| 512       | 27971.903835 | 0.429453      | 0.436252        |</pre>"
      ],
      "text/plain": [
       "| 512       | 27971.903835 | 0.429453      | 0.436252        |"
      ]
     },
     "metadata": {},
     "output_type": "display_data"
    },
    {
     "data": {
      "text/html": [
       "<pre>| 513       | 28031.435935 | 0.429417      | 0.436222        |</pre>"
      ],
      "text/plain": [
       "| 513       | 28031.435935 | 0.429417      | 0.436222        |"
      ]
     },
     "metadata": {},
     "output_type": "display_data"
    },
    {
     "data": {
      "text/html": [
       "<pre>| 514       | 28085.782929 | 0.429400      | 0.436222        |</pre>"
      ],
      "text/plain": [
       "| 514       | 28085.782929 | 0.429400      | 0.436222        |"
      ]
     },
     "metadata": {},
     "output_type": "display_data"
    },
    {
     "data": {
      "text/html": [
       "<pre>| 515       | 28138.706809 | 0.429390      | 0.436223        |</pre>"
      ],
      "text/plain": [
       "| 515       | 28138.706809 | 0.429390      | 0.436223        |"
      ]
     },
     "metadata": {},
     "output_type": "display_data"
    },
    {
     "data": {
      "text/html": [
       "<pre>| 516       | 28192.718393 | 0.429373      | 0.436209        |</pre>"
      ],
      "text/plain": [
       "| 516       | 28192.718393 | 0.429373      | 0.436209        |"
      ]
     },
     "metadata": {},
     "output_type": "display_data"
    },
    {
     "data": {
      "text/html": [
       "<pre>| 517       | 28248.357116 | 0.429349      | 0.436195        |</pre>"
      ],
      "text/plain": [
       "| 517       | 28248.357116 | 0.429349      | 0.436195        |"
      ]
     },
     "metadata": {},
     "output_type": "display_data"
    },
    {
     "data": {
      "text/html": [
       "<pre>| 518       | 28303.947157 | 0.429333      | 0.436190        |</pre>"
      ],
      "text/plain": [
       "| 518       | 28303.947157 | 0.429333      | 0.436190        |"
      ]
     },
     "metadata": {},
     "output_type": "display_data"
    },
    {
     "data": {
      "text/html": [
       "<pre>| 519       | 28358.428414 | 0.429304      | 0.436170        |</pre>"
      ],
      "text/plain": [
       "| 519       | 28358.428414 | 0.429304      | 0.436170        |"
      ]
     },
     "metadata": {},
     "output_type": "display_data"
    },
    {
     "data": {
      "text/html": [
       "<pre>| 520       | 28420.148866 | 0.429293      | 0.436161        |</pre>"
      ],
      "text/plain": [
       "| 520       | 28420.148866 | 0.429293      | 0.436161        |"
      ]
     },
     "metadata": {},
     "output_type": "display_data"
    },
    {
     "data": {
      "text/html": [
       "<pre>| 521       | 28482.223012 | 0.429258      | 0.436157        |</pre>"
      ],
      "text/plain": [
       "| 521       | 28482.223012 | 0.429258      | 0.436157        |"
      ]
     },
     "metadata": {},
     "output_type": "display_data"
    },
    {
     "data": {
      "text/html": [
       "<pre>| 522       | 28539.335781 | 0.429228      | 0.436147        |</pre>"
      ],
      "text/plain": [
       "| 522       | 28539.335781 | 0.429228      | 0.436147        |"
      ]
     },
     "metadata": {},
     "output_type": "display_data"
    },
    {
     "data": {
      "text/html": [
       "<pre>| 523       | 28596.177582 | 0.429196      | 0.436120        |</pre>"
      ],
      "text/plain": [
       "| 523       | 28596.177582 | 0.429196      | 0.436120        |"
      ]
     },
     "metadata": {},
     "output_type": "display_data"
    },
    {
     "data": {
      "text/html": [
       "<pre>| 524       | 28651.622686 | 0.429180      | 0.436119        |</pre>"
      ],
      "text/plain": [
       "| 524       | 28651.622686 | 0.429180      | 0.436119        |"
      ]
     },
     "metadata": {},
     "output_type": "display_data"
    },
    {
     "data": {
      "text/html": [
       "<pre>| 525       | 28707.326660 | 0.429162      | 0.436065        |</pre>"
      ],
      "text/plain": [
       "| 525       | 28707.326660 | 0.429162      | 0.436065        |"
      ]
     },
     "metadata": {},
     "output_type": "display_data"
    },
    {
     "data": {
      "text/html": [
       "<pre>| 526       | 28762.153436 | 0.429142      | 0.436052        |</pre>"
      ],
      "text/plain": [
       "| 526       | 28762.153436 | 0.429142      | 0.436052        |"
      ]
     },
     "metadata": {},
     "output_type": "display_data"
    },
    {
     "data": {
      "text/html": [
       "<pre>| 527       | 28816.722854 | 0.429128      | 0.436043        |</pre>"
      ],
      "text/plain": [
       "| 527       | 28816.722854 | 0.429128      | 0.436043        |"
      ]
     },
     "metadata": {},
     "output_type": "display_data"
    },
    {
     "data": {
      "text/html": [
       "<pre>| 528       | 28868.661865 | 0.429112      | 0.436033        |</pre>"
      ],
      "text/plain": [
       "| 528       | 28868.661865 | 0.429112      | 0.436033        |"
      ]
     },
     "metadata": {},
     "output_type": "display_data"
    },
    {
     "data": {
      "text/html": [
       "<pre>| 529       | 28926.187586 | 0.429088      | 0.436014        |</pre>"
      ],
      "text/plain": [
       "| 529       | 28926.187586 | 0.429088      | 0.436014        |"
      ]
     },
     "metadata": {},
     "output_type": "display_data"
    },
    {
     "data": {
      "text/html": [
       "<pre>| 530       | 28980.691851 | 0.429073      | 0.436015        |</pre>"
      ],
      "text/plain": [
       "| 530       | 28980.691851 | 0.429073      | 0.436015        |"
      ]
     },
     "metadata": {},
     "output_type": "display_data"
    },
    {
     "data": {
      "text/html": [
       "<pre>| 531       | 29033.745817 | 0.429042      | 0.435984        |</pre>"
      ],
      "text/plain": [
       "| 531       | 29033.745817 | 0.429042      | 0.435984        |"
      ]
     },
     "metadata": {},
     "output_type": "display_data"
    },
    {
     "data": {
      "text/html": [
       "<pre>| 532       | 29091.238809 | 0.429013      | 0.435959        |</pre>"
      ],
      "text/plain": [
       "| 532       | 29091.238809 | 0.429013      | 0.435959        |"
      ]
     },
     "metadata": {},
     "output_type": "display_data"
    },
    {
     "data": {
      "text/html": [
       "<pre>| 533       | 29145.308014 | 0.429001      | 0.435969        |</pre>"
      ],
      "text/plain": [
       "| 533       | 29145.308014 | 0.429001      | 0.435969        |"
      ]
     },
     "metadata": {},
     "output_type": "display_data"
    },
    {
     "data": {
      "text/html": [
       "<pre>| 534       | 29201.582800 | 0.428981      | 0.435968        |</pre>"
      ],
      "text/plain": [
       "| 534       | 29201.582800 | 0.428981      | 0.435968        |"
      ]
     },
     "metadata": {},
     "output_type": "display_data"
    },
    {
     "data": {
      "text/html": [
       "<pre>| 535       | 29254.954298 | 0.428956      | 0.435952        |</pre>"
      ],
      "text/plain": [
       "| 535       | 29254.954298 | 0.428956      | 0.435952        |"
      ]
     },
     "metadata": {},
     "output_type": "display_data"
    },
    {
     "data": {
      "text/html": [
       "<pre>| 536       | 29313.097420 | 0.428937      | 0.435918        |</pre>"
      ],
      "text/plain": [
       "| 536       | 29313.097420 | 0.428937      | 0.435918        |"
      ]
     },
     "metadata": {},
     "output_type": "display_data"
    },
    {
     "data": {
      "text/html": [
       "<pre>| 537       | 29368.195404 | 0.428919      | 0.435902        |</pre>"
      ],
      "text/plain": [
       "| 537       | 29368.195404 | 0.428919      | 0.435902        |"
      ]
     },
     "metadata": {},
     "output_type": "display_data"
    },
    {
     "data": {
      "text/html": [
       "<pre>| 538       | 29425.043692 | 0.428912      | 0.435903        |</pre>"
      ],
      "text/plain": [
       "| 538       | 29425.043692 | 0.428912      | 0.435903        |"
      ]
     },
     "metadata": {},
     "output_type": "display_data"
    },
    {
     "data": {
      "text/html": [
       "<pre>| 539       | 29478.386593 | 0.428894      | 0.435907        |</pre>"
      ],
      "text/plain": [
       "| 539       | 29478.386593 | 0.428894      | 0.435907        |"
      ]
     },
     "metadata": {},
     "output_type": "display_data"
    },
    {
     "data": {
      "text/html": [
       "<pre>| 540       | 29535.084821 | 0.428862      | 0.435905        |</pre>"
      ],
      "text/plain": [
       "| 540       | 29535.084821 | 0.428862      | 0.435905        |"
      ]
     },
     "metadata": {},
     "output_type": "display_data"
    },
    {
     "data": {
      "text/html": [
       "<pre>| 541       | 29587.886290 | 0.428848      | 0.435902        |</pre>"
      ],
      "text/plain": [
       "| 541       | 29587.886290 | 0.428848      | 0.435902        |"
      ]
     },
     "metadata": {},
     "output_type": "display_data"
    },
    {
     "data": {
      "text/html": [
       "<pre>| 542       | 29644.432542 | 0.428806      | 0.435861        |</pre>"
      ],
      "text/plain": [
       "| 542       | 29644.432542 | 0.428806      | 0.435861        |"
      ]
     },
     "metadata": {},
     "output_type": "display_data"
    },
    {
     "data": {
      "text/html": [
       "<pre>| 543       | 29699.341273 | 0.428786      | 0.435867        |</pre>"
      ],
      "text/plain": [
       "| 543       | 29699.341273 | 0.428786      | 0.435867        |"
      ]
     },
     "metadata": {},
     "output_type": "display_data"
    },
    {
     "data": {
      "text/html": [
       "<pre>| 544       | 29754.100427 | 0.428761      | 0.435866        |</pre>"
      ],
      "text/plain": [
       "| 544       | 29754.100427 | 0.428761      | 0.435866        |"
      ]
     },
     "metadata": {},
     "output_type": "display_data"
    },
    {
     "data": {
      "text/html": [
       "<pre>| 545       | 29809.735251 | 0.428743      | 0.435852        |</pre>"
      ],
      "text/plain": [
       "| 545       | 29809.735251 | 0.428743      | 0.435852        |"
      ]
     },
     "metadata": {},
     "output_type": "display_data"
    },
    {
     "data": {
      "text/html": [
       "<pre>| 546       | 29865.816511 | 0.428728      | 0.435835        |</pre>"
      ],
      "text/plain": [
       "| 546       | 29865.816511 | 0.428728      | 0.435835        |"
      ]
     },
     "metadata": {},
     "output_type": "display_data"
    },
    {
     "data": {
      "text/html": [
       "<pre>| 547       | 29920.618106 | 0.428708      | 0.435824        |</pre>"
      ],
      "text/plain": [
       "| 547       | 29920.618106 | 0.428708      | 0.435824        |"
      ]
     },
     "metadata": {},
     "output_type": "display_data"
    },
    {
     "data": {
      "text/html": [
       "<pre>| 548       | 29975.130127 | 0.428685      | 0.435806        |</pre>"
      ],
      "text/plain": [
       "| 548       | 29975.130127 | 0.428685      | 0.435806        |"
      ]
     },
     "metadata": {},
     "output_type": "display_data"
    },
    {
     "data": {
      "text/html": [
       "<pre>| 549       | 30029.251617 | 0.428669      | 0.435802        |</pre>"
      ],
      "text/plain": [
       "| 549       | 30029.251617 | 0.428669      | 0.435802        |"
      ]
     },
     "metadata": {},
     "output_type": "display_data"
    },
    {
     "data": {
      "text/html": [
       "<pre>| 550       | 30084.897516 | 0.428648      | 0.435779        |</pre>"
      ],
      "text/plain": [
       "| 550       | 30084.897516 | 0.428648      | 0.435779        |"
      ]
     },
     "metadata": {},
     "output_type": "display_data"
    },
    {
     "data": {
      "text/html": [
       "<pre>| 551       | 30139.920429 | 0.428634      | 0.435780        |</pre>"
      ],
      "text/plain": [
       "| 551       | 30139.920429 | 0.428634      | 0.435780        |"
      ]
     },
     "metadata": {},
     "output_type": "display_data"
    },
    {
     "data": {
      "text/html": [
       "<pre>| 552       | 30194.240101 | 0.428619      | 0.435766        |</pre>"
      ],
      "text/plain": [
       "| 552       | 30194.240101 | 0.428619      | 0.435766        |"
      ]
     },
     "metadata": {},
     "output_type": "display_data"
    },
    {
     "data": {
      "text/html": [
       "<pre>| 553       | 30251.329652 | 0.428587      | 0.435759        |</pre>"
      ],
      "text/plain": [
       "| 553       | 30251.329652 | 0.428587      | 0.435759        |"
      ]
     },
     "metadata": {},
     "output_type": "display_data"
    },
    {
     "data": {
      "text/html": [
       "<pre>| 554       | 30302.598930 | 0.428577      | 0.435774        |</pre>"
      ],
      "text/plain": [
       "| 554       | 30302.598930 | 0.428577      | 0.435774        |"
      ]
     },
     "metadata": {},
     "output_type": "display_data"
    },
    {
     "data": {
      "text/html": [
       "<pre>| 555       | 30356.644864 | 0.428559      | 0.435770        |</pre>"
      ],
      "text/plain": [
       "| 555       | 30356.644864 | 0.428559      | 0.435770        |"
      ]
     },
     "metadata": {},
     "output_type": "display_data"
    },
    {
     "data": {
      "text/html": [
       "<pre>| 556       | 30412.164404 | 0.428545      | 0.435777        |</pre>"
      ],
      "text/plain": [
       "| 556       | 30412.164404 | 0.428545      | 0.435777        |"
      ]
     },
     "metadata": {},
     "output_type": "display_data"
    },
    {
     "data": {
      "text/html": [
       "<pre>| 557       | 30466.807048 | 0.428533      | 0.435778        |</pre>"
      ],
      "text/plain": [
       "| 557       | 30466.807048 | 0.428533      | 0.435778        |"
      ]
     },
     "metadata": {},
     "output_type": "display_data"
    },
    {
     "data": {
      "text/html": [
       "<pre>| 558       | 30523.156043 | 0.428510      | 0.435780        |</pre>"
      ],
      "text/plain": [
       "| 558       | 30523.156043 | 0.428510      | 0.435780        |"
      ]
     },
     "metadata": {},
     "output_type": "display_data"
    },
    {
     "data": {
      "text/html": [
       "<pre>| 559       | 30576.473716 | 0.428497      | 0.435770        |</pre>"
      ],
      "text/plain": [
       "| 559       | 30576.473716 | 0.428497      | 0.435770        |"
      ]
     },
     "metadata": {},
     "output_type": "display_data"
    },
    {
     "data": {
      "text/html": [
       "<pre>| 560       | 30630.075730 | 0.428478      | 0.435769        |</pre>"
      ],
      "text/plain": [
       "| 560       | 30630.075730 | 0.428478      | 0.435769        |"
      ]
     },
     "metadata": {},
     "output_type": "display_data"
    },
    {
     "data": {
      "text/html": [
       "<pre>| 561       | 30684.257870 | 0.428446      | 0.435766        |</pre>"
      ],
      "text/plain": [
       "| 561       | 30684.257870 | 0.428446      | 0.435766        |"
      ]
     },
     "metadata": {},
     "output_type": "display_data"
    },
    {
     "data": {
      "text/html": [
       "<pre>| 562       | 30740.581584 | 0.428433      | 0.435758        |</pre>"
      ],
      "text/plain": [
       "| 562       | 30740.581584 | 0.428433      | 0.435758        |"
      ]
     },
     "metadata": {},
     "output_type": "display_data"
    },
    {
     "data": {
      "text/html": [
       "<pre>| 563       | 30797.889746 | 0.428415      | 0.435739        |</pre>"
      ],
      "text/plain": [
       "| 563       | 30797.889746 | 0.428415      | 0.435739        |"
      ]
     },
     "metadata": {},
     "output_type": "display_data"
    },
    {
     "data": {
      "text/html": [
       "<pre>| 564       | 30853.546348 | 0.428405      | 0.435758        |</pre>"
      ],
      "text/plain": [
       "| 564       | 30853.546348 | 0.428405      | 0.435758        |"
      ]
     },
     "metadata": {},
     "output_type": "display_data"
    },
    {
     "data": {
      "text/html": [
       "<pre>| 565       | 30907.426588 | 0.428381      | 0.435775        |</pre>"
      ],
      "text/plain": [
       "| 565       | 30907.426588 | 0.428381      | 0.435775        |"
      ]
     },
     "metadata": {},
     "output_type": "display_data"
    },
    {
     "data": {
      "text/html": [
       "<pre>| 566       | 30961.114538 | 0.428351      | 0.435754        |</pre>"
      ],
      "text/plain": [
       "| 566       | 30961.114538 | 0.428351      | 0.435754        |"
      ]
     },
     "metadata": {},
     "output_type": "display_data"
    },
    {
     "data": {
      "text/html": [
       "<pre>| 567       | 31017.366857 | 0.428342      | 0.435751        |</pre>"
      ],
      "text/plain": [
       "| 567       | 31017.366857 | 0.428342      | 0.435751        |"
      ]
     },
     "metadata": {},
     "output_type": "display_data"
    },
    {
     "data": {
      "text/html": [
       "<pre>| 568       | 31073.956488 | 0.428317      | 0.435750        |</pre>"
      ],
      "text/plain": [
       "| 568       | 31073.956488 | 0.428317      | 0.435750        |"
      ]
     },
     "metadata": {},
     "output_type": "display_data"
    },
    {
     "data": {
      "text/html": [
       "<pre>| 569       | 31129.042485 | 0.428291      | 0.435821        |</pre>"
      ],
      "text/plain": [
       "| 569       | 31129.042485 | 0.428291      | 0.435821        |"
      ]
     },
     "metadata": {},
     "output_type": "display_data"
    },
    {
     "data": {
      "text/html": [
       "<pre>| 570       | 31182.593153 | 0.428279      | 0.435822        |</pre>"
      ],
      "text/plain": [
       "| 570       | 31182.593153 | 0.428279      | 0.435822        |"
      ]
     },
     "metadata": {},
     "output_type": "display_data"
    },
    {
     "data": {
      "text/html": [
       "<pre>| 571       | 31236.520125 | 0.428250      | 0.435797        |</pre>"
      ],
      "text/plain": [
       "| 571       | 31236.520125 | 0.428250      | 0.435797        |"
      ]
     },
     "metadata": {},
     "output_type": "display_data"
    },
    {
     "data": {
      "text/html": [
       "<pre>| 572       | 31294.372159 | 0.428231      | 0.435795        |</pre>"
      ],
      "text/plain": [
       "| 572       | 31294.372159 | 0.428231      | 0.435795        |"
      ]
     },
     "metadata": {},
     "output_type": "display_data"
    },
    {
     "data": {
      "text/html": [
       "<pre>| 573       | 31351.321698 | 0.428200      | 0.435806        |</pre>"
      ],
      "text/plain": [
       "| 573       | 31351.321698 | 0.428200      | 0.435806        |"
      ]
     },
     "metadata": {},
     "output_type": "display_data"
    },
    {
     "data": {
      "text/html": [
       "<pre>| 574       | 31406.624580 | 0.428178      | 0.435797        |</pre>"
      ],
      "text/plain": [
       "| 574       | 31406.624580 | 0.428178      | 0.435797        |"
      ]
     },
     "metadata": {},
     "output_type": "display_data"
    },
    {
     "data": {
      "text/html": [
       "<pre>| 575       | 31461.855906 | 0.428172      | 0.435791        |</pre>"
      ],
      "text/plain": [
       "| 575       | 31461.855906 | 0.428172      | 0.435791        |"
      ]
     },
     "metadata": {},
     "output_type": "display_data"
    },
    {
     "data": {
      "text/html": [
       "<pre>| 576       | 31514.093616 | 0.428156      | 0.435795        |</pre>"
      ],
      "text/plain": [
       "| 576       | 31514.093616 | 0.428156      | 0.435795        |"
      ]
     },
     "metadata": {},
     "output_type": "display_data"
    },
    {
     "data": {
      "text/html": [
       "<pre>| 577       | 31567.906433 | 0.428138      | 0.435786        |</pre>"
      ],
      "text/plain": [
       "| 577       | 31567.906433 | 0.428138      | 0.435786        |"
      ]
     },
     "metadata": {},
     "output_type": "display_data"
    },
    {
     "data": {
      "text/html": [
       "<pre>| 578       | 31620.194161 | 0.428125      | 0.435773        |</pre>"
      ],
      "text/plain": [
       "| 578       | 31620.194161 | 0.428125      | 0.435773        |"
      ]
     },
     "metadata": {},
     "output_type": "display_data"
    },
    {
     "data": {
      "text/html": [
       "<pre>| 579       | 31673.996896 | 0.428114      | 0.435754        |</pre>"
      ],
      "text/plain": [
       "| 579       | 31673.996896 | 0.428114      | 0.435754        |"
      ]
     },
     "metadata": {},
     "output_type": "display_data"
    },
    {
     "data": {
      "text/html": [
       "<pre>| 580       | 31728.651569 | 0.428077      | 0.435760        |</pre>"
      ],
      "text/plain": [
       "| 580       | 31728.651569 | 0.428077      | 0.435760        |"
      ]
     },
     "metadata": {},
     "output_type": "display_data"
    },
    {
     "data": {
      "text/html": [
       "<pre>| 581       | 31781.532703 | 0.428045      | 0.435761        |</pre>"
      ],
      "text/plain": [
       "| 581       | 31781.532703 | 0.428045      | 0.435761        |"
      ]
     },
     "metadata": {},
     "output_type": "display_data"
    },
    {
     "data": {
      "text/html": [
       "<pre>| 582       | 31836.442657 | 0.428032      | 0.435761        |</pre>"
      ],
      "text/plain": [
       "| 582       | 31836.442657 | 0.428032      | 0.435761        |"
      ]
     },
     "metadata": {},
     "output_type": "display_data"
    },
    {
     "data": {
      "text/html": [
       "<pre>| 583       | 31890.796913 | 0.428018      | 0.435750        |</pre>"
      ],
      "text/plain": [
       "| 583       | 31890.796913 | 0.428018      | 0.435750        |"
      ]
     },
     "metadata": {},
     "output_type": "display_data"
    },
    {
     "data": {
      "text/html": [
       "<pre>| 584       | 31969.346641 | 0.428007      | 0.435745        |</pre>"
      ],
      "text/plain": [
       "| 584       | 31969.346641 | 0.428007      | 0.435745        |"
      ]
     },
     "metadata": {},
     "output_type": "display_data"
    },
    {
     "data": {
      "text/html": [
       "<pre>| 585       | 32024.048194 | 0.427996      | 0.435733        |</pre>"
      ],
      "text/plain": [
       "| 585       | 32024.048194 | 0.427996      | 0.435733        |"
      ]
     },
     "metadata": {},
     "output_type": "display_data"
    },
    {
     "data": {
      "text/html": [
       "<pre>| 586       | 32080.264010 | 0.427989      | 0.435731        |</pre>"
      ],
      "text/plain": [
       "| 586       | 32080.264010 | 0.427989      | 0.435731        |"
      ]
     },
     "metadata": {},
     "output_type": "display_data"
    },
    {
     "data": {
      "text/html": [
       "<pre>| 587       | 32137.009880 | 0.427978      | 0.435728        |</pre>"
      ],
      "text/plain": [
       "| 587       | 32137.009880 | 0.427978      | 0.435728        |"
      ]
     },
     "metadata": {},
     "output_type": "display_data"
    },
    {
     "data": {
      "text/html": [
       "<pre>| 588       | 32192.614875 | 0.427964      | 0.435723        |</pre>"
      ],
      "text/plain": [
       "| 588       | 32192.614875 | 0.427964      | 0.435723        |"
      ]
     },
     "metadata": {},
     "output_type": "display_data"
    },
    {
     "data": {
      "text/html": [
       "<pre>| 589       | 32246.101874 | 0.427936      | 0.435732        |</pre>"
      ],
      "text/plain": [
       "| 589       | 32246.101874 | 0.427936      | 0.435732        |"
      ]
     },
     "metadata": {},
     "output_type": "display_data"
    },
    {
     "data": {
      "text/html": [
       "<pre>| 590       | 32297.552026 | 0.427924      | 0.435728        |</pre>"
      ],
      "text/plain": [
       "| 590       | 32297.552026 | 0.427924      | 0.435728        |"
      ]
     },
     "metadata": {},
     "output_type": "display_data"
    },
    {
     "data": {
      "text/html": [
       "<pre>| 591       | 32351.237705 | 0.427912      | 0.435727        |</pre>"
      ],
      "text/plain": [
       "| 591       | 32351.237705 | 0.427912      | 0.435727        |"
      ]
     },
     "metadata": {},
     "output_type": "display_data"
    },
    {
     "data": {
      "text/html": [
       "<pre>| 592       | 32405.030596 | 0.427904      | 0.435718        |</pre>"
      ],
      "text/plain": [
       "| 592       | 32405.030596 | 0.427904      | 0.435718        |"
      ]
     },
     "metadata": {},
     "output_type": "display_data"
    },
    {
     "data": {
      "text/html": [
       "<pre>| 593       | 32459.077529 | 0.427887      | 0.435716        |</pre>"
      ],
      "text/plain": [
       "| 593       | 32459.077529 | 0.427887      | 0.435716        |"
      ]
     },
     "metadata": {},
     "output_type": "display_data"
    },
    {
     "data": {
      "text/html": [
       "<pre>| 594       | 32528.100673 | 0.427881      | 0.435702        |</pre>"
      ],
      "text/plain": [
       "| 594       | 32528.100673 | 0.427881      | 0.435702        |"
      ]
     },
     "metadata": {},
     "output_type": "display_data"
    },
    {
     "data": {
      "text/html": [
       "<pre>| 595       | 32586.236408 | 0.427868      | 0.435717        |</pre>"
      ],
      "text/plain": [
       "| 595       | 32586.236408 | 0.427868      | 0.435717        |"
      ]
     },
     "metadata": {},
     "output_type": "display_data"
    },
    {
     "data": {
      "text/html": [
       "<pre>| 596       | 32642.432850 | 0.427843      | 0.435696        |</pre>"
      ],
      "text/plain": [
       "| 596       | 32642.432850 | 0.427843      | 0.435696        |"
      ]
     },
     "metadata": {},
     "output_type": "display_data"
    },
    {
     "data": {
      "text/html": [
       "<pre>| 597       | 32699.159953 | 0.427824      | 0.435687        |</pre>"
      ],
      "text/plain": [
       "| 597       | 32699.159953 | 0.427824      | 0.435687        |"
      ]
     },
     "metadata": {},
     "output_type": "display_data"
    },
    {
     "data": {
      "text/html": [
       "<pre>| 598       | 32754.859257 | 0.427799      | 0.435693        |</pre>"
      ],
      "text/plain": [
       "| 598       | 32754.859257 | 0.427799      | 0.435693        |"
      ]
     },
     "metadata": {},
     "output_type": "display_data"
    },
    {
     "data": {
      "text/html": [
       "<pre>| 599       | 32809.190117 | 0.427776      | 0.435700        |</pre>"
      ],
      "text/plain": [
       "| 599       | 32809.190117 | 0.427776      | 0.435700        |"
      ]
     },
     "metadata": {},
     "output_type": "display_data"
    },
    {
     "data": {
      "text/html": [
       "<pre>| 600       | 32864.042405 | 0.427754      | 0.435683        |</pre>"
      ],
      "text/plain": [
       "| 600       | 32864.042405 | 0.427754      | 0.435683        |"
      ]
     },
     "metadata": {},
     "output_type": "display_data"
    },
    {
     "data": {
      "text/html": [
       "<pre>| 601       | 32917.570344 | 0.427737      | 0.435676        |</pre>"
      ],
      "text/plain": [
       "| 601       | 32917.570344 | 0.427737      | 0.435676        |"
      ]
     },
     "metadata": {},
     "output_type": "display_data"
    },
    {
     "data": {
      "text/html": [
       "<pre>| 602       | 32967.855147 | 0.427724      | 0.435658        |</pre>"
      ],
      "text/plain": [
       "| 602       | 32967.855147 | 0.427724      | 0.435658        |"
      ]
     },
     "metadata": {},
     "output_type": "display_data"
    },
    {
     "data": {
      "text/html": [
       "<pre>| 603       | 33017.808877 | 0.427714      | 0.435655        |</pre>"
      ],
      "text/plain": [
       "| 603       | 33017.808877 | 0.427714      | 0.435655        |"
      ]
     },
     "metadata": {},
     "output_type": "display_data"
    },
    {
     "data": {
      "text/html": [
       "<pre>| 604       | 33070.790366 | 0.427695      | 0.435656        |</pre>"
      ],
      "text/plain": [
       "| 604       | 33070.790366 | 0.427695      | 0.435656        |"
      ]
     },
     "metadata": {},
     "output_type": "display_data"
    },
    {
     "data": {
      "text/html": [
       "<pre>| 605       | 33126.012873 | 0.427677      | 0.435648        |</pre>"
      ],
      "text/plain": [
       "| 605       | 33126.012873 | 0.427677      | 0.435648        |"
      ]
     },
     "metadata": {},
     "output_type": "display_data"
    },
    {
     "data": {
      "text/html": [
       "<pre>| 606       | 33180.011051 | 0.427670      | 0.435650        |</pre>"
      ],
      "text/plain": [
       "| 606       | 33180.011051 | 0.427670      | 0.435650        |"
      ]
     },
     "metadata": {},
     "output_type": "display_data"
    },
    {
     "data": {
      "text/html": [
       "<pre>| 607       | 33235.792974 | 0.427637      | 0.435651        |</pre>"
      ],
      "text/plain": [
       "| 607       | 33235.792974 | 0.427637      | 0.435651        |"
      ]
     },
     "metadata": {},
     "output_type": "display_data"
    },
    {
     "data": {
      "text/html": [
       "<pre>| 608       | 33291.616054 | 0.427626      | 0.435642        |</pre>"
      ],
      "text/plain": [
       "| 608       | 33291.616054 | 0.427626      | 0.435642        |"
      ]
     },
     "metadata": {},
     "output_type": "display_data"
    },
    {
     "data": {
      "text/html": [
       "<pre>| 609       | 33348.103338 | 0.427604      | 0.435658        |</pre>"
      ],
      "text/plain": [
       "| 609       | 33348.103338 | 0.427604      | 0.435658        |"
      ]
     },
     "metadata": {},
     "output_type": "display_data"
    },
    {
     "data": {
      "text/html": [
       "<pre>| 610       | 33403.438516 | 0.427587      | 0.435641        |</pre>"
      ],
      "text/plain": [
       "| 610       | 33403.438516 | 0.427587      | 0.435641        |"
      ]
     },
     "metadata": {},
     "output_type": "display_data"
    },
    {
     "data": {
      "text/html": [
       "<pre>| 611       | 33456.611038 | 0.427570      | 0.435622        |</pre>"
      ],
      "text/plain": [
       "| 611       | 33456.611038 | 0.427570      | 0.435622        |"
      ]
     },
     "metadata": {},
     "output_type": "display_data"
    },
    {
     "data": {
      "text/html": [
       "<pre>| 612       | 33508.824210 | 0.427562      | 0.435620        |</pre>"
      ],
      "text/plain": [
       "| 612       | 33508.824210 | 0.427562      | 0.435620        |"
      ]
     },
     "metadata": {},
     "output_type": "display_data"
    },
    {
     "data": {
      "text/html": [
       "<pre>| 613       | 33563.092580 | 0.427549      | 0.435614        |</pre>"
      ],
      "text/plain": [
       "| 613       | 33563.092580 | 0.427549      | 0.435614        |"
      ]
     },
     "metadata": {},
     "output_type": "display_data"
    },
    {
     "data": {
      "text/html": [
       "<pre>| 614       | 33619.985675 | 0.427517      | 0.435603        |</pre>"
      ],
      "text/plain": [
       "| 614       | 33619.985675 | 0.427517      | 0.435603        |"
      ]
     },
     "metadata": {},
     "output_type": "display_data"
    },
    {
     "data": {
      "text/html": [
       "<pre>| 615       | 33668.826393 | 0.427511      | 0.435603        |</pre>"
      ],
      "text/plain": [
       "| 615       | 33668.826393 | 0.427511      | 0.435603        |"
      ]
     },
     "metadata": {},
     "output_type": "display_data"
    },
    {
     "data": {
      "text/html": [
       "<pre>| 616       | 33721.489909 | 0.427492      | 0.435598        |</pre>"
      ],
      "text/plain": [
       "| 616       | 33721.489909 | 0.427492      | 0.435598        |"
      ]
     },
     "metadata": {},
     "output_type": "display_data"
    },
    {
     "data": {
      "text/html": [
       "<pre>| 617       | 33775.198883 | 0.427479      | 0.435592        |</pre>"
      ],
      "text/plain": [
       "| 617       | 33775.198883 | 0.427479      | 0.435592        |"
      ]
     },
     "metadata": {},
     "output_type": "display_data"
    },
    {
     "data": {
      "text/html": [
       "<pre>| 618       | 33829.774040 | 0.427457      | 0.435605        |</pre>"
      ],
      "text/plain": [
       "| 618       | 33829.774040 | 0.427457      | 0.435605        |"
      ]
     },
     "metadata": {},
     "output_type": "display_data"
    },
    {
     "data": {
      "text/html": [
       "<pre>| 619       | 33882.765653 | 0.427447      | 0.435604        |</pre>"
      ],
      "text/plain": [
       "| 619       | 33882.765653 | 0.427447      | 0.435604        |"
      ]
     },
     "metadata": {},
     "output_type": "display_data"
    },
    {
     "data": {
      "text/html": [
       "<pre>| 620       | 33937.256430 | 0.427400      | 0.435591        |</pre>"
      ],
      "text/plain": [
       "| 620       | 33937.256430 | 0.427400      | 0.435591        |"
      ]
     },
     "metadata": {},
     "output_type": "display_data"
    },
    {
     "data": {
      "text/html": [
       "<pre>| 621       | 33991.737778 | 0.427386      | 0.435611        |</pre>"
      ],
      "text/plain": [
       "| 621       | 33991.737778 | 0.427386      | 0.435611        |"
      ]
     },
     "metadata": {},
     "output_type": "display_data"
    },
    {
     "data": {
      "text/html": [
       "<pre>| 622       | 34045.586594 | 0.427367      | 0.435595        |</pre>"
      ],
      "text/plain": [
       "| 622       | 34045.586594 | 0.427367      | 0.435595        |"
      ]
     },
     "metadata": {},
     "output_type": "display_data"
    },
    {
     "data": {
      "text/html": [
       "<pre>| 623       | 34094.497463 | 0.427352      | 0.435618        |</pre>"
      ],
      "text/plain": [
       "| 623       | 34094.497463 | 0.427352      | 0.435618        |"
      ]
     },
     "metadata": {},
     "output_type": "display_data"
    },
    {
     "data": {
      "text/html": [
       "<pre>| 624       | 34148.391813 | 0.427344      | 0.435607        |</pre>"
      ],
      "text/plain": [
       "| 624       | 34148.391813 | 0.427344      | 0.435607        |"
      ]
     },
     "metadata": {},
     "output_type": "display_data"
    },
    {
     "data": {
      "text/html": [
       "<pre>| 625       | 34199.880171 | 0.427305      | 0.435616        |</pre>"
      ],
      "text/plain": [
       "| 625       | 34199.880171 | 0.427305      | 0.435616        |"
      ]
     },
     "metadata": {},
     "output_type": "display_data"
    },
    {
     "data": {
      "text/html": [
       "<pre>| 626       | 34254.810916 | 0.427288      | 0.435609        |</pre>"
      ],
      "text/plain": [
       "| 626       | 34254.810916 | 0.427288      | 0.435609        |"
      ]
     },
     "metadata": {},
     "output_type": "display_data"
    },
    {
     "data": {
      "text/html": [
       "<pre>| 627       | 34307.541248 | 0.427268      | 0.435613        |</pre>"
      ],
      "text/plain": [
       "| 627       | 34307.541248 | 0.427268      | 0.435613        |"
      ]
     },
     "metadata": {},
     "output_type": "display_data"
    },
    {
     "data": {
      "text/html": [
       "<pre>| 628       | 34366.650813 | 0.427252      | 0.435602        |</pre>"
      ],
      "text/plain": [
       "| 628       | 34366.650813 | 0.427252      | 0.435602        |"
      ]
     },
     "metadata": {},
     "output_type": "display_data"
    },
    {
     "data": {
      "text/html": [
       "<pre>| 629       | 34420.050815 | 0.427236      | 0.435587        |</pre>"
      ],
      "text/plain": [
       "| 629       | 34420.050815 | 0.427236      | 0.435587        |"
      ]
     },
     "metadata": {},
     "output_type": "display_data"
    },
    {
     "data": {
      "text/html": [
       "<pre>| 630       | 34471.370895 | 0.427222      | 0.435578        |</pre>"
      ],
      "text/plain": [
       "| 630       | 34471.370895 | 0.427222      | 0.435578        |"
      ]
     },
     "metadata": {},
     "output_type": "display_data"
    },
    {
     "data": {
      "text/html": [
       "<pre>| 631       | 34524.960341 | 0.427210      | 0.435579        |</pre>"
      ],
      "text/plain": [
       "| 631       | 34524.960341 | 0.427210      | 0.435579        |"
      ]
     },
     "metadata": {},
     "output_type": "display_data"
    },
    {
     "data": {
      "text/html": [
       "<pre>| 632       | 34578.883714 | 0.427184      | 0.435575        |</pre>"
      ],
      "text/plain": [
       "| 632       | 34578.883714 | 0.427184      | 0.435575        |"
      ]
     },
     "metadata": {},
     "output_type": "display_data"
    },
    {
     "data": {
      "text/html": [
       "<pre>| 633       | 34633.489590 | 0.427172      | 0.435576        |</pre>"
      ],
      "text/plain": [
       "| 633       | 34633.489590 | 0.427172      | 0.435576        |"
      ]
     },
     "metadata": {},
     "output_type": "display_data"
    },
    {
     "data": {
      "text/html": [
       "<pre>| 634       | 34688.918204 | 0.427143      | 0.435577        |</pre>"
      ],
      "text/plain": [
       "| 634       | 34688.918204 | 0.427143      | 0.435577        |"
      ]
     },
     "metadata": {},
     "output_type": "display_data"
    },
    {
     "data": {
      "text/html": [
       "<pre>| 635       | 34743.178143 | 0.427117      | 0.435589        |</pre>"
      ],
      "text/plain": [
       "| 635       | 34743.178143 | 0.427117      | 0.435589        |"
      ]
     },
     "metadata": {},
     "output_type": "display_data"
    },
    {
     "data": {
      "text/html": [
       "<pre>| 636       | 34795.546066 | 0.427090      | 0.435579        |</pre>"
      ],
      "text/plain": [
       "| 636       | 34795.546066 | 0.427090      | 0.435579        |"
      ]
     },
     "metadata": {},
     "output_type": "display_data"
    },
    {
     "data": {
      "text/html": [
       "<pre>| 637       | 34851.624135 | 0.427075      | 0.435577        |</pre>"
      ],
      "text/plain": [
       "| 637       | 34851.624135 | 0.427075      | 0.435577        |"
      ]
     },
     "metadata": {},
     "output_type": "display_data"
    },
    {
     "data": {
      "text/html": [
       "<pre>| 638       | 34905.639942 | 0.427043      | 0.435566        |</pre>"
      ],
      "text/plain": [
       "| 638       | 34905.639942 | 0.427043      | 0.435566        |"
      ]
     },
     "metadata": {},
     "output_type": "display_data"
    },
    {
     "data": {
      "text/html": [
       "<pre>| 639       | 34961.124252 | 0.427034      | 0.435553        |</pre>"
      ],
      "text/plain": [
       "| 639       | 34961.124252 | 0.427034      | 0.435553        |"
      ]
     },
     "metadata": {},
     "output_type": "display_data"
    },
    {
     "data": {
      "text/html": [
       "<pre>| 640       | 35015.087055 | 0.427018      | 0.435536        |</pre>"
      ],
      "text/plain": [
       "| 640       | 35015.087055 | 0.427018      | 0.435536        |"
      ]
     },
     "metadata": {},
     "output_type": "display_data"
    },
    {
     "data": {
      "text/html": [
       "<pre>| 641       | 35067.496013 | 0.426999      | 0.435505        |</pre>"
      ],
      "text/plain": [
       "| 641       | 35067.496013 | 0.426999      | 0.435505        |"
      ]
     },
     "metadata": {},
     "output_type": "display_data"
    },
    {
     "data": {
      "text/html": [
       "<pre>| 642       | 35124.420011 | 0.426961      | 0.435445        |</pre>"
      ],
      "text/plain": [
       "| 642       | 35124.420011 | 0.426961      | 0.435445        |"
      ]
     },
     "metadata": {},
     "output_type": "display_data"
    },
    {
     "data": {
      "text/html": [
       "<pre>| 643       | 35179.549404 | 0.426951      | 0.435426        |</pre>"
      ],
      "text/plain": [
       "| 643       | 35179.549404 | 0.426951      | 0.435426        |"
      ]
     },
     "metadata": {},
     "output_type": "display_data"
    },
    {
     "data": {
      "text/html": [
       "<pre>| 644       | 35232.448797 | 0.426938      | 0.435419        |</pre>"
      ],
      "text/plain": [
       "| 644       | 35232.448797 | 0.426938      | 0.435419        |"
      ]
     },
     "metadata": {},
     "output_type": "display_data"
    },
    {
     "data": {
      "text/html": [
       "<pre>| 645       | 35285.512770 | 0.426921      | 0.435421        |</pre>"
      ],
      "text/plain": [
       "| 645       | 35285.512770 | 0.426921      | 0.435421        |"
      ]
     },
     "metadata": {},
     "output_type": "display_data"
    },
    {
     "data": {
      "text/html": [
       "<pre>| 646       | 35334.404701 | 0.426907      | 0.435411        |</pre>"
      ],
      "text/plain": [
       "| 646       | 35334.404701 | 0.426907      | 0.435411        |"
      ]
     },
     "metadata": {},
     "output_type": "display_data"
    },
    {
     "data": {
      "text/html": [
       "<pre>| 647       | 35388.088318 | 0.426878      | 0.435412        |</pre>"
      ],
      "text/plain": [
       "| 647       | 35388.088318 | 0.426878      | 0.435412        |"
      ]
     },
     "metadata": {},
     "output_type": "display_data"
    },
    {
     "data": {
      "text/html": [
       "<pre>| 648       | 35439.689323 | 0.426870      | 0.435421        |</pre>"
      ],
      "text/plain": [
       "| 648       | 35439.689323 | 0.426870      | 0.435421        |"
      ]
     },
     "metadata": {},
     "output_type": "display_data"
    },
    {
     "data": {
      "text/html": [
       "<pre>| 649       | 35490.858895 | 0.426850      | 0.435397        |</pre>"
      ],
      "text/plain": [
       "| 649       | 35490.858895 | 0.426850      | 0.435397        |"
      ]
     },
     "metadata": {},
     "output_type": "display_data"
    },
    {
     "data": {
      "text/html": [
       "<pre>| 650       | 35571.023738 | 0.426839      | 0.435409        |</pre>"
      ],
      "text/plain": [
       "| 650       | 35571.023738 | 0.426839      | 0.435409        |"
      ]
     },
     "metadata": {},
     "output_type": "display_data"
    },
    {
     "data": {
      "text/html": [
       "<pre>| 651       | 35623.192227 | 0.426808      | 0.435412        |</pre>"
      ],
      "text/plain": [
       "| 651       | 35623.192227 | 0.426808      | 0.435412        |"
      ]
     },
     "metadata": {},
     "output_type": "display_data"
    },
    {
     "data": {
      "text/html": [
       "<pre>| 652       | 35684.817869 | 0.426786      | 0.435407        |</pre>"
      ],
      "text/plain": [
       "| 652       | 35684.817869 | 0.426786      | 0.435407        |"
      ]
     },
     "metadata": {},
     "output_type": "display_data"
    },
    {
     "data": {
      "text/html": [
       "<pre>| 653       | 35740.088967 | 0.426765      | 0.435413        |</pre>"
      ],
      "text/plain": [
       "| 653       | 35740.088967 | 0.426765      | 0.435413        |"
      ]
     },
     "metadata": {},
     "output_type": "display_data"
    },
    {
     "data": {
      "text/html": [
       "<pre>| 654       | 35794.693328 | 0.426745      | 0.435408        |</pre>"
      ],
      "text/plain": [
       "| 654       | 35794.693328 | 0.426745      | 0.435408        |"
      ]
     },
     "metadata": {},
     "output_type": "display_data"
    },
    {
     "data": {
      "text/html": [
       "<pre>| 655       | 35847.417895 | 0.426735      | 0.435419        |</pre>"
      ],
      "text/plain": [
       "| 655       | 35847.417895 | 0.426735      | 0.435419        |"
      ]
     },
     "metadata": {},
     "output_type": "display_data"
    },
    {
     "data": {
      "text/html": [
       "<pre>| 656       | 35900.268309 | 0.426723      | 0.435412        |</pre>"
      ],
      "text/plain": [
       "| 656       | 35900.268309 | 0.426723      | 0.435412        |"
      ]
     },
     "metadata": {},
     "output_type": "display_data"
    },
    {
     "data": {
      "text/html": [
       "<pre>| 657       | 35954.826849 | 0.426710      | 0.435411        |</pre>"
      ],
      "text/plain": [
       "| 657       | 35954.826849 | 0.426710      | 0.435411        |"
      ]
     },
     "metadata": {},
     "output_type": "display_data"
    },
    {
     "data": {
      "text/html": [
       "<pre>| 658       | 36010.666275 | 0.426698      | 0.435414        |</pre>"
      ],
      "text/plain": [
       "| 658       | 36010.666275 | 0.426698      | 0.435414        |"
      ]
     },
     "metadata": {},
     "output_type": "display_data"
    },
    {
     "data": {
      "text/html": [
       "<pre>| 659       | 36064.512123 | 0.426688      | 0.435414        |</pre>"
      ],
      "text/plain": [
       "| 659       | 36064.512123 | 0.426688      | 0.435414        |"
      ]
     },
     "metadata": {},
     "output_type": "display_data"
    },
    {
     "data": {
      "text/html": [
       "<pre>| 660       | 36113.777587 | 0.426679      | 0.435416        |</pre>"
      ],
      "text/plain": [
       "| 660       | 36113.777587 | 0.426679      | 0.435416        |"
      ]
     },
     "metadata": {},
     "output_type": "display_data"
    },
    {
     "data": {
      "text/html": [
       "<pre>| 661       | 36167.372265 | 0.426661      | 0.435346        |</pre>"
      ],
      "text/plain": [
       "| 661       | 36167.372265 | 0.426661      | 0.435346        |"
      ]
     },
     "metadata": {},
     "output_type": "display_data"
    },
    {
     "data": {
      "text/html": [
       "<pre>| 662       | 36219.624745 | 0.426638      | 0.435341        |</pre>"
      ],
      "text/plain": [
       "| 662       | 36219.624745 | 0.426638      | 0.435341        |"
      ]
     },
     "metadata": {},
     "output_type": "display_data"
    },
    {
     "data": {
      "text/html": [
       "<pre>| 663       | 36273.547454 | 0.426615      | 0.435338        |</pre>"
      ],
      "text/plain": [
       "| 663       | 36273.547454 | 0.426615      | 0.435338        |"
      ]
     },
     "metadata": {},
     "output_type": "display_data"
    },
    {
     "data": {
      "text/html": [
       "<pre>| 664       | 36330.347545 | 0.426585      | 0.435314        |</pre>"
      ],
      "text/plain": [
       "| 664       | 36330.347545 | 0.426585      | 0.435314        |"
      ]
     },
     "metadata": {},
     "output_type": "display_data"
    },
    {
     "data": {
      "text/html": [
       "<pre>| 665       | 36384.380661 | 0.426555      | 0.435295        |</pre>"
      ],
      "text/plain": [
       "| 665       | 36384.380661 | 0.426555      | 0.435295        |"
      ]
     },
     "metadata": {},
     "output_type": "display_data"
    },
    {
     "data": {
      "text/html": [
       "<pre>| 666       | 36436.460202 | 0.426547      | 0.435288        |</pre>"
      ],
      "text/plain": [
       "| 666       | 36436.460202 | 0.426547      | 0.435288        |"
      ]
     },
     "metadata": {},
     "output_type": "display_data"
    },
    {
     "data": {
      "text/html": [
       "<pre>| 667       | 36488.584378 | 0.426526      | 0.435280        |</pre>"
      ],
      "text/plain": [
       "| 667       | 36488.584378 | 0.426526      | 0.435280        |"
      ]
     },
     "metadata": {},
     "output_type": "display_data"
    },
    {
     "data": {
      "text/html": [
       "<pre>| 668       | 36546.630952 | 0.426489      | 0.435231        |</pre>"
      ],
      "text/plain": [
       "| 668       | 36546.630952 | 0.426489      | 0.435231        |"
      ]
     },
     "metadata": {},
     "output_type": "display_data"
    },
    {
     "data": {
      "text/html": [
       "<pre>| 669       | 36601.439430 | 0.426468      | 0.435226        |</pre>"
      ],
      "text/plain": [
       "| 669       | 36601.439430 | 0.426468      | 0.435226        |"
      ]
     },
     "metadata": {},
     "output_type": "display_data"
    },
    {
     "data": {
      "text/html": [
       "<pre>| 670       | 36653.054655 | 0.426453      | 0.435210        |</pre>"
      ],
      "text/plain": [
       "| 670       | 36653.054655 | 0.426453      | 0.435210        |"
      ]
     },
     "metadata": {},
     "output_type": "display_data"
    },
    {
     "data": {
      "text/html": [
       "<pre>| 671       | 36704.150480 | 0.426439      | 0.435208        |</pre>"
      ],
      "text/plain": [
       "| 671       | 36704.150480 | 0.426439      | 0.435208        |"
      ]
     },
     "metadata": {},
     "output_type": "display_data"
    },
    {
     "data": {
      "text/html": [
       "<pre>| 672       | 36758.196516 | 0.426423      | 0.435200        |</pre>"
      ],
      "text/plain": [
       "| 672       | 36758.196516 | 0.426423      | 0.435200        |"
      ]
     },
     "metadata": {},
     "output_type": "display_data"
    },
    {
     "data": {
      "text/html": [
       "<pre>| 673       | 36817.016671 | 0.426399      | 0.435194        |</pre>"
      ],
      "text/plain": [
       "| 673       | 36817.016671 | 0.426399      | 0.435194        |"
      ]
     },
     "metadata": {},
     "output_type": "display_data"
    },
    {
     "data": {
      "text/html": [
       "<pre>| 674       | 36867.703245 | 0.426389      | 0.435196        |</pre>"
      ],
      "text/plain": [
       "| 674       | 36867.703245 | 0.426389      | 0.435196        |"
      ]
     },
     "metadata": {},
     "output_type": "display_data"
    },
    {
     "data": {
      "text/html": [
       "<pre>| 675       | 36919.428791 | 0.426376      | 0.435197        |</pre>"
      ],
      "text/plain": [
       "| 675       | 36919.428791 | 0.426376      | 0.435197        |"
      ]
     },
     "metadata": {},
     "output_type": "display_data"
    },
    {
     "data": {
      "text/html": [
       "<pre>| 676       | 36970.999495 | 0.426362      | 0.435202        |</pre>"
      ],
      "text/plain": [
       "| 676       | 36970.999495 | 0.426362      | 0.435202        |"
      ]
     },
     "metadata": {},
     "output_type": "display_data"
    },
    {
     "data": {
      "text/html": [
       "<pre>| 677       | 37024.278762 | 0.426348      | 0.435194        |</pre>"
      ],
      "text/plain": [
       "| 677       | 37024.278762 | 0.426348      | 0.435194        |"
      ]
     },
     "metadata": {},
     "output_type": "display_data"
    },
    {
     "data": {
      "text/html": [
       "<pre>| 678       | 37078.625519 | 0.426334      | 0.435152        |</pre>"
      ],
      "text/plain": [
       "| 678       | 37078.625519 | 0.426334      | 0.435152        |"
      ]
     },
     "metadata": {},
     "output_type": "display_data"
    },
    {
     "data": {
      "text/html": [
       "<pre>| 679       | 37132.376676 | 0.426319      | 0.435149        |</pre>"
      ],
      "text/plain": [
       "| 679       | 37132.376676 | 0.426319      | 0.435149        |"
      ]
     },
     "metadata": {},
     "output_type": "display_data"
    },
    {
     "data": {
      "text/html": [
       "<pre>| 680       | 37186.816340 | 0.426308      | 0.435144        |</pre>"
      ],
      "text/plain": [
       "| 680       | 37186.816340 | 0.426308      | 0.435144        |"
      ]
     },
     "metadata": {},
     "output_type": "display_data"
    },
    {
     "data": {
      "text/html": [
       "<pre>| 681       | 37242.520824 | 0.426285      | 0.435121        |</pre>"
      ],
      "text/plain": [
       "| 681       | 37242.520824 | 0.426285      | 0.435121        |"
      ]
     },
     "metadata": {},
     "output_type": "display_data"
    },
    {
     "data": {
      "text/html": [
       "<pre>| 682       | 37296.659226 | 0.426274      | 0.435119        |</pre>"
      ],
      "text/plain": [
       "| 682       | 37296.659226 | 0.426274      | 0.435119        |"
      ]
     },
     "metadata": {},
     "output_type": "display_data"
    },
    {
     "data": {
      "text/html": [
       "<pre>| 683       | 37354.415237 | 0.426250      | 0.435103        |</pre>"
      ],
      "text/plain": [
       "| 683       | 37354.415237 | 0.426250      | 0.435103        |"
      ]
     },
     "metadata": {},
     "output_type": "display_data"
    },
    {
     "data": {
      "text/html": [
       "<pre>| 684       | 37406.684923 | 0.426238      | 0.435113        |</pre>"
      ],
      "text/plain": [
       "| 684       | 37406.684923 | 0.426238      | 0.435113        |"
      ]
     },
     "metadata": {},
     "output_type": "display_data"
    },
    {
     "data": {
      "text/html": [
       "<pre>| 685       | 37461.722536 | 0.426219      | 0.435097        |</pre>"
      ],
      "text/plain": [
       "| 685       | 37461.722536 | 0.426219      | 0.435097        |"
      ]
     },
     "metadata": {},
     "output_type": "display_data"
    },
    {
     "data": {
      "text/html": [
       "<pre>| 686       | 37520.492512 | 0.426179      | 0.435094        |</pre>"
      ],
      "text/plain": [
       "| 686       | 37520.492512 | 0.426179      | 0.435094        |"
      ]
     },
     "metadata": {},
     "output_type": "display_data"
    },
    {
     "data": {
      "text/html": [
       "<pre>| 687       | 37573.910976 | 0.426141      | 0.435078        |</pre>"
      ],
      "text/plain": [
       "| 687       | 37573.910976 | 0.426141      | 0.435078        |"
      ]
     },
     "metadata": {},
     "output_type": "display_data"
    },
    {
     "data": {
      "text/html": [
       "<pre>| 688       | 37624.892672 | 0.426125      | 0.435075        |</pre>"
      ],
      "text/plain": [
       "| 688       | 37624.892672 | 0.426125      | 0.435075        |"
      ]
     },
     "metadata": {},
     "output_type": "display_data"
    },
    {
     "data": {
      "text/html": [
       "<pre>| 689       | 37680.074463 | 0.426113      | 0.435083        |</pre>"
      ],
      "text/plain": [
       "| 689       | 37680.074463 | 0.426113      | 0.435083        |"
      ]
     },
     "metadata": {},
     "output_type": "display_data"
    },
    {
     "data": {
      "text/html": [
       "<pre>| 690       | 37733.016024 | 0.426098      | 0.435079        |</pre>"
      ],
      "text/plain": [
       "| 690       | 37733.016024 | 0.426098      | 0.435079        |"
      ]
     },
     "metadata": {},
     "output_type": "display_data"
    },
    {
     "data": {
      "text/html": [
       "<pre>| 691       | 37787.508838 | 0.426085      | 0.435076        |</pre>"
      ],
      "text/plain": [
       "| 691       | 37787.508838 | 0.426085      | 0.435076        |"
      ]
     },
     "metadata": {},
     "output_type": "display_data"
    },
    {
     "data": {
      "text/html": [
       "<pre>| 692       | 37838.935856 | 0.426075      | 0.435082        |</pre>"
      ],
      "text/plain": [
       "| 692       | 37838.935856 | 0.426075      | 0.435082        |"
      ]
     },
     "metadata": {},
     "output_type": "display_data"
    },
    {
     "data": {
      "text/html": [
       "<pre>| 693       | 37893.437142 | 0.426055      | 0.435055        |</pre>"
      ],
      "text/plain": [
       "| 693       | 37893.437142 | 0.426055      | 0.435055        |"
      ]
     },
     "metadata": {},
     "output_type": "display_data"
    },
    {
     "data": {
      "text/html": [
       "<pre>| 694       | 37944.839460 | 0.426034      | 0.435021        |</pre>"
      ],
      "text/plain": [
       "| 694       | 37944.839460 | 0.426034      | 0.435021        |"
      ]
     },
     "metadata": {},
     "output_type": "display_data"
    },
    {
     "data": {
      "text/html": [
       "<pre>| 695       | 38000.174830 | 0.426027      | 0.435019        |</pre>"
      ],
      "text/plain": [
       "| 695       | 38000.174830 | 0.426027      | 0.435019        |"
      ]
     },
     "metadata": {},
     "output_type": "display_data"
    },
    {
     "data": {
      "text/html": [
       "<pre>| 696       | 38054.180642 | 0.426011      | 0.435021        |</pre>"
      ],
      "text/plain": [
       "| 696       | 38054.180642 | 0.426011      | 0.435021        |"
      ]
     },
     "metadata": {},
     "output_type": "display_data"
    },
    {
     "data": {
      "text/html": [
       "<pre>| 697       | 38107.096578 | 0.425993      | 0.435021        |</pre>"
      ],
      "text/plain": [
       "| 697       | 38107.096578 | 0.425993      | 0.435021        |"
      ]
     },
     "metadata": {},
     "output_type": "display_data"
    },
    {
     "data": {
      "text/html": [
       "<pre>| 698       | 38159.463646 | 0.425984      | 0.435008        |</pre>"
      ],
      "text/plain": [
       "| 698       | 38159.463646 | 0.425984      | 0.435008        |"
      ]
     },
     "metadata": {},
     "output_type": "display_data"
    },
    {
     "data": {
      "text/html": [
       "<pre>| 699       | 38213.510815 | 0.425968      | 0.434993        |</pre>"
      ],
      "text/plain": [
       "| 699       | 38213.510815 | 0.425968      | 0.434993        |"
      ]
     },
     "metadata": {},
     "output_type": "display_data"
    },
    {
     "data": {
      "text/html": [
       "<pre>| 700       | 38267.982463 | 0.425953      | 0.434997        |</pre>"
      ],
      "text/plain": [
       "| 700       | 38267.982463 | 0.425953      | 0.434997        |"
      ]
     },
     "metadata": {},
     "output_type": "display_data"
    },
    {
     "data": {
      "text/html": [
       "<pre>| 701       | 38323.151871 | 0.425943      | 0.434958        |</pre>"
      ],
      "text/plain": [
       "| 701       | 38323.151871 | 0.425943      | 0.434958        |"
      ]
     },
     "metadata": {},
     "output_type": "display_data"
    },
    {
     "data": {
      "text/html": [
       "<pre>| 702       | 38377.236471 | 0.425921      | 0.434953        |</pre>"
      ],
      "text/plain": [
       "| 702       | 38377.236471 | 0.425921      | 0.434953        |"
      ]
     },
     "metadata": {},
     "output_type": "display_data"
    },
    {
     "data": {
      "text/html": [
       "<pre>| 703       | 38432.202915 | 0.425901      | 0.434944        |</pre>"
      ],
      "text/plain": [
       "| 703       | 38432.202915 | 0.425901      | 0.434944        |"
      ]
     },
     "metadata": {},
     "output_type": "display_data"
    },
    {
     "data": {
      "text/html": [
       "<pre>| 704       | 38484.978864 | 0.425888      | 0.434939        |</pre>"
      ],
      "text/plain": [
       "| 704       | 38484.978864 | 0.425888      | 0.434939        |"
      ]
     },
     "metadata": {},
     "output_type": "display_data"
    },
    {
     "data": {
      "text/html": [
       "<pre>| 705       | 38537.315368 | 0.425865      | 0.434944        |</pre>"
      ],
      "text/plain": [
       "| 705       | 38537.315368 | 0.425865      | 0.434944        |"
      ]
     },
     "metadata": {},
     "output_type": "display_data"
    },
    {
     "data": {
      "text/html": [
       "<pre>| 706       | 38592.784051 | 0.425835      | 0.434950        |</pre>"
      ],
      "text/plain": [
       "| 706       | 38592.784051 | 0.425835      | 0.434950        |"
      ]
     },
     "metadata": {},
     "output_type": "display_data"
    },
    {
     "data": {
      "text/html": [
       "<pre>| 707       | 38646.368641 | 0.425827      | 0.434941        |</pre>"
      ],
      "text/plain": [
       "| 707       | 38646.368641 | 0.425827      | 0.434941        |"
      ]
     },
     "metadata": {},
     "output_type": "display_data"
    },
    {
     "data": {
      "text/html": [
       "<pre>| 708       | 38698.574368 | 0.425808      | 0.434930        |</pre>"
      ],
      "text/plain": [
       "| 708       | 38698.574368 | 0.425808      | 0.434930        |"
      ]
     },
     "metadata": {},
     "output_type": "display_data"
    },
    {
     "data": {
      "text/html": [
       "<pre>| 709       | 38751.798442 | 0.425794      | 0.434924        |</pre>"
      ],
      "text/plain": [
       "| 709       | 38751.798442 | 0.425794      | 0.434924        |"
      ]
     },
     "metadata": {},
     "output_type": "display_data"
    },
    {
     "data": {
      "text/html": [
       "<pre>| 710       | 38806.521532 | 0.425778      | 0.434929        |</pre>"
      ],
      "text/plain": [
       "| 710       | 38806.521532 | 0.425778      | 0.434929        |"
      ]
     },
     "metadata": {},
     "output_type": "display_data"
    },
    {
     "data": {
      "text/html": [
       "<pre>| 711       | 38861.185877 | 0.425767      | 0.434925        |</pre>"
      ],
      "text/plain": [
       "| 711       | 38861.185877 | 0.425767      | 0.434925        |"
      ]
     },
     "metadata": {},
     "output_type": "display_data"
    },
    {
     "data": {
      "text/html": [
       "<pre>| 712       | 38918.204987 | 0.425742      | 0.434939        |</pre>"
      ],
      "text/plain": [
       "| 712       | 38918.204987 | 0.425742      | 0.434939        |"
      ]
     },
     "metadata": {},
     "output_type": "display_data"
    },
    {
     "data": {
      "text/html": [
       "<pre>| 713       | 38971.553479 | 0.425730      | 0.434927        |</pre>"
      ],
      "text/plain": [
       "| 713       | 38971.553479 | 0.425730      | 0.434927        |"
      ]
     },
     "metadata": {},
     "output_type": "display_data"
    },
    {
     "data": {
      "text/html": [
       "<pre>| 714       | 39023.821456 | 0.425721      | 0.434923        |</pre>"
      ],
      "text/plain": [
       "| 714       | 39023.821456 | 0.425721      | 0.434923        |"
      ]
     },
     "metadata": {},
     "output_type": "display_data"
    },
    {
     "data": {
      "text/html": [
       "<pre>| 715       | 39074.398569 | 0.425716      | 0.434926        |</pre>"
      ],
      "text/plain": [
       "| 715       | 39074.398569 | 0.425716      | 0.434926        |"
      ]
     },
     "metadata": {},
     "output_type": "display_data"
    },
    {
     "data": {
      "text/html": [
       "<pre>| 716       | 39128.372768 | 0.425700      | 0.434911        |</pre>"
      ],
      "text/plain": [
       "| 716       | 39128.372768 | 0.425700      | 0.434911        |"
      ]
     },
     "metadata": {},
     "output_type": "display_data"
    },
    {
     "data": {
      "text/html": [
       "<pre>| 717       | 39203.993211 | 0.425684      | 0.434907        |</pre>"
      ],
      "text/plain": [
       "| 717       | 39203.993211 | 0.425684      | 0.434907        |"
      ]
     },
     "metadata": {},
     "output_type": "display_data"
    },
    {
     "data": {
      "text/html": [
       "<pre>| 718       | 39258.558629 | 0.425661      | 0.434908        |</pre>"
      ],
      "text/plain": [
       "| 718       | 39258.558629 | 0.425661      | 0.434908        |"
      ]
     },
     "metadata": {},
     "output_type": "display_data"
    },
    {
     "data": {
      "text/html": [
       "<pre>| 719       | 39312.333030 | 0.425650      | 0.434900        |</pre>"
      ],
      "text/plain": [
       "| 719       | 39312.333030 | 0.425650      | 0.434900        |"
      ]
     },
     "metadata": {},
     "output_type": "display_data"
    },
    {
     "data": {
      "text/html": [
       "<pre>| 720       | 39366.973823 | 0.425638      | 0.434897        |</pre>"
      ],
      "text/plain": [
       "| 720       | 39366.973823 | 0.425638      | 0.434897        |"
      ]
     },
     "metadata": {},
     "output_type": "display_data"
    },
    {
     "data": {
      "text/html": [
       "<pre>| 721       | 39420.172770 | 0.425614      | 0.434895        |</pre>"
      ],
      "text/plain": [
       "| 721       | 39420.172770 | 0.425614      | 0.434895        |"
      ]
     },
     "metadata": {},
     "output_type": "display_data"
    },
    {
     "data": {
      "text/html": [
       "<pre>| 722       | 39473.177653 | 0.425591      | 0.434892        |</pre>"
      ],
      "text/plain": [
       "| 722       | 39473.177653 | 0.425591      | 0.434892        |"
      ]
     },
     "metadata": {},
     "output_type": "display_data"
    },
    {
     "data": {
      "text/html": [
       "<pre>| 723       | 39525.519919 | 0.425575      | 0.434884        |</pre>"
      ],
      "text/plain": [
       "| 723       | 39525.519919 | 0.425575      | 0.434884        |"
      ]
     },
     "metadata": {},
     "output_type": "display_data"
    },
    {
     "data": {
      "text/html": [
       "<pre>| 724       | 39579.740909 | 0.425566      | 0.434903        |</pre>"
      ],
      "text/plain": [
       "| 724       | 39579.740909 | 0.425566      | 0.434903        |"
      ]
     },
     "metadata": {},
     "output_type": "display_data"
    },
    {
     "data": {
      "text/html": [
       "<pre>| 725       | 39632.090019 | 0.425550      | 0.434900        |</pre>"
      ],
      "text/plain": [
       "| 725       | 39632.090019 | 0.425550      | 0.434900        |"
      ]
     },
     "metadata": {},
     "output_type": "display_data"
    },
    {
     "data": {
      "text/html": [
       "<pre>| 726       | 39686.796891 | 0.425518      | 0.434902        |</pre>"
      ],
      "text/plain": [
       "| 726       | 39686.796891 | 0.425518      | 0.434902        |"
      ]
     },
     "metadata": {},
     "output_type": "display_data"
    },
    {
     "data": {
      "text/html": [
       "<pre>| 727       | 39740.373787 | 0.425502      | 0.434887        |</pre>"
      ],
      "text/plain": [
       "| 727       | 39740.373787 | 0.425502      | 0.434887        |"
      ]
     },
     "metadata": {},
     "output_type": "display_data"
    },
    {
     "data": {
      "text/html": [
       "<pre>| 728       | 39791.343596 | 0.425491      | 0.434897        |</pre>"
      ],
      "text/plain": [
       "| 728       | 39791.343596 | 0.425491      | 0.434897        |"
      ]
     },
     "metadata": {},
     "output_type": "display_data"
    },
    {
     "data": {
      "text/html": [
       "<pre>| 729       | 39847.284310 | 0.425479      | 0.434887        |</pre>"
      ],
      "text/plain": [
       "| 729       | 39847.284310 | 0.425479      | 0.434887        |"
      ]
     },
     "metadata": {},
     "output_type": "display_data"
    },
    {
     "data": {
      "text/html": [
       "<pre>| 730       | 39900.995444 | 0.425463      | 0.434878        |</pre>"
      ],
      "text/plain": [
       "| 730       | 39900.995444 | 0.425463      | 0.434878        |"
      ]
     },
     "metadata": {},
     "output_type": "display_data"
    },
    {
     "data": {
      "text/html": [
       "<pre>| 731       | 39952.192368 | 0.425446      | 0.434878        |</pre>"
      ],
      "text/plain": [
       "| 731       | 39952.192368 | 0.425446      | 0.434878        |"
      ]
     },
     "metadata": {},
     "output_type": "display_data"
    },
    {
     "data": {
      "text/html": [
       "<pre>| 732       | 40005.375199 | 0.425428      | 0.434887        |</pre>"
      ],
      "text/plain": [
       "| 732       | 40005.375199 | 0.425428      | 0.434887        |"
      ]
     },
     "metadata": {},
     "output_type": "display_data"
    },
    {
     "data": {
      "text/html": [
       "<pre>| 733       | 40061.626422 | 0.425405      | 0.434887        |</pre>"
      ],
      "text/plain": [
       "| 733       | 40061.626422 | 0.425405      | 0.434887        |"
      ]
     },
     "metadata": {},
     "output_type": "display_data"
    },
    {
     "data": {
      "text/html": [
       "<pre>| 734       | 40113.751829 | 0.425397      | 0.434905        |</pre>"
      ],
      "text/plain": [
       "| 734       | 40113.751829 | 0.425397      | 0.434905        |"
      ]
     },
     "metadata": {},
     "output_type": "display_data"
    },
    {
     "data": {
      "text/html": [
       "<pre>| 735       | 40164.781957 | 0.425374      | 0.434907        |</pre>"
      ],
      "text/plain": [
       "| 735       | 40164.781957 | 0.425374      | 0.434907        |"
      ]
     },
     "metadata": {},
     "output_type": "display_data"
    },
    {
     "data": {
      "text/html": [
       "<pre>| 736       | 40220.182530 | 0.425361      | 0.434891        |</pre>"
      ],
      "text/plain": [
       "| 736       | 40220.182530 | 0.425361      | 0.434891        |"
      ]
     },
     "metadata": {},
     "output_type": "display_data"
    },
    {
     "data": {
      "text/html": [
       "<pre>| 737       | 40270.547381 | 0.425349      | 0.434895        |</pre>"
      ],
      "text/plain": [
       "| 737       | 40270.547381 | 0.425349      | 0.434895        |"
      ]
     },
     "metadata": {},
     "output_type": "display_data"
    },
    {
     "data": {
      "text/html": [
       "<pre>| 738       | 40319.450750 | 0.425346      | 0.434894        |</pre>"
      ],
      "text/plain": [
       "| 738       | 40319.450750 | 0.425346      | 0.434894        |"
      ]
     },
     "metadata": {},
     "output_type": "display_data"
    },
    {
     "data": {
      "text/html": [
       "<pre>| 739       | 40374.687559 | 0.425329      | 0.434885        |</pre>"
      ],
      "text/plain": [
       "| 739       | 40374.687559 | 0.425329      | 0.434885        |"
      ]
     },
     "metadata": {},
     "output_type": "display_data"
    },
    {
     "data": {
      "text/html": [
       "<pre>| 740       | 40429.334020 | 0.425304      | 0.434871        |</pre>"
      ],
      "text/plain": [
       "| 740       | 40429.334020 | 0.425304      | 0.434871        |"
      ]
     },
     "metadata": {},
     "output_type": "display_data"
    },
    {
     "data": {
      "text/html": [
       "<pre>| 741       | 40484.053610 | 0.425285      | 0.434868        |</pre>"
      ],
      "text/plain": [
       "| 741       | 40484.053610 | 0.425285      | 0.434868        |"
      ]
     },
     "metadata": {},
     "output_type": "display_data"
    },
    {
     "data": {
      "text/html": [
       "<pre>| 742       | 40536.580016 | 0.425266      | 0.434835        |</pre>"
      ],
      "text/plain": [
       "| 742       | 40536.580016 | 0.425266      | 0.434835        |"
      ]
     },
     "metadata": {},
     "output_type": "display_data"
    },
    {
     "data": {
      "text/html": [
       "<pre>| 743       | 40587.138879 | 0.425256      | 0.434842        |</pre>"
      ],
      "text/plain": [
       "| 743       | 40587.138879 | 0.425256      | 0.434842        |"
      ]
     },
     "metadata": {},
     "output_type": "display_data"
    },
    {
     "data": {
      "text/html": [
       "<pre>| 744       | 40635.405607 | 0.425255      | 0.434841        |</pre>"
      ],
      "text/plain": [
       "| 744       | 40635.405607 | 0.425255      | 0.434841        |"
      ]
     },
     "metadata": {},
     "output_type": "display_data"
    },
    {
     "data": {
      "text/html": [
       "<pre>| 745       | 40688.414826 | 0.425240      | 0.434833        |</pre>"
      ],
      "text/plain": [
       "| 745       | 40688.414826 | 0.425240      | 0.434833        |"
      ]
     },
     "metadata": {},
     "output_type": "display_data"
    },
    {
     "data": {
      "text/html": [
       "<pre>| 746       | 40743.449962 | 0.425222      | 0.434814        |</pre>"
      ],
      "text/plain": [
       "| 746       | 40743.449962 | 0.425222      | 0.434814        |"
      ]
     },
     "metadata": {},
     "output_type": "display_data"
    },
    {
     "data": {
      "text/html": [
       "<pre>| 747       | 40795.091030 | 0.425203      | 0.434785        |</pre>"
      ],
      "text/plain": [
       "| 747       | 40795.091030 | 0.425203      | 0.434785        |"
      ]
     },
     "metadata": {},
     "output_type": "display_data"
    },
    {
     "data": {
      "text/html": [
       "<pre>| 748       | 40849.428651 | 0.425187      | 0.434791        |</pre>"
      ],
      "text/plain": [
       "| 748       | 40849.428651 | 0.425187      | 0.434791        |"
      ]
     },
     "metadata": {},
     "output_type": "display_data"
    },
    {
     "data": {
      "text/html": [
       "<pre>| 749       | 40905.046366 | 0.425171      | 0.434779        |</pre>"
      ],
      "text/plain": [
       "| 749       | 40905.046366 | 0.425171      | 0.434779        |"
      ]
     },
     "metadata": {},
     "output_type": "display_data"
    },
    {
     "data": {
      "text/html": [
       "<pre>| 750       | 40956.068083 | 0.425163      | 0.434778        |</pre>"
      ],
      "text/plain": [
       "| 750       | 40956.068083 | 0.425163      | 0.434778        |"
      ]
     },
     "metadata": {},
     "output_type": "display_data"
    },
    {
     "data": {
      "text/html": [
       "<pre>| 751       | 41008.482597 | 0.425146      | 0.434766        |</pre>"
      ],
      "text/plain": [
       "| 751       | 41008.482597 | 0.425146      | 0.434766        |"
      ]
     },
     "metadata": {},
     "output_type": "display_data"
    },
    {
     "data": {
      "text/html": [
       "<pre>| 752       | 41063.234643 | 0.425127      | 0.434766        |</pre>"
      ],
      "text/plain": [
       "| 752       | 41063.234643 | 0.425127      | 0.434766        |"
      ]
     },
     "metadata": {},
     "output_type": "display_data"
    },
    {
     "data": {
      "text/html": [
       "<pre>| 753       | 41115.338543 | 0.425107      | 0.434772        |</pre>"
      ],
      "text/plain": [
       "| 753       | 41115.338543 | 0.425107      | 0.434772        |"
      ]
     },
     "metadata": {},
     "output_type": "display_data"
    },
    {
     "data": {
      "text/html": [
       "<pre>| 754       | 41165.612577 | 0.425079      | 0.434748        |</pre>"
      ],
      "text/plain": [
       "| 754       | 41165.612577 | 0.425079      | 0.434748        |"
      ]
     },
     "metadata": {},
     "output_type": "display_data"
    },
    {
     "data": {
      "text/html": [
       "<pre>| 755       | 41206.206994 | 0.425077      | 0.434749        |</pre>"
      ],
      "text/plain": [
       "| 755       | 41206.206994 | 0.425077      | 0.434749        |"
      ]
     },
     "metadata": {},
     "output_type": "display_data"
    },
    {
     "data": {
      "text/html": [
       "<pre>| 756       | 41239.508681 | 0.425048      | 0.434748        |</pre>"
      ],
      "text/plain": [
       "| 756       | 41239.508681 | 0.425048      | 0.434748        |"
      ]
     },
     "metadata": {},
     "output_type": "display_data"
    },
    {
     "data": {
      "text/html": [
       "<pre>| 757       | 41272.365213 | 0.425033      | 0.434753        |</pre>"
      ],
      "text/plain": [
       "| 757       | 41272.365213 | 0.425033      | 0.434753        |"
      ]
     },
     "metadata": {},
     "output_type": "display_data"
    },
    {
     "data": {
      "text/html": [
       "<pre>| 758       | 41304.454991 | 0.425020      | 0.434757        |</pre>"
      ],
      "text/plain": [
       "| 758       | 41304.454991 | 0.425020      | 0.434757        |"
      ]
     },
     "metadata": {},
     "output_type": "display_data"
    },
    {
     "data": {
      "text/html": [
       "<pre>| 759       | 41338.595817 | 0.425011      | 0.434752        |</pre>"
      ],
      "text/plain": [
       "| 759       | 41338.595817 | 0.425011      | 0.434752        |"
      ]
     },
     "metadata": {},
     "output_type": "display_data"
    },
    {
     "data": {
      "text/html": [
       "<pre>| 760       | 41373.253619 | 0.424983      | 0.434733        |</pre>"
      ],
      "text/plain": [
       "| 760       | 41373.253619 | 0.424983      | 0.434733        |"
      ]
     },
     "metadata": {},
     "output_type": "display_data"
    },
    {
     "data": {
      "text/html": [
       "<pre>| 761       | 41404.951603 | 0.424971      | 0.434744        |</pre>"
      ],
      "text/plain": [
       "| 761       | 41404.951603 | 0.424971      | 0.434744        |"
      ]
     },
     "metadata": {},
     "output_type": "display_data"
    },
    {
     "data": {
      "text/html": [
       "<pre>| 762       | 41436.661449 | 0.424962      | 0.434736        |</pre>"
      ],
      "text/plain": [
       "| 762       | 41436.661449 | 0.424962      | 0.434736        |"
      ]
     },
     "metadata": {},
     "output_type": "display_data"
    },
    {
     "data": {
      "text/html": [
       "<pre>| 763       | 41465.065818 | 0.424951      | 0.434729        |</pre>"
      ],
      "text/plain": [
       "| 763       | 41465.065818 | 0.424951      | 0.434729        |"
      ]
     },
     "metadata": {},
     "output_type": "display_data"
    },
    {
     "data": {
      "text/html": [
       "<pre>| 764       | 41496.551160 | 0.424929      | 0.434758        |</pre>"
      ],
      "text/plain": [
       "| 764       | 41496.551160 | 0.424929      | 0.434758        |"
      ]
     },
     "metadata": {},
     "output_type": "display_data"
    },
    {
     "data": {
      "text/html": [
       "<pre>| 765       | 41530.839265 | 0.424912      | 0.434736        |</pre>"
      ],
      "text/plain": [
       "| 765       | 41530.839265 | 0.424912      | 0.434736        |"
      ]
     },
     "metadata": {},
     "output_type": "display_data"
    },
    {
     "data": {
      "text/html": [
       "<pre>| 766       | 41565.091503 | 0.424901      | 0.434740        |</pre>"
      ],
      "text/plain": [
       "| 766       | 41565.091503 | 0.424901      | 0.434740        |"
      ]
     },
     "metadata": {},
     "output_type": "display_data"
    },
    {
     "data": {
      "text/html": [
       "<pre>| 767       | 41600.034814 | 0.424893      | 0.434739        |</pre>"
      ],
      "text/plain": [
       "| 767       | 41600.034814 | 0.424893      | 0.434739        |"
      ]
     },
     "metadata": {},
     "output_type": "display_data"
    },
    {
     "data": {
      "text/html": [
       "<pre>| 768       | 41632.987042 | 0.424876      | 0.434745        |</pre>"
      ],
      "text/plain": [
       "| 768       | 41632.987042 | 0.424876      | 0.434745        |"
      ]
     },
     "metadata": {},
     "output_type": "display_data"
    },
    {
     "data": {
      "text/html": [
       "<pre>| 769       | 41666.629760 | 0.424866      | 0.434739        |</pre>"
      ],
      "text/plain": [
       "| 769       | 41666.629760 | 0.424866      | 0.434739        |"
      ]
     },
     "metadata": {},
     "output_type": "display_data"
    },
    {
     "data": {
      "text/html": [
       "<pre>| 770       | 41695.634754 | 0.424857      | 0.434728        |</pre>"
      ],
      "text/plain": [
       "| 770       | 41695.634754 | 0.424857      | 0.434728        |"
      ]
     },
     "metadata": {},
     "output_type": "display_data"
    },
    {
     "data": {
      "text/html": [
       "<pre>| 771       | 41729.491738 | 0.424840      | 0.434722        |</pre>"
      ],
      "text/plain": [
       "| 771       | 41729.491738 | 0.424840      | 0.434722        |"
      ]
     },
     "metadata": {},
     "output_type": "display_data"
    },
    {
     "data": {
      "text/html": [
       "<pre>| 772       | 41761.927578 | 0.424830      | 0.434718        |</pre>"
      ],
      "text/plain": [
       "| 772       | 41761.927578 | 0.424830      | 0.434718        |"
      ]
     },
     "metadata": {},
     "output_type": "display_data"
    },
    {
     "data": {
      "text/html": [
       "<pre>| 773       | 41794.253378 | 0.424818      | 0.434703        |</pre>"
      ],
      "text/plain": [
       "| 773       | 41794.253378 | 0.424818      | 0.434703        |"
      ]
     },
     "metadata": {},
     "output_type": "display_data"
    },
    {
     "data": {
      "text/html": [
       "<pre>| 774       | 41827.295905 | 0.424808      | 0.434702        |</pre>"
      ],
      "text/plain": [
       "| 774       | 41827.295905 | 0.424808      | 0.434702        |"
      ]
     },
     "metadata": {},
     "output_type": "display_data"
    },
    {
     "data": {
      "text/html": [
       "<pre>| 775       | 41860.501992 | 0.424795      | 0.434689        |</pre>"
      ],
      "text/plain": [
       "| 775       | 41860.501992 | 0.424795      | 0.434689        |"
      ]
     },
     "metadata": {},
     "output_type": "display_data"
    },
    {
     "data": {
      "text/html": [
       "<pre>| 776       | 41893.077245 | 0.424788      | 0.434688        |</pre>"
      ],
      "text/plain": [
       "| 776       | 41893.077245 | 0.424788      | 0.434688        |"
      ]
     },
     "metadata": {},
     "output_type": "display_data"
    },
    {
     "data": {
      "text/html": [
       "<pre>| 777       | 41928.809468 | 0.424778      | 0.434682        |</pre>"
      ],
      "text/plain": [
       "| 777       | 41928.809468 | 0.424778      | 0.434682        |"
      ]
     },
     "metadata": {},
     "output_type": "display_data"
    },
    {
     "data": {
      "text/html": [
       "<pre>| 778       | 41964.395068 | 0.424758      | 0.434663        |</pre>"
      ],
      "text/plain": [
       "| 778       | 41964.395068 | 0.424758      | 0.434663        |"
      ]
     },
     "metadata": {},
     "output_type": "display_data"
    },
    {
     "data": {
      "text/html": [
       "<pre>| 779       | 41999.101145 | 0.424748      | 0.434655        |</pre>"
      ],
      "text/plain": [
       "| 779       | 41999.101145 | 0.424748      | 0.434655        |"
      ]
     },
     "metadata": {},
     "output_type": "display_data"
    },
    {
     "data": {
      "text/html": [
       "<pre>| 780       | 42034.035919 | 0.424721      | 0.434615        |</pre>"
      ],
      "text/plain": [
       "| 780       | 42034.035919 | 0.424721      | 0.434615        |"
      ]
     },
     "metadata": {},
     "output_type": "display_data"
    },
    {
     "data": {
      "text/html": [
       "<pre>| 781       | 42066.255928 | 0.424715      | 0.434616        |</pre>"
      ],
      "text/plain": [
       "| 781       | 42066.255928 | 0.424715      | 0.434616        |"
      ]
     },
     "metadata": {},
     "output_type": "display_data"
    },
    {
     "data": {
      "text/html": [
       "<pre>| 782       | 42097.788154 | 0.424703      | 0.434607        |</pre>"
      ],
      "text/plain": [
       "| 782       | 42097.788154 | 0.424703      | 0.434607        |"
      ]
     },
     "metadata": {},
     "output_type": "display_data"
    },
    {
     "data": {
      "text/html": [
       "<pre>| 783       | 42133.864764 | 0.424679      | 0.434617        |</pre>"
      ],
      "text/plain": [
       "| 783       | 42133.864764 | 0.424679      | 0.434617        |"
      ]
     },
     "metadata": {},
     "output_type": "display_data"
    },
    {
     "data": {
      "text/html": [
       "<pre>| 784       | 42166.226921 | 0.424669      | 0.434623        |</pre>"
      ],
      "text/plain": [
       "| 784       | 42166.226921 | 0.424669      | 0.434623        |"
      ]
     },
     "metadata": {},
     "output_type": "display_data"
    },
    {
     "data": {
      "text/html": [
       "<pre>| 785       | 42198.883390 | 0.424662      | 0.434623        |</pre>"
      ],
      "text/plain": [
       "| 785       | 42198.883390 | 0.424662      | 0.434623        |"
      ]
     },
     "metadata": {},
     "output_type": "display_data"
    },
    {
     "data": {
      "text/html": [
       "<pre>| 786       | 42233.685673 | 0.424655      | 0.434622        |</pre>"
      ],
      "text/plain": [
       "| 786       | 42233.685673 | 0.424655      | 0.434622        |"
      ]
     },
     "metadata": {},
     "output_type": "display_data"
    },
    {
     "data": {
      "text/html": [
       "<pre>| 787       | 42265.563520 | 0.424639      | 0.434615        |</pre>"
      ],
      "text/plain": [
       "| 787       | 42265.563520 | 0.424639      | 0.434615        |"
      ]
     },
     "metadata": {},
     "output_type": "display_data"
    },
    {
     "data": {
      "text/html": [
       "<pre>| 788       | 42300.405331 | 0.424630      | 0.434615        |</pre>"
      ],
      "text/plain": [
       "| 788       | 42300.405331 | 0.424630      | 0.434615        |"
      ]
     },
     "metadata": {},
     "output_type": "display_data"
    },
    {
     "data": {
      "text/html": [
       "<pre>| 789       | 42330.800807 | 0.424605      | 0.434634        |</pre>"
      ],
      "text/plain": [
       "| 789       | 42330.800807 | 0.424605      | 0.434634        |"
      ]
     },
     "metadata": {},
     "output_type": "display_data"
    },
    {
     "data": {
      "text/html": [
       "<pre>| 790       | 42364.456421 | 0.424594      | 0.434635        |</pre>"
      ],
      "text/plain": [
       "| 790       | 42364.456421 | 0.424594      | 0.434635        |"
      ]
     },
     "metadata": {},
     "output_type": "display_data"
    },
    {
     "data": {
      "text/html": [
       "<pre>| 791       | 42394.369761 | 0.424589      | 0.434634        |</pre>"
      ],
      "text/plain": [
       "| 791       | 42394.369761 | 0.424589      | 0.434634        |"
      ]
     },
     "metadata": {},
     "output_type": "display_data"
    },
    {
     "data": {
      "text/html": [
       "<pre>| 792       | 42427.460758 | 0.424580      | 0.434634        |</pre>"
      ],
      "text/plain": [
       "| 792       | 42427.460758 | 0.424580      | 0.434634        |"
      ]
     },
     "metadata": {},
     "output_type": "display_data"
    },
    {
     "data": {
      "text/html": [
       "<pre>| 793       | 42461.526108 | 0.424565      | 0.434624        |</pre>"
      ],
      "text/plain": [
       "| 793       | 42461.526108 | 0.424565      | 0.434624        |"
      ]
     },
     "metadata": {},
     "output_type": "display_data"
    },
    {
     "data": {
      "text/html": [
       "<pre>| 794       | 42497.997370 | 0.424547      | 0.434620        |</pre>"
      ],
      "text/plain": [
       "| 794       | 42497.997370 | 0.424547      | 0.434620        |"
      ]
     },
     "metadata": {},
     "output_type": "display_data"
    },
    {
     "data": {
      "text/html": [
       "<pre>| 795       | 42530.368019 | 0.424536      | 0.434616        |</pre>"
      ],
      "text/plain": [
       "| 795       | 42530.368019 | 0.424536      | 0.434616        |"
      ]
     },
     "metadata": {},
     "output_type": "display_data"
    },
    {
     "data": {
      "text/html": [
       "<pre>| 796       | 42562.061673 | 0.424523      | 0.434619        |</pre>"
      ],
      "text/plain": [
       "| 796       | 42562.061673 | 0.424523      | 0.434619        |"
      ]
     },
     "metadata": {},
     "output_type": "display_data"
    },
    {
     "data": {
      "text/html": [
       "<pre>| 797       | 42595.343302 | 0.424507      | 0.434619        |</pre>"
      ],
      "text/plain": [
       "| 797       | 42595.343302 | 0.424507      | 0.434619        |"
      ]
     },
     "metadata": {},
     "output_type": "display_data"
    },
    {
     "data": {
      "text/html": [
       "<pre>| 798       | 42629.187109 | 0.424491      | 0.434625        |</pre>"
      ],
      "text/plain": [
       "| 798       | 42629.187109 | 0.424491      | 0.434625        |"
      ]
     },
     "metadata": {},
     "output_type": "display_data"
    },
    {
     "data": {
      "text/html": [
       "<pre>| 799       | 42661.824461 | 0.424472      | 0.434631        |</pre>"
      ],
      "text/plain": [
       "| 799       | 42661.824461 | 0.424472      | 0.434631        |"
      ]
     },
     "metadata": {},
     "output_type": "display_data"
    },
    {
     "data": {
      "text/html": [
       "<pre>| 800       | 42692.875871 | 0.424460      | 0.434619        |</pre>"
      ],
      "text/plain": [
       "| 800       | 42692.875871 | 0.424460      | 0.434619        |"
      ]
     },
     "metadata": {},
     "output_type": "display_data"
    },
    {
     "data": {
      "text/html": [
       "<pre>| 801       | 42724.621352 | 0.424447      | 0.434608        |</pre>"
      ],
      "text/plain": [
       "| 801       | 42724.621352 | 0.424447      | 0.434608        |"
      ]
     },
     "metadata": {},
     "output_type": "display_data"
    },
    {
     "data": {
      "text/html": [
       "<pre>| 802       | 42759.522552 | 0.424432      | 0.434584        |</pre>"
      ],
      "text/plain": [
       "| 802       | 42759.522552 | 0.424432      | 0.434584        |"
      ]
     },
     "metadata": {},
     "output_type": "display_data"
    },
    {
     "data": {
      "text/html": [
       "<pre>| 803       | 42792.426310 | 0.424423      | 0.434583        |</pre>"
      ],
      "text/plain": [
       "| 803       | 42792.426310 | 0.424423      | 0.434583        |"
      ]
     },
     "metadata": {},
     "output_type": "display_data"
    },
    {
     "data": {
      "text/html": [
       "<pre>| 804       | 42826.067636 | 0.424407      | 0.434580        |</pre>"
      ],
      "text/plain": [
       "| 804       | 42826.067636 | 0.424407      | 0.434580        |"
      ]
     },
     "metadata": {},
     "output_type": "display_data"
    },
    {
     "data": {
      "text/html": [
       "<pre>| 805       | 42859.630120 | 0.424384      | 0.434570        |</pre>"
      ],
      "text/plain": [
       "| 805       | 42859.630120 | 0.424384      | 0.434570        |"
      ]
     },
     "metadata": {},
     "output_type": "display_data"
    },
    {
     "data": {
      "text/html": [
       "<pre>| 806       | 42892.471943 | 0.424376      | 0.434567        |</pre>"
      ],
      "text/plain": [
       "| 806       | 42892.471943 | 0.424376      | 0.434567        |"
      ]
     },
     "metadata": {},
     "output_type": "display_data"
    },
    {
     "data": {
      "text/html": [
       "<pre>| 807       | 42922.072426 | 0.424367      | 0.434573        |</pre>"
      ],
      "text/plain": [
       "| 807       | 42922.072426 | 0.424367      | 0.434573        |"
      ]
     },
     "metadata": {},
     "output_type": "display_data"
    },
    {
     "data": {
      "text/html": [
       "<pre>| 808       | 42954.531397 | 0.424361      | 0.434572        |</pre>"
      ],
      "text/plain": [
       "| 808       | 42954.531397 | 0.424361      | 0.434572        |"
      ]
     },
     "metadata": {},
     "output_type": "display_data"
    },
    {
     "data": {
      "text/html": [
       "<pre>| 809       | 42987.785629 | 0.424346      | 0.434557        |</pre>"
      ],
      "text/plain": [
       "| 809       | 42987.785629 | 0.424346      | 0.434557        |"
      ]
     },
     "metadata": {},
     "output_type": "display_data"
    },
    {
     "data": {
      "text/html": [
       "<pre>| 810       | 43020.135923 | 0.424337      | 0.434541        |</pre>"
      ],
      "text/plain": [
       "| 810       | 43020.135923 | 0.424337      | 0.434541        |"
      ]
     },
     "metadata": {},
     "output_type": "display_data"
    },
    {
     "data": {
      "text/html": [
       "<pre>| 811       | 43050.508855 | 0.424318      | 0.434540        |</pre>"
      ],
      "text/plain": [
       "| 811       | 43050.508855 | 0.424318      | 0.434540        |"
      ]
     },
     "metadata": {},
     "output_type": "display_data"
    },
    {
     "data": {
      "text/html": [
       "<pre>| 812       | 43085.244983 | 0.424299      | 0.434531        |</pre>"
      ],
      "text/plain": [
       "| 812       | 43085.244983 | 0.424299      | 0.434531        |"
      ]
     },
     "metadata": {},
     "output_type": "display_data"
    },
    {
     "data": {
      "text/html": [
       "<pre>| 813       | 43121.290956 | 0.424265      | 0.434514        |</pre>"
      ],
      "text/plain": [
       "| 813       | 43121.290956 | 0.424265      | 0.434514        |"
      ]
     },
     "metadata": {},
     "output_type": "display_data"
    },
    {
     "data": {
      "text/html": [
       "<pre>| 814       | 43149.651794 | 0.424257      | 0.434501        |</pre>"
      ],
      "text/plain": [
       "| 814       | 43149.651794 | 0.424257      | 0.434501        |"
      ]
     },
     "metadata": {},
     "output_type": "display_data"
    },
    {
     "data": {
      "text/html": [
       "<pre>| 815       | 43182.786130 | 0.424244      | 0.434542        |</pre>"
      ],
      "text/plain": [
       "| 815       | 43182.786130 | 0.424244      | 0.434542        |"
      ]
     },
     "metadata": {},
     "output_type": "display_data"
    },
    {
     "data": {
      "text/html": [
       "<pre>| 816       | 43213.938440 | 0.424231      | 0.434545        |</pre>"
      ],
      "text/plain": [
       "| 816       | 43213.938440 | 0.424231      | 0.434545        |"
      ]
     },
     "metadata": {},
     "output_type": "display_data"
    },
    {
     "data": {
      "text/html": [
       "<pre>| 817       | 43249.886991 | 0.424216      | 0.434557        |</pre>"
      ],
      "text/plain": [
       "| 817       | 43249.886991 | 0.424216      | 0.434557        |"
      ]
     },
     "metadata": {},
     "output_type": "display_data"
    },
    {
     "data": {
      "text/html": [
       "<pre>| 818       | 43283.131359 | 0.424208      | 0.434558        |</pre>"
      ],
      "text/plain": [
       "| 818       | 43283.131359 | 0.424208      | 0.434558        |"
      ]
     },
     "metadata": {},
     "output_type": "display_data"
    },
    {
     "data": {
      "text/html": [
       "<pre>| 819       | 43317.073449 | 0.424194      | 0.434550        |</pre>"
      ],
      "text/plain": [
       "| 819       | 43317.073449 | 0.424194      | 0.434550        |"
      ]
     },
     "metadata": {},
     "output_type": "display_data"
    },
    {
     "data": {
      "text/html": [
       "<pre>| 820       | 43349.705561 | 0.424190      | 0.434552        |</pre>"
      ],
      "text/plain": [
       "| 820       | 43349.705561 | 0.424190      | 0.434552        |"
      ]
     },
     "metadata": {},
     "output_type": "display_data"
    },
    {
     "data": {
      "text/html": [
       "<pre>| 821       | 43380.702286 | 0.424178      | 0.434548        |</pre>"
      ],
      "text/plain": [
       "| 821       | 43380.702286 | 0.424178      | 0.434548        |"
      ]
     },
     "metadata": {},
     "output_type": "display_data"
    },
    {
     "data": {
      "text/html": [
       "<pre>| 822       | 43414.372584 | 0.424160      | 0.434559        |</pre>"
      ],
      "text/plain": [
       "| 822       | 43414.372584 | 0.424160      | 0.434559        |"
      ]
     },
     "metadata": {},
     "output_type": "display_data"
    },
    {
     "data": {
      "text/html": [
       "<pre>| 823       | 43445.600247 | 0.424145      | 0.434551        |</pre>"
      ],
      "text/plain": [
       "| 823       | 43445.600247 | 0.424145      | 0.434551        |"
      ]
     },
     "metadata": {},
     "output_type": "display_data"
    },
    {
     "data": {
      "text/html": [
       "<pre>| 824       | 43479.062297 | 0.424129      | 0.434541        |</pre>"
      ],
      "text/plain": [
       "| 824       | 43479.062297 | 0.424129      | 0.434541        |"
      ]
     },
     "metadata": {},
     "output_type": "display_data"
    },
    {
     "data": {
      "text/html": [
       "<pre>| 825       | 43512.084589 | 0.424118      | 0.434537        |</pre>"
      ],
      "text/plain": [
       "| 825       | 43512.084589 | 0.424118      | 0.434537        |"
      ]
     },
     "metadata": {},
     "output_type": "display_data"
    },
    {
     "data": {
      "text/html": [
       "<pre>| 826       | 43547.201810 | 0.424093      | 0.434538        |</pre>"
      ],
      "text/plain": [
       "| 826       | 43547.201810 | 0.424093      | 0.434538        |"
      ]
     },
     "metadata": {},
     "output_type": "display_data"
    },
    {
     "data": {
      "text/html": [
       "<pre>| 827       | 43578.432365 | 0.424087      | 0.434527        |</pre>"
      ],
      "text/plain": [
       "| 827       | 43578.432365 | 0.424087      | 0.434527        |"
      ]
     },
     "metadata": {},
     "output_type": "display_data"
    },
    {
     "data": {
      "text/html": [
       "<pre>| 828       | 43611.603443 | 0.424070      | 0.434524        |</pre>"
      ],
      "text/plain": [
       "| 828       | 43611.603443 | 0.424070      | 0.434524        |"
      ]
     },
     "metadata": {},
     "output_type": "display_data"
    },
    {
     "data": {
      "text/html": [
       "<pre>| 829       | 43639.624757 | 0.424062      | 0.434521        |</pre>"
      ],
      "text/plain": [
       "| 829       | 43639.624757 | 0.424062      | 0.434521        |"
      ]
     },
     "metadata": {},
     "output_type": "display_data"
    },
    {
     "data": {
      "text/html": [
       "<pre>| 830       | 43672.801422 | 0.424052      | 0.434513        |</pre>"
      ],
      "text/plain": [
       "| 830       | 43672.801422 | 0.424052      | 0.434513        |"
      ]
     },
     "metadata": {},
     "output_type": "display_data"
    },
    {
     "data": {
      "text/html": [
       "<pre>| 831       | 43705.656155 | 0.424034      | 0.434512        |</pre>"
      ],
      "text/plain": [
       "| 831       | 43705.656155 | 0.424034      | 0.434512        |"
      ]
     },
     "metadata": {},
     "output_type": "display_data"
    },
    {
     "data": {
      "text/html": [
       "<pre>| 832       | 43739.432588 | 0.424028      | 0.434508        |</pre>"
      ],
      "text/plain": [
       "| 832       | 43739.432588 | 0.424028      | 0.434508        |"
      ]
     },
     "metadata": {},
     "output_type": "display_data"
    },
    {
     "data": {
      "text/html": [
       "<pre>| 833       | 43773.729954 | 0.424004      | 0.434482        |</pre>"
      ],
      "text/plain": [
       "| 833       | 43773.729954 | 0.424004      | 0.434482        |"
      ]
     },
     "metadata": {},
     "output_type": "display_data"
    },
    {
     "data": {
      "text/html": [
       "<pre>| 834       | 43807.664291 | 0.423993      | 0.434483        |</pre>"
      ],
      "text/plain": [
       "| 834       | 43807.664291 | 0.423993      | 0.434483        |"
      ]
     },
     "metadata": {},
     "output_type": "display_data"
    },
    {
     "data": {
      "text/html": [
       "<pre>| 835       | 43840.754499 | 0.423985      | 0.434472        |</pre>"
      ],
      "text/plain": [
       "| 835       | 43840.754499 | 0.423985      | 0.434472        |"
      ]
     },
     "metadata": {},
     "output_type": "display_data"
    },
    {
     "data": {
      "text/html": [
       "<pre>| 836       | 43873.432969 | 0.423967      | 0.434508        |</pre>"
      ],
      "text/plain": [
       "| 836       | 43873.432969 | 0.423967      | 0.434508        |"
      ]
     },
     "metadata": {},
     "output_type": "display_data"
    },
    {
     "data": {
      "text/html": [
       "<pre>| 837       | 43906.600073 | 0.423932      | 0.434487        |</pre>"
      ],
      "text/plain": [
       "| 837       | 43906.600073 | 0.423932      | 0.434487        |"
      ]
     },
     "metadata": {},
     "output_type": "display_data"
    },
    {
     "data": {
      "text/html": [
       "<pre>| 838       | 43936.708058 | 0.423924      | 0.434496        |</pre>"
      ],
      "text/plain": [
       "| 838       | 43936.708058 | 0.423924      | 0.434496        |"
      ]
     },
     "metadata": {},
     "output_type": "display_data"
    },
    {
     "data": {
      "text/html": [
       "<pre>| 839       | 43967.428156 | 0.423919      | 0.434493        |</pre>"
      ],
      "text/plain": [
       "| 839       | 43967.428156 | 0.423919      | 0.434493        |"
      ]
     },
     "metadata": {},
     "output_type": "display_data"
    },
    {
     "data": {
      "text/html": [
       "<pre>| 840       | 44001.658123 | 0.423908      | 0.434488        |</pre>"
      ],
      "text/plain": [
       "| 840       | 44001.658123 | 0.423908      | 0.434488        |"
      ]
     },
     "metadata": {},
     "output_type": "display_data"
    },
    {
     "data": {
      "text/html": [
       "<pre>| 841       | 44034.810867 | 0.423897      | 0.434483        |</pre>"
      ],
      "text/plain": [
       "| 841       | 44034.810867 | 0.423897      | 0.434483        |"
      ]
     },
     "metadata": {},
     "output_type": "display_data"
    },
    {
     "data": {
      "text/html": [
       "<pre>| 842       | 44067.351371 | 0.423889      | 0.434481        |</pre>"
      ],
      "text/plain": [
       "| 842       | 44067.351371 | 0.423889      | 0.434481        |"
      ]
     },
     "metadata": {},
     "output_type": "display_data"
    },
    {
     "data": {
      "text/html": [
       "<pre>| 843       | 44099.523274 | 0.423879      | 0.434477        |</pre>"
      ],
      "text/plain": [
       "| 843       | 44099.523274 | 0.423879      | 0.434477        |"
      ]
     },
     "metadata": {},
     "output_type": "display_data"
    },
    {
     "data": {
      "text/html": [
       "<pre>| 844       | 44133.438381 | 0.423863      | 0.434483        |</pre>"
      ],
      "text/plain": [
       "| 844       | 44133.438381 | 0.423863      | 0.434483        |"
      ]
     },
     "metadata": {},
     "output_type": "display_data"
    },
    {
     "data": {
      "text/html": [
       "<pre>| 845       | 44168.233226 | 0.423845      | 0.434486        |</pre>"
      ],
      "text/plain": [
       "| 845       | 44168.233226 | 0.423845      | 0.434486        |"
      ]
     },
     "metadata": {},
     "output_type": "display_data"
    },
    {
     "data": {
      "text/html": [
       "<pre>| 846       | 44201.330666 | 0.423831      | 0.434487        |</pre>"
      ],
      "text/plain": [
       "| 846       | 44201.330666 | 0.423831      | 0.434487        |"
      ]
     },
     "metadata": {},
     "output_type": "display_data"
    },
    {
     "data": {
      "text/html": [
       "<pre>| 847       | 44232.074727 | 0.423822      | 0.434484        |</pre>"
      ],
      "text/plain": [
       "| 847       | 44232.074727 | 0.423822      | 0.434484        |"
      ]
     },
     "metadata": {},
     "output_type": "display_data"
    },
    {
     "data": {
      "text/html": [
       "<pre>| 848       | 44262.967681 | 0.423812      | 0.434490        |</pre>"
      ],
      "text/plain": [
       "| 848       | 44262.967681 | 0.423812      | 0.434490        |"
      ]
     },
     "metadata": {},
     "output_type": "display_data"
    },
    {
     "data": {
      "text/html": [
       "<pre>| 849       | 44299.167704 | 0.423793      | 0.434488        |</pre>"
      ],
      "text/plain": [
       "| 849       | 44299.167704 | 0.423793      | 0.434488        |"
      ]
     },
     "metadata": {},
     "output_type": "display_data"
    },
    {
     "data": {
      "text/html": [
       "<pre>| 850       | 44332.596630 | 0.423773      | 0.434495        |</pre>"
      ],
      "text/plain": [
       "| 850       | 44332.596630 | 0.423773      | 0.434495        |"
      ]
     },
     "metadata": {},
     "output_type": "display_data"
    },
    {
     "data": {
      "text/html": [
       "<pre>| 851       | 44361.272534 | 0.423770      | 0.434498        |</pre>"
      ],
      "text/plain": [
       "| 851       | 44361.272534 | 0.423770      | 0.434498        |"
      ]
     },
     "metadata": {},
     "output_type": "display_data"
    },
    {
     "data": {
      "text/html": [
       "<pre>| 852       | 44394.927728 | 0.423766      | 0.434493        |</pre>"
      ],
      "text/plain": [
       "| 852       | 44394.927728 | 0.423766      | 0.434493        |"
      ]
     },
     "metadata": {},
     "output_type": "display_data"
    },
    {
     "data": {
      "text/html": [
       "<pre>| 853       | 44428.958139 | 0.423741      | 0.434496        |</pre>"
      ],
      "text/plain": [
       "| 853       | 44428.958139 | 0.423741      | 0.434496        |"
      ]
     },
     "metadata": {},
     "output_type": "display_data"
    },
    {
     "data": {
      "text/html": [
       "<pre>| 854       | 44463.656123 | 0.423726      | 0.434477        |</pre>"
      ],
      "text/plain": [
       "| 854       | 44463.656123 | 0.423726      | 0.434477        |"
      ]
     },
     "metadata": {},
     "output_type": "display_data"
    },
    {
     "data": {
      "text/html": [
       "<pre>| 855       | 44496.806495 | 0.423712      | 0.434471        |</pre>"
      ],
      "text/plain": [
       "| 855       | 44496.806495 | 0.423712      | 0.434471        |"
      ]
     },
     "metadata": {},
     "output_type": "display_data"
    },
    {
     "data": {
      "text/html": [
       "<pre>| 856       | 44530.478820 | 0.423698      | 0.434470        |</pre>"
      ],
      "text/plain": [
       "| 856       | 44530.478820 | 0.423698      | 0.434470        |"
      ]
     },
     "metadata": {},
     "output_type": "display_data"
    },
    {
     "data": {
      "text/html": [
       "<pre>| 857       | 44567.151334 | 0.423687      | 0.434460        |</pre>"
      ],
      "text/plain": [
       "| 857       | 44567.151334 | 0.423687      | 0.434460        |"
      ]
     },
     "metadata": {},
     "output_type": "display_data"
    },
    {
     "data": {
      "text/html": [
       "<pre>| 858       | 44601.643116 | 0.423666      | 0.434461        |</pre>"
      ],
      "text/plain": [
       "| 858       | 44601.643116 | 0.423666      | 0.434461        |"
      ]
     },
     "metadata": {},
     "output_type": "display_data"
    },
    {
     "data": {
      "text/html": [
       "<pre>| 859       | 44634.920204 | 0.423649      | 0.434456        |</pre>"
      ],
      "text/plain": [
       "| 859       | 44634.920204 | 0.423649      | 0.434456        |"
      ]
     },
     "metadata": {},
     "output_type": "display_data"
    },
    {
     "data": {
      "text/html": [
       "<pre>| 860       | 44666.544581 | 0.423643      | 0.434462        |</pre>"
      ],
      "text/plain": [
       "| 860       | 44666.544581 | 0.423643      | 0.434462        |"
      ]
     },
     "metadata": {},
     "output_type": "display_data"
    },
    {
     "data": {
      "text/html": [
       "<pre>| 861       | 44695.884376 | 0.423631      | 0.434456        |</pre>"
      ],
      "text/plain": [
       "| 861       | 44695.884376 | 0.423631      | 0.434456        |"
      ]
     },
     "metadata": {},
     "output_type": "display_data"
    },
    {
     "data": {
      "text/html": [
       "<pre>| 862       | 44728.568087 | 0.423619      | 0.434453        |</pre>"
      ],
      "text/plain": [
       "| 862       | 44728.568087 | 0.423619      | 0.434453        |"
      ]
     },
     "metadata": {},
     "output_type": "display_data"
    },
    {
     "data": {
      "text/html": [
       "<pre>| 863       | 44759.450216 | 0.423613      | 0.434451        |</pre>"
      ],
      "text/plain": [
       "| 863       | 44759.450216 | 0.423613      | 0.434451        |"
      ]
     },
     "metadata": {},
     "output_type": "display_data"
    },
    {
     "data": {
      "text/html": [
       "<pre>| 864       | 44794.443974 | 0.423600      | 0.434451        |</pre>"
      ],
      "text/plain": [
       "| 864       | 44794.443974 | 0.423600      | 0.434451        |"
      ]
     },
     "metadata": {},
     "output_type": "display_data"
    },
    {
     "data": {
      "text/html": [
       "<pre>| 865       | 44825.569384 | 0.423592      | 0.434450        |</pre>"
      ],
      "text/plain": [
       "| 865       | 44825.569384 | 0.423592      | 0.434450        |"
      ]
     },
     "metadata": {},
     "output_type": "display_data"
    },
    {
     "data": {
      "text/html": [
       "<pre>| 866       | 44861.138462 | 0.423568      | 0.434454        |</pre>"
      ],
      "text/plain": [
       "| 866       | 44861.138462 | 0.423568      | 0.434454        |"
      ]
     },
     "metadata": {},
     "output_type": "display_data"
    },
    {
     "data": {
      "text/html": [
       "<pre>| 867       | 44893.378516 | 0.423562      | 0.434452        |</pre>"
      ],
      "text/plain": [
       "| 867       | 44893.378516 | 0.423562      | 0.434452        |"
      ]
     },
     "metadata": {},
     "output_type": "display_data"
    },
    {
     "data": {
      "text/html": [
       "<pre>| 868       | 44926.749816 | 0.423539      | 0.434434        |</pre>"
      ],
      "text/plain": [
       "| 868       | 44926.749816 | 0.423539      | 0.434434        |"
      ]
     },
     "metadata": {},
     "output_type": "display_data"
    },
    {
     "data": {
      "text/html": [
       "<pre>| 869       | 44960.715003 | 0.423522      | 0.434445        |</pre>"
      ],
      "text/plain": [
       "| 869       | 44960.715003 | 0.423522      | 0.434445        |"
      ]
     },
     "metadata": {},
     "output_type": "display_data"
    },
    {
     "data": {
      "text/html": [
       "<pre>| 870       | 44990.898186 | 0.423512      | 0.434448        |</pre>"
      ],
      "text/plain": [
       "| 870       | 44990.898186 | 0.423512      | 0.434448        |"
      ]
     },
     "metadata": {},
     "output_type": "display_data"
    },
    {
     "data": {
      "text/html": [
       "<pre>| 871       | 45020.604544 | 0.423494      | 0.434431        |</pre>"
      ],
      "text/plain": [
       "| 871       | 45020.604544 | 0.423494      | 0.434431        |"
      ]
     },
     "metadata": {},
     "output_type": "display_data"
    },
    {
     "data": {
      "text/html": [
       "<pre>| 872       | 45054.287654 | 0.423475      | 0.434423        |</pre>"
      ],
      "text/plain": [
       "| 872       | 45054.287654 | 0.423475      | 0.434423        |"
      ]
     },
     "metadata": {},
     "output_type": "display_data"
    },
    {
     "data": {
      "text/html": [
       "<pre>| 873       | 45084.774800 | 0.423458      | 0.434405        |</pre>"
      ],
      "text/plain": [
       "| 873       | 45084.774800 | 0.423458      | 0.434405        |"
      ]
     },
     "metadata": {},
     "output_type": "display_data"
    },
    {
     "data": {
      "text/html": [
       "<pre>| 874       | 45118.623389 | 0.423441      | 0.434422        |</pre>"
      ],
      "text/plain": [
       "| 874       | 45118.623389 | 0.423441      | 0.434422        |"
      ]
     },
     "metadata": {},
     "output_type": "display_data"
    },
    {
     "data": {
      "text/html": [
       "<pre>| 875       | 45154.577956 | 0.423424      | 0.434422        |</pre>"
      ],
      "text/plain": [
       "| 875       | 45154.577956 | 0.423424      | 0.434422        |"
      ]
     },
     "metadata": {},
     "output_type": "display_data"
    },
    {
     "data": {
      "text/html": [
       "<pre>| 876       | 45185.571169 | 0.423414      | 0.434419        |</pre>"
      ],
      "text/plain": [
       "| 876       | 45185.571169 | 0.423414      | 0.434419        |"
      ]
     },
     "metadata": {},
     "output_type": "display_data"
    },
    {
     "data": {
      "text/html": [
       "<pre>| 877       | 45217.856642 | 0.423399      | 0.434421        |</pre>"
      ],
      "text/plain": [
       "| 877       | 45217.856642 | 0.423399      | 0.434421        |"
      ]
     },
     "metadata": {},
     "output_type": "display_data"
    },
    {
     "data": {
      "text/html": [
       "<pre>| 878       | 45252.031738 | 0.423382      | 0.434438        |</pre>"
      ],
      "text/plain": [
       "| 878       | 45252.031738 | 0.423382      | 0.434438        |"
      ]
     },
     "metadata": {},
     "output_type": "display_data"
    },
    {
     "data": {
      "text/html": [
       "<pre>| 879       | 45287.970338 | 0.423377      | 0.434437        |</pre>"
      ],
      "text/plain": [
       "| 879       | 45287.970338 | 0.423377      | 0.434437        |"
      ]
     },
     "metadata": {},
     "output_type": "display_data"
    },
    {
     "data": {
      "text/html": [
       "<pre>| 880       | 45325.260654 | 0.423360      | 0.434417        |</pre>"
      ],
      "text/plain": [
       "| 880       | 45325.260654 | 0.423360      | 0.434417        |"
      ]
     },
     "metadata": {},
     "output_type": "display_data"
    },
    {
     "data": {
      "text/html": [
       "<pre>| 881       | 45358.052442 | 0.423351      | 0.434415        |</pre>"
      ],
      "text/plain": [
       "| 881       | 45358.052442 | 0.423351      | 0.434415        |"
      ]
     },
     "metadata": {},
     "output_type": "display_data"
    },
    {
     "data": {
      "text/html": [
       "<pre>| 882       | 45387.546682 | 0.423332      | 0.434401        |</pre>"
      ],
      "text/plain": [
       "| 882       | 45387.546682 | 0.423332      | 0.434401        |"
      ]
     },
     "metadata": {},
     "output_type": "display_data"
    },
    {
     "data": {
      "text/html": [
       "<pre>| 883       | 45422.181596 | 0.423324      | 0.434399        |</pre>"
      ],
      "text/plain": [
       "| 883       | 45422.181596 | 0.423324      | 0.434399        |"
      ]
     },
     "metadata": {},
     "output_type": "display_data"
    },
    {
     "data": {
      "text/html": [
       "<pre>| 884       | 45457.545014 | 0.423311      | 0.434389        |</pre>"
      ],
      "text/plain": [
       "| 884       | 45457.545014 | 0.423311      | 0.434389        |"
      ]
     },
     "metadata": {},
     "output_type": "display_data"
    },
    {
     "data": {
      "text/html": [
       "<pre>| 885       | 45490.976304 | 0.423305      | 0.434394        |</pre>"
      ],
      "text/plain": [
       "| 885       | 45490.976304 | 0.423305      | 0.434394        |"
      ]
     },
     "metadata": {},
     "output_type": "display_data"
    },
    {
     "data": {
      "text/html": [
       "<pre>| 886       | 45526.034693 | 0.423274      | 0.434384        |</pre>"
      ],
      "text/plain": [
       "| 886       | 45526.034693 | 0.423274      | 0.434384        |"
      ]
     },
     "metadata": {},
     "output_type": "display_data"
    },
    {
     "data": {
      "text/html": [
       "<pre>| 887       | 45559.350316 | 0.423254      | 0.434399        |</pre>"
      ],
      "text/plain": [
       "| 887       | 45559.350316 | 0.423254      | 0.434399        |"
      ]
     },
     "metadata": {},
     "output_type": "display_data"
    },
    {
     "data": {
      "text/html": [
       "<pre>| 888       | 45594.413292 | 0.423226      | 0.434393        |</pre>"
      ],
      "text/plain": [
       "| 888       | 45594.413292 | 0.423226      | 0.434393        |"
      ]
     },
     "metadata": {},
     "output_type": "display_data"
    },
    {
     "data": {
      "text/html": [
       "<pre>| 889       | 45631.433263 | 0.423191      | 0.434354        |</pre>"
      ],
      "text/plain": [
       "| 889       | 45631.433263 | 0.423191      | 0.434354        |"
      ]
     },
     "metadata": {},
     "output_type": "display_data"
    },
    {
     "data": {
      "text/html": [
       "<pre>| 890       | 45665.594047 | 0.423180      | 0.434339        |</pre>"
      ],
      "text/plain": [
       "| 890       | 45665.594047 | 0.423180      | 0.434339        |"
      ]
     },
     "metadata": {},
     "output_type": "display_data"
    },
    {
     "data": {
      "text/html": [
       "<pre>| 891       | 45701.247110 | 0.423159      | 0.434335        |</pre>"
      ],
      "text/plain": [
       "| 891       | 45701.247110 | 0.423159      | 0.434335        |"
      ]
     },
     "metadata": {},
     "output_type": "display_data"
    },
    {
     "data": {
      "text/html": [
       "<pre>| 892       | 45737.387245 | 0.423144      | 0.434341        |</pre>"
      ],
      "text/plain": [
       "| 892       | 45737.387245 | 0.423144      | 0.434341        |"
      ]
     },
     "metadata": {},
     "output_type": "display_data"
    },
    {
     "data": {
      "text/html": [
       "<pre>| 893       | 45773.804407 | 0.423132      | 0.434343        |</pre>"
      ],
      "text/plain": [
       "| 893       | 45773.804407 | 0.423132      | 0.434343        |"
      ]
     },
     "metadata": {},
     "output_type": "display_data"
    },
    {
     "data": {
      "text/html": [
       "<pre>| 894       | 45806.236188 | 0.423119      | 0.434354        |</pre>"
      ],
      "text/plain": [
       "| 894       | 45806.236188 | 0.423119      | 0.434354        |"
      ]
     },
     "metadata": {},
     "output_type": "display_data"
    },
    {
     "data": {
      "text/html": [
       "<pre>| 895       | 45842.309963 | 0.423099      | 0.434357        |</pre>"
      ],
      "text/plain": [
       "| 895       | 45842.309963 | 0.423099      | 0.434357        |"
      ]
     },
     "metadata": {},
     "output_type": "display_data"
    },
    {
     "data": {
      "text/html": [
       "<pre>| 896       | 45878.342297 | 0.423080      | 0.434359        |</pre>"
      ],
      "text/plain": [
       "| 896       | 45878.342297 | 0.423080      | 0.434359        |"
      ]
     },
     "metadata": {},
     "output_type": "display_data"
    },
    {
     "data": {
      "text/html": [
       "<pre>| 897       | 45910.918174 | 0.423063      | 0.434350        |</pre>"
      ],
      "text/plain": [
       "| 897       | 45910.918174 | 0.423063      | 0.434350        |"
      ]
     },
     "metadata": {},
     "output_type": "display_data"
    },
    {
     "data": {
      "text/html": [
       "<pre>| 898       | 45946.856222 | 0.423052      | 0.434357        |</pre>"
      ],
      "text/plain": [
       "| 898       | 45946.856222 | 0.423052      | 0.434357        |"
      ]
     },
     "metadata": {},
     "output_type": "display_data"
    },
    {
     "data": {
      "text/html": [
       "<pre>| 899       | 45981.119932 | 0.423037      | 0.434339        |</pre>"
      ],
      "text/plain": [
       "| 899       | 45981.119932 | 0.423037      | 0.434339        |"
      ]
     },
     "metadata": {},
     "output_type": "display_data"
    },
    {
     "data": {
      "text/html": [
       "<pre>| 900       | 46013.994626 | 0.423026      | 0.434337        |</pre>"
      ],
      "text/plain": [
       "| 900       | 46013.994626 | 0.423026      | 0.434337        |"
      ]
     },
     "metadata": {},
     "output_type": "display_data"
    },
    {
     "data": {
      "text/html": [
       "<pre>| 901       | 46050.705962 | 0.423013      | 0.434332        |</pre>"
      ],
      "text/plain": [
       "| 901       | 46050.705962 | 0.423013      | 0.434332        |"
      ]
     },
     "metadata": {},
     "output_type": "display_data"
    },
    {
     "data": {
      "text/html": [
       "<pre>| 902       | 46084.360598 | 0.423003      | 0.434319        |</pre>"
      ],
      "text/plain": [
       "| 902       | 46084.360598 | 0.423003      | 0.434319        |"
      ]
     },
     "metadata": {},
     "output_type": "display_data"
    },
    {
     "data": {
      "text/html": [
       "<pre>| 903       | 46118.699553 | 0.422993      | 0.434337        |</pre>"
      ],
      "text/plain": [
       "| 903       | 46118.699553 | 0.422993      | 0.434337        |"
      ]
     },
     "metadata": {},
     "output_type": "display_data"
    },
    {
     "data": {
      "text/html": [
       "<pre>| 904       | 46148.006231 | 0.422981      | 0.434335        |</pre>"
      ],
      "text/plain": [
       "| 904       | 46148.006231 | 0.422981      | 0.434335        |"
      ]
     },
     "metadata": {},
     "output_type": "display_data"
    },
    {
     "data": {
      "text/html": [
       "<pre>| 905       | 46183.212653 | 0.422967      | 0.434324        |</pre>"
      ],
      "text/plain": [
       "| 905       | 46183.212653 | 0.422967      | 0.434324        |"
      ]
     },
     "metadata": {},
     "output_type": "display_data"
    },
    {
     "data": {
      "text/html": [
       "<pre>| 906       | 46216.893267 | 0.422955      | 0.434323        |</pre>"
      ],
      "text/plain": [
       "| 906       | 46216.893267 | 0.422955      | 0.434323        |"
      ]
     },
     "metadata": {},
     "output_type": "display_data"
    },
    {
     "data": {
      "text/html": [
       "<pre>| 907       | 46249.071173 | 0.422942      | 0.434317        |</pre>"
      ],
      "text/plain": [
       "| 907       | 46249.071173 | 0.422942      | 0.434317        |"
      ]
     },
     "metadata": {},
     "output_type": "display_data"
    },
    {
     "data": {
      "text/html": [
       "<pre>| 908       | 46282.958325 | 0.422919      | 0.434327        |</pre>"
      ],
      "text/plain": [
       "| 908       | 46282.958325 | 0.422919      | 0.434327        |"
      ]
     },
     "metadata": {},
     "output_type": "display_data"
    },
    {
     "data": {
      "text/html": [
       "<pre>| 909       | 46312.337587 | 0.422907      | 0.434346        |</pre>"
      ],
      "text/plain": [
       "| 909       | 46312.337587 | 0.422907      | 0.434346        |"
      ]
     },
     "metadata": {},
     "output_type": "display_data"
    },
    {
     "data": {
      "text/html": [
       "<pre>| 910       | 46346.193373 | 0.422895      | 0.434359        |</pre>"
      ],
      "text/plain": [
       "| 910       | 46346.193373 | 0.422895      | 0.434359        |"
      ]
     },
     "metadata": {},
     "output_type": "display_data"
    },
    {
     "data": {
      "text/html": [
       "<pre>| 911       | 46380.866569 | 0.422881      | 0.434347        |</pre>"
      ],
      "text/plain": [
       "| 911       | 46380.866569 | 0.422881      | 0.434347        |"
      ]
     },
     "metadata": {},
     "output_type": "display_data"
    },
    {
     "data": {
      "text/html": [
       "<pre>| 912       | 46414.668277 | 0.422874      | 0.434345        |</pre>"
      ],
      "text/plain": [
       "| 912       | 46414.668277 | 0.422874      | 0.434345        |"
      ]
     },
     "metadata": {},
     "output_type": "display_data"
    },
    {
     "data": {
      "text/html": [
       "<pre>| 913       | 46449.104789 | 0.422863      | 0.434342        |</pre>"
      ],
      "text/plain": [
       "| 913       | 46449.104789 | 0.422863      | 0.434342        |"
      ]
     },
     "metadata": {},
     "output_type": "display_data"
    },
    {
     "data": {
      "text/html": [
       "<pre>| 914       | 46481.785436 | 0.422848      | 0.434337        |</pre>"
      ],
      "text/plain": [
       "| 914       | 46481.785436 | 0.422848      | 0.434337        |"
      ]
     },
     "metadata": {},
     "output_type": "display_data"
    },
    {
     "data": {
      "text/html": [
       "<pre>| 915       | 46515.398342 | 0.422833      | 0.434336        |</pre>"
      ],
      "text/plain": [
       "| 915       | 46515.398342 | 0.422833      | 0.434336        |"
      ]
     },
     "metadata": {},
     "output_type": "display_data"
    },
    {
     "data": {
      "text/html": [
       "<pre>| 916       | 46547.842632 | 0.422823      | 0.434327        |</pre>"
      ],
      "text/plain": [
       "| 916       | 46547.842632 | 0.422823      | 0.434327        |"
      ]
     },
     "metadata": {},
     "output_type": "display_data"
    },
    {
     "data": {
      "text/html": [
       "<pre>| 917       | 46581.697012 | 0.422817      | 0.434323        |</pre>"
      ],
      "text/plain": [
       "| 917       | 46581.697012 | 0.422817      | 0.434323        |"
      ]
     },
     "metadata": {},
     "output_type": "display_data"
    },
    {
     "data": {
      "text/html": [
       "<pre>| 918       | 46616.981925 | 0.422811      | 0.434320        |</pre>"
      ],
      "text/plain": [
       "| 918       | 46616.981925 | 0.422811      | 0.434320        |"
      ]
     },
     "metadata": {},
     "output_type": "display_data"
    },
    {
     "data": {
      "text/html": [
       "<pre>| 919       | 46648.927161 | 0.422802      | 0.434314        |</pre>"
      ],
      "text/plain": [
       "| 919       | 46648.927161 | 0.422802      | 0.434314        |"
      ]
     },
     "metadata": {},
     "output_type": "display_data"
    },
    {
     "data": {
      "text/html": [
       "<pre>| 920       | 46681.943758 | 0.422796      | 0.434315        |</pre>"
      ],
      "text/plain": [
       "| 920       | 46681.943758 | 0.422796      | 0.434315        |"
      ]
     },
     "metadata": {},
     "output_type": "display_data"
    },
    {
     "data": {
      "text/html": [
       "<pre>| 921       | 46714.643748 | 0.422791      | 0.434319        |</pre>"
      ],
      "text/plain": [
       "| 921       | 46714.643748 | 0.422791      | 0.434319        |"
      ]
     },
     "metadata": {},
     "output_type": "display_data"
    },
    {
     "data": {
      "text/html": [
       "<pre>| 922       | 46746.337689 | 0.422781      | 0.434316        |</pre>"
      ],
      "text/plain": [
       "| 922       | 46746.337689 | 0.422781      | 0.434316        |"
      ]
     },
     "metadata": {},
     "output_type": "display_data"
    },
    {
     "data": {
      "text/html": [
       "<pre>| 923       | 46777.934463 | 0.422767      | 0.434308        |</pre>"
      ],
      "text/plain": [
       "| 923       | 46777.934463 | 0.422767      | 0.434308        |"
      ]
     },
     "metadata": {},
     "output_type": "display_data"
    },
    {
     "data": {
      "text/html": [
       "<pre>| 924       | 46810.461052 | 0.422755      | 0.434293        |</pre>"
      ],
      "text/plain": [
       "| 924       | 46810.461052 | 0.422755      | 0.434293        |"
      ]
     },
     "metadata": {},
     "output_type": "display_data"
    },
    {
     "data": {
      "text/html": [
       "<pre>| 925       | 46841.538781 | 0.422743      | 0.434274        |</pre>"
      ],
      "text/plain": [
       "| 925       | 46841.538781 | 0.422743      | 0.434274        |"
      ]
     },
     "metadata": {},
     "output_type": "display_data"
    },
    {
     "data": {
      "text/html": [
       "<pre>| 926       | 46876.152620 | 0.422710      | 0.434266        |</pre>"
      ],
      "text/plain": [
       "| 926       | 46876.152620 | 0.422710      | 0.434266        |"
      ]
     },
     "metadata": {},
     "output_type": "display_data"
    },
    {
     "data": {
      "text/html": [
       "<pre>| 927       | 46909.914100 | 0.422692      | 0.434221        |</pre>"
      ],
      "text/plain": [
       "| 927       | 46909.914100 | 0.422692      | 0.434221        |"
      ]
     },
     "metadata": {},
     "output_type": "display_data"
    },
    {
     "data": {
      "text/html": [
       "<pre>| 928       | 46944.314034 | 0.422680      | 0.434213        |</pre>"
      ],
      "text/plain": [
       "| 928       | 46944.314034 | 0.422680      | 0.434213        |"
      ]
     },
     "metadata": {},
     "output_type": "display_data"
    },
    {
     "data": {
      "text/html": [
       "<pre>| 929       | 46978.604775 | 0.422654      | 0.434226        |</pre>"
      ],
      "text/plain": [
       "| 929       | 46978.604775 | 0.422654      | 0.434226        |"
      ]
     },
     "metadata": {},
     "output_type": "display_data"
    },
    {
     "data": {
      "text/html": [
       "<pre>| 930       | 47012.821488 | 0.422641      | 0.434201        |</pre>"
      ],
      "text/plain": [
       "| 930       | 47012.821488 | 0.422641      | 0.434201        |"
      ]
     },
     "metadata": {},
     "output_type": "display_data"
    },
    {
     "data": {
      "text/html": [
       "<pre>| 931       | 47046.084639 | 0.422621      | 0.434192        |</pre>"
      ],
      "text/plain": [
       "| 931       | 47046.084639 | 0.422621      | 0.434192        |"
      ]
     },
     "metadata": {},
     "output_type": "display_data"
    },
    {
     "data": {
      "text/html": [
       "<pre>| 932       | 47081.630155 | 0.422613      | 0.434195        |</pre>"
      ],
      "text/plain": [
       "| 932       | 47081.630155 | 0.422613      | 0.434195        |"
      ]
     },
     "metadata": {},
     "output_type": "display_data"
    },
    {
     "data": {
      "text/html": [
       "<pre>| 933       | 47116.978286 | 0.422600      | 0.434198        |</pre>"
      ],
      "text/plain": [
       "| 933       | 47116.978286 | 0.422600      | 0.434198        |"
      ]
     },
     "metadata": {},
     "output_type": "display_data"
    },
    {
     "data": {
      "text/html": [
       "<pre>| 934       | 47151.919358 | 0.422589      | 0.434210        |</pre>"
      ],
      "text/plain": [
       "| 934       | 47151.919358 | 0.422589      | 0.434210        |"
      ]
     },
     "metadata": {},
     "output_type": "display_data"
    },
    {
     "data": {
      "text/html": [
       "<pre>| 935       | 47186.889444 | 0.422577      | 0.434217        |</pre>"
      ],
      "text/plain": [
       "| 935       | 47186.889444 | 0.422577      | 0.434217        |"
      ]
     },
     "metadata": {},
     "output_type": "display_data"
    },
    {
     "data": {
      "text/html": [
       "<pre>| 936       | 47220.714795 | 0.422559      | 0.434216        |</pre>"
      ],
      "text/plain": [
       "| 936       | 47220.714795 | 0.422559      | 0.434216        |"
      ]
     },
     "metadata": {},
     "output_type": "display_data"
    },
    {
     "data": {
      "text/html": [
       "<pre>| 937       | 47253.574774 | 0.422543      | 0.434203        |</pre>"
      ],
      "text/plain": [
       "| 937       | 47253.574774 | 0.422543      | 0.434203        |"
      ]
     },
     "metadata": {},
     "output_type": "display_data"
    },
    {
     "data": {
      "text/html": [
       "<pre>| 938       | 47285.570958 | 0.422529      | 0.434198        |</pre>"
      ],
      "text/plain": [
       "| 938       | 47285.570958 | 0.422529      | 0.434198        |"
      ]
     },
     "metadata": {},
     "output_type": "display_data"
    },
    {
     "data": {
      "text/html": [
       "<pre>| 939       | 47318.278108 | 0.422512      | 0.434193        |</pre>"
      ],
      "text/plain": [
       "| 939       | 47318.278108 | 0.422512      | 0.434193        |"
      ]
     },
     "metadata": {},
     "output_type": "display_data"
    },
    {
     "data": {
      "text/html": [
       "<pre>| 940       | 47348.524513 | 0.422503      | 0.434177        |</pre>"
      ],
      "text/plain": [
       "| 940       | 47348.524513 | 0.422503      | 0.434177        |"
      ]
     },
     "metadata": {},
     "output_type": "display_data"
    },
    {
     "data": {
      "text/html": [
       "<pre>| 941       | 47380.460019 | 0.422486      | 0.434169        |</pre>"
      ],
      "text/plain": [
       "| 941       | 47380.460019 | 0.422486      | 0.434169        |"
      ]
     },
     "metadata": {},
     "output_type": "display_data"
    },
    {
     "data": {
      "text/html": [
       "<pre>| 942       | 47413.863200 | 0.422463      | 0.434162        |</pre>"
      ],
      "text/plain": [
       "| 942       | 47413.863200 | 0.422463      | 0.434162        |"
      ]
     },
     "metadata": {},
     "output_type": "display_data"
    },
    {
     "data": {
      "text/html": [
       "<pre>| 943       | 47447.701912 | 0.422446      | 0.434162        |</pre>"
      ],
      "text/plain": [
       "| 943       | 47447.701912 | 0.422446      | 0.434162        |"
      ]
     },
     "metadata": {},
     "output_type": "display_data"
    },
    {
     "data": {
      "text/html": [
       "<pre>| 944       | 47479.995858 | 0.422437      | 0.434147        |</pre>"
      ],
      "text/plain": [
       "| 944       | 47479.995858 | 0.422437      | 0.434147        |"
      ]
     },
     "metadata": {},
     "output_type": "display_data"
    },
    {
     "data": {
      "text/html": [
       "<pre>| 945       | 47510.056624 | 0.422423      | 0.434138        |</pre>"
      ],
      "text/plain": [
       "| 945       | 47510.056624 | 0.422423      | 0.434138        |"
      ]
     },
     "metadata": {},
     "output_type": "display_data"
    },
    {
     "data": {
      "text/html": [
       "<pre>| 946       | 47542.681871 | 0.422413      | 0.434112        |</pre>"
      ],
      "text/plain": [
       "| 946       | 47542.681871 | 0.422413      | 0.434112        |"
      ]
     },
     "metadata": {},
     "output_type": "display_data"
    },
    {
     "data": {
      "text/html": [
       "<pre>| 947       | 47572.634310 | 0.422397      | 0.434103        |</pre>"
      ],
      "text/plain": [
       "| 947       | 47572.634310 | 0.422397      | 0.434103        |"
      ]
     },
     "metadata": {},
     "output_type": "display_data"
    },
    {
     "data": {
      "text/html": [
       "<pre>| 948       | 47603.724352 | 0.422388      | 0.434105        |</pre>"
      ],
      "text/plain": [
       "| 948       | 47603.724352 | 0.422388      | 0.434105        |"
      ]
     },
     "metadata": {},
     "output_type": "display_data"
    },
    {
     "data": {
      "text/html": [
       "<pre>| 949       | 47638.878245 | 0.422379      | 0.434109        |</pre>"
      ],
      "text/plain": [
       "| 949       | 47638.878245 | 0.422379      | 0.434109        |"
      ]
     },
     "metadata": {},
     "output_type": "display_data"
    },
    {
     "data": {
      "text/html": [
       "<pre>| 950       | 47669.047475 | 0.422367      | 0.434101        |</pre>"
      ],
      "text/plain": [
       "| 950       | 47669.047475 | 0.422367      | 0.434101        |"
      ]
     },
     "metadata": {},
     "output_type": "display_data"
    },
    {
     "data": {
      "text/html": [
       "<pre>| 951       | 47703.140420 | 0.422351      | 0.434069        |</pre>"
      ],
      "text/plain": [
       "| 951       | 47703.140420 | 0.422351      | 0.434069        |"
      ]
     },
     "metadata": {},
     "output_type": "display_data"
    },
    {
     "data": {
      "text/html": [
       "<pre>| 952       | 47733.139517 | 0.422342      | 0.434051        |</pre>"
      ],
      "text/plain": [
       "| 952       | 47733.139517 | 0.422342      | 0.434051        |"
      ]
     },
     "metadata": {},
     "output_type": "display_data"
    },
    {
     "data": {
      "text/html": [
       "<pre>| 953       | 47765.134692 | 0.422319      | 0.434053        |</pre>"
      ],
      "text/plain": [
       "| 953       | 47765.134692 | 0.422319      | 0.434053        |"
      ]
     },
     "metadata": {},
     "output_type": "display_data"
    },
    {
     "data": {
      "text/html": [
       "<pre>| 954       | 47798.739967 | 0.422315      | 0.434052        |</pre>"
      ],
      "text/plain": [
       "| 954       | 47798.739967 | 0.422315      | 0.434052        |"
      ]
     },
     "metadata": {},
     "output_type": "display_data"
    },
    {
     "data": {
      "text/html": [
       "<pre>| 955       | 47831.040109 | 0.422302      | 0.434052        |</pre>"
      ],
      "text/plain": [
       "| 955       | 47831.040109 | 0.422302      | 0.434052        |"
      ]
     },
     "metadata": {},
     "output_type": "display_data"
    },
    {
     "data": {
      "text/html": [
       "<pre>| 956       | 47862.824494 | 0.422281      | 0.434054        |</pre>"
      ],
      "text/plain": [
       "| 956       | 47862.824494 | 0.422281      | 0.434054        |"
      ]
     },
     "metadata": {},
     "output_type": "display_data"
    },
    {
     "data": {
      "text/html": [
       "<pre>| 957       | 47894.542756 | 0.422264      | 0.434042        |</pre>"
      ],
      "text/plain": [
       "| 957       | 47894.542756 | 0.422264      | 0.434042        |"
      ]
     },
     "metadata": {},
     "output_type": "display_data"
    },
    {
     "data": {
      "text/html": [
       "<pre>| 958       | 47928.261148 | 0.422248      | 0.434039        |</pre>"
      ],
      "text/plain": [
       "| 958       | 47928.261148 | 0.422248      | 0.434039        |"
      ]
     },
     "metadata": {},
     "output_type": "display_data"
    },
    {
     "data": {
      "text/html": [
       "<pre>| 959       | 47962.387373 | 0.422228      | 0.434039        |</pre>"
      ],
      "text/plain": [
       "| 959       | 47962.387373 | 0.422228      | 0.434039        |"
      ]
     },
     "metadata": {},
     "output_type": "display_data"
    },
    {
     "data": {
      "text/html": [
       "<pre>| 960       | 47991.891383 | 0.422216      | 0.434036        |</pre>"
      ],
      "text/plain": [
       "| 960       | 47991.891383 | 0.422216      | 0.434036        |"
      ]
     },
     "metadata": {},
     "output_type": "display_data"
    },
    {
     "data": {
      "text/html": [
       "<pre>| 961       | 48022.889551 | 0.422185      | 0.434012        |</pre>"
      ],
      "text/plain": [
       "| 961       | 48022.889551 | 0.422185      | 0.434012        |"
      ]
     },
     "metadata": {},
     "output_type": "display_data"
    },
    {
     "data": {
      "text/html": [
       "<pre>| 962       | 48052.056975 | 0.422170      | 0.434020        |</pre>"
      ],
      "text/plain": [
       "| 962       | 48052.056975 | 0.422170      | 0.434020        |"
      ]
     },
     "metadata": {},
     "output_type": "display_data"
    },
    {
     "data": {
      "text/html": [
       "<pre>| 963       | 48083.254651 | 0.422162      | 0.434019        |</pre>"
      ],
      "text/plain": [
       "| 963       | 48083.254651 | 0.422162      | 0.434019        |"
      ]
     },
     "metadata": {},
     "output_type": "display_data"
    },
    {
     "data": {
      "text/html": [
       "<pre>| 964       | 48114.441335 | 0.422147      | 0.434010        |</pre>"
      ],
      "text/plain": [
       "| 964       | 48114.441335 | 0.422147      | 0.434010        |"
      ]
     },
     "metadata": {},
     "output_type": "display_data"
    },
    {
     "data": {
      "text/html": [
       "<pre>| 965       | 48142.710992 | 0.422139      | 0.434010        |</pre>"
      ],
      "text/plain": [
       "| 965       | 48142.710992 | 0.422139      | 0.434010        |"
      ]
     },
     "metadata": {},
     "output_type": "display_data"
    },
    {
     "data": {
      "text/html": [
       "<pre>| 966       | 48174.820066 | 0.422116      | 0.433991        |</pre>"
      ],
      "text/plain": [
       "| 966       | 48174.820066 | 0.422116      | 0.433991        |"
      ]
     },
     "metadata": {},
     "output_type": "display_data"
    },
    {
     "data": {
      "text/html": [
       "<pre>| 967       | 48205.391014 | 0.422107      | 0.433994        |</pre>"
      ],
      "text/plain": [
       "| 967       | 48205.391014 | 0.422107      | 0.433994        |"
      ]
     },
     "metadata": {},
     "output_type": "display_data"
    },
    {
     "data": {
      "text/html": [
       "<pre>| 968       | 48236.608995 | 0.422093      | 0.434003        |</pre>"
      ],
      "text/plain": [
       "| 968       | 48236.608995 | 0.422093      | 0.434003        |"
      ]
     },
     "metadata": {},
     "output_type": "display_data"
    },
    {
     "data": {
      "text/html": [
       "<pre>| 969       | 48271.428619 | 0.422072      | 0.433994        |</pre>"
      ],
      "text/plain": [
       "| 969       | 48271.428619 | 0.422072      | 0.433994        |"
      ]
     },
     "metadata": {},
     "output_type": "display_data"
    },
    {
     "data": {
      "text/html": [
       "<pre>| 970       | 48304.443512 | 0.422059      | 0.433978        |</pre>"
      ],
      "text/plain": [
       "| 970       | 48304.443512 | 0.422059      | 0.433978        |"
      ]
     },
     "metadata": {},
     "output_type": "display_data"
    },
    {
     "data": {
      "text/html": [
       "<pre>| 971       | 48335.712519 | 0.422050      | 0.433980        |</pre>"
      ],
      "text/plain": [
       "| 971       | 48335.712519 | 0.422050      | 0.433980        |"
      ]
     },
     "metadata": {},
     "output_type": "display_data"
    },
    {
     "data": {
      "text/html": [
       "<pre>| 972       | 48364.696432 | 0.422041      | 0.433942        |</pre>"
      ],
      "text/plain": [
       "| 972       | 48364.696432 | 0.422041      | 0.433942        |"
      ]
     },
     "metadata": {},
     "output_type": "display_data"
    },
    {
     "data": {
      "text/html": [
       "<pre>| 973       | 48402.002874 | 0.422031      | 0.433937        |</pre>"
      ],
      "text/plain": [
       "| 973       | 48402.002874 | 0.422031      | 0.433937        |"
      ]
     },
     "metadata": {},
     "output_type": "display_data"
    },
    {
     "data": {
      "text/html": [
       "<pre>| 974       | 48432.281949 | 0.422022      | 0.433947        |</pre>"
      ],
      "text/plain": [
       "| 974       | 48432.281949 | 0.422022      | 0.433947        |"
      ]
     },
     "metadata": {},
     "output_type": "display_data"
    },
    {
     "data": {
      "text/html": [
       "<pre>| 975       | 48464.570167 | 0.422005      | 0.433971        |</pre>"
      ],
      "text/plain": [
       "| 975       | 48464.570167 | 0.422005      | 0.433971        |"
      ]
     },
     "metadata": {},
     "output_type": "display_data"
    },
    {
     "data": {
      "text/html": [
       "<pre>| 976       | 48496.035152 | 0.421992      | 0.433961        |</pre>"
      ],
      "text/plain": [
       "| 976       | 48496.035152 | 0.421992      | 0.433961        |"
      ]
     },
     "metadata": {},
     "output_type": "display_data"
    },
    {
     "data": {
      "text/html": [
       "<pre>| 977       | 48525.089289 | 0.421987      | 0.433952        |</pre>"
      ],
      "text/plain": [
       "| 977       | 48525.089289 | 0.421987      | 0.433952        |"
      ]
     },
     "metadata": {},
     "output_type": "display_data"
    },
    {
     "data": {
      "text/html": [
       "<pre>| 978       | 48557.604572 | 0.421964      | 0.433951        |</pre>"
      ],
      "text/plain": [
       "| 978       | 48557.604572 | 0.421964      | 0.433951        |"
      ]
     },
     "metadata": {},
     "output_type": "display_data"
    },
    {
     "data": {
      "text/html": [
       "<pre>| 979       | 48586.715562 | 0.421956      | 0.433948        |</pre>"
      ],
      "text/plain": [
       "| 979       | 48586.715562 | 0.421956      | 0.433948        |"
      ]
     },
     "metadata": {},
     "output_type": "display_data"
    },
    {
     "data": {
      "text/html": [
       "<pre>| 980       | 48620.479479 | 0.421944      | 0.433933        |</pre>"
      ],
      "text/plain": [
       "| 980       | 48620.479479 | 0.421944      | 0.433933        |"
      ]
     },
     "metadata": {},
     "output_type": "display_data"
    },
    {
     "data": {
      "text/html": [
       "<pre>| 981       | 48651.837193 | 0.421914      | 0.433912        |</pre>"
      ],
      "text/plain": [
       "| 981       | 48651.837193 | 0.421914      | 0.433912        |"
      ]
     },
     "metadata": {},
     "output_type": "display_data"
    },
    {
     "data": {
      "text/html": [
       "<pre>| 982       | 48681.400175 | 0.421906      | 0.433908        |</pre>"
      ],
      "text/plain": [
       "| 982       | 48681.400175 | 0.421906      | 0.433908        |"
      ]
     },
     "metadata": {},
     "output_type": "display_data"
    },
    {
     "data": {
      "text/html": [
       "<pre>| 983       | 48714.174062 | 0.421899      | 0.433908        |</pre>"
      ],
      "text/plain": [
       "| 983       | 48714.174062 | 0.421899      | 0.433908        |"
      ]
     },
     "metadata": {},
     "output_type": "display_data"
    },
    {
     "data": {
      "text/html": [
       "<pre>| 984       | 48749.072518 | 0.421866      | 0.433881        |</pre>"
      ],
      "text/plain": [
       "| 984       | 48749.072518 | 0.421866      | 0.433881        |"
      ]
     },
     "metadata": {},
     "output_type": "display_data"
    },
    {
     "data": {
      "text/html": [
       "<pre>| 985       | 48778.767172 | 0.421861      | 0.433856        |</pre>"
      ],
      "text/plain": [
       "| 985       | 48778.767172 | 0.421861      | 0.433856        |"
      ]
     },
     "metadata": {},
     "output_type": "display_data"
    },
    {
     "data": {
      "text/html": [
       "<pre>| 986       | 48810.474956 | 0.421852      | 0.433804        |</pre>"
      ],
      "text/plain": [
       "| 986       | 48810.474956 | 0.421852      | 0.433804        |"
      ]
     },
     "metadata": {},
     "output_type": "display_data"
    },
    {
     "data": {
      "text/html": [
       "<pre>| 987       | 48841.443422 | 0.421836      | 0.433790        |</pre>"
      ],
      "text/plain": [
       "| 987       | 48841.443422 | 0.421836      | 0.433790        |"
      ]
     },
     "metadata": {},
     "output_type": "display_data"
    },
    {
     "data": {
      "text/html": [
       "<pre>| 988       | 48872.280769 | 0.421821      | 0.433783        |</pre>"
      ],
      "text/plain": [
       "| 988       | 48872.280769 | 0.421821      | 0.433783        |"
      ]
     },
     "metadata": {},
     "output_type": "display_data"
    },
    {
     "data": {
      "text/html": [
       "<pre>| 989       | 48905.336035 | 0.421808      | 0.433776        |</pre>"
      ],
      "text/plain": [
       "| 989       | 48905.336035 | 0.421808      | 0.433776        |"
      ]
     },
     "metadata": {},
     "output_type": "display_data"
    },
    {
     "data": {
      "text/html": [
       "<pre>| 990       | 48940.008337 | 0.421785      | 0.433766        |</pre>"
      ],
      "text/plain": [
       "| 990       | 48940.008337 | 0.421785      | 0.433766        |"
      ]
     },
     "metadata": {},
     "output_type": "display_data"
    },
    {
     "data": {
      "text/html": [
       "<pre>| 991       | 48971.480637 | 0.421773      | 0.433733        |</pre>"
      ],
      "text/plain": [
       "| 991       | 48971.480637 | 0.421773      | 0.433733        |"
      ]
     },
     "metadata": {},
     "output_type": "display_data"
    },
    {
     "data": {
      "text/html": [
       "<pre>| 992       | 49001.914602 | 0.421761      | 0.433727        |</pre>"
      ],
      "text/plain": [
       "| 992       | 49001.914602 | 0.421761      | 0.433727        |"
      ]
     },
     "metadata": {},
     "output_type": "display_data"
    },
    {
     "data": {
      "text/html": [
       "<pre>| 993       | 49033.117906 | 0.421747      | 0.433715        |</pre>"
      ],
      "text/plain": [
       "| 993       | 49033.117906 | 0.421747      | 0.433715        |"
      ]
     },
     "metadata": {},
     "output_type": "display_data"
    },
    {
     "data": {
      "text/html": [
       "<pre>| 994       | 49063.672537 | 0.421734      | 0.433708        |</pre>"
      ],
      "text/plain": [
       "| 994       | 49063.672537 | 0.421734      | 0.433708        |"
      ]
     },
     "metadata": {},
     "output_type": "display_data"
    },
    {
     "data": {
      "text/html": [
       "<pre>| 995       | 49092.727344 | 0.421731      | 0.433709        |</pre>"
      ],
      "text/plain": [
       "| 995       | 49092.727344 | 0.421731      | 0.433709        |"
      ]
     },
     "metadata": {},
     "output_type": "display_data"
    },
    {
     "data": {
      "text/html": [
       "<pre>| 996       | 49122.318722 | 0.421717      | 0.433682        |</pre>"
      ],
      "text/plain": [
       "| 996       | 49122.318722 | 0.421717      | 0.433682        |"
      ]
     },
     "metadata": {},
     "output_type": "display_data"
    },
    {
     "data": {
      "text/html": [
       "<pre>| 997       | 49154.730056 | 0.421699      | 0.433688        |</pre>"
      ],
      "text/plain": [
       "| 997       | 49154.730056 | 0.421699      | 0.433688        |"
      ]
     },
     "metadata": {},
     "output_type": "display_data"
    },
    {
     "data": {
      "text/html": [
       "<pre>| 998       | 49188.921186 | 0.421680      | 0.433671        |</pre>"
      ],
      "text/plain": [
       "| 998       | 49188.921186 | 0.421680      | 0.433671        |"
      ]
     },
     "metadata": {},
     "output_type": "display_data"
    },
    {
     "data": {
      "text/html": [
       "<pre>| 999       | 49222.270252 | 0.421668      | 0.433662        |</pre>"
      ],
      "text/plain": [
       "| 999       | 49222.270252 | 0.421668      | 0.433662        |"
      ]
     },
     "metadata": {},
     "output_type": "display_data"
    },
    {
     "data": {
      "text/html": [
       "<pre>| 1000      | 49256.258102 | 0.421654      | 0.433669        |</pre>"
      ],
      "text/plain": [
       "| 1000      | 49256.258102 | 0.421654      | 0.433669        |"
      ]
     },
     "metadata": {},
     "output_type": "display_data"
    },
    {
     "data": {
      "text/html": [
       "<pre>| 1001      | 49287.558659 | 0.421646      | 0.433662        |</pre>"
      ],
      "text/plain": [
       "| 1001      | 49287.558659 | 0.421646      | 0.433662        |"
      ]
     },
     "metadata": {},
     "output_type": "display_data"
    },
    {
     "data": {
      "text/html": [
       "<pre>| 1002      | 49318.424132 | 0.421633      | 0.433657        |</pre>"
      ],
      "text/plain": [
       "| 1002      | 49318.424132 | 0.421633      | 0.433657        |"
      ]
     },
     "metadata": {},
     "output_type": "display_data"
    },
    {
     "data": {
      "text/html": [
       "<pre>| 1003      | 49349.724170 | 0.421623      | 0.433647        |</pre>"
      ],
      "text/plain": [
       "| 1003      | 49349.724170 | 0.421623      | 0.433647        |"
      ]
     },
     "metadata": {},
     "output_type": "display_data"
    },
    {
     "data": {
      "text/html": [
       "<pre>| 1004      | 49377.084737 | 0.421616      | 0.433653        |</pre>"
      ],
      "text/plain": [
       "| 1004      | 49377.084737 | 0.421616      | 0.433653        |"
      ]
     },
     "metadata": {},
     "output_type": "display_data"
    },
    {
     "data": {
      "text/html": [
       "<pre>| 1005      | 49409.525388 | 0.421601      | 0.433656        |</pre>"
      ],
      "text/plain": [
       "| 1005      | 49409.525388 | 0.421601      | 0.433656        |"
      ]
     },
     "metadata": {},
     "output_type": "display_data"
    },
    {
     "data": {
      "text/html": [
       "<pre>| 1006      | 49441.799855 | 0.421585      | 0.433649        |</pre>"
      ],
      "text/plain": [
       "| 1006      | 49441.799855 | 0.421585      | 0.433649        |"
      ]
     },
     "metadata": {},
     "output_type": "display_data"
    },
    {
     "data": {
      "text/html": [
       "<pre>| 1007      | 49473.558606 | 0.421566      | 0.433658        |</pre>"
      ],
      "text/plain": [
       "| 1007      | 49473.558606 | 0.421566      | 0.433658        |"
      ]
     },
     "metadata": {},
     "output_type": "display_data"
    },
    {
     "data": {
      "text/html": [
       "<pre>| 1008      | 49505.348833 | 0.421550      | 0.433652        |</pre>"
      ],
      "text/plain": [
       "| 1008      | 49505.348833 | 0.421550      | 0.433652        |"
      ]
     },
     "metadata": {},
     "output_type": "display_data"
    },
    {
     "data": {
      "text/html": [
       "<pre>| 1009      | 49537.370800 | 0.421534      | 0.433645        |</pre>"
      ],
      "text/plain": [
       "| 1009      | 49537.370800 | 0.421534      | 0.433645        |"
      ]
     },
     "metadata": {},
     "output_type": "display_data"
    },
    {
     "data": {
      "text/html": [
       "<pre>| 1010      | 49568.723958 | 0.421504      | 0.433594        |</pre>"
      ],
      "text/plain": [
       "| 1010      | 49568.723958 | 0.421504      | 0.433594        |"
      ]
     },
     "metadata": {},
     "output_type": "display_data"
    },
    {
     "data": {
      "text/html": [
       "<pre>| 1011      | 49599.245454 | 0.421487      | 0.433589        |</pre>"
      ],
      "text/plain": [
       "| 1011      | 49599.245454 | 0.421487      | 0.433589        |"
      ]
     },
     "metadata": {},
     "output_type": "display_data"
    },
    {
     "data": {
      "text/html": [
       "<pre>| 1012      | 49630.364071 | 0.421465      | 0.433588        |</pre>"
      ],
      "text/plain": [
       "| 1012      | 49630.364071 | 0.421465      | 0.433588        |"
      ]
     },
     "metadata": {},
     "output_type": "display_data"
    },
    {
     "data": {
      "text/html": [
       "<pre>| 1013      | 49663.865275 | 0.421452      | 0.433581        |</pre>"
      ],
      "text/plain": [
       "| 1013      | 49663.865275 | 0.421452      | 0.433581        |"
      ]
     },
     "metadata": {},
     "output_type": "display_data"
    },
    {
     "data": {
      "text/html": [
       "<pre>| 1014      | 49692.528662 | 0.421441      | 0.433576        |</pre>"
      ],
      "text/plain": [
       "| 1014      | 49692.528662 | 0.421441      | 0.433576        |"
      ]
     },
     "metadata": {},
     "output_type": "display_data"
    },
    {
     "data": {
      "text/html": [
       "<pre>| 1015      | 49723.014825 | 0.421423      | 0.433573        |</pre>"
      ],
      "text/plain": [
       "| 1015      | 49723.014825 | 0.421423      | 0.433573        |"
      ]
     },
     "metadata": {},
     "output_type": "display_data"
    },
    {
     "data": {
      "text/html": [
       "<pre>| 1016      | 49759.303832 | 0.421387      | 0.433563        |</pre>"
      ],
      "text/plain": [
       "| 1016      | 49759.303832 | 0.421387      | 0.433563        |"
      ]
     },
     "metadata": {},
     "output_type": "display_data"
    },
    {
     "data": {
      "text/html": [
       "<pre>| 1017      | 49789.267850 | 0.421374      | 0.433562        |</pre>"
      ],
      "text/plain": [
       "| 1017      | 49789.267850 | 0.421374      | 0.433562        |"
      ]
     },
     "metadata": {},
     "output_type": "display_data"
    },
    {
     "data": {
      "text/html": [
       "<pre>| 1018      | 49821.836567 | 0.421356      | 0.433548        |</pre>"
      ],
      "text/plain": [
       "| 1018      | 49821.836567 | 0.421356      | 0.433548        |"
      ]
     },
     "metadata": {},
     "output_type": "display_data"
    },
    {
     "data": {
      "text/html": [
       "<pre>| 1019      | 49853.517399 | 0.421351      | 0.433541        |</pre>"
      ],
      "text/plain": [
       "| 1019      | 49853.517399 | 0.421351      | 0.433541        |"
      ]
     },
     "metadata": {},
     "output_type": "display_data"
    },
    {
     "data": {
      "text/html": [
       "<pre>| 1020      | 49885.962599 | 0.421339      | 0.433540        |</pre>"
      ],
      "text/plain": [
       "| 1020      | 49885.962599 | 0.421339      | 0.433540        |"
      ]
     },
     "metadata": {},
     "output_type": "display_data"
    },
    {
     "data": {
      "text/html": [
       "<pre>| 1021      | 49919.042049 | 0.421324      | 0.433529        |</pre>"
      ],
      "text/plain": [
       "| 1021      | 49919.042049 | 0.421324      | 0.433529        |"
      ]
     },
     "metadata": {},
     "output_type": "display_data"
    },
    {
     "data": {
      "text/html": [
       "<pre>| 1022      | 49951.800382 | 0.421309      | 0.433537        |</pre>"
      ],
      "text/plain": [
       "| 1022      | 49951.800382 | 0.421309      | 0.433537        |"
      ]
     },
     "metadata": {},
     "output_type": "display_data"
    },
    {
     "data": {
      "text/html": [
       "<pre>| 1023      | 49983.288065 | 0.421295      | 0.433535        |</pre>"
      ],
      "text/plain": [
       "| 1023      | 49983.288065 | 0.421295      | 0.433535        |"
      ]
     },
     "metadata": {},
     "output_type": "display_data"
    },
    {
     "data": {
      "text/html": [
       "<pre>| 1024      | 50016.088163 | 0.421274      | 0.433528        |</pre>"
      ],
      "text/plain": [
       "| 1024      | 50016.088163 | 0.421274      | 0.433528        |"
      ]
     },
     "metadata": {},
     "output_type": "display_data"
    },
    {
     "data": {
      "text/html": [
       "<pre>| 1025      | 50041.894504 | 0.421268      | 0.433525        |</pre>"
      ],
      "text/plain": [
       "| 1025      | 50041.894504 | 0.421268      | 0.433525        |"
      ]
     },
     "metadata": {},
     "output_type": "display_data"
    },
    {
     "data": {
      "text/html": [
       "<pre>| 1026      | 50073.804290 | 0.421256      | 0.433531        |</pre>"
      ],
      "text/plain": [
       "| 1026      | 50073.804290 | 0.421256      | 0.433531        |"
      ]
     },
     "metadata": {},
     "output_type": "display_data"
    },
    {
     "data": {
      "text/html": [
       "<pre>| 1027      | 50107.863425 | 0.421242      | 0.433529        |</pre>"
      ],
      "text/plain": [
       "| 1027      | 50107.863425 | 0.421242      | 0.433529        |"
      ]
     },
     "metadata": {},
     "output_type": "display_data"
    },
    {
     "data": {
      "text/html": [
       "<pre>| 1028      | 50140.221724 | 0.421233      | 0.433510        |</pre>"
      ],
      "text/plain": [
       "| 1028      | 50140.221724 | 0.421233      | 0.433510        |"
      ]
     },
     "metadata": {},
     "output_type": "display_data"
    },
    {
     "data": {
      "text/html": [
       "<pre>| 1029      | 50172.248323 | 0.421202      | 0.433498        |</pre>"
      ],
      "text/plain": [
       "| 1029      | 50172.248323 | 0.421202      | 0.433498        |"
      ]
     },
     "metadata": {},
     "output_type": "display_data"
    },
    {
     "data": {
      "text/html": [
       "<pre>| 1030      | 50203.704672 | 0.421196      | 0.433498        |</pre>"
      ],
      "text/plain": [
       "| 1030      | 50203.704672 | 0.421196      | 0.433498        |"
      ]
     },
     "metadata": {},
     "output_type": "display_data"
    },
    {
     "data": {
      "text/html": [
       "<pre>| 1031      | 50234.110838 | 0.421172      | 0.433511        |</pre>"
      ],
      "text/plain": [
       "| 1031      | 50234.110838 | 0.421172      | 0.433511        |"
      ]
     },
     "metadata": {},
     "output_type": "display_data"
    },
    {
     "data": {
      "text/html": [
       "<pre>| 1032      | 50268.116734 | 0.421154      | 0.433517        |</pre>"
      ],
      "text/plain": [
       "| 1032      | 50268.116734 | 0.421154      | 0.433517        |"
      ]
     },
     "metadata": {},
     "output_type": "display_data"
    },
    {
     "data": {
      "text/html": [
       "<pre>| 1033      | 50300.730535 | 0.421145      | 0.433494        |</pre>"
      ],
      "text/plain": [
       "| 1033      | 50300.730535 | 0.421145      | 0.433494        |"
      ]
     },
     "metadata": {},
     "output_type": "display_data"
    },
    {
     "data": {
      "text/html": [
       "<pre>| 1034      | 50332.541443 | 0.421134      | 0.433488        |</pre>"
      ],
      "text/plain": [
       "| 1034      | 50332.541443 | 0.421134      | 0.433488        |"
      ]
     },
     "metadata": {},
     "output_type": "display_data"
    },
    {
     "data": {
      "text/html": [
       "<pre>| 1035      | 50364.090002 | 0.421119      | 0.433514        |</pre>"
      ],
      "text/plain": [
       "| 1035      | 50364.090002 | 0.421119      | 0.433514        |"
      ]
     },
     "metadata": {},
     "output_type": "display_data"
    },
    {
     "data": {
      "text/html": [
       "<pre>| 1036      | 50393.693979 | 0.421108      | 0.433488        |</pre>"
      ],
      "text/plain": [
       "| 1036      | 50393.693979 | 0.421108      | 0.433488        |"
      ]
     },
     "metadata": {},
     "output_type": "display_data"
    },
    {
     "data": {
      "text/html": [
       "<pre>| 1037      | 50426.380598 | 0.421091      | 0.433488        |</pre>"
      ],
      "text/plain": [
       "| 1037      | 50426.380598 | 0.421091      | 0.433488        |"
      ]
     },
     "metadata": {},
     "output_type": "display_data"
    },
    {
     "data": {
      "text/html": [
       "<pre>| 1038      | 50457.185834 | 0.421089      | 0.433479        |</pre>"
      ],
      "text/plain": [
       "| 1038      | 50457.185834 | 0.421089      | 0.433479        |"
      ]
     },
     "metadata": {},
     "output_type": "display_data"
    },
    {
     "data": {
      "text/html": [
       "<pre>| 1039      | 50489.663142 | 0.421079      | 0.433478        |</pre>"
      ],
      "text/plain": [
       "| 1039      | 50489.663142 | 0.421079      | 0.433478        |"
      ]
     },
     "metadata": {},
     "output_type": "display_data"
    },
    {
     "data": {
      "text/html": [
       "<pre>| 1040      | 50518.465938 | 0.421073      | 0.433482        |</pre>"
      ],
      "text/plain": [
       "| 1040      | 50518.465938 | 0.421073      | 0.433482        |"
      ]
     },
     "metadata": {},
     "output_type": "display_data"
    },
    {
     "data": {
      "text/html": [
       "<pre>| 1041      | 50548.645525 | 0.421066      | 0.433481        |</pre>"
      ],
      "text/plain": [
       "| 1041      | 50548.645525 | 0.421066      | 0.433481        |"
      ]
     },
     "metadata": {},
     "output_type": "display_data"
    },
    {
     "data": {
      "text/html": [
       "<pre>| 1042      | 50577.698933 | 0.421057      | 0.433483        |</pre>"
      ],
      "text/plain": [
       "| 1042      | 50577.698933 | 0.421057      | 0.433483        |"
      ]
     },
     "metadata": {},
     "output_type": "display_data"
    },
    {
     "data": {
      "text/html": [
       "<pre>| 1043      | 50611.082461 | 0.421043      | 0.433488        |</pre>"
      ],
      "text/plain": [
       "| 1043      | 50611.082461 | 0.421043      | 0.433488        |"
      ]
     },
     "metadata": {},
     "output_type": "display_data"
    },
    {
     "data": {
      "text/html": [
       "<pre>| 1044      | 50645.742623 | 0.421028      | 0.433492        |</pre>"
      ],
      "text/plain": [
       "| 1044      | 50645.742623 | 0.421028      | 0.433492        |"
      ]
     },
     "metadata": {},
     "output_type": "display_data"
    },
    {
     "data": {
      "text/html": [
       "<pre>| 1045      | 50680.526620 | 0.421012      | 0.433498        |</pre>"
      ],
      "text/plain": [
       "| 1045      | 50680.526620 | 0.421012      | 0.433498        |"
      ]
     },
     "metadata": {},
     "output_type": "display_data"
    },
    {
     "data": {
      "text/html": [
       "<pre>| 1046      | 50714.047530 | 0.420975      | 0.433459        |</pre>"
      ],
      "text/plain": [
       "| 1046      | 50714.047530 | 0.420975      | 0.433459        |"
      ]
     },
     "metadata": {},
     "output_type": "display_data"
    },
    {
     "data": {
      "text/html": [
       "<pre>| 1047      | 50745.912193 | 0.420965      | 0.433457        |</pre>"
      ],
      "text/plain": [
       "| 1047      | 50745.912193 | 0.420965      | 0.433457        |"
      ]
     },
     "metadata": {},
     "output_type": "display_data"
    },
    {
     "data": {
      "text/html": [
       "<pre>| 1048      | 50777.036970 | 0.420953      | 0.433452        |</pre>"
      ],
      "text/plain": [
       "| 1048      | 50777.036970 | 0.420953      | 0.433452        |"
      ]
     },
     "metadata": {},
     "output_type": "display_data"
    },
    {
     "data": {
      "text/html": [
       "<pre>| 1049      | 50810.659726 | 0.420933      | 0.433473        |</pre>"
      ],
      "text/plain": [
       "| 1049      | 50810.659726 | 0.420933      | 0.433473        |"
      ]
     },
     "metadata": {},
     "output_type": "display_data"
    },
    {
     "data": {
      "text/html": [
       "<pre>| 1050      | 50844.951571 | 0.420919      | 0.433480        |</pre>"
      ],
      "text/plain": [
       "| 1050      | 50844.951571 | 0.420919      | 0.433480        |"
      ]
     },
     "metadata": {},
     "output_type": "display_data"
    },
    {
     "data": {
      "text/html": [
       "<pre>| 1051      | 50876.057490 | 0.420905      | 0.433476        |</pre>"
      ],
      "text/plain": [
       "| 1051      | 50876.057490 | 0.420905      | 0.433476        |"
      ]
     },
     "metadata": {},
     "output_type": "display_data"
    },
    {
     "data": {
      "text/html": [
       "<pre>| 1052      | 50905.609185 | 0.420895      | 0.433469        |</pre>"
      ],
      "text/plain": [
       "| 1052      | 50905.609185 | 0.420895      | 0.433469        |"
      ]
     },
     "metadata": {},
     "output_type": "display_data"
    },
    {
     "data": {
      "text/html": [
       "<pre>| 1053      | 50933.506325 | 0.420891      | 0.433465        |</pre>"
      ],
      "text/plain": [
       "| 1053      | 50933.506325 | 0.420891      | 0.433465        |"
      ]
     },
     "metadata": {},
     "output_type": "display_data"
    },
    {
     "data": {
      "text/html": [
       "<pre>| 1054      | 50964.698680 | 0.420881      | 0.433456        |</pre>"
      ],
      "text/plain": [
       "| 1054      | 50964.698680 | 0.420881      | 0.433456        |"
      ]
     },
     "metadata": {},
     "output_type": "display_data"
    },
    {
     "data": {
      "text/html": [
       "<pre>| 1055      | 50993.349409 | 0.420873      | 0.433454        |</pre>"
      ],
      "text/plain": [
       "| 1055      | 50993.349409 | 0.420873      | 0.433454        |"
      ]
     },
     "metadata": {},
     "output_type": "display_data"
    },
    {
     "data": {
      "text/html": [
       "<pre>| 1056      | 51025.107702 | 0.420851      | 0.433450        |</pre>"
      ],
      "text/plain": [
       "| 1056      | 51025.107702 | 0.420851      | 0.433450        |"
      ]
     },
     "metadata": {},
     "output_type": "display_data"
    },
    {
     "data": {
      "text/html": [
       "<pre>| 1057      | 51059.766151 | 0.420840      | 0.433446        |</pre>"
      ],
      "text/plain": [
       "| 1057      | 51059.766151 | 0.420840      | 0.433446        |"
      ]
     },
     "metadata": {},
     "output_type": "display_data"
    },
    {
     "data": {
      "text/html": [
       "<pre>| 1058      | 51089.268928 | 0.420832      | 0.433445        |</pre>"
      ],
      "text/plain": [
       "| 1058      | 51089.268928 | 0.420832      | 0.433445        |"
      ]
     },
     "metadata": {},
     "output_type": "display_data"
    },
    {
     "data": {
      "text/html": [
       "<pre>| 1059      | 51121.081067 | 0.420816      | 0.433437        |</pre>"
      ],
      "text/plain": [
       "| 1059      | 51121.081067 | 0.420816      | 0.433437        |"
      ]
     },
     "metadata": {},
     "output_type": "display_data"
    },
    {
     "data": {
      "text/html": [
       "<pre>| 1060      | 51152.684686 | 0.420810      | 0.433439        |</pre>"
      ],
      "text/plain": [
       "| 1060      | 51152.684686 | 0.420810      | 0.433439        |"
      ]
     },
     "metadata": {},
     "output_type": "display_data"
    },
    {
     "data": {
      "text/html": [
       "<pre>| 1061      | 51185.764123 | 0.420801      | 0.433440        |</pre>"
      ],
      "text/plain": [
       "| 1061      | 51185.764123 | 0.420801      | 0.433440        |"
      ]
     },
     "metadata": {},
     "output_type": "display_data"
    },
    {
     "data": {
      "text/html": [
       "<pre>| 1062      | 51216.779277 | 0.420788      | 0.433433        |</pre>"
      ],
      "text/plain": [
       "| 1062      | 51216.779277 | 0.420788      | 0.433433        |"
      ]
     },
     "metadata": {},
     "output_type": "display_data"
    },
    {
     "data": {
      "text/html": [
       "<pre>| 1063      | 51246.315388 | 0.420766      | 0.433410        |</pre>"
      ],
      "text/plain": [
       "| 1063      | 51246.315388 | 0.420766      | 0.433410        |"
      ]
     },
     "metadata": {},
     "output_type": "display_data"
    },
    {
     "data": {
      "text/html": [
       "<pre>| 1064      | 51277.856685 | 0.420755      | 0.433401        |</pre>"
      ],
      "text/plain": [
       "| 1064      | 51277.856685 | 0.420755      | 0.433401        |"
      ]
     },
     "metadata": {},
     "output_type": "display_data"
    },
    {
     "data": {
      "text/html": [
       "<pre>| 1065      | 51310.449460 | 0.420747      | 0.433392        |</pre>"
      ],
      "text/plain": [
       "| 1065      | 51310.449460 | 0.420747      | 0.433392        |"
      ]
     },
     "metadata": {},
     "output_type": "display_data"
    },
    {
     "data": {
      "text/html": [
       "<pre>| 1066      | 51342.894765 | 0.420735      | 0.433396        |</pre>"
      ],
      "text/plain": [
       "| 1066      | 51342.894765 | 0.420735      | 0.433396        |"
      ]
     },
     "metadata": {},
     "output_type": "display_data"
    },
    {
     "data": {
      "text/html": [
       "<pre>| 1067      | 51374.465627 | 0.420716      | 0.433400        |</pre>"
      ],
      "text/plain": [
       "| 1067      | 51374.465627 | 0.420716      | 0.433400        |"
      ]
     },
     "metadata": {},
     "output_type": "display_data"
    },
    {
     "data": {
      "text/html": [
       "<pre>| 1068      | 51406.732642 | 0.420708      | 0.433392        |</pre>"
      ],
      "text/plain": [
       "| 1068      | 51406.732642 | 0.420708      | 0.433392        |"
      ]
     },
     "metadata": {},
     "output_type": "display_data"
    },
    {
     "data": {
      "text/html": [
       "<pre>| 1069      | 51437.684855 | 0.420697      | 0.433399        |</pre>"
      ],
      "text/plain": [
       "| 1069      | 51437.684855 | 0.420697      | 0.433399        |"
      ]
     },
     "metadata": {},
     "output_type": "display_data"
    },
    {
     "data": {
      "text/html": [
       "<pre>| 1070      | 51472.512405 | 0.420681      | 0.433398        |</pre>"
      ],
      "text/plain": [
       "| 1070      | 51472.512405 | 0.420681      | 0.433398        |"
      ]
     },
     "metadata": {},
     "output_type": "display_data"
    },
    {
     "data": {
      "text/html": [
       "<pre>| 1071      | 51504.771478 | 0.420662      | 0.433369        |</pre>"
      ],
      "text/plain": [
       "| 1071      | 51504.771478 | 0.420662      | 0.433369        |"
      ]
     },
     "metadata": {},
     "output_type": "display_data"
    },
    {
     "data": {
      "text/html": [
       "<pre>| 1072      | 51537.304274 | 0.420648      | 0.433364        |</pre>"
      ],
      "text/plain": [
       "| 1072      | 51537.304274 | 0.420648      | 0.433364        |"
      ]
     },
     "metadata": {},
     "output_type": "display_data"
    },
    {
     "data": {
      "text/html": [
       "<pre>| 1073      | 51571.452545 | 0.420631      | 0.433340        |</pre>"
      ],
      "text/plain": [
       "| 1073      | 51571.452545 | 0.420631      | 0.433340        |"
      ]
     },
     "metadata": {},
     "output_type": "display_data"
    },
    {
     "data": {
      "text/html": [
       "<pre>| 1074      | 51604.175474 | 0.420617      | 0.433336        |</pre>"
      ],
      "text/plain": [
       "| 1074      | 51604.175474 | 0.420617      | 0.433336        |"
      ]
     },
     "metadata": {},
     "output_type": "display_data"
    },
    {
     "data": {
      "text/html": [
       "<pre>| 1075      | 51634.617604 | 0.420607      | 0.433338        |</pre>"
      ],
      "text/plain": [
       "| 1075      | 51634.617604 | 0.420607      | 0.433338        |"
      ]
     },
     "metadata": {},
     "output_type": "display_data"
    },
    {
     "data": {
      "text/html": [
       "<pre>| 1076      | 51667.222121 | 0.420597      | 0.433328        |</pre>"
      ],
      "text/plain": [
       "| 1076      | 51667.222121 | 0.420597      | 0.433328        |"
      ]
     },
     "metadata": {},
     "output_type": "display_data"
    },
    {
     "data": {
      "text/html": [
       "<pre>| 1077      | 51699.658401 | 0.420583      | 0.433344        |</pre>"
      ],
      "text/plain": [
       "| 1077      | 51699.658401 | 0.420583      | 0.433344        |"
      ]
     },
     "metadata": {},
     "output_type": "display_data"
    },
    {
     "data": {
      "text/html": [
       "<pre>| 1078      | 51732.405967 | 0.420567      | 0.433349        |</pre>"
      ],
      "text/plain": [
       "| 1078      | 51732.405967 | 0.420567      | 0.433349        |"
      ]
     },
     "metadata": {},
     "output_type": "display_data"
    },
    {
     "data": {
      "text/html": [
       "<pre>| 1079      | 51766.319263 | 0.420565      | 0.433347        |</pre>"
      ],
      "text/plain": [
       "| 1079      | 51766.319263 | 0.420565      | 0.433347        |"
      ]
     },
     "metadata": {},
     "output_type": "display_data"
    },
    {
     "data": {
      "text/html": [
       "<pre>| 1080      | 51797.051993 | 0.420553      | 0.433350        |</pre>"
      ],
      "text/plain": [
       "| 1080      | 51797.051993 | 0.420553      | 0.433350        |"
      ]
     },
     "metadata": {},
     "output_type": "display_data"
    },
    {
     "data": {
      "text/html": [
       "<pre>| 1081      | 51829.433849 | 0.420539      | 0.433353        |</pre>"
      ],
      "text/plain": [
       "| 1081      | 51829.433849 | 0.420539      | 0.433353        |"
      ]
     },
     "metadata": {},
     "output_type": "display_data"
    },
    {
     "data": {
      "text/html": [
       "<pre>| 1082      | 51861.766428 | 0.420523      | 0.433347        |</pre>"
      ],
      "text/plain": [
       "| 1082      | 51861.766428 | 0.420523      | 0.433347        |"
      ]
     },
     "metadata": {},
     "output_type": "display_data"
    },
    {
     "data": {
      "text/html": [
       "<pre>| 1083      | 51896.567124 | 0.420507      | 0.433342        |</pre>"
      ],
      "text/plain": [
       "| 1083      | 51896.567124 | 0.420507      | 0.433342        |"
      ]
     },
     "metadata": {},
     "output_type": "display_data"
    },
    {
     "data": {
      "text/html": [
       "<pre>| 1084      | 51929.687107 | 0.420501      | 0.433318        |</pre>"
      ],
      "text/plain": [
       "| 1084      | 51929.687107 | 0.420501      | 0.433318        |"
      ]
     },
     "metadata": {},
     "output_type": "display_data"
    },
    {
     "data": {
      "text/html": [
       "<pre>| 1085      | 51959.826468 | 0.420490      | 0.433327        |</pre>"
      ],
      "text/plain": [
       "| 1085      | 51959.826468 | 0.420490      | 0.433327        |"
      ]
     },
     "metadata": {},
     "output_type": "display_data"
    },
    {
     "data": {
      "text/html": [
       "<pre>| 1086      | 51994.422087 | 0.420472      | 0.433327        |</pre>"
      ],
      "text/plain": [
       "| 1086      | 51994.422087 | 0.420472      | 0.433327        |"
      ]
     },
     "metadata": {},
     "output_type": "display_data"
    },
    {
     "data": {
      "text/html": [
       "<pre>| 1087      | 52026.929595 | 0.420461      | 0.433324        |</pre>"
      ],
      "text/plain": [
       "| 1087      | 52026.929595 | 0.420461      | 0.433324        |"
      ]
     },
     "metadata": {},
     "output_type": "display_data"
    },
    {
     "data": {
      "text/html": [
       "<pre>| 1088      | 52053.897247 | 0.420456      | 0.433324        |</pre>"
      ],
      "text/plain": [
       "| 1088      | 52053.897247 | 0.420456      | 0.433324        |"
      ]
     },
     "metadata": {},
     "output_type": "display_data"
    },
    {
     "data": {
      "text/html": [
       "<pre>| 1089      | 52085.328363 | 0.420444      | 0.433321        |</pre>"
      ],
      "text/plain": [
       "| 1089      | 52085.328363 | 0.420444      | 0.433321        |"
      ]
     },
     "metadata": {},
     "output_type": "display_data"
    },
    {
     "data": {
      "text/html": [
       "<pre>| 1090      | 52118.350990 | 0.420424      | 0.433320        |</pre>"
      ],
      "text/plain": [
       "| 1090      | 52118.350990 | 0.420424      | 0.433320        |"
      ]
     },
     "metadata": {},
     "output_type": "display_data"
    },
    {
     "data": {
      "text/html": [
       "<pre>| 1091      | 52148.370363 | 0.420412      | 0.433324        |</pre>"
      ],
      "text/plain": [
       "| 1091      | 52148.370363 | 0.420412      | 0.433324        |"
      ]
     },
     "metadata": {},
     "output_type": "display_data"
    },
    {
     "data": {
      "text/html": [
       "<pre>| 1092      | 52180.445958 | 0.420400      | 0.433316        |</pre>"
      ],
      "text/plain": [
       "| 1092      | 52180.445958 | 0.420400      | 0.433316        |"
      ]
     },
     "metadata": {},
     "output_type": "display_data"
    },
    {
     "data": {
      "text/html": [
       "<pre>| 1093      | 52210.954940 | 0.420383      | 0.433311        |</pre>"
      ],
      "text/plain": [
       "| 1093      | 52210.954940 | 0.420383      | 0.433311        |"
      ]
     },
     "metadata": {},
     "output_type": "display_data"
    },
    {
     "data": {
      "text/html": [
       "<pre>| 1094      | 52243.040615 | 0.420365      | 0.433310        |</pre>"
      ],
      "text/plain": [
       "| 1094      | 52243.040615 | 0.420365      | 0.433310        |"
      ]
     },
     "metadata": {},
     "output_type": "display_data"
    },
    {
     "data": {
      "text/html": [
       "<pre>| 1095      | 52274.911951 | 0.420361      | 0.433299        |</pre>"
      ],
      "text/plain": [
       "| 1095      | 52274.911951 | 0.420361      | 0.433299        |"
      ]
     },
     "metadata": {},
     "output_type": "display_data"
    },
    {
     "data": {
      "text/html": [
       "<pre>| 1096      | 52306.316930 | 0.420348      | 0.433292        |</pre>"
      ],
      "text/plain": [
       "| 1096      | 52306.316930 | 0.420348      | 0.433292        |"
      ]
     },
     "metadata": {},
     "output_type": "display_data"
    },
    {
     "data": {
      "text/html": [
       "<pre>| 1097      | 52337.897494 | 0.420344      | 0.433291        |</pre>"
      ],
      "text/plain": [
       "| 1097      | 52337.897494 | 0.420344      | 0.433291        |"
      ]
     },
     "metadata": {},
     "output_type": "display_data"
    },
    {
     "data": {
      "text/html": [
       "<pre>| 1098      | 52370.033175 | 0.420329      | 0.433296        |</pre>"
      ],
      "text/plain": [
       "| 1098      | 52370.033175 | 0.420329      | 0.433296        |"
      ]
     },
     "metadata": {},
     "output_type": "display_data"
    },
    {
     "data": {
      "text/html": [
       "<pre>| 1099      | 52403.882671 | 0.420301      | 0.433291        |</pre>"
      ],
      "text/plain": [
       "| 1099      | 52403.882671 | 0.420301      | 0.433291        |"
      ]
     },
     "metadata": {},
     "output_type": "display_data"
    },
    {
     "data": {
      "text/html": [
       "<pre>| 1100      | 52436.826184 | 0.420295      | 0.433301        |</pre>"
      ],
      "text/plain": [
       "| 1100      | 52436.826184 | 0.420295      | 0.433301        |"
      ]
     },
     "metadata": {},
     "output_type": "display_data"
    },
    {
     "data": {
      "text/html": [
       "<pre>| 1101      | 52469.413692 | 0.420286      | 0.433304        |</pre>"
      ],
      "text/plain": [
       "| 1101      | 52469.413692 | 0.420286      | 0.433304        |"
      ]
     },
     "metadata": {},
     "output_type": "display_data"
    },
    {
     "data": {
      "text/html": [
       "<pre>| 1102      | 52500.088782 | 0.420274      | 0.433291        |</pre>"
      ],
      "text/plain": [
       "| 1102      | 52500.088782 | 0.420274      | 0.433291        |"
      ]
     },
     "metadata": {},
     "output_type": "display_data"
    },
    {
     "data": {
      "text/html": [
       "<pre>| 1103      | 52532.597355 | 0.420251      | 0.433283        |</pre>"
      ],
      "text/plain": [
       "| 1103      | 52532.597355 | 0.420251      | 0.433283        |"
      ]
     },
     "metadata": {},
     "output_type": "display_data"
    },
    {
     "data": {
      "text/html": [
       "<pre>| 1104      | 52564.928585 | 0.420241      | 0.433279        |</pre>"
      ],
      "text/plain": [
       "| 1104      | 52564.928585 | 0.420241      | 0.433279        |"
      ]
     },
     "metadata": {},
     "output_type": "display_data"
    },
    {
     "data": {
      "text/html": [
       "<pre>| 1105      | 52596.771647 | 0.420229      | 0.433270        |</pre>"
      ],
      "text/plain": [
       "| 1105      | 52596.771647 | 0.420229      | 0.433270        |"
      ]
     },
     "metadata": {},
     "output_type": "display_data"
    },
    {
     "data": {
      "text/html": [
       "<pre>| 1106      | 52627.848469 | 0.420214      | 0.433263        |</pre>"
      ],
      "text/plain": [
       "| 1106      | 52627.848469 | 0.420214      | 0.433263        |"
      ]
     },
     "metadata": {},
     "output_type": "display_data"
    },
    {
     "data": {
      "text/html": [
       "<pre>| 1107      | 52659.691327 | 0.420211      | 0.433264        |</pre>"
      ],
      "text/plain": [
       "| 1107      | 52659.691327 | 0.420211      | 0.433264        |"
      ]
     },
     "metadata": {},
     "output_type": "display_data"
    },
    {
     "data": {
      "text/html": [
       "<pre>| 1108      | 52689.556355 | 0.420195      | 0.433264        |</pre>"
      ],
      "text/plain": [
       "| 1108      | 52689.556355 | 0.420195      | 0.433264        |"
      ]
     },
     "metadata": {},
     "output_type": "display_data"
    },
    {
     "data": {
      "text/html": [
       "<pre>| 1109      | 52722.513770 | 0.420171      | 0.433275        |</pre>"
      ],
      "text/plain": [
       "| 1109      | 52722.513770 | 0.420171      | 0.433275        |"
      ]
     },
     "metadata": {},
     "output_type": "display_data"
    },
    {
     "data": {
      "text/html": [
       "<pre>| 1110      | 52754.188351 | 0.420153      | 0.433260        |</pre>"
      ],
      "text/plain": [
       "| 1110      | 52754.188351 | 0.420153      | 0.433260        |"
      ]
     },
     "metadata": {},
     "output_type": "display_data"
    },
    {
     "data": {
      "text/html": [
       "<pre>| 1111      | 52788.708455 | 0.420131      | 0.433253        |</pre>"
      ],
      "text/plain": [
       "| 1111      | 52788.708455 | 0.420131      | 0.433253        |"
      ]
     },
     "metadata": {},
     "output_type": "display_data"
    },
    {
     "data": {
      "text/html": [
       "<pre>| 1112      | 52822.996335 | 0.420113      | 0.433245        |</pre>"
      ],
      "text/plain": [
       "| 1112      | 52822.996335 | 0.420113      | 0.433245        |"
      ]
     },
     "metadata": {},
     "output_type": "display_data"
    },
    {
     "data": {
      "text/html": [
       "<pre>| 1113      | 52853.841807 | 0.420102      | 0.433242        |</pre>"
      ],
      "text/plain": [
       "| 1113      | 52853.841807 | 0.420102      | 0.433242        |"
      ]
     },
     "metadata": {},
     "output_type": "display_data"
    },
    {
     "data": {
      "text/html": [
       "<pre>| 1114      | 52886.522437 | 0.420089      | 0.433241        |</pre>"
      ],
      "text/plain": [
       "| 1114      | 52886.522437 | 0.420089      | 0.433241        |"
      ]
     },
     "metadata": {},
     "output_type": "display_data"
    },
    {
     "data": {
      "text/html": [
       "<pre>| 1115      | 52915.463775 | 0.420085      | 0.433237        |</pre>"
      ],
      "text/plain": [
       "| 1115      | 52915.463775 | 0.420085      | 0.433237        |"
      ]
     },
     "metadata": {},
     "output_type": "display_data"
    },
    {
     "data": {
      "text/html": [
       "<pre>| 1116      | 52949.602002 | 0.420076      | 0.433235        |</pre>"
      ],
      "text/plain": [
       "| 1116      | 52949.602002 | 0.420076      | 0.433235        |"
      ]
     },
     "metadata": {},
     "output_type": "display_data"
    },
    {
     "data": {
      "text/html": [
       "<pre>| 1117      | 52979.967747 | 0.420059      | 0.433224        |</pre>"
      ],
      "text/plain": [
       "| 1117      | 52979.967747 | 0.420059      | 0.433224        |"
      ]
     },
     "metadata": {},
     "output_type": "display_data"
    },
    {
     "data": {
      "text/html": [
       "<pre>| 1118      | 53011.389314 | 0.420039      | 0.433229        |</pre>"
      ],
      "text/plain": [
       "| 1118      | 53011.389314 | 0.420039      | 0.433229        |"
      ]
     },
     "metadata": {},
     "output_type": "display_data"
    },
    {
     "data": {
      "text/html": [
       "<pre>| 1119      | 53040.487566 | 0.420025      | 0.433222        |</pre>"
      ],
      "text/plain": [
       "| 1119      | 53040.487566 | 0.420025      | 0.433222        |"
      ]
     },
     "metadata": {},
     "output_type": "display_data"
    },
    {
     "data": {
      "text/html": [
       "<pre>| 1120      | 53072.310780 | 0.420002      | 0.433209        |</pre>"
      ],
      "text/plain": [
       "| 1120      | 53072.310780 | 0.420002      | 0.433209        |"
      ]
     },
     "metadata": {},
     "output_type": "display_data"
    },
    {
     "data": {
      "text/html": [
       "<pre>| 1121      | 53105.468123 | 0.419990      | 0.433210        |</pre>"
      ],
      "text/plain": [
       "| 1121      | 53105.468123 | 0.419990      | 0.433210        |"
      ]
     },
     "metadata": {},
     "output_type": "display_data"
    },
    {
     "data": {
      "text/html": [
       "<pre>| 1122      | 53138.511726 | 0.419979      | 0.433203        |</pre>"
      ],
      "text/plain": [
       "| 1122      | 53138.511726 | 0.419979      | 0.433203        |"
      ]
     },
     "metadata": {},
     "output_type": "display_data"
    },
    {
     "data": {
      "text/html": [
       "<pre>| 1123      | 53169.571954 | 0.419962      | 0.433214        |</pre>"
      ],
      "text/plain": [
       "| 1123      | 53169.571954 | 0.419962      | 0.433214        |"
      ]
     },
     "metadata": {},
     "output_type": "display_data"
    },
    {
     "data": {
      "text/html": [
       "<pre>| 1124      | 53198.847581 | 0.419950      | 0.433216        |</pre>"
      ],
      "text/plain": [
       "| 1124      | 53198.847581 | 0.419950      | 0.433216        |"
      ]
     },
     "metadata": {},
     "output_type": "display_data"
    },
    {
     "data": {
      "text/html": [
       "<pre>| 1125      | 53231.778639 | 0.419937      | 0.433218        |</pre>"
      ],
      "text/plain": [
       "| 1125      | 53231.778639 | 0.419937      | 0.433218        |"
      ]
     },
     "metadata": {},
     "output_type": "display_data"
    },
    {
     "data": {
      "text/html": [
       "<pre>| 1126      | 53262.534759 | 0.419922      | 0.433224        |</pre>"
      ],
      "text/plain": [
       "| 1126      | 53262.534759 | 0.419922      | 0.433224        |"
      ]
     },
     "metadata": {},
     "output_type": "display_data"
    },
    {
     "data": {
      "text/html": [
       "<pre>| 1127      | 53296.909433 | 0.419904      | 0.433226        |</pre>"
      ],
      "text/plain": [
       "| 1127      | 53296.909433 | 0.419904      | 0.433226        |"
      ]
     },
     "metadata": {},
     "output_type": "display_data"
    },
    {
     "data": {
      "text/html": [
       "<pre>| 1128      | 53329.937218 | 0.419893      | 0.433227        |</pre>"
      ],
      "text/plain": [
       "| 1128      | 53329.937218 | 0.419893      | 0.433227        |"
      ]
     },
     "metadata": {},
     "output_type": "display_data"
    },
    {
     "data": {
      "text/html": [
       "<pre>| 1129      | 53364.890257 | 0.419874      | 0.433162        |</pre>"
      ],
      "text/plain": [
       "| 1129      | 53364.890257 | 0.419874      | 0.433162        |"
      ]
     },
     "metadata": {},
     "output_type": "display_data"
    },
    {
     "data": {
      "text/html": [
       "<pre>| 1130      | 53396.664116 | 0.419861      | 0.433156        |</pre>"
      ],
      "text/plain": [
       "| 1130      | 53396.664116 | 0.419861      | 0.433156        |"
      ]
     },
     "metadata": {},
     "output_type": "display_data"
    },
    {
     "data": {
      "text/html": [
       "<pre>| 1131      | 53427.356579 | 0.419852      | 0.433151        |</pre>"
      ],
      "text/plain": [
       "| 1131      | 53427.356579 | 0.419852      | 0.433151        |"
      ]
     },
     "metadata": {},
     "output_type": "display_data"
    },
    {
     "data": {
      "text/html": [
       "<pre>| 1132      | 53457.179156 | 0.419840      | 0.433154        |</pre>"
      ],
      "text/plain": [
       "| 1132      | 53457.179156 | 0.419840      | 0.433154        |"
      ]
     },
     "metadata": {},
     "output_type": "display_data"
    },
    {
     "data": {
      "text/html": [
       "<pre>| 1133      | 53490.327343 | 0.419821      | 0.433145        |</pre>"
      ],
      "text/plain": [
       "| 1133      | 53490.327343 | 0.419821      | 0.433145        |"
      ]
     },
     "metadata": {},
     "output_type": "display_data"
    },
    {
     "data": {
      "text/html": [
       "<pre>| 1134      | 53519.060311 | 0.419807      | 0.433153        |</pre>"
      ],
      "text/plain": [
       "| 1134      | 53519.060311 | 0.419807      | 0.433153        |"
      ]
     },
     "metadata": {},
     "output_type": "display_data"
    },
    {
     "data": {
      "text/html": [
       "<pre>| 1135      | 53551.555062 | 0.419795      | 0.433159        |</pre>"
      ],
      "text/plain": [
       "| 1135      | 53551.555062 | 0.419795      | 0.433159        |"
      ]
     },
     "metadata": {},
     "output_type": "display_data"
    },
    {
     "data": {
      "text/html": [
       "<pre>| 1136      | 53582.651880 | 0.419789      | 0.433149        |</pre>"
      ],
      "text/plain": [
       "| 1136      | 53582.651880 | 0.419789      | 0.433149        |"
      ]
     },
     "metadata": {},
     "output_type": "display_data"
    },
    {
     "data": {
      "text/html": [
       "<pre>| 1137      | 53614.512955 | 0.419777      | 0.433145        |</pre>"
      ],
      "text/plain": [
       "| 1137      | 53614.512955 | 0.419777      | 0.433145        |"
      ]
     },
     "metadata": {},
     "output_type": "display_data"
    },
    {
     "data": {
      "text/html": [
       "<pre>| 1138      | 53648.748016 | 0.419760      | 0.433147        |</pre>"
      ],
      "text/plain": [
       "| 1138      | 53648.748016 | 0.419760      | 0.433147        |"
      ]
     },
     "metadata": {},
     "output_type": "display_data"
    },
    {
     "data": {
      "text/html": [
       "<pre>| 1139      | 53679.676634 | 0.419730      | 0.433148        |</pre>"
      ],
      "text/plain": [
       "| 1139      | 53679.676634 | 0.419730      | 0.433148        |"
      ]
     },
     "metadata": {},
     "output_type": "display_data"
    },
    {
     "data": {
      "text/html": [
       "<pre>| 1140      | 53711.453855 | 0.419719      | 0.433178        |</pre>"
      ],
      "text/plain": [
       "| 1140      | 53711.453855 | 0.419719      | 0.433178        |"
      ]
     },
     "metadata": {},
     "output_type": "display_data"
    },
    {
     "data": {
      "text/html": [
       "<pre>| 1141      | 53743.812831 | 0.419700      | 0.433173        |</pre>"
      ],
      "text/plain": [
       "| 1141      | 53743.812831 | 0.419700      | 0.433173        |"
      ]
     },
     "metadata": {},
     "output_type": "display_data"
    },
    {
     "data": {
      "text/html": [
       "<pre>| 1142      | 53772.980565 | 0.419683      | 0.433187        |</pre>"
      ],
      "text/plain": [
       "| 1142      | 53772.980565 | 0.419683      | 0.433187        |"
      ]
     },
     "metadata": {},
     "output_type": "display_data"
    },
    {
     "data": {
      "text/html": [
       "<pre>| 1143      | 53805.140866 | 0.419674      | 0.433227        |</pre>"
      ],
      "text/plain": [
       "| 1143      | 53805.140866 | 0.419674      | 0.433227        |"
      ]
     },
     "metadata": {},
     "output_type": "display_data"
    },
    {
     "data": {
      "text/html": [
       "<pre>| 1144      | 53837.589394 | 0.419658      | 0.433218        |</pre>"
      ],
      "text/plain": [
       "| 1144      | 53837.589394 | 0.419658      | 0.433218        |"
      ]
     },
     "metadata": {},
     "output_type": "display_data"
    },
    {
     "data": {
      "text/html": [
       "<pre>| 1145      | 53870.587587 | 0.419642      | 0.433219        |</pre>"
      ],
      "text/plain": [
       "| 1145      | 53870.587587 | 0.419642      | 0.433219        |"
      ]
     },
     "metadata": {},
     "output_type": "display_data"
    },
    {
     "data": {
      "text/html": [
       "<pre>| 1146      | 53902.735035 | 0.419602      | 0.433215        |</pre>"
      ],
      "text/plain": [
       "| 1146      | 53902.735035 | 0.419602      | 0.433215        |"
      ]
     },
     "metadata": {},
     "output_type": "display_data"
    },
    {
     "data": {
      "text/html": [
       "<pre>| 1147      | 53934.271744 | 0.419591      | 0.433212        |</pre>"
      ],
      "text/plain": [
       "| 1147      | 53934.271744 | 0.419591      | 0.433212        |"
      ]
     },
     "metadata": {},
     "output_type": "display_data"
    },
    {
     "data": {
      "text/html": [
       "<pre>| 1148      | 53965.709367 | 0.419564      | 0.433202        |</pre>"
      ],
      "text/plain": [
       "| 1148      | 53965.709367 | 0.419564      | 0.433202        |"
      ]
     },
     "metadata": {},
     "output_type": "display_data"
    },
    {
     "data": {
      "text/html": [
       "<pre>| 1149      | 53996.872338 | 0.419555      | 0.433206        |</pre>"
      ],
      "text/plain": [
       "| 1149      | 53996.872338 | 0.419555      | 0.433206        |"
      ]
     },
     "metadata": {},
     "output_type": "display_data"
    },
    {
     "data": {
      "text/html": [
       "<pre>| 1150      | 54027.911289 | 0.419547      | 0.433199        |</pre>"
      ],
      "text/plain": [
       "| 1150      | 54027.911289 | 0.419547      | 0.433199        |"
      ]
     },
     "metadata": {},
     "output_type": "display_data"
    },
    {
     "data": {
      "text/html": [
       "<pre>| 1151      | 54063.604492 | 0.419522      | 0.433188        |</pre>"
      ],
      "text/plain": [
       "| 1151      | 54063.604492 | 0.419522      | 0.433188        |"
      ]
     },
     "metadata": {},
     "output_type": "display_data"
    },
    {
     "data": {
      "text/html": [
       "<pre>| 1152      | 54095.974091 | 0.419513      | 0.433178        |</pre>"
      ],
      "text/plain": [
       "| 1152      | 54095.974091 | 0.419513      | 0.433178        |"
      ]
     },
     "metadata": {},
     "output_type": "display_data"
    },
    {
     "data": {
      "text/html": [
       "<pre>| 1153      | 54127.070325 | 0.419500      | 0.433170        |</pre>"
      ],
      "text/plain": [
       "| 1153      | 54127.070325 | 0.419500      | 0.433170        |"
      ]
     },
     "metadata": {},
     "output_type": "display_data"
    },
    {
     "data": {
      "text/html": [
       "<pre>| 1154      | 54159.647709 | 0.419475      | 0.433168        |</pre>"
      ],
      "text/plain": [
       "| 1154      | 54159.647709 | 0.419475      | 0.433168        |"
      ]
     },
     "metadata": {},
     "output_type": "display_data"
    },
    {
     "data": {
      "text/html": [
       "<pre>| 1155      | 54192.289663 | 0.419457      | 0.433152        |</pre>"
      ],
      "text/plain": [
       "| 1155      | 54192.289663 | 0.419457      | 0.433152        |"
      ]
     },
     "metadata": {},
     "output_type": "display_data"
    },
    {
     "data": {
      "text/html": [
       "<pre>| 1156      | 54223.679404 | 0.419441      | 0.433135        |</pre>"
      ],
      "text/plain": [
       "| 1156      | 54223.679404 | 0.419441      | 0.433135        |"
      ]
     },
     "metadata": {},
     "output_type": "display_data"
    },
    {
     "data": {
      "text/html": [
       "<pre>| 1157      | 54254.889288 | 0.419427      | 0.433138        |</pre>"
      ],
      "text/plain": [
       "| 1157      | 54254.889288 | 0.419427      | 0.433138        |"
      ]
     },
     "metadata": {},
     "output_type": "display_data"
    },
    {
     "data": {
      "text/html": [
       "<pre>| 1158      | 54287.551089 | 0.419411      | 0.433128        |</pre>"
      ],
      "text/plain": [
       "| 1158      | 54287.551089 | 0.419411      | 0.433128        |"
      ]
     },
     "metadata": {},
     "output_type": "display_data"
    },
    {
     "data": {
      "text/html": [
       "<pre>| 1159      | 54316.775758 | 0.419405      | 0.433113        |</pre>"
      ],
      "text/plain": [
       "| 1159      | 54316.775758 | 0.419405      | 0.433113        |"
      ]
     },
     "metadata": {},
     "output_type": "display_data"
    },
    {
     "data": {
      "text/html": [
       "<pre>| 1160      | 54346.839917 | 0.419387      | 0.433096        |</pre>"
      ],
      "text/plain": [
       "| 1160      | 54346.839917 | 0.419387      | 0.433096        |"
      ]
     },
     "metadata": {},
     "output_type": "display_data"
    },
    {
     "data": {
      "text/html": [
       "<pre>| 1161      | 54376.068444 | 0.419381      | 0.433097        |</pre>"
      ],
      "text/plain": [
       "| 1161      | 54376.068444 | 0.419381      | 0.433097        |"
      ]
     },
     "metadata": {},
     "output_type": "display_data"
    },
    {
     "data": {
      "text/html": [
       "<pre>| 1162      | 54407.366886 | 0.419371      | 0.433068        |</pre>"
      ],
      "text/plain": [
       "| 1162      | 54407.366886 | 0.419371      | 0.433068        |"
      ]
     },
     "metadata": {},
     "output_type": "display_data"
    },
    {
     "data": {
      "text/html": [
       "<pre>| 1163      | 54440.973089 | 0.419365      | 0.433066        |</pre>"
      ],
      "text/plain": [
       "| 1163      | 54440.973089 | 0.419365      | 0.433066        |"
      ]
     },
     "metadata": {},
     "output_type": "display_data"
    },
    {
     "data": {
      "text/html": [
       "<pre>| 1164      | 54472.894904 | 0.419358      | 0.433078        |</pre>"
      ],
      "text/plain": [
       "| 1164      | 54472.894904 | 0.419358      | 0.433078        |"
      ]
     },
     "metadata": {},
     "output_type": "display_data"
    },
    {
     "data": {
      "text/html": [
       "<pre>| 1165      | 54506.501608 | 0.419343      | 0.433065        |</pre>"
      ],
      "text/plain": [
       "| 1165      | 54506.501608 | 0.419343      | 0.433065        |"
      ]
     },
     "metadata": {},
     "output_type": "display_data"
    },
    {
     "data": {
      "text/html": [
       "<pre>| 1166      | 54541.142109 | 0.419326      | 0.433093        |</pre>"
      ],
      "text/plain": [
       "| 1166      | 54541.142109 | 0.419326      | 0.433093        |"
      ]
     },
     "metadata": {},
     "output_type": "display_data"
    },
    {
     "data": {
      "text/html": [
       "<pre>| 1167      | 54573.116435 | 0.419295      | 0.433108        |</pre>"
      ],
      "text/plain": [
       "| 1167      | 54573.116435 | 0.419295      | 0.433108        |"
      ]
     },
     "metadata": {},
     "output_type": "display_data"
    },
    {
     "data": {
      "text/html": [
       "<pre>| 1168      | 54604.649879 | 0.419285      | 0.433097        |</pre>"
      ],
      "text/plain": [
       "| 1168      | 54604.649879 | 0.419285      | 0.433097        |"
      ]
     },
     "metadata": {},
     "output_type": "display_data"
    },
    {
     "data": {
      "text/html": [
       "<pre>| 1169      | 54637.363183 | 0.419261      | 0.433081        |</pre>"
      ],
      "text/plain": [
       "| 1169      | 54637.363183 | 0.419261      | 0.433081        |"
      ]
     },
     "metadata": {},
     "output_type": "display_data"
    },
    {
     "data": {
      "text/html": [
       "<pre>| 1170      | 54668.644050 | 0.419245      | 0.433079        |</pre>"
      ],
      "text/plain": [
       "| 1170      | 54668.644050 | 0.419245      | 0.433079        |"
      ]
     },
     "metadata": {},
     "output_type": "display_data"
    },
    {
     "data": {
      "text/html": [
       "<pre>| 1171      | 54699.487165 | 0.419220      | 0.433074        |</pre>"
      ],
      "text/plain": [
       "| 1171      | 54699.487165 | 0.419220      | 0.433074        |"
      ]
     },
     "metadata": {},
     "output_type": "display_data"
    },
    {
     "data": {
      "text/html": [
       "<pre>| 1172      | 54732.148621 | 0.419202      | 0.433075        |</pre>"
      ],
      "text/plain": [
       "| 1172      | 54732.148621 | 0.419202      | 0.433075        |"
      ]
     },
     "metadata": {},
     "output_type": "display_data"
    },
    {
     "data": {
      "text/html": [
       "<pre>| 1173      | 54767.147117 | 0.419190      | 0.433066        |</pre>"
      ],
      "text/plain": [
       "| 1173      | 54767.147117 | 0.419190      | 0.433066        |"
      ]
     },
     "metadata": {},
     "output_type": "display_data"
    },
    {
     "data": {
      "text/html": [
       "<pre>| 1174      | 54796.572534 | 0.419182      | 0.433067        |</pre>"
      ],
      "text/plain": [
       "| 1174      | 54796.572534 | 0.419182      | 0.433067        |"
      ]
     },
     "metadata": {},
     "output_type": "display_data"
    },
    {
     "data": {
      "text/html": [
       "<pre>| 1175      | 54827.396155 | 0.419172      | 0.433041        |</pre>"
      ],
      "text/plain": [
       "| 1175      | 54827.396155 | 0.419172      | 0.433041        |"
      ]
     },
     "metadata": {},
     "output_type": "display_data"
    },
    {
     "data": {
      "text/html": [
       "<pre>| 1176      | 54858.377332 | 0.419166      | 0.433037        |</pre>"
      ],
      "text/plain": [
       "| 1176      | 54858.377332 | 0.419166      | 0.433037        |"
      ]
     },
     "metadata": {},
     "output_type": "display_data"
    },
    {
     "data": {
      "text/html": [
       "<pre>| 1177      | 54888.675904 | 0.419155      | 0.433040        |</pre>"
      ],
      "text/plain": [
       "| 1177      | 54888.675904 | 0.419155      | 0.433040        |"
      ]
     },
     "metadata": {},
     "output_type": "display_data"
    },
    {
     "data": {
      "text/html": [
       "<pre>| 1178      | 54920.369665 | 0.419138      | 0.433055        |</pre>"
      ],
      "text/plain": [
       "| 1178      | 54920.369665 | 0.419138      | 0.433055        |"
      ]
     },
     "metadata": {},
     "output_type": "display_data"
    },
    {
     "data": {
      "text/html": [
       "<pre>| 1179      | 54951.442162 | 0.419123      | 0.433045        |</pre>"
      ],
      "text/plain": [
       "| 1179      | 54951.442162 | 0.419123      | 0.433045        |"
      ]
     },
     "metadata": {},
     "output_type": "display_data"
    },
    {
     "data": {
      "text/html": [
       "<pre>| 1180      | 54982.665334 | 0.419117      | 0.433044        |</pre>"
      ],
      "text/plain": [
       "| 1180      | 54982.665334 | 0.419117      | 0.433044        |"
      ]
     },
     "metadata": {},
     "output_type": "display_data"
    },
    {
     "data": {
      "text/html": [
       "<pre>| 1181      | 55012.665944 | 0.419105      | 0.433051        |</pre>"
      ],
      "text/plain": [
       "| 1181      | 55012.665944 | 0.419105      | 0.433051        |"
      ]
     },
     "metadata": {},
     "output_type": "display_data"
    },
    {
     "data": {
      "text/html": [
       "<pre>| 1182      | 55046.506541 | 0.419093      | 0.433038        |</pre>"
      ],
      "text/plain": [
       "| 1182      | 55046.506541 | 0.419093      | 0.433038        |"
      ]
     },
     "metadata": {},
     "output_type": "display_data"
    },
    {
     "data": {
      "text/html": [
       "<pre>| 1183      | 55078.048741 | 0.419080      | 0.433050        |</pre>"
      ],
      "text/plain": [
       "| 1183      | 55078.048741 | 0.419080      | 0.433050        |"
      ]
     },
     "metadata": {},
     "output_type": "display_data"
    },
    {
     "data": {
      "text/html": [
       "<pre>| 1184      | 55109.429837 | 0.419061      | 0.433038        |</pre>"
      ],
      "text/plain": [
       "| 1184      | 55109.429837 | 0.419061      | 0.433038        |"
      ]
     },
     "metadata": {},
     "output_type": "display_data"
    },
    {
     "data": {
      "text/html": [
       "<pre>| 1185      | 55142.937710 | 0.419047      | 0.433030        |</pre>"
      ],
      "text/plain": [
       "| 1185      | 55142.937710 | 0.419047      | 0.433030        |"
      ]
     },
     "metadata": {},
     "output_type": "display_data"
    },
    {
     "data": {
      "text/html": [
       "<pre>| 1186      | 55175.320280 | 0.419033      | 0.433032        |</pre>"
      ],
      "text/plain": [
       "| 1186      | 55175.320280 | 0.419033      | 0.433032        |"
      ]
     },
     "metadata": {},
     "output_type": "display_data"
    },
    {
     "data": {
      "text/html": [
       "<pre>| 1187      | 55209.496688 | 0.419008      | 0.433009        |</pre>"
      ],
      "text/plain": [
       "| 1187      | 55209.496688 | 0.419008      | 0.433009        |"
      ]
     },
     "metadata": {},
     "output_type": "display_data"
    },
    {
     "data": {
      "text/html": [
       "<pre>| 1188      | 55241.899838 | 0.418989      | 0.433013        |</pre>"
      ],
      "text/plain": [
       "| 1188      | 55241.899838 | 0.418989      | 0.433013        |"
      ]
     },
     "metadata": {},
     "output_type": "display_data"
    },
    {
     "data": {
      "text/html": [
       "<pre>| 1189      | 55275.944954 | 0.418971      | 0.432993        |</pre>"
      ],
      "text/plain": [
       "| 1189      | 55275.944954 | 0.418971      | 0.432993        |"
      ]
     },
     "metadata": {},
     "output_type": "display_data"
    },
    {
     "data": {
      "text/html": [
       "<pre>| 1190      | 55306.898746 | 0.418957      | 0.432991        |</pre>"
      ],
      "text/plain": [
       "| 1190      | 55306.898746 | 0.418957      | 0.432991        |"
      ]
     },
     "metadata": {},
     "output_type": "display_data"
    },
    {
     "data": {
      "text/html": [
       "<pre>| 1191      | 55337.077452 | 0.418945      | 0.432988        |</pre>"
      ],
      "text/plain": [
       "| 1191      | 55337.077452 | 0.418945      | 0.432988        |"
      ]
     },
     "metadata": {},
     "output_type": "display_data"
    },
    {
     "data": {
      "text/html": [
       "<pre>| 1192      | 55372.478183 | 0.418934      | 0.432997        |</pre>"
      ],
      "text/plain": [
       "| 1192      | 55372.478183 | 0.418934      | 0.432997        |"
      ]
     },
     "metadata": {},
     "output_type": "display_data"
    },
    {
     "data": {
      "text/html": [
       "<pre>| 1193      | 55404.667700 | 0.418900      | 0.432963        |</pre>"
      ],
      "text/plain": [
       "| 1193      | 55404.667700 | 0.418900      | 0.432963        |"
      ]
     },
     "metadata": {},
     "output_type": "display_data"
    },
    {
     "data": {
      "text/html": [
       "<pre>| 1194      | 55435.206841 | 0.418892      | 0.432963        |</pre>"
      ],
      "text/plain": [
       "| 1194      | 55435.206841 | 0.418892      | 0.432963        |"
      ]
     },
     "metadata": {},
     "output_type": "display_data"
    },
    {
     "data": {
      "text/html": [
       "<pre>| 1195      | 55465.515768 | 0.418882      | 0.432965        |</pre>"
      ],
      "text/plain": [
       "| 1195      | 55465.515768 | 0.418882      | 0.432965        |"
      ]
     },
     "metadata": {},
     "output_type": "display_data"
    },
    {
     "data": {
      "text/html": [
       "<pre>| 1196      | 55499.177434 | 0.418869      | 0.432950        |</pre>"
      ],
      "text/plain": [
       "| 1196      | 55499.177434 | 0.418869      | 0.432950        |"
      ]
     },
     "metadata": {},
     "output_type": "display_data"
    },
    {
     "data": {
      "text/html": [
       "<pre>| 1197      | 55529.906692 | 0.418861      | 0.432945        |</pre>"
      ],
      "text/plain": [
       "| 1197      | 55529.906692 | 0.418861      | 0.432945        |"
      ]
     },
     "metadata": {},
     "output_type": "display_data"
    },
    {
     "data": {
      "text/html": [
       "<pre>| 1198      | 55562.888354 | 0.418850      | 0.432931        |</pre>"
      ],
      "text/plain": [
       "| 1198      | 55562.888354 | 0.418850      | 0.432931        |"
      ]
     },
     "metadata": {},
     "output_type": "display_data"
    },
    {
     "data": {
      "text/html": [
       "<pre>| 1199      | 55593.163404 | 0.418838      | 0.432921        |</pre>"
      ],
      "text/plain": [
       "| 1199      | 55593.163404 | 0.418838      | 0.432921        |"
      ]
     },
     "metadata": {},
     "output_type": "display_data"
    },
    {
     "data": {
      "text/html": [
       "<pre>| 1200      | 55624.978744 | 0.418832      | 0.432939        |</pre>"
      ],
      "text/plain": [
       "| 1200      | 55624.978744 | 0.418832      | 0.432939        |"
      ]
     },
     "metadata": {},
     "output_type": "display_data"
    },
    {
     "data": {
      "text/html": [
       "<pre>Checkpointing to /home/zongyi/bimbo_data/model_checkpoint_1200</pre>"
      ],
      "text/plain": [
       "Checkpointing to /home/zongyi/bimbo_data/model_checkpoint_1200"
      ]
     },
     "metadata": {},
     "output_type": "display_data"
    },
    {
     "data": {
      "text/html": [
       "<pre>+-----------+--------------+---------------+-----------------+</pre>"
      ],
      "text/plain": [
       "+-----------+--------------+---------------+-----------------+"
      ]
     },
     "metadata": {},
     "output_type": "display_data"
    }
   ],
   "source": [
    "# Make a train-test split\n",
    "train_data, test_data = train.random_split(0.999)\n",
    "\n",
    "# Create a model.\n",
    "model = gl.boosted_trees_regression.create(train_data, target='Demada_log',\n",
    "                                           step_size=0.1,\n",
    "                                           max_iterations=1200,\n",
    "                                           max_depth = 10,\n",
    "                                          metric='rmse',\n",
    "                                          random_seed=789,\n",
    "                                          column_subsample=0.3,\n",
    "                                          row_subsample=0.85,\n",
    "                                          validation_set=test_data,\n",
    "                                          model_checkpoint_path=path,\n",
    "                                          model_checkpoint_interval=1200)\n",
    "\n",
    "#500       | 14060.836344 | 0.435407      | 0.447519  \n"
   ]
  },
  {
   "cell_type": "code",
   "execution_count": 20,
   "metadata": {
    "collapsed": false
   },
   "outputs": [],
   "source": [
    "w = model.get_feature_importance()"
   ]
  },
  {
   "cell_type": "code",
   "execution_count": 21,
   "metadata": {
    "collapsed": true
   },
   "outputs": [],
   "source": [
    "w = w.add_row_number()"
   ]
  },
  {
   "cell_type": "code",
   "execution_count": 28,
   "metadata": {
    "collapsed": false
   },
   "outputs": [
    {
     "data": {
      "text/html": [
       "<div style=\"max-height:1000px;max-width:1500px;overflow:auto;\"><table frame=\"box\" rules=\"cols\">\n",
       "    <tr>\n",
       "        <th style=\"padding-left: 1em; padding-right: 1em; text-align: center\">id</th>\n",
       "        <th style=\"padding-left: 1em; padding-right: 1em; text-align: center\">name</th>\n",
       "        <th style=\"padding-left: 1em; padding-right: 1em; text-align: center\">index</th>\n",
       "        <th style=\"padding-left: 1em; padding-right: 1em; text-align: center\">count</th>\n",
       "    </tr>\n",
       "    <tr>\n",
       "        <td style=\"padding-left: 1em; padding-right: 1em; text-align: center; vertical-align: top\">0</td>\n",
       "        <td style=\"padding-left: 1em; padding-right: 1em; text-align: center; vertical-align: top\">Cliente_ID</td>\n",
       "        <td style=\"padding-left: 1em; padding-right: 1em; text-align: center; vertical-align: top\">None</td>\n",
       "        <td style=\"padding-left: 1em; padding-right: 1em; text-align: center; vertical-align: top\">61791</td>\n",
       "    </tr>\n",
       "    <tr>\n",
       "        <td style=\"padding-left: 1em; padding-right: 1em; text-align: center; vertical-align: top\">1</td>\n",
       "        <td style=\"padding-left: 1em; padding-right: 1em; text-align: center; vertical-align: top\">Ruta_SAK</td>\n",
       "        <td style=\"padding-left: 1em; padding-right: 1em; text-align: center; vertical-align: top\">None</td>\n",
       "        <td style=\"padding-left: 1em; padding-right: 1em; text-align: center; vertical-align: top\">56912</td>\n",
       "    </tr>\n",
       "    <tr>\n",
       "        <td style=\"padding-left: 1em; padding-right: 1em; text-align: center; vertical-align: top\">2</td>\n",
       "        <td style=\"padding-left: 1em; padding-right: 1em; text-align: center; vertical-align: top\">n_r</td>\n",
       "        <td style=\"padding-left: 1em; padding-right: 1em; text-align: center; vertical-align: top\">None</td>\n",
       "        <td style=\"padding-left: 1em; padding-right: 1em; text-align: center; vertical-align: top\">43688</td>\n",
       "    </tr>\n",
       "    <tr>\n",
       "        <td style=\"padding-left: 1em; padding-right: 1em; text-align: center; vertical-align: top\">3</td>\n",
       "        <td style=\"padding-left: 1em; padding-right: 1em; text-align: center; vertical-align: top\">lag_sum</td>\n",
       "        <td style=\"padding-left: 1em; padding-right: 1em; text-align: center; vertical-align: top\">None</td>\n",
       "        <td style=\"padding-left: 1em; padding-right: 1em; text-align: center; vertical-align: top\">42993</td>\n",
       "    </tr>\n",
       "    <tr>\n",
       "        <td style=\"padding-left: 1em; padding-right: 1em; text-align: center; vertical-align: top\">4</td>\n",
       "        <td style=\"padding-left: 1em; padding-right: 1em; text-align: center; vertical-align: top\">n_c</td>\n",
       "        <td style=\"padding-left: 1em; padding-right: 1em; text-align: center; vertical-align: top\">None</td>\n",
       "        <td style=\"padding-left: 1em; padding-right: 1em; text-align: center; vertical-align: top\">41808</td>\n",
       "    </tr>\n",
       "    <tr>\n",
       "        <td style=\"padding-left: 1em; padding-right: 1em; text-align: center; vertical-align: top\">5</td>\n",
       "        <td style=\"padding-left: 1em; padding-right: 1em; text-align: center; vertical-align: top\">prior_sum</td>\n",
       "        <td style=\"padding-left: 1em; padding-right: 1em; text-align: center; vertical-align: top\">None</td>\n",
       "        <td style=\"padding-left: 1em; padding-right: 1em; text-align: center; vertical-align: top\">38577</td>\n",
       "    </tr>\n",
       "    <tr>\n",
       "        <td style=\"padding-left: 1em; padding-right: 1em; text-align: center; vertical-align: top\">6</td>\n",
       "        <td style=\"padding-left: 1em; padding-right: 1em; text-align: center; vertical-align: top\">tp_sum</td>\n",
       "        <td style=\"padding-left: 1em; padding-right: 1em; text-align: center; vertical-align: top\">None</td>\n",
       "        <td style=\"padding-left: 1em; padding-right: 1em; text-align: center; vertical-align: top\">37809</td>\n",
       "    </tr>\n",
       "    <tr>\n",
       "        <td style=\"padding-left: 1em; padding-right: 1em; text-align: center; vertical-align: top\">7</td>\n",
       "        <td style=\"padding-left: 1em; padding-right: 1em; text-align: center; vertical-align: top\">Agencia_ID</td>\n",
       "        <td style=\"padding-left: 1em; padding-right: 1em; text-align: center; vertical-align: top\">None</td>\n",
       "        <td style=\"padding-left: 1em; padding-right: 1em; text-align: center; vertical-align: top\">37507</td>\n",
       "    </tr>\n",
       "    <tr>\n",
       "        <td style=\"padding-left: 1em; padding-right: 1em; text-align: center; vertical-align: top\">8</td>\n",
       "        <td style=\"padding-left: 1em; padding-right: 1em; text-align: center; vertical-align: top\">Producto_ID</td>\n",
       "        <td style=\"padding-left: 1em; padding-right: 1em; text-align: center; vertical-align: top\">None</td>\n",
       "        <td style=\"padding-left: 1em; padding-right: 1em; text-align: center; vertical-align: top\">34912</td>\n",
       "    </tr>\n",
       "    <tr>\n",
       "        <td style=\"padding-left: 1em; padding-right: 1em; text-align: center; vertical-align: top\">9</td>\n",
       "        <td style=\"padding-left: 1em; padding-right: 1em; text-align: center; vertical-align: top\">lag1</td>\n",
       "        <td style=\"padding-left: 1em; padding-right: 1em; text-align: center; vertical-align: top\">None</td>\n",
       "        <td style=\"padding-left: 1em; padding-right: 1em; text-align: center; vertical-align: top\">33595</td>\n",
       "    </tr>\n",
       "</table>\n",
       "[36 rows x 4 columns]<br/>Note: Only the head of the SFrame is printed.<br/>You can use print_rows(num_rows=m, num_columns=n) to print more rows and columns.\n",
       "</div>"
      ],
      "text/plain": [
       "Columns:\n",
       "\tid\tint\n",
       "\tname\tstr\n",
       "\tindex\tstr\n",
       "\tcount\tint\n",
       "\n",
       "Rows: 36\n",
       "\n",
       "Data:\n",
       "+----+-------------+-------+-------+\n",
       "| id |     name    | index | count |\n",
       "+----+-------------+-------+-------+\n",
       "| 0  |  Cliente_ID |  None | 61791 |\n",
       "| 1  |   Ruta_SAK  |  None | 56912 |\n",
       "| 2  |     n_r     |  None | 43688 |\n",
       "| 3  |   lag_sum   |  None | 42993 |\n",
       "| 4  |     n_c     |  None | 41808 |\n",
       "| 5  |  prior_sum  |  None | 38577 |\n",
       "| 6  |    tp_sum   |  None | 37809 |\n",
       "| 7  |  Agencia_ID |  None | 37507 |\n",
       "| 8  | Producto_ID |  None | 34912 |\n",
       "| 9  |     lag1    |  None | 33595 |\n",
       "+----+-------------+-------+-------+\n",
       "[36 rows x 4 columns]\n",
       "Note: Only the head of the SFrame is printed.\n",
       "You can use print_rows(num_rows=m, num_columns=n) to print more rows and columns."
      ]
     },
     "execution_count": 28,
     "metadata": {},
     "output_type": "execute_result"
    }
   ],
   "source": [
    "w"
   ]
  },
  {
   "cell_type": "code",
   "execution_count": 32,
   "metadata": {
    "collapsed": false
   },
   "outputs": [
    {
     "data": {
      "text/plain": [
       "(array([ 0,  1,  2,  3,  4,  5,  6,  7,  8,  9, 10, 11, 12, 13, 14, 15, 16,\n",
       "        17, 18, 19, 20, 21, 22, 23, 24, 25, 26, 27, 28, 29, 30, 31, 32, 33,\n",
       "        34, 35]), <a list of 36 Text xticklabel objects>)"
      ]
     },
     "execution_count": 32,
     "metadata": {},
     "output_type": "execute_result"
    },
    {
     "data": {
      "image/png": "[encoded data removed]",
      "text/plain": [
       "<matplotlib.figure.Figure at 0x7fe655609e50>"
      ]
     },
     "metadata": {},
     "output_type": "display_data"
    }
   ],
   "source": [
    "from IPython.core.pylabtools import figsize\n",
    "import numpy as np\n",
    "from matplotlib import pyplot as plt\n",
    "import seaborn as sns\n",
    "sns.set_style('darkgrid', {'grid.color': '.8','grid.linestyle': u'--'}) \n",
    "%matplotlib inline\n",
    "\n",
    "figsize(12, 6)\n",
    "plt.bar(w['id'], w['count'], tick_label=w['name'])\n",
    "\n",
    "plt.xticks(rotation=45)\n"
   ]
  },
  {
   "cell_type": "code",
   "execution_count": 20,
   "metadata": {
    "collapsed": false
   },
   "outputs": [
    {
     "name": "stdout",
     "output_type": "stream",
     "text": [
      "{'max_error': 6.300516724586487, 'rmse': 0.4389403189567331}\n"
     ]
    }
   ],
   "source": [
    "# Save predictions to an SArray\n",
    "predictions = model.predict(train)\n",
    "\n",
    "# Evaluate the model and save the results into a dictionary\n",
    "results = model.evaluate(train)\n",
    "print results\n"
   ]
  },
  {
   "cell_type": "markdown",
   "metadata": {
    "collapsed": true
   },
   "source": [
    "## predict"
   ]
  },
  {
   "cell_type": "code",
   "execution_count": 33,
   "metadata": {
    "collapsed": false
   },
   "outputs": [],
   "source": [
    "test = gl.SFrame.read_csv(path + 'test_lag5_w9.csv', verbose=False)\n"
   ]
  },
  {
   "cell_type": "code",
   "execution_count": 34,
   "metadata": {
    "collapsed": false
   },
   "outputs": [],
   "source": [
    "town = gl.SFrame.read_csv(path + 'towns.csv', verbose=False)\n",
    "test = test.join(town, on=['Agencia_ID','Producto_ID'], how='left')\n",
    "test = test.fillna('t_c',1)\n",
    "test = test.fillna('tcc',0)\n",
    "test = test.fillna('tp_sum',0)\n",
    "del test['Town']"
   ]
  },
  {
   "cell_type": "code",
   "execution_count": 36,
   "metadata": {
    "collapsed": false
   },
   "outputs": [],
   "source": [
    "relag_test = gl.SFrame.read_csv(path + 're_lag_test.csv', verbose=False)\n",
    "test = test.join(relag_test, on=['Cliente_ID','Producto_ID','Semana'], how='left')\n",
    "test = test.fillna('re_lag1',0)\n",
    "test = test.fillna('re_lag2',0)\n",
    "test = test.fillna('re_lag3',0)\n",
    "test = test.fillna('re_lag4',0)\n",
    "test = test.fillna('re_lag5',0)\n",
    "del relag_test\n"
   ]
  },
  {
   "cell_type": "code",
   "execution_count": 37,
   "metadata": {
    "collapsed": true
   },
   "outputs": [],
   "source": [
    "pd = gl.SFrame.read_csv(path + 'products.csv', verbose=False)\n",
    "test = test.join(pd, on=['Producto_ID'], how='left')\n",
    "test = test.fillna('prom',0)\n",
    "test = test.fillna('weight',0)\n",
    "test = test.fillna('pieces',1)\n",
    "test = test.fillna('w_per_piece',0)\n",
    "test = test.fillna('healthy',0)\n",
    "test = test.fillna('drink',0)\n",
    "del pd"
   ]
  },
  {
   "cell_type": "code",
   "execution_count": 38,
   "metadata": {
    "collapsed": true
   },
   "outputs": [],
   "source": [
    "client = gl.SFrame.read_csv(path + 'clients.csv', verbose=False)\n",
    "test = test.join(client, on=['Cliente_ID'], how='left')\n",
    "del client\n",
    "test['re_sum'] = (test['re_lag1'] + test['re_lag2'] + test['re_lag3'] + test['re_lag4'] + test['re_lag5'])/5"
   ]
  },
  {
   "cell_type": "code",
   "execution_count": 39,
   "metadata": {
    "collapsed": false
   },
   "outputs": [],
   "source": [
    "del test['Semana']"
   ]
  },
  {
   "cell_type": "code",
   "execution_count": 40,
   "metadata": {
    "collapsed": false
   },
   "outputs": [],
   "source": [
    "ids = test['id']"
   ]
  },
  {
   "cell_type": "code",
   "execution_count": 41,
   "metadata": {
    "collapsed": false,
    "scrolled": false
   },
   "outputs": [],
   "source": [
    "del test['id']"
   ]
  },
  {
   "cell_type": "code",
   "execution_count": 42,
   "metadata": {
    "collapsed": true
   },
   "outputs": [],
   "source": [
    "demand_log = model.predict(test)"
   ]
  },
  {
   "cell_type": "code",
   "execution_count": 43,
   "metadata": {
    "collapsed": true
   },
   "outputs": [],
   "source": [
    "sub = gl.SFrame({'id':ids,'Demanda_uni_equil':demand_log})"
   ]
  },
  {
   "cell_type": "code",
   "execution_count": 44,
   "metadata": {
    "collapsed": false
   },
   "outputs": [],
   "source": [
    "import math\n",
    "sub['Demanda_uni_equil'] = sub['Demanda_uni_equil'].apply(lambda x: math.expm1(max(0, x)))"
   ]
  },
  {
   "cell_type": "code",
   "execution_count": 45,
   "metadata": {
    "collapsed": false
   },
   "outputs": [
    {
     "data": {
      "text/html": [
       "<div style=\"max-height:1000px;max-width:1500px;overflow:auto;\"><table frame=\"box\" rules=\"cols\">\n",
       "    <tr>\n",
       "        <th style=\"padding-left: 1em; padding-right: 1em; text-align: center\">Demanda_uni_equil</th>\n",
       "        <th style=\"padding-left: 1em; padding-right: 1em; text-align: center\">id</th>\n",
       "    </tr>\n",
       "    <tr>\n",
       "        <td style=\"padding-left: 1em; padding-right: 1em; text-align: center; vertical-align: top\">8.29601345572</td>\n",
       "        <td style=\"padding-left: 1em; padding-right: 1em; text-align: center; vertical-align: top\">2458646</td>\n",
       "    </tr>\n",
       "    <tr>\n",
       "        <td style=\"padding-left: 1em; padding-right: 1em; text-align: center; vertical-align: top\">4.1408918782</td>\n",
       "        <td style=\"padding-left: 1em; padding-right: 1em; text-align: center; vertical-align: top\">5540219</td>\n",
       "    </tr>\n",
       "    <tr>\n",
       "        <td style=\"padding-left: 1em; padding-right: 1em; text-align: center; vertical-align: top\">10.1263488197</td>\n",
       "        <td style=\"padding-left: 1em; padding-right: 1em; text-align: center; vertical-align: top\">3276437</td>\n",
       "    </tr>\n",
       "    <tr>\n",
       "        <td style=\"padding-left: 1em; padding-right: 1em; text-align: center; vertical-align: top\">23.8299936871</td>\n",
       "        <td style=\"padding-left: 1em; padding-right: 1em; text-align: center; vertical-align: top\">52194</td>\n",
       "    </tr>\n",
       "    <tr>\n",
       "        <td style=\"padding-left: 1em; padding-right: 1em; text-align: center; vertical-align: top\">2.0706425808</td>\n",
       "        <td style=\"padding-left: 1em; padding-right: 1em; text-align: center; vertical-align: top\">5461002</td>\n",
       "    </tr>\n",
       "    <tr>\n",
       "        <td style=\"padding-left: 1em; padding-right: 1em; text-align: center; vertical-align: top\">4.27221926309</td>\n",
       "        <td style=\"padding-left: 1em; padding-right: 1em; text-align: center; vertical-align: top\">4600038</td>\n",
       "    </tr>\n",
       "    <tr>\n",
       "        <td style=\"padding-left: 1em; padding-right: 1em; text-align: center; vertical-align: top\">4.55930740288</td>\n",
       "        <td style=\"padding-left: 1em; padding-right: 1em; text-align: center; vertical-align: top\">1067191</td>\n",
       "    </tr>\n",
       "    <tr>\n",
       "        <td style=\"padding-left: 1em; padding-right: 1em; text-align: center; vertical-align: top\">1.53907784382</td>\n",
       "        <td style=\"padding-left: 1em; padding-right: 1em; text-align: center; vertical-align: top\">5502478</td>\n",
       "    </tr>\n",
       "    <tr>\n",
       "        <td style=\"padding-left: 1em; padding-right: 1em; text-align: center; vertical-align: top\">11.3651683784</td>\n",
       "        <td style=\"padding-left: 1em; padding-right: 1em; text-align: center; vertical-align: top\">5099473</td>\n",
       "    </tr>\n",
       "    <tr>\n",
       "        <td style=\"padding-left: 1em; padding-right: 1em; text-align: center; vertical-align: top\">16.2109082702</td>\n",
       "        <td style=\"padding-left: 1em; padding-right: 1em; text-align: center; vertical-align: top\">766587</td>\n",
       "    </tr>\n",
       "</table>\n",
       "[7055802 rows x 2 columns]<br/>Note: Only the head of the SFrame is printed.<br/>You can use print_rows(num_rows=m, num_columns=n) to print more rows and columns.\n",
       "</div>"
      ],
      "text/plain": [
       "Columns:\n",
       "\tDemanda_uni_equil\tfloat\n",
       "\tid\tint\n",
       "\n",
       "Rows: 7055802\n",
       "\n",
       "Data:\n",
       "+-------------------+---------+\n",
       "| Demanda_uni_equil |    id   |\n",
       "+-------------------+---------+\n",
       "|   8.29601345572   | 2458646 |\n",
       "|    4.1408918782   | 5540219 |\n",
       "|   10.1263488197   | 3276437 |\n",
       "|   23.8299936871   |  52194  |\n",
       "|    2.0706425808   | 5461002 |\n",
       "|   4.27221926309   | 4600038 |\n",
       "|   4.55930740288   | 1067191 |\n",
       "|   1.53907784382   | 5502478 |\n",
       "|   11.3651683784   | 5099473 |\n",
       "|   16.2109082702   |  766587 |\n",
       "+-------------------+---------+\n",
       "[7055802 rows x 2 columns]\n",
       "Note: Only the head of the SFrame is printed.\n",
       "You can use print_rows(num_rows=m, num_columns=n) to print more rows and columns."
      ]
     },
     "execution_count": 45,
     "metadata": {},
     "output_type": "execute_result"
    }
   ],
   "source": [
    "sub"
   ]
  },
  {
   "cell_type": "code",
   "execution_count": 46,
   "metadata": {
    "collapsed": true
   },
   "outputs": [],
   "source": [
    "sub.save(path+'gbrt_sub_w9_full1.csv',format='csv')"
   ]
  },
  {
   "cell_type": "code",
   "execution_count": null,
   "metadata": {
    "collapsed": true
   },
   "outputs": [],
   "source": []
  },
  {
   "cell_type": "code",
   "execution_count": null,
   "metadata": {
    "collapsed": true
   },
   "outputs": [],
   "source": []
  },
  {
   "cell_type": "code",
   "execution_count": 43,
   "metadata": {
    "collapsed": false
   },
   "outputs": [
    {
     "data": {
      "text/plain": [
       "1.9999999999999996"
      ]
     },
     "execution_count": 43,
     "metadata": {},
     "output_type": "execute_result"
    }
   ],
   "source": [
    "math.expm1(math.log1p(2))"
   ]
  },
  {
   "cell_type": "code",
   "execution_count": null,
   "metadata": {
    "collapsed": true
   },
   "outputs": [],
   "source": []
  },
  {
   "cell_type": "code",
   "execution_count": 71,
   "metadata": {
    "collapsed": true
   },
   "outputs": [
    {
     "data": {
      "text/html": [
       "<pre>Resuming from checkpoint at /home/zongyi/bimbo_data/model_checkpoint_4</pre>"
      ],
      "text/plain": [
       "Resuming from checkpoint at /home/zongyi/bimbo_data/model_checkpoint_4"
      ]
     },
     "metadata": {},
     "output_type": "display_data"
    },
    {
     "data": {
      "text/html": [
       "<pre>Boosted trees regression:</pre>"
      ],
      "text/plain": [
       "Boosted trees regression:"
      ]
     },
     "metadata": {},
     "output_type": "display_data"
    },
    {
     "data": {
      "text/html": [
       "<pre>--------------------------------------------------------</pre>"
      ],
      "text/plain": [
       "--------------------------------------------------------"
      ]
     },
     "metadata": {},
     "output_type": "display_data"
    },
    {
     "data": {
      "text/html": [
       "<pre>Number of examples          : 20815581</pre>"
      ],
      "text/plain": [
       "Number of examples          : 20815581"
      ]
     },
     "metadata": {},
     "output_type": "display_data"
    },
    {
     "data": {
      "text/html": [
       "<pre>Number of features          : 21</pre>"
      ],
      "text/plain": [
       "Number of features          : 21"
      ]
     },
     "metadata": {},
     "output_type": "display_data"
    },
    {
     "data": {
      "text/html": [
       "<pre>Number of unpacked features : 21</pre>"
      ],
      "text/plain": [
       "Number of unpacked features : 21"
      ]
     },
     "metadata": {},
     "output_type": "display_data"
    },
    {
     "data": {
      "text/html": [
       "<pre>Resumed training from checkpoint at iteration 4 which is greater than or equal to max_iterations 4</pre>"
      ],
      "text/plain": [
       "Resumed training from checkpoint at iteration 4 which is greater than or equal to max_iterations 4"
      ]
     },
     "metadata": {},
     "output_type": "display_data"
    }
   ],
   "source": [
    "model1 = gl.boosted_trees_regression.create(train, target='Demada_log',\n",
    "                                           step_size=0.1,\n",
    "                                           max_iterations=4,\n",
    "                                           max_depth = 10,\n",
    "                                          metric='rmse',\n",
    "                                          random_seed=395,\n",
    "                                          column_subsample=0.7,\n",
    "                                          row_subsample=0.85,\n",
    "                                          validation_set=None,\n",
    "                                          resume_from_checkpoint=path+'model_checkpoint_4',\n",
    "                                           model_checkpoint_path=path,\n",
    "                                          model_checkpoint_interval=2)"
   ]
  }
 ],
 "metadata": {
  "kernelspec": {
   "display_name": "Python 2",
   "language": "python",
   "name": "python2"
  },
  "language_info": {
   "codemirror_mode": {
    "name": "ipython",
    "version": 2
   },
   "file_extension": ".py",
   "mimetype": "text/x-python",
   "name": "python",
   "nbconvert_exporter": "python",
   "pygments_lexer": "ipython2",
   "version": "2.7.6"
  }
 },
 "nbformat": 4,
 "nbformat_minor": 0
}
