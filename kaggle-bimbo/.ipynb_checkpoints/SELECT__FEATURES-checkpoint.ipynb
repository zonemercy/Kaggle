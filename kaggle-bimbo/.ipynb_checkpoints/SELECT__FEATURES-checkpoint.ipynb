{
 "cells": [
  {
   "cell_type": "code",
   "execution_count": 2,
   "metadata": {
    "collapsed": true
   },
   "outputs": [],
   "source": [
    "import pandas as pd\n",
    "import numpy as np\n",
    "import os\n",
    "import math\n",
    "import graphlab\n",
    "import graphlab as gl\n",
    "import graphlab.aggregate as agg\n",
    "from graphlab import SArray"
   ]
  },
  {
   "cell_type": "code",
   "execution_count": 2,
   "metadata": {
    "collapsed": false
   },
   "outputs": [
    {
     "name": "stderr",
     "output_type": "stream",
     "text": [
      "/usr/local/lib/python2.7/dist-packages/requests/packages/urllib3/util/ssl_.py:315: SNIMissingWarning: An HTTPS request has been made, but the SNI (Subject Name Indication) extension to TLS is not available on this platform. This may cause the server to present an incorrect TLS certificate, which can cause validation failures. For more information, see https://urllib3.readthedocs.org/en/latest/security.html#snimissingwarning.\n",
      "  SNIMissingWarning\n",
      "/usr/local/lib/python2.7/dist-packages/requests/packages/urllib3/util/ssl_.py:120: InsecurePlatformWarning: A true SSLContext object is not available. This prevents urllib3 from configuring SSL appropriately and may cause certain SSL connections to fail. For more information, see https://urllib3.readthedocs.org/en/latest/security.html#insecureplatformwarning.\n",
      "  InsecurePlatformWarning\n"
     ]
    },
    {
     "name": "stdout",
     "output_type": "stream",
     "text": [
      "This non-commercial license of GraphLab Create for academic use is assigned to zong-yi.liu@irit.fr and will expire on July 13, 2017.\n"
     ]
    },
    {
     "name": "stderr",
     "output_type": "stream",
     "text": [
      "[INFO] graphlab.cython.cy_server: GraphLab Create v2.0.1 started. Logging: /tmp/graphlab_server_1472154436.log\n"
     ]
    }
   ],
   "source": [
    "'''钢炮'''\n",
    "path = '/home/zongyi/bimbo_data/'\n",
    "train = gl.SFrame.read_csv(path + 'train_lag5_w8.csv', verbose=False)"
   ]
  },
  {
   "cell_type": "code",
   "execution_count": 3,
   "metadata": {
    "collapsed": false
   },
   "outputs": [],
   "source": [
    "town = gl.SFrame.read_csv(path + 'towns.csv', verbose=False)\n",
    "train = train.join(town, on=['Agencia_ID','Producto_ID'], how='left')\n",
    "train = train.fillna('t_c',1)\n",
    "train = train.fillna('tcc',0)\n",
    "train = train.fillna('tp_sum',0)\n",
    "train = train.fillna('n_t',0)\n",
    "# del train['Town']"
   ]
  },
  {
   "cell_type": "code",
   "execution_count": 4,
   "metadata": {
    "collapsed": false
   },
   "outputs": [],
   "source": [
    "del train['id']\n",
    "del train['Venta_uni_hoy']\n",
    "del train['Venta_hoy']\n",
    "del train['Dev_uni_proxima']\n",
    "del train['Dev_proxima']\n",
    "del train['Demanda_uni_equil']\n"
   ]
  },
  {
   "cell_type": "code",
   "execution_count": 5,
   "metadata": {
    "collapsed": true
   },
   "outputs": [],
   "source": [
    "relag_train = gl.SFrame.read_csv(path + 're_lag_train.csv', verbose=False)\n",
    "train = train.join(relag_train, on=['Cliente_ID','Producto_ID','Semana'], how='left')\n",
    "train = train.fillna('re_lag1',0)\n",
    "train = train.fillna('re_lag2',0)\n",
    "train = train.fillna('re_lag3',0)\n",
    "train = train.fillna('re_lag4',0)\n",
    "train = train.fillna('re_lag5',0)\n",
    "train['re_sum'] = (train['re_lag1'] + train['re_lag2'] + train['re_lag3'] + train['re_lag4'] + train['re_lag5'])/5\n",
    "del relag_train\n"
   ]
  },
  {
   "cell_type": "code",
   "execution_count": 6,
   "metadata": {
    "collapsed": false
   },
   "outputs": [],
   "source": [
    "pd = gl.SFrame.read_csv(path + 'products.csv', verbose=False)\n",
    "train = train.join(pd, on=['Producto_ID'], how='left')\n",
    "train = train.fillna('prom',0)\n",
    "train = train.fillna('weight',0)\n",
    "train = train.fillna('pieces',1)\n",
    "train = train.fillna('w_per_piece',0)\n",
    "train = train.fillna('healthy',0)\n",
    "train = train.fillna('drink',0)\n",
    "del pd"
   ]
  },
  {
   "cell_type": "code",
   "execution_count": 7,
   "metadata": {
    "collapsed": false
   },
   "outputs": [],
   "source": [
    "client = gl.SFrame.read_csv(path + 'clients.csv', verbose=False)\n",
    "train = train.join(client, on=['Cliente_ID'], how='left')\n",
    "del client\n"
   ]
  },
  {
   "cell_type": "code",
   "execution_count": 8,
   "metadata": {
    "collapsed": false
   },
   "outputs": [],
   "source": [
    "del train['Semana']\n",
    "del train['Canal_ID']\n",
    "# del train['tcc']\n",
    "del train['re_lag1']\n",
    "del train['re_lag2']\n",
    "del train['re_lag3']\n",
    "del train['re_lag4']\n",
    "del train['re_lag5']\n",
    "del train['prom']\n",
    "del train['healthy']\n",
    "del train['drink']\n",
    "del train['brand']\n",
    "# del train['week_times']\n"
   ]
  },
  {
   "cell_type": "code",
   "execution_count": 9,
   "metadata": {
    "collapsed": false
   },
   "outputs": [
    {
     "name": "stdout",
     "output_type": "stream",
     "text": [
      "['Agencia_ID', 'Ruta_SAK', 'Cliente_ID', 'Producto_ID', 'Demada_log', 'lag1', 'lag2', 'lag3', 'lag4', 'lag5', 'week_times', 'lag_sum', 'prior_sum', 'n_a', 'n_r', 'n_c', 'n_p', 'Town', 't_c', 'tcc', 'tp_sum', 'n_t', 're_sum', 'p_clt', 'weight', 'pieces', 'w_per_piece', 'price', 'c_clt']\n",
      "29\n"
     ]
    }
   ],
   "source": [
    "print train.column_names()\n",
    "print len(train.column_names())"
   ]
  },
  {
   "cell_type": "code",
   "execution_count": 10,
   "metadata": {
    "collapsed": true
   },
   "outputs": [],
   "source": [
    "train.save(path+'train_fs_w8.csv',format='csv')"
   ]
  },
  {
   "cell_type": "code",
   "execution_count": null,
   "metadata": {
    "collapsed": true
   },
   "outputs": [],
   "source": []
  },
  {
   "cell_type": "code",
   "execution_count": 32,
   "metadata": {
    "collapsed": false
   },
   "outputs": [
    {
     "data": {
      "text/plain": [
       "(array([ 0,  1,  2,  3,  4,  5,  6,  7,  8,  9, 10, 11, 12, 13, 14, 15, 16,\n",
       "        17, 18, 19, 20, 21, 22, 23, 24, 25, 26, 27, 28, 29, 30, 31, 32, 33,\n",
       "        34, 35]), <a list of 36 Text xticklabel objects>)"
      ]
     },
     "execution_count": 32,
     "metadata": {},
     "output_type": "execute_result"
    },
    {
     "data": {
      "image/png": "[encoded data removed]",
      "text/plain": [
       "<matplotlib.figure.Figure at 0x7fe655609e50>"
      ]
     },
     "metadata": {},
     "output_type": "display_data"
    }
   ],
   "source": [
    "from IPython.core.pylabtools import figsize\n",
    "import numpy as np\n",
    "from matplotlib import pyplot as plt\n",
    "import seaborn as sns\n",
    "sns.set_style('darkgrid', {'grid.color': '.8','grid.linestyle': u'--'}) \n",
    "%matplotlib inline\n",
    "\n",
    "figsize(12, 6)\n",
    "plt.bar(w['id'], w['count'], tick_label=w['name'])\n",
    "\n",
    "plt.xticks(rotation=45)\n"
   ]
  },
  {
   "cell_type": "code",
   "execution_count": null,
   "metadata": {
    "collapsed": true
   },
   "outputs": [],
   "source": []
  },
  {
   "cell_type": "code",
   "execution_count": null,
   "metadata": {
    "collapsed": true
   },
   "outputs": [],
   "source": []
  },
  {
   "cell_type": "code",
   "execution_count": 17,
   "metadata": {
    "collapsed": false
   },
   "outputs": [],
   "source": [
    "path = '/home/zongyi/bimbo_data/'\n",
    "\n",
    "test = gl.SFrame.read_csv(path + 'test_lag5_w9.csv', verbose=False)"
   ]
  },
  {
   "cell_type": "code",
   "execution_count": 18,
   "metadata": {
    "collapsed": false
   },
   "outputs": [],
   "source": [
    "town = gl.SFrame.read_csv(path + 'towns.csv', verbose=False)\n",
    "test = test.join(town, on=['Agencia_ID','Producto_ID'], how='left')\n",
    "test = test.fillna('t_c',1)\n",
    "test = test.fillna('tcc',0)\n",
    "test = test.fillna('tp_sum',0)\n",
    "test = test.fillna('n_t',0)\n",
    "# del test['Town']"
   ]
  },
  {
   "cell_type": "code",
   "execution_count": 19,
   "metadata": {
    "collapsed": false
   },
   "outputs": [],
   "source": [
    "relag_test = gl.SFrame.read_csv(path + 're_lag_test.csv', verbose=False)\n",
    "test = test.join(relag_test, on=['Cliente_ID','Producto_ID','Semana'], how='left')\n",
    "test = test.fillna('re_lag1',0)\n",
    "test = test.fillna('re_lag2',0)\n",
    "test = test.fillna('re_lag3',0)\n",
    "test = test.fillna('re_lag4',0)\n",
    "test = test.fillna('re_lag5',0)\n",
    "\n",
    "def f(x):\n",
    "    if x['Semana']==10:\n",
    "        a = (x['re_lag1'] + x['re_lag2'] + x['re_lag3'] + x['re_lag4'] + x['re_lag5'])/5\n",
    "    if x['Semana']==11:\n",
    "        a = (x['re_lag2'] + x['re_lag3'] + x['re_lag4'] + x['re_lag5'])/4   \n",
    "    return a\n",
    "test['re_sum'] = test[['Semana','re_lag1', 're_lag2', 're_lag3','re_lag4','re_lag5']].apply(f)\n",
    "\n",
    "# test['re_sum'] = (test['re_lag1'] + test['re_lag2'] + test['re_lag3'] + test['re_lag4'] + test['re_lag5'])/5\n",
    "\n",
    "del test['re_lag1']\n",
    "del test['re_lag2']\n",
    "del test['re_lag3']\n",
    "del test['re_lag4']\n",
    "del test['re_lag5']\n"
   ]
  },
  {
   "cell_type": "code",
   "execution_count": 20,
   "metadata": {
    "collapsed": true
   },
   "outputs": [],
   "source": [
    "pd = gl.SFrame.read_csv(path + 'products.csv', verbose=False)\n",
    "test = test.join(pd, on=['Producto_ID'], how='left')\n",
    "test = test.fillna('prom',0)\n",
    "test = test.fillna('weight',0)\n",
    "test = test.fillna('pieces',1)\n",
    "test = test.fillna('w_per_piece',0)\n",
    "test = test.fillna('healthy',0)\n",
    "test = test.fillna('drink',0)\n",
    "del pd"
   ]
  },
  {
   "cell_type": "code",
   "execution_count": 21,
   "metadata": {
    "collapsed": true
   },
   "outputs": [],
   "source": [
    "client = gl.SFrame.read_csv(path + 'clients.csv', verbose=False)\n",
    "test = test.join(client, on=['Cliente_ID'], how='left')\n",
    "del client\n"
   ]
  },
  {
   "cell_type": "code",
   "execution_count": 28,
   "metadata": {
    "collapsed": true
   },
   "outputs": [],
   "source": [
    "# del test['Semana']\n",
    "del test['Canal_ID']\n",
    "# del test['tcc']\n",
    "# del test['re_lag1']\n",
    "# del test['re_lag2']\n",
    "# del test['re_lag3']\n",
    "# del test['re_lag4']\n",
    "# del test['re_lag5']\n",
    "del test['prom']\n",
    "del test['healthy']\n",
    "del test['drink']\n",
    "del test['brand']"
   ]
  },
  {
   "cell_type": "code",
   "execution_count": 22,
   "metadata": {
    "collapsed": false
   },
   "outputs": [
    {
     "name": "stdout",
     "output_type": "stream",
     "text": [
      "['id', 'Semana', 'Agencia_ID', 'Canal_ID', 'Ruta_SAK', 'Cliente_ID', 'Producto_ID', 'lag1', 'lag2', 'lag3', 'lag4', 'lag5', 'lag_sum', 'prior_sum', 'week_times', 'n_a', 'n_r', 'n_c', 'n_p', 'Town', 't_c', 'tcc', 'tp_sum', 'n_t', 're_sum', 'p_clt', 'prom', 'brand', 'weight', 'pieces', 'w_per_piece', 'healthy', 'drink', 'price', 'c_clt']\n",
      "35\n"
     ]
    }
   ],
   "source": [
    "print test.column_names()\n",
    "print len(test.column_names())"
   ]
  },
  {
   "cell_type": "code",
   "execution_count": 23,
   "metadata": {
    "collapsed": true
   },
   "outputs": [],
   "source": [
    "test.save(path+'test_fs_w9.csv',format='csv')"
   ]
  },
  {
   "cell_type": "code",
   "execution_count": null,
   "metadata": {
    "collapsed": true
   },
   "outputs": [],
   "source": []
  },
  {
   "cell_type": "code",
   "execution_count": null,
   "metadata": {
    "collapsed": true
   },
   "outputs": [],
   "source": []
  }
 ],
 "metadata": {
  "kernelspec": {
   "display_name": "Python 2",
   "language": "python",
   "name": "python2"
  },
  "language_info": {
   "codemirror_mode": {
    "name": "ipython",
    "version": 2
   },
   "file_extension": ".py",
   "mimetype": "text/x-python",
   "name": "python",
   "nbconvert_exporter": "python",
   "pygments_lexer": "ipython2",
   "version": "2.7.6"
  }
 },
 "nbformat": 4,
 "nbformat_minor": 0
}
