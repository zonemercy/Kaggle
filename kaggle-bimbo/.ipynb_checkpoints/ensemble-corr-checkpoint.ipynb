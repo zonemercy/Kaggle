{
 "cells": [
  {
   "cell_type": "code",
   "execution_count": 5,
   "metadata": {
    "ExecuteTime": {
     "end_time": "2016-08-29T15:01:42.439145",
     "start_time": "2016-08-29T15:01:42.432737"
    },
    "collapsed": true
   },
   "outputs": [],
   "source": [
    "import os\n",
    "import math\n",
    "import pandas as pd\n",
    "import numpy as np\n",
    "from scipy import stats\n",
    "# print stats.hmean([ -50.2 , 100.5 ])"
   ]
  },
  {
   "cell_type": "code",
   "execution_count": 6,
   "metadata": {
    "ExecuteTime": {
     "end_time": "2016-08-29T14:57:19.782624",
     "start_time": "2016-08-29T14:57:19.076705"
    },
    "collapsed": false
   },
   "outputs": [
    {
     "data": {
      "text/plain": [
       "['submission3_04481.csv',\n",
       " 'w9_n1000_45133.csv',\n",
       " 'w9_n500_45423.csv',\n",
       " 'w8_f14_n1000_c0.7_45736.csv',\n",
       " 'ensemble_fulll.csv',\n",
       " 'ensemble_w8_2.csv',\n",
       " 'ensemble-kele-0442.csv',\n",
       " 'w9_full1200_47233.csv',\n",
       " 'w8_f15_n1000_c0.7_mean_46121.csv',\n",
       " 'w9_f14_n1200_c0.7_44987.csv',\n",
       " 'w9_n500_45282.csv',\n",
       " 'w9_f25_n1500_c0.5_46191.csv',\n",
       " 'w8_n500_45918.csv',\n",
       " 'w8_f14_n1200_c0.7.csv',\n",
       " 'ensemble_full_04387.csv',\n",
       " 'submission_448.csv',\n",
       " 'ensemble_w9_3_44613.csv',\n",
       " 'w9_full_47401.csv',\n",
       " 'ensemble_448_449.csv',\n",
       " 'w8_n500_45986.csv',\n",
       " 'ensemble_448_446.csv',\n",
       " 'ensemble_w8_1.csv',\n",
       " 'ensemble-452-474-45034.csv',\n",
       " 'w8_f26_n1000_c0.5_46928.csv']"
      ]
     },
     "execution_count": 6,
     "metadata": {},
     "output_type": "execute_result"
    }
   ],
   "source": [
    "path = '/home/zongyi/bimbo_data/submission/'\n",
    "os.listdir(path)"
   ]
  },
  {
   "cell_type": "code",
   "execution_count": 15,
   "metadata": {
    "collapsed": false
   },
   "outputs": [
    {
     "data": {
      "text/html": [
       "<div>\n",
       "<table border=\"1\" class=\"dataframe\">\n",
       "  <thead>\n",
       "    <tr style=\"text-align: right;\">\n",
       "      <th></th>\n",
       "      <th>corr</th>\n",
       "      <th>sub</th>\n",
       "    </tr>\n",
       "  </thead>\n",
       "  <tbody>\n",
       "    <tr>\n",
       "      <th>18</th>\n",
       "      <td>0.867686</td>\n",
       "      <td>submission_448.csv</td>\n",
       "    </tr>\n",
       "    <tr>\n",
       "      <th>0</th>\n",
       "      <td>0.868805</td>\n",
       "      <td>submission3_04481.csv</td>\n",
       "    </tr>\n",
       "    <tr>\n",
       "      <th>2</th>\n",
       "      <td>0.884868</td>\n",
       "      <td>w9_n1000_45133.csv</td>\n",
       "    </tr>\n",
       "    <tr>\n",
       "      <th>20</th>\n",
       "      <td>0.895226</td>\n",
       "      <td>w9_full_47401.csv</td>\n",
       "    </tr>\n",
       "    <tr>\n",
       "      <th>13</th>\n",
       "      <td>0.898021</td>\n",
       "      <td>w9_n500_45282.csv</td>\n",
       "    </tr>\n",
       "    <tr>\n",
       "      <th>9</th>\n",
       "      <td>0.902306</td>\n",
       "      <td>w9_full1200_47233.csv</td>\n",
       "    </tr>\n",
       "    <tr>\n",
       "      <th>4</th>\n",
       "      <td>0.904556</td>\n",
       "      <td>w9_n500_45423.csv</td>\n",
       "    </tr>\n",
       "    <tr>\n",
       "      <th>25</th>\n",
       "      <td>0.909982</td>\n",
       "      <td>ensemble-452-474-45034.csv</td>\n",
       "    </tr>\n",
       "    <tr>\n",
       "      <th>17</th>\n",
       "      <td>0.915628</td>\n",
       "      <td>ensemble_full_04387.csv</td>\n",
       "    </tr>\n",
       "    <tr>\n",
       "      <th>14</th>\n",
       "      <td>0.919632</td>\n",
       "      <td>w9_f25_n1500_c0.5_46191.csv</td>\n",
       "    </tr>\n",
       "    <tr>\n",
       "      <th>21</th>\n",
       "      <td>0.922719</td>\n",
       "      <td>ensemble_448_449.csv</td>\n",
       "    </tr>\n",
       "    <tr>\n",
       "      <th>8</th>\n",
       "      <td>0.928814</td>\n",
       "      <td>ensemble-kele-0442.csv</td>\n",
       "    </tr>\n",
       "    <tr>\n",
       "      <th>23</th>\n",
       "      <td>0.933655</td>\n",
       "      <td>ensemble_448_446.csv</td>\n",
       "    </tr>\n",
       "    <tr>\n",
       "      <th>12</th>\n",
       "      <td>0.938900</td>\n",
       "      <td>w9_f14_n1200_c0.7_44987.csv</td>\n",
       "    </tr>\n",
       "    <tr>\n",
       "      <th>19</th>\n",
       "      <td>0.943600</td>\n",
       "      <td>ensemble_w9_3_44613.csv</td>\n",
       "    </tr>\n",
       "    <tr>\n",
       "      <th>15</th>\n",
       "      <td>0.943662</td>\n",
       "      <td>w8_n500_45918.csv</td>\n",
       "    </tr>\n",
       "    <tr>\n",
       "      <th>10</th>\n",
       "      <td>0.955491</td>\n",
       "      <td>w8_f15_n1000_c0.7_mean_46121.csv</td>\n",
       "    </tr>\n",
       "    <tr>\n",
       "      <th>11</th>\n",
       "      <td>0.956544</td>\n",
       "      <td>full_ensemble1.csv</td>\n",
       "    </tr>\n",
       "    <tr>\n",
       "      <th>1</th>\n",
       "      <td>0.959973</td>\n",
       "      <td>ensemble_w89_hmean.csv</td>\n",
       "    </tr>\n",
       "    <tr>\n",
       "      <th>6</th>\n",
       "      <td>0.960842</td>\n",
       "      <td>ensemble_fulll.csv</td>\n",
       "    </tr>\n",
       "    <tr>\n",
       "      <th>5</th>\n",
       "      <td>0.961220</td>\n",
       "      <td>w8_f14_n1000_c0.7_45736.csv</td>\n",
       "    </tr>\n",
       "    <tr>\n",
       "      <th>26</th>\n",
       "      <td>0.961475</td>\n",
       "      <td>w8_f26_n1000_c0.5_46928.csv</td>\n",
       "    </tr>\n",
       "    <tr>\n",
       "      <th>22</th>\n",
       "      <td>0.969054</td>\n",
       "      <td>w8_n500_45986.csv</td>\n",
       "    </tr>\n",
       "    <tr>\n",
       "      <th>16</th>\n",
       "      <td>0.974775</td>\n",
       "      <td>w8_f14_n1200_c0.7.csv</td>\n",
       "    </tr>\n",
       "    <tr>\n",
       "      <th>7</th>\n",
       "      <td>0.990446</td>\n",
       "      <td>ensemble_w8_2.csv</td>\n",
       "    </tr>\n",
       "    <tr>\n",
       "      <th>24</th>\n",
       "      <td>0.991481</td>\n",
       "      <td>ensemble_w8_1.csv</td>\n",
       "    </tr>\n",
       "    <tr>\n",
       "      <th>3</th>\n",
       "      <td>1.000000</td>\n",
       "      <td>ensemble_w8_3.csv</td>\n",
       "    </tr>\n",
       "  </tbody>\n",
       "</table>\n",
       "</div>"
      ],
      "text/plain": [
       "        corr                               sub\n",
       "18  0.867686                submission_448.csv\n",
       "0   0.868805             submission3_04481.csv\n",
       "2   0.884868                w9_n1000_45133.csv\n",
       "20  0.895226                 w9_full_47401.csv\n",
       "13  0.898021                 w9_n500_45282.csv\n",
       "9   0.902306             w9_full1200_47233.csv\n",
       "4   0.904556                 w9_n500_45423.csv\n",
       "25  0.909982        ensemble-452-474-45034.csv\n",
       "17  0.915628           ensemble_full_04387.csv\n",
       "14  0.919632       w9_f25_n1500_c0.5_46191.csv\n",
       "21  0.922719              ensemble_448_449.csv\n",
       "8   0.928814            ensemble-kele-0442.csv\n",
       "23  0.933655              ensemble_448_446.csv\n",
       "12  0.938900       w9_f14_n1200_c0.7_44987.csv\n",
       "19  0.943600           ensemble_w9_3_44613.csv\n",
       "15  0.943662                 w8_n500_45918.csv\n",
       "10  0.955491  w8_f15_n1000_c0.7_mean_46121.csv\n",
       "11  0.956544                full_ensemble1.csv\n",
       "1   0.959973            ensemble_w89_hmean.csv\n",
       "6   0.960842                ensemble_fulll.csv\n",
       "5   0.961220       w8_f14_n1000_c0.7_45736.csv\n",
       "26  0.961475       w8_f26_n1000_c0.5_46928.csv\n",
       "22  0.969054                 w8_n500_45986.csv\n",
       "16  0.974775             w8_f14_n1200_c0.7.csv\n",
       "7   0.990446                 ensemble_w8_2.csv\n",
       "24  0.991481                 ensemble_w8_1.csv\n",
       "3   1.000000                 ensemble_w8_3.csv"
      ]
     },
     "execution_count": 15,
     "metadata": {},
     "output_type": "execute_result"
    }
   ],
   "source": [
    "'''111111111111111111111111'''\n",
    "def corr(a,b):\n",
    "    corr_df = pd.DataFrame(columns=('corr', 'sub'))\n",
    "    \n",
    "    df2 = pd.read_csv(path + b)\n",
    "    df2.rename(columns={'id': 'id', 'Demanda_uni_equil': 'd2'}, inplace=True)    \n",
    "    i=0    \n",
    "    for f in a:\n",
    "\n",
    "        df1 = pd.read_csv(path + f)\n",
    "        df1.rename(columns={'id': 'id', 'Demanda_uni_equil': 'd1'}, inplace=True)        \n",
    "        df = pd.merge(df1, df2, how='left', on=['id'])\n",
    "        corr_df.loc[i] = [stats.pearsonr(df['d1'], df['d2'])[0], f]\n",
    "        i=i+1\n",
    "#         print stats.pearsonr(df['d1'], df['d2'])[0], f\n",
    "\n",
    "    corr_df.sort_values(by=['corr'], ascending=True, inplace=True)\n",
    "\n",
    "    return corr_df\n",
    "    \n",
    "# corr(['ensemble-452-474-45034.csv'],'submission3_04481.csv')\n",
    "corr(os.listdir(path),'ensemble_w8_3.csv')"
   ]
  },
  {
   "cell_type": "code",
   "execution_count": 9,
   "metadata": {
    "collapsed": false
   },
   "outputs": [
    {
     "data": {
      "text/html": [
       "<div>\n",
       "<table border=\"1\" class=\"dataframe\">\n",
       "  <thead>\n",
       "    <tr style=\"text-align: right;\">\n",
       "      <th></th>\n",
       "      <th>corr</th>\n",
       "      <th>sub</th>\n",
       "    </tr>\n",
       "  </thead>\n",
       "  <tbody>\n",
       "    <tr>\n",
       "      <th>4</th>\n",
       "      <td>0.862485</td>\n",
       "      <td>w8_f14_n1000_c0.7_45736.csv</td>\n",
       "    </tr>\n",
       "    <tr>\n",
       "      <th>13</th>\n",
       "      <td>0.881927</td>\n",
       "      <td>w8_n500_45918.csv</td>\n",
       "    </tr>\n",
       "    <tr>\n",
       "      <th>11</th>\n",
       "      <td>0.919127</td>\n",
       "      <td>w9_n500_45282.csv</td>\n",
       "    </tr>\n",
       "    <tr>\n",
       "      <th>1</th>\n",
       "      <td>0.919986</td>\n",
       "      <td>w9_n1000_45133.csv</td>\n",
       "    </tr>\n",
       "    <tr>\n",
       "      <th>3</th>\n",
       "      <td>0.920603</td>\n",
       "      <td>w9_n500_45423.csv</td>\n",
       "    </tr>\n",
       "    <tr>\n",
       "      <th>20</th>\n",
       "      <td>0.923707</td>\n",
       "      <td>w8_n500_45986.csv</td>\n",
       "    </tr>\n",
       "    <tr>\n",
       "      <th>22</th>\n",
       "      <td>0.925075</td>\n",
       "      <td>ensemble_w8_1.csv</td>\n",
       "    </tr>\n",
       "    <tr>\n",
       "      <th>14</th>\n",
       "      <td>0.927284</td>\n",
       "      <td>w8_f14_n1200_c0.7.csv</td>\n",
       "    </tr>\n",
       "    <tr>\n",
       "      <th>9</th>\n",
       "      <td>0.928828</td>\n",
       "      <td>w8_f15_n1000_c0.7_mean_46121.csv</td>\n",
       "    </tr>\n",
       "    <tr>\n",
       "      <th>24</th>\n",
       "      <td>0.932939</td>\n",
       "      <td>w8_f26_n1000_c0.5_46928.csv</td>\n",
       "    </tr>\n",
       "    <tr>\n",
       "      <th>2</th>\n",
       "      <td>0.933655</td>\n",
       "      <td>ensemble_w8_3.csv</td>\n",
       "    </tr>\n",
       "    <tr>\n",
       "      <th>18</th>\n",
       "      <td>0.934701</td>\n",
       "      <td>w9_full_47401.csv</td>\n",
       "    </tr>\n",
       "    <tr>\n",
       "      <th>6</th>\n",
       "      <td>0.935353</td>\n",
       "      <td>ensemble_w8_2.csv</td>\n",
       "    </tr>\n",
       "    <tr>\n",
       "      <th>23</th>\n",
       "      <td>0.937098</td>\n",
       "      <td>ensemble-452-474-45034.csv</td>\n",
       "    </tr>\n",
       "    <tr>\n",
       "      <th>12</th>\n",
       "      <td>0.940893</td>\n",
       "      <td>w9_f25_n1500_c0.5_46191.csv</td>\n",
       "    </tr>\n",
       "    <tr>\n",
       "      <th>8</th>\n",
       "      <td>0.941164</td>\n",
       "      <td>w9_full1200_47233.csv</td>\n",
       "    </tr>\n",
       "    <tr>\n",
       "      <th>16</th>\n",
       "      <td>0.967772</td>\n",
       "      <td>submission_448.csv</td>\n",
       "    </tr>\n",
       "    <tr>\n",
       "      <th>0</th>\n",
       "      <td>0.968101</td>\n",
       "      <td>submission3_04481.csv</td>\n",
       "    </tr>\n",
       "    <tr>\n",
       "      <th>10</th>\n",
       "      <td>0.979604</td>\n",
       "      <td>w9_f14_n1200_c0.7_44987.csv</td>\n",
       "    </tr>\n",
       "    <tr>\n",
       "      <th>17</th>\n",
       "      <td>0.981210</td>\n",
       "      <td>ensemble_w9_3_44613.csv</td>\n",
       "    </tr>\n",
       "    <tr>\n",
       "      <th>7</th>\n",
       "      <td>0.988718</td>\n",
       "      <td>ensemble-kele-0442.csv</td>\n",
       "    </tr>\n",
       "    <tr>\n",
       "      <th>5</th>\n",
       "      <td>0.990798</td>\n",
       "      <td>ensemble_fulll.csv</td>\n",
       "    </tr>\n",
       "    <tr>\n",
       "      <th>15</th>\n",
       "      <td>0.993198</td>\n",
       "      <td>ensemble_full_04387.csv</td>\n",
       "    </tr>\n",
       "    <tr>\n",
       "      <th>19</th>\n",
       "      <td>0.996194</td>\n",
       "      <td>ensemble_448_449.csv</td>\n",
       "    </tr>\n",
       "    <tr>\n",
       "      <th>21</th>\n",
       "      <td>1.000000</td>\n",
       "      <td>ensemble_448_446.csv</td>\n",
       "    </tr>\n",
       "  </tbody>\n",
       "</table>\n",
       "</div>"
      ],
      "text/plain": [
       "        corr                               sub\n",
       "4   0.862485       w8_f14_n1000_c0.7_45736.csv\n",
       "13  0.881927                 w8_n500_45918.csv\n",
       "11  0.919127                 w9_n500_45282.csv\n",
       "1   0.919986                w9_n1000_45133.csv\n",
       "3   0.920603                 w9_n500_45423.csv\n",
       "20  0.923707                 w8_n500_45986.csv\n",
       "22  0.925075                 ensemble_w8_1.csv\n",
       "14  0.927284             w8_f14_n1200_c0.7.csv\n",
       "9   0.928828  w8_f15_n1000_c0.7_mean_46121.csv\n",
       "24  0.932939       w8_f26_n1000_c0.5_46928.csv\n",
       "2   0.933655                 ensemble_w8_3.csv\n",
       "18  0.934701                 w9_full_47401.csv\n",
       "6   0.935353                 ensemble_w8_2.csv\n",
       "23  0.937098        ensemble-452-474-45034.csv\n",
       "12  0.940893       w9_f25_n1500_c0.5_46191.csv\n",
       "8   0.941164             w9_full1200_47233.csv\n",
       "16  0.967772                submission_448.csv\n",
       "0   0.968101             submission3_04481.csv\n",
       "10  0.979604       w9_f14_n1200_c0.7_44987.csv\n",
       "17  0.981210           ensemble_w9_3_44613.csv\n",
       "7   0.988718            ensemble-kele-0442.csv\n",
       "5   0.990798                ensemble_fulll.csv\n",
       "15  0.993198           ensemble_full_04387.csv\n",
       "19  0.996194              ensemble_448_449.csv\n",
       "21  1.000000              ensemble_448_446.csv"
      ]
     },
     "execution_count": 9,
     "metadata": {},
     "output_type": "execute_result"
    }
   ],
   "source": [
    "def corr(a,b):\n",
    "    corr_df = pd.DataFrame(columns=('corr', 'sub'))\n",
    "    \n",
    "    df2 = pd.read_csv(path + b)\n",
    "    df2.rename(columns={'id': 'id', 'Demanda_uni_equil': 'd2'}, inplace=True)    \n",
    "    i=0    \n",
    "    for f in a:\n",
    "\n",
    "        df1 = pd.read_csv(path + f)\n",
    "        df1.rename(columns={'id': 'id', 'Demanda_uni_equil': 'd1'}, inplace=True)        \n",
    "        df = pd.merge(df1, df2, how='left', on=['id'])\n",
    "        corr_df.loc[i] = [stats.pearsonr(df['d1'], df['d2'])[0], f]\n",
    "        i=i+1\n",
    "#         print stats.pearsonr(df['d1'], df['d2'])[0], f\n",
    "\n",
    "    corr_df.sort_values(by=['corr'], ascending=True, inplace=True)\n",
    "\n",
    "    return corr_df\n",
    "    \n",
    "# corr(['ensemble-452-474-45034.csv'],'submission3_04481.csv')\n",
    "corr(os.listdir(path),'ensemble_448_446.csv')"
   ]
  },
  {
   "cell_type": "code",
   "execution_count": 17,
   "metadata": {
    "collapsed": false
   },
   "outputs": [
    {
     "data": {
      "text/html": [
       "<div>\n",
       "<table border=\"1\" class=\"dataframe\">\n",
       "  <thead>\n",
       "    <tr style=\"text-align: right;\">\n",
       "      <th></th>\n",
       "      <th>corr</th>\n",
       "      <th>sub</th>\n",
       "    </tr>\n",
       "  </thead>\n",
       "  <tbody>\n",
       "    <tr>\n",
       "      <th>5</th>\n",
       "      <td>0.872798</td>\n",
       "      <td>w8_f14_n1000_c0.7_45736.csv</td>\n",
       "    </tr>\n",
       "    <tr>\n",
       "      <th>15</th>\n",
       "      <td>0.886107</td>\n",
       "      <td>w8_n500_45918.csv</td>\n",
       "    </tr>\n",
       "    <tr>\n",
       "      <th>18</th>\n",
       "      <td>0.909359</td>\n",
       "      <td>submission_448.csv</td>\n",
       "    </tr>\n",
       "    <tr>\n",
       "      <th>2</th>\n",
       "      <td>0.909703</td>\n",
       "      <td>w9_n1000_45133.csv</td>\n",
       "    </tr>\n",
       "    <tr>\n",
       "      <th>0</th>\n",
       "      <td>0.910303</td>\n",
       "      <td>submission3_04481.csv</td>\n",
       "    </tr>\n",
       "    <tr>\n",
       "      <th>13</th>\n",
       "      <td>0.915589</td>\n",
       "      <td>w9_n500_45282.csv</td>\n",
       "    </tr>\n",
       "    <tr>\n",
       "      <th>4</th>\n",
       "      <td>0.916780</td>\n",
       "      <td>w9_n500_45423.csv</td>\n",
       "    </tr>\n",
       "    <tr>\n",
       "      <th>10</th>\n",
       "      <td>0.926178</td>\n",
       "      <td>w8_f15_n1000_c0.7_mean_46121.csv</td>\n",
       "    </tr>\n",
       "    <tr>\n",
       "      <th>16</th>\n",
       "      <td>0.929386</td>\n",
       "      <td>w8_f14_n1200_c0.7.csv</td>\n",
       "    </tr>\n",
       "    <tr>\n",
       "      <th>22</th>\n",
       "      <td>0.929458</td>\n",
       "      <td>w8_n500_45986.csv</td>\n",
       "    </tr>\n",
       "    <tr>\n",
       "      <th>24</th>\n",
       "      <td>0.929819</td>\n",
       "      <td>ensemble_w8_1.csv</td>\n",
       "    </tr>\n",
       "    <tr>\n",
       "      <th>20</th>\n",
       "      <td>0.930186</td>\n",
       "      <td>w9_full_47401.csv</td>\n",
       "    </tr>\n",
       "    <tr>\n",
       "      <th>25</th>\n",
       "      <td>0.933206</td>\n",
       "      <td>ensemble-452-474-45034.csv</td>\n",
       "    </tr>\n",
       "    <tr>\n",
       "      <th>26</th>\n",
       "      <td>0.933990</td>\n",
       "      <td>w8_f26_n1000_c0.5_46928.csv</td>\n",
       "    </tr>\n",
       "    <tr>\n",
       "      <th>9</th>\n",
       "      <td>0.936211</td>\n",
       "      <td>w9_full1200_47233.csv</td>\n",
       "    </tr>\n",
       "    <tr>\n",
       "      <th>14</th>\n",
       "      <td>0.938021</td>\n",
       "      <td>w9_f25_n1500_c0.5_46191.csv</td>\n",
       "    </tr>\n",
       "    <tr>\n",
       "      <th>7</th>\n",
       "      <td>0.938067</td>\n",
       "      <td>ensemble_w8_2.csv</td>\n",
       "    </tr>\n",
       "    <tr>\n",
       "      <th>3</th>\n",
       "      <td>0.938900</td>\n",
       "      <td>ensemble_w8_3.csv</td>\n",
       "    </tr>\n",
       "    <tr>\n",
       "      <th>17</th>\n",
       "      <td>0.953344</td>\n",
       "      <td>ensemble_full_04387.csv</td>\n",
       "    </tr>\n",
       "    <tr>\n",
       "      <th>8</th>\n",
       "      <td>0.960103</td>\n",
       "      <td>ensemble-kele-0442.csv</td>\n",
       "    </tr>\n",
       "    <tr>\n",
       "      <th>1</th>\n",
       "      <td>0.961204</td>\n",
       "      <td>ensemble_w89_hmean.csv</td>\n",
       "    </tr>\n",
       "    <tr>\n",
       "      <th>6</th>\n",
       "      <td>0.974454</td>\n",
       "      <td>ensemble_fulll.csv</td>\n",
       "    </tr>\n",
       "    <tr>\n",
       "      <th>21</th>\n",
       "      <td>0.974840</td>\n",
       "      <td>ensemble_448_449.csv</td>\n",
       "    </tr>\n",
       "    <tr>\n",
       "      <th>23</th>\n",
       "      <td>0.979604</td>\n",
       "      <td>ensemble_448_446.csv</td>\n",
       "    </tr>\n",
       "    <tr>\n",
       "      <th>11</th>\n",
       "      <td>0.981431</td>\n",
       "      <td>full_ensemble1.csv</td>\n",
       "    </tr>\n",
       "    <tr>\n",
       "      <th>19</th>\n",
       "      <td>0.990829</td>\n",
       "      <td>ensemble_w9_3_44613.csv</td>\n",
       "    </tr>\n",
       "    <tr>\n",
       "      <th>12</th>\n",
       "      <td>1.000000</td>\n",
       "      <td>w9_f14_n1200_c0.7_44987.csv</td>\n",
       "    </tr>\n",
       "  </tbody>\n",
       "</table>\n",
       "</div>"
      ],
      "text/plain": [
       "        corr                               sub\n",
       "5   0.872798       w8_f14_n1000_c0.7_45736.csv\n",
       "15  0.886107                 w8_n500_45918.csv\n",
       "18  0.909359                submission_448.csv\n",
       "2   0.909703                w9_n1000_45133.csv\n",
       "0   0.910303             submission3_04481.csv\n",
       "13  0.915589                 w9_n500_45282.csv\n",
       "4   0.916780                 w9_n500_45423.csv\n",
       "10  0.926178  w8_f15_n1000_c0.7_mean_46121.csv\n",
       "16  0.929386             w8_f14_n1200_c0.7.csv\n",
       "22  0.929458                 w8_n500_45986.csv\n",
       "24  0.929819                 ensemble_w8_1.csv\n",
       "20  0.930186                 w9_full_47401.csv\n",
       "25  0.933206        ensemble-452-474-45034.csv\n",
       "26  0.933990       w8_f26_n1000_c0.5_46928.csv\n",
       "9   0.936211             w9_full1200_47233.csv\n",
       "14  0.938021       w9_f25_n1500_c0.5_46191.csv\n",
       "7   0.938067                 ensemble_w8_2.csv\n",
       "3   0.938900                 ensemble_w8_3.csv\n",
       "17  0.953344           ensemble_full_04387.csv\n",
       "8   0.960103            ensemble-kele-0442.csv\n",
       "1   0.961204            ensemble_w89_hmean.csv\n",
       "6   0.974454                ensemble_fulll.csv\n",
       "21  0.974840              ensemble_448_449.csv\n",
       "23  0.979604              ensemble_448_446.csv\n",
       "11  0.981431                full_ensemble1.csv\n",
       "19  0.990829           ensemble_w9_3_44613.csv\n",
       "12  1.000000       w9_f14_n1200_c0.7_44987.csv"
      ]
     },
     "execution_count": 17,
     "metadata": {},
     "output_type": "execute_result"
    }
   ],
   "source": [
    "def corr(a,b):\n",
    "    corr_df = pd.DataFrame(columns=('corr', 'sub'))\n",
    "    \n",
    "    df2 = pd.read_csv(path + b)\n",
    "    df2.rename(columns={'id': 'id', 'Demanda_uni_equil': 'd2'}, inplace=True)    \n",
    "    i=0    \n",
    "    for f in a:\n",
    "\n",
    "        df1 = pd.read_csv(path + f)\n",
    "        df1.rename(columns={'id': 'id', 'Demanda_uni_equil': 'd1'}, inplace=True)        \n",
    "        df = pd.merge(df1, df2, how='left', on=['id'])\n",
    "        corr_df.loc[i] = [stats.pearsonr(df['d1'], df['d2'])[0], f]\n",
    "        i=i+1\n",
    "#         print stats.pearsonr(df['d1'], df['d2'])[0], f\n",
    "\n",
    "    corr_df.sort_values(by=['corr'], ascending=True, inplace=True)\n",
    "\n",
    "    return corr_df\n",
    "    \n",
    "# corr(['ensemble-452-474-45034.csv'],'submission3_04481.csv')\n",
    "corr(os.listdir(path),'w9_f14_n1200_c0.7_44987.csv')"
   ]
  },
  {
   "cell_type": "code",
   "execution_count": null,
   "metadata": {
    "collapsed": true
   },
   "outputs": [],
   "source": []
  },
  {
   "cell_type": "code",
   "execution_count": null,
   "metadata": {
    "collapsed": true
   },
   "outputs": [],
   "source": []
  },
  {
   "cell_type": "code",
   "execution_count": 14,
   "metadata": {
    "collapsed": true
   },
   "outputs": [],
   "source": [
    "df1 = pd.read_csv(path+'ensemble_448_446.csv')\n",
    "df2 = pd.read_csv(path+'ensemble_w8_2.csv')\n",
    "df1.rename(columns={'id': 'id', 'Demanda_uni_equil': 'd1'}, inplace=True)\n",
    "df2.rename(columns={'id': 'id', 'Demanda_uni_equil': 'd2'}, inplace=True)\n",
    "df = pd.merge(df1, df2, how='left', on=['id'])\n",
    "df['Demanda_uni_equil'] = 0.8*df['d1'] + 0.2*df['d2']\n",
    "sub = df[['id','Demanda_uni_equil']]\n",
    "sub.to_csv(path+'full_ensemble1.csv', index=False)"
   ]
  },
  {
   "cell_type": "code",
   "execution_count": null,
   "metadata": {
    "collapsed": true
   },
   "outputs": [],
   "source": []
  },
  {
   "cell_type": "code",
   "execution_count": 29,
   "metadata": {
    "collapsed": false
   },
   "outputs": [],
   "source": [
    "df1 = pd.read_csv(path+'submission_448.csv')\n",
    "df2 = pd.read_csv(path+'ensemble_w9_3_44613.csv')\n",
    "df1.rename(columns={'id': 'id', 'Demanda_uni_equil': 'd1'}, inplace=True)\n",
    "df2.rename(columns={'id': 'id', 'Demanda_uni_equil': 'd2'}, inplace=True)\n",
    "df = pd.merge(df1, df2, how='left', on=['id'])\n",
    "df['Demanda_uni_equil'] = 0.55*df['d1'] + 0.45*df['d2']\n",
    "sub = df[['id','Demanda_uni_equil']]\n",
    "sub.to_csv(path+'ensemble_448_446.csv', index=False)"
   ]
  },
  {
   "cell_type": "code",
   "execution_count": null,
   "metadata": {
    "collapsed": true
   },
   "outputs": [],
   "source": []
  },
  {
   "cell_type": "code",
   "execution_count": 14,
   "metadata": {
    "collapsed": true
   },
   "outputs": [],
   "source": [
    "df1 = pd.read_csv(path+'w9_f14_n1200_c0.7_44987.csv')\n",
    "df2 = pd.read_csv(path+'w9_n1000_45133.csv')\n",
    "df3 = pd.read_csv(path+'w9_f25_n1500_c0.5_46191.csv')\n",
    "df1.rename(columns={'id': 'id', 'Demanda_uni_equil': 'd1'}, inplace=True)\n",
    "df2.rename(columns={'id': 'id', 'Demanda_uni_equil': 'd2'}, inplace=True)\n",
    "df3.rename(columns={'id': 'id', 'Demanda_uni_equil': 'd3'}, inplace=True)\n",
    "df = pd.merge(df1, df2, how='left', on=['id'])\n",
    "df = pd.merge(df, df3, how='left', on=['id'])\n",
    "df['Demanda_uni_equil'] = 0.6*df['d1'] + 0.28*df['d2'] + 0.12*df['d3']\n",
    "sub = df[['id','Demanda_uni_equil']]\n",
    "sub.to_csv(path+'ensemble_w9_3.csv', index=False)"
   ]
  },
  {
   "cell_type": "code",
   "execution_count": 8,
   "metadata": {
    "collapsed": false
   },
   "outputs": [],
   "source": [
    "df1 = pd.read_csv(path+'w8_f14_n1200_c0.7.csv')\n",
    "df2 = pd.read_csv(path+'w8_f14_n1000_c0.7_45736.csv')\n",
    "df3 = pd.read_csv(path+'w8_f26_n1000_c0.5_46928.csv')\n",
    "df1.rename(columns={'id': 'id', 'Demanda_uni_equil': 'd1'}, inplace=True)\n",
    "df2.rename(columns={'id': 'id', 'Demanda_uni_equil': 'd2'}, inplace=True)\n",
    "df3.rename(columns={'id': 'id', 'Demanda_uni_equil': 'd3'}, inplace=True)\n",
    "df = pd.merge(df1, df2, how='left', on=['id'])\n",
    "df = pd.merge(df, df3, how='left', on=['id'])\n",
    "df['Demanda_uni_equil'] = 0.5*df['d1'] + 0.35*df['d2'] + 0.15*df['d3']\n",
    "sub = df[['id','Demanda_uni_equil']]\n",
    "sub.to_csv(path+'ensemble_w8_3.csv', index=False)"
   ]
  },
  {
   "cell_type": "code",
   "execution_count": null,
   "metadata": {
    "collapsed": true
   },
   "outputs": [],
   "source": [
    "df1 = pd.read_csv(path+'w9_f14_n1200_c0.7_44987.csv')\n",
    "df2 = pd.read_csv(path+'w9_n1000_45133.csv')\n",
    "df3 = pd.read_csv(path+'w8_f14_n1000_c0.7_45736.csv')\n",
    "df4 = pd.read_csv(path+'w9_f25_n1500_c0.5_46191.csv')\n",
    "df1.rename(columns={'id': 'id', 'Demanda_uni_equil': 'd1'}, inplace=True)\n",
    "df2.rename(columns={'id': 'id', 'Demanda_uni_equil': 'd2'}, inplace=True)\n",
    "df3.rename(columns={'id': 'id', 'Demanda_uni_equil': 'd3'}, inplace=True)\n",
    "df4.rename(columns={'id': 'id', 'Demanda_uni_equil': 'd4'}, inplace=True)\n",
    "df = pd.merge(df1, df2, how='left', on=['id'])\n",
    "df = pd.merge(df, df3, how='left', on=['id'])\n",
    "df = pd.merge(df, df4, how='left', on=['id'])\n",
    "\n",
    "df['Demanda_uni_equil'] = 0.56*df['d1'] + 0.23*df['d2'] + 0.12*df['d3'] + 0.09*df['d4']\n",
    "sub = df[['id','Demanda_uni_equil']]\n",
    "sub.to_csv(path+'ensemble_w89_4.csv', index=False)"
   ]
  },
  {
   "cell_type": "code",
   "execution_count": 12,
   "metadata": {
    "collapsed": false
   },
   "outputs": [],
   "source": [
    "df1 = pd.read_csv(path+'w9_f14_n1200_c0.7_44987.csv')\n",
    "df2 = pd.read_csv(path+'w9_n1000_45133.csv')\n",
    "df3 = pd.read_csv(path+'w9_f25_n1500_c0.5_46191.csv')\n",
    "df4 = pd.read_csv(path+'w8_f14_n1200_c0.7.csv')\n",
    "df5 = pd.read_csv(path+'w8_f14_n1000_c0.7_45736.csv')\n",
    "df1.rename(columns={'id': 'id', 'Demanda_uni_equil': 'd1'}, inplace=True)\n",
    "df2.rename(columns={'id': 'id', 'Demanda_uni_equil': 'd2'}, inplace=True)\n",
    "df3.rename(columns={'id': 'id', 'Demanda_uni_equil': 'd3'}, inplace=True)\n",
    "df4.rename(columns={'id': 'id', 'Demanda_uni_equil': 'd4'}, inplace=True)\n",
    "df5.rename(columns={'id': 'id', 'Demanda_uni_equil': 'd5'}, inplace=True)\n",
    "df = pd.merge(df1, df2, how='left', on=['id'])\n",
    "df = pd.merge(df, df3, how='left', on=['id'])\n",
    "df = pd.merge(df, df4, how='left', on=['id'])\n",
    "df = pd.merge(df, df5, how='left', on=['id'])\n",
    "df['d1'] = df['d1'].apply(lambda x: max(x,0.000000001))    \n",
    "df['d2'] = df['d2'].apply(lambda x: max(x,0.000000001))\n",
    "df['d3'] = df['d3'].apply(lambda x: max(x,0.000000001))  \n",
    "df['d4'] = df['d4'].apply(lambda x: max(x,0.000000001))  \n",
    "df['d5'] = df['d5'].apply(lambda x: max(x,0.000000001)) \n",
    "def f(x):\n",
    "    return stats.hmean(x)\n",
    "df['Demanda_uni_equil'] = df[['d1', 'd2', 'd3','d4','d5']].apply(f, axis=1)\n",
    "sub = df[['id','Demanda_uni_equil']]\n",
    "sub.to_csv(path+'ensemble_w89_hmean.csv', index=False)"
   ]
  },
  {
   "cell_type": "code",
   "execution_count": null,
   "metadata": {
    "collapsed": true
   },
   "outputs": [],
   "source": []
  },
  {
   "cell_type": "code",
   "execution_count": null,
   "metadata": {
    "collapsed": true
   },
   "outputs": [],
   "source": []
  },
  {
   "cell_type": "code",
   "execution_count": null,
   "metadata": {
    "collapsed": true
   },
   "outputs": [],
   "source": []
  },
  {
   "cell_type": "code",
   "execution_count": null,
   "metadata": {
    "collapsed": true
   },
   "outputs": [],
   "source": []
  },
  {
   "cell_type": "code",
   "execution_count": null,
   "metadata": {
    "collapsed": true
   },
   "outputs": [],
   "source": []
  },
  {
   "cell_type": "code",
   "execution_count": null,
   "metadata": {
    "collapsed": true
   },
   "outputs": [],
   "source": []
  },
  {
   "cell_type": "code",
   "execution_count": 70,
   "metadata": {
    "collapsed": true
   },
   "outputs": [],
   "source": [
    "df1.rename(columns={'id': 'id', 'Demanda_uni_equil': 'd1'}, inplace=True)\n",
    "df2.rename(columns={'id': 'id', 'Demanda_uni_equil': 'd2'}, inplace=True)\n",
    "df3.rename(columns={'id': 'id', 'Demanda_uni_equil': 'd3'}, inplace=True)\n",
    "df4.rename(columns={'id': 'id', 'Demanda_uni_equil': 'd4'}, inplace=True)\n",
    "df5.rename(columns={'id': 'id', 'Demanda_uni_equil': 'd5'}, inplace=True)"
   ]
  },
  {
   "cell_type": "code",
   "execution_count": 71,
   "metadata": {
    "collapsed": false
   },
   "outputs": [],
   "source": [
    "df = pd.merge(df1, df2, how='left', on=['id'])\n",
    "df = pd.merge(df, df3, how='left', on=['id'])\n",
    "df = pd.merge(df, df4, how='left', on=['id'])\n",
    "df = pd.merge(df, df5, how='left', on=['id'])\n"
   ]
  },
  {
   "cell_type": "code",
   "execution_count": 74,
   "metadata": {
    "collapsed": false
   },
   "outputs": [
    {
     "name": "stdout",
     "output_type": "stream",
     "text": [
      "(0.90859839944163689, 0.0)\n",
      "(0.92805488735048192, 0.0)\n",
      "(0.88624683036048535, 0.0)\n",
      "(0.87027126832752355, 0.0)\n",
      "(0.92529220805822276, 0.0)\n",
      "(0.92288602605536907, 0.0)\n",
      "(0.90392357835496917, 0.0)\n",
      "(0.91427252279179827, 0.0)\n",
      "(0.89463221754723543, 0.0)\n",
      "(0.93983579944164275, 0.0)\n"
     ]
    }
   ],
   "source": [
    "print stats.pearsonr(df['d1'], df['d2'])\n",
    "print stats.pearsonr(df['d1'], df['d3'])\n",
    "print stats.pearsonr(df['d1'], df['d4'])\n",
    "print stats.pearsonr(df['d1'], df['d5'])\n",
    "print stats.pearsonr(df['d2'], df['d3'])\n",
    "print stats.pearsonr(df['d2'], df['d4'])\n",
    "print stats.pearsonr(df['d2'], df['d5'])\n",
    "print stats.pearsonr(df['d3'], df['d4'])\n",
    "print stats.pearsonr(df['d3'], df['d5'])\n",
    "print stats.pearsonr(df['d4'], df['d5'])"
   ]
  },
  {
   "cell_type": "code",
   "execution_count": 77,
   "metadata": {
    "collapsed": false
   },
   "outputs": [
    {
     "data": {
      "text/html": [
       "<div>\n",
       "<table border=\"1\" class=\"dataframe\">\n",
       "  <thead>\n",
       "    <tr style=\"text-align: right;\">\n",
       "      <th></th>\n",
       "      <th>d1</th>\n",
       "      <th>id</th>\n",
       "      <th>d2</th>\n",
       "      <th>d3</th>\n",
       "      <th>d4</th>\n",
       "      <th>d5</th>\n",
       "      <th>Demanda_uni_equil</th>\n",
       "    </tr>\n",
       "  </thead>\n",
       "  <tbody>\n",
       "    <tr>\n",
       "      <th>0</th>\n",
       "      <td>3.32189</td>\n",
       "      <td>4721633</td>\n",
       "      <td>3.43315</td>\n",
       "      <td>3.22524</td>\n",
       "      <td>3.24967</td>\n",
       "      <td>3.23493</td>\n",
       "      <td>3.315742</td>\n",
       "    </tr>\n",
       "    <tr>\n",
       "      <th>1</th>\n",
       "      <td>2.08302</td>\n",
       "      <td>6035419</td>\n",
       "      <td>2.29651</td>\n",
       "      <td>2.08906</td>\n",
       "      <td>2.01552</td>\n",
       "      <td>1.89152</td>\n",
       "      <td>2.093581</td>\n",
       "    </tr>\n",
       "    <tr>\n",
       "      <th>2</th>\n",
       "      <td>1.62305</td>\n",
       "      <td>3462602</td>\n",
       "      <td>1.70056</td>\n",
       "      <td>1.65728</td>\n",
       "      <td>1.52238</td>\n",
       "      <td>1.61837</td>\n",
       "      <td>1.627146</td>\n",
       "    </tr>\n",
       "  </tbody>\n",
       "</table>\n",
       "</div>"
      ],
      "text/plain": [
       "        d1       id       d2       d3       d4       d5  Demanda_uni_equil\n",
       "0  3.32189  4721633  3.43315  3.22524  3.24967  3.23493           3.315742\n",
       "1  2.08302  6035419  2.29651  2.08906  2.01552  1.89152           2.093581\n",
       "2  1.62305  3462602  1.70056  1.65728  1.52238  1.61837           1.627146"
      ]
     },
     "execution_count": 77,
     "metadata": {},
     "output_type": "execute_result"
    }
   ],
   "source": [
    "df[:3]"
   ]
  },
  {
   "cell_type": "code",
   "execution_count": null,
   "metadata": {
    "collapsed": true
   },
   "outputs": [],
   "source": [
    "def f(x):\n",
    "    return 0.3 * (0.7 * x['d1'] + 0.3 * x['d2']) + 0.7 * x['d3']\n",
    "df['Demanda_uni_equil'] = df[['d1', 'd2','d3','d4','d5']].apply(f, axis=1)"
   ]
  },
  {
   "cell_type": "code",
   "execution_count": 84,
   "metadata": {
    "collapsed": true
   },
   "outputs": [],
   "source": [
    "\n",
    "df['Demanda_uni_equil'] = 0.5*df['d1'] + 0.25*(0.55*df['d4']+0.45*df['d5']) + 0.25*(0.65*df['d2']+0.35*df['d3'])"
   ]
  },
  {
   "cell_type": "code",
   "execution_count": null,
   "metadata": {
    "collapsed": true
   },
   "outputs": [],
   "source": []
  },
  {
   "cell_type": "code",
   "execution_count": null,
   "metadata": {
    "collapsed": true
   },
   "outputs": [],
   "source": []
  },
  {
   "cell_type": "code",
   "execution_count": 78,
   "metadata": {
    "collapsed": false
   },
   "outputs": [
    {
     "name": "stdout",
     "output_type": "stream",
     "text": [
      "w9_f14_3xn500_c0.7_mean_45482.csv\n",
      "w9_n1000_45133.csv\n",
      "w9_n500_45423.csv\n",
      "w8_f14_n1000_c0.7_45736.csv\n",
      "ensemble-kele-0442.csv\n",
      "w9_full1200_47233.csv\n",
      "w8_f15_n1000_c0.7_mean_46121.csv\n",
      "w8_f15_n1000_c0.7_48181.csv\n",
      "w9_n500_45282.csv\n",
      "w9_f25_n1500_c0.5_46191.csv\n",
      "w9_full1.csv\n",
      "w8_n500_45918.csv\n",
      "w9_f14_2n1000_c0.7_mean_4539.csv\n",
      "w9_f17_1500_49xx.csv\n",
      "ensemble_full_04387.csv\n",
      "w9_full_47401.csv\n",
      "w8_f14_n1200_c0.7.3_47317.csv\n",
      "w8_n500_45986.csv\n",
      "w8_n1000_48381.csv\n",
      "ensemble-452-474-45034.csv\n",
      "w9_f17_n500_c0.6_48153.csv\n",
      "w8_f26_n1000_c0.5_46928.csv\n"
     ]
    }
   ],
   "source": [
    "path = '/home/zongyi/bimbo_data/submission/'\n",
    "for f in os.listdir(path):\n",
    "    print f"
   ]
  },
  {
   "cell_type": "code",
   "execution_count": 81,
   "metadata": {
    "collapsed": true
   },
   "outputs": [],
   "source": [
    "df6 = pd.read_csv(path+'w8_f14_n1000_c0.7_45736.csv')\n",
    "df7 = pd.read_csv(path+'w8_f15_n1000_c0.7_mean_46121.csv')\n",
    "df8 = pd.read_csv(path+'w8_f26_n1000_c0.5_46928.csv')\n"
   ]
  },
  {
   "cell_type": "code",
   "execution_count": 82,
   "metadata": {
    "collapsed": false
   },
   "outputs": [],
   "source": [
    "df6.rename(columns={'id': 'id', 'Demanda_uni_equil': 'd6'}, inplace=True)\n",
    "df7.rename(columns={'id': 'id', 'Demanda_uni_equil': 'd7'}, inplace=True)\n",
    "df8.rename(columns={'id': 'id', 'Demanda_uni_equil': 'd8'}, inplace=True)\n",
    "df = pd.merge(df, df6, how='left', on=['id'])\n",
    "df = pd.merge(df, df7, how='left', on=['id'])\n",
    "df = pd.merge(df, df8, how='left', on=['id'])"
   ]
  },
  {
   "cell_type": "code",
   "execution_count": 83,
   "metadata": {
    "collapsed": false
   },
   "outputs": [
    {
     "name": "stdout",
     "output_type": "stream",
     "text": [
      "(0.87384838745332227, 0.0)\n",
      "(0.90843548653792394, 0.0)\n",
      "(0.93853149179902695, 0.0)\n"
     ]
    }
   ],
   "source": [
    "print stats.pearsonr(df['d6'], df['d7'])\n",
    "print stats.pearsonr(df['d6'], df['d8'])\n",
    "print stats.pearsonr(df['d7'], df['d8'])"
   ]
  },
  {
   "cell_type": "code",
   "execution_count": 85,
   "metadata": {
    "collapsed": true
   },
   "outputs": [],
   "source": [
    "df['Demanda_uni_equil1'] = 0.6*df['d6'] + 0.2*df['d7'] + 0.2*df['d8']"
   ]
  },
  {
   "cell_type": "code",
   "execution_count": 90,
   "metadata": {
    "collapsed": false
   },
   "outputs": [
    {
     "data": {
      "text/html": [
       "<div>\n",
       "<table border=\"1\" class=\"dataframe\">\n",
       "  <thead>\n",
       "    <tr style=\"text-align: right;\">\n",
       "      <th></th>\n",
       "      <th>d1</th>\n",
       "      <th>id</th>\n",
       "      <th>d2</th>\n",
       "      <th>d3</th>\n",
       "      <th>d4</th>\n",
       "      <th>d5</th>\n",
       "      <th>Demanda_uni_equil</th>\n",
       "      <th>d6</th>\n",
       "      <th>d7</th>\n",
       "      <th>d8</th>\n",
       "      <th>Demanda_uni_equil1</th>\n",
       "      <th>d10</th>\n",
       "    </tr>\n",
       "  </thead>\n",
       "  <tbody>\n",
       "    <tr>\n",
       "      <th>0</th>\n",
       "      <td>3.32189</td>\n",
       "      <td>4721633</td>\n",
       "      <td>3.43315</td>\n",
       "      <td>3.22524</td>\n",
       "      <td>3.24967</td>\n",
       "      <td>3.23493</td>\n",
       "      <td>3.554216</td>\n",
       "      <td>3.75740</td>\n",
       "      <td>3.58134</td>\n",
       "      <td>3.59559</td>\n",
       "      <td>3.689826</td>\n",
       "      <td>3.615020</td>\n",
       "    </tr>\n",
       "    <tr>\n",
       "      <th>1</th>\n",
       "      <td>2.08302</td>\n",
       "      <td>6035419</td>\n",
       "      <td>2.29651</td>\n",
       "      <td>2.08906</td>\n",
       "      <td>2.01552</td>\n",
       "      <td>1.89152</td>\n",
       "      <td>2.055526</td>\n",
       "      <td>1.94513</td>\n",
       "      <td>1.81329</td>\n",
       "      <td>2.16537</td>\n",
       "      <td>1.962810</td>\n",
       "      <td>2.067495</td>\n",
       "    </tr>\n",
       "    <tr>\n",
       "      <th>2</th>\n",
       "      <td>1.62305</td>\n",
       "      <td>3462602</td>\n",
       "      <td>1.70056</td>\n",
       "      <td>1.65728</td>\n",
       "      <td>1.52238</td>\n",
       "      <td>1.61837</td>\n",
       "      <td>1.631257</td>\n",
       "      <td>1.71653</td>\n",
       "      <td>1.69398</td>\n",
       "      <td>1.75552</td>\n",
       "      <td>1.719818</td>\n",
       "      <td>1.610435</td>\n",
       "    </tr>\n",
       "  </tbody>\n",
       "</table>\n",
       "</div>"
      ],
      "text/plain": [
       "        d1       id       d2       d3       d4       d5  Demanda_uni_equil  \\\n",
       "0  3.32189  4721633  3.43315  3.22524  3.24967  3.23493           3.554216   \n",
       "1  2.08302  6035419  2.29651  2.08906  2.01552  1.89152           2.055526   \n",
       "2  1.62305  3462602  1.70056  1.65728  1.52238  1.61837           1.631257   \n",
       "\n",
       "        d6       d7       d8  Demanda_uni_equil1       d10  \n",
       "0  3.75740  3.58134  3.59559            3.689826  3.615020  \n",
       "1  1.94513  1.81329  2.16537            1.962810  2.067495  \n",
       "2  1.71653  1.69398  1.75552            1.719818  1.610435  "
      ]
     },
     "execution_count": 90,
     "metadata": {},
     "output_type": "execute_result"
    }
   ],
   "source": [
    "df[:3]"
   ]
  },
  {
   "cell_type": "code",
   "execution_count": null,
   "metadata": {
    "collapsed": true
   },
   "outputs": [],
   "source": []
  },
  {
   "cell_type": "code",
   "execution_count": 87,
   "metadata": {
    "collapsed": true
   },
   "outputs": [],
   "source": [
    "df10 = pd.read_csv(path+'ensemble-kele-0442.csv')\n",
    "df10.rename(columns={'id': 'id', 'Demanda_uni_equil': 'd10'}, inplace=True)\n",
    "df = pd.merge(df, df10, how='left', on=['id'])"
   ]
  },
  {
   "cell_type": "code",
   "execution_count": 89,
   "metadata": {
    "collapsed": true
   },
   "outputs": [],
   "source": [
    "df['Demanda_uni_equil'] = 0.4*(0.6*df['Demanda_uni_equil'] + 0.4*df['Demanda_uni_equil1']) + 0.6*df['d10']"
   ]
  },
  {
   "cell_type": "code",
   "execution_count": null,
   "metadata": {
    "collapsed": true
   },
   "outputs": [],
   "source": []
  },
  {
   "cell_type": "code",
   "execution_count": null,
   "metadata": {
    "collapsed": true
   },
   "outputs": [],
   "source": []
  },
  {
   "cell_type": "code",
   "execution_count": null,
   "metadata": {
    "collapsed": true
   },
   "outputs": [],
   "source": []
  },
  {
   "cell_type": "code",
   "execution_count": null,
   "metadata": {
    "collapsed": true
   },
   "outputs": [],
   "source": []
  },
  {
   "cell_type": "code",
   "execution_count": null,
   "metadata": {
    "collapsed": true
   },
   "outputs": [],
   "source": []
  },
  {
   "cell_type": "code",
   "execution_count": null,
   "metadata": {
    "collapsed": true
   },
   "outputs": [],
   "source": []
  },
  {
   "cell_type": "code",
   "execution_count": 18,
   "metadata": {
    "collapsed": true
   },
   "outputs": [],
   "source": [
    "# result['d1'] = result['d1'].apply(lambda x: max(x,0.000000001))    \n",
    "# result['d2'] = result['d2'].apply(lambda x: max(x,0.000000001))\n",
    "# result['d3'] = result['d3'].apply(lambda x: max(x,0.000000001))    "
   ]
  },
  {
   "cell_type": "code",
   "execution_count": 19,
   "metadata": {
    "collapsed": false,
    "scrolled": true
   },
   "outputs": [],
   "source": [
    "def f(x):\n",
    "    return stats.hmean(x)\n",
    "result['Demanda_uni_equil'] = result[['d1', 'd2', 'd3']].apply(f, axis=1)"
   ]
  },
  {
   "cell_type": "code",
   "execution_count": 11,
   "metadata": {
    "code_folding": [],
    "collapsed": true
   },
   "outputs": [],
   "source": [
    "def f(x):\n",
    "    return max(math.expm1(0.25 * math.log1p(x['d1']) + 0.5 * math.log1p(x['d2']) + 0.25 * math.log1p(x['d3'])),0)\n",
    "result['Demanda_uni_equil'] = result[['d1', 'd2', 'd3']].apply(f, axis=1)"
   ]
  },
  {
   "cell_type": "code",
   "execution_count": 9,
   "metadata": {
    "collapsed": true
   },
   "outputs": [],
   "source": [
    "def f(x):\n",
    "    return 0.1 * x['d1'] + 0.6 * x['d2'] + 0.3 * x['d3']\n",
    "result['Demanda_uni_equil'] = result[['d1', 'd2', 'd3']].apply(f, axis=1)"
   ]
  },
  {
   "cell_type": "code",
   "execution_count": 11,
   "metadata": {
    "collapsed": true
   },
   "outputs": [],
   "source": [
    "def f(x):\n",
    "    return 0.6 * x['d2'] + 0.4 * x['d3']\n",
    "result['Demanda_uni_equil'] = result[['d2', 'd3']].apply(f, axis=1)"
   ]
  },
  {
   "cell_type": "markdown",
   "metadata": {
    "collapsed": false
   },
   "source": [
    "# 先log1p 再 hmean 再 expm1????"
   ]
  },
  {
   "cell_type": "code",
   "execution_count": 91,
   "metadata": {
    "collapsed": true
   },
   "outputs": [],
   "source": [
    "sub = df[['id','Demanda_uni_equil']]\n",
    "sub.to_csv(path+'ensemble_fulll.csv', index=False)"
   ]
  }
 ],
 "metadata": {
  "gist": {
   "data": {
    "description": "Dropbox/kaggle/bimbo-github/ensemble-corr.ipynb",
    "public": false
   },
   "id": ""
  },
  "kernelspec": {
   "display_name": "Python 2",
   "language": "python",
   "name": "python2"
  },
  "language_info": {
   "codemirror_mode": {
    "name": "ipython",
    "version": 2
   },
   "file_extension": ".py",
   "mimetype": "text/x-python",
   "name": "python",
   "nbconvert_exporter": "python",
   "pygments_lexer": "ipython2",
   "version": "2.7.11"
  },
  "latex_envs": {
   "bibliofile": "biblio.bib",
   "cite_by": "apalike",
   "current_citInitial": 1,
   "eqLabelWithNumbers": true,
   "eqNumInitial": 0
  }
 },
 "nbformat": 4,
 "nbformat_minor": 0
}
