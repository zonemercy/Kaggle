{
 "cells": [
  {
   "cell_type": "code",
   "execution_count": 2,
   "metadata": {
    "collapsed": true
   },
   "outputs": [],
   "source": [
    "import os\n",
    "import math\n",
    "import pandas as pd\n",
    "import numpy as np\n",
    "from scipy import stats\n",
    "# print stats.hmean([ -50.2 , 100.5 ])"
   ]
  },
  {
   "cell_type": "code",
   "execution_count": 52,
   "metadata": {
    "collapsed": false
   },
   "outputs": [
    {
     "name": "stdout",
     "output_type": "stream",
     "text": [
      "w9_f14_3xn500_c0.7_mean_45482.csv\n",
      "w9_n1000_45133.csv\n",
      "w9_n500_45423.csv\n",
      "w8_f14_n1000_c0.7_45736.csv\n",
      "ensemble-kele-0442.csv\n",
      "w9_full1200_47233.csv\n",
      "w8_f15_n1000_c0.7_mean_46121.csv\n",
      "w8_f15_n1000_c0.7_48181.csv\n",
      "w9_n500_45282.csv\n",
      "w9_f25_n1500_c0.5_46191.csv\n",
      "w9_full1.csv\n",
      "w8_n500_45918.csv\n",
      "w9_f14_2n1000_c0.7_mean_4539.csv\n",
      "w9_f17_1500_49xx.csv\n",
      "ensemble_full_04387.csv\n",
      "w9_full_47401.csv\n",
      "w8_f14_n1200_c0.7.3_47317.csv\n",
      "w8_n500_45986.csv\n",
      "w8_n1000_48381.csv\n",
      "ensemble-452-474-45034.csv\n",
      "w9_f17_n500_c0.6_48153.csv\n",
      "w8_f26_n1000_c0.5_46928.csv\n"
     ]
    }
   ],
   "source": [
    "path = '/home/zongyi/bimbo_data/submission/'\n",
    "for f in os.listdir(path):\n",
    "    print f"
   ]
  },
  {
   "cell_type": "code",
   "execution_count": 69,
   "metadata": {
    "collapsed": false
   },
   "outputs": [],
   "source": [
    "df1 = pd.read_csv(path+'w9_n1000_45133.csv')\n",
    "df2 = pd.read_csv(path+'w9_f25_n1500_c0.5_46191.csv')\n",
    "\n",
    "df3 = pd.read_csv(path+'w9_full1200_47233.csv')\n",
    "df4 = pd.read_csv(path+'w9_f14_2n1000_c0.7_mean_4539.csv')\n",
    "\n",
    "df5 = pd.read_csv(path+'w9_f14_3xn500_c0.7_mean_45482.csv')"
   ]
  },
  {
   "cell_type": "code",
   "execution_count": 70,
   "metadata": {
    "collapsed": true
   },
   "outputs": [],
   "source": [
    "df1.rename(columns={'id': 'id', 'Demanda_uni_equil': 'd1'}, inplace=True)\n",
    "df2.rename(columns={'id': 'id', 'Demanda_uni_equil': 'd2'}, inplace=True)\n",
    "df3.rename(columns={'id': 'id', 'Demanda_uni_equil': 'd3'}, inplace=True)\n",
    "df4.rename(columns={'id': 'id', 'Demanda_uni_equil': 'd4'}, inplace=True)\n",
    "df5.rename(columns={'id': 'id', 'Demanda_uni_equil': 'd5'}, inplace=True)"
   ]
  },
  {
   "cell_type": "code",
   "execution_count": 71,
   "metadata": {
    "collapsed": false
   },
   "outputs": [],
   "source": [
    "df = pd.merge(df1, df2, how='left', on=['id'])\n",
    "df = pd.merge(df, df3, how='left', on=['id'])\n",
    "df = pd.merge(df, df4, how='left', on=['id'])\n",
    "df = pd.merge(df, df5, how='left', on=['id'])\n"
   ]
  },
  {
   "cell_type": "code",
   "execution_count": 74,
   "metadata": {
    "collapsed": false
   },
   "outputs": [
    {
     "name": "stdout",
     "output_type": "stream",
     "text": [
      "(0.90859839944163689, 0.0)\n",
      "(0.92805488735048192, 0.0)\n",
      "(0.88624683036048535, 0.0)\n",
      "(0.87027126832752355, 0.0)\n",
      "(0.92529220805822276, 0.0)\n",
      "(0.92288602605536907, 0.0)\n",
      "(0.90392357835496917, 0.0)\n",
      "(0.91427252279179827, 0.0)\n",
      "(0.89463221754723543, 0.0)\n",
      "(0.93983579944164275, 0.0)\n"
     ]
    }
   ],
   "source": [
    "print stats.pearsonr(df['d1'], df['d2'])\n",
    "print stats.pearsonr(df['d1'], df['d3'])\n",
    "print stats.pearsonr(df['d1'], df['d4'])\n",
    "print stats.pearsonr(df['d1'], df['d5'])\n",
    "print stats.pearsonr(df['d2'], df['d3'])\n",
    "print stats.pearsonr(df['d2'], df['d4'])\n",
    "print stats.pearsonr(df['d2'], df['d5'])\n",
    "print stats.pearsonr(df['d3'], df['d4'])\n",
    "print stats.pearsonr(df['d3'], df['d5'])\n",
    "print stats.pearsonr(df['d4'], df['d5'])"
   ]
  },
  {
   "cell_type": "code",
   "execution_count": 77,
   "metadata": {
    "collapsed": false
   },
   "outputs": [
    {
     "data": {
      "text/html": [
       "<div>\n",
       "<table border=\"1\" class=\"dataframe\">\n",
       "  <thead>\n",
       "    <tr style=\"text-align: right;\">\n",
       "      <th></th>\n",
       "      <th>d1</th>\n",
       "      <th>id</th>\n",
       "      <th>d2</th>\n",
       "      <th>d3</th>\n",
       "      <th>d4</th>\n",
       "      <th>d5</th>\n",
       "      <th>Demanda_uni_equil</th>\n",
       "    </tr>\n",
       "  </thead>\n",
       "  <tbody>\n",
       "    <tr>\n",
       "      <th>0</th>\n",
       "      <td>3.32189</td>\n",
       "      <td>4721633</td>\n",
       "      <td>3.43315</td>\n",
       "      <td>3.22524</td>\n",
       "      <td>3.24967</td>\n",
       "      <td>3.23493</td>\n",
       "      <td>3.315742</td>\n",
       "    </tr>\n",
       "    <tr>\n",
       "      <th>1</th>\n",
       "      <td>2.08302</td>\n",
       "      <td>6035419</td>\n",
       "      <td>2.29651</td>\n",
       "      <td>2.08906</td>\n",
       "      <td>2.01552</td>\n",
       "      <td>1.89152</td>\n",
       "      <td>2.093581</td>\n",
       "    </tr>\n",
       "    <tr>\n",
       "      <th>2</th>\n",
       "      <td>1.62305</td>\n",
       "      <td>3462602</td>\n",
       "      <td>1.70056</td>\n",
       "      <td>1.65728</td>\n",
       "      <td>1.52238</td>\n",
       "      <td>1.61837</td>\n",
       "      <td>1.627146</td>\n",
       "    </tr>\n",
       "  </tbody>\n",
       "</table>\n",
       "</div>"
      ],
      "text/plain": [
       "        d1       id       d2       d3       d4       d5  Demanda_uni_equil\n",
       "0  3.32189  4721633  3.43315  3.22524  3.24967  3.23493           3.315742\n",
       "1  2.08302  6035419  2.29651  2.08906  2.01552  1.89152           2.093581\n",
       "2  1.62305  3462602  1.70056  1.65728  1.52238  1.61837           1.627146"
      ]
     },
     "execution_count": 77,
     "metadata": {},
     "output_type": "execute_result"
    }
   ],
   "source": [
    "df[:3]"
   ]
  },
  {
   "cell_type": "code",
   "execution_count": null,
   "metadata": {
    "collapsed": true
   },
   "outputs": [],
   "source": [
    "def f(x):\n",
    "    return 0.3 * (0.7 * x['d1'] + 0.3 * x['d2']) + 0.7 * x['d3']\n",
    "df['Demanda_uni_equil'] = df[['d1', 'd2','d3','d4','d5']].apply(f, axis=1)"
   ]
  },
  {
   "cell_type": "code",
   "execution_count": 84,
   "metadata": {
    "collapsed": true
   },
   "outputs": [],
   "source": [
    "\n",
    "df['Demanda_uni_equil'] = 0.5*df['d1'] + 0.25*(0.55*df['d4']+0.45*df['d5']) + 0.25*(0.65*df['d2']+0.35*df['d3'])"
   ]
  },
  {
   "cell_type": "code",
   "execution_count": null,
   "metadata": {
    "collapsed": true
   },
   "outputs": [],
   "source": []
  },
  {
   "cell_type": "code",
   "execution_count": null,
   "metadata": {
    "collapsed": true
   },
   "outputs": [],
   "source": []
  },
  {
   "cell_type": "code",
   "execution_count": 78,
   "metadata": {
    "collapsed": false
   },
   "outputs": [
    {
     "name": "stdout",
     "output_type": "stream",
     "text": [
      "w9_f14_3xn500_c0.7_mean_45482.csv\n",
      "w9_n1000_45133.csv\n",
      "w9_n500_45423.csv\n",
      "w8_f14_n1000_c0.7_45736.csv\n",
      "ensemble-kele-0442.csv\n",
      "w9_full1200_47233.csv\n",
      "w8_f15_n1000_c0.7_mean_46121.csv\n",
      "w8_f15_n1000_c0.7_48181.csv\n",
      "w9_n500_45282.csv\n",
      "w9_f25_n1500_c0.5_46191.csv\n",
      "w9_full1.csv\n",
      "w8_n500_45918.csv\n",
      "w9_f14_2n1000_c0.7_mean_4539.csv\n",
      "w9_f17_1500_49xx.csv\n",
      "ensemble_full_04387.csv\n",
      "w9_full_47401.csv\n",
      "w8_f14_n1200_c0.7.3_47317.csv\n",
      "w8_n500_45986.csv\n",
      "w8_n1000_48381.csv\n",
      "ensemble-452-474-45034.csv\n",
      "w9_f17_n500_c0.6_48153.csv\n",
      "w8_f26_n1000_c0.5_46928.csv\n"
     ]
    }
   ],
   "source": [
    "path = '/home/zongyi/bimbo_data/submission/'\n",
    "for f in os.listdir(path):\n",
    "    print f"
   ]
  },
  {
   "cell_type": "code",
   "execution_count": 81,
   "metadata": {
    "collapsed": true
   },
   "outputs": [],
   "source": [
    "df6 = pd.read_csv(path+'w8_f14_n1000_c0.7_45736.csv')\n",
    "df7 = pd.read_csv(path+'w8_f15_n1000_c0.7_mean_46121.csv')\n",
    "df8 = pd.read_csv(path+'w8_f26_n1000_c0.5_46928.csv')\n"
   ]
  },
  {
   "cell_type": "code",
   "execution_count": 82,
   "metadata": {
    "collapsed": false
   },
   "outputs": [],
   "source": [
    "df6.rename(columns={'id': 'id', 'Demanda_uni_equil': 'd6'}, inplace=True)\n",
    "df7.rename(columns={'id': 'id', 'Demanda_uni_equil': 'd7'}, inplace=True)\n",
    "df8.rename(columns={'id': 'id', 'Demanda_uni_equil': 'd8'}, inplace=True)\n",
    "df = pd.merge(df, df6, how='left', on=['id'])\n",
    "df = pd.merge(df, df7, how='left', on=['id'])\n",
    "df = pd.merge(df, df8, how='left', on=['id'])"
   ]
  },
  {
   "cell_type": "code",
   "execution_count": 83,
   "metadata": {
    "collapsed": false
   },
   "outputs": [
    {
     "name": "stdout",
     "output_type": "stream",
     "text": [
      "(0.87384838745332227, 0.0)\n",
      "(0.90843548653792394, 0.0)\n",
      "(0.93853149179902695, 0.0)\n"
     ]
    }
   ],
   "source": [
    "print stats.pearsonr(df['d6'], df['d7'])\n",
    "print stats.pearsonr(df['d6'], df['d8'])\n",
    "print stats.pearsonr(df['d7'], df['d8'])"
   ]
  },
  {
   "cell_type": "code",
   "execution_count": 85,
   "metadata": {
    "collapsed": true
   },
   "outputs": [],
   "source": [
    "df['Demanda_uni_equil1'] = 0.6*df['d6'] + 0.2*df['d7'] + 0.2*df['d8']"
   ]
  },
  {
   "cell_type": "code",
   "execution_count": 90,
   "metadata": {
    "collapsed": false
   },
   "outputs": [
    {
     "data": {
      "text/html": [
       "<div>\n",
       "<table border=\"1\" class=\"dataframe\">\n",
       "  <thead>\n",
       "    <tr style=\"text-align: right;\">\n",
       "      <th></th>\n",
       "      <th>d1</th>\n",
       "      <th>id</th>\n",
       "      <th>d2</th>\n",
       "      <th>d3</th>\n",
       "      <th>d4</th>\n",
       "      <th>d5</th>\n",
       "      <th>Demanda_uni_equil</th>\n",
       "      <th>d6</th>\n",
       "      <th>d7</th>\n",
       "      <th>d8</th>\n",
       "      <th>Demanda_uni_equil1</th>\n",
       "      <th>d10</th>\n",
       "    </tr>\n",
       "  </thead>\n",
       "  <tbody>\n",
       "    <tr>\n",
       "      <th>0</th>\n",
       "      <td>3.32189</td>\n",
       "      <td>4721633</td>\n",
       "      <td>3.43315</td>\n",
       "      <td>3.22524</td>\n",
       "      <td>3.24967</td>\n",
       "      <td>3.23493</td>\n",
       "      <td>3.554216</td>\n",
       "      <td>3.75740</td>\n",
       "      <td>3.58134</td>\n",
       "      <td>3.59559</td>\n",
       "      <td>3.689826</td>\n",
       "      <td>3.615020</td>\n",
       "    </tr>\n",
       "    <tr>\n",
       "      <th>1</th>\n",
       "      <td>2.08302</td>\n",
       "      <td>6035419</td>\n",
       "      <td>2.29651</td>\n",
       "      <td>2.08906</td>\n",
       "      <td>2.01552</td>\n",
       "      <td>1.89152</td>\n",
       "      <td>2.055526</td>\n",
       "      <td>1.94513</td>\n",
       "      <td>1.81329</td>\n",
       "      <td>2.16537</td>\n",
       "      <td>1.962810</td>\n",
       "      <td>2.067495</td>\n",
       "    </tr>\n",
       "    <tr>\n",
       "      <th>2</th>\n",
       "      <td>1.62305</td>\n",
       "      <td>3462602</td>\n",
       "      <td>1.70056</td>\n",
       "      <td>1.65728</td>\n",
       "      <td>1.52238</td>\n",
       "      <td>1.61837</td>\n",
       "      <td>1.631257</td>\n",
       "      <td>1.71653</td>\n",
       "      <td>1.69398</td>\n",
       "      <td>1.75552</td>\n",
       "      <td>1.719818</td>\n",
       "      <td>1.610435</td>\n",
       "    </tr>\n",
       "  </tbody>\n",
       "</table>\n",
       "</div>"
      ],
      "text/plain": [
       "        d1       id       d2       d3       d4       d5  Demanda_uni_equil  \\\n",
       "0  3.32189  4721633  3.43315  3.22524  3.24967  3.23493           3.554216   \n",
       "1  2.08302  6035419  2.29651  2.08906  2.01552  1.89152           2.055526   \n",
       "2  1.62305  3462602  1.70056  1.65728  1.52238  1.61837           1.631257   \n",
       "\n",
       "        d6       d7       d8  Demanda_uni_equil1       d10  \n",
       "0  3.75740  3.58134  3.59559            3.689826  3.615020  \n",
       "1  1.94513  1.81329  2.16537            1.962810  2.067495  \n",
       "2  1.71653  1.69398  1.75552            1.719818  1.610435  "
      ]
     },
     "execution_count": 90,
     "metadata": {},
     "output_type": "execute_result"
    }
   ],
   "source": [
    "df[:3]"
   ]
  },
  {
   "cell_type": "code",
   "execution_count": null,
   "metadata": {
    "collapsed": true
   },
   "outputs": [],
   "source": []
  },
  {
   "cell_type": "code",
   "execution_count": 87,
   "metadata": {
    "collapsed": true
   },
   "outputs": [],
   "source": [
    "df10 = pd.read_csv(path+'ensemble-kele-0442.csv')\n",
    "df10.rename(columns={'id': 'id', 'Demanda_uni_equil': 'd10'}, inplace=True)\n",
    "df = pd.merge(df, df10, how='left', on=['id'])"
   ]
  },
  {
   "cell_type": "code",
   "execution_count": 89,
   "metadata": {
    "collapsed": true
   },
   "outputs": [],
   "source": [
    "df['Demanda_uni_equil'] = 0.4*(0.6*df['Demanda_uni_equil'] + 0.4*df['Demanda_uni_equil1']) + 0.6*df['d10']"
   ]
  },
  {
   "cell_type": "code",
   "execution_count": null,
   "metadata": {
    "collapsed": true
   },
   "outputs": [],
   "source": []
  },
  {
   "cell_type": "code",
   "execution_count": 18,
   "metadata": {
    "collapsed": true
   },
   "outputs": [],
   "source": [
    "# result['d1'] = result['d1'].apply(lambda x: max(x,0.000000001))    \n",
    "# result['d2'] = result['d2'].apply(lambda x: max(x,0.000000001))\n",
    "# result['d3'] = result['d3'].apply(lambda x: max(x,0.000000001))    "
   ]
  },
  {
   "cell_type": "code",
   "execution_count": 19,
   "metadata": {
    "collapsed": false,
    "scrolled": true
   },
   "outputs": [],
   "source": [
    "def f(x):\n",
    "    return stats.hmean(x)\n",
    "result['Demanda_uni_equil'] = result[['d1', 'd2', 'd3']].apply(f, axis=1)"
   ]
  },
  {
   "cell_type": "code",
   "execution_count": 11,
   "metadata": {
    "collapsed": true
   },
   "outputs": [],
   "source": [
    "def f(x):\n",
    "    return max(math.expm1(0.25 * math.log1p(x['d1']) + 0.5 * math.log1p(x['d2']) + 0.25 * math.log1p(x['d3'])),0)\n",
    "result['Demanda_uni_equil'] = result[['d1', 'd2', 'd3']].apply(f, axis=1)"
   ]
  },
  {
   "cell_type": "code",
   "execution_count": 9,
   "metadata": {
    "collapsed": true
   },
   "outputs": [],
   "source": [
    "def f(x):\n",
    "    return 0.1 * x['d1'] + 0.6 * x['d2'] + 0.3 * x['d3']\n",
    "result['Demanda_uni_equil'] = result[['d1', 'd2', 'd3']].apply(f, axis=1)"
   ]
  },
  {
   "cell_type": "code",
   "execution_count": 11,
   "metadata": {
    "collapsed": true
   },
   "outputs": [],
   "source": [
    "def f(x):\n",
    "    return 0.6 * x['d2'] + 0.4 * x['d3']\n",
    "result['Demanda_uni_equil'] = result[['d2', 'd3']].apply(f, axis=1)"
   ]
  },
  {
   "cell_type": "markdown",
   "metadata": {
    "collapsed": false
   },
   "source": [
    "# 先log1p 再 hmean 再 expm1????"
   ]
  },
  {
   "cell_type": "code",
   "execution_count": null,
   "metadata": {
    "collapsed": true
   },
   "outputs": [],
   "source": []
  },
  {
   "cell_type": "code",
   "execution_count": 91,
   "metadata": {
    "collapsed": true
   },
   "outputs": [],
   "source": [
    "sub = df[['id','Demanda_uni_equil']]\n",
    "sub.to_csv(path+'ensemble_fulll.csv', index=False)"
   ]
  }
 ],
 "metadata": {
  "kernelspec": {
   "display_name": "Python 2",
   "language": "python",
   "name": "python2"
  },
  "language_info": {
   "codemirror_mode": {
    "name": "ipython",
    "version": 2
   },
   "file_extension": ".py",
   "mimetype": "text/x-python",
   "name": "python",
   "nbconvert_exporter": "python",
   "pygments_lexer": "ipython2",
   "version": "2.7.6"
  }
 },
 "nbformat": 4,
 "nbformat_minor": 0
}
