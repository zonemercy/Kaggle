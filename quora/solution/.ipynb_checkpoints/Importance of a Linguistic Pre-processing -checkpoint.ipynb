{
 "cells": [
  {
   "cell_type": "markdown",
   "metadata": {
    "_cell_guid": "128cea0c-f1d9-8159-671c-8b3caf442281"
   },
   "source": [
    "I've seen a couple of nice kernels here, but no one explained the importance of a morphological pre-processing of the data. So I decided to compare two approaches of a morphological normalization: stemming and lemmatization. Both of them reduce the word to the regularized form, but a stemming reduces the word to the word stem, and a lemmatization reduces the word to it's morphological root with the help of dictionary lookup. \n",
    "\n",
    "I evaluate the efficiency of these approaches by comparison their performance with the naive Bag of Means method: every word is encoded with a word embedding vector, and then the common vector of two messages is computed as a mean vector of these vectors. Some of the researches proved that such approach can be a very strong baseline (Faruqui et al., 2014; Yu et al., 2014; Gershman and Tenenbaum, 2015; Kenter and de Rijke, 2015). Then I use obtained vectors as feature vectors to train the classifiers.\n",
    "\n",
    "I will also make a comparison with a default approach (no morphological pre-processing). "
   ]
  },
  {
   "cell_type": "markdown",
   "metadata": {
    "_cell_guid": "9c6b1327-f6fd-3cfe-4215-7186f630ae22"
   },
   "source": [
    "Okay, let's load NLTK and try to implement these two approaches with a Lancaster Stemmer (one of the most popular stemming algorithms) and a WordNet Lemmatizer (based on WordNet’s built-in morphy function):"
   ]
  },
  {
   "cell_type": "code",
   "execution_count": 1,
   "metadata": {
    "_cell_guid": "fccb251e-cbea-44ae-58d0-5b335430d348",
    "collapsed": true
   },
   "outputs": [],
   "source": [
    "from nltk.stem.wordnet import WordNetLemmatizer\n",
    "from nltk.stem import LancasterStemmer\n",
    "stemmer =  LancasterStemmer()\n",
    "lemmer = WordNetLemmatizer()"
   ]
  },
  {
   "cell_type": "markdown",
   "metadata": {
    "_cell_guid": "27992bcc-405e-28f5-664c-f75586bcc275"
   },
   "source": [
    "A visible example of how do they work:"
   ]
  },
  {
   "cell_type": "code",
   "execution_count": 2,
   "metadata": {
    "_cell_guid": "0357ed55-550f-37e5-8f24-d2de6e23c20b"
   },
   "outputs": [
    {
     "name": "stdout",
     "output_type": "stream",
     "text": [
      "dict\n",
      "dictionary\n"
     ]
    }
   ],
   "source": [
    "print(stemmer.stem('dictionaries'))\n",
    "print(lemmer.lemmatize('dictionaries'))"
   ]
  },
  {
   "cell_type": "markdown",
   "metadata": {
    "_cell_guid": "b2282d1d-1631-74c2-7a7d-9ccb415f011d"
   },
   "source": [
    "So, what approach will be better for the given task? Let's see."
   ]
  },
  {
   "cell_type": "markdown",
   "metadata": {
    "_cell_guid": "6192a8ba-af1a-d13c-2f3a-1445b9ad83a1"
   },
   "source": [
    "First of all, we need to load modules for linear algebra and data analysis as well as `gensim` (for training a `Word2Vec`, a classic algorithm for obtaining word embeddings). We also need some stuff from `scikit-learn` to teach and evaluate the classifier and `pyplot` to draw plots. `seaborn` will make the plots more beautiful. "
   ]
  },
  {
   "cell_type": "code",
   "execution_count": 3,
   "metadata": {
    "_cell_guid": "a37caf49-44d7-890f-bfb7-f6f229ccc0fd",
    "collapsed": true
   },
   "outputs": [],
   "source": [
    "from gensim import models\n",
    "import numpy as np\n",
    "from pandas import DataFrame, Series\n",
    "from sklearn.linear_model import LogisticRegression\n",
    "from sklearn.model_selection import learning_curve\n",
    "from sklearn.model_selection import ShuffleSplit\n",
    "from gensim import models\n",
    "import matplotlib.pyplot as plt\n",
    "import seaborn"
   ]
  },
  {
   "cell_type": "markdown",
   "metadata": {
    "_cell_guid": "c7c7731e-eb20-6bba-1783-3e71ccecfa8c"
   },
   "source": [
    "And a little bit more of the linguistic tools! We will use a tokenization( breaking a stream of text up into meaningful elements called tokens, for instance, words) and a stop-word dictionary for English."
   ]
  },
  {
   "cell_type": "code",
   "execution_count": 4,
   "metadata": {
    "_cell_guid": "fbc71a92-f9bd-5b88-6bf7-1881babb30f6",
    "collapsed": true
   },
   "outputs": [],
   "source": [
    "from nltk.corpus import stopwords\n",
    "from nltk.tokenize import wordpunct_tokenize, RegexpTokenizer\n",
    "stop = stopwords.words('english')\n",
    "alpha_tokenizer = RegexpTokenizer('[A-Za-z]\\w+')"
   ]
  },
  {
   "cell_type": "markdown",
   "metadata": {
    "_cell_guid": "1b9e6efd-1f92-6d31-7bc7-d4b0933cb563"
   },
   "source": [
    "And check if the .csv-files with the data are okay."
   ]
  },
  {
   "cell_type": "code",
   "execution_count": 5,
   "metadata": {
    "_cell_guid": "c962afe9-2b44-0cce-4f38-cca4222f8865"
   },
   "outputs": [
    {
     "name": "stdout",
     "output_type": "stream",
     "text": [
      "test.csv\n",
      "train.csv\n",
      "\n"
     ]
    }
   ],
   "source": [
    "from subprocess import check_output\n",
    "print(check_output([\"ls\", \"../input\"]).decode(\"utf8\"))"
   ]
  },
  {
   "cell_type": "markdown",
   "metadata": {
    "_cell_guid": "ef7cfc2a-138a-2917-97ee-c74003661062"
   },
   "source": [
    "So let's write some code. First of all, let's train a Word2Vec model. We will use the training set as a training corpus (Previously I used the test set, but it uses much more memory while the model trained on it has the same efficiency; thanks to @Gian12 for the notion). This set contains some NaN values, but we can just drop them since in our task their lack is not meaningful."
   ]
  },
  {
   "cell_type": "code",
   "execution_count": 6,
   "metadata": {
    "_cell_guid": "2f2d8885-e125-665c-6990-38be275aff12",
    "collapsed": true
   },
   "outputs": [],
   "source": [
    "df_train = DataFrame.from_csv('../input/train.csv').dropna()"
   ]
  },
  {
   "cell_type": "markdown",
   "metadata": {
    "_cell_guid": "0a4ee6ef-6da8-ba7e-9c8b-11ed1a40340d"
   },
   "source": [
    "Let's make a list of sentences by merging the questions."
   ]
  },
  {
   "cell_type": "code",
   "execution_count": 7,
   "metadata": {
    "_cell_guid": "a33d548b-a949-9f5f-1852-3457270a6223",
    "collapsed": true
   },
   "outputs": [],
   "source": [
    "texts = np.concatenate([df_train.question1.values, df_train.question2.values])"
   ]
  },
  {
   "cell_type": "markdown",
   "metadata": {
    "_cell_guid": "9d66ba7a-1a1c-cb6d-37f2-0f600be1f8f3"
   },
   "source": [
    "Okay, now we are up to the key method of preprocessing comparation.  It provides lemmatization or stemming depending on the given flag."
   ]
  },
  {
   "cell_type": "code",
   "execution_count": 8,
   "metadata": {
    "_cell_guid": "adb0159b-230b-7574-579d-6c2d4c28825d",
    "collapsed": true
   },
   "outputs": [],
   "source": [
    "def process_sent(words, lemmatize=False, stem=False):\n",
    "    words = words.lower()\n",
    "    tokens = alpha_tokenizer.tokenize(words)\n",
    "    for index, word in enumerate(tokens):\n",
    "        if lemmatize:\n",
    "            tokens[index] = lemmer.lemmatize(word)\n",
    "        elif stem:\n",
    "            tokens[index] = stemmer.stem(word)\n",
    "        else:\n",
    "            tokens[index] = word\n",
    "    return tokens"
   ]
  },
  {
   "cell_type": "markdown",
   "metadata": {
    "_cell_guid": "2a48fb9f-579f-8b42-9a10-3ea07ce69e9d"
   },
   "source": [
    "And then we can make two different corpora to train the model: stemmed corpus and lemmatized corpus. We will also make a \"clean\" corpus for sure."
   ]
  },
  {
   "cell_type": "code",
   "execution_count": 9,
   "metadata": {
    "_cell_guid": "afe337ff-1762-77c4-4942-cdebca08cc0f",
    "collapsed": true
   },
   "outputs": [],
   "source": [
    "corpus_lemmatized = [process_sent(sent, lemmatize=True, stem=False) for sent in texts]"
   ]
  },
  {
   "cell_type": "code",
   "execution_count": 10,
   "metadata": {
    "_cell_guid": "79614809-add2-00f9-fdae-b5e383aa8a63",
    "collapsed": true
   },
   "outputs": [],
   "source": [
    "corpus_stemmed = [process_sent(sent, lemmatize=False, stem=True) for sent in texts]"
   ]
  },
  {
   "cell_type": "code",
   "execution_count": 11,
   "metadata": {
    "_cell_guid": "639ab373-a8d4-d1ad-d98c-f5fa14a340ef",
    "collapsed": true
   },
   "outputs": [],
   "source": [
    "corpus = [process_sent(sent) for sent in texts]"
   ]
  },
  {
   "cell_type": "markdown",
   "metadata": {
    "_cell_guid": "f2e10a20-9307-120a-75ea-34a6516712b0"
   },
   "source": [
    "Now let's train the models. I've pre-defined these hyperparameters since models on them have the best performance. You can also try to play with them yourself."
   ]
  },
  {
   "cell_type": "code",
   "execution_count": 12,
   "metadata": {
    "_cell_guid": "f20d2e3b-1ac7-48ea-9ddb-2e9658af06d4",
    "collapsed": true
   },
   "outputs": [],
   "source": [
    "VECTOR_SIZE = 100"
   ]
  },
  {
   "cell_type": "code",
   "execution_count": 13,
   "metadata": {
    "_cell_guid": "da8ca7ed-8d87-4611-dcc1-06220f3d4cb0",
    "collapsed": true
   },
   "outputs": [],
   "source": [
    "min_count = 10\n",
    "size = VECTOR_SIZE\n",
    "window = 10"
   ]
  },
  {
   "cell_type": "code",
   "execution_count": 14,
   "metadata": {
    "_cell_guid": "cb40b0f4-cb43-8522-faa4-1ed275702271",
    "collapsed": true
   },
   "outputs": [],
   "source": [
    "model_lemmatized = models.Word2Vec(corpus_lemmatized, min_count=min_count, \n",
    "                                   size=size, window=window)"
   ]
  },
  {
   "cell_type": "code",
   "execution_count": 15,
   "metadata": {
    "_cell_guid": "7a6db5ac-c607-6e3e-b203-b0e0039fbdb6",
    "collapsed": true
   },
   "outputs": [],
   "source": [
    "model_stemmed = models.Word2Vec(corpus_stemmed, min_count=min_count, \n",
    "                                size=size, window=window)"
   ]
  },
  {
   "cell_type": "code",
   "execution_count": 16,
   "metadata": {
    "_cell_guid": "04d58da8-d262-9281-4a94-a70421683147",
    "collapsed": true
   },
   "outputs": [],
   "source": [
    "model = models.Word2Vec(corpus, min_count=min_count, \n",
    "                                size=size, window=window)"
   ]
  },
  {
   "cell_type": "markdown",
   "metadata": {
    "_cell_guid": "21d3f5b9-ad1d-3998-a5cc-4d40c94aa70c"
   },
   "source": [
    "Let's check the result of one of the models."
   ]
  },
  {
   "cell_type": "code",
   "execution_count": 17,
   "metadata": {
    "_cell_guid": "919ba6e3-9245-ff2a-8ada-7345a56fedd9"
   },
   "outputs": [
    {
     "data": {
      "text/plain": [
       "[('ps4', 0.8302322626113892),\n",
       " ('ps3', 0.7695804238319397),\n",
       " ('console', 0.768163800239563),\n",
       " ('xbox', 0.7651442885398865),\n",
       " ('pirated', 0.7557218074798584),\n",
       " ('gta', 0.7459744215011597),\n",
       " ('mod', 0.7215191721916199),\n",
       " ('geforce', 0.6910909414291382),\n",
       " ('fifa', 0.6814947128295898),\n",
       " ('pc', 0.6761049032211304)]"
      ]
     },
     "execution_count": 17,
     "metadata": {},
     "output_type": "execute_result"
    }
   ],
   "source": [
    "model_lemmatized.most_similar('playstation')"
   ]
  },
  {
   "cell_type": "markdown",
   "metadata": {
    "_cell_guid": "06a633ea-bd5f-ca79-3e65-5df8d7f5fb0a"
   },
   "source": [
    "Great! The most similar words seem to be pretty meaningful. So, we have three trained models, we can encode the text data with the vectors - let's make some experiments! Let's make data sets from the loaded data frame. I take a chunk of the traning data because the run of the script on the full data takes too much time."
   ]
  },
  {
   "cell_type": "code",
   "execution_count": 18,
   "metadata": {
    "_cell_guid": "55a669e8-88f7-9897-cb07-45753869299d",
    "collapsed": true
   },
   "outputs": [],
   "source": [
    "q1 = df_train.question1.values\n",
    "q2 = df_train.question2.values\n",
    "Y = np.array(df_train.is_duplicate.values)"
   ]
  },
  {
   "cell_type": "markdown",
   "metadata": {
    "_cell_guid": "7da270f7-c112-1972-6f97-a7ba5fb8e137"
   },
   "source": [
    "A little bit modified `preprocess`. Now it returns only words which model's vocabulary contains."
   ]
  },
  {
   "cell_type": "code",
   "execution_count": 19,
   "metadata": {
    "_cell_guid": "a2ec0699-ccd6-c3ef-0d59-4f33f5f9341d",
    "collapsed": true
   },
   "outputs": [],
   "source": [
    "def preprocess_check(words, lemmatize=False, stem=False):\n",
    "    words = words.lower()\n",
    "    tokens = alpha_tokenizer.tokenize(words)\n",
    "    model_tokens = []\n",
    "    for index, word in enumerate(tokens):\n",
    "        if lemmatize:\n",
    "            lem_word = lemmer.lemmatize(word)\n",
    "            if lem_word in model_lemmatized.wv.vocab:\n",
    "                model_tokens.append(lem_word)\n",
    "        elif stem:\n",
    "            stem_word = stemmer.stem(word)\n",
    "            if stem_word in model_stemmed.wv.vocab:\n",
    "                model_tokens.append(stem_word)\n",
    "        else:\n",
    "            if word in model.wv.vocab:\n",
    "                model_tokens.append(word)\n",
    "    return model_tokens"
   ]
  },
  {
   "cell_type": "markdown",
   "metadata": {
    "_cell_guid": "68105b0a-8bad-3214-2a37-db45f997911b"
   },
   "source": [
    "This method will help to obtaining a bag of means by vectorising the messages."
   ]
  },
  {
   "cell_type": "code",
   "execution_count": 20,
   "metadata": {
    "_cell_guid": "8a6434ce-8b23-90ce-bf09-7019914741a2",
    "collapsed": true
   },
   "outputs": [],
   "source": [
    "old_err_state = np.seterr(all='raise')\n",
    "\n",
    "def vectorize(words, words_2, model, num_features, lemmatize=False, stem=False):\n",
    "    features = np.zeros((num_features), dtype='float32')\n",
    "    words_amount = 0\n",
    "    \n",
    "    words = preprocess_check(words, lemmatize, stem)\n",
    "    words_2 = preprocess_check(words_2, lemmatize, stem)\n",
    "    for word in words: \n",
    "            words_amount = words_amount + 1\n",
    "            features = np.add(features, model[word])\n",
    "    for word in words_2: \n",
    "            words_amount = words_amount + 1\n",
    "            features = np.add(features, model[word])\n",
    "    try:\n",
    "        features = np.divide(features, words_amount)\n",
    "    except FloatingPointError:\n",
    "        features = np.zeros(num_features, dtype='float32')\n",
    "    return features"
   ]
  },
  {
   "cell_type": "markdown",
   "metadata": {
    "_cell_guid": "b173ea37-b692-532b-0431-1235b5e07b23"
   },
   "source": [
    "And now we can obtain the features matrices."
   ]
  },
  {
   "cell_type": "code",
   "execution_count": 21,
   "metadata": {
    "_cell_guid": "c819209c-0972-35d6-e205-c71b119db67a",
    "collapsed": true
   },
   "outputs": [],
   "source": [
    "X_lem = []\n",
    "for index, sentence in enumerate(q1):\n",
    "    X_lem.append(vectorize(sentence, q2[index], model_lemmatized, VECTOR_SIZE, True, False))\n",
    "X_lem = np.array(X_lem)"
   ]
  },
  {
   "cell_type": "code",
   "execution_count": 22,
   "metadata": {
    "_cell_guid": "be86dc59-5516-9b87-2822-cf6e600a7a54",
    "collapsed": true
   },
   "outputs": [],
   "source": [
    "X_stem = []\n",
    "for index, sentence in enumerate(q1):\n",
    "    X_stem.append(vectorize(sentence, q2[index], model_stemmed, VECTOR_SIZE, False, True))\n",
    "X_stem = np.array(X_stem)"
   ]
  },
  {
   "cell_type": "code",
   "execution_count": 23,
   "metadata": {
    "_cell_guid": "475b0393-b426-f16c-7b86-45b9330035a0",
    "collapsed": true
   },
   "outputs": [],
   "source": [
    "X = []\n",
    "for index, sentence in enumerate(q1):\n",
    "    X.append(vectorize(sentence, q2[index], model, VECTOR_SIZE))\n",
    "X = np.array(X)"
   ]
  },
  {
   "cell_type": "markdown",
   "metadata": {
    "_cell_guid": "86cafd36-28de-3a01-966f-be57dcb495a5"
   },
   "source": [
    "That's almost all! Now we can train the classifier and evaluate it's performance. It's better to use a metric classifier because we are performing operations in the vector space, so I choose a Logistic Regression. But of course you can try a something different and see what can change. \n",
    "\n",
    "I also use cross-validation to train and to evaluate on the same data set. "
   ]
  },
  {
   "cell_type": "code",
   "execution_count": 24,
   "metadata": {
    "_cell_guid": "575399b9-b757-ce08-796d-03c73135a66b",
    "collapsed": true
   },
   "outputs": [],
   "source": [
    "estimator = LogisticRegression(C = 1)\n",
    "cv = ShuffleSplit(n_splits = 10, test_size=0.1, random_state=0)\n",
    "train_sizes = np.linspace(0.1, 0.9, 10)\n",
    "train_sizes, train_scores = learning_curve(estimator, X_lem, Y, cv=cv, train_sizes=train_sizes)\n",
    "train_scores_lem = np.mean(train_scores, axis=1)"
   ]
  },
  {
   "cell_type": "code",
   "execution_count": null,
   "metadata": {
    "_cell_guid": "f22c8f9d-9220-85b6-c857-ce52a8925e66",
    "collapsed": true
   },
   "outputs": [],
   "source": [
    "estimator = LogisticRegression(C = 1)\n",
    "cv = ShuffleSplit(n_splits = 10, test_size=0.1, random_state=0)\n",
    "train_sizes = np.linspace(0.1, 0.9, 10)\n",
    "train_sizes, train_scores = learning_curve(estimator, X_stem, Y, cv=cv, train_sizes=train_sizes)\n",
    "train_scores_stem = np.mean(train_scores, axis=1)"
   ]
  },
  {
   "cell_type": "code",
   "execution_count": null,
   "metadata": {
    "_cell_guid": "c49cfd90-9ef7-4506-3d51-5f4dd6467311",
    "collapsed": true
   },
   "outputs": [],
   "source": [
    "estimator = LogisticRegression(C = 1)\n",
    "cv = ShuffleSplit(n_splits = 10, test_size=0.1, random_state=0)\n",
    "train_sizes = np.linspace(0.1, 0.9, 10)\n",
    "train_sizes, train_scores = learning_curve(estimator, X_, Y, cv=cv, train_sizes=train_sizes)\n",
    "train_scores = np.mean(train_scores, axis=1)"
   ]
  },
  {
   "cell_type": "code",
   "execution_count": null,
   "metadata": {
    "_cell_guid": "176faf5f-9e3e-2dbe-da95-d261f631a311",
    "collapsed": true
   },
   "outputs": [],
   "source": [
    "title_font = {'size':'10', 'color':'black', 'weight':'normal',\n",
    "                  'verticalalignment':'bottom'} \n",
    "axis_font = {'size':'10'}\n",
    "\n",
    "plt.figure(figsize=(10, 5))\n",
    "plt.xlabel('Training examples', **axis_font)\n",
    "plt.ylabel('Accuracy',  **axis_font)\n",
    "plt.tick_params(labelsize=10)\n",
    "\n",
    "plt.plot(train_sizes, train_scores_lem, label='Lemmetization', linewidth=5)\n",
    "plt.plot(train_sizes, train_scores_stem, label='Stemming', linewidth=5)\n",
    "plt.plot(train_sizes, train_scores, label='Default', linewidth=5)\n",
    "  \n",
    "plt.legend(loc='best')\n",
    "plt.show()\n"
   ]
  },
  {
   "cell_type": "markdown",
   "metadata": {
    "_cell_guid": "9cf12d6b-ae09-4633-6d46-6ed585e705be"
   },
   "source": [
    "So, the lemmatized model outperformed the \"clear\" model! And the stemmed model showed the worst result. Why does it happen?\n",
    "\n",
    "Well, any morphological pre-processing of the training data for the model reduces the amount of information that model can obtain from the corpus. Some of the information, like the difference in morphological roots of the same words, seems to be not necessary, so it is better to remove it. This removal is a mush-have in synthetic languages (languages with high morpheme-per-word ratio, like Russian), and, as we can see, it is also pretty helpful in our task. \n",
    "\n",
    "The same thing about stemming. Stemming further reduces the amount of information, making one stem for the different word forms. Sometimes this is helpful, but sometimes this can bring noise to the model since some stems of the different words can be ambiguous, and the model can't be able to separate \"playstation\" and, say, \"play\".\n",
    "\n",
    "In other words, there is no silver bullet, and you should always check various option of pre-processing if you want to reach the best performance. However, lemmatisation nine times out of ten will increase the performance of your model.\n",
    "\n",
    "However, the logarithmic loss of my approach is not very high, but you can use this notebook as a baseline and try to beat it's score yourself! Just download it and uncomment the commented strings (because Kaggle doesn't allow to use so much memory)"
   ]
  },
  {
   "cell_type": "code",
   "execution_count": null,
   "metadata": {
    "_cell_guid": "eac27795-998a-ba84-6d52-4c6b7dd99840",
    "collapsed": true
   },
   "outputs": [],
   "source": [
    "clf = LogisticRegression(C = 1)\n",
    "clf.fit(X, Y)\n",
    "\n",
    "#df_test = DataFrame.from_csv('../input/test.csv').fillna('None')\n",
    "q1 = df_train.question1.values[:100]\n",
    "q2 = df_train.question2.values[:100]\n",
    "#q1 = df_test.question1.values\n",
    "#q2 = df_test.question2.values\n",
    "\n",
    "X_test = []\n",
    "for index, sentence in enumerate(q1):\n",
    "    X_test.append(vectorize(sentence, q2[index], model, VECTOR_SIZE))\n",
    "X_test = np.array(X_test)\n",
    "\n",
    "result = clf.predict(X_test)\n",
    "\n",
    "sub = DataFrame()\n",
    "sub['is_duplicate'] = result\n",
    "sub.to_csv('submission.csv', index=False)"
   ]
  },
  {
   "cell_type": "markdown",
   "metadata": {
    "_cell_guid": "36601a1c-f930-c33c-716c-9e97e8d3ccf3"
   },
   "source": [
    "Thanks for reading this notebook. I'm glad if it helped you to learn something new.\n",
    "\n",
    "I will highly appreciate any critique or feedback. Feel free to write your thoughts at the comments section!"
   ]
  }
 ],
 "metadata": {
  "_change_revision": 115,
  "_is_fork": false,
  "hide_input": false,
  "kernelspec": {
   "display_name": "Python 2",
   "language": "python",
   "name": "python2"
  },
  "language_info": {
   "codemirror_mode": {
    "name": "ipython",
    "version": 2
   },
   "file_extension": ".py",
   "mimetype": "text/x-python",
   "name": "python",
   "nbconvert_exporter": "python",
   "pygments_lexer": "ipython2",
   "version": "2.7.12"
  },
  "latex_envs": {
   "bibliofile": "biblio.bib",
   "cite_by": "apalike",
   "current_citInitial": 1,
   "eqLabelWithNumbers": true,
   "eqNumInitial": 0
  }
 },
 "nbformat": 4,
 "nbformat_minor": 1
}
