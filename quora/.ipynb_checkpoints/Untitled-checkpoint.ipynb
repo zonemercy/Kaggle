{
 "cells": [
  {
   "cell_type": "code",
   "execution_count": 2,
   "metadata": {},
   "outputs": [
    {
     "ename": "ImportError",
     "evalue": "No module named config",
     "output_type": "error",
     "traceback": [
      "\u001b[0;31m---------------------------------------------------------------------------\u001b[0m",
      "\u001b[0;31mImportError\u001b[0m                               Traceback (most recent call last)",
      "\u001b[0;32m<ipython-input-2-41ae523ae2a4>\u001b[0m in \u001b[0;36m<module>\u001b[0;34m()\u001b[0m\n\u001b[1;32m      1\u001b[0m \u001b[0;32mimport\u001b[0m \u001b[0mnumpy\u001b[0m \u001b[0;32mas\u001b[0m \u001b[0mnp\u001b[0m\u001b[0;34m\u001b[0m\u001b[0m\n\u001b[1;32m      2\u001b[0m \u001b[0;32mimport\u001b[0m \u001b[0mpandas\u001b[0m \u001b[0;32mas\u001b[0m \u001b[0mpd\u001b[0m\u001b[0;34m\u001b[0m\u001b[0m\n\u001b[0;32m----> 3\u001b[0;31m \u001b[0;32mimport\u001b[0m \u001b[0mconfig\u001b[0m\u001b[0;34m\u001b[0m\u001b[0m\n\u001b[0m\u001b[1;32m      4\u001b[0m \u001b[0mdf_train\u001b[0m \u001b[0;34m=\u001b[0m  \u001b[0mpd\u001b[0m\u001b[0;34m.\u001b[0m\u001b[0mread_csv\u001b[0m\u001b[0;34m(\u001b[0m\u001b[0mconfig\u001b[0m\u001b[0;34m.\u001b[0m\u001b[0mRAW_PATH\u001b[0m\u001b[0;34m+\u001b[0m\u001b[0;34m'train.csv'\u001b[0m\u001b[0;34m)\u001b[0m\u001b[0;34m\u001b[0m\u001b[0m\n\u001b[1;32m      5\u001b[0m \u001b[0mdf_test\u001b[0m \u001b[0;34m=\u001b[0m  \u001b[0mpd\u001b[0m\u001b[0;34m.\u001b[0m\u001b[0mread_csv\u001b[0m\u001b[0;34m(\u001b[0m\u001b[0mconfig\u001b[0m\u001b[0;34m.\u001b[0m\u001b[0mRAW_PATH\u001b[0m\u001b[0;34m+\u001b[0m\u001b[0;34m'test.csv'\u001b[0m\u001b[0;34m)\u001b[0m\u001b[0;34m\u001b[0m\u001b[0m\n",
      "\u001b[0;31mImportError\u001b[0m: No module named config"
     ]
    }
   ],
   "source": [
    "import numpy as np\n",
    "import pandas as pd\n",
    "import config\n",
    "df_train =  pd.read_csv(config.RAW_PATH+'train.csv')\n",
    "df_test =  pd.read_csv(config.RAW_PATH+'test.csv')"
   ]
  },
  {
   "cell_type": "code",
   "execution_count": null,
   "metadata": {
    "collapsed": true
   },
   "outputs": [],
   "source": [
    "#test_label = np.array(pd.read_csv('your_best_solution.csv')[\"is_duplicate\"])\n",
    "test_label = np.random.rand(len(df_test))"
   ]
  },
  {
   "cell_type": "code",
   "execution_count": null,
   "metadata": {
    "collapsed": true
   },
   "outputs": [],
   "source": [
    "\n",
    "In [3]:\n",
    "from collections import defaultdict\n",
    "\n",
    "REPEAT = 2 #a reasonable number which can consider your updates iteratively but not ruin the predictions\n",
    "\n",
    "DUP_THRESHOLD = 0.5 #classification threshold for duplicates\n",
    "NOT_DUP_THRESHOLD = 0.1 #classification threshold for non-duplicates\n",
    "#Since the data is unbalanced, our mean prediction is around 0.16. So this is the reason of unbalanced thresholds\n",
    "\n",
    "MAX_UPDATE = 0.2 # maximum update on the dup probability (a high choice may ruin the predictions)\n",
    "DUP_UPPER_BOUND = 0.98 # do not update dup probabilities above this threshold\n",
    "NOT_DUP_LOWER_BOUND = 0.01 # do not update dup probabilities below this threshold\n",
    "# There is no significant gain between 0.98 and 1.00 for a dup \n",
    "# but there is significant loss if it is not really a dup"
   ]
  },
  {
   "cell_type": "code",
   "execution_count": null,
   "metadata": {
    "collapsed": true
   },
   "outputs": [],
   "source": [
    "for i in range(REPEAT):\n",
    "    dup_neighbors = defaultdict(set)\n",
    "\n",
    "    for dup, q1, q2 in zip(df_train[\"is_duplicate\"], df_train[\"question1\"], df_train[\"question2\"]): \n",
    "        if dup:\n",
    "            dup_neighbors[q1].add(q2)\n",
    "            dup_neighbors[q2].add(q1)\n",
    "    \n",
    "    for dup, q1, q2 in zip(test_label, df_test[\"question1\"], df_test[\"question2\"]): \n",
    "        if dup > DUP_THRESHOLD:\n",
    "            dup_neighbors[q1].add(q2)\n",
    "            dup_neighbors[q2].add(q1)\n",
    "\n",
    "    count = 0\n",
    "    for index, (q1, q2) in enumerate(zip(df_test[\"question1\"], df_test[\"question2\"])): \n",
    "        dup_neighbor_count = len(dup_neighbors[q1].intersection(dup_neighbors[q2]))\n",
    "        if dup_neighbor_count > 0 and test_label[index] < DUP_UPPER_BOUND:\n",
    "            update = min(MAX_UPDATE, (DUP_UPPER_BOUND - test_label[index])/2)\n",
    "            test_label[index] += update\n",
    "            count += 1\n",
    "\n",
    "    print(\"Edited:\", count)"
   ]
  },
  {
   "cell_type": "code",
   "execution_count": null,
   "metadata": {
    "collapsed": true
   },
   "outputs": [],
   "source": [
    "for i in range(REPEAT):\n",
    "    not_dup_neighbors = defaultdict(set)\n",
    "\n",
    "    for dup, q1, q2 in zip(df_train[\"is_duplicate\"], df_train[\"question1\"], df_train[\"question2\"]): \n",
    "        if not dup:\n",
    "            not_dup_neighbors[q1].add(q2)\n",
    "            not_dup_neighbors[q2].add(q1)\n",
    "    \n",
    "    for dup, q1, q2 in zip(test_label, df_test[\"question1\"], df_test[\"question2\"]): \n",
    "        if dup < NOT_DUP_THRESHOLD:\n",
    "            not_dup_neighbors[q1].add(q2)\n",
    "            not_dup_neighbors[q2].add(q1)\n",
    "\n",
    "    count = 0\n",
    "    for index, (q1, q2) in enumerate(zip(df_test[\"question1\"], df_test[\"question2\"])): \n",
    "        dup_neighbor_count = len(not_dup_neighbors[q1].intersection(not_dup_neighbors[q2]))\n",
    "        if dup_neighbor_count > 0 and test_label[index] > NOT_DUP_LOWER_BOUND:\n",
    "            update = min(MAX_UPDATE, (test_label[index] - NOT_DUP_LOWER_BOUND)/2)\n",
    "            test_label[index] -= update\n",
    "            count += 1\n",
    "\n",
    "    print(\"Edited:\", count)"
   ]
  },
  {
   "cell_type": "code",
   "execution_count": null,
   "metadata": {
    "collapsed": true
   },
   "outputs": [],
   "source": [
    "submission = pd.DataFrame({'test_id':df_test[\"test_id\"], 'is_duplicate':test_label})\n",
    "#submission.to_csv('submission.csv', index=False)"
   ]
  }
 ],
 "metadata": {
  "hide_input": false,
  "kernelspec": {
   "display_name": "Python 2",
   "language": "python",
   "name": "python2"
  },
  "language_info": {
   "codemirror_mode": {
    "name": "ipython",
    "version": 2
   },
   "file_extension": ".py",
   "mimetype": "text/x-python",
   "name": "python",
   "nbconvert_exporter": "python",
   "pygments_lexer": "ipython2",
   "version": "2.7.12"
  },
  "latex_envs": {
   "bibliofile": "biblio.bib",
   "cite_by": "apalike",
   "current_citInitial": 1,
   "eqLabelWithNumbers": true,
   "eqNumInitial": 0
  }
 },
 "nbformat": 4,
 "nbformat_minor": 2
}
